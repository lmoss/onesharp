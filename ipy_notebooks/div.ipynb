{
  "nbformat": 4,
  "nbformat_minor": 0,
  "metadata": {
    "colab": {
      "provenance": []
    },
    "kernelspec": {
      "name": "python3",
      "display_name": "Python 3"
    },
    "language_info": {
      "name": "python"
    }
  },
  "cells": [
  
  
  
    {
      "cell_type": "markdown",
      "metadata": {
        "id": "view-in-github",
        "colab_type": "text"
      },
      "source": [
        "<a href=\"https://colab.research.google.com/github/lmoss/onesharp/blob/main/ipy_notebooks/div.ipynb\" target=\"_parent\"><img src=\"https://colab.research.google.com/assets/colab-badge.svg\" alt=\"Open In Colab\"/></a>"
      ]
    },
  
  
  
  
    {
      "cell_type": "code",
      "execution_count": null,
      "metadata": {
        "id": "RtyazrTWzkYj"
      },
      "outputs": [],
      "source": [
        "!python -m pip install -U setuptools\n",
        "!python -m pip install -U git+https://github.com/lmoss/onesharp.git@main"
      ]
    },
    {
      "cell_type": "code",
      "source": [
        "from onesharp.interpreter.interpreter import onesharp\n",
        "from onesharp.programs.div import div"
      ],
      "metadata": {
        "id": "YZhrAs9lznWn"
      },
      "execution_count": 2,
      "outputs": []
    },
    {
      "cell_type": "markdown",
      "source": [
        "See the header comment for the div function for documentation of its behavior: https://github.com/lmoss/onesharp/blob/main/onesharp/programs/div.py"
      ],
      "metadata": {
        "id": "_xlrBIPprnax"
      }
    },
    {
      "cell_type": "code",
      "source": [
        "assert '1#1' == onesharp(div(1,2,3,4,5,6,7,8), ['111','11'])"
      ],
      "metadata": {
        "id": "spWaNU6VwcxT"
      },
      "execution_count": 3,
      "outputs": []
    },
    {
      "cell_type": "code",
      "source": [
        "assert '11#' == onesharp(div(1,2,3,4,5,6,7,8), ['111111','111'])"
      ],
      "metadata": {
        "id": "1HO-JEnnAmWz"
      },
      "execution_count": 4,
      "outputs": []
    }
  ]
}
