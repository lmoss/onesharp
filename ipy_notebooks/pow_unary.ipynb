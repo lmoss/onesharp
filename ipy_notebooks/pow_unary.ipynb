{
  "nbformat": 4,
  "nbformat_minor": 0,
  "metadata": {
    "colab": {
      "provenance": []
    },
    "kernelspec": {
      "name": "python3",
      "display_name": "Python 3"
    },
    "language_info": {
      "name": "python"
    }
  },
  "cells": [
  
  
  
  
  
  
  
      {
      "cell_type": "markdown",
      "metadata": {
        "id": "view-in-github",
        "colab_type": "text"
      },
      "source": [
        "<a href=\"https://colab.research.google.com/github/lmoss/onesharp/blob/main/ipy_notebooks/pow_unary.ipynb\" target=\"_parent\"><img src=\"https://colab.research.google.com/assets/colab-badge.svg\" alt=\"Open In Colab\"/></a>"
      ]
    },
  
  
  
  
  
  
  
  
  
  
  
  
  
    {
      "cell_type": "code",
      "execution_count": null,
      "metadata": {
        "id": "RtyazrTWzkYj"
      },
      "outputs": [],
      "source": [
        "!python -m pip install -U setuptools\n",
        "!python -m pip install -U git+https://github.com/lmoss/onesharp.git@main"
      ]
    },
    {
      "cell_type": "code",
      "source": [
        "from onesharp.interpreter.interpreter import onesharp\n",
        "from onesharp.programs.move import move\n",
        "from onesharp.programs.write import write\n",
        "from onesharp.programs.pow_unary import pow_unary\n",
        "from onesharp.tools.ones import ones"
      ],
      "metadata": {
        "id": "YZhrAs9lznWn"
      },
      "execution_count": 20,
      "outputs": []
    },
    {
      "cell_type": "markdown",
      "source": [
        "See the header comment for the pow_unary function for documentation of the interface it provides: https://github.com/lmoss/onesharp/blob/main/onesharp/programs/pow_unary.py"
      ],
      "metadata": {
        "id": "9KaH8A5EnQD9"
      }
    },
    {
      "cell_type": "code",
      "source": [
        "assert onesharp(pow_unary(), ['11', '111']) == '11111111' # 2^3 = 8\n",
        "assert onesharp(pow_unary(), ['111', '111']) == ones(27)  # 3^3 = 27"
      ],
      "metadata": {
        "id": "wOKk3L-8mxTG"
      },
      "execution_count": 24,
      "outputs": []
    },
    {
      "cell_type": "code",
      "source": [
        "p = onesharp(write(), [ones(83)]) + move(1,2) + onesharp(write(), [ones(10)]) + pow_unary()\n",
        "print('The 1# program which will compute and return in unary 10^83 contains the following number of instructions:', p.count('#1')+1)\n"
      ],
      "metadata": {
        "id": "MB-DCGe10HS2",
        "outputId": "d1944678-fd76-4def-c135-4a85f67b0dd6",
        "colab": {
          "base_uri": "https://localhost:8080/"
        }
      },
      "execution_count": 15,
      "outputs": [
        {
          "output_type": "stream",
          "name": "stdout",
          "text": [
            "The 1# program which will compute and return in unary 10^83 contains the following number of instructions: 181\n"
          ]
        }
      ]
    },
    {
      "cell_type": "code",
      "source": [
        "# The time and memory requirements of p are finite, but, for all practical\n",
        "# purposes, an attempt to execute p will never terminate successfully\n",
        "onesharp(p, [])"
      ],
      "metadata": {
        "id": "AZdX-maglSJm"
      },
      "execution_count": null,
      "outputs": []
    }
  ]
}
