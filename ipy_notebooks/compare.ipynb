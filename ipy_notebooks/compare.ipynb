{
  "nbformat": 4,
  "nbformat_minor": 0,
  "metadata": {
    "colab": {
      "provenance": []
    },
    "kernelspec": {
      "name": "python3",
      "display_name": "Python 3"
    },
    "language_info": {
      "name": "python"
    }
  },
  "cells": [
    
    
    {
      "cell_type": "markdown",
      "metadata": {
        "id": "view-in-github",
        "colab_type": "text"
      },
      "source": [
        "<a href=\"https://colab.research.google.com/github/lmoss/onesharp/blob/main/ipy_notebooks/compare.ipynb\" target=\"_parent\"><img src=\"https://colab.research.google.com/assets/colab-badge.svg\" alt=\"Open In Colab\"/></a>"
      ]
    },
    
    
    
    
    
    
    
    
    {
      "cell_type": "code",
      "execution_count": null,
      "metadata": {
        "id": "RtyazrTWzkYj"
      },
      "outputs": [],
      "source": [
        "!python -m pip install -U setuptools\n",
        "!python -m pip install -U git+https://github.com/lmoss/onesharp.git@main"
      ]
    },
    {
      "cell_type": "code",
      "source": [
        "from onesharp.interpreter.interpreter import onesharp\n",
        "from onesharp.programs.compare import compare\n",
        "from onesharp.programs.move import move"
      ],
      "metadata": {
        "id": "YZhrAs9lznWn"
      },
      "execution_count": 4,
      "outputs": []
    },
    {
      "cell_type": "markdown",
      "source": [
        "See the header comment for the compare function for documentation of its behavior: https://github.com/lmoss/onesharp/blob/main/onesharp/programs/compare.py"
      ],
      "metadata": {
        "id": "_xlrBIPprnax"
      }
    },
    {
      "cell_type": "code",
      "source": [
        "assert '1' == onesharp(compare(3,2)+move(3,1),\n",
        "         ['',\n",
        "          '1##11#1###1#1',\n",
        "          '1##11#1###1#1'])"
      ],
      "metadata": {
        "id": "ovp6OYzTztft"
      },
      "execution_count": 11,
      "outputs": []
    },
    {
      "cell_type": "code",
      "source": [
        "assert '1' == onesharp(compare(1,2), ['',''])"
      ],
      "metadata": {
        "id": "ZUod44IfvysO"
      },
      "execution_count": 12,
      "outputs": []
    },
    {
      "cell_type": "code",
      "source": [
        "assert '' == onesharp(compare(1,2), ['', '1'])"
      ],
      "metadata": {
        "id": "QxEUOH_rwFPz"
      },
      "execution_count": 13,
      "outputs": []
    },
    {
      "cell_type": "code",
      "source": [
        "assert '' == onesharp(compare(1,2), ['#', '1'])"
      ],
      "metadata": {
        "id": "tMJu7ezwwM18"
      },
      "execution_count": 14,
      "outputs": []
    },
    {
      "cell_type": "code",
      "source": [
        "assert '' == onesharp(compare(3,2)+move(3,1),\n",
        "         ['',\n",
        "          '1##11#1###1#1',\n",
        "          '1##11#1###1##'])"
      ],
      "metadata": {
        "id": "M00ewsqSwWuk"
      },
      "execution_count": 15,
      "outputs": []
    },
    {
      "cell_type": "code",
      "source": [
        "assert '' == onesharp(compare(3,2)+move(3,1),\n",
        "         ['',\n",
        "          '1##11#1###1#1',\n",
        "          '1##11#1###1#11'])"
      ],
      "metadata": {
        "id": "spWaNU6VwcxT"
      },
      "execution_count": 16,
      "outputs": []
    }
  ]
}
