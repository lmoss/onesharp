{
  "nbformat": 4,
  "nbformat_minor": 0,
  "metadata": {
    "colab": {
      "provenance": [],
      "authorship_tag": "ABX9TyPOsYUXSbxktFcnatmOlEZL",
      "include_colab_link": true
    },
    "kernelspec": {
      "name": "python3",
      "display_name": "Python 3"
    },
    "language_info": {
      "name": "python"
    }
  },
  "cells": [
    {
      "cell_type": "markdown",
      "metadata": {
        "id": "view-in-github",
        "colab_type": "text"
      },
      "source": [
        "<a href=\"https://colab.research.google.com/github/lmoss/onesharp/blob/main/halting.ipynb\" target=\"_parent\"><img src=\"https://colab.research.google.com/assets/colab-badge.svg\" alt=\"Open In Colab\"/></a>"
      ]
    },
    {
      "cell_type": "markdown",
      "source": [
        "# How programs halt\n",
        "\n",
        "1# has programs with infinite loops such as \n",
        "\n",
        "```1###1####```\n",
        "\n",
        "This program never finishes. Most of the time, we are interested in programs which do finish. Actually, we are interested in programs which finish in a special way.\n",
        "\n",
        "We say that a program p *halts* if at some point during the execution of p, the control transfers to right below the last instruction of p. In more detail, suppose that p has n instructions. The formal definition is given below, after we discuss the remaining types of instructions.\n",
        "\n",
        "In contrast, we say that p *stops improperly* if at some point during the execution of p, the control tranfers either to a point before the beginning of p or to points more than one instruction beyond the last instruction of p.\n",
        "\n",
        "To see the difference, consider the following two programs:\n",
        "```11###``` and ```1#```\n",
        "\n",
        "The first says \n",
        "\"Go forward 2,\"\n",
        "and the second \n",
        "\"Add 1 to R1.\"\n",
        "\n",
        "\n",
        "The first halts, while the second stops improperly.\n",
        "\n"
      ],
      "metadata": {
        "id": "_O7zlSPk4gLn"
      }
    },
    {
      "cell_type": "markdown",
      "source": [
        "### Exercise 1 \n",
        "\n",
        "Which of the following programs halt? Which stop improperly?\n",
        "\n",
        "1. 11###111###1####\n",
        "\n",
        "2. 11###111###11####\n",
        "\n",
        "3. 11###111###111####\n",
        "\n",
        "4. 1111###1111###1####11###11####\n",
        "\n",
        "[It would be better to try to solve this problem without running the programs.]"
      ],
      "metadata": {
        "id": "6X3tQepK4o5Q"
      }
    },
    {
      "cell_type": "markdown",
      "source": [
        "### Halting: the formal definitions\n",
        "\n",
        "There are five ways that p could halt.\n",
        "\n",
        "1. Instruction n of p (the last instruction) is of the form 1^k# or 1^k##, and at some point in the run of p, we reach this last instruction.\n",
        "\n",
        "2. Some instruction of p, say instruction number i, is of the form 1^k###; and also i + k = n + 1; and finally that at some point in the run of p, we reach instruction i.\n",
        "\n",
        "3. Instruction n of p (the last instruction) is of the form form 1^k#####, and at some point in the run of p, we reach this last instruction with Rk empty.\n",
        "\n",
        "4. Instruction n-1 of p (the next-to-last instruction) is of the form form 1^k#####, and at some point in the run of p, we reach this instruction with Rk containing a word beginning with 1.\n",
        "\n",
        "5.  Instruction n-2 of p (the second-to-last instruction) is of the form form 1^k#####, and at some point in the run of p, we reach this instruction with Rk containing a word beginning with #.\n"
      ],
      "metadata": {
        "id": "EdMrlvMN4roC"
      }
    }
  ]
}