{
 "cells": [
  {
   "cell_type": "markdown",
   "metadata": {
    "colab_type": "text",
    "id": "view-in-github"
   },
   "source": [
    "<a href=\"https://colab.research.google.com/github/lmoss/onesharp/blob/main/getting_started.ipynb\" target=\"_parent\"><img src=\"https://colab.research.google.com/assets/colab-badge.svg\" alt=\"Open In Colab\"/></a>"
   ]
  },
  {
   "cell_type": "markdown",
   "metadata": {
    "collapsed": false,
    "deletable": false,
    "editable": false,
    "id": "7MawMT1XNzgn"
   },
   "source": [
    "# Getting stared with 1#\n",
    "\n",
    "To start, either download this notebook and run it locally, or else click on 'Open in Colab' above.  Then click on the triangle below.  "
   ]
  },
  {
   "cell_type": "code",
   "execution_count": null,
   "metadata": {
    "cellView": "form",
    "editable": false,
    "id": "jxhALRpsNzgr",
    "jupyter": {
     "source_hidden": false
    }
   },
   "outputs": [],
   "source": [
    "#@title\n",
    "import pandas as pd\n",
    "from IPython.display import display\n",
    "import numpy as np\n",
    "\n",
    "def program_checker(str):\n",
    "    m = len(str)\n",
    "    x1 = str[m - 1] == '#'\n",
    "    x2 = all((str[i] == '1' or str[i] == '#') for i in range(m))\n",
    "    x3 = (str.find('######') == -1)\n",
    "    if (x1 and x2 and x3):\n",
    "        flag = True\n",
    "    else:\n",
    "        flag = False\n",
    "        print('The input ' + str + ' is not a valid 1# program.')\n",
    "        print('It is not the concatenation of a sequence of instructions in the language.')\n",
    "        print('So what you are asking for is undefined.')\n",
    "    return (flag)\n",
    "\n",
    "def one_or_sharp_check(letter):\n",
    "    if (letter==\"1\" or letter==\"#\"):\n",
    "        return(True)\n",
    "    else:\n",
    "        return(False)\n",
    "\n",
    "def word_checker(strg):\n",
    "    answer = all([one_or_sharp_check(x)==True for x in strg])\n",
    "    return(answer)\n",
    "\n",
    "def input_checker(input_seq):\n",
    "    seq = [word_checker(x) for x in input_seq]\n",
    "    flag = all([word_checker(x) for x in input_seq])\n",
    "    if not flag:\n",
    "        print('The input sequence contains words with characters other than 1 and #.')\n",
    "        print('So what you are asking for is undefined.')\n",
    "    return(flag)\n",
    "                                                                                \n",
    "class Augmented:\n",
    "    def __init__(self, string, remainders):\n",
    "        self.string = string\n",
    "        self.remainders = remainders\n",
    "\n",
    "class Snapshot:\n",
    "    def __init__(self, instr_number, regs, proceed,verbose,program_length, step_number):\n",
    "        self.instr_number = instr_number\n",
    "        self.regs = regs\n",
    "        self.proceed = proceed\n",
    "        self.verbose = verbose\n",
    "        self.program_length = program_length\n",
    "        self.step_number = step_number\n",
    "        \n",
    "def preparse(xstr):\n",
    "    b = xstr.string.find('#1')\n",
    "    xstr.remainders = xstr.remainders + [xstr.string[:(b + 1)]]\n",
    "    xstr.string = xstr.string[(b + 1):]\n",
    "    return (xstr)\n",
    "\n",
    "\n",
    "\n",
    "def parse(y):\n",
    "    tempx = Augmented(y, [])\n",
    "    while tempx.string.find('#1') >= 0:\n",
    "        tempx = preparse(tempx)\n",
    "    return (tempx.remainders + [tempx.string])\n",
    "\n",
    "def unparse(p):\n",
    "    return (''.join(p))\n",
    "\n",
    "def instruction_type(instruction):\n",
    "    if instruction[-2:] == '1#':\n",
    "        return ('add1')\n",
    "    if instruction[-3:] == '1##':\n",
    "        return ('add#')\n",
    "    if instruction[-4:] == '1###':\n",
    "        return ('forward')\n",
    "    if instruction[-5:] == '1####':\n",
    "        return ('backward')\n",
    "    if instruction[-6:] == '1#####':\n",
    "        return ('cases')\n",
    "\n",
    "def tail(list):\n",
    "    return (list[1:])\n",
    "\n",
    "def one_step(p, snapshot): # p is parsed\n",
    "    i = snapshot.instr_number\n",
    "    r = snapshot.regs\n",
    "    instruction = p[-1 + i]\n",
    "    if snapshot.verbose:\n",
    "        print('Step ' + str(snapshot.step_number) + ':')\n",
    "        print('Execute instruction ' + str(i) + ':' + \" \" +\n",
    "              instruction_gloss(instruction,i-1) \n",
    "              + '.')\n",
    "        if instruction_type(instruction)=='cases':\n",
    "            billy= len(instruction) - 5\n",
    "            if snapshot.regs[billy-1] == \"\":\n",
    "                print('The register is empty, so we go ahead 1 instruction.')\n",
    "            elif snapshot.regs[billy-1][0] == \"1\":\n",
    "                print('The first symbol in that register is 1,' +\n",
    "                      ' so we delete that symbol and go forward 2 instructions.')\n",
    "            elif snapshot.regs[billy-1][0] == \"#\":\n",
    "                print('The first symbol in that register is #,' +\n",
    "                      ' so we delete that symbol and go forward 3 instructions.')     \n",
    "    t = instruction_type(instruction)\n",
    "    if t == 'add1':\n",
    "        snapshot.instr_number = 1 + snapshot.instr_number\n",
    "        l = len(instruction)\n",
    "        reg = len(instruction[:(l - 1)])\n",
    "        snapshot.regs[reg - 1] = snapshot.regs[reg - 1] + '1'\n",
    "    if t == 'add#':\n",
    "        snapshot.instr_number = 1 + snapshot.instr_number\n",
    "        l = len(instruction)\n",
    "        reg = len(instruction[:(l - 2)])\n",
    "        snapshot.regs[reg - 1] = snapshot.regs[reg - 1] + '#'\n",
    "    if t == 'forward':\n",
    "        l = len(instruction)\n",
    "        offset = len(instruction[:(l - 3)])\n",
    "        snapshot.instr_number = offset + snapshot.instr_number\n",
    "    if t == 'backward':\n",
    "        l = len(instruction)\n",
    "        offset = len(instruction[:(l - 4)])\n",
    "        snapshot.instr_number = (-offset) + snapshot.instr_number\n",
    "    if t == 'cases':\n",
    "        l = len(instruction)\n",
    "        reg = len(instruction[:(l - 5)])\n",
    "        if snapshot.regs[reg - 1] == '':\n",
    "            snapshot.instr_number = 1 + snapshot.instr_number\n",
    "        elif snapshot.regs[reg - 1][0] == '1':\n",
    "            snapshot.instr_number = 2 + snapshot.instr_number\n",
    "            snapshot.regs[reg - 1] = tail(snapshot.regs[reg - 1])\n",
    "        elif snapshot.regs[reg - 1][0] == '#':\n",
    "            snapshot.instr_number = 3 + snapshot.instr_number\n",
    "            snapshot.regs[reg - 1] = tail(snapshot.regs[reg - 1])\n",
    "    snapshot.proceed = 0< snapshot.instr_number <= len(p)\n",
    "    if snapshot.verbose == True:\n",
    "        print_snapshot(snapshot)\n",
    "    return (snapshot)\n",
    "\n",
    "\n",
    "def number_help(instr):\n",
    "    if instruction_type(instr) == 'add1':\n",
    "        return (len(instr) - 1)\n",
    "    if instruction_type(instr) == 'add#':\n",
    "        return (len(instr) - 2)\n",
    "    if instruction_type(instr) == 'cases':\n",
    "        return (len(instr)-5)\n",
    "    else:\n",
    "        return (0)\n",
    "\n",
    "\n",
    "def max_register(p):\n",
    "    return (max([number_help(instr) for instr in parse(p)]))\n",
    "\n",
    "\n",
    "def pad(p, register_inputs):\n",
    "    n = len(register_inputs)\n",
    "    m = max_register(p)\n",
    "    extras = ['' for x in range(m - n)]\n",
    "    bigger = register_inputs + extras\n",
    "    return (bigger)\n",
    "\n",
    "def print_snapshot(snap):\n",
    "    regdf = pd.DataFrame([[snap.regs[n]] for n in range(len(snap.regs))],columns=[\"contents\"])\n",
    "    regdf.index = np.arange(1, len(regdf) + 1)\n",
    "    def make_pretty(styler):\n",
    "        styler.set_properties(**{'background-color': '#FFFFCC',\n",
    "                                 'color': 'black'})\n",
    "        styler.set_properties(**{'text-align': 'left'})\n",
    "        #styler.set_caption(\"at the start\")\n",
    "        #styler.hide(axis='index')\n",
    "        return styler\n",
    "    display(regdf.style.pipe(make_pretty))  \n",
    "\n",
    "def step_by_step(word_prog, register_inputs):\n",
    "    word_prog = word_prog.replace(\" \", \"\")\n",
    "    register_inputs = [word.replace(\" \", \"\") for word in register_inputs]\n",
    "    if program_checker(word_prog) and input_checker(register_inputs):\n",
    "        print('First, here is the program:')\n",
    "        parse_explain(word_prog)\n",
    "        print()\n",
    "        regs = pad(word_prog, register_inputs)\n",
    "        prog = parse(word_prog)\n",
    "        N = len(prog)\n",
    "        snap = Snapshot(1, regs,True,True,N,1)\n",
    "        print('The computation starts with the register contents shown below.')\n",
    "        print('The registers include those those which you entered as part of the input')\n",
    "        print('and also others mentioned in the input program.')\n",
    "        print_snapshot(snap)\n",
    "        print()\n",
    "        while 0 < snap.instr_number < N + 1:\n",
    "            snap = one_step(prog, snap)\n",
    "            snap.step_number = (snap.step_number) + 1\n",
    "        if snap.instr_number <= 0:\n",
    "            print(\n",
    "                'The computation has not halted properly ' +\n",
    "                'because the control went above instruction 1 of the program.'\n",
    "                 )\n",
    "        elif (snap.instr_number == (N + 1)) and all(\n",
    "                snap.regs[i] == \"\"\n",
    "                for i in range(1, len(snap.regs))):\n",
    "            print(\n",
    "                'The computation then halts properly because' +\n",
    "                ' the control is just below the last line of the program,')\n",
    "            print('and because all registers other than R1 are empty.')\n",
    "            if snap.regs[0] == \"\":\n",
    "                print('The output is the empty word.')\n",
    "            else:\n",
    "                print('The output is ' + snap.regs[0] + '.')\n",
    "        else:\n",
    "            print('This computation does not halt.')\n",
    "            if snap.instr_number != N + 1:\n",
    "                print('This is because the program has ' + str(len(prog)) +\n",
    "                  ' instructions, and control at the end is not one line ' + \n",
    "                   'below the bottom of the program.')\n",
    "                print()\n",
    "            else: \n",
    "                not_blank = [\n",
    "                    i + 1 for i in range(1, len(snap.regs))\n",
    "                    if snap.regs[i] != \"\"\n",
    "                ]\n",
    "                print('Here is the list of registers whose contents ' +\n",
    "                      'are not empty at this point, other than R1:' +\n",
    "                      str(not_blank) + '.')\n",
    "                print('The register contents at the end are shown above.')\n",
    "\n",
    "\n",
    "def onesharp(word_prog, register_inputs):\n",
    "    word_prog = word_prog.replace(\" \", \"\")\n",
    "    register_inputs = [word.replace(\" \", \"\") for word in register_inputs]  \n",
    "    if program_checker(word_prog) and input_checker(register_inputs):\n",
    "        register_inputs = [word.replace(\" \", \"\") for word in register_inputs]\n",
    "        regs = pad(word_prog, register_inputs)\n",
    "        prog = parse(word_prog)\n",
    "        N = len(prog)\n",
    "        snap = Snapshot(1, regs,True,False, N, 1)\n",
    "        while snap.proceed:\n",
    "            snap = one_step(prog, snap)\n",
    "            snap.step_number = (snap.step_number)+1\n",
    "        if (snap.instr_number == (N + 1)) and all(\n",
    "                snap.regs[i] == \"\" for i in range(1, len(snap.regs))):\n",
    "            return ((snap.regs)[0])\n",
    "        else:            \n",
    "            print(\"This is undefined.\")\n",
    "            print(\"The register contents at the end are shown below.\")\n",
    "            print_snapshot(snap)\n",
    "    else:\n",
    "        return('undefined')\n",
    "\n",
    "\n",
    "def instruction_gloss(instr,line):\n",
    "    if instruction_type(instr) == 'add1':\n",
    "        return ('add 1 to R' + str(len(instr) - 1))\n",
    "    if instruction_type(instr) == 'add#':\n",
    "        return ('add # to R' + str(len(instr) - 2))\n",
    "    if instruction_type(instr) == 'forward':\n",
    "        w = len(instr) - 3\n",
    "        return ('go forward ' + str(w) + ' to instruction ' + str(w+line+1))\n",
    "    if instruction_type(instr) == 'backward':\n",
    "        w = len(instr) - 4\n",
    "        return ('go backward ' + str(w) + ' to instruction ' + str(line - w+1))\n",
    "    if instruction_type(instr) == 'cases':\n",
    "        return ('cases on R' + str(len(instr) - 5))\n",
    "\n",
    "def expanded(gorp):\n",
    "    pgorp = parse(gorp)\n",
    "    wwgorp = [[pgorp[x],instruction_gloss(pgorp[x],x)] for x in range(len(pgorp))]\n",
    "    return(wwgorp)\n",
    "\n",
    "def parse_explain(prog):\n",
    "    df = pd.DataFrame(expanded(prog),\n",
    "                      columns=[\"instruction\", 'explanation'])\n",
    "    df.index = np.arange(1, len(df) + 1)\n",
    "    def make_pretty(styler):\n",
    "                styler.set_properties(**{'background-color': '#C9DFEC',\n",
    "                                         'color': 'black'})        \n",
    "                styler.set_properties(**{'text-align': 'left'})\n",
    "                return styler\n",
    "    display(df.style.pipe(make_pretty))\n",
    "    #display(df)\n",
    "    \n",
    "\n",
    "length = '1#####1111111###11####11#1#####111###111111####111####11#####111111###111###1##1111####1#111111####'\n",
    "\n",
    "write = '1#####111111111###11111###11#11##11##111111####11#11##111111111####11#####111111###111###1##1111####1#111111####'\n",
    "\n",
    "diag = '1#####11111111111###111111###11##111#111##111##1111111####11#111#111##1111####111#####111111###111###1##1111####1#11####11#####111111###111###1##1111####1#11####'\n",
    "\n",
    "self = '1#1##1##1##1##1##1#1#1#1#1#1#1#1#1#1#1#1##1##1##1#1#1#1#1#1#1##1##1##1#1#1##1##1#1#1#1##1#1#1#1##1##1#1#1#1##1##1#1#1#1#1#1#1#1##1##1##1##1#1#1##1#1#1#1##1#1#1#1##1##1#1#1#1#1##1##1##1##1#1#1#1##1##1##1##1##1#1#1#1#1#1#1##1##1##1#1#1#1##1##1##1#1##1##1#1#1#1#1##1##1##1##1#1##1#1#1##1##1##1##1#1#1##1##1##1##1##1#1#1#1#1#1#1##1##1##1#1#1#1##1##1##1#1##1##1#1#1#1#1##1##1##1##1#1##1#1#1##1##1##1##1#####11111111111###111111###11##111#111##111##1111111####11#111#111##1111####111#####111111###111###1##1111####1#11####11#####111111###111###1##1111####1#11####'\n",
    "\n",
    "multiply = '111##1111##11#####11111111###1111###11111##111111##11111####11111#111111#11111111####111111#####111111###111###11##1111####11#111111####111#####11111111###1111###111111##1111111##11111####111111#1111111#11111111####1111111#####111111###111###111##1111####111#111111####11111#####111111###111111111###111111#####11111111111###1111111111###111111####111111#####111111111111111###111111###11111###111111#####111###1111111111111####1###11111#####1  11###11####111####111111#####1111###11####111####11111#11111#####111###1111111111111111111111111111111111111111111111111111111111111111111111111111111111111111111111111111111###1#1#####11111111###1111###11111##111111##11111####11111#111111#11111111####111111#####111111###111###1##1111####1#111111####1111#####111111###111###111111##1111####111111#111111####11111#####111###111111###111111111###111111#####11111111111111111111111111111111111###11111111111111111111111111###111111111111111111111111111###111111#####11111111111111111111111###1111111111111111111111111111###111111111111111111111###111111#####111111111111111111111###111111111111111111###1111111111111111111###11111#####111###111111###111111111###111111#####11111111111###1111111111111111###111111111###111111#####1111111111111###1111111111###11111111111###111111#####111###11111111###1###1111111#111111111111111111111111111111111####1111111##11111111111111111111111111111111111####1111111#111111111111111111111####1111111##11111111111111111111111####1###1111111#####111111###111###11111##1111####11111#111111####11111#####111111###111###1111##1111####1111#111111####111#####1111111111111###1111111111###11111#111#####111111###111###11111##1111####11111#111111####1111###11111##1111111111111####11111#11111#####111111###111###111##1111####111#111111####1111111111111111111111111111111111111111111111111111111111111111111111111111111111111111111111111111111111111111111111111111111111111111111111111111111111111111####1#####111###11####111####11#####111###11####111####111#####111###11####111####1111#####111111###111###1##1111####1#111111####'\n",
    "\n",
    "universal = '1#####1###11###11####111111#1#####111###111111###1111111###11111#####1111111111111111111111111111111111111111111111111111111111111111111111111111111111111111111111111111111111111111111###1###1####111#111111111####111##1#####1111###11###11111###111#11111#####1111111111111111111111111111111111111111111111###111111111###111##1#####1111###11###11111###111#11111#####1111111111111111111111111111111111111###111111111###111##1#####1111###11###11111###111#11111#####1111111111111111111111111111111111111111111111###111111111###111##1#####1111###11###11111###111#11111#####111111111111111111111111111111111111111111111111111111###111111111###111##1#####1111###11###11111111111111111111111111111111111111111111111111111111111111111111111111111111111111111111111111111111111111111111111111111111111111111111111111111111111111111111111111111111111111111111111111111111111111111111111111111111111111111111111111111###111#11111#####1111111111###1###111#####111111###111###1111##1111####1111#111111####11111111111111111111111111111111111111111111111111111111111111####111#####1###11###1111###11111#1111#111111####11111##1111##111#####1111111###1111###1111##11111##11111####1111#1111111####111111111111111111111111111111111111111111111111111111111111111111111111111###111#####1###11###11111###11111#1111#111111#1111111####1111##111#####111111###111###1111##1111####1111#111111####11111111111111111111111111111111111111111111111111111111111111111111111111111111111111111111111111####111#####1###11###1111###1111#11111#111111####11111#11111#1111##111#####111111###111###1111##1111####1111#111111####11111#####11111111###11###1###111111#####111111111111111111111111111111111111111111111111111111111111111111111111111111111111111111111111111111111111111111111111111111111111111111111111111###1###1###11111111####111111#####1111###111#11111#1111####111#####111###111111#111####1#####111111###111###111##1111####111#111111####1111#####111111###111###1##1111####1#111111####111#####111111###111###1##1111####1#111111####111111111111111111111111111111111111111111111111111111111####11#####111###11111###111111111111###11##11##111111####111#11#####1###111###111##11###111#11111111111111####111##11#####11111111111111111111111111111111111111111111111111111111111111111111###1###111##11111#####1###1111111111111111111111####11111#####1111111111111111111111111111###111111111111111111111111111###11111#####111###11###111111111111111111111111111111111111111111111###11#####111111111111111111###111111111###111#11#####1###1###111#111##111##111111111111111111111111111111111111111111111111111111111###111#11#####1###111###111##11###111#111111111111111111####111#111#1111111111111111111111111111111111111111111111###11#####111111111111111111###111111111###111#11#####1###1###111##111##111##11111111111111111111111111111111111###111#11#####1###111###111##11###111#111111111111111111####111#111##111111111111111111111111###11111#####1###1###11111#####1###1###11#####11111111111111111111111###111###111##1111111111111###11#####1###11111###1###11111#111111#111111###11111#11111#111111#111111#1###11#####111111###111###111##1111####111#111111####111#####111111###111###11##1111####11#111111####1111111111111111111111111111111111111111111111111111111111111111111111111111111111111111111111111111111111111111####11#####1###1###11#####1###1###11#####11111111111111###11###11111111###11#####1###111###1#11111111####1##1111111111####11#####111###11####111####111111#####11###11####1111#####111###11####111####'\n",
    "clear_2 = '11#####111###11####111####'\n",
    "clear_3 = '111#####111###11####111####'\n",
    "clear_4 = '1111#####111###11####111####'\n",
    "move_1_2= '1#####111111###111###11##1111####11#111111####'\n",
    "move_1_3= '1#####111111###111###111##1111####111#111111####'\n",
    "move_1_4= '1#####111111###111###1111##1111####1111#111111####'\n",
    "move_2_1= '11#####111111###111###1##1111####1#111111####'\n",
    "move_2_3= '11#####111111###111###111##1111####111#111111####'\n",
    "move_2_4= '11#####111111###111###1111##1111####1111#111111####'\n",
    "move_3_1= '111#####111111###111###1##1111####1#111111####'\n",
    "move_3_2= '111#####111111###111###11##1111####11#111111####'\n",
    "move_3_4= '111#####111111###111###1111##1111####1111#111111####'\n",
    "move_4_1= '1111#####111111###111###1##1111####1#111111####'\n",
    "move_4_2= '1111#####111111###111###11##1111####11#111111####'\n",
    "move_4_3= '1111#####111111###111###111##1111####111#111111####'\n",
    "copy_1_2_3 = '1#####11111111###1111###11##111##11111####11#111#11111111####111#####111111###111###1##1111####1#111111####'\n",
    "copy_1_2_4 ='1#####11111111###1111###11##1111##11111####11#1111#11111111####1111#####111111###111###1##1111####1#111111####'\n",
    "copy_1_3_4='1#####11111111###1111###111##1111##11111####111#1111#11111111####1111#####111111###111###1##1111####1#111111####'\n",
    "copy_2_3_4 = '11#####11111111###1111###111##1111##11111####111#1111#11111111####1111#####111111###111###11##1111####11#111111####'\n",
    "\n"
   ]
  },
  {
   "cell_type": "markdown",
   "metadata": {
    "id": "Fgp0e5TPkQc_"
   },
   "source": [
    "Welcome to our first tutorial lesson on 1#. You will learn the basics of the language here and also see some small programs.\n",
    "\n",
    "This lesson is written on a lower level than the lessons which come after it. The only abstract concept comes at the end, as does the only and mathematical notation. The rest of the lesson is a concrete introduction to 1#.\n",
    "\n",
    "If you are familiar with any machine model in the theory of computations, such as Turing Machines, or classical register machines, you probably will want to skim through this lesson quickly.\n",
    "\n",
    "But this introductory lesson is really intended for people with no background on these matters. If this is you, please work slowly, doing the exercises as you go.\n"
   ]
  },
  {
   "cell_type": "markdown",
   "metadata": {
    "id": "gU8rrAp25Zar"
   },
   "source": [
    "To begin, here is an *interpreter* for 1#.  Even before learning how the language works, we want to see how to run programs by entering them into the interpreter along with inputs."
   ]
  },
  {
   "cell_type": "code",
   "execution_count": null,
   "metadata": {
    "cellView": "form",
    "colab": {
     "base_uri": "https://localhost:8080/",
     "height": 35
    },
    "id": "MPjUbJF95HHZ",
    "outputId": "31cf9eee-7a46-49ea-a0f6-148be0bf1107"
   },
   "outputs": [
    {
     "data": {
      "application/vnd.google.colaboratory.intrinsic+json": {
       "type": "string"
      },
      "text/plain": [
       "'#111111#'"
      ]
     },
     "execution_count": 3,
     "metadata": {},
     "output_type": "execute_result"
    }
   ],
   "source": [
    "def end_strip(list): ## removes the tail of empty registers\n",
    "  if list == []:\n",
    "    return(list)\n",
    "  elif list[-1] == '':\n",
    "    return(end_strip(list[:-1]))\n",
    "  else:\n",
    "    return(list)\n",
    "def remove_multiple_blanks(my_str):\n",
    "   return(my_str.replace(\" \", \"\"))\n",
    "\n",
    "\n",
    "program = '11#####111111###111###1##1111####1#111111####' #@param {type:\"string\"}\n",
    "R1 = '#1111' #@param {type:\"string\"}\n",
    "R2 = '11#' #@param {type:\"string\"}\n",
    "#R3 = '' #@param {type:\"string\"}\n",
    "\n",
    "## For more registers, add lines here like\n",
    "## R4 = '' #@param {type:\"string\"}\n",
    "## You also must modify the definition of 'a' below accordingly.\n",
    "\n",
    "# First, we delete the last batch of empty registers\n",
    "# to simplify the output \n",
    "a = [R1,R2]\n",
    "a = [remove_multiple_blanks(x) for x in a]\n",
    "\n",
    "onesharp(program,a)\n"
   ]
  },
  {
   "cell_type": "markdown",
   "metadata": {
    "id": "3BOQeYtdk84Q"
   },
   "source": [
    "Please copy the following *program* of 1# into the program line of the interpreter above.\n",
    "\n",
    "```11#####111111###111###1##1111####1#111111####```\n",
    "\n",
    "Now enter some words in the first two *input registers*. These two registers appear in the interpreter as R1 and R2.  The registers hold *words*.  For us in this course, words are just sequences  composed of the symbols ```1``` and ```#```, such as ```11###11#1``` and ```#1###1###111#11```.\n",
    "\n",
    "The empty word is a perfectly good word, so you could also enter it into R1 or R2 just by leaving the register blank or by entering one or more spaces.\n",
    "\n",
    "\n",
    "Next, run your program by clicking the triangle in the upper-left above.  (Another way to run the program is to type shift-return on a keyboard.) The output is shown below the interpreter, above the current cell.\n",
    "\n",
    "You should then clear the input and output registers, and then enter some new words in R1 and R2.  Again, click the triangle to run the program.\n",
    " You might now enter some words in R3 to see if it makes a difference.\n",
    "\n",
    "What you should find after doing this is that the output in R1 at the end is the input in R1 followed by the input in R2. And as a result of the same computation, R2 is emptied out. We usually will say *concatenated* instead of *followed by*.\n",
    "\n",
    "---\n",
    "\n",
    "The overall point is that the program ```11#####111111###111###1##1111####1#111111####``` may be run on words which are input in the registers. This program does not change when we run it, but the contents of the registers do change. Our first order of business is to understand programs like the one we've just seen. It turns out that this program is composed of seven instructions. We'll get to the instructions soon, but first we have an exercise for you to try."
   ]
  },
  {
   "cell_type": "markdown",
   "metadata": {
    "id": "AehFgcJH8Nh3"
   },
   "source": [
    "```{exercise}\n",
    "Here is another 1# program. It takes its input from the first two registers. Enter some words in R1 and R2 input boxes, and then run the program. Your job is to try to figure out what the program does.\n",
    "\n",
    "```1##### 11111111### 1111### 111## 1111## 11111#### 111# 1111# 11111111#### 111##### 111111### 111### 1## 1111#### 1# 111111#### 1111##### 111111### 111### 1## 1111#### 1# 111111#### 11##### 111111### 111### 1## 1111#### 1# 111111####```\n",
    "```"
   ]
  },
  {
   "cell_type": "markdown",
   "metadata": {
    "id": "sdgINOc18bLf"
   },
   "source": [
    "<img src=\"https://github.com/lmoss/onesharp/blob/main/drum.jpg?raw=1\" width=\"200\" height=\"160\">"
   ]
  },
  {
   "cell_type": "markdown",
   "metadata": {
    "id": "aq0g8aLp8aCW"
   },
   "source": [
    "## The 1# instruction set\n",
    "\n",
    "So far, we have seen two *programs* of 1#. Programs are composed of *instructions*. In fact, programs are just sequences of instructions run together. There are only five kinds of 1# instructions.  Now is the time to introduce them.\n",
    "\n",
    "We begin our journey with the first two types of instructions of the language.\n",
    "\n",
    "| Instruction      | Meaning |\n",
    "| ----------- | ----------- |\n",
    "| 1#      | Add 1 to R1       |\n",
    "| 11#   | Add 1 to R2      |\n",
    "| 111#   | Add 1 to R3      |\n",
    "\n",
    "\n",
    "These instructions add a 1 to the end of the word (the right end, as in English words) in the specified register.\n",
    "\n",
    "\n",
    "| Instruction      | Meaning |\n",
    "| ----------- | ----------- |\n",
    "| 1##      | Add # to R1       |\n",
    "| 11##   | Add # to R2      |\n",
    "| 111##   | Add # to R3      |\n",
    "\t\t\n",
    "\n",
    "These add a # to the end (again, this means the right side) of the word in the specified register.  We can summarize the two kinds of instructions which we have seen, and also extend them:\n",
    "\n",
    "| Instruction      | Meaning |\n",
    "| ----------- | ----------- |\n",
    "| 1^n #      | Add 1 to Rn       |\n",
    "| 1^n ##   | Add # to Rn      |\n",
    "\n",
    "The programs of 1# are just sequences of instructions run together.  There is no punctuation between the instructions.  To move around in a program, we have two other kinds of instructions\n",
    "\n",
    "| Instruction      | Meaning |\n",
    "| ----------- | ----------- |\n",
    "| 1^n ###   | Go forward n instructions     |\n",
    "| 1^n ####   | Go backward n instructions     |\n",
    "\n",
    "Here is the last kind of instruction:\n",
    "\n",
    "| Instruction      | Meaning |\n",
    "| ----------- | ----------- |\n",
    "| 1^n #####   | Cases on register n     |\n",
    "\n",
    "Here is what it does:\n",
    "\n",
    "If Rn is empty, we go to the very next instruction.\n",
    "\n",
    "If the first symbol of Rn is 1, we delete that symbol and go to the second instruction after the case instruction.\n",
    "\n",
    "If the first symbol of Rn is #, we delete that symbol and go to the third instruction after the case instruction.\n",
    "\n",
    "The 'cases' instructions are the most complex to understand, and it will help to look an example in detail.   But first we have some exercises on the 1^n# and 1^n## instructions."
   ]
  },
  {
   "cell_type": "markdown",
   "metadata": {
    "id": "mPeznuRfMGTV"
   },
   "source": [
    "```{exercise}\n",
    "Again, start with 1 in R1 and R2, 1# in R3, and the other registers empty.\n",
    "What happens in each register if we run 111##?\n",
    "Try to figure this out for yourself, and then check your work by actually running the program.\n",
    "```"
   ]
  },
  {
   "cell_type": "markdown",
   "metadata": {
    "id": "pciRDq5HMLZK"
   },
   "source": [
    "```{exercise}\n",
    "As before, start with 1 in R1 and R2, 1# in R3, and the other registers empty.\n",
    "What happens in each register if we run the same program p from Exercise 2 above?\n",
    "```"
   ]
  },
  {
   "cell_type": "markdown",
   "metadata": {
    "id": "02Hu2bGhMTnm"
   },
   "source": [
    "```{exercise}\n",
    "Write a program which, when started with all registers empty, gives 1 in R1 and R2, 1# in R3, and the other registers empty.\n",
    "```"
   ]
  },
  {
   "cell_type": "markdown",
   "metadata": {
    "id": "uHT06l0nzXOf"
   },
   "source": [
    "<img src=\"https://github.com/lmoss/onesharp/blob/main/harp.jpg?raw=1\" width=\"200\" height=\"160\">"
   ]
  },
  {
   "cell_type": "markdown",
   "metadata": {
    "id": "UcpoK1_7zeRr"
   },
   "source": [
    "## Example: A simple loop\n",
    "\n",
    "A good way to learn about the different commands is to examine simple programs.  Among these is a program called ```move_2_1```.   It is designed to move the contents of R2 onto the end of R1, emptying out R2 in the process.  Written out in full it is \n",
    "\n",
    "```11#####111111###111###1##1111####1#111111####```\n",
    "\n",
    "You can try the program out by (a) moving the interprer down, using the appropriate commands in the notebook; (b) entering ```move_2_1``` as the program and some random words in R1 and R2 and then running ```move_2_1``` on those inputs.\n",
    "\n",
    "Since it is hard to understand a program of 1#, we have tools to help.  First, we can *parse* the program.  Parsing means dividing the program into instructions."
   ]
  },
  {
   "cell_type": "code",
   "execution_count": null,
   "metadata": {
    "colab": {
     "base_uri": "https://localhost:8080/"
    },
    "id": "-GMjo7qg0x_K",
    "outputId": "52f210a8-cb0d-416f-b3f0-fdcfc3535373"
   },
   "outputs": [
    {
     "data": {
      "text/plain": [
       "['11#####', '111111###', '111###', '1##', '1111####', '1#', '111111####']"
      ]
     },
     "execution_count": 4,
     "metadata": {},
     "output_type": "execute_result"
    }
   ],
   "source": [
    "parse(move_2_1)"
   ]
  },
  {
   "cell_type": "markdown",
   "metadata": {
    "id": "r1pRycJ92Poa"
   },
   "source": [
    "Even better, we can get an parse with glosses, as follows:"
   ]
  },
  {
   "cell_type": "code",
   "execution_count": null,
   "metadata": {
    "colab": {
     "base_uri": "https://localhost:8080/",
     "height": 269
    },
    "id": "dGCW2iTH1bN3",
    "outputId": "704e779f-c3cb-41df-ecef-543acc5aff88"
   },
   "outputs": [
    {
     "data": {
      "text/html": [
       "<style type=\"text/css\">\n",
       "#T_0bec2_row0_col0, #T_0bec2_row0_col1, #T_0bec2_row1_col0, #T_0bec2_row1_col1, #T_0bec2_row2_col0, #T_0bec2_row2_col1, #T_0bec2_row3_col0, #T_0bec2_row3_col1, #T_0bec2_row4_col0, #T_0bec2_row4_col1, #T_0bec2_row5_col0, #T_0bec2_row5_col1, #T_0bec2_row6_col0, #T_0bec2_row6_col1 {\n",
       "  background-color: #C9DFEC;\n",
       "  color: black;\n",
       "  text-align: left;\n",
       "}\n",
       "</style>\n",
       "<table id=\"T_0bec2_\" class=\"dataframe\">\n",
       "  <thead>\n",
       "    <tr>\n",
       "      <th class=\"blank level0\" >&nbsp;</th>\n",
       "      <th class=\"col_heading level0 col0\" >instruction</th>\n",
       "      <th class=\"col_heading level0 col1\" >explanation</th>\n",
       "    </tr>\n",
       "  </thead>\n",
       "  <tbody>\n",
       "    <tr>\n",
       "      <th id=\"T_0bec2_level0_row0\" class=\"row_heading level0 row0\" >1</th>\n",
       "      <td id=\"T_0bec2_row0_col0\" class=\"data row0 col0\" >11#####</td>\n",
       "      <td id=\"T_0bec2_row0_col1\" class=\"data row0 col1\" >cases on R2</td>\n",
       "    </tr>\n",
       "    <tr>\n",
       "      <th id=\"T_0bec2_level0_row1\" class=\"row_heading level0 row1\" >2</th>\n",
       "      <td id=\"T_0bec2_row1_col0\" class=\"data row1 col0\" >111111###</td>\n",
       "      <td id=\"T_0bec2_row1_col1\" class=\"data row1 col1\" >go forward 6 to instruction 8</td>\n",
       "    </tr>\n",
       "    <tr>\n",
       "      <th id=\"T_0bec2_level0_row2\" class=\"row_heading level0 row2\" >3</th>\n",
       "      <td id=\"T_0bec2_row2_col0\" class=\"data row2 col0\" >111###</td>\n",
       "      <td id=\"T_0bec2_row2_col1\" class=\"data row2 col1\" >go forward 3 to instruction 6</td>\n",
       "    </tr>\n",
       "    <tr>\n",
       "      <th id=\"T_0bec2_level0_row3\" class=\"row_heading level0 row3\" >4</th>\n",
       "      <td id=\"T_0bec2_row3_col0\" class=\"data row3 col0\" >1##</td>\n",
       "      <td id=\"T_0bec2_row3_col1\" class=\"data row3 col1\" >add # to R1</td>\n",
       "    </tr>\n",
       "    <tr>\n",
       "      <th id=\"T_0bec2_level0_row4\" class=\"row_heading level0 row4\" >5</th>\n",
       "      <td id=\"T_0bec2_row4_col0\" class=\"data row4 col0\" >1111####</td>\n",
       "      <td id=\"T_0bec2_row4_col1\" class=\"data row4 col1\" >go backward 4 to instruction 1</td>\n",
       "    </tr>\n",
       "    <tr>\n",
       "      <th id=\"T_0bec2_level0_row5\" class=\"row_heading level0 row5\" >6</th>\n",
       "      <td id=\"T_0bec2_row5_col0\" class=\"data row5 col0\" >1#</td>\n",
       "      <td id=\"T_0bec2_row5_col1\" class=\"data row5 col1\" >add 1 to R1</td>\n",
       "    </tr>\n",
       "    <tr>\n",
       "      <th id=\"T_0bec2_level0_row6\" class=\"row_heading level0 row6\" >7</th>\n",
       "      <td id=\"T_0bec2_row6_col0\" class=\"data row6 col0\" >111111####</td>\n",
       "      <td id=\"T_0bec2_row6_col1\" class=\"data row6 col1\" >go backward 6 to instruction 1</td>\n",
       "    </tr>\n",
       "  </tbody>\n",
       "</table>\n"
      ],
      "text/plain": [
       "<pandas.io.formats.style.Styler at 0x7f8540806290>"
      ]
     },
     "metadata": {},
     "output_type": "display_data"
    }
   ],
   "source": [
    "parse_explain(move_2_1)"
   ]
  },
  {
   "cell_type": "markdown",
   "metadata": {
    "id": "VHYqMyLLykXQ"
   },
   "source": [
    "The program ```move_2_1``` is a loop, and we can further add to the explanations in the chart.\n"
   ]
  },
  {
   "cell_type": "code",
   "execution_count": null,
   "metadata": {
    "cellView": "form",
    "colab": {
     "base_uri": "https://localhost:8080/",
     "height": 269
    },
    "id": "r1XsXZpHcgxe",
    "outputId": "758d423f-0623-4f09-fc03-5279daa3226a"
   },
   "outputs": [
    {
     "data": {
      "text/html": [
       "<style type=\"text/css\">\n",
       "#T_a40d3_row0_col0, #T_a40d3_row0_col1, #T_a40d3_row1_col0, #T_a40d3_row1_col1, #T_a40d3_row2_col0, #T_a40d3_row2_col1 {\n",
       "  background-color: #FFFFCC;\n",
       "}\n",
       "#T_a40d3_row3_col0, #T_a40d3_row3_col1, #T_a40d3_row4_col0, #T_a40d3_row4_col1 {\n",
       "  background-color: #B0E0E6;\n",
       "}\n",
       "#T_a40d3_row5_col0, #T_a40d3_row5_col1, #T_a40d3_row6_col0, #T_a40d3_row6_col1 {\n",
       "  background-color: #D4B48C;\n",
       "}\n",
       "</style>\n",
       "<table id=\"T_a40d3_\" class=\"dataframe\">\n",
       "  <thead>\n",
       "    <tr>\n",
       "      <th class=\"blank level0\" >&nbsp;</th>\n",
       "      <th class=\"col_heading level0 col0\" >instruction</th>\n",
       "      <th class=\"col_heading level0 col1\" >explanation</th>\n",
       "    </tr>\n",
       "  </thead>\n",
       "  <tbody>\n",
       "    <tr>\n",
       "      <th id=\"T_a40d3_level0_row0\" class=\"row_heading level0 row0\" >1</th>\n",
       "      <td id=\"T_a40d3_row0_col0\" class=\"data row0 col0\" >11#####</td>\n",
       "      <td id=\"T_a40d3_row0_col1\" class=\"data row0 col1\" >cases on R2</td>\n",
       "    </tr>\n",
       "    <tr>\n",
       "      <th id=\"T_a40d3_level0_row1\" class=\"row_heading level0 row1\" >2</th>\n",
       "      <td id=\"T_a40d3_row1_col0\" class=\"data row1 col0\" >111111###</td>\n",
       "      <td id=\"T_a40d3_row1_col1\" class=\"data row1 col1\" >register 2 is empty: go forward 6 to instruction 8 (we're done)</td>\n",
       "    </tr>\n",
       "    <tr>\n",
       "      <th id=\"T_a40d3_level0_row2\" class=\"row_heading level0 row2\" >3</th>\n",
       "      <td id=\"T_a40d3_row2_col0\" class=\"data row2 col0\" >111###</td>\n",
       "      <td id=\"T_a40d3_row2_col1\" class=\"data row2 col1\" >first symbol is a 1: go forward 3 to instruction 6 (to the tan section)</td>\n",
       "    </tr>\n",
       "    <tr>\n",
       "      <th id=\"T_a40d3_level0_row3\" class=\"row_heading level0 row3\" >4</th>\n",
       "      <td id=\"T_a40d3_row3_col0\" class=\"data row3 col0\" >1##</td>\n",
       "      <td id=\"T_a40d3_row3_col1\" class=\"data row3 col1\" >first symbol is a #: add # to R1</td>\n",
       "    </tr>\n",
       "    <tr>\n",
       "      <th id=\"T_a40d3_level0_row4\" class=\"row_heading level0 row4\" >5</th>\n",
       "      <td id=\"T_a40d3_row4_col0\" class=\"data row4 col0\" >1111####</td>\n",
       "      <td id=\"T_a40d3_row4_col1\" class=\"data row4 col1\" >go backward 4 to instruction 1 (to the top)</td>\n",
       "    </tr>\n",
       "    <tr>\n",
       "      <th id=\"T_a40d3_level0_row5\" class=\"row_heading level0 row5\" >6</th>\n",
       "      <td id=\"T_a40d3_row5_col0\" class=\"data row5 col0\" >1#</td>\n",
       "      <td id=\"T_a40d3_row5_col1\" class=\"data row5 col1\" >add 1 to R1</td>\n",
       "    </tr>\n",
       "    <tr>\n",
       "      <th id=\"T_a40d3_level0_row6\" class=\"row_heading level0 row6\" >7</th>\n",
       "      <td id=\"T_a40d3_row6_col0\" class=\"data row6 col0\" >111111####</td>\n",
       "      <td id=\"T_a40d3_row6_col1\" class=\"data row6 col1\" >go backward 6 to instruction 1 (to the top)</td>\n",
       "    </tr>\n",
       "  </tbody>\n",
       "</table>\n"
      ],
      "text/plain": [
       "<pandas.io.formats.style.Styler at 0x7f853b407f50>"
      ]
     },
     "execution_count": 6,
     "metadata": {},
     "output_type": "execute_result"
    }
   ],
   "source": [
    "#@title\n",
    "j = [['11#####', 'cases on R2', ],\n",
    " ['111111###', \"register 2 is empty: go forward 6 to instruction 8 (we're done)\"],\n",
    " ['111###', 'first symbol is a 1: go forward 3 to instruction 6 (to the tan section)'],\n",
    " ['1##', 'first symbol is a #: add # to R1'],\n",
    " ['1111####', 'go backward 4 to instruction 1 (to the top)'],\n",
    " ['1#', 'add 1 to R1'],\n",
    " ['111111####', 'go backward 6 to instruction 1 (to the top)']\n",
    "]\n",
    " \n",
    "df = pd.DataFrame(j,columns=[\"instruction\", 'explanation'])\n",
    "df.index = np.arange(1, len(df) + 1)\n",
    "df.style.set_properties(**{'border': '1.3px solid green',\n",
    "                          'color': 'magenta'})\n",
    "n = len(df.columns)\n",
    "df.style.set_properties(**{'text-align': 'left'})\n",
    "#df.style.apply(lambda x: [\"background-color: red\"]*n if x['instruction']== 'Reading' else [\"background-color: white\"]*n, axis = 1)\n",
    "#df.style.apply(lambda x: [\"background-color: #B0E0E6\"]*n if x['instruction'] in ['1##','1111####'] elif [\"background-color: #D4B48C\"]*n if x['instruction'] in ['1#','111111####'] else [\"background-color: #FFFFCC\"]*n, axis = 1)\n",
    "df.style.apply(lambda x: [\"background-color: #B0E0E6\"]*n if x['instruction'] in ['1##','1111####']  else [\"background-color: #FFFFCC\"]*n, axis = 1)\n",
    "df.style.apply(lambda x: \n",
    "               [\"background-color: #B0E0E6\"]*n if x['instruction'] in ['1##','1111####'] \n",
    "               else [\"background-color: #D4B48C\"]*n if x['instruction'] in ['1#','111111####']\n",
    "               else [\"background-color: #FFFFCC\"]*n, axis = 1)\n"
   ]
  },
  {
   "cell_type": "markdown",
   "metadata": {
    "id": "L-QiFgEm2f-l"
   },
   "source": [
    "\n",
    "\n",
    "If R2 is empty, it goes to line 8.  Since the program itself only has 7 lines, this means that we have transferred *out* of the program.  We say that the program *halts* at that point.\n",
    "\n",
    "If the first symbol of R2 is a 1, then the second instruction after the case instruction at the top transfers us down to line 6. This part of the program would then add a 1 to R1 and return to the very beginning of the program.\n",
    "\n",
    "If the first symbol of R2 is a #, then we delete that # and go three steps forward, to line 4.  This part of the program would then add a # to R1 and return to the very beginning of the program.\n",
    "\n",
    "The point is that by going around loop repeatedly, we transfer the contents of R2 symbol-by-symbol to R1.\n",
    "Similarly, whenever m and n are different numbers, we can build a program ```move_m_n```. This program would write the contents of Rm onto the end of Rn, emptying Rm in the process.\n",
    "\n",
    "\n",
    "\n"
   ]
  },
  {
   "cell_type": "markdown",
   "metadata": {
    "id": "TOjEpOzp_yKZ"
   },
   "source": [
    "## Modifying our simple loop\n",
    "\n",
    "Suppose we want to modify ```move_2_1``` to get ```move_3_4```, a program which would copy the contents of R3 onto the end of R4 (and empty R4) in the process.\n",
    "Here is a way to do this which shows off some command-line tools that are part of the working environment of this course."
   ]
  },
  {
   "cell_type": "code",
   "execution_count": null,
   "metadata": {
    "colab": {
     "base_uri": "https://localhost:8080/"
    },
    "id": "ejj9mcIXARzG",
    "outputId": "7b4c02ac-86b9-44cf-828d-370512cb5174"
   },
   "outputs": [
    {
     "data": {
      "text/plain": [
       "['11#####', '111111###', '111###', '1##', '1111####', '1#', '111111####']"
      ]
     },
     "execution_count": 27,
     "metadata": {},
     "output_type": "execute_result"
    }
   ],
   "source": [
    "parse(move_2_1)"
   ]
  },
  {
   "cell_type": "markdown",
   "metadata": {
    "id": "7g4t56vzAVzS"
   },
   "source": [
    "When you enter the cell above, you get the program ```move_2_1``` as a Python *list* of instructions. We have seen the explanation of this parse above.  What we want to do in ```move_3_4``` is to change the overall \"case\" instruction in the beginning from ```11#####``` to ```111#####```.   And each time our program writes to a register, we want that register to be R4, not R1.  So we make two changes."
   ]
  },
  {
   "cell_type": "code",
   "execution_count": null,
   "metadata": {
    "id": "wZJ3AvT7A_FA"
   },
   "outputs": [],
   "source": [
    "pre_program = ['111#####', '111111###', '111###', '1111##', '1111####', '1111#', '111111####']"
   ]
  },
  {
   "cell_type": "markdown",
   "metadata": {
    "id": "w2we52jcBVps"
   },
   "source": [
    "To turn this into a program, we have a tool called \"unparse\"."
   ]
  },
  {
   "cell_type": "code",
   "execution_count": null,
   "metadata": {
    "colab": {
     "base_uri": "https://localhost:8080/",
     "height": 35
    },
    "id": "OQijdZd1Ba2r",
    "outputId": "366d0c7d-9b37-48a9-a286-05436897f225"
   },
   "outputs": [
    {
     "data": {
      "application/vnd.google.colaboratory.intrinsic+json": {
       "type": "string"
      },
      "text/plain": [
       "'111#####111111###111###1111##1111####1111#111111####'"
      ]
     },
     "execution_count": 21,
     "metadata": {},
     "output_type": "execute_result"
    }
   ],
   "source": [
    "unparse(pre_program)"
   ]
  },
  {
   "cell_type": "markdown",
   "metadata": {
    "id": "5KYZWRfoBGF8"
   },
   "source": [
    "We can check this out by entering it into the interpreter.  We could either copy the output line (without the quotes), and go up to the top of this notebook.  Alternatively, we could move the interpreter down to here using an up-arrow command that you will need to find.\n"
   ]
  },
  {
   "cell_type": "markdown",
   "metadata": {
    "id": "E7rovq6W3o8X"
   },
   "source": [
    "```{exercise}\n",
    "Write a program which takes the contents of R1 and adds them to the ends of *both* R2 and R3.\n",
    "```"
   ]
  },
  {
   "cell_type": "markdown",
   "metadata": {
    "id": "kZZRwlxl4Rzf"
   },
   "source": [
    "```{exercise}\n",
    "Write a program that clears out R1, leaving it empty.\n",
    "```"
   ]
  },
  {
   "cell_type": "markdown",
   "metadata": {
    "id": "KOqHsgFi4eVD"
   },
   "source": [
    "```{exercise}\n",
    "Write a program that clears R3 and then swaps the contents of R1 and R2 (using the now-empty R3).\n",
    "```\n"
   ]
  },
  {
   "cell_type": "markdown",
   "metadata": {
    "id": "Z2L4ESa54jlc"
   },
   "source": [
    "```{exercise}\n",
    "Write a program p that adds a 1 to the *beginning* of R1, assuming that R2 is empty.  (For example, if R1 has ```##1``` to start, then running p would result in R1 having ```1##1```.)   Of course, your program may use R2!\n",
    "```"
   ]
  },
  {
   "cell_type": "markdown",
   "metadata": {
    "id": "qWA_K6qHMe1R"
   },
   "source": [
    "<img src=\"https://github.com/lmoss/onesharp/blob/main/basses.jpg?raw=1\" width=\"200\" height=\"160\">"
   ]
  },
  {
   "cell_type": "markdown",
   "metadata": {
    "id": "h0f-UGdqFeoO"
   },
   "source": [
    "## Running programs in notebook cells rather than in an interpreter\n",
    "\n",
    "Because notebooks like this are composed of cells, we also want to run programs in a command-line fashion.\n",
    "\n",
    "There are two programs that do this.  They are \n",
    "```step_by_step``` and ```onesharp```.  These are illustrated in the next two cells.  Both of these programs are written in Python, not in 1#.  They both require as inputs a 1# program followed by a sequence of register words."
   ]
  },
  {
   "cell_type": "code",
   "execution_count": null,
   "metadata": {
    "colab": {
     "base_uri": "https://localhost:8080/",
     "height": 35
    },
    "id": "TGPYIuyWF7kg",
    "outputId": "4b234d77-6fa3-4f3e-f8ab-9ac9df4c1f35"
   },
   "outputs": [
    {
     "data": {
      "application/vnd.google.colaboratory.intrinsic+json": {
       "type": "string"
      },
      "text/plain": [
       "'1#11'"
      ]
     },
     "execution_count": 22,
     "metadata": {},
     "output_type": "execute_result"
    }
   ],
   "source": [
    "onesharp('1#11#####1###1###',['1#1','#'])"
   ]
  },
  {
   "cell_type": "code",
   "execution_count": null,
   "metadata": {
    "colab": {
     "base_uri": "https://localhost:8080/",
     "height": 710
    },
    "collapsed": true,
    "id": "VPQDvFNPNzgw",
    "jupyter": {
     "outputs_hidden": true
    },
    "outputId": "05b462e1-fd8d-4902-b965-6e491e06ac4f",
    "scrolled": true
   },
   "outputs": [
    {
     "name": "stdout",
     "output_type": "stream",
     "text": [
      "First, here is the program:\n"
     ]
    },
    {
     "data": {
      "text/html": [
       "<style type=\"text/css\">\n",
       "#T_0ba65_row0_col0, #T_0ba65_row0_col1, #T_0ba65_row1_col0, #T_0ba65_row1_col1, #T_0ba65_row2_col0, #T_0ba65_row2_col1, #T_0ba65_row3_col0, #T_0ba65_row3_col1 {\n",
       "  background-color: #C9DFEC;\n",
       "  color: black;\n",
       "  text-align: left;\n",
       "}\n",
       "</style>\n",
       "<table id=\"T_0ba65_\" class=\"dataframe\">\n",
       "  <thead>\n",
       "    <tr>\n",
       "      <th class=\"blank level0\" >&nbsp;</th>\n",
       "      <th class=\"col_heading level0 col0\" >instruction</th>\n",
       "      <th class=\"col_heading level0 col1\" >explanation</th>\n",
       "    </tr>\n",
       "  </thead>\n",
       "  <tbody>\n",
       "    <tr>\n",
       "      <th id=\"T_0ba65_level0_row0\" class=\"row_heading level0 row0\" >1</th>\n",
       "      <td id=\"T_0ba65_row0_col0\" class=\"data row0 col0\" >1#</td>\n",
       "      <td id=\"T_0ba65_row0_col1\" class=\"data row0 col1\" >add 1 to R1</td>\n",
       "    </tr>\n",
       "    <tr>\n",
       "      <th id=\"T_0ba65_level0_row1\" class=\"row_heading level0 row1\" >2</th>\n",
       "      <td id=\"T_0ba65_row1_col0\" class=\"data row1 col0\" >11#####</td>\n",
       "      <td id=\"T_0ba65_row1_col1\" class=\"data row1 col1\" >cases on R2</td>\n",
       "    </tr>\n",
       "    <tr>\n",
       "      <th id=\"T_0ba65_level0_row2\" class=\"row_heading level0 row2\" >3</th>\n",
       "      <td id=\"T_0ba65_row2_col0\" class=\"data row2 col0\" >1###</td>\n",
       "      <td id=\"T_0ba65_row2_col1\" class=\"data row2 col1\" >go forward 1 to instruction 4</td>\n",
       "    </tr>\n",
       "    <tr>\n",
       "      <th id=\"T_0ba65_level0_row3\" class=\"row_heading level0 row3\" >4</th>\n",
       "      <td id=\"T_0ba65_row3_col0\" class=\"data row3 col0\" >1###</td>\n",
       "      <td id=\"T_0ba65_row3_col1\" class=\"data row3 col1\" >go forward 1 to instruction 5</td>\n",
       "    </tr>\n",
       "  </tbody>\n",
       "</table>\n"
      ],
      "text/plain": [
       "<pandas.io.formats.style.Styler at 0x7fe9ad75af10>"
      ]
     },
     "metadata": {},
     "output_type": "display_data"
    },
    {
     "name": "stdout",
     "output_type": "stream",
     "text": [
      "\n",
      "The computation starts with the register contents shown below.\n",
      "The registers include those those which you entered as part of the input\n",
      "and also others mentioned in the input program.\n"
     ]
    },
    {
     "data": {
      "text/html": [
       "<style type=\"text/css\">\n",
       "#T_edf6c_row0_col0, #T_edf6c_row1_col0 {\n",
       "  background-color: #FFFFCC;\n",
       "  color: black;\n",
       "  text-align: left;\n",
       "}\n",
       "</style>\n",
       "<table id=\"T_edf6c_\" class=\"dataframe\">\n",
       "  <thead>\n",
       "    <tr>\n",
       "      <th class=\"blank level0\" >&nbsp;</th>\n",
       "      <th class=\"col_heading level0 col0\" >contents</th>\n",
       "    </tr>\n",
       "  </thead>\n",
       "  <tbody>\n",
       "    <tr>\n",
       "      <th id=\"T_edf6c_level0_row0\" class=\"row_heading level0 row0\" >1</th>\n",
       "      <td id=\"T_edf6c_row0_col0\" class=\"data row0 col0\" >1#1</td>\n",
       "    </tr>\n",
       "    <tr>\n",
       "      <th id=\"T_edf6c_level0_row1\" class=\"row_heading level0 row1\" >2</th>\n",
       "      <td id=\"T_edf6c_row1_col0\" class=\"data row1 col0\" >#</td>\n",
       "    </tr>\n",
       "  </tbody>\n",
       "</table>\n"
      ],
      "text/plain": [
       "<pandas.io.formats.style.Styler at 0x7fe9ad784450>"
      ]
     },
     "metadata": {},
     "output_type": "display_data"
    },
    {
     "name": "stdout",
     "output_type": "stream",
     "text": [
      "\n",
      "Step 1:\n",
      "Execute instruction 1: add 1 to R1.\n"
     ]
    },
    {
     "data": {
      "text/html": [
       "<style type=\"text/css\">\n",
       "#T_cac66_row0_col0, #T_cac66_row1_col0 {\n",
       "  background-color: #FFFFCC;\n",
       "  color: black;\n",
       "  text-align: left;\n",
       "}\n",
       "</style>\n",
       "<table id=\"T_cac66_\" class=\"dataframe\">\n",
       "  <thead>\n",
       "    <tr>\n",
       "      <th class=\"blank level0\" >&nbsp;</th>\n",
       "      <th class=\"col_heading level0 col0\" >contents</th>\n",
       "    </tr>\n",
       "  </thead>\n",
       "  <tbody>\n",
       "    <tr>\n",
       "      <th id=\"T_cac66_level0_row0\" class=\"row_heading level0 row0\" >1</th>\n",
       "      <td id=\"T_cac66_row0_col0\" class=\"data row0 col0\" >1#11</td>\n",
       "    </tr>\n",
       "    <tr>\n",
       "      <th id=\"T_cac66_level0_row1\" class=\"row_heading level0 row1\" >2</th>\n",
       "      <td id=\"T_cac66_row1_col0\" class=\"data row1 col0\" >#</td>\n",
       "    </tr>\n",
       "  </tbody>\n",
       "</table>\n"
      ],
      "text/plain": [
       "<pandas.io.formats.style.Styler at 0x7fe9ad784cd0>"
      ]
     },
     "metadata": {},
     "output_type": "display_data"
    },
    {
     "name": "stdout",
     "output_type": "stream",
     "text": [
      "Step 2:\n",
      "Execute instruction 2: cases on R2.\n",
      "The first symbol in that register is #, so we delete that symbol and go forward 3 instructions.\n"
     ]
    },
    {
     "data": {
      "text/html": [
       "<style type=\"text/css\">\n",
       "#T_e907b_row0_col0, #T_e907b_row1_col0 {\n",
       "  background-color: #FFFFCC;\n",
       "  color: black;\n",
       "  text-align: left;\n",
       "}\n",
       "</style>\n",
       "<table id=\"T_e907b_\" class=\"dataframe\">\n",
       "  <thead>\n",
       "    <tr>\n",
       "      <th class=\"blank level0\" >&nbsp;</th>\n",
       "      <th class=\"col_heading level0 col0\" >contents</th>\n",
       "    </tr>\n",
       "  </thead>\n",
       "  <tbody>\n",
       "    <tr>\n",
       "      <th id=\"T_e907b_level0_row0\" class=\"row_heading level0 row0\" >1</th>\n",
       "      <td id=\"T_e907b_row0_col0\" class=\"data row0 col0\" >1#11</td>\n",
       "    </tr>\n",
       "    <tr>\n",
       "      <th id=\"T_e907b_level0_row1\" class=\"row_heading level0 row1\" >2</th>\n",
       "      <td id=\"T_e907b_row1_col0\" class=\"data row1 col0\" ></td>\n",
       "    </tr>\n",
       "  </tbody>\n",
       "</table>\n"
      ],
      "text/plain": [
       "<pandas.io.formats.style.Styler at 0x7fe9ad7840d0>"
      ]
     },
     "metadata": {},
     "output_type": "display_data"
    },
    {
     "name": "stdout",
     "output_type": "stream",
     "text": [
      "The computation then halts properly because the control is just below the last line of the program,\n",
      "and because all registers other than R1 are empty.\n",
      "The output is 1#11.\n"
     ]
    }
   ],
   "source": [
    "step_by_step('1#11#####1###1###',['1#1','#'])"
   ]
  },
  {
   "cell_type": "markdown",
   "metadata": {
    "collapsed": false,
    "id": "UryssEaVNzgx",
    "jupyter": {
     "outputs_hidden": true
    }
   },
   "source": [
    "The last computation started with two inputs.  Try changing those inputs to see what happens.  As practice with the definition of *halt*, you might try yourself to predict what will happen before running it.  You can add the symbols 1 or #, and you also can delete symbols.  But you should not delete the quote marks.  Also, you can change the program the same way.   The idea is that you should explore this function *step_by_step* by trying it out on simple inputs.  "
   ]
  },
  {
   "cell_type": "markdown",
   "metadata": {
    "collapsed": false,
    "id": "cxghpbUSNzgx"
   },
   "source": [
    "Here is an explanation of the form of the command ```step_by_step``` that we have been using.   \n",
    "\n",
    "The first argument could be a 1# program surrounded by single quotes or double-quotes.   If you use single quotes, you need to be sure to use the correct ones; on my screen they look straight, not slanted.   You could also use a concatenation of quoted expressions (see below).  But if you forget the quotes, you will get an error because the Python program that is running all of this will balk at 1# expressions without quotes around them.\n",
    "\n",
    "In addition, you can name expressions ahead of time using assignment statements like \n",
    "\n",
    "```p = '1#'```\n",
    "\n",
    "\n",
    "and then enter (for example)\n",
    "\n",
    " ```step_by_step(p,['11'])```.\n",
    "\n",
    "---\n",
    "\n",
    "The program ```step_by_step``` begins with a parse of your program, and so if you input a word that is not a sequence of 1# expressions, it will stop without further ado.\n",
    "\n",
    "The second argument to ```step_by_step``` is a list of words.   A list in Python is enclosed by square brackets \\[ and \\], not by parentheses.  The words that go in the list are used in R1, R2, . . . in that order.  It is understood that any register not represented by any input starts with the empty string.   You can also represent the empty string by ' '.  And the empty list  of registers is denoted by two square brackets with nothing inside,  [  ].\n",
    "\n",
    "All in all, the examples below show different formats for the input to our function step_by_step.\n",
    "\n"
   ]
  },
  {
   "cell_type": "code",
   "execution_count": null,
   "metadata": {
    "colab": {
     "base_uri": "https://localhost:8080/",
     "height": 530
    },
    "id": "bQG-Z-2kNzgx",
    "jupyter": {
     "outputs_hidden": true
    },
    "outputId": "337db8ae-d630-446e-e612-48fc0513a1ff"
   },
   "outputs": [
    {
     "name": "stdout",
     "output_type": "stream",
     "text": [
      "First, here is the program:\n"
     ]
    },
    {
     "data": {
      "text/html": [
       "<style type=\"text/css\">\n",
       "#T_10ded_row0_col0, #T_10ded_row0_col1 {\n",
       "  background-color: #C9DFEC;\n",
       "  color: black;\n",
       "  text-align: left;\n",
       "}\n",
       "</style>\n",
       "<table id=\"T_10ded_\" class=\"dataframe\">\n",
       "  <thead>\n",
       "    <tr>\n",
       "      <th class=\"blank level0\" >&nbsp;</th>\n",
       "      <th class=\"col_heading level0 col0\" >instruction</th>\n",
       "      <th class=\"col_heading level0 col1\" >explanation</th>\n",
       "    </tr>\n",
       "  </thead>\n",
       "  <tbody>\n",
       "    <tr>\n",
       "      <th id=\"T_10ded_level0_row0\" class=\"row_heading level0 row0\" >1</th>\n",
       "      <td id=\"T_10ded_row0_col0\" class=\"data row0 col0\" >1#</td>\n",
       "      <td id=\"T_10ded_row0_col1\" class=\"data row0 col1\" >add 1 to R1</td>\n",
       "    </tr>\n",
       "  </tbody>\n",
       "</table>\n"
      ],
      "text/plain": [
       "<pandas.io.formats.style.Styler at 0x7fe9ad6df610>"
      ]
     },
     "metadata": {},
     "output_type": "display_data"
    },
    {
     "name": "stdout",
     "output_type": "stream",
     "text": [
      "\n",
      "The computation starts with the register contents shown below.\n",
      "The registers include those those which you entered as part of the input\n",
      "and also others mentioned in the input program.\n"
     ]
    },
    {
     "data": {
      "text/html": [
       "<style type=\"text/css\">\n",
       "#T_14127_row0_col0, #T_14127_row1_col0, #T_14127_row2_col0 {\n",
       "  background-color: #FFFFCC;\n",
       "  color: black;\n",
       "  text-align: left;\n",
       "}\n",
       "</style>\n",
       "<table id=\"T_14127_\" class=\"dataframe\">\n",
       "  <thead>\n",
       "    <tr>\n",
       "      <th class=\"blank level0\" >&nbsp;</th>\n",
       "      <th class=\"col_heading level0 col0\" >contents</th>\n",
       "    </tr>\n",
       "  </thead>\n",
       "  <tbody>\n",
       "    <tr>\n",
       "      <th id=\"T_14127_level0_row0\" class=\"row_heading level0 row0\" >1</th>\n",
       "      <td id=\"T_14127_row0_col0\" class=\"data row0 col0\" >#1</td>\n",
       "    </tr>\n",
       "    <tr>\n",
       "      <th id=\"T_14127_level0_row1\" class=\"row_heading level0 row1\" >2</th>\n",
       "      <td id=\"T_14127_row1_col0\" class=\"data row1 col0\" >#1</td>\n",
       "    </tr>\n",
       "    <tr>\n",
       "      <th id=\"T_14127_level0_row2\" class=\"row_heading level0 row2\" >3</th>\n",
       "      <td id=\"T_14127_row2_col0\" class=\"data row2 col0\" >1#</td>\n",
       "    </tr>\n",
       "  </tbody>\n",
       "</table>\n"
      ],
      "text/plain": [
       "<pandas.io.formats.style.Styler at 0x7fe9ad76f650>"
      ]
     },
     "metadata": {},
     "output_type": "display_data"
    },
    {
     "name": "stdout",
     "output_type": "stream",
     "text": [
      "\n",
      "Step 1:\n",
      "Execute instruction 1: add 1 to R1.\n"
     ]
    },
    {
     "data": {
      "text/html": [
       "<style type=\"text/css\">\n",
       "#T_849d8_row0_col0, #T_849d8_row1_col0, #T_849d8_row2_col0 {\n",
       "  background-color: #FFFFCC;\n",
       "  color: black;\n",
       "  text-align: left;\n",
       "}\n",
       "</style>\n",
       "<table id=\"T_849d8_\" class=\"dataframe\">\n",
       "  <thead>\n",
       "    <tr>\n",
       "      <th class=\"blank level0\" >&nbsp;</th>\n",
       "      <th class=\"col_heading level0 col0\" >contents</th>\n",
       "    </tr>\n",
       "  </thead>\n",
       "  <tbody>\n",
       "    <tr>\n",
       "      <th id=\"T_849d8_level0_row0\" class=\"row_heading level0 row0\" >1</th>\n",
       "      <td id=\"T_849d8_row0_col0\" class=\"data row0 col0\" >#11</td>\n",
       "    </tr>\n",
       "    <tr>\n",
       "      <th id=\"T_849d8_level0_row1\" class=\"row_heading level0 row1\" >2</th>\n",
       "      <td id=\"T_849d8_row1_col0\" class=\"data row1 col0\" >#1</td>\n",
       "    </tr>\n",
       "    <tr>\n",
       "      <th id=\"T_849d8_level0_row2\" class=\"row_heading level0 row2\" >3</th>\n",
       "      <td id=\"T_849d8_row2_col0\" class=\"data row2 col0\" >1#</td>\n",
       "    </tr>\n",
       "  </tbody>\n",
       "</table>\n"
      ],
      "text/plain": [
       "<pandas.io.formats.style.Styler at 0x7fe9ad75abd0>"
      ]
     },
     "metadata": {},
     "output_type": "display_data"
    },
    {
     "name": "stdout",
     "output_type": "stream",
     "text": [
      "This computation does not halt.\n",
      "Here is the list of registers whose contents are not empty at this point, other than R1:[2, 3].\n",
      "The register contents at the end are shown above.\n"
     ]
    }
   ],
   "source": [
    "p= '1#'\n",
    "q = '#1'\n",
    "step_by_step(p,[q,q,p])"
   ]
  },
  {
   "cell_type": "code",
   "execution_count": null,
   "metadata": {
    "colab": {
     "base_uri": "https://localhost:8080/",
     "height": 629
    },
    "id": "T7Xwna4jNzgy",
    "jupyter": {
     "outputs_hidden": true
    },
    "outputId": "b3ac7818-e4d4-45ac-926a-1638d45eeadb",
    "scrolled": true
   },
   "outputs": [
    {
     "name": "stdout",
     "output_type": "stream",
     "text": [
      "First, here is the program:\n"
     ]
    },
    {
     "data": {
      "text/html": [
       "<style type=\"text/css\">\n",
       "#T_fb33d_row0_col0, #T_fb33d_row0_col1, #T_fb33d_row1_col0, #T_fb33d_row1_col1 {\n",
       "  background-color: #C9DFEC;\n",
       "  color: black;\n",
       "  text-align: left;\n",
       "}\n",
       "</style>\n",
       "<table id=\"T_fb33d_\" class=\"dataframe\">\n",
       "  <thead>\n",
       "    <tr>\n",
       "      <th class=\"blank level0\" >&nbsp;</th>\n",
       "      <th class=\"col_heading level0 col0\" >instruction</th>\n",
       "      <th class=\"col_heading level0 col1\" >explanation</th>\n",
       "    </tr>\n",
       "  </thead>\n",
       "  <tbody>\n",
       "    <tr>\n",
       "      <th id=\"T_fb33d_level0_row0\" class=\"row_heading level0 row0\" >1</th>\n",
       "      <td id=\"T_fb33d_row0_col0\" class=\"data row0 col0\" >1##</td>\n",
       "      <td id=\"T_fb33d_row0_col1\" class=\"data row0 col1\" >add # to R1</td>\n",
       "    </tr>\n",
       "    <tr>\n",
       "      <th id=\"T_fb33d_level0_row1\" class=\"row_heading level0 row1\" >2</th>\n",
       "      <td id=\"T_fb33d_row1_col0\" class=\"data row1 col0\" >11#</td>\n",
       "      <td id=\"T_fb33d_row1_col1\" class=\"data row1 col1\" >add 1 to R2</td>\n",
       "    </tr>\n",
       "  </tbody>\n",
       "</table>\n"
      ],
      "text/plain": [
       "<pandas.io.formats.style.Styler at 0x7fe9ad78a1d0>"
      ]
     },
     "metadata": {},
     "output_type": "display_data"
    },
    {
     "name": "stdout",
     "output_type": "stream",
     "text": [
      "\n",
      "The computation starts with the register contents shown below.\n",
      "The registers include those those which you entered as part of the input\n",
      "and also others mentioned in the input program.\n"
     ]
    },
    {
     "data": {
      "text/html": [
       "<style type=\"text/css\">\n",
       "#T_19155_row0_col0, #T_19155_row1_col0 {\n",
       "  background-color: #FFFFCC;\n",
       "  color: black;\n",
       "  text-align: left;\n",
       "}\n",
       "</style>\n",
       "<table id=\"T_19155_\" class=\"dataframe\">\n",
       "  <thead>\n",
       "    <tr>\n",
       "      <th class=\"blank level0\" >&nbsp;</th>\n",
       "      <th class=\"col_heading level0 col0\" >contents</th>\n",
       "    </tr>\n",
       "  </thead>\n",
       "  <tbody>\n",
       "    <tr>\n",
       "      <th id=\"T_19155_level0_row0\" class=\"row_heading level0 row0\" >1</th>\n",
       "      <td id=\"T_19155_row0_col0\" class=\"data row0 col0\" ></td>\n",
       "    </tr>\n",
       "    <tr>\n",
       "      <th id=\"T_19155_level0_row1\" class=\"row_heading level0 row1\" >2</th>\n",
       "      <td id=\"T_19155_row1_col0\" class=\"data row1 col0\" ></td>\n",
       "    </tr>\n",
       "  </tbody>\n",
       "</table>\n"
      ],
      "text/plain": [
       "<pandas.io.formats.style.Styler at 0x7fe9ad78b450>"
      ]
     },
     "metadata": {},
     "output_type": "display_data"
    },
    {
     "name": "stdout",
     "output_type": "stream",
     "text": [
      "\n",
      "Step 1:\n",
      "Execute instruction 1: add # to R1.\n"
     ]
    },
    {
     "data": {
      "text/html": [
       "<style type=\"text/css\">\n",
       "#T_522fa_row0_col0, #T_522fa_row1_col0 {\n",
       "  background-color: #FFFFCC;\n",
       "  color: black;\n",
       "  text-align: left;\n",
       "}\n",
       "</style>\n",
       "<table id=\"T_522fa_\" class=\"dataframe\">\n",
       "  <thead>\n",
       "    <tr>\n",
       "      <th class=\"blank level0\" >&nbsp;</th>\n",
       "      <th class=\"col_heading level0 col0\" >contents</th>\n",
       "    </tr>\n",
       "  </thead>\n",
       "  <tbody>\n",
       "    <tr>\n",
       "      <th id=\"T_522fa_level0_row0\" class=\"row_heading level0 row0\" >1</th>\n",
       "      <td id=\"T_522fa_row0_col0\" class=\"data row0 col0\" >#</td>\n",
       "    </tr>\n",
       "    <tr>\n",
       "      <th id=\"T_522fa_level0_row1\" class=\"row_heading level0 row1\" >2</th>\n",
       "      <td id=\"T_522fa_row1_col0\" class=\"data row1 col0\" ></td>\n",
       "    </tr>\n",
       "  </tbody>\n",
       "</table>\n"
      ],
      "text/plain": [
       "<pandas.io.formats.style.Styler at 0x7fe9ad787c10>"
      ]
     },
     "metadata": {},
     "output_type": "display_data"
    },
    {
     "name": "stdout",
     "output_type": "stream",
     "text": [
      "Step 2:\n",
      "Execute instruction 2: add 1 to R2.\n"
     ]
    },
    {
     "data": {
      "text/html": [
       "<style type=\"text/css\">\n",
       "#T_64c17_row0_col0, #T_64c17_row1_col0 {\n",
       "  background-color: #FFFFCC;\n",
       "  color: black;\n",
       "  text-align: left;\n",
       "}\n",
       "</style>\n",
       "<table id=\"T_64c17_\" class=\"dataframe\">\n",
       "  <thead>\n",
       "    <tr>\n",
       "      <th class=\"blank level0\" >&nbsp;</th>\n",
       "      <th class=\"col_heading level0 col0\" >contents</th>\n",
       "    </tr>\n",
       "  </thead>\n",
       "  <tbody>\n",
       "    <tr>\n",
       "      <th id=\"T_64c17_level0_row0\" class=\"row_heading level0 row0\" >1</th>\n",
       "      <td id=\"T_64c17_row0_col0\" class=\"data row0 col0\" >#</td>\n",
       "    </tr>\n",
       "    <tr>\n",
       "      <th id=\"T_64c17_level0_row1\" class=\"row_heading level0 row1\" >2</th>\n",
       "      <td id=\"T_64c17_row1_col0\" class=\"data row1 col0\" >1</td>\n",
       "    </tr>\n",
       "  </tbody>\n",
       "</table>\n"
      ],
      "text/plain": [
       "<pandas.io.formats.style.Styler at 0x7fe9ad6bded0>"
      ]
     },
     "metadata": {},
     "output_type": "display_data"
    },
    {
     "name": "stdout",
     "output_type": "stream",
     "text": [
      "This computation does not halt.\n",
      "Here is the list of registers whose contents are not empty at this point, other than R1:[2].\n",
      "The register contents at the end are shown above.\n"
     ]
    }
   ],
   "source": [
    "step_by_step(p+q+p,[])\n",
    "# This is a comment.\n",
    "# the symbol + is used for concatenation of strings in Python.\n",
    "# Since p and q are strings, we can concatenate them"
   ]
  },
  {
   "cell_type": "markdown",
   "metadata": {
    "collapsed": false,
    "id": "VKo3wMOqNzgy"
   },
   "source": [
    "So far in this notebook, we have only seen the function ```step_by_step```.   If we want to run things \"in one fell swoop\", we could use the function ```onesharp(p,[r1,r2, . . ., rn])```.   It also takes two arguments, the first a program and the second a (possibly-empty) sequence of input words."
   ]
  },
  {
   "cell_type": "code",
   "execution_count": null,
   "metadata": {
    "colab": {
     "base_uri": "https://localhost:8080/",
     "height": 35
    },
    "id": "g_hKkqiUNzgy",
    "outputId": "fef9abad-e5ca-4063-ce1d-ae2e5e76ef1f"
   },
   "outputs": [
    {
     "data": {
      "application/vnd.google.colaboratory.intrinsic+json": {
       "type": "string"
      },
      "text/plain": [
       "''"
      ]
     },
     "execution_count": 26,
     "metadata": {},
     "output_type": "execute_result"
    }
   ],
   "source": [
    "clear_1 = '1##### 111### 11#### 111####'\n",
    "onesharp(clear_1,['1111###1111##########'])\n",
    "# You can also run the line above slowly by running\n",
    "# step_by_step(clear_1,['1111###1111##########'])"
   ]
  },
  {
   "cell_type": "markdown",
   "metadata": {
    "id": "3WeBl5d-3_fJ"
   },
   "source": [
    "<img src=\"https://github.com/lmoss/onesharp/blob/main/pianotrumpet.jpg?raw=1\" width=\"200\" height=\"160\">"
   ]
  },
  {
   "cell_type": "markdown",
   "metadata": {
    "id": "72XoyBfdJqFn"
   },
   "source": [
    "## Summary\n",
    "\n",
    "### Here is the full set of instructions of 1#:\n",
    "\n",
    "\n",
    "| Instruction      | Meaning |\n",
    "| ----------- | ----------- |\n",
    "| 1^n #      | Add 1 to Rn       |\n",
    "| 1^n ##   | Add # to Rn      |\n",
    "| 1^n ###   | Go forward n instructions     |\n",
    "| 1^n ####   | Go backward n instructions     |\n",
    "| 1^n #####   | Cases on Rn |\n",
    "\n",
    "All numbers in this chart are written in unary.\n",
    "Registers are processed as queues: symbols enter on the right and exit on the left.\n",
    "\n",
    "The first two types of instructions add symbols to the right ends of the registers.\n",
    "\n",
    "Here is a review of how the case instruction ```1^n #####``` works.\n",
    "\n",
    "If Rn is empty, we go to the very next instruction.\n",
    "\n",
    "If the first symbol of Rn is 1, we delete that symbol and go to the second instruction after the case instruction.\n",
    "\n",
    "If the first symbol of Rn is #, we delete that symbol and go to the third instruction after the case instruction.\n"
   ]
  },
  {
   "cell_type": "markdown",
   "metadata": {
    "id": "6kV7NJvADpyq"
   },
   "source": [
    "### Useful command-line tools\n",
    "\n",
    "| Instruction      | Meaning |\n",
    "| ----------- | ----------- |\n",
    "| ```onesharp(p,[r1, . . .,rn])``` | runs the program ```p``` on the list of words  ```[r1, . . .,rn]```     |\n",
    "| ```step_by_step(p,[r1, . . .,rn])```   | parses p and shows all steps in the run  |\n",
    "| ```parse(p)```  | expresses ```p``` as a list of instructions    |\n",
    "| ```parse_explain(p)```   | gives a table of the parse with glosses     |\n",
    "| ```unparse(p)```   | inverse of ```parse(p)``` |\n"
   ]
  },
  {
   "cell_type": "markdown",
   "metadata": {
    "id": "p4rKNF0_6TMh"
   },
   "source": [
    "### Useful operations inside a Jupyter notebook\n",
    "\n",
    "1. Show the Table of Contents, and also hide it.\n",
    "\n",
    "2. Stop a program that is either in an infinite loop or otherwise is going too long.\n",
    "\n",
    "3. Insert code cells above or below the current cell.\n",
    "\n",
    "4. Insert text cells above or below the current cell.\n",
    "\n",
    "5. Add a comment to a cell using # as the first character in a line.\n",
    "\n",
    "6. Moving a cell up or down in the notebook.\n",
    "\n",
    "7. Delete a cell.\n",
    "\n",
    "8. Open a new notebook.  "
   ]
  },
  {
   "cell_type": "code",
   "execution_count": null,
   "metadata": {
    "id": "Di6ImZ8Zumjt"
   },
   "outputs": [],
   "source": []
  }
 ],
 "metadata": {
  "colab": {
   "include_colab_link": true,
   "provenance": []
  },
  "kernelspec": {
   "display_name": "Python 3 (system-wide)",
   "language": "python",
   "metadata": {
    "cocalc": {
     "description": "Python 3 programming language",
     "priority": 100,
     "url": "https://www.python.org/"
    }
   },
   "name": "python3",
   "resource_dir": "/ext/jupyter/kernels/python3"
  },
  "language_info": {
   "codemirror_mode": {
    "name": "ipython",
    "version": 3
   },
   "file_extension": ".py",
   "mimetype": "text/x-python",
   "name": "python",
   "nbconvert_exporter": "python",
   "pygments_lexer": "ipython3",
   "version": "3.8.10"
  }
 },
 "nbformat": 4,
 "nbformat_minor": 0
}