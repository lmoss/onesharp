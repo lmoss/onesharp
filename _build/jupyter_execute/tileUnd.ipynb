{
 "cells": [
  {
   "cell_type": "markdown",
   "metadata": {
    "colab_type": "text",
    "id": "view-in-github"
   },
   "source": [
    "<a href=\"https://colab.research.google.com/github/lmoss/onesharp/blob/main/tileUnd.ipynb\" target=\"_parent\"><img src=\"https://colab.research.google.com/assets/colab-badge.svg\" alt=\"Open In Colab\"/></a>"
   ]
  },
  {
   "cell_type": "markdown",
   "metadata": {
    "id": "QutJ68mmNxRM"
   },
   "source": [
    "# Tiling"
   ]
  },
  {
   "cell_type": "markdown",
   "metadata": {
    "id": "5Xu39aJcNz2p"
   },
   "source": [
    "````{prf:theorem} \n",
    "The Tiling problem is undecidable.\n",
    "````"
   ]
  },
  {
   "cell_type": "markdown",
   "metadata": {
    "id": "F-pW5WPAOQI1"
   },
   "source": [
    "````{admonition} Proof\n",
    ":class: tip\n",
    "````"
   ]
  },
  {
   "cell_type": "code",
   "execution_count": null,
   "metadata": {
    "id": "1L_4aJ2oNzDa"
   },
   "outputs": [],
   "source": []
  }
 ],
 "metadata": {
  "colab": {
   "authorship_tag": "ABX9TyN6fTv+DCTwTePvItnN+F9O",
   "include_colab_link": true,
   "provenance": []
  },
  "kernelspec": {
   "display_name": "Python 3",
   "name": "python3"
  },
  "language_info": {
   "name": "python"
  }
 },
 "nbformat": 4,
 "nbformat_minor": 0
}