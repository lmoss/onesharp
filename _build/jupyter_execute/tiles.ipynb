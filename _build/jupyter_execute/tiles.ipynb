{
 "cells": [
  {
   "cell_type": "markdown",
   "metadata": {
    "colab_type": "text",
    "id": "view-in-github"
   },
   "source": [
    "<a href=\"https://colab.research.google.com/github/lmoss/onesharp/blob/main/tiles.ipynb\" target=\"_parent\"><img src=\"https://colab.research.google.com/assets/colab-badge.svg\" alt=\"Open In Colab\"/></a>"
   ]
  },
  {
   "cell_type": "markdown",
   "metadata": {
    "id": "V6FGL0gZXP_n"
   },
   "source": [
    "## these are just my notes as I learn matplotlib in order to display tile sets assoicsated to 1# programs\n",
    "\n"
   ]
  },
  {
   "cell_type": "code",
   "execution_count": null,
   "metadata": {
    "colab": {
     "base_uri": "https://localhost:8080/"
    },
    "id": "0V7B0ExVqv8D",
    "outputId": "3758eeee-9c6b-42d8-ea42-e8322c2ff1c2"
   },
   "outputs": [
    {
     "name": "stdout",
     "output_type": "stream",
     "text": [
      "Looking in indexes: https://pypi.org/simple, https://us-python.pkg.dev/colab-wheels/public/simple/\n",
      "Requirement already satisfied: setuptools in /usr/local/lib/python3.7/dist-packages (57.4.0)\n",
      "Collecting setuptools\n",
      "  Downloading setuptools-65.3.0-py3-none-any.whl (1.2 MB)\n",
      "\u001b[K     |████████████████████████████████| 1.2 MB 28.9 MB/s \n",
      "\u001b[?25hInstalling collected packages: setuptools\n",
      "  Attempting uninstall: setuptools\n",
      "    Found existing installation: setuptools 57.4.0\n",
      "    Uninstalling setuptools-57.4.0:\n",
      "      Successfully uninstalled setuptools-57.4.0\n",
      "\u001b[31mERROR: pip's dependency resolver does not currently take into account all the packages that are installed. This behaviour is the source of the following dependency conflicts.\n",
      "ipython 7.9.0 requires jedi>=0.10, which is not installed.\n",
      "numba 0.56.2 requires setuptools<60, but you have setuptools 65.3.0 which is incompatible.\u001b[0m\n",
      "Successfully installed setuptools-65.3.0\n",
      "Looking in indexes: https://pypi.org/simple, https://us-python.pkg.dev/colab-wheels/public/simple/\n",
      "Collecting git+https://github.com/lmoss/onesharp.git@main\n",
      "  Cloning https://github.com/lmoss/onesharp.git (to revision main) to /tmp/pip-req-build-rqp4_cq2\n",
      "  Running command git clone -q https://github.com/lmoss/onesharp.git /tmp/pip-req-build-rqp4_cq2\n",
      "  Installing build dependencies ... \u001b[?25l\u001b[?25hdone\n",
      "  Getting requirements to build wheel ... \u001b[?25l\u001b[?25hdone\n",
      "  Installing backend dependencies ... \u001b[?25l\u001b[?25hdone\n",
      "    Preparing wheel metadata ... \u001b[?25l\u001b[?25hdone\n",
      "Requirement already satisfied: pandas in /usr/local/lib/python3.7/dist-packages (from onesharp==0.0.0) (1.3.5)\n",
      "Requirement already satisfied: numpy in /usr/local/lib/python3.7/dist-packages (from onesharp==0.0.0) (1.21.6)\n",
      "Requirement already satisfied: IPython in /usr/local/lib/python3.7/dist-packages (from onesharp==0.0.0) (7.9.0)\n",
      "Requirement already satisfied: pygments in /usr/local/lib/python3.7/dist-packages (from IPython->onesharp==0.0.0) (2.6.1)\n",
      "Requirement already satisfied: backcall in /usr/local/lib/python3.7/dist-packages (from IPython->onesharp==0.0.0) (0.2.0)\n",
      "Requirement already satisfied: setuptools>=18.5 in /usr/local/lib/python3.7/dist-packages (from IPython->onesharp==0.0.0) (65.3.0)\n",
      "Requirement already satisfied: traitlets>=4.2 in /usr/local/lib/python3.7/dist-packages (from IPython->onesharp==0.0.0) (5.1.1)\n",
      "Requirement already satisfied: prompt-toolkit<2.1.0,>=2.0.0 in /usr/local/lib/python3.7/dist-packages (from IPython->onesharp==0.0.0) (2.0.10)\n",
      "Collecting jedi>=0.10\n",
      "  Downloading jedi-0.18.1-py2.py3-none-any.whl (1.6 MB)\n",
      "\u001b[K     |████████████████████████████████| 1.6 MB 28.8 MB/s \n",
      "\u001b[?25hRequirement already satisfied: pexpect in /usr/local/lib/python3.7/dist-packages (from IPython->onesharp==0.0.0) (4.8.0)\n",
      "Requirement already satisfied: decorator in /usr/local/lib/python3.7/dist-packages (from IPython->onesharp==0.0.0) (4.4.2)\n",
      "Requirement already satisfied: pickleshare in /usr/local/lib/python3.7/dist-packages (from IPython->onesharp==0.0.0) (0.7.5)\n",
      "Requirement already satisfied: parso<0.9.0,>=0.8.0 in /usr/local/lib/python3.7/dist-packages (from jedi>=0.10->IPython->onesharp==0.0.0) (0.8.3)\n",
      "Requirement already satisfied: six>=1.9.0 in /usr/local/lib/python3.7/dist-packages (from prompt-toolkit<2.1.0,>=2.0.0->IPython->onesharp==0.0.0) (1.15.0)\n",
      "Requirement already satisfied: wcwidth in /usr/local/lib/python3.7/dist-packages (from prompt-toolkit<2.1.0,>=2.0.0->IPython->onesharp==0.0.0) (0.2.5)\n",
      "Requirement already satisfied: pytz>=2017.3 in /usr/local/lib/python3.7/dist-packages (from pandas->onesharp==0.0.0) (2022.2.1)\n",
      "Requirement already satisfied: python-dateutil>=2.7.3 in /usr/local/lib/python3.7/dist-packages (from pandas->onesharp==0.0.0) (2.8.2)\n",
      "Requirement already satisfied: ptyprocess>=0.5 in /usr/local/lib/python3.7/dist-packages (from pexpect->IPython->onesharp==0.0.0) (0.7.0)\n",
      "Building wheels for collected packages: onesharp\n",
      "  Building wheel for onesharp (PEP 517) ... \u001b[?25l\u001b[?25hdone\n",
      "  Created wheel for onesharp: filename=onesharp-0.0.0-py3-none-any.whl size=7611 sha256=7fbeadfd3e2cee9788a20d47c4b90aac69ab1387b15322285df77fb71900b96b\n",
      "  Stored in directory: /tmp/pip-ephem-wheel-cache-43y6ur24/wheels/5e/0e/bb/cde29660b488be4baa97cc5c515869099928ed5c4d38882363\n",
      "Successfully built onesharp\n",
      "Installing collected packages: jedi, onesharp\n",
      "Successfully installed jedi-0.18.1 onesharp-0.0.0\n"
     ]
    }
   ],
   "source": [
    "!python -m pip install -U setuptools\n",
    "!python -m pip install -U git+https://github.com/lmoss/onesharp.git@main\n",
    "from onesharp.interpreter.interpreter import *\n"
   ]
  },
  {
   "cell_type": "code",
   "execution_count": null,
   "metadata": {
    "id": "aR4r4BawqLNC"
   },
   "outputs": [],
   "source": [
    "## This is from interpretyer.py\n",
    "\n",
    "def expanded_with_tiles(gorp):\n",
    "    pgorp = parse(gorp)\n",
    "    wwgorp = [[pgorp[x],instruction_gloss(pgorp[x],x),[],[]] for x in range(len(pgorp))]\n",
    "    return(wwgorp)\n",
    "\n",
    "def parse_explain_with_tiles(prog):\n",
    "    df = pd.DataFrame(prog, columns=[\"instr\", ' instr number', 'explanation','tile number','tile'])\n",
    "    df.index = np.arange(1, len(df) + 1)\n",
    "    def make_pretty(styler):\n",
    "                styler.set_properties(**{'background-color': '#C9DFEC'})        \n",
    "                styler.set_properties(**{'text-align': 'left'})\n",
    "                styler.set_properties(index=False) #    df.to_string(index=False)\n",
    "                return styler\n",
    "    display(df.style.pipe(make_pretty))\n",
    "    #display(df)"
   ]
  },
  {
   "cell_type": "code",
   "execution_count": null,
   "metadata": {
    "id": "Jm69L7ysq6V6"
   },
   "outputs": [],
   "source": [
    "simple = '1#1##'"
   ]
  },
  {
   "cell_type": "code",
   "execution_count": null,
   "metadata": {
    "colab": {
     "base_uri": "https://localhost:8080/",
     "height": 143
    },
    "id": "klxHIQWpq3fY",
    "outputId": "793de9e2-8427-44d8-aab3-b3146a086918"
   },
   "outputs": [
    {
     "data": {
      "text/html": [
       "<style type=\"text/css\">\n",
       "#T_7b3b7_row0_col0, #T_7b3b7_row0_col1, #T_7b3b7_row0_col2, #T_7b3b7_row0_col3, #T_7b3b7_row0_col4, #T_7b3b7_row1_col0, #T_7b3b7_row1_col1, #T_7b3b7_row1_col2, #T_7b3b7_row1_col3, #T_7b3b7_row1_col4, #T_7b3b7_row2_col0, #T_7b3b7_row2_col1, #T_7b3b7_row2_col2, #T_7b3b7_row2_col3, #T_7b3b7_row2_col4 {\n",
       "  background-color: #C9DFEC;\n",
       "  text-align: left;\n",
       "  index: False;\n",
       "}\n",
       "</style>\n",
       "<table id=\"T_7b3b7_\" class=\"dataframe\">\n",
       "  <thead>\n",
       "    <tr>\n",
       "      <th class=\"blank level0\" >&nbsp;</th>\n",
       "      <th class=\"col_heading level0 col0\" >instr</th>\n",
       "      <th class=\"col_heading level0 col1\" > instr number</th>\n",
       "      <th class=\"col_heading level0 col2\" >explanation</th>\n",
       "      <th class=\"col_heading level0 col3\" >tile number</th>\n",
       "      <th class=\"col_heading level0 col4\" >tile</th>\n",
       "    </tr>\n",
       "  </thead>\n",
       "  <tbody>\n",
       "    <tr>\n",
       "      <th id=\"T_7b3b7_level0_row0\" class=\"row_heading level0 row0\" >1</th>\n",
       "      <td id=\"T_7b3b7_row0_col0\" class=\"data row0 col0\" >1#</td>\n",
       "      <td id=\"T_7b3b7_row0_col1\" class=\"data row0 col1\" >1</td>\n",
       "      <td id=\"T_7b3b7_row0_col2\" class=\"data row0 col2\" >add 1 to R1</td>\n",
       "      <td id=\"T_7b3b7_row0_col3\" class=\"data row0 col3\" >1</td>\n",
       "      <td id=\"T_7b3b7_row0_col4\" class=\"data row0 col4\" >(0, 1, 4, 3)</td>\n",
       "    </tr>\n",
       "    <tr>\n",
       "      <th id=\"T_7b3b7_level0_row1\" class=\"row_heading level0 row1\" >2</th>\n",
       "      <td id=\"T_7b3b7_row1_col0\" class=\"data row1 col0\" ></td>\n",
       "      <td id=\"T_7b3b7_row1_col1\" class=\"data row1 col1\" ></td>\n",
       "      <td id=\"T_7b3b7_row1_col2\" class=\"data row1 col2\" ></td>\n",
       "      <td id=\"T_7b3b7_row1_col3\" class=\"data row1 col3\" >2</td>\n",
       "      <td id=\"T_7b3b7_row1_col4\" class=\"data row1 col4\" >(13, 4, 2, 5)</td>\n",
       "    </tr>\n",
       "    <tr>\n",
       "      <th id=\"T_7b3b7_level0_row2\" class=\"row_heading level0 row2\" >3</th>\n",
       "      <td id=\"T_7b3b7_row2_col0\" class=\"data row2 col0\" >1##</td>\n",
       "      <td id=\"T_7b3b7_row2_col1\" class=\"data row2 col1\" >2</td>\n",
       "      <td id=\"T_7b3b7_row2_col2\" class=\"data row2 col2\" >add # to R1</td>\n",
       "      <td id=\"T_7b3b7_row2_col3\" class=\"data row2 col3\" >3</td>\n",
       "      <td id=\"T_7b3b7_row2_col4\" class=\"data row2 col4\" >(1, 4, 5, 3)</td>\n",
       "    </tr>\n",
       "  </tbody>\n",
       "</table>\n"
      ],
      "text/plain": [
       "<pandas.io.formats.style.Styler at 0x7fb75289cb10>"
      ]
     },
     "metadata": {},
     "output_type": "display_data"
    }
   ],
   "source": [
    "pre_table = [['1#',1,'add 1 to R1', 1, (0,1,4,3)], ['','','',2, (13,4,2,5)], ['1##',2, 'add # to R1', 3, (1,4,5,3)]]\n",
    "parse_explain_with_tiles(pre_table)"
   ]
  },
  {
   "cell_type": "code",
   "execution_count": null,
   "metadata": {
    "id": "8A2epofNuFVm"
   },
   "outputs": [],
   "source": [
    "# codes below\n",
    "blank = 0\n",
    "diamond = 1\n",
    "heart = 2\n",
    "end_marker = 3\n",
    "one = 4\n",
    "hash = 5\n",
    "start = 6\n",
    "copy = 7\n",
    "frown = 8\n",
    "\n",
    "overhead = [(blank,blank,blank,blank), (blank,1,end_marker, start),\n",
    "            (diamond,one,diamond,one),(diamond,hash,diamond,hash),\n",
    "            (blank,one,diamond,blank),(heart,1,heart,1),\n",
    "            (heart,hash,heart,hash), (blank,hash,heart,hash),\n",
    "            (one,one,one,one), (one,one,hash,hash),\n",
    "            (hash,hash,one,one),(hash,hash,hash,hash),\n",
    "            (blank,blank,one,one),(blank,blank,hash,hash)]\n",
    "\n",
    "overhead_plus = [['','','','',x] for x in overhead]\n",
    "\n",
    "def add_tiles(parsed_prog,N):\n",
    "  k = len(parsed_prog)\n",
    "  yet_to_go = parsed_prog\n",
    "  already_done = []\n",
    "  tile_number = 1\n",
    "  for i in range(0,k):\n",
    "    j = i + N\n",
    "    top_pair = yet_to_go[0]\n",
    "    tuple = top_pair[0]\n",
    "    tp = instruction_type(tuple)\n",
    "    if tp == 'add1':\n",
    "        extension = [tuple,i+1,top_pair[1],tile_number+N,(diamond,j+2,end_marker,j+1)]\n",
    "        already_done = already_done + [extension]\n",
    "        tile_number = tile_number+ 1  \n",
    "    if tp == 'add#':\n",
    "        extension = [tuple,i+1,top_pair[1],tile_number+N,(heart,j+2,end_marker,j+1)]\n",
    "        already_done = already_done + [extension]\n",
    "        tile_number = tile_number+ 1 \n",
    "    if tp == 'forward':\n",
    "        m = len(tuple)-3\n",
    "        extension = [tuple,i+1,top_pair[1],tile_number+N,(copy,j+m+1,end_marker,j+1)]\n",
    "        already_done = already_done + [extension] \n",
    "        tile_number = tile_number+ 1   \n",
    "    if tp == 'backward':\n",
    "        m = len(tuple)-4\n",
    "        extension = [tuple,i+1,top_pair[1],tile_number+N,(copy,j-m+1,end_marker,j+1)]\n",
    "        already_done = already_done + [extension]\n",
    "        tile_number = tile_number+ 1    \n",
    "    if tp == 'cases':\n",
    "        extension1 = [tuple,i+1,top_pair[1],tile_number+N,(blank,frown,end_marker,j+1)]\n",
    "        extension2 = ['','','',tile_number+N+1,(one,j+3,end_marker,j+1)]\n",
    "        extension3 = ['','','',tile_number+N+2,(hash,j+4,end_marker,j+1)] \n",
    "        already_done = already_done + [extension1] + [extension2] + [extension3] \n",
    "        tile_number = tile_number+ 3\n",
    "    yet_to_go = yet_to_go[1:]\n",
    "  return(already_done)\n"
   ]
  },
  {
   "cell_type": "code",
   "execution_count": null,
   "metadata": {
    "colab": {
     "base_uri": "https://localhost:8080/",
     "height": 488
    },
    "id": "9Q2CLpP8w600",
    "outputId": "23797cb1-6001-4895-ed58-166d7a12e406"
   },
   "outputs": [
    {
     "data": {
      "text/html": [
       "<style type=\"text/css\">\n",
       "#T_ede18_row0_col0, #T_ede18_row0_col1, #T_ede18_row0_col2, #T_ede18_row0_col3, #T_ede18_row0_col4, #T_ede18_row1_col0, #T_ede18_row1_col1, #T_ede18_row1_col2, #T_ede18_row1_col3, #T_ede18_row1_col4, #T_ede18_row2_col0, #T_ede18_row2_col1, #T_ede18_row2_col2, #T_ede18_row2_col3, #T_ede18_row2_col4, #T_ede18_row3_col0, #T_ede18_row3_col1, #T_ede18_row3_col2, #T_ede18_row3_col3, #T_ede18_row3_col4, #T_ede18_row4_col0, #T_ede18_row4_col1, #T_ede18_row4_col2, #T_ede18_row4_col3, #T_ede18_row4_col4, #T_ede18_row5_col0, #T_ede18_row5_col1, #T_ede18_row5_col2, #T_ede18_row5_col3, #T_ede18_row5_col4, #T_ede18_row6_col0, #T_ede18_row6_col1, #T_ede18_row6_col2, #T_ede18_row6_col3, #T_ede18_row6_col4, #T_ede18_row7_col0, #T_ede18_row7_col1, #T_ede18_row7_col2, #T_ede18_row7_col3, #T_ede18_row7_col4, #T_ede18_row8_col0, #T_ede18_row8_col1, #T_ede18_row8_col2, #T_ede18_row8_col3, #T_ede18_row8_col4, #T_ede18_row9_col0, #T_ede18_row9_col1, #T_ede18_row9_col2, #T_ede18_row9_col3, #T_ede18_row9_col4, #T_ede18_row10_col0, #T_ede18_row10_col1, #T_ede18_row10_col2, #T_ede18_row10_col3, #T_ede18_row10_col4, #T_ede18_row11_col0, #T_ede18_row11_col1, #T_ede18_row11_col2, #T_ede18_row11_col3, #T_ede18_row11_col4, #T_ede18_row12_col0, #T_ede18_row12_col1, #T_ede18_row12_col2, #T_ede18_row12_col3, #T_ede18_row12_col4, #T_ede18_row13_col0, #T_ede18_row13_col1, #T_ede18_row13_col2, #T_ede18_row13_col3, #T_ede18_row13_col4 {\n",
       "  background-color: #C9DFEC;\n",
       "  text-align: left;\n",
       "  index: False;\n",
       "}\n",
       "</style>\n",
       "<table id=\"T_ede18_\" class=\"dataframe\">\n",
       "  <thead>\n",
       "    <tr>\n",
       "      <th class=\"blank level0\" >&nbsp;</th>\n",
       "      <th class=\"col_heading level0 col0\" >instr</th>\n",
       "      <th class=\"col_heading level0 col1\" > instr number</th>\n",
       "      <th class=\"col_heading level0 col2\" >explanation</th>\n",
       "      <th class=\"col_heading level0 col3\" >tile number</th>\n",
       "      <th class=\"col_heading level0 col4\" >tile</th>\n",
       "    </tr>\n",
       "  </thead>\n",
       "  <tbody>\n",
       "    <tr>\n",
       "      <th id=\"T_ede18_level0_row0\" class=\"row_heading level0 row0\" >1</th>\n",
       "      <td id=\"T_ede18_row0_col0\" class=\"data row0 col0\" ></td>\n",
       "      <td id=\"T_ede18_row0_col1\" class=\"data row0 col1\" ></td>\n",
       "      <td id=\"T_ede18_row0_col2\" class=\"data row0 col2\" ></td>\n",
       "      <td id=\"T_ede18_row0_col3\" class=\"data row0 col3\" ></td>\n",
       "      <td id=\"T_ede18_row0_col4\" class=\"data row0 col4\" >(0, 0, 0, 0)</td>\n",
       "    </tr>\n",
       "    <tr>\n",
       "      <th id=\"T_ede18_level0_row1\" class=\"row_heading level0 row1\" >2</th>\n",
       "      <td id=\"T_ede18_row1_col0\" class=\"data row1 col0\" ></td>\n",
       "      <td id=\"T_ede18_row1_col1\" class=\"data row1 col1\" ></td>\n",
       "      <td id=\"T_ede18_row1_col2\" class=\"data row1 col2\" ></td>\n",
       "      <td id=\"T_ede18_row1_col3\" class=\"data row1 col3\" ></td>\n",
       "      <td id=\"T_ede18_row1_col4\" class=\"data row1 col4\" >(0, 1, 3, 6)</td>\n",
       "    </tr>\n",
       "    <tr>\n",
       "      <th id=\"T_ede18_level0_row2\" class=\"row_heading level0 row2\" >3</th>\n",
       "      <td id=\"T_ede18_row2_col0\" class=\"data row2 col0\" ></td>\n",
       "      <td id=\"T_ede18_row2_col1\" class=\"data row2 col1\" ></td>\n",
       "      <td id=\"T_ede18_row2_col2\" class=\"data row2 col2\" ></td>\n",
       "      <td id=\"T_ede18_row2_col3\" class=\"data row2 col3\" ></td>\n",
       "      <td id=\"T_ede18_row2_col4\" class=\"data row2 col4\" >(1, 4, 1, 4)</td>\n",
       "    </tr>\n",
       "    <tr>\n",
       "      <th id=\"T_ede18_level0_row3\" class=\"row_heading level0 row3\" >4</th>\n",
       "      <td id=\"T_ede18_row3_col0\" class=\"data row3 col0\" ></td>\n",
       "      <td id=\"T_ede18_row3_col1\" class=\"data row3 col1\" ></td>\n",
       "      <td id=\"T_ede18_row3_col2\" class=\"data row3 col2\" ></td>\n",
       "      <td id=\"T_ede18_row3_col3\" class=\"data row3 col3\" ></td>\n",
       "      <td id=\"T_ede18_row3_col4\" class=\"data row3 col4\" >(1, 5, 1, 5)</td>\n",
       "    </tr>\n",
       "    <tr>\n",
       "      <th id=\"T_ede18_level0_row4\" class=\"row_heading level0 row4\" >5</th>\n",
       "      <td id=\"T_ede18_row4_col0\" class=\"data row4 col0\" ></td>\n",
       "      <td id=\"T_ede18_row4_col1\" class=\"data row4 col1\" ></td>\n",
       "      <td id=\"T_ede18_row4_col2\" class=\"data row4 col2\" ></td>\n",
       "      <td id=\"T_ede18_row4_col3\" class=\"data row4 col3\" ></td>\n",
       "      <td id=\"T_ede18_row4_col4\" class=\"data row4 col4\" >(0, 4, 1, 0)</td>\n",
       "    </tr>\n",
       "    <tr>\n",
       "      <th id=\"T_ede18_level0_row5\" class=\"row_heading level0 row5\" >6</th>\n",
       "      <td id=\"T_ede18_row5_col0\" class=\"data row5 col0\" ></td>\n",
       "      <td id=\"T_ede18_row5_col1\" class=\"data row5 col1\" ></td>\n",
       "      <td id=\"T_ede18_row5_col2\" class=\"data row5 col2\" ></td>\n",
       "      <td id=\"T_ede18_row5_col3\" class=\"data row5 col3\" ></td>\n",
       "      <td id=\"T_ede18_row5_col4\" class=\"data row5 col4\" >(2, 1, 2, 1)</td>\n",
       "    </tr>\n",
       "    <tr>\n",
       "      <th id=\"T_ede18_level0_row6\" class=\"row_heading level0 row6\" >7</th>\n",
       "      <td id=\"T_ede18_row6_col0\" class=\"data row6 col0\" ></td>\n",
       "      <td id=\"T_ede18_row6_col1\" class=\"data row6 col1\" ></td>\n",
       "      <td id=\"T_ede18_row6_col2\" class=\"data row6 col2\" ></td>\n",
       "      <td id=\"T_ede18_row6_col3\" class=\"data row6 col3\" ></td>\n",
       "      <td id=\"T_ede18_row6_col4\" class=\"data row6 col4\" >(2, 5, 2, 5)</td>\n",
       "    </tr>\n",
       "    <tr>\n",
       "      <th id=\"T_ede18_level0_row7\" class=\"row_heading level0 row7\" >8</th>\n",
       "      <td id=\"T_ede18_row7_col0\" class=\"data row7 col0\" ></td>\n",
       "      <td id=\"T_ede18_row7_col1\" class=\"data row7 col1\" ></td>\n",
       "      <td id=\"T_ede18_row7_col2\" class=\"data row7 col2\" ></td>\n",
       "      <td id=\"T_ede18_row7_col3\" class=\"data row7 col3\" ></td>\n",
       "      <td id=\"T_ede18_row7_col4\" class=\"data row7 col4\" >(0, 5, 2, 5)</td>\n",
       "    </tr>\n",
       "    <tr>\n",
       "      <th id=\"T_ede18_level0_row8\" class=\"row_heading level0 row8\" >9</th>\n",
       "      <td id=\"T_ede18_row8_col0\" class=\"data row8 col0\" ></td>\n",
       "      <td id=\"T_ede18_row8_col1\" class=\"data row8 col1\" ></td>\n",
       "      <td id=\"T_ede18_row8_col2\" class=\"data row8 col2\" ></td>\n",
       "      <td id=\"T_ede18_row8_col3\" class=\"data row8 col3\" ></td>\n",
       "      <td id=\"T_ede18_row8_col4\" class=\"data row8 col4\" >(4, 4, 4, 4)</td>\n",
       "    </tr>\n",
       "    <tr>\n",
       "      <th id=\"T_ede18_level0_row9\" class=\"row_heading level0 row9\" >10</th>\n",
       "      <td id=\"T_ede18_row9_col0\" class=\"data row9 col0\" ></td>\n",
       "      <td id=\"T_ede18_row9_col1\" class=\"data row9 col1\" ></td>\n",
       "      <td id=\"T_ede18_row9_col2\" class=\"data row9 col2\" ></td>\n",
       "      <td id=\"T_ede18_row9_col3\" class=\"data row9 col3\" ></td>\n",
       "      <td id=\"T_ede18_row9_col4\" class=\"data row9 col4\" >(4, 4, 5, 5)</td>\n",
       "    </tr>\n",
       "    <tr>\n",
       "      <th id=\"T_ede18_level0_row10\" class=\"row_heading level0 row10\" >11</th>\n",
       "      <td id=\"T_ede18_row10_col0\" class=\"data row10 col0\" ></td>\n",
       "      <td id=\"T_ede18_row10_col1\" class=\"data row10 col1\" ></td>\n",
       "      <td id=\"T_ede18_row10_col2\" class=\"data row10 col2\" ></td>\n",
       "      <td id=\"T_ede18_row10_col3\" class=\"data row10 col3\" ></td>\n",
       "      <td id=\"T_ede18_row10_col4\" class=\"data row10 col4\" >(5, 5, 4, 4)</td>\n",
       "    </tr>\n",
       "    <tr>\n",
       "      <th id=\"T_ede18_level0_row11\" class=\"row_heading level0 row11\" >12</th>\n",
       "      <td id=\"T_ede18_row11_col0\" class=\"data row11 col0\" ></td>\n",
       "      <td id=\"T_ede18_row11_col1\" class=\"data row11 col1\" ></td>\n",
       "      <td id=\"T_ede18_row11_col2\" class=\"data row11 col2\" ></td>\n",
       "      <td id=\"T_ede18_row11_col3\" class=\"data row11 col3\" ></td>\n",
       "      <td id=\"T_ede18_row11_col4\" class=\"data row11 col4\" >(5, 5, 5, 5)</td>\n",
       "    </tr>\n",
       "    <tr>\n",
       "      <th id=\"T_ede18_level0_row12\" class=\"row_heading level0 row12\" >13</th>\n",
       "      <td id=\"T_ede18_row12_col0\" class=\"data row12 col0\" ></td>\n",
       "      <td id=\"T_ede18_row12_col1\" class=\"data row12 col1\" ></td>\n",
       "      <td id=\"T_ede18_row12_col2\" class=\"data row12 col2\" ></td>\n",
       "      <td id=\"T_ede18_row12_col3\" class=\"data row12 col3\" ></td>\n",
       "      <td id=\"T_ede18_row12_col4\" class=\"data row12 col4\" >(0, 0, 4, 4)</td>\n",
       "    </tr>\n",
       "    <tr>\n",
       "      <th id=\"T_ede18_level0_row13\" class=\"row_heading level0 row13\" >14</th>\n",
       "      <td id=\"T_ede18_row13_col0\" class=\"data row13 col0\" ></td>\n",
       "      <td id=\"T_ede18_row13_col1\" class=\"data row13 col1\" ></td>\n",
       "      <td id=\"T_ede18_row13_col2\" class=\"data row13 col2\" ></td>\n",
       "      <td id=\"T_ede18_row13_col3\" class=\"data row13 col3\" ></td>\n",
       "      <td id=\"T_ede18_row13_col4\" class=\"data row13 col4\" >(0, 0, 5, 5)</td>\n",
       "    </tr>\n",
       "  </tbody>\n",
       "</table>\n"
      ],
      "text/plain": [
       "<pandas.io.formats.style.Styler at 0x7fb75089b3d0>"
      ]
     },
     "metadata": {},
     "output_type": "display_data"
    }
   ],
   "source": [
    "parse_explain_with_tiles(overhead_plus)"
   ]
  },
  {
   "cell_type": "code",
   "execution_count": null,
   "metadata": {
    "colab": {
     "base_uri": "https://localhost:8080/"
    },
    "id": "db5r6XMYtTOa",
    "outputId": "2f6ba936-523e-4769-9d98-ea9a72a11fc4"
   },
   "outputs": [
    {
     "data": {
      "text/plain": [
       "True"
      ]
     },
     "execution_count": 101,
     "metadata": {},
     "output_type": "execute_result"
    }
   ],
   "source": [
    "w == expanded(diag)"
   ]
  },
  {
   "cell_type": "code",
   "execution_count": null,
   "metadata": {
    "colab": {
     "base_uri": "https://localhost:8080/",
     "height": 1000
    },
    "id": "sKsmA7Ko9KVi",
    "outputId": "a9ef2dc3-bff1-4794-c875-2d1217316852"
   },
   "outputs": [
    {
     "data": {
      "text/html": [
       "<style type=\"text/css\">\n",
       "#T_9287a_row0_col0, #T_9287a_row0_col1, #T_9287a_row0_col2, #T_9287a_row0_col3, #T_9287a_row0_col4, #T_9287a_row1_col0, #T_9287a_row1_col1, #T_9287a_row1_col2, #T_9287a_row1_col3, #T_9287a_row1_col4, #T_9287a_row2_col0, #T_9287a_row2_col1, #T_9287a_row2_col2, #T_9287a_row2_col3, #T_9287a_row2_col4, #T_9287a_row3_col0, #T_9287a_row3_col1, #T_9287a_row3_col2, #T_9287a_row3_col3, #T_9287a_row3_col4, #T_9287a_row4_col0, #T_9287a_row4_col1, #T_9287a_row4_col2, #T_9287a_row4_col3, #T_9287a_row4_col4, #T_9287a_row5_col0, #T_9287a_row5_col1, #T_9287a_row5_col2, #T_9287a_row5_col3, #T_9287a_row5_col4, #T_9287a_row6_col0, #T_9287a_row6_col1, #T_9287a_row6_col2, #T_9287a_row6_col3, #T_9287a_row6_col4, #T_9287a_row7_col0, #T_9287a_row7_col1, #T_9287a_row7_col2, #T_9287a_row7_col3, #T_9287a_row7_col4, #T_9287a_row8_col0, #T_9287a_row8_col1, #T_9287a_row8_col2, #T_9287a_row8_col3, #T_9287a_row8_col4, #T_9287a_row9_col0, #T_9287a_row9_col1, #T_9287a_row9_col2, #T_9287a_row9_col3, #T_9287a_row9_col4, #T_9287a_row10_col0, #T_9287a_row10_col1, #T_9287a_row10_col2, #T_9287a_row10_col3, #T_9287a_row10_col4, #T_9287a_row11_col0, #T_9287a_row11_col1, #T_9287a_row11_col2, #T_9287a_row11_col3, #T_9287a_row11_col4, #T_9287a_row12_col0, #T_9287a_row12_col1, #T_9287a_row12_col2, #T_9287a_row12_col3, #T_9287a_row12_col4, #T_9287a_row13_col0, #T_9287a_row13_col1, #T_9287a_row13_col2, #T_9287a_row13_col3, #T_9287a_row13_col4, #T_9287a_row14_col0, #T_9287a_row14_col1, #T_9287a_row14_col2, #T_9287a_row14_col3, #T_9287a_row14_col4, #T_9287a_row15_col0, #T_9287a_row15_col1, #T_9287a_row15_col2, #T_9287a_row15_col3, #T_9287a_row15_col4, #T_9287a_row16_col0, #T_9287a_row16_col1, #T_9287a_row16_col2, #T_9287a_row16_col3, #T_9287a_row16_col4, #T_9287a_row17_col0, #T_9287a_row17_col1, #T_9287a_row17_col2, #T_9287a_row17_col3, #T_9287a_row17_col4, #T_9287a_row18_col0, #T_9287a_row18_col1, #T_9287a_row18_col2, #T_9287a_row18_col3, #T_9287a_row18_col4, #T_9287a_row19_col0, #T_9287a_row19_col1, #T_9287a_row19_col2, #T_9287a_row19_col3, #T_9287a_row19_col4, #T_9287a_row20_col0, #T_9287a_row20_col1, #T_9287a_row20_col2, #T_9287a_row20_col3, #T_9287a_row20_col4, #T_9287a_row21_col0, #T_9287a_row21_col1, #T_9287a_row21_col2, #T_9287a_row21_col3, #T_9287a_row21_col4, #T_9287a_row22_col0, #T_9287a_row22_col1, #T_9287a_row22_col2, #T_9287a_row22_col3, #T_9287a_row22_col4, #T_9287a_row23_col0, #T_9287a_row23_col1, #T_9287a_row23_col2, #T_9287a_row23_col3, #T_9287a_row23_col4, #T_9287a_row24_col0, #T_9287a_row24_col1, #T_9287a_row24_col2, #T_9287a_row24_col3, #T_9287a_row24_col4, #T_9287a_row25_col0, #T_9287a_row25_col1, #T_9287a_row25_col2, #T_9287a_row25_col3, #T_9287a_row25_col4, #T_9287a_row26_col0, #T_9287a_row26_col1, #T_9287a_row26_col2, #T_9287a_row26_col3, #T_9287a_row26_col4, #T_9287a_row27_col0, #T_9287a_row27_col1, #T_9287a_row27_col2, #T_9287a_row27_col3, #T_9287a_row27_col4, #T_9287a_row28_col0, #T_9287a_row28_col1, #T_9287a_row28_col2, #T_9287a_row28_col3, #T_9287a_row28_col4, #T_9287a_row29_col0, #T_9287a_row29_col1, #T_9287a_row29_col2, #T_9287a_row29_col3, #T_9287a_row29_col4, #T_9287a_row30_col0, #T_9287a_row30_col1, #T_9287a_row30_col2, #T_9287a_row30_col3, #T_9287a_row30_col4, #T_9287a_row31_col0, #T_9287a_row31_col1, #T_9287a_row31_col2, #T_9287a_row31_col3, #T_9287a_row31_col4 {\n",
       "  background-color: #C9DFEC;\n",
       "  text-align: left;\n",
       "  index: False;\n",
       "}\n",
       "</style>\n",
       "<table id=\"T_9287a_\" class=\"dataframe\">\n",
       "  <thead>\n",
       "    <tr>\n",
       "      <th class=\"blank level0\" >&nbsp;</th>\n",
       "      <th class=\"col_heading level0 col0\" >instr</th>\n",
       "      <th class=\"col_heading level0 col1\" > instr number</th>\n",
       "      <th class=\"col_heading level0 col2\" >explanation</th>\n",
       "      <th class=\"col_heading level0 col3\" >tile number</th>\n",
       "      <th class=\"col_heading level0 col4\" >tile</th>\n",
       "    </tr>\n",
       "  </thead>\n",
       "  <tbody>\n",
       "    <tr>\n",
       "      <th id=\"T_9287a_level0_row0\" class=\"row_heading level0 row0\" >1</th>\n",
       "      <td id=\"T_9287a_row0_col0\" class=\"data row0 col0\" >1#####</td>\n",
       "      <td id=\"T_9287a_row0_col1\" class=\"data row0 col1\" >1</td>\n",
       "      <td id=\"T_9287a_row0_col2\" class=\"data row0 col2\" >cases on R1</td>\n",
       "      <td id=\"T_9287a_row0_col3\" class=\"data row0 col3\" >15</td>\n",
       "      <td id=\"T_9287a_row0_col4\" class=\"data row0 col4\" >(0, 8, 3, 15)</td>\n",
       "    </tr>\n",
       "    <tr>\n",
       "      <th id=\"T_9287a_level0_row1\" class=\"row_heading level0 row1\" >2</th>\n",
       "      <td id=\"T_9287a_row1_col0\" class=\"data row1 col0\" ></td>\n",
       "      <td id=\"T_9287a_row1_col1\" class=\"data row1 col1\" ></td>\n",
       "      <td id=\"T_9287a_row1_col2\" class=\"data row1 col2\" ></td>\n",
       "      <td id=\"T_9287a_row1_col3\" class=\"data row1 col3\" >16</td>\n",
       "      <td id=\"T_9287a_row1_col4\" class=\"data row1 col4\" >(4, 17, 3, 15)</td>\n",
       "    </tr>\n",
       "    <tr>\n",
       "      <th id=\"T_9287a_level0_row2\" class=\"row_heading level0 row2\" >3</th>\n",
       "      <td id=\"T_9287a_row2_col0\" class=\"data row2 col0\" ></td>\n",
       "      <td id=\"T_9287a_row2_col1\" class=\"data row2 col1\" ></td>\n",
       "      <td id=\"T_9287a_row2_col2\" class=\"data row2 col2\" ></td>\n",
       "      <td id=\"T_9287a_row2_col3\" class=\"data row2 col3\" >17</td>\n",
       "      <td id=\"T_9287a_row2_col4\" class=\"data row2 col4\" >(5, 18, 3, 15)</td>\n",
       "    </tr>\n",
       "    <tr>\n",
       "      <th id=\"T_9287a_level0_row3\" class=\"row_heading level0 row3\" >4</th>\n",
       "      <td id=\"T_9287a_row3_col0\" class=\"data row3 col0\" >11111111111###</td>\n",
       "      <td id=\"T_9287a_row3_col1\" class=\"data row3 col1\" >2</td>\n",
       "      <td id=\"T_9287a_row3_col2\" class=\"data row3 col2\" >go forward 11 to instruction 13</td>\n",
       "      <td id=\"T_9287a_row3_col3\" class=\"data row3 col3\" >18</td>\n",
       "      <td id=\"T_9287a_row3_col4\" class=\"data row3 col4\" >(7, 27, 3, 16)</td>\n",
       "    </tr>\n",
       "    <tr>\n",
       "      <th id=\"T_9287a_level0_row4\" class=\"row_heading level0 row4\" >5</th>\n",
       "      <td id=\"T_9287a_row4_col0\" class=\"data row4 col0\" >111111###</td>\n",
       "      <td id=\"T_9287a_row4_col1\" class=\"data row4 col1\" >3</td>\n",
       "      <td id=\"T_9287a_row4_col2\" class=\"data row4 col2\" >go forward 6 to instruction 9</td>\n",
       "      <td id=\"T_9287a_row4_col3\" class=\"data row4 col3\" >19</td>\n",
       "      <td id=\"T_9287a_row4_col4\" class=\"data row4 col4\" >(7, 23, 3, 17)</td>\n",
       "    </tr>\n",
       "    <tr>\n",
       "      <th id=\"T_9287a_level0_row5\" class=\"row_heading level0 row5\" >6</th>\n",
       "      <td id=\"T_9287a_row5_col0\" class=\"data row5 col0\" >11##</td>\n",
       "      <td id=\"T_9287a_row5_col1\" class=\"data row5 col1\" >4</td>\n",
       "      <td id=\"T_9287a_row5_col2\" class=\"data row5 col2\" >add # to R2</td>\n",
       "      <td id=\"T_9287a_row5_col3\" class=\"data row5 col3\" >20</td>\n",
       "      <td id=\"T_9287a_row5_col4\" class=\"data row5 col4\" >(2, 19, 3, 18)</td>\n",
       "    </tr>\n",
       "    <tr>\n",
       "      <th id=\"T_9287a_level0_row6\" class=\"row_heading level0 row6\" >7</th>\n",
       "      <td id=\"T_9287a_row6_col0\" class=\"data row6 col0\" >111#</td>\n",
       "      <td id=\"T_9287a_row6_col1\" class=\"data row6 col1\" >5</td>\n",
       "      <td id=\"T_9287a_row6_col2\" class=\"data row6 col2\" >add 1 to R3</td>\n",
       "      <td id=\"T_9287a_row6_col3\" class=\"data row6 col3\" >21</td>\n",
       "      <td id=\"T_9287a_row6_col4\" class=\"data row6 col4\" >(1, 20, 3, 19)</td>\n",
       "    </tr>\n",
       "    <tr>\n",
       "      <th id=\"T_9287a_level0_row7\" class=\"row_heading level0 row7\" >8</th>\n",
       "      <td id=\"T_9287a_row7_col0\" class=\"data row7 col0\" >111##</td>\n",
       "      <td id=\"T_9287a_row7_col1\" class=\"data row7 col1\" >6</td>\n",
       "      <td id=\"T_9287a_row7_col2\" class=\"data row7 col2\" >add # to R3</td>\n",
       "      <td id=\"T_9287a_row7_col3\" class=\"data row7 col3\" >22</td>\n",
       "      <td id=\"T_9287a_row7_col4\" class=\"data row7 col4\" >(2, 21, 3, 20)</td>\n",
       "    </tr>\n",
       "    <tr>\n",
       "      <th id=\"T_9287a_level0_row8\" class=\"row_heading level0 row8\" >9</th>\n",
       "      <td id=\"T_9287a_row8_col0\" class=\"data row8 col0\" >111##</td>\n",
       "      <td id=\"T_9287a_row8_col1\" class=\"data row8 col1\" >7</td>\n",
       "      <td id=\"T_9287a_row8_col2\" class=\"data row8 col2\" >add # to R3</td>\n",
       "      <td id=\"T_9287a_row8_col3\" class=\"data row8 col3\" >23</td>\n",
       "      <td id=\"T_9287a_row8_col4\" class=\"data row8 col4\" >(2, 22, 3, 21)</td>\n",
       "    </tr>\n",
       "    <tr>\n",
       "      <th id=\"T_9287a_level0_row9\" class=\"row_heading level0 row9\" >10</th>\n",
       "      <td id=\"T_9287a_row9_col0\" class=\"data row9 col0\" >1111111####</td>\n",
       "      <td id=\"T_9287a_row9_col1\" class=\"data row9 col1\" >8</td>\n",
       "      <td id=\"T_9287a_row9_col2\" class=\"data row9 col2\" >go backward 7 to instruction 1</td>\n",
       "      <td id=\"T_9287a_row9_col3\" class=\"data row9 col3\" >24</td>\n",
       "      <td id=\"T_9287a_row9_col4\" class=\"data row9 col4\" >(7, 15, 3, 22)</td>\n",
       "    </tr>\n",
       "    <tr>\n",
       "      <th id=\"T_9287a_level0_row10\" class=\"row_heading level0 row10\" >11</th>\n",
       "      <td id=\"T_9287a_row10_col0\" class=\"data row10 col0\" >11#</td>\n",
       "      <td id=\"T_9287a_row10_col1\" class=\"data row10 col1\" >9</td>\n",
       "      <td id=\"T_9287a_row10_col2\" class=\"data row10 col2\" >add 1 to R2</td>\n",
       "      <td id=\"T_9287a_row10_col3\" class=\"data row10 col3\" >25</td>\n",
       "      <td id=\"T_9287a_row10_col4\" class=\"data row10 col4\" >(1, 24, 3, 23)</td>\n",
       "    </tr>\n",
       "    <tr>\n",
       "      <th id=\"T_9287a_level0_row11\" class=\"row_heading level0 row11\" >12</th>\n",
       "      <td id=\"T_9287a_row11_col0\" class=\"data row11 col0\" >111#</td>\n",
       "      <td id=\"T_9287a_row11_col1\" class=\"data row11 col1\" >10</td>\n",
       "      <td id=\"T_9287a_row11_col2\" class=\"data row11 col2\" >add 1 to R3</td>\n",
       "      <td id=\"T_9287a_row11_col3\" class=\"data row11 col3\" >26</td>\n",
       "      <td id=\"T_9287a_row11_col4\" class=\"data row11 col4\" >(1, 25, 3, 24)</td>\n",
       "    </tr>\n",
       "    <tr>\n",
       "      <th id=\"T_9287a_level0_row12\" class=\"row_heading level0 row12\" >13</th>\n",
       "      <td id=\"T_9287a_row12_col0\" class=\"data row12 col0\" >111##</td>\n",
       "      <td id=\"T_9287a_row12_col1\" class=\"data row12 col1\" >11</td>\n",
       "      <td id=\"T_9287a_row12_col2\" class=\"data row12 col2\" >add # to R3</td>\n",
       "      <td id=\"T_9287a_row12_col3\" class=\"data row12 col3\" >27</td>\n",
       "      <td id=\"T_9287a_row12_col4\" class=\"data row12 col4\" >(2, 26, 3, 25)</td>\n",
       "    </tr>\n",
       "    <tr>\n",
       "      <th id=\"T_9287a_level0_row13\" class=\"row_heading level0 row13\" >14</th>\n",
       "      <td id=\"T_9287a_row13_col0\" class=\"data row13 col0\" >1111####</td>\n",
       "      <td id=\"T_9287a_row13_col1\" class=\"data row13 col1\" >12</td>\n",
       "      <td id=\"T_9287a_row13_col2\" class=\"data row13 col2\" >go backward 4 to instruction 8</td>\n",
       "      <td id=\"T_9287a_row13_col3\" class=\"data row13 col3\" >28</td>\n",
       "      <td id=\"T_9287a_row13_col4\" class=\"data row13 col4\" >(7, 22, 3, 26)</td>\n",
       "    </tr>\n",
       "    <tr>\n",
       "      <th id=\"T_9287a_level0_row14\" class=\"row_heading level0 row14\" >15</th>\n",
       "      <td id=\"T_9287a_row14_col0\" class=\"data row14 col0\" >111#####</td>\n",
       "      <td id=\"T_9287a_row14_col1\" class=\"data row14 col1\" >13</td>\n",
       "      <td id=\"T_9287a_row14_col2\" class=\"data row14 col2\" >cases on R3</td>\n",
       "      <td id=\"T_9287a_row14_col3\" class=\"data row14 col3\" >29</td>\n",
       "      <td id=\"T_9287a_row14_col4\" class=\"data row14 col4\" >(0, 8, 3, 27)</td>\n",
       "    </tr>\n",
       "    <tr>\n",
       "      <th id=\"T_9287a_level0_row15\" class=\"row_heading level0 row15\" >16</th>\n",
       "      <td id=\"T_9287a_row15_col0\" class=\"data row15 col0\" ></td>\n",
       "      <td id=\"T_9287a_row15_col1\" class=\"data row15 col1\" ></td>\n",
       "      <td id=\"T_9287a_row15_col2\" class=\"data row15 col2\" ></td>\n",
       "      <td id=\"T_9287a_row15_col3\" class=\"data row15 col3\" >30</td>\n",
       "      <td id=\"T_9287a_row15_col4\" class=\"data row15 col4\" >(4, 29, 3, 27)</td>\n",
       "    </tr>\n",
       "    <tr>\n",
       "      <th id=\"T_9287a_level0_row16\" class=\"row_heading level0 row16\" >17</th>\n",
       "      <td id=\"T_9287a_row16_col0\" class=\"data row16 col0\" ></td>\n",
       "      <td id=\"T_9287a_row16_col1\" class=\"data row16 col1\" ></td>\n",
       "      <td id=\"T_9287a_row16_col2\" class=\"data row16 col2\" ></td>\n",
       "      <td id=\"T_9287a_row16_col3\" class=\"data row16 col3\" >31</td>\n",
       "      <td id=\"T_9287a_row16_col4\" class=\"data row16 col4\" >(5, 30, 3, 27)</td>\n",
       "    </tr>\n",
       "    <tr>\n",
       "      <th id=\"T_9287a_level0_row17\" class=\"row_heading level0 row17\" >18</th>\n",
       "      <td id=\"T_9287a_row17_col0\" class=\"data row17 col0\" >111111###</td>\n",
       "      <td id=\"T_9287a_row17_col1\" class=\"data row17 col1\" >14</td>\n",
       "      <td id=\"T_9287a_row17_col2\" class=\"data row17 col2\" >go forward 6 to instruction 20</td>\n",
       "      <td id=\"T_9287a_row17_col3\" class=\"data row17 col3\" >32</td>\n",
       "      <td id=\"T_9287a_row17_col4\" class=\"data row17 col4\" >(7, 34, 3, 28)</td>\n",
       "    </tr>\n",
       "    <tr>\n",
       "      <th id=\"T_9287a_level0_row18\" class=\"row_heading level0 row18\" >19</th>\n",
       "      <td id=\"T_9287a_row18_col0\" class=\"data row18 col0\" >111###</td>\n",
       "      <td id=\"T_9287a_row18_col1\" class=\"data row18 col1\" >15</td>\n",
       "      <td id=\"T_9287a_row18_col2\" class=\"data row18 col2\" >go forward 3 to instruction 18</td>\n",
       "      <td id=\"T_9287a_row18_col3\" class=\"data row18 col3\" >33</td>\n",
       "      <td id=\"T_9287a_row18_col4\" class=\"data row18 col4\" >(7, 32, 3, 29)</td>\n",
       "    </tr>\n",
       "    <tr>\n",
       "      <th id=\"T_9287a_level0_row19\" class=\"row_heading level0 row19\" >20</th>\n",
       "      <td id=\"T_9287a_row19_col0\" class=\"data row19 col0\" >1##</td>\n",
       "      <td id=\"T_9287a_row19_col1\" class=\"data row19 col1\" >16</td>\n",
       "      <td id=\"T_9287a_row19_col2\" class=\"data row19 col2\" >add # to R1</td>\n",
       "      <td id=\"T_9287a_row19_col3\" class=\"data row19 col3\" >34</td>\n",
       "      <td id=\"T_9287a_row19_col4\" class=\"data row19 col4\" >(2, 31, 3, 30)</td>\n",
       "    </tr>\n",
       "    <tr>\n",
       "      <th id=\"T_9287a_level0_row20\" class=\"row_heading level0 row20\" >21</th>\n",
       "      <td id=\"T_9287a_row20_col0\" class=\"data row20 col0\" >1111####</td>\n",
       "      <td id=\"T_9287a_row20_col1\" class=\"data row20 col1\" >17</td>\n",
       "      <td id=\"T_9287a_row20_col2\" class=\"data row20 col2\" >go backward 4 to instruction 13</td>\n",
       "      <td id=\"T_9287a_row20_col3\" class=\"data row20 col3\" >35</td>\n",
       "      <td id=\"T_9287a_row20_col4\" class=\"data row20 col4\" >(7, 27, 3, 31)</td>\n",
       "    </tr>\n",
       "    <tr>\n",
       "      <th id=\"T_9287a_level0_row21\" class=\"row_heading level0 row21\" >22</th>\n",
       "      <td id=\"T_9287a_row21_col0\" class=\"data row21 col0\" >1#</td>\n",
       "      <td id=\"T_9287a_row21_col1\" class=\"data row21 col1\" >18</td>\n",
       "      <td id=\"T_9287a_row21_col2\" class=\"data row21 col2\" >add 1 to R1</td>\n",
       "      <td id=\"T_9287a_row21_col3\" class=\"data row21 col3\" >36</td>\n",
       "      <td id=\"T_9287a_row21_col4\" class=\"data row21 col4\" >(1, 33, 3, 32)</td>\n",
       "    </tr>\n",
       "    <tr>\n",
       "      <th id=\"T_9287a_level0_row22\" class=\"row_heading level0 row22\" >23</th>\n",
       "      <td id=\"T_9287a_row22_col0\" class=\"data row22 col0\" >11####</td>\n",
       "      <td id=\"T_9287a_row22_col1\" class=\"data row22 col1\" >19</td>\n",
       "      <td id=\"T_9287a_row22_col2\" class=\"data row22 col2\" >go backward 2 to instruction 17</td>\n",
       "      <td id=\"T_9287a_row22_col3\" class=\"data row22 col3\" >37</td>\n",
       "      <td id=\"T_9287a_row22_col4\" class=\"data row22 col4\" >(7, 31, 3, 33)</td>\n",
       "    </tr>\n",
       "    <tr>\n",
       "      <th id=\"T_9287a_level0_row23\" class=\"row_heading level0 row23\" >24</th>\n",
       "      <td id=\"T_9287a_row23_col0\" class=\"data row23 col0\" >11#####</td>\n",
       "      <td id=\"T_9287a_row23_col1\" class=\"data row23 col1\" >20</td>\n",
       "      <td id=\"T_9287a_row23_col2\" class=\"data row23 col2\" >cases on R2</td>\n",
       "      <td id=\"T_9287a_row23_col3\" class=\"data row23 col3\" >38</td>\n",
       "      <td id=\"T_9287a_row23_col4\" class=\"data row23 col4\" >(0, 8, 3, 34)</td>\n",
       "    </tr>\n",
       "    <tr>\n",
       "      <th id=\"T_9287a_level0_row24\" class=\"row_heading level0 row24\" >25</th>\n",
       "      <td id=\"T_9287a_row24_col0\" class=\"data row24 col0\" ></td>\n",
       "      <td id=\"T_9287a_row24_col1\" class=\"data row24 col1\" ></td>\n",
       "      <td id=\"T_9287a_row24_col2\" class=\"data row24 col2\" ></td>\n",
       "      <td id=\"T_9287a_row24_col3\" class=\"data row24 col3\" >39</td>\n",
       "      <td id=\"T_9287a_row24_col4\" class=\"data row24 col4\" >(4, 36, 3, 34)</td>\n",
       "    </tr>\n",
       "    <tr>\n",
       "      <th id=\"T_9287a_level0_row25\" class=\"row_heading level0 row25\" >26</th>\n",
       "      <td id=\"T_9287a_row25_col0\" class=\"data row25 col0\" ></td>\n",
       "      <td id=\"T_9287a_row25_col1\" class=\"data row25 col1\" ></td>\n",
       "      <td id=\"T_9287a_row25_col2\" class=\"data row25 col2\" ></td>\n",
       "      <td id=\"T_9287a_row25_col3\" class=\"data row25 col3\" >40</td>\n",
       "      <td id=\"T_9287a_row25_col4\" class=\"data row25 col4\" >(5, 37, 3, 34)</td>\n",
       "    </tr>\n",
       "    <tr>\n",
       "      <th id=\"T_9287a_level0_row26\" class=\"row_heading level0 row26\" >27</th>\n",
       "      <td id=\"T_9287a_row26_col0\" class=\"data row26 col0\" >111111###</td>\n",
       "      <td id=\"T_9287a_row26_col1\" class=\"data row26 col1\" >21</td>\n",
       "      <td id=\"T_9287a_row26_col2\" class=\"data row26 col2\" >go forward 6 to instruction 27</td>\n",
       "      <td id=\"T_9287a_row26_col3\" class=\"data row26 col3\" >41</td>\n",
       "      <td id=\"T_9287a_row26_col4\" class=\"data row26 col4\" >(7, 41, 3, 35)</td>\n",
       "    </tr>\n",
       "    <tr>\n",
       "      <th id=\"T_9287a_level0_row27\" class=\"row_heading level0 row27\" >28</th>\n",
       "      <td id=\"T_9287a_row27_col0\" class=\"data row27 col0\" >111###</td>\n",
       "      <td id=\"T_9287a_row27_col1\" class=\"data row27 col1\" >22</td>\n",
       "      <td id=\"T_9287a_row27_col2\" class=\"data row27 col2\" >go forward 3 to instruction 25</td>\n",
       "      <td id=\"T_9287a_row27_col3\" class=\"data row27 col3\" >42</td>\n",
       "      <td id=\"T_9287a_row27_col4\" class=\"data row27 col4\" >(7, 39, 3, 36)</td>\n",
       "    </tr>\n",
       "    <tr>\n",
       "      <th id=\"T_9287a_level0_row28\" class=\"row_heading level0 row28\" >29</th>\n",
       "      <td id=\"T_9287a_row28_col0\" class=\"data row28 col0\" >1##</td>\n",
       "      <td id=\"T_9287a_row28_col1\" class=\"data row28 col1\" >23</td>\n",
       "      <td id=\"T_9287a_row28_col2\" class=\"data row28 col2\" >add # to R1</td>\n",
       "      <td id=\"T_9287a_row28_col3\" class=\"data row28 col3\" >43</td>\n",
       "      <td id=\"T_9287a_row28_col4\" class=\"data row28 col4\" >(2, 38, 3, 37)</td>\n",
       "    </tr>\n",
       "    <tr>\n",
       "      <th id=\"T_9287a_level0_row29\" class=\"row_heading level0 row29\" >30</th>\n",
       "      <td id=\"T_9287a_row29_col0\" class=\"data row29 col0\" >1111####</td>\n",
       "      <td id=\"T_9287a_row29_col1\" class=\"data row29 col1\" >24</td>\n",
       "      <td id=\"T_9287a_row29_col2\" class=\"data row29 col2\" >go backward 4 to instruction 20</td>\n",
       "      <td id=\"T_9287a_row29_col3\" class=\"data row29 col3\" >44</td>\n",
       "      <td id=\"T_9287a_row29_col4\" class=\"data row29 col4\" >(7, 34, 3, 38)</td>\n",
       "    </tr>\n",
       "    <tr>\n",
       "      <th id=\"T_9287a_level0_row30\" class=\"row_heading level0 row30\" >31</th>\n",
       "      <td id=\"T_9287a_row30_col0\" class=\"data row30 col0\" >1#</td>\n",
       "      <td id=\"T_9287a_row30_col1\" class=\"data row30 col1\" >25</td>\n",
       "      <td id=\"T_9287a_row30_col2\" class=\"data row30 col2\" >add 1 to R1</td>\n",
       "      <td id=\"T_9287a_row30_col3\" class=\"data row30 col3\" >45</td>\n",
       "      <td id=\"T_9287a_row30_col4\" class=\"data row30 col4\" >(1, 40, 3, 39)</td>\n",
       "    </tr>\n",
       "    <tr>\n",
       "      <th id=\"T_9287a_level0_row31\" class=\"row_heading level0 row31\" >32</th>\n",
       "      <td id=\"T_9287a_row31_col0\" class=\"data row31 col0\" >11####</td>\n",
       "      <td id=\"T_9287a_row31_col1\" class=\"data row31 col1\" >26</td>\n",
       "      <td id=\"T_9287a_row31_col2\" class=\"data row31 col2\" >go backward 2 to instruction 24</td>\n",
       "      <td id=\"T_9287a_row31_col3\" class=\"data row31 col3\" >46</td>\n",
       "      <td id=\"T_9287a_row31_col4\" class=\"data row31 col4\" >(7, 38, 3, 40)</td>\n",
       "    </tr>\n",
       "  </tbody>\n",
       "</table>\n"
      ],
      "text/plain": [
       "<pandas.io.formats.style.Styler at 0x7fb7508da390>"
      ]
     },
     "metadata": {},
     "output_type": "display_data"
    }
   ],
   "source": [
    "parse_explain_with_tiles(add_tiles(w,14))"
   ]
  },
  {
   "cell_type": "code",
   "execution_count": null,
   "metadata": {
    "id": "YNL3EZLQEA3L"
   },
   "outputs": [],
   "source": [
    "def just_the_tiles(p):\n",
    "  q = expanded(p)\n",
    "  L = len(overhead)\n",
    "  z = add_tiles(q,L)\n",
    "  return(overhead + [x[-1] for x in z])"
   ]
  },
  {
   "cell_type": "code",
   "execution_count": null,
   "metadata": {
    "colab": {
     "base_uri": "https://localhost:8080/"
    },
    "id": "NC6SUjPoFNdB",
    "outputId": "33210b5f-4a0c-471d-be67-aee7543580c6"
   },
   "outputs": [
    {
     "data": {
      "text/plain": [
       "[(0, 0, 0, 0),\n",
       " (0, 1, 3, 6),\n",
       " (1, 4, 1, 4),\n",
       " (1, 5, 1, 5),\n",
       " (0, 4, 1, 0),\n",
       " (2, 1, 2, 1),\n",
       " (2, 5, 2, 5),\n",
       " (0, 5, 2, 5),\n",
       " (4, 4, 4, 4),\n",
       " (4, 4, 5, 5),\n",
       " (5, 5, 4, 4),\n",
       " (5, 5, 5, 5),\n",
       " (0, 0, 4, 4),\n",
       " (0, 0, 5, 5),\n",
       " (1, 16, 3, 15),\n",
       " (1, 17, 3, 16),\n",
       " (2, 18, 3, 17)]"
      ]
     },
     "execution_count": 116,
     "metadata": {},
     "output_type": "execute_result"
    }
   ],
   "source": [
    "just_the_tiles('1#1#1##')"
   ]
  },
  {
   "cell_type": "code",
   "execution_count": null,
   "metadata": {
    "colab": {
     "base_uri": "https://localhost:8080/"
    },
    "id": "vLLgCfbCEUUG",
    "outputId": "ef49a13c-3926-45f8-84e7-6da2cd04824f"
   },
   "outputs": [
    {
     "data": {
      "text/plain": [
       "[(0, 8, 3, 1),\n",
       " (4, 3, 3, 1),\n",
       " (5, 4, 3, 1),\n",
       " (7, 13, 3, 2),\n",
       " (7, 9, 3, 3),\n",
       " (2, 5, 3, 4),\n",
       " (1, 6, 3, 5),\n",
       " (2, 7, 3, 6),\n",
       " (2, 8, 3, 7),\n",
       " (7, 1, 3, 8),\n",
       " (1, 10, 3, 9),\n",
       " (1, 11, 3, 10),\n",
       " (2, 12, 3, 11),\n",
       " (7, 8, 3, 12),\n",
       " (0, 8, 3, 13),\n",
       " (4, 15, 3, 13),\n",
       " (5, 16, 3, 13),\n",
       " (7, 20, 3, 14),\n",
       " (7, 18, 3, 15),\n",
       " (2, 17, 3, 16),\n",
       " (7, 13, 3, 17),\n",
       " (1, 19, 3, 18),\n",
       " (7, 17, 3, 19),\n",
       " (0, 8, 3, 20),\n",
       " (4, 22, 3, 20),\n",
       " (5, 23, 3, 20),\n",
       " (7, 27, 3, 21),\n",
       " (7, 25, 3, 22),\n",
       " (2, 24, 3, 23),\n",
       " (7, 20, 3, 24),\n",
       " (1, 26, 3, 25),\n",
       " (7, 24, 3, 26)]"
      ]
     },
     "execution_count": 110,
     "metadata": {},
     "output_type": "execute_result"
    }
   ],
   "source": [
    "[x[-1] for x in add_tiles(expanded(diag),14)]"
   ]
  },
  {
   "cell_type": "code",
   "execution_count": null,
   "metadata": {
    "id": "LP71wIIQ8Qmn"
   },
   "outputs": [],
   "source": [
    "fimport pandas as pd\n",
    "from IPython.display import display\n",
    "import numpy as np\n",
    "\n",
    "def program_checker(str):\n",
    "    m = len(str)\n",
    "    x1 = str[m - 1] == '#'\n",
    "    x2 = all((str[i] == '1' or str[i] == '#') for i in range(m))\n",
    "    x3 = (str.find('######') == -1)\n",
    "    if (x1 and x2 and x3):\n",
    "        flag = True\n",
    "    else:\n",
    "        flag = False\n",
    "        print('The input ' + str + ' is not a valid 1# program.')\n",
    "        print('It is not the concatenation of a sequence of instructions in the language.')\n",
    "        print('So what you are asking for is undefined.')\n",
    "    return (flag)\n",
    "\n",
    "def one_or_sharp_check(letter):\n",
    "    if (letter==\"1\" or letter==\"#\"):\n",
    "        return(True)\n",
    "    else:\n",
    "        return(False)\n",
    "\n",
    "def word_checker(strg):\n",
    "    answer = all([one_or_sharp_check(x)==True for x in strg])\n",
    "    return(answer)\n",
    "\n",
    "def input_checker(input_seq):\n",
    "    seq = [word_checker(x) for x in input_seq]\n",
    "    flag = all([word_checker(x) for x in input_seq])\n",
    "    if not flag:\n",
    "        print('The input sequence contains words with characters other than 1 and #.')\n",
    "        print('So what you are asking for is undefined.')\n",
    "    return(flag)\n",
    "                                                                                \n",
    "class Augmented:\n",
    "    def __init__(self, string, remainders):\n",
    "        self.string = string\n",
    "        self.remainders = remainders\n",
    "\n",
    "class Snapshot:\n",
    "    def __init__(self, instr_number, regs, proceed,verbose,program_length, step_number):\n",
    "        self.instr_number = instr_number\n",
    "        self.regs = regs\n",
    "        self.proceed = proceed\n",
    "        self.verbose = verbose\n",
    "        self.program_length = program_length\n",
    "        self.step_number = step_number\n",
    "        \n",
    "def preparse(xstr):\n",
    "    b = xstr.string.find('#1')\n",
    "    xstr.remainders = xstr.remainders + [xstr.string[:(b + 1)]]\n",
    "    xstr.string = xstr.string[(b + 1):]\n",
    "    return (xstr)\n",
    "\n",
    "\n",
    "\n",
    "def parse(y):\n",
    "    tempx = Augmented(y, [])\n",
    "    while tempx.string.find('#1') >= 0:\n",
    "        tempx = preparse(tempx)\n",
    "    return (tempx.remainders + [tempx.string])\n",
    "\n",
    "def unparse(p):\n",
    "    return (''.join(p))\n",
    "\n",
    "def ones(n):\n",
    "    w = ['1' for i in range(n)]\n",
    "    return(unparse(w))    \n",
    "\n",
    "def instruction_type(instruction):\n",
    "    if instruction[-2:] == '1#':\n",
    "        return ('add1')\n",
    "    if instruction[-3:] == '1##':\n",
    "        return ('add#')\n",
    "    if instruction[-4:] == '1###':\n",
    "        return ('forward')\n",
    "    if instruction[-5:] == '1####':\n",
    "        return ('backward')\n",
    "    if instruction[-6:] == '1#####':\n",
    "        return ('cases')\n",
    "\n",
    "def tail(list):\n",
    "    return (list[1:])\n",
    "\n",
    "def one_step(p, snapshot): # p is parsed\n",
    "    i = snapshot.instr_number\n",
    "    r = snapshot.regs\n",
    "    instruction = p[-1 + i]\n",
    "    if snapshot.verbose:\n",
    "        print('Step ' + str(snapshot.step_number) + ':')\n",
    "        print('Execute instruction ' + str(i) + ':' + \" \" +\n",
    "              instruction_gloss(instruction,i-1) \n",
    "              + '.')\n",
    "        if instruction_type(instruction)=='cases':\n",
    "            billy= len(instruction) - 5\n",
    "            if snapshot.regs[billy-1] == \"\":\n",
    "                print('The register is empty, so we go ahead 1 instruction.')\n",
    "            elif snapshot.regs[billy-1][0] == \"1\":\n",
    "                print('The first symbol in that register is 1,' +\n",
    "                      ' so we delete that symbol and go forward 2 instructions.')\n",
    "            elif snapshot.regs[billy-1][0] == \"#\":\n",
    "                print('The first symbol in that register is #,' +\n",
    "                      ' so we delete that symbol and go forward 3 instructions.')     \n",
    "    t = instruction_type(instruction)\n",
    "    if t == 'add1':\n",
    "        snapshot.instr_number = 1 + snapshot.instr_number\n",
    "        l = len(instruction)\n",
    "        reg = len(instruction[:(l - 1)])\n",
    "        snapshot.regs[reg - 1] = snapshot.regs[reg - 1] + '1'\n",
    "    if t == 'add#':\n",
    "        snapshot.instr_number = 1 + snapshot.instr_number\n",
    "        l = len(instruction)\n",
    "        reg = len(instruction[:(l - 2)])\n",
    "        snapshot.regs[reg - 1] = snapshot.regs[reg - 1] + '#'\n",
    "    if t == 'forward':\n",
    "        l = len(instruction)\n",
    "        offset = len(instruction[:(l - 3)])\n",
    "        snapshot.instr_number = offset + snapshot.instr_number\n",
    "    if t == 'backward':\n",
    "        l = len(instruction)\n",
    "        offset = len(instruction[:(l - 4)])\n",
    "        snapshot.instr_number = (-offset) + snapshot.instr_number\n",
    "    if t == 'cases':\n",
    "        l = len(instruction)\n",
    "        reg = len(instruction[:(l - 5)])\n",
    "        if snapshot.regs[reg - 1] == '':\n",
    "            snapshot.instr_number = 1 + snapshot.instr_number\n",
    "        elif snapshot.regs[reg - 1][0] == '1':\n",
    "            snapshot.instr_number = 2 + snapshot.instr_number\n",
    "            snapshot.regs[reg - 1] = tail(snapshot.regs[reg - 1])\n",
    "        elif snapshot.regs[reg - 1][0] == '#':\n",
    "            snapshot.instr_number = 3 + snapshot.instr_number\n",
    "            snapshot.regs[reg - 1] = tail(snapshot.regs[reg - 1])\n",
    "    snapshot.proceed = 0< snapshot.instr_number <= len(p)\n",
    "    if snapshot.verbose == True:\n",
    "        print_snapshot(snapshot)\n",
    "    return (snapshot)\n",
    "\n",
    "\n",
    "def number_help(instr):\n",
    "    if instruction_type(instr) == 'add1':\n",
    "        return (len(instr) - 1)\n",
    "    if instruction_type(instr) == 'add#':\n",
    "        return (len(instr) - 2)\n",
    "    if instruction_type(instr) == 'cases':\n",
    "        return (len(instr)-5)\n",
    "    else:\n",
    "        return (0)\n",
    "\n",
    "\n",
    "def max_register(p):\n",
    "    return (max([number_help(instr) for instr in parse(p)]))\n",
    "\n",
    "\n",
    "def pad(p, register_inputs):\n",
    "    n = len(register_inputs)\n",
    "    m = max_register(p)\n",
    "    extras = ['' for x in range(m - n)]\n",
    "    bigger = register_inputs + extras\n",
    "    return (bigger)\n",
    "\n",
    "def print_snapshot(snap):\n",
    "    regdf = pd.DataFrame([[snap.regs[n]] for n in range(len(snap.regs))],columns=[\"contents\"])\n",
    "    regdf.index = np.arange(1, len(regdf) + 1)\n",
    "    def make_pretty(styler):\n",
    "        styler.set_properties(**{'background-color': '#FFFFCC',\n",
    "                                 'color': 'black'})\n",
    "        styler.set_properties(**{'text-align': 'left'})\n",
    "        #styler.set_caption(\"at the start\")\n",
    "        #styler.hide(axis='index')\n",
    "        return styler\n",
    "    display(regdf.style.pipe(make_pretty))  \n",
    "\n",
    "def step_by_step(word_prog, register_inputs):\n",
    "    word_prog = word_prog.replace(\" \", \"\")\n",
    "    register_inputs = [word.replace(\" \", \"\") for word in register_inputs]\n",
    "    if program_checker(word_prog) and input_checker(register_inputs):\n",
    "        print('First, here is the program:')\n",
    "        parse_explain(word_prog)\n",
    "        print()\n",
    "        regs = pad(word_prog, register_inputs)\n",
    "        prog = parse(word_prog)\n",
    "        N = len(prog)\n",
    "        snap = Snapshot(1, regs,True,True,N,1)\n",
    "        print('The computation starts with the register contents shown below.')\n",
    "        print('The registers include those those which you entered as part of the input')\n",
    "        print('and also others mentioned in the input program.')\n",
    "        print_snapshot(snap)\n",
    "        print()\n",
    "        while 0 < snap.instr_number < N + 1:\n",
    "            snap = one_step(prog, snap)\n",
    "            snap.step_number = (snap.step_number) + 1\n",
    "        if snap.instr_number <= 0:\n",
    "            print(\n",
    "                'The computation has not halted properly ' +\n",
    "                'because the control went above instruction 1 of the program.'\n",
    "                 )\n",
    "        elif (snap.instr_number == (N + 1)) and all(\n",
    "                snap.regs[i] == \"\"\n",
    "                for i in range(1, len(snap.regs))):\n",
    "            print(\n",
    "                'The computation then halts properly because' +\n",
    "                ' the control is just below the last line of the program,')\n",
    "            print('and because all registers other than R1 are empty.')\n",
    "            if snap.regs[0] == \"\":\n",
    "                print('The output is the empty word.')\n",
    "            else:\n",
    "                print('The output is ' + snap.regs[0] + '.')\n",
    "        else:\n",
    "            print('This computation does not halt.')\n",
    "            if snap.instr_number != N + 1:\n",
    "                print('This is because the program has ' + str(len(prog)) +\n",
    "                  ' instructions, and control at the end is not one line ' + \n",
    "                   'below the bottom of the program.')\n",
    "                print()\n",
    "            else: \n",
    "                not_blank = [\n",
    "                    i + 1 for i in range(1, len(snap.regs))\n",
    "                    if snap.regs[i] != \"\"\n",
    "                ]\n",
    "                print('Here is the list of registers whose contents ' +\n",
    "                      'are not empty at this point, other than R1:' +\n",
    "                      str(not_blank) + '.')\n",
    "                print('The register contents at the end are shown above.')\n",
    "\n",
    "\n",
    "def onesharp(word_prog, register_inputs):\n",
    "    word_prog = word_prog.replace(\" \", \"\")\n",
    "    register_inputs = [word.replace(\" \", \"\") for word in register_inputs]  \n",
    "    if program_checker(word_prog) and input_checker(register_inputs):\n",
    "        register_inputs = [word.replace(\" \", \"\") for word in register_inputs]\n",
    "        regs = pad(word_prog, register_inputs)\n",
    "        prog = parse(word_prog)\n",
    "        N = len(prog)\n",
    "        snap = Snapshot(1, regs,True,False, N, 1)\n",
    "        while snap.proceed:\n",
    "            snap = one_step(prog, snap)\n",
    "            snap.step_number = (snap.step_number)+1\n",
    "        if (snap.instr_number == (N + 1)) and all(\n",
    "                snap.regs[i] == \"\" for i in range(1, len(snap.regs))):\n",
    "            return ((snap.regs)[0])\n",
    "        else:            \n",
    "            print(\"This is undefined.\")\n",
    "            print(\"The register contents at the end are shown below.\")\n",
    "            print_snapshot(snap)\n",
    "    else:\n",
    "        return('undefined')\n",
    "\n",
    "\n",
    "def instruction_gloss(instr,line):\n",
    "    if instruction_type(instr) == 'add1':\n",
    "        return ('add 1 to R' + str(len(instr) - 1))\n",
    "    if instruction_type(instr) == 'add#':\n",
    "        return ('add # to R' + str(len(instr) - 2))\n",
    "    if instruction_type(instr) == 'forward':\n",
    "        w = len(instr) - 3\n",
    "        return ('go forward ' + str(w) + ' to instruction ' + str(w+line+1))\n",
    "    if instruction_type(instr) == 'backward':\n",
    "        w = len(instr) - 4\n",
    "        return ('go backward ' + str(w) + ' to instruction ' + str(line - w+1))\n",
    "    if instruction_type(instr) == 'cases':\n",
    "        return ('cases on R' + str(len(instr) - 5))\n",
    "\n",
    "def expanded(gorp):\n",
    "    pgorp = parse(gorp)\n",
    "    wwgorp = [[pgorp[x],instruction_gloss(pgorp[x],x)] for x in range(len(pgorp))]\n",
    "    return(wwgorp)\n",
    "\n",
    "def parse_explain(prog):\n",
    "    df = pd.DataFrame(expanded(prog),\n",
    "                      columns=[\"instruction\", 'explanation'])\n",
    "    df.index = np.arange(1, len(df) + 1)\n",
    "    def make_pretty(styler):\n",
    "                styler.set_properties(**{'background-color': '#C9DFEC',\n",
    "                                         'color': 'black'})        \n",
    "                styler.set_properties(**{'text-align': 'left'})\n",
    "                return styler\n",
    "    display(df.style.pipe(make_pretty))\n",
    "    #display(df)\n",
    "    \n",
    "\n",
    "length = '1#####1111111###11####11#1#####111###111111####111####11#####111111###111###1##1111####1#111111####'\n",
    "\n",
    "write = '1#####111111111###11111###11#11##11##111111####11#11##111111111####11#####111111###111###1##1111####1#111111####'\n",
    "\n",
    "diag = '1#####11111111111###111111###11##111#111##111##1111111####11#111#111##1111####111#####111111###111###1##1111####1#11####11#####111111###111###1##1111####1#11####'\n",
    "\n",
    "self = '1#1##1##1##1##1##1#1#1#1#1#1#1#1#1#1#1#1##1##1##1#1#1#1#1#1#1##1##1##1#1#1##1##1#1#1#1##1#1#1#1##1##1#1#1#1##1##1#1#1#1#1#1#1#1##1##1##1##1#1#1##1#1#1#1##1#1#1#1##1##1#1#1#1#1##1##1##1##1#1#1#1##1##1##1##1##1#1#1#1#1#1#1##1##1##1#1#1#1##1##1##1#1##1##1#1#1#1#1##1##1##1##1#1##1#1#1##1##1##1##1#1#1##1##1##1##1##1#1#1#1#1#1#1##1##1##1#1#1#1##1##1##1#1##1##1#1#1#1#1##1##1##1##1#1##1#1#1##1##1##1##1#####11111111111###111111###11##111#111##111##1111111####11#111#111##1111####111#####111111###111###1##1111####1#11####11#####111111###111###1##1111####1#11####'\n",
    "\n",
    "multiply = '111##1111##11#####11111111###1111###11111##111111##11111####11111#111111#11111111####111111#####111111###111###11##1111####11#111111####111#####11111111###1111###111111##1111111##11111####111111#1111111#11111111####1111111#####111111###111###111##1111####111#111111####11111#####111111###111111111###111111#####11111111111###1111111111###111111####111111#####111111111111111###111111###11111###111111#####111###1111111111111####1###11111#####1  11###11####111####111111#####1111###11####111####11111#11111#####111###1111111111111111111111111111111111111111111111111111111111111111111111111111111111111111111111111111111###1#1#####11111111###1111###11111##111111##11111####11111#111111#11111111####111111#####111111###111###1##1111####1#111111####1111#####111111###111###111111##1111####111111#111111####11111#####111###111111###111111111###111111#####11111111111111111111111111111111111###11111111111111111111111111###111111111111111111111111111###111111#####11111111111111111111111###1111111111111111111111111111###111111111111111111111###111111#####111111111111111111111###111111111111111111###1111111111111111111###11111#####111###111111###111111111###111111#####11111111111###1111111111111111###111111111###111111#####1111111111111###1111111111###11111111111###111111#####111###11111111###1###1111111#111111111111111111111111111111111####1111111##11111111111111111111111111111111111####1111111#111111111111111111111####1111111##11111111111111111111111####1###1111111#####111111###111###11111##1111####11111#111111####11111#####111111###111###1111##1111####1111#111111####111#####1111111111111###1111111111###11111#111#####111111###111###11111##1111####11111#111111####1111###11111##1111111111111####11111#11111#####111111###111###111##1111####111#111111####1111111111111111111111111111111111111111111111111111111111111111111111111111111111111111111111111111111111111111111111111111111111111111111111111111111111111111####1#####111###11####111####11#####111###11####111####111#####111###11####111####1111#####111111###111###1##1111####1#111111####'\n",
    "\n",
    "universal = '1#####1###11###11####111111#1#####111###111111###1111111###11111#####1111111111111111111111111111111111111111111111111111111111111111111111111111111111111111111111111111111111111111111###1###1####111#111111111####111##1#####1111###11###11111###111#11111#####1111111111111111111111111111111111111111111111###111111111###111##1#####1111###11###11111###111#11111#####1111111111111111111111111111111111111###111111111###111##1#####1111###11###11111###111#11111#####1111111111111111111111111111111111111111111111###111111111###111##1#####1111###11###11111###111#11111#####111111111111111111111111111111111111111111111111111111###111111111###111##1#####1111###11###11111111111111111111111111111111111111111111111111111111111111111111111111111111111111111111111111111111111111111111111111111111111111111111111111111111111111111111111111111111111111111111111111111111111111111111111111111111111111111111111111111###111#11111#####1111111111###1###111#####111111###111###1111##1111####1111#111111####11111111111111111111111111111111111111111111111111111111111111####111#####1###11###1111###11111#1111#111111####11111##1111##111#####1111111###1111###1111##11111##11111####1111#1111111####111111111111111111111111111111111111111111111111111111111111111111111111111###111#####1###11###11111###11111#1111#111111#1111111####1111##111#####111111###111###1111##1111####1111#111111####11111111111111111111111111111111111111111111111111111111111111111111111111111111111111111111111111####111#####1###11###1111###1111#11111#111111####11111#11111#1111##111#####111111###111###1111##1111####1111#111111####11111#####11111111###11###1###111111#####111111111111111111111111111111111111111111111111111111111111111111111111111111111111111111111111111111111111111111111111111111111111111111111111111###1###1###11111111####111111#####1111###111#11111#1111####111#####111###111111#111####1#####111111###111###111##1111####111#111111####1111#####111111###111###1##1111####1#111111####111#####111111###111###1##1111####1#111111####111111111111111111111111111111111111111111111111111111111####11#####111###11111###111111111111###11##11##111111####111#11#####1###111###111##11###111#11111111111111####111##11#####11111111111111111111111111111111111111111111111111111111111111111111###1###111##11111#####1###1111111111111111111111####11111#####1111111111111111111111111111###111111111111111111111111111###11111#####111###11###111111111111111111111111111111111111111111111###11#####111111111111111111###111111111###111#11#####1###1###111#111##111##111111111111111111111111111111111111111111111111111111111###111#11#####1###111###111##11###111#111111111111111111####111#111#1111111111111111111111111111111111111111111111###11#####111111111111111111###111111111###111#11#####1###1###111##111##111##11111111111111111111111111111111111###111#11#####1###111###111##11###111#111111111111111111####111#111##111111111111111111111111###11111#####1###1###11111#####1###1###11#####11111111111111111111111###111###111##1111111111111###11#####1###11111###1###11111#111111#111111###11111#11111#111111#111111#1###11#####111111###111###111##1111####111#111111####111#####111111###111###11##1111####11#111111####1111111111111111111111111111111111111111111111111111111111111111111111111111111111111111111111111111111111111111####11#####1###1###11#####1###1###11#####11111111111111###11###11111111###11#####1###111###1#11111111####1##1111111111####11#####111###11####111####111111#####11###11####1111#####111###11####111####'\n",
    "clear_2 = '11#####111###11####111####'\n",
    "clear_3 = '111#####111###11####111####'\n",
    "clear_4 = '1111#####111###11####111####'\n",
    "move_1_2= '1#####111111###111###11##1111####11#111111####'\n",
    "move_1_3= '1#####111111###111###111##1111####111#111111####'\n",
    "move_1_4= '1#####111111###111###1111##1111####1111#111111####'\n",
    "move_2_1= '11#####111111###111###1##1111####1#111111####'\n",
    "move_2_3= '11#####111111###111###111##1111####111#111111####'\n",
    "move_2_4= '11#####111111###111###1111##1111####1111#111111####'\n",
    "move_3_1= '111#####111111###111###1##1111####1#111111####'\n",
    "move_3_2= '111#####111111###111###11##1111####11#111111####'\n",
    "move_3_4= '111#####111111###111###1111##1111####1111#111111####'\n",
    "move_4_1= '1111#####111111###111###1##1111####1#111111####'\n",
    "move_4_2= '1111#####111111###111###11##1111####11#111111####'\n",
    "move_4_3= '1111#####111111###111###111##1111####111#111111####'\n",
    "copy_1_2_3 = '1#####11111111###1111###11##111##11111####11#111#11111111####111#####111111###111###1##1111####1#111111####'\n",
    "copy_1_2_4 ='1#####11111111###1111###11##1111##11111####11#1111#11111111####1111#####111111###111###1##1111####1#111111####'\n",
    "copy_1_3_4='1#####11111111###1111###111##1111##11111####111#1111#11111111####1111#####111111###111###1##1111####1#111111####'\n",
    "copy_2_3_4 = '11#####11111111###1111###111##1111##11111####111#1111#11111111####1111#####111111###111###11##1111####11#111111####'"
   ]
  },
  {
   "cell_type": "code",
   "execution_count": null,
   "metadata": {
    "colab": {
     "base_uri": "https://localhost:8080/",
     "height": 35
    },
    "id": "VeuRQV6P2aJI",
    "outputId": "12b25c97-70a8-48a2-ee50-e9140702257a"
   },
   "outputs": [
    {
     "data": {
      "text/plain": [
       "<Figure size 432x288 with 0 Axes>"
      ]
     },
     "metadata": {},
     "output_type": "display_data"
    }
   ],
   "source": [
    "import matplotlib.pyplot as plt\n",
    "import matplotlib.patches as patches\n",
    "\n",
    "fig = plt.figure()\n",
    "\n",
    "left, width = .25, .5\n",
    "bottom, height = .25, .5\n",
    "right = left + width\n",
    "top = bottom + height\n",
    "\n",
    "# Draw a rectangle in figure coordinates ((0, 0) is bottom left and (1, 1) is\n",
    "# upper right).\n",
    "p = patches.Rectangle((left, bottom), width, height, fill=False)\n",
    "fig.add_artist(p)\n",
    "\n",
    "# Figure.text (aka. plt.figtext) behaves like Axes.text (aka. plt.text), with\n",
    "# the sole exception that the coordinates are relative to the figure ((0, 0) is\n",
    "# bottom left and (1, 1) is upper right).\n",
    "fig.text(left, bottom, 'left top',\n",
    "         horizontalalignment='left', verticalalignment='top')\n",
    "fig.text(left, bottom, 'left bottom',\n",
    "         horizontalalignment='left', verticalalignment='bottom')\n",
    "fig.text(right, top, 'right bottom',\n",
    "         horizontalalignment='right', verticalalignment='bottom')\n",
    "fig.text(right, top, 'right top',\n",
    "         horizontalalignment='right', verticalalignment='top')\n",
    "fig.text(right, bottom, 'center top',\n",
    "         horizontalalignment='center', verticalalignment='top')\n",
    "fig.text(left, 0.5*(bottom+top), 'right center',\n",
    "         horizontalalignment='right', verticalalignment='center',\n",
    "         rotation='vertical')\n",
    "fig.text(left, 0.5*(bottom+top), 'left center',\n",
    "         horizontalalignment='left', verticalalignment='center',\n",
    "         rotation='vertical')\n",
    "fig.text(0.5*(left+right), 0.5*(bottom+top), 'middle',\n",
    "         horizontalalignment='center', verticalalignment='center',\n",
    "         fontsize=20, color='red')\n",
    "fig.text(right, 0.5*(bottom+top), 'centered',\n",
    "         horizontalalignment='center', verticalalignment='center',\n",
    "         rotation='vertical')\n",
    "fig.text(left, top, 'rotated\\nwith newlines',\n",
    "         horizontalalignment='center', verticalalignment='center',\n",
    "         rotation=45)\n",
    "plt.show()"
   ]
  },
  {
   "cell_type": "code",
   "execution_count": null,
   "metadata": {
    "colab": {
     "base_uri": "https://localhost:8080/",
     "height": 319
    },
    "id": "17vDjazq3MI5",
    "outputId": "6c3dfb41-f252-4c56-9d95-fdc1d93cc71d"
   },
   "outputs": [
    {
     "data": {
      "image/png": "[encoded data removed]",
      "text/plain": [
       "<Figure size 432x288 with 1 Axes>"
      ]
     },
     "metadata": {
      "filenames": {
       "image/png": "/Users/lsm/Dropbox/invitationBook/lmoss.github.io/booksource/_build/jupyter_execute/tiles_15_0.png"
      },
      "needs_background": "light"
     },
     "output_type": "display_data"
    }
   ],
   "source": [
    "import matplotlib.pyplot as plt\n",
    "import matplotlib.patches as patches\n",
    "\n",
    "# build a rectangle in axes coords\n",
    "left, width = .25, .5\n",
    "bottom, height = .25, .5\n",
    "right = left + width\n",
    "top = bottom + height\n",
    "\n",
    "fig = plt.figure()\n",
    "ax = fig.add_axes([0,0,1,1])\n",
    "\n",
    "# axes coordinates are 0,0 is bottom left and 1,1 is upper right\n",
    "p = patches.Rectangle(\n",
    "    (left, bottom), width, height,\n",
    "    fill=False, transform=ax.transAxes, clip_on=False\n",
    "    )\n",
    "\n",
    "ax.add_patch(p)\n",
    "\n",
    "\n",
    "ax.text(0.5*(left+right), 0.9*(top), 'N',\n",
    "        horizontalalignment='center',\n",
    "        verticalalignment='center',\n",
    "        fontsize=20, color='purple',\n",
    "        transform=ax.transAxes)\n",
    "\n",
    "ax.text(0.5*(left+right), 0.3*(bottom+top), 'S',\n",
    "        horizontalalignment='center',\n",
    "        verticalalignment='center',\n",
    "        fontsize=20, color='gold',\n",
    "        transform=ax.transAxes)\n",
    "\n",
    "ax.text(0.3*(left+right), 0.5*(bottom+top), 'W',\n",
    "        horizontalalignment='center',\n",
    "        verticalalignment='center',\n",
    "        fontsize=20, color='red',\n",
    "        transform=ax.transAxes)\n",
    "\n",
    "ax.text(0.7*(left+right), 0.5*(bottom+top), 'E',\n",
    "        horizontalalignment='center',\n",
    "        verticalalignment='center',\n",
    "        fontsize=20, color='red',\n",
    "        transform=ax.transAxes)\n",
    "\n",
    "ax.set_aspect('equal', adjustable='box')\n",
    "ax.set_axis_off()\n",
    "plt.show()"
   ]
  },
  {
   "cell_type": "code",
   "execution_count": null,
   "metadata": {
    "colab": {
     "base_uri": "https://localhost:8080/",
     "height": 621
    },
    "id": "aaahH-Zl0tYW",
    "outputId": "86f48a90-c061-43dc-9d18-be752e0437b5"
   },
   "outputs": [
    {
     "data": {
      "image/png": "[encoded data removed]",
      "text/plain": [
       "<Figure size 432x288 with 1 Axes>"
      ]
     },
     "metadata": {
      "filenames": {
       "image/png": "/Users/lsm/Dropbox/invitationBook/lmoss.github.io/booksource/_build/jupyter_execute/tiles_16_0.png"
      },
      "needs_background": "light"
     },
     "output_type": "display_data"
    },
    {
     "data": {
      "image/png": "[encoded data removed]",
      "text/plain": [
       "<Figure size 432x288 with 1 Axes>"
      ]
     },
     "metadata": {
      "filenames": {
       "image/png": "/Users/lsm/Dropbox/invitationBook/lmoss.github.io/booksource/_build/jupyter_execute/tiles_16_1.png"
      },
      "needs_background": "light"
     },
     "output_type": "display_data"
    }
   ],
   "source": [
    "import matplotlib.pyplot as plt\n",
    "import matplotlib.patches as patches\n",
    "def tile(a,b,c,d):\n",
    "  left, width = .25, .5\n",
    "  bottom, height = .25, .5\n",
    "  right = left + width\n",
    "  top = bottom + height\n",
    "  fig = plt.figure()\n",
    "  ax = fig.add_axes([0,0,1,1])\n",
    "# axes coordinates are 0,0 is bottom left and 1,1 is upper right\n",
    "  p = patches.Rectangle(\n",
    "      (left, bottom), width, height,\n",
    "     fill=False, transform=ax.transAxes, clip_on=False\n",
    "     )\n",
    "\n",
    "  ax.add_patch(p)\n",
    "\n",
    "\n",
    "  ax.text(0.5*(left+right), 0.9*(top), a,\n",
    "        horizontalalignment='center',\n",
    "        verticalalignment='center',\n",
    "        fontsize=20, color='purple',\n",
    "        transform=ax.transAxes)\n",
    "\n",
    "  ax.text(0.5*(left+right), 0.3*(bottom+top), c,\n",
    "        horizontalalignment='center',\n",
    "        verticalalignment='center',\n",
    "        fontsize=20, color='gold',\n",
    "        transform=ax.transAxes)\n",
    "\n",
    "  ax.text(0.3*(left+right), 0.5*(bottom+top), d,\n",
    "        horizontalalignment='center',\n",
    "        verticalalignment='center',\n",
    "        fontsize=20, color='red',\n",
    "        transform=ax.transAxes)\n",
    "\n",
    "  ax.text(0.7*(left+right), 0.5*(bottom+top), b,\n",
    "        horizontalalignment='center',\n",
    "        verticalalignment='center',\n",
    "        fontsize=20, color='black',\n",
    "        transform=ax.transAxes)\n",
    "\n",
    "  ax.set_aspect('equal', adjustable='box')\n",
    "  ax.set_axis_off()\n",
    "  plt.show()\n",
    "\n",
    "\n",
    "tile('3','$\\spadesuit$',r'$\\#$', r'${\\tt \\#}$')\n",
    "tile('13',r'$\\frac{\\blacksquare}{\\blacksquare}$','4', r'$\\blacksquare$')\n",
    "\n"
   ]
  },
  {
   "cell_type": "code",
   "execution_count": null,
   "metadata": {
    "colab": {
     "base_uri": "https://localhost:8080/",
     "height": 457
    },
    "id": "tExz6zC_Xbjx",
    "outputId": "ee2ca9e8-8464-4fc4-b9bf-29619e045486"
   },
   "outputs": [
    {
     "name": "stdout",
     "output_type": "stream",
     "text": [
      "Looking in indexes: https://pypi.org/simple, https://us-python.pkg.dev/colab-wheels/public/simple/\n",
      "\u001b[31mERROR: Could not find a version that satisfies the requirement PyQt4 (from versions: none)\u001b[0m\n",
      "\u001b[31mERROR: No matching distribution found for PyQt4\u001b[0m\n"
     ]
    },
    {
     "ename": "ModuleNotFoundError",
     "errorDetails": {
      "actions": [
       {
        "action": "open_url",
        "actionText": "Open Examples",
        "url": "/notebooks/snippets/importing_libraries.ipynb"
       }
      ]
     },
     "evalue": "ignored",
     "output_type": "error",
     "traceback": [
      "\u001b[0;31m---------------------------------------------------------------------------\u001b[0m",
      "\u001b[0;31mModuleNotFoundError\u001b[0m                       Traceback (most recent call last)",
      "\u001b[0;32m<ipython-input-64-2a7993191b7d>\u001b[0m in \u001b[0;36m<module>\u001b[0;34m\u001b[0m\n\u001b[1;32m      1\u001b[0m \u001b[0mget_ipython\u001b[0m\u001b[0;34m(\u001b[0m\u001b[0;34m)\u001b[0m\u001b[0;34m.\u001b[0m\u001b[0msystem\u001b[0m\u001b[0;34m(\u001b[0m\u001b[0;34m'pip install PyQt4'\u001b[0m\u001b[0;34m)\u001b[0m\u001b[0;34m\u001b[0m\u001b[0;34m\u001b[0m\u001b[0m\n\u001b[1;32m      2\u001b[0m \u001b[0;32mimport\u001b[0m \u001b[0msys\u001b[0m\u001b[0;34m\u001b[0m\u001b[0;34m\u001b[0m\u001b[0m\n\u001b[0;32m----> 3\u001b[0;31m \u001b[0;32mfrom\u001b[0m \u001b[0mPyQt4\u001b[0m \u001b[0;32mimport\u001b[0m \u001b[0mQtCore\u001b[0m\u001b[0;34m,\u001b[0m \u001b[0mQtGui\u001b[0m\u001b[0;34m\u001b[0m\u001b[0;34m\u001b[0m\u001b[0m\n\u001b[0m\u001b[1;32m      4\u001b[0m \u001b[0;34m\u001b[0m\u001b[0m\n\u001b[1;32m      5\u001b[0m \u001b[0;32mdef\u001b[0m \u001b[0mF\u001b[0m\u001b[0;34m(\u001b[0m\u001b[0mn\u001b[0m\u001b[0;34m,\u001b[0m \u001b[0mm\u001b[0m\u001b[0;34m)\u001b[0m\u001b[0;34m:\u001b[0m\u001b[0;34m\u001b[0m\u001b[0;34m\u001b[0m\u001b[0m\n",
      "\u001b[0;31mModuleNotFoundError\u001b[0m: No module named 'PyQt4'",
      "",
      "\u001b[0;31m---------------------------------------------------------------------------\u001b[0;32m\nNOTE: If your import is failing due to a missing package, you can\nmanually install dependencies using either !pip or !apt.\n\nTo view examples of installing some common dependencies, click the\n\"Open Examples\" button below.\n\u001b[0;31m---------------------------------------------------------------------------\u001b[0m\n"
     ]
    }
   ],
   "source": [
    "!pip install PyQt4\n",
    "import sys  \n",
    "from PyQt4 import QtCore, QtGui\n",
    "\n",
    "def F(n, m):\n",
    "    return n + m\n",
    "\n",
    "class MainWindow(QtGui.QWidget):\n",
    "    # http://stackoverflow.com/a/11458784/190597 (reclosedev)\n",
    "    def __init__(self, parent=None):\n",
    "        self.rows = range(50)\n",
    "        self.cols = range(100)\n",
    "        super(MainWindow, self).__init__(parent)\n",
    "        self.table_widget = QtGui.QTableWidget()\n",
    "        layout = QtGui.QVBoxLayout()\n",
    "        layout.addWidget(self.table_widget)\n",
    "        self.setLayout(layout)\n",
    "        self.populate()\n",
    "\n",
    "    def populate(self):\n",
    "        self.table_widget.setRowCount(len(self.rows))\n",
    "        self.table_widget.setColumnCount(len(self.cols))\n",
    "        self.table_widget.setHorizontalHeaderLabels(map(str, self.cols))\n",
    "        for i, n in enumerate(self.rows):\n",
    "            for j, m in enumerate(self.cols):\n",
    "                value = QtGui.QTableWidgetItem(str(F(n, m)))\n",
    "                self.table_widget.setItem(i, j, value)\n",
    "        self.table_widget.item(5,2).setBackgroundColor(QtGui.QColor(0,255,255))\n",
    "        self.table_widget.item(5,2).setTextColor(QtGui.QColor(\"red\"))\n",
    "\n",
    "if __name__ == \"__main__\":\n",
    "    app = QtGui.QApplication(sys.argv)\n",
    "    wnd = MainWindow()\n",
    "    wnd.resize(640, 480)\n",
    "    wnd.show()\n",
    "    sys.exit(app.exec_())"
   ]
  },
  {
   "cell_type": "code",
   "execution_count": null,
   "metadata": {
    "colab": {
     "base_uri": "https://localhost:8080/",
     "height": 265
    },
    "id": "RFfPgiSg6kqO",
    "outputId": "fac4440c-3e6e-454d-c73c-d7d643484f58"
   },
   "outputs": [
    {
     "data": {
      "image/png": "[encoded data removed]",
      "text/plain": [
       "<Figure size 432x288 with 1 Axes>"
      ]
     },
     "metadata": {
      "filenames": {
       "image/png": "/Users/lsm/Dropbox/invitationBook/lmoss.github.io/booksource/_build/jupyter_execute/tiles_18_0.png"
      },
      "needs_background": "light"
     },
     "output_type": "display_data"
    }
   ],
   "source": []
  },
  {
   "cell_type": "code",
   "execution_count": null,
   "metadata": {
    "colab": {
     "base_uri": "https://localhost:8080/",
     "height": 308
    },
    "id": "Ag7MwpET27kS",
    "outputId": "234c41e4-d79b-451a-e09d-c300180a3b57"
   },
   "outputs": [
    {
     "data": {
      "image/png": "[encoded data removed]",
      "text/plain": [
       "<Figure size 432x288 with 1 Axes>"
      ]
     },
     "metadata": {
      "filenames": {
       "image/png": "/Users/lsm/Dropbox/invitationBook/lmoss.github.io/booksource/_build/jupyter_execute/tiles_19_0.png"
      },
      "needs_background": "light"
     },
     "output_type": "display_data"
    }
   ],
   "source": [
    "import matplotlib.pyplot as plt\n",
    "\n",
    "fig = plt.figure()\n",
    "fig.suptitle('bold figure suptitle', fontsize=14, fontweight='bold')\n",
    "\n",
    "ax = fig.add_subplot()\n",
    "fig.subplots_adjust(top=0.85)\n",
    "ax.set_title('axes title')\n",
    "\n",
    "ax.set_xlabel('xlabel')\n",
    "ax.set_ylabel('ylabel')\n",
    "\n",
    "ax.text(3, 8, 'boxed italics text in data coords', style='italic',\n",
    "        bbox={'facecolor': 'red', 'alpha': 0.5, 'pad': 10})\n",
    "\n",
    "ax.text(2, 6, r'an equation: $E=mc^2$', fontsize=15)\n",
    "\n",
    "ax.text(3, 2, 'unicode: Institut f\\374r Festk\\366rperphysik')\n",
    "\n",
    "ax.text(0.95, 0.01, 'colored text in axes coords',\n",
    "        verticalalignment='bottom', horizontalalignment='right',\n",
    "        transform=ax.transAxes,\n",
    "        color='green', fontsize=15)\n",
    "\n",
    "\n",
    "ax.plot([2], [1], 'o')\n",
    "ax.annotate('annotate', xy=(2, 1), xytext=(3, 4),\n",
    "            arrowprops=dict(facecolor='black', shrink=0.05))\n",
    "\n",
    "ax.set(xlim=(0, 10), ylim=(0, 10))\n",
    "\n",
    "plt.show()"
   ]
  },
  {
   "cell_type": "code",
   "execution_count": null,
   "metadata": {
    "colab": {
     "base_uri": "https://localhost:8080/",
     "height": 269
    },
    "id": "Ksi9wVtX7BHW",
    "outputId": "7497c5a8-fe45-4446-e78e-731269a78001"
   },
   "outputs": [
    {
     "data": {
      "image/png": "[encoded data removed]",
      "text/plain": [
       "<Figure size 432x288 with 1 Axes>"
      ]
     },
     "metadata": {
      "filenames": {
       "image/png": "/Users/lsm/Dropbox/invitationBook/lmoss.github.io/booksource/_build/jupyter_execute/tiles_20_0.png"
      },
      "needs_background": "light"
     },
     "output_type": "display_data"
    }
   ],
   "source": [
    "import numpy as np\n",
    "import matplotlib.pyplot as plt\n",
    " \n",
    "# adjust coordinates\n",
    "x = y = [i for i in range(0, 6)]\n",
    " \n",
    "# depict illustration\n",
    "fig = plt.figure()\n",
    "ax = fig.add_subplot()\n",
    "#plt.plot(x, y)\n",
    " \n",
    "ax.text(0.9*(left+right), 0.5*(bottom+top), 'E',\n",
    "        horizontalalignment='center',\n",
    "        verticalalignment='center',\n",
    "        fontsize=20, color='red',\n",
    "        transform=ax.transAxes)\n",
    " \n",
    "# square plot\n",
    "ax.set_aspect('equal', adjustable='box')\n",
    "plt.show()\n",
    "\n"
   ]
  },
  {
   "cell_type": "code",
   "execution_count": null,
   "metadata": {
    "colab": {
     "base_uri": "https://localhost:8080/",
     "height": 269
    },
    "id": "mUCfIRqx7BTw",
    "outputId": "57f20860-bc8e-4ff1-9f79-5f6c90da6abe"
   },
   "outputs": [
    {
     "data": {
      "image/png": "[encoded data removed]",
      "text/plain": [
       "<Figure size 504x252 with 3 Axes>"
      ]
     },
     "metadata": {
      "filenames": {
       "image/png": "/Users/lsm/Dropbox/invitationBook/lmoss.github.io/booksource/_build/jupyter_execute/tiles_21_0.png"
      },
      "needs_background": "light"
     },
     "output_type": "display_data"
    }
   ],
   "source": [
    "import matplotlib.pyplot as plt\n",
    "import numpy as np\n",
    "import math\n",
    "  \n",
    "# Placing the plots in the plane\n",
    "plot1 = plt.subplot2grid((3, 3), (0, 0), colspan=2)\n",
    "plot2 = plt.subplot2grid((3, 3), (0, 2), rowspan=3, colspan=2)\n",
    "#plot2 = plt.subplot2grid((2,2), (0, 0), colspan=2)\n",
    "plot3 = plt.subplot2grid((3, 3), (1, 0), rowspan=2)\n",
    "  \n",
    "# Using Numpy to create an array x\n",
    "x = np.arange(1, 10)\n",
    "  \n",
    "# Plot for square root\n",
    "\n",
    "plot2.set_title('Plot 2')\n",
    "plot2.set_aspect('equal', adjustable='box')\n",
    "#plot2.set_axis_off() \n",
    "plot2.axes.get_xaxis().set_visible(False)\n",
    "plot2.axes.get_yaxis().set_visible(False)\n",
    "# Plot for exponent\n",
    "\n",
    "plot1.set_aspect('equal', adjustable='box')\n",
    "#plot1.set_axis_off()\n",
    "plot1.axes.get_xaxis().set_visible(False)\n",
    "plot1.axes.get_yaxis().set_visible(False)\n",
    "plot1.set_title('Plot 1')\n",
    "  \n",
    "# Plot for Square\n",
    "\n",
    "plot3.set_aspect('equal', adjustable='box')\n",
    "plot3.axes.get_xaxis().set_visible(False)\n",
    "plot3.axes.get_yaxis().set_visible(False)\n",
    "#plot3.set_axis_off()\n",
    "plot3.set_title('Plot 3')\n",
    "  \n",
    "# Packing all the plots and displaying them\n",
    "#plt.tight_layout()\n",
    "plt.show()"
   ]
  },
  {
   "cell_type": "code",
   "execution_count": null,
   "metadata": {
    "id": "HFTKpNtnHK-m"
   },
   "outputs": [],
   "source": [
    "import numpy as np\n",
    "import matplotlib.pyplot as plt\n",
    "from matplotlib.animation import FuncAnimation\n",
    "\n",
    "# Fixing random state for reproducibility\n",
    "np.random.seed(19680801)\n",
    "\n",
    "\n",
    "# Create new Figure and an Axes which fills it.\n",
    "fig = plt.figure(figsize=(7, 7))\n",
    "ax = fig.add_axes([0, 0, 1, 1], frameon=False)\n",
    "ax.set_xlim(0, 1), ax.set_xticks([])\n",
    "ax.set_ylim(0, 1), ax.set_yticks([])\n",
    "\n",
    "# Create rain data\n",
    "n_drops = 50\n",
    "rain_drops = np.zeros(n_drops, dtype=[('position', float, (2,)),\n",
    "                                      ('size',     float),\n",
    "                                      ('growth',   float),\n",
    "                                      ('color',    float, (4,))])\n",
    "\n",
    "# Initialize the raindrops in random positions and with\n",
    "# random growth rates.\n",
    "rain_drops['position'] = np.random.uniform(0, 1, (n_drops, 2))\n",
    "rain_drops['growth'] = np.random.uniform(50, 200, n_drops)\n",
    "\n",
    "# Construct the scatter which we will update during animation\n",
    "# as the raindrops develop.\n",
    "scat = ax.scatter(rain_drops['position'][:, 0], rain_drops['position'][:, 1],\n",
    "                  s=rain_drops['size'], lw=0.5, edgecolors=rain_drops['color'],\n",
    "                  facecolors='none')\n",
    "\n",
    "\n",
    "def update(frame_number):\n",
    "    # Get an index which we can use to re-spawn the oldest raindrop.\n",
    "    current_index = frame_number % n_drops\n",
    "\n",
    "    # Make all colors more transparent as time progresses.\n",
    "    rain_drops['color'][:, 3] -= 1.0/len(rain_drops)\n",
    "    rain_drops['color'][:, 3] = np.clip(rain_drops['color'][:, 3], 0, 1)\n",
    "\n",
    "    # Make all circles bigger.\n",
    "    rain_drops['size'] += rain_drops['growth']\n",
    "\n",
    "    # Pick a new position for oldest rain drop, resetting its size,\n",
    "    # color and growth factor.\n",
    "    rain_drops['position'][current_index] = np.random.uniform(0, 1, 2)\n",
    "    rain_drops['size'][current_index] = 5\n",
    "    rain_drops['color'][current_index] = (0, 0, 0, 1)\n",
    "    rain_drops['growth'][current_index] = np.random.uniform(50, 200)\n",
    "\n",
    "    # Update the scatter collection, with the new colors, sizes and positions.\n",
    "    scat.set_edgecolors(rain_drops['color'])\n",
    "    scat.set_sizes(rain_drops['size'])\n",
    "    scat.set_offsets(rain_drops['position'])\n",
    "\n",
    "\n",
    "# Construct the animation, using the update function as the animation director.\n",
    "animation = FuncAnimation(fig, update, interval=10)\n",
    "plt.show()\n"
   ]
  },
  {
   "cell_type": "code",
   "execution_count": null,
   "metadata": {
    "colab": {
     "base_uri": "https://localhost:8080/",
     "height": 133
    },
    "id": "AGlVxSTgdLAC",
    "outputId": "55a575de-1f9c-49d8-d213-e687a2d7c6e4"
   },
   "outputs": [
    {
     "ename": "SyntaxError",
     "evalue": "ignored",
     "output_type": "error",
     "traceback": [
      "\u001b[0;36m  File \u001b[0;32m\"<ipython-input-16-de4c1c5b96b7>\"\u001b[0;36m, line \u001b[0;32m1\u001b[0m\n\u001b[0;31m    s={'(Spade)   J875';'(Heart)   KT64';'(Diamond) QJ842';'(Club)    AKQJ952'}\u001b[0m\n\u001b[0m                       ^\u001b[0m\n\u001b[0;31mSyntaxError\u001b[0m\u001b[0;31m:\u001b[0m invalid syntax\n"
     ]
    }
   ],
   "source": [
    "s={'(Spade)   J875';'(Heart)   KT64';'(Diamond) QJ842';'(Club)    AKQJ952'}\n",
    "hF=figure; set(hF,'color',[1 1 1])\n",
    "hA=axes; set(hA,'color',[1 1 1],'visible','off')\n",
    "text(0.5,0.5,s)"
   ]
  },
  {
   "cell_type": "code",
   "execution_count": null,
   "metadata": {
    "colab": {
     "base_uri": "https://localhost:8080/",
     "height": 275
    },
    "id": "L0T_rwaydLW8",
    "outputId": "4e93085f-ad76-4872-9e20-aec6bdded927"
   },
   "outputs": [
    {
     "data": {
      "image/png": "[encoded data removed]",
      "text/plain": [
       "<Figure size 288x288 with 1 Axes>"
      ]
     },
     "metadata": {
      "filenames": {
       "image/png": "/Users/lsm/Dropbox/invitationBook/lmoss.github.io/booksource/_build/jupyter_execute/tiles_24_0.png"
      },
      "needs_background": "light"
     },
     "output_type": "display_data"
    }
   ],
   "source": [
    "import matplotlib.pyplot as plt\n",
    "import numpy as np\n",
    "\n",
    "# Make a 9x9 grid...\n",
    "nrows, ncols = 9,9\n",
    "image = np.zeros(nrows*ncols)\n",
    "\n",
    "# Set every other cell to a random number (this would be your data)\n",
    "image[::2] = np.random.random(nrows*ncols //2 + 1)\n",
    "\n",
    "# Reshape things into a 9x9 grid.\n",
    "image = image.reshape((nrows, ncols))\n",
    "\n",
    "row_labels = range(nrows)\n",
    "col_labels = ['A', 'B', 'C', 'D', 'E', 'F', 'G', 'H', 'I']\n",
    "plt.matshow(image)\n",
    "#plt.xticks(range(ncols), col_labels)\n",
    "#plt.yticks(range(nrows), row_labels)\n",
    "plt.show()"
   ]
  },
  {
   "cell_type": "code",
   "execution_count": null,
   "metadata": {
    "colab": {
     "base_uri": "https://localhost:8080/",
     "height": 275
    },
    "id": "rtBcDrttejEE",
    "outputId": "b9510161-9cb0-4ffc-dd71-715b0cb968fd"
   },
   "outputs": [
    {
     "data": {
      "image/png": "[encoded data removed]",
      "text/plain": [
       "<Figure size 288x288 with 1 Axes>"
      ]
     },
     "metadata": {
      "filenames": {
       "image/png": "/Users/lsm/Dropbox/invitationBook/lmoss.github.io/booksource/_build/jupyter_execute/tiles_25_0.png"
      },
      "needs_background": "light"
     },
     "output_type": "display_data"
    }
   ],
   "source": [
    "import matplotlib.pyplot as plt\n",
    "import numpy as np\n",
    "\n",
    "# Make a 9x9 grid...\n",
    "nrows, ncols = 9,9\n",
    "image = np.zeros(nrows*ncols)\n",
    "\n",
    "# Set every other cell to a random number (this would be your data)\n",
    "image[::2] = np.random.random(nrows*ncols //2 + 1)\n",
    "\n",
    "# Reshape things into a 9x9 grid.\n",
    "image = image.reshape((nrows, ncols))\n",
    "\n",
    "row_labels = range(nrows)\n",
    "col_labels = ['A', 'B', 'C', 'D', 'E', 'F', 'G', 'H', 'I']\n",
    "plt.matshow(image)\n",
    "#plt.xticks(range(ncols), col_labels)\n",
    "#plt.yticks(range(nrows), row_labels)\n",
    "plt.show()"
   ]
  },
  {
   "cell_type": "code",
   "execution_count": null,
   "metadata": {
    "colab": {
     "base_uri": "https://localhost:8080/",
     "height": 257
    },
    "id": "Nzkfggz0o784",
    "outputId": "5b8dd70f-7faf-418d-d013-c5cf65701d68"
   },
   "outputs": [
    {
     "data": {
      "image/png": "[encoded data removed]",
      "text/plain": [
       "<Figure size 432x288 with 1 Axes>"
      ]
     },
     "metadata": {
      "filenames": {
       "image/png": "/Users/lsm/Dropbox/invitationBook/lmoss.github.io/booksource/_build/jupyter_execute/tiles_26_0.png"
      },
      "needs_background": "light"
     },
     "output_type": "display_data"
    }
   ],
   "source": [
    "import matplotlib.pyplot as plt\n",
    "import numpy as np\n",
    "import pandas\n",
    "\n",
    "from matplotlib.table import Table\n",
    "\n",
    "def main():\n",
    "    data = pandas.DataFrame(np.random.random((12,8)), \n",
    "                columns=['A','B','C','D','E','F','G','H'])\n",
    "    checkerboard_table(data)\n",
    "    fig.set_figheight(5)\n",
    "    fig.set_figwidth(10)\n",
    "    plt.show()\n",
    "\n",
    "def checkerboard_table(data, fmt='{:.2f}', bkg_colors=['yellow', 'white']):\n",
    "    fig, ax = plt.subplots()\n",
    "    ax.set_axis_off()\n",
    "    tb = Table(ax, bbox=[0,0,1,1])\n",
    "\n",
    "    nrows, ncols = data.shape\n",
    "    width, height = 1.0 / ncols, 1.0 / nrows\n",
    "\n",
    "    # Add cells\n",
    "    for (i,j), val in np.ndenumerate(data):\n",
    "        # Index either the first or second item of bkg_colors based on\n",
    "        # a checker board pattern\n",
    "        idx = [j % 2, (j + 1) % 2][i % 2]\n",
    "        color = bkg_colors[idx]\n",
    "\n",
    "        tb.add_cell(i, j, width, height, text=fmt.format(val), \n",
    "                    loc='center', facecolor=color)\n",
    "\n",
    "    # Row Labels...\n",
    "    for i, label in enumerate(data.index):\n",
    "        tb.add_cell(i, -1, width, height, text=label, loc='right', \n",
    "                    edgecolor='none', facecolor='none')\n",
    "    # Column Labels...\n",
    "    for j, label in enumerate(data.columns):\n",
    "        tb.add_cell(-1, j, width, height/2, text=label, loc='center', \n",
    "                           edgecolor='none', facecolor='none')\n",
    "    ax.add_table(tb)\n",
    "    return fig\n",
    "\n",
    "if __name__ == '__main__':\n",
    "    main()"
   ]
  },
  {
   "cell_type": "code",
   "execution_count": null,
   "metadata": {
    "colab": {
     "base_uri": "https://localhost:8080/",
     "height": 248
    },
    "id": "VNhCftjKfSyo",
    "outputId": "623800ce-8964-4f78-e803-a960801a2f5c"
   },
   "outputs": [
    {
     "data": {
      "image/png": "[encoded data removed]",
      "text/plain": [
       "<Figure size 432x288 with 1 Axes>"
      ]
     },
     "metadata": {
      "filenames": {
       "image/png": "/Users/lsm/Dropbox/invitationBook/lmoss.github.io/booksource/_build/jupyter_execute/tiles_27_0.png"
      },
      "needs_background": "light"
     },
     "output_type": "display_data"
    }
   ],
   "source": [
    "import matplotlib.pyplot as plt\n",
    "import numpy as np\n",
    "import pandas\n",
    "\n",
    "from matplotlib.table import Table\n",
    "\n",
    "def main():\n",
    "    data = pandas.DataFrame(np.random.random((2,8)), \n",
    "                columns=['A','B','C','D','E','F','G','H'])\n",
    "    checkerboard_table(data)\n",
    "    plt.show()\n",
    "\n",
    "def checkerboard_table(data, fmt='{:.2f}', bkg_colors=['yellow', 'red']):\n",
    "    fig, ax = plt.subplots()\n",
    "    ax.set_axis_off()\n",
    "    tb = Table(ax, bbox=[0,0,1,1])\n",
    "    nrows, ncols = data.shape\n",
    "    #width, height = 1.0 / ncols, 1.0 / nrows\n",
    "    width = 3.0 \n",
    "    height = 1.0\n",
    "\n",
    "    # Add cells\n",
    "    for (i,j), val in np.ndenumerate(data):\n",
    "        # Index either the first or second item of bkg_colors based on\n",
    "        # a checker board pattern\n",
    "        idx = [j % 2, (j + 1) % 2][i % 2]\n",
    "        color = bkg_colors[idx]\n",
    "\n",
    "        #tb.add_cell(i, j, width, height, text=fmt.format(val), \n",
    "                    #loc='right', facecolor=color)\n",
    "        tb.add_cell(i, j, width, height, text='34', \n",
    "                    loc='left', facecolor=color)\n",
    "\n",
    "    ax.add_table(tb)\n",
    "    return fig\n",
    "\n",
    "if __name__ == '__main__':\n",
    "    main()"
   ]
  },
  {
   "cell_type": "code",
   "execution_count": null,
   "metadata": {
    "colab": {
     "base_uri": "https://localhost:8080/",
     "height": 264
    },
    "id": "4bGwFQkef4Wf",
    "outputId": "da78eaf8-013d-4964-aa4f-bb02ad3576f9"
   },
   "outputs": [
    {
     "data": {
      "image/png": "[encoded data removed]",
      "text/plain": [
       "<Figure size 432x288 with 4 Axes>"
      ]
     },
     "metadata": {
      "filenames": {
       "image/png": "/Users/lsm/Dropbox/invitationBook/lmoss.github.io/booksource/_build/jupyter_execute/tiles_28_0.png"
      },
      "needs_background": "light"
     },
     "output_type": "display_data"
    }
   ],
   "source": [
    "import matplotlib.pyplot as plt\n",
    "import numpy as np\n",
    "import matplotlib\n",
    "matplotlib.rcParams['font.size'] = 8.0\n",
    "\n",
    "# Fixing random state for reproducibility\n",
    "np.random.seed(19680801)\n",
    "\n",
    "\n",
    "# create random data\n",
    "data1 = np.random.random([6, 50])\n",
    "\n",
    "# set different colors for each set of positions\n",
    "colors1 = ['C{}'.format(i) for i in range(6)]\n",
    "\n",
    "# set different line properties for each set of positions\n",
    "# note that some overlap\n",
    "lineoffsets1 = [-15, -3, 1, 1.5, 6, 10]\n",
    "linelengths1 = [5, 2, 1, 1, 3, 1.5]\n",
    "\n",
    "fig, axs = plt.subplots(2, 2)\n",
    "\n",
    "# create a horizontal plot\n",
    "axs[0, 0].eventplot(data1, colors=colors1, lineoffsets=lineoffsets1,\n",
    "                    linelengths=linelengths1)\n",
    "\n",
    "# create a vertical plot\n",
    "axs[1, 0].eventplot(data1, colors=colors1, lineoffsets=lineoffsets1,\n",
    "                    linelengths=linelengths1, orientation='vertical')\n",
    "\n",
    "# create another set of random data.\n",
    "# the gamma distribution is only used for aesthetic purposes\n",
    "data2 = np.random.gamma(4, size=[60, 50])\n",
    "\n",
    "# use individual values for the parameters this time\n",
    "# these values will be used for all data sets (except lineoffsets2, which\n",
    "# sets the increment between each data set in this usage)\n",
    "colors2 = 'black'\n",
    "lineoffsets2 = 1\n",
    "linelengths2 = 1\n",
    "\n",
    "# create a horizontal plot\n",
    "axs[0, 1].eventplot(data2, colors=colors2, lineoffsets=lineoffsets2,\n",
    "                    linelengths=linelengths2)\n",
    "\n",
    "\n",
    "# create a vertical plot\n",
    "axs[1, 1].eventplot(data2, colors=colors2, lineoffsets=lineoffsets2,\n",
    "                    linelengths=linelengths2, orientation='vertical')\n",
    "\n",
    "plt.show()"
   ]
  },
  {
   "cell_type": "code",
   "execution_count": null,
   "metadata": {
    "colab": {
     "base_uri": "https://localhost:8080/",
     "height": 770
    },
    "id": "ha9avNpm2c8s",
    "outputId": "e6198dc7-5b53-44d0-9fe0-50a045de0894"
   },
   "outputs": [
    {
     "data": {
      "image/png": "[encoded data removed]",
      "text/plain": [
       "<Figure size 432x432 with 3 Axes>"
      ]
     },
     "metadata": {
      "filenames": {
       "image/png": "/Users/lsm/Dropbox/invitationBook/lmoss.github.io/booksource/_build/jupyter_execute/tiles_29_0.png"
      },
      "needs_background": "light"
     },
     "output_type": "display_data"
    },
    {
     "data": {
      "image/png": "[encoded data removed]",
      "text/plain": [
       "<Figure size 432x432 with 2 Axes>"
      ]
     },
     "metadata": {
      "filenames": {
       "image/png": "/Users/lsm/Dropbox/invitationBook/lmoss.github.io/booksource/_build/jupyter_execute/tiles_29_1.png"
      },
      "needs_background": "light"
     },
     "output_type": "display_data"
    }
   ],
   "source": [
    "import matplotlib.pyplot as plt\n",
    "import numpy as np\n",
    "\n",
    "\n",
    "y = np.arange(0.0, 2, 0.01)\n",
    "x1 = np.sin(2 * np.pi * y)\n",
    "x2 = 1.2 * np.sin(4 * np.pi * y)\n",
    "\n",
    "fig, [ax1, ax2, ax3] = plt.subplots(1, 3, sharey=True, figsize=(6, 6))\n",
    "\n",
    "ax1.fill_betweenx(y, 0, x1)\n",
    "ax1.set_title('between (x1, 0)')\n",
    "\n",
    "ax2.fill_betweenx(y, x1, 1)\n",
    "ax2.set_title('between (x1, 1)')\n",
    "ax2.set_xlabel('x')\n",
    "\n",
    "ax3.fill_betweenx(y, x1, x2)\n",
    "ax3.set_title('between (x1, x2)')\n",
    "\n",
    "#############################################################################\n",
    "# Now fill between x1 and x2 where a logical condition is met. Note this is\n",
    "# different than calling::\n",
    "#\n",
    "#   fill_between(y[where], x1[where], x2[where])\n",
    "#\n",
    "# because of edge effects over multiple contiguous regions.\n",
    "\n",
    "fig, [ax, ax1] = plt.subplots(1, 2, sharey=True, figsize=(6, 6))\n",
    "ax.plot(x1, y, x2, y, color='black')\n",
    "ax.fill_betweenx(y, x1, x2, where=x2 >= x1, facecolor='green')\n",
    "ax.fill_betweenx(y, x1, x2, where=x2 <= x1, facecolor='red')\n",
    "ax.set_title('fill_betweenx where')\n",
    "\n",
    "\n",
    "# Test support for masked arrays.\n",
    "x2 = np.ma.masked_greater(x2, 1.0)\n",
    "ax1.plot(x1, y, x2, y, color='black')\n",
    "ax1.fill_betweenx(y, x1, x2, where=x2 >= x1, facecolor='green')\n",
    "ax1.fill_betweenx(y, x1, x2, where=x2 <= x1, facecolor='red')\n",
    "ax1.set_title('regions with x2 > 1 are masked')\n",
    "plt.show()"
   ]
  },
  {
   "cell_type": "code",
   "execution_count": null,
   "metadata": {
    "colab": {
     "base_uri": "https://localhost:8080/",
     "height": 278
    },
    "id": "N-CptrHG2fv5",
    "outputId": "dcd5ae08-49a4-4cfa-bf8c-b00b5d28ff1b"
   },
   "outputs": [
    {
     "data": {
      "image/png": "[encoded data removed]",
      "text/plain": [
       "<Figure size 432x288 with 1 Axes>"
      ]
     },
     "metadata": {
      "filenames": {
       "image/png": "/Users/lsm/Dropbox/invitationBook/lmoss.github.io/booksource/_build/jupyter_execute/tiles_30_0.png"
      },
      "needs_background": "light"
     },
     "output_type": "display_data"
    }
   ],
   "source": [
    "import numpy as np\n",
    "import matplotlib.pyplot as pyplot\n",
    "\n",
    "#Declare the size of the interval dx, dy.\n",
    "(dx, dy) = (0.015, 0.015)\n",
    "\n",
    "#Create an array x and y that stores all values with dx and dy intervals,\n",
    "#respectively, from -4 to 4 (since we need the square). arange() is a NumPy library function\n",
    "#that gives an array of objects with equally spaced values within a defined interval.\n",
    "x = np.arange(-4.0, 4.0, dx)\n",
    "y = np.arange(-4.0, 4.0, dy)\n",
    "\n",
    "#Plot a rectangle grid with vector coordinates.\n",
    "(X, Y) = np.meshgrid(x, y)\n",
    "extent = (np.min(x), np.max(x), np.min(y), np.max(y))\n",
    "\n",
    "#To calculate the alternate position for coloring, use the outer function,\n",
    "#which results in two vectors, and the modulus is 2.\n",
    "z1 = np.add.outer(range(8), range(8)) % 2\n",
    "\n",
    "#imshow function in MatPlotLib helps in plotting\n",
    "pyplot.imshow(z1, cmap='binary_r', interpolation='nearest', extent=extent, alpha=1)\n",
    "\n",
    "def chess(x, y):\n",
    "    return (1 - x / 2 + x ** 5 + y ** 6) * np.exp(-(x ** 2 + y ** 2))\n",
    "\n",
    "z2 = chess(X, Y)\n",
    "pyplot.imshow(z2, alpha=0, interpolation='bilinear', extent=extent)\n",
    "\n",
    "\n",
    "#set the plot's title.\n",
    "pyplot.title('Chess Board in Python')\n",
    "\n",
    "# Save the chart file\n",
    "#pyplot.savefig('matplotlib_pie_chart01.png', dpi=300)\n",
    "\n",
    "# Print the chart\n",
    "pyplot.show()"
   ]
  },
  {
   "cell_type": "code",
   "execution_count": null,
   "metadata": {
    "colab": {
     "base_uri": "https://localhost:8080/",
     "height": 325
    },
    "id": "Doqrwtyh6kdZ",
    "outputId": "7bec69d3-3127-4649-8177-7104013fd15d"
   },
   "outputs": [
    {
     "name": "stderr",
     "output_type": "stream",
     "text": [
      "/usr/local/lib/python3.7/dist-packages/IPython/core/pylabtools.py:128: UserWarning: This figure includes Axes that are not compatible with tight_layout, so results might be incorrect.\n",
      "  fig.canvas.print_figure(bytes_io, **kw)\n"
     ]
    },
    {
     "data": {
      "image/png": "[encoded data removed]",
      "text/plain": [
       "<Figure size 504x252 with 3 Axes>"
      ]
     },
     "metadata": {
      "filenames": {
       "image/png": "/Users/lsm/Dropbox/invitationBook/lmoss.github.io/booksource/_build/jupyter_execute/tiles_31_1.png"
      },
      "needs_background": "light"
     },
     "output_type": "display_data"
    }
   ],
   "source": [
    "import matplotlib.pyplot as plt\n",
    "import numpy as np\n",
    "\n",
    "plt.subplot(211)\n",
    "plt.imshow(np.random.random((100, 100)), cmap=plt.cm.BuPu_r)\n",
    "plt.subplot(212)\n",
    "plt.imshow(np.random.random((100, 100)), cmap=plt.cm.BuPu_r)\n",
    "\n",
    "plt.subplots_adjust(bottom=0.1, right=0.3, top=0.9)\n",
    "cax = plt.axes([0.85, 0.1, 0.075, 0.8])\n",
    "plt.colorbar(cax=cax)\n",
    "plt.show()"
   ]
  },
  {
   "cell_type": "code",
   "execution_count": null,
   "metadata": {
    "id": "gDhDo-XMAyOJ"
   },
   "outputs": [],
   "source": [
    "class Tree(object):\n",
    "        def __init__(self, entry, left=None, right=None):\n",
    "            self.entry = entry\n",
    "            self.left = left\n",
    "            self.right = right\n",
    "        def __repr__(self):\n",
    "            args = repr(self.entry)\n",
    "            if self.left or self.right:\n",
    "                args += ', {0}, {1}'.format(repr(self.left), repr(self.right))\n",
    "            return 'Tree({0})'.format(args)\n",
    "def fib_tree(n):\n",
    "        \"\"\"Return a Tree that represents a recursive Fibonacci calculation.\"\"\"\n",
    "        if n == 1:\n",
    "            return Tree(0)\n",
    "        if n == 2:\n",
    "            return Tree(1)\n",
    "        left = fib_tree(n-2)\n",
    "        right = fib_tree(n-1)\n",
    "        return Tree(left.entry + right.entry, left, right)            "
   ]
  },
  {
   "cell_type": "code",
   "execution_count": null,
   "metadata": {
    "colab": {
     "base_uri": "https://localhost:8080/"
    },
    "id": "o_VjymPEHGBA",
    "outputId": "5e786a54-9faa-4e4c-a277-801251223c42"
   },
   "outputs": [
    {
     "data": {
      "text/plain": [
       "False"
      ]
     },
     "execution_count": 129,
     "metadata": {},
     "output_type": "execute_result"
    }
   ],
   "source": [
    "fib_tree(10).left == fib_tree(8)"
   ]
  },
  {
   "cell_type": "code",
   "execution_count": null,
   "metadata": {
    "id": "XwoUCruUHORl"
   },
   "outputs": [],
   "source": [
    "zTree = Tree('z')"
   ]
  },
  {
   "cell_type": "code",
   "execution_count": null,
   "metadata": {
    "colab": {
     "base_uri": "https://localhost:8080/"
    },
    "id": "S8KbGSouHopg",
    "outputId": "a7fa490d-e2a4-45d6-d3ad-aedbc63f9b16"
   },
   "outputs": [
    {
     "data": {
      "text/plain": [
       "False"
      ]
     },
     "execution_count": 123,
     "metadata": {},
     "output_type": "execute_result"
    }
   ],
   "source": [
    "fib_tree(10).left == fib_tree(9)"
   ]
  },
  {
   "cell_type": "code",
   "execution_count": null,
   "metadata": {
    "colab": {
     "base_uri": "https://localhost:8080/"
    },
    "id": "Ay6LIDo-Htd3",
    "outputId": "a87fc9c5-342b-4d38-a78a-1505740d402a"
   },
   "outputs": [
    {
     "data": {
      "text/plain": [
       "Tree(13, Tree(5, Tree(2, Tree(1), Tree(1, Tree(0), Tree(1))), Tree(3, Tree(1, Tree(0), Tree(1)), Tree(2, Tree(1), Tree(1, Tree(0), Tree(1))))), Tree(8, Tree(3, Tree(1, Tree(0), Tree(1)), Tree(2, Tree(1), Tree(1, Tree(0), Tree(1)))), Tree(5, Tree(2, Tree(1), Tree(1, Tree(0), Tree(1))), Tree(3, Tree(1, Tree(0), Tree(1)), Tree(2, Tree(1), Tree(1, Tree(0), Tree(1)))))))"
      ]
     },
     "execution_count": 126,
     "metadata": {},
     "output_type": "execute_result"
    }
   ],
   "source": [
    "\n",
    "fib_tree(8)"
   ]
  },
  {
   "cell_type": "code",
   "execution_count": null,
   "metadata": {
    "colab": {
     "base_uri": "https://localhost:8080/"
    },
    "id": "7_X-tyMXH4Mz",
    "outputId": "ade6203f-4a8c-4628-a290-4f7987e1b4fa"
   },
   "outputs": [
    {
     "name": "stdout",
     "output_type": "stream",
     "text": [
      "Looking in indexes: https://pypi.org/simple, https://us-python.pkg.dev/colab-wheels/public/simple/\n",
      "Requirement already satisfied: anytree in /usr/local/lib/python3.7/dist-packages (2.8.0)\n",
      "Requirement already satisfied: six>=1.9.0 in /usr/local/lib/python3.7/dist-packages (from anytree) (1.15.0)\n"
     ]
    }
   ],
   "source": [
    "!pip install anytree\n",
    "\n",
    "from anytree import Node, RenderTree\n",
    "udo = Node(\"comp\")\n",
    "marc = Node(\"Marc\", parent=udo)\n",
    "lian = Node(\"Lian\", parent=marc)\n",
    "dan = Node(\"Dan\", parent=udo)\n",
    "jet = Node(\"Jet\", parent=dan)\n",
    "jan = Node(\"Jan\", parent=dan)\n",
    "sammy = Node(\"Sammy\", parent=joe)\n",
    "betty = Node(\"Betty\", parent=joe)\n",
    "#joe = Node(\"Joe\", parent=dan, children=[sammy,betty])\n",
    "joe = Node(\"Joe\", parent=dan)\n"
   ]
  },
  {
   "cell_type": "code",
   "execution_count": null,
   "metadata": {
    "id": "TKdwoNyHgKf5"
   },
   "outputs": [],
   "source": [
    "udo = Node(\"Udo\")\n",
    "marc = Node(\"Marc\", parent=udo)\n",
    "lian = Node(\"Lian\", parent=marc)\n",
    "dan = Node(\"Dan\", parent=udo)\n",
    "jet = Node(\"Jet\", parent=dan)\n",
    "jan = Node(\"Jan\", parent=dan)\n",
    "joe = Node(\"Joe\", parent=udo)\n",
    "sammy = Node(\"Sammy\", parent=joe)\n",
    "betty = Node(\"Betty\", parent=joe)\n",
    "#joe = Node(\"Joe\", parent=dan, children=[sammy,betty])\n",
    "\n"
   ]
  },
  {
   "cell_type": "code",
   "execution_count": null,
   "metadata": {
    "colab": {
     "base_uri": "https://localhost:8080/"
    },
    "id": "kGCj0K-mTkPp",
    "outputId": "0e9a012b-35f6-4ae9-a77e-2d9540ad724b"
   },
   "outputs": [
    {
     "name": "stdout",
     "output_type": "stream",
     "text": [
      "Udo\n",
      "├── Marc\n",
      "│   └── Lian\n",
      "├── Dan\n",
      "│   ├── Jet\n",
      "│   └── Jan\n",
      "└── Joe\n",
      "    ├── Sammy\n",
      "    └── Betty\n"
     ]
    }
   ],
   "source": [
    "for pre, fill, node in RenderTree(udo):\n",
    "...     print(\"%s%s\" % (pre, node.name))"
   ]
  },
  {
   "cell_type": "code",
   "execution_count": null,
   "metadata": {
    "colab": {
     "base_uri": "https://localhost:8080/"
    },
    "id": "3jbG9OobTwnk",
    "outputId": "7c4e992c-52b7-48fb-8e3f-ba70cdb6777e"
   },
   "outputs": [
    {
     "data": {
      "text/plain": [
       "(Node('/Udo/Marc'),\n",
       " Node('/Udo/Marc/Lian'),\n",
       " Node('/Udo/Dan'),\n",
       " Node('/Udo/Dan/Jet'),\n",
       " Node('/Udo/Dan/Jan'),\n",
       " Node('/Udo/Joe'),\n",
       " Node('/Udo/Joe/Sammy'),\n",
       " Node('/Udo/Joe/Betty'))"
      ]
     },
     "execution_count": 160,
     "metadata": {},
     "output_type": "execute_result"
    }
   ],
   "source": [
    "udo.descendants"
   ]
  },
  {
   "cell_type": "code",
   "execution_count": null,
   "metadata": {
    "colab": {
     "base_uri": "https://localhost:8080/",
     "height": 133
    },
    "id": "6j-C-gsqT3Gx",
    "outputId": "62bcabc0-f9eb-42c1-8a7a-9aa9d17a559e"
   },
   "outputs": [
    {
     "ename": "IndentationError",
     "evalue": "ignored",
     "output_type": "error",
     "traceback": [
      "\u001b[0;36m  File \u001b[0;32m\"<ipython-input-143-ee18d13fc2ab>\"\u001b[0;36m, line \u001b[0;32m3\u001b[0m\n\u001b[0;31m    ...     print(\"%s%s\" % (pre, node.name))\u001b[0m\n\u001b[0m      ^\u001b[0m\n\u001b[0;31mIndentationError\u001b[0m\u001b[0;31m:\u001b[0m expected an indented block\n"
     ]
    }
   ],
   "source": [
    "dan.descendants\n",
    "for pre, fill, node in RenderTree(dan):\n",
    "...     print(\"%s%s\" % (pre, node.name))"
   ]
  },
  {
   "cell_type": "code",
   "execution_count": null,
   "metadata": {
    "id": "kwqMciR_V3K0"
   },
   "outputs": [],
   "source": [
    "def f(tree):\n",
    "  return length(tree.children)"
   ]
  },
  {
   "cell_type": "code",
   "execution_count": null,
   "metadata": {
    "colab": {
     "base_uri": "https://localhost:8080/",
     "height": 240
    },
    "id": "h7PJXobgj9dY",
    "outputId": "8b259901-5ef6-49a3-de85-8d891d42c6f7"
   },
   "outputs": [
    {
     "ename": "NameError",
     "evalue": "ignored",
     "output_type": "error",
     "traceback": [
      "\u001b[0;31m---------------------------------------------------------------------------\u001b[0m",
      "\u001b[0;31mNameError\u001b[0m                                 Traceback (most recent call last)",
      "\u001b[0;32m<ipython-input-166-c7d77d08a03a>\u001b[0m in \u001b[0;36m<module>\u001b[0;34m\u001b[0m\n\u001b[0;32m----> 1\u001b[0;31m \u001b[0mf\u001b[0m\u001b[0;34m(\u001b[0m\u001b[0mudo\u001b[0m\u001b[0;34m)\u001b[0m\u001b[0;34m\u001b[0m\u001b[0;34m\u001b[0m\u001b[0m\n\u001b[0m",
      "\u001b[0;32m<ipython-input-165-f4ee5108bffa>\u001b[0m in \u001b[0;36mf\u001b[0;34m(tree)\u001b[0m\n\u001b[1;32m      1\u001b[0m \u001b[0;32mdef\u001b[0m \u001b[0mf\u001b[0m\u001b[0;34m(\u001b[0m\u001b[0mtree\u001b[0m\u001b[0;34m)\u001b[0m\u001b[0;34m:\u001b[0m\u001b[0;34m\u001b[0m\u001b[0;34m\u001b[0m\u001b[0m\n\u001b[0;32m----> 2\u001b[0;31m   \u001b[0;32mreturn\u001b[0m \u001b[0mlength\u001b[0m\u001b[0;34m(\u001b[0m\u001b[0mtree\u001b[0m\u001b[0;34m.\u001b[0m\u001b[0mchildren\u001b[0m\u001b[0;34m)\u001b[0m\u001b[0;34m\u001b[0m\u001b[0;34m\u001b[0m\u001b[0m\n\u001b[0m",
      "\u001b[0;31mNameError\u001b[0m: name 'length' is not defined"
     ]
    }
   ],
   "source": [
    "f(udo)"
   ]
  },
  {
   "cell_type": "code",
   "execution_count": null,
   "metadata": {
    "id": "H6s1P__Yj-E6"
   },
   "outputs": [],
   "source": [
    "from anytree import Node, RenderTree\n",
    "root = Node(\"root\")\n",
    "s0 = Node(\"sub0\", parent=root)\n",
    "s0b = Node(\"sub0B\", parent=s0, foo=4, bar=109)\n",
    "s0a = Node(\"sub0A\", parent=s0)\n",
    "s1 = Node(\"sub1\", parent=root)\n",
    "s1a = Node(\"sub1A\", parent=s1)\n",
    "s1b = Node(\"sub1B\", parent=s1, bar=8)\n",
    "s1c = Node(\"sub1C\", parent=s1)\n",
    "s1ca = Node(\"sub1Ca\", parent=s1c)"
   ]
  },
  {
   "cell_type": "code",
   "execution_count": null,
   "metadata": {
    "colab": {
     "base_uri": "https://localhost:8080/",
     "height": 133
    },
    "id": "sdF92ZAAkcxT",
    "outputId": "7a4fc264-9e65-4a62-f14d-dc0e8b9c39cb"
   },
   "outputs": [
    {
     "ename": "SyntaxError",
     "evalue": "ignored",
     "output_type": "error",
     "traceback": [
      "\u001b[0;36m  File \u001b[0;32m\"<ipython-input-183-f6bfa293fce2>\"\u001b[0;36m, line \u001b[0;32m1\u001b[0m\n\u001b[0;31m    for pre, fill, node in RenderTree(root)):\u001b[0m\n\u001b[0m                                           ^\u001b[0m\n\u001b[0;31mSyntaxError\u001b[0m\u001b[0;31m:\u001b[0m invalid syntax\n"
     ]
    }
   ],
   "source": [
    "for pre, fill, node in RenderTree(root)):\n",
    "...     print(\"%s%s\" % (pre, node.name))"
   ]
  },
  {
   "cell_type": "code",
   "execution_count": null,
   "metadata": {
    "colab": {
     "base_uri": "https://localhost:8080/"
    },
    "id": "3ig8sFgQksEF",
    "outputId": "04b09357-2e1b-4e64-cda2-b090483e71f6"
   },
   "outputs": [
    {
     "name": "stdout",
     "output_type": "stream",
     "text": [
      "Node('/root')\n",
      "├── Node('/root/sub0')\n",
      "│   ├── Node('/root/sub0/sub0B', bar=109, foo=4)\n",
      "│   └── Node('/root/sub0/sub0A')\n",
      "└── Node('/root/sub1')\n",
      "    ├── Node('/root/sub1/sub1A')\n",
      "    ├── Node('/root/sub1/sub1B', bar=8)\n",
      "    └── Node('/root/sub1/sub1C')\n",
      "        └── Node('/root/sub1/sub1C/sub1Ca')\n"
     ]
    }
   ],
   "source": [
    " print(RenderTree(root))"
   ]
  },
  {
   "cell_type": "code",
   "execution_count": null,
   "metadata": {
    "colab": {
     "base_uri": "https://localhost:8080/"
    },
    "id": "GbrwBgBsk3fL",
    "outputId": "ee29ecda-d061-4013-d484-5ce1a21ba7aa"
   },
   "outputs": [
    {
     "data": {
      "text/plain": [
       "(Node('/root/sub0'),\n",
       " Node('/root/sub0/sub0B', bar=109, foo=4),\n",
       " Node('/root/sub0/sub0A'),\n",
       " Node('/root/sub1'),\n",
       " Node('/root/sub1/sub1A'),\n",
       " Node('/root/sub1/sub1B', bar=8),\n",
       " Node('/root/sub1/sub1C'),\n",
       " Node('/root/sub1/sub1C/sub1Ca'))"
      ]
     },
     "execution_count": 180,
     "metadata": {},
     "output_type": "execute_result"
    }
   ],
   "source": [
    "root.descendants"
   ]
  },
  {
   "cell_type": "code",
   "execution_count": null,
   "metadata": {
    "colab": {
     "base_uri": "https://localhost:8080/"
    },
    "id": "78UsfZpgk5-r",
    "outputId": "e65905df-3a9b-4637-d0ec-f8917f9c460d"
   },
   "outputs": [
    {
     "name": "stdout",
     "output_type": "stream",
     "text": [
      "root\n",
      "├── sub0\n",
      "│   ├── sub0B\n",
      "│   └── sub0A\n",
      "└── sub1\n",
      "    ├── sub1A\n",
      "    ├── sub1B\n",
      "    └── sub1C\n",
      "        └── sub1Ca\n"
     ]
    }
   ],
   "source": [
    "from anytree import AnyNode, RenderTree\n",
    "root = AnyNode(id=\"root\")\n",
    "s0 = AnyNode(id=\"sub0\", parent=root)\n",
    "s0b = AnyNode(id=\"sub0B\", parent=s0, foo=4, bar=109)\n",
    "s0a = AnyNode(id=\"sub0A\", parent=s0)\n",
    "s1 = AnyNode(id=\"sub1\", parent=root)\n",
    "s1a = AnyNode(id=\"sub1A\", parent=s1)\n",
    "s1b = AnyNode(id=\"sub1B\", parent=s1, bar=8)\n",
    "s1c = AnyNode(id=\"sub1C\", parent=s1)\n",
    "s1ca = AnyNode(id=\"sub1Ca\", parent=s1c)\n",
    "print(RenderTree(root).by_attr('id'))"
   ]
  },
  {
   "cell_type": "code",
   "execution_count": null,
   "metadata": {
    "colab": {
     "base_uri": "https://localhost:8080/"
    },
    "id": "oUDM4Md2mNwf",
    "outputId": "4a65bbb1-7100-4cf5-d223-d2b6644718c2"
   },
   "outputs": [
    {
     "name": "stdout",
     "output_type": "stream",
     "text": [
      "sub1\n",
      "├── sub1A\n",
      "├── sub1B\n",
      "└── sub1C\n",
      "    └── sub1Ca\n"
     ]
    }
   ],
   "source": [
    "print(RenderTree(s1).by_attr('id'))"
   ]
  },
  {
   "cell_type": "code",
   "execution_count": null,
   "metadata": {
    "id": "OVuc5pBSmTrR"
   },
   "outputs": [],
   "source": [
    "class Tree(object):\n",
    "    \"Generic tree node.\"\n",
    "    def __init__(self, name='root', children=None, other='other'):\n",
    "        self.name = name\n",
    "        self.other = other\n",
    "        self.children = []\n",
    "        if children is not None:\n",
    "            for child in children:\n",
    "                self.add_child(child)\n",
    "    def __repr__(self):\n",
    "        return self.name\n",
    "    def add_child(self, node):\n",
    "        assert isinstance(node, Tree)\n",
    "        self.children.append(node)\n",
    "#    *\n",
    "#   /|\\\n",
    "#  1 2 +\n",
    "#     / \\\n",
    "#    3   4\n",
    "t = Tree('*', [Tree('1',[],1),\n",
    "               Tree('2'),\n",
    "               Tree('*', [Tree('3'),\n",
    "                          Tree('4')])],2)"
   ]
  },
  {
   "cell_type": "code",
   "execution_count": null,
   "metadata": {
    "id": "b91avc_5tr3E"
   },
   "outputs": [],
   "source": [
    "def arity(tree):\n",
    "  if tree.name == 'z':\n",
    "    return(1)\n",
    "  if tree.name == 's':\n",
    "    return(1)\n",
    "  if tree.name == 'proj':\n",
    "    return(tree.other[1])\n",
    "  if tree.name == 'comp':\n",
    "    templist = [arity(u) for u in tree.children[1:]]  \n",
    "    if all_equal(templist):\n",
    "      return (templist[0])\n",
    "    else:\n",
    "      return(999)\n",
    "  if tree.name == 'plus':\n",
    "      return(2)    "
   ]
  },
  {
   "cell_type": "code",
   "execution_count": null,
   "metadata": {
    "colab": {
     "base_uri": "https://localhost:8080/"
    },
    "id": "XKvIlhqOyC9S",
    "outputId": "01314ea7-f6bc-4c8e-cc9e-5081d2cf1209"
   },
   "outputs": [
    {
     "name": "stdout",
     "output_type": "stream",
     "text": [
      "4\n",
      "h5 arity4\n",
      "4\n"
     ]
    },
    {
     "data": {
      "text/plain": [
       "[add, proj, proj]"
      ]
     },
     "execution_count": 290,
     "metadata": {},
     "output_type": "execute_result"
    }
   ],
   "source": [
    "u = Tree('comp', [Tree('proj',[],[2,4]),\n",
    "               Tree('z'),\n",
    "               Tree('comp', [Tree('s'),\n",
    "                          Tree('proj',[],[1,4])])],2)\n",
    "h = Tree('comp', [Tree('z'),Tree('proj',[], [1,2])])\n",
    "h2 = Tree('proj',[], [2,4])\n",
    "print(arity(h2))\n",
    "\n",
    "h1 = Tree('z')\n",
    "arity(h2)\n",
    "all_equal([arity(k) for k in h.children])\n",
    "\n",
    "h5 = Tree('comp',[Tree('add'),Tree('proj',[],[2,4]), Tree('proj',[],[3,4])])\n",
    "print('h5 arity' + str(arity(h5)))\n",
    "h6 = Tree('add')\n",
    "p_2_4 = Tree('proj',[],[2,4])\n",
    "print(arity(p_2_4))\n",
    "[5,6,7][1:]\n",
    "h5.children"
   ]
  },
  {
   "cell_type": "code",
   "execution_count": null,
   "metadata": {
    "id": "diq1tbZPttng"
   },
   "outputs": [],
   "source": [
    "def maxie(l):\n",
    "  if l == []:\n",
    "    return(0)\n",
    "  else:\n",
    "    return(max(l))\n",
    "def height(tree):\n",
    "  n = maxie([height(u) +1 for u in tree.children])\n",
    "  return(n)\n",
    "def all_equal(list):\n",
    "  if (len(list)==0 or len(list)==1):\n",
    "    return(True)\n",
    "  else:\n",
    "    b = all_equal(list[1:])  \n",
    "    if b == False:\n",
    "      return(False)\n",
    "    else:\n",
    "      return(list[0]==list[1])"
   ]
  },
  {
   "cell_type": "code",
   "execution_count": null,
   "metadata": {
    "colab": {
     "base_uri": "https://localhost:8080/"
    },
    "id": "6PXI6ywyvKvc",
    "outputId": "11d30043-fb8c-43f5-e867-c32af577c7e2"
   },
   "outputs": [
    {
     "data": {
      "text/plain": [
       "True"
      ]
     },
     "execution_count": 250,
     "metadata": {},
     "output_type": "execute_result"
    }
   ],
   "source": [
    "all_equal([1,1,1,1])"
   ]
  },
  {
   "cell_type": "code",
   "execution_count": null,
   "metadata": {
    "colab": {
     "base_uri": "https://localhost:8080/"
    },
    "id": "Om1TyIRFvQLP",
    "outputId": "0bd5d7df-1555-46d0-fad9-0d9efc223f4c"
   },
   "outputs": [
    {
     "data": {
      "text/plain": [
       "3"
      ]
     },
     "execution_count": 243,
     "metadata": {},
     "output_type": "execute_result"
    }
   ],
   "source": [
    "height(v)"
   ]
  },
  {
   "cell_type": "code",
   "execution_count": null,
   "metadata": {
    "id": "t6tBS8kdvTXN"
   },
   "outputs": [],
   "source": [
    "def bump_instr(inst, amount):\n",
    "  if instruction_type(inst) in ['forward','backward']:  \n",
    "    return(inst) \n",
    "  elif instruction_type(inst) == 'add1':  \n",
    "    n = number_help(inst)\n",
    "    return(ones(n+amount)+'#')\n",
    "  elif instruction_type(inst) == 'add#':  \n",
    "    n = number_help(inst)\n",
    "    return(ones(n+amount)+'##')\n",
    "  elif instruction_type(inst) == 'cases':  \n",
    "    n = number_help(inst)\n",
    "    return(ones(n+amount)+'#####')\n",
    "def bump(prog,amount):\n",
    "  par = parse(prog)\n",
    "  t = [bump_instr(instr,amount) for instr in par]\n",
    "  return(unparse(t))\n",
    "\n",
    "def clear_prog(n):\n",
    "   a = ones(n) + '#####'\n",
    "   b = '111###'\n",
    "   c = '1###'\n",
    "   d = '111####'\n",
    "   return(a+b+c+d)\n",
    "\n",
    "def move_prog(n,m):\n",
    "   a = ones(n) + '#####'\n",
    "   b = '111111###'\n",
    "   c = '111###'\n",
    "   d = ones(m)+'##'\n",
    "   e = '1111####'\n",
    "   f = ones(m)+'#'\n",
    "   g = '111111####'\n",
    "   return(a+b+c+d+e+f+g)\n",
    "\n",
    "def copy_prog(n,m,p):\n",
    "   a = ones(n) + '#####'\n",
    "   b = '11111111###'\n",
    "   c = '1111###'\n",
    "   d = ones(m)+'##'\n",
    "   d1 = ones(p) + '##'\n",
    "   e = '11111####'\n",
    "   f = ones(m)+'#'\n",
    "   f1 = ones(p) + '#'\n",
    "   g = '11111111####'\n",
    "   return(a+b+c+d+d1+e+f+f1+g+move_prog(p,n))  \n",
    "\n",
    "def proj_prog(ind,upper):\n",
    "  index = [k+1 for k in range(ind-1)]    \n",
    "  #print(index)\n",
    "  first_part = [clear_prog(j) for j in index]\n",
    "  #print(first_part)\n",
    "  if ind == 1:\n",
    "    middle = []\n",
    "  else: \n",
    "    middle=[move_prog(ind,1)]\n",
    "  second_index =  [k+ind+1 for k in range(upper-ind)] \n",
    "  #print(second_index)\n",
    "  last_part = [clear_prog(j) for j in second_index]   \n",
    "  together = first_part + middle + last_part\n",
    "  done = unparse(together)\n",
    "  if ind == 1 and upper==1:\n",
    "    return('1###')\n",
    "  else:\n",
    "    return(done)         "
   ]
  },
  {
   "cell_type": "code",
   "execution_count": null,
   "metadata": {
    "id": "gbZs0C56vW-j"
   },
   "outputs": [],
   "source": [
    "def compose(f,proglist,n):\n",
    "  # n is number of registers needed by the fns in the proglist\n",
    "  k = len(proglist)\n",
    "  a = [copy_all_forward(n,n+i)+bump(proglist[i-1],n+i-1) for i in range(1,k+1)]\n",
    "  b = unparse(a)\n",
    "  c = b + bump(f,n)\n",
    "  ## should have a move of register n+1 back to 1 and a clear\n",
    "  return(c)"
   ]
  },
  {
   "cell_type": "code",
   "execution_count": null,
   "metadata": {
    "colab": {
     "base_uri": "https://localhost:8080/",
     "height": 399
    },
    "id": "Yk2WIY0x80A5",
    "outputId": "5ded67e4-5608-4d64-cac7-bd97a715bcdf"
   },
   "outputs": [
    {
     "name": "stdout",
     "output_type": "stream",
     "text": [
      "This is undefined.\n",
      "The register contents at the end are shown below.\n"
     ]
    },
    {
     "data": {
      "text/html": [
       "<style type=\"text/css\">\n",
       "#T_3e20f_row0_col0, #T_3e20f_row1_col0, #T_3e20f_row2_col0, #T_3e20f_row3_col0, #T_3e20f_row4_col0, #T_3e20f_row5_col0, #T_3e20f_row6_col0, #T_3e20f_row7_col0, #T_3e20f_row8_col0, #T_3e20f_row9_col0 {\n",
       "  background-color: #FFFFCC;\n",
       "  color: black;\n",
       "  text-align: left;\n",
       "}\n",
       "</style>\n",
       "<table id=\"T_3e20f_\" class=\"dataframe\">\n",
       "  <thead>\n",
       "    <tr>\n",
       "      <th class=\"blank level0\" >&nbsp;</th>\n",
       "      <th class=\"col_heading level0 col0\" >contents</th>\n",
       "    </tr>\n",
       "  </thead>\n",
       "  <tbody>\n",
       "    <tr>\n",
       "      <th id=\"T_3e20f_level0_row0\" class=\"row_heading level0 row0\" >1</th>\n",
       "      <td id=\"T_3e20f_row0_col0\" class=\"data row0 col0\" >11</td>\n",
       "    </tr>\n",
       "    <tr>\n",
       "      <th id=\"T_3e20f_level0_row1\" class=\"row_heading level0 row1\" >2</th>\n",
       "      <td id=\"T_3e20f_row1_col0\" class=\"data row1 col0\" >#1</td>\n",
       "    </tr>\n",
       "    <tr>\n",
       "      <th id=\"T_3e20f_level0_row2\" class=\"row_heading level0 row2\" >3</th>\n",
       "      <td id=\"T_3e20f_row2_col0\" class=\"data row2 col0\" >##1</td>\n",
       "    </tr>\n",
       "    <tr>\n",
       "      <th id=\"T_3e20f_level0_row3\" class=\"row_heading level0 row3\" >4</th>\n",
       "      <td id=\"T_3e20f_row3_col0\" class=\"data row3 col0\" >#11</td>\n",
       "    </tr>\n",
       "    <tr>\n",
       "      <th id=\"T_3e20f_level0_row4\" class=\"row_heading level0 row4\" >5</th>\n",
       "      <td id=\"T_3e20f_row4_col0\" class=\"data row4 col0\" ></td>\n",
       "    </tr>\n",
       "    <tr>\n",
       "      <th id=\"T_3e20f_level0_row5\" class=\"row_heading level0 row5\" >6</th>\n",
       "      <td id=\"T_3e20f_row5_col0\" class=\"data row5 col0\" ></td>\n",
       "    </tr>\n",
       "    <tr>\n",
       "      <th id=\"T_3e20f_level0_row6\" class=\"row_heading level0 row6\" >7</th>\n",
       "      <td id=\"T_3e20f_row6_col0\" class=\"data row6 col0\" ></td>\n",
       "    </tr>\n",
       "    <tr>\n",
       "      <th id=\"T_3e20f_level0_row7\" class=\"row_heading level0 row7\" >8</th>\n",
       "      <td id=\"T_3e20f_row7_col0\" class=\"data row7 col0\" ></td>\n",
       "    </tr>\n",
       "    <tr>\n",
       "      <th id=\"T_3e20f_level0_row8\" class=\"row_heading level0 row8\" >9</th>\n",
       "      <td id=\"T_3e20f_row8_col0\" class=\"data row8 col0\" ></td>\n",
       "    </tr>\n",
       "    <tr>\n",
       "      <th id=\"T_3e20f_level0_row9\" class=\"row_heading level0 row9\" >10</th>\n",
       "      <td id=\"T_3e20f_row9_col0\" class=\"data row9 col0\" ></td>\n",
       "    </tr>\n",
       "  </tbody>\n",
       "</table>\n"
      ],
      "text/plain": [
       "<pandas.io.formats.style.Styler at 0x7fd5ebcdeed0>"
      ]
     },
     "metadata": {},
     "output_type": "display_data"
    }
   ],
   "source": [
    "h = compose(multiply,[proj_prog(2,3),proj_prog(1,3)],3)\n",
    "n = 3\n",
    "i = 2\n",
    "#onesharp(copy_all_forward(n,n+i)+ bump(proj_prog(3,3),4), ['11', '1#', '##1'])\n",
    "onesharp(h, ['11', '#1', '##1'])"
   ]
  },
  {
   "cell_type": "code",
   "execution_count": null,
   "metadata": {
    "colab": {
     "base_uri": "https://localhost:8080/"
    },
    "id": "JBDiptBc90p_",
    "outputId": "43b15339-354a-4224-e35c-1bcdd8a57696"
   },
   "outputs": [
    {
     "data": {
      "text/plain": [
       "['1#####', '111111###', '111###', '11##', '1111####', '11#', '111111####']"
      ]
     },
     "execution_count": 326,
     "metadata": {},
     "output_type": "execute_result"
    }
   ],
   "source": [
    "parse(move_1_2)"
   ]
  },
  {
   "cell_type": "code",
   "execution_count": null,
   "metadata": {
    "id": "17XWj_Ng_a-b"
   },
   "outputs": [],
   "source": [
    "def copy_all_forward(n,m):\n",
    "  # copies 1 to m, 2 to m+1, . . . n to m+n-1\n",
    "  a = [copy_prog(i,m+i-1, m+i) for i in range(1,n+1)]\n",
    "  return(unparse(a))"
   ]
  },
  {
   "cell_type": "code",
   "execution_count": null,
   "metadata": {
    "colab": {
     "base_uri": "https://localhost:8080/"
    },
    "id": "Z4aFrXyGRhDB",
    "outputId": "765603a0-2c52-4506-837c-bbbbda640dc1"
   },
   "outputs": [
    {
     "data": {
      "text/plain": [
       "[1, 2]"
      ]
     },
     "execution_count": 479,
     "metadata": {},
     "output_type": "execute_result"
    }
   ],
   "source": [
    "[i for i in range(1,2+1)]"
   ]
  },
  {
   "cell_type": "code",
   "execution_count": null,
   "metadata": {
    "colab": {
     "base_uri": "https://localhost:8080/",
     "height": 305
    },
    "id": "pdLkGVgGRi5a",
    "outputId": "37ff1603-f72f-4fdd-c495-57af7559bf61"
   },
   "outputs": [
    {
     "name": "stdout",
     "output_type": "stream",
     "text": [
      "This is undefined.\n",
      "The register contents at the end are shown below.\n"
     ]
    },
    {
     "data": {
      "text/html": [
       "<style type=\"text/css\">\n",
       "#T_335d0_row0_col0, #T_335d0_row1_col0, #T_335d0_row2_col0, #T_335d0_row3_col0, #T_335d0_row4_col0, #T_335d0_row5_col0, #T_335d0_row6_col0 {\n",
       "  background-color: #FFFFCC;\n",
       "  color: black;\n",
       "  text-align: left;\n",
       "}\n",
       "</style>\n",
       "<table id=\"T_335d0_\" class=\"dataframe\">\n",
       "  <thead>\n",
       "    <tr>\n",
       "      <th class=\"blank level0\" >&nbsp;</th>\n",
       "      <th class=\"col_heading level0 col0\" >contents</th>\n",
       "    </tr>\n",
       "  </thead>\n",
       "  <tbody>\n",
       "    <tr>\n",
       "      <th id=\"T_335d0_level0_row0\" class=\"row_heading level0 row0\" >1</th>\n",
       "      <td id=\"T_335d0_row0_col0\" class=\"data row0 col0\" >##</td>\n",
       "    </tr>\n",
       "    <tr>\n",
       "      <th id=\"T_335d0_level0_row1\" class=\"row_heading level0 row1\" >2</th>\n",
       "      <td id=\"T_335d0_row1_col0\" class=\"data row1 col0\" >11</td>\n",
       "    </tr>\n",
       "    <tr>\n",
       "      <th id=\"T_335d0_level0_row2\" class=\"row_heading level0 row2\" >3</th>\n",
       "      <td id=\"T_335d0_row2_col0\" class=\"data row2 col0\" ></td>\n",
       "    </tr>\n",
       "    <tr>\n",
       "      <th id=\"T_335d0_level0_row3\" class=\"row_heading level0 row3\" >4</th>\n",
       "      <td id=\"T_335d0_row3_col0\" class=\"data row3 col0\" ></td>\n",
       "    </tr>\n",
       "    <tr>\n",
       "      <th id=\"T_335d0_level0_row4\" class=\"row_heading level0 row4\" >5</th>\n",
       "      <td id=\"T_335d0_row4_col0\" class=\"data row4 col0\" >##</td>\n",
       "    </tr>\n",
       "    <tr>\n",
       "      <th id=\"T_335d0_level0_row5\" class=\"row_heading level0 row5\" >6</th>\n",
       "      <td id=\"T_335d0_row5_col0\" class=\"data row5 col0\" >11</td>\n",
       "    </tr>\n",
       "    <tr>\n",
       "      <th id=\"T_335d0_level0_row6\" class=\"row_heading level0 row6\" >7</th>\n",
       "      <td id=\"T_335d0_row6_col0\" class=\"data row6 col0\" ></td>\n",
       "    </tr>\n",
       "  </tbody>\n",
       "</table>\n"
      ],
      "text/plain": [
       "<pandas.io.formats.style.Styler at 0x7fd5edadee90>"
      ]
     },
     "metadata": {},
     "output_type": "display_data"
    }
   ],
   "source": [
    "i = 2\n",
    "m = 5\n",
    "#onesharp(copy_prog(i,m+i-2, m+i-1), ['##','11'])\n",
    "onesharp(copy_all_forward(2,5),['##','11'])"
   ]
  },
  {
   "cell_type": "code",
   "execution_count": null,
   "metadata": {
    "colab": {
     "base_uri": "https://localhost:8080/",
     "height": 35
    },
    "id": "sL_82g_tSKIF",
    "outputId": "41b0ab16-9811-4e0a-d27c-fd3f5ddbbc4c"
   },
   "outputs": [
    {
     "data": {
      "application/vnd.google.colaboratory.intrinsic+json": {
       "type": "string"
      },
      "text/plain": [
       "'#11'"
      ]
     },
     "execution_count": 492,
     "metadata": {},
     "output_type": "execute_result"
    }
   ],
   "source": [
    "onesharp(multiply,['11','#1'])"
   ]
  },
  {
   "cell_type": "code",
   "execution_count": null,
   "metadata": {
    "colab": {
     "base_uri": "https://localhost:8080/",
     "height": 367
    },
    "id": "wbT3Qq08V3MY",
    "outputId": "3bf4f422-9126-407c-e219-53315a2c3595"
   },
   "outputs": [
    {
     "name": "stdout",
     "output_type": "stream",
     "text": [
      "This is undefined.\n",
      "The register contents at the end are shown below.\n"
     ]
    },
    {
     "data": {
      "text/html": [
       "<style type=\"text/css\">\n",
       "#T_fb9b5_row0_col0, #T_fb9b5_row1_col0, #T_fb9b5_row2_col0, #T_fb9b5_row3_col0, #T_fb9b5_row4_col0, #T_fb9b5_row5_col0, #T_fb9b5_row6_col0, #T_fb9b5_row7_col0, #T_fb9b5_row8_col0 {\n",
       "  background-color: #FFFFCC;\n",
       "  color: black;\n",
       "  text-align: left;\n",
       "}\n",
       "</style>\n",
       "<table id=\"T_fb9b5_\" class=\"dataframe\">\n",
       "  <thead>\n",
       "    <tr>\n",
       "      <th class=\"blank level0\" >&nbsp;</th>\n",
       "      <th class=\"col_heading level0 col0\" >contents</th>\n",
       "    </tr>\n",
       "  </thead>\n",
       "  <tbody>\n",
       "    <tr>\n",
       "      <th id=\"T_fb9b5_level0_row0\" class=\"row_heading level0 row0\" >1</th>\n",
       "      <td id=\"T_fb9b5_row0_col0\" class=\"data row0 col0\" >11</td>\n",
       "    </tr>\n",
       "    <tr>\n",
       "      <th id=\"T_fb9b5_level0_row1\" class=\"row_heading level0 row1\" >2</th>\n",
       "      <td id=\"T_fb9b5_row1_col0\" class=\"data row1 col0\" >#1</td>\n",
       "    </tr>\n",
       "    <tr>\n",
       "      <th id=\"T_fb9b5_level0_row2\" class=\"row_heading level0 row2\" >3</th>\n",
       "      <td id=\"T_fb9b5_row2_col0\" class=\"data row2 col0\" >#11</td>\n",
       "    </tr>\n",
       "    <tr>\n",
       "      <th id=\"T_fb9b5_level0_row3\" class=\"row_heading level0 row3\" >4</th>\n",
       "      <td id=\"T_fb9b5_row3_col0\" class=\"data row3 col0\" ></td>\n",
       "    </tr>\n",
       "    <tr>\n",
       "      <th id=\"T_fb9b5_level0_row4\" class=\"row_heading level0 row4\" >5</th>\n",
       "      <td id=\"T_fb9b5_row4_col0\" class=\"data row4 col0\" ></td>\n",
       "    </tr>\n",
       "    <tr>\n",
       "      <th id=\"T_fb9b5_level0_row5\" class=\"row_heading level0 row5\" >6</th>\n",
       "      <td id=\"T_fb9b5_row5_col0\" class=\"data row5 col0\" ></td>\n",
       "    </tr>\n",
       "    <tr>\n",
       "      <th id=\"T_fb9b5_level0_row6\" class=\"row_heading level0 row6\" >7</th>\n",
       "      <td id=\"T_fb9b5_row6_col0\" class=\"data row6 col0\" ></td>\n",
       "    </tr>\n",
       "    <tr>\n",
       "      <th id=\"T_fb9b5_level0_row7\" class=\"row_heading level0 row7\" >8</th>\n",
       "      <td id=\"T_fb9b5_row7_col0\" class=\"data row7 col0\" ></td>\n",
       "    </tr>\n",
       "    <tr>\n",
       "      <th id=\"T_fb9b5_level0_row8\" class=\"row_heading level0 row8\" >9</th>\n",
       "      <td id=\"T_fb9b5_row8_col0\" class=\"data row8 col0\" ></td>\n",
       "    </tr>\n",
       "  </tbody>\n",
       "</table>\n"
      ],
      "text/plain": [
       "<pandas.io.formats.style.Styler at 0x7fd5ebcd8a10>"
      ]
     },
     "metadata": {},
     "output_type": "display_data"
    }
   ],
   "source": [
    "pr = copy_all_forward(2,3)+ bump(multiply,2) \n",
    "onesharp(pr,['11','#1'])"
   ]
  },
  {
   "cell_type": "code",
   "execution_count": null,
   "metadata": {
    "colab": {
     "base_uri": "https://localhost:8080/",
     "height": 242
    },
    "id": "ao49zRD2WX3c",
    "outputId": "7d571cd1-a9aa-4478-dbb6-f8089d439a96"
   },
   "outputs": [
    {
     "name": "stdout",
     "output_type": "stream",
     "text": [
      "This is undefined.\n",
      "The register contents at the end are shown below.\n"
     ]
    },
    {
     "data": {
      "text/html": [
       "<style type=\"text/css\">\n",
       "#T_35539_row0_col0, #T_35539_row1_col0, #T_35539_row2_col0, #T_35539_row3_col0, #T_35539_row4_col0 {\n",
       "  background-color: #FFFFCC;\n",
       "  color: black;\n",
       "  text-align: left;\n",
       "}\n",
       "</style>\n",
       "<table id=\"T_35539_\" class=\"dataframe\">\n",
       "  <thead>\n",
       "    <tr>\n",
       "      <th class=\"blank level0\" >&nbsp;</th>\n",
       "      <th class=\"col_heading level0 col0\" >contents</th>\n",
       "    </tr>\n",
       "  </thead>\n",
       "  <tbody>\n",
       "    <tr>\n",
       "      <th id=\"T_35539_level0_row0\" class=\"row_heading level0 row0\" >1</th>\n",
       "      <td id=\"T_35539_row0_col0\" class=\"data row0 col0\" >11</td>\n",
       "    </tr>\n",
       "    <tr>\n",
       "      <th id=\"T_35539_level0_row1\" class=\"row_heading level0 row1\" >2</th>\n",
       "      <td id=\"T_35539_row1_col0\" class=\"data row1 col0\" >#1</td>\n",
       "    </tr>\n",
       "    <tr>\n",
       "      <th id=\"T_35539_level0_row2\" class=\"row_heading level0 row2\" >3</th>\n",
       "      <td id=\"T_35539_row2_col0\" class=\"data row2 col0\" >11</td>\n",
       "    </tr>\n",
       "    <tr>\n",
       "      <th id=\"T_35539_level0_row3\" class=\"row_heading level0 row3\" >4</th>\n",
       "      <td id=\"T_35539_row3_col0\" class=\"data row3 col0\" >#1</td>\n",
       "    </tr>\n",
       "    <tr>\n",
       "      <th id=\"T_35539_level0_row4\" class=\"row_heading level0 row4\" >5</th>\n",
       "      <td id=\"T_35539_row4_col0\" class=\"data row4 col0\" ></td>\n",
       "    </tr>\n",
       "  </tbody>\n",
       "</table>\n"
      ],
      "text/plain": [
       "<pandas.io.formats.style.Styler at 0x7fd5ebe82910>"
      ]
     },
     "metadata": {},
     "output_type": "display_data"
    }
   ],
   "source": [
    "onesharp(copy_all_forward(2,3),['11','#1'])"
   ]
  },
  {
   "cell_type": "code",
   "execution_count": null,
   "metadata": {
    "colab": {
     "base_uri": "https://localhost:8080/",
     "height": 367
    },
    "id": "9mNSfIMVWHsR",
    "outputId": "125a5415-e664-4be9-816b-557c9a96e411"
   },
   "outputs": [
    {
     "name": "stdout",
     "output_type": "stream",
     "text": [
      "This is undefined.\n",
      "The register contents at the end are shown below.\n"
     ]
    },
    {
     "data": {
      "text/html": [
       "<style type=\"text/css\">\n",
       "#T_dcf24_row0_col0, #T_dcf24_row1_col0, #T_dcf24_row2_col0, #T_dcf24_row3_col0, #T_dcf24_row4_col0, #T_dcf24_row5_col0, #T_dcf24_row6_col0, #T_dcf24_row7_col0, #T_dcf24_row8_col0 {\n",
       "  background-color: #FFFFCC;\n",
       "  color: black;\n",
       "  text-align: left;\n",
       "}\n",
       "</style>\n",
       "<table id=\"T_dcf24_\" class=\"dataframe\">\n",
       "  <thead>\n",
       "    <tr>\n",
       "      <th class=\"blank level0\" >&nbsp;</th>\n",
       "      <th class=\"col_heading level0 col0\" >contents</th>\n",
       "    </tr>\n",
       "  </thead>\n",
       "  <tbody>\n",
       "    <tr>\n",
       "      <th id=\"T_dcf24_level0_row0\" class=\"row_heading level0 row0\" >1</th>\n",
       "      <td id=\"T_dcf24_row0_col0\" class=\"data row0 col0\" >11</td>\n",
       "    </tr>\n",
       "    <tr>\n",
       "      <th id=\"T_dcf24_level0_row1\" class=\"row_heading level0 row1\" >2</th>\n",
       "      <td id=\"T_dcf24_row1_col0\" class=\"data row1 col0\" >#1</td>\n",
       "    </tr>\n",
       "    <tr>\n",
       "      <th id=\"T_dcf24_level0_row2\" class=\"row_heading level0 row2\" >3</th>\n",
       "      <td id=\"T_dcf24_row2_col0\" class=\"data row2 col0\" >#11</td>\n",
       "    </tr>\n",
       "    <tr>\n",
       "      <th id=\"T_dcf24_level0_row3\" class=\"row_heading level0 row3\" >4</th>\n",
       "      <td id=\"T_dcf24_row3_col0\" class=\"data row3 col0\" ></td>\n",
       "    </tr>\n",
       "    <tr>\n",
       "      <th id=\"T_dcf24_level0_row4\" class=\"row_heading level0 row4\" >5</th>\n",
       "      <td id=\"T_dcf24_row4_col0\" class=\"data row4 col0\" ></td>\n",
       "    </tr>\n",
       "    <tr>\n",
       "      <th id=\"T_dcf24_level0_row5\" class=\"row_heading level0 row5\" >6</th>\n",
       "      <td id=\"T_dcf24_row5_col0\" class=\"data row5 col0\" ></td>\n",
       "    </tr>\n",
       "    <tr>\n",
       "      <th id=\"T_dcf24_level0_row6\" class=\"row_heading level0 row6\" >7</th>\n",
       "      <td id=\"T_dcf24_row6_col0\" class=\"data row6 col0\" ></td>\n",
       "    </tr>\n",
       "    <tr>\n",
       "      <th id=\"T_dcf24_level0_row7\" class=\"row_heading level0 row7\" >8</th>\n",
       "      <td id=\"T_dcf24_row7_col0\" class=\"data row7 col0\" ></td>\n",
       "    </tr>\n",
       "    <tr>\n",
       "      <th id=\"T_dcf24_level0_row8\" class=\"row_heading level0 row8\" >9</th>\n",
       "      <td id=\"T_dcf24_row8_col0\" class=\"data row8 col0\" ></td>\n",
       "    </tr>\n",
       "  </tbody>\n",
       "</table>\n"
      ],
      "text/plain": [
       "<pandas.io.formats.style.Styler at 0x7fd5ebe82790>"
      ]
     },
     "metadata": {},
     "output_type": "display_data"
    }
   ],
   "source": [
    "onesharp(bump(multiply,2),['11','#1','11','#1'])"
   ]
  },
  {
   "cell_type": "code",
   "execution_count": null,
   "metadata": {
    "colab": {
     "base_uri": "https://localhost:8080/",
     "height": 265
    },
    "id": "6IzEnYyqWLV5",
    "outputId": "9dffed89-5e26-4737-b059-930eb7cc97f8"
   },
   "outputs": [
    {
     "data": {
      "image/png": "[encoded data removed]",
      "text/plain": [
       "<Figure size 288x288 with 8 Axes>"
      ]
     },
     "metadata": {
      "filenames": {
       "image/png": "/Users/lsm/Dropbox/invitationBook/lmoss.github.io/booksource/_build/jupyter_execute/tiles_67_0.png"
      },
      "needs_background": "light"
     },
     "output_type": "display_data"
    }
   ],
   "source": [
    "import matplotlib.pyplot as plt\n",
    "from mpl_toolkits.axes_grid1 import ImageGrid\n",
    "import numpy as np\n",
    "\n",
    "im1 = np.arange(100).reshape((10, 10))\n",
    "im2 = im1.T\n",
    "im3 = np.flipud(im1)\n",
    "im4 = np.fliplr(im2)\n",
    "\n",
    "fig = plt.figure(figsize=(4., 4.))\n",
    "grid = ImageGrid(fig, 111,  # similar to subplot(111)\n",
    "                 nrows_ncols=(2, 2),  # creates 2x2 grid of axes\n",
    "                 axes_pad=0.1,  # pad between axes in inch.\n",
    "                 )\n",
    "\n",
    "for ax, im in zip(grid, [im1, im2, im3, im4]):\n",
    "    # Iterating over the grid returns the Axes.\n",
    "    ax.imshow(im)\n",
    "\n",
    "plt.show()"
   ]
  },
  {
   "cell_type": "code",
   "execution_count": null,
   "metadata": {
    "id": "OjNh5r1iG9H2"
   },
   "outputs": [],
   "source": []
  }
 ],
 "metadata": {
  "colab": {
   "authorship_tag": "ABX9TyP5ngdVXn+iwYddiD2mv4eZ",
   "include_colab_link": true,
   "provenance": []
  },
  "kernelspec": {
   "display_name": "Python 3",
   "name": "python3"
  },
  "language_info": {
   "name": "python"
  }
 },
 "nbformat": 4,
 "nbformat_minor": 0
}