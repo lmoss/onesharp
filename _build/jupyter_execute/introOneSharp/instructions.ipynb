{
 "cells": [
  {
   "attachments": {},
   "cell_type": "markdown",
   "metadata": {},
   "source": [
    "<a href=\"https://colab.research.google.com/github/lmoss/onesharp/blob/main/introOneSharp/instructions.ipynb\" target=\"_parent\"><img src=\"https://colab.research.google.com/assets/colab-badge.svg\" alt=\"Open In Colab\"/></a>"
   ]
  },
  {
   "attachments": {},
   "cell_type": "markdown",
   "metadata": {
    "collapsed": false,
    "deletable": false,
    "editable": false,
    "id": "7MawMT1XNzgn"
   },
   "source": [
    "## First steps\n",
    "\n",
    "To start, either download this notebook and run it locally, or else click on 'Open in Colab' above.  Then click on the triangle below.  It should take some time (always less than a minute for me).  Ignore all of the output on the screen, but look for a green check near where you clicked. This action loads a set of Python programs which are run in the backround in the rest of this notebook.   You will not need to look at those programs."
   ]
  },
  {
   "cell_type": "code",
   "execution_count": null,
   "metadata": {
    "editable": false,
    "id": "jxhALRpsNzgr",
    "jupyter": {
     "source_hidden": false
    }
   },
   "outputs": [],
   "source": [
    "!python -m pip install -U setuptools\n",
    "!python -m pip install -U git+https://github.com/lmoss/onesharp.git@main\n",
    "from onesharp.interpreter.interpreter import *"
   ]
  },
  {
   "attachments": {},
   "cell_type": "markdown",
   "metadata": {
    "id": "Fgp0e5TPkQc_"
   },
   "source": [
    "Welcome to our first tutorial lesson on\n",
    "```1#```. You will learn the basics of the language here and also see some small programs.\n",
    "\n",
    "This lesson is written on a lower level than the lessons which come after it. It is a very concrete introduction to ```1#```.\n",
    "If you are familiar with any machine model in the theory of computation, such as Turing Machines or classical register machines, you probably will \n",
    "find this material easy.\n",
    "\n",
    "But this introductory lesson is really intended for people with no background on these matters. If this is you, please work slowly, doing the exercises as you go.\n"
   ]
  },
  {
   "attachments": {},
   "cell_type": "markdown",
   "metadata": {},
   "source": [
    "### The ```1#``` interpreter"
   ]
  },
  {
   "attachments": {},
   "cell_type": "markdown",
   "metadata": {
    "id": "gU8rrAp25Zar"
   },
   "source": [
    "There are two ways to run ```1#``` programs.  One is by calling a special-purpose command in a *markdown code cell', and the other is by using a *displayed interpreter*.  Nearly all of the time we use a command in a markdown code cell, but when one starts out with the language a displayed interpreter is probably a better option.  So we are going to start with that.\n",
    "\n",
    "You see below the *interpreter*.  Even before learning how the language works, we want to see how to run programs by entering them into the interpreter along with inputs."
   ]
  },
  {
   "cell_type": "code",
   "execution_count": null,
   "metadata": {
    "tags": [
     "hide_code"
    ]
   },
   "outputs": [],
   "source": [
    "# @title Interpreter\n",
    "program = '11#####111111###111###1##1111####1#111111####' #@param {type:\"string\"}\n",
    "R1 = '#11###1' #@param {type:\"string\"}\n",
    "R2 = '11111#' #@param {type:\"string\"}\n",
    "#R3 = '' #@param {type:\"string\"}\n",
    "\n",
    "## For more registers, add lines here like\n",
    "## R4 = '' #@param {type:\"string\"}\n",
    "## You also must modify the definition of 'a' below accordingly.\n",
    "\n",
    "a = [R1,R2]\n",
    "a = [remove_multiple_blanks(x) for x in a]\n",
    "\n",
    "onesharp(program,a)"
   ]
  },
  {
   "attachments": {},
   "cell_type": "markdown",
   "metadata": {
    "id": "3BOQeYtdk84Q"
   },
   "source": [
    "The first thing to do is to make everything nicer to look at by  hiding the program above.  To do this, click on the symbol to the left of the word Interpreter.   This should cause the symbol to rotate, and it also should hide the code and make the display extend across your screen.\n",
    "\n",
    "\n",
    "\n",
    "The top line of the interpreter should contain the following *program* of ```1#```\n",
    "\n",
    "```11#####111111###111###1##1111####1#111111####```\n",
    "\n",
    "If it does not contain this, feel free to copy and past the program above into the program box in the interpreter.\n",
    "\n",
    "The other two lines are the *inputs* to two *registers*.  The registers are called R1 and R2.   The inputs are the same kind of mathematical object as the program: they are *words* on the alphabet ```{1,#}```.  In this book, words are just sequences  composed of the symbols ```1``` and ```#```, such as ```11###11#1``` and ```#1###1###111#11```.  We'll have more to say about and programs soon. \n",
    "\n",
    "Click on the arrow to run the program on the inputs, and look at the *output* at the bottom of the interpreter box.\n",
    "\n",
    "Instead of clicking on the arrow, you also could type shift-return on a keyboard.  This also will run the program on the inputs.\n",
    " \n",
    "Modify the inputs to R1 and R2, but keep the program the same.   Each time, run the program by \n",
    "\n",
    "\n",
    "\n",
    "The empty word is a perfectly good word, so you could also enter it into R1 or R2 just by leaving the register blank or by entering one or more spaces.  In fact, spaces are ignored in ```1#```.\n",
    "\n",
    "You can modify $R1$ and $R2$ as many times as you like.\n",
    "\n",
    "What you should find after doing this is that the output is the input in $R1$ followed by the input in $R2$. We also will say *concatenated* instead of *followed by*.\n",
    "\n",
    "---\n",
    "\n",
    "The overall point is that the program ```11#####111111###111###1##1111####1#111111####``` may be run on words which are input in the registers. This program does not change when we run it.  Our little interpreter didn't show the step-by-step behavior of the register machine, it only showed the final output.   We'll return to the soon, after we understand what the program is doing.  It turns out that this program is composed of seven instructions. We'll get to the instructions soon, but first we have an exercise for you to try."
   ]
  },
  {
   "attachments": {},
   "cell_type": "markdown",
   "metadata": {
    "id": "AehFgcJH8Nh3"
   },
   "source": [
    "```{exercise}\n",
    "Just below, you'll see another 1# program. It takes its input from the first two registers. Enter some words in R1 and R2 input boxes, and then run the program. Your job is to try to figure out what the program does.\n",
    "```"
   ]
  },
  {
   "attachments": {},
   "cell_type": "markdown",
   "metadata": {},
   "source": [
    "\n",
    "```1##### 11111111### 1111### 111## 1111## 11111#### 111# 1111# 11111111#### 111##### 111111### 111### 1## 1111#### 1# 111111#### 1111##### 111111### 111### 1## 1111#### 1# 111111#### 11##### 111111### 111### 1## 1111#### 1# 111111####```"
   ]
  },
  {
   "attachments": {},
   "cell_type": "markdown",
   "metadata": {
    "id": "7LZxPKVEcNfX"
   },
   "source": [
    "### The ```1#``` instruction set\n",
    "\n",
    "We are going to present the full set of instructions of ```1#```.  There are five instruction types.  \n",
    "\n",
    "```{attention}\n",
    "When we use superscripts and write, for example,  ```1^m #^n``` we mean $m$ copies of the symbol ```1``` followed by $n$ copies of the symbol ```#```.  For example,\n",
    "\n",
    "```1^15 #^4``` abbreviates ```111111111111111####```\n",
    "\n",
    "```"
   ]
  },
  {
   "cell_type": "markdown",
   "metadata": {
    "id": "aq0g8aLp8aCW"
   },
   "source": [
    "So far, we have seen two *programs* of ```1#```. Programs are composed of *instructions*. In fact, programs are just sequences of instructions run together. There are only five kinds of ```1#``` instructions.  Now is the time to introduce them.\n",
    "\n",
    "We begin our journey with the first two types of instructions of the language.\n",
    "\n",
    "| Instruction      | Meaning |\n",
    "| ----------- | ----------- |\n",
    "| 1#      | Add 1 to R1       |\n",
    "| 11#   | Add 1 to R2      |\n",
    "| 111#   | Add 1 to R3      |\n",
    "\n",
    "\n",
    "These instructions add a ```1``` to the end of the word (the right end, as in English words) in the specified register.\n",
    "\n",
    "\n",
    "| Instruction      | Meaning |\n",
    "| ----------- | ----------- |\n",
    "| 1##      | Add # to R1       |\n",
    "| 11##   | Add # to R2      |\n",
    "| 111##   | Add # to R3      |\n",
    "\n",
    "\n",
    "These add a ```#``` to the end (again, this means the right side) of the word in the specified register.  We can summarize the two kinds of instructions which we have seen, and also extend them:\n",
    "\n",
    "| Instruction      | Meaning |\n",
    "| ----------- | ----------- |\n",
    "| 1^n #      | Add 1 to Rn       |\n",
    "| 1^n ##   | Add # to Rn      |\n",
    "\n",
    "The programs of ```1#``` are just sequences of instructions run together.  There is no punctuation between the instructions.  To move around in a program, we have two other kinds of instructions\n",
    "\n",
    "| Instruction      | Meaning |\n",
    "| ----------- | ----------- |\n",
    "| 1^n ###   | Go forward n instructions     |\n",
    "| 1^n ####   | Go backward n instructions     |\n",
    "\n",
    "Here is the last kind of instruction:\n",
    "\n",
    "| Instruction      | Meaning |\n",
    "| ----------- | ----------- |\n",
    "| 1^n #####   | Cases on register n     |\n",
    "\n",
    "Here is what it does:\n",
    "\n",
    "If Rn is empty, we go to the very next instruction.\n",
    "\n",
    "If the first symbol of Rn is ```1```, we delete that symbol and go to the second instruction after the case instruction.\n",
    "\n",
    "If the first symbol of Rn is ```#```, we delete that symbol and go to the third instruction after the case instruction.\n",
    "\n",
    "The 'cases' instructions are the most complex to understand, and it will help to look an example in detail.   But first we have some exercises on the 1^n# and 1^n## instructions."
   ]
  },
  {
   "cell_type": "markdown",
   "metadata": {
    "id": "mPeznuRfMGTV"
   },
   "source": [
    "```{exercise}\n",
    ":label: try-to-figure\n",
    "Again, start with ```1``` in R1 and R2, ```1#``` in R3, and the other registers empty. What happens in each register if we run ```111##```?\n",
    "Try to figure this out for yourself, and then check your work by actually running the program.\n",
    "```"
   ]
  },
  {
   "cell_type": "markdown",
   "metadata": {
    "id": "pciRDq5HMLZK"
   },
   "source": [
    "```{exercise}\n",
    "As before, start with $\\one$ in R1 and R2, $\\mathtt{1\\#}$ in R3, and the other registers empty.\n",
    "What happens in each register if we run the same program\n",
    "$\\mathtt{111\\#\\#}$ from the previous exercise?\n",
    "```"
   ]
  },
  {
   "cell_type": "markdown",
   "metadata": {
    "id": "02Hu2bGhMTnm"
   },
   "source": [
    "```{exercise}\n",
    "Write a program which, when started with all registers empty, gives ```1#``` in R1 and R2, ```1#``` in R3, and the other registers empty.\n",
    "```"
   ]
  },
  {
   "cell_type": "markdown",
   "metadata": {
    "id": "uHT06l0nzXOf"
   },
   "source": [
    "<img src=\"https://github.com/lmoss/onesharp/blob/main/harp.jpg?raw=1\" width=\"200\" height=\"160\">"
   ]
  },
  {
   "attachments": {},
   "cell_type": "markdown",
   "metadata": {
    "id": "kFwH6_CugCNx"
   },
   "source": [
    "### What are programs?\n",
    "\n",
    "```{prf:definition}\n",
    "A *program* is a sequence of instructions run together.\n",
    "```\n",
    "\n",
    "We have already been using this terminology.  For example, we saw\n",
    "\n",
    "```11#####111111###111###1##1111####1#111111####```\n",
    "\n",
    "near the top of this notebook.  This is the concatenation of the following sequence of seven instructions:\n",
    "\n",
    "(```11#####```, ```111111###```, ```111###```, ```1##```, ```1111####```,  ```1#```, ```111111####```)\n",
    "\n",
    "Dividing a program into instructions is a very easy form of *parsing*.  In a real computer language, parsing is more difficult than it is for ```1#```.   \n",
    "\n",
    "Incidentally, spaces are not significant in the interpreter above, or in the work we'll turn to shortly.  You may enter programs with spaces.\n",
    "\n",
    "\n",
    "\n",
    "```{important}\n",
    "Any sequence of ```1#``` instructions run together as a single word is a program. \n",
    "\n",
    "Spaces inside do not matter.  \n",
    "```\n"
   ]
  },
  {
   "attachments": {},
   "cell_type": "markdown",
   "metadata": {
    "id": "HQ3wlzp5eDEm"
   },
   "source": [
    "```{important}\n",
    "Words have to be *finite*, and so programs also must be finite.  Further, each program $p$ of ```1#``` can only mention finitely many registers.\n",
    "\n",
    "(That is, there is a finite set $F\\subseteq \\N$ such that if\n",
    " ```1^k #``` is an instruction in $p$, then $k\\in F$;\n",
    "if ```1^k ##```  is an instruction in $p$, then $k\\in F$;\n",
    "and  ```1^k #####```  is an instruction in $p$, then $k\\in F$.)\n",
    "```"
   ]
  },
  {
   "attachments": {},
   "cell_type": "markdown",
   "metadata": {
    "id": "h0f-UGdqFeoO"
   },
   "source": [
    "### Running programs in code cells\n",
    "\n",
    "Because notebooks like this are composed of cells, we also want to run programs in a command-line fashion.\n",
    "\n",
    "There are two programs that do this.  They are\n",
    "```step_by_step``` and ```onesharp```.  These are illustrated in the next two cells.  Both of these programs are written in Python, not in ```1#```.  They both require as inputs a ```1#``` program followed by a sequence of  words composed of the symbols ```1``` and ```#```."
   ]
  },
  {
   "cell_type": "code",
   "execution_count": 9,
   "metadata": {
    "colab": {
     "base_uri": "https://localhost:8080/",
     "height": 35
    },
    "id": "TGPYIuyWF7kg",
    "outputId": "00486eff-251d-4126-c092-9a0ab35b8463"
   },
   "outputs": [
    {
     "data": {
      "text/plain": [
       "'1#11'"
      ]
     },
     "execution_count": 9,
     "metadata": {},
     "output_type": "execute_result"
    }
   ],
   "source": [
    "onesharp('1#11#####1###1###',['1#1','#'])"
   ]
  },
  {
   "cell_type": "code",
   "execution_count": 18,
   "metadata": {
    "colab": {
     "base_uri": "https://localhost:8080/",
     "height": 710
    },
    "collapsed": true,
    "id": "VPQDvFNPNzgw",
    "jupyter": {
     "outputs_hidden": true
    },
    "outputId": "05b462e1-fd8d-4902-b965-6e491e06ac4f",
    "scrolled": true
   },
   "outputs": [
    {
     "name": "stdout",
     "output_type": "stream",
     "text": [
      "First, here is the program:\n"
     ]
    },
    {
     "data": {
      "text/html": [
       "<style  type=\"text/css\" >\n",
       "#T_16db03ae_cc71_11ef_b765_1e0062143c79row0_col0,#T_16db03ae_cc71_11ef_b765_1e0062143c79row0_col1,#T_16db03ae_cc71_11ef_b765_1e0062143c79row1_col0,#T_16db03ae_cc71_11ef_b765_1e0062143c79row1_col1,#T_16db03ae_cc71_11ef_b765_1e0062143c79row2_col0,#T_16db03ae_cc71_11ef_b765_1e0062143c79row2_col1,#T_16db03ae_cc71_11ef_b765_1e0062143c79row3_col0,#T_16db03ae_cc71_11ef_b765_1e0062143c79row3_col1{\n",
       "            background-color:  #C9DFEC;\n",
       "            text-align:  left;\n",
       "        }</style><table id=\"T_16db03ae_cc71_11ef_b765_1e0062143c79\" ><thead>    <tr>        <th class=\"blank level0\" ></th>        <th class=\"col_heading level0 col0\" >instruction</th>        <th class=\"col_heading level0 col1\" >explanation</th>    </tr></thead><tbody>\n",
       "                <tr>\n",
       "                        <th id=\"T_16db03ae_cc71_11ef_b765_1e0062143c79level0_row0\" class=\"row_heading level0 row0\" >1</th>\n",
       "                        <td id=\"T_16db03ae_cc71_11ef_b765_1e0062143c79row0_col0\" class=\"data row0 col0\" >1#</td>\n",
       "                        <td id=\"T_16db03ae_cc71_11ef_b765_1e0062143c79row0_col1\" class=\"data row0 col1\" >add 1 to R1</td>\n",
       "            </tr>\n",
       "            <tr>\n",
       "                        <th id=\"T_16db03ae_cc71_11ef_b765_1e0062143c79level0_row1\" class=\"row_heading level0 row1\" >2</th>\n",
       "                        <td id=\"T_16db03ae_cc71_11ef_b765_1e0062143c79row1_col0\" class=\"data row1 col0\" >11#####</td>\n",
       "                        <td id=\"T_16db03ae_cc71_11ef_b765_1e0062143c79row1_col1\" class=\"data row1 col1\" >cases on R2</td>\n",
       "            </tr>\n",
       "            <tr>\n",
       "                        <th id=\"T_16db03ae_cc71_11ef_b765_1e0062143c79level0_row2\" class=\"row_heading level0 row2\" >3</th>\n",
       "                        <td id=\"T_16db03ae_cc71_11ef_b765_1e0062143c79row2_col0\" class=\"data row2 col0\" >1###</td>\n",
       "                        <td id=\"T_16db03ae_cc71_11ef_b765_1e0062143c79row2_col1\" class=\"data row2 col1\" >go forward 1 to instruction 4</td>\n",
       "            </tr>\n",
       "            <tr>\n",
       "                        <th id=\"T_16db03ae_cc71_11ef_b765_1e0062143c79level0_row3\" class=\"row_heading level0 row3\" >4</th>\n",
       "                        <td id=\"T_16db03ae_cc71_11ef_b765_1e0062143c79row3_col0\" class=\"data row3 col0\" >1###</td>\n",
       "                        <td id=\"T_16db03ae_cc71_11ef_b765_1e0062143c79row3_col1\" class=\"data row3 col1\" >go forward 1 to instruction 5</td>\n",
       "            </tr>\n",
       "    </tbody></table>"
      ],
      "text/plain": [
       "<pandas.io.formats.style.Styler at 0x7ffcb9104700>"
      ]
     },
     "metadata": {},
     "output_type": "display_data"
    },
    {
     "name": "stdout",
     "output_type": "stream",
     "text": [
      "\n",
      "The computation starts with the register contents shown below.\n",
      "The registers include those those which you entered as part of the input\n",
      "and also others mentioned in the input program.\n"
     ]
    },
    {
     "data": {
      "text/html": [
       "<style  type=\"text/css\" >\n",
       "#T_16dccb3a_cc71_11ef_b765_1e0062143c79row0_col0,#T_16dccb3a_cc71_11ef_b765_1e0062143c79row1_col0{\n",
       "            background-color:  #FFFFCC;\n",
       "            text-align:  left;\n",
       "        }</style><table id=\"T_16dccb3a_cc71_11ef_b765_1e0062143c79\" ><thead>    <tr>        <th class=\"blank level0\" ></th>        <th class=\"col_heading level0 col0\" >contents</th>    </tr></thead><tbody>\n",
       "                <tr>\n",
       "                        <th id=\"T_16dccb3a_cc71_11ef_b765_1e0062143c79level0_row0\" class=\"row_heading level0 row0\" >1</th>\n",
       "                        <td id=\"T_16dccb3a_cc71_11ef_b765_1e0062143c79row0_col0\" class=\"data row0 col0\" >1#1</td>\n",
       "            </tr>\n",
       "            <tr>\n",
       "                        <th id=\"T_16dccb3a_cc71_11ef_b765_1e0062143c79level0_row1\" class=\"row_heading level0 row1\" >2</th>\n",
       "                        <td id=\"T_16dccb3a_cc71_11ef_b765_1e0062143c79row1_col0\" class=\"data row1 col0\" >#</td>\n",
       "            </tr>\n",
       "    </tbody></table>"
      ],
      "text/plain": [
       "<pandas.io.formats.style.Styler at 0x7ffca8d692e0>"
      ]
     },
     "metadata": {},
     "output_type": "display_data"
    },
    {
     "name": "stdout",
     "output_type": "stream",
     "text": [
      "\n",
      "Step 1:\n",
      "Execute instruction 1: add 1 to R1.\n"
     ]
    },
    {
     "data": {
      "text/html": [
       "<style  type=\"text/css\" >\n",
       "#T_16dd6748_cc71_11ef_b765_1e0062143c79row0_col0,#T_16dd6748_cc71_11ef_b765_1e0062143c79row1_col0{\n",
       "            background-color:  #FFFFCC;\n",
       "            text-align:  left;\n",
       "        }</style><table id=\"T_16dd6748_cc71_11ef_b765_1e0062143c79\" ><thead>    <tr>        <th class=\"blank level0\" ></th>        <th class=\"col_heading level0 col0\" >contents</th>    </tr></thead><tbody>\n",
       "                <tr>\n",
       "                        <th id=\"T_16dd6748_cc71_11ef_b765_1e0062143c79level0_row0\" class=\"row_heading level0 row0\" >1</th>\n",
       "                        <td id=\"T_16dd6748_cc71_11ef_b765_1e0062143c79row0_col0\" class=\"data row0 col0\" >1#11</td>\n",
       "            </tr>\n",
       "            <tr>\n",
       "                        <th id=\"T_16dd6748_cc71_11ef_b765_1e0062143c79level0_row1\" class=\"row_heading level0 row1\" >2</th>\n",
       "                        <td id=\"T_16dd6748_cc71_11ef_b765_1e0062143c79row1_col0\" class=\"data row1 col0\" >#</td>\n",
       "            </tr>\n",
       "    </tbody></table>"
      ],
      "text/plain": [
       "<pandas.io.formats.style.Styler at 0x7ffc98a4c310>"
      ]
     },
     "metadata": {},
     "output_type": "display_data"
    },
    {
     "name": "stdout",
     "output_type": "stream",
     "text": [
      "Step 2:\n",
      "Execute instruction 2: cases on R2.\n",
      "The first symbol in that register is #, so we delete that symbol and go forward 3 instructions.\n",
      "The computation then halts properly because the control is just below the last line of the program,\n",
      "and because all registers other than R1 are empty.\n",
      "The output is 1#11.\n"
     ]
    }
   ],
   "source": [
    "step_by_step('1#11#####1###1###',['1#1','#'])"
   ]
  },
  {
   "attachments": {},
   "cell_type": "markdown",
   "metadata": {
    "collapsed": false,
    "id": "UryssEaVNzgx",
    "jupyter": {
     "outputs_hidden": true
    }
   },
   "source": [
    "The last computation started with two inputs.  Try changing those inputs to see what happens.  We have not discussed ``halting'' yet; for this, see [this link](content:haltDef) If you want to read ahead, please do so.  As practice with the definition of *halt*, you might try yourself to predict what will happen before running it.  You can add the symbols $\\mathtt{1}$ or $\\mathtt{\\#}$, and you also can delete symbols.  But you should not delete the quote marks.  Also, you can change the program the same way.   The idea is that you should explore this function *step_by_step* by trying it out on simple inputs.  "
   ]
  },
  {
   "cell_type": "markdown",
   "metadata": {
    "collapsed": false,
    "id": "cxghpbUSNzgx"
   },
   "source": [
    "Here is an explanation of the form of the command ```step_by_step``` that we have been using.   \n",
    "\n",
    "The first argument could be a ```1#``` program surrounded by single quotes or double-quotes.   If you use single quotes, you need to be sure to use the correct ones; on my screen they look straight, not slanted.   You could also use a concatenation of quoted expressions (see below).  But if you forget the quotes, you will get an error because the Python program that is running all of this will balk at ```1#``` expressions without quotes around them.\n",
    "\n",
    "In addition, you can name expressions ahead of time using assignment statements like\n",
    "\n",
    "```p = '1#'```\n",
    "\n",
    "\n",
    "and then enter (for example)\n",
    "\n",
    " ```step_by_step(p,['11'])```.\n",
    "\n",
    "---\n",
    "\n",
    "The program ```step_by_step``` begins with a parse of your program, and so if you input a word that is not a sequence of ```1#``` expressions, it will stop without further ado.\n",
    "\n",
    "The second argument to ```step_by_step``` is a list of words.   A list in Python is enclosed by square brackets \\[ and \\], not by parentheses.  The words that go in the list are used in R1, R2, . . . in that order.  It is understood that any register not represented by any input starts with the empty string.   You can also represent the empty string by ' '.  And the empty list  of registers is denoted by two square brackets with nothing inside,  [  ].\n",
    "\n",
    "All in all, the examples below show different formats for the input to our function ```step_by_step```.\n",
    "\n"
   ]
  },
  {
   "cell_type": "code",
   "execution_count": 11,
   "metadata": {
    "colab": {
     "base_uri": "https://localhost:8080/",
     "height": 424
    },
    "id": "bQG-Z-2kNzgx",
    "jupyter": {
     "outputs_hidden": true
    },
    "outputId": "6760532e-bfb4-437e-8c94-fcc553dfe86f"
   },
   "outputs": [
    {
     "name": "stdout",
     "output_type": "stream",
     "text": [
      "First, here is the program:\n"
     ]
    },
    {
     "data": {
      "text/html": [
       "<style  type=\"text/css\" >\n",
       "#T_c88f7090_cc70_11ef_b765_1e0062143c79row0_col0,#T_c88f7090_cc70_11ef_b765_1e0062143c79row0_col1{\n",
       "            background-color:  #C9DFEC;\n",
       "            text-align:  left;\n",
       "        }</style><table id=\"T_c88f7090_cc70_11ef_b765_1e0062143c79\" ><thead>    <tr>        <th class=\"blank level0\" ></th>        <th class=\"col_heading level0 col0\" >instruction</th>        <th class=\"col_heading level0 col1\" >explanation</th>    </tr></thead><tbody>\n",
       "                <tr>\n",
       "                        <th id=\"T_c88f7090_cc70_11ef_b765_1e0062143c79level0_row0\" class=\"row_heading level0 row0\" >1</th>\n",
       "                        <td id=\"T_c88f7090_cc70_11ef_b765_1e0062143c79row0_col0\" class=\"data row0 col0\" >1#</td>\n",
       "                        <td id=\"T_c88f7090_cc70_11ef_b765_1e0062143c79row0_col1\" class=\"data row0 col1\" >add 1 to R1</td>\n",
       "            </tr>\n",
       "    </tbody></table>"
      ],
      "text/plain": [
       "<pandas.io.formats.style.Styler at 0x7ffcb9baad90>"
      ]
     },
     "metadata": {},
     "output_type": "display_data"
    },
    {
     "name": "stdout",
     "output_type": "stream",
     "text": [
      "\n",
      "The computation starts with the register contents shown below.\n",
      "The registers include those those which you entered as part of the input\n",
      "and also others mentioned in the input program.\n"
     ]
    },
    {
     "data": {
      "text/html": [
       "<style  type=\"text/css\" >\n",
       "#T_c88ff1f0_cc70_11ef_b765_1e0062143c79row0_col0,#T_c88ff1f0_cc70_11ef_b765_1e0062143c79row1_col0,#T_c88ff1f0_cc70_11ef_b765_1e0062143c79row2_col0{\n",
       "            background-color:  #FFFFCC;\n",
       "            text-align:  left;\n",
       "        }</style><table id=\"T_c88ff1f0_cc70_11ef_b765_1e0062143c79\" ><thead>    <tr>        <th class=\"blank level0\" ></th>        <th class=\"col_heading level0 col0\" >contents</th>    </tr></thead><tbody>\n",
       "                <tr>\n",
       "                        <th id=\"T_c88ff1f0_cc70_11ef_b765_1e0062143c79level0_row0\" class=\"row_heading level0 row0\" >1</th>\n",
       "                        <td id=\"T_c88ff1f0_cc70_11ef_b765_1e0062143c79row0_col0\" class=\"data row0 col0\" >#1</td>\n",
       "            </tr>\n",
       "            <tr>\n",
       "                        <th id=\"T_c88ff1f0_cc70_11ef_b765_1e0062143c79level0_row1\" class=\"row_heading level0 row1\" >2</th>\n",
       "                        <td id=\"T_c88ff1f0_cc70_11ef_b765_1e0062143c79row1_col0\" class=\"data row1 col0\" >#1</td>\n",
       "            </tr>\n",
       "            <tr>\n",
       "                        <th id=\"T_c88ff1f0_cc70_11ef_b765_1e0062143c79level0_row2\" class=\"row_heading level0 row2\" >3</th>\n",
       "                        <td id=\"T_c88ff1f0_cc70_11ef_b765_1e0062143c79row2_col0\" class=\"data row2 col0\" >1#</td>\n",
       "            </tr>\n",
       "    </tbody></table>"
      ],
      "text/plain": [
       "<pandas.io.formats.style.Styler at 0x7ffcb9b6d430>"
      ]
     },
     "metadata": {},
     "output_type": "display_data"
    },
    {
     "name": "stdout",
     "output_type": "stream",
     "text": [
      "\n",
      "Step 1:\n",
      "Execute instruction 1: add 1 to R1.\n",
      "This computation does not halt.\n",
      "Here is the list of registers whose contents are not empty at this point, other than R1:[2, 3].\n",
      "The register contents at the end are shown above.\n"
     ]
    }
   ],
   "source": [
    "p= '1#'\n",
    "q = '#1'\n",
    "step_by_step(p,[q,q,p])"
   ]
  },
  {
   "cell_type": "code",
   "execution_count": 12,
   "metadata": {
    "colab": {
     "base_uri": "https://localhost:8080/",
     "height": 629
    },
    "id": "T7Xwna4jNzgy",
    "jupyter": {
     "outputs_hidden": true
    },
    "outputId": "b3ac7818-e4d4-45ac-926a-1638d45eeadb",
    "scrolled": true
   },
   "outputs": [
    {
     "name": "stdout",
     "output_type": "stream",
     "text": [
      "First, here is the program:\n"
     ]
    },
    {
     "data": {
      "text/html": [
       "<style  type=\"text/css\" >\n",
       "#T_c894504c_cc70_11ef_b765_1e0062143c79row0_col0,#T_c894504c_cc70_11ef_b765_1e0062143c79row0_col1,#T_c894504c_cc70_11ef_b765_1e0062143c79row1_col0,#T_c894504c_cc70_11ef_b765_1e0062143c79row1_col1{\n",
       "            background-color:  #C9DFEC;\n",
       "            text-align:  left;\n",
       "        }</style><table id=\"T_c894504c_cc70_11ef_b765_1e0062143c79\" ><thead>    <tr>        <th class=\"blank level0\" ></th>        <th class=\"col_heading level0 col0\" >instruction</th>        <th class=\"col_heading level0 col1\" >explanation</th>    </tr></thead><tbody>\n",
       "                <tr>\n",
       "                        <th id=\"T_c894504c_cc70_11ef_b765_1e0062143c79level0_row0\" class=\"row_heading level0 row0\" >1</th>\n",
       "                        <td id=\"T_c894504c_cc70_11ef_b765_1e0062143c79row0_col0\" class=\"data row0 col0\" >1##</td>\n",
       "                        <td id=\"T_c894504c_cc70_11ef_b765_1e0062143c79row0_col1\" class=\"data row0 col1\" >add # to R1</td>\n",
       "            </tr>\n",
       "            <tr>\n",
       "                        <th id=\"T_c894504c_cc70_11ef_b765_1e0062143c79level0_row1\" class=\"row_heading level0 row1\" >2</th>\n",
       "                        <td id=\"T_c894504c_cc70_11ef_b765_1e0062143c79row1_col0\" class=\"data row1 col0\" >11#</td>\n",
       "                        <td id=\"T_c894504c_cc70_11ef_b765_1e0062143c79row1_col1\" class=\"data row1 col1\" >add 1 to R2</td>\n",
       "            </tr>\n",
       "    </tbody></table>"
      ],
      "text/plain": [
       "<pandas.io.formats.style.Styler at 0x7ffc98a4c2e0>"
      ]
     },
     "metadata": {},
     "output_type": "display_data"
    },
    {
     "name": "stdout",
     "output_type": "stream",
     "text": [
      "\n",
      "The computation starts with the register contents shown below.\n",
      "The registers include those those which you entered as part of the input\n",
      "and also others mentioned in the input program.\n"
     ]
    },
    {
     "data": {
      "text/html": [
       "<style  type=\"text/css\" >\n",
       "#T_c894e84a_cc70_11ef_b765_1e0062143c79row0_col0,#T_c894e84a_cc70_11ef_b765_1e0062143c79row1_col0{\n",
       "            background-color:  #FFFFCC;\n",
       "            text-align:  left;\n",
       "        }</style><table id=\"T_c894e84a_cc70_11ef_b765_1e0062143c79\" ><thead>    <tr>        <th class=\"blank level0\" ></th>        <th class=\"col_heading level0 col0\" >contents</th>    </tr></thead><tbody>\n",
       "                <tr>\n",
       "                        <th id=\"T_c894e84a_cc70_11ef_b765_1e0062143c79level0_row0\" class=\"row_heading level0 row0\" >1</th>\n",
       "                        <td id=\"T_c894e84a_cc70_11ef_b765_1e0062143c79row0_col0\" class=\"data row0 col0\" ></td>\n",
       "            </tr>\n",
       "            <tr>\n",
       "                        <th id=\"T_c894e84a_cc70_11ef_b765_1e0062143c79level0_row1\" class=\"row_heading level0 row1\" >2</th>\n",
       "                        <td id=\"T_c894e84a_cc70_11ef_b765_1e0062143c79row1_col0\" class=\"data row1 col0\" ></td>\n",
       "            </tr>\n",
       "    </tbody></table>"
      ],
      "text/plain": [
       "<pandas.io.formats.style.Styler at 0x7ffcb9baab50>"
      ]
     },
     "metadata": {},
     "output_type": "display_data"
    },
    {
     "name": "stdout",
     "output_type": "stream",
     "text": [
      "\n",
      "Step 1:\n",
      "Execute instruction 1: add # to R1.\n"
     ]
    },
    {
     "data": {
      "text/html": [
       "<style  type=\"text/css\" >\n",
       "#T_c8956400_cc70_11ef_b765_1e0062143c79row0_col0,#T_c8956400_cc70_11ef_b765_1e0062143c79row1_col0{\n",
       "            background-color:  #FFFFCC;\n",
       "            text-align:  left;\n",
       "        }</style><table id=\"T_c8956400_cc70_11ef_b765_1e0062143c79\" ><thead>    <tr>        <th class=\"blank level0\" ></th>        <th class=\"col_heading level0 col0\" >contents</th>    </tr></thead><tbody>\n",
       "                <tr>\n",
       "                        <th id=\"T_c8956400_cc70_11ef_b765_1e0062143c79level0_row0\" class=\"row_heading level0 row0\" >1</th>\n",
       "                        <td id=\"T_c8956400_cc70_11ef_b765_1e0062143c79row0_col0\" class=\"data row0 col0\" >#</td>\n",
       "            </tr>\n",
       "            <tr>\n",
       "                        <th id=\"T_c8956400_cc70_11ef_b765_1e0062143c79level0_row1\" class=\"row_heading level0 row1\" >2</th>\n",
       "                        <td id=\"T_c8956400_cc70_11ef_b765_1e0062143c79row1_col0\" class=\"data row1 col0\" ></td>\n",
       "            </tr>\n",
       "    </tbody></table>"
      ],
      "text/plain": [
       "<pandas.io.formats.style.Styler at 0x7ffcb90d9c70>"
      ]
     },
     "metadata": {},
     "output_type": "display_data"
    },
    {
     "name": "stdout",
     "output_type": "stream",
     "text": [
      "Step 2:\n",
      "Execute instruction 2: add 1 to R2.\n",
      "This computation does not halt.\n",
      "Here is the list of registers whose contents are not empty at this point, other than R1:[2].\n",
      "The register contents at the end are shown above.\n"
     ]
    }
   ],
   "source": [
    "step_by_step(p+q+p,[])\n",
    "# This is a comment.\n",
    "# the symbol + is used for concatenation of strings in Python.\n",
    "# Since p and q are strings, we can concatenate them"
   ]
  },
  {
   "cell_type": "markdown",
   "metadata": {
    "collapsed": false,
    "id": "VKo3wMOqNzgy"
   },
   "source": [
    "So far in this notebook, we have only seen the function ```step_by_step```.   If we want to run things \"in one fell swoop\", we could use the function ```onesharp(p,[r1,r2, . . ., rn])```.   It also takes two arguments, the first a program and the second a (possibly-empty) sequence of input words."
   ]
  },
  {
   "cell_type": "code",
   "execution_count": 19,
   "metadata": {},
   "outputs": [
    {
     "data": {
      "text/plain": [
       "'1'"
      ]
     },
     "execution_count": 19,
     "metadata": {},
     "output_type": "execute_result"
    }
   ],
   "source": [
    "onesharp('1#',[])"
   ]
  },
  {
   "cell_type": "markdown",
   "metadata": {
    "id": "3WeBl5d-3_fJ"
   },
   "source": [
    "<img src=\"https://github.com/lmoss/onesharp/blob/main/pianotrumpet.jpg?raw=1\" width=\"200\" height=\"160\">"
   ]
  },
  {
   "attachments": {},
   "cell_type": "markdown",
   "metadata": {
    "id": "72XoyBfdJqFn"
   },
   "source": [
    "## Reference\n",
    "\n",
    "### The full set of instructions of 1#\n",
    "\n",
    "\n",
    "| Instruction      | Meaning |\n",
    "| ----------- | ----------- |\n",
    "| 1^n #      | Add 1 to Rn       |\n",
    "| 1^n ##   | Add # to Rn      |\n",
    "| 1^n ###   | Go forward n instructions     |\n",
    "| 1^n ####   | Go backward n instructions     |\n",
    "| 1^n #####   | Cases on Rn |\n",
    "\n",
    "All numbers in this chart are written in unary.\n",
    "Registers are processed as queues: symbols enter on the right and exit on the left.\n",
    "\n",
    "The first two types of instructions add symbols to the right ends of the registers.\n",
    "\n",
    "Here is a review of how the case instruction ```1^n #####``` works.\n",
    "\n",
    "If Rn is empty, we go to the very next instruction.\n",
    "\n",
    "If the first symbol of Rn is $\\mathtt{1}$, we delete that symbol and go to the second instruction after the case instruction.\n",
    "\n",
    "If the first symbol of Rn is $\\mathtt{\\#}$, we delete that symbol and go to the third instruction after the case instruction.\n"
   ]
  },
  {
   "attachments": {},
   "cell_type": "markdown",
   "metadata": {
    "id": "6kV7NJvADpyq"
   },
   "source": [
    "### Useful command-line tools\n",
    "\n",
    "These are Python functions which you can call in a code cell, provide that you have run the very first cell in a notebook, the cell that loads in the relevant definitions.\n",
    "\n",
    "| Instruction      | Meaning |\n",
    "| ----------- | ----------- |\n",
    "| ```onesharp(p,[r1, . . .,rn])``` | runs ```p``` on the list of words  ```[r1, . . .,rn]```     |\n",
    "| ```step_by_step(p,[r1, . . .,rn])```   | parses p and shows all steps in the run  |\n",
    "| ```parse(p)```  | expresses ```p``` as a list of instructions    |\n",
    "| ```parse_explain(p)```   | gives a table of ```parse(p)``` with glosses     |\n",
    "| ```unparse(p)```   | inverse of ```parse(p)``` |\n"
   ]
  },
  {
   "attachments": {},
   "cell_type": "markdown",
   "metadata": {
    "id": "p4rKNF0_6TMh"
   },
   "source": [
    "### Useful operations inside a Jupyter notebook\n",
    "\n",
    "Similarly, here are some things that you should know how to do.  You may find instructions on this by searching for tutorial help on Jupyter notebooks.\n",
    "\n",
    "1. Show the Table of Contents, and also hide it.\n",
    "\n",
    "2. Stop a program that is either in an infinite loop or otherwise is going too long.\n",
    "\n",
    "3. Insert code cells above or below the current cell.\n",
    "\n",
    "4. Insert text cells above or below the current cell.\n",
    "\n",
    "5. Add a comment to a cell using # as the first character in a line.\n",
    "\n",
    "6. Moving a cell up or down in the notebook.\n",
    "\n",
    "7. Delete a cell.\n",
    "\n",
    "8. Open a new notebook.  "
   ]
  },
  {
   "attachments": {},
   "cell_type": "markdown",
   "metadata": {
    "id": "3yTAFiDkern_"
   },
   "source": [
    "```{tip}\n",
    "You need to know the commands of 1# well to go forward.\n",
    "\n",
    "You don't need to know much about Python, but it would help to know the basics of strings and lists.  Some exercises will ask you to write Python code, and if you want to solve them you of course would need to know more.\n",
    "\n",
    "It would be good to read about the basics of Jupyter notebooks.  \n",
    "```"
   ]
  },
  {
   "attachments": {},
   "cell_type": "markdown",
   "metadata": {},
   "source": [
    "```{exercise}\n",
    "If you know about *formal language theory*, verify that the set of ```1#``` programs is a regular language.\n",
    "```"
   ]
  },
  {
   "cell_type": "markdown",
   "metadata": {},
   "source": []
  }
 ],
 "metadata": {
  "colab": {
   "provenance": []
  },
  "kernelspec": {
   "display_name": "Python 3 (system-wide)",
   "language": "python",
   "metadata": {
    "cocalc": {
     "description": "Python 3 programming language",
     "priority": 100,
     "url": "https://www.python.org/"
    }
   },
   "name": "python3",
   "resource_dir": "/ext/jupyter/kernels/python3"
  },
  "language_info": {
   "codemirror_mode": {
    "name": "ipython",
    "version": 3
   },
   "file_extension": ".py",
   "mimetype": "text/x-python",
   "name": "python",
   "nbconvert_exporter": "python",
   "pygments_lexer": "ipython3",
   "version": "3.8.5"
  }
 },
 "nbformat": 4,
 "nbformat_minor": 0
}