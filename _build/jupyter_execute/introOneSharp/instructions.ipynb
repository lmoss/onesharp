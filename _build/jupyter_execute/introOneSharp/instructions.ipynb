{
 "cells": [
  {
   "attachments": {},
   "cell_type": "markdown",
   "metadata": {},
   "source": [
    "<a href=\"https://colab.research.google.com/github/lmoss/onesharp/blob/main/introOneSharp/instructions.ipynb\" target=\"_parent\"><img src=\"https://colab.research.google.com/assets/colab-badge.svg\" alt=\"Open In Colab\"/></a>"
   ]
  },
  {
   "cell_type": "code",
   "execution_count": null,
   "metadata": {},
   "outputs": [],
   "source": [
    "!python -m pip install -U setuptools\n",
    "!python -m pip install -U git+https://github.com/lmoss/onesharp.git@main\n",
    "from onesharp.interpreter.interpreter import *"
   ]
  },
  {
   "attachments": {},
   "cell_type": "markdown",
   "metadata": {},
   "source": [
    "# Instructions of 1# \n",
    "\n",
    "\n",
    "```{attention} Note for instructors\n",
    "\n",
    "The book could begin here instead of with the previous chapter.  In that case, one would return to one or more sections from the previous chapter on an as-needed basis.  On the other hand, most of this chapter is crucial for what follows.\n",
    "\n",
    "```\n",
    "\n",
    "(content:onesharpinstructions)=\n",
    "\n",
    "Computability can be studied on an \\emph{intuitive} or \\emph{informal} level before one sees definitions.   This intuitive level is both the right level for our work, and at the same time the wrong level.   That is, for some things, working intuitively is exactly what we want to do.   For example, this was appropriate in the last chapter.  For other things, it is not nearly precise or specific enough.   And for those, this book goes into a rather detailed set of definitions, starting now.     \n",
    "\n",
    "A *word* for us will be a sequence of strings using the characters ```1``` and ```#```.   For example, ```1##1``` is a word, as is the empty word $\\varepsilon$.   Words must be finite.   \n",
    "\n",
    "A *register* is a place that stores words.  A *register machine* is a collection of registers. \n",
    "These registers are called R1, R2, etc.   The machine runs according to a *program*.  Programs are comprised of *instructions*.  We are going to describe instructions and programs in ```1#``` shortly.  The idea is that the register machine starts with a few words in the registers, proceeds according to the program, and (if all goes well) eventually *halts*,.  "
   ]
  },
  {
   "attachments": {},
   "cell_type": "markdown",
   "metadata": {},
   "source": [
    "## The ```1#``` instruction set\n",
    "\n",
    "We list below the full set of instructions of ```1#```.  There are five instruction types.  \n",
    "\n",
    "```{attention}\n",
    "When we use superscripts and write, for example,  ```1^m #^n``` we mean $m$ copies of the symbol ```1``` followed by $n$ copies of the symbol ```#```.  For example,\n",
    "\n",
    "```1^15 #^4``` abbreviates ```111111111111111####```\n",
    "\n",
    "```\n",
    "\n",
    "There are only five kinds of ```1#``` instructions. \n",
    "\n",
    "We begin with the first two kinds of instructions, those that end in ```#``` and those that end in ```##```.\n",
    "\n",
    "| Instruction      | Meaning |\n",
    "| ----------- | ----------- |\n",
    "| 1#      | Add 1 to the right end of R1       |\n",
    "| 11#   | Add 1 to the right end of R2      |\n",
    "| 111#   | Add 1 to the right end of  R3      |\n",
    "\n",
    "| Instruction      | Meaning |\n",
    "| ----------- | ----------- |\n",
    "| 1##      | Add # to the right end of R1       |\n",
    "| 11##   | Add # to the right end of R2      |\n",
    "| 111##   | Add # to the right end of  R3      |\n",
    "\n",
    "We can summarize the two kinds of instructions which we have seen, and also extend them:\n",
    "\n",
    "| Instruction      | Meaning |\n",
    "| ----------- | ----------- |\n",
    "| 1^n #      | Add 1 to Rn       |\n",
    "| 1^n ##   | Add # to Rn      |\n",
    "\n",
    "\n",
    "The programs of ```1#``` are just sequences of instructions run together.  There is no punctuation between the instructions.  To move around in a program, we have two other kinds of instructions:\n",
    "\n",
    "| Instruction      | Meaning |\n",
    "| ----------- | ----------- |\n",
    "| 1^n ###   | Go forward n instructions in the program    |\n",
    "| 1^n ####   | Go backward n instructions in the program    |\n",
    "\n",
    "Here is the last kind of instruction:\n",
    "\n",
    "| Instruction      | Meaning |\n",
    "| ----------- | ----------- |\n",
    "| 1^n #####   | Cases on register n     |\n",
    "\n",
    "Here is what it does:\n",
    "\n",
    "If Rn is empty, we go to the very next instruction.\n",
    "\n",
    "If the first symbol of Rn is ```1```, we delete that symbol and go to the second instruction after the case instruction.\n",
    "\n",
    "If the first symbol of Rn is ```#```, we delete that symbol and go to the third instruction after the case instruction.\n"
   ]
  },
  {
   "attachments": {},
   "cell_type": "markdown",
   "metadata": {
    "id": "uHT06l0nzXOf"
   },
   "source": [
    "<img src=\"https://github.com/lmoss/onesharp/blob/main/hopeless.jpg?raw=1\" width=\"200\" height=\"160\">"
   ]
  },
  {
   "attachments": {},
   "cell_type": "markdown",
   "metadata": {
    "id": "kFwH6_CugCNx"
   },
   "source": [
    "(content:whatArePrograms)=\n",
    "## What are programs?\n",
    "\n",
    "```{prf:definition}\n",
    "A *program* is a finite sequence of instructions run together.   Usually we insist that programs be nonempty.\n",
    "```\n",
    "\n",
    "```{admonition} Example\n",
    ":class: tip\n",
    "\n",
    "Here is a program:\n",
    "\n",
    "$\\onett\\onett\\hash\\onett\\onett\\hash\\hash\\hash\\onett\\onett\\hash\\hash\\hash\\hash\\onett\\hash\\hash$\n",
    "\n",
    "It is four instructions concatenated together.   \n",
    "\n",
    "The first instruction, $\\onett\\onett\\hash$, adds $\\one$ to R2.   The second instruction says \"go forward two instructions\", so we skip the next instruction ($\\onett\\onett\\hash\\hash\\hash\\hash$)  and go to the last instruction $\\onett\\hash\\hash$.   This adds $\\hash$ to R1.\n",
    "```\n",
    "\n",
    "```{admonition} Example\n",
    "Here is another program:\n",
    "\n",
    "$$\\onett\\onett\\hash\\hash\\hash\\hash\\hash\\onett\\onett\\onett\\onett\\onett\\onett\\hash\\hash\\hash\\onett\\onett\\onett\\hash\\hash\\hash\\onett\\hash\\hash\\onett\\onett\\onett\\onett\\hash\\hash\\hash\\hash\\onett\\hash\\onett\\onett\\onett\\onett\\onett\\onett\\hash\\hash\\hash\\hash\n",
    "$$\n",
    "\n",
    "This is the concatenation of the following sequence of seven instructions:$$\n",
    "\\begin{array}{l}\n",
    "(\\onett\\onett\\hash\\hash\\hash\\hash\\hash, \\onett\\onett\\onett\\onett\\onett\\onett\\hash\\hash\\hash, \\onett\\onett\\onett\\hash\\hash\\hash, \\onett\\hash\\hash, \\onett\\onett\\onett\\onett\\hash\\hash\\hash\\hash, \\\\\n",
    "\\onett\\hash, \\onett\\onett\\onett\\onett\\onett\\onett\\hash\\hash\\hash\\hash)\n",
    "\\end{array}\n",
    "$$\n",
    "\n",
    "Dividing a program into instructions is a very easy form of *parsing*.  In a real computer language, parsing is more difficult than it is for $\\onesharp$.   \n",
    "```\n",
    "\n",
    " "
   ]
  },
  {
   "attachments": {},
   "cell_type": "markdown",
   "metadata": {},
   "source": [
    "```{exercise}\n",
    "Write a program which, when started with all registers empty, gives ```1#``` in R1 and R2, ```#1``` in R3, and the other registers empty.\n",
    "```"
   ]
  },
  {
   "attachments": {},
   "cell_type": "markdown",
   "metadata": {
    "id": "HQ3wlzp5eDEm"
   },
   "source": [
    "```{important}\n",
    "Words have to be *finite*, and so programs also must be finite.  Further, each program $p$ of ```1#``` can only mention finitely many registers.\n",
    "\n",
    "(That is, there is a finite set $F\\subseteq \\N$ such that if\n",
    " ```1^k #``` is an instruction in $p$, then $k\\in F$;\n",
    "if ```1^k ##```  is an instruction in $p$, then $k\\in F$;\n",
    "and  ```1^k #####```  is an instruction in $p$, then $k\\in F$.)\n",
    "```"
   ]
  },
  {
   "cell_type": "markdown",
   "metadata": {
    "id": "3WeBl5d-3_fJ"
   },
   "source": [
    "<img src=\"https://github.com/lmoss/onesharp/blob/main/pianotrumpet.jpg?raw=1\" width=\"200\" height=\"160\">"
   ]
  },
  {
   "attachments": {},
   "cell_type": "markdown",
   "metadata": {},
   "source": [
    "```{exercise}\n",
    "If you know about *formal language theory*, verify that the set of ```1#``` programs is a regular language.\n",
    "```"
   ]
  },
  {
   "attachments": {},
   "cell_type": "markdown",
   "metadata": {
    "id": "72XoyBfdJqFn"
   },
   "source": [
    "## Reference\n",
    "\n",
    "### The full set of instructions of 1#\n",
    "\n",
    "\n",
    "| Instruction      | Meaning |\n",
    "| ----------- | ----------- |\n",
    "| 1^n #      | Add 1 to Rn       |\n",
    "| 1^n ##   | Add # to Rn      |\n",
    "| 1^n ###   | Go forward n instructions     |\n",
    "| 1^n ####   | Go backward n instructions     |\n",
    "| 1^n #####   | Cases on Rn |\n",
    "\n",
    "All numbers in this chart are written in unary, and $n\\geq 1$.\n",
    "\n",
    "Registers are processed as queues: symbols enter on the right and exit on the left.\n",
    "\n",
    "The first two types of instructions add symbols to the right ends of the registers.\n",
    "\n",
    "Here is a review of how the case instruction ```1^n #####``` works.\n",
    "\n",
    "If Rn is empty, we go to the very next instruction.\n",
    "\n",
    "If the first symbol of Rn is $\\mathtt{1}$, we delete that symbol and go to the second instruction after the case instruction.\n",
    "\n",
    "If the first symbol of Rn is $\\mathtt{\\#}$, we delete that symbol and go to the third instruction after the case instruction.\n"
   ]
  },
  {
   "cell_type": "markdown",
   "metadata": {},
   "source": []
  }
 ],
 "metadata": {
  "colab": {
   "provenance": []
  },
  "kernelspec": {
   "display_name": "Python 3 (system-wide)",
   "language": "python",
   "metadata": {
    "cocalc": {
     "description": "Python 3 programming language",
     "priority": 100,
     "url": "https://www.python.org/"
    }
   },
   "name": "python3",
   "resource_dir": "/ext/jupyter/kernels/python3"
  },
  "language_info": {
   "codemirror_mode": {
    "name": "ipython",
    "version": 3
   },
   "file_extension": ".py",
   "mimetype": "text/x-python",
   "name": "python",
   "nbconvert_exporter": "python",
   "pygments_lexer": "ipython3",
   "version": "3.8.5"
  }
 },
 "nbformat": 4,
 "nbformat_minor": 0
}