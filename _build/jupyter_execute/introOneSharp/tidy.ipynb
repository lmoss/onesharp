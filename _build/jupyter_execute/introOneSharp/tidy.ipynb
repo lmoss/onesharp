{
 "cells": [
  {
   "cell_type": "markdown",
   "metadata": {
    "colab_type": "text",
    "id": "view-in-github"
   },
   "source": [
    "<a href=\"https://colab.research.google.com/github/lmoss/onesharp/blob/main/introOneSharp/tidy.ipynb\" target=\"_parent\"><img src=\"https://colab.research.google.com/assets/colab-badge.svg\" alt=\"Open In Colab\"/></a>"
   ]
  },
  {
   "cell_type": "markdown",
   "metadata": {
    "id": "yHt2S0XzHgb9"
   },
   "source": [
    "## Tidy programs"
   ]
  },
  {
   "cell_type": "markdown",
   "metadata": {
    "id": "-_VdnaFzHlWc"
   },
   "source": [
    "We next come to an important definition concerning programs. \n",
    "When a program is executed, each line either transers control to another line, or to some \"line\" outside the program.  If line k is an instruction of the form ```1^k#``` or ```1^k##```, then after line k is executed we go to line k + 1.  Of course, both of these statements assume that there is a line k + 1.  If line k is the last line of the program, then \"line k+1\" does not exist.  But in this case, we say that the program has *halted*.\n",
    "\n",
    "A similar statement holds for the transfer instructions. \n",
    "If line k is ```1^m ###```, then after line k is executed we go to line k + m, provided there is such a line in the program.  If the program has N lines and k + m = N+1, then after line k is executed, the program has *halted*.  If k + m > N+1, then the program has not halted; it is *stuck*.\n",
    "\n",
    "\n",
    "\n"
   ]
  },
  {
   "cell_type": "code",
   "execution_count": null,
   "metadata": {
    "colab": {
     "base_uri": "https://localhost:8080/"
    },
    "id": "EpnYcztdezb0",
    "outputId": "b4f1efc6-d50c-4292-e7c6-6cdde8d95338"
   },
   "outputs": [
    {
     "name": "stdout",
     "output_type": "stream",
     "text": [
      "Looking in indexes: https://pypi.org/simple, https://us-python.pkg.dev/colab-wheels/public/simple/\n",
      "Requirement already satisfied: setuptools in /usr/local/lib/python3.8/dist-packages (57.4.0)\n",
      "Collecting setuptools\n",
      "  Downloading setuptools-65.6.3-py3-none-any.whl (1.2 MB)\n",
      "\u001b[K     |████████████████████████████████| 1.2 MB 9.9 MB/s \n",
      "\u001b[?25hInstalling collected packages: setuptools\n",
      "  Attempting uninstall: setuptools\n",
      "    Found existing installation: setuptools 57.4.0\n",
      "    Uninstalling setuptools-57.4.0:\n",
      "      Successfully uninstalled setuptools-57.4.0\n",
      "\u001b[31mERROR: pip's dependency resolver does not currently take into account all the packages that are installed. This behaviour is the source of the following dependency conflicts.\n",
      "ipython 7.9.0 requires jedi>=0.10, which is not installed.\u001b[0m\n",
      "Successfully installed setuptools-65.6.3\n",
      "Looking in indexes: https://pypi.org/simple, https://us-python.pkg.dev/colab-wheels/public/simple/\n",
      "Collecting git+https://github.com/lmoss/onesharp.git@main\n",
      "  Cloning https://github.com/lmoss/onesharp.git (to revision main) to /tmp/pip-req-build-s764209u\n",
      "  Running command git clone -q https://github.com/lmoss/onesharp.git /tmp/pip-req-build-s764209u\n",
      "  Installing build dependencies ... \u001b[?25l\u001b[?25hdone\n",
      "  Getting requirements to build wheel ... \u001b[?25l\u001b[?25hdone\n",
      "  Installing backend dependencies ... \u001b[?25l\u001b[?25hdone\n",
      "    Preparing wheel metadata ... \u001b[?25l\u001b[?25hdone\n",
      "Requirement already satisfied: IPython in /usr/local/lib/python3.8/dist-packages (from onesharp==0.0.0) (7.9.0)\n",
      "Requirement already satisfied: pandas in /usr/local/lib/python3.8/dist-packages (from onesharp==0.0.0) (1.3.5)\n",
      "Requirement already satisfied: numpy in /usr/local/lib/python3.8/dist-packages (from onesharp==0.0.0) (1.21.6)\n",
      "Requirement already satisfied: prompt-toolkit<2.1.0,>=2.0.0 in /usr/local/lib/python3.8/dist-packages (from IPython->onesharp==0.0.0) (2.0.10)\n",
      "Requirement already satisfied: pygments in /usr/local/lib/python3.8/dist-packages (from IPython->onesharp==0.0.0) (2.6.1)\n",
      "Requirement already satisfied: setuptools>=18.5 in /usr/local/lib/python3.8/dist-packages (from IPython->onesharp==0.0.0) (65.6.3)\n",
      "Requirement already satisfied: backcall in /usr/local/lib/python3.8/dist-packages (from IPython->onesharp==0.0.0) (0.2.0)\n",
      "Requirement already satisfied: pexpect in /usr/local/lib/python3.8/dist-packages (from IPython->onesharp==0.0.0) (4.8.0)\n",
      "Requirement already satisfied: pickleshare in /usr/local/lib/python3.8/dist-packages (from IPython->onesharp==0.0.0) (0.7.5)\n",
      "Collecting jedi>=0.10\n",
      "  Downloading jedi-0.18.2-py2.py3-none-any.whl (1.6 MB)\n",
      "\u001b[K     |████████████████████████████████| 1.6 MB 9.8 MB/s \n",
      "\u001b[?25hRequirement already satisfied: decorator in /usr/local/lib/python3.8/dist-packages (from IPython->onesharp==0.0.0) (4.4.2)\n",
      "Requirement already satisfied: traitlets>=4.2 in /usr/local/lib/python3.8/dist-packages (from IPython->onesharp==0.0.0) (5.7.1)\n",
      "Requirement already satisfied: parso<0.9.0,>=0.8.0 in /usr/local/lib/python3.8/dist-packages (from jedi>=0.10->IPython->onesharp==0.0.0) (0.8.3)\n",
      "Requirement already satisfied: six>=1.9.0 in /usr/local/lib/python3.8/dist-packages (from prompt-toolkit<2.1.0,>=2.0.0->IPython->onesharp==0.0.0) (1.15.0)\n",
      "Requirement already satisfied: wcwidth in /usr/local/lib/python3.8/dist-packages (from prompt-toolkit<2.1.0,>=2.0.0->IPython->onesharp==0.0.0) (0.2.5)\n",
      "Requirement already satisfied: python-dateutil>=2.7.3 in /usr/local/lib/python3.8/dist-packages (from pandas->onesharp==0.0.0) (2.8.2)\n",
      "Requirement already satisfied: pytz>=2017.3 in /usr/local/lib/python3.8/dist-packages (from pandas->onesharp==0.0.0) (2022.6)\n",
      "Requirement already satisfied: ptyprocess>=0.5 in /usr/local/lib/python3.8/dist-packages (from pexpect->IPython->onesharp==0.0.0) (0.7.0)\n",
      "Building wheels for collected packages: onesharp\n",
      "  Building wheel for onesharp (PEP 517) ... \u001b[?25l\u001b[?25hdone\n",
      "  Created wheel for onesharp: filename=onesharp-0.0.0-py3-none-any.whl size=2204575 sha256=5d959fd0286cb679f735ebf0704595d4e1ccca84f30d5d2c5383beb548899671\n",
      "  Stored in directory: /tmp/pip-ephem-wheel-cache-i03k5e32/wheels/cb/13/1a/64ec8142ccf1600c3b99118b5de1c9a0658745edd091e426e7\n",
      "Successfully built onesharp\n",
      "Installing collected packages: jedi, onesharp\n",
      "Successfully installed jedi-0.18.2 onesharp-0.0.0\n"
     ]
    }
   ],
   "source": [
    "!python -m pip install -U setuptools\n",
    "!python -m pip install -U git+https://github.com/lmoss/onesharp.git@main\n",
    "from onesharp.interpreter.interpreter import *"
   ]
  },
  {
   "cell_type": "markdown",
   "metadata": {
    "id": "9QnJpiBbDZ-c"
   },
   "source": [
    "Here are some examples of what we are after.  if the last line of a program $p$ is ```1#```, then that line transfers control outside of $p$, but only one line below the end. On the other hand, if a program $q$ has exactly $10$ lines, then we do not want line $8$ to be ```1111###```, since executing this line would take us to \"line 12\".  So a run of $q$ which reached line $8$ would not halt.\n",
    "We would prefer to rewrite $q$ to point to an infinite loop inside of the program.\n",
    "(There are reasons that we prefer programs to have explicit infinite loops instead of pointing to unwanted places.  One such reason appears in Exercise 4 below.  Other reasons for this preference will be revealed in due course.) What we are after here is a formal definition of tidiness, something that we will frequently use.\n",
    "\n",
    "We say that a program $p$ is *tidy* if no instruction can possibly take us outside the program, except for going \"one instruction below the end\" of $p$.  \n",
    "\n",
    "Here is the formal definition:  Suppose that $p$ has $N$ lines.  Here are the requirements for $p$ to be tidy:\n",
    "\n",
    "(a) If line $i$ is a forward transfer instruction \n",
    "```1```<sup>$k$</sup>```###```, then $i +k \\leq N+1$.\n",
    "\n",
    "(b) If line $i$ is a backward transfer instruction ```1```<sup>$k$</sup>```####```, then $i-k \\geq 1$.\n",
    "\n",
    "(c) If line $i$ is a case instruction ```1```<sup>$k$</sup>```#####```, then $k+2 \\leq N$.\n",
    "\n",
    "Here is a comment on condition (c).\n",
    "Suppose that $p$ had $N$ lines, and line $N$ were a case instruction\n",
    "```1```<sup>$k$</sup>```#####```. If Rk stared with a ```#```, then executing ```1```<sup>$k$</sup>```#####``` would take us to line $N+3$, and there is no such line.\n",
    "For the same reason, lines $N-1$ and $N-2$ cannot be case instructions.\n",
    "\n"
   ]
  },
  {
   "cell_type": "markdown",
   "metadata": {
    "id": "cNd03kA7DpPM"
   },
   "source": [
    "# Strong equivalence to tidy programs"
   ]
  },
  {
   "cell_type": "markdown",
   "metadata": {
    "id": "WoGEtOY7Do--"
   },
   "source": [
    "```{prf:proposition}\n",
    "Every program is strongly equivalent to a tidy program.\n",
    "```"
   ]
  },
  {
   "cell_type": "markdown",
   "metadata": {
    "id": "kXIMCdX8Dt6F"
   },
   "source": [
    "```{exercise}\n",
    "Prove this proposition. (Alternatively, write a program in either Python or 1# which found a tidy version of an input program.)\n",
    "```"
   ]
  },
  {
   "cell_type": "markdown",
   "metadata": {
    "id": "U4nIMdjrD207"
   },
   "source": [
    "```{exercise}\n",
    "If $p$ is tidy, show that $p$ is strongly equivalent to any program of the form\n",
    "\n",
    " ```1###``` ```1###``` $\\cdots$ ```1###``` ```p``` ```1###``` ```1### ```$\\cdots$ ```1###```\n",
    "\n",
    "Show that all three parts of the definition of tidiness are needed in order to show this fact.  \n",
    "```"
   ]
  }
 ],
 "metadata": {
  "colab": {
   "authorship_tag": "ABX9TyOoL1DQJYh9x1jm5okyahNy",
   "include_colab_link": true,
   "provenance": []
  },
  "kernelspec": {
   "display_name": "Python 3",
   "name": "python3"
  },
  "language_info": {
   "name": "python"
  }
 },
 "nbformat": 4,
 "nbformat_minor": 0
}