{
 "cells": [
  {
   "cell_type": "markdown",
   "metadata": {
    "colab_type": "text",
    "id": "view-in-github"
   },
   "source": [
    "<a href=\"https://colab.research.google.com/github/lmoss/onesharp/blob/main/introOneSharp/haltDef.ipynb\" target=\"_parent\"><img src=\"https://colab.research.google.com/assets/colab-badge.svg\" alt=\"Open In Colab\"/></a>"
   ]
  },
  {
   "attachments": {},
   "cell_type": "markdown",
   "metadata": {
    "id": "0HV2nGXx89_T"
   },
   "source": [
    "# Halting \n",
    "\n",
    "```1#``` has programs which contain *infinite loops* such as\n",
    "\n",
    "```111###111####```\n",
    "\n",
    "This program never finishes. If you run this in an interpreter, you will need to figure out how to stop the execution.    Most of the time, we are interested in programs which do finish. Actually, we are interested in programs which finish in a special way.\n",
    "\n",
    "This last example had nothing to do with the words in the input registers before we ran the program.  But usually the input registers make a difference to whether the program halts or not.\n",
    "\n",
    "\n",
    "## Halting: informally\n",
    "\n",
    "```{admonition} Definition\n",
    ":class: tip\n",
    "\n",
    "\n",
    "\n",
    "\n",
    "\n",
    "We (informally) say that a program $p$ *halts* on some inputs if at some point during the execution of $p$ on those inputs, the control transfers to right below the last instruction of $p$. In more detail, suppose that $p$ has n instructions. The formal definition is given below, after we discuss the remaining types of instructions.\n",
    "\n",
    "In contrast, we say that p *halts improperly* if at some point during the execution of $p$, the control tranfers either to a point before the beginning of $p$ or to points more than one instruction beyond the last instruction of $p$.\n",
    "```\n",
    "\n",
    "To see the difference, consider the following two programs: \n",
    "```11###1#``` and ```1#11###```.  Suppose we run them with some fixed but arbitrary word $x$ in R1.\n",
    "\n",
    "\n",
    "The first says \"Go forward 2,\" and the second \"Add ```1``` to R1, and then advance two instructions.\"\n",
    "\n",
    "The first halts, while the second halts improperly."
   ]
  },
  {
   "cell_type": "markdown",
   "metadata": {
    "id": "3QaKbogZ-iks"
   },
   "source": [
    "```{exercise}\n",
    ":label: on-halting\n",
    "Which of the following programs halt when run on all empty registers? Which stop improperly? Why?\n",
    "\n",
    "1. 11###111###1####\n",
    "\n",
    "2. 11###111###11####\n",
    "\n",
    "3. 11###111###111####\n",
    "\n",
    "4. 1111###1111###1####11###11####\n",
    "\n",
    "[It would be better to try to solve this problem without running the programs.]\n",
    "````"
   ]
  },
  {
   "cell_type": "markdown",
   "metadata": {
    "id": "nNMNTP62_Hu-"
   },
   "source": [
    "```{exercise}\n",
    "{ref}`on-halting` was concerned with programs run on all empty registers.  Find a program $p$ and words $w_1$, $w_2$, and $w_3$ so that \n",
    "\n",
    "(a) When started with $w_1$ in R1, $p$ halts improperly.\n",
    "\n",
    "(b) When started with $w_2$ in R1, $p$ halts improperly.\n",
    "\n",
    "(c) When started with $w_3$ in R1, $p$ goes into an infinite loop inside $p$.\n",
    "```"
   ]
  },
  {
   "attachments": {},
   "cell_type": "markdown",
   "metadata": {
    "id": "Eb0F7IAv_Mim"
   },
   "source": [
    "(content:haltDef)=\n",
    "\n",
    "# Halting: the formal definition\n",
    "\n",
    "```{admonition} Definition\n",
    ":class: tip\n",
    "\n",
    "There are five ways that the run of a program $p$ on some register contents could halt.\n",
    "\n",
    "1. Instruction $n$ of $p$ (the last instruction) is of the form ```1```<sup>$k$</sup>```#``` or ```1```<sup>$k$</sup>```##```, and at some point in the run of $p$, we reach this last instruction.\n",
    "\n",
    "2. Some instruction of $p$, say instruction number $i$, is of the form ```1```<sup>$k$</sup>```###```; and also $i + k = n + 1$; and finally that at some point in the run of $p$, we reach instruction $i$.\n",
    "\n",
    "3. Instruction $n$ of $p$ (the last instruction) is of the form form ```1```<sup>$k$</sup>```#####```, and at some point in the run of $p$, we reach this last instruction with Rk empty.\n",
    "\n",
    "4. Instruction $n-1$ of $p$ (the next-to-last instruction) is of the form form ```1```<sup>$k$</sup>```#####```, and at some point in the run of $p$, we reach this instruction with Rk containing a word beginning with ```1```.\n",
    "\n",
    "5.  Instruction $n-2$ of $p$ (the second-to-last instruction) is of the form form ```1```<sup>$k$</sup>```#####```, and at some point in the run of $p$, we reach this instruction with Rk containing a word beginning with ```#```.\n",
    "```"
   ]
  },
  {
   "cell_type": "markdown",
   "metadata": {
    "id": "F3WqUTegf1w1"
   },
   "source": [
    "Again, these are the formal conditions.  Most of the time it is enough to work with the informal conditions that we started with:\n",
    "a program $p$ *halts* on some inputs if at some point during the execution of $p$ on the inputs, the control transfers to right below the last instruction of $p$. \n"
   ]
  },
  {
   "attachments": {},
   "cell_type": "markdown",
   "metadata": {},
   "source": [
    "## Up-arrow and down-arrow notation\n",
    "\n",
    "```{admonition} Definition\n",
    ":class: tip\n",
    "\n",
    "We write $[\\![p]\\!](\\ )\\!\\!\\downarrow$ to mean that $p$ is a program, and running $p$ on all empty registers eventually halts.\n",
    "\n",
    "We write $[\\![p]\\!](\\ )\\uparrow$ to mean that $p$ is a program, and running $p$ on all empty registers does not eventually halt: the computation either goes on forever or comes to an improper halt.\n",
    "\n",
    "---\n",
    "\n",
    "We write $[\\![p]\\!](x)\\!\\!\\downarrow$ to mean that $p$ is a program, and running $p$ with $x$ in R1 and all other registers empty eventually halts.\n",
    "\n",
    "We write $[\\![p]\\!](x)\\uparrow$ to mean that $p$ is a program, and running $p$ with $x$ in R1 and all other registers empty does not eventually halt (as above).\n",
    "\n",
    "---\n",
    "\n",
    "The definitions of $[\\![p]\\!](x_1, \\ldots, x_n)\\!\\!\\downarrow$  and  $[\\![p]\\!](x_1, \\ldots, x_n)\\!\\!\\uparrow$ are similar.\n",
    "```\n",
    "\n"
   ]
  },
  {
   "attachments": {},
   "cell_type": "markdown",
   "metadata": {},
   "source": [
    "# The halting problem\n",
    "\n",
    "We now can state one of the key foundational points in computability theory.  This is that the *halting problem* is unsolvable.  It is a result due to Alan Turing in his seminal paper of 1936.  Although his original paper dealt with what we now call *Turing machines* (indeed, they were originated in this same paper), the discussion carries over to register machines.\n",
    "\n",
    "We begin by thinking about ```1#``` programs $x$ and asking whether they halt or not.  As we know, it makes a difference whether we run $x$ on all empty registers or with some non-empty words in the registers.  Let us for a moment just consider $x$ on all empty registers.  It might be nice to know if $x$ halts or not.   Of course we mean \"halting\" according to our formal definition.    In computability theory, we always ask if \n",
    "\n",
    "```{admonition} Halting Problem\n",
    ":class: danger\n",
    "\n",
    "Is there a program $p$ such that for all programs $x$, \n",
    "\n",
    "$$\n",
    "[\\![p]\\!](x) = \\left\\{\n",
    "\\begin{array}{ll}\n",
    "\\one & \\mbox{if $[\\![x]\\!](\\ )\\!\\!\\downarrow$} \\\\\n",
    "\\hash & \\mbox{if $[\\![x]\\!](\\ )\\!\\!\\uparrow$} \\\\\n",
    "\\end{array}\n",
    "\\right.   \n",
    "$$\n",
    "\n",
    "```\n",
    "\n",
    "So the problem here is the set of programs which halt on empty registers.   Turing showed that this problem is unsolvable.  That is, there is no program $p$ as described.   \n",
    "\n",
    "For programs with an input, the statement of the problem is similar.  We need to fix a number of arguments.   Let's fix this to be $1$.   We are considering programs $x$ and their run on one word.    Then we would be asking if there is a program $p$ such that\n",
    "\n",
    "$$\n",
    "\\begin{array}{lcl}\n",
    "[\\![p]\\!](x,y) & = & \\left\\{\n",
    "\\begin{array}{ll}\n",
    "\\one & \\mbox{if $[\\![x]\\!](y)\\dar$}\\\\\n",
    "\\hash &  \\mbox{if $[\\![x]\\!](y)\\uparrow$}\n",
    "\\end{array}\n",
    "\\right.\n",
    "\\end{array}\n",
    "$$\n",
    "\n",
    "Although it appears much later in this book, you could read {prf:ref}`Turings-theorem` right now."
   ]
  }
 ],
 "metadata": {
  "colab": {
   "authorship_tag": "ABX9TyNdJvBPc4d/BKV6wg71UbKH",
   "include_colab_link": true,
   "provenance": []
  },
  "kernelspec": {
   "display_name": "Python 3",
   "name": "python3"
  },
  "language_info": {
   "name": "python"
  }
 },
 "nbformat": 4,
 "nbformat_minor": 0
}