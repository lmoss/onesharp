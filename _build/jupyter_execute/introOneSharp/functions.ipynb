{
 "cells": [
  {
   "cell_type": "markdown",
   "metadata": {
    "colab_type": "text",
    "id": "view-in-github"
   },
   "source": [
    "<a href=\"https://colab.research.google.com/github/lmoss/onesharp/blob/main/functions.ipynb\" target=\"_parent\"><img src=\"https://colab.research.google.com/assets/colab-badge.svg\" alt=\"Open In Colab\"/></a>"
   ]
  },
  {
   "cell_type": "markdown",
   "metadata": {
    "id": "lvT7jXn5_pC0"
   },
   "source": [
    "```{math}\n",
    "\\newcommand{\\hash}{\\mbox{\\tt \\#}}\n",
    "\\renewcommand{\\one}{\\mbox{\\tt 1}}\n",
    "\\newcommand{\\diag}{\\texttt{diag}}\n",
    "\\newcommand{\\writeprog}{\\texttt{write}}\n",
    "\\renewcommand{\\phi}{\\varphi}\n",
    "\\newcommand{\\set}[1]{\\{ #1 \\}}\n",
    "\\newcommand{\\semantics}[1]{[\\![ #1]\\!]}\n",
    "\\newcommand{\\pair}[1]{\\langle #1 \\rangle}\n",
    "\\newcommand\\N{\\mathbb{N}}\n",
    "\\newcommand\\floor[1]{\\lfloor#1\\rfloor}\n",
    "\\newcommand{\\bmat}{\\left[\\begin{array}}\n",
    "\\newcommand{\\emat}{\\end{array}\\right]}\n",
    "\\usepackage{tikz}\n",
    "\\usetikzlibrary{arrows,shapes,snakes,automata,backgrounds,petri}\n",
    "```"
   ]
  },
  {
   "cell_type": "markdown",
   "metadata": {
    "id": "nsBwZKyT_lo1"
   },
   "source": [
    "# Functions defined by programs"
   ]
  },
  {
   "cell_type": "code",
   "execution_count": null,
   "metadata": {
    "id": "JWpmSdGK_oOP"
   },
   "outputs": [],
   "source": []
  }
 ],
 "metadata": {
  "colab": {
   "authorship_tag": "ABX9TyM2FRuosixcDitBwtgv723L",
   "include_colab_link": true,
   "provenance": []
  },
  "kernelspec": {
   "display_name": "Python 3",
   "name": "python3"
  },
  "language_info": {
   "name": "python"
  }
 },
 "nbformat": 4,
 "nbformat_minor": 0
}