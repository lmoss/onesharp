{
 "cells": [
  {
   "cell_type": "markdown",
   "metadata": {
    "colab_type": "text",
    "id": "view-in-github"
   },
   "source": [
    "<a href=\"https://colab.research.google.com/github/lmoss/onesharp/blob/main/introOneSharp/functions.ipynb\" target=\"_parent\"><img src=\"https://colab.research.google.com/assets/colab-badge.svg\" alt=\"Open In Colab\"/></a>"
   ]
  },
  {
   "cell_type": "markdown",
   "metadata": {
    "id": "nsBwZKyT_lo1"
   },
   "source": [
    "# Functions defined by programs"
   ]
  },
  {
   "cell_type": "markdown",
   "metadata": {
    "id": "kagQ3xd6nzIL"
   },
   "source": [
    "\n",
    "At this point we know what programs of   $\\one\\hash$ are and how they work.\n",
    "We are interested not just in the programs themselves\n",
    "but in *what* they compute.  \n",
    "\n",
    "We call the set $\\set{\\one,\\hash}$  our  *alphabet*, and we use the letter $A$  for it.\n",
    "\n",
    "\n",
    "We know that it is odd to call such a small set an \"alphabet\",\n",
    "even more so when that set doesn't have any letters in it!\n",
    "But this usage is standard, and so we'll adopt it.\n",
    "When used in situations like ours, the word \"alphabet\"\n",
    "just means a set that you use to build words from.  \n",
    "\n",
    "But if $\\set{\\one,\\hash}$ is our alphabet, what in\n",
    "the world are our words?!\n",
    "\n",
    "Answer:\n",
    "A *word* is just a sequence of  symbols from our alphabet.\n",
    "\n",
    " \n",
    "(In contrast to most uses in mathematics and computer science,\n",
    "our words will all be *non-empty*, unless we say otherwise.\n",
    "\n",
    "Examples of words include \n",
    "$\\one\\one\\hash$, and also\n",
    "$\\hash\\hash\\hash$.\n",
    "\n",
    " \n",
    "Let us be clear about the difference between\n",
    "*instructions* and *programs*:  \n",
    " \n",
    "*Instructions* are single steps\n",
    "in programs.  \n",
    " \n",
    "\n",
    " \n",
    "A *program* of $\\one\\hash$ is just a sequence of\n",
    "instructions, \n",
    "run together to make a big word.\n",
    "An instruction counts as a program, \n",
    "but programs of length $\\geq 2$ are not instructions.\n",
    "\n",
    "\n",
    "\n",
    "```{prf:definition}\n",
    ":label: phi-notation\n",
    "Every word $p$ gives us a function\n",
    "called $\\phifn_p$  on words. \n",
    "\n",
    "$\\phifn_p (x) \\simeq y$ means that\n",
    " $p$ is a program,\n",
    " and\n",
    "when  we \n",
    "run it\n",
    "$p$  with the word $x$ in $\\Rone$ and all other registers empty,\n",
    "then the register machine \n",
    "eventually halts with $y$ in $\\Rone$ and all other \n",
    "registers \n",
    "empty. \n",
    " \n",
    " \n",
    "In all other cases \n",
    "(if $p$ isn't a program, \n",
    "or if $p$ does not halt with $x$ in $\\Rone$, \n",
    "or if\n",
    "$p$ halts but not all of the registers besides $\\Rone$ are empty),\n",
    "then we say that $\\phifn_p (x)$\n",
    "is *undefined*.\n",
    "```\n",
    "\n",
    "\n",
    "```{admonition} Examples\n",
    ":class: tip\n",
    "\n",
    "$\\phifn_{\\one\\hash\\hash}(\\one) \\simeq \\one\\hash$.\n",
    "\n",
    "$\\phifn_{\\one\\hash}(\\hash\\one) \\simeq\\hash\\one\\one$.\n",
    "\n",
    "$\\phifn_{\\hash}(\\one)$ is undefined\n",
    "\n",
    "$\\phifn_{\\one\\hash\\hash\\hash\\one\\hash\\hash\\hash\\hash}(x)$ is undefined for all $x$.\n",
    "```\n",
    "\n",
    "\n",
    "\n",
    "\n",
    "\n",
    "```{attention} \n",
    "Instead of $\\phifn_p(x)$, we might write $\\semantics{p}(x)$.\n",
    "We do this especially when we want to iterate the construction.\n",
    "That is, instead of writing\n",
    "\n",
    "$$\\phifn_{\\phifn_{\\one\\hash\\hash}(\\one)}(\\hash\\one)\n",
    "\\simeq \\hash\\one\\one.\n",
    "$$\n",
    " \n",
    "we would prefer to write\n",
    "\n",
    "$$\\semantics{\\semantics{\\one\\hash\\hash}(\\one)}(\\hash\\one)\\simeq \\hash\\one\\one.\n",
    "$$\n",
    "```  \n",
    "In this notation, $\\semantics{p}$ is a function,\n",
    "just like $\\phifn_p$ is in the other notation.\n",
    "\n",
    "\n",
    "\n"
   ]
  },
  {
   "cell_type": "markdown",
   "metadata": {
    "id": "ZhaXDhZfFra5"
   },
   "source": [
    "# Partial functions"
   ]
  },
  {
   "cell_type": "markdown",
   "metadata": {
    "id": "PQzllCr-Fu2y"
   },
   "source": [
    "# Functions of two or more arguments\n",
    "\n",
    "A program $p$ of $\\one\\hash$ can also be used as a function of two or more arguments.  Here is the relevant definition.\n",
    "\n",
    "\n",
    "```{prf:definition}\n",
    "Every word $p$ gives us a function\n",
    "called $\\phifn^n_p$  on $n$-tuples words. \n",
    "\n",
    "$\\phifn^n_p (x_1,\\ldots, x_n) \\simeq y$ means that\n",
    " $p$ is a program,\n",
    " and\n",
    "when  we \n",
    "run it\n",
    "$p$  with $x_i$ in register $i$ (for $1\\leq i \\leq n$) and all other registers empty,\n",
    "then the register machine \n",
    "eventually halts with $y$ in $\\Rone$ and all other \n",
    "registers \n",
    "empty. \n",
    " \n",
    " \n",
    "In all other cases \n",
    "(if $p$ isn't a program, \n",
    "or if $p$ does not halt when run on $x$, \n",
    "or if\n",
    "$p$ does halt when run on $x$\n",
    " but upon halting, not all of the registers besides $\\Rone$ are empty),\n",
    "then we say that $\\phifn_p (x)$\n",
    "is *undefined*.\n",
    "```"
   ]
  },
  {
   "cell_type": "markdown",
   "metadata": {
    "id": "pryZwxIMf1In"
   },
   "source": [
    "\n",
    "\n",
    "```{admonition} Examples\n",
    ":class: tip\n",
    "\n",
    "$\\phifn^0_{\\one\\hash}(\\ ) \\simeq \\one$.\n",
    "\n",
    "$\\semantics{\\moveprogtwoone}(\\one,\\hash\\hash\\one) \\simeq\n",
    "\\one\\hash\\hash\\one$.\n",
    "\n",
    "```\n",
    "\n"
   ]
  },
  {
   "cell_type": "markdown",
   "metadata": {
    "id": "FaUfdoaBWFi-"
   },
   "source": [
    "```{exercise}\n",
    "For some purposes, the notion of $\\semantics{p}^n$ is not what one wants.  Here is an alternative.  We say that \n",
    "\n",
    "$$\n",
    "\\semanticsalt{p}^n(x_1, \\ldots, x_n) \\simeq y\n",
    "$$\n",
    "\n",
    "if $p$ is a program, and running it with $x_1$ in $\\Rone$, $\\ldots$, $x_n$ in $Rn$, and all othe registers empty eventually comes to a halt with  $x_1$ in $\\Rone$, $\\ldots$, $x_n$ in $Rn$ (so the inputs are preserved), and $y$ in register $n+1$.\n",
    "\n",
    "(a) Prove that for every $p$ there is some $q$ so that $\\semantics{p}^n \\simeq \\semanticsalt{q}^n$.\n",
    "\n",
    "(b) Prove that for every $q$ there is some $p$ so that $\\semantics{p}^n \\simeq \\semanticsalt{q}^n$.\n",
    "\n",
    "(c) Show that we can go computably from $p$ to $q$, and vice-versa.\n",
    "```"
   ]
  },
  {
   "cell_type": "markdown",
   "metadata": {
    "id": "klf9a2FvgnPu"
   },
   "source": [
    "# Characteristic functions\n",
    "\n",
    "\n",
    "```{definition}\n",
    "Let $A$ be a set of words.   The *characteristic function of $A$* is the function \n",
    "\n",
    "$$\\chi_A : \\words \\to \\set{\\one,\\hash} $$\n",
    "\n",
    "given by \n",
    "\n",
    "$$\\chi_A(w) = \\left\\{\n",
    "  \\begin{array}{ll}\n",
    "  \\one & \\mbox{if $w\\in A$} \\\\\n",
    "  \\hash & \\mbox{if $w\\notin A$} \\\\\n",
    "  \\end{array}\n",
    "  \\right.\n",
    "$$  \n",
    "```"
   ]
  },
  {
   "cell_type": "markdown",
   "metadata": {
    "id": "ZkwdFYl1iXHH"
   },
   "source": [
    "\n",
    "```{admonition} Definition\n",
    ":class: tip\n",
    "A set $A\\subseteq \\words$ is *$\\one\\hash$-computable* if $\\chi_A$ is a computable function.  Other names for \"computable\" include \"decidable\" and \"recursive\".\n",
    "```\n",
    "\n",
    "```{important}\n",
    "Our work will also involve other notions of \"computable\" besides $\\one\\hash$-computability.   For example, we'll see *intuitive computability*, *Turing maching computability*, *Python computability*, and other notions besides.   So it will be important to keep these straight. This is why we put the \"$\\one\\hash$\" in the name \"$\\one\\hash$-computable\". But at this stage, the notion which we'll study the most is $\\one\\hash$-computability.\n",
    "``` "
   ]
  },
  {
   "cell_type": "markdown",
   "metadata": {
    "id": "aE3MtTwEk3-a"
   },
   "source": [
    "```{exercise}\n",
    "Let $A$ and $B$ be $\\one\\hash$-computable sets.   Show that $A\\cap B$, $A\\cup B$, and $\\overline{A}$ are also $\\one\\hash$-computable, where \n",
    "\n",
    "$$\n",
    "\\begin{array}{lcl}\n",
    "A\\cap B & = & \\set{w \\in \\words : w\\in A \\mbox{ and } w\\in B} \\\\\n",
    "A\\cup B & = & \\set{w \\in \\words : w\\in A \\mbox{ or }\n",
    "      w\\in B \\mbox{ (or both)}} \\\\\n",
    "\\overline{A} & = & \\set{w\\in \\words : w\\notin A} \\\\\n",
    "\\end{array}\n",
    "$$\n",
    "```"
   ]
  },
  {
   "cell_type": "markdown",
   "metadata": {
    "id": "rRwFeOtziM54"
   },
   "source": [
    "```{exercise}\n",
    "Is the set of $\\one\\hash$ programs a $\\one\\hash$-computable set of words?\n",
    "```"
   ]
  },
  {
   "cell_type": "markdown",
   "metadata": {
    "id": "J4bEhcqH41D-"
   },
   "source": [
    "```{exercise}\n",
    "Show that the following function is $\\one\\hash$-computable:\n",
    "\n",
    "$$\n",
    "f(w) = \\left\\{ \n",
    "  \\begin{array}{ll}\n",
    "  w & \\mbox{if every symbol in $w$ is $\\one$}\\\\\n",
    "  \\hash & \\mbox{otherwise}\n",
    "  \\end{array}\n",
    "  \\right.\n",
    "$$\n",
    "```"
   ]
  },
  {
   "cell_type": "markdown",
   "metadata": {
    "id": "3NawzDg0_aea"
   },
   "source": [
    "```{exercise}\n",
    "\n",
    "(a)\n",
    "As a parallel to how we defined $\\one\\hash$-computability, define what it means for a function from words to words to be *Python-computable*\n",
    "\n",
    "(b) There is a Python program called ```onesharp``` which takes two arguments, a $\\one\\hash$ program and a finite sequence of $\\one\\hash$-words.   Assuming that ```onesharp``` behaves correctly, show that every $\\one\\hash$-computable function is Python computable.\n",
    "\n",
    "[Hint: you will need to say clearly what \"behaves correctly\" means.]\n",
    "```"
   ]
  },
  {
   "cell_type": "markdown",
   "metadata": {
    "id": "VGDZnfsYhjQy"
   },
   "source": [
    "# Computably enumerable sets\n",
    "\n",
    "```{prf:definition}\n",
    "Let $p$ be a program.  We write $W_p$ for the domain of $\\phifn_p$.\n",
    "That is, \n",
    "\n",
    "$W_p = \\set{x : \\phifn_p(x)\\downarrow}$.\n",
    "\n",
    "A set $A\\subseteq\\words$ is *computably enumerable* if there is some program $p$ such that $A = W_p$.\n",
    "```"
   ]
  },
  {
   "cell_type": "markdown",
   "metadata": {
    "id": "5HP92Numh-Wz"
   },
   "source": [
    "```{exercise}\n",
    "Show that every computable set is computably enumerable.  (As we shall see, the converse is false.). Show also that the family of computably enumerable sets is closed under intersection: if $A$ and $B$ are computably enumerable, so is $A\\cap B$.\n",
    "```"
   ]
  }
 ],
 "metadata": {
  "colab": {
   "authorship_tag": "ABX9TyMsWpDO/7Rw+nCQHQv+Xsqu",
   "include_colab_link": true,
   "provenance": []
  },
  "kernelspec": {
   "display_name": "Python 3",
   "name": "python3"
  },
  "language_info": {
   "name": "python"
  }
 },
 "nbformat": 4,
 "nbformat_minor": 0
}