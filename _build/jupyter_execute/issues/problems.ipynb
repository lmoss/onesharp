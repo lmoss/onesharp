{
 "cells": [
  {
   "cell_type": "markdown",
   "metadata": {
    "colab_type": "text",
    "id": "view-in-github"
   },
   "source": [
    "<a href=\"https://colab.research.google.com/github/lmoss/onesharp/blob/main/issues/problems.ipynb\" target=\"_parent\"><img src=\"https://colab.research.google.com/assets/colab-badge.svg\" alt=\"Open In Colab\"/></a>"
   ]
  },
  {
   "cell_type": "markdown",
   "metadata": {
    "id": "Plr8zrA574av"
   },
   "source": [
    "# Algorithmic problems"
   ]
  },
  {
   "cell_type": "markdown",
   "metadata": {
    "id": "YbfzHV7h8De5"
   },
   "source": [
    "# Tiling problems\n",
    "\n",
    "A *tile* is a square with a color on each side.   For example, here are six tiles\n",
    "<img src=\"https://github.com/lmoss/onesharp/blob/main/issues/pictures/pictures-01.png?raw=1\" width=\"100%\" height=\"100%\">\n"
   ]
  },
  {
   "cell_type": "markdown",
   "metadata": {
    "id": "_5_ALr9h_D1D"
   },
   "source": []
  },
  {
   "cell_type": "markdown",
   "metadata": {
    "id": "1Dq_2wJ08VKG"
   },
   "source": [
    "A *tile set* is a finite set of tiles.  Given a *tile set*, the question we ask is whether it is possible to tile all of the squares in the first quadrant (shown below) in such a way that tiles which share an edge must have the same color on that edge.\n",
    "<img src=\"https://github.com/lmoss/onesharp/blob/main/issues/pictures/pictures-02.png?raw=1\" width=\"100%\" height=\"100%\">\n",
    "For our example set of tiles, this is trivial: since we have a tile with grey on all sides, we can just use it on every square of the quadrant.  Of course, this is a special feature of this example.  \n",
    "\n",
    "A *pointed* tile set is a tile set that comes with a special tile $t_0$ called the *start tile*.  We require that the start tile be placed at the corner of the quadrant.   \n",
    "\n",
    "For example, we can turn our tile set above into a pointed tile set by selecting as $t_0$ any of the eight tiles.  Let's choose the one marked in green below.\n",
    "<img src=\"https://github.com/lmoss/onesharp/blob/main/issues/pictures/pictures-04.png?raw=1\" width=\"100%\" height=\"100%\">\n",
    "Now here is a finite part of a tiling of the quadrant with this pointed tile set:\n",
    "<img src=\"https://github.com/lmoss/onesharp/blob/main/issues/pictures/pictures-03.png?raw=1\" width=\"100%\" height=\"100%\">\n",
    "We should emphasize that given a pointed tile set $\\TT$, there might or might not be a tiling of the quadrant with $\\TT$.  So the algorithmic question is whether it could be determined in finite time whether or not there is such a tiling."
   ]
  },
  {
   "cell_type": "markdown",
   "metadata": {
    "id": "dFXWp0gSf6VP"
   },
   "source": [
    "```{exercise}\n",
    "Let $\\TT^*$ be the pointed tile set consisting of the tiles in the bottom row of the last set:\n",
    "<img src=\"https://github.com/lmoss/onesharp/blob/main/issues/pictures/pictures-05.png?raw=1\" width=\"100%\" height=\"100%\">\n",
    "Does the quadrant have a tiling with this set?\n",
    "```"
   ]
  },
  {
   "cell_type": "markdown",
   "metadata": {
    "id": "JPa5mHgR_Bq5"
   },
   "source": [
    "```{exercise}\n",
    "Construct a (finite) pointed tile set $\\TT$ with the following properties:\n",
    "\n",
    "(a) The quadrant can be tiled using $\\TT$ in exactly one way.\n",
    "\n",
    "(b) In the tiling of the quadrant, the start tile appears on the main diagonal, and nowhere else.\n",
    "```"
   ]
  },
  {
   "cell_type": "markdown",
   "metadata": {
    "id": "YIAoSCgGpr_s"
   },
   "source": [
    "# Post's correspondence problem"
   ]
  },
  {
   "cell_type": "markdown",
   "metadata": {
    "id": "DnnPIGkQr7Mu"
   },
   "source": [
    "\n",
    "An *alphabet* is just a set $A$ of symbols.  \n",
    "\n",
    "Given an alphabet $A$, we define \n",
    "\n",
    "$$\\begin{array}{lcl}\n",
    "A^+ & = & \\set{a_1 a_2 \\cdots a_n : n \\in N,  n\\geq 0, \\mbox{ and } a_i\\in A \\mbox{ for all $i$}}\\\\\n",
    "A^* & = & A^+ \\cup\\set{\\epsilon}\\\\\n",
    "\\end{array}\n",
    "$$\n",
    "\n",
    "So $A^+$ is the set of *non-empty* words on $A$.\n",
    "And $A^*$ adds in the *empty word* $\\eps$.\n",
    " \n",
    "\n",
    "We are given   a finite set of dominoes, \n",
    "each of which has two non-empty words on it,\n",
    "a word *on the top* and a word *on the bottom*.\n",
    "\n",
    "\n",
    " \\begin{flushleft}\n",
    "\\begin{tikzpicture}[scale=.8]\n",
    "\\foreach \\x in {0,2.5,5,7.5,10,12.5}\n",
    "\\foreach \\y in {0}\n",
    "{\n",
    "\\draw (\\x, \\y)    rectangle ++(2,2);\n",
    "};\n",
    "\\draw  (11,1.5) node{abab};  %% north\n",
    "\\draw  (11,.5) node{ababaa};  %% south\n",
    "%\n",
    "\\draw  (3.5,1.5) node{aaabbb};  %% north\n",
    "\\draw  (3.5,.5) node{bb};  %% south\n",
    " %\n",
    " \\draw  (6,1.5) node{aab};  %% north\n",
    "\\draw  (6,.5) node{baab};  %% south\n",
    "%\n",
    "\\draw  (8.5,1.5) node{ba};  %% north\n",
    "\\draw  (8.5,.5) node{baa};  %% south\n",
    "% \\draw  (6,1.7) node{$\\one$};  %% north\n",
    "%draw (6.7,1) node{$\\addone$}; %% east\n",
    "%\\draw  (6,.3) node{$\\one$};  %% south\n",
    " %\\draw  (5.3,1) node{$\\addone$};   %% west\n",
    " %\n",
    "%\\draw  (8.5,1.7) node{$\\one$};  %% north\n",
    "%\\draw (9.2,1) node{$\\addhash$}; %% east\n",
    "%\\draw  (8.5,.3) node{$\\one$};  %% south\n",
    " %\\draw  (7.8,1) node{$\\addhash$};   %% west\n",
    " %\n",
    "\\draw  (1,1.5) node{ab};  %% north\n",
    "\\draw (1,.5) node{ba}; %% east\n",
    "%\n",
    "\\draw  (13.5,1.5) node{aa};  %% north\n",
    "\\draw  (13.5,.5) node{a};  %% south\n",
    " \\end{tikzpicture}\n",
    " \\end{flushleft}\n",
    " We have an unlimited supply of all of these dominoes.\n",
    " \n",
    " \n",
    " ```{admonition} Problem\n",
    " :class: danger\n",
    "\n",
    " Can we place a  finite row of dominoes\n",
    " in such a way that the words on the top \n",
    " *concatenate to* the same thing as the words on the bottom?\n",
    " \n",
    " Let's call this a *Post sequence*.\n",
    "``` \n",
    "\n",
    "\n",
    " \n",
    " \n",
    " For this particular set of dominoes, the answer is *Yes*:\n",
    " \n",
    "  \\begin{flushleft}\n",
    "\\begin{tikzpicture}[scale=.7]\n",
    "\\foreach \\x in {0,2.5,5,7.5,10,12.5,15}\n",
    "\\foreach \\y in {0}\n",
    "{\n",
    "\\draw (\\x, \\y)    rectangle ++(2,2);\n",
    "};\n",
    "%%%\n",
    "%\n",
    "\\draw  (3.5,1.5) node{aaabbb};  %% north\n",
    "\\draw  (3.5,.5) node{bb};  %% south\n",
    " %\n",
    " \\draw  (6,1.5) node{aab};  %% north\n",
    "\\draw  (6,.5) node{baab};  %% south\n",
    "%\n",
    "\\draw  (8.5,1.5) node{ba};  %% north\n",
    "\\draw  (8.5,.5) node{baa};  %% south\n",
    "% \\draw  (6,1.7) node{$\\one$};  %% north\n",
    "%draw (6.7,1) node{$\\addone$}; %% east\n",
    "%\\draw  (6,.3) node{$\\one$};  %% south\n",
    " %\\draw  (5.3,1) node{$\\addone$};   %% west\n",
    " %\n",
    "%\\draw  (8.5,1.7) node{$\\one$};  %% north\n",
    "%\\draw (9.2,1) node{$\\addhash$}; %% east\n",
    "%\\draw  (8.5,.3) node{$\\one$};  %% south\n",
    " %\\draw  (7.8,1) node{$\\addhash$};   %% west\n",
    " %\n",
    " \\draw  (1,1.5) node{abab};  %% north\n",
    "\\draw  (1,.5) node{ababaa};  %% south\n",
    "\n",
    " \\draw  (11,1.5) node{ab};  %% north\n",
    "\\draw (11,.5) node{ba}; %% east\n",
    "\n",
    "\\draw  (13.5,1.5) node{ab};  %% north\n",
    "\\draw  (13.5,.5) node{ba};  %% south\n",
    "\n",
    "\\draw  (16,1.5) node{aa};  %% north\n",
    "\\draw  (16,.5) node{a};  %% south\n",
    "\n",
    " \\end{tikzpicture}\n",
    " \\end{flushleft}\n",
    " The common word is $ababaaabbbaabbaababaa$.\n",
    " \n",
    " \n",
    " \n",
    " \n",
    "   \\begin{flushleft}\n",
    "\\begin{tikzpicture}\n",
    "\\foreach \\x in {0,2.5}\n",
    "\\foreach \\y in {0}\n",
    "{\n",
    "\\draw (\\x, \\y)    rectangle ++(2,2);\n",
    "};\n",
    "%%%\n",
    "%\n",
    " \\draw  (1,1.5) node{a};  %% north\n",
    "\\draw  (1,.5) node{ab};  %% south\n",
    "\\draw  (3.5,1.5) node{baa};  %% north\n",
    "\\draw  (3.5,.5) node{aab};  %% south\n",
    "\\ \\end{tikzpicture}\n",
    " \\end{flushleft}\n",
    "\n",
    "This one has no  Post sequence.    Can you see why?\n",
    "\n",
    " \n",
    "But if we add the additional domino\n",
    " \\begin{flushleft}\n",
    "\\begin{tikzpicture}\n",
    "\\foreach \\x in {0}\n",
    "\\foreach \\y in {0}\n",
    "{\n",
    "\\draw (\\x, \\y)    rectangle ++(2,2);\n",
    "};\n",
    "%%%\n",
    "%\n",
    " \\draw  (1,1.5) node{bba};  %% north\n",
    "\\draw  (1,.5) node{ba};  %% south\n",
    "\n",
    "\\ \\end{tikzpicture}\n",
    " \\end{flushleft}\n",
    "We get a set of three dominoes which does have a Post sequence.     \n",
    "Can you find it?\n",
    "\n",
    " \n",
    "  \\begin{flushleft}\n",
    "\\begin{tikzpicture}\n",
    "\\foreach \\x in {0,2.5,5}\n",
    "\\foreach \\y in {0}\n",
    "{\n",
    "\\draw (\\x, \\y)    rectangle ++(2,2);\n",
    "};\n",
    "%%%\n",
    "%\n",
    " \\draw  (1,1.5) node{abb};  %% north\n",
    "\\draw  (1,.5) node{a};  %% south\n",
    "\\draw  (3.5,1.5) node{b};  %% north\n",
    "\\draw  (3.5,.5) node{abb};  %% south\n",
    "\\draw  (5.5,1.5) node{a};  %% north\n",
    "\\draw  (5.5,.5) node{b};  %% south\n",
    "\\ \\end{tikzpicture}\n",
    " \\end{flushleft}\n",
    " \n",
    " \n",
    " \n",
    " The two shortest Post sequences are of length 75.\n",
    " \n",
    " \n",
    "```{prf:theorem} Post, 1946\n",
    "\n",
    "There is no algorithm which,\n",
    "when given *any* finite set of dominoes with two words on each,\n",
    "tells *in finite time*\n",
    "whether or not one can find a Post sequence for the given domino set.\n",
    "```\n",
    " \n",
    "\n",
    "We are going to see a proof of this result.\n",
    "It is very important to understand the statement of \n",
    "this kind of result,\n",
    "since frequently people get it wrong.\n",
    "It does *not* say that that for each particular domino set\n",
    "we cannot tell if there is a Post sequence or not.\n",
    "\n",
    "\n",
    "\n",
    "It also doesn't say that there is no \"fact of the matter\" whether\n",
    "a given domino set has or doesn't have a Post sequence.\n",
    " \n",
    "\n",
    "*PCP* is the set of finite domino sets which have a Post sequence.\n",
    "To say *PCP is decidable* means that *there is*\n",
    "a\n",
    "computable function $f$\n",
    "which inputs a domino set $\\DD$ and says Yes or No as to whether \n",
    "$\\DD$ has a Post sequence.\n",
    "To say *PCP is undecidable* means that   *there is no*\n",
    "computable function $f$ like this.\n",
    "\n",
    "\n"
   ]
  },
  {
   "cell_type": "markdown",
   "metadata": {
    "id": "9iFeqHSX6Gb0"
   },
   "source": [
    "# Matrix problems"
   ]
  }
 ],
 "metadata": {
  "colab": {
   "authorship_tag": "ABX9TyOdxCasjie4M9G0VS1RjWy4",
   "include_colab_link": true,
   "provenance": []
  },
  "kernelspec": {
   "display_name": "Python 3",
   "name": "python3"
  },
  "language_info": {
   "name": "python"
  }
 },
 "nbformat": 4,
 "nbformat_minor": 0
}