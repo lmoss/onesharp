{
 "cells": [
  {
   "cell_type": "markdown",
   "metadata": {
    "colab_type": "text",
    "id": "view-in-github"
   },
   "source": [
    "<a href=\"https://colab.research.google.com/github/lmoss/onesharp/blob/main/issues/coding.ipynb\" target=\"_parent\"><img src=\"https://colab.research.google.com/assets/colab-badge.svg\" alt=\"Open In Colab\"/></a>"
   ]
  },
  {
   "attachments": {},
   "cell_type": "markdown",
   "metadata": {
    "id": "untDv95I9YWv"
   },
   "source": [
    "# Computatble functions on encoded structures"
   ]
  },
  {
   "attachments": {},
   "cell_type": "markdown",
   "metadata": {},
   "source": [
    "At this point, we have seen a bit about one particular model of computation, leading to the definition of a ```1#``` computable function.   We also saw some mathematically natural algorithmic problems having to do with graphs, tiling, dominoes, and matricies.  What we want to do at this point is to connect these two discussions.\n",
    "We also want to say in a more formal way what it means for one or another algorithmic problem to be decidable or undecidable.\n",
    "\n",
    "\n",
    "```{prf:definition}\n",
    ":label: structure\n",
    "A *structure* is a tuple \n",
    "\n",
    "$$ \n",
    "\\mathcal{S} = (S,R_1, \\ldots, R_n, f_1, \\ldots, f_m)\n",
    "$$\n",
    "\n",
    "where $S$ is a set, $R_1, \\ldots, R_n$ are relations on $S$, each of some finite number\n",
    "$n_R\\geq 1$ of variables, and $f_1, \\ldots, f_m$ are functions on $S$, each of some finite number\n",
    "$n_f \\geq 0$ of variables.   Note that we allow $n_f = 0$, and in this case $f$ is called a *constant symbol*.\n",
    "```\n",
    "\n",
    "This is the standard notion of a *first-order structure* from mathematical logic.\n",
    "\n",
    "The kinds of problems that interest us are where we are given a type of mathematical problem represented by a *structure* $S$, and a *target set* $T\\subseteq S$.  We are interested to know whether a given $s\\in S$ belongs to $T$ or not.     \n",
    "\n",
    "```{prf:definition}\n",
    ":label: coding\n",
    "Given a structure $\\mathcal{S}$, a ```1#```-*encoding* of $\\mathcal{S}$ consists of \n",
    "\n",
    "1. A set $\\widehat{S} \\subset Words$ of ```1#```-words. $\\widehat{S}$ must be decidable.\n",
    "\n",
    "\n",
    "2.  A one-to-one function $\\pi: S \\to \\widehat{S}$ called the *coding map*.\n",
    "\n",
    "3. For each relation $R\\subseteq S^n$ a relation $\\widehat{R}\\subseteq (\\widehat{S})^n$.\n",
    "We require that $\\widehat{R}$ be ```1#```-computable.  We also require that\n",
    "\n",
    "$$ \n",
    "R(s_1, \\ldots, s_n) \\mbox{ iff } \\widehat{R}(\\pi(s_1),\\ldots, \\pi(s_n)).\n",
    "$$\n",
    "\n",
    "4. For each function $f: S^n\\to S$ a function $\\widehat{f}:  (\\widehat{S})^n\\to \\widehat{S}$.\n",
    "We require that $\\widehat{f}$ be ```1#```-computable.  We also require that\n",
    "\n",
    "$$ \n",
    "\\pi(f(s_1, \\ldots, s_n)) = \\widehat{f}(\\pi(s_1),\\ldots, \\pi(s_n)).\n",
    "$$\n",
    "\n",
    "An encoding of a structure has a lot of components, but to keep our notation short we usually abbreviate the whole thing by $\\pi$.\n",
    "```\n",
    "\n",
    "Another way to say this is that an encoding of $\\mathcal{S}$ is an isomorphic copy in which all parts of the structure are ```1#```-computable."
   ]
  },
  {
   "attachments": {},
   "cell_type": "markdown",
   "metadata": {},
   "source": [
    "```{admonition} Example\n",
    ":class: tip\n",
    "Let \n",
    "\n",
    "$$\n",
    "\\mathcal{N}  = (N, 0,s)\n",
    "$$\n",
    "\n",
    "be the most basic version of the natural numbers.  Here $N = \\{0,1,2,\\ldots\\}$, $0$ is a constant (a function symbol with $n_0 = 0$ and with value $0$), and $s(n)= n+1$ for all $n$.\n",
    "\n",
    "We next define one particular encoding of this structure which we'll call the *unary encoding*.\n",
    "\n",
    "1.  We take $\\widehat{S} = \\{\\varepsilon, {\\tt 1}, {\\tt 11}, {\\tt 111}, \\ldots\\}$.\n",
    "\n",
    "2.  $\\pi({\\tt 1}^n) = n$.   That is, $\\pi(\\varepsilon) = 0$, $\\pi({\\tt 1}) = 1$, \n",
    "$\\pi({\\tt 11}) = 2$, etc.\n",
    "\n",
    "3. $\\widehat{0} = \\varepsilon$.\n",
    "\n",
    "4.  $\\widehat{s}({\\tt 1}^n) = {\\tt 1}^{n+1}$.\n",
    "\n",
    "This completes the definition.  We must check that the set $\\widehat{S}$ is computable; this is easy.\n",
    "And $\\hat{s}$ is also computable: a program for it is ```1#```.   \n",
    "\n",
    "There are other encodings of this same structure $\\mathcal{N}$.  For example, we could drop the empty word from $\\widehat{S}$ and adjust the rest of the encoding apparatus.   We also could decide to use *binary numbers*, and even there we have several options of how to regard binary numbers as ```1#``` words.\n",
    "\n",
    "\n",
    "```"
   ]
  },
  {
   "attachments": {},
   "cell_type": "markdown",
   "metadata": {},
   "source": [
    "```{prf:definition}\n",
    ":label: coding_what_for\n",
    "\n",
    "Suppose we are given a structure $\\mathcal{S}$ and an encoding $\\pi$ of it.\n",
    "\n",
    "A function $f: S^n\\to S$ is *computable relative to the encoding* if the isomorphic version of it is ```1#```-computable.\n",
    "\n",
    "A relation $R\\subseteq S^n$ is *computable* or *decidable* if its isomorphic version is ```1#``` computable.\n",
    "```\n",
    "\n"
   ]
  },
  {
   "attachments": {},
   "cell_type": "markdown",
   "metadata": {},
   "source": [
    "```{admonition} Example\n",
    ":class: tip\n",
    "\n",
    "Let us return to the example of $\\mathcal{N}$ and the unary encoding of it.\n",
    "\n",
    "1. The addition function $f: N \\times N \\to N$ is computable, where $f(n,m) = n+m$.  A program which shows this is \n",
    "${\\tt move}_{2,1}$.\n",
    "\n",
    "2. As we'll see later, basically every function on the natural numbers which is encountered in standard mathematics is ```1#```-computable.\n",
    "\n",
    "3.  The following relations are decidable:  first the set of prime numbers.   Second, the set of pairs $(m,n)$ such that $m$ divides $n$ without a remainder.\n",
    "``` "
   ]
  },
  {
   "attachments": {},
   "cell_type": "markdown",
   "metadata": {},
   "source": [
    "```{exercise}\n",
    "Check that the structure $\\mathcal{W} = (W,\\varepsilon, ${\\tt 1}, {\\tt #},$+)$ of ```1#```-words is decidable,\n",
    "where $W$ is the set of all ```1#``` words; $\\varepsilon$, ```1```, and ```#``` are the evident constants, and $+$ is the function of two arguments giving their concantenation.\n",
    "\n",
    "[This should be easy.]\n",
    "```"
   ]
  },
  {
   "attachments": {},
   "cell_type": "markdown",
   "metadata": {},
   "source": [
    "```{exercise}\n",
    "Show that if $\\mathcal{S}$ is a structure which has a ```1#```-encoding, then every finite subset of $S$ is computable.\n",
    "\n",
    "[Use {ref}`proposition_finite_computable`]\n",
    "```"
   ]
  },
  {
   "attachments": {},
   "cell_type": "markdown",
   "metadata": {},
   "source": [
    "```{exercise}\n",
    "The structure $\\mathbb{Z} = (Z,0, s, p)$ of integers has \n",
    "\n",
    "$$\n",
    "Z = \\{\\ldots, -2, -1, 0, 1, 2, \\ldots\\}\n",
    "$$\n",
    "\n",
    "\n",
    "Here $s$ and $p$ are the *successor* and *predecessor* functions on the integers:  $s(n) = n+1$ and $p(n) = n - 1$.\n",
    "\n",
    "Your problems:\n",
    "\n",
    "1.  Find a ```1#```-encoding of $\\mathbb{Z}$.\n",
    "\n",
    "2. Show that the addition function on the integers is ```1#```-computable relative to your encoding.\n",
    "\n",
    "This might be messy and/or tedious, because you have to exhibit ```1#``` programs as part of the encoding and also to represent addition.  It is fine to be hand-wavy here.  Soon we will have tools to make it easier to actually write programs.  And for something tedious, it is usually sufficient to convince yourself that you *could* write the program.\n",
    "```"
   ]
  },
  {
   "cell_type": "markdown",
   "metadata": {},
   "source": [
    "```{exercise}\n",
    "Let $P$ be the set of pairs $(p,q)$ of ```1#```-words.   We consider the structure\n",
    "\n",
    "$$\n",
    "\\mathcal{P} = (P, a_1, a_{\\#}, b_1, b_{\\#})\n",
    "$$\n",
    "\n",
    "where \n",
    "\n",
    "$$ \n",
    "\\begin{array}{lcl} \n",
    "a_1(p,q)  & =  & (p + 1, q)\\\\\n",
    "a_{\\#} (p,q)  & =  & (p +\\# , q)\\\\\n",
    "b_1(p,q)  & =  & (p , q + 1)\\\\\n",
    "b_{\\#} (p,q)  & =  & (p, q + \\# )\\\\\n",
    "\\end{array}\n",
    "$$\n",
    "\n",
    "Find a computable encoding of this structure.\n",
    "```"
   ]
  },
  {
   "attachments": {},
   "cell_type": "markdown",
   "metadata": {},
   "source": [
    "```{exercise}\n",
    "If we want to discuss whether $2\\times 2$ matrix mortality is decidable, or whether $3\\times 3$ matrix mortality is decidable, it is natural to propose ```1#```-encodings.  Let's do this for $2\\times 2$ matricies.   \n",
    "Consider\n",
    "\n",
    "$$\n",
    "(\\mathcal{M}_2, 0, times),\n",
    "$$\n",
    "\n",
    "where $\\mathcal{M}_2$ is the set of $2\\times 2$ integer matrices, $0$ is the $2\\times 2$ zero matrix, and $times(M,N) = M\\times N$.\n",
    "\n",
    "1.  A computable encoding of this structure includes a computable subset $\\widehat{S}\\subseteq Words$, and an injection $\\pi: \\mathcal{M}_2\\to \\widehat{S}$.   Find such $\\widehat{S}$ and $\\pi$.  (As always, there are many choices.)\n",
    "\n",
    "2. What are the rest of the requirements on a computable encoding of this structure?   You don't need to give the program which corresponds to\n",
    " $times$, since that would be quite tedious.\n",
    "```"
   ]
  },
  {
   "attachments": {},
   "cell_type": "markdown",
   "metadata": {},
   "source": [
    "```{exercise}\n",
    "Let $\\mathcal{G}$ be the set of finite graphs whose set of vertices is of the form $\\{1,2, \\ldots, n\\}$ for some $n$.  We make this into a structure.  There are no relations or functions, just the set by itself.  What is an encoding of this structure?   What does it mean to say that the subset $C$ of graphs which contain a cycle is a decidable set relative to an encoding?\n",
    "```"
   ]
  },
  {
   "attachments": {},
   "cell_type": "markdown",
   "metadata": {},
   "source": [
    "```{dropdown} Click for the refenence to the source paper on some of this material.\n",
    "@incollection {MR835461,\n",
    "    AUTHOR = {Meseguer, Jos\\'e{} and Goguen, Joseph A.},\n",
    "     TITLE = {Initiality, induction, and computability},\n",
    " BOOKTITLE = {Algebraic methods in semantics ({F}ontainebleau, 1982)},\n",
    "     PAGES = {459--541},\n",
    " PUBLISHER = {Cambridge Univ. Press, Cambridge},\n",
    "      YEAR = {1985},\n",
    "      ISBN = {0-521-26793-5},\n",
    "   MRCLASS = {68Q55 (03B70 03D45 03D80 08A99)},\n",
    "  MRNUMBER = {835461}\n",
    "}\n",
    "```"
   ]
  }
 ],
 "metadata": {
  "colab": {
   "authorship_tag": "ABX9TyPEru1e04O7x8TgD2z5Ig9K",
   "include_colab_link": true,
   "provenance": []
  },
  "kernelspec": {
   "display_name": "Python 3",
   "name": "python3"
  },
  "language_info": {
   "name": "python"
  }
 },
 "nbformat": 4,
 "nbformat_minor": 0
}