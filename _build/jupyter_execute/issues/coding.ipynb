{
 "cells": [
  {
   "cell_type": "markdown",
   "metadata": {
    "colab_type": "text",
    "id": "view-in-github"
   },
   "source": [
    "<a href=\"https://colab.research.google.com/github/lmoss/onesharp/blob/main/issues/coding.ipynb\" target=\"_parent\"><img src=\"https://colab.research.google.com/assets/colab-badge.svg\" alt=\"Open In Colab\"/></a>"
   ]
  },
  {
   "cell_type": "markdown",
   "metadata": {
    "id": "untDv95I9YWv"
   },
   "source": [
    "# What is coding?"
   ]
  },
  {
   "attachments": {},
   "cell_type": "markdown",
   "metadata": {},
   "source": [
    "At this point, we have seen a bit about one particular model of computation, leading to the definition of a ```1#``` computable function.   We also saw some mathematically natural algorithmic problems having to do with graphs, tiling, dominoes, and matricies.  What we want to do at this point is to connect these two discussions.\n",
    "We also want to say in a more formal way what it means for one or another algorithmic problem to be decidable or undecidable.\n",
    "\n",
    "\n",
    "```{prf:definition}\n",
    ":label: structure\n",
    "A *structure* is a tuyple \n",
    "\n",
    "$$ \n",
    "\\mathcal{S} = (S,R_1, \\ldots, R_n, f_1, \\ldots, f_m)\n",
    "$$\n",
    "\n",
    "where $S$ is a set, $R_1, \\ldots, R_n$ are relations on $S$, each of some finite number\n",
    "$n_R\\geq 1$ of variables, and $f_1, \\ldots, f_m$ are functions on $S$, each of some finite number\n",
    "$n_f \\geq 0$ of variables.   Note that we allow $n_f = 0$, and in this case $f$ is called a *constant symbol*.\n",
    "```\n",
    "\n",
    "This is the standard notion of a *first-order structure* from mathematical logic.\n",
    "\n",
    "The kinds of problems that interest us are where we are given a type of mathematical problem represented by a *structure* $S$, and a *target set* $T\\subseteq S$.  We are interested to know whether a given $s\\in S$ belongs to $T$ or not.     \n",
    "\n",
    "```{prf:definition}\n",
    ":label: coding\n",
    "Given a structure $\\mathcal{S}$, a ```1#```-*encoding* of $\\mathcal{S}$ consists of \n",
    "\n",
    "1. A set $\\widehat{S} \\subset Words$ of ```1#```-words. $\\widehat{S}$ must be decidable.\n",
    "\n",
    "\n",
    "2.  A function $\\pi: S \\to \\widehat{S}$ called the *coding map*.\n",
    "\n",
    "3. For each relation $R\\subseteq S^n$ a relation $\\widehat{R}\\subseteq (\\widehat{S})^n$.\n",
    "We require that \n",
    "\n",
    "$$ \n",
    "R(s_1, \\ldots, s_n) \\mbox{ iff} \\widehat{R}(\\pi(s_1),\\ldots, \\pi(s_n)).\n",
    "$$\n",
    "```"
   ]
  }
 ],
 "metadata": {
  "colab": {
   "authorship_tag": "ABX9TyPEru1e04O7x8TgD2z5Ig9K",
   "include_colab_link": true,
   "provenance": []
  },
  "kernelspec": {
   "display_name": "Python 3",
   "name": "python3"
  },
  "language_info": {
   "name": "python"
  }
 },
 "nbformat": 4,
 "nbformat_minor": 0
}