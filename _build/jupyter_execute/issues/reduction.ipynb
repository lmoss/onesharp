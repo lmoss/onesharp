{
 "cells": [
  {
   "cell_type": "markdown",
   "metadata": {
    "colab_type": "text",
    "id": "view-in-github"
   },
   "source": [
    "<a href=\"https://colab.research.google.com/github/lmoss/onesharp/blob/main/issues/reduction.ipynb\" target=\"_parent\"><img src=\"https://colab.research.google.com/assets/colab-badge.svg\" alt=\"Open In Colab\"/></a>"
   ]
  },
  {
   "cell_type": "markdown",
   "metadata": {
    "id": "afi51Ew09l9E"
   },
   "source": [
    "# Reduction of one Problem to Another"
   ]
  },
  {
   "cell_type": "markdown",
   "metadata": {
    "id": "81dYGwI3hi98"
   },
   "source": [
    "```{exercise}\n",
    "The *Pointed PCP Problem* is like Post's Correspondence Problem (PCP) except we have a designated domino $d_0$ which must be used as the first domino in a match. \n",
    "\n",
    "Let $PCP$ be the set of PCP instances for which there exists a match, and let $PPCP$ be the set of PPCP instances for which there is a match.\n",
    "\n",
    "(a) Prove that $PPCP \\leq_m PCP$.\n",
    "\n",
    "(b) Prove that $PCP \\leq_m PPCP$.\n",
    "```"
   ]
  },
  {
   "cell_type": "markdown",
   "metadata": {
    "id": "0AaxlUcoiFcM"
   },
   "source": [
    "```{exercise}\n",
    "Suppose we consider a version of the tiling problem.\n",
    "We are again given a pointed tile set.  But instead of tiling the first quadrant we only need to tile the \"positive $x$-axis\".  Let's call this problem $Tile_1$.\n",
    "Show that $Tile_1$ is decidable.\n",
    "```"
   ]
  },
  {
   "cell_type": "markdown",
   "metadata": {
    "id": "0Y2_8tDYK1h-"
   },
   "source": [
    "```{exercise}\n",
    "Yet another version of tiling.  Given a pointed tile set, can we tile *the bottom two rows* of the quadrant?   Let's call this problem $Tile_2$.   Show that $Tile_1 \\leq_m Tile_2$, and also that \n",
    "$Tile_2 \\leq_m Tile_1$.\n",
    "```"
   ]
  },
  {
   "cell_type": "markdown",
   "metadata": {
    "id": "AhXbodpwLI4_"
   },
   "source": [
    "Suppose we are given two finite domino sets, say $\\DD_1$ and $\\DD_2$.  \n",
    "\n",
    "(a) Show that there is a domino set $\\DD$ with the property that \n",
    "$\\DD$ has a match if and only if both $\\DD_1$ and $\\DD_2$ have matches, and moreover that $\\DD$ may be obtained computably from $\\DD_1$ and $\\DD_2$.\n",
    "\n",
    "(b) Show that there is a domino set $\\DD$ with the property that \n",
    "$\\DD$ has a match if and only if either $\\DD_1$ or $\\DD_2$ have matches (or both), and moreover that $\\DD$ may be obtained computably from $\\DD_1$ and $\\DD_2$.\n",
    "\n"
   ]
  }
 ],
 "metadata": {
  "colab": {
   "authorship_tag": "ABX9TyNqByfTdKPPR6Ffs6QLGswc",
   "include_colab_link": true,
   "provenance": []
  },
  "kernelspec": {
   "display_name": "Python 3",
   "name": "python3"
  },
  "language_info": {
   "name": "python"
  }
 },
 "nbformat": 4,
 "nbformat_minor": 0
}