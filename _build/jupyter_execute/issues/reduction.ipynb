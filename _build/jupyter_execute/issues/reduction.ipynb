{
 "cells": [
  {
   "cell_type": "markdown",
   "metadata": {
    "colab_type": "text",
    "id": "view-in-github"
   },
   "source": [
    "<a href=\"https://colab.research.google.com/github/lmoss/onesharp/blob/main/issues/reduction.ipynb\" target=\"_parent\"><img src=\"https://colab.research.google.com/assets/colab-badge.svg\" alt=\"Open In Colab\"/></a>"
   ]
  },
  {
   "cell_type": "markdown",
   "metadata": {
    "id": "afi51Ew09l9E"
   },
   "source": [
    "# Reduction of one problem to another"
   ]
  },
  {
   "cell_type": "markdown",
   "metadata": {
    "id": "rY0skPqGBZEi"
   },
   "source": [
    "**definitions and interesting examples are yet to come**"
   ]
  },
  {
   "attachments": {},
   "cell_type": "markdown",
   "metadata": {},
   "source": [
    "```{prf:proposition}\n",
    "Let $A\\leq B$.\n",
    "\n",
    "1.  If $B$ is decidable, then so is $A$.\n",
    "\n",
    "2. If $A$ is undecidable, then so is $B$.\n",
    "```"
   ]
  },
  {
   "attachments": {},
   "cell_type": "markdown",
   "metadata": {},
   "source": [
    "# Exercises"
   ]
  },
  {
   "attachments": {},
   "cell_type": "markdown",
   "metadata": {},
   "source": [
    "## Tiling"
   ]
  },
  {
   "attachments": {},
   "cell_type": "markdown",
   "metadata": {},
   "source": [
    "In the problems below on tiling, you should use the notion of reduction that we are currently studying."
   ]
  },
  {
   "attachments": {},
   "cell_type": "markdown",
   "metadata": {},
   "source": [
    "```{exercise}\n",
    "The *one dimensional tiling problem* is the problem of deciding whether a tile set can tile the \"positive $x$-axis\" part of the quadrant (the bottom infinite row).  Show that this problem is decidable by reducing to the problem of whether a finite graph has a cycle.\n",
    "```"
   ]
  },
  {
   "attachments": {},
   "cell_type": "markdown",
   "metadata": {},
   "source": [
    "```{exercise}\n",
    "The *two-row tiling problem* is the same problem, but we want to tile the bottom-most two infinite rows.  Is this problem decidable or undecidable?\n",
    "```"
   ]
  },
  {
   "attachments": {},
   "cell_type": "markdown",
   "metadata": {},
   "source": [
    "```{exercise}\n",
    "What about the two-column tiling problem?\n",
    "```"
   ]
  },
  {
   "attachments": {},
   "cell_type": "markdown",
   "metadata": {},
   "source": [
    "## Roots of polynomials"
   ]
  },
  {
   "attachments": {},
   "cell_type": "markdown",
   "metadata": {},
   "source": [
    "```{exercise}\n",
    "Let $X$ be the set of multi-variable polynomials $p(x_1, \\ldots, x_n)$ with integer coefficients which have a root consisting of positive integers, and let $Y$ be the polynomials with integer coefficients which have a root consisting of negative integers.  Show that $X \\leq Y$ and $Y\\leq X$.\n",
    "```"
   ]
  },
  {
   "attachments": {},
   "cell_type": "markdown",
   "metadata": {},
   "source": [
    "## Post correspondence problem"
   ]
  },
  {
   "attachments": {},
   "cell_type": "markdown",
   "metadata": {},
   "source": [
    "```{exercise}\n",
    "Assuming that $PCP$ is undecidable, show that it is undecidable even if the alphabet has only two letters.\n",
    "```"
   ]
  },
  {
   "attachments": {},
   "cell_type": "markdown",
   "metadata": {},
   "source": [
    "## Matrix mortality"
   ]
  },
  {
   "attachments": {},
   "cell_type": "markdown",
   "metadata": {},
   "source": [
    "```{exercise}\n",
    "Let $P_3$ be the matrix mortality problem for $3\\times 3$ matrices.  Let $P_2$ and $P_4$ be defined similarly, for the $2\\times 2$ and $4\\times 4$ matrices.   Show that $P_2 \\leq P_3 \\leq P_4$.  This is a straightforward algebraic argument.\n",
    "\n",
    "Later we will see that $P_4 \\leq P_3$, but the argument will not be not as easy.\n",
    "```"
   ]
  },
  {
   "attachments": {},
   "cell_type": "markdown",
   "metadata": {},
   "source": [
    "Here is an exercise pertaining to the matrix mortality problem.   Athough it looks long, we are presenting it as result in outlined form.  All you have to do is to fill in the steps.  This result will be used in [our later work on the undecidability of matrix mortality](content:matrixMortalityUndecidable).\n"
   ]
  },
  {
   "attachments": {},
   "cell_type": "markdown",
   "metadata": {},
   "source": [
    "```{exercise}\n",
    ":label: matrix-mortality-exercise\n",
    "\n",
    "Let $M_{1,1}$ be the set of finite sets of $3\\times 3$ integer matrices which have some finite product which equals $0$.    Let $M_{0}$ be the set of  finite sets of $3\\times 3$ integer matrices which have some finite product with $0$ in the upper-left corner.   In this exercise, we show that $M_{1,1} \\leq  M_0$.\n",
    "\n",
    "\n",
    "Let $A$ be the $3\\times 3$ matrix\n",
    "\n",
    "$$\n",
    "\\left[ \n",
    "\\begin{array}{lll} 1 & 0 & 0 \\\\ 0 &  0 & 0 \\\\ 0 &  0 & 0  \\end{array}\n",
    "\\right]\n",
    "$$\n",
    "\n",
    "The key features of $A$ are shown below:\n",
    "\n",
    "$$\n",
    "\\left[ \\begin{array}{lll} 1 & 0 & 0 \\\\ 0 &  0 & 0 \\\\ 0 &  0 & 0  \\end{array} \\right]\n",
    "\\left[ \\begin{array}{lll} a & b & c \\\\ d &  e & f \\\\ g &  h & i  \\end{array}\\right]\n",
    "%\\left[ \\begin{array}{lll} 1 & 0 & 0 \\\\ 0 &  0 & 0 \\\\ 0 &  0 & 0  \\end{array} \\right]\n",
    "= \n",
    "\\left[\\begin{array}{lll} a & b & c \\\\ 0 &  0 & 0 \\\\ 0 &  0 & 0  \\end{array}\\right]\n",
    "$$\n",
    "\n",
    "We also have\n",
    "\n",
    "$$\n",
    "\\left[ \\begin{array}{lll} 1 & 0 & 0 \\\\ 0 &  0 & 0 \\\\ 0 &  0 & 0  \\end{array} \\right]\n",
    "\\left[ \\begin{array}{lll} a & b & c \\\\ d &  e & f \\\\ g &  h & i  \\end{array}\\right]\n",
    "\\left[ \\begin{array}{lll} 1 & 0 & 0 \\\\ 0 &  0 & 0 \\\\ 0 &  0 & 0  \\end{array} \\right]\n",
    "= \n",
    "\\left[\\begin{array}{lll} a & 0 & 0 \\\\ 0 &  0 & 0 \\\\ 0 &  0 & 0  \\end{array}\\right]\n",
    "$$\n",
    "\n",
    "Let $Q$ be the set of finite sets of $3\\times 3$ integer matrices.\n",
    "\n",
    "Here is a computable function $f: Q \\to Q$:\n",
    "\n",
    "$$\n",
    "f(S) = S\\cup \\{A\\}\n",
    "$$\n",
    "\n",
    "Our goal is to prove the following fact:\n",
    "\n",
    "\n",
    "\n",
    "\n",
    "Let $S$ be  a finite set of $3\\times 3$ matricies.\n",
    "\n",
    "1.  Show that if $S \\in M_{1,1}$, then $f(S) \\in M_0$.  [This is easy given the facts above.]\n",
    "\n",
    "2. In the other direction, suppose that $f(S) \\in M_0$.   Take a finite sequence from $f(S)$ whose product has a zero in the upper-left corner.  Write the product as\n",
    "\n",
    "$$\n",
    "A B^1_1 B^1_2 \\cdots B^1_{n_1}  A B^2_1 B^2_2 \\cdots B^2_{n_1}\\cdots   A B^k_1 B^k_2 \\cdots B^k_{n_k} A\n",
    "$$\n",
    "\n",
    "where the $B^i_j$ matrices belong to $S$.\n",
    "\n",
    "Divide the product above into $k+1$ groups:\n",
    "\n",
    "$$\n",
    "(A B^1_1 B^1_2 \\cdots B^1_{n_1}) \\quad (A B^2_1 B^2_2 \\cdots B^2_{n_1}) \\quad\\cdots\\quad\n",
    " (A B^k_1 B^k_2 \\cdots B^k_{n_k}) \n",
    "\\quad  A\n",
    "$$\n",
    "\n",
    "And then multiply it group-by-group:\n",
    "\n",
    "$$\n",
    "\\left[\\begin{array}{lll} a^1 & b^1 & c^1 \\\\ 0 &  0 & 0 \\\\ 0 &  0 & 0  \\end{array}\\right]\n",
    "\\left[\\begin{array}{lll} a^2 & b^2 & c^2 \\\\ 0 &  0 & 0 \\\\ 0 &  0 & 0  \\end{array}\\right]\n",
    "\\cdots\n",
    "\\left[\\begin{array}{lll} a^k & b^k & c^k \\\\ 0 &  0 & 0 \\\\ 0 &  0 & 0  \\end{array}\\right]\n",
    "\\left[\\begin{array}{lll} 1 & 0 & 0 \\\\ 0 &  0 & 0 \\\\ 0 &  0 & 0  \\end{array}\\right]\n",
    "$$\n",
    "\n",
    "Here each $a^i$ is the product of the $i$th group.  \n",
    "\n",
    "Evaluate the upper-left corner of the product, and check that one of the groups $ B^i_1 B^i_2 \\cdots B^i_{n_i}$ must multiply to give a matrix with $0$ in the upper-left corner. \n",
    "```"
   ]
  },
  {
   "attachments": {},
   "cell_type": "markdown",
   "metadata": {},
   "source": [
    "```{admonition} Credits\n",
    ":class: warning\n",
    "\n",
    "\n",
    "The source for the reduction involving $3\\times 3$ matrices is\n",
    "\n",
    "Vesa Halava and Tero Harju, (2001). Mortality in Matrix Semigroups. The American Mathematical Monthly, 108(7), 649–653."
   ]
  }
 ],
 "metadata": {
  "colab": {
   "authorship_tag": "ABX9TyP205rqn48v0Nn/uuhLo23v",
   "include_colab_link": true,
   "provenance": []
  },
  "kernelspec": {
   "display_name": "Python 3",
   "name": "python3"
  },
  "language_info": {
   "name": "python"
  }
 },
 "nbformat": 4,
 "nbformat_minor": 0
}