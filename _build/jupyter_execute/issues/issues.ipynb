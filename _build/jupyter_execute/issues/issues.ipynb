{
 "cells": [
  {
   "cell_type": "markdown",
   "metadata": {
    "colab_type": "text",
    "id": "view-in-github"
   },
   "source": [
    "<a href=\"https://colab.research.google.com/github/lmoss/onesharp/blob/main/issues/issues.ipynb\" target=\"_parent\"><img src=\"https://colab.research.google.com/assets/colab-badge.svg\" alt=\"Open In Colab\"/></a>"
   ]
  },
  {
   "cell_type": "markdown",
   "metadata": {
    "id": "uFTD3oKx6RIc"
   },
   "source": [
    "# Computability"
   ]
  },
  {
   "cell_type": "markdown",
   "metadata": {
    "id": "dFE0zRiD6nS_"
   },
   "source": []
  },
  {
   "cell_type": "markdown",
   "metadata": {
    "id": "F4vxa6Ay78gl"
   },
   "source": [
    "# Concrete and Abstract Models of Computation\n"
   ]
  },
  {
   "cell_type": "markdown",
   "metadata": {
    "id": "-QXmHb7H74iU"
   },
   "source": [
    "# Finite vs. Infinite"
   ]
  }
 ],
 "metadata": {
  "colab": {
   "authorship_tag": "ABX9TyOjuj2nnPfh0zI8SN0tAFyM",
   "include_colab_link": true,
   "provenance": []
  },
  "kernelspec": {
   "display_name": "Python 3",
   "name": "python3"
  },
  "language_info": {
   "name": "python"
  }
 },
 "nbformat": 4,
 "nbformat_minor": 0
}