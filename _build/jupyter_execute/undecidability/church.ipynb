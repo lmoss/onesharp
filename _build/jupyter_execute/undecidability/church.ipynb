{
 "cells": [
  {
   "cell_type": "markdown",
   "metadata": {
    "colab_type": "text",
    "id": "view-in-github"
   },
   "source": [
    "<a href=\"https://colab.research.google.com/github/lmoss/onesharp/blob/main/undecidability/church.ipynb\" target=\"_parent\"><img src=\"https://colab.research.google.com/assets/colab-badge.svg\" alt=\"Open In Colab\"/></a>"
   ]
  },
  {
   "cell_type": "code",
   "execution_count": null,
   "metadata": {
    "id": "DzEkgDr2B8uf"
   },
   "outputs": [],
   "source": []
  },
  {
   "cell_type": "markdown",
   "metadata": {
    "id": "PBzMh1t3B9mB"
   },
   "source": [
    "# Logic \n",
    "\n",
    "This section is going to contain a proof of Church's Theorem that satisfyability of first-order logic is undecidable.   This will be a corollary of the undecidability of tiling.  It also will be a place to connect to the Incompleteness Theorem (though this might deserve a section on its own) and to philosophical matters."
   ]
  },
  {
   "cell_type": "code",
   "execution_count": null,
   "metadata": {
    "id": "40IPCKd3CMP0"
   },
   "outputs": [],
   "source": []
  }
 ],
 "metadata": {
  "colab": {
   "authorship_tag": "ABX9TyPdrqCNjKhj/hfx1Nrdfoph",
   "include_colab_link": true,
   "provenance": []
  },
  "kernelspec": {
   "display_name": "Python 3",
   "name": "python3"
  },
  "language_info": {
   "name": "python"
  }
 },
 "nbformat": 4,
 "nbformat_minor": 0
}