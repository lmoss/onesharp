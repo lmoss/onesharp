{
 "cells": [
  {
   "cell_type": "markdown",
   "metadata": {
    "colab_type": "text",
    "id": "view-in-github"
   },
   "source": [
    "<a href=\"https://colab.research.google.com/github/lmoss/onesharp/blob/main/undecidability/tiling.ipynb\" target=\"_parent\"><img src=\"https://colab.research.google.com/assets/colab-badge.svg\" alt=\"Open In Colab\"/></a>"
   ]
  },
  {
   "cell_type": "code",
   "execution_count": null,
   "metadata": {
    "id": "dIf6kCr8SmCC"
   },
   "outputs": [],
   "source": []
  },
  {
   "cell_type": "markdown",
   "metadata": {
    "id": "Y0wVF8LcSmsz"
   },
   "source": [
    "# Tiling\n",
    "\n",
    "In this notebook we prove the undecidability of the tiling problem.  \n",
    "\n",
    "\n",
    "\n",
    "Recall that in this problem we are given a finite pointed tile set $\\mathcal{T}$, and the problem is to determine whether there is a proper tiling of the first quadrant of the plane using $\\mathcal{T}$.   A *tile* is a square with *colors* on the four sides.\n",
    " The colors can be anything, of course.\n",
    " \n",
    "\n",
    "A *finite, pointed tile set*\n",
    "$(\\TT,t_0)$\n",
    "is a finite set $\\TT$ of tiles with a fixed *distinguished tile*\n",
    "$t_0\\in\\TT$.\n",
    "When we talk about tile sets we always will mean a \n",
    "finite,\n",
    "pointed tile set.\n",
    "\n",
    "\n",
    "\n",
    "The main problem  is   whether,\n",
    "given a tile\n",
    "set  $\\TT$,\n",
    " we we can tile the first quadrant of the plane in such a way that\n",
    "$t_0$ goes on\n",
    "the corner, \n",
    "and matching edges have the same color. \n",
    " \n",
    "Let $\\Tile$ be the set of (codes of) tile sets $\\TT$  with the property that\n",
    "the\n",
    "the first quadrant can be tiled with $\\TT$ in this sense.\n",
    "\n",
    "\n",
    "\n",
    "````{prf:theorem}\n",
    "\n",
    "There is a total computable function\n",
    "\n",
    "$$\n",
    "\\TT:  A\\to  \\mbox{pointed tile sets}\n",
    "$$\n",
    "\n",
    "such that \n",
    "\n",
    "$$\n",
    "\\phifn_p(\\ ) \\uar \\quadiff   \\TT(p) \\mbox{ tiles the quadrant properly}.\n",
    "$$\n",
    "\n",
    "Thus \n",
    "\n",
    "$$\n",
    "\\overline{B}  \\leq_m   \\Tile.\n",
    "$$\n",
    "\n",
    "\n",
    "In other words,  \n",
    "\n",
    "$$\n",
    "B \\leq_m  \\overline{\\Tile}.\n",
    "$$\n",
    "\n",
    "````\n",
    "\n",
    "In our proof, we are interested in programs $p$ with the following features:\n",
    "\n",
    "(a) $p$ is tidy.\n",
    "\n",
    "(b) $p$ only uses register 1.\n",
    "\n",
    "```{admonition} Notation\n",
    ":class: tip\n",
    "\n",
    "Let $A$ be the set of programs with those two properties,\n",
    "and let $B\\subseteq A$ be the subset with the additional property that\n",
    "$\\phifn_p(\\ )\\dar$.\n",
    "\n",
    "Then $A$ is decidable (easily) and we show that $B$ is\n",
    "is undecidable.\n"
   ]
  },
  {
   "cell_type": "markdown",
   "metadata": {
    "id": "yCmuRMnc3f-W"
   },
   "source": [
    "```{admonition} Our goal\n",
    ":class: attention\n",
    "\n",
    "A computable and total function $\\TT$\n",
    "from programs to (pointed) tile sets\n",
    "such that $p\\notin B$   $\\Leftrightarrow$ $\\TT(p)$ \n",
    "*can* tile the quadrant.\n",
    "\n"
   ]
  },
  {
   "cell_type": "markdown",
   "metadata": {
    "id": "m2gfZvq-4C5A"
   },
   "source": [
    "# The definition of $\\TT(p)$\n",
    "\n",
    "We need only worry about defining $\\TT(p)$ for $p\\in A$.\n",
    "Fix such a program $p$.\n",
    "\n",
    "We start with 18 tiles that are part of $\\TT(p)$ for *all* $p\\in A$.\n"
   ]
  },
  {
   "cell_type": "markdown",
   "metadata": {
    "id": "1cxBGr1Pbd7V"
   },
   "source": [
    "<img src=\"https://github.com/lmoss/onesharp/blob/main/undecidability/tilingPictures/t1-01.png?raw=1\" width=\"100%\" height=\"100%\">\n",
    "\n"
   ]
  },
  {
   "cell_type": "markdown",
   "metadata": {
    "id": "Gosu9qEBMcaa"
   },
   "source": [
    "The rest of $\\TT(p)$ depends on the program $p$.  To begin, when  instruction $i$ of $p$ is  $\\one\\hash$, we include the tile\n",
    "\n",
    "<img src=\"https://github.com/lmoss/onesharp/blob/main/undecidability/tilingPictures/t2-02.png?raw=1\" width=\"100%\" height=\"100%\">\n"
   ]
  },
  {
   "cell_type": "markdown",
   "metadata": {
    "id": "E-XFWzwBMy41"
   },
   "source": [
    "And when  instruction $i$ of $p$ is  $\\one\\hash\\hash$, we include the tile\n",
    "\n",
    "\n",
    "<img src=\"https://github.com/lmoss/onesharp/blob/main/undecidability/tilingPictures/t3-03.png?raw=1\" width=\"100%\" height=\"100%\">\n"
   ]
  },
  {
   "cell_type": "markdown",
   "metadata": {
    "id": "V1rUiDk3Myut"
   },
   "source": [
    "When  instruction $i$ is  $\\one^m\\hash\\hash\\hash$ we include\n",
    "\n",
    "<img src=\"https://github.com/lmoss/onesharp/blob/main/undecidability/tilingPictures/t4-04.png?raw=1\" width=\"100%\" height=\"100%\">\n"
   ]
  },
  {
   "cell_type": "markdown",
   "metadata": {
    "id": "2Zh5WXqZMykz"
   },
   "source": [
    "When instruction $i$ is  $\\one^m\\hash\\hash\\hash\\hash$ we include\n",
    "\n",
    "<img src=\"https://github.com/lmoss/onesharp/blob/main/undecidability/tilingPictures/t5-05.png?raw=1\" width=\"100%\" height=\"100%\">\n"
   ]
  },
  {
   "cell_type": "markdown",
   "metadata": {
    "id": "lbZjdAnwMybw"
   },
   "source": [
    "Finally, when instruction $i$ is the cases instruction $\\one\\hash\\hash\\hash\\hash\\hash$, we include the three tiles\n",
    "\n",
    "<img src=\"https://github.com/lmoss/onesharp/blob/main/undecidability/tilingPictures/t6-06.png?raw=1\" width=\"100%\" height=\"100%\">\n"
   ]
  },
  {
   "cell_type": "markdown",
   "metadata": {
    "id": "yyARxVAoMyS3"
   },
   "source": [
    "```{admonition} Example\n",
    ":class:tip\n",
    "\n",
    "Here is a finite part of a tiling of the first quadrant with $\\TT(\\one\\hash\\one\\hash\\hash\\hash\\hash)$:\n",
    "\n",
    "<img src=\"https://github.com/lmoss/onesharp/blob/main/undecidability/tilingPictures/t7-07.png?raw=1\" width=\"100%\" height=\"100%\">\n",
    "```"
   ]
  },
  {
   "cell_type": "markdown",
   "metadata": {
    "id": "mHEvTLY8pq3I"
   },
   "source": [
    "This completes the definition of $\\TT$.  It's clear that $\\TT$ is total and computable.  The easy part of our result is showing that if $p\\in A$ halts, then there is a propert tiling of the quadrant with $\\TT(p)."
   ]
  },
  {
   "cell_type": "markdown",
   "metadata": {
    "id": "AlEn_Vayp7kf"
   },
   "source": [
    "The rest of our work is devoted to showing that if there is a tiling of the quadrant with $\\TT(p)$, then $\\phifn_p(\\ )\\dar$."
   ]
  },
  {
   "cell_type": "markdown",
   "metadata": {
    "id": "1V_N0uw4G_jj"
   },
   "source": [
    "# Some observations\n",
    "\n",
    "\n",
    "The only tile with a blank on the left is the all blank tile.\n",
    "\n",
    "\n",
    "Thus, if one of the tiles in a given row has \n",
    "a blank on the right,\n",
    "then forever to its right, all the tiles are blank.\n",
    " \n",
    "An easy induction shows the following:\n",
    "in a tiling of the first quadrant \n",
    "that starts with the starting tile,\n",
    "every row has to have all blanks after some finite point.\n",
    "\n",
    "```{tip}\n",
    "It would be good to prove this.\n",
    "```\n",
    "\n",
    " A tile has one of the  line number symbols\n",
    "(the number 1, 2, \\ldots, n, n+1)\n",
    "on the top\n",
    "if and only if that tile is in the first column.\n",
    "We call these *instruction tiles*.\n",
    "\n",
    "If $p$ has $n$ instructions,\n",
    "then there is no tile with $n+1$ on the bottom.\n",
    "\n",
    "\n",
    "Thus no complete tiling of the first quadrant \n",
    "can have a tile where  $n+1$ appears on the top.\n",
    "\n",
    "\n",
    "\n",
    "\n"
   ]
  },
  {
   "cell_type": "markdown",
   "metadata": {
    "id": "NqHRxJEbHUR5"
   },
   "source": [
    "```{admonition} Restatement of our goal\n",
    ":class: warning\n",
    "\n",
    "\n",
    "$p$ runs forever (on all empty registers)\n",
    "if and only if \n",
    "$\\TT(p)$ can tile the first quadrant.\n",
    " \n",
    "$p$ halts (on all empty registers)\n",
    "if and only if \n",
    "$\\TT(p)$ cannot tile the first quadrant.\n"
   ]
  },
  {
   "cell_type": "markdown",
   "metadata": {
    "id": "fWsIaUh4Hs__"
   },
   "source": [
    "```{prf:definition}\n",
    "\n",
    "The *word encoded in row $n$*\n",
    "is the word composed of all symbols on the \n",
    "*tops* of the tiles in row $n$\n",
    "*after the instruction tile* (the first tile in row $n$).\n",
    "```"
   ]
  },
  {
   "cell_type": "markdown",
   "metadata": {
    "id": "WtvjclmCH3y-"
   },
   "source": [
    "```{admonition}\n",
    "Here is an example.\n",
    "```\n"
   ]
  },
  {
   "cell_type": "markdown",
   "metadata": {
    "id": "MfgNDgCVMyB6"
   },
   "source": [
    "\n",
    "\n",
    "Let $p$ be a program.\n",
    "Suppose that row  $67$ of a tiling using $\\TT(p)$ is\n",
    "<img src=\"https://github.com/lmoss/onesharp/blob/main/undecidability/tilingPictures/t9-09.png?raw=1\" width=\"100%\" height=\"100%\">\n",
    "and that instruction 131 of $p$ is $\\one^8\\hash$. \n",
    "In view of the fact that $131 + 8 = 139$,\n",
    "the instruction tile in the first column of row $68$ is \n",
    "<img src=\"https://github.com/lmoss/onesharp/blob/main/undecidability/tilingPictures/t8-08.png?raw=1\" width=\"100%\" height=\"100%\">\n",
    "\n"
   ]
  },
  {
   "cell_type": "markdown",
   "metadata": {
    "id": "RvtikrHyMx6g"
   },
   "source": [
    "Thus, row 68 must be the top row below:\n",
    "<img src=\"https://github.com/lmoss/onesharp/blob/main/undecidability/tilingPictures/t10-10.png?raw=1\" width=\"100%\" height=\"100%\">\n",
    "\n",
    "\n",
    "```{admonition} The point\n",
    ":class: tip\n",
    "\n",
    "The word encoded in row 68  is $\\one\\hash\\hash\\one$.\n",
    "This is exactly the same as\n",
    "the word encoded in row 67.\n",
    "\n",
    "We can read the symbol $\\copyright$ as \"copy right.\"\n",
    "```\n",
    "\n",
    "---"
   ]
  },
  {
   "cell_type": "markdown",
   "metadata": {
    "id": "afuU9DU7Mxz6"
   },
   "source": [
    "We continue with a second fact along the same lines.\n",
    "Suppose that row 4743 of some tiling of the quadrant starts out \n",
    "\n",
    "<img src=\"https://github.com/lmoss/onesharp/blob/main/undecidability/tilingPictures/t11-11.png?raw=1\" width=\"100%\" height=\"100%\">\n"
   ]
  },
  {
   "cell_type": "markdown",
   "metadata": {
    "id": "Y9FB6fOUMxs1"
   },
   "source": [
    "and instruction 24 of the program is $\\one\\hash\\hash$.  Then the first tile in row 4744 must be \n",
    "<img src=\"https://github.com/lmoss/onesharp/blob/main/undecidability/tilingPictures/t12-12.png?raw=1\" width=\"100%\" height=\"100%\">\n",
    "What are the next tiles in row 4744?"
   ]
  },
  {
   "cell_type": "markdown",
   "metadata": {
    "id": "Oud4p27rMxlQ"
   },
   "source": [
    "<img src=\"https://github.com/lmoss/onesharp/blob/main/undecidability/tilingPictures/t13-13.png?raw=1\" width=\"100%\" height=\"100%\">\n"
   ]
  },
  {
   "cell_type": "markdown",
   "metadata": {
    "id": "GToCpRRrMxcY"
   },
   "source": [
    "```{dropdown} Click for the answer.\n",
    "<img src=\"https://github.com/lmoss/onesharp/blob/main/undecidability/tilingPictures/t14-14.png?raw=1\" width=\"100%\" height=\"100%\">\n",
    "```\n",
    "The word encoded in row 4744 is 1##1#.\n",
    "This is exactly the word encoded in row 4743, with # added at the end.\n",
    "    \n",
    "\n",
    "This shows that we have implemented the 1## instructions correctly.\n",
    "\n",
    "---"
   ]
  },
  {
   "cell_type": "markdown",
   "metadata": {
    "id": "EozQdfM8MxT7"
   },
   "source": [
    "Finally, let's get a third parallel fact but for the case instruction. Suppose again that row 4743 of some tiling of the quadrant starts out \n",
    "\n",
    "<img src=\"https://github.com/lmoss/onesharp/blob/main/undecidability/tilingPictures/t11-11.png?raw=1\" width=\"100%\" height=\"100%\">\n",
    "\n",
    "But now uppose that line 24 of the program is the case instruction $\\one\\hash\\hash\\hash\\hash\\hash$.\n",
    "Then the first tile in row 25 can be any of the three tiles\n",
    "\n",
    "<img src=\"https://github.com/lmoss/onesharp/blob/main/undecidability/tilingPictures/t15-15.png?raw=1\" width=\"100%\" height=\"100%\">"
   ]
  },
  {
   "cell_type": "markdown",
   "metadata": {
    "id": "Y0_c6KLVMxNz"
   },
   "source": [
    "So the situation is\n",
    "<img src=\"https://github.com/lmoss/onesharp/blob/main/undecidability/tilingPictures/t16-16.png?raw=1\" width=\"100%\" height=\"100%\">"
   ]
  },
  {
   "cell_type": "markdown",
   "metadata": {
    "id": "0QDocZZWMxKK"
   },
   "source": [
    "\n",
    "We cannot have\n",
    "\n",
    "<img src=\"https://github.com/lmoss/onesharp/blob/main/undecidability/tilingPictures/t17-17.png?raw=1\" width=\"100%\" height=\"100%\">\n",
    "\n",
    "This is because the symbols in the middle of row $4744$ have to be $\\one$, $\\hash$, or ``blank.''\n",
    "\n",
    "\n",
    "We must have all blanks on the far right, and then next to that tile as shown below:"
   ]
  },
  {
   "cell_type": "markdown",
   "metadata": {
    "id": "n9qLqFO-MxEw"
   },
   "source": [
    "\n",
    "Then row  4744 must end up as \n",
    "<img src=\"https://github.com/lmoss/onesharp/blob/main/undecidability/tilingPictures/t18-18.png?raw=1\" width=\"100%\" height=\"100%\">"
   ]
  },
  {
   "cell_type": "markdown",
   "metadata": {
    "id": "7ISEj1QhMw7m"
   },
   "source": [
    "\n",
    "Indeed, the whole row has to be\n",
    "<img src=\"https://github.com/lmoss/onesharp/blob/main/undecidability/tilingPictures/t19-19.png?raw=1\" width=\"100%\" height=\"100%\">\n",
    "\n",
    "The word encoded in row 4744  is $\\hash\\hash\\one$.\n",
    "\n",
    "This is exactly\n",
    "the word encoded in row 4743, with  the first symbol (a $\\one$) deleted.\n",
    "\n",
    "And the instruction to go to is $26 = 24 + 2$.\n",
    "So we have implemented $\\one\\hash^5$ correctly, \n",
    "at least in the case when register $1$ starts with a $\\one$.\n"
   ]
  },
  {
   "cell_type": "markdown",
   "metadata": {
    "id": "c2pAX-3m5X1U"
   },
   "source": []
  },
  {
   "cell_type": "code",
   "execution_count": null,
   "metadata": {
    "id": "qilC93DtnSBU"
   },
   "outputs": [],
   "source": []
  }
 ],
 "metadata": {
  "colab": {
   "authorship_tag": "ABX9TyPN8Vt37AV8dbE6HPKH2XFp",
   "include_colab_link": true,
   "provenance": []
  },
  "kernelspec": {
   "display_name": "Python 3",
   "name": "python3"
  },
  "language_info": {
   "name": "python"
  }
 },
 "nbformat": 4,
 "nbformat_minor": 0
}