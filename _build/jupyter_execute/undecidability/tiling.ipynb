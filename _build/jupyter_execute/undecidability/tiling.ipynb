{
 "cells": [
  {
   "cell_type": "markdown",
   "metadata": {
    "colab_type": "text",
    "id": "view-in-github"
   },
   "source": [
    "<a href=\"https://colab.research.google.com/github/lmoss/onesharp/blob/main/undecidability/tiling.ipynb\" target=\"_parent\"><img src=\"https://colab.research.google.com/assets/colab-badge.svg\" alt=\"Open In Colab\"/></a>"
   ]
  },
  {
   "cell_type": "code",
   "execution_count": null,
   "metadata": {
    "id": "dIf6kCr8SmCC"
   },
   "outputs": [],
   "source": []
  },
  {
   "cell_type": "markdown",
   "metadata": {
    "id": "Y0wVF8LcSmsz"
   },
   "source": [
    "# Tiling\n",
    "\n",
    "In this notebook we prove the undecidability of the tiling problem.  Recall that in this problem we are given a finite pointed tile set $\\mathcal{T}$, and the problem is to determine whether there is a proper tiling of the first quadrant of the plane using $\\mathcal{T}$."
   ]
  },
  {
   "cell_type": "markdown",
   "metadata": {
    "id": "1cxBGr1Pbd7V"
   },
   "source": [
    "<iframe width=\"100%\" height=\"800\" src=\"https://github.com/lmoss/onesharp/blob/main/tilingPdfs/tilingdiag1.pdf\">\n",
    "\n"
   ]
  },
  {
   "cell_type": "code",
   "execution_count": null,
   "metadata": {
    "id": "56vp26LzduFm"
   },
   "outputs": [],
   "source": []
  },
  {
   "cell_type": "code",
   "execution_count": null,
   "metadata": {
    "id": "Y9_Ld0Qkdt8z"
   },
   "outputs": [],
   "source": []
  }
 ],
 "metadata": {
  "colab": {
   "authorship_tag": "ABX9TyPQBv6xZRDCXHeoqbkSX8Kh",
   "include_colab_link": true,
   "provenance": []
  },
  "kernelspec": {
   "display_name": "Python 3",
   "name": "python3"
  },
  "language_info": {
   "name": "python"
  }
 },
 "nbformat": 4,
 "nbformat_minor": 0
}