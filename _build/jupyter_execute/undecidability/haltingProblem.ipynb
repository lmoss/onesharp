{
 "cells": [
  {
   "cell_type": "markdown",
   "metadata": {
    "colab_type": "text",
    "id": "view-in-github"
   },
   "source": [
    "<a href=\"https://colab.research.google.com/github/lmoss/onesharp/blob/main/undecidability/haltingProblem.ipynb\" target=\"_parent\"><img src=\"https://colab.research.google.com/assets/colab-badge.svg\" alt=\"Open In Colab\"/></a>"
   ]
  },
  {
   "cell_type": "markdown",
   "metadata": {
    "id": "c9L0YAf_naB8"
   },
   "source": [
    "# The halting problem\n",
    "\n",
    "We come to one of the most famous and most basic results in computability theory.\n",
    "\n",
    "```{prf:theorem}\n",
    "There is no program $p$ such that \n",
    "for all words $x$ and $y$,\n",
    "\n",
    "$$\\begin{array}{lcl}\n",
    "\\phifn^2_p(x,y) & = & \\left\\{\n",
    "\\begin{array}{ll}\n",
    "\\one & \\mbox{if $\\phifn_x(y)\\dar$}\\\\\n",
    "\\hash &  \\mbox{if $\\phifn_x(y)\\uparrow$}\n",
    "\\end{array}\n",
    "\\right.\n",
    "\\end{array}\n",
    "$$\n",
    "```\n",
    "\n",
    "Here is the proof.\n",
    "Suppose toward a contradiction that we had such a program $p$.\n",
    "Modifying $p$, we get a program $q$ so that for all $a$, \n",
    "\n",
    "$$\n",
    "\\begin{array}{lcl}\n",
    "\\phifn^1_q(a) & = & \\left\\{\n",
    "\\begin{array}{ll}\n",
    "\\uparrow & \\mbox{if $\\phifn_a(a)\\dar$}\\\\\n",
    "\\downarrow&  \\mbox{if $\\phifn_a(a)\\uparrow$}\n",
    "\\end{array}\n",
    "\\right.\n",
    "\\end{array}\n",
    "$$\n",
    "\n",
    "\n",
    "Here's how this would be done. \n",
    "Assume that $p$ preserves its input.\n",
    "Let $p$ have $k$ instructions.\n",
    "Let\n",
    "\n",
    "$$\n",
    "q \\quadeq \\copyprog_{1,2,3} + p +\n",
    "\\one^3\\hash^5\n",
    " + \\one^2 \\hash^3  \n",
    " + \\one^{k + 2} \\hash^4 \n",
    "$$\n",
    "\n",
    "Then $q$ has the property that we want.\n",
    "But now, take $a$ to be $q$.\n",
    "Then \n",
    "\n",
    "$$\n",
    "\\phifn_q(q)\\dar   \\quadiff \\phifn_q(q)\\uparrow.\n",
    "$$\n",
    "\n",
    "Contradiction!\n"
   ]
  },
  {
   "cell_type": "markdown",
   "metadata": {
    "id": "x6-IIvg1vvzu"
   },
   "source": [
    "```{tip}\n",
    "Look up [this setting of the proof](http://www.lel.ed.ac.uk/~gpullum/loopsnoop.html) by Geoffrey Pullum in the spirit of Dr. Seuss.\n",
    "```"
   ]
  },
  {
   "cell_type": "markdown",
   "metadata": {
    "id": "fmMmWiZGnY-U"
   },
   "source": [
    "# Corollaries\n",
    "\n",
    "There are a number of corollaries to the basic undecidability result.\n",
    "\n",
    "```{prf:corollary}\n",
    "The set of programs which halt when run on all empty registers is undecidable.\n",
    "```\n",
    "\n",
    "```{prf:corollary}\n",
    "The set of programs which halt when run on themselves is undecidable.\n",
    "```"
   ]
  },
  {
   "cell_type": "markdown",
   "metadata": {
    "id": "fZm4iOYSnZKq"
   },
   "source": [
    "# Improvement for one-register programs\n",
    "\n",
    "There is also an improved version of the basic result.\n",
    "\n",
    "Let $A$ be the set of programs which are tidy and which only use one register.\n",
    "\n",
    "```{prf:corollary}\n",
    "The halting problem is undecidable even for programs in $A$ when run on all emtpy registers.\n",
    "```"
   ]
  },
  {
   "cell_type": "markdown",
   "metadata": {
    "id": "rScrbdmgnZSn"
   },
   "source": []
  },
  {
   "cell_type": "markdown",
   "metadata": {
    "id": "RVwndnnOnZXT"
   },
   "source": []
  }
 ],
 "metadata": {
  "colab": {
   "authorship_tag": "ABX9TyOAgUlFmkJly0c9mvzPFQ+6",
   "include_colab_link": true,
   "provenance": []
  },
  "kernelspec": {
   "display_name": "Python 3",
   "name": "python3"
  },
  "language_info": {
   "name": "python"
  }
 },
 "nbformat": 4,
 "nbformat_minor": 0
}