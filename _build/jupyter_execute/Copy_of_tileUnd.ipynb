{
 "cells": [
  {
   "cell_type": "markdown",
   "metadata": {
    "colab_type": "text",
    "id": "view-in-github"
   },
   "source": [
    "<a href=\"https://colab.research.google.com/github/lmoss/onesharp/blob/main/Copy_of_tileUnd.ipynb\" target=\"_parent\"><img src=\"https://colab.research.google.com/assets/colab-badge.svg\" alt=\"Open In Colab\"/></a>"
   ]
  },
  {
   "cell_type": "markdown",
   "metadata": {
    "id": "QutJ68mmNxRM"
   },
   "source": [
    "# Tiling"
   ]
  },
  {
   "cell_type": "markdown",
   "metadata": {
    "id": "5Xu39aJcNz2p"
   },
   "source": [
    "````{prf:theorem} \n",
    "The Tiling problem is undecidable.\n",
    "````"
   ]
  },
  {
   "cell_type": "markdown",
   "metadata": {
    "id": "F-pW5WPAOQI1"
   },
   "source": [
    "````{admonition} Proof\n",
    ":class: tip\n",
    "Here is the proof.  We know that the halting problem is undecidable for 1# programs which are tidy and which only use R1.\n",
    "````"
   ]
  },
  {
   "cell_type": "code",
   "execution_count": null,
   "metadata": {
    "id": "1L_4aJ2oNzDa"
   },
   "outputs": [],
   "source": []
  }
 ],
 "metadata": {
  "colab": {
   "authorship_tag": "ABX9TyO4TD323AD1h5StLSEz/Btl",
   "include_colab_link": true,
   "provenance": []
  },
  "kernelspec": {
   "display_name": "Python 3",
   "name": "python3"
  },
  "language_info": {
   "name": "python"
  }
 },
 "nbformat": 4,
 "nbformat_minor": 0
}