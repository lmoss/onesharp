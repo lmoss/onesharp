{
 "cells": [
  {
   "cell_type": "markdown",
   "metadata": {
    "colab_type": "text",
    "id": "view-in-github"
   },
   "source": [
    "<a href=\"https://colab.research.google.com/github/lmoss/onesharp/blob/main/more_programs/sanity.ipynb\" target=\"_parent\"><img src=\"https://colab.research.google.com/assets/colab-badge.svg\" alt=\"Open In Colab\"/></a>"
   ]
  },
  {
   "cell_type": "markdown",
   "metadata": {
    "id": "kG-CqHl2esSx"
   },
   "source": [
    "# Tools to help write programs"
   ]
  },
  {
   "cell_type": "markdown",
   "metadata": {
    "id": "LKMj7KdP0_vi"
   },
   "source": [
    "The main tool here is a Python program called Sanity.\n",
    "This tool makes it easier for someone to organize 1# programs and to write them without having to count lines for all of the forward- and backward-transfer statements.\n",
    "\n",
    "The concept and the name come from Jon Bowman, who once took my class and felt that construction 1# programs by hand was crazy, and that counting all the 1's in a long expression \"made his eyeballs bleed.\"\n",
    "\n",
    "To start, run the next code cell to install the 1# Python package in your Colab environment. Then run the second code cell to import the functions from the 1# package which are used in this notebook."
   ]
  },
  {
   "cell_type": "code",
   "execution_count": null,
   "metadata": {
    "id": "i2pvp3dz9io_"
   },
   "outputs": [],
   "source": [
    "!python -m pip install -U setuptools\n",
    "!python -m pip install -U git+https://github.com/lmoss/onesharp.git@main"
   ]
  },
  {
   "cell_type": "code",
   "execution_count": null,
   "metadata": {
    "id": "SwhANNcC-s2o"
   },
   "outputs": [],
   "source": [
    "from onesharp.interpreter.interpreter import onesharp\n",
    "from onesharp.tools.sanity import sanity\n",
    "from onesharp.tools.ones import ones\n",
    "from onesharp.programs.clear import clear\n",
    "from onesharp.programs.move import move\n",
    "from onesharp.programs.copy import copy\n",
    "from onesharp.programs.successor import successor\n",
    "from onesharp.programs.compare import compare\n",
    "from onesharp.programs.add import add"
   ]
  },
  {
   "cell_type": "markdown",
   "metadata": {
    "id": "ist0RI8rH78c"
   },
   "source": [
    "As a way to show what the tool does, we'll go through an example.  Let's write a program that takes a word \n",
    "\n",
    "$$ w = w_1 w_2 \\cdots w_n $$\n",
    "\n",
    "in R1 and reverses it.  \n",
    "Here is a *flowchart* for the program which we'll write:\n",
    "<img src=\"https://github.com/lmoss/onesharp/blob/main/more_programs/reverse_idea.jpg?raw=1\" width=\"100%\" height=\"100%\">\n",
    "Our program will work as follows.   It processes the letters in $w$ in order, using the loop shown in the top part of the flowchart. \n",
    "\n",
    "At the end of the $i$th iteration, we'll have $w_{i+1}\\cdots w_n$ in R1, and its prefix will be in R2 *backwards*: $w_{i}\\cdots w_2 w_1$.  \n",
    "Let's now consider what happens when we run the $(i+1)$-st iteration of the loop.  We have cases on the first symbol of R1, and we know that this is $w_{i+1}$.   If that first symbol is a $\\one$, we write it into R3, and then we move R2 onto the end of R3\n",
    "(emptying out R2) and then R3 is moved back go R2.  On the assumption that R2 had  $w_{i}\\cdots w_2 w_1$ before this iteration,\n",
    "it now has  $w_{i+1} w_{i}\\cdots w_2 w_1$.   The same thing happens if the first symbol in R1 was $\\hash$.  Finally, if R1 was empty,\n",
    "we would go to the bottom of the flowchart.  In this case,\n",
    "R2 would have $w_{n}\\cdots w_2 w_1$.  (This is what we want; it is the original input reversed.) And the flowchart indicates that we should move R2 back into R1.  So we are done.\n",
    "\n",
    "\n",
    "\n",
    "With this in mind, have a look at the following Python list called  'reverse_idea'.  It is a list of 8 arrays, and each of them is of a special form."
   ]
  },
  {
   "cell_type": "code",
   "execution_count": null,
   "metadata": {
    "id": "2FAj2rCASO0z"
   },
   "outputs": [],
   "source": [
    "reverse_idea = [\n",
    "    ['top', 'cases', 1, 'move_back', 'one_found', 'sharp_found'],\n",
    "    ['one-found','111#'],\n",
    "    ['goto', 'move_phase'],\n",
    "    ['sharp_found',  '111##'],\n",
    "    ['goto', 'move_phase'],\n",
    "    ['move_phase', move(2,3) + move(3,2)],\n",
    "    ['goto', 'top'],\n",
    "    ['move_back', move(2,1)]\n",
    "]"
   ]
  },
  {
   "cell_type": "markdown",
   "metadata": {
    "id": "EpHIPlFKzxIR"
   },
   "source": [
    "We have here 8 *segments*.   A segment is not the same what we called a *line* of a $\\one\\hash$ program.  As the name suggests, a segment corresponds to a sequence of lines.\n",
    "For example, segments 6 and 8 each contain ```move``` programs that are bigger than a single instruction.  Segments 2, 4 5, and 6 each begin with a *label*.  Labels are strings that other parts of the program could point to.  For example, the first segment is a case statement $\\one\\hash^5$, and it also contains the information that if R1 is empty, we should go to whichever segmet has the label \"move_phase\". (That would be the segment named 'move_stuff_around'.) The first segment also tells us that if R1 begins with $\\one$ we should (delete is and) go to the segment containing 'first-is_one'.   Note also that 'goto' is not a label.  \n",
    "\n",
    "Also, note that a segment is not quite the samething as an item in the flowchart.   But this is pretty close.  \n",
    "\n",
    "\n"
   ]
  },
  {
   "cell_type": "markdown",
   "metadata": {
    "id": "58MVrwGbagCK"
   },
   "source": [
    "## Workflow\n",
    "\n",
    "The workflow in this notebook is that you will need to \n",
    "\n",
    "(a) think about things deeply enough to make a correct flowchart\n",
    "\n",
    "(b) draw that flowchart, either with pencil and paper or with some tool (as I did here)\n",
    "\n",
    "(c) make an \"idea\" for the desired program using the flowchart\n",
    "\n",
    "(d) call a Python program called ```sanity``` on the \"idea\" to get a $\\one\\hash$ program which you can then run.\n",
    "\n"
   ]
  },
  {
   "cell_type": "code",
   "execution_count": null,
   "metadata": {
    "colab": {
     "base_uri": "https://localhost:8080/",
     "height": 53
    },
    "id": "x64PWiqbzzv9",
    "outputId": "8ff1e323-826f-47f7-cd54-a0f10b47b366"
   },
   "outputs": [
    {
     "data": {
      "application/vnd.google.colaboratory.intrinsic+json": {
       "type": "string"
      },
      "text/plain": [
       "'1#####1111111111111111111111###11###111###111#111###111##1###11#####11111 1###111###111##1111####111#11111 1####111#####11111 1###111###11##1111####11#11111 1####1111111111111111111111####11#####11111 1###111###1##1111####1#11111 1####'"
      ]
     },
     "execution_count": 4,
     "metadata": {},
     "output_type": "execute_result"
    }
   ],
   "source": [
    "# example\n",
    "\n",
    "rev = sanity(reverse_idea)\n",
    "\n",
    "# This run 'sanity' on 'reverse_idea', calling the result 'rev'.\n",
    "# We can refer to it in the rest of this notebook by 'rev'.\n",
    "# For example we can display our new program\n",
    "rev"
   ]
  },
  {
   "cell_type": "markdown",
   "metadata": {
    "id": "1FAIHp4R00ni"
   },
   "source": [
    "Now the program which we just constructed can be run, as usual:"
   ]
  },
  {
   "cell_type": "code",
   "execution_count": null,
   "metadata": {
    "colab": {
     "base_uri": "https://localhost:8080/",
     "height": 35
    },
    "id": "OBRTkqiXxpCC",
    "outputId": "8618a18e-3421-47d9-d710-73df01e142a2"
   },
   "outputs": [
    {
     "data": {
      "application/vnd.google.colaboratory.intrinsic+json": {
       "type": "string"
      },
      "text/plain": [
       "'####1'"
      ]
     },
     "execution_count": 5,
     "metadata": {},
     "output_type": "execute_result"
    }
   ],
   "source": [
    "onesharp(rev,['1####'])"
   ]
  },
  {
   "cell_type": "code",
   "execution_count": null,
   "metadata": {
    "colab": {
     "base_uri": "https://localhost:8080/",
     "height": 35
    },
    "id": "WUTd0u_iG-A-",
    "outputId": "bdb5a36c-eaaa-4f6e-82f5-fe507e4bc11b"
   },
   "outputs": [
    {
     "data": {
      "application/vnd.google.colaboratory.intrinsic+json": {
       "type": "string"
      },
      "text/plain": [
       "'1#####111###111###111###111###11111####111111####'"
      ]
     },
     "execution_count": 6,
     "metadata": {},
     "output_type": "execute_result"
    }
   ],
   "source": [
    "# Here is a way to write the program 'clear_1':\n",
    "sanity([\n",
    "    ['top', 'cases',1,'empty', 'one','hash'],\n",
    "    ['empty', 'goto', 'end'],\n",
    "    ['one','goto', 'top'],\n",
    "    ['hash', 'goto', 'top'],\n",
    "])"
   ]
  },
  {
   "cell_type": "markdown",
   "metadata": {
    "id": "45YVqabS_q0y"
   },
   "source": [
    "# The inputs to ```sanity```\n",
    "\n",
    "In order to use the tool, we have clarify what we mean by *segments* and *labels*.\n",
    "\n",
    "```{admonition} What may go into a segment?\n",
    ":class: attention\n",
    "\n",
    "A segment is a Python list: it must be surrounded by square brackects.\n",
    "\n",
    "A segment can be snippet of 1# code surrounded by quotes.  \n",
    "\n",
    "A segment can be a Python expression like \n",
    "```move_3_1 + move_2_1```\n",
    "that denotes a 1# word.  (These expressions must be defined before you run ```sanity```, or you will get an error.)\n",
    "\n",
    "A segment can have 'add1' or 'add#' followed by a number (without quotes).  This number is a register number.\n",
    "\n",
    "A segment may be the word 'cases' followed by a number and then three labels.\n",
    " \n",
    "A segment may optionally begin with a *label* like 'top', or 'moveback', and then it either consists of a snippet of $\\one\\hash$ code surrounded by single quotes, or a Python expression that denotes a snippet of $\\one\\hash$ code\n",
    "```\n",
    "\n",
    "\n",
    "```{admonition} labels\n",
    ":class: attention\n",
    "\n",
    "A label may be a word of English, and it may have the underscore symbol, but it should not have spaces.  It must be surrounded by quotes.  \n",
    "\n",
    "A label must not begin with '1' or '#, and it must not be one of the strings 'goto', 'end', 'add1', or 'add#'.\n",
    "\n",
    "*Labels are optional*, except a \"cases\" instruction\n",
    "must have a number and then three labels.   The number is for a register.   So \"cases on register 17\" would correspond to \n",
    "a segment with the number 17 as its third entry.\n",
    "\n",
    "Another label which may be used is 'goto'.\n",
    "A use of 'goto' must be followed either by a label or the word 'end'.\n",
    "\n",
    "\n",
    "\n",
    "Every label used inside a 'cases' or 'goto' statement must be the first label in some segment.  Otherwise, ```sanity``` will raise an error.\n",
    "```"
   ]
  },
  {
   "cell_type": "markdown",
   "metadata": {
    "id": "vLnAtJzeDwkJ"
   },
   "source": [
    "Here is another example, another derivation of the \"diag\" program which we have seen earlier."
   ]
  },
  {
   "cell_type": "code",
   "execution_count": null,
   "metadata": {
    "id": "hh-cJEpjVYQ7"
   },
   "outputs": [],
   "source": [
    "dg_idea = [\n",
    "    ['top','cases',1,'empty', 'one','hash'],\n",
    "    ['empty', 'goto', 'moveback'],\n",
    "    ['one', 'add1', 2],\n",
    "    ['111#111##'],\n",
    "    ['goto', 'top'],\n",
    "    ['hash', 'add#', 2],\n",
    "    ['111#111##111##'],\n",
    "    ['goto', 'top'],\n",
    "    ['moveback', move(3,1)+move(2,1)] \n",
    "]\n",
    "dg = sanity(diag_idea)"
   ]
  },
  {
   "cell_type": "code",
   "execution_count": null,
   "metadata": {
    "colab": {
     "base_uri": "https://localhost:8080/",
     "height": 35
    },
    "id": "EMfyqkmNV5hm",
    "outputId": "e9061339-5c94-42fa-8a99-395bf074b80b"
   },
   "outputs": [
    {
     "data": {
      "application/vnd.google.colaboratory.intrinsic+json": {
       "type": "string"
      },
      "text/plain": [
       "'1#1#1##11#'"
      ]
     },
     "execution_count": 8,
     "metadata": {},
     "output_type": "execute_result"
    }
   ],
   "source": [
    "onesharp(dg,['11#'])"
   ]
  },
  {
   "cell_type": "markdown",
   "metadata": {
    "id": "ZM8aBsOpbn6x"
   },
   "source": [
    "### Examples of segments:\n",
    "\n",
    "    ['top','cases',1,'empty', 'one_found','hash_found'],\n",
    "    ['empty', 'goto', 'moveback'],\n",
    "    ['one_found', 'add1', 2],\n",
    "    ['111#111##'],\n",
    "    ['goto', 'top'],\n",
    "    ['hash_found', 'add#', 2],\n",
    "    ['111#111##111##'],\n",
    "    ['goto', 'end'],\n",
    "    ['moveback', move(3,1)+move(2,1)]\n",
    "  \n"
   ]
  },
  {
   "cell_type": "markdown",
   "metadata": {
    "id": "CHiDS-cteu2Y"
   },
   "source": [
    "### Further programs and exercises"
   ]
  },
  {
   "cell_type": "code",
   "execution_count": null,
   "metadata": {
    "colab": {
     "base_uri": "https://localhost:8080/",
     "height": 35
    },
    "id": "l_A-morkdi8R",
    "outputId": "aab663f3-79f8-4f3c-d93f-142be6c384c7"
   },
   "outputs": [
    {
     "data": {
      "application/vnd.google.colaboratory.intrinsic+json": {
       "type": "string"
      },
      "text/plain": [
       "'1111'"
      ]
     },
     "execution_count": 9,
     "metadata": {},
     "output_type": "execute_result"
    }
   ],
   "source": [
    "# This code cell contains a Sane program which multiplies the contents of\n",
    "#   registers one and two and stores the product back into register one\n",
    "\n",
    "sane_multiply = [\n",
    "  [move(1,4)],\n",
    "  ['1##'],\n",
    "  [copy(2,5,10)],\n",
    "  ['111##'],\n",
    "  [copy(3,6,10)],\n",
    "  [compare(2,3)],\n",
    "  ['multiply_loop', 'cases', 2, 'empty', 'one', 'sharp'],\n",
    "    ['empty', copy(4,7,10)],\n",
    "      [add(1,4,10)],\n",
    "      [move(7,4)],\n",
    "      [copy(5,2,10)],\n",
    "      [successor(6,10)],\n",
    "      [copy(6,3,10)],\n",
    "      [compare(2,3)],\n",
    "      ['goto', 'multiply_loop'],\n",
    "    ['one', 'goto', 'epilogue'],\n",
    "    ['sharp', 'goto', 'end'], # We shouldn't reach here because cmp shold never\n",
    "                              #   write sharp into register two\n",
    "  ['epilogue', clear(4)],\n",
    "    [clear(5)],\n",
    "    [clear(6)]\n",
    "]\n",
    "onesharp_multiply = sanity(sane_multiply)\n",
    "onesharp(onesharp_multiply, ['11', '1#1']) # 11*1#1 = 1111 <==> 3*5 = 15"
   ]
  },
  {
   "cell_type": "code",
   "execution_count": null,
   "metadata": {
    "colab": {
     "base_uri": "https://localhost:8080/",
     "height": 35
    },
    "id": "gPm5rsTUdjfy",
    "outputId": "c804299f-8c27-4a58-f305-44267848a8eb"
   },
   "outputs": [
    {
     "data": {
      "application/vnd.google.colaboratory.intrinsic+json": {
       "type": "string"
      },
      "text/plain": [
       "'11##1111'"
      ]
     },
     "execution_count": 10,
     "metadata": {},
     "output_type": "execute_result"
    }
   ],
   "source": [
    "# This code cell contains a Sane program which exponentiates the contents of\n",
    "#   register one to the power of the contents of register two and stores the\n",
    "#   result back into register one\n",
    "\n",
    "sane_exponentiate = [\n",
    "  [move(1,14)],\n",
    "  [ones(11)+'#'],\n",
    "  [move(2,12)],\n",
    "  [copy(12,15,20)],\n",
    "  [ones(13)+'##'],\n",
    "  [copy(13,16,20)],\n",
    "  [compare(12,13)],\n",
    "  ['exponentiate_loop', 'cases', 12, 'empty', 'one', 'sharp'],\n",
    "    ['empty', move(11,1)],\n",
    "      [copy(14,2,20)],\n",
    "      [onesharp_multiply],\n",
    "      [move(1,11)],\n",
    "      [copy(15,12,20)],\n",
    "      [successor(16,20)],\n",
    "      [copy(16,13,20)],\n",
    "      [compare(12,13)],\n",
    "      ['goto', 'exponentiate_loop'],\n",
    "    ['one', 'goto', 'epilogue'],\n",
    "    ['sharp', 'goto', 'end'], # We shouldn't reach here because cmp shold never\n",
    "                              #   write sharp into register two\n",
    "  ['epilogue', move(11,1)],\n",
    "    [clear(14)],\n",
    "    [clear(15)],\n",
    "    [clear(16)]\n",
    "]\n",
    "onesharp_exponentiate = sanity(sane_exponentiate)\n",
    "onesharp(onesharp_exponentiate, ['11', '1#1']) # 11^1#1 = 11##1111 <==> 3^5 = 243"
   ]
  },
  {
   "cell_type": "code",
   "execution_count": null,
   "metadata": {
    "colab": {
     "base_uri": "https://localhost:8080/",
     "height": 35
    },
    "id": "a4H1SZi7XaTY",
    "outputId": "1d6afb43-19ec-485b-a4cc-884dae2c9bb5"
   },
   "outputs": [
    {
     "data": {
      "application/vnd.google.colaboratory.intrinsic+json": {
       "type": "string"
      },
      "text/plain": [
       "'1####1#11##11'"
      ]
     },
     "execution_count": 11,
     "metadata": {},
     "output_type": "execute_result"
    }
   ],
   "source": [
    "onesharp(onesharp_exponentiate, ['11', '###1']) # 11^###1 = 1####1#11##11 <==> 3^8 = 6561\n",
    "# 6561 base 2 is 1100110100001"
   ]
  },
  {
   "cell_type": "code",
   "execution_count": null,
   "metadata": {
    "id": "HCI5EAOgYAjt"
   },
   "outputs": [],
   "source": [
    "pre_pred = [\n",
    "   ['top', 'cases', 1, 'first_end', 'first_one', 'first_hash'],\n",
    "   ['first_one', 'cases', 1, 'hash_is_it', 'returnA','returnB'],\n",
    "   ['hash_is_it', '1##'],\n",
    "   ['goto', 'second_end'],\n",
    "   ['returnA', '11#11#'],\n",
    "   [move(1,2) + move(2,1)],\n",
    "   ['goto', 'end'], \n",
    "   ['returnB', '11#11##'],\n",
    "   [move(1,2) + move(2,1)],\n",
    "   ['goto', 'end'], \n",
    "   ['first_hash', 'cases', 1, 'first_end', 'hash_one', 'hash_hash'],\n",
    "   ['hash_one','11##'],\n",
    "   ['hash_hash','1###'],\n",
    "   ['second_end', '1111#'],\n",
    "   ['goto', 'end'],\n",
    "   ['first_end', '111#']\n",
    " ]"
   ]
  },
  {
   "cell_type": "code",
   "execution_count": null,
   "metadata": {
    "colab": {
     "base_uri": "https://localhost:8080/",
     "height": 210
    },
    "id": "6rACbr-pbKGK",
    "outputId": "dd044cf6-3a4d-4337-b3bc-71ff558a78e9"
   },
   "outputs": [
    {
     "name": "stdout",
     "output_type": "stream",
     "text": [
      "This is undefined.\n",
      "The register contents at the end are shown below.\n"
     ]
    },
    {
     "data": {
      "text/html": [
       "<style type=\"text/css\">\n",
       "#T_6135c_row0_col0, #T_6135c_row1_col0, #T_6135c_row2_col0, #T_6135c_row3_col0 {\n",
       "  background-color: #FFFFCC;\n",
       "  text-align: left;\n",
       "}\n",
       "</style>\n",
       "<table id=\"T_6135c_\" class=\"dataframe\">\n",
       "  <thead>\n",
       "    <tr>\n",
       "      <th class=\"blank level0\" >&nbsp;</th>\n",
       "      <th class=\"col_heading level0 col0\" >contents</th>\n",
       "    </tr>\n",
       "  </thead>\n",
       "  <tbody>\n",
       "    <tr>\n",
       "      <th id=\"T_6135c_level0_row0\" class=\"row_heading level0 row0\" >1</th>\n",
       "      <td id=\"T_6135c_row0_col0\" class=\"data row0 col0\" ></td>\n",
       "    </tr>\n",
       "    <tr>\n",
       "      <th id=\"T_6135c_level0_row1\" class=\"row_heading level0 row1\" >2</th>\n",
       "      <td id=\"T_6135c_row1_col0\" class=\"data row1 col0\" >#</td>\n",
       "    </tr>\n",
       "    <tr>\n",
       "      <th id=\"T_6135c_level0_row2\" class=\"row_heading level0 row2\" >3</th>\n",
       "      <td id=\"T_6135c_row2_col0\" class=\"data row2 col0\" ></td>\n",
       "    </tr>\n",
       "    <tr>\n",
       "      <th id=\"T_6135c_level0_row3\" class=\"row_heading level0 row3\" >4</th>\n",
       "      <td id=\"T_6135c_row3_col0\" class=\"data row3 col0\" >1</td>\n",
       "    </tr>\n",
       "  </tbody>\n",
       "</table>\n"
      ],
      "text/plain": [
       "<pandas.io.formats.style.Styler at 0x7f59f79ee4d0>"
      ]
     },
     "metadata": {},
     "output_type": "display_data"
    }
   ],
   "source": [
    "onesharp(sanity(pre_pred), ['#1'])"
   ]
  },
  {
   "cell_type": "markdown",
   "metadata": {
    "id": "sV84-_vxPGEm"
   },
   "source": [
    "Here is a derivation of a progam that takes the predecessor of a number written in backwards binary (bb) notation."
   ]
  },
  {
   "cell_type": "code",
   "execution_count": null,
   "metadata": {
    "id": "0RI_oHqycIE5"
   },
   "outputs": [],
   "source": [
    "pred = [\n",
    "     ['top','cases', 1, 'a', 'b','c'],   \n",
    "     ['a', 'goto', 'end'],\n",
    "     ['b', 'cases', 1, 'oe', 'oo', 'oh'],\n",
    "     ['oe', '1##'],\n",
    "     ['goto', 'end'],\n",
    "     ['oo', '11#11#'+move(1,2)+move(2,1)],\n",
    "     ['goto', 'main'],\n",
    "     ['oh', '11#11##'+move(1,2)+move(2,1)],\n",
    "     ['goto', 'main'],\n",
    "     ['c', 'cases', 1, 'he', 'ho', 'hh'],\n",
    "     ['he', '1##'],\n",
    "     ['goto', 'end'],\n",
    "     ['ho', '11##11#'+move(1,2)+move(2,1)],\n",
    "     ['goto', 'main'],\n",
    "     ['hh', '11##11##'+move(1,2)+move(2,1)],\n",
    "     ['goto', 'main'],    \n",
    "     ['main', 'cases', 1, 'empty', 'one','hash'],\n",
    "     ['empty', move(2,1)],\n",
    "     ['goto', 'end'],\n",
    "     ['one', '11##'],\n",
    "     [move(1,2) + move(2,1)],\n",
    "     ['goto', 'end'],\n",
    "     ['hash', '11#'],\n",
    "     ['borrowing', 'cases', 1, 'borrowing_empty', 'borrowing_one', 'borrowing_hash'],\n",
    "     ['borrowing_empty', move(2,1)],\n",
    "     ['goto', 'end'],\n",
    "     ['borrowing_one', '11##'],\n",
    "     [move(1,2) + move(2,1)],\n",
    "     ['goto', 'end'],\n",
    "     ['borrowing_hash', '11#'],\n",
    "     ['goto','borrowing']\n",
    "]"
   ]
  },
  {
   "cell_type": "code",
   "execution_count": null,
   "metadata": {
    "id": "It_-TCiJhyHx"
   },
   "outputs": [],
   "source": [
    "p1 = sanity(pred)\n"
   ]
  },
  {
   "cell_type": "code",
   "execution_count": null,
   "metadata": {
    "colab": {
     "base_uri": "https://localhost:8080/",
     "height": 35
    },
    "id": "wxlu8HIUhzxG",
    "outputId": "3553fa9e-9783-4f7c-e82b-7c29d9f9cca2"
   },
   "outputs": [
    {
     "data": {
      "application/vnd.google.colaboratory.intrinsic+json": {
       "type": "string"
      },
      "text/plain": [
       "'##'"
      ]
     },
     "execution_count": 16,
     "metadata": {},
     "output_type": "execute_result"
    }
   ],
   "source": [
    "onesharp(p1,['1#'])"
   ]
  },
  {
   "cell_type": "code",
   "execution_count": null,
   "metadata": {
    "colab": {
     "base_uri": "https://localhost:8080/",
     "height": 35
    },
    "id": "Ud4Qoo91uvd1",
    "outputId": "bf984a22-8bd9-43ab-db71-e7cdb725502f"
   },
   "outputs": [
    {
     "data": {
      "application/vnd.google.colaboratory.intrinsic+json": {
       "type": "string"
      },
      "text/plain": [
       "'#'"
      ]
     },
     "execution_count": 20,
     "metadata": {},
     "output_type": "execute_result"
    }
   ],
   "source": [
    "onesharp(pr,['1##'])"
   ]
  },
  {
   "cell_type": "code",
   "execution_count": null,
   "metadata": {
    "colab": {
     "base_uri": "https://localhost:8080/",
     "height": 122
    },
    "id": "qAuTowHCux8r",
    "outputId": "ed06ddeb-a1f7-4a49-bd61-ed435b9b1f99"
   },
   "outputs": [
    {
     "data": {
      "application/vnd.google.colaboratory.intrinsic+json": {
       "type": "string"
      },
      "text/plain": [
       "'1#####111###111###111111111111111111111111111111111111111111###11111111111111111111111111111111111111111111111111111111111111111111111111111111111111111111111111111111111111111111111111111111111111111111###1#####111###1111###11111111111111111111###1##11111111111111111111111111111111111111111111111111111111111111111111111111111111111111111111111111111111111111111111111111111111111111###11#11#1#####11111 1###111###11##1111####11#11111 1####11#####11111 1###111###1##1111####1#11111 1####1111111111111111111111111111111111111111111111111111111111###11#11##1#####11111 1###111###11##1111####11#11111 1####11#####11111 1###111###1##1111####1#11111 1####11111111111111111111111111111111111111111###1#####111###1111###11111111111111111111###1##1111111111111111111111111111111111111111111111111111111111111111111111111111111111111111111111###11##11#1#####11111 1###111###11##1111####11#11111 1####11#####11111 1###111###1##1111####1#11111 1####111111111111111111###11##11##1#####11111 1###111###11##1111####11#11111 1####11#####11111 1###111###1##1111####1#11111 1####1###1#####111###1111111111###1111111111111111111111111###11#####11111 1###111###1##1111####1#11111 1####111111111111111111111111111111111111111111111111###11##1#####11111 1###111###11##1111####11#11111 1####11#####11111 1###111###1##1111####1#11111 1####11111111111111111111111111111111###11#1#####111###1111111111###1111111111111111111111111###11#####11111 1###111###1##1111####1#11111 1####1111111111111111111###11##1#####11111 1###111###11##1111####11#11111 1####11#####11111 1###111###1##1111####1#11111 1####111###11#11111111111111111111111111111####1#####111###11111111###11111111111111111111111###1##11#####111###11####111####1111111111111111111###11#1#####11111 1###111###11##1111####11#11111 1####11#####11111 1###111###1##1111####1#11111 1####111###11##111111111111111111111111111####'"
      ]
     },
     "execution_count": 21,
     "metadata": {},
     "output_type": "execute_result"
    }
   ],
   "source": [
    "pr"
   ]
  }
 ],
 "metadata": {
  "colab": {
   "include_colab_link": true,
   "provenance": []
  },
  "kernelspec": {
   "display_name": "Python 3",
   "name": "python3"
  },
  "language_info": {
   "name": "python"
  }
 },
 "nbformat": 4,
 "nbformat_minor": 0
}