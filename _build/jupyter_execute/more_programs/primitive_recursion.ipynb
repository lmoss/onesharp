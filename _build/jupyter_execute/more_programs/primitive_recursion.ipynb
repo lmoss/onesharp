{
 "cells": [
  {
   "cell_type": "markdown",
   "metadata": {
    "colab_type": "text",
    "id": "view-in-github"
   },
   "source": [
    "<a href=\"https://colab.research.google.com/github/lmoss/onesharp/blob/main/more_programs/primitive_recursion.ipynb\" target=\"_parent\"><img src=\"https://colab.research.google.com/assets/colab-badge.svg\" alt=\"Open In Colab\"/></a>"
   ]
  },
  {
   "attachments": {},
   "cell_type": "markdown",
   "metadata": {
    "id": "zoYXkpsM4iOd"
   },
   "source": [
    "# Primitive recursion\n",
    "\n",
    "At this point, we have primarily discussed ```1#``` computability for functions of words.  Secondarily, we turned to computability of functions of numbers.  We say \"secondarily\" here, becasuse the definition was indirect: to define computability of functions on numbers, we went through the somewhat artificial device of ```1#```.   Since functions of numbers are so much more important than functions of words (at least to mathematics), we want to shift the focus in the subject.   We start with a re-consideration of what it means to \"compute in a simple sort of way\" on thge natural numbers.   Fairly soon, however, we return to ```1#``` to connect it to what we do here."
   ]
  },
  {
   "cell_type": "markdown",
   "metadata": {},
   "source": [
    "\n",
    "What I have here works: entering a primitive recursive term in the correct syntax, we can translate that term to a ```1#``` program. The work here is sub-optimal in the sense that the 1# program associated to a term uses way more registers than what seems to be necessary.  For example the program to determine whether or not an input number is prime uses 57 registers.   On top of that, the programs that come from this implementation are very slow.  My guess is that one or two applications of *memoization* should produce better ```1#``` code.  But I don't really know this.\n",
    "\n",
    "\n"
   ]
  },
  {
   "cell_type": "code",
   "execution_count": null,
   "metadata": {
    "id": "iIXa-nxyEp_F"
   },
   "outputs": [],
   "source": [
    "!python -m pip install -U setuptools\n",
    "!python -m pip install -U git+https://github.com/lmoss/onesharp.git@main\n",
    "from onesharp.interpreter.interpreter import *"
   ]
  },
  {
   "attachments": {},
   "cell_type": "markdown",
   "metadata": {},
   "source": [
    "# Primitive recursive functions\n",
    "\n",
    "```{admonition} Definition\n",
    "_Primitive recursive functions_ are functions $N^k\\to N$, where $N$ is the set of natural numbers.   So there are primitive functions of arity $1$, $2$, etc.  There are also primitive recursive functions of arity $0$ (for a technical reason.)\n",
    "\n",
    "_Primitive recursive terms_ are terms that denote primitive recursive functions.\n",
    "\n",
    "We start with _basic primitive recursive functions_, as shown below:\n",
    "\n",
    "\n",
    "```z``` : this is the one-place function with value 0.\n",
    "\n",
    "```z_empty```: this is the zero-place function with value 0.\n",
    "\n",
    "```s``` : this is the one-place successor function: $f(n) = n+1$.\n",
    "\n",
    "```[proj, i, j]``` with i <= j: this is the ith projection on j variables.\n",
    "\n",
    "\n",
    "\n",
    "Every primitive recursive function $f$ has a fixed _arity_. That is, if $f$ has arity $k$, then  $f: N^k\\to N$. \n",
    "\n",
    "The way to understand the definition is that primitive recursive functions come with *trees* that show how they are built from the basic primitive recursive functions using the constructors of composition and primitive recursion."
   ]
  },
  {
   "attachments": {},
   "cell_type": "markdown",
   "metadata": {},
   "source": [
    "```{admonition} Example\n",
    "\n",
    "Here is the tree for a primitive recursive function:\n",
    "\n",
    "\n",
    "<img src=\"https://github.com/lmoss/onesharp/blob/main/issues/pictures/add_syntax_tree.png?raw=1\"  width=\"180\" height=\"200\">\n",
    "\n",
    "Now we claim that this tree denotes the addition function $f(m,n) = m+n$.  To see this, we first note that the *comp* node denotes\n",
    "\n",
    "$$\n",
    "g(x,y,z) = s(pr^3_3(x,y,z)) = s(z)\n",
    "$$\n",
    "\n",
    "Then the top of our tree denotes the function\n",
    "\n",
    "$$\n",
    "\\begin{array}{lclcl}\n",
    "f(m,n) & = &  prog^1_1(n) & = & n\\\\\n",
    "f(m,n+1)  & = & g(m,n,f(m,n)) & = & f(m,n) + 1\n",
    "\\end{array}\n",
    "$$\n",
    "\n",
    "Then an easy induction shows that $f(m,n) = m+n$ for all $n$.\n",
    "\n",
    "We presented this as if we drew the tree first and then figured out which function it denoted.  In practice, of course, one goest the other way: start with a function of interest, and then craft a tree for it.\n",
    "\n",
    "```"
   ]
  },
  {
   "attachments": {},
   "cell_type": "markdown",
   "metadata": {},
   "source": [
    "```{admonition} Example\n",
    "\n",
    "The tree for multiplication is built on top of the one for addition:\n",
    "\n",
    "<img src=\"https://github.com/lmoss/onesharp/blob/main/issues/pictures/mul_prelim_syntax_tree.png?raw=1\"  width=\"200\" height=\"200\">\n",
    "\n",
    "But we could exhibit a single tree for multiplication that \"goes all the way\" and uses as leaves only the basic building blocks of primitive recursive functions:\n",
    "\n",
    "<img src=\"https://github.com/lmoss/onesharp/blob/main/issues/pictures/mul_full_syntax_tree.png?raw=1\"  width=\"260\" height=\"300\">\n",
    "\n",
    "We just replaced the red node labeled \"add\" with its tree.\n",
    "```\n",
    "\n"
   ]
  },
  {
   "attachments": {},
   "cell_type": "markdown",
   "metadata": {},
   "source": [
    "```{admonition} Example\n",
    "\n",
    "Here is the tree for exponentiation built on top of multiplication:\n",
    "\n",
    "<img src=\"https://github.com/lmoss/onesharp/blob/main/issues/pictures/exp_prelim_syntax_tree.png?raw=1\"  width=\"250\" height=\"250\">\n",
    "\n",
    "As always, we could take things all the way and make one big tree that shows how to build exponentiation from zero, successor, and the projections, using composition and primitive recursion.\n",
    "\n",
    "<img src=\"https://github.com/lmoss/onesharp/blob/main/issues/pictures/exp_syntax_tree.png?raw=1\" width=\"70%\" height=\"70%\">\n",
    "\n",
    "```"
   ]
  },
  {
   "attachments": {},
   "cell_type": "markdown",
   "metadata": {
    "id": "CBnf-DAjkfAw"
   },
   "source": [
    "# Terms for primitive recursive functions\n",
    "\n",
    "We want to distinguish between the trees and the functions which they denote (just as we were careful to do with programs).\n",
    "\n",
    "Our next step is to \"squash\" the trees in order to make *PR terms*.   These are syntactic objects, they are basically just a representation of the trees that we have seen.  Here is a formal definition.\n",
    "\n",
    "```{admonition} Definition\n",
    "\n",
    "We define PR terms together with their arities, and also their denotations.  \n",
    "\n",
    "```z``` : this is the term of arity $1$.   It's denotation is the constant function  with value 0.\n",
    "\n",
    "```z_empty```: this is the zero-place function with value 0.\n",
    "\n",
    "```s``` : this is the one-place successor function: $f(n) = n+1$.\n",
    "\n",
    "```[proj, i, j]``` with i <= j: this is the ith projection on j variables.\n",
    "\n",
    "The two term constructors are\n",
    "\n",
    "```[comp, f, g_1, . . . , g_k]```\n",
    "\n",
    "```[pr, f, g]```\n",
    "\n",
    "In these, ```comp``` stands for composition, and ```pr``` stands for primitive recursion.\n",
    "\n",
    "In the composition term ```[comp, f, g_1, . . . , g_k]```, all the terms ```g_i``` must have the same arity, say $n$.  The term ```f``` must have arity $k$ (the number of $g$s).  The term ```[comp, f, g_1, . . . , g_k]``` has arity $n$.  The function which this term denotes is defined as follows.\n",
    "For numbers $\\overline{x} = x_1$, $\\ldots$, $x_n$, \n",
    "\n",
    "$$\n",
    "\\begin{array}{lcl}\n",
    "[comp, f, g_1, . . . , g_k](\\overline{x})  & = &\n",
    "f(g_1(\\overline{x}), \\ldots, g_k(\\overline{x})).\n",
    "\\end{array}\n",
    "$$\n",
    "\n",
    "For the primitive recursive terms \n",
    "```[pr, f, g]```, we require that there is a number $n$ such that \n",
    "the arity of $f$ is $n-1$ and the arity of $g$ is $n+1$.  Then the \n",
    "arity of the term \n",
    "```[pr, f, g]``` is $n$.  Its denotation is the function with the following properties:\n",
    "\n",
    "$$\n",
    "\\begin{array}{lcl}\n",
    "[pr, f, g](\\overline{x},0) & = & f(\\overline{x})\\\\\n",
    "[pr, f, g](\\overline{x},m+1) & =  & g(\\overline{x},m,[pr, f, g](\\overline{x},m))\\\\\n",
    "\\end{array}\n",
    "$$\n",
    "\n",
    "```"
   ]
  },
  {
   "cell_type": "code",
   "execution_count": null,
   "metadata": {},
   "outputs": [],
   "source": [
    "\n",
    "add = [pr,[proj,1,1], [comp, s, [proj, 3,3]]]\n",
    "\n",
    "mul = [pr, z, [comp, add,[proj, 3,3],[proj, 1, 3]] ]\n",
    "\n",
    "exp = [pr, [comp, s, z], [comp, mul, [proj, 3,3],[proj, 1, 3]] ]\n",
    "\n",
    "pred = [pr, z_empty, [proj,1,2]]\n",
    "\n",
    "monus = [pr, [proj, 1,1], [comp, pred, [proj,3,3]]]\n",
    "\n",
    "two_place_fn_value_one = [comp, s,[comp,z,[proj,1,2]]]  \n",
    "\n",
    "zero_place_fn_value_one = [comp, s, z_empty]  \n",
    "\n",
    "sgn =[pr, z_empty,two_place_fn_value_one]\n",
    "\n",
    "sgn_bar =[pr, zero_place_fn_value_one, [comp,z,[proj,1,2]]]\n",
    "\n",
    "chi_greater = [comp,sgn, monus] ## characteristic function of >\n",
    "\n",
    "chi_lesser_or_equal = [comp,sgn_bar, monus] #|characteristic function of (> or =)\n",
    "\n",
    "chi_lesser = [comp,chi_greater,[proj,2,2],[proj,1,2]] ## characteristic function of <\n",
    "\n",
    "chi_greater_or_equal = [comp, chi_lesser_or_equal,[proj,2,2],[proj,1,2]] ## characteristic function of >=\n",
    "\n",
    "chi_equals = [comp, mul, chi_lesser_or_equal, chi_greater_or_equal ]"
   ]
  },
  {
   "attachments": {},
   "cell_type": "markdown",
   "metadata": {
    "id": "ogs0-uW546Fu"
   },
   "source": [
    "# Converting PR terms to ```1#``` programs\n",
    "\n",
    "In a code cell, we can take the PR terms defined above and convert them to ```1#``` code using the Python function ```program```."
   ]
  },
  {
   "cell_type": "code",
   "execution_count": null,
   "metadata": {},
   "outputs": [],
   "source": [
    "program(add)"
   ]
  },
  {
   "cell_type": "code",
   "execution_count": null,
   "metadata": {},
   "outputs": [],
   "source": [
    "onesharp(program(add), ['11','#1#1'])"
   ]
  },
  {
   "cell_type": "code",
   "execution_count": null,
   "metadata": {
    "id": "lU14F6O4vSha"
   },
   "outputs": [],
   "source": [
    "onesharp(program(exp),['111','111'])"
   ]
  },
  {
   "attachments": {},
   "cell_type": "markdown",
   "metadata": {
    "id": "MokJmb7SKZWl"
   },
   "source": [
    "## Other functions in this notebook\n",
    "\n",
    "\n",
    "Here are some other functions in this notebook:\n",
    "\n",
    "\n",
    "\n",
    "```arity(t)```\n",
    "\n",
    "```program(t)```\n",
    "\n",
    "```in_place_program(t)```\n",
    "\n",
    ":::{note}\n",
    " The in_place_programs in this notebook do not halt in the sense   Instead, they _preserve their inputs_.  \n",
    ":::\n",
    " \n",
    "\n",
    " For example, run the program associated with _add_ below as shown below it.  (That is, take away the # from the beginning of the lines after the definition. The 2 inputs are preserved and the result goes in register 3.)\n"
   ]
  },
  {
   "attachments": {},
   "cell_type": "markdown",
   "metadata": {
    "id": "MOnUagBqmZcN"
   },
   "source": [
    "## Syntax check\n",
    "\n",
    "You can enter a line like the ones below to check that an expression really is a term, or to find an error.\n",
    "\n",
    "The output can be long because the function ```syntax_check``` is recursive, and thus reports information about all the subterms of whatever you enter.\n",
    "\n"
   ]
  },
  {
   "cell_type": "code",
   "execution_count": null,
   "metadata": {
    "id": "i8k3cpbnmTP8"
   },
   "outputs": [],
   "source": [
    "#print(exp)\n",
    "\n",
    "syntax_check(mul)\n",
    "#syntax_check([comp, mul, mul])"
   ]
  },
  {
   "cell_type": "markdown",
   "metadata": {
    "id": "_AmeKAvIo_8I"
   },
   "source": [
    "![](https://github.com/lmoss/onesharp/blob/main/images/drum.png?raw=1)"
   ]
  },
  {
   "cell_type": "markdown",
   "metadata": {
    "id": "VYhKczwJrC2A"
   },
   "source": [
    "<img src=\"https://github.com/lmoss/onesharp/blob/main/drum.jpg?raw=1\" width=\"200\" height=\"160\">"
   ]
  },
  {
   "cell_type": "code",
   "execution_count": null,
   "metadata": {
    "id": "8-rF8JUCcA6i"
   },
   "outputs": [],
   "source": [
    "### exercise 5b below\n",
    "g = [comp, chi_equals, [proj,2,3], [comp, mul, [proj,1,3],[proj,3,3]]] \n",
    "# g tells if first x third = second\n",
    "#print(arity(g))\n",
    "#print(onesharp(program(g),['11','1##1','11']))\n",
    "\n",
    "## for future use\n",
    "greater_than_one = [comp, chi_greater, [proj,1,1], [comp, s, z]]\n",
    "# gives output 1 if the input is >1 and gives output 0 if the input is 0 or 1\n",
    "\n",
    "first_and_third_greater_than_one = [comp, mul,\n",
    "                                      [comp, greater_than_one, [proj,1, 3]],\n",
    "                                      [comp, greater_than_one, [proj,3, 3]]\n",
    "                                     ]\n",
    "\n",
    "first_third_second_proper = [comp, mul, g, first_and_third_greater_than_one]\n",
    "# g tells if first x third = second, and both the first and third are >1\n",
    "\n",
    "#onesharp(program(first_third_second_proper),['11','#11','#1'])\n",
    "\n",
    "#onesharp(program(first_third_second_proper),['#','#','#1'])\n"
   ]
  },
  {
   "attachments": {},
   "cell_type": "markdown",
   "metadata": {
    "id": "JR0PXPDc_kfc"
   },
   "source": [
    "The next box will get h_proper so that h_proper(m,p,n) = 1 if m > 1 and for some q <= n,\n",
    "q > 1 and m q = p.   That is, I have changed h a litte so that it incorporates information about the \">1\" conditions."
   ]
  },
  {
   "cell_type": "code",
   "execution_count": null,
   "metadata": {
    "id": "PnfZFeChs9yO"
   },
   "outputs": [],
   "source": [
    "\n",
    "g3 = [comp, g, [proj, 1, 2], [comp, z, [proj, 1, 2]], [proj, 2, 2]]\n",
    "p = program(g3)\n",
    "onesharp(p, ['11','11111'])\n",
    "k1 = [comp, add, [proj,4,4], \n",
    "      [comp, first_third_second_proper, [proj,1,4], [proj,2,4], [comp,s, [proj,3,4]]]]\n",
    "k = [comp, sgn, k1] \n",
    "\n",
    "h_proper = [pr, g3, k1]\n",
    "\n",
    "#onesharp(program(h_proper),['11','11','11'])\n",
    "#onesharp(program(h_proper),['1#1','1111','11'])\n",
    "## this asks if there is a number <= 3 such that \n",
    "## (a) the number is > 1\n",
    "## and (b) if you multiply 5 by the number, you get 15.\n",
    "## Since there is such a number (namely 2), we output 1."
   ]
  },
  {
   "attachments": {},
   "cell_type": "markdown",
   "metadata": {},
   "source": [
    "## Checking to see if the first 15 numbers are prime or not"
   ]
  },
  {
   "cell_type": "code",
   "execution_count": null,
   "metadata": {
    "id": "5UQ8B4MD4L2j"
   },
   "outputs": [],
   "source": [
    "\n",
    "proper_divisor = [comp, h_proper, [proj,1,2], [proj,2,2], [comp, pred, [proj,2,2]]]\n",
    "\n",
    "pd_inverse_zero = [comp, proper_divisor, [proj,2,2],[proj,1,2]]\n",
    "pd_inverse = [comp, mul, pd_inverse_zero, [comp, greater_than_one, [proj,2,2]]]\n",
    "\n",
    "running_total_of_pd_inverse = [pr, [comp, z, [proj, 1, 1]], \n",
    "                                [comp, add, [proj, 3,3], \n",
    "                                [comp, pd_inverse, [proj, 1, 3], [proj,2, 3]]]]\n",
    "#print(arity([comp, add, [proj, 2,2], pd_inverse]))                                  \n",
    "#print(arity(running_total_of_pd_inverse))\n",
    "\n",
    "\n"
   ]
  },
  {
   "cell_type": "code",
   "execution_count": null,
   "metadata": {
    "id": "qDSOrIOKhxpV"
   },
   "outputs": [],
   "source": [
    "is_prime =[comp,sgn_bar, [comp, running_total_of_pd_inverse, [proj, 1,1], [proj, 1,1]]]\n",
    "prime_prog = program(is_prime)\n",
    "\n",
    "# Gives output 1 if the input is a prime,\n",
    "# and gives output # if the output is not a prime.\n",
    "\n",
    "list = ['1', '#1', '11', '##1', \n",
    "             '1#1', '#11', '111', '###1', \n",
    "            '1##1', '#1#1', '11#1', '##11', \n",
    "             '1#11', '#111', '1111']\n",
    "for i in range(15):\n",
    "  x = list[i]\n",
    "  b = onesharp(prime_prog,[list[i]])\n",
    "  if b == '1':\n",
    "    print(x + ' is prime')\n",
    "  else:\n",
    "    print(x + ' is not prime')  \n"
   ]
  }
 ],
 "metadata": {
  "colab": {
   "authorship_tag": "ABX9TyOWdNokFscxjuYlOPBVs+jr",
   "include_colab_link": true,
   "provenance": [],
   "toc_visible": true
  },
  "kernelspec": {
   "display_name": "Python 3",
   "name": "python3"
  },
  "language_info": {
   "name": "python"
  }
 },
 "nbformat": 4,
 "nbformat_minor": 0
}