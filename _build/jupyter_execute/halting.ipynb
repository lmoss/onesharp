{
 "cells": [
  {
   "cell_type": "markdown",
   "metadata": {
    "colab_type": "text",
    "id": "view-in-github"
   },
   "source": [
    "<a href=\"https://colab.research.google.com/github/lmoss/onesharp/blob/main/halting.ipynb\" target=\"_parent\"><img src=\"https://colab.research.google.com/assets/colab-badge.svg\" alt=\"Open In Colab\"/></a>"
   ]
  },
  {
   "cell_type": "markdown",
   "metadata": {
    "id": "_O7zlSPk4gLn"
   },
   "source": [
    "# How programs \"halt\"\n",
    "\n",
    "1# has programs with infinite loops such as \n",
    "\n",
    "```1###1####```\n",
    "\n",
    "This program never finishes. Most of the time, we are interested in programs which do finish. Actually, we are interested in programs which finish in a special way.\n",
    "\n",
    "We say that a program p *halts* if at some point during the execution of p, the control transfers to right below the last instruction of p. In more detail, suppose that p has n instructions. The formal definition is given below, after we discuss the remaining types of instructions.\n",
    "\n",
    "In contrast, we say that p *stops improperly* if at some point during the execution of p, the control tranfers either to a point before the beginning of p or to points more than one instruction beyond the last instruction of p.\n",
    "\n",
    "To see the difference, consider the following two programs:\n",
    "```11###``` and ```1#```\n",
    "\n",
    "The first says \n",
    "\"Go forward 2,\"\n",
    "and the second \n",
    "\"Add 1 to R1.\"\n",
    "\n",
    "\n",
    "The first halts, while the second stops improperly.\n",
    "\n"
   ]
  },
  {
   "cell_type": "markdown",
   "metadata": {
    "id": "6X3tQepK4o5Q"
   },
   "source": [
    "### Exercise 1 \n",
    "\n",
    "Which of the following programs halt when run on all empty registers? Which stop improperly? Why?\n",
    "\n",
    "1. 11###111###1####\n",
    "\n",
    "2. 11###111###11####\n",
    "\n",
    "3. 11###111###111####\n",
    "\n",
    "4. 1111###1111###1####11###11####\n",
    "\n",
    "[It would be better to try to solve this problem without running the programs.]"
   ]
  },
  {
   "cell_type": "markdown",
   "metadata": {
    "id": "6WiKrhKdWgHM"
   },
   "source": [
    "## Exercise 2\n",
    "\n",
    "Exercise 1 was concerned with programs run on all empty registers.  Find a program $p$ and words $w_1$, $w_2$, and $w_3$ so that \n",
    "\n",
    "(a) When started with $w_1$ in R1, $p$ halts improperly.\n",
    "\n",
    "(b) When started with $w_2$ in R1, $p$ halts improperly.\n",
    "\n",
    "(c) When started with $w_3$ in R1, $p$ goes into an infinite loop inside $p$."
   ]
  },
  {
   "cell_type": "markdown",
   "metadata": {
    "id": "EdMrlvMN4roC"
   },
   "source": [
    "### Halting: the formal definitions\n",
    "\n",
    "There are five ways that p could halt.\n",
    "\n",
    "1. Instruction n of p (the last instruction) is of the form ```1```<sup>$k$</sup>```#``` or ```1```<sup>$k$</sup>```##```, and at some point in the run of p, we reach this last instruction.\n",
    "\n",
    "2. Some instruction of p, say instruction number i, is of the form ```1```<sup>$k$</sup>```###```; and also i + k = n + 1; and finally that at some point in the run of p, we reach instruction i.\n",
    "\n",
    "3. Instruction n of p (the last instruction) is of the form form ```1```<sup>$k$</sup>```#####```, and at some point in the run of p, we reach this last instruction with Rk empty.\n",
    "\n",
    "4. Instruction n-1 of p (the next-to-last instruction) is of the form form ```1```<sup>$k$</sup>```#####```, and at some point in the run of p, we reach this instruction with Rk containing a word beginning with 1.\n",
    "\n",
    "5.  Instruction n-2 of p (the second-to-last instruction) is of the form form ```1```<sup>$k$</sup>```#####```,and at some point in the run of p, we reach this instruction with Rk containing a word beginning with #.\n"
   ]
  },
  {
   "cell_type": "markdown",
   "metadata": {
    "id": "ApkPT2AJlKBm"
   },
   "source": [
    "# Tidy programs\n",
    "\n",
    "We next come to an important definition concerning programs. \n",
    "\n",
    "Here are some examples of what we are after.  if the last line of a program $p$ is ```1#```, then that line transfers control outside of $p$, but only one line below the end. On the other hand, if a program $q$ has exactly $10$ lines, then we do not want line $8$ to be ```1111###```, since executing this line would take us to \"line 12\".  So a run of $q$ which reached line $8$ would not halt.\n",
    "We would prefer to rewrite $q$ to point to an infinite loop inside of the program.\n",
    "(There are reasons that we prefer programs to have explicit infinite loops instead of pointing to unwanted places.  One such reason appears in Exercise 4 below.  Other reasons for this preference will be revealed in due course.) What we are after here is a formal definition of tidiness, something that we will frequently use.\n",
    "\n",
    "We say that a program $p$ is *tidy* if no instruction can possibly take us outside the program, except for going \"one instruction below the end\" of $p$.  \n",
    "\n",
    "Here is the formal definition:  Suppose that $p$ has $N$ lines.  Here are the requirements for $p$ to be tidy:\n",
    "\n",
    "(a) If line $i$ is a forward transfer instruction \n",
    "```1```<sup>$k$</sup>```###```, then $i +k \\leq N+1$.\n",
    "\n",
    "(b) If line $i$ is a backward transfer instruction ```1```<sup>$k$</sup>```####```, then $i-k \\geq 1$.\n",
    "\n",
    "(c) If line $i$ is a case instruction ```1```<sup>$k$</sup>```#####```, then $k+2 \\leq N$.\n",
    "\n",
    "Here is a comment on condition (c).\n",
    "Suppose that $p$ had $N$ lines, and line $N$ were a case instruction\n",
    "```1```<sup>$k$</sup>```#####```. If Rk stared with a ```#```, then executing ```1```<sup>$k$</sup>```#####``` would take us to line $N+3$, and there is no such line.\n",
    "For the same reason, lines $N-1$ and $N-2$ cannot be case instructions.\n",
    "\n"
   ]
  },
  {
   "cell_type": "markdown",
   "metadata": {
    "id": "6w7fVBZFtwCz"
   },
   "source": [
    "### Strong equivalence\n",
    "\n",
    "Programs $p$ and $q$ are *strongly equivalent* if for all $n$ and all sequences $w_1, w_2, \\ldots, w_n$ of words, running $p$ with inputs $w_1, w_2, \\ldots, w_n$ and running $q$ with the same inputs would do the same thing: one of these would halt if and only if the other halted, and in this case the contents of all registers at the end is the same for both programs."
   ]
  },
  {
   "cell_type": "markdown",
   "metadata": {
    "id": "PUJKNfniuUe1"
   },
   "source": [
    "#Strong equivalence to tidy programs\n",
    "\n",
    "*Proposition* \n",
    "Every program is strongly equivalent to a tidy program."
   ]
  },
  {
   "cell_type": "markdown",
   "metadata": {
    "id": "s5a_V0Sauc4z"
   },
   "source": [
    "## Exercise 3\n",
    "\n",
    "Prove this proposition. (Alternatively, write a program in either Python or 1# which found a tidy version of an input program.)"
   ]
  },
  {
   "cell_type": "markdown",
   "metadata": {
    "id": "OzERbfSqs5CO"
   },
   "source": [
    "## Exercise 4\n",
    "\n",
    "If $p$ is tidy, show that $p$ is strongly equivalent to any program of the form\n",
    "\n",
    " ```1###``` ```1###``` $\\cdots$ ```1###``` ```p``` ```1###``` ```1### ```$\\cdots$ ```1###```\n",
    "\n",
    "Show that all three parts of the definition of tidiness are needed in order to show this fact.  \n"
   ]
  }
 ],
 "metadata": {
  "colab": {
   "authorship_tag": "ABX9TyMXmxcJbjPt14aHjsGVaFXh",
   "include_colab_link": true,
   "provenance": []
  },
  "kernelspec": {
   "display_name": "Python 3",
   "name": "python3"
  },
  "language_info": {
   "name": "python"
  }
 },
 "nbformat": 4,
 "nbformat_minor": 0
}