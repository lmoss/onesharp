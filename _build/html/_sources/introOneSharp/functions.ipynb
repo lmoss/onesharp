{
  "nbformat": 4,
  "nbformat_minor": 0,
  "metadata": {
    "colab": {
      "provenance": [],
      "authorship_tag": "ABX9TyM2FRuosixcDitBwtgv723L",
      "include_colab_link": true
    },
    "kernelspec": {
      "name": "python3",
      "display_name": "Python 3"
    },
    "language_info": {
      "name": "python"
    }
  },
  "cells": [
    {
      "cell_type": "markdown",
      "metadata": {
        "id": "view-in-github",
        "colab_type": "text"
      },
      "source": [
        "<a href=\"https://colab.research.google.com/github/lmoss/onesharp/blob/main/introOneSharp/functions.ipynb\" target=\"_parent\"><img src=\"https://colab.research.google.com/assets/colab-badge.svg\" alt=\"Open In Colab\"/></a>"
      ]
    },
    {
      "cell_type": "markdown",
      "source": [
        "```{math}\n",
        "\\newcommand{\\hash}{\\mbox{\\tt \\#}}\n",
        "\\renewcommand{\\one}{\\mbox{\\tt 1}}\n",
        "\\newcommand{\\diag}{\\texttt{diag}}\n",
        "\\newcommand{\\writeprog}{\\texttt{write}}\n",
        "\\renewcommand{\\phi}{\\varphi}\n",
        "\\newcommand{\\set}[1]{\\{ #1 \\}}\n",
        "\\newcommand{\\semantics}[1]{[\\![ #1]\\!]}\n",
        "\\newcommand{\\pair}[1]{\\langle #1 \\rangle}\n",
        "\\newcommand\\N{\\mathbb{N}}\n",
        "\\newcommand\\floor[1]{\\lfloor#1\\rfloor}\n",
        "\\newcommand{\\bmat}{\\left[\\begin{array}}\n",
        "\\newcommand{\\emat}{\\end{array}\\right]}\n",
        "\\usepackage{tikz}\n",
        "\\usetikzlibrary{arrows,shapes,snakes,automata,backgrounds,petri}\n",
        "```"
      ],
      "metadata": {
        "id": "lvT7jXn5_pC0"
      }
    },
    {
      "cell_type": "markdown",
      "source": [
        "# Functions defined by programs"
      ],
      "metadata": {
        "id": "nsBwZKyT_lo1"
      }
    },
    {
      "cell_type": "code",
      "source": [],
      "metadata": {
        "id": "JWpmSdGK_oOP"
      },
      "execution_count": null,
      "outputs": []
    }
  ]
}
