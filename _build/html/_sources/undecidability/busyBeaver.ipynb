{
  "nbformat": 4,
  "nbformat_minor": 0,
  "metadata": {
    "colab": {
      "provenance": [],
      "authorship_tag": "ABX9TyM74dIuFS/eNn8LRXJAQiUm",
      "include_colab_link": true
    },
    "kernelspec": {
      "name": "python3",
      "display_name": "Python 3"
    },
    "language_info": {
      "name": "python"
    }
  },
  "cells": [
    {
      "cell_type": "markdown",
      "metadata": {
        "id": "view-in-github",
        "colab_type": "text"
      },
      "source": [
        "<a href=\"https://colab.research.google.com/github/lmoss/onesharp/blob/main/undecidability/busyBeaver.ipynb\" target=\"_parent\"><img src=\"https://colab.research.google.com/assets/colab-badge.svg\" alt=\"Open In Colab\"/></a>"
      ]
    },
    {
      "cell_type": "markdown",
      "source": [
        "# The Busy Beaver Problem\n",
        "\n",
        "\n",
        "\n",
        "Let $BB(n)$ be the  largest number of $\\one$s produced by\n",
        " any $\\one\\hash$-program with $\\leq n$ \n",
        "instructions \n",
        "which halts properly.\n",
        "\n",
        "```{prf:theorem}\n",
        "There is no program $\\mathtt{beaver}$ such that \n",
        "for all $n$  \n",
        "\n",
        "$$\n",
        "\\begin{array}{lcl}\n",
        "\\phifn_{\\mathtt{beaver}}(\\one^n) & = & \\one^{BB(n)}\n",
        "\\end{array}\n",
        "$$\n",
        "```\n",
        "This is the statement for unary encoding of numbers,\n",
        "but the same result works for other encodings.\n",
        " \n",
        "```{prf:proof}\n",
        "Suppose that the $\\one\\hash$ program \n",
        "$\\mathtt{beaver}$ computed $BB$.\n",
        "\n",
        "\n",
        "Let $\\mathtt{square}$ be a $\\one\\hash$ program  to\n",
        " compute $n \\to n^2$, using unary notation.\n",
        "\n",
        "\n",
        "Consider the programs  $p_{n}$ for $n\\in N$, given by\n",
        "\n",
        "$$\n",
        "p_n \\quadeq (\\one\\hash)^{n} + \\mathtt{square} + \n",
        "\\mathtt{beaver} + \\one\\hash\n",
        "$$\n",
        "\n",
        "Then $\\phifn_{p_{n}}(\\ )$ halts and outputs $BB(n^2) + 1$ ones.\n",
        " \n",
        "\n",
        "Notice that the number of instructions in $p_n$ is *linear in $n$*.\n",
        "\n",
        "Let $N$ be large enough so that \n",
        "$N^2$ is larger than the number of instructions in $p_N$.\n",
        "Then\n",
        "\n",
        "$$\n",
        "\\begin{array}{lclclcl}\n",
        "BB(N^2) & \\geq  & \\phifn_{p_N}(\\ ) & = & BB(N^2) + 1 \\\\\n",
        "\\end{array}\n",
        "$$\n",
        "\n",
        "Contradiction!\n",
        "```\n",
        "\n",
        "```{exercise}\n",
        "A common estimate for the number of atoms in the universe is $M = 10^{82}$. \n",
        " Show that $BB(50) > M$.\n",
        "```"
      ],
      "metadata": {
        "id": "SPtLWTg-4pq-"
      }
    },
    {
      "cell_type": "markdown",
      "source": [],
      "metadata": {
        "id": "k0-izEyw4pzn"
      }
    },
    {
      "cell_type": "markdown",
      "source": [],
      "metadata": {
        "id": "O9xfSOWT4p2-"
      }
    }
  ]
}