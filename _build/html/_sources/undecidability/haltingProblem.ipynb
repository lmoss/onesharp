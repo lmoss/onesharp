{
  "nbformat": 4,
  "nbformat_minor": 0,
  "metadata": {
    "colab": {
      "provenance": [],
      "authorship_tag": "ABX9TyNQvIRSA2NqHOJvH+JaawkJ",
      "include_colab_link": true
    },
    "kernelspec": {
      "name": "python3",
      "display_name": "Python 3"
    },
    "language_info": {
      "name": "python"
    }
  },
  "cells": [
    {
      "cell_type": "markdown",
      "metadata": {
        "id": "view-in-github",
        "colab_type": "text"
      },
      "source": [
        "<a href=\"https://colab.research.google.com/github/lmoss/onesharp/blob/main/undecidability/haltingProblem.ipynb\" target=\"_parent\"><img src=\"https://colab.research.google.com/assets/colab-badge.svg\" alt=\"Open In Colab\"/></a>"
      ]
    },
    {
      "cell_type": "code",
      "execution_count": null,
      "metadata": {
        "id": "ShRvDqK9nVrO"
      },
      "outputs": [],
      "source": []
    },
    {
      "cell_type": "markdown",
      "source": [
        "# The halting problem\n",
        "\n",
        "We come to one of the most famous and most basic results in computability theory.\n",
        "\n",
        "```{prf:theorem}\n",
        "There is no program $p$ such that \n",
        "for all words $x$ and $y$,\n",
        "\n",
        "$$\\begin{array}{lcl}\n",
        "\\phifn^2_p(x,y) & = & \\left\\{\n",
        "\\begin{array}{ll}\n",
        "\\one & \\mbox{if $\\phifn_x(y)\\dar$}\\\\\n",
        "\\hash &  \\mbox{if $\\phifn_x(y)\\uparrow$}\n",
        "\\end{array}\n",
        "\\right.\n",
        "\\end{array}\n",
        "$$\n",
        "```\n",
        "\n",
        "Here is the proof.\n",
        "Suppose toward a contradiction that we had such a program $p$.\n",
        "Modifying $p$, we get a program $q$ so that for all $a$, \n",
        "\n",
        "$$\n",
        "\\begin{array}{lcl}\n",
        "\\phifn^1_q(a) & = & \\left\\{\n",
        "\\begin{array}{ll}\n",
        "\\uparrow & \\mbox{if $\\phifn_a(a)\\dar$}\\\\\n",
        "\\downarrow&  \\mbox{if $\\phifn_a(a)\\uparrow$}\n",
        "\\end{array}\n",
        "\\right.\n",
        "\\end{array}\n",
        "$$\n",
        "\n",
        "\n",
        "Here's how this would be done. \n",
        "Assume that $p$ preserves its input.\n",
        "Let $p$ have $k$ instructions.\n",
        "Let\n",
        "\n",
        "$$\n",
        "q \\quadeq \\copyprog_{1,2,3} + p +\n",
        "\\one^3\\hash^5\n",
        " + \\one^2 \\hash^3  \n",
        " + \\one^{k + 2} \\hash^4 \n",
        "$$\n",
        "\n",
        "But now, take $a$ to be $q$.\n",
        "Then \n",
        "\n",
        "$$\n",
        "\\phifn_q(q)\\dar   \\quadiff \\phifn_q(q)\\uparrow.\n",
        "$$\n",
        "\n",
        "Contradiction!\n"
      ],
      "metadata": {
        "id": "c9L0YAf_naB8"
      }
    },
    {
      "cell_type": "markdown",
      "source": [
        "```{tip}\n",
        "Look up [this setting of the proof](http://www.lel.ed.ac.uk/~gpullum/loopsnoop.html) by Geoffrey Pullum in the spirit of Dr. Seuss.\n",
        "```"
      ],
      "metadata": {
        "id": "x6-IIvg1vvzu"
      }
    },
    {
      "cell_type": "markdown",
      "source": [],
      "metadata": {
        "id": "fmMmWiZGnY-U"
      }
    },
    {
      "cell_type": "markdown",
      "source": [],
      "metadata": {
        "id": "fZm4iOYSnZKq"
      }
    },
    {
      "cell_type": "markdown",
      "source": [],
      "metadata": {
        "id": "rScrbdmgnZSn"
      }
    },
    {
      "cell_type": "markdown",
      "source": [],
      "metadata": {
        "id": "RVwndnnOnZXT"
      }
    }
  ]
}