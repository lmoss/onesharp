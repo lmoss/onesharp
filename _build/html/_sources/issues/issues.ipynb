{
  "nbformat": 4,
  "nbformat_minor": 0,
  "metadata": {
    "colab": {
      "provenance": [],
      "authorship_tag": "ABX9TyOjuj2nnPfh0zI8SN0tAFyM",
      "include_colab_link": true
    },
    "kernelspec": {
      "name": "python3",
      "display_name": "Python 3"
    },
    "language_info": {
      "name": "python"
    }
  },
  "cells": [
    {
      "cell_type": "markdown",
      "metadata": {
        "id": "view-in-github",
        "colab_type": "text"
      },
      "source": [
        "<a href=\"https://colab.research.google.com/github/lmoss/onesharp/blob/main/issues/issues.ipynb\" target=\"_parent\"><img src=\"https://colab.research.google.com/assets/colab-badge.svg\" alt=\"Open In Colab\"/></a>"
      ]
    },
    {
      "cell_type": "markdown",
      "source": [
        "# Computability"
      ],
      "metadata": {
        "id": "uFTD3oKx6RIc"
      }
    },
    {
      "cell_type": "markdown",
      "source": [],
      "metadata": {
        "id": "dFE0zRiD6nS_"
      }
    },
    {
      "cell_type": "markdown",
      "source": [
        "# Concrete and Abstract Models of Computation\n"
      ],
      "metadata": {
        "id": "F4vxa6Ay78gl"
      }
    },
    {
      "cell_type": "markdown",
      "source": [
        "# Finite vs. Infinite"
      ],
      "metadata": {
        "id": "-QXmHb7H74iU"
      }
    }
  ]
}