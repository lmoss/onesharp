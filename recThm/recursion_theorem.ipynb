{
 "cells": [
  {
   "attachments": {},
   "cell_type": "markdown",
   "metadata": {},
   "source": [
    "<a href=\"https://colab.research.google.com/github/lmoss/onesharp/blob/main/recThm/recursion_theorem.ipynb\" target=\"_parent\"><img src=\"https://colab.research.google.com/assets/colab-badge.svg\" alt=\"Open In Colab\"/></a>"
   ]
  },
  {
   "attachments": {},
   "cell_type": "markdown",
   "metadata": {},
   "source": [
    "# The Recursion Theorem\n",
    "\n",
    "This section generalizes what we just saw on self-writing programs to prove one of the cornerstone results of computability theory, Kleene's Second Recursion Theorem."
   ]
  },
  {
   "attachments": {},
   "cell_type": "markdown",
   "metadata": {},
   "source": [
    "```{prf:theorem}\n",
    ":label: recursion_theorem\n",
    "\n",
    "For every word $p$ there is some word $q^*$ so that for all $r$, $[\\![ q^*]\\!](r) \\simeq [\\![ p]\\!](q^*,r)$.\n",
    "```\n",
    "\n",
    "\n",
    "\n",
    "The basic idea in this proof is that $q^*$ should be a word of the form $[\\![\\hat{q}]\\!](\\hat{q})$.\n",
    "So we first write a program $\\hat{q}$ so that for all $r$ and all programs $x$ which mention only the first three registers,\n",
    "\n",
    "$$\n",
    "[\\![  [\\![\\hat{q}]\\!](x)]\\!](r) \\simeq [\\![p]\\!]([\\![x]\\!](x) ,r)\n",
    "$$\n",
    "\n",
    "\n",
    "\n",
    "Then we set $x = \\hat{q}$ to see that for all $r$ \n",
    "\n",
    "```{math}\n",
    ":label: eq-recursion-theorem\n",
    "[\\![  [\\![\\hat{q}]\\!](\\hat{q})]\\!](r) \\simeq [\\![p]\\!]([\\![\\hat{q}]\\!](\\hat{q}) ,r)\n",
    "```\n",
    "\n",
    "\n",
    "\n",
    "When we take $q^* = [\\![\\hat{q}]\\!] (\\hat{q})$, we see that \n",
    "\n",
    "$$\n",
    "[\\![ q^* ]\\!](r) \\simeq [\\![p]\\!] (q^*,r)\n",
    "$$\n",
    "\n",
    "This is the desired equation.   Now to get $\\hat{q}$, we take\n",
    "\n",
    "$$\n",
    "diag + move(1,2) + [\\![write]\\!](move(1,4)) +  move(2,1) + [\\![write]\\!](move(4,2) + p)\n",
    "$$\n",
    "\n",
    "This only mentions R1, R2, and R3.   (R3 is mentioned in $diag$.) Then for all $x$ which also mentions only those registers,\n",
    "\n",
    "\n",
    "$$\n",
    "[\\![\\hat{q}]\\!](x) = move(1,4) +[\\![diag]\\!](x) + move(4,2) + p\n",
    "$$\n",
    "\n",
    "In particular, \n",
    "\n",
    "$$\n",
    "[\\![\\hat{q}]\\!] (\\hat{q}) = move(1,4) +[\\![diag]\\!] (\\hat{q}) + move(4,2) + p\n",
    "$$\n",
    "\n",
    "Then a routine calculation shows that {eq}`eq-recursion-theorem` above holds. (It is here that we us the assumption that $\\hat{q}$ mentions only the the first three registers.)  This last equation was our goal, and so we are done.\n",
    "\n"
   ]
  },
  {
   "attachments": {},
   "cell_type": "markdown",
   "metadata": {},
   "source": [
    "## Kleene's proof of the Second Recursion Theorem\n",
    "\n"
   ]
  }
 ],
 "metadata": {
  "language_info": {
   "name": "python"
  }
 },
 "nbformat": 4,
 "nbformat_minor": 2
}
