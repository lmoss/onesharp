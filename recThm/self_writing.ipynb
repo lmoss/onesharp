{
  "cells": [
    {
      "attachments": {},
      "cell_type": "markdown",
      "metadata": {
        "colab_type": "text",
        "id": "view-in-github"
      },
      "source": [
        "<a href=\"https://colab.research.google.com/github/lmoss/onesharp/blob/main/recThm/self_writing.ipynb\" target=\"_parent\"><img src=\"https://colab.research.google.com/assets/colab-badge.svg\" alt=\"Open In Colab\"/></a>"
      ]
    },
    {
      "attachments": {},
      "cell_type": "markdown",
      "metadata": {
        "id": "mjtzV10cAMR5"
      },
      "source": [
        "# Self-writing programs\n",
        "\n",
        "```{attention} Note for instructors\n",
        "\n",
        "Technically, this section is not necessary in order to prove the Recursion Theorem in the next section.   One could immediately go there.  But I feel that most people would find this section more approachable, and so I recommend using it.  If one does omit this section, the exercises here still could be worked based on the Recursion Theorem.\n",
        "\n",
        "```\n",
        "\n",
        "A self-writing program is one which outputs itself, starting with all registers empty.\n",
        "At first blush it seems paradoxical that such programs would exist: there is no direct way to get the $\\onesharp$ interpreter to spit out the program that is inside it.  So how can a program output itself? This lesson shows how it is done. Even more, it will show you how such programs work and give you a chance to try your hand at writing related programs.\n",
        "\n",
        "In order to get a program which writes itself, one must use some sort of trick or clever idea. Our goal is to explain one such clever idea, and then to see other applications of it as we go. Before you understand it, the idea will seem to be a trick, or even a fluke: we have a program, and it just so happens to output itself. But as we come to understand it better, the trick becomes tamed into a general method\n",
        "\n",
        "At the root of our work is something we've seen from early on, the ability of $\\onesharp$ programs to write and modify other programs.\n",
        "\n",
        "\n",
        "\n"
      ]
    },
    {
      "cell_type": "code",
      "execution_count": null,
      "metadata": {
        "id": "WKstbnoBDdMN"
      },
      "outputs": [],
      "source": [
        "!python -m pip install -U setuptools\n",
        "!python -m pip install -U git+https://github.com/lmoss/onesharp.git@main\n",
        "from onesharp.interpreter.interpreter import *"
      ]
    },
    {
      "attachments": {},
      "cell_type": "markdown",
      "metadata": {
        "id": "ibYhzz7UCQYa"
      },
      "source": [
        "# Diag\n",
        "\n",
        "We begin with a program which we'll call ```diag```. When ```diag``` is run with a word $x$ in R1, the result is $[\\![ {\\tt write} ]\\!](x) + x$.   Then, running that last program on all empty registers gives the same thing as running x on itself: \n",
        "$[\\![x]\\!](x)$.   \n",
        "\n",
        "Thus, \n",
        "\n",
        "$$\n",
        "[\\![ [\\![ {\\tt diag} ]\\!](x)]\\!](\\ ) \\simeq [\\![ x ]\\!](x)\n",
        "$$\n",
        "\n",
        "We have already seen such a program: ```copy_1_3_2 + write + move_3_1```  See {ref}`pre-diag`.   However, we want a slightly different program, only because it is a little shorter.\n",
        "\n",
        "We take ```diag``` to be the program shown below."
      ]
    },
    {
      "attachments": {},
      "cell_type": "markdown",
      "metadata": {},
      "source": [
        "<P>\n",
        "<CENTER>\n",
        "<TABLE CELLPADDING=\"3\">\n",
        "        <TR BGCOLOR=\"#FFFFCC\">\n",
        "                <TD>1#####</TD> <TD>Cases on R1</TD></TR>\n",
        "        <TR BGCOLOR=\"#FFFFCC\">\n",
        "                <TD>11111111111###</TD> <TD>Go forward 11:\n",
        "                  to move<sub>3,1</sub> part</TD>  </tr>\n",
        "        <TR BGCOLOR=\"#FFFFCC\"><TD>111111###</TD><TD>Go forward 6:\n",
        "to the brown part</TD>  \n",
        "        </TR>\n",
        "         <TR  BGCOLOR=\"#B0E0E6\">\n",
        "                <TD>11##</TD> <TD>Add # to R2</TD></tr>\n",
        "         <TR  BGCOLOR=\"#B0E0E6\">\n",
        "                <TD>111#</TD> <TD>Add 1 to R3: 1## adds # to R1</TD></tr>   \n",
        "         <TR  BGCOLOR=\"#B0E0E6\">\n",
        "                <TD>111##</TD> <TD>Add # to R3</TD></tr>   \n",
        "         <TR  BGCOLOR=\"#B0E0E6\">\n",
        "                <TD>111##</TD> <TD>Add # to R3</TD></tr>   \n",
        "         <TR  BGCOLOR=\"#B0E0E6\">\n",
        "                <TD>1111111####</TD> <TD>Go backward 7 (to\n",
        "the top)</TD> </TR>\n",
        "         <TR  BGCOLOR=\"#D4B48C\">\n",
        "                <TD>11#</TD> <TD>Add 1 to R2</TD></tr>\n",
        "         <TR  BGCOLOR=\"#D4B48C\">\n",
        "                <TD>111#</TD> <TD>Add 1 to R3: 1# adds 1 to R1</TD></tr>\n",
        "         <TR  BGCOLOR=\"#D4B48C\">\n",
        "                <TD>111##</TD> <TD>Add # to R3</TD></tr>\n",
        "         <TR  BGCOLOR=\"#D4B48C\">\n",
        "                <TD>11111111111####</TD> <TD>Go backward 11\n",
        "(to the top)</TD>  \n",
        "        </TR>\n",
        "        <TR BGCOLOR=\"#FFFFCC\">\n",
        "                <TD> move<sub>3,1</sub></TD><td> from earlier</td></TR>\n",
        "        <TR BGCOLOR=\"#FFFFCC\">\n",
        "             <TD> move<sub>2,1</sub></TD><td> from earlier </td></TR>\n",
        "</TABLE>        \n",
        "</CENTER>\n",
        "<p>"
      ]
    },
    {
      "attachments": {},
      "cell_type": "markdown",
      "metadata": {
        "id": "mKfRQC6XAiGV"
      },
      "source": [
        "The three branches of the case instruction at the top take us to $\\moveprog_{3,1}$ (if R1 is empty), to the blue sub-program if the first symbol of R1 is a $\\onett$, and to the brown sub-program if that symbol is a $\\hash$. Note that we have a big loop that takes symbols off of R1 and writes the same thing in R2 and some related words in R3. The way that the words in R3 are related to the original input in R1 is as follows: each time a $\\onett$ is removed from R1, what goes into R3 is the program which would write a $\\onett$ in R1 (this is $\\onesharp$). And each time a $\\hash$ is removed from R1, what goes into R3 is the program which would write a $\\hash$ in R1 (this is $\\onett\\hash\\hash$).\n",
        "\n",
        " \n"
      ]
    },
    {
      "attachments": {},
      "cell_type": "markdown",
      "metadata": {},
      "source": [
        "```{admonition} Important\n",
        ":class: tip\n",
        "\n",
        "We often will use the following facts:\n",
        "\n",
        "$$\n",
        "\\begin{array}{rcl}\n",
        "[\\![ \\diag ]\\!](x) & \\simeq & \\writeprog(x) + x \\\\\n",
        "[\\![ [\\![ {\\tt diag} ]\\!](x)]\\!](y) & \\simeq & [\\![ x ]\\!](y+x)\n",
        "\\end{array}\n",
        "$$\n",
        "\n",
        "Also our program ${\\tt diag}$ uses only R1, R2, and R3.\n",
        "```\n"
      ]
    },
    {
      "attachments": {},
      "cell_type": "markdown",
      "metadata": {
        "id": "jt4sdyWxAh2c"
      },
      "source": [
        "<img src=\"https://github.com/lmoss/onesharp/blob/main/ourboros1.jpg?raw=1\" width=\"200\" height=\"160\">"
      ]
    },
    {
      "attachments": {},
      "cell_type": "markdown",
      "metadata": {
        "id": "0FIHwdHrAhmr"
      },
      "source": [
        "# Self\n",
        "\n",
        "We now define a self-writing program, $\\selfprog$.\n",
        "The idea is to apply the program $\\diagprog$ to $\\diagprog$ itself.\n",
        "This might seem like a strange thing to do. But as we'll see, it gives us exactly what we're looking for.\n",
        "When we run $\\diagprog$ on itself, we get $[[\\writeprog]](\\diagprog) + \\diagprog$ in R1.\n",
        "This, then, is $\\selfprog$. When we run $\\selfprog$ on nothing, we first write $\\diagprog$ into R1.\n",
        "After this, we run $\\diagprog$.  At the point we are running $\\diagprog$,  R1 contains $\\diagprog$, and the other registers are empty.\n",
        "So we get  $\\selfprog$, by definition.\n",
        "\n",
        " \n",
        "To summarize: running $\\selfprog$ on nothing is the same as running $\\diagprog$ on $\\diagprog$ itself; and this is $\\selfprog$. \n",
        "\n",
        "\n"
      ]
    },
    {
      "attachments": {},
      "cell_type": "markdown",
      "metadata": {
        "id": "ClEUijpf-lxx"
      },
      "source": [
        "```{admonition} Summary\n",
        ":class: tip\n",
        "\n",
        "$\n",
        "[\\![\\self]\\!] (\\ ) = [\\![  [\\![\\diag]\\!](\\diag)]\\!]( ) =   [\\![\\diag]\\!](\\diag) \\simeq \n",
        "\\self\n",
        "$.\n",
        "```\n",
        "\n"
      ]
    },
    {
      "attachments": {},
      "cell_type": "markdown",
      "metadata": {},
      "source": [
        "Here is $\\selfprog$.    You can watch the calculation by copying the program below and pasting it into the program editor box of  <a href=\"https://rrose1.github.io/jsonesharp/\" target=\"_blank\">the Javascript interpreter</a> for ```1#```.  Be sure to use *eval slow*."
      ]
    },
    {
      "cell_type": "code",
      "execution_count": null,
      "metadata": {},
      "outputs": [],
      "source": [
        "1#1##1##1##1##1##1#1#1#1#1#1#1#1#1#1#1#1##1##1##1#1#1#1#1#1#1##1##1##1#1#1##1##1#1#1#1##1#1#1#1##1##1#1#1#1##1##1#1#1#1#1#1#1#1##1##1##1##1#1#1##1#1#1#1##1#1#1#1##1##1#1#1#1#1##1##1##1##1#1#1#1##1##1##1##1##1#1#1#1#1#1#1##1##1##1#1#1#1##1##1##1#1##1##1#1#1#1#1##1##1##1##1#1##1#1#1##1##1##1##1#1#1##1##1##1##1##1#1#1#1#1#1#1##1##1##1#1#1#1##1##1##1#1##1##1#1#1#1#1##1##1##1##1#1##1#1#1##1##1##1##1#####11111111111###111111###11##111#111##111##1111111####11#111#111##1111####111#####111111###111###1##1111####1#11####11#####111111###111###1##1111####1#11####\n",
        "\n"
      ]
    },
    {
      "attachments": {},
      "cell_type": "markdown",
      "metadata": {},
      "source": [
        "You can also do some calculations if you run programs on Colab or CoCalc."
      ]
    },
    {
      "cell_type": "code",
      "execution_count": null,
      "metadata": {
        "id": "88La6m9mKYKo"
      },
      "outputs": [],
      "source": [
        "onesharp(self,[])"
      ]
    },
    {
      "cell_type": "code",
      "execution_count": null,
      "metadata": {
        "id": "0RYaVkTvKcCi"
      },
      "outputs": [],
      "source": [
        "onesharp(self,[])== self"
      ]
    },
    {
      "attachments": {},
      "cell_type": "markdown",
      "metadata": {
        "id": "OE0t7FYBF9f4"
      },
      "source": [
        "### The idea in words\n",
        "\n",
        "\\begin{equation*}\n",
        "\\mathbf{r} \\equiv \\begin{bmatrix}\n",
        "y \\\\\n",
        "\\theta\n",
        "\\end{bmatrix}\n",
        "\\label{eq:vector_ray} \\tag{1}\n",
        "\\end{equation*}\n",
        "\n",
        "Vector **r** is defined by equation $\\eqref{eq:vector_ray}$\n",
        "\n",
        "We present one idea that could explain what is behind $\\diagprog$ and $\\selfprog$.\n",
        "Let's suppose that you want to write a self-replicating program, say $s$, from scratch.\n",
        "Let's say that you just have a glimmer of an idea: a self-replicating program $s$ should be a two-stage affair;   when we run $s$ on empty registers, we first write a word $x$ to R1, and then run some program $y$ on $x$.  And of course, we want the result of running $y$ on $x$ to be $s$.  So in effect, we want to solve a *system of equations*:\n",
        "\n",
        "$$\n",
        "\\begin{array}{lcl}\n",
        "s & = & \\semantics{ \\writeprog} (x)+ y \\\\\n",
        "\\semantics{s}(\\ ) & = & s\\\\\n",
        "\\end{array}\n",
        "$$\n",
        "\n",
        "But these give\n",
        "\\begin{equation}\n",
        "\\label{deriveK2}\n",
        "\\semantics{y}(x) =  \\semantics{s}(\\ ) =  s = \\semantics{\\writeprog} (x)+ y\n",
        "\\end{equation}\n",
        "\n",
        "We are free to find any $x$ and $y$ that we like that satisfies (\\ref{deriveK2}), since then we \n",
        "could take solve the original system by taking $s$ to be $[\\![ \\writeprog]\\!](x)+ y$.   \n",
        "\n",
        "Now here is where things become interesting.   Instead of simply finding *any old* $x$ and $y$ satisfying (\\ref{deriveK2}), let's find some $y$ such that for *all* $x$, we have the following different condition:\n",
        "\n",
        "\\begin{equation} \\label{deriveK2trick}\n",
        "\\semantics{y}(x) =  \\semantics{\\writeprog} (x)+ x\n",
        "\\end{equation}\n",
        "(Note that(\\ref{deriveK2}) and (\\ref{deriveK2trick}) are different due to the last symbol in each.)\n",
        "If we find $y$ to make (\\ref{deriveK2trick}) hold for all $x$, we can set $x = y$; this arranges   (\\ref{deriveK2}).\n",
        "\n",
        "It looks like we made our problem harder by asking $y$ to satisfy a more stringent condition.  But in reality it's easier, since (\\ref{deriveK2trick}) only has $y$ on one side.   So it is much more manageable.  In fact, we can solve it by simply taking $y$ to be $\\diagprog$!\n",
        "\n",
        "To conclude: we take $y = \\diagprog$ and $x = y$.  This arranges that all of our equations hold.  \n",
        "We thus can get a self replicating program by setting $s =  [\\![ \\writeprog]\\!](\\diagprog)+ \\diagprog = [\\![ \\diagprog]\\!](\\diagprog)$.\n",
        "\n",
        "\n"
      ]
    },
    {
      "attachments": {},
      "cell_type": "markdown",
      "metadata": {
        "id": "6tEUYD1mGnO_"
      },
      "source": [
        "<img src=\"https://github.com/lmoss/onesharp/blob/main/ourboros1.jpg?raw=1\" width=\"200\" height=\"160\">"
      ]
    },
    {
      "cell_type": "markdown",
      "metadata": {
        "id": "wima6HB4GkrE"
      },
      "source": [
        "# Exercises\n",
        "\n",
        "\n",
        "The rest of this lesson consists of exercises that allow\n",
        "you to firm up your understanding of the basic ideas\n",
        "in ```diag``` and ```self``` by elaborating on \n",
        "and extending them.\n",
        "\n",
        "In all of these exercises, you are invited\n",
        "to check your work on the interpreter."
      ]
    },
    {
      "attachments": {},
      "cell_type": "markdown",
      "metadata": {
        "id": "25PpJ0syINFo"
      },
      "source": [
        "```{exercise}\n",
        "Write a program which when started on all empty registers\n",
        "writes itself to R1 and also writes ```#``` to R2.\n",
        "```\n"
      ]
    },
    {
      "attachments": {},
      "cell_type": "markdown",
      "metadata": {
        "id": "FY4buiFkINAl"
      },
      "source": [
        "```{exercise}\n",
        "Write a program $p$ which when started on all empty registers\n",
        "doesn't   write itself to R1 but rather writes itself followed by a ```#```.\n",
        "In other words, $[\\![ p]\\!](\\ ) =  p + \\# $.\n",
        "```"
      ]
    },
    {
      "cell_type": "markdown",
      "metadata": {
        "id": "GiEhOwzUIM8g"
      },
      "source": [
        "```{exercise}\n",
        "Find an infinite sequence of programs which are all different with the property that each program in the list\n",
        "writes the next one in the list into R1.\n",
        "```"
      ]
    },
    {
      "attachments": {},
      "cell_type": "markdown",
      "metadata": {
        "id": "ZZI9Q27WIM4O"
      },
      "source": [
        "```{exercise}\n",
        "Write a program $p$ which when started on all empty registers\n",
        "doesn't \n",
        "write itself to R1 but rather writes itself preceded by a ```#```.\n",
        "In other words, $[\\![ p]\\!](\\ ) = \\# +p$.\n",
        "```"
      ]
    },
    {
      "cell_type": "markdown",
      "metadata": {
        "id": "O-FicJXVIM1I"
      },
      "source": [
        "```{exercise}\n",
        "Write a self-replicating program \n",
        "that begins with the program to transfer ahead\n",
        "one instruction, ```1###```.\n",
        "```"
      ]
    },
    {
      "attachments": {},
      "cell_type": "markdown",
      "metadata": {
        "id": "P_ZjX7IbIMxg"
      },
      "source": [
        "```{exercise}\n",
        "Write a program $s$ which, when run with R2, R3, etc.\n",
        "empty,  ends up with R1 containing $s$ *after* whatever\n",
        "happened to be in R1 at the start.\n",
        "In other words, for all words $y$, $[\\![ s]\\!](y) = y+s$.\n",
        "```"
      ]
    },
    {
      "cell_type": "markdown",
      "metadata": {
        "id": "ZOVvoh-4IMuO"
      },
      "source": [
        "```{exercise}\n",
        "Write a program ```selfknow```  with the property that when run with\n",
        "a string q in R1, \n",
        "```selfknow```  runs and halts with q in R1 if q=\n",
        "```selfknow```, and runs and halts with ```#``` in R1 empty if q is not \n",
        "equal to ```selfknow```.\n",
        "(So this program ```selfknow``` \"knows itself\".)\n",
        "```"
      ]
    },
    {
      "cell_type": "markdown",
      "metadata": {},
      "source": [
        "```{exercise}\n",
        "A country adopts ```1#``` as its national programming language.  To celebrate, they want a new flag. Write a program ```flag``` with the property that running  ```flag``` on all empty registers gives two copies of  ```flag```separated by a stripe with the same number of characters as  ```flag```.   The stripe should have all ```#``` symbols.\n",
        "```"
      ]
    }
  ],
  "metadata": {
    "colab": {
      "authorship_tag": "ABX9TyOUskvjlC52E7pXPt0B/94t",
      "include_colab_link": true,
      "provenance": []
    },
    "kernelspec": {
      "display_name": "Python 3",
      "name": "python3"
    },
    "language_info": {
      "codemirror_mode": {
        "name": "ipython",
        "version": 3
      },
      "file_extension": ".py",
      "mimetype": "text/x-python",
      "name": "python",
      "nbconvert_exporter": "python",
      "pygments_lexer": "ipython3",
      "version": "3.8.2"
    }
  },
  "nbformat": 4,
  "nbformat_minor": 0
}
