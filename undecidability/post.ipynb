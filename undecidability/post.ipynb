{
  "cells": [
    {
      "cell_type": "markdown",
      "metadata": {
        "colab_type": "text",
        "id": "view-in-github"
      },
      "source": [
        "<a href=\"https://colab.research.google.com/github/lmoss/onesharp/blob/main/undecidability/post.ipynb\" target=\"_parent\"><img src=\"https://colab.research.google.com/assets/colab-badge.svg\" alt=\"Open In Colab\"/></a>"
      ]
    },
    {
      "cell_type": "code",
      "execution_count": null,
      "metadata": {
        "id": "8JaCe7aQh59f"
      },
      "outputs": [],
      "source": []
    },
    {
      "attachments": {},
      "cell_type": "markdown",
      "metadata": {
        "id": "ZP2X2VKqh8Fc"
      },
      "source": [
        "# Post's Correspondence Problem\n",
        "\n",
        "Post's Correspondence Problem (PCP) was introduced [earlier](content:firstPCP).\n",
        "We use build on the undecidability of the Halting Problem to prove the undecidability of the PCP.  In more detail, we saw in [our work on tiling](content:tilingPreparation) that the set of ```1#``` programs which only use R1 and which halt is undecidable. \n",
        "\n",
        "```{admonition} Notation\n",
        ":class: tip\n",
        "\n",
        "We let $A$ be the set of ```1#``` programs whose only register is R1.   We let\n",
        "\n",
        "$$\n",
        "K^1 = \\{ p \\in A : [\\![p]\\!](\\ )\\!\\!\\downarrow\\}\n",
        "$$\n",
        "\n",
        "Let $\\mathbb{D}$ be the set of (codes of) all finite domino sets $(\\mathcal{D},d_0)$.\n",
        "Let $K^{\\mathbb{D}}$ be the set of (codes of) domino sets $\\mathcal{D}$ which have a Post word.\n",
        "\n",
        "When we talk about domino sets in this section, we always will mean a \n",
        "finite,\n",
        "pointed set.  And when we talk about a Post word, we always mean a finite word whose concatanations on the top and bottom agree.\n",
        "```\n",
        "\n",
        "Here is our main result on the PCP.\n",
        "\n",
        "\n",
        "```{prf:theorem}\n",
        ":label: PCP_undecidability\n",
        "\n",
        "\n",
        "${K}^1\\leq_m  {K}^{\\mathbb{D}}$.  \n",
        "\n",
        "That is, there is a total computable function\n",
        "$\\mathcal{D}:  A\\to  \\mathbb{D}$\n",
        "such that \n",
        "\n",
        "$$\n",
        "p\\in {K}^1 \\quadiff   \\mathcal{D}(p) \\in {K}^{\\mathbb{D}}\n",
        "$$\n",
        "\n",
        "That is, $\\mathcal{D}(p)$ has a Post word if and only if $[\\![p]\\!](\\ )\\!\\!\\downarrow$.\n",
        "\n",
        "As a result, ${K}^{\\mathbb{D}}$ is undecidable.\n",
        "```\n"
      ]
    },
    {
      "attachments": {},
      "cell_type": "markdown",
      "metadata": {},
      "source": [
        "## Definition of $\\mathcal{D}$\n",
        "\n",
        "Fix a program $p\\in A$.    $\\mathcal{D}(p)$ starts with the following dominoes:\n",
        "\n",
        "<img src=\"https://github.com/lmoss/onesharp/blob/main/issues/pictures/pictures-10.png?raw=1\" width=\"100%\" height=\"100%\">\n",
        "\n",
        "Here and below, $K$ is the number of instructions in $p$.\n",
        "\n",
        "Whenever instruction $i$ of $p$ is ```1#``` or ```1##```, we have\n",
        "\n",
        "<img src=\"https://github.com/lmoss/onesharp/blob/main/issues/pictures/pictures-11.png?raw=1\" width=\"100%\" height=\"100%\">\n",
        "\n",
        "That is, we use the left domino above when instruction $i$ is ```1#```, and the right domino when it is ```1##```.\n",
        "Similarly, whenever instruction $i$ is ```1^k ###``` or ```1^k ####```, we have\n",
        "\n",
        "<img src=\"https://github.com/lmoss/onesharp/blob/main/issues/pictures/pictures-12.png?raw=1\" width=\"100%\" height=\"100%\">\n",
        "\n",
        "Finally, whenever instruction $i$ is ```1#####```, we have the three dominoes shown below:\n",
        "\n",
        "<img src=\"https://github.com/lmoss/onesharp/blob/main/issues/pictures/pictures-13.png?raw=1\" width=\"100%\" height=\"100%\">"
      ]
    },
    {
      "attachments": {},
      "cell_type": "markdown",
      "metadata": {},
      "source": [
        "## Example\n",
        "\n",
        "Let $p$ be the program\n",
        "\n",
        "$$\n",
        "{\\tt 1\\# | 1\\#\\# | 1 \\#^5  | 1^3\\#^3 |  1^2 \\#^4  |  1^3 \\#^4}\n",
        "$$\n",
        "\n",
        "Then $\\mathcal{D}(p)$ is the following set of dominoes:\n",
        "\n",
        "<img src=\"https://github.com/lmoss/onesharp/blob/main/issues/pictures/pictures-16.png?raw=1\" width=\"100%\" height=\"100%\">\n",
        "\n",
        "This domino set has a (unique) Post sequence.  It is \n",
        "\n",
        "<img src=\"https://github.com/lmoss/onesharp/blob/main/issues/pictures/pictures-21.png?raw=1\" width=\"100%\" height=\"100%\">\n",
        "\n",
        "The Post word is \n",
        "\n",
        "$$\n",
        "{\\rm start} {\\em 1} {\\tt 1} {\\em 2} {\\tt 1 \\#} {\\em 3} {\\tt 1 \\# } {\\em 5} {\\tt \\# } {\\tt 3 } {\\tt \\#} {\\em 6 3 4 7} {\\rm start}\n",
        "$$"
      ]
    },
    {
      "attachments": {},
      "cell_type": "markdown",
      "metadata": {},
      "source": [
        "## Proof\n",
        "\n",
        "We now turn to the proof of {prf:ref}`PCP_undecidability`.\n",
        "\n",
        "```{admonition} Definition\n",
        ":class: attention\n",
        "\n",
        "Let $p$ be a program.  Assume that $[\\![p]\\!](\\ )\\!\\!\\downarrow$, and suppose that the computation takes $n$ steps. The *trace* of $p$ is the sequence of words\n",
        "\n",
        "$$\n",
        "1\\ w_1 2\\ w_2  \\cdots i(j)\\ w_j  \\cdots i(n)\\ w_n,\n",
        "$$\n",
        "\n",
        "where for $1\\leq j \\leq n$, $i(j)$ is the number of the instruction which is executed in step $j$, and $w(j)$ is the contents of the register after step $j$.\n",
        "\n",
        "\n",
        "The *modified trace* of $p$ is the sequence of words\n",
        "\n",
        "$$\n",
        "1\\ v_1 2\\ v_2  \\cdots i(j)\\ v_j  \\cdots i(n)\\ v_n,\n",
        "$$\n",
        "\n",
        "is defined in almost the same way, with the difference being that if $i(j)$ is ```1#####```, and if $i(j)$ is ```1#####```,\n",
        "and if at before this instruction ```1#####``` is executed the register is non-empty and has $c_j$ as its first character, then\n",
        "$v_j= c_j w_j$.\n",
        "\n",
        "```\n",
        "\n",
        "\n"
      ]
    },
    {
      "cell_type": "markdown",
      "metadata": {},
      "source": [
        "```{prf:example}\n",
        ":label: example-modified-trace\n",
        "\n",
        "Again we take $p$ to be \n",
        "\n",
        "\n",
        "$$\n",
        "{\\tt 1\\# | 1\\#\\# | 1 \\#^5  | 1^3\\#^3 |  1^2 \\#^4  |  1^3 \\#^4}\n",
        "$$\n",
        "\n",
        "The trace is \n",
        "\n",
        "$$\n",
        "1 {\\tt 1} | 2 {\\tt 1 \\#}  | 3 {\\tt \\#} | 5 {\\tt \\#}  | 3 {\\tt \\varepsilon } | 6 \\varepsilon | 3  \\varepsilon | 4  \\varepsilon | 7  \\varepsilon | \n",
        "{\\tt 1\\# | 1\\#\\# | 1 \\#^5  | 1^3\\#^3 |  1^2 \\#^4  |  1^3 \\#^4}\n",
        "$$\n",
        "\n",
        "\n",
        "The modified trace is\n",
        "\n",
        "\n",
        "$$\n",
        "1 {\\tt 1} | 2 {\\tt 1 \\#}  | 3 {\\tt 1 \\#} | 5 {\\tt \\#}  | 3 {\\tt \\# } | 6 \\varepsilon | 3  \\varepsilon | 4  \\varepsilon | 7  \\varepsilon | \n",
        "{\\tt 1\\# | 1\\#\\# | 1 \\#^5  | 1^3\\#^3 |  1^2 \\#^4  |  1^3 \\#^4}\n",
        "$$\n",
        "\n",
        "\n",
        "\n",
        "```"
      ]
    }
  ],
  "metadata": {
    "colab": {
      "authorship_tag": "ABX9TyOvMYEc3agFJfWmUgW6ufJT",
      "include_colab_link": true,
      "provenance": []
    },
    "kernelspec": {
      "display_name": "Python 3",
      "name": "python3"
    },
    "language_info": {
      "name": "python"
    }
  },
  "nbformat": 4,
  "nbformat_minor": 0
}
