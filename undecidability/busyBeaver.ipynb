{
  "cells": [
    {
      "cell_type": "markdown",
      "metadata": {
        "colab_type": "text",
        "id": "view-in-github"
      },
      "source": [
        "<a href=\"https://colab.research.google.com/github/lmoss/onesharp/blob/main/undecidability/busyBeaver.ipynb\" target=\"_parent\"><img src=\"https://colab.research.google.com/assets/colab-badge.svg\" alt=\"Open In Colab\"/></a>"
      ]
    },
    {
      "cell_type": "markdown",
      "metadata": {
        "id": "k0-izEyw4pzn"
      },
      "source": []
    },
    {
      "attachments": {},
      "cell_type": "markdown",
      "metadata": {
        "id": "SPtLWTg-4pq-"
      },
      "source": [
        "# The busy beaver problem\n",
        "\n",
        "\n",
        "\n",
        "Let $BB(n)$ be the  largest number of ```1```s produced by any ```1#```-program with at most $n$ instructions\n",
        "which halts properly on all empty registers.  Notice that $BB$ is well-defined and total.  The main point is that $BB$ is not computable.\n",
        "\n",
        "```{prf:theorem}\n",
        "There is no program $\\mathtt{beaver}$ such that \n",
        "for all $n$  \n",
        "\n",
        "$$\n",
        "\\begin{array}{lcl}\n",
        "[\\![\\mathtt{beaver}]\\!](\\one^n) & = & \\one^{BB(n)}\n",
        "\\end{array}\n",
        "$$\n",
        "```\n",
        "```{prf:proof}\n",
        "We are going to prove this two ways.   Our first proof uses the Recursion Theorem. \n",
        "\n",
        "<img src=\"https://github.com/lmoss/onesharp/blob/main/ourboros1.jpg?raw=1\" width=\"200\" height=\"160\">\n",
        "\n",
        "Suppose that we had a program $\\mathtt{beaver}$.  Let $q$ be a program so that\n",
        "for all $p$,\n",
        "\n",
        "$$\n",
        "[\\![ q]\\!](p) = [\\![\\mathtt{beaver}]\\!](|p|) + \\mathtt{1},\n",
        "$$\n",
        "\n",
        "where $|p|$ is the number of instructions in $p$.   The function $p\\mapsto |p|$ is computable.   So $q$ is computable.   By the Recursion Theorem, there is some $p^*$ so that \n",
        "\n",
        "$$\n",
        "[\\![ p^* ]\\!](\\ ) \\simeq \n",
        "[\\![ q]\\!](p^*) = [\\![\\mathtt{beaver}]\\!](|p^*|) + \\mathtt{1} \n",
        "= \\mathtt{1}^{BB(|p^*|) + 1}\n",
        "$$\n",
        "\n",
        "But by definition of $BB$, for all programs $r$, if $[\\![ r ]\\!](\\ ) \\simeq \\mathtt{1}^k$, then $k \\leq BB(|r|)$.\n",
        "Taking $r$ to be $p^*$, we see that \n",
        "\n",
        "$$\n",
        "BB(|p^*|) + 1 \\leq BB(|p^*|),$$\n",
        "\n",
        "and this is a contradiction.\n",
        "```\n",
        "\n",
        "\n"
      ]
    },
    {
      "attachments": {},
      "cell_type": "markdown",
      "metadata": {},
      "source": [
        "\n",
        "\n",
        "```{prf:proof}\n",
        "Here is a second proof.\n",
        "Suppose that the $\\one\\hash$ program \n",
        "$\\mathtt{beaver}$ computed $BB$ as above.\n",
        "\n",
        "\n",
        "Let $\\mathtt{square}$ be a $\\one\\hash$ program  to\n",
        " compute $n \\to n^2$, using unary notation.\n",
        "\n",
        "\n",
        "Consider the programs  $p_{n}$ for $n\\in N$, given by\n",
        "\n",
        "$$\n",
        "p_n \\quadeq (\\one\\hash)^{n} + \\mathtt{square} + \n",
        "\\mathtt{beaver} + \\one\\hash\n",
        "$$\n",
        "\n",
        "Then \n",
        " $[\\![ p_n]\\!](\\ )\\simeq \\one^K$, where $K = BB(n^2) + 1$.\n",
        " \n",
        "\n",
        "Notice that the number of instructions in $p_n$ is *linear in $n$*.\n",
        "In fact, it is $n + m +1$, where $m$ is the total number of instructions\n",
        "in $\\mathtt{square}$ and $\\mathtt{beaver}$.\n",
        "\n",
        "Let $N$ be large enough so that $N^2 > N+m+1$. \n",
        "Then by definition of $p_N$,\n",
        "\n",
        "$$\n",
        "\\begin{array}{lcl}\n",
        "|[\\![ p_N]\\!](\\ )|\n",
        " & = &  BB(N^2) + 1 \\\\\n",
        "\\end{array}\n",
        "$$\n",
        "On the left above, we mean the number of symbols in $[\\![ p_N]\\!](\\ )$.\n",
        "\n",
        "The number of instructions in $p_N$ is $N+m +1 < N^2$.   So by definition of $BB$, $BB(N^2)$ is at least $|[\\![ q]\\!](\\ )|$, for any program of length $\\leq  N^2$\n",
        "which happens to produce an output which is all $1$'s.    And $p_N$ is one such program.  Hence we also have \n",
        "\n",
        "$$\n",
        "BB(N^2)   \\geq  |[\\![ p_N]\\!](\\ )|\n",
        "$$\n",
        "\n",
        "This is a contradiction!\n",
        "```\n"
      ]
    },
    {
      "cell_type": "markdown",
      "metadata": {
        "id": "O9xfSOWT4p2-"
      },
      "source": [
        "```{exercise}\n",
        "Show that there is no total computable function $f\\colon\\N\\to\\N$ such that for all $m$, $f(m) \\geq BB(m)$.\n",
        "```"
      ]
    },
    {
      "cell_type": "markdown",
      "metadata": {
        "id": "sdj6i9uxShLH"
      },
      "source": [
        "```{exercise}\n",
        "A common estimate for the number of atoms in the universe is $M = 10^{82}$. \n",
        " Show that $BB(50) > M$.\n",
        "```"
      ]
    },
    {
      "attachments": {},
      "cell_type": "markdown",
      "metadata": {},
      "source": [
        "```{exercise}\n",
        "We defined $BB(n)$ using ```1#``` programs with at most $n$ instructions.  How would things change if we defined $BB(n)$ using programs with at most $n$ *symbols*?\n",
        "```"
      ]
    }
  ],
  "metadata": {
    "colab": {
      "authorship_tag": "ABX9TyO30mJHTk91VKS1I0pjK2Za",
      "include_colab_link": true,
      "provenance": []
    },
    "kernelspec": {
      "display_name": "Python 3",
      "name": "python3"
    },
    "language_info": {
      "name": "python"
    }
  },
  "nbformat": 4,
  "nbformat_minor": 0
}
