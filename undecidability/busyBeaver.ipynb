{
  "nbformat": 4,
  "nbformat_minor": 0,
  "metadata": {
    "colab": {
      "provenance": [],
      "authorship_tag": "ABX9TyNmxpCM7+9JgX7GBXmzUEUv",
      "include_colab_link": true
    },
    "kernelspec": {
      "name": "python3",
      "display_name": "Python 3"
    },
    "language_info": {
      "name": "python"
    }
  },
  "cells": [
    {
      "cell_type": "markdown",
      "metadata": {
        "id": "view-in-github",
        "colab_type": "text"
      },
      "source": [
        "<a href=\"https://colab.research.google.com/github/lmoss/onesharp/blob/main/undecidability/busyBeaver.ipynb\" target=\"_parent\"><img src=\"https://colab.research.google.com/assets/colab-badge.svg\" alt=\"Open In Colab\"/></a>"
      ]
    },
    {
      "cell_type": "markdown",
      "source": [],
      "metadata": {
        "id": "k0-izEyw4pzn"
      }
    },
    {
      "cell_type": "markdown",
      "source": [
        "# The busy beaver problem\n",
        "\n",
        "\n",
        "\n",
        "Let $BB(n)$ be the  largest number of $\\one$s produced by\n",
        " any $\\one\\hash$-program with $\\leq n$ \n",
        "instructions \n",
        "which halts properly.\n",
        "\n",
        "```{prf:theorem}\n",
        "There is no program $\\mathtt{beaver}$ such that \n",
        "for all $n$  \n",
        "\n",
        "$$\n",
        "\\begin{array}{lcl}\n",
        "\\phifn_{\\mathtt{beaver}}(\\one^n) & = & \\one^{BB(n)}\n",
        "\\end{array}\n",
        "$$\n",
        "```\n",
        "\n",
        " \n",
        "```{prf:proof}\n",
        "Suppose that the $\\one\\hash$ program \n",
        "$\\mathtt{beaver}$ computed $BB$.\n",
        "\n",
        "\n",
        "Let $\\mathtt{square}$ be a $\\one\\hash$ program  to\n",
        " compute $n \\to n^2$, using unary notation.\n",
        "\n",
        "\n",
        "Consider the programs  $p_{n}$ for $n\\in N$, given by\n",
        "\n",
        "$$\n",
        "p_n \\quadeq (\\one\\hash)^{n} + \\mathtt{square} + \n",
        "\\mathtt{beaver} + \\one\\hash\n",
        "$$\n",
        "\n",
        "Then \n",
        "\n",
        " $\\phifn_{p_{n}}(\\ )\\simeq \\one^K$, where $K = BB(n^2) + 1$.\n",
        " \n",
        "\n",
        "Notice that the number of instructions in $p_n$ is *linear in $n$*.\n",
        "In fact, it is $n + m$, where $m$ is the total number of instructions\n",
        "in $\\mathtt{square}$ and $\\mathtt{beaver}$.\n",
        "\n",
        "Let $N$ be large enough so that \n",
        "$N^2 > N+m$. \n",
        "Then\n",
        "\n",
        "$$\n",
        "\\begin{array}{lclclcl}\n",
        "BB(N^2) & \\geq  & \\phifn_{p_N}(\\ ) & = & BB(N^2) + 1 \\\\\n",
        "\\end{array}\n",
        "$$\n",
        "\n",
        "Contradiction!\n",
        "```\n",
        "\n"
      ],
      "metadata": {
        "id": "SPtLWTg-4pq-"
      }
    },
    {
      "cell_type": "markdown",
      "source": [
        "```{exercise}\n",
        "Show that there is no total computable function $f\\colon\\N\\to\\N$ such that for all $m$, $f(m) \\geq BB(m)$.\n",
        "```"
      ],
      "metadata": {
        "id": "O9xfSOWT4p2-"
      }
    },
    {
      "cell_type": "markdown",
      "source": [
        "```{exercise}\n",
        "A common estimate for the number of atoms in the universe is $M = 10^{82}$. \n",
        " Show that $BB(50) > M$.\n",
        "```"
      ],
      "metadata": {
        "id": "sdj6i9uxShLH"
      }
    },
    {
      "cell_type": "code",
      "source": [
        "from sympy import solve_poly_inequality, Poly\n",
        "from sympy.abc import x\n",
        "solve_poly_inequality(Poly(x, x, domain='ZZ'), '==')\n",
        "[{0}]\n",
        "solve_poly_inequality(Poly(x**2 - x -7, x, domain='ZZ'), '!=')"
      ],
      "metadata": {
        "id": "4oGf-nvRUDsa",
        "outputId": "deab9a17-1f17-4528-f630-b9c9edc0d3ba",
        "colab": {
          "base_uri": "https://localhost:8080/"
        }
      },
      "execution_count": 13,
      "outputs": [
        {
          "output_type": "execute_result",
          "data": {
            "text/plain": [
              "[Interval.open(-oo, 1/2 - sqrt(29)/2),\n",
              " Interval.open(1/2 - sqrt(29)/2, 1/2 + sqrt(29)/2),\n",
              " Interval.open(1/2 + sqrt(29)/2, oo)]"
            ]
          },
          "metadata": {},
          "execution_count": 13
        }
      ]
    }
  ]
}