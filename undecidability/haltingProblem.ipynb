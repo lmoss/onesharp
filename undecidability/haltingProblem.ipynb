{
  "cells": [
    {
      "cell_type": "markdown",
      "metadata": {
        "colab_type": "text",
        "id": "view-in-github"
      },
      "source": [
        "<a href=\"https://colab.research.google.com/github/lmoss/onesharp/blob/main/undecidability/haltingProblem.ipynb\" target=\"_parent\"><img src=\"https://colab.research.google.com/assets/colab-badge.svg\" alt=\"Open In Colab\"/></a>"
      ]
    },
    {
      "attachments": {},
      "cell_type": "markdown",
      "metadata": {
        "id": "c9L0YAf_naB8"
      },
      "source": [
        "# The halting problem\n",
        "\n",
        "We come to one of the most famous and most basic results in computability theory, the *undecidability of the halting problem*, first proved by Turing in 1936.\n",
        "\n",
        "```{prf:theorem}\n",
        "There is no program $p$ such that \n",
        "for all words $x$ and $y$,\n",
        "\n",
        "$$\\begin{array}{lcl}\n",
        "\\phifn^2_p(x,y) & = & \\left\\{\n",
        "\\begin{array}{ll}\n",
        "\\one & \\mbox{if $\\phifn_x(y)\\dar$}\\\\\n",
        "\\hash &  \\mbox{if $\\phifn_x(y)\\uparrow$}\n",
        "\\end{array}\n",
        "\\right.\n",
        "\\end{array}\n",
        "$$\n",
        "```\n",
        "\n",
        "Here is the proof.\n",
        "Suppose toward a contradiction that we had such a program $p$.\n",
        "Modifying $p$, we get a program $q$ so that for all $a$, \n",
        "\n",
        "$$\n",
        "\\begin{array}{lcl}\n",
        "\\phifn^1_q(a) & = & \\left\\{\n",
        "\\begin{array}{ll}\n",
        "\\uparrow & \\mbox{if $\\phifn_a(a)\\dar$}\\\\\n",
        "\\downarrow&  \\mbox{if $\\phifn_a(a)\\uparrow$}\n",
        "\\end{array}\n",
        "\\right.\n",
        "\\end{array}\n",
        "$$\n",
        "\n",
        "\n",
        "Here's how this would be done. \n",
        "Assume that $p$ preserves its input.\n",
        "Let $p$ have $k$ instructions.\n",
        "Let\n",
        "\n",
        "$$\n",
        "q \\quadeq \\copyprog_{1,2,3} + p +\n",
        "\\one^3\\hash^5\n",
        " + \\one^2 \\hash^3  \n",
        " + \\one^{k + 2} \\hash^4 \n",
        "$$\n",
        "\n",
        "Then $q$ has the property that we want.\n",
        "But now, take $a$ to be $q$.\n",
        "Then \n",
        "\n",
        "$$\n",
        "\\phifn_q(q)\\dar   \\quadiff \\phifn_q(q)\\uparrow.\n",
        "$$\n",
        "\n",
        "Contradiction!\n"
      ]
    },
    {
      "cell_type": "markdown",
      "metadata": {
        "id": "x6-IIvg1vvzu"
      },
      "source": [
        "```{tip}\n",
        "Look up [this setting of the proof](http://www.lel.ed.ac.uk/~gpullum/loopsnoop.html) by Geoffrey Pullum in the spirit of Dr. Seuss.\n",
        "```"
      ]
    },
    {
      "attachments": {},
      "cell_type": "markdown",
      "metadata": {
        "id": "fmMmWiZGnY-U"
      },
      "source": [
        "# Corollaries\n",
        "\n",
        "There are a number of corollaries to the basic undecidability result.\n",
        "Let us begin by recalling the sets of that we mentioned earlier:\n",
        "\n",
        "$$\n",
        "\\begin{array}{lcl}\n",
        "\\mbox{Prog} & = & \\mbox{the set of programs} \\\\\n",
        "\\mbox{Tidy} & = & \\mbox{the set of tidy programs} \\\\\n",
        "K_0 & = & \\mbox{the programs which halt when run on the all empty registers}\\\\\n",
        "K & = & \\mbox{the programs which halt when run on themselves} \\\\\n",
        "\\textit{Fin} & = & \\mbox{the programs $p$ such that the domain of $[\\![p]\\!]$ is finite} \\\\   \n",
        "\\textit{Inf} & = & \\mbox{the programs $p$ such that the domain of $[\\![p]\\!]$ is infinite} \\\\      \n",
        "\\textit{Tot} & = & \\mbox{the program  $p$ such that $[\\![p]\\!]$ is a total function} \\\\ \n",
        "\\textit{Equiv} & = & \\mbox{the set of pairs $(p,q)$ of programs which are strongly equivalent}\\\\                                                          \n",
        "\\end{array}\n",
        "$$\n",
        "\n",
        "Of these the first two are computable, easily.   But all of the others are not.   These are all corollaries of Theorem {ref}`Turings-theorem`, sometimes with additional points provided by the $s^m_n$-Theorem.\n",
        "\n",
        "```{prf:corollary}\n",
        "The set of programs which halt when run on all empty registers is undecidable.\n",
        "```\n",
        "\n",
        "```{prf:corollary}\n",
        "The set of programs which halt when run on themselves is undecidable.\n",
        "```"
      ]
    },
    {
      "cell_type": "markdown",
      "metadata": {
        "id": "fZm4iOYSnZKq"
      },
      "source": [
        "# Improvement for one-register programs\n",
        "\n",
        "There is also an improved version of the basic result.\n",
        "\n",
        "Let $A$ be the set of programs which are tidy and which only use one register.\n",
        "\n",
        "```{prf:corollary}\n",
        "The halting problem is undecidable even for programs in $A$ when run on all emtpy registers.\n",
        "```"
      ]
    },
    {
      "attachments": {},
      "cell_type": "markdown",
      "metadata": {
        "id": "rScrbdmgnZSn"
      },
      "source": [
        "```{exercise}\n",
        "The language $\\one\\hash$ has infinitely many instructions: the instructions are the words $\\one^k \\hash^{\\ell}$, where $k\\in \\N$ and $1\\leq \\ell\\leq 5$.\n",
        "\n",
        "For each finite set $F$ of $\\one\\hash$ instructions, we can consider $H_F$, the set of programs $p$ built using the instructions of $F$ (and no others) such that $\\phifn_p(\\ )\\dar$.\n",
        "\n",
        "For example, if $F = \\set{\\one\\hash, \\one\\hash\\hash}$, then $H_F$ is decidable.  This is because every program built from these two instructions halts.\n",
        "\n",
        "Find a finite set $F$ such that $H_F$ is undecidable.\n",
        "```"
      ]
    },
    {
      "cell_type": "markdown",
      "metadata": {
        "id": "RVwndnnOnZXT"
      },
      "source": []
    }
  ],
  "metadata": {
    "colab": {
      "authorship_tag": "ABX9TyPyE8RwWJTN+ZPbefblTQfB",
      "include_colab_link": true,
      "provenance": []
    },
    "kernelspec": {
      "display_name": "Python 3",
      "name": "python3"
    },
    "language_info": {
      "name": "python"
    }
  },
  "nbformat": 4,
  "nbformat_minor": 0
}
