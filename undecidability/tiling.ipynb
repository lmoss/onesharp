{
  "nbformat": 4,
  "nbformat_minor": 0,
  "metadata": {
    "colab": {
      "provenance": [],
      "authorship_tag": "ABX9TyMTcI9rD3LnPJlMJ9Q3RZA/",
      "include_colab_link": true
    },
    "kernelspec": {
      "name": "python3",
      "display_name": "Python 3"
    },
    "language_info": {
      "name": "python"
    }
  },
  "cells": [
    {
      "cell_type": "markdown",
      "metadata": {
        "id": "view-in-github",
        "colab_type": "text"
      },
      "source": [
        "<a href=\"https://colab.research.google.com/github/lmoss/onesharp/blob/main/undecidability/tiling.ipynb\" target=\"_parent\"><img src=\"https://colab.research.google.com/assets/colab-badge.svg\" alt=\"Open In Colab\"/></a>"
      ]
    },
    {
      "cell_type": "code",
      "execution_count": null,
      "metadata": {
        "id": "dIf6kCr8SmCC"
      },
      "outputs": [],
      "source": []
    },
    {
      "cell_type": "markdown",
      "source": [
        "# Tiling\n",
        "\n",
        "In this notebook we prove the undecidability of the tiling problem.  \n",
        "\n",
        "\n",
        "\n",
        "Recall that in this problem we are given a finite pointed tile set $\\mathcal{T}$, and the problem is to determine whether there is a proper tiling of the first quadrant of the plane using $\\mathcal{T}$.\n",
        "\n",
        "\n",
        "A \\emph{tile} is a square with \\emph{colors} on the four sides.\n",
        "\n",
        " The colors can be anything, of course.\n",
        " \n",
        " \\\n",
        "\n",
        "A \\emph{finite, pointed tile set}\n",
        "$(\\TT,t_0)$\n",
        "is a finite set $\\TT$ of tiles with a fixed *distinguished tile*\n",
        "$t_0\\in\\TT$.\n",
        "\n",
        "When we talk about \\emph{tile sets} we always will mean a \n",
        "finite,\n",
        "pointed tile set.\n",
        "\n",
        "\n",
        "\n",
        "The main problem  is   whether,\n",
        "given a tile\n",
        "set  $\\TT$,\n",
        " we we can tile the first quadrant of the plane in such a way that\n",
        "$t_0$ goes on\n",
        "the corner, \n",
        "and matching edges have the same color. \n",
        " \n",
        "Let $\\Tile$ be the set of (codes of) tile sets $\\TT$  with the property that\n",
        "the\n",
        "the first quadrant can be tiled with $\\TT$ in this sense.\n",
        "\n",
        "Our main result in this notebook is that\n",
        "$\\Tile$ is undecidable.\n",
        "In fact, $\\Tile \\equiv_m  \\overline{K}$.\n",
        "\n",
        "\n",
        "In our proof, we are interested in programs $p$ with the following features:\n",
        "\n",
        "(a) $p$ is tidy.\n",
        "\n",
        "(b) $p$ only uses register 1.\n",
        "\n",
        "Let $A$ be the set of programs with those two properties,\n",
        "and let $B\\subseteq A$ be the subset with the additional property that\n",
        "$\\phif_p(\\ )\\dar$.\n",
        "\n",
        "Then $A$ is decidable (easily) and we show that $B$ is\n",
        "is undecidable.\n"
      ],
      "metadata": {
        "id": "Y0wVF8LcSmsz"
      }
    },
    {
      "cell_type": "markdown",
      "source": [
        "```{admonition} Our goal\n",
        ":class: attention\n",
        "\n",
        "A computable and total function $\\TT$\n",
        "from programs to (pointed) tile sets\n",
        "such that $p\\notin B$   $\\Leftrightarrow$ $\\TT(p)$ \n",
        "*can* tile the quadrant.\n",
        "\n",
        "We need only worry about defining $\\TT(p)$ for $p\\in A$.\n",
        "Fix such a program $p$.\n",
        "\n",
        "\n"
      ],
      "metadata": {
        "id": "yCmuRMnc3f-W"
      }
    },
    {
      "cell_type": "markdown",
      "source": [
        "# The definition of $\\TT(p)$\n",
        "\n",
        "We start with 18 tiles that are part of $\\TT(p)$ for *all* $p\\in A$.\n"
      ],
      "metadata": {
        "id": "m2gfZvq-4C5A"
      }
    },
    {
      "cell_type": "markdown",
      "source": [
        "<img src=\"https://github.com/lmoss/onesharp/blob/main/undecidability/tilingPictures/t1-01.png?raw=1\" width=\"100%\" height=\"100%\">\n",
        "\n"
      ],
      "metadata": {
        "id": "1cxBGr1Pbd7V"
      }
    },
    {
      "cell_type": "markdown",
      "source": [
        "Next, when  instruction $i$ of $p$ is  $\\one\\hash$, we include the tile\n",
        "\n",
        "<img src=\"https://github.com/lmoss/onesharp/blob/main/undecidability/tilingPictures/t2-02.png?raw=1\" width=\"100%\" height=\"100%\">\n"
      ],
      "metadata": {
        "id": "Gosu9qEBMcaa"
      }
    },
    {
      "cell_type": "markdown",
      "source": [
        "And when  instruction $i$ of $p$ is  $\\one\\hash\\hash$, we include the tile\n",
        "\n",
        "\n",
        "<img src=\"https://github.com/lmoss/onesharp/blob/main/undecidability/tilingPictures/t3-03.png?raw=1\" width=\"100%\" height=\"100%\">\n"
      ],
      "metadata": {
        "id": "E-XFWzwBMy41"
      }
    },
    {
      "cell_type": "markdown",
      "source": [
        "When  instruction $i$ is  $\\one^m\\hash\\hash\\hash$ we include\n",
        "\n",
        "<img src=\"https://github.com/lmoss/onesharp/blob/main/undecidability/tilingPictures/t4-04.png?raw=1\" width=\"100%\" height=\"100%\">\n"
      ],
      "metadata": {
        "id": "V1rUiDk3Myut"
      }
    },
    {
      "cell_type": "markdown",
      "source": [
        "When instruction $i$ is  $\\one^m\\hash\\hash\\hash\\hash$ we include\n",
        "\n",
        "<img src=\"https://github.com/lmoss/onesharp/blob/main/undecidability/tilingPictures/t5-05.png?raw=1\" width=\"100%\" height=\"100%\">\n"
      ],
      "metadata": {
        "id": "2Zh5WXqZMykz"
      }
    },
    {
      "cell_type": "markdown",
      "source": [
        "Finally, when instruction $i$ is the cases instruction $\\one\\hash\\hash\\hash\\hash\\hash$, we include the three tiles\n",
        "\n",
        "<img src=\"https://github.com/lmoss/onesharp/blob/main/undecidability/tilingPictures/t6-06.png?raw=1\" width=\"100%\" height=\"100%\">\n"
      ],
      "metadata": {
        "id": "lbZjdAnwMybw"
      }
    },
    {
      "cell_type": "markdown",
      "source": [
        "```{example}\n",
        "Here is a finite part of a tiling of the first quadrant with $\\TT(\\one\\hash\\one\\hash\\hash\\hash\\hash)$:\n",
        "\n",
        "<img src=\"https://github.com/lmoss/onesharp/blob/main/undecidability/tilingPictures/t7-07.png?raw=1\" width=\"100%\" height=\"100%\">\n"
      ],
      "metadata": {
        "id": "yyARxVAoMyS3"
      }
    },
    {
      "cell_type": "markdown",
      "source": [
        "<img src=\"https://github.com/lmoss/onesharp/blob/main/undecidability/tilingPictures/t8-08.png?raw=1\" width=\"100%\" height=\"100%\">\n"
      ],
      "metadata": {
        "id": "UsOAs6FnMyJL"
      }
    },
    {
      "cell_type": "markdown",
      "source": [
        "<img src=\"https://github.com/lmoss/onesharp/blob/main/undecidability/tilingPictures/t9-09.png?raw=1\" width=\"100%\" height=\"100%\">\n"
      ],
      "metadata": {
        "id": "MfgNDgCVMyB6"
      }
    },
    {
      "cell_type": "markdown",
      "source": [
        "<img src=\"https://github.com/lmoss/onesharp/blob/main/undecidability/tilingPictures/t10-10.png?raw=1\" width=\"100%\" height=\"100%\">\n"
      ],
      "metadata": {
        "id": "RvtikrHyMx6g"
      }
    },
    {
      "cell_type": "markdown",
      "source": [
        "<img src=\"https://github.com/lmoss/onesharp/blob/main/undecidability/tilingPictures/t11-11.png?raw=1\" width=\"100%\" height=\"100%\">\n"
      ],
      "metadata": {
        "id": "afuU9DU7Mxz6"
      }
    },
    {
      "cell_type": "markdown",
      "source": [
        "<img src=\"https://github.com/lmoss/onesharp/blob/main/undecidability/tilingPictures/t12-12.png?raw=1\" width=\"100%\" height=\"100%\">\n"
      ],
      "metadata": {
        "id": "Y9FB6fOUMxs1"
      }
    },
    {
      "cell_type": "markdown",
      "source": [
        "<img src=\"https://github.com/lmoss/onesharp/blob/main/undecidability/tilingPictures/t13-13.png?raw=1\" width=\"100%\" height=\"100%\">"
      ],
      "metadata": {
        "id": "Oud4p27rMxlQ"
      }
    },
    {
      "cell_type": "markdown",
      "source": [
        "<img src=\"https://github.com/lmoss/onesharp/blob/main/undecidability/tilingPictures/t14-14.png?raw=1\" width=\"100%\" height=\"100%\">"
      ],
      "metadata": {
        "id": "GToCpRRrMxcY"
      }
    },
    {
      "cell_type": "markdown",
      "source": [
        "<img src=\"https://github.com/lmoss/onesharp/blob/main/undecidability/tilingPictures/t15-15.png?raw=1\" width=\"100%\" height=\"100%\">"
      ],
      "metadata": {
        "id": "EozQdfM8MxT7"
      }
    },
    {
      "cell_type": "markdown",
      "source": [
        "<img src=\"https://github.com/lmoss/onesharp/blob/main/undecidability/tilingPictures/t16-16.png?raw=1\" width=\"100%\" height=\"100%\">"
      ],
      "metadata": {
        "id": "Y0_c6KLVMxNz"
      }
    },
    {
      "cell_type": "markdown",
      "source": [
        "<img src=\"https://github.com/lmoss/onesharp/blob/main/undecidability/tilingPictures/t17-17.png?raw=1\" width=\"100%\" height=\"100%\">"
      ],
      "metadata": {
        "id": "0QDocZZWMxKK"
      }
    },
    {
      "cell_type": "markdown",
      "source": [
        "<img src=\"https://github.com/lmoss/onesharp/blob/main/undecidability/tilingPictures/t18-18.png?raw=1\" width=\"100%\" height=\"100%\">"
      ],
      "metadata": {
        "id": "n9qLqFO-MxEw"
      }
    },
    {
      "cell_type": "markdown",
      "source": [
        "<img src=\"https://github.com/lmoss/onesharp/blob/main/undecidability/tilingPictures/t19-19.png?raw=1\" width=\"100%\" height=\"100%\">"
      ],
      "metadata": {
        "id": "7ISEj1QhMw7m"
      }
    }
  ]
}