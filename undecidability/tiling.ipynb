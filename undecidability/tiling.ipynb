{
  "nbformat": 4,
  "nbformat_minor": 0,
  "metadata": {
    "colab": {
      "provenance": [],
      "authorship_tag": "ABX9TyNid10m/pNZn6fihVaS/gIL",
      "include_colab_link": true
    },
    "kernelspec": {
      "name": "python3",
      "display_name": "Python 3"
    },
    "language_info": {
      "name": "python"
    }
  },
  "cells": [
    {
      "cell_type": "markdown",
      "metadata": {
        "id": "view-in-github",
        "colab_type": "text"
      },
      "source": [
        "<a href=\"https://colab.research.google.com/github/lmoss/onesharp/blob/main/undecidability/tiling.ipynb\" target=\"_parent\"><img src=\"https://colab.research.google.com/assets/colab-badge.svg\" alt=\"Open In Colab\"/></a>"
      ]
    },
    {
      "cell_type": "code",
      "execution_count": null,
      "metadata": {
        "id": "dIf6kCr8SmCC"
      },
      "outputs": [],
      "source": []
    },
    {
      "cell_type": "markdown",
      "source": [
        "# Tiling\n",
        "\n",
        "In this notebook we prove the undecidability of the tiling problem.  Recall that in this problem we are given a finite pointed tile set $\\mathcal{T}$, and the problem is to determine whether there is a proper tiling of the first quadrant of the plane using $\\mathcal{T}$."
      ],
      "metadata": {
        "id": "Y0wVF8LcSmsz"
      }
    }
  ]
}