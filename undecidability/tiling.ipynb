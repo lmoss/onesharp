{
  "cells": [
    {
      "cell_type": "markdown",
      "metadata": {
        "colab_type": "text",
        "id": "view-in-github"
      },
      "source": [
        "<a href=\"https://colab.research.google.com/github/lmoss/onesharp/blob/main/undecidability/tiling.ipynb\" target=\"_parent\"><img src=\"https://colab.research.google.com/assets/colab-badge.svg\" alt=\"Open In Colab\"/></a>"
      ]
    },
    {
      "attachments": {},
      "cell_type": "markdown",
      "metadata": {
        "id": "Y0wVF8LcSmsz"
      },
      "source": [
        "# Tiling\n",
        "\n",
        "Early on, we mentioned \n",
        "[some algorithmic problems related to tiling](content:firstTiles).\n",
        "Here is a quick review.\n",
        "\n",
        "A *tile* is a square with *colors* on the four sides.\n",
        " The colors can be anything, of course.\n",
        "A *finite, pointed tile set*\n",
        "$(\\mathcal{T},t_0)$\n",
        "is a finite set $\\mathcal{T}$ of tiles with a fixed *distinguished tile*\n",
        "$t_0\\in\\mathcal{T}$.\n",
        "\n",
        "\n",
        "\n",
        "\n",
        "\n",
        "```{admonition} Notation\n",
        ":class: tip\n",
        "\n",
        "Let $\\mathbb{T}$ be the set of (codes of) all finite pointed tile sets $(\\mathcal{T},t_0)$.\n",
        "Let $K^{\\mathbb{T}}$ be the set of (codes of) tile sets $\\mathcal{T}$  with the property that\n",
        "there is a *proper tiling* of\n",
        "the first quadrant with $\\mathcal{T}$.  (*Proper* here means that $t_0$ goes in the bottom-left corner,\n",
        "and edges shared by neighboring tiles have the same color.)\n",
        "\n",
        "When we talk about tile sets in this section, we always will mean a \n",
        "finite,\n",
        "pointed tile set.  And when we talk about a tiling, we always mean a proper tiling.\n",
        "\n",
        "\n",
        "\n",
        "\n",
        "The complement set\n",
        "$\\overline{K}^{\\mathbb{T}}$ is the set of (codes of) tile sets $\\mathcal{T}$  with the property that\n",
        "the\n",
        "the first quadrant *cannot* be properly tiled with $\\mathcal{T}$.\n",
        "```\n",
        "  \n"
      ]
    },
    {
      "attachments": {},
      "cell_type": "markdown",
      "metadata": {
        "id": "yCmuRMnc3f-W"
      },
      "source": [
        "```{admonition} Our goal\n",
        ":class: attention\n",
        "\n",
        "Consider the following sets:\n",
        "\n",
        "$$\n",
        "\\begin{array}{lcl}\n",
        "A & = & \\mbox{the set of tidy register machine programs}\\\\\n",
        "K^1 & = & \\{ p \\in A : [\\![p]\\!](\\ )\\!\\!\\downarrow\\}\\\\\n",
        "\\end{array}\n",
        "$$\n",
        "\n",
        "\n",
        "\n",
        "Clearly $A$ is decidable, and it is easy to see that $K^1$ is undecidable.\n",
        "\n",
        "Our goal is to prove the result below.\n"
      ]
    },
    {
      "cell_type": "markdown",
      "metadata": {},
      "source": [
        "\n",
        "\n",
        "```{prf:theorem}\n",
        ":label: tiling_undecidability\n",
        "\n",
        "\n",
        "$\\overline{K}^1\\leq_m  {K}^{\\mathbb{T}}$.  Equivalently, $\\overline{K}^1 \\leq_m K^{\\mathbb{T}}$.\n",
        "\n",
        "That is, there is a total computable function\n",
        "$\\mathcal{T}:  A\\to  \\mathbb{T}$\n",
        "such that \n",
        "\n",
        "$$\n",
        "p\\in \\overline{K}^1 \\quadiff   \\mathcal{T}(p) \\in {K}^{\\mathbb{T}}\n",
        "$$\n",
        "\n",
        "That is, $\\mathcal{T}(p)$ can tile the quadrant if and only if $[\\![p]\\!](\\ )\\!\\!\\uparrow$.\n",
        "\n",
        "As a result, $\\overline{K}^{\\mathbb{T}}$ is undecidable.  So ${K}^{\\mathbb{T}}$ is also undecidable.\n",
        "```"
      ]
    },
    {
      "attachments": {},
      "cell_type": "markdown",
      "metadata": {},
      "source": [
        "(content:tilingPreparation)=\n",
        "## Preparation\n",
        "\n",
        "Let $p$ be a tidy program.   As we saw in  {prf:ref}`one-more-register-halting`, we can computably find a program $q$ with the following properties:\n",
        "\n",
        "1.  $[\\![p]\\!](\\ )\\!\\!\\downarrow$ if and only if $[\\![q]\\!](\\ )\\!\\!\\downarrow$\n",
        "\n",
        "2.  The only register mentioned in $q$ is R1.\n",
        "\n",
        "\n",
        "```{admonition} Assumption\n",
        ":class: attention\n",
        "\n",
        "We are going to replace $p$ by $q$.   That is, we *assume* from now on that the  only register mentioned in $p$ is R1.\n",
        "```\n"
      ]
    },
    {
      "attachments": {},
      "cell_type": "markdown",
      "metadata": {},
      "source": [
        "## Ideas behind the construction\n",
        "\n",
        "Let $p$ be a program that only uses R1.   In the case that $[\\![p]\\!](\\ )\\!\\!\\uparrow$,\n",
        "we want a run of $p$ to give rise to a tiling of the entire quadrant.  The idea is that the rows of the tiling should look like the contents of the register step-by-step.   Moreover, we would like the leftmost entry in each row to encode the instruction number that is being executed.  If $p$ is tidy, then the run of $p$ on empty registers takes infinitely many steps.   We do not have $[\\![p]\\!](\\ )\\!\\!\\uparrow$ merely due a bad transfer instruction.   So the run will correspond to the tiling of the entire quadrant.    And if $[\\![p]\\!](\\ )\\!\\!\\downarrow$, there will not be such a tiling; the fact that the computation halted will preclude a tiling of the quadrant.\n",
        "\n",
        "\n",
        "Here is an example which we shall mention at several points in the rest of this discussion.  We take $p$ to be the program  ```1#1##11####```.  Clearly $[\\![p]\\!](\\ )\\!\\!\\uparrow$.  We want the bottom 8 rows of the tiling of the quadrant to resemble\n",
        "\n",
        "<img src=\"https://github.com/lmoss/onesharp/blob/main/undecidability/tilingPictures/t-23.png?raw=1\" width=\"100%\" height=\"100%\">\n",
        "\n",
        "What we have is the step-by-step execution of the program, with the instruction numbers going up the $y$-axis and the contents of the register following that.  Each row is blank after some finite point. \n",
        "\n",
        "We say that we want the bottom 8 rows to *resemble* this because what is shown above is not a set of tiles in the first place: there are no colors on the edges, and so there is nothing to match.  But our details below are an elaboration of this idea.   It might be fun for you to work out your own elaboration at this point before looking below.   But if you want to see how our definitions will work, you can look at\n",
        "{prf:ref}`example-formal-tiling`."
      ]
    },
    {
      "attachments": {},
      "cell_type": "markdown",
      "metadata": {},
      "source": [
        "```{warning}\n",
        "We have an issue with the numeral $1$ and the ```1#``` symbol ```1```.  In order to avoid a potential confusion, we \n",
        "use two fonts.  The symbol $1$ is used for the line number in a program, and the symbol ```1``` is used for the symbol which we put in the registers of our machine.\n",
        "```"
      ]
    },
    {
      "attachments": {},
      "cell_type": "markdown",
      "metadata": {
        "id": "m2gfZvq-4C5A"
      },
      "source": [
        "# The definition of $\\mathcal{T}(p)$\n",
        "\n",
        "This section gives the details on the function $\\mathcal{T}$.  Before we present it, we need a comment on the set of color which we are going to use.  In our [earlier work on tiling](content:firstTiles),\n",
        "we saw tiles whose sides had actual colors, such as the eight tiles below\n",
        "<img src=\"https://github.com/lmoss/onesharp/blob/main/issues/pictures/pictures-01.png?raw=1\" width=\"100%\" height=\"100%\">\n",
        "Here, we are going to make a change.  For a given program $p$, we are going to need $8 + (n+1)= n + 9$ colors.  Since our eyes can only reliably distinguish a (small) finite number of colors, we are going to use numbers as some of our colors.  (Recall that the \"colors\" can be anything.)  \n",
        "\n",
        "We are going to use line numbers in $p$ as colors, \n",
        "and so if $p$ has $n$ lines, we want $1$, $\\ldots$, $n$\n",
        "as colors.  We also want $n+1$, since if $p$ halts we want\n",
        "to think of the control as on \"line $n+1$\".  We also are going to \n",
        "use as symbols the $\\one\\hash$ symbols $\\one$ and $\\hash$,\n",
        "the card symbols $\\heartsuit$ and $\\diamondsuit$\n",
        "(we use these just as a way to add a color to this page),\n",
        "an oblong rectangle, the copyright symbol (a circle with the letter C inside),\n",
        "the word \"start\", and a blank color (where the side of a square is just left blank).\n",
        "\n",
        "We need only worry about defining $\\mathcal{T}(p)$ for $p\\in A$.\n",
        "Fix such a program $p$.\n",
        "\n",
        "We start with 18 tiles that are part of $\\mathcal{T}(p)$ for *all* $p\\in A$.\n"
      ]
    },
    {
      "cell_type": "markdown",
      "metadata": {
        "id": "1cxBGr1Pbd7V"
      },
      "source": [
        "<img src=\"https://github.com/lmoss/onesharp/blob/main/undecidability/tilingPictures/t1-01.png?raw=1\" width=\"100%\" height=\"100%\">\n",
        "\n"
      ]
    },
    {
      "attachments": {},
      "cell_type": "markdown",
      "metadata": {
        "id": "Gosu9qEBMcaa"
      },
      "source": [
        "The rest of $\\mathcal{T}(p)$ depends on the program $p$.  To begin, when  instruction $i$ of $p$ is ```1#```, we include the tile\n",
        "<img src=\"https://github.com/lmoss/onesharp/blob/main/undecidability/tilingPictures/t2-02.png?raw=1\" width=\"100%\" height=\"100%\">\n"
      ]
    },
    {
      "attachments": {},
      "cell_type": "markdown",
      "metadata": {
        "id": "E-XFWzwBMy41"
      },
      "source": [
        "And when  instruction $i$ of $p$ is ```1##```,  we include the tile\n",
        "<img src=\"https://github.com/lmoss/onesharp/blob/main/undecidability/tilingPictures/t3-03.png?raw=1\" width=\"100%\" height=\"100%\">\n"
      ]
    },
    {
      "attachments": {},
      "cell_type": "markdown",
      "metadata": {
        "id": "V1rUiDk3Myut"
      },
      "source": [
        "When  instruction $i$ is  ```1```${}^m$```###``` we include the two tiles\n",
        "<img src=\"https://github.com/lmoss/onesharp/blob/main/undecidability/tilingPictures/t4-04.png?raw=1\" width=\"100%\" height=\"100%\">\n"
      ]
    },
    {
      "attachments": {},
      "cell_type": "markdown",
      "metadata": {
        "id": "lbZjdAnwMybw"
      },
      "source": [
        "Finally, when instruction $i$ is the cases instruction ```1#####```,\n",
        "we include the three tiles\n",
        "<img src=\"https://github.com/lmoss/onesharp/blob/main/undecidability/tilingPictures/t6-06.png?raw=1\" width=\"100%\" height=\"100%\">\n"
      ]
    },
    {
      "attachments": {},
      "cell_type": "markdown",
      "metadata": {
        "id": "mHEvTLY8pq3I"
      },
      "source": [
        "Notice that $\\mathcal{T}(p)$ is a finite set of tiles.\n",
        "We also want $\\mathcal{T}(p)$ to be pointed, and we take the green tile above.\n",
        "\n",
        "This completes the definition of the function $\\mathcal{T}$.  It's clear that $\\mathcal{T}$ is total and computable.  The easy part of our result is showing that if $p\\in A$ halts, then there is a propert tiling of the quadrant with $\\mathcal{T}(p)$."
      ]
    },
    {
      "attachments": {},
      "cell_type": "markdown",
      "metadata": {
        "id": "2Zh5WXqZMykz"
      },
      "source": [
        "When instruction $i$ is   ```1```${}^m$```####``` we include the two tiles\n",
        "<img src=\"https://github.com/lmoss/onesharp/blob/main/undecidability/tilingPictures/t5-05.png?raw=1\" width=\"100%\" height=\"100%\">\n"
      ]
    },
    {
      "attachments": {},
      "cell_type": "markdown",
      "metadata": {
        "id": "yyARxVAoMyS3"
      },
      "source": [
        "```{prf:example}\n",
        ":label: example-formal-tilinghttps://github.com/lmoss/onesharp/blob/main/undecidability/tilingPictures/t5-05.png?raw=1\n",
        "\n",
        "\n",
        "Let $p$ be our running example program  ```1#1##11####```. \n",
        "$\\TT(p)$ contains the 18 tiles that come for free, and also the three tiles below:\n",
        "<img src=\"https://github.com/lmoss/onesharp/blob/main/undecidability/tilingPictures/t22-22.png?raw=1\" width=\"100%\" height=\"100%\">\n",
        "In these two tiles, the symbol $1$ is the first line number of $p$,\n",
        "not the ```1#``` symbol ```1```.\n",
        "\n",
        "Here is a finite part of a tiling of the first quadrant with $\\mathcal{T}(p)$:\n",
        "\n",
        "<img src=\"https://github.com/lmoss/onesharp/blob/main/undecidability/tilingPictures/t-24.png?raw=1\" width=\"100%\" height=\"100%\">\n",
        "\n",
        "```"
      ]
    },
    {
      "attachments": {},
      "cell_type": "markdown",
      "metadata": {
        "id": "1V_N0uw4G_jj"
      },
      "source": [
        "## Some observations\n",
        "\n",
        "We continue with some observations which are used in verifying that our construction works.  These will be used in {prf:ref}`tiling_works` below.\n",
        "Fix a program $p$, and consider $\\mathcal{T}(p)$.\n",
        "\n",
        "The only tile with a blank on the left is the all blank tile.\n",
        "Thus, if one of the tiles in a given row has \n",
        "a blank on the right,\n",
        "then forever to its right, all the tiles are blank.\n",
        " \n",
        "\n",
        "\n",
        "If the copyright symbol appears on the east or west edge of a tile, then all tiles in that row must have \n",
        "either the copyright symbol or blank on their east and west.\n",
        "\n",
        "Same with the heart symbol: if it occurs on the east or west side of a tile, then all tiles in that row must have \n",
        "either the heart symbol or blank on their east and west.   \n",
        "\n",
        "And the same for the diamond symbol as well.\n",
        "\n",
        "A tile has one of the  line number symbols\n",
        "(the number 1, 2, $\\ldots$, n, n+1)\n",
        "on the top\n",
        "if and only if that tile is in the first column.\n",
        "We call these *instruction tiles*.  The instruction tiles\n",
        "are the only ones with the oblong rectangle on the left side.\n",
        "\n",
        "We are going to denote by $k$ the number of instructions in $p$.\n",
        "Notice that there is no tile with $k+1$ on the bottom.\n",
        "\n",
        "\n",
        "\n",
        "\n",
        "```{tip}\n",
        "Consider a tiling of two neighboring rows of the quadrant, say row $i$ and row $i+1$.\n",
        "Suppose that the first blank in row $i$ is the $j$th tile.\n",
        "Then  the first blank in row $i+1$ is either the $(j-1)$st tile, or the $j$th tile, or the $(j+1)$st tile.\n",
        "An easy induction then shows the following:\n",
        "in a tiling of the first quadrant or of some finite number of rows at the bottom, \n",
        "every row has to have all blanks after some finite point.\n",
        "\n",
        "We don't actually need to know this fact, but it would be good to prove this.\n",
        "```"
      ]
    },
    {
      "attachments": {},
      "cell_type": "markdown",
      "metadata": {
        "id": "fWsIaUh4Hs__"
      },
      "source": [
        "```{prf:definition}\n",
        "\n",
        "The *word encoded in rows $n$*\n",
        "is the word composed of all symbols on the \n",
        "*tops* of the tiles in row $n$ from the bottom, starting\n",
        "*after the instruction tile* (the first tile in row $n$).\n",
        "```"
      ]
    },
    {
      "attachments": {},
      "cell_type": "markdown",
      "metadata": {
        "id": "WtvjclmCH3y-"
      },
      "source": [
        "```{prf:example}\n",
        "\n",
        "<img src=\"https://github.com/lmoss/onesharp/blob/main/undecidability/tilingPictures/t-25.png?raw=1\" width=\"100%\" height=\"100%\">\n",
        "\n",
        "Again we take $p$ to be our example program ```1#1##11####```.\n",
        "We see part a tiling (the bottom four rows), together with the words encoded in those rows, shown on the right.\n",
        "\n",
        "```\n"
      ]
    },
    {
      "attachments": {},
      "cell_type": "markdown",
      "metadata": {
        "id": "c2pAX-3m5X1U"
      },
      "source": [
        "# Main lemma\n",
        "\n",
        "\n",
        "Before we state our main lemma, we need some terminology about the rows in a tiling and about the step numbers in the run of a program.\n",
        "We start counting the rows with row $0$.  (So in a tiling of the quadrant the first tile in row $0$ is the start tile.)\n",
        "\n",
        "For a program $p$, \"step 0\" gets us ready before step $1$.  In step $1$, we execute the first instruction of $p$.   In each step $n$, we execute \n",
        "instruction $i(n)$, and we also calculate the next instruction to execute, $i(n+1)$.  We always have $0\\leq i(n)\\leq k+1$, where $k$ is the\n",
        "number of instructions in $p$.\n",
        "\n",
        "For example, let $p$ be the program ```1#1##11####```.\n",
        "We have $i(0) = 0$, $i(1) = 1$, $i(2) = 2$, $i(3) = 3$, $i(4) = 1$, $i(5) = 2$, $\\ldots$.\n",
        "\n",
        "For another, let $q$ be ```1#1##```.  Then $i(0)= 0$, $i(1) = 1$, $i(2) = 3$.  The number of instructions in $q$ is $k =2$,\n",
        "and so $i(2) = k+1$.\n",
        "\n",
        "\n",
        "\n",
        "```{prf:lemma}\n",
        ":label: tiling_works\n",
        "\n",
        "Fix $p\\in A$, and consider $\\mathcal{T}(p)$ \n",
        "and also the run of $p$ on empty registers.\n",
        "\n",
        "For all $n$ the following are equivalent:\n",
        "\n",
        "1.  The run goes on for at least $n$ steps without halting.\n",
        "\n",
        "2. There is a (unique) tiling of the first $n$ rows. \n",
        "The $n$th row starts with an instruction tile bearing $i(n)$ on the bottom and $i(n+1)$ on the top,\n",
        "and the \n",
        "the word encoded in the $n$th row is the contents of the register after $n$ steps.\n",
        "\n",
        "```\n",
        "\n",
        "\n",
        "\n",
        "We prove this lemma by induction on $n$.  For $n = 0$, both statements are true. The unique tiling of row $0$ is the starting tile followed by all blanks.\n",
        "\n",
        "All of the work is in verifying the induction step.   So assume the equivalence of 1 and 2 for $n$; we prove it for $n+1$.\n",
        "\n",
        "First, assume that $p$ does not run for at least $n+1$ steps.   Then either it does not run for at least $n$ steps, or else \n",
        "it does run for at least $n$ steps, and then halts on step $n+1$.    In the first case, by induction hypothesis, there is no tiling of the first $n$ rows.\n",
        "So there is no tiling of the first $n+1$ rows, either.  In the second case, the instruction tile in row $n$ has $k+1$ on the top row.  In this case,\n",
        "there is no way to continue the tiling, because there is no tile with $k+1$ on the bottom.  So there is no tiling of the first $n+1$ rows.\n",
        "\n",
        "Turning things around, we have shown that (2) for $n+1$ implies (1) for $n+1$.\n",
        "\n",
        "Second, assume (1) for $n+1$:  $p$ does run for at least $n+1$ steps.  Then it runs for at least $n$ steps. \n",
        "This is point (1) for $n$.   By the induction hypothesis, we have (2) for $n$.\n",
        "So we have a unique tiling of the first $n$ rows, and the word encoded in row $n$ is the contents of the register after $n$ steps of $p$.\n",
        "We need to see that we have a unique tiling of row $n+1$, and that the word encoded in row $n+1$ is the contents of the register after $n+1$ steps.  \n",
        "\n",
        "Consider the instruction tile in row $n$.  By induction hypothesis, the number at the bottom\n",
        "of this tile is $i(n)$, and the number at the top is $i(n+1)$.  Now $i(n+1)$ cannot be $k+1$, \n",
        "where $k$ is the number of instructions in $p$.\n",
        "For if $i(n+1) = k+1$, the program $p$ could not run for $n+1$ steps.\n",
        "So $1\\leq i(n+1)\\leq k$.\n",
        "\n",
        "At this point the proof splits into cases depending on what instruction $i(n+1)$  of $p$ is.\n",
        "\n",
        "Case 1: Instruction $i(n+1)$  of $p$ is ```1#```. This is very similar to Case 2 just below.\n",
        "\n",
        "\n",
        "\n",
        "Case 2: Instruction $i(n+1)$  of $p$ is ```1##```.  \n",
        "\n",
        "```{dropdown} Details here\n",
        "\n",
        "\n",
        "For the sake of exposition we work an example rather than the general case.\n",
        "\n",
        "Let $n = 4743$.  Suppose that row 4743 of the tiling starts out \n",
        "<img src=\"https://github.com/lmoss/onesharp/blob/main/undecidability/tilingPictures/t11-11.png?raw=1\" width=\"100%\" height=\"100%\">\n",
        "\n",
        "\n",
        "and instruction 24 of the program is ```1##```.  We check that there is a unique way to tile row 4744.\n",
        "The first tile in that row must be \n",
        "<img src=\"https://github.com/lmoss/onesharp/blob/main/undecidability/tilingPictures/t12-12.png?raw=1\" width=\"100%\" height=\"100%\">\n",
        "This is because the only tile in $\\mathcal{T}(p)$ with $24$ on the bottom is the tile above.\n",
        "What are the next tiles in row 4744?\n",
        "<img src=\"https://github.com/lmoss/onesharp/blob/main/undecidability/tilingPictures/t13-13.png?raw=1\" width=\"100%\" height=\"100%\">\n",
        "\n",
        "\n",
        "```{dropdown} Click for the answer.\n",
        "<img src=\"https://github.com/lmoss/onesharp/blob/main/undecidability/tilingPictures/t14-14.png?raw=1\" width=\"100%\" height=\"100%\">\n",
        "Of course, it must be checked that this really is the only way to tile row 4744.   The observations made above should help you do this.\n",
        "```\n",
        "\n",
        "So we see that there is a unique way to tile row 4744.   Recall that we are verifying point (2) for $n+1$.  It remains to \n",
        "show that the word encoded in the register after $n+1$ steps is  is the contents of the register after $n+1$ steps.\n",
        "By what we saw above, the contents of the register after $n$ steps is ```1##1```.  Step $n+1$ executed the instruction ```1##```.\n",
        "And so the contents after $n+1$ steps is ```1###1#```.  This is exactly the word encoded in row 4744.  \n",
        "\n",
        "This verifies point (2) for $n+1$.  Of course, we only worked with an example, but the general case is an elaboration of what we showed here.    \n",
        "\n",
        "\n",
        "\n",
        "\n",
        "Case 3(a): Instruction $i(n+1)$  of $p$ is ```1^m ###``` and R1 is not empty after executing $n$ steps of $p$.\n",
        "\n",
        "```{dropdown} Details here\n",
        "\n",
        "\n",
        "To make things concrete, suppose that $n = 67$, $i(68) = 131$,  $m=8$,  that row $n$ of the tiling is\n",
        "<img src=\"https://github.com/lmoss/onesharp/blob/main/undecidability/tilingPictures/t9-09.png?raw=1\" width=\"100%\" height=\"100%\">\n",
        "and that instruction 131 of $p$ is ```1```${}^8$```###```.   Thus, $i(69) = 131 + 8=169$.\n",
        "We have two options for the instruction tile in row $68$.\n",
        "We claim that this tile must be\n",
        "<img src=\"https://github.com/lmoss/onesharp/blob/main/undecidability/tilingPictures/t8-08.png?raw=1\" width=\"100%\" height=\"100%\">\n",
        "It is important to check that the instruction tile in row $68$ cannot be the same tile but with the copyright symbol replaced by the blank.\n",
        "\n",
        "We claim that row $68$ must be the top row below:\n",
        "<img src=\"https://github.com/lmoss/onesharp/blob/main/undecidability/tilingPictures/t10-10.png?raw=1\" width=\"100%\" height=\"100%\">\n",
        "\n",
        "We mainly leave this verification to you.  The tiles in row $68$ must either be blank or involve the copyright symbol,\n",
        "and a case-by-case analysis shows that row 68 must be as above.\n",
        "\n",
        "The word encoded in row $67$  is ```1##```.  By our induction hypothesis on $n = 67$, \n",
        "This is exactly the same as the same as the contents of the register after $67$ steps.  Instruction 68 of $p$ was \n",
        "```1^8 #^3```.   After executing that instruction, the register did not change.   So it still is ```1##```.  All of this verifies\n",
        " (2) for $n+1$ in Case 3(a).\n",
        "\n",
        "Don't read the symbol as \"copyright\" but as \"copy right.\"\n",
        "```\n",
        "\n",
        "\n",
        "Case 3(b): Instruction $i(n+1)$  of $p$ is ```1^m ###``` and R1 is empty  after executing $n$ steps of $p$.\n",
        "\n",
        "```{dropdown} Details here\n",
        "\n",
        "\n",
        "This is very much like Case 3(a) above, with one important change.   The instruction tile in row $n+1$ now *must* be the tile with a blank on the right side. \n",
        "\n",
        "The rest of the details are as in in Case 3(a).\n",
        "\n",
        "```\n",
        "\n",
        "Case 4(a): Instruction $i(n+1)$  of $p$ is ```1^m ####``` and R1 is not empty after executing $n$ steps of $p$.\n",
        "Of course, this is similar to Case 3(a).\n",
        "\n",
        "Case 4(b): Instruction $i(n+1)$  of $p$ is ```1^m ####``` and R1 is empty  after executing $n$ steps of $p$.\n",
        "This is similar to Case 3(b).\n",
        "\n",
        "Case 5: Instruction $i(n+1)$ of $p$ is ```1#####```.\n",
        "\n",
        "```{dropdown} Details here\n",
        "\n",
        "Suppose again that $n = 4743$ and that row 4743 of some tiling of the quadrant has the encoded word ```1##1```.  For example, it might be \n",
        "<img src=\"https://github.com/lmoss/onesharp/blob/main/undecidability/tilingPictures/t11-11.png?raw=1\" width=\"100%\" height=\"100%\">\n",
        "So $i(4744) = 24$.    We are assuming\n",
        "that instruction 24 of the program is the case instruction ```1#####```.\n",
        "Then the first tile in instruction 4744 can be any of the three tiles\n",
        "<img src=\"https://github.com/lmoss/onesharp/blob/main/undecidability/tilingPictures/t15-15.png?raw=1\" width=\"100%\" height=\"100%\">\n",
        "\n",
        "So the situation is\n",
        "<img src=\"https://github.com/lmoss/onesharp/blob/main/undecidability/tilingPictures/t16-16.png?raw=1\" width=\"100%\" height=\"100%\">\n",
        "\n",
        "\n",
        "\n",
        "We cannot have the symbol above the blank to be as below\n",
        "<img src=\"https://github.com/lmoss/onesharp/blob/main/undecidability/tilingPictures/t17-17.png?raw=1\" width=\"100%\" height=\"100%\">\n",
        "\n",
        "This is because the symbols in the middle of row 4744 have to be \n",
        "```1```, ```#```, or ``blank.'' So there would be no way to match the heart symbol at the end.\n",
        "\n",
        "\n",
        "We must have all blanks on the far right, and then next to that a tiles with two ```1```s:\n",
        "We now know the last tiles before the blank tiles in row 4744:\n",
        "<img src=\"https://github.com/lmoss/onesharp/blob/main/undecidability/tilingPictures/t18-18.png?raw=1\" width=\"100%\" height=\"100%\">\n",
        "\n",
        "\n",
        "Indeed, the whole row has to be\n",
        "<img src=\"https://github.com/lmoss/onesharp/blob/main/undecidability/tilingPictures/t19-19.png?raw=1\" width=\"100%\" height=\"100%\">\n",
        "An important detail here is that the only instruction tile with 24 on the bottom and ```1``` on the right has 26 on the top.\n",
        "\n",
        "By our induction hypothesis on $n$, the word encoded in row 4743 \n",
        "is the contents of the register after 4743 steps.\n",
        "The word encoded in row 4744  is ```##1```.\n",
        "This is exactly\n",
        "the word encoded in row 4743, with  the first symbol (a ```1```) deleted.   So, this is the contents of the register after 4744 steps. \n",
        "\n",
        "To verify point (2) for $n+1$, we only need to check the point about the top of the instruction tile in row 4744.  We have seen that\n",
        "step 4744 executed a case instruction and step 4744 of the execution of $p$ was for the instruction ```1#####```.\n",
        "Since this starts with a ```1```, the next instruction to execute is 24 + 2 = 26.   That is, $i(n+1) = 26$.\n",
        "\n",
        "All of this verifies point (2) for $n+1$, \n",
        "but only in the case when the word encoded in row 4743 starts with a ```1```.\n",
        "\n",
        "Similar work applies when the word encoded in row 4743 starts with a ```#```.\n",
        "\n",
        "Now what happens when the word encoded in row 4743 is the empty word?  By induction hypothesis, after 4743 steps of running $p$,\n",
        "the register is empty.  Moreove, the first tile in row 4744 must be the first of our three options, shown again below:\n",
        "\n",
        "<img src=\"https://github.com/lmoss/onesharp/blob/main/undecidability/tilingPictures/t15-15.png?raw=1\" width=\"100%\" height=\"100%\">\n",
        "\n",
        "By trying things out again, we see that the rest of row 4744 must be copies of the empty tile.   So the word encoded in that register is again empty.\n",
        "Note also that $i(4744) = 25 = 24+1$.  This all corresponds to executing the ```1#####``` instruction on the empty register.\n",
        "\n",
        "We have verified all parts of (2) for $n+1$.\n",
        "``` \n",
        "\n",
        "\n",
        "\n"
      ]
    },
    {
      "attachments": {},
      "cell_type": "markdown",
      "metadata": {},
      "source": [
        "```{exercise}\n",
        "Let $\\mathcal{T}$ be finite tile set, and consider $\\varphi(\\mathcal{T})$.  \n",
        "Find a model of $\\varphi(\\mathcal{T})$ that is *not* isomorphic to the grid model (the model that we had in mind when we formulated $\\varphi(\\mathcal{T})$).\n",
        "\n",
        "Does this matter?   That is, does this invalidate or complicate the proof above (or neither)?\n",
        "```"
      ]
    },
    {
      "attachments": {},
      "cell_type": "markdown",
      "metadata": {},
      "source": [
        "```{exercise}\n",
        "In a similar vein, consider the program ```1# 1#### + clear_1```.\n",
        "\n",
        "\n",
        "It has six instructions.  It does not halt.   The tile set associated with it, $\\mathcal{T}(p)$ has a tile with $7$ as the instruction number on the top.  Find a model of $\\phi(\\mathcal{T}(p))$ which has some point with this tile on it.\n",
        "```"
      ]
    },
    {
      "attachments": {},
      "cell_type": "markdown",
      "metadata": {},
      "source": [
        "# Proof of the theorem\n",
        "\n",
        "{prf:ref}`tiling_works`\n",
        "leads to the proof of the main result in this section, {prf:ref}`tiling_undecidability`.\n",
        "\n",
        "\n",
        "```{admonition} Reminder of what we are proving.\n",
        ":class: warning\n",
        "\n",
        "\n",
        "If $p$ runs forever (on all empty registers), then\n",
        "$\\mathcal{T}(p)$ can tile the first quadrant.\n",
        " \n",
        "If $p$ halts (on all empty registers) at some point, then\n",
        "$\\mathcal{T}(p)$ cannot tile the first quadrant.\n",
        "```\n",
        "\n",
        "---\n",
        "\n",
        "```{prf:proof}\n",
        "For the first statement, the lemma implies that for all $n$, there is a unique tiling of the first $n$ rows of the quadrant.  From the uniqueness, if $n < m$, then the tiling of the first $n$ rows has to be a restriction of the tiling of the first $m$ rows.   It follows that we can take the union over $n$ of the tiling of the first $n$ rows.  This will be a tiling of the entire quadrant.\n",
        "\n",
        "For the second statement, suppose towards a contradiction that the run of $p$ halts in $n+1$ steps and yet $\\TT(p)$ can tile the quadrant.\n",
        "We use {prf:ref}`tiling_works`.  We have (1) for $n$, and so we have (2) for $n$ as well. Let $k$ be the number of instructions in our program $p$. \n",
        "The instruction tile in row $n$ \n",
        "(the first tile)\n",
        "must have $k+1$ on the top; this is what it means for the run to halt in $n+1$ steps.  Let us call this tile $t^*$.   Since we have a tiling of the entire quadrant,\n",
        "there must be a tile on top of $t^*$.   But no tile in our tile set $\\mathcal{T}(p)$ has $k+1$ on the bottom.  This is the contradiction.\n",
        "\n"
      ]
    },
    {
      "attachments": {},
      "cell_type": "markdown",
      "metadata": {
        "id": "zZHZlDh-LwxG"
      },
      "source": [
        "# The reverse inequality\n",
        "\n",
        "\n",
        "```{prf:theorem}\n",
        ":label: tiling_undecidability_converse\n",
        "\n",
        "\n",
        "$ {K}^{\\mathbb{T}}\\leq \\overline{K}^1 $.\n",
        "\n",
        "That is, there is a total computable function\n",
        "$f:  \\mathbb{T}\\to A$\n",
        "such that \n",
        "\n",
        "$$\n",
        "\\mathcal{T}\\in  {K}^{\\mathbb{T}} \\mbox{ iff  }  f(\\mathcal{T}) \\in \\overline{K}^1\n",
        "$$\n",
        "\n",
        "That is, $\\mathcal{T}$ can tile the entire quadrant if and only if  $f(\\mathcal{T})$ does not halt.\n",
        "\n",
        "In other words,\n",
        "$\\mathcal{T}$ cannot tile the entire quadrant if and only if  $f(\\mathcal{T})$ does halt.\n",
        "\n",
        "```\n",
        "\n",
        "The work here is based on an important mathematical result.\n",
        "\n",
        "```{prf:lemma} Konig Infinity Lemma\n",
        ":label: Konig\n",
        "\n",
        "Every infinite tree $T$ which is finitely branching has an infinite branch.\n",
        "\n",
        "```\n",
        "\n",
        "```{prf:proof}\n",
        "We construct a sequence $t_n$ of points in $T$ by recursion.    Each $t_n$ will have distance $n$ from the root of $T$.\n",
        "Let $t_0$ be the root.  Given $t_n$, consider the set $C$ of children of this node.   This is a finite set. The set of nodes of $T$ whose distance to the root is $\\leq n$ is finite, since $T$ is finitely branching.   So the set $D$ of nodes\n",
        "whose distance is $> n$ is infinite.   There must be some $u\\in C$ which is an ancestor of infinitely many elements of $D$.\n",
        "Let $t_{n+1}$ be any such node $u$.\n",
        "```\n",
        "\n",
        "This very general result has as a special case the following fact:\n",
        "\n",
        "```{prf:lemma} \n",
        "\n",
        "If a tile set $\\mathcal{T}$ cannot tile the entire quadrant, then there is some natural number $n$ such that \n",
        "$\\mathcal{T}$ cannot tile the  $n\\times n$ square in the lower left corner.\n",
        "```\n",
        "\n",
        "```{prf:proof}\n",
        "We show the contrapositive.   Assume that for all $n$ there is a tiling using $\\mathcal{T}$ of the $n\\times n$ square in the corner.  We show that there is a tiling of the entire quadrant.\n",
        "\n",
        "Consider the set of all tilings of all $n\\times n$ squares in the corner.  It is a tree, where the \"edge\" relation\n",
        "relates a tiling of the $n\\times n$ square to a tiling of the $(n+1)\\times (n+1)$ square iff the first is a restriction of the second.\n",
        "This is tree: the root is the empty tiling of the $0\\times 0$ square.   It is finitely branching, since the tile set $\\mathcal{T}$ is finite to begin with.   By {prf:ref}`Konig`, the tree has an infinite branch.  \n",
        "By taking the union of the tilings along this branch, we tile the entire quadrant.\n",
        "\n",
        "(One cannot in general take the union of tilings, since those tilings might conflict.  But if we have a branch in this tree, then the tilings along the branch agree on their common squares.  And in this case, we *can* take the union.)\n",
        "\n",
        "```\n",
        "\n",
        "We turn this observation into the proof of {prf:ref}`tiling_undecidability_converse`.\n",
        "\n",
        "Given a pointed tile set $\\mathcal{T}$, \n",
        "make a program  $f(\\mathcal{T})$ such that\n",
        "running $f(\\mathcal{T})$ on all empty registers using the $\\mu$-operator\n",
        "to look for some number $n$\n",
        "such that  $\\mathcal{T}$ *cannot* tile the $n\\times n$ square containing the corner.\n",
        " \n",
        "(If there is no such $n$, the program goes on looking forever.)\n",
        " \n",
        "The point again is that if $\\mathcal{T}$ has no tiling of the whole quadrant,\n",
        "then our last lemma shows that  $[\\![f(\\mathcal{T})]\\!](\\ )\\!\\!\\downarrow$.\n",
        "\n",
        "\n"
      ]
    },
    {
      "attachments": {},
      "cell_type": "markdown",
      "metadata": {},
      "source": [
        "```{exercise}\n",
        "\n",
        "Our work on tiling dealt with *finite* tile sets.  This problem relaxes the finiteness requirement.    Construct an infinite pointed tile set $\\mathcal{T}$ with the following properties:\n",
        "\n",
        "1.  $\\mathcal{T}$ is computable.\n",
        "\n",
        "2.  For all $n$, $\\mathcal{T}$ can tile the $n\\times n$ square in the lower-left corner.\n",
        "\n",
        "3.  There is no tiling of the entire quadrant using $\\mathcal{T}$.\n",
        "\n",
        "```"
      ]
    },
    {
      "attachments": {},
      "cell_type": "markdown",
      "metadata": {
        "id": "Iy3yeHYmz_x_"
      },
      "source": [
        "```{exercise}\n",
        "In our work on tiling, we took a program $p$ with $n$ lines and defined $\\mathcal{T}(p)$ with $n+9$ colors.  Is it possible to change the mapping $\\mathcal{T}$ to only use a fixed finite set of colors?\n",
        "```"
      ]
    },
    {
      "attachments": {},
      "cell_type": "markdown",
      "metadata": {},
      "source": [
        "## A problem related to tiling finite rectangles\n"
      ]
    },
    {
      "attachments": {},
      "cell_type": "markdown",
      "metadata": {
        "id": "Pz0F2xYtazie"
      },
      "source": [
        "```{exercise}\n",
        ":label: tilingforTrakhtenbrot\n",
        "\n",
        "In this problem we consider a variant of the tiling problem where the goal is not to tile the entire first quadrant but rather to tile a finite rectangle in a noteworthy way.\n",
        "\n",
        "A *three-pointed* tile set is a tile set $\\mathcal{T}_3$ with three distinguished tiles, a *start* tile, a *halt* tile, and a *blank* tile.\n",
        "\n",
        "A finite rectangle is *tiled by $\\mathcal{T}_3$* if there is a tiling in the usual sense with the property that its southwest square is tiled with the start tile, its northwest corner is tiled with the halt tile, and every tile on the eastern edge is tiled with the blank tile.\n",
        "\n",
        "Every program $p$ meeting the conditions of this section gives rise to a three-pointed tile set $\\mathcal{T}_3$ by taking the start and blank tiles as before, and the halt tile to be the unique instruction tile whose top number is $m+1$, where $m$ is the number of instructions in $p$.\n",
        "\n",
        "1.  Show that $[\\![p]\\!](\\ )\\!\\!\\downarrow$ iff there is a finite rectangle which can be tiled by $\\mathcal{T}_3$.\n",
        "\n",
        "2. Let $\\mathbb{T}_3$ be the set of 3-pointed tiles with can tile some finite rectangle.  Show that $K\\leq_m \\mathbb{T}_3 \\leq_m K$.  That is the problem of determining whether a three-pointed tile set can tile some finite rectangle is undecidable.\n",
        "```"
      ]
    },
    {
      "cell_type": "markdown",
      "metadata": {
        "id": "rKllc3rwcUIQ"
      },
      "source": [
        "```{admonition} Credits\n",
        ":class: warning\n",
        "\n",
        "The original source on tiling is Hao Wang's paper from 1961 entitled \"Proving theorems by pattern recognition—II\", Bell System Technical Journal, 40 (1): 1–41.  This paper has the undecidability of tiling a pointed tile set.  It was for tiling the entire plane rather than the quadrant.  It also employed the undecidability of the halting problem for *Turing machines* rather than for register machines.  The work there is a bit easier than what we do here.  Put another way, if one were to prove that Turing machines can emulate register machines, the details would be similar to what we did concerning the instructions of the form ```1#```,  ```1##```, or  ```1#####```.\n",
        "\n",
        "It is more interesting and much more difficult to study the tiling problem on tile sets that do not come with a \"start tile\" $t_0$. \n",
        "The tiling problem for finite tile sets was shown to be undecidable by Raphael Robinson in his paper \"Undecidability and Nonperiodicity for Tilings of the Plane,\" Inventiones Mathematicae, 12(3), 1971 pp. 177–209.   There are newer and simpler proofs of this result as well.\n",
        "\n",
        "```"
      ]
    }
  ],
  "metadata": {
    "colab": {
      "authorship_tag": "ABX9TyMCq00sGQ+xWAADl+N6Ahcw",
      "include_colab_link": true,
      "provenance": []
    },
    "kernelspec": {
      "display_name": "Python 3",
      "name": "python3"
    },
    "language_info": {
      "name": "python"
    }
  },
  "nbformat": 4,
  "nbformat_minor": 0
}
