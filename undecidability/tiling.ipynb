{
  "nbformat": 4,
  "nbformat_minor": 0,
  "metadata": {
    "colab": {
      "provenance": [],
      "authorship_tag": "ABX9TyO3Kz9Gu4ylHlFzMS9/j/ff",
      "include_colab_link": true
    },
    "kernelspec": {
      "name": "python3",
      "display_name": "Python 3"
    },
    "language_info": {
      "name": "python"
    }
  },
  "cells": [
    {
      "cell_type": "markdown",
      "metadata": {
        "id": "view-in-github",
        "colab_type": "text"
      },
      "source": [
        "<a href=\"https://colab.research.google.com/github/lmoss/onesharp/blob/main/undecidability/tiling.ipynb\" target=\"_parent\"><img src=\"https://colab.research.google.com/assets/colab-badge.svg\" alt=\"Open In Colab\"/></a>"
      ]
    },
    {
      "cell_type": "code",
      "execution_count": null,
      "metadata": {
        "id": "dIf6kCr8SmCC"
      },
      "outputs": [],
      "source": []
    },
    {
      "cell_type": "markdown",
      "source": [
        "# Tiling\n",
        "\n",
        "In this notebook we prove the undecidability of the tiling problem.  Recall that in this problem we are given a finite pointed tile set $\\mathcal{T}$, and the problem is to determine whether there is a proper tiling of the first quadrant of the plane using $\\mathcal{T}$.\n",
        "\n",
        "**For now, here are the pictures -- text to come.**"
      ],
      "metadata": {
        "id": "Y0wVF8LcSmsz"
      }
    },
    {
      "cell_type": "markdown",
      "source": [
        "<img src=\"https://github.com/lmoss/onesharp/blob/main/undecidability/tilingPictures/t1-01.png?raw=1\" width=\"100%\" height=\"100%\">\n",
        "\n"
      ],
      "metadata": {
        "id": "1cxBGr1Pbd7V"
      }
    },
    {
      "cell_type": "markdown",
      "source": [
        "<img src=\"https://github.com/lmoss/onesharp/blob/main/undecidability/tilingPictures/t2-02.png?raw=1\" width=\"100%\" height=\"100%\">\n"
      ],
      "metadata": {
        "id": "Gosu9qEBMcaa"
      }
    },
    {
      "cell_type": "markdown",
      "source": [
        "<img src=\"https://github.com/lmoss/onesharp/blob/main/undecidability/tilingPictures/t3-03.png?raw=1\" width=\"100%\" height=\"100%\">\n"
      ],
      "metadata": {
        "id": "E-XFWzwBMy41"
      }
    },
    {
      "cell_type": "markdown",
      "source": [
        "<img src=\"https://github.com/lmoss/onesharp/blob/main/undecidability/tilingPictures/t4-04.png?raw=1\" width=\"100%\" height=\"100%\">\n"
      ],
      "metadata": {
        "id": "V1rUiDk3Myut"
      }
    },
    {
      "cell_type": "markdown",
      "source": [
        "<img src=\"https://github.com/lmoss/onesharp/blob/main/undecidability/tilingPictures/t5-05.png?raw=1\" width=\"100%\" height=\"100%\">\n"
      ],
      "metadata": {
        "id": "2Zh5WXqZMykz"
      }
    },
    {
      "cell_type": "markdown",
      "source": [
        "<img src=\"https://github.com/lmoss/onesharp/blob/main/undecidability/tilingPictures/t6-06.png?raw=1\" width=\"100%\" height=\"100%\">\n"
      ],
      "metadata": {
        "id": "lbZjdAnwMybw"
      }
    },
    {
      "cell_type": "markdown",
      "source": [
        "<img src=\"https://github.com/lmoss/onesharp/blob/main/undecidability/tilingPictures/t7-07.png?raw=1\" width=\"100%\" height=\"100%\">\n"
      ],
      "metadata": {
        "id": "yyARxVAoMyS3"
      }
    },
    {
      "cell_type": "markdown",
      "source": [
        "<img src=\"https://github.com/lmoss/onesharp/blob/main/undecidability/tilingPictures/t8-08.png?raw=1\" width=\"100%\" height=\"100%\">\n"
      ],
      "metadata": {
        "id": "UsOAs6FnMyJL"
      }
    },
    {
      "cell_type": "markdown",
      "source": [
        "<img src=\"https://github.com/lmoss/onesharp/blob/main/undecidability/tilingPictures/t9-09.png?raw=1\" width=\"100%\" height=\"100%\">\n"
      ],
      "metadata": {
        "id": "MfgNDgCVMyB6"
      }
    },
    {
      "cell_type": "markdown",
      "source": [
        "<img src=\"https://github.com/lmoss/onesharp/blob/main/undecidability/tilingPictures/t10-10.png?raw=1\" width=\"100%\" height=\"100%\">\n"
      ],
      "metadata": {
        "id": "RvtikrHyMx6g"
      }
    },
    {
      "cell_type": "markdown",
      "source": [
        "<img src=\"https://github.com/lmoss/onesharp/blob/main/undecidability/tilingPictures/t11-11.png?raw=1\" width=\"100%\" height=\"100%\">\n"
      ],
      "metadata": {
        "id": "afuU9DU7Mxz6"
      }
    },
    {
      "cell_type": "markdown",
      "source": [
        "<img src=\"https://github.com/lmoss/onesharp/blob/main/undecidability/tilingPictures/t12-12.png?raw=1\" width=\"100%\" height=\"100%\">\n"
      ],
      "metadata": {
        "id": "Y9FB6fOUMxs1"
      }
    },
    {
      "cell_type": "markdown",
      "source": [
        "<img src=\"https://github.com/lmoss/onesharp/blob/main/undecidability/tilingPictures/t13-13.png?raw=1\" width=\"100%\" height=\"100%\">"
      ],
      "metadata": {
        "id": "Oud4p27rMxlQ"
      }
    },
    {
      "cell_type": "markdown",
      "source": [
        "<img src=\"https://github.com/lmoss/onesharp/blob/main/undecidability/tilingPictures/t14-14.png?raw=1\" width=\"100%\" height=\"100%\">"
      ],
      "metadata": {
        "id": "GToCpRRrMxcY"
      }
    },
    {
      "cell_type": "markdown",
      "source": [
        "<img src=\"https://github.com/lmoss/onesharp/blob/main/undecidability/tilingPictures/t15-15.png?raw=1\" width=\"100%\" height=\"100%\">"
      ],
      "metadata": {
        "id": "EozQdfM8MxT7"
      }
    },
    {
      "cell_type": "markdown",
      "source": [
        "<img src=\"https://github.com/lmoss/onesharp/blob/main/undecidability/tilingPictures/t16-16.png?raw=1\" width=\"100%\" height=\"100%\">"
      ],
      "metadata": {
        "id": "Y0_c6KLVMxNz"
      }
    },
    {
      "cell_type": "markdown",
      "source": [
        "<img src=\"https://github.com/lmoss/onesharp/blob/main/undecidability/tilingPictures/t17-17.png?raw=1\" width=\"100%\" height=\"100%\">"
      ],
      "metadata": {
        "id": "0QDocZZWMxKK"
      }
    },
    {
      "cell_type": "markdown",
      "source": [
        "<img src=\"https://github.com/lmoss/onesharp/blob/main/undecidability/tilingPictures/t18-18.png?raw=1\" width=\"100%\" height=\"100%\">"
      ],
      "metadata": {
        "id": "n9qLqFO-MxEw"
      }
    },
    {
      "cell_type": "markdown",
      "source": [
        "<img src=\"https://github.com/lmoss/onesharp/blob/main/undecidability/tilingPictures/t19-19.png?raw=1\" width=\"100%\" height=\"100%\">"
      ],
      "metadata": {
        "id": "7ISEj1QhMw7m"
      }
    }
  ]
}