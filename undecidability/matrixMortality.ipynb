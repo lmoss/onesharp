{
 "cells": [
  {
   "attachments": {},
   "cell_type": "markdown",
   "metadata": {},
   "source": [
    "# Matrix mortality\n",
    "\n",
    "(content:matrixMortalityUndecidable)=\n",
    "\n",
    "This section will contain a proof that [the $3\\times 3$ matrix mortality problem](content:firstMatrixMortality) is undecidable.   It uses a related problem which we saw in {ref}`matrix-mortality-exercise`. This is the problem of deciding whether a given set of $3\\times 3$ matrices with integer entries has some finite product with a $0$ in the upper-left corner.  We called this $M_0$, and showed that $M_0 \\leq M_{1,1}$, where $M_{1,1}$ is the $3\\times 3$ matrix mortality problem.    So we need only show that $PCP\\leq_m M_0$ in order to conclude our work, where $PCP$ is from our work on Post's Correspondence Problem."
   ]
  },
  {
   "attachments": {},
   "cell_type": "markdown",
   "metadata": {},
   "source": [
    "```{admonition} Credits\n",
    ":class: warning\n",
    "\n",
    "The undecidability of matrix mortality was first proved in\n",
    "\n",
    "Michael S. Paterson,  (1970). \"Unsolvability in 3 × 3 matrices\". Studies in Applied Mathematics. 49: 105–107.\n",
    "\n",
    "The proof here comes from \n",
    "\n",
    "Vesa Halava and Tero Harju, (2001). Mortality in Matrix Semigroups. The American Mathematical Monthly, 108(7), 649–653.\n",
    "\n",
    "```"
   ]
  },
  {
   "attachments": {},
   "cell_type": "markdown",
   "metadata": {},
   "source": []
  }
 ],
 "metadata": {
  "language_info": {
   "name": "python"
  },
  "orig_nbformat": 4
 },
 "nbformat": 4,
 "nbformat_minor": 2
}
