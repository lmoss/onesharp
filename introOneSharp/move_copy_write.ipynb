{
  "cells": [
    {
      "cell_type": "markdown",
      "metadata": {
        "colab_type": "text",
        "id": "view-in-github"
      },
      "source": [
        "<a href=\"https://colab.research.google.com/github/lmoss/onesharp/blob/main/introOneSharp/move_copy_write.ipynb\" target=\"_parent\"><img src=\"https://colab.research.google.com/assets/colab-badge.svg\" alt=\"Open In Colab\"/></a>"
      ]
    },
    {
      "attachments": {},
      "cell_type": "markdown",
      "metadata": {
        "id": "8C7LMBIh5Hmr"
      },
      "source": [
        "# Basic programs\n",
        "\n",
        "We have seen the syntax of ```1#``` instructions \n",
        "[in a previous notebook](instructions.ipynb), along with the semantics\n",
        "We turn to the simplest programs in the language."
      ]
    },
    {
      "cell_type": "code",
      "execution_count": null,
      "metadata": {
        "id": "ZUEj49fx7gDq"
      },
      "outputs": [],
      "source": [
        "!python -m pip install -U setuptools\n",
        "!python -m pip install -U git+https://github.com/lmoss/onesharp.git@main\n",
        "from onesharp.interpreter.interpreter import *"
      ]
    },
    {
      "attachments": {},
      "cell_type": "markdown",
      "metadata": {
        "id": "Q1NfvunUI9ui"
      },
      "source": [
        "\n",
        "## $\\moveprog_{2,1}$\n",
        "\n",
        "The first is a program called $\\moveprog_{2,1}$.   It moves the contents of R2 onto the end of R1, emptying out R2 in the process.   It is \n",
        "\n",
        "$$\\onett\\onett\\hash\\hash\\hash\\hash\\hash\\onett\\onett\\onett\\onett\\onett\\onett\\hash\\hash\\hash\\onett\\onett\\onett\\hash\\hash\\hash\\onett\\hash\\hash\\onett\\onett\\onett\\onett\\hash\\hash\\hash\\hash\\onett\\hash\\onett\\onett\\onett\\onett\\onett\\onett\\hash\\hash\\hash\\hash\n",
        "$$\n",
        "\n",
        "It is more informative to exhibit this program as a chart with instruction numbers and glosses, and we do this below.\n",
        "The program has seven instructions.  We call these the *lines* of the program. Here is an explanation of what is going when we run  $\\moveprog_{2,1}$.  We start with words in the registers.  The only registers mentioned in the program are R2 and R1. Let's say that at the start $x$ is the word in R2,and $y$ is the word in R1.\n",
        "\n",
        "This is our first look at a case statement $\\onett^k \\hash^5$.   Upon execution, if $x = \\eps$, we move \n",
        "to line 2.  If $x$ starts with  $\\onett$, we delete it and go to line 3 and thence to line 6 and thus to the third section of the program.  There is no significance\n",
        "to the colors; they are just there to help us read and understand the program. If instead $x$ starts with $\\hash$, we would delete it \n",
        "and go to the second section, starting in line 4.  That section ends in line 5, and from there we return to the top.\n",
        "\n",
        "\n",
        "\n",
        "Our program is a loop.  Each time through the loop we take a symbol from the start of whatever is in R2 and add the same symbol to the end of R1.\n",
        "As soon as R2 becomes empty, we transfer out of the program.   We do this in line 2 by going forward 6 lines, to the first line out of our program.\n",
        "By going around the loop repeatedly, we transfer $x$ symbol-by-symbol to the end of R1.   At the end, the contents of R1 will be $y$ followed by $x$;\n",
        "soon we will write this as $y+x$.\n",
        "\n",
        "Whenever $m$ and $n$ are different numbers, we can build a similar  program $\\moveprog_{m,n}$. This program would write the contents of Rm onto the end of Rn, emptying Rm in the process.\n",
        "\n",
        "\n",
        "\n",
        "###  Modifying $\\moveprog_{2,1}$ \n",
        "\n",
        "```{exercise}\n",
        "\n",
        "Write a program which takes the contents of R1 and adds them to the ends of *both* R2 and R3.\n",
        "```\n",
        "\n",
        "```{exercise}\n",
        ":label: exer-clear\n",
        "\n",
        "1. \n",
        "Write a program $\\clearprog_1$ that clears out R1, leaving it empty.   This program does not touch other registers.\n",
        "\n",
        "2.\n",
        "Similarly, for each $n$ there is a program  $\\clearprog_n$ that clears out Rn.     Is there a single program that clears out R$n$ for all $n$?\n",
        "```\n",
        "\n",
        "```{exercise}\n",
        "\n",
        "Write a program $p$ that adds a $\\onett$ to the beginning of R1, assuming that R2 is empty. (For example, if R1 has $\\hash\\hash\\onett$ to start, then running $p$ would result in R1 having $\\onett\\hash\\hash\\onett$.) \n",
        "```\n",
        "\n",
        "\n",
        "\n",
        "\n",
        "\n"
      ]
    },
    {
      "cell_type": "code",
      "execution_count": 2,
      "metadata": {
        "colab": {
          "base_uri": "https://localhost:8080/",
          "height": 35
        },
        "id": "JnrcdeAl_Kmm",
        "outputId": "3f228e38-08a4-4272-c30d-0d1a03639eab"
      },
      "outputs": [
        {
          "data": {
            "text/plain": [
              "'11#####1##11111'"
            ]
          },
          "execution_count": 2,
          "metadata": {},
          "output_type": "execute_result"
        }
      ],
      "source": [
        "onesharp(move_2_1, ['11#','####1##11111'])"
      ]
    },
    {
      "cell_type": "markdown",
      "metadata": {
        "id": "ZEn2WieG_RJY"
      },
      "source": [
        "The words in the brackets are the contents of registers 1 and 2 when we start.  Again, our program moved the contents of R2 onto the end of R1, emptying R2.  You should want to change the opening contents of R1 and R2 in the cell above before going on."
      ]
    },
    {
      "attachments": {},
      "cell_type": "markdown",
      "metadata": {
        "id": "0YHJpDX7_pDf"
      },
      "source": [
        "(content:parsing)=\n",
        "If you have an interpreter handy, you can parse this program and also get glosses.\n"
      ]
    },
    {
      "cell_type": "code",
      "execution_count": 3,
      "metadata": {
        "colab": {
          "base_uri": "https://localhost:8080/"
        },
        "id": "vc_brPCuG_qG",
        "outputId": "a8c37f98-ab93-451e-ae5b-29dc38ef68db"
      },
      "outputs": [
        {
          "data": {
            "text/plain": [
              "['11#####', '111111###', '111###', '1##', '1111####', '1#', '111111####']"
            ]
          },
          "execution_count": 3,
          "metadata": {},
          "output_type": "execute_result"
        }
      ],
      "source": [
        "parse(move_2_1)"
      ]
    },
    {
      "cell_type": "code",
      "execution_count": null,
      "metadata": {},
      "outputs": [],
      "source": [
        "parse_explain(move_2_1)"
      ]
    },
    {
      "attachments": {},
      "cell_type": "markdown",
      "metadata": {},
      "source": [
        "Here is this program $\\moveprog_{2,1}$ expressed as a table."
      ]
    },
    {
      "attachments": {},
      "cell_type": "markdown",
      "metadata": {},
      "source": [
        "<TABLE cellspacing=\"0\" cellpadding=\"5\">\n",
        "        <TR BGCOLOR=\"#FFFFCC\">\n",
        "                <TD>11#####</TD> <TD></TD><TD style=\"text-aligh\" right;>cases on R2</TD></TR>\n",
        "        <TR BGCOLOR=\"#FFFFCC\">\n",
        "                <TD>111111###</TD> <TD></TD> <TD style=\"text-aligh\" right;\">R2 is empty; go forward 6 (we're done)\n",
        "                  </TD>  </tr>\n",
        "        <TR BGCOLOR=\"#FFFFCC\"><TD>11111###</TD> <TD></TD><TD>go forward 3 to instruction 6 (the brown section)</TD>  \n",
        "        </TR>\n",
        "         <TR  BGCOLOR=\"#B0E0E6\">\n",
        "                <TD>1##</TD>  <TD></TD><TD>first symbol is #: add # to R1</TD></tr>\n",
        "         <TR  BGCOLOR=\"#B0E0E6\">\n",
        "                <TD>1111####</TD> <TD></TD> <TD>go backward 4 to instruction 1 (the top)</TD></tr>   \n",
        "         <TR  BGCOLOR=\"#D4B48C\">\n",
        "                <TD>1#</TD> <TD></TD> <TD>add 1 to R1</TD></tr>\n",
        "         <TR  BGCOLOR=\"#D4B48C\">\n",
        "                <TD>111111####</TD> <TD></TD> <TD style=\"text-aligh\" right;>go backward 6 to instruction 1 (the top) </TD>  \n",
        "        </TR>\n",
        "</TABLE> \n",
        "\n",
        "<br>"
      ]
    },
    {
      "attachments": {},
      "cell_type": "markdown",
      "metadata": {
        "id": "QTzah7w_HPuf"
      },
      "source": [
        "\n",
        "Here is an explanation of what is going on.\n",
        "\n",
        "If R2 is empty, it goes to line 8.  Since the program itself only has 7 lines, this means that we have transferred *out* of the program.  We say that the program *halts* at that point.  (Please note that *halt* is an important technical term which we explain [in a different notebook](haltDef.ipynb).)\n",
        "\n",
        "\n",
        "If the first symbol of R2 is a ```1```, then the second instruction after the case instruction at the top transfers us down to line 6. This part of the program would then add a ```1``` to R1 and return to the very beginning of the program.\n",
        "\n",
        "If the first symbol of R2 is a ```#```, then we delete that # and go three steps forward, to line 4.  This part of the program would then add a ```#``` to R1 and return to the very beginning of the program.\n",
        "\n",
        "The point is that by going around the loop repeatedly, we transfer the contents of R2 symbol-by-symbol to R1.\n",
        "Similarly, whenever m and n are different numbers, we can build a program ```move_m_n```. This program would write the contents of Rm onto the end of Rn, emptying Rm in the process.\n",
        "\n",
        "\n",
        "\n"
      ]
    },
    {
      "cell_type": "markdown",
      "metadata": {},
      "source": [
        "\n",
        "# $\\copyprog$\n",
        "\n",
        "The second program in this section is called $\\copyprog$.\n",
        "Like $\\moveprog$, the $\\copyprog$ program is actually an infinite batch of programs. \n",
        "The difference between $\\moveprog$ and $\\copyprog$\n",
        "for us is that  when a register's contents are $\\moveprog$d, the\n",
        "register is left empty; but with $\\copyprog$,\n",
        " the register is left at the end with exactly what it had\n",
        "at the beginning.\n",
        "\n",
        "\n",
        "In order to copy in this way, we need an auxiliary register, Rp.  So while the $\\moveprog$ programs had two registers in their names, the $\\copyprog$ programs have three.\n",
        "\n",
        "Here is our program when m = 1, n = 2, p = 3.   That is, here is $\\copyprog_{1,2,3}$.\n",
        " \n",
        "\n",
        "$\\includegraphics[scale=0.8]{basicstwo944.pdf}$\n",
        "\n",
        " \n",
        "\n",
        " \n",
        "The program is a loop, exactly like $\\moveprog_{m,n}$.    Each time through, we not only replicate in Rn the first symbol of the word in Rm,\n",
        "but we also an additional copy into Rp.   At the end, when Rm has been emptied, we return Rp to Rm and thus restore the original  contents of Rm. But this only works as described when Rp was empty to begin with.\n",
        "\n",
        "\n"
      ]
    },
    {
      "cell_type": "markdown",
      "metadata": {
        "id": "-6HzTRCIHirm"
      },
      "source": [
        "```{exercise}\n",
        "Write a program which takes the contents of R1 and adds them to the ends of *both* R2 and R3.\n",
        "```"
      ]
    },
    {
      "cell_type": "markdown",
      "metadata": {
        "id": "RwKmd0ubHnBp"
      },
      "source": [
        "```{exercise}\n",
        "Write a program that clears out R1, leaving it empty.\n",
        "```"
      ]
    },
    {
      "cell_type": "markdown",
      "metadata": {
        "id": "vGMfoJ02HqNX"
      },
      "source": [
        "```{exercise}\n",
        "Write a program that clears R3 and then swaps the contents of R1 and R2 (using the now-empty R3).\n",
        "```\n"
      ]
    },
    {
      "cell_type": "markdown",
      "metadata": {
        "id": "F3QwMdfwHtDq"
      },
      "source": [
        "```{exercise}\n",
        "Write a program $p$ that adds a $\\one$ to the beginning of R1, assuming that R2 is empty. (For example, if R1 has $\\hash\\hash\\one$ to start, then running $p$ would result in R1 having $\\one\\hash\\hash\\one$.) Of course, your program may use R2!\n",
        "```"
      ]
    },
    {
      "attachments": {},
      "cell_type": "markdown",
      "metadata": {},
      "source": [
        "<TABLE cellspacing=\"0\" cellpadding=\"5\">\n",
        "        <TR BGCOLOR=\"#FFFFCC\">\n",
        "                <TD>1#####</TD> <TD>cases on R1</TD></TR>\n",
        "        <TR BGCOLOR=\"#FFFFCC\">\n",
        "                <TD>11111111###</TD> <TD>go forward 8 to instruction 10 (the  move<sub>3,1</sub> part) </TD>  </tr>\n",
        "        <TR BGCOLOR=\"#FFFFCC\"><TD>1111###</TD><TD>go forward 4 to instruction 7</TD>  \n",
        "        </TR>\n",
        "         <TR  BGCOLOR=\"#B0E0E6\">\n",
        "                <TD>11##</TD> <TD>add # to R2</TD></tr>\n",
        "         <TR  BGCOLOR=\"#B0E0E6\">\n",
        "                <TD>111##</TD> <TD>add # to R3</TD></tr>   \n",
        "         <TR  BGCOLOR=\"#B0E0E6\">\n",
        "                <TD>11111####</TD> <TD>go backward 5 to the top</TD> </TR>\n",
        "         <TR  BGCOLOR=\"#D4B48C\">\n",
        "                <TD>11#</TD> <TD>add 1 to R2</TD></tr>\n",
        "         <TR  BGCOLOR=\"#D4B48C\">\n",
        "                <TD>111#</TD> <TD>add 1 to R3</TD></tr>\n",
        "         <TR  BGCOLOR=\"#D4B48C\"> <TD>11111111####</TD> <TD>go backward 8 to the top</TD> </TR>\n",
        "         <TR BGCOLOR=\"#FFFFCC\"> <TD> move<sub>3,1</sub></TD><td> from earlier in this notebook </td></TR>\n",
        "</TABLE>        "
      ]
    },
    {
      "cell_type": "markdown",
      "metadata": {},
      "source": [
        "\n",
        "# $\\writeprog$\n",
        "\n",
        "\n",
        "\n",
        "\n",
        "We continue with \n",
        "a program $\\writeprog$ with \n",
        "the following properties:\n",
        "\n",
        "1.  When $\\writeprog$ is started with $x$ in R1 \n",
        "and R2 empty, we eventually halt  with a\n",
        "word $y$\n",
        "in R1 and all other registers empty.\n",
        "\n",
        "2. Then $y$ is a program, and running\n",
        "$y$ with R1 empty results in $x$ back in R1 and all\n",
        "other registers empty.\n",
        " \n",
        "\n",
        "Before we explain $\\writeprog$, recall that running $\\onett\\hash\\hash$  adds a $\\onett$ to R1,\n",
        "and running $\\onett\\hash\\hash$  adds a $\\hash$.\n",
        "\n",
        "As with $\\writeprog$ and $\\copyprog$, this program is a loop.   Going symbol-by-symbol from the input in R1, $\\writeprog$ takes each $\\onett$\n",
        "and adds $\\onett\\hash$ to R2, and each $\\hash$ results in $\\onett\\hash\\hash$ in R2.   These are instructions which would add $\\onett$\n",
        "and $\\hash$ to R1.  After the loop is done, the contents of R2 are moved back to R1.\n",
        "\n",
        "The program $\\writeprog$ may be found in a chart.\n",
        "\n",
        " \n",
        "\n",
        "\\begin{figure}[t]\n",
        "\\includegraphics[scale=0.7]{basicsthree719.pdf}\n",
        "\\caption{The program $\\writeprog$.\\label{fig-write}}\n",
        "\\end{figure}\n",
        "\n",
        " \n",
        "For future reference,\n",
        "let us mention that $\\writeprog$ reads from R1 \n",
        "and writes to R2; it  makes no\n",
        "use of any other register.\n",
        "\n",
        "```{exercise}\n",
        "\n",
        "\n",
        "Why is the result of running $\\writeprog$ on a word $x$  always a program,\n",
        "even if  $x$ is a word which is not a program?\n",
        "```\n",
        "\n",
        "\n",
        "\n",
        "```{exercise}\n",
        "\n",
        "Modify $\\writeprog$\n",
        " to get a program $\\writetotwo$\n",
        "with the following feature:\n",
        " If $\\writetotwo$ is started with  $x$ in R1 \n",
        "and R2 empty, we eventually halt  with a\n",
        "word\n",
        "$y$\n",
        "in R2 and all other registers empty; moreover, running\n",
        "$y$  with R2 empty results in $x$ back in R2  (not R1) and all\n",
        "other registers empty.\n",
        "```\n",
        "\n",
        "\\subsection{The $+$ notation on words}\n",
        "\n",
        "```{admonition} Definition\n",
        ":class: attention\n",
        "If $x$ and $y$ are words, then $x + y$ is the *concatenation* of $x$ followed by $y$.  For example,\n",
        "$$\n",
        "\\onett\\hash\\onett + \\hash \\hash = \\onett\\hash\\onett  \\hash \\hash.\n",
        "$$\n",
        "This operation is associative: $x + (y+z) = (x+y) + z$.   \n",
        "The *empty word* $\\eps$ is an identity element for it:\n",
        "$x + \\eps = x = \\eps + x$.\n",
        "So we have a *monoid*\n",
        "$$\n",
        "(\\words, +, \\eps)\n",
        "$$\n",
        "\n",
        "\n",
        "This means that we can ``add'' programs (since they are words).  For example, let \n",
        "$$\n",
        "q =\\copyprog_{1,2,3} + \\moveprog_{2,1}\n",
        "$$\n",
        "This program $q$ would take the contents of register 1, copy it into register 2 (using register 3), and then move register 2 back to register 1.  So assuming that R2 and R3 were empty to begin with, running $q$ with $x$ in R1 would give us $x + x$ in R1  at the end.\n",
        "\n"
      ]
    },
    {
      "attachments": {},
      "cell_type": "markdown",
      "metadata": {},
      "source": [
        "<br>"
      ]
    },
    {
      "cell_type": "code",
      "execution_count": null,
      "metadata": {},
      "outputs": [],
      "source": []
    },
    {
      "attachments": {},
      "cell_type": "markdown",
      "metadata": {},
      "source": [
        "Here is a table for $\\writeprog$:"
      ]
    },
    {
      "cell_type": "markdown",
      "metadata": {},
      "source": []
    },
    {
      "attachments": {},
      "cell_type": "markdown",
      "metadata": {
        "id": "VAUQmglUB1D5"
      },
      "source": [
        "<TABLE  cellspacing=\"0\" cellpadding=\"5\">\n",
        "        <TR BGCOLOR=\"#FFFFCC\">\n",
        "                <TD>1#####</TD> <TD>cases on R1</TD></TR>\n",
        "        <TR BGCOLOR=\"#FFFFCC\">\n",
        "                <TD>111111111###</TD> <TD>go forward 9\n",
        "                  to the move<sub>2,1</sub> part</TD>  </tr>\n",
        "        <TR BGCOLOR=\"#FFFFCC\"><TD>11111###</TD><TD>go forward 5:\n",
        "to the brown part</TD>  \n",
        "        </TR>\n",
        "         <TR  BGCOLOR=\"#B0E0E6\">\n",
        "                <TD>11#</TD> <TD>add 1 to R2</TD></tr>\n",
        "         <TR  BGCOLOR=\"#B0E0E6\">\n",
        "                <TD>11##</TD> <TD>add # to R2</TD></tr>   \n",
        "         <TR  BGCOLOR=\"#B0E0E6\">\n",
        "                <TD>11##</TD> <TD>add # to R2</TD></tr>   \n",
        "         <TR  BGCOLOR=\"#B0E0E6\">\n",
        "                <TD>111111####</TD> <TD>go backward 6 (to the top)</TD> </TR>\n",
        "         <TR  BGCOLOR=\"#D4B48C\">\n",
        "                <TD>11#</TD> <TD>add 1 to R2 </TD></tr>\n",
        "         <TR  BGCOLOR=\"#D4B48C\">\n",
        "                <TD>11##</TD> <TD>add # to R2</TD></tr>\n",
        "         <TR  BGCOLOR=\"#D4B48C\">\n",
        "                <TD>111111111####</TD> <TD>go backward 9 (to the top)</TD>  \n",
        "        </TR>\n",
        "        <TR BGCOLOR=\"#FFFFCC\">\n",
        "             <TD> move<sub>2,1</sub></TD><td> from earlier in this notebook </td></TR>\n",
        "</TABLE>        \n"
      ]
    },
    {
      "attachments": {},
      "cell_type": "markdown",
      "metadata": {},
      "source": [
        "<br>"
      ]
    },
    {
      "attachments": {},
      "cell_type": "markdown",
      "metadata": {
        "id": "fHwPPO5uCHEe"
      },
      "source": [
        "It should be emphasized that $\\writeprog$ reads from R1 \n",
        "and writes to R2; it  makes no\n",
        "use of any other register."
      ]
    },
    {
      "attachments": {},
      "cell_type": "markdown",
      "metadata": {
        "id": "h1qurP6ejmTN"
      },
      "source": [
        "# The $+$ notation on words\n",
        "\n",
        "```{prf:definition}\n",
        "If $x$ and $y$ are words, then $x + y$ is the *concatenation* of $x$ followed by $y$.  For example,\n",
        "\n",
        "$$\n",
        "\\one\\hash\\one + \\hash \\hash = \\one\\hash\\one  \\hash \\hash.\n",
        "$$\n",
        "\n",
        "This operation is associative: $x + (y+z) = (x+y) + z$.   \n",
        "\n",
        "The *empty word* $\\eps$ is an identity element for it:\n",
        "$x + \\eps = x = \\eps + x$.\n",
        "So we have a [*monoid*](https://en.wikipedia.org/wiki/Monoid)\n",
        "\n",
        "$$\n",
        "(\\words, +, \\eps)\n",
        "$$\n",
        "```\n",
        "\n",
        "This means that we can \"add\" programs (since they are words).  For example, let \n",
        "\n",
        "$$\n",
        "q =copyprog_{1,2,3} + \\moveprog_{2,1}\n",
        "$$\n",
        "\n",
        "This program $q$ would take the contents of register 1, copy it into register 2 (using register 3), and then move register 2 back to register 1.  So assuming that registers 2 and 3 were empty to begin with, running $q$ with $x$ in register $1$ would give us $x + x$ in register 1 at the end."
      ]
    },
    {
      "attachments": {},
      "cell_type": "markdown",
      "metadata": {},
      "source": [
        "```{exercise}\n",
        ":label: pre-diag\n",
        "\n",
        "1.  Let's take a word $x$ and run $\\writeprog$ on it.  Call the resulting program $q$. Suppose that we run $q$ on a word $y$.  Which do we get: $x + y$ or $y + x$?  That is, which is true?\n",
        "\n",
        "$$\n",
        "[\\![[\\![\\writeprog]\\!](x)]\\!](y) = x + y \\quad \\mbox{ or } \\quad [\\![[\\![\\writeprog]\\!](x)]\\!](y) = y + x\n",
        "$$\n",
        "\n",
        "\n",
        "2. Now let $p$ be the program ```copy_1_3_2 + write + move_3_1```. Find an equation satisfied by $p$. That is, fill in the blank\n",
        "\n",
        "$$\n",
        "[\\![ p]\\!](x) = \\underline{\\qquad\\qquad\\qquad}\n",
        "$$\n",
        "\n",
        "3.  Now fill in another blank, where $p$ again is ```copy_1_3_2 + write + move_3_1```:\n",
        "\n",
        "$$\n",
        "[\\![ [\\![ p]\\!](x)]\\!](y) = \\underline{\\qquad\\qquad\\qquad}\n",
        "$$\n",
        "\n",
        "```"
      ]
    }
  ],
  "metadata": {
    "colab": {
      "authorship_tag": "ABX9TyMIIgx/A+TCmazJW+rausKy",
      "include_colab_link": true,
      "provenance": []
    },
    "kernelspec": {
      "display_name": "Python 3",
      "name": "python3"
    },
    "language_info": {
      "codemirror_mode": {
        "name": "ipython",
        "version": 3
      },
      "file_extension": ".py",
      "mimetype": "text/x-python",
      "name": "python",
      "nbconvert_exporter": "python",
      "pygments_lexer": "ipython3",
      "version": "3.8.2"
    }
  },
  "nbformat": 4,
  "nbformat_minor": 0
}
