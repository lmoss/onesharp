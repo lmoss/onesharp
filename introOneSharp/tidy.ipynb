{
  "nbformat": 4,
  "nbformat_minor": 0,
  "metadata": {
    "colab": {
      "provenance": [],
      "authorship_tag": "ABX9TyOy61FoF0+LyxiqwS9Y/yu5",
      "include_colab_link": true
    },
    "kernelspec": {
      "name": "python3",
      "display_name": "Python 3"
    },
    "language_info": {
      "name": "python"
    }
  },
  "cells": [
    {
      "cell_type": "markdown",
      "metadata": {
        "id": "view-in-github",
        "colab_type": "text"
      },
      "source": [
        "<a href=\"https://colab.research.google.com/github/lmoss/onesharp/blob/main/introOneSharp/tidy.ipynb\" target=\"_parent\"><img src=\"https://colab.research.google.com/assets/colab-badge.svg\" alt=\"Open In Colab\"/></a>"
      ]
    },
    {
      "cell_type": "markdown",
      "source": [
        "## Tidy programs"
      ],
      "metadata": {
        "id": "yHt2S0XzHgb9"
      }
    },
    {
      "cell_type": "markdown",
      "source": [
        "We next come to an important definition concerning programs. \n",
        "When a program is executed, each line either transers control to another line, or to some \"line\" outside the program.  If line k is an instruction of the form ```1^k#``` or ```1^k##```, then after line k is executed we go to line k + 1.  Of course, both of these statements assume that there is a line k + 1.  If line k is the last line of the program, then \"line k+1\" does not exist.  But in this case, we say that the program has *halted*.\n",
        "\n",
        "A similar statement holds for the transfer instructions. \n",
        "If line k is ```1^m ###```, then after line k is executed we go to line k + m, provided there is such a line in the program.  If the program has N lines and k + m = N+1, then after line k is executed, the program has *halted*.  If k + m > N+1, then the program has not halted; it is *stuck*.\n",
        "\n",
        "\n",
        "\n"
      ],
      "metadata": {
        "id": "-_VdnaFzHlWc"
      }
    },
    {
      "cell_type": "code",
      "execution_count": null,
      "metadata": {
        "id": "EpnYcztdezb0"
      },
      "outputs": [],
      "source": [
        "!python -m pip install -U setuptools\n",
        "!python -m pip install -U git+https://github.com/lmoss/onesharp.git@main\n",
        "from onesharp.interpreter.interpreter import *"
      ]
    },
    {
      "cell_type": "markdown",
      "source": [
        "Here are some examples of what we are after.  if the last line of a program $p$ is ```1#```, then that line transfers control outside of $p$, but only one line below the end. On the other hand, if a program $q$ has exactly $10$ lines, then we do not want line $8$ to be ```1111###```, since executing this line would take us to \"line 12\".  So a run of $q$ which reached line $8$ would not halt.\n",
        "We would prefer to rewrite $q$ to point to an infinite loop inside of the program.\n",
        "(There are reasons that we prefer programs to have explicit infinite loops instead of pointing to unwanted places.  One such reason appears in {ref}`on-tidiness` below.  Other reasons for this preference will be revealed in due course.) \n",
        "\n",
        "Informally, we say that a program $p$ is *tidy* if no instruction can possibly take us outside the program, except for going \"one instruction below the end\" of $p$.  \n",
        "What we are after here is a formal definition of tidiness.\n",
        "\n",
        "\n",
        "```{admonition} Definition\n",
        ":class: attention\n",
        "\n",
        "\n",
        "Suppose that $p$ is a program with $N$ lines.  Here are the requirements for $p$ to be tidy:\n",
        "\n",
        "(a) If line $i$ is a forward transfer instruction \n",
        "```1```<sup>$k$</sup>```###```, then $i +k \\leq N+1$.\n",
        "\n",
        "(b) If line $i$ is a backward transfer instruction ```1```<sup>$k$</sup>```####```, then $i-k \\geq 1$.\n",
        "\n",
        "(c) If line $i$ is a case instruction ```1```<sup>$k$</sup>```#####```, then $k+2 \\leq N$.\n",
        "```\n",
        "\n",
        "Here is a comment on condition (c).\n",
        "Suppose that $p$ had $N$ lines, and line $N$ were a case instruction\n",
        "```1```<sup>$k$</sup>```#####```. If Rk stared with a ```#```, then executing ```1```<sup>$k$</sup>```#####``` would take us to line $N+3$, and there is no such line.\n",
        "For the same reason, lines $N-1$ and $N-2$ cannot be case instructions.\n",
        "\n"
      ],
      "metadata": {
        "id": "9QnJpiBbDZ-c"
      }
    },
    {
      "cell_type": "markdown",
      "source": [
        "# Strong equivalence to tidy programs"
      ],
      "metadata": {
        "id": "cNd03kA7DpPM"
      }
    },
    {
      "cell_type": "markdown",
      "source": [
        "```{prf:proposition}\n",
        "Every program is strongly equivalent to a tidy program.\n",
        "```"
      ],
      "metadata": {
        "id": "WoGEtOY7Do--"
      }
    },
    {
      "cell_type": "markdown",
      "source": [
        "```{exercise}\n",
        "Prove this proposition. (Alternatively, write a program in either Python or 1# which found a tidy version of an input program.)\n",
        "```"
      ],
      "metadata": {
        "id": "kXIMCdX8Dt6F"
      }
    },
    {
      "cell_type": "markdown",
      "source": [
        "```{exercise}\n",
        ":label: tidiness\n",
        "If $p$ is tidy, show that $p$ is strongly equivalent to any program of the form\n",
        "\n",
        " ```1###``` ```1###``` $\\cdots$ ```1###``` ```p``` ```1###``` ```1### ```$\\cdots$ ```1###```\n",
        "\n",
        "Show that all three parts of the definition of tidiness are needed in order to show this fact.  \n",
        "```"
      ],
      "metadata": {
        "id": "U4nIMdjrD207"
      }
    },
    {
      "cell_type": "markdown",
      "source": [
        "```{exercise}\n",
        ":label: back-transfer\n",
        "Let $p$ be a tidy program.  Show that there is a program $q$ with the following properties:\n",
        "\n",
        "(a) $q$ is strongly equivalent to $p$.\n",
        "\n",
        "(b) In $q$, every backward-transfer instruction points to the top of the program.  That is, if line $i$ of $q$ is $\\one^k \\hash^4$, then $k = i-1$.\n",
        "```"
      ],
      "metadata": {
        "id": "BMi2I4dkcX5h"
      }
    },
    {
      "cell_type": "markdown",
      "source": [
        "```{exercise}\n",
        "Show that the union of two computably enumerable sets is computably enumerable.\n",
        "\n",
        "[Hint: use {ref}`back-transfer`.]"
      ],
      "metadata": {
        "id": "Ym8yUZDkc0H0"
      }
    }
  ]
}