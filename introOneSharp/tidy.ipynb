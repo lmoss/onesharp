{
  "cells": [
    {
      "cell_type": "markdown",
      "metadata": {
        "colab_type": "text",
        "id": "view-in-github"
      },
      "source": [
        "<a href=\"https://colab.research.google.com/github/lmoss/onesharp/blob/main/introOneSharp/tidy.ipynb\" target=\"_parent\"><img src=\"https://colab.research.google.com/assets/colab-badge.svg\" alt=\"Open In Colab\"/></a>"
      ]
    },
    {
      "cell_type": "markdown",
      "metadata": {
        "id": "yHt2S0XzHgb9"
      },
      "source": [
        "## Tidy programs"
      ]
    },
    {
      "attachments": {},
      "cell_type": "markdown",
      "metadata": {
        "id": "-_VdnaFzHlWc"
      },
      "source": [
        "The idea of *tidiness* is that it should be a condition on programs $p$ which ensures that no matter what the registers contain when we begin executing $p$, no instruction  can possibly take us outside of $p$, except for going \"one instruction below the end\".    The execution might not halt due to an infinite loop that is  inside of $p$, but it will not halt improperly.    For example, line $3$ cannot be $\\onett^3\\hash^4$.\n",
        "\n",
        "This description of tidiness is semantic: it has to do with program execution.  We will eventually see that this kind of condition is undecidable. What we are after is a syntactic condition that is strong enough to do what we want, and yet  be decidable."
      ]
    },
    {
      "cell_type": "code",
      "execution_count": null,
      "metadata": {
        "id": "EpnYcztdezb0"
      },
      "outputs": [],
      "source": [
        "!python -m pip install -U setuptools\n",
        "!python -m pip install -U git+https://github.com/lmoss/onesharp.git@main\n",
        "from onesharp.interpreter.interpreter import *"
      ]
    },
    {
      "attachments": {},
      "cell_type": "markdown",
      "metadata": {
        "id": "9QnJpiBbDZ-c"
      },
      "source": [
        "\n",
        "```{admonition} Definition\n",
        ":class: attention\n",
        "\n",
        "Suppose that $p$ is a program with $N$ instructions.  Here are the requirements for $p$ to be tidy:\n",
        "\n",
        "(a) If line $i$ is a forward transfer instruction \n",
        "$\\onett^k \\hash\\hash\\hash$, then $i +k \\leq N +1$.\n",
        "\n",
        "(b) If line $i$ is a backward transfer instruction $\\onett^k \\hash\\hash\\hash\\hash$, then $i-k \\geq \\onett$.\n",
        "\n",
        "(c) If line $i$ is a case instruction $\\onett^k \\hash\\hash\\hash\\hash\\hash$, then $k+2 \\leq N$.\n",
        "\n",
        "\n",
        "Here is a comment on condition (c).\n",
        "Suppose that $p$ had $N$ lines, and line $N$ were a case instruction. $\\onett^k \\hash\\hash\\hash\\hash\\hash$. If Rk started with a $\\hash$, then executing  $\\onett^k\\ \\hash\\hash\\hash\\hash\\hash$ would take us to line $N+3$, and there is no such line. For the same reason, lines $N-\\onett$ and $N-2$ cannot be case instructions.\n",
        "\n",
        "```"
      ]
    },
    {
      "attachments": {},
      "cell_type": "markdown",
      "metadata": {},
      "source": [
        "```{exercise}\n",
        "Prove that every program is strongly equivalent to a program in which the none of the last three instructions are case instructions $\\onett^n \\hash^5$.\n",
        "\n",
        "\n",
        "```"
      ]
    },
    {
      "attachments": {},
      "cell_type": "markdown",
      "metadata": {
        "id": "WoGEtOY7Do--"
      },
      "source": [
        "```{prf:proposition}\n",
        "Every program is strongly equivalent to a tidy program. Moreover, there is a program $\\tidyprog$ such that for all programs $p$,\n",
        "$[\\![\\tidyprog]\\!](p)$ is a tidy program strongly equivalent to $p$.\n",
        "```"
      ]
    },
    {
      "attachments": {},
      "cell_type": "markdown",
      "metadata": {
        "id": "kXIMCdX8Dt6F"
      },
      "source": [
        "```{exercise}\n",
        "Prove this proposition. (Alternatively, write a program in either Python or $\\onesharp$ which found a tidy version of an input program.)\n",
        "```"
      ]
    },
    {
      "attachments": {},
      "cell_type": "markdown",
      "metadata": {
        "id": "U4nIMdjrD207"
      },
      "source": [
        "```{exercise}\n",
        ":label: tidiness\n",
        "If $p$ is tidy, show that $p$ is strongly equivalent to every program of the form\n",
        "\n",
        "$$\n",
        "\\onett\\hash^3 \\cdots \\onett\\hash^3 \\quad p \\quad \\onett\\hash^3 \\cdots \\onett\\hash^3\n",
        "$$\n",
        "\n",
        "Show that all three parts of the definition of tidiness are needed in order to show this fact.  \n",
        "```"
      ]
    },
    {
      "cell_type": "markdown",
      "metadata": {},
      "source": [
        "\n",
        "\n",
        "```{exercise}\n",
        "\n",
        "If $p$ is tidy, show that $p$ is strongly equivalent to every program of the form\n",
        "\n",
        " $\\onett\\hash\\hash\\hash$ $\\onett\\hash\\hash\\hash$ $\\cdots$ $\\onett\\hash\\hash\\hash$ $p$ $\\onett\\hash\\hash\\hash$ $\\onett\\hash\\hash\\hash $ $\\cdots$ $\\onett\\hash\\hash\\hash$\n",
        "\n",
        "Show that all three parts of the definition of tidiness are needed in order to show this fact.  \n",
        "```\n",
        "\n"
      ]
    },
    {
      "attachments": {},
      "cell_type": "markdown",
      "metadata": {},
      "source": [
        "```{exercise}\n",
        "Let $q$ be tidy, and assume that $[\\![ p ]\\!](x) \\simeq y$. \n",
        "Show that the following are equivalent:\n",
        "\n",
        "1. $[\\![ p+q ]\\!](x)\\!\\downarrow$.\n",
        "\n",
        "2. $[\\![ q ]\\!](y)\\!\\!\\downarrow$.\n",
        "\n",
        "3. $([\\![ q ]\\!]\\circ [\\![ p ]\\!])(x)\\!\\!\\downarrow$.\n",
        "\n",
        "(Joshua Burns) Show that in general we need $q$ to be tidy to have (1)$\\Rightarrow$(2).\n",
        "```"
      ]
    },
    {
      "cell_type": "markdown",
      "metadata": {},
      "source": [
        "\n",
        "\n",
        "```{exercise}\n",
        "\n",
        "Find a program $p$ which is not tidy and yet has the property that no matter what the registers contain when we begin executing $p$, control is never taken  outside of $p$, except for going \"one instruction below the end\".  The point is that our syntactic condition of tidiness is sufficient for the semantic condition that we want, but it is not necessary.\n",
        "```\n",
        "\n"
      ]
    },
    {
      "attachments": {},
      "cell_type": "markdown",
      "metadata": {
        "id": "BMi2I4dkcX5h"
      },
      "source": [
        "```{exercise}\n",
        ":label: back-transfer\n",
        "Let $p$ be a tidy program.  Show that there is a program $q$ with the following properties:\n",
        "\n",
        "1. $q$ is strongly equivalent to $p$.\n",
        "\n",
        "2. In $q$, every backward-transfer instruction points to the top of the program.  That is, if line $i$ of $q$ is $\\one^k \\hash^4$, then $k = i-1$.\n",
        "```"
      ]
    },
    {
      "cell_type": "markdown",
      "metadata": {
        "id": "Ym8yUZDkc0H0"
      },
      "source": [
        "```{exercise}\n",
        "Show that the union of two computably enumerable sets is computably enumerable.\n",
        "\n",
        "[Hint: use {ref}`back-transfer`.]"
      ]
    }
  ],
  "metadata": {
    "colab": {
      "authorship_tag": "ABX9TyOy61FoF0+LyxiqwS9Y/yu5",
      "include_colab_link": true,
      "provenance": []
    },
    "kernelspec": {
      "display_name": "Python 3",
      "name": "python3"
    },
    "language_info": {
      "name": "python"
    }
  },
  "nbformat": 4,
  "nbformat_minor": 0
}
