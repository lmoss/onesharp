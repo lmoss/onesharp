{
  "nbformat": 4,
  "nbformat_minor": 0,
  "metadata": {
    "colab": {
      "provenance": [],
      "authorship_tag": "ABX9TyM3wwFsvafH9gCYafKc4yXG",
      "include_colab_link": true
    },
    "kernelspec": {
      "name": "python3",
      "display_name": "Python 3"
    },
    "language_info": {
      "name": "python"
    }
  },
  "cells": [
    {
      "cell_type": "markdown",
      "metadata": {
        "id": "view-in-github",
        "colab_type": "text"
      },
      "source": [
        "<a href=\"https://colab.research.google.com/github/lmoss/onesharp/blob/main/introOneSharp/functions.ipynb\" target=\"_parent\"><img src=\"https://colab.research.google.com/assets/colab-badge.svg\" alt=\"Open In Colab\"/></a>"
      ]
    },
    {
      "cell_type": "markdown",
      "source": [
        "# Functions defined by programs"
      ],
      "metadata": {
        "id": "nsBwZKyT_lo1"
      }
    },
    {
      "cell_type": "markdown",
      "source": [
        "\n",
        "At this point we know what programs of   $\\one\\hash$ are and how they work.\n",
        "We are interested not just in the programs themselves\n",
        "but in *what* they compute.  \n",
        "\n",
        "We call the set $\\set{\\one,\\hash}$  our  *alphabet*, and we use the letter $A$  for it.\n",
        "\n",
        "\n",
        "We know that it is odd to call such a small set an \"alphabet\",\n",
        "even more so when that set doesn't have any letters in it!\n",
        "But this usage is standard, and so we'll adopt it.\n",
        "When used in situations like ours, the word \"alphabet\"\n",
        "just means a set that you use to build words from.  \n",
        "\n",
        "But if $\\set{\\one,\\hash}$ is our alphabet, what in\n",
        "the world are our words?!\n",
        "\n",
        "Answer:\n",
        "A *word* is just a sequence of  symbols from our alphabet.\n",
        "\n",
        " \n",
        "(In contrast to most uses in mathematics and computer science,\n",
        "our words will all be *non-empty*, unless we say otherwise.\n",
        "\n",
        "Examples of words include \n",
        "$\\one\\one\\hash$, and also\n",
        "$\\hash\\hash\\hash$.\n",
        "\n",
        " \n",
        "Let us be clear about the difference between\n",
        "*instructions* and *programs*:  \n",
        " \n",
        "*Instructions* are single steps\n",
        "in programs.  \n",
        " \n",
        "\n",
        " \n",
        "A *program* of $\\one\\hash$ is just a sequence of\n",
        "instructions, \n",
        "run together to make a big word.\n",
        "An instruction counts as a program, \n",
        "but programs of length $\\geq 2$ are not instructions.\n",
        "\n",
        "\n",
        "\n",
        "```{prf:definition}\n",
        "Every word $p$ gives us a function\n",
        "called $\\phifn_p$  on words. \n",
        "\n",
        "$\\phifn_p (x) \\simeq y$ means that\n",
        " $p$ is a program,\n",
        " and\n",
        "when  we \n",
        "run it\n",
        "$p$  with the word $x$ in $\\Rone$ and all other registers empty,\n",
        "then the register machine \n",
        "eventually halts with $y$ in $\\Rone$ and all other \n",
        "registers \n",
        "empty. \n",
        " \n",
        " \n",
        "In all other cases \n",
        "(if $p$ isn't a program, \n",
        "or if $p$ does not halt with $x$ in $\\Rone$, \n",
        "or if\n",
        "$p$ halts but not all of the registers besides $\\Rone$ are empty),\n",
        "then we say that $\\phifn_p (x)$\n",
        "is *undefined*.\n",
        "```\n",
        "\n",
        "\n",
        "```{admonition} Examples\n",
        ":class: tip\n",
        "\n",
        "$\\phifn_{\\one\\hash\\hash}(\\one) \\simeq \\one\\hash$.\n",
        "\n",
        "$\\phifn_{\\one\\hash}(\\hash\\one) \\simeq\\hash\\one\\one$.\n",
        "\n",
        "$\\phifn_{\\hash}(\\one)$ is undefined\n",
        "\n",
        "$\\phifn_{\\one\\hash\\hash\\hash\\one\\hash\\hash\\hash\\hash}(x)$ is undefined for all $x$.\n",
        "```\n",
        "\n",
        "\n",
        "\n",
        "\n",
        "\n",
        "```{attention} \n",
        "Instead of $\\phifn_p(x)$, we might write $\\semantics{p}(x)$.\n",
        "We do this especially when we want to iterate the construction.\n",
        "That is, instead of writing\n",
        "\n",
        "$$\\phifn_{\\phifn_{\\one\\hash\\hash}(\\one)}(\\hash\\one)\n",
        "\\simeq \\hash\\one\\one.\n",
        "$$\n",
        " \n",
        "we would prefer to write\n",
        "\n",
        "$$\\semantics{\\semantics{\\one\\hash\\hash}(\\one)}(\\hash\\one)\\simeq \\hash\\one\\one.\n",
        "$$\n",
        "```  \n",
        "In this notation, $\\semantics{p}$ is a function,\n",
        "just like $\\phifn_p$ is in the other notation.\n",
        "\n",
        "\n",
        "\n"
      ],
      "metadata": {
        "id": "kagQ3xd6nzIL"
      }
    },
    {
      "cell_type": "markdown",
      "source": [
        "# Partial functions"
      ],
      "metadata": {
        "id": "ZhaXDhZfFra5"
      }
    },
    {
      "cell_type": "markdown",
      "source": [
        "# Functions of two or more arguments"
      ],
      "metadata": {
        "id": "PQzllCr-Fu2y"
      }
    },
    {
      "cell_type": "markdown",
      "source": [
        "# Characteristic functions\n",
        "\n",
        "\n",
        "```{definition}\n",
        "Let $A$ be a set of words.   The *characteristic function of $A$* is the function \n",
        "\n",
        "$$\\chi_A : \\words \\to \\set{\\one,\\hash} $$\n",
        "\n",
        "given by \n",
        "\n",
        "$$\\chi_A(w) = \\left\\{\n",
        "  \\begin{array}{ll}\n",
        "  \\one & \\mbox{if $w\\in A$} \\\\\n",
        "  \\hash & \\mbox{if $w\\notin A$} \\\\\n",
        "  \\end{array}\n",
        "  \\right.\n",
        "$$  \n",
        "```"
      ],
      "metadata": {
        "id": "klf9a2FvgnPu"
      }
    },
    {
      "cell_type": "markdown",
      "source": [
        "\n",
        "```{admonition} Definition\n",
        ":class: tip\n",
        "A set $A\\subseteq \\words$ is *$\\one\\hash$-computable* if $\\chi_A$ is a computable function.  Other names for \"computable\" include \"decidable\" and \"recursive\".\n",
        "```\n",
        "\n",
        "```{important}\n",
        "Our work will also involve other notions of \"computable\" besides $\\one\\hash$-computability.   For example, we'll see *intuitive computability*, *Turing maching computability*, and other notions besides.   So it will be important to keep these straight. This is why we put the \"$\\one\\hash$\" in the name \"$\\one\\hash$-computable\". But at this stage, the notion which we'll study the most is $\\one\\hash$-computability.\n",
        "``` "
      ],
      "metadata": {
        "id": "ZkwdFYl1iXHH"
      }
    },
    {
      "cell_type": "markdown",
      "source": [
        "```{exercise}\n",
        "Let $A$ and $B$ be $\\one\\hash$-computable sets.   Show that $A\\cap B$, $A\\cup B$, and $\\overline{A}$ are also $\\one\\hash$-computable, where \n",
        "\n",
        "$$\n",
        "\\begin{array}{lcl}\n",
        "A\\cap B & = & \\set{w \\in \\words : w\\in A \\mbox{ and } w\\in B} \\\\\n",
        "A\\cup B & = & \\set{w \\in \\words : w\\in A \\mbox{ or }\n",
        "      w\\in B \\mbox{ (or both)}} \\\\\n",
        "\\overline{A} & = & \\set{w\\in \\words : w\\notin A} \\\\\n",
        "\\end{array}\n",
        "$$\n",
        "```"
      ],
      "metadata": {
        "id": "aE3MtTwEk3-a"
      }
    },
    {
      "cell_type": "markdown",
      "source": [
        "```{exercise}\n",
        "Is the set of $\\one\\hash$ programs a $\\one\\hash$-computable set of words?\n",
        "```"
      ],
      "metadata": {
        "id": "rRwFeOtziM54"
      }
    },
    {
      "cell_type": "markdown",
      "source": [
        "```{exercise}\n",
        "Show that the following function is $\\one\\hash$-computable:\n",
        "\n",
        "$$\n",
        "f(w) = \\left\\{ \n",
        "  \\begin{array}{ll}\n",
        "  w & \\mbox{if every symbol in $w$ is $\\one$}\\\\\n",
        "  \\hash & \\mbox{otherwise}\n",
        "  \\end{array}\n",
        "  \\right.\n",
        "$$\n",
        "```"
      ],
      "metadata": {
        "id": "J4bEhcqH41D-"
      }
    }
  ]
}