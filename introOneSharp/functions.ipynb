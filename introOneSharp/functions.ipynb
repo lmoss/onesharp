{
  "nbformat": 4,
  "nbformat_minor": 0,
  "metadata": {
    "colab": {
      "provenance": [],
      "authorship_tag": "ABX9TyPazVjsyNE6S+d0bK9VjKeg",
      "include_colab_link": true
    },
    "kernelspec": {
      "name": "python3",
      "display_name": "Python 3"
    },
    "language_info": {
      "name": "python"
    }
  },
  "cells": [
    {
      "cell_type": "markdown",
      "metadata": {
        "id": "view-in-github",
        "colab_type": "text"
      },
      "source": [
        "<a href=\"https://colab.research.google.com/github/lmoss/onesharp/blob/main/introOneSharp/functions.ipynb\" target=\"_parent\"><img src=\"https://colab.research.google.com/assets/colab-badge.svg\" alt=\"Open In Colab\"/></a>"
      ]
    },
    {
      "cell_type": "markdown",
      "source": [],
      "metadata": {
        "id": "lvT7jXn5_pC0"
      }
    },
    {
      "cell_type": "markdown",
      "source": [
        "# Functions defined by programs"
      ],
      "metadata": {
        "id": "nsBwZKyT_lo1"
      }
    },
    {
      "cell_type": "markdown",
      "source": [
        "\n",
        "At this point we know what programs of   $\\one\\hash$ are and how they work.\n",
        "We are interested not just in the programs themselves\n",
        "but in *what* they compute.  \n",
        "\n",
        "We call the set $\\set{\\one,\\hash}$  our  *alphabet*, and we use the letter $A$  for it.\n",
        "\n",
        "\n",
        "We know that it is odd to call such a small set an \"alphabet\",\n",
        "even more so when that set doesn't have any letters in it!\n",
        "But this usage is standard, and so we'll adopt it.\n",
        "When used in situations like ours, the word \"alphabet\"\n",
        "just means a set that you use to build words from.  \n",
        "\n",
        "But if $\\set{\\one,\\hash}$ is our alphabet, what in\n",
        "the world are our words?!\n",
        "\n",
        "A *word* is just a sequence of  symbols from our alphabet.\n",
        "\n",
        " \n",
        "(In contrast to most uses in mathematics and computer science,\n",
        "our words will all be *non-empty*, unless we say otherwise.\n",
        "\n",
        "Examples of words include \n",
        "$\\one\\one\\hash$, and also\n",
        "$\\hash\\hash\\hash$.\n",
        "\n",
        " \n",
        "Let us be clear about the difference between\n",
        "*instructions* and *programs*:  \n",
        " \n",
        "*Instructions* are single steps\n",
        "in programs.  \n",
        " \n",
        "\n",
        " \n",
        "A *program* of $\\one\\hash$ is just a sequence of\n",
        "instructions, \n",
        "run together to make a big word.\n",
        "An instruction counts as a program, \n",
        "but programs of length $\\geq 2$ are not instructions.\n",
        "\n",
        "\n",
        "\n",
        "```{prf:definition}\n",
        "Every word $p$ gives us a function\n",
        "called $\\phifn_p$  on words. \n",
        "$\\phifn_p (x) \\simeq y$ means that\n",
        " $p$ is a program,\n",
        " and\n",
        "when  we \n",
        "run it\n",
        "$p$  with the word $x$ in $\\Rone$ and all other registers empty,\n",
        "then the register machine \n",
        "eventually halts with $y$ in $\\Rone$ and all other \n",
        "registers \n",
        "empty. \n",
        " \n",
        " \n",
        "In all other cases \n",
        "(if $p$ isn't a program, \n",
        "or if $p$ does not halt with $x$ in $\\Rone$, \n",
        "or if\n",
        "$p$ halts but not all of the registers besides $\\Rone$ are empty),\n",
        "then we say that $\\phifn_p (x)$\n",
        "is *undefined*.\n",
        "```\n",
        "\n",
        "\n",
        "```{admonition} Note\n",
        "Instead of $\\phifn_p(x)$, ew might write $\\semantics{p}(x)$.\n",
        "We do this especially when we want to iterate the construction.\n",
        "That is, instead of writing\n",
        "\n",
        "$$\n",
        "\\[\\phi_{\\phifn_{\\one\\hash\\hash}(\\one}(\\hash\\one)\n",
        "$$\n",
        " we would prefer to write\n",
        "$$\\semantics{\\semantics{\\one\\hash\\hash}(\\one)}(\\hash\\one)\\simeq \\hash\\one\\hash.\n",
        "$$ \n",
        "```  \n",
        "In this notation, $\\semantics{p}$ is a function,\n",
        "just like $\\phifn_p$ is in the other notation.\n",
        "\n",
        "\n",
        "\n"
      ],
      "metadata": {
        "id": "kagQ3xd6nzIL"
      }
    },
    {
      "cell_type": "markdown",
      "source": [
        "# Partial functions"
      ],
      "metadata": {
        "id": "ZhaXDhZfFra5"
      }
    },
    {
      "cell_type": "markdown",
      "source": [
        "# Functions of two or more arguments"
      ],
      "metadata": {
        "id": "PQzllCr-Fu2y"
      }
    },
    {
      "cell_type": "code",
      "source": [],
      "metadata": {
        "id": "JWpmSdGK_oOP"
      },
      "execution_count": null,
      "outputs": []
    }
  ]
}