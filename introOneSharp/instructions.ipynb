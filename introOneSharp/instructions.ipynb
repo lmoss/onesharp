{
  "cells": [
    {
      "attachments": {},
      "cell_type": "markdown",
      "metadata": {},
      "source": [
        "<a href=\"https://colab.research.google.com/github/lmoss/onesharp/blob/main/introOneSharp/instructions.ipynb\" target=\"_parent\"><img src=\"https://colab.research.google.com/assets/colab-badge.svg\" alt=\"Open In Colab\"/></a>"
      ]
    },
    {
      "cell_type": "code",
      "execution_count": null,
      "metadata": {},
      "outputs": [],
      "source": [
        "!python -m pip install -U setuptools\n",
        "!python -m pip install -U git+https://github.com/lmoss/onesharp.git@main\n",
        "from onesharp.interpreter.interpreter import *"
      ]
    },
    {
      "attachments": {},
      "cell_type": "markdown",
      "metadata": {},
      "source": [
        "# Instructions of 1# \n",
        "\n",
        "\n",
        "```{attention} Note for instructors\n",
        "\n",
        "The book could begin here instead of with the previous chapter.  In that case, one would return to one or more sections from the previous chapter on an as-needed basis.  On the other hand, most of this chapter is crucial for what follows.\n",
        "\n",
        "```\n",
        "\n",
        "\n",
        "\n",
        "\n",
        "(content:onesharpinstructions)=\n",
        "\n",
        "Computability can be studied on an *intuitive* or *informal* level before one sees definitions.   This intuitive level is both the right level for our work, and at the same time the wrong level.   That is, for some things, working intuitively is exactly what we want to do.   For example, this was appropriate in the last chapter.  For other things, it is not nearly precise or specific enough.   And for those, this book goes into a rather detailed set of definitions, starting now. \n",
        "\n",
        "A *word* for us will be a sequence of strings using the characters $\\onett$ and $\\hash$.   For example, $\\onett\\hash\\hash\\onett$ is a word, as is the *empty word* $\\varepsilon$.   Words must be finite.    We use $\\Words$ to denote the set of all words.  We use letters like $x$, $y$, $z$, $u$, $v$, $p$, $q$, etc. for words.  \n",
        "\n",
        "We deal a lot with (finite) sequences of words.  A sequence of words $x_1$, $\\ldots$, $x_n$ is often denoted $\\overline{x}$ for short.  \n",
        "\n",
        "\n",
        "A *register* is a place that stores words.  A *register machine* is a collection of registers indexed by nonzero natural numbers.\n",
        "These registers are called R1, R2, etc.   The machine runs according to a *program*.  Programs are comprised of *instructions*.  We are going to describe instructions and programs in $\\onesharp$ shortly.  The idea is that the register machine starts with *input words* in its registers -- all but finitely many are $\\eps$ --  proceeds according to the program, and (if all goes well) eventually \n",
        "*halts* with an *output* in R1.  \n",
        "\n"
      ]
    },
    {
      "attachments": {},
      "cell_type": "markdown",
      "metadata": {},
      "source": [
        "\n",
        "\n",
        "\n",
        "## The $\\onesharp$ instruction set\n",
        "\n",
        "The chart below contains the full set of instructions of  $\\onesharp$.  There are five instruction types.  \n",
        "\n",
        "\n",
        "| Instruction      | Meaning |\n",
        "| ----------- | ----------- |\n",
        "| 1^n #      | Add 1 to Rn       |\n",
        "| 1^n ##   | Add # to Rn      |\n",
        "| 1^n ###   | Go forward n instructions     |\n",
        "| 1^n ####   | Go backward n instructions     |\n",
        "| 1^n #####   | Cases on Rn |\n",
        "\n",
        "We now discuss them.\n",
        "\n",
        "\n",
        "```{prf:remark} \n",
        "\n",
        "When we use superscripts and write, for example,  $\\onett^m \\hash^n$ we mean $m$ copies of the symbol $\\onett$ followed by $n$ copies of the symbol $\\hash$.  For example,\n",
        "$\\onett^{15} \\hash^4$ abbreviates  \n",
        "\n",
        "$$\n",
        "\\onett\\onett\\onett\\onett\\onett\\onett\\onett\\onett\\onett\\onett\\onett\\onett\\onett\\onett\\onett\\hash\\hash\\hash\\hash.\n",
        "$$\n",
        "\n",
        "```\n",
        "\n",
        "There are only five kinds of  $\\onesharp$ instructions. \n",
        "We begin with the first two kinds, those that end in $\\hash$ and those that end in $\\hash\\hash$.\n",
        "For example, $\\onett\\hash$ takes whatever word happens to be in R1 and adds a $\\onett$ to its right end. Similarly, $\\onett\\onett\\hash$ takes whatever word happens to be in R2 and adds a $\\onett$ to its right end.  As for the instructions which end in $\\hash\\hash$,  such as $\\onett^5\\hash\\hash$, it would add $\\hash$ to the right end of R5.\n",
        " \n",
        " \n",
        "The programs of $\\onesharp$ are just sequences of instructions run together.  There is no punctuation between the instructions.   To move around in a program, we have two other kinds of instructions:\n",
        "The instructions $\\onett^m \\hash^3$ move forward.  So if instruction $15$ in a program happens to be\n",
        "$\\onett^8 \\hash^3$, then when we execute it we next go to instruction $15 + 8 = 23$.   Similarly, \n",
        "The instructions $\\onett^m \\hash^4$ move backward. \n",
        "If instruction $31$ in a program happens to be\n",
        "$\\onett^2 \\hash^4$, then when we execute it we next go to instruction $31- 2 = 29$. \n",
        "\n",
        "The last kind of instruction, $\\onett^n \\hash^5$ is the most complicated.\n",
        "Here is what it does:\n",
        "If Rn is empty, we go to the very next instruction.\n",
        "If the first symbol of Rn is $\\onett$, we delete that symbol and go to the second instruction after the case instruction.\n",
        "If the first symbol of Rn is $\\hash$, we delete that symbol and go to the third instruction after the case instruction.\n",
        "The workings of these *case instructions* will be clarified through examples, and we will see several in  [the section on basic programs](content:basicprograms)\n",
        "\n",
        "\n"
      ]
    },
    {
      "attachments": {},
      "cell_type": "markdown",
      "metadata": {
        "id": "uHT06l0nzXOf"
      },
      "source": [
        "<img src=\"https://github.com/lmoss/onesharp/blob/main/hopeless.jpg?raw=1\" width=\"200\" height=\"160\">"
      ]
    },
    {
      "attachments": {},
      "cell_type": "markdown",
      "metadata": {
        "id": "kFwH6_CugCNx"
      },
      "source": [
        "(content:whatArePrograms)=\n",
        "## What are programs?\n",
        "\n",
        "```{admonition} Definition\n",
        ":class: attention\n",
        "\n",
        "As mentioned, a *program* is a finite sequence of instructions run together to make a word.\n",
        "```\n",
        "\n",
        "```{admonition} Example\n",
        ":class: tip\n",
        "\n",
        "Here is a program:\n",
        "\n",
        "$$\n",
        "\\onett\\onett\\hash\\onett\\onett\\hash\\hash\\hash\\onett\\onett\\hash\\hash\\hash\\hash\\onett\\hash\\hash.\n",
        "$$\n",
        "\n",
        "It is four instructions concatenated together.   The first instruction, $\\onett\\onett\\hash$, adds $\\onett$ to R2.   The second instruction says ``go forward two instructions'', so we skip the third instruction, $\\onett\\onett\\hash\\hash\\hash\\hash$, and go to the fourth instruction, $\\onett\\hash\\hash$.   This adds $\\hash$ to R1.\n",
        "```\n",
        "\n",
        "```{admonition} Examples\n",
        ":class: tip\n",
        "\n",
        "Here is another program:\n",
        "\n",
        "$$\n",
        "\\onett\\onett\\hash\\hash\\hash\\hash\\hash\\onett\\onett\\onett\\onett\\onett\\onett\\hash\\hash\\hash\\onett\\onett\\onett\\hash\\hash\\hash\\onett\\hash\\hash\\onett\\onett\\onett\\onett\\hash\\hash\\hash\\hash\\onett\\hash\\onett\\onett\\onett\\onett\\onett\\onett\\hash\\hash\\hash\\hash\n",
        "$$\n",
        "\n",
        "This is the concatenation of the following sequence of seven instructions:\n",
        "\n",
        "$$\n",
        "\\begin{array}{l}\n",
        "(\\onett\\onett\\hash\\hash\\hash\\hash\\hash, \\onett\\onett\\onett\\onett\\onett\\onett\\hash\\hash\\hash, \\onett\\onett\\onett\\hash\\hash\\hash, \\onett\\hash\\hash, \\onett\\onett\\onett\\onett\\hash\\hash\\hash\\hash, \\\\\n",
        " \\onett\\hash, \\onett\\onett\\onett\\onett\\onett\\onett\\hash\\hash\\hash\\hash)\n",
        " \\end{array}\n",
        "$$\n",
        "\n",
        "Dividing a program into instructions is a very easy form of *parsing*.  In a real computer language, parsing is more difficult than it is for $\\onesharp$.   \n",
        "```\n",
        "\n",
        "\n",
        "\n",
        "\n",
        "\n",
        "```{exercise}\n",
        "\n",
        "Write a program which, when started with all registers empty, gives  $\\onesharp$ in R1 and R2, $\\hash\\onett$ in R3, and keeps the other registers empty.\n",
        "```\n",
        "\n",
        "```{exercise}  \n",
        "\n",
        "This problem is about the program $p = \\onett\\onett\\onett\\hash\\hash$.\n",
        "\n",
        "1. Start with $\\onett$ in R1 and R2, $\\onett\\hash$ in R3, and the other registers empty. What happens in each register if we run $p$?\n",
        "\n",
        "2. Start with $\\onesharp$ in R1 and R3, $\\onett$ in R2 and R4, and the other registers empty. What happens in each register if we run $p$?\n",
        "\n",
        "```\n",
        "\n",
        "\n",
        "\n",
        "\n",
        "\n",
        "Here is an important point:\n",
        "Words have to be *finite*, and so programs also must be finite.  Further, each program $p$ of  $\\onesharp$ can only mention finitely many registers.\n",
        "(That is, there is a finite set $F\\subseteq N$ such that if\n",
        "$\\onett^k \\hash$ is an instruction in $p$, then $k\\in F$;\n",
        "if  $\\onett^k \\hash\\hash$ is an instruction in $p$, then $k\\in F$;\n",
        "and  $\\onett^k \\hash^5$  is an instruction in $p$, then $k\\in F$.)\n",
        "\n",
        "```{exercise}\n",
        "\n",
        "If you know about *formal language theory*, verify that the set of   $\\onesharp$ programs is a regular language.\n",
        "```\n",
        "\n",
        "\n",
        "\n",
        "\n",
        "\n",
        " "
      ]
    },
    {
      "cell_type": "markdown",
      "metadata": {
        "id": "3WeBl5d-3_fJ"
      },
      "source": [
        "<img src=\"https://github.com/lmoss/onesharp/blob/main/hopeless.jpg?raw=1\" width=\"200\" height=\"160\">"
      ]
    },
    {
      "attachments": {},
      "cell_type": "markdown",
      "metadata": {
        "id": "72XoyBfdJqFn"
      },
      "source": [
        "## Reference\n",
        "\n",
        "### The full set of instructions of 1#\n",
        "\n",
        "\n",
        "| Instruction      | Meaning |\n",
        "| ----------- | ----------- |\n",
        "| 1^n #      | Add 1 to Rn       |\n",
        "| 1^n ##   | Add # to Rn      |\n",
        "| 1^n ###   | Go forward n instructions     |\n",
        "| 1^n ####   | Go backward n instructions     |\n",
        "| 1^n #####   | Cases on Rn |\n",
        "\n",
        "All numbers in this chart are written in unary, and $n\\geq 1$.\n",
        "\n",
        "Registers are processed as queues: symbols enter on the right and exit on the left.\n",
        "\n",
        "The first two types of instructions add symbols to the right ends of the registers.\n",
        "\n",
        "Here is a review of how the case instruction ```1^n #####``` works.\n",
        "\n",
        "If Rn is empty, we go to the very next instruction.\n",
        "\n",
        "If the first symbol of Rn is $\\mathtt{1}$, we delete that symbol and go to the second instruction after the case instruction.\n",
        "\n",
        "If the first symbol of Rn is $\\mathtt{\\#}$, we delete that symbol and go to the third instruction after the case instruction.\n"
      ]
    },
    {
      "cell_type": "markdown",
      "metadata": {},
      "source": []
    }
  ],
  "metadata": {
    "colab": {
      "provenance": []
    },
    "kernelspec": {
      "display_name": "Python 3 (system-wide)",
      "language": "python",
      "metadata": {
        "cocalc": {
          "description": "Python 3 programming language",
          "priority": 100,
          "url": "https://www.python.org/"
        }
      },
      "name": "python3",
      "resource_dir": "/ext/jupyter/kernels/python3"
    },
    "language_info": {
      "codemirror_mode": {
        "name": "ipython",
        "version": 3
      },
      "file_extension": ".py",
      "mimetype": "text/x-python",
      "name": "python",
      "nbconvert_exporter": "python",
      "pygments_lexer": "ipython3",
      "version": "3.8.5"
    }
  },
  "nbformat": 4,
  "nbformat_minor": 0
}
