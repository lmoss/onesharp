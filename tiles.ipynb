{
  "nbformat": 4,
  "nbformat_minor": 0,
  "metadata": {
    "colab": {
      "provenance": [],
      "authorship_tag": "ABX9TyPSmeIdOdiBAtSBGMAUpNZl",
      "include_colab_link": true
    },
    "kernelspec": {
      "name": "python3",
      "display_name": "Python 3"
    },
    "language_info": {
      "name": "python"
    }
  },
  "cells": [
    {
      "cell_type": "markdown",
      "metadata": {
        "id": "view-in-github",
        "colab_type": "text"
      },
      "source": [
        "<a href=\"https://colab.research.google.com/github/lmoss/onesharp/blob/main/tiles.ipynb\" target=\"_parent\"><img src=\"https://colab.research.google.com/assets/colab-badge.svg\" alt=\"Open In Colab\"/></a>"
      ]
    },
    {
      "cell_type": "code",
      "execution_count": 54,
      "metadata": {
        "colab": {
          "base_uri": "https://localhost:8080/",
          "height": 35
        },
        "id": "VeuRQV6P2aJI",
        "outputId": "12b25c97-70a8-48a2-ee50-e9140702257a"
      },
      "outputs": [
        {
          "output_type": "display_data",
          "data": {
            "text/plain": [
              "<Figure size 432x288 with 0 Axes>"
            ]
          },
          "metadata": {}
        }
      ],
      "source": [
        "import matplotlib.pyplot as plt\n",
        "import matplotlib.patches as patches\n",
        "\n",
        "fig = plt.figure()\n",
        "\n",
        "left, width = .25, .5\n",
        "bottom, height = .25, .5\n",
        "right = left + width\n",
        "top = bottom + height\n",
        "\n",
        "# Draw a rectangle in figure coordinates ((0, 0) is bottom left and (1, 1) is\n",
        "# upper right).\n",
        "p = patches.Rectangle((left, bottom), width, height, fill=False)\n",
        "fig.add_artist(p)\n",
        "\n",
        "# Figure.text (aka. plt.figtext) behaves like Axes.text (aka. plt.text), with\n",
        "# the sole exception that the coordinates are relative to the figure ((0, 0) is\n",
        "# bottom left and (1, 1) is upper right).\n",
        "fig.text(left, bottom, 'left top',\n",
        "         horizontalalignment='left', verticalalignment='top')\n",
        "fig.text(left, bottom, 'left bottom',\n",
        "         horizontalalignment='left', verticalalignment='bottom')\n",
        "fig.text(right, top, 'right bottom',\n",
        "         horizontalalignment='right', verticalalignment='bottom')\n",
        "fig.text(right, top, 'right top',\n",
        "         horizontalalignment='right', verticalalignment='top')\n",
        "fig.text(right, bottom, 'center top',\n",
        "         horizontalalignment='center', verticalalignment='top')\n",
        "fig.text(left, 0.5*(bottom+top), 'right center',\n",
        "         horizontalalignment='right', verticalalignment='center',\n",
        "         rotation='vertical')\n",
        "fig.text(left, 0.5*(bottom+top), 'left center',\n",
        "         horizontalalignment='left', verticalalignment='center',\n",
        "         rotation='vertical')\n",
        "fig.text(0.5*(left+right), 0.5*(bottom+top), 'middle',\n",
        "         horizontalalignment='center', verticalalignment='center',\n",
        "         fontsize=20, color='red')\n",
        "fig.text(right, 0.5*(bottom+top), 'centered',\n",
        "         horizontalalignment='center', verticalalignment='center',\n",
        "         rotation='vertical')\n",
        "fig.text(left, top, 'rotated\\nwith newlines',\n",
        "         horizontalalignment='center', verticalalignment='center',\n",
        "         rotation=45)\n",
        "plt.show()"
      ]
    },
    {
      "cell_type": "code",
      "source": [
        "import matplotlib.pyplot as plt\n",
        "import matplotlib.patches as patches\n",
        "\n",
        "# build a rectangle in axes coords\n",
        "left, width = .25, .5\n",
        "bottom, height = .25, .5\n",
        "right = left + width\n",
        "top = bottom + height\n",
        "\n",
        "fig = plt.figure()\n",
        "ax = fig.add_axes([0,0,1,1])\n",
        "\n",
        "# axes coordinates are 0,0 is bottom left and 1,1 is upper right\n",
        "p = patches.Rectangle(\n",
        "    (left, bottom), width, height,\n",
        "    fill=False, transform=ax.transAxes, clip_on=False\n",
        "    )\n",
        "\n",
        "ax.add_patch(p)\n",
        "\n",
        "\n",
        "ax.text(0.5*(left+right), 0.9*(top), 'N',\n",
        "        horizontalalignment='center',\n",
        "        verticalalignment='center',\n",
        "        fontsize=20, color='purple',\n",
        "        transform=ax.transAxes)\n",
        "\n",
        "ax.text(0.5*(left+right), 0.3*(bottom+top), 'S',\n",
        "        horizontalalignment='center',\n",
        "        verticalalignment='center',\n",
        "        fontsize=20, color='gold',\n",
        "        transform=ax.transAxes)\n",
        "\n",
        "ax.text(0.3*(left+right), 0.5*(bottom+top), 'W',\n",
        "        horizontalalignment='center',\n",
        "        verticalalignment='center',\n",
        "        fontsize=20, color='red',\n",
        "        transform=ax.transAxes)\n",
        "\n",
        "ax.text(0.7*(left+right), 0.5*(bottom+top), 'E',\n",
        "        horizontalalignment='center',\n",
        "        verticalalignment='center',\n",
        "        fontsize=20, color='red',\n",
        "        transform=ax.transAxes)\n",
        "\n",
        "ax.set_aspect('equal', adjustable='box')\n",
        "ax.set_axis_off()\n",
        "plt.show()"
      ],
      "metadata": {
        "colab": {
          "base_uri": "https://localhost:8080/",
          "height": 319
        },
        "id": "17vDjazq3MI5",
        "outputId": "6c3dfb41-f252-4c56-9d95-fdc1d93cc71d"
      },
      "execution_count": 50,
      "outputs": [
        {
          "output_type": "display_data",
          "data": {
            "text/plain": [
              "<Figure size 432x288 with 1 Axes>"
            ],
            "image/png": "[encoded data removed]"
          },
          "metadata": {
            "needs_background": "light"
          }
        }
      ]
    },
    {
      "cell_type": "code",
      "source": [
        "plt.axes()\n",
        "rectangle = plt.Rectangle((0,0), 20, 20, fc='blue',ec=\"red\")\n",
        "plt.gca().add_patch(rectangle)\n",
        "plt.axis('scaled')\n",
        "plt.show()"
      ],
      "metadata": {
        "colab": {
          "base_uri": "https://localhost:8080/",
          "height": 265
        },
        "id": "RFfPgiSg6kqO",
        "outputId": "fac4440c-3e6e-454d-c73c-d7d643484f58"
      },
      "execution_count": 32,
      "outputs": [
        {
          "output_type": "display_data",
          "data": {
            "text/plain": [
              "<Figure size 432x288 with 1 Axes>"
            ],
            "image/png": "[encoded data removed]"
          },
          "metadata": {
            "needs_background": "light"
          }
        }
      ]
    },
    {
      "cell_type": "code",
      "source": [
        "import matplotlib.pyplot as plt\n",
        "\n",
        "fig = plt.figure()\n",
        "fig.suptitle('bold figure suptitle', fontsize=14, fontweight='bold')\n",
        "\n",
        "ax = fig.add_subplot()\n",
        "fig.subplots_adjust(top=0.85)\n",
        "ax.set_title('axes title')\n",
        "\n",
        "ax.set_xlabel('xlabel')\n",
        "ax.set_ylabel('ylabel')\n",
        "\n",
        "ax.text(3, 8, 'boxed italics text in data coords', style='italic',\n",
        "        bbox={'facecolor': 'red', 'alpha': 0.5, 'pad': 10})\n",
        "\n",
        "ax.text(2, 6, r'an equation: $E=mc^2$', fontsize=15)\n",
        "\n",
        "ax.text(3, 2, 'unicode: Institut f\\374r Festk\\366rperphysik')\n",
        "\n",
        "ax.text(0.95, 0.01, 'colored text in axes coords',\n",
        "        verticalalignment='bottom', horizontalalignment='right',\n",
        "        transform=ax.transAxes,\n",
        "        color='green', fontsize=15)\n",
        "\n",
        "\n",
        "ax.plot([2], [1], 'o')\n",
        "ax.annotate('annotate', xy=(2, 1), xytext=(3, 4),\n",
        "            arrowprops=dict(facecolor='black', shrink=0.05))\n",
        "\n",
        "ax.set(xlim=(0, 10), ylim=(0, 10))\n",
        "\n",
        "plt.show()"
      ],
      "metadata": {
        "colab": {
          "base_uri": "https://localhost:8080/",
          "height": 308
        },
        "id": "Ag7MwpET27kS",
        "outputId": "234c41e4-d79b-451a-e09d-c300180a3b57"
      },
      "execution_count": 6,
      "outputs": [
        {
          "output_type": "display_data",
          "data": {
            "text/plain": [
              "<Figure size 432x288 with 1 Axes>"
            ],
            "image/png": "[encoded data removed]"
          },
          "metadata": {
            "needs_background": "light"
          }
        }
      ]
    },
    {
      "cell_type": "code",
      "source": [
        "import numpy as np\n",
        "import matplotlib.pyplot as plt\n",
        " \n",
        "# adjust coordinates\n",
        "x = y = [i for i in range(0, 6)]\n",
        " \n",
        "# depict illustration\n",
        "fig = plt.figure()\n",
        "ax = fig.add_subplot()\n",
        "#plt.plot(x, y)\n",
        " \n",
        "ax.text(0.9*(left+right), 0.5*(bottom+top), 'E',\n",
        "        horizontalalignment='center',\n",
        "        verticalalignment='center',\n",
        "        fontsize=20, color='red',\n",
        "        transform=ax.transAxes)\n",
        " \n",
        "# square plot\n",
        "ax.set_aspect('equal', adjustable='box')\n",
        "plt.show()\n",
        "\n"
      ],
      "metadata": {
        "colab": {
          "base_uri": "https://localhost:8080/",
          "height": 269
        },
        "id": "Ksi9wVtX7BHW",
        "outputId": "7497c5a8-fe45-4446-e78e-731269a78001"
      },
      "execution_count": 41,
      "outputs": [
        {
          "output_type": "display_data",
          "data": {
            "text/plain": [
              "<Figure size 432x288 with 1 Axes>"
            ],
            "image/png": "[encoded data removed]"
          },
          "metadata": {
            "needs_background": "light"
          }
        }
      ]
    },
    {
      "cell_type": "code",
      "source": [
        "import matplotlib.pyplot as plt\n",
        "import numpy as np\n",
        "import math\n",
        "  \n",
        "# Placing the plots in the plane\n",
        "plot1 = plt.subplot2grid((3, 3), (0, 0), colspan=2)\n",
        "plot2 = plt.subplot2grid((3, 3), (0, 2), rowspan=3, colspan=2)\n",
        "plot3 = plt.subplot2grid((3, 3), (1, 0), rowspan=2)\n",
        "  \n",
        "# Using Numpy to create an array x\n",
        "x = np.arange(1, 10)\n",
        "  \n",
        "# Plot for square root\n",
        "\n",
        "plot2.set_title('Square Root')\n",
        "plot2.set_aspect('equal', adjustable='box')\n",
        "#plot2.set_axis_off() \n",
        "# Plot for exponent\n",
        "\n",
        "plot1.set_aspect('equal', adjustable='box')\n",
        "#plot1.set_axis_off()\n",
        "plot1.set_title('Exponent')\n",
        "  \n",
        "# Plot for Square\n",
        "\n",
        "plot3.set_aspect('equal', adjustable='box')\n",
        "#plot3.set_axis_off()\n",
        "plot3.set_title('Square')\n",
        "  \n",
        "# Packing all the plots and displaying them\n",
        "#plt.tight_layout()\n",
        "plt.show()"
      ],
      "metadata": {
        "colab": {
          "base_uri": "https://localhost:8080/",
          "height": 260
        },
        "id": "mUCfIRqx7BTw",
        "outputId": "a2e9d598-6ace-4150-8469-a9d821afd7a6"
      },
      "execution_count": 60,
      "outputs": [
        {
          "output_type": "display_data",
          "data": {
            "text/plain": [
              "<Figure size 432x288 with 3 Axes>"
            ],
            "image/png": "[encoded data removed]"
          },
          "metadata": {
            "needs_background": "light"
          }
        }
      ]
    },
    {
      "cell_type": "code",
      "source": [],
      "metadata": {
        "id": "HFTKpNtnHK-m"
      },
      "execution_count": null,
      "outputs": []
    }
  ]
}