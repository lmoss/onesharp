{
  "nbformat": 4,
  "nbformat_minor": 0,
  "metadata": {
    "colab": {
      "provenance": [],
      "authorship_tag": "ABX9TyOjADNVcpHsulPlLnkzFOFc",
      "include_colab_link": true
    },
    "kernelspec": {
      "name": "python3",
      "display_name": "Python 3"
    },
    "language_info": {
      "name": "python"
    }
  },
  "cells": [
    {
      "cell_type": "markdown",
      "metadata": {
        "id": "view-in-github",
        "colab_type": "text"
      },
      "source": [
        "<a href=\"https://colab.research.google.com/github/lmoss/onesharp/blob/main/tiles.ipynb\" target=\"_parent\"><img src=\"https://colab.research.google.com/assets/colab-badge.svg\" alt=\"Open In Colab\"/></a>"
      ]
    },
    {
      "cell_type": "markdown",
      "source": [
        "## these are just my notes as I learn matplotlib in order to display tile sets assoicsated to 1# programs\n",
        "\n"
      ],
      "metadata": {
        "id": "V6FGL0gZXP_n"
      }
    },
    {
      "cell_type": "code",
      "execution_count": null,
      "metadata": {
        "colab": {
          "base_uri": "https://localhost:8080/",
          "height": 35
        },
        "id": "VeuRQV6P2aJI",
        "outputId": "12b25c97-70a8-48a2-ee50-e9140702257a"
      },
      "outputs": [
        {
          "output_type": "display_data",
          "data": {
            "text/plain": [
              "<Figure size 432x288 with 0 Axes>"
            ]
          },
          "metadata": {}
        }
      ],
      "source": [
        "import matplotlib.pyplot as plt\n",
        "import matplotlib.patches as patches\n",
        "\n",
        "fig = plt.figure()\n",
        "\n",
        "left, width = .25, .5\n",
        "bottom, height = .25, .5\n",
        "right = left + width\n",
        "top = bottom + height\n",
        "\n",
        "# Draw a rectangle in figure coordinates ((0, 0) is bottom left and (1, 1) is\n",
        "# upper right).\n",
        "p = patches.Rectangle((left, bottom), width, height, fill=False)\n",
        "fig.add_artist(p)\n",
        "\n",
        "# Figure.text (aka. plt.figtext) behaves like Axes.text (aka. plt.text), with\n",
        "# the sole exception that the coordinates are relative to the figure ((0, 0) is\n",
        "# bottom left and (1, 1) is upper right).\n",
        "fig.text(left, bottom, 'left top',\n",
        "         horizontalalignment='left', verticalalignment='top')\n",
        "fig.text(left, bottom, 'left bottom',\n",
        "         horizontalalignment='left', verticalalignment='bottom')\n",
        "fig.text(right, top, 'right bottom',\n",
        "         horizontalalignment='right', verticalalignment='bottom')\n",
        "fig.text(right, top, 'right top',\n",
        "         horizontalalignment='right', verticalalignment='top')\n",
        "fig.text(right, bottom, 'center top',\n",
        "         horizontalalignment='center', verticalalignment='top')\n",
        "fig.text(left, 0.5*(bottom+top), 'right center',\n",
        "         horizontalalignment='right', verticalalignment='center',\n",
        "         rotation='vertical')\n",
        "fig.text(left, 0.5*(bottom+top), 'left center',\n",
        "         horizontalalignment='left', verticalalignment='center',\n",
        "         rotation='vertical')\n",
        "fig.text(0.5*(left+right), 0.5*(bottom+top), 'middle',\n",
        "         horizontalalignment='center', verticalalignment='center',\n",
        "         fontsize=20, color='red')\n",
        "fig.text(right, 0.5*(bottom+top), 'centered',\n",
        "         horizontalalignment='center', verticalalignment='center',\n",
        "         rotation='vertical')\n",
        "fig.text(left, top, 'rotated\\nwith newlines',\n",
        "         horizontalalignment='center', verticalalignment='center',\n",
        "         rotation=45)\n",
        "plt.show()"
      ]
    },
    {
      "cell_type": "code",
      "source": [
        "import matplotlib.pyplot as plt\n",
        "import matplotlib.patches as patches\n",
        "\n",
        "# build a rectangle in axes coords\n",
        "left, width = .25, .5\n",
        "bottom, height = .25, .5\n",
        "right = left + width\n",
        "top = bottom + height\n",
        "\n",
        "fig = plt.figure()\n",
        "ax = fig.add_axes([0,0,1,1])\n",
        "\n",
        "# axes coordinates are 0,0 is bottom left and 1,1 is upper right\n",
        "p = patches.Rectangle(\n",
        "    (left, bottom), width, height,\n",
        "    fill=False, transform=ax.transAxes, clip_on=False\n",
        "    )\n",
        "\n",
        "ax.add_patch(p)\n",
        "\n",
        "\n",
        "ax.text(0.5*(left+right), 0.9*(top), 'N',\n",
        "        horizontalalignment='center',\n",
        "        verticalalignment='center',\n",
        "        fontsize=20, color='purple',\n",
        "        transform=ax.transAxes)\n",
        "\n",
        "ax.text(0.5*(left+right), 0.3*(bottom+top), 'S',\n",
        "        horizontalalignment='center',\n",
        "        verticalalignment='center',\n",
        "        fontsize=20, color='gold',\n",
        "        transform=ax.transAxes)\n",
        "\n",
        "ax.text(0.3*(left+right), 0.5*(bottom+top), 'W',\n",
        "        horizontalalignment='center',\n",
        "        verticalalignment='center',\n",
        "        fontsize=20, color='red',\n",
        "        transform=ax.transAxes)\n",
        "\n",
        "ax.text(0.7*(left+right), 0.5*(bottom+top), 'E',\n",
        "        horizontalalignment='center',\n",
        "        verticalalignment='center',\n",
        "        fontsize=20, color='red',\n",
        "        transform=ax.transAxes)\n",
        "\n",
        "ax.set_aspect('equal', adjustable='box')\n",
        "ax.set_axis_off()\n",
        "plt.show()"
      ],
      "metadata": {
        "colab": {
          "base_uri": "https://localhost:8080/",
          "height": 319
        },
        "id": "17vDjazq3MI5",
        "outputId": "6c3dfb41-f252-4c56-9d95-fdc1d93cc71d"
      },
      "execution_count": null,
      "outputs": [
        {
          "output_type": "display_data",
          "data": {
            "text/plain": [
              "<Figure size 432x288 with 1 Axes>"
            ],
            "image/png": "[encoded data removed]"
          },
          "metadata": {
            "needs_background": "light"
          }
        }
      ]
    },
    {
      "cell_type": "code",
      "source": [
        "import matplotlib.pyplot as plt\n",
        "import matplotlib.patches as patches\n",
        "def tile(a,b,c,d):\n",
        "  left, width = .25, .5\n",
        "  bottom, height = .25, .5\n",
        "  right = left + width\n",
        "  top = bottom + height\n",
        "\n",
        "  fig = plt.figure()\n",
        "  ax = fig.add_axes([0,0,1,1])\n",
        "\n",
        "# axes coordinates are 0,0 is bottom left and 1,1 is upper right\n",
        "  p = patches.Rectangle(\n",
        "      (left, bottom), width, height,\n",
        "     fill=False, transform=ax.transAxes, clip_on=False\n",
        "     )\n",
        "\n",
        "  ax.add_patch(p)\n",
        "\n",
        "\n",
        "  ax.text(0.5*(left+right), 0.9*(top), a,\n",
        "        horizontalalignment='center',\n",
        "        verticalalignment='center',\n",
        "        fontsize=20, color='purple',\n",
        "        transform=ax.transAxes)\n",
        "\n",
        "  ax.text(0.5*(left+right), 0.3*(bottom+top), c,\n",
        "        horizontalalignment='center',\n",
        "        verticalalignment='center',\n",
        "        fontsize=20, color='gold',\n",
        "        transform=ax.transAxes)\n",
        "\n",
        "  ax.text(0.3*(left+right), 0.5*(bottom+top), d,\n",
        "        horizontalalignment='center',\n",
        "        verticalalignment='center',\n",
        "        fontsize=20, color='red',\n",
        "        transform=ax.transAxes)\n",
        "\n",
        "  ax.text(0.7*(left+right), 0.5*(bottom+top), b,\n",
        "        horizontalalignment='center',\n",
        "        verticalalignment='center',\n",
        "        fontsize=20, color='black',\n",
        "        transform=ax.transAxes)\n",
        "\n",
        "  ax.set_aspect('equal', adjustable='box')\n",
        "  ax.set_axis_off()\n",
        "  plt.show()\n",
        "\n",
        "\n",
        "tile('3','$\\spadesuit$',r'$\\#$', r'${\\tt \\#}$')\n",
        "tile('13',r'$\\frac{\\blacksquare}{\\blacksquare}$','4', r'$\\blacksquare$')\n",
        "\n"
      ],
      "metadata": {
        "id": "aaahH-Zl0tYW",
        "outputId": "3633122b-7ebf-4bd7-afa5-075f5557d256",
        "colab": {
          "base_uri": "https://localhost:8080/",
          "height": 621
        }
      },
      "execution_count": 62,
      "outputs": [
        {
          "output_type": "display_data",
          "data": {
            "text/plain": [
              "<Figure size 432x288 with 1 Axes>"
            ],
            "image/png": "[encoded data removed]"
          },
          "metadata": {
            "needs_background": "light"
          }
        },
        {
          "output_type": "display_data",
          "data": {
            "text/plain": [
              "<Figure size 432x288 with 1 Axes>"
            ],
            "image/png": "[encoded data removed]"
          },
          "metadata": {
            "needs_background": "light"
          }
        }
      ]
    },
    {
      "cell_type": "code",
      "source": [
        "!pip install PyQt4\n",
        "import sys  \n",
        "from PyQt4 import QtCore, QtGui\n",
        "\n",
        "def F(n, m):\n",
        "    return n + m\n",
        "\n",
        "class MainWindow(QtGui.QWidget):\n",
        "    # http://stackoverflow.com/a/11458784/190597 (reclosedev)\n",
        "    def __init__(self, parent=None):\n",
        "        self.rows = range(50)\n",
        "        self.cols = range(100)\n",
        "        super(MainWindow, self).__init__(parent)\n",
        "        self.table_widget = QtGui.QTableWidget()\n",
        "        layout = QtGui.QVBoxLayout()\n",
        "        layout.addWidget(self.table_widget)\n",
        "        self.setLayout(layout)\n",
        "        self.populate()\n",
        "\n",
        "    def populate(self):\n",
        "        self.table_widget.setRowCount(len(self.rows))\n",
        "        self.table_widget.setColumnCount(len(self.cols))\n",
        "        self.table_widget.setHorizontalHeaderLabels(map(str, self.cols))\n",
        "        for i, n in enumerate(self.rows):\n",
        "            for j, m in enumerate(self.cols):\n",
        "                value = QtGui.QTableWidgetItem(str(F(n, m)))\n",
        "                self.table_widget.setItem(i, j, value)\n",
        "        self.table_widget.item(5,2).setBackgroundColor(QtGui.QColor(0,255,255))\n",
        "        self.table_widget.item(5,2).setTextColor(QtGui.QColor(\"red\"))\n",
        "\n",
        "if __name__ == \"__main__\":\n",
        "    app = QtGui.QApplication(sys.argv)\n",
        "    wnd = MainWindow()\n",
        "    wnd.resize(640, 480)\n",
        "    wnd.show()\n",
        "    sys.exit(app.exec_())"
      ],
      "metadata": {
        "id": "tExz6zC_Xbjx",
        "outputId": "ee2ca9e8-8464-4fc4-b9bf-29619e045486",
        "colab": {
          "base_uri": "https://localhost:8080/",
          "height": 437
        }
      },
      "execution_count": 64,
      "outputs": [
        {
          "output_type": "stream",
          "name": "stdout",
          "text": [
            "Looking in indexes: https://pypi.org/simple, https://us-python.pkg.dev/colab-wheels/public/simple/\n",
            "\u001b[31mERROR: Could not find a version that satisfies the requirement PyQt4 (from versions: none)\u001b[0m\n",
            "\u001b[31mERROR: No matching distribution found for PyQt4\u001b[0m\n"
          ]
        },
        {
          "output_type": "error",
          "ename": "ModuleNotFoundError",
          "evalue": "ignored",
          "traceback": [
            "\u001b[0;31m---------------------------------------------------------------------------\u001b[0m",
            "\u001b[0;31mModuleNotFoundError\u001b[0m                       Traceback (most recent call last)",
            "\u001b[0;32m<ipython-input-64-2a7993191b7d>\u001b[0m in \u001b[0;36m<module>\u001b[0;34m\u001b[0m\n\u001b[1;32m      1\u001b[0m \u001b[0mget_ipython\u001b[0m\u001b[0;34m(\u001b[0m\u001b[0;34m)\u001b[0m\u001b[0;34m.\u001b[0m\u001b[0msystem\u001b[0m\u001b[0;34m(\u001b[0m\u001b[0;34m'pip install PyQt4'\u001b[0m\u001b[0;34m)\u001b[0m\u001b[0;34m\u001b[0m\u001b[0;34m\u001b[0m\u001b[0m\n\u001b[1;32m      2\u001b[0m \u001b[0;32mimport\u001b[0m \u001b[0msys\u001b[0m\u001b[0;34m\u001b[0m\u001b[0;34m\u001b[0m\u001b[0m\n\u001b[0;32m----> 3\u001b[0;31m \u001b[0;32mfrom\u001b[0m \u001b[0mPyQt4\u001b[0m \u001b[0;32mimport\u001b[0m \u001b[0mQtCore\u001b[0m\u001b[0;34m,\u001b[0m \u001b[0mQtGui\u001b[0m\u001b[0;34m\u001b[0m\u001b[0;34m\u001b[0m\u001b[0m\n\u001b[0m\u001b[1;32m      4\u001b[0m \u001b[0;34m\u001b[0m\u001b[0m\n\u001b[1;32m      5\u001b[0m \u001b[0;32mdef\u001b[0m \u001b[0mF\u001b[0m\u001b[0;34m(\u001b[0m\u001b[0mn\u001b[0m\u001b[0;34m,\u001b[0m \u001b[0mm\u001b[0m\u001b[0;34m)\u001b[0m\u001b[0;34m:\u001b[0m\u001b[0;34m\u001b[0m\u001b[0;34m\u001b[0m\u001b[0m\n",
            "\u001b[0;31mModuleNotFoundError\u001b[0m: No module named 'PyQt4'",
            "",
            "\u001b[0;31m---------------------------------------------------------------------------\u001b[0;32m\nNOTE: If your import is failing due to a missing package, you can\nmanually install dependencies using either !pip or !apt.\n\nTo view examples of installing some common dependencies, click the\n\"Open Examples\" button below.\n\u001b[0;31m---------------------------------------------------------------------------\u001b[0m\n"
          ],
          "errorDetails": {
            "actions": [
              {
                "action": "open_url",
                "actionText": "Open Examples",
                "url": "/notebooks/snippets/importing_libraries.ipynb"
              }
            ]
          }
        }
      ]
    },
    {
      "cell_type": "code",
      "source": [],
      "metadata": {
        "colab": {
          "base_uri": "https://localhost:8080/",
          "height": 265
        },
        "id": "RFfPgiSg6kqO",
        "outputId": "fac4440c-3e6e-454d-c73c-d7d643484f58"
      },
      "execution_count": null,
      "outputs": [
        {
          "output_type": "display_data",
          "data": {
            "text/plain": [
              "<Figure size 432x288 with 1 Axes>"
            ],
            "image/png": "[encoded data removed]"
          },
          "metadata": {
            "needs_background": "light"
          }
        }
      ]
    },
    {
      "cell_type": "code",
      "source": [
        "import matplotlib.pyplot as plt\n",
        "\n",
        "fig = plt.figure()\n",
        "fig.suptitle('bold figure suptitle', fontsize=14, fontweight='bold')\n",
        "\n",
        "ax = fig.add_subplot()\n",
        "fig.subplots_adjust(top=0.85)\n",
        "ax.set_title('axes title')\n",
        "\n",
        "ax.set_xlabel('xlabel')\n",
        "ax.set_ylabel('ylabel')\n",
        "\n",
        "ax.text(3, 8, 'boxed italics text in data coords', style='italic',\n",
        "        bbox={'facecolor': 'red', 'alpha': 0.5, 'pad': 10})\n",
        "\n",
        "ax.text(2, 6, r'an equation: $E=mc^2$', fontsize=15)\n",
        "\n",
        "ax.text(3, 2, 'unicode: Institut f\\374r Festk\\366rperphysik')\n",
        "\n",
        "ax.text(0.95, 0.01, 'colored text in axes coords',\n",
        "        verticalalignment='bottom', horizontalalignment='right',\n",
        "        transform=ax.transAxes,\n",
        "        color='green', fontsize=15)\n",
        "\n",
        "\n",
        "ax.plot([2], [1], 'o')\n",
        "ax.annotate('annotate', xy=(2, 1), xytext=(3, 4),\n",
        "            arrowprops=dict(facecolor='black', shrink=0.05))\n",
        "\n",
        "ax.set(xlim=(0, 10), ylim=(0, 10))\n",
        "\n",
        "plt.show()"
      ],
      "metadata": {
        "colab": {
          "base_uri": "https://localhost:8080/",
          "height": 308
        },
        "id": "Ag7MwpET27kS",
        "outputId": "234c41e4-d79b-451a-e09d-c300180a3b57"
      },
      "execution_count": null,
      "outputs": [
        {
          "output_type": "display_data",
          "data": {
            "text/plain": [
              "<Figure size 432x288 with 1 Axes>"
            ],
            "image/png": "[encoded data removed]"
          },
          "metadata": {
            "needs_background": "light"
          }
        }
      ]
    },
    {
      "cell_type": "code",
      "source": [
        "import numpy as np\n",
        "import matplotlib.pyplot as plt\n",
        " \n",
        "# adjust coordinates\n",
        "x = y = [i for i in range(0, 6)]\n",
        " \n",
        "# depict illustration\n",
        "fig = plt.figure()\n",
        "ax = fig.add_subplot()\n",
        "#plt.plot(x, y)\n",
        " \n",
        "ax.text(0.9*(left+right), 0.5*(bottom+top), 'E',\n",
        "        horizontalalignment='center',\n",
        "        verticalalignment='center',\n",
        "        fontsize=20, color='red',\n",
        "        transform=ax.transAxes)\n",
        " \n",
        "# square plot\n",
        "ax.set_aspect('equal', adjustable='box')\n",
        "plt.show()\n",
        "\n"
      ],
      "metadata": {
        "colab": {
          "base_uri": "https://localhost:8080/",
          "height": 269
        },
        "id": "Ksi9wVtX7BHW",
        "outputId": "7497c5a8-fe45-4446-e78e-731269a78001"
      },
      "execution_count": null,
      "outputs": [
        {
          "output_type": "display_data",
          "data": {
            "text/plain": [
              "<Figure size 432x288 with 1 Axes>"
            ],
            "image/png": "[encoded data removed]"
          },
          "metadata": {
            "needs_background": "light"
          }
        }
      ]
    },
    {
      "cell_type": "code",
      "source": [
        "import matplotlib.pyplot as plt\n",
        "import numpy as np\n",
        "import math\n",
        "  \n",
        "# Placing the plots in the plane\n",
        "plot1 = plt.subplot2grid((3, 3), (0, 0), colspan=2)\n",
        "plot2 = plt.subplot2grid((3, 3), (0, 2), rowspan=3, colspan=2)\n",
        "#plot2 = plt.subplot2grid((2,2), (0, 0), colspan=2)\n",
        "plot3 = plt.subplot2grid((3, 3), (1, 0), rowspan=2)\n",
        "  \n",
        "# Using Numpy to create an array x\n",
        "x = np.arange(1, 10)\n",
        "  \n",
        "# Plot for square root\n",
        "\n",
        "plot2.set_title('Plot 2')\n",
        "plot2.set_aspect('equal', adjustable='box')\n",
        "#plot2.set_axis_off() \n",
        "plot2.axes.get_xaxis().set_visible(False)\n",
        "plot2.axes.get_yaxis().set_visible(False)\n",
        "# Plot for exponent\n",
        "\n",
        "plot1.set_aspect('equal', adjustable='box')\n",
        "#plot1.set_axis_off()\n",
        "plot1.axes.get_xaxis().set_visible(False)\n",
        "plot1.axes.get_yaxis().set_visible(False)\n",
        "plot1.set_title('Plot 1')\n",
        "  \n",
        "# Plot for Square\n",
        "\n",
        "plot3.set_aspect('equal', adjustable='box')\n",
        "plot3.axes.get_xaxis().set_visible(False)\n",
        "plot3.axes.get_yaxis().set_visible(False)\n",
        "#plot3.set_axis_off()\n",
        "plot3.set_title('Plot 3')\n",
        "  \n",
        "# Packing all the plots and displaying them\n",
        "#plt.tight_layout()\n",
        "plt.show()"
      ],
      "metadata": {
        "colab": {
          "base_uri": "https://localhost:8080/",
          "height": 247
        },
        "id": "mUCfIRqx7BTw",
        "outputId": "62728cc1-ca62-48ac-bfad-c2f5c8b72f32"
      },
      "execution_count": 88,
      "outputs": [
        {
          "output_type": "display_data",
          "data": {
            "text/plain": [
              "<Figure size 432x288 with 3 Axes>"
            ],
            "image/png": "[encoded data removed]"
          },
          "metadata": {
            "needs_background": "light"
          }
        }
      ]
    },
    {
      "cell_type": "code",
      "source": [
        "import numpy as np\n",
        "import matplotlib.pyplot as plt\n",
        "from matplotlib.animation import FuncAnimation\n",
        "\n",
        "# Fixing random state for reproducibility\n",
        "np.random.seed(19680801)\n",
        "\n",
        "\n",
        "# Create new Figure and an Axes which fills it.\n",
        "fig = plt.figure(figsize=(7, 7))\n",
        "ax = fig.add_axes([0, 0, 1, 1], frameon=False)\n",
        "ax.set_xlim(0, 1), ax.set_xticks([])\n",
        "ax.set_ylim(0, 1), ax.set_yticks([])\n",
        "\n",
        "# Create rain data\n",
        "n_drops = 50\n",
        "rain_drops = np.zeros(n_drops, dtype=[('position', float, (2,)),\n",
        "                                      ('size',     float),\n",
        "                                      ('growth',   float),\n",
        "                                      ('color',    float, (4,))])\n",
        "\n",
        "# Initialize the raindrops in random positions and with\n",
        "# random growth rates.\n",
        "rain_drops['position'] = np.random.uniform(0, 1, (n_drops, 2))\n",
        "rain_drops['growth'] = np.random.uniform(50, 200, n_drops)\n",
        "\n",
        "# Construct the scatter which we will update during animation\n",
        "# as the raindrops develop.\n",
        "scat = ax.scatter(rain_drops['position'][:, 0], rain_drops['position'][:, 1],\n",
        "                  s=rain_drops['size'], lw=0.5, edgecolors=rain_drops['color'],\n",
        "                  facecolors='none')\n",
        "\n",
        "\n",
        "def update(frame_number):\n",
        "    # Get an index which we can use to re-spawn the oldest raindrop.\n",
        "    current_index = frame_number % n_drops\n",
        "\n",
        "    # Make all colors more transparent as time progresses.\n",
        "    rain_drops['color'][:, 3] -= 1.0/len(rain_drops)\n",
        "    rain_drops['color'][:, 3] = np.clip(rain_drops['color'][:, 3], 0, 1)\n",
        "\n",
        "    # Make all circles bigger.\n",
        "    rain_drops['size'] += rain_drops['growth']\n",
        "\n",
        "    # Pick a new position for oldest rain drop, resetting its size,\n",
        "    # color and growth factor.\n",
        "    rain_drops['position'][current_index] = np.random.uniform(0, 1, 2)\n",
        "    rain_drops['size'][current_index] = 5\n",
        "    rain_drops['color'][current_index] = (0, 0, 0, 1)\n",
        "    rain_drops['growth'][current_index] = np.random.uniform(50, 200)\n",
        "\n",
        "    # Update the scatter collection, with the new colors, sizes and positions.\n",
        "    scat.set_edgecolors(rain_drops['color'])\n",
        "    scat.set_sizes(rain_drops['size'])\n",
        "    scat.set_offsets(rain_drops['position'])\n",
        "\n",
        "\n",
        "# Construct the animation, using the update function as the animation director.\n",
        "animation = FuncAnimation(fig, update, interval=10)\n",
        "plt.show()\n"
      ],
      "metadata": {
        "id": "HFTKpNtnHK-m"
      },
      "execution_count": null,
      "outputs": []
    },
    {
      "cell_type": "code",
      "source": [
        "s={'(Spade)   J875';'(Heart)   KT64';'(Diamond) QJ842';'(Club)    AKQJ952'}\n",
        "hF=figure; set(hF,'color',[1 1 1])\n",
        "hA=axes; set(hA,'color',[1 1 1],'visible','off')\n",
        "text(0.5,0.5,s)"
      ],
      "metadata": {
        "id": "AGlVxSTgdLAC",
        "outputId": "55a575de-1f9c-49d8-d213-e687a2d7c6e4",
        "colab": {
          "base_uri": "https://localhost:8080/",
          "height": 133
        }
      },
      "execution_count": 16,
      "outputs": [
        {
          "output_type": "error",
          "ename": "SyntaxError",
          "evalue": "ignored",
          "traceback": [
            "\u001b[0;36m  File \u001b[0;32m\"<ipython-input-16-de4c1c5b96b7>\"\u001b[0;36m, line \u001b[0;32m1\u001b[0m\n\u001b[0;31m    s={'(Spade)   J875';'(Heart)   KT64';'(Diamond) QJ842';'(Club)    AKQJ952'}\u001b[0m\n\u001b[0m                       ^\u001b[0m\n\u001b[0;31mSyntaxError\u001b[0m\u001b[0;31m:\u001b[0m invalid syntax\n"
          ]
        }
      ]
    },
    {
      "cell_type": "code",
      "source": [
        "import matplotlib.pyplot as plt\n",
        "import numpy as np\n",
        "\n",
        "# Make a 9x9 grid...\n",
        "nrows, ncols = 9,9\n",
        "image = np.zeros(nrows*ncols)\n",
        "\n",
        "# Set every other cell to a random number (this would be your data)\n",
        "image[::2] = np.random.random(nrows*ncols //2 + 1)\n",
        "\n",
        "# Reshape things into a 9x9 grid.\n",
        "image = image.reshape((nrows, ncols))\n",
        "\n",
        "row_labels = range(nrows)\n",
        "col_labels = ['A', 'B', 'C', 'D', 'E', 'F', 'G', 'H', 'I']\n",
        "plt.matshow(image)\n",
        "#plt.xticks(range(ncols), col_labels)\n",
        "#plt.yticks(range(nrows), row_labels)\n",
        "plt.show()"
      ],
      "metadata": {
        "id": "L0T_rwaydLW8",
        "outputId": "4e93085f-ad76-4872-9e20-aec6bdded927",
        "colab": {
          "base_uri": "https://localhost:8080/",
          "height": 275
        }
      },
      "execution_count": 37,
      "outputs": [
        {
          "output_type": "display_data",
          "data": {
            "text/plain": [
              "<Figure size 288x288 with 1 Axes>"
            ],
            "image/png": "[encoded data removed]"
          },
          "metadata": {
            "needs_background": "light"
          }
        }
      ]
    },
    {
      "cell_type": "code",
      "source": [
        "import matplotlib.pyplot as plt\n",
        "import numpy as np\n",
        "\n",
        "# Make a 9x9 grid...\n",
        "nrows, ncols = 9,9\n",
        "image = np.zeros(nrows*ncols)\n",
        "\n",
        "# Set every other cell to a random number (this would be your data)\n",
        "image[::2] = np.random.random(nrows*ncols //2 + 1)\n",
        "\n",
        "# Reshape things into a 9x9 grid.\n",
        "image = image.reshape((nrows, ncols))\n",
        "\n",
        "row_labels = range(nrows)\n",
        "col_labels = ['A', 'B', 'C', 'D', 'E', 'F', 'G', 'H', 'I']\n",
        "plt.matshow(image)\n",
        "#plt.xticks(range(ncols), col_labels)\n",
        "#plt.yticks(range(nrows), row_labels)\n",
        "plt.show()"
      ],
      "metadata": {
        "id": "rtBcDrttejEE",
        "outputId": "b9510161-9cb0-4ffc-dd71-715b0cb968fd",
        "colab": {
          "base_uri": "https://localhost:8080/",
          "height": 275
        }
      },
      "execution_count": 40,
      "outputs": [
        {
          "output_type": "display_data",
          "data": {
            "text/plain": [
              "<Figure size 288x288 with 1 Axes>"
            ],
            "image/png": "[encoded data removed]"
          },
          "metadata": {
            "needs_background": "light"
          }
        }
      ]
    },
    {
      "cell_type": "code",
      "source": [
        "import matplotlib.pyplot as plt\n",
        "import numpy as np\n",
        "import pandas\n",
        "\n",
        "from matplotlib.table import Table\n",
        "\n",
        "def main():\n",
        "    data = pandas.DataFrame(np.random.random((12,8)), \n",
        "                columns=['A','B','C','D','E','F','G','H'])\n",
        "    checkerboard_table(data)\n",
        "    plt.show()\n",
        "\n",
        "def checkerboard_table(data, fmt='{:.2f}', bkg_colors=['yellow', 'white']):\n",
        "    fig, ax = plt.subplots()\n",
        "    ax.set_axis_off()\n",
        "    tb = Table(ax, bbox=[0,0,1,1])\n",
        "\n",
        "    nrows, ncols = data.shape\n",
        "    width, height = 1.0 / ncols, 1.0 / nrows\n",
        "\n",
        "    # Add cells\n",
        "    for (i,j), val in np.ndenumerate(data):\n",
        "        # Index either the first or second item of bkg_colors based on\n",
        "        # a checker board pattern\n",
        "        idx = [j % 2, (j + 1) % 2][i % 2]\n",
        "        color = bkg_colors[idx]\n",
        "\n",
        "        tb.add_cell(i, j, width, height, text=fmt.format(val), \n",
        "                    loc='center', facecolor=color)\n",
        "\n",
        "    # Row Labels...\n",
        "    for i, label in enumerate(data.index):\n",
        "        tb.add_cell(i, -1, width, height, text=label, loc='right', \n",
        "                    edgecolor='none', facecolor='none')\n",
        "    # Column Labels...\n",
        "    for j, label in enumerate(data.columns):\n",
        "        tb.add_cell(-1, j, width, height/2, text=label, loc='center', \n",
        "                           edgecolor='none', facecolor='none')\n",
        "    ax.add_table(tb)\n",
        "    return fig\n",
        "\n",
        "if __name__ == '__main__':\n",
        "    main()"
      ],
      "metadata": {
        "id": "Nzkfggz0o784",
        "outputId": "41660c3a-cf8a-45e6-d837-80e4a050c70e",
        "colab": {
          "base_uri": "https://localhost:8080/",
          "height": 257
        }
      },
      "execution_count": 52,
      "outputs": [
        {
          "output_type": "display_data",
          "data": {
            "text/plain": [
              "<Figure size 432x288 with 1 Axes>"
            ],
            "image/png": "[encoded data removed]"
          },
          "metadata": {
            "needs_background": "light"
          }
        }
      ]
    },
    {
      "cell_type": "code",
      "source": [
        "import matplotlib.pyplot as plt\n",
        "import numpy as np\n",
        "import pandas\n",
        "\n",
        "from matplotlib.table import Table\n",
        "\n",
        "def main():\n",
        "    data = pandas.DataFrame(np.random.random((2,8)), \n",
        "                columns=['A','B','C','D','E','F','G','H'])\n",
        "    checkerboard_table(data)\n",
        "    plt.show()\n",
        "\n",
        "def checkerboard_table(data, fmt='{:.2f}', bkg_colors=['yellow', 'red']):\n",
        "    fig, ax = plt.subplots()\n",
        "    ax.set_axis_off()\n",
        "    tb = Table(ax, bbox=[0,0,1,1])\n",
        "    nrows, ncols = data.shape\n",
        "    #width, height = 1.0 / ncols, 1.0 / nrows\n",
        "    width = 3.0 \n",
        "    height = 1.0\n",
        "\n",
        "    # Add cells\n",
        "    for (i,j), val in np.ndenumerate(data):\n",
        "        # Index either the first or second item of bkg_colors based on\n",
        "        # a checker board pattern\n",
        "        idx = [j % 2, (j + 1) % 2][i % 2]\n",
        "        color = bkg_colors[idx]\n",
        "\n",
        "        #tb.add_cell(i, j, width, height, text=fmt.format(val), \n",
        "                    #loc='right', facecolor=color)\n",
        "        tb.add_cell(i, j, width, height, text='34', \n",
        "                    loc='left', facecolor=color)\n",
        "\n",
        "    ax.add_table(tb)\n",
        "    return fig\n",
        "\n",
        "if __name__ == '__main__':\n",
        "    main()"
      ],
      "metadata": {
        "id": "VNhCftjKfSyo",
        "outputId": "623800ce-8964-4f78-e803-a960801a2f5c",
        "colab": {
          "base_uri": "https://localhost:8080/",
          "height": 248
        }
      },
      "execution_count": 77,
      "outputs": [
        {
          "output_type": "display_data",
          "data": {
            "text/plain": [
              "<Figure size 432x288 with 1 Axes>"
            ],
            "image/png": "[encoded data removed]"
          },
          "metadata": {
            "needs_background": "light"
          }
        }
      ]
    },
    {
      "cell_type": "code",
      "source": [],
      "metadata": {
        "id": "4bGwFQkef4Wf"
      },
      "execution_count": 69,
      "outputs": []
    }
  ]
}