{
  "cells": [
    {
      "cell_type": "markdown",
      "metadata": {
        "id": "view-in-github",
        "colab_type": "text"
      },
      "source": [
        "<a href=\"https://colab.research.google.com/github/lmoss/onesharp/blob/main/getting_started.ipynb\" target=\"_parent\"><img src=\"https://colab.research.google.com/assets/colab-badge.svg\" alt=\"Open In Colab\"/></a>"
      ]
    },
    {
      "cell_type": "markdown",
      "metadata": {
        "collapsed": false,
        "deletable": false,
        "editable": false,
        "id": "7MawMT1XNzgn"
      },
      "source": [
        "# <span style=\"color:blue\">Getting stared with 1#</span> \n",
        "Lawrence S. Moss,\n",
        "Indiana University\n",
        "\n",
        "\n",
        "#### This notebook is an interpreter for 1# written for the Jupyter notebook.   It is under development for use in my IU class M584 in this (current) fall 2022 semester.  The main source on 1# is the web text available at https://iulg.sitehost.iu.edu/trm.  If this notebook works out, then the plan is to convert all of the material on that web site to this format, and to make it available to the world.  To start, click on the triangle below.  It will tell you that it is not written to Google, but that's okay: just accept it."
      ]
    },
    {
      "cell_type": "code",
      "execution_count": 4,
      "metadata": {
        "editable": false,
        "jupyter": {
          "source_hidden": false
        },
        "id": "jxhALRpsNzgr",
        "cellView": "form"
      },
      "outputs": [],
      "source": [
        "#@title\n",
        "import pandas as pd\n",
        "from IPython.display import display\n",
        "import numpy as np\n",
        "\n",
        "def program_checker(str):\n",
        "    m = len(str)\n",
        "    x1 = str[m - 1] == '#'\n",
        "    x2 = all((str[i] == '1' or str[i] == '#') for i in range(m))\n",
        "    x3 = (str.find('######') == -1)\n",
        "    if (x1 and x2 and x3):\n",
        "        flag = True\n",
        "    else:\n",
        "        flag = False\n",
        "        print('The input ' + str + ' is not a valid 1# program.')\n",
        "        print('It is not the concatenation of a sequence of instructions in the language.')\n",
        "        print('So what you are asking for is undefined.')\n",
        "    return (flag)\n",
        "\n",
        "def one_or_sharp_check(letter):\n",
        "    if (letter==\"1\" or letter==\"#\"):\n",
        "        return(True)\n",
        "    else:\n",
        "        return(False)\n",
        "\n",
        "def word_checker(strg):\n",
        "    answer = all([one_or_sharp_check(x)==True for x in strg])\n",
        "    return(answer)\n",
        "\n",
        "def input_checker(input_seq):\n",
        "    seq = [word_checker(x) for x in input_seq]\n",
        "    flag = all([word_checker(x) for x in input_seq])\n",
        "    if not flag:\n",
        "        print('The input sequence contains words with characters other than 1 and #.')\n",
        "        print('So what you are asking for is undefined.')\n",
        "    return(flag)\n",
        "                                                                                \n",
        "class Augmented:\n",
        "    def __init__(self, string, remainders):\n",
        "        self.string = string\n",
        "        self.remainders = remainders\n",
        "\n",
        "class Snapshot:\n",
        "    def __init__(self, instr_number, regs, proceed,verbose,program_length, step_number):\n",
        "        self.instr_number = instr_number\n",
        "        self.regs = regs\n",
        "        self.proceed = proceed\n",
        "        self.verbose = verbose\n",
        "        self.program_length = program_length\n",
        "        self.step_number = step_number\n",
        "        \n",
        "def preparse(xstr):\n",
        "    b = xstr.string.find('#1')\n",
        "    xstr.remainders = xstr.remainders + [xstr.string[:(b + 1)]]\n",
        "    xstr.string = xstr.string[(b + 1):]\n",
        "    return (xstr)\n",
        "\n",
        "\n",
        "\n",
        "def parse(y):\n",
        "    tempx = Augmented(y, [])\n",
        "    while tempx.string.find('#1') >= 0:\n",
        "        tempx = preparse(tempx)\n",
        "    return (tempx.remainders + [tempx.string])\n",
        "\n",
        "def unparse(p):\n",
        "    return (''.join(p))\n",
        "\n",
        "def instruction_type(instruction):\n",
        "    if instruction[-2:] == '1#':\n",
        "        return ('add1')\n",
        "    if instruction[-3:] == '1##':\n",
        "        return ('add#')\n",
        "    if instruction[-4:] == '1###':\n",
        "        return ('forward')\n",
        "    if instruction[-5:] == '1####':\n",
        "        return ('backward')\n",
        "    if instruction[-6:] == '1#####':\n",
        "        return ('cases')\n",
        "\n",
        "def tail(list):\n",
        "    return (list[1:])\n",
        "\n",
        "def one_step(p, snapshot): # p is parsed\n",
        "    i = snapshot.instr_number\n",
        "    r = snapshot.regs\n",
        "    instruction = p[-1 + i]\n",
        "    if snapshot.verbose:\n",
        "        print('Step ' + str(snapshot.step_number) + ':')\n",
        "        print('Execute instruction ' + str(i) + ':' + \" \" +\n",
        "              instruction_gloss(instruction,i-1) \n",
        "              + '.')\n",
        "        if instruction_type(instruction)=='cases':\n",
        "            billy= len(instruction) - 5\n",
        "            if snapshot.regs[billy-1] == \"\":\n",
        "                print('The register is empty, so we go ahead 1 instruction.')\n",
        "            elif snapshot.regs[billy-1][0] == \"1\":\n",
        "                print('The first symbol in that register is 1,' +\n",
        "                      ' so we delete that symbol and go forward 2 instructions.')\n",
        "            elif snapshot.regs[billy-1][0] == \"#\":\n",
        "                print('The first symbol in that register is #,' +\n",
        "                      ' so we delete that symbol and go forward 3 instructions.')     \n",
        "    t = instruction_type(instruction)\n",
        "    if t == 'add1':\n",
        "        snapshot.instr_number = 1 + snapshot.instr_number\n",
        "        l = len(instruction)\n",
        "        reg = len(instruction[:(l - 1)])\n",
        "        snapshot.regs[reg - 1] = snapshot.regs[reg - 1] + '1'\n",
        "    if t == 'add#':\n",
        "        snapshot.instr_number = 1 + snapshot.instr_number\n",
        "        l = len(instruction)\n",
        "        reg = len(instruction[:(l - 2)])\n",
        "        snapshot.regs[reg - 1] = snapshot.regs[reg - 1] + '#'\n",
        "    if t == 'forward':\n",
        "        l = len(instruction)\n",
        "        offset = len(instruction[:(l - 3)])\n",
        "        snapshot.instr_number = offset + snapshot.instr_number\n",
        "    if t == 'backward':\n",
        "        l = len(instruction)\n",
        "        offset = len(instruction[:(l - 4)])\n",
        "        snapshot.instr_number = (-offset) + snapshot.instr_number\n",
        "    if t == 'cases':\n",
        "        l = len(instruction)\n",
        "        reg = len(instruction[:(l - 5)])\n",
        "        if snapshot.regs[reg - 1] == '':\n",
        "            snapshot.instr_number = 1 + snapshot.instr_number\n",
        "        elif snapshot.regs[reg - 1][0] == '1':\n",
        "            snapshot.instr_number = 2 + snapshot.instr_number\n",
        "            snapshot.regs[reg - 1] = tail(snapshot.regs[reg - 1])\n",
        "        elif snapshot.regs[reg - 1][0] == '#':\n",
        "            snapshot.instr_number = 3 + snapshot.instr_number\n",
        "            snapshot.regs[reg - 1] = tail(snapshot.regs[reg - 1])\n",
        "    snapshot.proceed = 0< snapshot.instr_number <= len(p)\n",
        "    if snapshot.verbose == True:\n",
        "        print_snapshot(snapshot)\n",
        "    return (snapshot)\n",
        "\n",
        "\n",
        "def number_help(instr):\n",
        "    if instruction_type(instr) == 'add1':\n",
        "        return (len(instr) - 1)\n",
        "    if instruction_type(instr) == 'add#':\n",
        "        return (len(instr) - 2)\n",
        "    if instruction_type(instr) == 'cases':\n",
        "        return (len(instr)-5)\n",
        "    else:\n",
        "        return (0)\n",
        "\n",
        "\n",
        "def max_register(p):\n",
        "    return (max([number_help(instr) for instr in parse(p)]))\n",
        "\n",
        "\n",
        "def pad(p, register_inputs):\n",
        "    n = len(register_inputs)\n",
        "    m = max_register(p)\n",
        "    extras = ['' for x in range(m - n)]\n",
        "    bigger = register_inputs + extras\n",
        "    return (bigger)\n",
        "\n",
        "def print_snapshot(snap):\n",
        "    regdf = pd.DataFrame([[snap.regs[n]] for n in range(len(snap.regs))],columns=[\"contents\"])\n",
        "    regdf.index = np.arange(1, len(regdf) + 1)\n",
        "    def make_pretty(styler):\n",
        "        styler.set_properties(**{'background-color': '#FFFFCC',\n",
        "                                 'color': 'black'})\n",
        "        styler.set_properties(**{'text-align': 'left'})\n",
        "        #styler.set_caption(\"at the start\")\n",
        "        #styler.hide(axis='index')\n",
        "        return styler\n",
        "    display(regdf.style.pipe(make_pretty))  \n",
        "\n",
        "def step_by_step(word_prog, register_inputs):\n",
        "    word_prog = word_prog.replace(\" \", \"\")\n",
        "    register_inputs = [word.replace(\" \", \"\") for word in register_inputs]\n",
        "    if program_checker(word_prog) and input_checker(register_inputs):\n",
        "        print('First, here is the program:')\n",
        "        parse_explain(word_prog)\n",
        "        print()\n",
        "        regs = pad(word_prog, register_inputs)\n",
        "        prog = parse(word_prog)\n",
        "        N = len(prog)\n",
        "        snap = Snapshot(1, regs,True,True,N,1)\n",
        "        print('The computation starts with the register contents shown below.')\n",
        "        print('The registers include those those which you entered as part of the input')\n",
        "        print('and also others mentioned in the input program.')\n",
        "        print_snapshot(snap)\n",
        "        print()\n",
        "        while 0 < snap.instr_number < N + 1:\n",
        "            snap = one_step(prog, snap)\n",
        "            snap.step_number = (snap.step_number) + 1\n",
        "        if snap.instr_number <= 0:\n",
        "            print(\n",
        "                'The computation has not halted properly ' +\n",
        "                'because the control went above instruction 1 of the program.'\n",
        "                 )\n",
        "        elif (snap.instr_number == (N + 1)) and all(\n",
        "                snap.regs[i] == \"\"\n",
        "                for i in range(1, len(snap.regs))):\n",
        "            print(\n",
        "                'The computation then halts properly because' +\n",
        "                ' the control is just below the last line of the program,')\n",
        "            print('and because all registers other than R1 are empty.')\n",
        "            if snap.regs[0] == \"\":\n",
        "                print('The output is the empty word.')\n",
        "            else:\n",
        "                print('The output is ' + snap.regs[0] + '.')\n",
        "        else:\n",
        "            print('This computation does not halt.')\n",
        "            if snap.instr_number != N + 1:\n",
        "                print('This is because the program has ' + str(len(prog)) +\n",
        "                  ' instructions, and control at the end is not one line ' + \n",
        "                   'below the bottom of the program.')\n",
        "                print()\n",
        "            else: \n",
        "                not_blank = [\n",
        "                    i + 1 for i in range(1, len(snap.regs))\n",
        "                    if snap.regs[i] != \"\"\n",
        "                ]\n",
        "                print('Here is the list of registers whose contents ' +\n",
        "                      'are not empty at this point, other than R1:' +\n",
        "                      str(not_blank) + '.')\n",
        "                print('The register contents at the end are shown above.')\n",
        "\n",
        "\n",
        "def onesharp(word_prog, register_inputs):\n",
        "    word_prog = word_prog.replace(\" \", \"\")\n",
        "    register_inputs = [word.replace(\" \", \"\") for word in register_inputs]  \n",
        "    if program_checker(word_prog) and input_checker(register_inputs):\n",
        "        register_inputs = [word.replace(\" \", \"\") for word in register_inputs]\n",
        "        regs = pad(word_prog, register_inputs)\n",
        "        prog = parse(word_prog)\n",
        "        N = len(prog)\n",
        "        snap = Snapshot(1, regs,True,False, N, 1)\n",
        "        while snap.proceed:\n",
        "            snap = one_step(prog, snap)\n",
        "            snap.step_number = (snap.step_number)+1\n",
        "        if (snap.instr_number == (N + 1)) and all(\n",
        "                snap.regs[i] == \"\" for i in range(1, len(snap.regs))):\n",
        "            return ((snap.regs)[0])\n",
        "        else:            \n",
        "            print(\"This is undefined.\")\n",
        "            print(\"The register contents at the end are shown below.\")\n",
        "            print_snapshot(snap)\n",
        "    else:\n",
        "        return('undefined')\n",
        "\n",
        "\n",
        "def instruction_gloss(instr,line):\n",
        "    if instruction_type(instr) == 'add1':\n",
        "        return ('add 1 to R' + str(len(instr) - 1))\n",
        "    if instruction_type(instr) == 'add#':\n",
        "        return ('add # to R' + str(len(instr) - 2))\n",
        "    if instruction_type(instr) == 'forward':\n",
        "        w = len(instr) - 3\n",
        "        return ('go forward ' + str(w) + ' to instruction ' + str(w+line+1))\n",
        "    if instruction_type(instr) == 'backward':\n",
        "        w = len(instr) - 4\n",
        "        return ('go backward ' + str(w) + ' to instruction ' + str(line - w+1))\n",
        "    if instruction_type(instr) == 'cases':\n",
        "        return ('cases on R' + str(len(instr) - 5))\n",
        "\n",
        "def expanded(gorp):\n",
        "    pgorp = parse(gorp)\n",
        "    wwgorp = [[pgorp[x],instruction_gloss(pgorp[x],x)] for x in range(len(pgorp))]\n",
        "    return(wwgorp)\n",
        "\n",
        "def parse_explain(prog):\n",
        "    df = pd.DataFrame(expanded(prog),\n",
        "                      columns=[\"instruction\", 'explanation'])\n",
        "    df.index = np.arange(1, len(df) + 1)\n",
        "    def make_pretty(styler):\n",
        "                styler.set_properties(**{'background-color': '#C9DFEC',\n",
        "                                         'color': 'black'})        \n",
        "                styler.set_properties(**{'text-align': 'left'})\n",
        "                return styler\n",
        "    display(df.style.pipe(make_pretty))\n",
        "    #display(df)\n",
        "    \n",
        "\n",
        "length = '1#####1111111###11####11#1#####111###111111####111####11#####111111###111###1##1111####1#111111####'\n",
        "\n",
        "write = '1#####111111111###11111###11#11##11##111111####11#11##111111111####11#####111111###111###1##1111####1#111111####'\n",
        "\n",
        "diag = '1#####11111111111###111111###11##111#111##111##1111111####11#111#111##1111####111#####111111###111###1##1111####1#11####11#####111111###111###1##1111####1#11####'\n",
        "\n",
        "self = '1#1##1##1##1##1##1#1#1#1#1#1#1#1#1#1#1#1##1##1##1#1#1#1#1#1#1##1##1##1#1#1##1##1#1#1#1##1#1#1#1##1##1#1#1#1##1##1#1#1#1#1#1#1#1##1##1##1##1#1#1##1#1#1#1##1#1#1#1##1##1#1#1#1#1##1##1##1##1#1#1#1##1##1##1##1##1#1#1#1#1#1#1##1##1##1#1#1#1##1##1##1#1##1##1#1#1#1#1##1##1##1##1#1##1#1#1##1##1##1##1#1#1##1##1##1##1##1#1#1#1#1#1#1##1##1##1#1#1#1##1##1##1#1##1##1#1#1#1#1##1##1##1##1#1##1#1#1##1##1##1##1#####11111111111###111111###11##111#111##111##1111111####11#111#111##1111####111#####111111###111###1##1111####1#11####11#####111111###111###1##1111####1#11####'\n",
        "\n",
        "multiply = '111##1111##11#####11111111###1111###11111##111111##11111####11111#111111#11111111####111111#####111111###111###11##1111####11#111111####111#####11111111###1111###111111##1111111##11111####111111#1111111#11111111####1111111#####111111###111###111##1111####111#111111####11111#####111111###111111111###111111#####11111111111###1111111111###111111####111111#####111111111111111###111111###11111###111111#####111###1111111111111####1###11111#####1  11###11####111####111111#####1111###11####111####11111#11111#####111###1111111111111111111111111111111111111111111111111111111111111111111111111111111111111111111111111111111###1#1#####11111111###1111###11111##111111##11111####11111#111111#11111111####111111#####111111###111###1##1111####1#111111####1111#####111111###111###111111##1111####111111#111111####11111#####111###111111###111111111###111111#####11111111111111111111111111111111111###11111111111111111111111111###111111111111111111111111111###111111#####11111111111111111111111###1111111111111111111111111111###111111111111111111111###111111#####111111111111111111111###111111111111111111###1111111111111111111###11111#####111###111111###111111111###111111#####11111111111###1111111111111111###111111111###111111#####1111111111111###1111111111###11111111111###111111#####111###11111111###1###1111111#111111111111111111111111111111111####1111111##11111111111111111111111111111111111####1111111#111111111111111111111####1111111##11111111111111111111111####1###1111111#####111111###111###11111##1111####11111#111111####11111#####111111###111###1111##1111####1111#111111####111#####1111111111111###1111111111###11111#111#####111111###111###11111##1111####11111#111111####1111###11111##1111111111111####11111#11111#####111111###111###111##1111####111#111111####1111111111111111111111111111111111111111111111111111111111111111111111111111111111111111111111111111111111111111111111111111111111111111111111111111111111111111####1#####111###11####111####11#####111###11####111####111#####111###11####111####1111#####111111###111###1##1111####1#111111####'\n",
        "\n",
        "universal = '1#####1###11###11####111111#1#####111###111111###1111111###11111#####1111111111111111111111111111111111111111111111111111111111111111111111111111111111111111111111111111111111111111111###1###1####111#111111111####111##1#####1111###11###11111###111#11111#####1111111111111111111111111111111111111111111111###111111111###111##1#####1111###11###11111###111#11111#####1111111111111111111111111111111111111###111111111###111##1#####1111###11###11111###111#11111#####1111111111111111111111111111111111111111111111###111111111###111##1#####1111###11###11111###111#11111#####111111111111111111111111111111111111111111111111111111###111111111###111##1#####1111###11###11111111111111111111111111111111111111111111111111111111111111111111111111111111111111111111111111111111111111111111111111111111111111111111111111111111111111111111111111111111111111111111111111111111111111111111111111111111111111111111111111111###111#11111#####1111111111###1###111#####111111###111###1111##1111####1111#111111####11111111111111111111111111111111111111111111111111111111111111####111#####1###11###1111###11111#1111#111111####11111##1111##111#####1111111###1111###1111##11111##11111####1111#1111111####111111111111111111111111111111111111111111111111111111111111111111111111111###111#####1###11###11111###11111#1111#111111#1111111####1111##111#####111111###111###1111##1111####1111#111111####11111111111111111111111111111111111111111111111111111111111111111111111111111111111111111111111111####111#####1###11###1111###1111#11111#111111####11111#11111#1111##111#####111111###111###1111##1111####1111#111111####11111#####11111111###11###1###111111#####111111111111111111111111111111111111111111111111111111111111111111111111111111111111111111111111111111111111111111111111111111111111111111111111111###1###1###11111111####111111#####1111###111#11111#1111####111#####111###111111#111####1#####111111###111###111##1111####111#111111####1111#####111111###111###1##1111####1#111111####111#####111111###111###1##1111####1#111111####111111111111111111111111111111111111111111111111111111111####11#####111###11111###111111111111###11##11##111111####111#11#####1###111###111##11###111#11111111111111####111##11#####11111111111111111111111111111111111111111111111111111111111111111111###1###111##11111#####1###1111111111111111111111####11111#####1111111111111111111111111111###111111111111111111111111111###11111#####111###11###111111111111111111111111111111111111111111111###11#####111111111111111111###111111111###111#11#####1###1###111#111##111##111111111111111111111111111111111111111111111111111111111###111#11#####1###111###111##11###111#111111111111111111####111#111#1111111111111111111111111111111111111111111111###11#####111111111111111111###111111111###111#11#####1###1###111##111##111##11111111111111111111111111111111111###111#11#####1###111###111##11###111#111111111111111111####111#111##111111111111111111111111###11111#####1###1###11111#####1###1###11#####11111111111111111111111###111###111##1111111111111###11#####1###11111###1###11111#111111#111111###11111#11111#111111#111111#1###11#####111111###111###111##1111####111#111111####111#####111111###111###11##1111####11#111111####1111111111111111111111111111111111111111111111111111111111111111111111111111111111111111111111111111111111111111####11#####1###1###11#####1###1###11#####11111111111111###11###11111111###11#####1###111###1#11111111####1##1111111111####11#####111###11####111####111111#####11###11####1111#####111###11####111####'\n",
        "clear_2 = '11#####111###11####111####'\n",
        "clear_3 = '111#####111###11####111####'\n",
        "clear_4 = '1111#####111###11####111####'\n",
        "move_1_2= '1#####111111###111###11##1111####11#111111####'\n",
        "move_1_3= '1#####111111###111###111##1111####111#111111####'\n",
        "move_1_4= '1#####111111###111###1111##1111####1111#111111####'\n",
        "move_2_1= '11#####111111###111###1##1111####1#111111####'\n",
        "move_2_3= '11#####111111###111###111##1111####111#111111####'\n",
        "move_2_4= '11#####111111###111###1111##1111####1111#111111####'\n",
        "move_3_1= '111#####111111###111###1##1111####1#111111####'\n",
        "move_3_2= '111#####111111###111###11##1111####11#111111####'\n",
        "move_3_4= '111#####111111###111###1111##1111####1111#111111####'\n",
        "move_4_1= '1111#####111111###111###1##1111####1#111111####'\n",
        "move_4_2= '1111#####111111###111###11##1111####11#111111####'\n",
        "move_4_3= '1111#####111111###111###111##1111####111#111111####'\n",
        "copy_1_2_3 = '1#####11111111###1111###11##111##11111####11#111#11111111####111#####111111###111###1##1111####1#111111####'\n",
        "copy_1_2_4 ='1#####11111111###1111###11##1111##11111####11#1111#11111111####1111#####111111###111###1##1111####1#111111####'\n",
        "copy_1_3_4='1#####11111111###1111###111##1111##11111####111#1111#11111111####1111#####111111###111###1##1111####1#111111####'\n",
        "copy_2_3_4 = '11#####11111111###1111###111##1111##11111####111#1111#11111111####1111#####111111###111###11##1111####11#111111####'\n",
        "\n"
      ]
    },
    {
      "cell_type": "markdown",
      "source": [
        "Welcome to our first tutorial lesson on 1#. You will learn the basics of the language here and also see some small programs.\n",
        "\n",
        "This lesson is written on a lower level than the lessons which come after it. The only abstract concept comes at the end, as does the only and mathematical notation. The rest of the lesson is a concrete introduction to 1#.\n",
        "\n",
        "If you are familiar with any machine model in the theory of computations, such as Turing Machines, or classical register machines, you probably will want to skim through this lesson quickly.\n",
        "\n",
        "But this introductory lesson is really intended for people with no background on these matters. If this is you, please work slowly, doing the exercises as you go.\n"
      ],
      "metadata": {
        "id": "Fgp0e5TPkQc_"
      }
    },
    {
      "cell_type": "markdown",
      "source": [
        "To begin, here is an *interpreter* for 1#.  Even before learning how the language works, we want to see how to run program using the interpreter."
      ],
      "metadata": {
        "id": "gU8rrAp25Zar"
      }
    },
    {
      "cell_type": "code",
      "source": [
        "def end_strip(list): ## removes the tail of empty registers\n",
        "  if list == []:\n",
        "    return(list)\n",
        "  elif list[-1] == '':\n",
        "    return(end_strip(list[:-1]))\n",
        "  else:\n",
        "    return(list)\n",
        "def remove_multiple_blanks(my_str):\n",
        "   return(my_str.replace(\" \", \"\"))\n",
        "\n",
        "\n",
        "program = '' #@param {type:\"string\"}\n",
        "R1 = '' #@param {type:\"string\"}\n",
        "R2 = '' #@param {type:\"string\"}\n",
        "R3 = '' #@param {type:\"string\"}\n",
        "\n",
        "## For more registers, add lines here like\n",
        "## R4 = '' #@param {type:\"string\"}\n",
        "## You also must modify the definition of 'a' below accordingly.\n",
        "\n",
        "# First, we delete the last batch of empty registers\n",
        "# to simplify the output \n",
        "a = [R1,R2,R3]\n",
        "a = [remove_multiple_blanks(x) for x in a]\n",
        "\n",
        "onesharp(program,non_empty_registers)\n"
      ],
      "metadata": {
        "cellView": "form",
        "id": "MPjUbJF95HHZ"
      },
      "execution_count": null,
      "outputs": []
    },
    {
      "cell_type": "markdown",
      "source": [
        "Please copy the following program of 1# into the program line of the interpreter above.\n",
        "\n",
        "```11#####111111###111###1##1111####1#111111####```\n",
        "\n",
        "Now enter some words in the input registers. At first, it will be best to only enter words in the first two registers, R1 and R2. You must enter words composed of the symbols ```1``` and ```#```, such as ```11###11#1``` and ```#1###1###111#11```.\n",
        "\n",
        "Next, run your program by clicking the triangle in the upper-left above. \n",
        "\n",
        "You should then clear the input and output registers, and then enter some new words in R1 and R2. You might now enter some words in R3 to see if it makes a difference.\n",
        "\n",
        "What you should find after doing this is that the output in R1 at the end is the input in R1 followed by the input in R2. And as a result of the same computation, R2 is emptied out. We usually will say concatenated instead of followed by.\n",
        "\n",
        "The overall point is that the program ```11#####111111###111###1##1111####1#111111####``` may be run on words which are input in the registers. This program does not change when we run it, but the contents of the registers does change. Our first order of business is to understand programs like the one we've just seen. It turns out that this program is composed of seven instructions. We'll get to the instructions soon, but first we have an exercise for you to try."
      ],
      "metadata": {
        "id": "3BOQeYtdk84Q"
      }
    },
    {
      "cell_type": "markdown",
      "source": [
        "####Exercise 1 \n",
        "\n",
        "Here is another 1# program. It takes its input from the first two registers. Enter some words in R1 and R2 input boxes, and then run the program. Your job is to try to figure out what the program does.\n",
        "\n",
        "1##### 11111111### 1111### 111## 1111## 11111#### 111# 1111# 11111111#### 111##### 111111### 111### 1## 1111#### 1# 111111#### 1111##### 111111### 111### 1## 1111#### 1# 111111#### 11##### 111111### 111### 1## 1111#### 1# 111111####"
      ],
      "metadata": {
        "id": "AehFgcJH8Nh3"
      }
    },
    {
      "cell_type": "markdown",
      "metadata": {
        "collapsed": false,
        "editable": false,
        "id": "140jmxl-Nzgv"
      },
      "source": [
        "There's no real reason to look at the Python code, but you can do so if you like.\n",
        "\n",
        "Next, enter the cell below by clicking on the triangle.  The output is a step-by-step explanation of a computation of the program 1#11#####1###1### when started with the word 1#1 in R1,and  # in R2."
      ]
    },
    {
      "cell_type": "markdown",
      "source": [
        "<img src=\"https://github.com/lmoss/onesharp/blob/main/drum.jpg?raw=1\" width=\"200\" height=\"160\">"
      ],
      "metadata": {
        "id": "sdgINOc18bLf"
      }
    },
    {
      "cell_type": "markdown",
      "source": [
        "##The 1# instruction set\n",
        "\n",
        "So far, we have seen two *programs* of 1#. Programs are composed of *instructions*. In fact, programs are just sequences of instructions run together. There are only five kinds of 1# instructions.  Now is the time to introduce them.\n",
        "\n",
        "We begin our journey with the first two types of instructions of the language.\n",
        "\n",
        "| Instruction      | Meaning |\n",
        "| ----------- | ----------- |\n",
        "| 1#      | Add 1 to R1       |\n",
        "| 11#   | Add 1 to R2      |\n",
        "| 111#   | Add 1 to R3      |\n",
        "\n",
        "\n",
        "These instructions that a 1 to the end of the word in the specified register.\n",
        "\n",
        "\n",
        "| Instruction      | Meaning |\n",
        "| ----------- | ----------- |\n",
        "| 1##      | Add # to R1       |\n",
        "| 11##   | Add # to R2      |\n",
        "| 111##   | Add # to R3      |\n",
        "\t\t\n",
        "\n",
        "These add a # to the end (the right side) of the word in the specified register.\n",
        "\n",
        "The programs of 1# are just sequences of instructions run together.\n",
        "\n",
        "There is no punctuation between the instructions. However, we do have an important comment."
      ],
      "metadata": {
        "id": "aq0g8aLp8aCW"
      }
    },
    {
      "cell_type": "code",
      "execution_count": 3,
      "metadata": {
        "jupyter": {
          "outputs_hidden": true
        },
        "scrolled": true,
        "id": "VPQDvFNPNzgw",
        "collapsed": true,
        "colab": {
          "base_uri": "https://localhost:8080/",
          "height": 710
        },
        "outputId": "6e335b86-42c5-4652-c118-aa228013f27f"
      },
      "outputs": [
        {
          "output_type": "stream",
          "name": "stdout",
          "text": [
            "First, here is the program:\n"
          ]
        },
        {
          "output_type": "display_data",
          "data": {
            "text/plain": [
              "<pandas.io.formats.style.Styler at 0x7f9b140c7710>"
            ],
            "text/html": [
              "<style type=\"text/css\">\n",
              "#T_2c4c7_row0_col0, #T_2c4c7_row0_col1, #T_2c4c7_row1_col0, #T_2c4c7_row1_col1, #T_2c4c7_row2_col0, #T_2c4c7_row2_col1, #T_2c4c7_row3_col0, #T_2c4c7_row3_col1 {\n",
              "  background-color: #C9DFEC;\n",
              "  color: black;\n",
              "  text-align: left;\n",
              "}\n",
              "</style>\n",
              "<table id=\"T_2c4c7_\" class=\"dataframe\">\n",
              "  <thead>\n",
              "    <tr>\n",
              "      <th class=\"blank level0\" >&nbsp;</th>\n",
              "      <th class=\"col_heading level0 col0\" >instruction</th>\n",
              "      <th class=\"col_heading level0 col1\" >explanation</th>\n",
              "    </tr>\n",
              "  </thead>\n",
              "  <tbody>\n",
              "    <tr>\n",
              "      <th id=\"T_2c4c7_level0_row0\" class=\"row_heading level0 row0\" >1</th>\n",
              "      <td id=\"T_2c4c7_row0_col0\" class=\"data row0 col0\" >1#</td>\n",
              "      <td id=\"T_2c4c7_row0_col1\" class=\"data row0 col1\" >add 1 to R1</td>\n",
              "    </tr>\n",
              "    <tr>\n",
              "      <th id=\"T_2c4c7_level0_row1\" class=\"row_heading level0 row1\" >2</th>\n",
              "      <td id=\"T_2c4c7_row1_col0\" class=\"data row1 col0\" >11#####</td>\n",
              "      <td id=\"T_2c4c7_row1_col1\" class=\"data row1 col1\" >cases on R2</td>\n",
              "    </tr>\n",
              "    <tr>\n",
              "      <th id=\"T_2c4c7_level0_row2\" class=\"row_heading level0 row2\" >3</th>\n",
              "      <td id=\"T_2c4c7_row2_col0\" class=\"data row2 col0\" >1###</td>\n",
              "      <td id=\"T_2c4c7_row2_col1\" class=\"data row2 col1\" >go forward 1 to instruction 4</td>\n",
              "    </tr>\n",
              "    <tr>\n",
              "      <th id=\"T_2c4c7_level0_row3\" class=\"row_heading level0 row3\" >4</th>\n",
              "      <td id=\"T_2c4c7_row3_col0\" class=\"data row3 col0\" >1###</td>\n",
              "      <td id=\"T_2c4c7_row3_col1\" class=\"data row3 col1\" >go forward 1 to instruction 5</td>\n",
              "    </tr>\n",
              "  </tbody>\n",
              "</table>\n"
            ]
          },
          "metadata": {}
        },
        {
          "output_type": "stream",
          "name": "stdout",
          "text": [
            "\n",
            "The computation starts with the register contents shown below.\n",
            "The registers include those those which you entered as part of the input\n",
            "and also others mentioned in the input program.\n"
          ]
        },
        {
          "output_type": "display_data",
          "data": {
            "text/plain": [
              "<pandas.io.formats.style.Styler at 0x7f9b0ed02f10>"
            ],
            "text/html": [
              "<style type=\"text/css\">\n",
              "#T_43953_row0_col0, #T_43953_row1_col0 {\n",
              "  background-color: #FFFFCC;\n",
              "  color: black;\n",
              "  text-align: left;\n",
              "}\n",
              "</style>\n",
              "<table id=\"T_43953_\" class=\"dataframe\">\n",
              "  <thead>\n",
              "    <tr>\n",
              "      <th class=\"blank level0\" >&nbsp;</th>\n",
              "      <th class=\"col_heading level0 col0\" >contents</th>\n",
              "    </tr>\n",
              "  </thead>\n",
              "  <tbody>\n",
              "    <tr>\n",
              "      <th id=\"T_43953_level0_row0\" class=\"row_heading level0 row0\" >1</th>\n",
              "      <td id=\"T_43953_row0_col0\" class=\"data row0 col0\" >1#1</td>\n",
              "    </tr>\n",
              "    <tr>\n",
              "      <th id=\"T_43953_level0_row1\" class=\"row_heading level0 row1\" >2</th>\n",
              "      <td id=\"T_43953_row1_col0\" class=\"data row1 col0\" >#</td>\n",
              "    </tr>\n",
              "  </tbody>\n",
              "</table>\n"
            ]
          },
          "metadata": {}
        },
        {
          "output_type": "stream",
          "name": "stdout",
          "text": [
            "\n",
            "Step 1:\n",
            "Execute instruction 1: add 1 to R1.\n"
          ]
        },
        {
          "output_type": "display_data",
          "data": {
            "text/plain": [
              "<pandas.io.formats.style.Styler at 0x7f9b140c77d0>"
            ],
            "text/html": [
              "<style type=\"text/css\">\n",
              "#T_bf8e6_row0_col0, #T_bf8e6_row1_col0 {\n",
              "  background-color: #FFFFCC;\n",
              "  color: black;\n",
              "  text-align: left;\n",
              "}\n",
              "</style>\n",
              "<table id=\"T_bf8e6_\" class=\"dataframe\">\n",
              "  <thead>\n",
              "    <tr>\n",
              "      <th class=\"blank level0\" >&nbsp;</th>\n",
              "      <th class=\"col_heading level0 col0\" >contents</th>\n",
              "    </tr>\n",
              "  </thead>\n",
              "  <tbody>\n",
              "    <tr>\n",
              "      <th id=\"T_bf8e6_level0_row0\" class=\"row_heading level0 row0\" >1</th>\n",
              "      <td id=\"T_bf8e6_row0_col0\" class=\"data row0 col0\" >1#11</td>\n",
              "    </tr>\n",
              "    <tr>\n",
              "      <th id=\"T_bf8e6_level0_row1\" class=\"row_heading level0 row1\" >2</th>\n",
              "      <td id=\"T_bf8e6_row1_col0\" class=\"data row1 col0\" >#</td>\n",
              "    </tr>\n",
              "  </tbody>\n",
              "</table>\n"
            ]
          },
          "metadata": {}
        },
        {
          "output_type": "stream",
          "name": "stdout",
          "text": [
            "Step 2:\n",
            "Execute instruction 2: cases on R2.\n",
            "The first symbol in that register is #, so we delete that symbol and go forward 3 instructions.\n"
          ]
        },
        {
          "output_type": "display_data",
          "data": {
            "text/plain": [
              "<pandas.io.formats.style.Styler at 0x7f9b140c7610>"
            ],
            "text/html": [
              "<style type=\"text/css\">\n",
              "#T_05b67_row0_col0, #T_05b67_row1_col0 {\n",
              "  background-color: #FFFFCC;\n",
              "  color: black;\n",
              "  text-align: left;\n",
              "}\n",
              "</style>\n",
              "<table id=\"T_05b67_\" class=\"dataframe\">\n",
              "  <thead>\n",
              "    <tr>\n",
              "      <th class=\"blank level0\" >&nbsp;</th>\n",
              "      <th class=\"col_heading level0 col0\" >contents</th>\n",
              "    </tr>\n",
              "  </thead>\n",
              "  <tbody>\n",
              "    <tr>\n",
              "      <th id=\"T_05b67_level0_row0\" class=\"row_heading level0 row0\" >1</th>\n",
              "      <td id=\"T_05b67_row0_col0\" class=\"data row0 col0\" >1#11</td>\n",
              "    </tr>\n",
              "    <tr>\n",
              "      <th id=\"T_05b67_level0_row1\" class=\"row_heading level0 row1\" >2</th>\n",
              "      <td id=\"T_05b67_row1_col0\" class=\"data row1 col0\" ></td>\n",
              "    </tr>\n",
              "  </tbody>\n",
              "</table>\n"
            ]
          },
          "metadata": {}
        },
        {
          "output_type": "stream",
          "name": "stdout",
          "text": [
            "The computation then halts properly because the control is just below the last line of the program,\n",
            "and because all registers other than R1 are empty.\n",
            "The output is 1#11.\n"
          ]
        }
      ],
      "source": [
        "step_by_step('1#11#####1###1###',['1#1','#',])"
      ]
    },
    {
      "cell_type": "markdown",
      "metadata": {
        "collapsed": false,
        "jupyter": {
          "outputs_hidden": true
        },
        "id": "UryssEaVNzgx"
      },
      "source": [
        "The last computation started with two inputs.  Try changing those inputs to see what happens.  As practice with the definition of *halt*, you might try yourself to predict what will happen before running it.  You can add the symbols 1 or #, and you also can delete symbols.  But you should not delete the quote marks.  Also, you can change the program the same way.   The idea is that you should explore this function *step_by_step* by trying it out on simple inputs.  Here is another computation, with more explanation of the notation."
      ]
    },
    {
      "cell_type": "code",
      "execution_count": null,
      "metadata": {
        "jupyter": {
          "outputs_hidden": true
        },
        "id": "HlY7a6_qNzgx"
      },
      "outputs": [],
      "source": [
        "step_by_step(diag,['1#1','#',])"
      ]
    },
    {
      "cell_type": "markdown",
      "metadata": {
        "collapsed": false,
        "id": "cxghpbUSNzgx"
      },
      "source": [
        "Here is an explanation of the form of the command called \"step_by_step\" that we have been using.   \n",
        "\n",
        "The first argument could be a 1# program surrounded by single quotes or double-quotes.   If you use single quotes, you need to be sure to use the correct ones; on my screen they look straight, not slanted.   You could also use a concatenation of quoted expressions (see below).  But if you forget the quotes, you will get an error because the Python program that is running all of this will balk at 1# expressions without quotes around them.\n",
        "\n",
        "In addition, you can name expressions ahead of time using assignment statements like \n",
        "\n",
        "p = '1#'\n",
        "\n",
        "\n",
        "and then write ```step_by_step(p,['11'])```, for example.\n",
        "\n",
        "---\n",
        "\n",
        "The program ```step_by_step``` begins with a parse of your program, and so if you input a word that is not a sequence of 1# expressions, it will stop without further ado.\n",
        "\n",
        "The second argument to ```step_by_step``` is a list of words.   A list in Python is enclosed by square brackets \\[ and \\], not by parentheses.  The words that go in the list are used in R1, R2, . . . in that order.  It is understood that any register not represented by any input starts with the empty string.   You can also represent the empty string by ' '.  And the empty list  of registers is denoted by two square brackets with nothing inside,  [  ].\n",
        "\n",
        "All in all, the examples below show different formats for the input to our function step_by_step.\n",
        "\n"
      ]
    },
    {
      "cell_type": "code",
      "execution_count": null,
      "metadata": {
        "jupyter": {
          "outputs_hidden": true
        },
        "id": "bQG-Z-2kNzgx"
      },
      "outputs": [],
      "source": [
        "p= '1#'\n",
        "q = '#1'\n",
        "step_by_step(p,[q,q,p])"
      ]
    },
    {
      "cell_type": "code",
      "execution_count": null,
      "metadata": {
        "jupyter": {
          "outputs_hidden": true
        },
        "scrolled": true,
        "id": "T7Xwna4jNzgy"
      },
      "outputs": [],
      "source": [
        "step_by_step(p+q+p,[])\n",
        "# This is a comment.\n",
        "# the symbol + is used for concatenation of strings in Python.\n",
        "# Since p and q are strings, we can concatenate them"
      ]
    },
    {
      "cell_type": "markdown",
      "metadata": {
        "collapsed": false,
        "id": "VKo3wMOqNzgy"
      },
      "source": [
        "So far in this notebook, we have only seen the function ```step_by_step```.   If we want to run things \"in one fell swoop\", we could use the function ```onesharp(p,[r1,r2, . . ., rn])```.   It also takes two arguments, the first a program and the second a (possibly-empty) sequence of input words."
      ]
    },
    {
      "cell_type": "code",
      "execution_count": null,
      "metadata": {
        "id": "g_hKkqiUNzgy",
        "colab": {
          "base_uri": "https://localhost:8080/",
          "height": 36
        },
        "outputId": "0619775a-560b-4edf-d321-61c63fc43796"
      },
      "outputs": [
        {
          "output_type": "execute_result",
          "data": {
            "text/plain": [
              "''"
            ],
            "application/vnd.google.colaboratory.intrinsic+json": {
              "type": "string"
            }
          },
          "metadata": {},
          "execution_count": 50
        }
      ],
      "source": [
        "clear_1 = '1##### 111### 11#### 111####'\n",
        "onesharp(clear_1,['1111###1111##########'])\n",
        "# You can also run the line above slowly by running\n",
        "# step_by_step(clear_1,['1111###1111##########'])"
      ]
    },
    {
      "cell_type": "code",
      "execution_count": null,
      "metadata": {
        "id": "ZkI3LOpsNzgy"
      },
      "outputs": [],
      "source": []
    },
    {
      "cell_type": "markdown",
      "metadata": {
        "collapsed": false,
        "id": "Uam-e23cNzgy"
      },
      "source": [
        "There are several other programs that come with the import that you made in the first cell of this notebook.\n",
        "\n",
        "```write```\n",
        "\n",
        "```diag```\n",
        "\n",
        "```self```\n",
        "\n",
        "```move_2_1```\n",
        "\n",
        "```copy_1_2_3```\n",
        "\n",
        "```universal```\n",
        "\n",
        "```multiply```\n",
        "\n"
      ]
    },
    {
      "cell_type": "code",
      "source": [
        "self"
      ],
      "metadata": {
        "id": "-HXGPL9gOgYH",
        "colab": {
          "base_uri": "https://localhost:8080/",
          "height": 107
        },
        "outputId": "a1e9145f-f631-49a7-c7ca-28bcdcb41fcb"
      },
      "execution_count": null,
      "outputs": [
        {
          "output_type": "execute_result",
          "data": {
            "text/plain": [
              "'1#1##1##1##1##1##1#1#1#1#1#1#1#1#1#1#1#1##1##1##1#1#1#1#1#1#1##1##1##1#1#1##1##1#1#1#1##1#1#1#1##1##1#1#1#1##1##1#1#1#1#1#1#1#1##1##1##1##1#1#1##1#1#1#1##1#1#1#1##1##1#1#1#1#1##1##1##1##1#1#1#1##1##1##1##1##1#1#1#1#1#1#1##1##1##1#1#1#1##1##1##1#1##1##1#1#1#1#1##1##1##1##1#1##1#1#1##1##1##1##1#1#1##1##1##1##1##1#1#1#1#1#1#1##1##1##1#1#1#1##1##1##1#1##1##1#1#1#1#1##1##1##1##1#1##1#1#1##1##1##1##1#####11111111111###111111###11##111#111##111##1111111####11#111#111##1111####111#####111111###111###1##1111####1#11####11#####111111###111###1##1111####1#11####'"
            ],
            "application/vnd.google.colaboratory.intrinsic+json": {
              "type": "string"
            }
          },
          "metadata": {},
          "execution_count": 4
        }
      ]
    },
    {
      "cell_type": "code",
      "source": [],
      "metadata": {
        "id": "giO6gfWPeCuj"
      },
      "execution_count": null,
      "outputs": []
    },
    {
      "cell_type": "markdown",
      "source": [
        "You can play with these, of course."
      ],
      "metadata": {
        "id": "dVnM3Lj_e1Lw"
      }
    },
    {
      "cell_type": "code",
      "source": [
        "diag"
      ],
      "metadata": {
        "id": "Ts-d2d6he6On",
        "colab": {
          "base_uri": "https://localhost:8080/",
          "height": 53
        },
        "outputId": "32fb2272-39b6-4bac-8dbe-391746f8da00"
      },
      "execution_count": 2,
      "outputs": [
        {
          "output_type": "execute_result",
          "data": {
            "text/plain": [
              "'1#####11111111111###111111###11##111#111##111##1111111####11#111#111##1111####111#####111111###111###1##1111####1#11####11#####111111###111###1##1111####1#11####'"
            ],
            "application/vnd.google.colaboratory.intrinsic+json": {
              "type": "string"
            }
          },
          "metadata": {},
          "execution_count": 2
        }
      ]
    },
    {
      "cell_type": "code",
      "source": [
        "self"
      ],
      "metadata": {
        "colab": {
          "base_uri": "https://localhost:8080/",
          "height": 107
        },
        "id": "HHDP-Q2zepfE",
        "outputId": "022b6f63-872c-470a-fb2e-6536e14df243"
      },
      "execution_count": 3,
      "outputs": [
        {
          "output_type": "execute_result",
          "data": {
            "text/plain": [
              "'1#1##1##1##1##1##1#1#1#1#1#1#1#1#1#1#1#1##1##1##1#1#1#1#1#1#1##1##1##1#1#1##1##1#1#1#1##1#1#1#1##1##1#1#1#1##1##1#1#1#1#1#1#1#1##1##1##1##1#1#1##1#1#1#1##1#1#1#1##1##1#1#1#1#1##1##1##1##1#1#1#1##1##1##1##1##1#1#1#1#1#1#1##1##1##1#1#1#1##1##1##1#1##1##1#1#1#1#1##1##1##1##1#1##1#1#1##1##1##1##1#1#1##1##1##1##1##1#1#1#1#1#1#1##1##1##1#1#1#1##1##1##1#1##1##1#1#1#1#1##1##1##1##1#1##1#1#1##1##1##1##1#####11111111111###111111###11##111#111##111##1111111####11#111#111##1111####111#####111111###111###1##1111####1#11####11#####111111###111###1##1111####1#11####'"
            ],
            "application/vnd.google.colaboratory.intrinsic+json": {
              "type": "string"
            }
          },
          "metadata": {},
          "execution_count": 3
        }
      ]
    }
  ],
  "metadata": {
    "kernelspec": {
      "display_name": "Python 3 (system-wide)",
      "language": "python",
      "metadata": {
        "cocalc": {
          "description": "Python 3 programming language",
          "priority": 100,
          "url": "https://www.python.org/"
        }
      },
      "name": "python3",
      "resource_dir": "/ext/jupyter/kernels/python3"
    },
    "language_info": {
      "codemirror_mode": {
        "name": "ipython",
        "version": 3
      },
      "file_extension": ".py",
      "mimetype": "text/x-python",
      "name": "python",
      "nbconvert_exporter": "python",
      "pygments_lexer": "ipython3",
      "version": "3.8.10"
    },
    "colab": {
      "provenance": [],
      "collapsed_sections": [],
      "include_colab_link": true
    }
  },
  "nbformat": 4,
  "nbformat_minor": 0
}