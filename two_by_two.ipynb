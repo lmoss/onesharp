{
  "nbformat": 4,
  "nbformat_minor": 0,
  "metadata": {
    "colab": {
      "provenance": [],
      "toc_visible": true,
      "authorship_tag": "ABX9TyNyX28qSBc3xJ6CiC9O+uiM",
      "include_colab_link": true
    },
    "kernelspec": {
      "name": "python3",
      "display_name": "Python 3"
    },
    "language_info": {
      "name": "python"
    }
  },
  "cells": [
    {
      "cell_type": "markdown",
      "metadata": {
        "id": "view-in-github",
        "colab_type": "text"
      },
      "source": [
        "<a href=\"https://colab.research.google.com/github/lmoss/onesharp/blob/main/two_by_two.ipynb\" target=\"_parent\"><img src=\"https://colab.research.google.com/assets/colab-badge.svg\" alt=\"Open In Colab\"/></a>"
      ]
    },
    {
      "cell_type": "markdown",
      "source": [
        "# Two-by-Two Encoding\n",
        "\n",
        "This notebook shows that every 1# program may be modified to get a program with the special feature that when it runs, the case statement 1##### is never called on an empty R1.  (This technical feature will be put to use later, when we prove the undecidability of Post's Correspondence Problem).\n",
        "\n",
        "The work here also is a good illustration of the use of the Sanity tool."
      ],
      "metadata": {
        "id": "fDFD2HjfRMzO"
      }
    },
    {
      "cell_type": "code",
      "execution_count": null,
      "metadata": {
        "colab": {
          "base_uri": "https://localhost:8080/"
        },
        "cellView": "form",
        "id": "NzHkyz3NJf9D",
        "outputId": "c809db53-94bc-4fe3-f564-cdf79528d174"
      },
      "outputs": [
        {
          "output_type": "stream",
          "name": "stdout",
          "text": [
            "Looking in indexes: https://pypi.org/simple, https://us-python.pkg.dev/colab-wheels/public/simple/\n",
            "Requirement already satisfied: setuptools in /usr/local/lib/python3.7/dist-packages (57.4.0)\n",
            "Collecting setuptools\n",
            "  Downloading setuptools-65.5.0-py3-none-any.whl (1.2 MB)\n",
            "\u001b[K     |████████████████████████████████| 1.2 MB 5.2 MB/s \n",
            "\u001b[?25hInstalling collected packages: setuptools\n",
            "  Attempting uninstall: setuptools\n",
            "    Found existing installation: setuptools 57.4.0\n",
            "    Uninstalling setuptools-57.4.0:\n",
            "      Successfully uninstalled setuptools-57.4.0\n",
            "\u001b[31mERROR: pip's dependency resolver does not currently take into account all the packages that are installed. This behaviour is the source of the following dependency conflicts.\n",
            "ipython 7.9.0 requires jedi>=0.10, which is not installed.\u001b[0m\n",
            "Successfully installed setuptools-65.5.0\n",
            "Looking in indexes: https://pypi.org/simple, https://us-python.pkg.dev/colab-wheels/public/simple/\n",
            "Collecting git+https://github.com/lmoss/onesharp/\n",
            "  Cloning https://github.com/lmoss/onesharp/ to /tmp/pip-req-build-u3rvlm9p\n",
            "  Running command git clone -q https://github.com/lmoss/onesharp/ /tmp/pip-req-build-u3rvlm9p\n",
            "  Installing build dependencies ... \u001b[?25l\u001b[?25hdone\n",
            "  Getting requirements to build wheel ... \u001b[?25l\u001b[?25hdone\n",
            "  Installing backend dependencies ... \u001b[?25l\u001b[?25hdone\n",
            "    Preparing wheel metadata ... \u001b[?25l\u001b[?25hdone\n",
            "Requirement already satisfied: numpy in /usr/local/lib/python3.7/dist-packages (from onesharp==0.0.0) (1.21.6)\n",
            "Requirement already satisfied: IPython in /usr/local/lib/python3.7/dist-packages (from onesharp==0.0.0) (7.9.0)\n",
            "Requirement already satisfied: pandas in /usr/local/lib/python3.7/dist-packages (from onesharp==0.0.0) (1.3.5)\n",
            "Requirement already satisfied: pexpect in /usr/local/lib/python3.7/dist-packages (from IPython->onesharp==0.0.0) (4.8.0)\n",
            "Requirement already satisfied: prompt-toolkit<2.1.0,>=2.0.0 in /usr/local/lib/python3.7/dist-packages (from IPython->onesharp==0.0.0) (2.0.10)\n",
            "Requirement already satisfied: pickleshare in /usr/local/lib/python3.7/dist-packages (from IPython->onesharp==0.0.0) (0.7.5)\n",
            "Requirement already satisfied: setuptools>=18.5 in /usr/local/lib/python3.7/dist-packages (from IPython->onesharp==0.0.0) (65.5.0)\n",
            "Requirement already satisfied: traitlets>=4.2 in /usr/local/lib/python3.7/dist-packages (from IPython->onesharp==0.0.0) (5.1.1)\n",
            "Requirement already satisfied: decorator in /usr/local/lib/python3.7/dist-packages (from IPython->onesharp==0.0.0) (4.4.2)\n",
            "Collecting jedi>=0.10\n",
            "  Downloading jedi-0.18.1-py2.py3-none-any.whl (1.6 MB)\n",
            "\u001b[K     |████████████████████████████████| 1.6 MB 5.2 MB/s \n",
            "\u001b[?25hRequirement already satisfied: pygments in /usr/local/lib/python3.7/dist-packages (from IPython->onesharp==0.0.0) (2.6.1)\n",
            "Requirement already satisfied: backcall in /usr/local/lib/python3.7/dist-packages (from IPython->onesharp==0.0.0) (0.2.0)\n",
            "Requirement already satisfied: parso<0.9.0,>=0.8.0 in /usr/local/lib/python3.7/dist-packages (from jedi>=0.10->IPython->onesharp==0.0.0) (0.8.3)\n",
            "Requirement already satisfied: wcwidth in /usr/local/lib/python3.7/dist-packages (from prompt-toolkit<2.1.0,>=2.0.0->IPython->onesharp==0.0.0) (0.2.5)\n",
            "Requirement already satisfied: six>=1.9.0 in /usr/local/lib/python3.7/dist-packages (from prompt-toolkit<2.1.0,>=2.0.0->IPython->onesharp==0.0.0) (1.15.0)\n",
            "Requirement already satisfied: python-dateutil>=2.7.3 in /usr/local/lib/python3.7/dist-packages (from pandas->onesharp==0.0.0) (2.8.2)\n",
            "Requirement already satisfied: pytz>=2017.3 in /usr/local/lib/python3.7/dist-packages (from pandas->onesharp==0.0.0) (2022.5)\n",
            "Requirement already satisfied: ptyprocess>=0.5 in /usr/local/lib/python3.7/dist-packages (from pexpect->IPython->onesharp==0.0.0) (0.7.0)\n",
            "Building wheels for collected packages: onesharp\n",
            "  Building wheel for onesharp (PEP 517) ... \u001b[?25l\u001b[?25hdone\n",
            "  Created wheel for onesharp: filename=onesharp-0.0.0-py3-none-any.whl size=26314 sha256=edeff33f2ee2edb1548a99feeb0526a8ee83dea2c7e844cc372b19c03af00d25\n",
            "  Stored in directory: /tmp/pip-ephem-wheel-cache-7h8ftnfo/wheels/7a/1d/da/e24ff325e88c645128dfb89110c792eb39522a31e60c278ceb\n",
            "Successfully built onesharp\n",
            "Installing collected packages: jedi, onesharp\n",
            "Successfully installed jedi-0.18.1 onesharp-0.0.0\n"
          ]
        }
      ],
      "source": [
        "#@title\n",
        "!python -m pip install -U setuptools\n",
        "!python -m pip install -U git+https://github.com/lmoss/onesharp/\n",
        "from onesharp.interpreter.interpreter import *\n",
        "from onesharp.tools.sanity import *"
      ]
    },
    {
      "cell_type": "markdown",
      "source": [
        "The two-by-two encoding takes the symbol 1 and replaces it by 11, and the symbol # and replaces it by 1#.  Then a word in a given register is replace by the letter-by-letter encoding, followed by an \"end of register\" marker ##.   For example, if R1 has 1#1, then we encode this by 111#11##.  \n",
        "\n",
        "We want to translate programs into ones which work on the encoded words, and we want to be sure that the translated programs have the feature that we are looking for. The basic idea in the programs below is that we can grab the symbols in R1 in a \"two-by-two\" fashion, and since we have an \"end-of-register\" marker ##, we will never do a case statement on an empty register.\n",
        "\n",
        "For simplicity, we are going to work only with programs that are tidy and which only use R1, and which are then run on all empty registers.  This is what we need for the later use of this encoding, and these conditions could be relaxed a bit.\n"
      ],
      "metadata": {
        "id": "_iArgn-aRudm"
      }
    },
    {
      "cell_type": "markdown",
      "source": [
        "## Encoding and decoding register 1\n"
      ],
      "metadata": {
        "id": "QSPl__vkGg8-"
      }
    },
    {
      "cell_type": "code",
      "source": [
        "decode_idea = [ # this is sanity code for decoding an encoded R1\n",
        "    ['top', 'cases', 1, 'empty', 'found_a_one', 'found_a_sharp'],\n",
        "    ['empty','1###'],\n",
        "    ['found_a_one', 'cases', 1, 'empty', 'one_one', 'one_sharp'],\n",
        "    ['found_a_sharp', 'cases', 1, 'empty', 'empty', 'sharp_sharp'],\n",
        "    ['one_one', '1#'],\n",
        "    ['goto', 'top'],\n",
        "    ['one_sharp', '1##'],\n",
        "    ['goto', 'top'],\n",
        "    ['sharp_sharp', 'goto', 'end']\n",
        "]\n",
        "decode = sanity(decode_idea)\n",
        "#onesharp(decode,['111###'])\n",
        "\n",
        "def atomic_replace(x):\n",
        "  if x == '1':\n",
        "    return '11'\n",
        "  if x == '#':\n",
        "    return '1#'\n",
        "    \n",
        "def encode(w):\n",
        "  a = [atomic_replace(x) for x in w]\n",
        "  b = unparse(a)\n",
        "  c = b + '##'\n",
        "  return(c)        "
      ],
      "metadata": {
        "id": "N4cLmME8Gna_"
      },
      "execution_count": null,
      "outputs": []
    },
    {
      "cell_type": "markdown",
      "source": [
        "## Changing the instructions ```1#``` and ```1##``` "
      ],
      "metadata": {
        "id": "cGDrWrrPGTxs"
      }
    },
    {
      "cell_type": "code",
      "source": [
        "two_by_two_addone_idea = [ # this is sanity code for 1#, run on encoded R1\n",
        "    ['top', 'cases', 1, 'empty', 'found_a_one', 'found_a_sharp'],\n",
        "    ['empty','1###'],\n",
        "    ['found_a_one', 'cases', 1, 'empty', 'one_one', 'one_sharp'],\n",
        "    ['found_a_sharp', 'cases', 1, 'empty', 'empty', 'sharp_sharp'],\n",
        "    ['one_one', '1#1#'],\n",
        "    ['goto', 'top'],\n",
        "    ['one_sharp', '1#1##'],\n",
        "    ['goto', 'top'],\n",
        "    ['sharp_sharp', '1#1#1##1##'], ## note that the 1#1# adds 11 before the end\n",
        "    ['goto', 'end']\n",
        "]\n",
        "\n",
        "two_by_two_addone = sanity(two_by_two_addone_idea)\n",
        "\n",
        "two_by_two_addsharp_idea = [ # this is sanity code for 1##, again run on encoded R1\n",
        "    ['top', 'cases', 1, 'empty', 'found_a_one', 'found_a_sharp'],\n",
        "    ['empty','1###'],\n",
        "    ['found_a_one', 'cases', 1, 'empty', 'one_one', 'one_sharp'],\n",
        "    ['found_a_sharp', 'cases', 1, 'empty', 'empty', 'sharp_sharp'],\n",
        "    ['one_one', '1#1#'],\n",
        "    ['goto', 'top'],\n",
        "    ['one_sharp', '1#1##'],\n",
        "    ['goto', 'top'],\n",
        "    ['sharp_sharp', '1#1##1##1##'], ## note that the 1#1## adds 11 before the end\n",
        "    ['goto', 'end']\n",
        "]\n",
        "\n",
        "two_by_two_addone = sanity(two_by_two_addone_idea)\n",
        "\n",
        "two_by_two_addsharp = sanity(two_by_two_addsharp_idea)\n",
        "\n"
      ],
      "metadata": {
        "id": "lvyw8aErKQJW"
      },
      "execution_count": null,
      "outputs": []
    },
    {
      "cell_type": "markdown",
      "source": [
        "## Changing the transfer instructions"
      ],
      "metadata": {
        "id": "TIWp8plfG_FF"
      }
    },
    {
      "cell_type": "code",
      "source": [
        "def numbered(parsed): ## words on a parsed program\n",
        "  n = len(parsed)\n",
        "  x = [['a'+str(i+1),parsed[i]] for i in range(n)]\n",
        "  return(x)\n",
        "\n",
        "def resolve_transfer(program,instruction,index): # for use on an instruction in a numbered, parsed program  \n",
        "  if instruction_type(instruction[1]) == 'forward':\n",
        "     offset = len(instruction[1]) - 3\n",
        "     #return([instruction[0], 'goto', str(index+offset)])\n",
        "     if index+offset -1 == len(program):\n",
        "       return([instruction[0], 'goto', 'end']) # note the special handling here\n",
        "     else:\n",
        "       return([instruction[0], 'goto', program[index+offset-1][0]])\n",
        "  if instruction_type(instruction[1]) == 'backward':\n",
        "     offset = len(instruction[1]) - 4\n",
        "     return([instruction[0], 'goto', program[index-offset-1][0]])   \n",
        "  else:\n",
        "     return(instruction)   \n",
        "\n",
        "def resolve_all_transfers(parsed): #for use on a parsed, numbered program \n",
        "  k = len(parsed)\n",
        "  answer = [resolve_transfer(parsed,parsed[i-1],i) for i in range(1,k+1)]\n",
        "  return(answer)\n",
        "\n",
        "def replace_add_instruction(x):\n",
        "  if x[1] == '1#':\n",
        "    return([x[0],two_by_two_addone])\n",
        "    ## this had been   return(two_by_two_addone])\n",
        "    # but due to the fact that sanity expects \n",
        "    # input like ['1#1##'] rather than ['4', '1#1##'], the numbers are out\n",
        "  elif  x[1] == '1##':   \n",
        "    return([x[0],two_by_two_addsharp]) \n",
        "  else:\n",
        "    return(x)\n",
        "\n",
        "def replace_all_add_instructions(parsed): #for use on a parsed, numbered program \n",
        "  answer = [replace_add_instruction(i) for i in parsed]\n",
        "  return(answer)\n",
        "\n"
      ],
      "metadata": {
        "id": "laJA1U9LMpHd"
      },
      "execution_count": null,
      "outputs": []
    },
    {
      "cell_type": "markdown",
      "source": [
        "## Changing the case instruction ```1#####```, and the overall modification program"
      ],
      "metadata": {
        "id": "mXd5lUKqHG80"
      }
    },
    {
      "cell_type": "code",
      "source": [
        "def modify(p): # this modifies a program\n",
        "  # onesharp(onesharp(modify,[p]),[encoded(x)]) = encoded(onesharp(p,[x]))\n",
        "  p_one = parse(p)\n",
        "  p_two = numbered(p_one)\n",
        "  p_three =  resolve_all_transfers(p_two) \n",
        "  p_four =replace_all_add_instructions(p_three)\n",
        "  N = len(p_four)\n",
        "  temp = []\n",
        "  r = p_four\n",
        "  #print(r)\n",
        "  for i in range(N):\n",
        "    #print(r[i])\n",
        "    if r[i][1] == '1#####':\n",
        "       temp = temp +  [[r[i][0], 'cases', 1, str(i)+'empty', str(i)+'found_a_one', str(i)+'found_a_sharp'],\n",
        "       [str(i)+'empty','1###'],\n",
        "       [str(i)+'found_a_one', 'cases', 1, str(i)+'empty', str(i)+'one_one', str(i)+'one_sharp'],\n",
        "       [str(i)+'found_a_sharp', 'cases', 1, str(i)+'empty', str(i)+'empty', str(i)+'sharp_sharp'],\n",
        "       [str(i)+'one_one', 'goto', r[i+2][0]],\n",
        "       [str(i)+'one_sharp', 'goto', r[i+3][0]],\n",
        "       [str(i)+'sharp_sharp','1##1##'], # key point! return end marker to R1\n",
        "       ['goto', r[i+1][0]]]\n",
        "    else:\n",
        "       temp = temp + [r[i]]\n",
        "  #print(temp)\n",
        "  #print(len(temp))   \n",
        "  #print()\n",
        "  #return(temp)\n",
        "  santemp = sanity(temp)\n",
        "  return(santemp)"
      ],
      "metadata": {
        "id": "QQAoHcTqHUhq"
      },
      "execution_count": null,
      "outputs": []
    },
    {
      "cell_type": "markdown",
      "source": [
        "## Testing our work"
      ],
      "metadata": {
        "id": "2CQJqE3vHkfS"
      }
    },
    {
      "cell_type": "code",
      "source": [
        "# this checks that everything works correctly\n",
        "\n",
        "mod_diag = modify(diag)\n",
        "#print(mod_diag)\n",
        "w = encode('1#1##')\n",
        "x = onesharp(mod_diag,[w]) \n",
        "y = onesharp(decode, [x])\n",
        "print(y)\n",
        "print(onesharp(diag,['1#1##']))"
      ],
      "metadata": {
        "colab": {
          "base_uri": "https://localhost:8080/"
        },
        "id": "xS_hk4XHB_lv",
        "outputId": "d1740f1f-11d2-4f34-ac18-7bba017c0241"
      },
      "execution_count": null,
      "outputs": [
        {
          "output_type": "stream",
          "name": "stdout",
          "text": [
            "1#1##1#1##1##1#1##\n",
            "1#1##1#1##1##1#1##\n"
          ]
        }
      ]
    },
    {
      "cell_type": "code",
      "source": [],
      "metadata": {
        "id": "Dq37tI8DMRng"
      },
      "execution_count": null,
      "outputs": []
    }
  ]
}