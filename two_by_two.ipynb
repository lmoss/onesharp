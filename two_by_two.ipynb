{
  "nbformat": 4,
  "nbformat_minor": 0,
  "metadata": {
    "colab": {
      "provenance": [],
      "authorship_tag": "ABX9TyNzL1Qkb4lIdMsXfomHbM+Y",
      "include_colab_link": true
    },
    "kernelspec": {
      "name": "python3",
      "display_name": "Python 3"
    },
    "language_info": {
      "name": "python"
    }
  },
  "cells": [
    {
      "cell_type": "markdown",
      "metadata": {
        "id": "view-in-github",
        "colab_type": "text"
      },
      "source": [
        "<a href=\"https://colab.research.google.com/github/lmoss/onesharp/blob/main/two_by_two.ipynb\" target=\"_parent\"><img src=\"https://colab.research.google.com/assets/colab-badge.svg\" alt=\"Open In Colab\"/></a>"
      ]
    },
    {
      "cell_type": "code",
      "execution_count": 3,
      "metadata": {
        "colab": {
          "base_uri": "https://localhost:8080/"
        },
        "id": "NzHkyz3NJf9D",
        "outputId": "948db623-bd5e-4db8-be4a-942f7410e355"
      },
      "outputs": [
        {
          "output_type": "stream",
          "name": "stdout",
          "text": [
            "Looking in indexes: https://pypi.org/simple, https://us-python.pkg.dev/colab-wheels/public/simple/\n",
            "Requirement already satisfied: setuptools in /usr/local/lib/python3.7/dist-packages (65.5.0)\n",
            "Looking in indexes: https://pypi.org/simple, https://us-python.pkg.dev/colab-wheels/public/simple/\n",
            "Collecting git+https://github.com/lmoss/onesharp/\n",
            "  Cloning https://github.com/lmoss/onesharp/ to /tmp/pip-req-build-9e7leyqa\n",
            "  Running command git clone -q https://github.com/lmoss/onesharp/ /tmp/pip-req-build-9e7leyqa\n",
            "  Installing build dependencies ... \u001b[?25l\u001b[?25hdone\n",
            "  Getting requirements to build wheel ... \u001b[?25l\u001b[?25hdone\n",
            "  Installing backend dependencies ... \u001b[?25l\u001b[?25hdone\n",
            "    Preparing wheel metadata ... \u001b[?25l\u001b[?25hdone\n",
            "Requirement already satisfied: numpy in /usr/local/lib/python3.7/dist-packages (from onesharp==0.0.0) (1.21.6)\n",
            "Requirement already satisfied: IPython in /usr/local/lib/python3.7/dist-packages (from onesharp==0.0.0) (7.9.0)\n",
            "Requirement already satisfied: pandas in /usr/local/lib/python3.7/dist-packages (from onesharp==0.0.0) (1.3.5)\n",
            "Requirement already satisfied: decorator in /usr/local/lib/python3.7/dist-packages (from IPython->onesharp==0.0.0) (4.4.2)\n",
            "Requirement already satisfied: pickleshare in /usr/local/lib/python3.7/dist-packages (from IPython->onesharp==0.0.0) (0.7.5)\n",
            "Requirement already satisfied: traitlets>=4.2 in /usr/local/lib/python3.7/dist-packages (from IPython->onesharp==0.0.0) (5.1.1)\n",
            "Requirement already satisfied: setuptools>=18.5 in /usr/local/lib/python3.7/dist-packages (from IPython->onesharp==0.0.0) (65.5.0)\n",
            "Requirement already satisfied: backcall in /usr/local/lib/python3.7/dist-packages (from IPython->onesharp==0.0.0) (0.2.0)\n",
            "Requirement already satisfied: jedi>=0.10 in /usr/local/lib/python3.7/dist-packages (from IPython->onesharp==0.0.0) (0.18.1)\n",
            "Requirement already satisfied: prompt-toolkit<2.1.0,>=2.0.0 in /usr/local/lib/python3.7/dist-packages (from IPython->onesharp==0.0.0) (2.0.10)\n",
            "Requirement already satisfied: pygments in /usr/local/lib/python3.7/dist-packages (from IPython->onesharp==0.0.0) (2.6.1)\n",
            "Requirement already satisfied: pexpect in /usr/local/lib/python3.7/dist-packages (from IPython->onesharp==0.0.0) (4.8.0)\n",
            "Requirement already satisfied: parso<0.9.0,>=0.8.0 in /usr/local/lib/python3.7/dist-packages (from jedi>=0.10->IPython->onesharp==0.0.0) (0.8.3)\n",
            "Requirement already satisfied: six>=1.9.0 in /usr/local/lib/python3.7/dist-packages (from prompt-toolkit<2.1.0,>=2.0.0->IPython->onesharp==0.0.0) (1.15.0)\n",
            "Requirement already satisfied: wcwidth in /usr/local/lib/python3.7/dist-packages (from prompt-toolkit<2.1.0,>=2.0.0->IPython->onesharp==0.0.0) (0.2.5)\n",
            "Requirement already satisfied: pytz>=2017.3 in /usr/local/lib/python3.7/dist-packages (from pandas->onesharp==0.0.0) (2022.5)\n",
            "Requirement already satisfied: python-dateutil>=2.7.3 in /usr/local/lib/python3.7/dist-packages (from pandas->onesharp==0.0.0) (2.8.2)\n",
            "Requirement already satisfied: ptyprocess>=0.5 in /usr/local/lib/python3.7/dist-packages (from pexpect->IPython->onesharp==0.0.0) (0.7.0)\n"
          ]
        }
      ],
      "source": [
        "!python -m pip install -U setuptools\n",
        "!python -m pip install -U git+https://github.com/lmoss/onesharp/\n",
        "from onesharp.interpreter.interpreter import *\n",
        "from onesharp.tools.sanity import *"
      ]
    },
    {
      "cell_type": "code",
      "source": [
        "two_by_two_addone_idea = [\n",
        "    ['top', 'cases', 1, 'empty', 'found_a_one', 'found_a_sharp'],\n",
        "    ['empty','1###'],\n",
        "    ['found_a_one', 'cases', 1, 'empty', 'one_one', 'one_sharp'],\n",
        "    ['found_a_sharp', 'cases', 1, 'empty', 'empty', 'sharp_sharp'],\n",
        "    ['one_one', '1#1#'],\n",
        "    ['goto', 'top'],\n",
        "    ['one_sharp', '1#1##'],\n",
        "    ['goto', 'top'],\n",
        "    ['sharp_sharp', '1#1#1##1##'], ## note that the 1#1# adds 11 before the end\n",
        "    ['goto', 'end']\n",
        "]\n",
        "\n",
        "two_by_two_addone = sanity(two_by_two_addone_idea)\n",
        "\n",
        "two_by_two_addsharp_idea = [\n",
        "    ['top', 'cases', 1, 'empty', 'found_a_one', 'found_a_sharp'],\n",
        "    ['empty','1###'],\n",
        "    ['found_a_one', 'cases', 1, 'empty', 'one_one', 'one_sharp'],\n",
        "    ['found_a_sharp', 'cases', 1, 'empty', 'empty', 'sharp_sharp'],\n",
        "    ['one_one', '1#1#'],\n",
        "    ['goto', 'top'],\n",
        "    ['one_sharp', '1#1##'],\n",
        "    ['goto', 'top'],\n",
        "    ['sharp_sharp', '1#1##1##1##'], ## note that the 1#1## adds 11 before the end\n",
        "    ['goto', 'end']\n",
        "]\n",
        "\n",
        "two_by_two_addone = sanity(two_by_two_addone_idea)\n",
        "\n",
        "two_by_two_addsharp = sanity(two_by_two_addsharp_idea)"
      ],
      "metadata": {
        "id": "lvyw8aErKQJW"
      },
      "execution_count": 14,
      "outputs": []
    },
    {
      "cell_type": "code",
      "source": [
        "onesharp(two_by_two_addsharp,['1###'])"
      ],
      "metadata": {
        "colab": {
          "base_uri": "https://localhost:8080/",
          "height": 35
        },
        "id": "paw6FpZoLLUP",
        "outputId": "05822f64-069a-48fa-c626-5f86f3ff118a"
      },
      "execution_count": 15,
      "outputs": [
        {
          "output_type": "execute_result",
          "data": {
            "text/plain": [
              "'1#1###'"
            ],
            "application/vnd.google.colaboratory.intrinsic+json": {
              "type": "string"
            }
          },
          "metadata": {},
          "execution_count": 15
        }
      ]
    },
    {
      "cell_type": "code",
      "source": [
        "def replace_add_instruction(x):\n",
        "  if x == ['1#']:\n",
        "    return([two_by_two_addone])\n",
        "  elif x == ['1##']:\n",
        "    return([two_by_two_addsharp]) \n",
        "  else:\n",
        "    return(x)\n"
      ],
      "metadata": {
        "id": "VLlF_eEOLYk7"
      },
      "execution_count": 23,
      "outputs": []
    },
    {
      "cell_type": "code",
      "source": [
        "q = replace_add_instruction(['1#'])\n",
        "print(q)"
      ],
      "metadata": {
        "colab": {
          "base_uri": "https://localhost:8080/"
        },
        "id": "O7DcVf7YMMzw",
        "outputId": "fe2222ce-6a55-4ef9-e045-a92f230a1e2b"
      },
      "execution_count": 24,
      "outputs": [
        {
          "output_type": "stream",
          "name": "stdout",
          "text": [
            "['1#####111###111###111111###1###1#####11####111111###11111111###1#####111111####1111111####1111111###1#1#111111111111111####1#1##111111111111111111####1#1#1##1##1###']\n"
          ]
        }
      ]
    },
    {
      "cell_type": "code",
      "source": [
        "A = parse(diag)\n",
        "B = [[x] for x in A]\n",
        "C = [replace_add_instruction(c) for c in B]\n",
        "C"
      ],
      "metadata": {
        "colab": {
          "base_uri": "https://localhost:8080/"
        },
        "id": "SsC_3NASMYZR",
        "outputId": "254d3316-6d7e-4450-ea82-2e071489f237"
      },
      "execution_count": 30,
      "outputs": [
        {
          "output_type": "execute_result",
          "data": {
            "text/plain": [
              "[['1#####'],\n",
              " ['11111111111###'],\n",
              " ['111111###'],\n",
              " ['11##'],\n",
              " ['111#'],\n",
              " ['111##'],\n",
              " ['111##'],\n",
              " ['1111111####'],\n",
              " ['11#'],\n",
              " ['111#'],\n",
              " ['111##'],\n",
              " ['1111####'],\n",
              " ['111#####'],\n",
              " ['111111###'],\n",
              " ['111###'],\n",
              " ['1#####111###111###111111###1###1#####11####111111###11111111###1#####111111####1111111####1111111###1#1#111111111111111####1#1##111111111111111111####1#1##1##1##1###'],\n",
              " ['1111####'],\n",
              " ['1#####111###111###111111###1###1#####11####111111###11111111###1#####111111####1111111####1111111###1#1#111111111111111####1#1##111111111111111111####1#1#1##1##1###'],\n",
              " ['11####'],\n",
              " ['11#####'],\n",
              " ['111111###'],\n",
              " ['111###'],\n",
              " ['1#####111###111###111111###1###1#####11####111111###11111111###1#####111111####1111111####1111111###1#1#111111111111111####1#1##111111111111111111####1#1##1##1##1###'],\n",
              " ['1111####'],\n",
              " ['1#####111###111###111111###1###1#####11####111111###11111111###1#####111111####1111111####1111111###1#1#111111111111111####1#1##111111111111111111####1#1#1##1##1###'],\n",
              " ['11####']]"
            ]
          },
          "metadata": {},
          "execution_count": 30
        }
      ]
    },
    {
      "cell_type": "code",
      "source": [],
      "metadata": {
        "id": "laJA1U9LMpHd"
      },
      "execution_count": null,
      "outputs": []
    }
  ]
}