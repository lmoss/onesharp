{
  "nbformat": 4,
  "nbformat_minor": 0,
  "metadata": {
    "colab": {
      "provenance": [],
      "authorship_tag": "ABX9TyOUSoTClE5FKfAFfY/MoakI",
      "include_colab_link": true
    },
    "kernelspec": {
      "name": "python3",
      "display_name": "Python 3"
    },
    "language_info": {
      "name": "python"
    }
  },
  "cells": [
    {
      "cell_type": "markdown",
      "metadata": {
        "id": "view-in-github",
        "colab_type": "text"
      },
      "source": [
        "<a href=\"https://colab.research.google.com/github/lmoss/onesharp/blob/main/two_by_two.ipynb\" target=\"_parent\"><img src=\"https://colab.research.google.com/assets/colab-badge.svg\" alt=\"Open In Colab\"/></a>"
      ]
    },
    {
      "cell_type": "markdown",
      "source": [
        "# Two-by-Two Encoding\n",
        "\n",
        "This notebook shows that every 1# program may be modified to get a program with the special feature that when it runs, the case statement 1##### is never called on an empty R1.  (This technical feature will be put to use later, when we prove the undecidability of Post's Correspondence Problem).\n",
        "\n",
        "The work here also is a good illustration of the use of the Sanity tool."
      ],
      "metadata": {
        "id": "fDFD2HjfRMzO"
      }
    },
    {
      "cell_type": "code",
      "execution_count": null,
      "metadata": {
        "cellView": "form",
        "id": "NzHkyz3NJf9D"
      },
      "outputs": [],
      "source": [
        "#@title\n",
        "!python -m pip install -U setuptools\n",
        "!python -m pip install -U git+https://github.com/lmoss/onesharp/\n",
        "from onesharp.interpreter.interpreter import *\n",
        "from onesharp.tools.sanity import *"
      ]
    },
    {
      "cell_type": "markdown",
      "source": [
        "The two-by-two encoding takes the symbol 1 and replaces it by 11, and the symbol # and replaces it by 1#.  Then a word in a given register is replace by the letter-by-letter encoding, followed by an \"end of register\" marker ##.   For example, if R1 has 1#1, then we encode this by 111#11##.  \n",
        "\n",
        "We want to translate programs into ones which work on the encoded words, and we want to be sure that the translated programs have the feature that we are looking for. The basic idea in the programs below is that we can grab the symbols in R1 in a \"two-by-two\" fashion, and since we have an \"end-of-register\" marker ##, we will never do a case statement on an empty register.\n",
        "\n",
        "For simplicity, we are going to work only with programs that are tidy and which only use R1, and which are then run on all empty registers.  This is what we need for the later use of this encoding, and these conditions could be relaxed a bit.\n"
      ],
      "metadata": {
        "id": "_iArgn-aRudm"
      }
    },
    {
      "cell_type": "code",
      "source": [
        "two_by_two_addone_idea = [ # this is sanity code for 1#, run on encoded R1\n",
        "    ['top', 'cases', 1, 'empty', 'found_a_one', 'found_a_sharp'],\n",
        "    ['empty','1###'],\n",
        "    ['found_a_one', 'cases', 1, 'empty', 'one_one', 'one_sharp'],\n",
        "    ['found_a_sharp', 'cases', 1, 'empty', 'empty', 'sharp_sharp'],\n",
        "    ['one_one', '1#1#'],\n",
        "    ['goto', 'top'],\n",
        "    ['one_sharp', '1#1##'],\n",
        "    ['goto', 'top'],\n",
        "    ['sharp_sharp', '1#1#1##1##'], ## note that the 1#1# adds 11 before the end\n",
        "    ['goto', 'end']\n",
        "]\n",
        "\n",
        "two_by_two_addone = sanity(two_by_two_addone_idea)\n",
        "\n",
        "two_by_two_addsharp_idea = [ # this is sanity code for 1##, again run on encoded R1\n",
        "    ['top', 'cases', 1, 'empty', 'found_a_one', 'found_a_sharp'],\n",
        "    ['empty','1###'],\n",
        "    ['found_a_one', 'cases', 1, 'empty', 'one_one', 'one_sharp'],\n",
        "    ['found_a_sharp', 'cases', 1, 'empty', 'empty', 'sharp_sharp'],\n",
        "    ['one_one', '1#1#'],\n",
        "    ['goto', 'top'],\n",
        "    ['one_sharp', '1#1##'],\n",
        "    ['goto', 'top'],\n",
        "    ['sharp_sharp', '1#1##1##1##'], ## note that the 1#1## adds 11 before the end\n",
        "    ['goto', 'end']\n",
        "]\n",
        "\n",
        "two_by_two_addone = sanity(two_by_two_addone_idea)\n",
        "\n",
        "two_by_two_addsharp = sanity(two_by_two_addsharp_idea)"
      ],
      "metadata": {
        "id": "lvyw8aErKQJW"
      },
      "execution_count": 215,
      "outputs": []
    },
    {
      "cell_type": "code",
      "source": [
        "onesharp(two_by_two_addsharp,['1#11##'])\n",
        "# check that 1#, the encoding of #, is added before the final ##."
      ],
      "metadata": {
        "colab": {
          "base_uri": "https://localhost:8080/",
          "height": 35
        },
        "id": "paw6FpZoLLUP",
        "outputId": "da415f4d-1fe0-4435-9057-785c04f8c43d"
      },
      "execution_count": 218,
      "outputs": [
        {
          "output_type": "execute_result",
          "data": {
            "text/plain": [
              "'1#111###'"
            ],
            "application/vnd.google.colaboratory.intrinsic+json": {
              "type": "string"
            }
          },
          "metadata": {},
          "execution_count": 218
        }
      ]
    },
    {
      "cell_type": "code",
      "source": [],
      "metadata": {
        "id": "VLlF_eEOLYk7"
      },
      "execution_count": 94,
      "outputs": []
    },
    {
      "cell_type": "code",
      "source": [
        "def numbered(parsed): ## words on a parsed program\n",
        "  n = len(parsed)\n",
        "  x = [['a'+str(i+1),parsed[i]] for i in range(n)]\n",
        "  return(x)\n",
        "\n",
        "def resolve_transfer(program,instruction,index): # for use on an instruction in a numbered, parsed program  \n",
        "  if instruction_type(instruction[1]) == 'forward':\n",
        "     offset = len(instruction[1]) - 3\n",
        "     #return([instruction[0], 'goto', str(index+offset)])\n",
        "     if index+offset -1 == len(program):\n",
        "       return([instruction[0], 'goto', 'end']) # note the special handling here\n",
        "     else:\n",
        "       return([instruction[0], 'goto', program[index+offset-1][0]])\n",
        "  if instruction_type(instruction[1]) == 'backward':\n",
        "     offset = len(instruction[1]) - 4\n",
        "     return([instruction[0], 'goto', program[index-offset-1][0]])   \n",
        "  else:\n",
        "     return(instruction)   \n",
        "\n",
        "def resolve_all_transfers(parsed): #for use on a parsed, numbered program \n",
        "  k = len(parsed)\n",
        "  answer = [resolve_transfer(parsed,parsed[i-1],i) for i in range(1,k+1)]\n",
        "  return(answer)\n",
        "\n",
        "def replace_add_instruction(x):\n",
        "  if x[1] == '1#':\n",
        "    return([x[0],two_by_two_addone])\n",
        "    ## this had been   return(two_by_two_addone])\n",
        "    # but due to the fact that sanity expects \n",
        "    # input like ['1#1##'] rather than ['4', '1#1##'], the numbers are out\n",
        "  elif  x[1] == '1##':   \n",
        "    return([x[0],two_by_two_addsharp]) \n",
        "  else:\n",
        "    return(x)\n",
        "\n",
        "def replace_all_add_instructions(parsed): #for use on a parsed, numbered program \n",
        "  answer = [replace_add_instruction(i) for i in parsed]\n",
        "  return(answer)"
      ],
      "metadata": {
        "id": "laJA1U9LMpHd"
      },
      "execution_count": 211,
      "outputs": []
    },
    {
      "cell_type": "code",
      "source": [
        "pzero = '1#####1#1#1#1#'\n",
        "pone = parse(pzero)\n",
        "print(pone)\n",
        "print(len(pone))\n",
        "p = numbered(pone)\n",
        "print(p)\n",
        "q = resolve_all_transfers(p)\n",
        "print('q below')\n",
        "print(q)\n",
        "r =replace_all_add_instructions(q)\n",
        "print('r')\n",
        "print(r)\n",
        "s = sanity(r)\n",
        "print(s)\n",
        "#parse_explain(s)\n",
        "#onesharp(s,['##'])"
      ],
      "metadata": {
        "colab": {
          "base_uri": "https://localhost:8080/"
        },
        "id": "ae2s-NDkXz4g",
        "outputId": "39ea7ed0-8556-491a-ae55-f4b389819c32"
      },
      "execution_count": 282,
      "outputs": [
        {
          "output_type": "stream",
          "name": "stdout",
          "text": [
            "['1#####', '1#', '1#', '1#', '1#']\n",
            "5\n",
            "[['a1', '1#####'], ['a2', '1#'], ['a3', '1#'], ['a4', '1#'], ['a5', '1#']]\n",
            "q below\n",
            "[['a1', '1#####'], ['a2', '1#'], ['a3', '1#'], ['a4', '1#'], ['a5', '1#']]\n",
            "r\n",
            "[['a1', '1#####'], ['a2', '1#####111###111###111111###1###1#####11####111111###11111111###1#####111111####1111111####1111111###1#1#111111111111111####1#1##111111111111111111####1#1#1##1##1###'], ['a3', '1#####111###111###111111###1###1#####11####111111###11111111###1#####111111####1111111####1111111###1#1#111111111111111####1#1##111111111111111111####1#1#1##1##1###'], ['a4', '1#####111###111###111111###1###1#####11####111111###11111111###1#####111111####1111111####1111111###1#1#111111111111111####1#1##111111111111111111####1#1#1##1##1###'], ['a5', '1#####111###111###111111###1###1#####11####111111###11111111###1#####111111####1111111####1111111###1#1#111111111111111####1#1##111111111111111111####1#1#1##1##1###']]\n",
            "1#####1#####111###111###111111###1###1#####11####111111###11111111###1#####111111####1111111####1111111###1#1#111111111111111####1#1##111111111111111111####1#1#1##1##1###1#####111###111###111111###1###1#####11####111111###11111111###1#####111111####1111111####1111111###1#1#111111111111111####1#1##111111111111111111####1#1#1##1##1###1#####111###111###111111###1###1#####11####111111###11111111###1#####111111####1111111####1111111###1#1#111111111111111####1#1##111111111111111111####1#1#1##1##1###1#####111###111###111111###1###1#####11####111111###11111111###1#####111111####1111111####1111111###1#1#111111111111111####1#1##111111111111111111####1#1#1##1##1###\n"
          ]
        }
      ]
    },
    {
      "cell_type": "code",
      "source": [
        "N = len(r)\n",
        "print(N)\n",
        "temp = []\n",
        "for i in range(N):\n",
        "  print(r[i])\n",
        "  if r[i][1] == '1#####':\n",
        "    temp = temp +  [[r[i][0], 'cases', 1, str(i)+'empty', str(i)+'found_a_one', str(i)+'found_a_sharp'],\n",
        "    [str(i)+'empty','1###'],\n",
        "    [str(i)+'found_a_one', 'cases', 1, str(i)+'empty', str(i)+'one_one', str(i)+'one_sharp'],\n",
        "    [str(i)+'found_a_sharp', 'cases', 1, str(i)+'empty', str(i)+'empty', str(i)+'sharp_sharp'],\n",
        "    [str(i)+'one_one', 'goto', r[i+2][0]],\n",
        "    [str(i)+'one_sharp', 'goto', r[i+3][0]],\n",
        "    [str(i)+'sharp_sharp', 'goto', r[i+1][0]]]\n",
        "  else:\n",
        "    temp = temp + [r[i]]\n",
        "print(temp)   \n",
        "santemp = sanity(temp)\n",
        "#onesharp(santemp,['##'])"
      ],
      "metadata": {
        "colab": {
          "base_uri": "https://localhost:8080/"
        },
        "id": "78nF2TJsVpnK",
        "outputId": "c55afb7f-0ead-4946-de09-8342468ec56b"
      },
      "execution_count": 286,
      "outputs": [
        {
          "output_type": "stream",
          "name": "stdout",
          "text": [
            "5\n",
            "['a1', '1#####']\n",
            "['a2', '1#####111###111###111111###1###1#####11####111111###11111111###1#####111111####1111111####1111111###1#1#111111111111111####1#1##111111111111111111####1#1#1##1##1###']\n",
            "['a3', '1#####111###111###111111###1###1#####11####111111###11111111###1#####111111####1111111####1111111###1#1#111111111111111####1#1##111111111111111111####1#1#1##1##1###']\n",
            "['a4', '1#####111###111###111111###1###1#####11####111111###11111111###1#####111111####1111111####1111111###1#1#111111111111111####1#1##111111111111111111####1#1#1##1##1###']\n",
            "['a5', '1#####111###111###111111###1###1#####11####111111###11111111###1#####111111####1111111####1111111###1#1#111111111111111####1#1##111111111111111111####1#1#1##1##1###']\n",
            "[['a1', 'cases', 1, '0empty', '0found_a_one', '0found_a_sharp'], ['0empty', '1###'], ['0found_a_one', 'cases', 1, '0empty', '0one_one', '0one_sharp'], ['0found_a_sharp', 'cases', 1, '0empty', '0empty', '0sharp_sharp'], ['0one_one', 'goto', 'a3'], ['0one_sharp', 'goto', 'a4'], ['0sharp_sharp', 'goto', 'a2'], ['a2', '1#####111###111###111111###1###1#####11####111111###11111111###1#####111111####1111111####1111111###1#1#111111111111111####1#1##111111111111111111####1#1#1##1##1###'], ['a3', '1#####111###111###111111###1###1#####11####111111###11111111###1#####111111####1111111####1111111###1#1#111111111111111####1#1##111111111111111111####1#1#1##1##1###'], ['a4', '1#####111###111###111111###1###1#####11####111111###11111111###1#####111111####1111111####1111111###1#1#111111111111111####1#1##111111111111111111####1#1#1##1##1###'], ['a5', '1#####111###111###111111###1###1#####11####111111###11111111###1#####111111####1111111####1111111###1#1#111111111111111####1#1##111111111111111111####1#1#1##1##1###']]\n"
          ]
        }
      ]
    },
    {
      "cell_type": "code",
      "source": [
        "i = 1\n",
        "temp +  [[str(i)+'top', 'cases', 1, str(i)+'empty', str(i)+'found_a_one', str(i)+'found_a_sharp'],\n",
        "         [str(i)+'empty','1###'],\n",
        "         [str(i)+'found_a_one', 'cases', 1, str(i)+'empty', str(i)+'one_one', str(i)+'one_sharp'], \n",
        "         [str(i)+'found_a_sharp', 'cases', 1, str(i)+'empty', str(i)+'empty', str(i)+'sharp_sharp'],\n",
        "         [str(i)+'one_one', r[i+2][0]],\n",
        "         [str(i)+'one_sharp', r[i+3][0]],\n",
        "         [str(i)+'sharp_sharp', r[i+1][0]]] "
      ],
      "metadata": {
        "colab": {
          "base_uri": "https://localhost:8080/"
        },
        "id": "fijXuwZeWb30",
        "outputId": "1552bce8-839a-40b5-af49-b489b40fb307"
      },
      "execution_count": 270,
      "outputs": [
        {
          "output_type": "execute_result",
          "data": {
            "text/plain": [
              "[['a1', 'goto', 'a5'],\n",
              " ['a2',\n",
              "  '1#####111###111###111111###1###1#####11####111111###11111111###1#####111111####1111111####1111111###1#1#111111111111111####1#1##111111111111111111####1#1#1##1##1###'],\n",
              " ['a3',\n",
              "  '1#####111###111###111111###1###1#####11####111111###11111111###1#####111111####1111111####1111111###1#1#111111111111111####1#1##111111111111111111####1#1#1##1##1###'],\n",
              " ['a4', 'goto', 'a1'],\n",
              " ['a5',\n",
              "  '1#####111###111###111111###1###1#####11####111111###11111111###1#####111111####1111111####1111111###1#1#111111111111111####1#1##111111111111111111####1#1#1##1##1###'],\n",
              " ['1top', 'cases', 1, '1empty', '1found_a_one', '1found_a_sharp'],\n",
              " ['1empty', '1###'],\n",
              " ['1found_a_one', 'cases', 1, '1empty', '1one_one', '1one_sharp'],\n",
              " ['1found_a_sharp', 'cases', 1, '1empty', '1empty', '1sharp_sharp'],\n",
              " ['1one_one', 'a4'],\n",
              " ['1one_sharp', 'a5'],\n",
              " ['1sharp_sharp', 'a3']]"
            ]
          },
          "metadata": {},
          "execution_count": 270
        }
      ]
    },
    {
      "cell_type": "code",
      "source": [],
      "metadata": {
        "id": "3G5YnJGUz7ae"
      },
      "execution_count": null,
      "outputs": []
    }
  ]
}