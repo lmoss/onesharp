{
  "nbformat": 4,
  "nbformat_minor": 0,
  "metadata": {
    "colab": {
      "provenance": [],
      "authorship_tag": "ABX9TyPikGWvBAmpiCx3CN4wdD/o",
      "include_colab_link": true
    },
    "kernelspec": {
      "name": "python3",
      "display_name": "Python 3"
    },
    "language_info": {
      "name": "python"
    }
  },
  "cells": [
    {
      "cell_type": "markdown",
      "metadata": {
        "id": "view-in-github",
        "colab_type": "text"
      },
      "source": [
        "<a href=\"https://colab.research.google.com/github/lmoss/onesharp/blob/main/two_by_two.ipynb\" target=\"_parent\"><img src=\"https://colab.research.google.com/assets/colab-badge.svg\" alt=\"Open In Colab\"/></a>"
      ]
    },
    {
      "cell_type": "markdown",
      "source": [
        "# Two-by-Two Encoding\n",
        "\n",
        "This notebook shows that every 1# program may be modified to get a program with the special feature that when it runs, the case statement 1##### is never called on an empty R1.  (This technical feature will be put to use later, when we prove the undecidability of Post's Correspondence Problem).\n",
        "\n",
        "The work here also is a good illustration of the use of the Sanity tool."
      ],
      "metadata": {
        "id": "fDFD2HjfRMzO"
      }
    },
    {
      "cell_type": "code",
      "execution_count": null,
      "metadata": {
        "cellView": "form",
        "id": "NzHkyz3NJf9D"
      },
      "outputs": [],
      "source": [
        "#@title\n",
        "!python -m pip install -U setuptools\n",
        "!python -m pip install -U git+https://github.com/lmoss/onesharp/\n",
        "from onesharp.interpreter.interpreter import *\n",
        "from onesharp.tools.sanity import *"
      ]
    },
    {
      "cell_type": "markdown",
      "source": [
        "The two-by-two encoding takes the symbol 1 and replaces it by 11, and the symbol # and replaces it by 1#.  Then a word in a given register is replace by the letter-by-letter encoding, followed by an \"end of register\" marker ##.   For example, if R1 has 1#1, then we encode this by 111#11##.  \n",
        "\n",
        "We want to translate programs into ones which work on the encoded words, and we want to be sure that the translated programs have the feature that we are looking for. The basic idea in the programs below is that we can grab the symbols in R1 in a \"two-by-two\" fashion, and since we have an \"end-of-register\" marker ##, we will never do a case statement on an empty register.\n",
        "\n",
        "For simplicity, we are going to work only with programs that are tidy and which only use R1, and which are then run on all empty registers.  This is what we need for the later use of this encoding, and these conditions could be relaxed a bit.\n"
      ],
      "metadata": {
        "id": "_iArgn-aRudm"
      }
    },
    {
      "cell_type": "code",
      "source": [
        "two_by_two_addone_idea = [ # this is sanity code for 1#, run on encoded R1\n",
        "    ['top', 'cases', 1, 'empty', 'found_a_one', 'found_a_sharp'],\n",
        "    ['empty','1###'],\n",
        "    ['found_a_one', 'cases', 1, 'empty', 'one_one', 'one_sharp'],\n",
        "    ['found_a_sharp', 'cases', 1, 'empty', 'empty', 'sharp_sharp'],\n",
        "    ['one_one', '1#1#'],\n",
        "    ['goto', 'top'],\n",
        "    ['one_sharp', '1#1##'],\n",
        "    ['goto', 'top'],\n",
        "    ['sharp_sharp', '1#1#1##1##'], ## note that the 1#1# adds 11 before the end\n",
        "    ['goto', 'end']\n",
        "]\n",
        "\n",
        "two_by_two_addone = sanity(two_by_two_addone_idea)\n",
        "\n",
        "two_by_two_addsharp_idea = [ # this is sanity code for 1##, again run on encoded R1\n",
        "    ['top', 'cases', 1, 'empty', 'found_a_one', 'found_a_sharp'],\n",
        "    ['empty','1###'],\n",
        "    ['found_a_one', 'cases', 1, 'empty', 'one_one', 'one_sharp'],\n",
        "    ['found_a_sharp', 'cases', 1, 'empty', 'empty', 'sharp_sharp'],\n",
        "    ['one_one', '1#1#'],\n",
        "    ['goto', 'top'],\n",
        "    ['one_sharp', '1#1##'],\n",
        "    ['goto', 'top'],\n",
        "    ['sharp_sharp', '1#1##1##1##'], ## note that the 1#1## adds 11 before the end\n",
        "    ['goto', 'end']\n",
        "]\n",
        "\n",
        "two_by_two_addone = sanity(two_by_two_addone_idea)\n",
        "\n",
        "two_by_two_addsharp = sanity(two_by_two_addsharp_idea)"
      ],
      "metadata": {
        "id": "lvyw8aErKQJW"
      },
      "execution_count": 41,
      "outputs": []
    },
    {
      "cell_type": "code",
      "source": [
        "onesharp(two_by_two_addsharp,['1###'])"
      ],
      "metadata": {
        "colab": {
          "base_uri": "https://localhost:8080/",
          "height": 35
        },
        "id": "paw6FpZoLLUP",
        "outputId": "05822f64-069a-48fa-c626-5f86f3ff118a"
      },
      "execution_count": 15,
      "outputs": [
        {
          "output_type": "execute_result",
          "data": {
            "text/plain": [
              "'1#1###'"
            ],
            "application/vnd.google.colaboratory.intrinsic+json": {
              "type": "string"
            }
          },
          "metadata": {},
          "execution_count": 15
        }
      ]
    },
    {
      "cell_type": "code",
      "source": [],
      "metadata": {
        "id": "VLlF_eEOLYk7"
      },
      "execution_count": 94,
      "outputs": []
    },
    {
      "cell_type": "code",
      "source": [
        "A = parse('11###1#')\n",
        "B = [[x] for x in A]\n",
        "C = [replace_add_instruction(c) for c in B]\n",
        "print(B)\n",
        "print(C)\n",
        "print(sanity(C))\n",
        "onesharp(sanity(C),['11##'])"
      ],
      "metadata": {
        "colab": {
          "base_uri": "https://localhost:8080/",
          "height": 427
        },
        "id": "SsC_3NASMYZR",
        "outputId": "174c4c2b-e705-4dad-8268-318159207754"
      },
      "execution_count": 43,
      "outputs": [
        {
          "output_type": "stream",
          "name": "stdout",
          "text": [
            "[['11###'], ['1#']]\n",
            "[['11###'], ['1#####111###111###111111###1###1#####11####111111###11111111###1#####111111####1111111####1111111###1#1#111111111111111####1#1##111111111111111111####1#1#1##1##1###']]\n",
            "11###1#####111###111###111111###1###1#####11####111111###11111111###1#####111111####1111111####1111111###1#1#111111111111111####1#1##111111111111111111####1#1#1##1##1###\n"
          ]
        },
        {
          "output_type": "error",
          "ename": "KeyboardInterrupt",
          "evalue": "ignored",
          "traceback": [
            "\u001b[0;31m---------------------------------------------------------------------------\u001b[0m",
            "\u001b[0;31mKeyboardInterrupt\u001b[0m                         Traceback (most recent call last)",
            "\u001b[0;32m<ipython-input-43-05e4760e2e6f>\u001b[0m in \u001b[0;36m<module>\u001b[0;34m\u001b[0m\n\u001b[1;32m      5\u001b[0m \u001b[0mprint\u001b[0m\u001b[0;34m(\u001b[0m\u001b[0mC\u001b[0m\u001b[0;34m)\u001b[0m\u001b[0;34m\u001b[0m\u001b[0;34m\u001b[0m\u001b[0m\n\u001b[1;32m      6\u001b[0m \u001b[0mprint\u001b[0m\u001b[0;34m(\u001b[0m\u001b[0msanity\u001b[0m\u001b[0;34m(\u001b[0m\u001b[0mC\u001b[0m\u001b[0;34m)\u001b[0m\u001b[0;34m)\u001b[0m\u001b[0;34m\u001b[0m\u001b[0;34m\u001b[0m\u001b[0m\n\u001b[0;32m----> 7\u001b[0;31m \u001b[0monesharp\u001b[0m\u001b[0;34m(\u001b[0m\u001b[0msanity\u001b[0m\u001b[0;34m(\u001b[0m\u001b[0mC\u001b[0m\u001b[0;34m)\u001b[0m\u001b[0;34m,\u001b[0m\u001b[0;34m[\u001b[0m\u001b[0;34m'11##'\u001b[0m\u001b[0;34m]\u001b[0m\u001b[0;34m)\u001b[0m\u001b[0;34m\u001b[0m\u001b[0;34m\u001b[0m\u001b[0m\n\u001b[0m",
            "\u001b[0;32m/usr/local/lib/python3.7/dist-packages/onesharp/interpreter/interpreter.py\u001b[0m in \u001b[0;36monesharp\u001b[0;34m(word_prog, register_inputs)\u001b[0m\n\u001b[1;32m    263\u001b[0m         \u001b[0msnap\u001b[0m \u001b[0;34m=\u001b[0m \u001b[0mSnapshot\u001b[0m\u001b[0;34m(\u001b[0m\u001b[0;36m1\u001b[0m\u001b[0;34m,\u001b[0m \u001b[0mregs\u001b[0m\u001b[0;34m,\u001b[0m\u001b[0;32mTrue\u001b[0m\u001b[0;34m,\u001b[0m\u001b[0;32mFalse\u001b[0m\u001b[0;34m,\u001b[0m \u001b[0mN\u001b[0m\u001b[0;34m,\u001b[0m \u001b[0;36m1\u001b[0m\u001b[0;34m)\u001b[0m\u001b[0;34m\u001b[0m\u001b[0;34m\u001b[0m\u001b[0m\n\u001b[1;32m    264\u001b[0m         \u001b[0;32mwhile\u001b[0m \u001b[0msnap\u001b[0m\u001b[0;34m.\u001b[0m\u001b[0mproceed\u001b[0m\u001b[0;34m:\u001b[0m\u001b[0;34m\u001b[0m\u001b[0;34m\u001b[0m\u001b[0m\n\u001b[0;32m--> 265\u001b[0;31m             \u001b[0msnap\u001b[0m \u001b[0;34m=\u001b[0m \u001b[0mone_step\u001b[0m\u001b[0;34m(\u001b[0m\u001b[0mprog\u001b[0m\u001b[0;34m,\u001b[0m \u001b[0msnap\u001b[0m\u001b[0;34m)\u001b[0m\u001b[0;34m\u001b[0m\u001b[0;34m\u001b[0m\u001b[0m\n\u001b[0m\u001b[1;32m    266\u001b[0m             \u001b[0msnap\u001b[0m\u001b[0;34m.\u001b[0m\u001b[0mstep_number\u001b[0m \u001b[0;34m=\u001b[0m \u001b[0;34m(\u001b[0m\u001b[0msnap\u001b[0m\u001b[0;34m.\u001b[0m\u001b[0mstep_number\u001b[0m\u001b[0;34m)\u001b[0m\u001b[0;34m+\u001b[0m\u001b[0;36m1\u001b[0m\u001b[0;34m\u001b[0m\u001b[0;34m\u001b[0m\u001b[0m\n\u001b[1;32m    267\u001b[0m         if (snap.instr_number == (N + 1)) and all(\n",
            "\u001b[0;32m/usr/local/lib/python3.7/dist-packages/onesharp/interpreter/interpreter.py\u001b[0m in \u001b[0;36mone_step\u001b[0;34m(p, snapshot)\u001b[0m\n\u001b[1;32m    100\u001b[0m                 print('The first symbol in that register is #,' +\n\u001b[1;32m    101\u001b[0m                       ' so we delete that symbol and go forward 3 instructions.')     \n\u001b[0;32m--> 102\u001b[0;31m     \u001b[0mt\u001b[0m \u001b[0;34m=\u001b[0m \u001b[0minstruction_type\u001b[0m\u001b[0;34m(\u001b[0m\u001b[0minstruction\u001b[0m\u001b[0;34m)\u001b[0m\u001b[0;34m\u001b[0m\u001b[0;34m\u001b[0m\u001b[0m\n\u001b[0m\u001b[1;32m    103\u001b[0m     \u001b[0;32mif\u001b[0m \u001b[0mt\u001b[0m \u001b[0;34m==\u001b[0m \u001b[0;34m'add1'\u001b[0m\u001b[0;34m:\u001b[0m\u001b[0;34m\u001b[0m\u001b[0;34m\u001b[0m\u001b[0m\n\u001b[1;32m    104\u001b[0m         \u001b[0msnapshot\u001b[0m\u001b[0;34m.\u001b[0m\u001b[0minstr_number\u001b[0m \u001b[0;34m=\u001b[0m \u001b[0;36m1\u001b[0m \u001b[0;34m+\u001b[0m \u001b[0msnapshot\u001b[0m\u001b[0;34m.\u001b[0m\u001b[0minstr_number\u001b[0m\u001b[0;34m\u001b[0m\u001b[0;34m\u001b[0m\u001b[0m\n",
            "\u001b[0;32m/usr/local/lib/python3.7/dist-packages/onesharp/interpreter/interpreter.py\u001b[0m in \u001b[0;36minstruction_type\u001b[0;34m(instruction)\u001b[0m\n\u001b[1;32m     66\u001b[0m     \u001b[0;32mreturn\u001b[0m \u001b[0;34m(\u001b[0m\u001b[0;34m''\u001b[0m\u001b[0;34m.\u001b[0m\u001b[0mjoin\u001b[0m\u001b[0;34m(\u001b[0m\u001b[0mp\u001b[0m\u001b[0;34m)\u001b[0m\u001b[0;34m)\u001b[0m\u001b[0;34m\u001b[0m\u001b[0;34m\u001b[0m\u001b[0m\n\u001b[1;32m     67\u001b[0m \u001b[0;34m\u001b[0m\u001b[0m\n\u001b[0;32m---> 68\u001b[0;31m \u001b[0;32mdef\u001b[0m \u001b[0minstruction_type\u001b[0m\u001b[0;34m(\u001b[0m\u001b[0minstruction\u001b[0m\u001b[0;34m)\u001b[0m\u001b[0;34m:\u001b[0m\u001b[0;34m\u001b[0m\u001b[0;34m\u001b[0m\u001b[0m\n\u001b[0m\u001b[1;32m     69\u001b[0m     \u001b[0;32mif\u001b[0m \u001b[0minstruction\u001b[0m\u001b[0;34m[\u001b[0m\u001b[0;34m-\u001b[0m\u001b[0;36m2\u001b[0m\u001b[0;34m:\u001b[0m\u001b[0;34m]\u001b[0m \u001b[0;34m==\u001b[0m \u001b[0;34m'1#'\u001b[0m\u001b[0;34m:\u001b[0m\u001b[0;34m\u001b[0m\u001b[0;34m\u001b[0m\u001b[0m\n\u001b[1;32m     70\u001b[0m         \u001b[0;32mreturn\u001b[0m \u001b[0;34m(\u001b[0m\u001b[0;34m'add1'\u001b[0m\u001b[0;34m)\u001b[0m\u001b[0;34m\u001b[0m\u001b[0;34m\u001b[0m\u001b[0m\n",
            "\u001b[0;31mKeyboardInterrupt\u001b[0m: "
          ]
        }
      ]
    },
    {
      "cell_type": "code",
      "source": [
        "def numbered(parsed): ## words on a parsed program\n",
        "  n = len(parsed)\n",
        "  x = [['a'+str(i+1),parsed[i]] for i in range(n)]\n",
        "  return(x)\n",
        "\n",
        "def resolve_transfer(program,instruction,index): # for use on an instruction in a numbered, parsed program  \n",
        "  if instruction_type(instruction[1]) == 'forward':\n",
        "     offset = len(instruction[1]) - 3\n",
        "     #return([instruction[0], 'goto', str(index+offset)])\n",
        "     if index+offset -1 == len(program):\n",
        "       return([instruction[0], 'goto', 'end']) # note the special handling here\n",
        "     else:\n",
        "       return([instruction[0], 'goto', program[index+offset-1][0]])\n",
        "  if instruction_type(instruction[1]) == 'backward':\n",
        "     offset = len(instruction[1]) - 4\n",
        "     return([instruction[0], 'goto', program[index-offset-1][0]])   \n",
        "  else:\n",
        "     return(instruction)   \n",
        "\n",
        "def resolve_all_transfers(parsed): #for use on a parsed, numbered program \n",
        "  k = len(parsed)\n",
        "  answer = [resolve_transfer(parsed,parsed[i-1],i) for i in range(1,k+1)]\n",
        "  return(answer)\n",
        "\n",
        "def replace_add_instruction(x):\n",
        "  if x[1] == '1#':\n",
        "    return([x[0],two_by_two_addone])\n",
        "    ## this had been   return(two_by_two_addone])\n",
        "    # but due to the fact that sanity expects \n",
        "    # input like ['1#1##'] rather than ['4', '1#1##'], the numbers are out\n",
        "  elif  x[1] == '1##':   \n",
        "    return([x[0],two_by_two_addsharp]) \n",
        "  else:\n",
        "    return(x)\n",
        "\n",
        "def replace_all_add_instructions(parsed): #for use on a parsed, numbered program \n",
        "  answer = [replace_add_instruction(i) for i in parsed]\n",
        "  return(answer)"
      ],
      "metadata": {
        "id": "laJA1U9LMpHd"
      },
      "execution_count": 211,
      "outputs": []
    },
    {
      "cell_type": "code",
      "source": [
        "pzero = '11111###1#1#111####1#'\n",
        "pone = parse(pzero)\n",
        "print(pone)\n",
        "print(len(pone))\n",
        "p = numbered(pone)\n",
        "print(p)\n",
        "q = resolve_all_transfers(p)\n",
        "print('q below')\n",
        "print(q)\n",
        "r =replace_all_add_instructions(q)\n",
        "print('r')\n",
        "print(r)\n",
        "s = sanity(r)\n",
        "print(s)\n",
        "#parse_explain(s)\n",
        "onesharp(s,['##'])"
      ],
      "metadata": {
        "colab": {
          "base_uri": "https://localhost:8080/",
          "height": 198
        },
        "id": "ae2s-NDkXz4g",
        "outputId": "52c7d6ce-c45c-4f8e-93c5-adf608fd8738"
      },
      "execution_count": 212,
      "outputs": [
        {
          "output_type": "stream",
          "name": "stdout",
          "text": [
            "['11111###', '1#', '1#', '111####', '1#']\n",
            "5\n",
            "[['a1', '11111###'], ['a2', '1#'], ['a3', '1#'], ['a4', '111####'], ['a5', '1#']]\n",
            "q below\n",
            "[['a1', 'goto', 'end'], ['a2', '1#'], ['a3', '1#'], ['a4', 'goto', 'a1'], ['a5', '1#']]\n",
            "r\n",
            "[['a1', 'goto', 'end'], ['a2', '1#####111###111###111111###1###1#####11####111111###11111111###1#####111111####1111111####1111111###1#1#111111111111111####1#1##111111111111111111####1#1#1##1##1###'], ['a3', '1#####111###111###111111###1###1#####11####111111###11111111###1#####111111####1111111####1111111###1#1#111111111111111####1#1##111111111111111111####1#1#1##1##1###'], ['a4', 'goto', 'a1'], ['a5', '1#####111###111###111111###1###1#####11####111111###11111111###1#####111111####1111111####1111111###1#1#111111111111111####1#1##111111111111111111####1#1#1##1##1###']]\n",
            "11111111111111111111111111111111111111111111111111111111111111111111111111###1#####111###111###111111###1###1#####11####111111###11111111###1#####111111####1111111####1111111###1#1#111111111111111####1#1##111111111111111111####1#1#1##1##1###1#####111###111###111111###1###1#####11####111111###11111111###1#####111111####1111111####1111111###1#1#111111111111111####1#1##111111111111111111####1#1#1##1##1###1111111111111111111111111111111111111111111111111####1#####111###111###111111###1###1#####11####111111###11111111###1#####111111####1111111####1111111###1#1#111111111111111####1#1##111111111111111111####1#1#1##1##1###\n"
          ]
        },
        {
          "output_type": "execute_result",
          "data": {
            "text/plain": [
              "'##'"
            ],
            "application/vnd.google.colaboratory.intrinsic+json": {
              "type": "string"
            }
          },
          "metadata": {},
          "execution_count": 212
        }
      ]
    },
    {
      "cell_type": "code",
      "source": [
        "len(parse(s))"
      ],
      "metadata": {
        "colab": {
          "base_uri": "https://localhost:8080/"
        },
        "id": "78nF2TJsVpnK",
        "outputId": "2d0c3e7b-60f2-4bba-8fec-09edb047971f"
      },
      "execution_count": 213,
      "outputs": [
        {
          "output_type": "execute_result",
          "data": {
            "text/plain": [
              "74"
            ]
          },
          "metadata": {},
          "execution_count": 213
        }
      ]
    },
    {
      "cell_type": "code",
      "source": [
        "s"
      ],
      "metadata": {
        "colab": {
          "base_uri": "https://localhost:8080/",
          "height": 125
        },
        "id": "fijXuwZeWb30",
        "outputId": "662d628c-4813-4289-974e-f019ebe40b9e"
      },
      "execution_count": 214,
      "outputs": [
        {
          "output_type": "execute_result",
          "data": {
            "text/plain": [
              "'11111111111111111111111111111111111111111111111111111111111111111111111111###1#####111###111###111111###1###1#####11####111111###11111111###1#####111111####1111111####1111111###1#1#111111111111111####1#1##111111111111111111####1#1#1##1##1###1#####111###111###111111###1###1#####11####111111###11111111###1#####111111####1111111####1111111###1#1#111111111111111####1#1##111111111111111111####1#1#1##1##1###1111111111111111111111111111111111111111111111111####1#####111###111###111111###1###1#####11####111111###11111111###1#####111111####1111111####1111111###1#1#111111111111111####1#1##111111111111111111####1#1#1##1##1###'"
            ],
            "application/vnd.google.colaboratory.intrinsic+json": {
              "type": "string"
            }
          },
          "metadata": {},
          "execution_count": 214
        }
      ]
    },
    {
      "cell_type": "code",
      "source": [],
      "metadata": {
        "id": "3G5YnJGUz7ae"
      },
      "execution_count": null,
      "outputs": []
    }
  ]
}