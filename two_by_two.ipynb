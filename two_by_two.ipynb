{
  "nbformat": 4,
  "nbformat_minor": 0,
  "metadata": {
    "colab": {
      "provenance": [],
      "authorship_tag": "ABX9TyMTy9J8n4iA0vkrawDMoZNr",
      "include_colab_link": true
    },
    "kernelspec": {
      "name": "python3",
      "display_name": "Python 3"
    },
    "language_info": {
      "name": "python"
    }
  },
  "cells": [
    {
      "cell_type": "markdown",
      "metadata": {
        "id": "view-in-github",
        "colab_type": "text"
      },
      "source": [
        "<a href=\"https://colab.research.google.com/github/lmoss/onesharp/blob/main/two_by_two.ipynb\" target=\"_parent\"><img src=\"https://colab.research.google.com/assets/colab-badge.svg\" alt=\"Open In Colab\"/></a>"
      ]
    },
    {
      "cell_type": "markdown",
      "source": [
        "# Two-by-Two Encoding\n",
        "\n",
        "This notebook shows that every 1# program may be modified to get a program with the special feature that when it runs, the case statement 1##### is never called on an empty R1.  (This technical feature will be put to use later, when we prove the undecidability of Post's Correspondence Problem).\n",
        "\n",
        "The work here also is a good illustration of the use of the Sanity too."
      ],
      "metadata": {
        "id": "fDFD2HjfRMzO"
      }
    },
    {
      "cell_type": "code",
      "execution_count": null,
      "metadata": {
        "cellView": "form",
        "id": "NzHkyz3NJf9D"
      },
      "outputs": [],
      "source": [
        "#@title\n",
        "!python -m pip install -U setuptools\n",
        "!python -m pip install -U git+https://github.com/lmoss/onesharp/\n",
        "from onesharp.interpreter.interpreter import *\n",
        "from onesharp.tools.sanity import *"
      ]
    },
    {
      "cell_type": "markdown",
      "source": [
        "The two-by-two encoding takes the symbol 1 and replaces it by 11, and the symbol # and replaces it by 1#.  Then a word in a given register is replace by the letter-by-letter encoding, followed by ## at the end of the register.   For example, if R1 has 1#1, then we encode this by 111#11##.  \n",
        "We want to translate programs into ones which work on the encoded words, and we want to be sure that the translated programs have the feature that we are looking for. The basic idea in the programs below is that we can grab the symbols in R1 in a `two-by-two' fashion, and since we have an `end-of-register' marker ##, we will never do a case statement on an empty register."
      ],
      "metadata": {
        "id": "_iArgn-aRudm"
      }
    },
    {
      "cell_type": "code",
      "source": [
        "two_by_two_addone_idea = [ # this is sanity code for 1#, run on encoded R1\n",
        "    ['top', 'cases', 1, 'empty', 'found_a_one', 'found_a_sharp'],\n",
        "    ['empty','1###'],\n",
        "    ['found_a_one', 'cases', 1, 'empty', 'one_one', 'one_sharp'],\n",
        "    ['found_a_sharp', 'cases', 1, 'empty', 'empty', 'sharp_sharp'],\n",
        "    ['one_one', '1#1#'],\n",
        "    ['goto', 'top'],\n",
        "    ['one_sharp', '1#1##'],\n",
        "    ['goto', 'top'],\n",
        "    ['sharp_sharp', '1#1#1##1##'], ## note that the 1#1# adds 11 before the end\n",
        "    ['goto', 'end']\n",
        "]\n",
        "\n",
        "two_by_two_addone = sanity(two_by_two_addone_idea)\n",
        "\n",
        "two_by_two_addsharp_idea = [ # this is sanity code for 1##, again run on encoded R1\n",
        "    ['top', 'cases', 1, 'empty', 'found_a_one', 'found_a_sharp'],\n",
        "    ['empty','1###'],\n",
        "    ['found_a_one', 'cases', 1, 'empty', 'one_one', 'one_sharp'],\n",
        "    ['found_a_sharp', 'cases', 1, 'empty', 'empty', 'sharp_sharp'],\n",
        "    ['one_one', '1#1#'],\n",
        "    ['goto', 'top'],\n",
        "    ['one_sharp', '1#1##'],\n",
        "    ['goto', 'top'],\n",
        "    ['sharp_sharp', '1#1##1##1##'], ## note that the 1#1## adds 11 before the end\n",
        "    ['goto', 'end']\n",
        "]\n",
        "\n",
        "two_by_two_addone = sanity(two_by_two_addone_idea)\n",
        "\n",
        "two_by_two_addsharp = sanity(two_by_two_addsharp_idea)"
      ],
      "metadata": {
        "id": "lvyw8aErKQJW"
      },
      "execution_count": 41,
      "outputs": []
    },
    {
      "cell_type": "code",
      "source": [
        "onesharp(two_by_two_addsharp,['1###'])"
      ],
      "metadata": {
        "colab": {
          "base_uri": "https://localhost:8080/",
          "height": 35
        },
        "id": "paw6FpZoLLUP",
        "outputId": "05822f64-069a-48fa-c626-5f86f3ff118a"
      },
      "execution_count": 15,
      "outputs": [
        {
          "output_type": "execute_result",
          "data": {
            "text/plain": [
              "'1#1###'"
            ],
            "application/vnd.google.colaboratory.intrinsic+json": {
              "type": "string"
            }
          },
          "metadata": {},
          "execution_count": 15
        }
      ]
    },
    {
      "cell_type": "code",
      "source": [
        "def replace_add_instruction(x):\n",
        "  if x[1] == '1#':\n",
        "    return([x[0], two_by_two_addone])\n",
        "  elif  x[1] == '1##':\n",
        "    return([x[0], two_by_two_addsharp]) \n",
        "  else:\n",
        "    return(x)\n"
      ],
      "metadata": {
        "id": "VLlF_eEOLYk7"
      },
      "execution_count": 94,
      "outputs": []
    },
    {
      "cell_type": "code",
      "source": [
        "A = parse('11###1#')\n",
        "B = [[x] for x in A]\n",
        "C = [replace_add_instruction(c) for c in B]\n",
        "print(B)\n",
        "print(C)\n",
        "print(sanity(C))\n",
        "onesharp(sanity(C),['11##'])"
      ],
      "metadata": {
        "colab": {
          "base_uri": "https://localhost:8080/",
          "height": 427
        },
        "id": "SsC_3NASMYZR",
        "outputId": "174c4c2b-e705-4dad-8268-318159207754"
      },
      "execution_count": 43,
      "outputs": [
        {
          "output_type": "stream",
          "name": "stdout",
          "text": [
            "[['11###'], ['1#']]\n",
            "[['11###'], ['1#####111###111###111111###1###1#####11####111111###11111111###1#####111111####1111111####1111111###1#1#111111111111111####1#1##111111111111111111####1#1#1##1##1###']]\n",
            "11###1#####111###111###111111###1###1#####11####111111###11111111###1#####111111####1111111####1111111###1#1#111111111111111####1#1##111111111111111111####1#1#1##1##1###\n"
          ]
        },
        {
          "output_type": "error",
          "ename": "KeyboardInterrupt",
          "evalue": "ignored",
          "traceback": [
            "\u001b[0;31m---------------------------------------------------------------------------\u001b[0m",
            "\u001b[0;31mKeyboardInterrupt\u001b[0m                         Traceback (most recent call last)",
            "\u001b[0;32m<ipython-input-43-05e4760e2e6f>\u001b[0m in \u001b[0;36m<module>\u001b[0;34m\u001b[0m\n\u001b[1;32m      5\u001b[0m \u001b[0mprint\u001b[0m\u001b[0;34m(\u001b[0m\u001b[0mC\u001b[0m\u001b[0;34m)\u001b[0m\u001b[0;34m\u001b[0m\u001b[0;34m\u001b[0m\u001b[0m\n\u001b[1;32m      6\u001b[0m \u001b[0mprint\u001b[0m\u001b[0;34m(\u001b[0m\u001b[0msanity\u001b[0m\u001b[0;34m(\u001b[0m\u001b[0mC\u001b[0m\u001b[0;34m)\u001b[0m\u001b[0;34m)\u001b[0m\u001b[0;34m\u001b[0m\u001b[0;34m\u001b[0m\u001b[0m\n\u001b[0;32m----> 7\u001b[0;31m \u001b[0monesharp\u001b[0m\u001b[0;34m(\u001b[0m\u001b[0msanity\u001b[0m\u001b[0;34m(\u001b[0m\u001b[0mC\u001b[0m\u001b[0;34m)\u001b[0m\u001b[0;34m,\u001b[0m\u001b[0;34m[\u001b[0m\u001b[0;34m'11##'\u001b[0m\u001b[0;34m]\u001b[0m\u001b[0;34m)\u001b[0m\u001b[0;34m\u001b[0m\u001b[0;34m\u001b[0m\u001b[0m\n\u001b[0m",
            "\u001b[0;32m/usr/local/lib/python3.7/dist-packages/onesharp/interpreter/interpreter.py\u001b[0m in \u001b[0;36monesharp\u001b[0;34m(word_prog, register_inputs)\u001b[0m\n\u001b[1;32m    263\u001b[0m         \u001b[0msnap\u001b[0m \u001b[0;34m=\u001b[0m \u001b[0mSnapshot\u001b[0m\u001b[0;34m(\u001b[0m\u001b[0;36m1\u001b[0m\u001b[0;34m,\u001b[0m \u001b[0mregs\u001b[0m\u001b[0;34m,\u001b[0m\u001b[0;32mTrue\u001b[0m\u001b[0;34m,\u001b[0m\u001b[0;32mFalse\u001b[0m\u001b[0;34m,\u001b[0m \u001b[0mN\u001b[0m\u001b[0;34m,\u001b[0m \u001b[0;36m1\u001b[0m\u001b[0;34m)\u001b[0m\u001b[0;34m\u001b[0m\u001b[0;34m\u001b[0m\u001b[0m\n\u001b[1;32m    264\u001b[0m         \u001b[0;32mwhile\u001b[0m \u001b[0msnap\u001b[0m\u001b[0;34m.\u001b[0m\u001b[0mproceed\u001b[0m\u001b[0;34m:\u001b[0m\u001b[0;34m\u001b[0m\u001b[0;34m\u001b[0m\u001b[0m\n\u001b[0;32m--> 265\u001b[0;31m             \u001b[0msnap\u001b[0m \u001b[0;34m=\u001b[0m \u001b[0mone_step\u001b[0m\u001b[0;34m(\u001b[0m\u001b[0mprog\u001b[0m\u001b[0;34m,\u001b[0m \u001b[0msnap\u001b[0m\u001b[0;34m)\u001b[0m\u001b[0;34m\u001b[0m\u001b[0;34m\u001b[0m\u001b[0m\n\u001b[0m\u001b[1;32m    266\u001b[0m             \u001b[0msnap\u001b[0m\u001b[0;34m.\u001b[0m\u001b[0mstep_number\u001b[0m \u001b[0;34m=\u001b[0m \u001b[0;34m(\u001b[0m\u001b[0msnap\u001b[0m\u001b[0;34m.\u001b[0m\u001b[0mstep_number\u001b[0m\u001b[0;34m)\u001b[0m\u001b[0;34m+\u001b[0m\u001b[0;36m1\u001b[0m\u001b[0;34m\u001b[0m\u001b[0;34m\u001b[0m\u001b[0m\n\u001b[1;32m    267\u001b[0m         if (snap.instr_number == (N + 1)) and all(\n",
            "\u001b[0;32m/usr/local/lib/python3.7/dist-packages/onesharp/interpreter/interpreter.py\u001b[0m in \u001b[0;36mone_step\u001b[0;34m(p, snapshot)\u001b[0m\n\u001b[1;32m    100\u001b[0m                 print('The first symbol in that register is #,' +\n\u001b[1;32m    101\u001b[0m                       ' so we delete that symbol and go forward 3 instructions.')     \n\u001b[0;32m--> 102\u001b[0;31m     \u001b[0mt\u001b[0m \u001b[0;34m=\u001b[0m \u001b[0minstruction_type\u001b[0m\u001b[0;34m(\u001b[0m\u001b[0minstruction\u001b[0m\u001b[0;34m)\u001b[0m\u001b[0;34m\u001b[0m\u001b[0;34m\u001b[0m\u001b[0m\n\u001b[0m\u001b[1;32m    103\u001b[0m     \u001b[0;32mif\u001b[0m \u001b[0mt\u001b[0m \u001b[0;34m==\u001b[0m \u001b[0;34m'add1'\u001b[0m\u001b[0;34m:\u001b[0m\u001b[0;34m\u001b[0m\u001b[0;34m\u001b[0m\u001b[0m\n\u001b[1;32m    104\u001b[0m         \u001b[0msnapshot\u001b[0m\u001b[0;34m.\u001b[0m\u001b[0minstr_number\u001b[0m \u001b[0;34m=\u001b[0m \u001b[0;36m1\u001b[0m \u001b[0;34m+\u001b[0m \u001b[0msnapshot\u001b[0m\u001b[0;34m.\u001b[0m\u001b[0minstr_number\u001b[0m\u001b[0;34m\u001b[0m\u001b[0;34m\u001b[0m\u001b[0m\n",
            "\u001b[0;32m/usr/local/lib/python3.7/dist-packages/onesharp/interpreter/interpreter.py\u001b[0m in \u001b[0;36minstruction_type\u001b[0;34m(instruction)\u001b[0m\n\u001b[1;32m     66\u001b[0m     \u001b[0;32mreturn\u001b[0m \u001b[0;34m(\u001b[0m\u001b[0;34m''\u001b[0m\u001b[0;34m.\u001b[0m\u001b[0mjoin\u001b[0m\u001b[0;34m(\u001b[0m\u001b[0mp\u001b[0m\u001b[0;34m)\u001b[0m\u001b[0;34m)\u001b[0m\u001b[0;34m\u001b[0m\u001b[0;34m\u001b[0m\u001b[0m\n\u001b[1;32m     67\u001b[0m \u001b[0;34m\u001b[0m\u001b[0m\n\u001b[0;32m---> 68\u001b[0;31m \u001b[0;32mdef\u001b[0m \u001b[0minstruction_type\u001b[0m\u001b[0;34m(\u001b[0m\u001b[0minstruction\u001b[0m\u001b[0;34m)\u001b[0m\u001b[0;34m:\u001b[0m\u001b[0;34m\u001b[0m\u001b[0;34m\u001b[0m\u001b[0m\n\u001b[0m\u001b[1;32m     69\u001b[0m     \u001b[0;32mif\u001b[0m \u001b[0minstruction\u001b[0m\u001b[0;34m[\u001b[0m\u001b[0;34m-\u001b[0m\u001b[0;36m2\u001b[0m\u001b[0;34m:\u001b[0m\u001b[0;34m]\u001b[0m \u001b[0;34m==\u001b[0m \u001b[0;34m'1#'\u001b[0m\u001b[0;34m:\u001b[0m\u001b[0;34m\u001b[0m\u001b[0;34m\u001b[0m\u001b[0m\n\u001b[1;32m     70\u001b[0m         \u001b[0;32mreturn\u001b[0m \u001b[0;34m(\u001b[0m\u001b[0;34m'add1'\u001b[0m\u001b[0;34m)\u001b[0m\u001b[0;34m\u001b[0m\u001b[0;34m\u001b[0m\u001b[0m\n",
            "\u001b[0;31mKeyboardInterrupt\u001b[0m: "
          ]
        }
      ]
    },
    {
      "cell_type": "code",
      "source": [
        "def numbered(parsed): ## words on a parsed program\n",
        "  n = len(parsed)\n",
        "  x = [[str(i),parsed[i]] for i in range(n)]\n",
        "  return(x)\n",
        "\n",
        "def resolve_transfer(instruction): # for use on an instruction in a numbered, parsed program  \n",
        "  m = int(instruction[0])\n",
        "  if instruction_type(instruction[1]) == 'forward':\n",
        "     offset = len(instruction[1]) - 3\n",
        "     return([str(m), 'goto', int(m+offset)])\n",
        "  if instruction_type(instruction[1]) == 'backward':\n",
        "     offset = len(instruction[1]) - 4\n",
        "     return([str(m), 'goto', int(m-offset)])     \n",
        "  else:\n",
        "     return(instruction)   \n",
        "\n",
        "def resolve_all_transfers(parsed): #for use on a parsed, numbered program \n",
        "  answer = [resolve_transfer(i) for i in parsed]\n",
        "  return(answer)\n",
        "\n",
        "def replace_all_add_instructions(parsed): #for use on a parsed, numbered program \n",
        "  answer = [replace_add_instruction(i) for i in parsed]\n",
        "  return(answer)"
      ],
      "metadata": {
        "id": "laJA1U9LMpHd"
      },
      "execution_count": 95,
      "outputs": []
    },
    {
      "cell_type": "code",
      "source": [
        "pzero = '1##1#'\n",
        "pone = parse(pzero)\n",
        "print(pone)\n",
        "p = numbered(pone)\n",
        "print(p)\n",
        "q = resolve_all_transfers(p)\n",
        "print('q below')\n",
        "print(q)\n",
        "r =replace_all_add_instructions(q)\n",
        "print('r')\n",
        "print(r)\n",
        "s = sanity(r)\n",
        "#parse_explain(s)\n",
        "onesharp(s,['##'])"
      ],
      "metadata": {
        "colab": {
          "base_uri": "https://localhost:8080/",
          "height": 216
        },
        "id": "ae2s-NDkXz4g",
        "outputId": "8312bddf-be6b-4042-a353-d7c33b389c69"
      },
      "execution_count": 116,
      "outputs": [
        {
          "output_type": "stream",
          "name": "stdout",
          "text": [
            "['1##', '1#']\n",
            "[['0', '1##'], ['1', '1#']]\n",
            "q below\n",
            "[['0', '1##'], ['1', '1#']]\n",
            "r\n",
            "[['0', '1#####111###111###111111###1###1#####11####111111###11111111###1#####111111####1111111####1111111###1#1#111111111111111####1#1##111111111111111111####1#1##1##1##1###'], ['1', '1#####111###111###111111###1###1#####11####111111###11111111###1#####111111####1111111####1111111###1#1#111111111111111####1#1##111111111111111111####1#1#1##1##1###']]\n",
            "The input 1#####111###111###111111###1###1#####11####111111###11111111###1#####111111####1111111####1111111###1#1#111111111111111####1#1##111111111111111111####1#1##1##1##1###1 is not a valid 1# program.\n",
            "It is not the concatenation of a sequence of instructions in the language.\n",
            "So what you are asking for is undefined.\n"
          ]
        },
        {
          "output_type": "execute_result",
          "data": {
            "text/plain": [
              "'undefined'"
            ],
            "application/vnd.google.colaboratory.intrinsic+json": {
              "type": "string"
            }
          },
          "metadata": {},
          "execution_count": 116
        }
      ]
    },
    {
      "cell_type": "code",
      "source": [
        "numbered(diag)"
      ],
      "metadata": {
        "colab": {
          "base_uri": "https://localhost:8080/"
        },
        "id": "jGwH-RqaVSB_",
        "outputId": "dbd4d628-d817-423c-f278-5bd75780d1c6"
      },
      "execution_count": 108,
      "outputs": [
        {
          "output_type": "execute_result",
          "data": {
            "text/plain": [
              "[['0', '1'],\n",
              " ['1', '#'],\n",
              " ['2', '#'],\n",
              " ['3', '#'],\n",
              " ['4', '#'],\n",
              " ['5', '#'],\n",
              " ['6', '1'],\n",
              " ['7', '1'],\n",
              " ['8', '1'],\n",
              " ['9', '1'],\n",
              " ['10', '1'],\n",
              " ['11', '1'],\n",
              " ['12', '1'],\n",
              " ['13', '1'],\n",
              " ['14', '1'],\n",
              " ['15', '1'],\n",
              " ['16', '1'],\n",
              " ['17', '#'],\n",
              " ['18', '#'],\n",
              " ['19', '#'],\n",
              " ['20', '1'],\n",
              " ['21', '1'],\n",
              " ['22', '1'],\n",
              " ['23', '1'],\n",
              " ['24', '1'],\n",
              " ['25', '1'],\n",
              " ['26', '#'],\n",
              " ['27', '#'],\n",
              " ['28', '#'],\n",
              " ['29', '1'],\n",
              " ['30', '1'],\n",
              " ['31', '#'],\n",
              " ['32', '#'],\n",
              " ['33', '1'],\n",
              " ['34', '1'],\n",
              " ['35', '1'],\n",
              " ['36', '#'],\n",
              " ['37', '1'],\n",
              " ['38', '1'],\n",
              " ['39', '1'],\n",
              " ['40', '#'],\n",
              " ['41', '#'],\n",
              " ['42', '1'],\n",
              " ['43', '1'],\n",
              " ['44', '1'],\n",
              " ['45', '#'],\n",
              " ['46', '#'],\n",
              " ['47', '1'],\n",
              " ['48', '1'],\n",
              " ['49', '1'],\n",
              " ['50', '1'],\n",
              " ['51', '1'],\n",
              " ['52', '1'],\n",
              " ['53', '1'],\n",
              " ['54', '#'],\n",
              " ['55', '#'],\n",
              " ['56', '#'],\n",
              " ['57', '#'],\n",
              " ['58', '1'],\n",
              " ['59', '1'],\n",
              " ['60', '#'],\n",
              " ['61', '1'],\n",
              " ['62', '1'],\n",
              " ['63', '1'],\n",
              " ['64', '#'],\n",
              " ['65', '1'],\n",
              " ['66', '1'],\n",
              " ['67', '1'],\n",
              " ['68', '#'],\n",
              " ['69', '#'],\n",
              " ['70', '1'],\n",
              " ['71', '1'],\n",
              " ['72', '1'],\n",
              " ['73', '1'],\n",
              " ['74', '#'],\n",
              " ['75', '#'],\n",
              " ['76', '#'],\n",
              " ['77', '#'],\n",
              " ['78', '1'],\n",
              " ['79', '1'],\n",
              " ['80', '1'],\n",
              " ['81', '#'],\n",
              " ['82', '#'],\n",
              " ['83', '#'],\n",
              " ['84', '#'],\n",
              " ['85', '#'],\n",
              " ['86', '1'],\n",
              " ['87', '1'],\n",
              " ['88', '1'],\n",
              " ['89', '1'],\n",
              " ['90', '1'],\n",
              " ['91', '1'],\n",
              " ['92', '#'],\n",
              " ['93', '#'],\n",
              " ['94', '#'],\n",
              " ['95', '1'],\n",
              " ['96', '1'],\n",
              " ['97', '1'],\n",
              " ['98', '#'],\n",
              " ['99', '#'],\n",
              " ['100', '#'],\n",
              " ['101', '1'],\n",
              " ['102', '#'],\n",
              " ['103', '#'],\n",
              " ['104', '1'],\n",
              " ['105', '1'],\n",
              " ['106', '1'],\n",
              " ['107', '1'],\n",
              " ['108', '#'],\n",
              " ['109', '#'],\n",
              " ['110', '#'],\n",
              " ['111', '#'],\n",
              " ['112', '1'],\n",
              " ['113', '#'],\n",
              " ['114', '1'],\n",
              " ['115', '1'],\n",
              " ['116', '#'],\n",
              " ['117', '#'],\n",
              " ['118', '#'],\n",
              " ['119', '#'],\n",
              " ['120', '1'],\n",
              " ['121', '1'],\n",
              " ['122', '#'],\n",
              " ['123', '#'],\n",
              " ['124', '#'],\n",
              " ['125', '#'],\n",
              " ['126', '#'],\n",
              " ['127', '1'],\n",
              " ['128', '1'],\n",
              " ['129', '1'],\n",
              " ['130', '1'],\n",
              " ['131', '1'],\n",
              " ['132', '1'],\n",
              " ['133', '#'],\n",
              " ['134', '#'],\n",
              " ['135', '#'],\n",
              " ['136', '1'],\n",
              " ['137', '1'],\n",
              " ['138', '1'],\n",
              " ['139', '#'],\n",
              " ['140', '#'],\n",
              " ['141', '#'],\n",
              " ['142', '1'],\n",
              " ['143', '#'],\n",
              " ['144', '#'],\n",
              " ['145', '1'],\n",
              " ['146', '1'],\n",
              " ['147', '1'],\n",
              " ['148', '1'],\n",
              " ['149', '#'],\n",
              " ['150', '#'],\n",
              " ['151', '#'],\n",
              " ['152', '#'],\n",
              " ['153', '1'],\n",
              " ['154', '#'],\n",
              " ['155', '1'],\n",
              " ['156', '1'],\n",
              " ['157', '#'],\n",
              " ['158', '#'],\n",
              " ['159', '#'],\n",
              " ['160', '#']]"
            ]
          },
          "metadata": {},
          "execution_count": 108
        }
      ]
    },
    {
      "cell_type": "code",
      "source": [
        "int('44')"
      ],
      "metadata": {
        "colab": {
          "base_uri": "https://localhost:8080/"
        },
        "id": "78nF2TJsVpnK",
        "outputId": "ccbbc809-fca1-42d8-f812-9aabe4270537"
      },
      "execution_count": 50,
      "outputs": [
        {
          "output_type": "execute_result",
          "data": {
            "text/plain": [
              "44"
            ]
          },
          "metadata": {},
          "execution_count": 50
        }
      ]
    },
    {
      "cell_type": "code",
      "source": [],
      "metadata": {
        "id": "fijXuwZeWb30"
      },
      "execution_count": null,
      "outputs": []
    }
  ]
}