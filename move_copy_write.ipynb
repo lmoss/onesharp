{
  "nbformat": 4,
  "nbformat_minor": 0,
  "metadata": {
    "colab": {
      "provenance": [],
      "authorship_tag": "ABX9TyN8htXs3acggxiAiVf67cqg",
      "include_colab_link": true
    },
    "kernelspec": {
      "name": "python3",
      "display_name": "Python 3"
    },
    "language_info": {
      "name": "python"
    }
  },
  "cells": [
    {
      "cell_type": "markdown",
      "metadata": {
        "id": "view-in-github",
        "colab_type": "text"
      },
      "source": [
        "<a href=\"https://colab.research.google.com/github/lmoss/onesharp/blob/main/move_copy_write.ipynb\" target=\"_parent\"><img src=\"https://colab.research.google.com/assets/colab-badge.svg\" alt=\"Open In Colab\"/></a>"
      ]
    },
    {
      "cell_type": "markdown",
      "source": [
        "# Simple programs\n",
        "\n",
        "We have seen the syntax of 1# instructions \n",
        "[in a previous notebook](syntax-summary).\n",
        "We turn to the simplest programs in the language."
      ],
      "metadata": {
        "id": "8C7LMBIh5Hmr"
      }
    },
    {
      "cell_type": "code",
      "source": [
        "!python -m pip install -U setuptools\n",
        "!python -m pip install -U git+https://github.com/lmoss/onesharp.git@main\n",
        "from onesharp.interpreter.interpreter import *"
      ],
      "metadata": {
        "colab": {
          "base_uri": "https://localhost:8080/"
        },
        "id": "ZUEj49fx7gDq",
        "outputId": "38f7a348-3db8-4854-890d-5d760c3330e4"
      },
      "execution_count": 5,
      "outputs": [
        {
          "output_type": "stream",
          "name": "stdout",
          "text": [
            "Looking in indexes: https://pypi.org/simple, https://us-python.pkg.dev/colab-wheels/public/simple/\n",
            "Requirement already satisfied: setuptools in /usr/local/lib/python3.8/dist-packages (65.6.3)\n",
            "Looking in indexes: https://pypi.org/simple, https://us-python.pkg.dev/colab-wheels/public/simple/\n",
            "Collecting git+https://github.com/lmoss/onesharp.git@main\n",
            "  Cloning https://github.com/lmoss/onesharp.git (to revision main) to /tmp/pip-req-build-sdyty97o\n",
            "  Running command git clone -q https://github.com/lmoss/onesharp.git /tmp/pip-req-build-sdyty97o\n",
            "  Installing build dependencies ... \u001b[?25l\u001b[?25hdone\n",
            "  Getting requirements to build wheel ... \u001b[?25l\u001b[?25hdone\n",
            "  Installing backend dependencies ... \u001b[?25l\u001b[?25hdone\n",
            "    Preparing wheel metadata ... \u001b[?25l\u001b[?25hdone\n",
            "Requirement already satisfied: pandas in /usr/local/lib/python3.8/dist-packages (from onesharp==0.0.0) (1.3.5)\n",
            "Requirement already satisfied: numpy in /usr/local/lib/python3.8/dist-packages (from onesharp==0.0.0) (1.21.6)\n",
            "Requirement already satisfied: IPython in /usr/local/lib/python3.8/dist-packages (from onesharp==0.0.0) (7.9.0)\n",
            "Requirement already satisfied: jedi>=0.10 in /usr/local/lib/python3.8/dist-packages (from IPython->onesharp==0.0.0) (0.18.2)\n",
            "Requirement already satisfied: prompt-toolkit<2.1.0,>=2.0.0 in /usr/local/lib/python3.8/dist-packages (from IPython->onesharp==0.0.0) (2.0.10)\n",
            "Requirement already satisfied: decorator in /usr/local/lib/python3.8/dist-packages (from IPython->onesharp==0.0.0) (4.4.2)\n",
            "Requirement already satisfied: setuptools>=18.5 in /usr/local/lib/python3.8/dist-packages (from IPython->onesharp==0.0.0) (65.6.3)\n",
            "Requirement already satisfied: pickleshare in /usr/local/lib/python3.8/dist-packages (from IPython->onesharp==0.0.0) (0.7.5)\n",
            "Requirement already satisfied: backcall in /usr/local/lib/python3.8/dist-packages (from IPython->onesharp==0.0.0) (0.2.0)\n",
            "Requirement already satisfied: pexpect in /usr/local/lib/python3.8/dist-packages (from IPython->onesharp==0.0.0) (4.8.0)\n",
            "Requirement already satisfied: traitlets>=4.2 in /usr/local/lib/python3.8/dist-packages (from IPython->onesharp==0.0.0) (5.7.1)\n",
            "Requirement already satisfied: pygments in /usr/local/lib/python3.8/dist-packages (from IPython->onesharp==0.0.0) (2.6.1)\n",
            "Requirement already satisfied: parso<0.9.0,>=0.8.0 in /usr/local/lib/python3.8/dist-packages (from jedi>=0.10->IPython->onesharp==0.0.0) (0.8.3)\n",
            "Requirement already satisfied: six>=1.9.0 in /usr/local/lib/python3.8/dist-packages (from prompt-toolkit<2.1.0,>=2.0.0->IPython->onesharp==0.0.0) (1.15.0)\n",
            "Requirement already satisfied: wcwidth in /usr/local/lib/python3.8/dist-packages (from prompt-toolkit<2.1.0,>=2.0.0->IPython->onesharp==0.0.0) (0.2.5)\n",
            "Requirement already satisfied: python-dateutil>=2.7.3 in /usr/local/lib/python3.8/dist-packages (from pandas->onesharp==0.0.0) (2.8.2)\n",
            "Requirement already satisfied: pytz>=2017.3 in /usr/local/lib/python3.8/dist-packages (from pandas->onesharp==0.0.0) (2022.6)\n",
            "Requirement already satisfied: ptyprocess>=0.5 in /usr/local/lib/python3.8/dist-packages (from pexpect->IPython->onesharp==0.0.0) (0.7.0)\n"
          ]
        }
      ]
    },
    {
      "cell_type": "markdown",
      "source": [
        "# Example: A simple loop\n",
        "\n",
        "The first is a program called ```move_2_1```.   It is designed to move the contents of R2 onto the end of R1, emptying out R2 in the process.  Written out in full it is \n",
        "\n",
        "```11#####111111###111###1##1111####1#111111####```\n",
        "\n",
        "But we have defined ```move_2_1``` to be this program, and so you can run it as shown below.\n",
        "\n",
        "You can try the program by entering the following line.   In it\n"
      ],
      "metadata": {
        "id": "Q1NfvunUI9ui"
      }
    },
    {
      "cell_type": "code",
      "source": [
        "onesharp(move_2_1, ['11#','####1##11111'])"
      ],
      "metadata": {
        "id": "JnrcdeAl_Kmm",
        "outputId": "3f228e38-08a4-4272-c30d-0d1a03639eab",
        "colab": {
          "base_uri": "https://localhost:8080/",
          "height": 35
        }
      },
      "execution_count": 7,
      "outputs": [
        {
          "output_type": "execute_result",
          "data": {
            "text/plain": [
              "'11#####1##11111'"
            ],
            "application/vnd.google.colaboratory.intrinsic+json": {
              "type": "string"
            }
          },
          "metadata": {},
          "execution_count": 7
        }
      ]
    },
    {
      "cell_type": "markdown",
      "source": [
        "The words in the brackets are the contents of registers 1 and 2 when we start.  Again, our program moved the contents of R2 onto the end of R1, emptying R2.  You should want to change the opening contents of R1 and R2 in the cell above before going on."
      ],
      "metadata": {
        "id": "ZEn2WieG_RJY"
      }
    },
    {
      "cell_type": "markdown",
      "source": [
        "It is hard to understand a program of 1#, but we have tools to help.  First, we can *parse* the program.  Parsing means dividing the program into instructions."
      ],
      "metadata": {
        "id": "0YHJpDX7_pDf"
      }
    },
    {
      "cell_type": "code",
      "source": [
        "parse(move_2_1)"
      ],
      "metadata": {
        "colab": {
          "base_uri": "https://localhost:8080/"
        },
        "id": "vc_brPCuG_qG",
        "outputId": "a8c37f98-ab93-451e-ae5b-29dc38ef68db"
      },
      "execution_count": 6,
      "outputs": [
        {
          "output_type": "execute_result",
          "data": {
            "text/plain": [
              "['11#####', '111111###', '111###', '1##', '1111####', '1#', '111111####']"
            ]
          },
          "metadata": {},
          "execution_count": 6
        }
      ]
    },
    {
      "cell_type": "markdown",
      "source": [
        "Even better, we can get an parse with glosses, as follows:"
      ],
      "metadata": {
        "id": "ezY3wZ1BHCq_"
      }
    },
    {
      "cell_type": "code",
      "source": [
        "parse_explain(move_2_1)"
      ],
      "metadata": {
        "colab": {
          "base_uri": "https://localhost:8080/",
          "height": 269
        },
        "id": "S-4FiMeLHFcP",
        "outputId": "182a9974-e843-4eb4-f32c-ece4236b9eca"
      },
      "execution_count": 8,
      "outputs": [
        {
          "output_type": "display_data",
          "data": {
            "text/plain": [
              "<pandas.io.formats.style.Styler at 0x7fc683c93af0>"
            ],
            "text/html": [
              "<style type=\"text/css\">\n",
              "#T_b0a91_row0_col0, #T_b0a91_row0_col1, #T_b0a91_row1_col0, #T_b0a91_row1_col1, #T_b0a91_row2_col0, #T_b0a91_row2_col1, #T_b0a91_row3_col0, #T_b0a91_row3_col1, #T_b0a91_row4_col0, #T_b0a91_row4_col1, #T_b0a91_row5_col0, #T_b0a91_row5_col1, #T_b0a91_row6_col0, #T_b0a91_row6_col1 {\n",
              "  background-color: #C9DFEC;\n",
              "  text-align: left;\n",
              "}\n",
              "</style>\n",
              "<table id=\"T_b0a91_\" class=\"dataframe\">\n",
              "  <thead>\n",
              "    <tr>\n",
              "      <th class=\"blank level0\" >&nbsp;</th>\n",
              "      <th class=\"col_heading level0 col0\" >instruction</th>\n",
              "      <th class=\"col_heading level0 col1\" >explanation</th>\n",
              "    </tr>\n",
              "  </thead>\n",
              "  <tbody>\n",
              "    <tr>\n",
              "      <th id=\"T_b0a91_level0_row0\" class=\"row_heading level0 row0\" >1</th>\n",
              "      <td id=\"T_b0a91_row0_col0\" class=\"data row0 col0\" >11#####</td>\n",
              "      <td id=\"T_b0a91_row0_col1\" class=\"data row0 col1\" >cases on R2</td>\n",
              "    </tr>\n",
              "    <tr>\n",
              "      <th id=\"T_b0a91_level0_row1\" class=\"row_heading level0 row1\" >2</th>\n",
              "      <td id=\"T_b0a91_row1_col0\" class=\"data row1 col0\" >111111###</td>\n",
              "      <td id=\"T_b0a91_row1_col1\" class=\"data row1 col1\" >go forward 6 to instruction 8</td>\n",
              "    </tr>\n",
              "    <tr>\n",
              "      <th id=\"T_b0a91_level0_row2\" class=\"row_heading level0 row2\" >3</th>\n",
              "      <td id=\"T_b0a91_row2_col0\" class=\"data row2 col0\" >111###</td>\n",
              "      <td id=\"T_b0a91_row2_col1\" class=\"data row2 col1\" >go forward 3 to instruction 6</td>\n",
              "    </tr>\n",
              "    <tr>\n",
              "      <th id=\"T_b0a91_level0_row3\" class=\"row_heading level0 row3\" >4</th>\n",
              "      <td id=\"T_b0a91_row3_col0\" class=\"data row3 col0\" >1##</td>\n",
              "      <td id=\"T_b0a91_row3_col1\" class=\"data row3 col1\" >add # to R1</td>\n",
              "    </tr>\n",
              "    <tr>\n",
              "      <th id=\"T_b0a91_level0_row4\" class=\"row_heading level0 row4\" >5</th>\n",
              "      <td id=\"T_b0a91_row4_col0\" class=\"data row4 col0\" >1111####</td>\n",
              "      <td id=\"T_b0a91_row4_col1\" class=\"data row4 col1\" >go backward 4 to instruction 1</td>\n",
              "    </tr>\n",
              "    <tr>\n",
              "      <th id=\"T_b0a91_level0_row5\" class=\"row_heading level0 row5\" >6</th>\n",
              "      <td id=\"T_b0a91_row5_col0\" class=\"data row5 col0\" >1#</td>\n",
              "      <td id=\"T_b0a91_row5_col1\" class=\"data row5 col1\" >add 1 to R1</td>\n",
              "    </tr>\n",
              "    <tr>\n",
              "      <th id=\"T_b0a91_level0_row6\" class=\"row_heading level0 row6\" >7</th>\n",
              "      <td id=\"T_b0a91_row6_col0\" class=\"data row6 col0\" >111111####</td>\n",
              "      <td id=\"T_b0a91_row6_col1\" class=\"data row6 col1\" >go backward 6 to instruction 1</td>\n",
              "    </tr>\n",
              "  </tbody>\n",
              "</table>\n"
            ]
          },
          "metadata": {}
        }
      ]
    },
    {
      "cell_type": "markdown",
      "source": [
        "The program ```move_2_1``` is a loop, and we can further add to the explanations in the chart.\n"
      ],
      "metadata": {
        "id": "iv_DHKDpHK1A"
      }
    },
    {
      "cell_type": "code",
      "source": [
        "#@title\n",
        "j = [['11#####', 'cases on R2', ],\n",
        " ['111111###', \"register 2 is empty: go forward 6 to instruction 8 (we're done)\"],\n",
        " ['111###', 'first symbol is a 1: go forward 3 to instruction 6 (to the tan section)'],\n",
        " ['1##', 'first symbol is a #: add # to R1'],\n",
        " ['1111####', 'go backward 4 to instruction 1 (to the top)'],\n",
        " ['1#', 'add 1 to R1'],\n",
        " ['111111####', 'go backward 6 to instruction 1 (to the top)']\n",
        "]\n",
        " \n",
        "df = pd.DataFrame(j,columns=[\"instruction\", 'explanation'])\n",
        "df.index = np.arange(1, len(df) + 1)\n",
        "df.style.set_properties(**{'border': '1.3px solid green',\n",
        "                          'color': 'magenta'})\n",
        "n = len(df.columns)\n",
        "df.style.set_properties(**{'text-align': 'left'})\n",
        "#df.style.apply(lambda x: [\"background-color: red\"]*n if x['instruction']== 'Reading' else [\"background-color: white\"]*n, axis = 1)\n",
        "#df.style.apply(lambda x: [\"background-color: #B0E0E6\"]*n if x['instruction'] in ['1##','1111####'] elif [\"background-color: #D4B48C\"]*n if x['instruction'] in ['1#','111111####'] else [\"background-color: #FFFFCC\"]*n, axis = 1)\n",
        "df.style.apply(lambda x: [\"background-color: #B0E0E6\"]*n if x['instruction'] in ['1##','1111####']  else [\"background-color: #FFFFCC\"]*n, axis = 1)\n",
        "df.style.apply(lambda x: \n",
        "               [\"background-color: #B0E0E6\"]*n if x['instruction'] in ['1##','1111####'] \n",
        "               else [\"background-color: #D4B48C\"]*n if x['instruction'] in ['1#','111111####']\n",
        "               else [\"background-color: #FFFFCC\"]*n, axis = 1)\n"
      ],
      "metadata": {
        "colab": {
          "base_uri": "https://localhost:8080/",
          "height": 269
        },
        "id": "r0RbyVhEHLNl",
        "outputId": "a7cdbc5d-2467-4373-f008-083cdbdbbfa1"
      },
      "execution_count": 9,
      "outputs": [
        {
          "output_type": "execute_result",
          "data": {
            "text/plain": [
              "<pandas.io.formats.style.Styler at 0x7fc683c93160>"
            ],
            "text/html": [
              "<style type=\"text/css\">\n",
              "#T_2340d_row0_col0, #T_2340d_row0_col1, #T_2340d_row1_col0, #T_2340d_row1_col1, #T_2340d_row2_col0, #T_2340d_row2_col1 {\n",
              "  background-color: #FFFFCC;\n",
              "}\n",
              "#T_2340d_row3_col0, #T_2340d_row3_col1, #T_2340d_row4_col0, #T_2340d_row4_col1 {\n",
              "  background-color: #B0E0E6;\n",
              "}\n",
              "#T_2340d_row5_col0, #T_2340d_row5_col1, #T_2340d_row6_col0, #T_2340d_row6_col1 {\n",
              "  background-color: #D4B48C;\n",
              "}\n",
              "</style>\n",
              "<table id=\"T_2340d_\" class=\"dataframe\">\n",
              "  <thead>\n",
              "    <tr>\n",
              "      <th class=\"blank level0\" >&nbsp;</th>\n",
              "      <th class=\"col_heading level0 col0\" >instruction</th>\n",
              "      <th class=\"col_heading level0 col1\" >explanation</th>\n",
              "    </tr>\n",
              "  </thead>\n",
              "  <tbody>\n",
              "    <tr>\n",
              "      <th id=\"T_2340d_level0_row0\" class=\"row_heading level0 row0\" >1</th>\n",
              "      <td id=\"T_2340d_row0_col0\" class=\"data row0 col0\" >11#####</td>\n",
              "      <td id=\"T_2340d_row0_col1\" class=\"data row0 col1\" >cases on R2</td>\n",
              "    </tr>\n",
              "    <tr>\n",
              "      <th id=\"T_2340d_level0_row1\" class=\"row_heading level0 row1\" >2</th>\n",
              "      <td id=\"T_2340d_row1_col0\" class=\"data row1 col0\" >111111###</td>\n",
              "      <td id=\"T_2340d_row1_col1\" class=\"data row1 col1\" >register 2 is empty: go forward 6 to instruction 8 (we're done)</td>\n",
              "    </tr>\n",
              "    <tr>\n",
              "      <th id=\"T_2340d_level0_row2\" class=\"row_heading level0 row2\" >3</th>\n",
              "      <td id=\"T_2340d_row2_col0\" class=\"data row2 col0\" >111###</td>\n",
              "      <td id=\"T_2340d_row2_col1\" class=\"data row2 col1\" >first symbol is a 1: go forward 3 to instruction 6 (to the tan section)</td>\n",
              "    </tr>\n",
              "    <tr>\n",
              "      <th id=\"T_2340d_level0_row3\" class=\"row_heading level0 row3\" >4</th>\n",
              "      <td id=\"T_2340d_row3_col0\" class=\"data row3 col0\" >1##</td>\n",
              "      <td id=\"T_2340d_row3_col1\" class=\"data row3 col1\" >first symbol is a #: add # to R1</td>\n",
              "    </tr>\n",
              "    <tr>\n",
              "      <th id=\"T_2340d_level0_row4\" class=\"row_heading level0 row4\" >5</th>\n",
              "      <td id=\"T_2340d_row4_col0\" class=\"data row4 col0\" >1111####</td>\n",
              "      <td id=\"T_2340d_row4_col1\" class=\"data row4 col1\" >go backward 4 to instruction 1 (to the top)</td>\n",
              "    </tr>\n",
              "    <tr>\n",
              "      <th id=\"T_2340d_level0_row5\" class=\"row_heading level0 row5\" >6</th>\n",
              "      <td id=\"T_2340d_row5_col0\" class=\"data row5 col0\" >1#</td>\n",
              "      <td id=\"T_2340d_row5_col1\" class=\"data row5 col1\" >add 1 to R1</td>\n",
              "    </tr>\n",
              "    <tr>\n",
              "      <th id=\"T_2340d_level0_row6\" class=\"row_heading level0 row6\" >7</th>\n",
              "      <td id=\"T_2340d_row6_col0\" class=\"data row6 col0\" >111111####</td>\n",
              "      <td id=\"T_2340d_row6_col1\" class=\"data row6 col1\" >go backward 6 to instruction 1 (to the top)</td>\n",
              "    </tr>\n",
              "  </tbody>\n",
              "</table>\n"
            ]
          },
          "metadata": {},
          "execution_count": 9
        }
      ]
    },
    {
      "cell_type": "markdown",
      "source": [
        "\n",
        "\n",
        "If R2 is empty, it goes to line 8.  Since the program itself only has 7 lines, this means that we have transferred *out* of the program.  We say that the program *halts* at that point.\n",
        "\n",
        "If the first symbol of R2 is a 1, then the second instruction after the case instruction at the top transfers us down to line 6. This part of the program would then add a 1 to R1 and return to the very beginning of the program.\n",
        "\n",
        "If the first symbol of R2 is a #, then we delete that # and go three steps forward, to line 4.  This part of the program would then add a # to R1 and return to the very beginning of the program.\n",
        "\n",
        "The point is that by going around loop repeatedly, we transfer the contents of R2 symbol-by-symbol to R1.\n",
        "Similarly, whenever m and n are different numbers, we can build a program ```move_m_n```. This program would write the contents of Rm onto the end of Rn, emptying Rm in the process.\n",
        "\n",
        "\n",
        "\n"
      ],
      "metadata": {
        "id": "QTzah7w_HPuf"
      }
    },
    {
      "cell_type": "markdown",
      "source": [
        "## Modifying our simple loop\n",
        "\n",
        "Suppose we want to modify move_2_1 to get move_3_4, a program which would copy the contents of R3 onto the end of R4 (and empty R4) in the process. Here is a way to do this which shows off some command-line tools that are part of the working environment of this course."
      ],
      "metadata": {
        "id": "zwwhQ5vhHSTG"
      }
    },
    {
      "cell_type": "code",
      "source": [
        "parse(move_2_1)"
      ],
      "metadata": {
        "id": "OF19Znw8HW6K"
      },
      "execution_count": null,
      "outputs": []
    },
    {
      "cell_type": "markdown",
      "source": [
        "When you enter the cell above, you get the program ```move_2_1``` as a Python *list* of instructions. We have seen the explanation of this parse above.  What we want to do in ```move_3_4``` is to change the overall \"case\" instruction in the beginning from ```11#####``` to ```111#####```.   And each time our program writes to a register, we want that register to be R4, not R1.  So we make two changes."
      ],
      "metadata": {
        "id": "v3a4Q88MHZfr"
      }
    },
    {
      "cell_type": "code",
      "source": [
        "unparse(pre_program)"
      ],
      "metadata": {
        "id": "nUBPolu9HbSo"
      },
      "execution_count": null,
      "outputs": []
    },
    {
      "cell_type": "markdown",
      "source": [
        "We can check this out by entering it into the interpreter.  We could either copy the output line (without the quotes), and go up to the top of this notebook.  Alternatively, we could move the interpreter down to here using an up-arrow command that you will need to find.\n"
      ],
      "metadata": {
        "id": "4lB7XVf6HfvT"
      }
    },
    {
      "cell_type": "markdown",
      "source": [
        "### Exercise 5\n",
        "\n",
        "Write a program which takes the contents of R1 and adds them to the ends of *both* R2 and R3.\n"
      ],
      "metadata": {
        "id": "-6HzTRCIHirm"
      }
    },
    {
      "cell_type": "markdown",
      "source": [
        "### Exercise 6\n",
        "\n",
        "Write a program that clears out R1, leaving it empty.\n"
      ],
      "metadata": {
        "id": "RwKmd0ubHnBp"
      }
    },
    {
      "cell_type": "markdown",
      "source": [
        "### Exercise 7\n",
        "\n",
        "Write a program that clears R3 and then swaps the contents of R1 and R2 (using the now-empty R3).\n",
        "\n"
      ],
      "metadata": {
        "id": "vGMfoJ02HqNX"
      }
    },
    {
      "cell_type": "markdown",
      "source": [
        "### Exercise 8\n",
        "\n",
        "Write a program p that adds a 1 to the beginning of R1, assuming that R2 is empty. (For example, if R1 has ##1 to start, then running p would result in R1 having 1##1.) Of course, your program may use R2!"
      ],
      "metadata": {
        "id": "F3QwMdfwHtDq"
      }
    },
    {
      "cell_type": "markdown",
      "source": [
        "```{dropdown} Here's my dropdown\n",
        "And here's my dropdown content\n",
        "```"
      ],
      "metadata": {
        "id": "YlxYsbKuIYyx"
      }
    },
    {
      "cell_type": "markdown",
      "source": [
        "```{note}\n",
        ":class: dropdown\n",
        "The note body will be hidden!\n",
        "```"
      ],
      "metadata": {
        "id": "HzcarMPjIadh"
      }
    },
    {
      "cell_type": "markdown",
      "source": [
        "```{solution}\n",
        ":class: dropdown\n",
        "This would be the solution to all my problems!\n",
        "```"
      ],
      "metadata": {
        "id": "-0nejxWLIhhT"
      }
    },
    {
      "cell_type": "code",
      "source": [],
      "metadata": {
        "id": "yb0plf7sIlj2"
      },
      "execution_count": null,
      "outputs": []
    }
  ]
}