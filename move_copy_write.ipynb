{
  "nbformat": 4,
  "nbformat_minor": 0,
  "metadata": {
    "colab": {
      "provenance": [],
      "authorship_tag": "ABX9TyN9UGjf+OO9oqtRw0YKpy5d",
      "include_colab_link": true
    },
    "kernelspec": {
      "name": "python3",
      "display_name": "Python 3"
    },
    "language_info": {
      "name": "python"
    }
  },
  "cells": [
    {
      "cell_type": "markdown",
      "metadata": {
        "id": "view-in-github",
        "colab_type": "text"
      },
      "source": [
        "<a href=\"https://colab.research.google.com/github/lmoss/onesharp/blob/main/move_copy_write.ipynb\" target=\"_parent\"><img src=\"https://colab.research.google.com/assets/colab-badge.svg\" alt=\"Open In Colab\"/></a>"
      ]
    },
    {
      "cell_type": "markdown",
      "source": [
        "# Three simple programs\n",
        "\n",
        "\n",
        "We have seen the syntax of 1# instructions \n",
        "[in a previous notebook](syntax-summary).  The next step is to examine simple programs. \n"
      ],
      "metadata": {
        "id": "L0Oz6MMEQbIw"
      }
    },
    {
      "cell_type": "code",
      "source": [
        "\n",
        "!python -m pip install -U setuptools\n",
        "!python -m pip install -U git+https://github.com/lmoss/onesharp.git@main\n",
        "from onesharp.interpreter.interpreter import *\n"
      ],
      "metadata": {
        "id": "eCFgpr9DSlxN",
        "outputId": "51f85aad-d682-4998-ff78-11e5802a6f35",
        "colab": {
          "base_uri": "https://localhost:8080/",
          "height": 867
        }
      },
      "execution_count": 20,
      "outputs": [
        {
          "output_type": "stream",
          "name": "stdout",
          "text": [
            "Looking in indexes: https://pypi.org/simple, https://us-python.pkg.dev/colab-wheels/public/simple/\n",
            "Requirement already satisfied: setuptools in /usr/local/lib/python3.8/dist-packages (65.6.3)\n",
            "Looking in indexes: https://pypi.org/simple, https://us-python.pkg.dev/colab-wheels/public/simple/\n",
            "Collecting git+https://github.com/lmoss/onesharp.git@main\n",
            "  Cloning https://github.com/lmoss/onesharp.git (to revision main) to /tmp/pip-req-build-ldqwbpic\n",
            "  Running command git clone -q https://github.com/lmoss/onesharp.git /tmp/pip-req-build-ldqwbpic\n",
            "  Installing build dependencies ... \u001b[?25l\u001b[?25hdone\n",
            "  Getting requirements to build wheel ... \u001b[?25l\u001b[?25hdone\n",
            "  Installing backend dependencies ... \u001b[?25l\u001b[?25hdone\n",
            "    Preparing wheel metadata ... \u001b[?25l\u001b[?25hdone\n",
            "Requirement already satisfied: pandas in /usr/local/lib/python3.8/dist-packages (from onesharp==0.0.0) (1.3.5)\n",
            "Requirement already satisfied: numpy in /usr/local/lib/python3.8/dist-packages (from onesharp==0.0.0) (1.21.6)\n",
            "Requirement already satisfied: IPython in /usr/local/lib/python3.8/dist-packages (from onesharp==0.0.0) (7.9.0)\n",
            "Requirement already satisfied: traitlets>=4.2 in /usr/local/lib/python3.8/dist-packages (from IPython->onesharp==0.0.0) (5.7.1)\n",
            "Requirement already satisfied: backcall in /usr/local/lib/python3.8/dist-packages (from IPython->onesharp==0.0.0) (0.2.0)\n",
            "Requirement already satisfied: prompt-toolkit<2.1.0,>=2.0.0 in /usr/local/lib/python3.8/dist-packages (from IPython->onesharp==0.0.0) (2.0.10)\n",
            "Requirement already satisfied: pexpect in /usr/local/lib/python3.8/dist-packages (from IPython->onesharp==0.0.0) (4.8.0)\n",
            "Requirement already satisfied: jedi>=0.10 in /usr/local/lib/python3.8/dist-packages (from IPython->onesharp==0.0.0) (0.18.2)\n",
            "Requirement already satisfied: pickleshare in /usr/local/lib/python3.8/dist-packages (from IPython->onesharp==0.0.0) (0.7.5)\n",
            "Requirement already satisfied: decorator in /usr/local/lib/python3.8/dist-packages (from IPython->onesharp==0.0.0) (4.4.2)\n",
            "Requirement already satisfied: pygments in /usr/local/lib/python3.8/dist-packages (from IPython->onesharp==0.0.0) (2.6.1)\n",
            "Requirement already satisfied: setuptools>=18.5 in /usr/local/lib/python3.8/dist-packages (from IPython->onesharp==0.0.0) (65.6.3)\n",
            "Requirement already satisfied: parso<0.9.0,>=0.8.0 in /usr/local/lib/python3.8/dist-packages (from jedi>=0.10->IPython->onesharp==0.0.0) (0.8.3)\n",
            "Requirement already satisfied: six>=1.9.0 in /usr/local/lib/python3.8/dist-packages (from prompt-toolkit<2.1.0,>=2.0.0->IPython->onesharp==0.0.0) (1.15.0)\n",
            "Requirement already satisfied: wcwidth in /usr/local/lib/python3.8/dist-packages (from prompt-toolkit<2.1.0,>=2.0.0->IPython->onesharp==0.0.0) (0.2.5)\n",
            "Requirement already satisfied: python-dateutil>=2.7.3 in /usr/local/lib/python3.8/dist-packages (from pandas->onesharp==0.0.0) (2.8.2)\n",
            "Requirement already satisfied: pytz>=2017.3 in /usr/local/lib/python3.8/dist-packages (from pandas->onesharp==0.0.0) (2022.6)\n",
            "Requirement already satisfied: ptyprocess>=0.5 in /usr/local/lib/python3.8/dist-packages (from pexpect->IPython->onesharp==0.0.0) (0.7.0)\n"
          ]
        },
        {
          "output_type": "error",
          "ename": "ModuleNotFoundError",
          "evalue": "ignored",
          "traceback": [
            "\u001b[0;31m---------------------------------------------------------------------------\u001b[0m",
            "\u001b[0;31mModuleNotFoundError\u001b[0m                       Traceback (most recent call last)",
            "\u001b[0;32m<ipython-input-20-75d6a1a73e3e>\u001b[0m in \u001b[0;36m<module>\u001b[0;34m\u001b[0m\n\u001b[1;32m      1\u001b[0m \u001b[0mget_ipython\u001b[0m\u001b[0;34m(\u001b[0m\u001b[0;34m)\u001b[0m\u001b[0;34m.\u001b[0m\u001b[0msystem\u001b[0m\u001b[0;34m(\u001b[0m\u001b[0;34m'python -m pip install -U setuptools'\u001b[0m\u001b[0;34m)\u001b[0m\u001b[0;34m\u001b[0m\u001b[0;34m\u001b[0m\u001b[0m\n\u001b[1;32m      2\u001b[0m \u001b[0mget_ipython\u001b[0m\u001b[0;34m(\u001b[0m\u001b[0;34m)\u001b[0m\u001b[0;34m.\u001b[0m\u001b[0msystem\u001b[0m\u001b[0;34m(\u001b[0m\u001b[0;34m'python -m pip install -U git+https://github.com/lmoss/onesharp.git@main'\u001b[0m\u001b[0;34m)\u001b[0m\u001b[0;34m\u001b[0m\u001b[0;34m\u001b[0m\u001b[0m\n\u001b[0;32m----> 3\u001b[0;31m \u001b[0;32mfrom\u001b[0m \u001b[0monesharp\u001b[0m\u001b[0;34m.\u001b[0m\u001b[0minterpreter\u001b[0m\u001b[0;34m.\u001b[0m\u001b[0minterpreter\u001b[0m \u001b[0;32mimport\u001b[0m \u001b[0;34m*\u001b[0m\u001b[0;34m\u001b[0m\u001b[0;34m\u001b[0m\u001b[0m\n\u001b[0m",
            "\u001b[0;31mModuleNotFoundError\u001b[0m: No module named 'onesharp'",
            "",
            "\u001b[0;31m---------------------------------------------------------------------------\u001b[0;32m\nNOTE: If your import is failing due to a missing package, you can\nmanually install dependencies using either !pip or !apt.\n\nTo view examples of installing some common dependencies, click the\n\"Open Examples\" button below.\n\u001b[0;31m---------------------------------------------------------------------------\u001b[0m\n"
          ],
          "errorDetails": {
            "actions": [
              {
                "action": "open_url",
                "actionText": "Open Examples",
                "url": "/notebooks/snippets/importing_libraries.ipynb"
              }
            ]
          }
        }
      ]
    },
    {
      "cell_type": "markdown",
      "source": [
        "## Moving register contents\n",
        "\n",
        "Here is a program called ```move_2_1```.   It is designed to move the contents of R2 onto the end of R1, emptying out R2 in the process.  Here it is \n",
        "\n",
        "```11#####111111###111###1##1111####1#111111####```\n",
        "\n",
        "You can try the program out in the notebook cell as shown below.\n"
      ],
      "metadata": {
        "id": "Q1NfvunUI9ui"
      }
    },
    {
      "cell_type": "code",
      "source": [
        "onesharp('11#####111111###111###1##1111####1#111111####', ['11#', '#11##'])"
      ],
      "metadata": {
        "id": "nYTJwJPARb0Y",
        "outputId": "ae0cf673-dd47-4313-cc26-b675fb461e57",
        "colab": {
          "base_uri": "https://localhost:8080/",
          "height": 169
        }
      },
      "execution_count": 12,
      "outputs": [
        {
          "output_type": "error",
          "ename": "NameError",
          "evalue": "ignored",
          "traceback": [
            "\u001b[0;31m---------------------------------------------------------------------------\u001b[0m",
            "\u001b[0;31mNameError\u001b[0m                                 Traceback (most recent call last)",
            "\u001b[0;32m<ipython-input-12-049e5adf8028>\u001b[0m in \u001b[0;36m<module>\u001b[0;34m\u001b[0m\n\u001b[0;32m----> 1\u001b[0;31m \u001b[0monesharp\u001b[0m\u001b[0;34m(\u001b[0m\u001b[0;34m'11#####111111###111###1##1111####1#111111####'\u001b[0m\u001b[0;34m,\u001b[0m \u001b[0;34m[\u001b[0m\u001b[0;34m'11#'\u001b[0m\u001b[0;34m,\u001b[0m \u001b[0;34m'#11##'\u001b[0m\u001b[0;34m]\u001b[0m\u001b[0;34m)\u001b[0m\u001b[0;34m\u001b[0m\u001b[0;34m\u001b[0m\u001b[0m\n\u001b[0m",
            "\u001b[0;31mNameError\u001b[0m: name 'onesharp' is not defined"
          ]
        }
      ]
    },
    {
      "cell_type": "markdown",
      "source": [
        "To review what is going on here, ```onesharp``` is a Python program that runs 1# programs.  It takes two arguments: first, a program of 1#, and then a list of register contents.   In our case, we provided a list of two inputs, giving us initial values of registers 1 and 2."
      ],
      "metadata": {
        "id": "VQIrzT8fRRXh"
      }
    },
    {
      "cell_type": "markdown",
      "source": [],
      "metadata": {
        "id": "KCbNT_o5Q64h"
      }
    },
    {
      "cell_type": "code",
      "execution_count": null,
      "metadata": {
        "id": "LARbHFYRXGQw"
      },
      "outputs": [],
      "source": [
        "# Example: A simple loop\n",
        "\n",
        "A good way to learn about the different commands is to examine simple programs.  Among these is a program called ```move_2_1```.   It is designed to move the contents of R2 onto the end of R1, emptying out R2 in the process.  Written out in full it is \n",
        "\n",
        "```11#####111111###111###1##1111####1#111111####```\n",
        "\n",
        "You can try the program out by (a) moving the interprer down, using the appropriate commands in the notebook; (b) entering ```move_2_1``` as the program and some random words in R1 and R2 and then running ```move_2_1``` on those inputs.\n",
        "\n",
        "Since it is hard to understand a program of 1#, we have tools to help.  First, we can *parse* the program.  Parsing means dividing the program into instructions."
      ]
    },
    {
      "cell_type": "code",
      "source": [
        "parse(move_2_1)"
      ],
      "metadata": {
        "id": "vc_brPCuG_qG"
      },
      "execution_count": null,
      "outputs": []
    },
    {
      "cell_type": "markdown",
      "source": [
        "Even better, we can get an parse with glosses, as follows:"
      ],
      "metadata": {
        "id": "ezY3wZ1BHCq_"
      }
    },
    {
      "cell_type": "code",
      "source": [
        "parse_explain(move_2_1)"
      ],
      "metadata": {
        "id": "S-4FiMeLHFcP"
      },
      "execution_count": null,
      "outputs": []
    },
    {
      "cell_type": "markdown",
      "source": [
        "The program ```move_2_1``` is a loop, and we can further add to the explanations in the chart.\n"
      ],
      "metadata": {
        "id": "iv_DHKDpHK1A"
      }
    },
    {
      "cell_type": "code",
      "source": [
        "#@title\n",
        "j = [['11#####', 'cases on R2', ],\n",
        " ['111111###', \"register 2 is empty: go forward 6 to instruction 8 (we're done)\"],\n",
        " ['111###', 'first symbol is a 1: go forward 3 to instruction 6 (to the tan section)'],\n",
        " ['1##', 'first symbol is a #: add # to R1'],\n",
        " ['1111####', 'go backward 4 to instruction 1 (to the top)'],\n",
        " ['1#', 'add 1 to R1'],\n",
        " ['111111####', 'go backward 6 to instruction 1 (to the top)']\n",
        "]\n",
        " \n",
        "df = pd.DataFrame(j,columns=[\"instruction\", 'explanation'])\n",
        "df.index = np.arange(1, len(df) + 1)\n",
        "df.style.set_properties(**{'border': '1.3px solid green',\n",
        "                          'color': 'magenta'})\n",
        "n = len(df.columns)\n",
        "df.style.set_properties(**{'text-align': 'left'})\n",
        "#df.style.apply(lambda x: [\"background-color: red\"]*n if x['instruction']== 'Reading' else [\"background-color: white\"]*n, axis = 1)\n",
        "#df.style.apply(lambda x: [\"background-color: #B0E0E6\"]*n if x['instruction'] in ['1##','1111####'] elif [\"background-color: #D4B48C\"]*n if x['instruction'] in ['1#','111111####'] else [\"background-color: #FFFFCC\"]*n, axis = 1)\n",
        "df.style.apply(lambda x: [\"background-color: #B0E0E6\"]*n if x['instruction'] in ['1##','1111####']  else [\"background-color: #FFFFCC\"]*n, axis = 1)\n",
        "df.style.apply(lambda x: \n",
        "               [\"background-color: #B0E0E6\"]*n if x['instruction'] in ['1##','1111####'] \n",
        "               else [\"background-color: #D4B48C\"]*n if x['instruction'] in ['1#','111111####']\n",
        "               else [\"background-color: #FFFFCC\"]*n, axis = 1)\n"
      ],
      "metadata": {
        "id": "r0RbyVhEHLNl"
      },
      "execution_count": null,
      "outputs": []
    },
    {
      "cell_type": "markdown",
      "source": [
        "\n",
        "\n",
        "If R2 is empty, it goes to line 8.  Since the program itself only has 7 lines, this means that we have transferred *out* of the program.  We say that the program *halts* at that point.\n",
        "\n",
        "If the first symbol of R2 is a 1, then the second instruction after the case instruction at the top transfers us down to line 6. This part of the program would then add a 1 to R1 and return to the very beginning of the program.\n",
        "\n",
        "If the first symbol of R2 is a #, then we delete that # and go three steps forward, to line 4.  This part of the program would then add a # to R1 and return to the very beginning of the program.\n",
        "\n",
        "The point is that by going around loop repeatedly, we transfer the contents of R2 symbol-by-symbol to R1.\n",
        "Similarly, whenever m and n are different numbers, we can build a program ```move_m_n```. This program would write the contents of Rm onto the end of Rn, emptying Rm in the process.\n",
        "\n",
        "\n",
        "\n"
      ],
      "metadata": {
        "id": "QTzah7w_HPuf"
      }
    },
    {
      "cell_type": "markdown",
      "source": [
        "## Modifying our simple loop\n",
        "\n",
        "Suppose we want to modify move_2_1 to get move_3_4, a program which would copy the contents of R3 onto the end of R4 (and empty R4) in the process. Here is a way to do this which shows off some command-line tools that are part of the working environment of this course."
      ],
      "metadata": {
        "id": "zwwhQ5vhHSTG"
      }
    },
    {
      "cell_type": "code",
      "source": [
        "parse(move_2_1)"
      ],
      "metadata": {
        "id": "OF19Znw8HW6K"
      },
      "execution_count": null,
      "outputs": []
    },
    {
      "cell_type": "markdown",
      "source": [
        "When you enter the cell above, you get the program ```move_2_1``` as a Python *list* of instructions. We have seen the explanation of this parse above.  What we want to do in ```move_3_4``` is to change the overall \"case\" instruction in the beginning from ```11#####``` to ```111#####```.   And each time our program writes to a register, we want that register to be R4, not R1.  So we make two changes."
      ],
      "metadata": {
        "id": "v3a4Q88MHZfr"
      }
    },
    {
      "cell_type": "code",
      "source": [
        "unparse(pre_program)"
      ],
      "metadata": {
        "id": "nUBPolu9HbSo"
      },
      "execution_count": null,
      "outputs": []
    },
    {
      "cell_type": "markdown",
      "source": [
        "We can check this out by entering it into the interpreter.  We could either copy the output line (without the quotes), and go up to the top of this notebook.  Alternatively, we could move the interpreter down to here using an up-arrow command that you will need to find.\n"
      ],
      "metadata": {
        "id": "4lB7XVf6HfvT"
      }
    },
    {
      "cell_type": "markdown",
      "source": [
        "### Exercise 5\n",
        "\n",
        "Write a program which takes the contents of R1 and adds them to the ends of *both* R2 and R3.\n"
      ],
      "metadata": {
        "id": "-6HzTRCIHirm"
      }
    },
    {
      "cell_type": "markdown",
      "source": [
        "### Exercise 6\n",
        "\n",
        "Write a program that clears out R1, leaving it empty.\n"
      ],
      "metadata": {
        "id": "RwKmd0ubHnBp"
      }
    },
    {
      "cell_type": "markdown",
      "source": [
        "### Exercise 7\n",
        "\n",
        "Write a program that clears R3 and then swaps the contents of R1 and R2 (using the now-empty R3).\n",
        "\n"
      ],
      "metadata": {
        "id": "vGMfoJ02HqNX"
      }
    },
    {
      "cell_type": "markdown",
      "source": [
        "\n",
        "Exercise 8\n",
        "Write a program p that adds a 1 to the beginning of R1, assuming that R2 is empty. (For example, if R1 has ##1 to start, then running p would result in R1 having 1##1.) Of course, your program may use R2!"
      ],
      "metadata": {
        "id": "F3QwMdfwHtDq"
      }
    },
    {
      "cell_type": "markdown",
      "source": [
        "```{dropdown} Here's my dropdown\n",
        "And here's my dropdown content\n",
        "```"
      ],
      "metadata": {
        "id": "YlxYsbKuIYyx"
      }
    },
    {
      "cell_type": "markdown",
      "source": [
        "```{note}\n",
        ":class: dropdown\n",
        "The note body will be hidden!\n",
        "```"
      ],
      "metadata": {
        "id": "HzcarMPjIadh"
      }
    },
    {
      "cell_type": "markdown",
      "source": [
        "```{solution}\n",
        ":class: dropdown\n",
        "This would be the solution to all my problems!\n",
        "```"
      ],
      "metadata": {
        "id": "-0nejxWLIhhT"
      }
    },
    {
      "cell_type": "code",
      "source": [],
      "metadata": {
        "id": "yb0plf7sIlj2"
      },
      "execution_count": null,
      "outputs": []
    }
  ]
}