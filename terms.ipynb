{
  "nbformat": 4,
  "nbformat_minor": 0,
  "metadata": {
    "colab": {
      "provenance": [],
      "authorship_tag": "ABX9TyNa72XYYY6cRQWUkPG9+N1z",
      "include_colab_link": true
    },
    "kernelspec": {
      "name": "python3",
      "display_name": "Python 3"
    },
    "language_info": {
      "name": "python"
    }
  },
  "cells": [
    {
      "cell_type": "markdown",
      "metadata": {
        "id": "view-in-github",
        "colab_type": "text"
      },
      "source": [
        "<a href=\"https://colab.research.google.com/github/lmoss/onesharp/blob/main/terms.ipynb\" target=\"_parent\"><img src=\"https://colab.research.google.com/assets/colab-badge.svg\" alt=\"Open In Colab\"/></a>"
      ]
    },
    {
      "cell_type": "code",
      "execution_count": 85,
      "metadata": {
        "id": "jJ3ywtAxmTiR"
      },
      "outputs": [],
      "source": [
        "class term:\n",
        "    def __init__(self, head,  subterms):\n",
        "        self.head = head\n",
        "        self.subterms = subterms\n",
        "        \n",
        "def flatten(ter):\n",
        "    if ter.head == 'd':\n",
        "      return(['d'])\n",
        "    if ter.head == 'e': \n",
        "      return(['e'])     \n",
        "    else:\n",
        "      return([ter.head]+ [flatten(ter.subterms[0])]  + [flatten(ter.subterms[1])])\n",
        "\n",
        "def nf_check(ter):\n",
        "    if ter.head == 'd':\n",
        "      return(True)\n",
        "    if ter.head == 'e':\n",
        "      return(True)\n",
        "    if ter.head == 'app':\n",
        "      x = (ter.subterms[0].head == 'd')\n",
        "      return(x)\n",
        "    if ter.head == 'plus':\n",
        "      x = nf_check(ter.subterms[0])\n",
        "      y = nf_check(ter.subterms[1])\n",
        "      z = x and y \n",
        "      return(z)     \n",
        "\n",
        "\n",
        "def nf_convert(ter):\n",
        "    if ter.head == 'd':\n",
        "      return(ter)\n",
        "    if ter.head == 'e':\n",
        "      return(ter)  \n",
        "    if ter.head == 'plus':\n",
        "      if ter.subterms[0].head == 'e':\n",
        "        x = nf_convert(ter.subterms[1])\n",
        "      elif ter.subterms[1].head == 'e':\n",
        "        x = nf_convert(ter.subterms[0])\n",
        "      else:\n",
        "        z = nf_convert(ter.subterms[0])\n",
        "        y = nf_convert(ter.subterms[1])\n",
        "        x = term('plus',[z,y]) \n",
        "      return(x)   \n",
        "    if ter.head == 'app':\n",
        "      if ter.subterms[0].head == 'd':\n",
        "        x = nf_convert(ter.subterms[1])\n",
        "        w = term('app',[term('d',[]), x])\n",
        "        v = w\n",
        "      else:\n",
        "        t1 = nf_convert(ter.subterms[0])\n",
        "        t2 = nf_convert(ter.subterms[1])\n",
        "        u1 = t1.subterms[1]\n",
        "        w = term('plus',[t2,u1])\n",
        "        z = nf_convert(w)\n",
        "        v = term('app',[u1,z])\n",
        "      return(v)"
      ]
    },
    {
      "cell_type": "code",
      "source": [
        "t1 = term('d',[])\n",
        "t2 = term('e',[])\n",
        "t3 = term('app',[t1,t1]) # diag + diag\n",
        "t4 = term('app',[t3,t2])\n",
        "t5 = term('plus',[t2,t1])\n",
        "t6 = term('app',[term('app',[t1,t3]),t2])\n",
        "print(flatten(t3))"
      ],
      "metadata": {
        "colab": {
          "base_uri": "https://localhost:8080/"
        },
        "id": "W4Lh9-yHn_Rx",
        "outputId": "e2b4ffbf-999d-4db4-e342-447f00553db9"
      },
      "execution_count": 86,
      "outputs": [
        {
          "output_type": "stream",
          "name": "stdout",
          "text": [
            "['app', ['d'], ['d']]\n"
          ]
        }
      ]
    },
    {
      "cell_type": "code",
      "source": [
        "print(flatten(t5))\n",
        "t7 = nf_convert(t5)\n",
        "flatten(t7)"
      ],
      "metadata": {
        "colab": {
          "base_uri": "https://localhost:8080/"
        },
        "id": "u2d_KGTXogKe",
        "outputId": "7229edf7-9e90-49a1-adda-2370ef1d4e7d"
      },
      "execution_count": 69,
      "outputs": [
        {
          "output_type": "stream",
          "name": "stdout",
          "text": [
            "['plus', ['e'], ['d']]\n"
          ]
        },
        {
          "output_type": "execute_result",
          "data": {
            "text/plain": [
              "['d']"
            ]
          },
          "metadata": {},
          "execution_count": 69
        }
      ]
    },
    {
      "cell_type": "code",
      "source": [
        "print(flatten(t3))\n",
        "print(flatten(t4))\n",
        "t8 = nf_convert(t4)\n",
        "print(flatten(t8))\n",
        "flatten(t8) == flatten(t3)"
      ],
      "metadata": {
        "colab": {
          "base_uri": "https://localhost:8080/"
        },
        "id": "RlQNKENqpWae",
        "outputId": "ef2f2d08-6473-403a-c4d4-1f8314a624d2"
      },
      "execution_count": 78,
      "outputs": [
        {
          "output_type": "stream",
          "name": "stdout",
          "text": [
            "['app', ['d'], ['d']]\n",
            "['app', ['app', ['d'], ['d']], ['e']]\n",
            "['app', ['d'], ['d']]\n"
          ]
        },
        {
          "output_type": "execute_result",
          "data": {
            "text/plain": [
              "True"
            ]
          },
          "metadata": {},
          "execution_count": 78
        }
      ]
    },
    {
      "cell_type": "code",
      "source": [
        "print(flatten(t6))\n",
        "t8 = nf_convert(t6)\n",
        "print(flatten(t8))"
      ],
      "metadata": {
        "colab": {
          "base_uri": "https://localhost:8080/"
        },
        "id": "g0Tc_eJnyuQH",
        "outputId": "2447fb7e-977b-4e81-a29f-f34f3d08de72"
      },
      "execution_count": 87,
      "outputs": [
        {
          "output_type": "stream",
          "name": "stdout",
          "text": [
            "['app', ['app', ['d'], ['app', ['d'], ['d']]], ['e']]\n",
            "['app', ['app', ['d'], ['d']], ['app', ['d'], ['d']]]\n"
          ]
        }
      ]
    },
    {
      "cell_type": "code",
      "source": [],
      "metadata": {
        "id": "xn8t6pDH0HKu"
      },
      "execution_count": null,
      "outputs": []
    }
  ]
}