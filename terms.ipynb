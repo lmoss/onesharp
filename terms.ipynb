{
  "nbformat": 4,
  "nbformat_minor": 0,
  "metadata": {
    "colab": {
      "provenance": [],
      "authorship_tag": "ABX9TyOj3serzEZkSlPLs1xM4Gl/",
      "include_colab_link": true
    },
    "kernelspec": {
      "name": "python3",
      "display_name": "Python 3"
    },
    "language_info": {
      "name": "python"
    }
  },
  "cells": [
    {
      "cell_type": "markdown",
      "metadata": {
        "id": "view-in-github",
        "colab_type": "text"
      },
      "source": [
        "<a href=\"https://colab.research.google.com/github/lmoss/onesharp/blob/main/terms.ipynb\" target=\"_parent\"><img src=\"https://colab.research.google.com/assets/colab-badge.svg\" alt=\"Open In Colab\"/></a>"
      ]
    },
    {
      "cell_type": "code",
      "execution_count": 1,
      "metadata": {
        "id": "jJ3ywtAxmTiR"
      },
      "outputs": [],
      "source": [
        "class term:\n",
        "    def __init__(self, head,  subterms):\n",
        "        self.head = head\n",
        "        self.subterms = subterms\n",
        "        \n",
        "def flatten(ter):\n",
        "    if ter.head == 'd':\n",
        "      return(['d'])\n",
        "    if ter.head == 'e': \n",
        "      return(['e'])     \n",
        "    else:\n",
        "      return([ter.head]+ [flatten(ter.subterms[0])]  + [flatten(ter.subterms[1])])\n",
        "\n",
        "def nf_check(ter):\n",
        "    if ter.head == 'd':\n",
        "      return(True)\n",
        "    if ter.head == 'e':\n",
        "      return(True)\n",
        "    if ter.head == 'app':\n",
        "      x = (ter.subterms[0].head == 'd')\n",
        "      return(x)\n",
        "    if ter.head == 'plus':\n",
        "      x = nf_check(ter.subterms[0])\n",
        "      y = nf_check(ter.subterms[1])\n",
        "      z = x and y \n",
        "      return(z)     \n",
        "\n",
        "# the program below doesn't work\n",
        "def nf_convert(ter):\n",
        "    if ter.head == 'd':\n",
        "      return(ter)\n",
        "    if ter.head == 'e':\n",
        "      return(ter)  \n",
        "    if ter.head == 'plus':\n",
        "      if ter.subterms[0].head == 'e':\n",
        "        x = nf_convert(ter.subterms[1])\n",
        "      elif ter.subterms[1].head == 'e':\n",
        "        x = nf_convert(ter.subterms[0])\n",
        "      else:\n",
        "        z = nf_convert(ter.subterms[0])\n",
        "        y = nf_convert(ter.subterms[1])\n",
        "        x = term('plus',[z,y]) \n",
        "      return(x)   \n",
        "    if ter.head == 'app':\n",
        "      if ter.subterms[0].head == 'd':\n",
        "        x = nf_convert(ter.subterms[1])\n",
        "        w = term('app',[term('d',[]), x])\n",
        "        v = w\n",
        "      if ter.subterms[0].head == 'plus':\n",
        "        z = nf_convert(ter.subterms[1])\n",
        "        x = nf_convert(ter.subterms[0].subterms[0])\n",
        "        y = nf_convert(ter.subterms[0].subterms[1]) \n",
        "        w = term('app',[y,term('app',[x,z])])\n",
        "        v = nf_convert(w)\n",
        "      else:\n",
        "        t1 = nf_convert(ter.subterms[0])\n",
        "        t2 = nf_convert(ter.subterms[1])\n",
        "        u1 = t1.subterms[1]\n",
        "        w = term('plus',[t2,u1])\n",
        "        z = nf_convert(w)\n",
        "        v = term('app',[u1,z])\n",
        "      return(v)"
      ]
    },
    {
      "cell_type": "code",
      "source": [
        "t1 = term('d',[])\n",
        "t2 = term('e',[])\n",
        "t3 = term('app',[t1,t1]) # diag + diag\n",
        "t4 = term('app',[t3,t2]) # [diag + diag](empty)\n",
        "t5 = term('plus',[t2,t1])\n",
        "t6 = term('app',[term('app',[t1,t3]),t2])\n",
        "print(flatten(t3))"
      ],
      "metadata": {
        "colab": {
          "base_uri": "https://localhost:8080/"
        },
        "id": "W4Lh9-yHn_Rx",
        "outputId": "a6d0f357-2a63-417d-c3c5-113543e90bc8"
      },
      "execution_count": 22,
      "outputs": [
        {
          "output_type": "stream",
          "name": "stdout",
          "text": [
            "['app', ['d'], ['d']]\n"
          ]
        }
      ]
    },
    {
      "cell_type": "code",
      "source": [
        "diag =  term('d',[])\n",
        "empty = term('e',[])\n",
        "p0 = term('app',[diag,term('plus',[diag,diag])])\n",
        "p1 = term('app',[p0,empty])"
      ],
      "metadata": {
        "id": "xn8t6pDH0HKu"
      },
      "execution_count": null,
      "outputs": []
    },
    {
      "cell_type": "code",
      "source": [
        "print(flatten(p1))"
      ],
      "metadata": {
        "colab": {
          "base_uri": "https://localhost:8080/"
        },
        "id": "dmG3PW4H00fC",
        "outputId": "df9c5dde-e96e-42d2-e392-270ac2d44d26"
      },
      "execution_count": null,
      "outputs": [
        {
          "output_type": "stream",
          "name": "stdout",
          "text": [
            "['app', ['app', ['d'], ['plus', ['d'], ['d']]], ['e']]\n"
          ]
        }
      ]
    },
    {
      "cell_type": "code",
      "source": [
        "nf_check(p1)"
      ],
      "metadata": {
        "colab": {
          "base_uri": "https://localhost:8080/"
        },
        "id": "6fVekC5J0493",
        "outputId": "1095afdc-3e99-46b3-dd12-de74e92252bb"
      },
      "execution_count": null,
      "outputs": [
        {
          "output_type": "execute_result",
          "data": {
            "text/plain": [
              "False"
            ]
          },
          "metadata": {},
          "execution_count": 195
        }
      ]
    },
    {
      "cell_type": "code",
      "source": [
        "diag =  term('d',[])\n",
        "empty = term('e',[])\n",
        "p0 = term('app',[diag,term('plus',[diag,diag])])\n",
        "p1 = term('app',[p0,empty])\n",
        "\n",
        "# the program below doesn't work\n",
        "def nf_convert_new(ter):\n",
        "    if ter == diag:\n",
        "      return(ter)\n",
        "    if ter == empty:\n",
        "      return(ter)  \n",
        "    if ter.head == 'plus':\n",
        "      x = nf_convert(ter.subterms[0])\n",
        "      y = nf_convert(ter.subterms[1])\n",
        "      if x == empty:\n",
        "        return(y)\n",
        "      elif y== empty:\n",
        "        return(x)\n",
        "      else:\n",
        "        v = term('plus',[x,y]) \n",
        "    if ter.head == 'app':\n",
        "      print(\"here\")\n",
        "      r = nf_convert(ter.subterms[0])\n",
        "      s = nf_convert(ter.subterms[1])\n",
        "      print(flatten(r))\n",
        "      print(flatten(s))\n",
        "      if r == empty:\n",
        "        v = s\n",
        "      elif r == diag:\n",
        "        v = term('app',[diag,s])\n",
        "      elif r.head == 'plus':\n",
        "        x = r.subterms[0]\n",
        "        y = r.subterms[1]\n",
        "        z = nf_convert(ter.subterms[1])\n",
        "        w = term('app',[y,term('app',[x,z])])\n",
        "        v = nf_convert(w)\n",
        "      elif r.head == 'app':\n",
        "        t2 = nf_convert(r.subterms[1])\n",
        "        w = term('plus',[y,t2])\n",
        "        z = nf_convert(w)\n",
        "        v = term('app',[t2,z])\n",
        "      return(v)"
      ],
      "metadata": {
        "id": "iCw-wty-4yxs"
      },
      "execution_count": 2,
      "outputs": []
    },
    {
      "cell_type": "code",
      "source": [
        "diag =  term('d',[])\n",
        "empty = term('e',[])\n",
        "p0 = term('app',[diag,term('plus',[diag,diag])])\n",
        "p1 = term('app',[p0,empty])\n",
        "p2 = term('app',[p1,empty])\n",
        "p3 = term('app',[p2,empty])\n",
        "p4 = term('app',[p3,empty])\n",
        "p5 = term('app',[p4,empty])\n",
        "p6 = term('app',[p5,empty])"
      ],
      "metadata": {
        "id": "X67ncGcN8cqy"
      },
      "execution_count": 4,
      "outputs": []
    },
    {
      "cell_type": "code",
      "source": [
        "nf(p0)"
      ],
      "metadata": {
        "colab": {
          "base_uri": "https://localhost:8080/"
        },
        "id": "BEbT8KCL_eBB",
        "outputId": "362afcad-dffd-4f42-8566-ad08cf15869b"
      },
      "execution_count": null,
      "outputs": [
        {
          "output_type": "stream",
          "name": "stdout",
          "text": [
            "['app', ['d'], ['plus', ['d'], ['d']]]\n",
            "['app', ['d'], ['plus', ['d'], ['d']]]\n",
            "1\n"
          ]
        },
        {
          "output_type": "execute_result",
          "data": {
            "text/plain": [
              "<__main__.term at 0x7fb3f3d0d890>"
            ]
          },
          "metadata": {},
          "execution_count": 202
        }
      ]
    },
    {
      "cell_type": "code",
      "source": [
        "nf(p1)"
      ],
      "metadata": {
        "colab": {
          "base_uri": "https://localhost:8080/",
          "height": 169
        },
        "id": "3-XZm8oB_n-D",
        "outputId": "4f863e1f-15f8-47d0-93c1-9f185f205364"
      },
      "execution_count": 5,
      "outputs": [
        {
          "output_type": "error",
          "ename": "NameError",
          "evalue": "ignored",
          "traceback": [
            "\u001b[0;31m---------------------------------------------------------------------------\u001b[0m",
            "\u001b[0;31mNameError\u001b[0m                                 Traceback (most recent call last)",
            "\u001b[0;32m<ipython-input-5-a6e58c30e8ed>\u001b[0m in \u001b[0;36m<module>\u001b[0;34m\u001b[0m\n\u001b[0;32m----> 1\u001b[0;31m \u001b[0mnf\u001b[0m\u001b[0;34m(\u001b[0m\u001b[0mp1\u001b[0m\u001b[0;34m)\u001b[0m\u001b[0;34m\u001b[0m\u001b[0;34m\u001b[0m\u001b[0m\n\u001b[0m",
            "\u001b[0;31mNameError\u001b[0m: name 'nf' is not defined"
          ]
        }
      ]
    },
    {
      "cell_type": "code",
      "source": [
        "nf(p2)"
      ],
      "metadata": {
        "colab": {
          "base_uri": "https://localhost:8080/"
        },
        "id": "ctpoaIHq_qWi",
        "outputId": "959c062f-6486-4571-b5f2-8f5c5449e280"
      },
      "execution_count": null,
      "outputs": [
        {
          "output_type": "stream",
          "name": "stdout",
          "text": [
            "['app', ['app', ['app', ['d'], ['plus', ['d'], ['d']]], ['e']], ['e']]\n",
            "['app', ['app', ['plus', ['d'], ['d']], ['plus', ['e'], ['plus', ['d'], ['d']]]], ['e']]\n",
            "['app', ['app', ['plus', ['d'], ['d']], ['plus', ['e'], ['plus', ['d'], ['d']]]], ['e']]\n",
            "['app', ['app', ['d'], ['app', ['d'], ['plus', ['e'], ['plus', ['d'], ['d']]]]], ['e']]\n",
            "['app', ['app', ['d'], ['plus', ['e'], ['plus', ['d'], ['d']]]], ['plus', ['e'], ['app', ['d'], ['plus', ['e'], ['plus', ['d'], ['d']]]]]]\n",
            "['app', ['plus', ['e'], ['plus', ['d'], ['d']]], ['plus', ['plus', ['e'], ['app', ['d'], ['plus', ['e'], ['plus', ['d'], ['d']]]]], ['plus', ['e'], ['plus', ['d'], ['d']]]]]\n",
            "['app', ['plus', ['d'], ['d']], ['app', ['plus', ['d'], ['d']], ['plus', ['plus', ['e'], ['app', ['d'], ['plus', ['e'], ['plus', ['d'], ['d']]]]], ['plus', ['e'], ['plus', ['d'], ['d']]]]]]\n",
            "['app', ['d'], ['app', ['d'], ['app', ['plus', ['d'], ['d']], ['plus', ['plus', ['e'], ['app', ['d'], ['plus', ['e'], ['plus', ['d'], ['d']]]]], ['plus', ['e'], ['plus', ['d'], ['d']]]]]]]\n",
            "['app', ['d'], ['app', ['d'], ['app', ['d'], ['app', ['d'], ['plus', ['plus', ['e'], ['app', ['d'], ['plus', ['e'], ['plus', ['d'], ['d']]]]], ['plus', ['e'], ['plus', ['d'], ['d']]]]]]]]\n",
            "['app', ['d'], ['app', ['d'], ['app', ['d'], ['app', ['d'], ['plus', ['e'], ['plus', ['app', ['d'], ['plus', ['e'], ['plus', ['d'], ['d']]]], ['plus', ['e'], ['plus', ['d'], ['d']]]]]]]]]\n",
            "['app', ['d'], ['app', ['d'], ['app', ['d'], ['app', ['d'], ['plus', ['app', ['d'], ['plus', ['e'], ['plus', ['d'], ['d']]]], ['plus', ['e'], ['plus', ['d'], ['d']]]]]]]]\n",
            "['app', ['d'], ['app', ['d'], ['app', ['d'], ['app', ['d'], ['plus', ['app', ['d'], ['plus', ['d'], ['d']]], ['plus', ['d'], ['d']]]]]]]\n",
            "11\n"
          ]
        },
        {
          "output_type": "execute_result",
          "data": {
            "text/plain": [
              "<__main__.term at 0x7fb3f3fd2f10>"
            ]
          },
          "metadata": {},
          "execution_count": 204
        }
      ]
    },
    {
      "cell_type": "code",
      "source": [
        "nf(p3)"
      ],
      "metadata": {
        "id": "Onem1FxX_sLB"
      },
      "execution_count": null,
      "outputs": []
    },
    {
      "cell_type": "code",
      "source": [
        "nf(p4)"
      ],
      "metadata": {
        "id": "q4jjiHfJ_u6H"
      },
      "execution_count": null,
      "outputs": []
    },
    {
      "cell_type": "code",
      "source": [
        "nf(p5)"
      ],
      "metadata": {
        "id": "xuDlDj_l_x5y"
      },
      "execution_count": null,
      "outputs": []
    },
    {
      "cell_type": "code",
      "source": [
        "nf(p6)"
      ],
      "metadata": {
        "id": "VkYzNO3p_6xh"
      },
      "execution_count": null,
      "outputs": []
    },
    {
      "cell_type": "code",
      "source": [
        "diag =  term('d',[])\n",
        "empty = term('e',[])\n",
        "p0 = term('app',[diag,term('plus',[diag,diag])])\n",
        "p1 = term('app',[p0,empty])\n",
        "\n",
        "def rewrite_step(t): # only applies to an UNflattened tree\n",
        "  #t= flatten(unflattened_tree)\n",
        "  if t == diag:\n",
        "    return(t)\n",
        "  if t == empty:\n",
        "    return(t)  \n",
        "  if t.head == 'app':\n",
        "    if t.subterms[0].head == \"plus\":\n",
        "      u = t.subterms[0].subterms[0]\n",
        "      v = t.subterms[0].subterms[1]\n",
        "      w = t.subterms[1]\n",
        "      return(term('app',[v,term('app',[v,w])]))\n",
        "    elif t.subterms[0].head == 'd' and t.subterms[1].head == 'e':\n",
        "      return(empty) \n",
        "    elif t.subterms[0].head == 'e':\n",
        "      return(t.subterms[1])  \n",
        "    elif t.subterms[0].head == \"app\" and t.subterms[0].subterms[0].head == 'd':\n",
        "      v = t.subterms[0].subterms[1]\n",
        "      w = t.subterms[1]  \n",
        "      return(term('app',[v,term('plus',[w,v])]))   \n",
        "    else: \n",
        "      u = rewrite_step(t.subterms[0])\n",
        "      v = rewrite_step(t.subterms[1])  \n",
        "      w = term('app',[u,v]) \n",
        "      return(w)    \n",
        "  if t.head == 'plus':\n",
        "    if t.subterms[0].head == 'e':\n",
        "      return(t.subterms[1])  \n",
        "    elif t.subterms[1].head == 'e':\n",
        "      return(t.subterms[0]) \n",
        "    elif t.subterms[0].head == 'plus':\n",
        "      u = t.subterms[0].subterms[0]\n",
        "      v = t.subterms[0].subterms[1]\n",
        "      w = t.subterms[1]   \n",
        "      return(term('plus',[u,term('plus',[v,w])]))  \n",
        "    else: \n",
        "      u = rewrite_step(t.subterms[0])\n",
        "      v = rewrite_step(t.subterms[1])   \n",
        "      return(term('plus',[u,v]))  \n",
        "\n",
        "def nf_simple(term):\n",
        "  new_term = rewrite_step(term)\n",
        "  while flatten(term)!= flatten(new_term):\n",
        "    term = new_term\n",
        "    new_term = rewrite_step(new_term)   \n",
        "  return(new_term) \n",
        "\n",
        "def nf(term):\n",
        "  i=1\n",
        "  new_term = rewrite_step(term)\n",
        "  print(flatten(term))\n",
        "  print(flatten(new_term))\n",
        "  while flatten(term)!= flatten(new_term):\n",
        "    i=i+1\n",
        "    term = new_term\n",
        "    new_term = rewrite_step(new_term)   \n",
        "    print(flatten(term))\n",
        "    #print(flatten(new_term))\n",
        "  print(i)\n",
        "  return(new_term) \n",
        "\n",
        "## obsolete: do not use tester\n",
        "def tester(term):\n",
        "  i=1\n",
        "  new_term = rewrite_step(term)\n",
        "  print(flatten(term))\n",
        "  print(flatten(new_term))\n",
        "  while flatten(term)!= flatten(new_term):\n",
        "    i=i+1\n",
        "    term = new_term\n",
        "    new_term = rewrite_step(new_term)   \n",
        "    print(flatten(term))\n",
        "    #print(flatten(new_term))\n",
        "  print(i)\n",
        "  return(new_term)             "
      ],
      "metadata": {
        "id": "963EJ215D2lj"
      },
      "execution_count": 3,
      "outputs": []
    },
    {
      "cell_type": "code",
      "source": [
        "t1 = term('d',[])\n",
        "t2 = term('e',[])\n",
        "t3 = term('app',[t1,t1]) # diag + diag\n",
        "t4 = term('app',[t3,t2]) # [diag + diag](empty)\n",
        "t5 = term('plus',[t2,t1])\n",
        "t6 = term('app',[term('app',[t1,t3]),t2])\n",
        "print(flatten(t3))"
      ],
      "metadata": {
        "colab": {
          "base_uri": "https://localhost:8080/"
        },
        "id": "nbEUdTiEZSl6",
        "outputId": "fc872449-1d85-4a01-f048-69e6abff1a30"
      },
      "execution_count": null,
      "outputs": [
        {
          "output_type": "stream",
          "name": "stdout",
          "text": [
            "['app', ['d'], ['d']]\n"
          ]
        }
      ]
    },
    {
      "cell_type": "code",
      "source": [
        "list1 = [empty,diag]\n",
        "list2 = [term('app',[diag,x]) for x in list1[1:]]\n",
        "list3 = [term('app',[diag,x]) for x in list2]\n",
        "list4 = [term('app',[diag,x]) for x in list3]\n",
        "list5 = [term('app',[diag,x]) for x in list4]\n",
        "list6 = [term('app',[diag,x]) for x in list5]\n",
        "list7 = list1 + list2 + list3 + list4 + list5 + list6"
      ],
      "metadata": {
        "id": "Z7l87w5SBlDu"
      },
      "execution_count": 7,
      "outputs": []
    },
    {
      "cell_type": "code",
      "source": [
        "print([flatten(nf_simple(x)) for x in list7])"
      ],
      "metadata": {
        "colab": {
          "base_uri": "https://localhost:8080/"
        },
        "id": "paRv9-ixojsy",
        "outputId": "6d6bfb8d-37fb-4735-b5f6-a4cf5cb0bf92"
      },
      "execution_count": null,
      "outputs": [
        {
          "output_type": "stream",
          "name": "stdout",
          "text": [
            "[['e'], ['d'], ['app', ['d'], ['d']], ['app', ['d'], ['app', ['d'], ['d']]], ['app', ['d'], ['app', ['d'], ['app', ['d'], ['d']]]], ['app', ['d'], ['app', ['d'], ['app', ['d'], ['app', ['d'], ['d']]]]], ['app', ['d'], ['app', ['d'], ['app', ['d'], ['app', ['d'], ['app', ['d'], ['d']]]]]]]\n"
          ]
        }
      ]
    },
    {
      "cell_type": "code",
      "source": [
        "\n",
        "mylist = [flatten(nf_simple(x)) for x in list7]\n",
        "print(*mylist,sep='\\n')\n",
        "print()\n",
        "print(*[flatten(x) for x in list7],sep='\\n')"
      ],
      "metadata": {
        "colab": {
          "base_uri": "https://localhost:8080/"
        },
        "id": "-vZFnIdqotZ0",
        "outputId": "0da86b33-2e7f-400a-b5c9-c9ec8e565200"
      },
      "execution_count": null,
      "outputs": [
        {
          "output_type": "stream",
          "name": "stdout",
          "text": [
            "['e']\n",
            "['d']\n",
            "['app', ['d'], ['d']]\n",
            "['app', ['d'], ['app', ['d'], ['d']]]\n",
            "['app', ['d'], ['app', ['d'], ['app', ['d'], ['d']]]]\n",
            "['app', ['d'], ['app', ['d'], ['app', ['d'], ['app', ['d'], ['d']]]]]\n",
            "['app', ['d'], ['app', ['d'], ['app', ['d'], ['app', ['d'], ['app', ['d'], ['d']]]]]]\n",
            "\n",
            "['e']\n",
            "['d']\n",
            "['app', ['d'], ['d']]\n",
            "['app', ['d'], ['app', ['d'], ['d']]]\n",
            "['app', ['d'], ['app', ['d'], ['app', ['d'], ['d']]]]\n",
            "['app', ['d'], ['app', ['d'], ['app', ['d'], ['app', ['d'], ['d']]]]]\n",
            "['app', ['d'], ['app', ['d'], ['app', ['d'], ['app', ['d'], ['app', ['d'], ['d']]]]]]\n"
          ]
        }
      ]
    },
    {
      "cell_type": "code",
      "source": [
        "results = [(flatten(x)== flatten(nf_simple(term('app',[x,empty])))) for x in list7]"
      ],
      "metadata": {
        "id": "vSGe-VLdqUwH"
      },
      "execution_count": null,
      "outputs": []
    },
    {
      "cell_type": "code",
      "source": [
        "print(results)"
      ],
      "metadata": {
        "colab": {
          "base_uri": "https://localhost:8080/"
        },
        "id": "VL0XWLbfsFrQ",
        "outputId": "b433e7dc-72ce-449b-ac69-00be4852d123"
      },
      "execution_count": null,
      "outputs": [
        {
          "output_type": "stream",
          "name": "stdout",
          "text": [
            "[True, False, True, False, False, False, False]\n"
          ]
        }
      ]
    },
    {
      "cell_type": "code",
      "source": [
        "print(flatten(list7[2]))"
      ],
      "metadata": {
        "colab": {
          "base_uri": "https://localhost:8080/"
        },
        "id": "cfah6cEZsJuR",
        "outputId": "3b8157be-898f-4d2d-e5b9-e6341374c17a"
      },
      "execution_count": null,
      "outputs": [
        {
          "output_type": "stream",
          "name": "stdout",
          "text": [
            "['app', ['d'], ['d']]\n"
          ]
        }
      ]
    },
    {
      "cell_type": "code",
      "source": [
        "print(*[flatten(nf_simple(term('app',[x,empty]))) for x in list7],sep='\\n')"
      ],
      "metadata": {
        "colab": {
          "base_uri": "https://localhost:8080/"
        },
        "id": "NXXCQv8RuVqN",
        "outputId": "4795a0fe-e347-45ab-d3a8-e57cd8f50501"
      },
      "execution_count": null,
      "outputs": [
        {
          "output_type": "stream",
          "name": "stdout",
          "text": [
            "['e']\n",
            "['e']\n",
            "['app', ['d'], ['d']]\n",
            "['app', ['d'], ['plus', ['app', ['d'], ['d']], ['d']]]\n",
            "['app', ['d'], ['plus', ['app', ['d'], ['app', ['d'], ['d']]], ['plus', ['app', ['d'], ['d']], ['d']]]]\n",
            "['app', ['d'], ['plus', ['app', ['d'], ['app', ['d'], ['app', ['d'], ['d']]]], ['plus', ['app', ['d'], ['app', ['d'], ['d']]], ['plus', ['app', ['d'], ['d']], ['d']]]]]\n",
            "['app', ['d'], ['plus', ['app', ['d'], ['app', ['d'], ['app', ['d'], ['app', ['d'], ['d']]]]], ['plus', ['app', ['d'], ['app', ['d'], ['app', ['d'], ['d']]]], ['plus', ['app', ['d'], ['app', ['d'], ['d']]], ['plus', ['app', ['d'], ['d']], ['d']]]]]]\n"
          ]
        }
      ]
    },
    {
      "cell_type": "code",
      "source": [
        "# this is for generating lists of normal forms\n",
        "# the input should start with 'empty'\n",
        "\n",
        "def extend(list_of_normal_forms):\n",
        "  list1 = list_of_normal_forms[1:]\n",
        "  #print([flatten(x) for x in list1])\n",
        "  list2 = [term('plus',[i,j]) for i in list1 for j in list1]\n",
        "  #print([flatten(x) for x in list2])\n",
        "  list3 = [term('app',[diag,x]) for x in list1]\n",
        "  list4 = [empty,diag]+ list3 + list2\n",
        "  return(list4)"
      ],
      "metadata": {
        "id": "C2g2v25m1e2K"
      },
      "execution_count": 5,
      "outputs": []
    },
    {
      "cell_type": "code",
      "source": [
        "List1 = [empty,diag]\n",
        "List2 = extend(List1)\n",
        "List3 = extend(List2)\n",
        "List4 = extend(List3)\n",
        "List5 = extend(List4)\n",
        "List5_5 = List5[10000:11000]\n",
        "List6 = extend(List5_5)\n",
        "#print([flatten(x) for x in List4])\n",
        "print(len(List4))\n",
        "[flatten(List4[i]) for i in range(100)]"
      ],
      "metadata": {
        "colab": {
          "base_uri": "https://localhost:8080/"
        },
        "id": "Ur6hllxZ2aoe",
        "outputId": "aaf300fa-25d3-4570-9aa2-6c956e9ec1cf"
      },
      "execution_count": 6,
      "outputs": [
        {
          "output_type": "stream",
          "name": "stdout",
          "text": [
            "184\n"
          ]
        },
        {
          "output_type": "execute_result",
          "data": {
            "text/plain": [
              "[['e'],\n",
              " ['d'],\n",
              " ['app', ['d'], ['d']],\n",
              " ['app', ['d'], ['app', ['d'], ['d']]],\n",
              " ['app', ['d'], ['app', ['d'], ['app', ['d'], ['d']]]],\n",
              " ['app', ['d'], ['app', ['d'], ['plus', ['d'], ['d']]]],\n",
              " ['app', ['d'], ['plus', ['d'], ['d']]],\n",
              " ['app', ['d'], ['plus', ['d'], ['app', ['d'], ['d']]]],\n",
              " ['app', ['d'], ['plus', ['d'], ['plus', ['d'], ['d']]]],\n",
              " ['app', ['d'], ['plus', ['app', ['d'], ['d']], ['d']]],\n",
              " ['app', ['d'], ['plus', ['app', ['d'], ['d']], ['app', ['d'], ['d']]]],\n",
              " ['app', ['d'], ['plus', ['app', ['d'], ['d']], ['plus', ['d'], ['d']]]],\n",
              " ['app', ['d'], ['plus', ['plus', ['d'], ['d']], ['d']]],\n",
              " ['app', ['d'], ['plus', ['plus', ['d'], ['d']], ['app', ['d'], ['d']]]],\n",
              " ['app', ['d'], ['plus', ['plus', ['d'], ['d']], ['plus', ['d'], ['d']]]],\n",
              " ['plus', ['d'], ['d']],\n",
              " ['plus', ['d'], ['app', ['d'], ['d']]],\n",
              " ['plus', ['d'], ['app', ['d'], ['app', ['d'], ['d']]]],\n",
              " ['plus', ['d'], ['app', ['d'], ['plus', ['d'], ['d']]]],\n",
              " ['plus', ['d'], ['plus', ['d'], ['d']]],\n",
              " ['plus', ['d'], ['plus', ['d'], ['app', ['d'], ['d']]]],\n",
              " ['plus', ['d'], ['plus', ['d'], ['plus', ['d'], ['d']]]],\n",
              " ['plus', ['d'], ['plus', ['app', ['d'], ['d']], ['d']]],\n",
              " ['plus', ['d'], ['plus', ['app', ['d'], ['d']], ['app', ['d'], ['d']]]],\n",
              " ['plus', ['d'], ['plus', ['app', ['d'], ['d']], ['plus', ['d'], ['d']]]],\n",
              " ['plus', ['d'], ['plus', ['plus', ['d'], ['d']], ['d']]],\n",
              " ['plus', ['d'], ['plus', ['plus', ['d'], ['d']], ['app', ['d'], ['d']]]],\n",
              " ['plus', ['d'], ['plus', ['plus', ['d'], ['d']], ['plus', ['d'], ['d']]]],\n",
              " ['plus', ['app', ['d'], ['d']], ['d']],\n",
              " ['plus', ['app', ['d'], ['d']], ['app', ['d'], ['d']]],\n",
              " ['plus', ['app', ['d'], ['d']], ['app', ['d'], ['app', ['d'], ['d']]]],\n",
              " ['plus', ['app', ['d'], ['d']], ['app', ['d'], ['plus', ['d'], ['d']]]],\n",
              " ['plus', ['app', ['d'], ['d']], ['plus', ['d'], ['d']]],\n",
              " ['plus', ['app', ['d'], ['d']], ['plus', ['d'], ['app', ['d'], ['d']]]],\n",
              " ['plus', ['app', ['d'], ['d']], ['plus', ['d'], ['plus', ['d'], ['d']]]],\n",
              " ['plus', ['app', ['d'], ['d']], ['plus', ['app', ['d'], ['d']], ['d']]],\n",
              " ['plus',\n",
              "  ['app', ['d'], ['d']],\n",
              "  ['plus', ['app', ['d'], ['d']], ['app', ['d'], ['d']]]],\n",
              " ['plus',\n",
              "  ['app', ['d'], ['d']],\n",
              "  ['plus', ['app', ['d'], ['d']], ['plus', ['d'], ['d']]]],\n",
              " ['plus', ['app', ['d'], ['d']], ['plus', ['plus', ['d'], ['d']], ['d']]],\n",
              " ['plus',\n",
              "  ['app', ['d'], ['d']],\n",
              "  ['plus', ['plus', ['d'], ['d']], ['app', ['d'], ['d']]]],\n",
              " ['plus',\n",
              "  ['app', ['d'], ['d']],\n",
              "  ['plus', ['plus', ['d'], ['d']], ['plus', ['d'], ['d']]]],\n",
              " ['plus', ['app', ['d'], ['app', ['d'], ['d']]], ['d']],\n",
              " ['plus', ['app', ['d'], ['app', ['d'], ['d']]], ['app', ['d'], ['d']]],\n",
              " ['plus',\n",
              "  ['app', ['d'], ['app', ['d'], ['d']]],\n",
              "  ['app', ['d'], ['app', ['d'], ['d']]]],\n",
              " ['plus',\n",
              "  ['app', ['d'], ['app', ['d'], ['d']]],\n",
              "  ['app', ['d'], ['plus', ['d'], ['d']]]],\n",
              " ['plus', ['app', ['d'], ['app', ['d'], ['d']]], ['plus', ['d'], ['d']]],\n",
              " ['plus',\n",
              "  ['app', ['d'], ['app', ['d'], ['d']]],\n",
              "  ['plus', ['d'], ['app', ['d'], ['d']]]],\n",
              " ['plus',\n",
              "  ['app', ['d'], ['app', ['d'], ['d']]],\n",
              "  ['plus', ['d'], ['plus', ['d'], ['d']]]],\n",
              " ['plus',\n",
              "  ['app', ['d'], ['app', ['d'], ['d']]],\n",
              "  ['plus', ['app', ['d'], ['d']], ['d']]],\n",
              " ['plus',\n",
              "  ['app', ['d'], ['app', ['d'], ['d']]],\n",
              "  ['plus', ['app', ['d'], ['d']], ['app', ['d'], ['d']]]],\n",
              " ['plus',\n",
              "  ['app', ['d'], ['app', ['d'], ['d']]],\n",
              "  ['plus', ['app', ['d'], ['d']], ['plus', ['d'], ['d']]]],\n",
              " ['plus',\n",
              "  ['app', ['d'], ['app', ['d'], ['d']]],\n",
              "  ['plus', ['plus', ['d'], ['d']], ['d']]],\n",
              " ['plus',\n",
              "  ['app', ['d'], ['app', ['d'], ['d']]],\n",
              "  ['plus', ['plus', ['d'], ['d']], ['app', ['d'], ['d']]]],\n",
              " ['plus',\n",
              "  ['app', ['d'], ['app', ['d'], ['d']]],\n",
              "  ['plus', ['plus', ['d'], ['d']], ['plus', ['d'], ['d']]]],\n",
              " ['plus', ['app', ['d'], ['plus', ['d'], ['d']]], ['d']],\n",
              " ['plus', ['app', ['d'], ['plus', ['d'], ['d']]], ['app', ['d'], ['d']]],\n",
              " ['plus',\n",
              "  ['app', ['d'], ['plus', ['d'], ['d']]],\n",
              "  ['app', ['d'], ['app', ['d'], ['d']]]],\n",
              " ['plus',\n",
              "  ['app', ['d'], ['plus', ['d'], ['d']]],\n",
              "  ['app', ['d'], ['plus', ['d'], ['d']]]],\n",
              " ['plus', ['app', ['d'], ['plus', ['d'], ['d']]], ['plus', ['d'], ['d']]],\n",
              " ['plus',\n",
              "  ['app', ['d'], ['plus', ['d'], ['d']]],\n",
              "  ['plus', ['d'], ['app', ['d'], ['d']]]],\n",
              " ['plus',\n",
              "  ['app', ['d'], ['plus', ['d'], ['d']]],\n",
              "  ['plus', ['d'], ['plus', ['d'], ['d']]]],\n",
              " ['plus',\n",
              "  ['app', ['d'], ['plus', ['d'], ['d']]],\n",
              "  ['plus', ['app', ['d'], ['d']], ['d']]],\n",
              " ['plus',\n",
              "  ['app', ['d'], ['plus', ['d'], ['d']]],\n",
              "  ['plus', ['app', ['d'], ['d']], ['app', ['d'], ['d']]]],\n",
              " ['plus',\n",
              "  ['app', ['d'], ['plus', ['d'], ['d']]],\n",
              "  ['plus', ['app', ['d'], ['d']], ['plus', ['d'], ['d']]]],\n",
              " ['plus',\n",
              "  ['app', ['d'], ['plus', ['d'], ['d']]],\n",
              "  ['plus', ['plus', ['d'], ['d']], ['d']]],\n",
              " ['plus',\n",
              "  ['app', ['d'], ['plus', ['d'], ['d']]],\n",
              "  ['plus', ['plus', ['d'], ['d']], ['app', ['d'], ['d']]]],\n",
              " ['plus',\n",
              "  ['app', ['d'], ['plus', ['d'], ['d']]],\n",
              "  ['plus', ['plus', ['d'], ['d']], ['plus', ['d'], ['d']]]],\n",
              " ['plus', ['plus', ['d'], ['d']], ['d']],\n",
              " ['plus', ['plus', ['d'], ['d']], ['app', ['d'], ['d']]],\n",
              " ['plus', ['plus', ['d'], ['d']], ['app', ['d'], ['app', ['d'], ['d']]]],\n",
              " ['plus', ['plus', ['d'], ['d']], ['app', ['d'], ['plus', ['d'], ['d']]]],\n",
              " ['plus', ['plus', ['d'], ['d']], ['plus', ['d'], ['d']]],\n",
              " ['plus', ['plus', ['d'], ['d']], ['plus', ['d'], ['app', ['d'], ['d']]]],\n",
              " ['plus', ['plus', ['d'], ['d']], ['plus', ['d'], ['plus', ['d'], ['d']]]],\n",
              " ['plus', ['plus', ['d'], ['d']], ['plus', ['app', ['d'], ['d']], ['d']]],\n",
              " ['plus',\n",
              "  ['plus', ['d'], ['d']],\n",
              "  ['plus', ['app', ['d'], ['d']], ['app', ['d'], ['d']]]],\n",
              " ['plus',\n",
              "  ['plus', ['d'], ['d']],\n",
              "  ['plus', ['app', ['d'], ['d']], ['plus', ['d'], ['d']]]],\n",
              " ['plus', ['plus', ['d'], ['d']], ['plus', ['plus', ['d'], ['d']], ['d']]],\n",
              " ['plus',\n",
              "  ['plus', ['d'], ['d']],\n",
              "  ['plus', ['plus', ['d'], ['d']], ['app', ['d'], ['d']]]],\n",
              " ['plus',\n",
              "  ['plus', ['d'], ['d']],\n",
              "  ['plus', ['plus', ['d'], ['d']], ['plus', ['d'], ['d']]]],\n",
              " ['plus', ['plus', ['d'], ['app', ['d'], ['d']]], ['d']],\n",
              " ['plus', ['plus', ['d'], ['app', ['d'], ['d']]], ['app', ['d'], ['d']]],\n",
              " ['plus',\n",
              "  ['plus', ['d'], ['app', ['d'], ['d']]],\n",
              "  ['app', ['d'], ['app', ['d'], ['d']]]],\n",
              " ['plus',\n",
              "  ['plus', ['d'], ['app', ['d'], ['d']]],\n",
              "  ['app', ['d'], ['plus', ['d'], ['d']]]],\n",
              " ['plus', ['plus', ['d'], ['app', ['d'], ['d']]], ['plus', ['d'], ['d']]],\n",
              " ['plus',\n",
              "  ['plus', ['d'], ['app', ['d'], ['d']]],\n",
              "  ['plus', ['d'], ['app', ['d'], ['d']]]],\n",
              " ['plus',\n",
              "  ['plus', ['d'], ['app', ['d'], ['d']]],\n",
              "  ['plus', ['d'], ['plus', ['d'], ['d']]]],\n",
              " ['plus',\n",
              "  ['plus', ['d'], ['app', ['d'], ['d']]],\n",
              "  ['plus', ['app', ['d'], ['d']], ['d']]],\n",
              " ['plus',\n",
              "  ['plus', ['d'], ['app', ['d'], ['d']]],\n",
              "  ['plus', ['app', ['d'], ['d']], ['app', ['d'], ['d']]]],\n",
              " ['plus',\n",
              "  ['plus', ['d'], ['app', ['d'], ['d']]],\n",
              "  ['plus', ['app', ['d'], ['d']], ['plus', ['d'], ['d']]]],\n",
              " ['plus',\n",
              "  ['plus', ['d'], ['app', ['d'], ['d']]],\n",
              "  ['plus', ['plus', ['d'], ['d']], ['d']]],\n",
              " ['plus',\n",
              "  ['plus', ['d'], ['app', ['d'], ['d']]],\n",
              "  ['plus', ['plus', ['d'], ['d']], ['app', ['d'], ['d']]]],\n",
              " ['plus',\n",
              "  ['plus', ['d'], ['app', ['d'], ['d']]],\n",
              "  ['plus', ['plus', ['d'], ['d']], ['plus', ['d'], ['d']]]],\n",
              " ['plus', ['plus', ['d'], ['plus', ['d'], ['d']]], ['d']],\n",
              " ['plus', ['plus', ['d'], ['plus', ['d'], ['d']]], ['app', ['d'], ['d']]],\n",
              " ['plus',\n",
              "  ['plus', ['d'], ['plus', ['d'], ['d']]],\n",
              "  ['app', ['d'], ['app', ['d'], ['d']]]],\n",
              " ['plus',\n",
              "  ['plus', ['d'], ['plus', ['d'], ['d']]],\n",
              "  ['app', ['d'], ['plus', ['d'], ['d']]]],\n",
              " ['plus', ['plus', ['d'], ['plus', ['d'], ['d']]], ['plus', ['d'], ['d']]],\n",
              " ['plus',\n",
              "  ['plus', ['d'], ['plus', ['d'], ['d']]],\n",
              "  ['plus', ['d'], ['app', ['d'], ['d']]]],\n",
              " ['plus',\n",
              "  ['plus', ['d'], ['plus', ['d'], ['d']]],\n",
              "  ['plus', ['d'], ['plus', ['d'], ['d']]]]]"
            ]
          },
          "metadata": {},
          "execution_count": 6
        }
      ]
    },
    {
      "cell_type": "code",
      "source": [
        "[flatten(nf_simple(term('app',[x,empty]))) for x in List4]"
      ],
      "metadata": {
        "colab": {
          "base_uri": "https://localhost:8080/"
        },
        "id": "VrMMOHTSGc8F",
        "outputId": "4c2ad85b-3c6e-4522-823a-188860783aa8"
      },
      "execution_count": null,
      "outputs": [
        {
          "output_type": "execute_result",
          "data": {
            "text/plain": [
              "[['e'],\n",
              " ['e'],\n",
              " ['app', ['d'], ['d']],\n",
              " ['app', ['d'], ['plus', ['app', ['d'], ['d']], ['d']]],\n",
              " ['app',\n",
              "  ['d'],\n",
              "  ['plus',\n",
              "   ['app', ['d'], ['app', ['d'], ['d']]],\n",
              "   ['plus', ['app', ['d'], ['d']], ['d']]]],\n",
              " ['app',\n",
              "  ['d'],\n",
              "  ['app',\n",
              "   ['d'],\n",
              "   ['plus', ['app', ['d'], ['plus', ['d'], ['d']]], ['plus', ['d'], ['d']]]]],\n",
              " ['app', ['d'], ['app', ['d'], ['plus', ['d'], ['d']]]],\n",
              " ['app',\n",
              "  ['d'],\n",
              "  ['plus',\n",
              "   ['app', ['d'], ['plus', ['d'], ['plus', ['app', ['d'], ['d']], ['d']]]],\n",
              "   ['d']]],\n",
              " ['app',\n",
              "  ['d'],\n",
              "  ['app',\n",
              "   ['d'],\n",
              "   ['app', ['d'], ['app', ['d'], ['plus', ['d'], ['plus', ['d'], ['d']]]]]]],\n",
              " ['app', ['d'], ['app', ['d'], ['plus', ['app', ['d'], ['d']], ['d']]]],\n",
              " ['app',\n",
              "  ['d'],\n",
              "  ['plus',\n",
              "   ['app',\n",
              "    ['d'],\n",
              "    ['plus', ['app', ['d'], ['d']], ['plus', ['app', ['d'], ['d']], ['d']]]],\n",
              "   ['d']]],\n",
              " ['app',\n",
              "  ['d'],\n",
              "  ['app',\n",
              "   ['d'],\n",
              "   ['app',\n",
              "    ['d'],\n",
              "    ['app', ['d'], ['plus', ['app', ['d'], ['d']], ['plus', ['d'], ['d']]]]]]],\n",
              " ['app', ['d'], ['app', ['d'], ['plus', ['d'], ['plus', ['d'], ['d']]]]],\n",
              " ['app',\n",
              "  ['d'],\n",
              "  ['plus',\n",
              "   ['app',\n",
              "    ['d'],\n",
              "    ['plus', ['d'], ['plus', ['d'], ['plus', ['app', ['d'], ['d']], ['d']]]]],\n",
              "   ['d']]],\n",
              " ['app',\n",
              "  ['d'],\n",
              "  ['app',\n",
              "   ['d'],\n",
              "   ['app',\n",
              "    ['d'],\n",
              "    ['app',\n",
              "     ['d'],\n",
              "     ['plus', ['d'], ['plus', ['d'], ['plus', ['d'], ['d']]]]]]]],\n",
              " ['e'],\n",
              " ['app', ['d'], ['plus', ['app', ['d'], ['d']], ['d']]],\n",
              " ['app',\n",
              "  ['d'],\n",
              "  ['plus',\n",
              "   ['app', ['d'], ['plus', ['app', ['d'], ['d']], ['d']]],\n",
              "   ['plus', ['app', ['d'], ['d']], ['d']]]],\n",
              " ['app',\n",
              "  ['d'],\n",
              "  ['app',\n",
              "   ['d'],\n",
              "   ['plus',\n",
              "    ['app', ['d'], ['app', ['d'], ['plus', ['d'], ['d']]]],\n",
              "    ['plus', ['d'], ['d']]]]],\n",
              " ['e'],\n",
              " ['app',\n",
              "  ['d'],\n",
              "  ['plus',\n",
              "   ['app',\n",
              "    ['d'],\n",
              "    ['plus', ['app', ['d'], ['plus', ['app', ['d'], ['d']], ['d']]], ['d']]],\n",
              "   ['d']]],\n",
              " ['e'],\n",
              " ['e'],\n",
              " ['app',\n",
              "  ['d'],\n",
              "  ['plus',\n",
              "   ['app',\n",
              "    ['d'],\n",
              "    ['plus', ['app', ['d'], ['plus', ['app', ['d'], ['d']], ['d']]], ['d']]],\n",
              "   ['d']]],\n",
              " ['e'],\n",
              " ['e'],\n",
              " ['app',\n",
              "  ['d'],\n",
              "  ['plus',\n",
              "   ['app',\n",
              "    ['d'],\n",
              "    ['plus', ['app', ['d'], ['plus', ['app', ['d'], ['d']], ['d']]], ['d']]],\n",
              "   ['d']]],\n",
              " ['e'],\n",
              " ['e'],\n",
              " ['app', ['d'], ['plus', ['app', ['d'], ['d']], ['d']]],\n",
              " ['app',\n",
              "  ['d'],\n",
              "  ['plus',\n",
              "   ['app', ['d'], ['plus', ['app', ['d'], ['d']], ['d']]],\n",
              "   ['plus', ['app', ['d'], ['d']], ['d']]]],\n",
              " ['app',\n",
              "  ['d'],\n",
              "  ['app',\n",
              "   ['d'],\n",
              "   ['plus',\n",
              "    ['app', ['d'], ['app', ['d'], ['plus', ['d'], ['d']]]],\n",
              "    ['plus', ['d'], ['d']]]]],\n",
              " ['e'],\n",
              " ['app',\n",
              "  ['d'],\n",
              "  ['plus',\n",
              "   ['app',\n",
              "    ['d'],\n",
              "    ['plus', ['app', ['d'], ['plus', ['app', ['d'], ['d']], ['d']]], ['d']]],\n",
              "   ['d']]],\n",
              " ['e'],\n",
              " ['e'],\n",
              " ['app',\n",
              "  ['d'],\n",
              "  ['plus',\n",
              "   ['app',\n",
              "    ['d'],\n",
              "    ['plus', ['app', ['d'], ['plus', ['app', ['d'], ['d']], ['d']]], ['d']]],\n",
              "   ['d']]],\n",
              " ['e'],\n",
              " ['e'],\n",
              " ['app',\n",
              "  ['d'],\n",
              "  ['plus',\n",
              "   ['app',\n",
              "    ['d'],\n",
              "    ['plus', ['app', ['d'], ['plus', ['app', ['d'], ['d']], ['d']]], ['d']]],\n",
              "   ['d']]],\n",
              " ['e'],\n",
              " ['e'],\n",
              " ['app', ['d'], ['plus', ['app', ['d'], ['d']], ['d']]],\n",
              " ['app',\n",
              "  ['d'],\n",
              "  ['plus',\n",
              "   ['app', ['d'], ['plus', ['app', ['d'], ['d']], ['d']]],\n",
              "   ['plus', ['app', ['d'], ['d']], ['d']]]],\n",
              " ['app',\n",
              "  ['d'],\n",
              "  ['app',\n",
              "   ['d'],\n",
              "   ['plus',\n",
              "    ['app', ['d'], ['app', ['d'], ['plus', ['d'], ['d']]]],\n",
              "    ['plus', ['d'], ['d']]]]],\n",
              " ['e'],\n",
              " ['app',\n",
              "  ['d'],\n",
              "  ['plus',\n",
              "   ['app',\n",
              "    ['d'],\n",
              "    ['plus', ['app', ['d'], ['plus', ['app', ['d'], ['d']], ['d']]], ['d']]],\n",
              "   ['d']]],\n",
              " ['e'],\n",
              " ['e'],\n",
              " ['app',\n",
              "  ['d'],\n",
              "  ['plus',\n",
              "   ['app',\n",
              "    ['d'],\n",
              "    ['plus', ['app', ['d'], ['plus', ['app', ['d'], ['d']], ['d']]], ['d']]],\n",
              "   ['d']]],\n",
              " ['e'],\n",
              " ['e'],\n",
              " ['app',\n",
              "  ['d'],\n",
              "  ['plus',\n",
              "   ['app',\n",
              "    ['d'],\n",
              "    ['plus', ['app', ['d'], ['plus', ['app', ['d'], ['d']], ['d']]], ['d']]],\n",
              "   ['d']]],\n",
              " ['e'],\n",
              " ['e'],\n",
              " ['app', ['d'], ['plus', ['app', ['d'], ['d']], ['d']]],\n",
              " ['app',\n",
              "  ['d'],\n",
              "  ['plus',\n",
              "   ['app', ['d'], ['plus', ['app', ['d'], ['d']], ['d']]],\n",
              "   ['plus', ['app', ['d'], ['d']], ['d']]]],\n",
              " ['app',\n",
              "  ['d'],\n",
              "  ['app',\n",
              "   ['d'],\n",
              "   ['plus',\n",
              "    ['app', ['d'], ['app', ['d'], ['plus', ['d'], ['d']]]],\n",
              "    ['plus', ['d'], ['d']]]]],\n",
              " ['e'],\n",
              " ['app',\n",
              "  ['d'],\n",
              "  ['plus',\n",
              "   ['app',\n",
              "    ['d'],\n",
              "    ['plus', ['app', ['d'], ['plus', ['app', ['d'], ['d']], ['d']]], ['d']]],\n",
              "   ['d']]],\n",
              " ['e'],\n",
              " ['e'],\n",
              " ['app',\n",
              "  ['d'],\n",
              "  ['plus',\n",
              "   ['app',\n",
              "    ['d'],\n",
              "    ['plus', ['app', ['d'], ['plus', ['app', ['d'], ['d']], ['d']]], ['d']]],\n",
              "   ['d']]],\n",
              " ['e'],\n",
              " ['e'],\n",
              " ['app',\n",
              "  ['d'],\n",
              "  ['plus',\n",
              "   ['app',\n",
              "    ['d'],\n",
              "    ['plus', ['app', ['d'], ['plus', ['app', ['d'], ['d']], ['d']]], ['d']]],\n",
              "   ['d']]],\n",
              " ['e'],\n",
              " ['e'],\n",
              " ['app', ['d'], ['plus', ['app', ['d'], ['d']], ['d']]],\n",
              " ['app',\n",
              "  ['d'],\n",
              "  ['plus',\n",
              "   ['app', ['d'], ['plus', ['app', ['d'], ['d']], ['d']]],\n",
              "   ['plus', ['app', ['d'], ['d']], ['d']]]],\n",
              " ['app',\n",
              "  ['d'],\n",
              "  ['app',\n",
              "   ['d'],\n",
              "   ['plus',\n",
              "    ['app', ['d'], ['app', ['d'], ['plus', ['d'], ['d']]]],\n",
              "    ['plus', ['d'], ['d']]]]],\n",
              " ['e'],\n",
              " ['app',\n",
              "  ['d'],\n",
              "  ['plus',\n",
              "   ['app',\n",
              "    ['d'],\n",
              "    ['plus', ['app', ['d'], ['plus', ['app', ['d'], ['d']], ['d']]], ['d']]],\n",
              "   ['d']]],\n",
              " ['e'],\n",
              " ['e'],\n",
              " ['app',\n",
              "  ['d'],\n",
              "  ['plus',\n",
              "   ['app',\n",
              "    ['d'],\n",
              "    ['plus', ['app', ['d'], ['plus', ['app', ['d'], ['d']], ['d']]], ['d']]],\n",
              "   ['d']]],\n",
              " ['e'],\n",
              " ['e'],\n",
              " ['app',\n",
              "  ['d'],\n",
              "  ['plus',\n",
              "   ['app',\n",
              "    ['d'],\n",
              "    ['plus', ['app', ['d'], ['plus', ['app', ['d'], ['d']], ['d']]], ['d']]],\n",
              "   ['d']]],\n",
              " ['e'],\n",
              " ['e'],\n",
              " ['app', ['d'], ['plus', ['app', ['d'], ['d']], ['d']]],\n",
              " ['app',\n",
              "  ['d'],\n",
              "  ['plus',\n",
              "   ['app', ['d'], ['plus', ['app', ['d'], ['d']], ['d']]],\n",
              "   ['plus', ['app', ['d'], ['d']], ['d']]]],\n",
              " ['app',\n",
              "  ['d'],\n",
              "  ['app',\n",
              "   ['d'],\n",
              "   ['plus',\n",
              "    ['app', ['d'], ['app', ['d'], ['plus', ['d'], ['d']]]],\n",
              "    ['plus', ['d'], ['d']]]]],\n",
              " ['e'],\n",
              " ['app',\n",
              "  ['d'],\n",
              "  ['plus',\n",
              "   ['app',\n",
              "    ['d'],\n",
              "    ['plus', ['app', ['d'], ['plus', ['app', ['d'], ['d']], ['d']]], ['d']]],\n",
              "   ['d']]],\n",
              " ['e'],\n",
              " ['e'],\n",
              " ['app',\n",
              "  ['d'],\n",
              "  ['plus',\n",
              "   ['app',\n",
              "    ['d'],\n",
              "    ['plus', ['app', ['d'], ['plus', ['app', ['d'], ['d']], ['d']]], ['d']]],\n",
              "   ['d']]],\n",
              " ['e'],\n",
              " ['e'],\n",
              " ['app',\n",
              "  ['d'],\n",
              "  ['plus',\n",
              "   ['app',\n",
              "    ['d'],\n",
              "    ['plus', ['app', ['d'], ['plus', ['app', ['d'], ['d']], ['d']]], ['d']]],\n",
              "   ['d']]],\n",
              " ['e'],\n",
              " ['e'],\n",
              " ['app', ['d'], ['plus', ['app', ['d'], ['d']], ['d']]],\n",
              " ['app',\n",
              "  ['d'],\n",
              "  ['plus',\n",
              "   ['app', ['d'], ['plus', ['app', ['d'], ['d']], ['d']]],\n",
              "   ['plus', ['app', ['d'], ['d']], ['d']]]],\n",
              " ['app',\n",
              "  ['d'],\n",
              "  ['app',\n",
              "   ['d'],\n",
              "   ['plus',\n",
              "    ['app', ['d'], ['app', ['d'], ['plus', ['d'], ['d']]]],\n",
              "    ['plus', ['d'], ['d']]]]],\n",
              " ['e'],\n",
              " ['app',\n",
              "  ['d'],\n",
              "  ['plus',\n",
              "   ['app',\n",
              "    ['d'],\n",
              "    ['plus', ['app', ['d'], ['plus', ['app', ['d'], ['d']], ['d']]], ['d']]],\n",
              "   ['d']]],\n",
              " ['e'],\n",
              " ['e'],\n",
              " ['app',\n",
              "  ['d'],\n",
              "  ['plus',\n",
              "   ['app',\n",
              "    ['d'],\n",
              "    ['plus', ['app', ['d'], ['plus', ['app', ['d'], ['d']], ['d']]], ['d']]],\n",
              "   ['d']]],\n",
              " ['e'],\n",
              " ['e'],\n",
              " ['app',\n",
              "  ['d'],\n",
              "  ['plus',\n",
              "   ['app',\n",
              "    ['d'],\n",
              "    ['plus', ['app', ['d'], ['plus', ['app', ['d'], ['d']], ['d']]], ['d']]],\n",
              "   ['d']]],\n",
              " ['e'],\n",
              " ['e'],\n",
              " ['app', ['d'], ['plus', ['app', ['d'], ['d']], ['d']]],\n",
              " ['app',\n",
              "  ['d'],\n",
              "  ['plus',\n",
              "   ['app', ['d'], ['plus', ['app', ['d'], ['d']], ['d']]],\n",
              "   ['plus', ['app', ['d'], ['d']], ['d']]]],\n",
              " ['app',\n",
              "  ['d'],\n",
              "  ['app',\n",
              "   ['d'],\n",
              "   ['plus',\n",
              "    ['app', ['d'], ['app', ['d'], ['plus', ['d'], ['d']]]],\n",
              "    ['plus', ['d'], ['d']]]]],\n",
              " ['e'],\n",
              " ['app',\n",
              "  ['d'],\n",
              "  ['plus',\n",
              "   ['app',\n",
              "    ['d'],\n",
              "    ['plus', ['app', ['d'], ['plus', ['app', ['d'], ['d']], ['d']]], ['d']]],\n",
              "   ['d']]],\n",
              " ['e'],\n",
              " ['e'],\n",
              " ['app',\n",
              "  ['d'],\n",
              "  ['plus',\n",
              "   ['app',\n",
              "    ['d'],\n",
              "    ['plus', ['app', ['d'], ['plus', ['app', ['d'], ['d']], ['d']]], ['d']]],\n",
              "   ['d']]],\n",
              " ['e'],\n",
              " ['e'],\n",
              " ['app',\n",
              "  ['d'],\n",
              "  ['plus',\n",
              "   ['app',\n",
              "    ['d'],\n",
              "    ['plus', ['app', ['d'], ['plus', ['app', ['d'], ['d']], ['d']]], ['d']]],\n",
              "   ['d']]],\n",
              " ['e'],\n",
              " ['e'],\n",
              " ['app', ['d'], ['plus', ['app', ['d'], ['d']], ['d']]],\n",
              " ['app',\n",
              "  ['d'],\n",
              "  ['plus',\n",
              "   ['app', ['d'], ['plus', ['app', ['d'], ['d']], ['d']]],\n",
              "   ['plus', ['app', ['d'], ['d']], ['d']]]],\n",
              " ['app',\n",
              "  ['d'],\n",
              "  ['app',\n",
              "   ['d'],\n",
              "   ['plus',\n",
              "    ['app', ['d'], ['app', ['d'], ['plus', ['d'], ['d']]]],\n",
              "    ['plus', ['d'], ['d']]]]],\n",
              " ['e'],\n",
              " ['app',\n",
              "  ['d'],\n",
              "  ['plus',\n",
              "   ['app',\n",
              "    ['d'],\n",
              "    ['plus', ['app', ['d'], ['plus', ['app', ['d'], ['d']], ['d']]], ['d']]],\n",
              "   ['d']]],\n",
              " ['e'],\n",
              " ['e'],\n",
              " ['app',\n",
              "  ['d'],\n",
              "  ['plus',\n",
              "   ['app',\n",
              "    ['d'],\n",
              "    ['plus', ['app', ['d'], ['plus', ['app', ['d'], ['d']], ['d']]], ['d']]],\n",
              "   ['d']]],\n",
              " ['e'],\n",
              " ['e'],\n",
              " ['app',\n",
              "  ['d'],\n",
              "  ['plus',\n",
              "   ['app',\n",
              "    ['d'],\n",
              "    ['plus', ['app', ['d'], ['plus', ['app', ['d'], ['d']], ['d']]], ['d']]],\n",
              "   ['d']]],\n",
              " ['e'],\n",
              " ['e'],\n",
              " ['app', ['d'], ['plus', ['app', ['d'], ['d']], ['d']]],\n",
              " ['app',\n",
              "  ['d'],\n",
              "  ['plus',\n",
              "   ['app', ['d'], ['plus', ['app', ['d'], ['d']], ['d']]],\n",
              "   ['plus', ['app', ['d'], ['d']], ['d']]]],\n",
              " ['app',\n",
              "  ['d'],\n",
              "  ['app',\n",
              "   ['d'],\n",
              "   ['plus',\n",
              "    ['app', ['d'], ['app', ['d'], ['plus', ['d'], ['d']]]],\n",
              "    ['plus', ['d'], ['d']]]]],\n",
              " ['e'],\n",
              " ['app',\n",
              "  ['d'],\n",
              "  ['plus',\n",
              "   ['app',\n",
              "    ['d'],\n",
              "    ['plus', ['app', ['d'], ['plus', ['app', ['d'], ['d']], ['d']]], ['d']]],\n",
              "   ['d']]],\n",
              " ['e'],\n",
              " ['e'],\n",
              " ['app',\n",
              "  ['d'],\n",
              "  ['plus',\n",
              "   ['app',\n",
              "    ['d'],\n",
              "    ['plus', ['app', ['d'], ['plus', ['app', ['d'], ['d']], ['d']]], ['d']]],\n",
              "   ['d']]],\n",
              " ['e'],\n",
              " ['e'],\n",
              " ['app',\n",
              "  ['d'],\n",
              "  ['plus',\n",
              "   ['app',\n",
              "    ['d'],\n",
              "    ['plus', ['app', ['d'], ['plus', ['app', ['d'], ['d']], ['d']]], ['d']]],\n",
              "   ['d']]],\n",
              " ['e'],\n",
              " ['e'],\n",
              " ['app', ['d'], ['plus', ['app', ['d'], ['d']], ['d']]],\n",
              " ['app',\n",
              "  ['d'],\n",
              "  ['plus',\n",
              "   ['app', ['d'], ['plus', ['app', ['d'], ['d']], ['d']]],\n",
              "   ['plus', ['app', ['d'], ['d']], ['d']]]],\n",
              " ['app',\n",
              "  ['d'],\n",
              "  ['app',\n",
              "   ['d'],\n",
              "   ['plus',\n",
              "    ['app', ['d'], ['app', ['d'], ['plus', ['d'], ['d']]]],\n",
              "    ['plus', ['d'], ['d']]]]],\n",
              " ['e'],\n",
              " ['app',\n",
              "  ['d'],\n",
              "  ['plus',\n",
              "   ['app',\n",
              "    ['d'],\n",
              "    ['plus', ['app', ['d'], ['plus', ['app', ['d'], ['d']], ['d']]], ['d']]],\n",
              "   ['d']]],\n",
              " ['e'],\n",
              " ['e'],\n",
              " ['app',\n",
              "  ['d'],\n",
              "  ['plus',\n",
              "   ['app',\n",
              "    ['d'],\n",
              "    ['plus', ['app', ['d'], ['plus', ['app', ['d'], ['d']], ['d']]], ['d']]],\n",
              "   ['d']]],\n",
              " ['e'],\n",
              " ['e'],\n",
              " ['app',\n",
              "  ['d'],\n",
              "  ['plus',\n",
              "   ['app',\n",
              "    ['d'],\n",
              "    ['plus', ['app', ['d'], ['plus', ['app', ['d'], ['d']], ['d']]], ['d']]],\n",
              "   ['d']]],\n",
              " ['e'],\n",
              " ['e'],\n",
              " ['app', ['d'], ['plus', ['app', ['d'], ['d']], ['d']]],\n",
              " ['app',\n",
              "  ['d'],\n",
              "  ['plus',\n",
              "   ['app', ['d'], ['plus', ['app', ['d'], ['d']], ['d']]],\n",
              "   ['plus', ['app', ['d'], ['d']], ['d']]]],\n",
              " ['app',\n",
              "  ['d'],\n",
              "  ['app',\n",
              "   ['d'],\n",
              "   ['plus',\n",
              "    ['app', ['d'], ['app', ['d'], ['plus', ['d'], ['d']]]],\n",
              "    ['plus', ['d'], ['d']]]]],\n",
              " ['e'],\n",
              " ['app',\n",
              "  ['d'],\n",
              "  ['plus',\n",
              "   ['app',\n",
              "    ['d'],\n",
              "    ['plus', ['app', ['d'], ['plus', ['app', ['d'], ['d']], ['d']]], ['d']]],\n",
              "   ['d']]],\n",
              " ['e'],\n",
              " ['e'],\n",
              " ['app',\n",
              "  ['d'],\n",
              "  ['plus',\n",
              "   ['app',\n",
              "    ['d'],\n",
              "    ['plus', ['app', ['d'], ['plus', ['app', ['d'], ['d']], ['d']]], ['d']]],\n",
              "   ['d']]],\n",
              " ['e'],\n",
              " ['e'],\n",
              " ['app',\n",
              "  ['d'],\n",
              "  ['plus',\n",
              "   ['app',\n",
              "    ['d'],\n",
              "    ['plus', ['app', ['d'], ['plus', ['app', ['d'], ['d']], ['d']]], ['d']]],\n",
              "   ['d']]],\n",
              " ['e'],\n",
              " ['e'],\n",
              " ['app', ['d'], ['plus', ['app', ['d'], ['d']], ['d']]],\n",
              " ['app',\n",
              "  ['d'],\n",
              "  ['plus',\n",
              "   ['app', ['d'], ['plus', ['app', ['d'], ['d']], ['d']]],\n",
              "   ['plus', ['app', ['d'], ['d']], ['d']]]],\n",
              " ['app',\n",
              "  ['d'],\n",
              "  ['app',\n",
              "   ['d'],\n",
              "   ['plus',\n",
              "    ['app', ['d'], ['app', ['d'], ['plus', ['d'], ['d']]]],\n",
              "    ['plus', ['d'], ['d']]]]],\n",
              " ['e'],\n",
              " ['app',\n",
              "  ['d'],\n",
              "  ['plus',\n",
              "   ['app',\n",
              "    ['d'],\n",
              "    ['plus', ['app', ['d'], ['plus', ['app', ['d'], ['d']], ['d']]], ['d']]],\n",
              "   ['d']]],\n",
              " ['e'],\n",
              " ['e'],\n",
              " ['app',\n",
              "  ['d'],\n",
              "  ['plus',\n",
              "   ['app',\n",
              "    ['d'],\n",
              "    ['plus', ['app', ['d'], ['plus', ['app', ['d'], ['d']], ['d']]], ['d']]],\n",
              "   ['d']]],\n",
              " ['e'],\n",
              " ['e'],\n",
              " ['app',\n",
              "  ['d'],\n",
              "  ['plus',\n",
              "   ['app',\n",
              "    ['d'],\n",
              "    ['plus', ['app', ['d'], ['plus', ['app', ['d'], ['d']], ['d']]], ['d']]],\n",
              "   ['d']]],\n",
              " ['e']]"
            ]
          },
          "metadata": {},
          "execution_count": 10
        }
      ]
    },
    {
      "cell_type": "code",
      "source": [
        "max([appheight(x) for x in list6])"
      ],
      "metadata": {
        "colab": {
          "base_uri": "https://localhost:8080/"
        },
        "id": "e4EnM9w8GSm4",
        "outputId": "2924a8ef-596b-4e6b-d905-08ab36ca4272"
      },
      "execution_count": null,
      "outputs": [
        {
          "output_type": "execute_result",
          "data": {
            "text/plain": [
              "5"
            ]
          },
          "metadata": {},
          "execution_count": 18
        }
      ]
    },
    {
      "cell_type": "code",
      "source": [
        "# this is checking whether any term in List4, when applied to the empty word,\n",
        "# gives out itself (up to normal form)\n",
        "# see below for the same calculations with List5, a much longer list\n",
        "\n",
        "results = [(flatten(x)== flatten(nf_simple(term('app',[x,empty])))) for x in List4]"
      ],
      "metadata": {
        "id": "5wBmkmCv2nJe"
      },
      "execution_count": null,
      "outputs": []
    },
    {
      "cell_type": "code",
      "source": [
        "print(results)"
      ],
      "metadata": {
        "colab": {
          "base_uri": "https://localhost:8080/"
        },
        "id": "rL2er6u04S9x",
        "outputId": "dae96ba1-0bca-42a4-a15e-0139f1d13e34"
      },
      "execution_count": null,
      "outputs": [
        {
          "output_type": "stream",
          "name": "stdout",
          "text": [
            "[True, False, True, False, False, False, False, False, False, False, False, False, False, False, False, False, False, False, False, False, False, False, False, False, False, False, False, False, False, False, False, False, False, False, False, False, False, False, False, False, False, False, False, False, False, False, False, False, False, False, False, False, False, False, False, False, False, False, False, False, False, False, False, False, False, False, False, False, False, False, False, False, False, False, False, False, False, False, False, False, False, False, False, False, False, False, False, False, False, False, False, False, False, False, False, False, False, False, False, False, False, False, False, False, False, False, False, False, False, False, False, False, False, False, False, False, False, False, False, False, False, False, False, False, False, False, False, False, False, False, False, False, False, False, False, False, False, False, False, False, False, False, False, False, False, False, False, False, False, False, False, False, False, False, False, False, False, False, False, False, False, False, False, False, False, False, False, False, False, False, False, False, False, False, False, False, False, False, False, False, False, False, False, False]\n"
          ]
        }
      ]
    },
    {
      "cell_type": "code",
      "source": [
        "len(results)"
      ],
      "metadata": {
        "colab": {
          "base_uri": "https://localhost:8080/"
        },
        "id": "vQ1h-2vW4UIe",
        "outputId": "bb512f79-56d0-4392-8bfc-5245d868767f"
      },
      "execution_count": null,
      "outputs": [
        {
          "output_type": "execute_result",
          "data": {
            "text/plain": [
              "184"
            ]
          },
          "metadata": {},
          "execution_count": 222
        }
      ]
    },
    {
      "cell_type": "code",
      "source": [
        "[i for i in range(184) if results[i]==True]"
      ],
      "metadata": {
        "colab": {
          "base_uri": "https://localhost:8080/"
        },
        "id": "q7UvzNRF4436",
        "outputId": "6c6e2b05-8808-44fd-cae3-7e2cd33bd0bb"
      },
      "execution_count": null,
      "outputs": [
        {
          "output_type": "execute_result",
          "data": {
            "text/plain": [
              "[0, 2]"
            ]
          },
          "metadata": {},
          "execution_count": 223
        }
      ]
    },
    {
      "cell_type": "code",
      "source": [
        "flatten(List4[2])"
      ],
      "metadata": {
        "colab": {
          "base_uri": "https://localhost:8080/"
        },
        "id": "Zchd5f2f4-XX",
        "outputId": "65c5dcd4-6db1-470c-a8ca-0b2a14019df0"
      },
      "execution_count": null,
      "outputs": [
        {
          "output_type": "execute_result",
          "data": {
            "text/plain": [
              "['app', ['d'], ['d']]"
            ]
          },
          "metadata": {},
          "execution_count": 225
        }
      ]
    },
    {
      "cell_type": "code",
      "source": [
        "results5 = [(flatten(x)== flatten(nf_simple(term('app',[x,empty])))) for x in List5]"
      ],
      "metadata": {
        "id": "XfyzA5OZ5Bv_"
      },
      "execution_count": null,
      "outputs": []
    },
    {
      "cell_type": "code",
      "source": [
        "L = len(results5)\n",
        "[i for i in range(L) if results5[i]==True]"
      ],
      "metadata": {
        "colab": {
          "base_uri": "https://localhost:8080/"
        },
        "id": "VXA2pUIN5KYG",
        "outputId": "4281b23f-582e-4003-af99-fe0caba261be"
      },
      "execution_count": null,
      "outputs": [
        {
          "output_type": "execute_result",
          "data": {
            "text/plain": [
              "[0, 2]"
            ]
          },
          "metadata": {},
          "execution_count": 227
        }
      ]
    },
    {
      "cell_type": "code",
      "source": [
        "flatten(List5[2])"
      ],
      "metadata": {
        "colab": {
          "base_uri": "https://localhost:8080/"
        },
        "id": "Q1R7VrIE5WSY",
        "outputId": "dcec7ba0-3621-4c32-fe02-457b9c64d178"
      },
      "execution_count": null,
      "outputs": [
        {
          "output_type": "execute_result",
          "data": {
            "text/plain": [
              "['app', ['d'], ['d']]"
            ]
          },
          "metadata": {},
          "execution_count": 228
        }
      ]
    },
    {
      "cell_type": "code",
      "source": [
        "def appheight(t):\n",
        "  if t == diag:\n",
        "    return(0)\n",
        "  if t == empty:\n",
        "    return(0)\n",
        "  if t.head == 'app':\n",
        "    n = appheight(t.subterms[0])\n",
        "    m = appheight(t.subterms[1])\n",
        "    p = max(m,n)\n",
        "    return(p+1)\n",
        "  if t.head == 'plus':\n",
        "    n = appheight(t.subterms[0])\n",
        "    m = appheight(t.subterms[1])\n",
        "    p = max(m,n) \n",
        "    return(p)\n",
        "      \n",
        "def dcount(t):\n",
        "  if t == diag:\n",
        "    return(1)\n",
        "  if t == empty:\n",
        "    return(0)\n",
        "  if t.head == 'app':\n",
        "    n = appheight(t.subterms[0])\n",
        "    m = appheight(t.subterms[1])\n",
        "    p = m+n\n",
        "    return(p)\n",
        "  if t.head == 'plus':\n",
        "    n = appheight(t.subterms[0])\n",
        "    m = appheight(t.subterms[1])\n",
        "    p = m+n \n",
        "    return(p)               \n",
        "\n",
        "def totalsize(t):\n",
        "  if t == diag:\n",
        "    return(0)\n",
        "  if t == empty:\n",
        "    return(0)\n",
        "  if t.head == 'app':\n",
        "    n = totalsize(t.subterms[0])\n",
        "    m = totalsize(t.subterms[1])\n",
        "    p = m + n +1\n",
        "    return(p+1)\n",
        "  if t.head == 'plus':\n",
        "    n = totalsize(t.subterms[0])\n",
        "    m = totalsize(t.subterms[1])\n",
        "    p = m + n +1 \n",
        "    return(p)               "
      ],
      "metadata": {
        "id": "dI2iUa4C5b8K"
      },
      "execution_count": 27,
      "outputs": []
    },
    {
      "cell_type": "code",
      "source": [
        "flatten(List5[155])"
      ],
      "metadata": {
        "colab": {
          "base_uri": "https://localhost:8080/"
        },
        "id": "-jet_OojOWu-",
        "outputId": "1cad6ef1-1ae9-4066-e4e3-e697fbe90b65"
      },
      "execution_count": null,
      "outputs": [
        {
          "output_type": "execute_result",
          "data": {
            "text/plain": [
              "['app',\n",
              " ['d'],\n",
              " ['plus',\n",
              "  ['plus', ['plus', ['d'], ['d']], ['d']],\n",
              "  ['plus', ['app', ['d'], ['d']], ['plus', ['d'], ['d']]]]]"
            ]
          },
          "metadata": {},
          "execution_count": 232
        }
      ]
    },
    {
      "cell_type": "code",
      "source": [
        "appheight(List5[155])"
      ],
      "metadata": {
        "colab": {
          "base_uri": "https://localhost:8080/"
        },
        "id": "H1cpWCAnOeE3",
        "outputId": "a519d08a-fdf0-4c0f-fbe3-e7190f5fc0e2"
      },
      "execution_count": null,
      "outputs": [
        {
          "output_type": "execute_result",
          "data": {
            "text/plain": [
              "2"
            ]
          },
          "metadata": {},
          "execution_count": 233
        }
      ]
    },
    {
      "cell_type": "code",
      "source": [
        "totalsize(List5[155])"
      ],
      "metadata": {
        "colab": {
          "base_uri": "https://localhost:8080/"
        },
        "id": "KLJ5WqKyQ8TI",
        "outputId": "942b5f73-1118-4c5b-ffdd-339e28dbe333"
      },
      "execution_count": null,
      "outputs": [
        {
          "output_type": "execute_result",
          "data": {
            "text/plain": [
              "9"
            ]
          },
          "metadata": {},
          "execution_count": 240
        }
      ]
    },
    {
      "cell_type": "code",
      "source": [
        "appdifferences3 = [(appheight(nf_simple(term('app',[x,empty])))- appheight(x)) for x in List3]"
      ],
      "metadata": {
        "id": "dJ8ltRJHIIPi"
      },
      "execution_count": null,
      "outputs": []
    },
    {
      "cell_type": "code",
      "source": [
        "min(appdifferences3)"
      ],
      "metadata": {
        "colab": {
          "base_uri": "https://localhost:8080/"
        },
        "id": "h8qPqbwGIMeG",
        "outputId": "7ac90fc8-251d-42b3-ec99-efccae32f65e"
      },
      "execution_count": null,
      "outputs": [
        {
          "output_type": "execute_result",
          "data": {
            "text/plain": [
              "-1"
            ]
          },
          "metadata": {},
          "execution_count": 26
        }
      ]
    },
    {
      "cell_type": "code",
      "source": [
        "appdifferences3"
      ],
      "metadata": {
        "colab": {
          "base_uri": "https://localhost:8080/"
        },
        "id": "TOx2nkXgIQfo",
        "outputId": "ec3b4044-7958-4ee4-d87d-ca2b8846dcb6"
      },
      "execution_count": null,
      "outputs": [
        {
          "output_type": "execute_result",
          "data": {
            "text/plain": [
              "[0, 0, 0, 0, 1, 0, 1, 0, -1, 1, -1, 0, 1, 0]"
            ]
          },
          "metadata": {},
          "execution_count": 27
        }
      ]
    },
    {
      "cell_type": "code",
      "source": [
        "y = List3[8]\n",
        "print(flatten(y))\n",
        "print(flatten(nf_simple(term('app',[y,empty]))))\n",
        "print(appdifferences3[8])"
      ],
      "metadata": {
        "colab": {
          "base_uri": "https://localhost:8080/"
        },
        "id": "2WN7tAjIIVpZ",
        "outputId": "c2ed409f-5eb6-4e59-a6eb-77a2798ded5f"
      },
      "execution_count": null,
      "outputs": [
        {
          "output_type": "stream",
          "name": "stdout",
          "text": [
            "['plus', ['app', ['d'], ['d']], ['d']]\n",
            "['e']\n",
            "-1\n"
          ]
        }
      ]
    },
    {
      "cell_type": "code",
      "source": [
        "y = List3[10]\n",
        "print(flatten(y))\n",
        "print(flatten(nf_simple(term('app',[y,empty]))))"
      ],
      "metadata": {
        "colab": {
          "base_uri": "https://localhost:8080/"
        },
        "id": "ciD6wfdyIVfh",
        "outputId": "b4dd45af-d46a-47bf-9ee2-ee0fa999fbbb"
      },
      "execution_count": null,
      "outputs": [
        {
          "output_type": "stream",
          "name": "stdout",
          "text": [
            "['plus', ['app', ['d'], ['d']], ['plus', ['d'], ['d']]]\n",
            "['e']\n"
          ]
        }
      ]
    },
    {
      "cell_type": "code",
      "source": [],
      "metadata": {
        "id": "nkXcLfPXIVVd"
      },
      "execution_count": null,
      "outputs": []
    },
    {
      "cell_type": "code",
      "source": [
        "appdifferences4 = [(appheight(nf_simple(term('app',[x,empty])))- appheight(x)) for x in List4]"
      ],
      "metadata": {
        "id": "8nX_EEqoH8t_"
      },
      "execution_count": null,
      "outputs": []
    },
    {
      "cell_type": "code",
      "source": [
        "min(appdifferences4)"
      ],
      "metadata": {
        "colab": {
          "base_uri": "https://localhost:8080/"
        },
        "id": "OiS2zHUHIA8t",
        "outputId": "8662c924-f95c-41dd-e09e-1ae607b45f9c"
      },
      "execution_count": null,
      "outputs": [
        {
          "output_type": "execute_result",
          "data": {
            "text/plain": [
              "-2"
            ]
          },
          "metadata": {},
          "execution_count": 24
        }
      ]
    },
    {
      "cell_type": "code",
      "source": [
        "appdifferences5 = [(appheight(nf_simple(term('app',[x,empty])))- appheight(x)) for x in List5]"
      ],
      "metadata": {
        "id": "6oOf--r1OlI6"
      },
      "execution_count": null,
      "outputs": []
    },
    {
      "cell_type": "code",
      "source": [
        "min(appdifferences5)"
      ],
      "metadata": {
        "colab": {
          "base_uri": "https://localhost:8080/"
        },
        "id": "neWYIP4bO7xU",
        "outputId": "d73f5123-f094-488d-9ccc-c72dfb19fc6f"
      },
      "execution_count": null,
      "outputs": [
        {
          "output_type": "execute_result",
          "data": {
            "text/plain": [
              "-3"
            ]
          },
          "metadata": {},
          "execution_count": 20
        }
      ]
    },
    {
      "cell_type": "code",
      "source": [
        "appdifferences5[0:1000]"
      ],
      "metadata": {
        "id": "oK4bb2L8PCVR"
      },
      "execution_count": null,
      "outputs": []
    },
    {
      "cell_type": "code",
      "source": [
        "totalsizedifferences5 = [(totalsize(nf_simple(term('app',[x,empty])))- totalsize(x)) for x in List5]"
      ],
      "metadata": {
        "id": "GJBqh-lmPF2s"
      },
      "execution_count": null,
      "outputs": []
    },
    {
      "cell_type": "code",
      "source": [
        "min(totalsizedifferences5)\n",
        "[i for i in range(len(List5)) if totalsizedifferences5[i] == -22]\n",
        "y = List5[23370]\n",
        "print(flatten(y))\n",
        "print(flatten(nf_simple(term('app',[y,empty]))))"
      ],
      "metadata": {
        "colab": {
          "base_uri": "https://localhost:8080/"
        },
        "id": "XTyTEukuKZrl",
        "outputId": "1bf5d982-14ba-4001-a96b-7f3a0053d654"
      },
      "execution_count": null,
      "outputs": [
        {
          "output_type": "stream",
          "name": "stdout",
          "text": [
            "['plus', ['plus', ['plus', ['app', ['d'], ['d']], ['app', ['d'], ['d']]], ['plus', ['app', ['d'], ['d']], ['app', ['d'], ['d']]]], ['plus', ['plus', ['app', ['d'], ['d']], ['app', ['d'], ['d']]], ['plus', ['app', ['d'], ['d']], ['plus', ['d'], ['d']]]]]\n",
            "['e']\n"
          ]
        }
      ]
    },
    {
      "cell_type": "code",
      "source": [
        "totalsizedifferences5[0:1000]"
      ],
      "metadata": {
        "id": "CWlfvJYrRPBm"
      },
      "execution_count": null,
      "outputs": []
    },
    {
      "cell_type": "code",
      "source": [
        "totalsize(term('app' [diag,diag]))"
      ],
      "metadata": {
        "id": "mYCvA8rORYf8",
        "colab": {
          "base_uri": "https://localhost:8080/",
          "height": 169
        },
        "outputId": "a77dcdb0-a5e6-4a9f-9474-108940b770cb"
      },
      "execution_count": null,
      "outputs": [
        {
          "output_type": "error",
          "ename": "TypeError",
          "evalue": "ignored",
          "traceback": [
            "\u001b[0;31m---------------------------------------------------------------------------\u001b[0m",
            "\u001b[0;31mTypeError\u001b[0m                                 Traceback (most recent call last)",
            "\u001b[0;32m<ipython-input-50-9a959352ee7e>\u001b[0m in \u001b[0;36m<module>\u001b[0;34m\u001b[0m\n\u001b[0;32m----> 1\u001b[0;31m \u001b[0mtotalsize\u001b[0m\u001b[0;34m(\u001b[0m\u001b[0mterm\u001b[0m\u001b[0;34m(\u001b[0m\u001b[0;34m'app'\u001b[0m \u001b[0;34m[\u001b[0m\u001b[0mdiag\u001b[0m\u001b[0;34m,\u001b[0m\u001b[0mdiag\u001b[0m\u001b[0;34m]\u001b[0m\u001b[0;34m)\u001b[0m\u001b[0;34m)\u001b[0m\u001b[0;34m\u001b[0m\u001b[0;34m\u001b[0m\u001b[0m\n\u001b[0m",
            "\u001b[0;31mTypeError\u001b[0m: string indices must be integers"
          ]
        }
      ]
    },
    {
      "cell_type": "code",
      "source": [
        "w = [i for i in range(len(List5)) if totalsize(nf_simple(term('app',[List5[i],empty]))) == 2]"
      ],
      "metadata": {
        "id": "vm-tAO_xLYJW"
      },
      "execution_count": null,
      "outputs": []
    },
    {
      "cell_type": "code",
      "source": [
        "print(w)\n",
        "print(flatten(List5[2]))"
      ],
      "metadata": {
        "colab": {
          "base_uri": "https://localhost:8080/"
        },
        "id": "9y3SqBOeLjcP",
        "outputId": "260b540b-7a59-496a-9d3e-0e77f74ca0c3"
      },
      "execution_count": null,
      "outputs": [
        {
          "output_type": "stream",
          "name": "stdout",
          "text": [
            "[2]\n",
            "['app', ['d'], ['d']]\n"
          ]
        }
      ]
    },
    {
      "cell_type": "code",
      "source": [
        "dd = term('app', [diag,diag])"
      ],
      "metadata": {
        "id": "ojRajR82L6Y3"
      },
      "execution_count": null,
      "outputs": []
    },
    {
      "cell_type": "code",
      "source": [
        "totalsize(dd)"
      ],
      "metadata": {
        "colab": {
          "base_uri": "https://localhost:8080/"
        },
        "id": "dHdyuXWBMXhK",
        "outputId": "0d46458e-5c83-40a6-a7fe-803302866ba1"
      },
      "execution_count": null,
      "outputs": [
        {
          "output_type": "execute_result",
          "data": {
            "text/plain": [
              "2"
            ]
          },
          "metadata": {},
          "execution_count": 52
        }
      ]
    },
    {
      "cell_type": "code",
      "source": [
        "[i for i in range(len(List5)) if totalsizedifferences5[i] == -22]"
      ],
      "metadata": {
        "id": "qjnxTP_pMYgk"
      },
      "execution_count": null,
      "outputs": []
    },
    {
      "cell_type": "code",
      "source": [
        "w = [i for i in range(len(List5)) if totalsize(nf_simple(term('app',[List5[i],empty]))) == 2]"
      ],
      "metadata": {
        "id": "5rmf103ZM5cI"
      },
      "execution_count": null,
      "outputs": []
    },
    {
      "cell_type": "code",
      "source": [
        "appdifferences5 = [(dcount(nf_simple(term('app',[x,empty])))- dcount(x)) for x in List5]\n",
        "appdifferences5"
      ],
      "metadata": {
        "id": "xwiefUppWg2i",
        "outputId": "af4ce85c-6aed-4bf2-e3ea-8fd14e8bbe7a",
        "colab": {
          "base_uri": "https://localhost:8080/",
          "height": 336
        }
      },
      "execution_count": null,
      "outputs": [
        {
          "output_type": "error",
          "ename": "KeyboardInterrupt",
          "evalue": "ignored",
          "traceback": [
            "\u001b[0;31m---------------------------------------------------------------------------\u001b[0m",
            "\u001b[0;31mKeyboardInterrupt\u001b[0m                         Traceback (most recent call last)",
            "\u001b[0;32m<ipython-input-16-f463bb3c3df6>\u001b[0m in \u001b[0;36m<module>\u001b[0;34m\u001b[0m\n\u001b[0;32m----> 1\u001b[0;31m \u001b[0mappdifferences5\u001b[0m \u001b[0;34m=\u001b[0m \u001b[0;34m[\u001b[0m\u001b[0;34m(\u001b[0m\u001b[0mdcount\u001b[0m\u001b[0;34m(\u001b[0m\u001b[0mnf_simple\u001b[0m\u001b[0;34m(\u001b[0m\u001b[0mterm\u001b[0m\u001b[0;34m(\u001b[0m\u001b[0;34m'app'\u001b[0m\u001b[0;34m,\u001b[0m\u001b[0;34m[\u001b[0m\u001b[0mx\u001b[0m\u001b[0;34m,\u001b[0m\u001b[0mempty\u001b[0m\u001b[0;34m]\u001b[0m\u001b[0;34m)\u001b[0m\u001b[0;34m)\u001b[0m\u001b[0;34m)\u001b[0m\u001b[0;34m-\u001b[0m \u001b[0mdcount\u001b[0m\u001b[0;34m(\u001b[0m\u001b[0mx\u001b[0m\u001b[0;34m)\u001b[0m\u001b[0;34m)\u001b[0m \u001b[0;32mfor\u001b[0m \u001b[0mx\u001b[0m \u001b[0;32min\u001b[0m \u001b[0mList5\u001b[0m\u001b[0;34m]\u001b[0m\u001b[0;34m\u001b[0m\u001b[0;34m\u001b[0m\u001b[0m\n\u001b[0m\u001b[1;32m      2\u001b[0m \u001b[0mappdifferences5\u001b[0m\u001b[0;34m\u001b[0m\u001b[0;34m\u001b[0m\u001b[0m\n",
            "\u001b[0;32m<ipython-input-16-f463bb3c3df6>\u001b[0m in \u001b[0;36m<listcomp>\u001b[0;34m(.0)\u001b[0m\n\u001b[0;32m----> 1\u001b[0;31m \u001b[0mappdifferences5\u001b[0m \u001b[0;34m=\u001b[0m \u001b[0;34m[\u001b[0m\u001b[0;34m(\u001b[0m\u001b[0mdcount\u001b[0m\u001b[0;34m(\u001b[0m\u001b[0mnf_simple\u001b[0m\u001b[0;34m(\u001b[0m\u001b[0mterm\u001b[0m\u001b[0;34m(\u001b[0m\u001b[0;34m'app'\u001b[0m\u001b[0;34m,\u001b[0m\u001b[0;34m[\u001b[0m\u001b[0mx\u001b[0m\u001b[0;34m,\u001b[0m\u001b[0mempty\u001b[0m\u001b[0;34m]\u001b[0m\u001b[0;34m)\u001b[0m\u001b[0;34m)\u001b[0m\u001b[0;34m)\u001b[0m\u001b[0;34m-\u001b[0m \u001b[0mdcount\u001b[0m\u001b[0;34m(\u001b[0m\u001b[0mx\u001b[0m\u001b[0;34m)\u001b[0m\u001b[0;34m)\u001b[0m \u001b[0;32mfor\u001b[0m \u001b[0mx\u001b[0m \u001b[0;32min\u001b[0m \u001b[0mList5\u001b[0m\u001b[0;34m]\u001b[0m\u001b[0;34m\u001b[0m\u001b[0;34m\u001b[0m\u001b[0m\n\u001b[0m\u001b[1;32m      2\u001b[0m \u001b[0mappdifferences5\u001b[0m\u001b[0;34m\u001b[0m\u001b[0;34m\u001b[0m\u001b[0m\n",
            "\u001b[0;32m<ipython-input-3-b07910a3d72c>\u001b[0m in \u001b[0;36mnf_simple\u001b[0;34m(term)\u001b[0m\n\u001b[1;32m     46\u001b[0m \u001b[0;32mdef\u001b[0m \u001b[0mnf_simple\u001b[0m\u001b[0;34m(\u001b[0m\u001b[0mterm\u001b[0m\u001b[0;34m)\u001b[0m\u001b[0;34m:\u001b[0m\u001b[0;34m\u001b[0m\u001b[0;34m\u001b[0m\u001b[0m\n\u001b[1;32m     47\u001b[0m   \u001b[0mnew_term\u001b[0m \u001b[0;34m=\u001b[0m \u001b[0mrewrite_step\u001b[0m\u001b[0;34m(\u001b[0m\u001b[0mterm\u001b[0m\u001b[0;34m)\u001b[0m\u001b[0;34m\u001b[0m\u001b[0;34m\u001b[0m\u001b[0m\n\u001b[0;32m---> 48\u001b[0;31m   \u001b[0;32mwhile\u001b[0m \u001b[0mflatten\u001b[0m\u001b[0;34m(\u001b[0m\u001b[0mterm\u001b[0m\u001b[0;34m)\u001b[0m\u001b[0;34m!=\u001b[0m \u001b[0mflatten\u001b[0m\u001b[0;34m(\u001b[0m\u001b[0mnew_term\u001b[0m\u001b[0;34m)\u001b[0m\u001b[0;34m:\u001b[0m\u001b[0;34m\u001b[0m\u001b[0;34m\u001b[0m\u001b[0m\n\u001b[0m\u001b[1;32m     49\u001b[0m     \u001b[0mterm\u001b[0m \u001b[0;34m=\u001b[0m \u001b[0mnew_term\u001b[0m\u001b[0;34m\u001b[0m\u001b[0;34m\u001b[0m\u001b[0m\n\u001b[1;32m     50\u001b[0m     \u001b[0mnew_term\u001b[0m \u001b[0;34m=\u001b[0m \u001b[0mrewrite_step\u001b[0m\u001b[0;34m(\u001b[0m\u001b[0mnew_term\u001b[0m\u001b[0;34m)\u001b[0m\u001b[0;34m\u001b[0m\u001b[0;34m\u001b[0m\u001b[0m\n",
            "\u001b[0;32m<ipython-input-1-8476c9c52caa>\u001b[0m in \u001b[0;36mflatten\u001b[0;34m(ter)\u001b[0m\n\u001b[1;32m     10\u001b[0m       \u001b[0;32mreturn\u001b[0m\u001b[0;34m(\u001b[0m\u001b[0;34m[\u001b[0m\u001b[0;34m'e'\u001b[0m\u001b[0;34m]\u001b[0m\u001b[0;34m)\u001b[0m\u001b[0;34m\u001b[0m\u001b[0;34m\u001b[0m\u001b[0m\n\u001b[1;32m     11\u001b[0m     \u001b[0;32melse\u001b[0m\u001b[0;34m:\u001b[0m\u001b[0;34m\u001b[0m\u001b[0;34m\u001b[0m\u001b[0m\n\u001b[0;32m---> 12\u001b[0;31m       \u001b[0;32mreturn\u001b[0m\u001b[0;34m(\u001b[0m\u001b[0;34m[\u001b[0m\u001b[0mter\u001b[0m\u001b[0;34m.\u001b[0m\u001b[0mhead\u001b[0m\u001b[0;34m]\u001b[0m\u001b[0;34m+\u001b[0m \u001b[0;34m[\u001b[0m\u001b[0mflatten\u001b[0m\u001b[0;34m(\u001b[0m\u001b[0mter\u001b[0m\u001b[0;34m.\u001b[0m\u001b[0msubterms\u001b[0m\u001b[0;34m[\u001b[0m\u001b[0;36m0\u001b[0m\u001b[0;34m]\u001b[0m\u001b[0;34m)\u001b[0m\u001b[0;34m]\u001b[0m  \u001b[0;34m+\u001b[0m \u001b[0;34m[\u001b[0m\u001b[0mflatten\u001b[0m\u001b[0;34m(\u001b[0m\u001b[0mter\u001b[0m\u001b[0;34m.\u001b[0m\u001b[0msubterms\u001b[0m\u001b[0;34m[\u001b[0m\u001b[0;36m1\u001b[0m\u001b[0;34m]\u001b[0m\u001b[0;34m)\u001b[0m\u001b[0;34m]\u001b[0m\u001b[0;34m)\u001b[0m\u001b[0;34m\u001b[0m\u001b[0;34m\u001b[0m\u001b[0m\n\u001b[0m\u001b[1;32m     13\u001b[0m \u001b[0;34m\u001b[0m\u001b[0m\n\u001b[1;32m     14\u001b[0m \u001b[0;32mdef\u001b[0m \u001b[0mnf_check\u001b[0m\u001b[0;34m(\u001b[0m\u001b[0mter\u001b[0m\u001b[0;34m)\u001b[0m\u001b[0;34m:\u001b[0m\u001b[0;34m\u001b[0m\u001b[0;34m\u001b[0m\u001b[0m\n",
            "\u001b[0;32m<ipython-input-1-8476c9c52caa>\u001b[0m in \u001b[0;36mflatten\u001b[0;34m(ter)\u001b[0m\n\u001b[1;32m     10\u001b[0m       \u001b[0;32mreturn\u001b[0m\u001b[0;34m(\u001b[0m\u001b[0;34m[\u001b[0m\u001b[0;34m'e'\u001b[0m\u001b[0;34m]\u001b[0m\u001b[0;34m)\u001b[0m\u001b[0;34m\u001b[0m\u001b[0;34m\u001b[0m\u001b[0m\n\u001b[1;32m     11\u001b[0m     \u001b[0;32melse\u001b[0m\u001b[0;34m:\u001b[0m\u001b[0;34m\u001b[0m\u001b[0;34m\u001b[0m\u001b[0m\n\u001b[0;32m---> 12\u001b[0;31m       \u001b[0;32mreturn\u001b[0m\u001b[0;34m(\u001b[0m\u001b[0;34m[\u001b[0m\u001b[0mter\u001b[0m\u001b[0;34m.\u001b[0m\u001b[0mhead\u001b[0m\u001b[0;34m]\u001b[0m\u001b[0;34m+\u001b[0m \u001b[0;34m[\u001b[0m\u001b[0mflatten\u001b[0m\u001b[0;34m(\u001b[0m\u001b[0mter\u001b[0m\u001b[0;34m.\u001b[0m\u001b[0msubterms\u001b[0m\u001b[0;34m[\u001b[0m\u001b[0;36m0\u001b[0m\u001b[0;34m]\u001b[0m\u001b[0;34m)\u001b[0m\u001b[0;34m]\u001b[0m  \u001b[0;34m+\u001b[0m \u001b[0;34m[\u001b[0m\u001b[0mflatten\u001b[0m\u001b[0;34m(\u001b[0m\u001b[0mter\u001b[0m\u001b[0;34m.\u001b[0m\u001b[0msubterms\u001b[0m\u001b[0;34m[\u001b[0m\u001b[0;36m1\u001b[0m\u001b[0;34m]\u001b[0m\u001b[0;34m)\u001b[0m\u001b[0;34m]\u001b[0m\u001b[0;34m)\u001b[0m\u001b[0;34m\u001b[0m\u001b[0;34m\u001b[0m\u001b[0m\n\u001b[0m\u001b[1;32m     13\u001b[0m \u001b[0;34m\u001b[0m\u001b[0m\n\u001b[1;32m     14\u001b[0m \u001b[0;32mdef\u001b[0m \u001b[0mnf_check\u001b[0m\u001b[0;34m(\u001b[0m\u001b[0mter\u001b[0m\u001b[0;34m)\u001b[0m\u001b[0;34m:\u001b[0m\u001b[0;34m\u001b[0m\u001b[0;34m\u001b[0m\u001b[0m\n",
            "\u001b[0;32m<ipython-input-1-8476c9c52caa>\u001b[0m in \u001b[0;36mflatten\u001b[0;34m(ter)\u001b[0m\n\u001b[1;32m     10\u001b[0m       \u001b[0;32mreturn\u001b[0m\u001b[0;34m(\u001b[0m\u001b[0;34m[\u001b[0m\u001b[0;34m'e'\u001b[0m\u001b[0;34m]\u001b[0m\u001b[0;34m)\u001b[0m\u001b[0;34m\u001b[0m\u001b[0;34m\u001b[0m\u001b[0m\n\u001b[1;32m     11\u001b[0m     \u001b[0;32melse\u001b[0m\u001b[0;34m:\u001b[0m\u001b[0;34m\u001b[0m\u001b[0;34m\u001b[0m\u001b[0m\n\u001b[0;32m---> 12\u001b[0;31m       \u001b[0;32mreturn\u001b[0m\u001b[0;34m(\u001b[0m\u001b[0;34m[\u001b[0m\u001b[0mter\u001b[0m\u001b[0;34m.\u001b[0m\u001b[0mhead\u001b[0m\u001b[0;34m]\u001b[0m\u001b[0;34m+\u001b[0m \u001b[0;34m[\u001b[0m\u001b[0mflatten\u001b[0m\u001b[0;34m(\u001b[0m\u001b[0mter\u001b[0m\u001b[0;34m.\u001b[0m\u001b[0msubterms\u001b[0m\u001b[0;34m[\u001b[0m\u001b[0;36m0\u001b[0m\u001b[0;34m]\u001b[0m\u001b[0;34m)\u001b[0m\u001b[0;34m]\u001b[0m  \u001b[0;34m+\u001b[0m \u001b[0;34m[\u001b[0m\u001b[0mflatten\u001b[0m\u001b[0;34m(\u001b[0m\u001b[0mter\u001b[0m\u001b[0;34m.\u001b[0m\u001b[0msubterms\u001b[0m\u001b[0;34m[\u001b[0m\u001b[0;36m1\u001b[0m\u001b[0;34m]\u001b[0m\u001b[0;34m)\u001b[0m\u001b[0;34m]\u001b[0m\u001b[0;34m)\u001b[0m\u001b[0;34m\u001b[0m\u001b[0;34m\u001b[0m\u001b[0m\n\u001b[0m\u001b[1;32m     13\u001b[0m \u001b[0;34m\u001b[0m\u001b[0m\n\u001b[1;32m     14\u001b[0m \u001b[0;32mdef\u001b[0m \u001b[0mnf_check\u001b[0m\u001b[0;34m(\u001b[0m\u001b[0mter\u001b[0m\u001b[0;34m)\u001b[0m\u001b[0;34m:\u001b[0m\u001b[0;34m\u001b[0m\u001b[0;34m\u001b[0m\u001b[0m\n",
            "\u001b[0;32m<ipython-input-1-8476c9c52caa>\u001b[0m in \u001b[0;36mflatten\u001b[0;34m(ter)\u001b[0m\n\u001b[1;32m     10\u001b[0m       \u001b[0;32mreturn\u001b[0m\u001b[0;34m(\u001b[0m\u001b[0;34m[\u001b[0m\u001b[0;34m'e'\u001b[0m\u001b[0;34m]\u001b[0m\u001b[0;34m)\u001b[0m\u001b[0;34m\u001b[0m\u001b[0;34m\u001b[0m\u001b[0m\n\u001b[1;32m     11\u001b[0m     \u001b[0;32melse\u001b[0m\u001b[0;34m:\u001b[0m\u001b[0;34m\u001b[0m\u001b[0;34m\u001b[0m\u001b[0m\n\u001b[0;32m---> 12\u001b[0;31m       \u001b[0;32mreturn\u001b[0m\u001b[0;34m(\u001b[0m\u001b[0;34m[\u001b[0m\u001b[0mter\u001b[0m\u001b[0;34m.\u001b[0m\u001b[0mhead\u001b[0m\u001b[0;34m]\u001b[0m\u001b[0;34m+\u001b[0m \u001b[0;34m[\u001b[0m\u001b[0mflatten\u001b[0m\u001b[0;34m(\u001b[0m\u001b[0mter\u001b[0m\u001b[0;34m.\u001b[0m\u001b[0msubterms\u001b[0m\u001b[0;34m[\u001b[0m\u001b[0;36m0\u001b[0m\u001b[0;34m]\u001b[0m\u001b[0;34m)\u001b[0m\u001b[0;34m]\u001b[0m  \u001b[0;34m+\u001b[0m \u001b[0;34m[\u001b[0m\u001b[0mflatten\u001b[0m\u001b[0;34m(\u001b[0m\u001b[0mter\u001b[0m\u001b[0;34m.\u001b[0m\u001b[0msubterms\u001b[0m\u001b[0;34m[\u001b[0m\u001b[0;36m1\u001b[0m\u001b[0;34m]\u001b[0m\u001b[0;34m)\u001b[0m\u001b[0;34m]\u001b[0m\u001b[0;34m)\u001b[0m\u001b[0;34m\u001b[0m\u001b[0;34m\u001b[0m\u001b[0m\n\u001b[0m\u001b[1;32m     13\u001b[0m \u001b[0;34m\u001b[0m\u001b[0m\n\u001b[1;32m     14\u001b[0m \u001b[0;32mdef\u001b[0m \u001b[0mnf_check\u001b[0m\u001b[0;34m(\u001b[0m\u001b[0mter\u001b[0m\u001b[0;34m)\u001b[0m\u001b[0;34m:\u001b[0m\u001b[0;34m\u001b[0m\u001b[0;34m\u001b[0m\u001b[0m\n",
            "\u001b[0;32m<ipython-input-1-8476c9c52caa>\u001b[0m in \u001b[0;36mflatten\u001b[0;34m(ter)\u001b[0m\n\u001b[1;32m     10\u001b[0m       \u001b[0;32mreturn\u001b[0m\u001b[0;34m(\u001b[0m\u001b[0;34m[\u001b[0m\u001b[0;34m'e'\u001b[0m\u001b[0;34m]\u001b[0m\u001b[0;34m)\u001b[0m\u001b[0;34m\u001b[0m\u001b[0;34m\u001b[0m\u001b[0m\n\u001b[1;32m     11\u001b[0m     \u001b[0;32melse\u001b[0m\u001b[0;34m:\u001b[0m\u001b[0;34m\u001b[0m\u001b[0;34m\u001b[0m\u001b[0m\n\u001b[0;32m---> 12\u001b[0;31m       \u001b[0;32mreturn\u001b[0m\u001b[0;34m(\u001b[0m\u001b[0;34m[\u001b[0m\u001b[0mter\u001b[0m\u001b[0;34m.\u001b[0m\u001b[0mhead\u001b[0m\u001b[0;34m]\u001b[0m\u001b[0;34m+\u001b[0m \u001b[0;34m[\u001b[0m\u001b[0mflatten\u001b[0m\u001b[0;34m(\u001b[0m\u001b[0mter\u001b[0m\u001b[0;34m.\u001b[0m\u001b[0msubterms\u001b[0m\u001b[0;34m[\u001b[0m\u001b[0;36m0\u001b[0m\u001b[0;34m]\u001b[0m\u001b[0;34m)\u001b[0m\u001b[0;34m]\u001b[0m  \u001b[0;34m+\u001b[0m \u001b[0;34m[\u001b[0m\u001b[0mflatten\u001b[0m\u001b[0;34m(\u001b[0m\u001b[0mter\u001b[0m\u001b[0;34m.\u001b[0m\u001b[0msubterms\u001b[0m\u001b[0;34m[\u001b[0m\u001b[0;36m1\u001b[0m\u001b[0;34m]\u001b[0m\u001b[0;34m)\u001b[0m\u001b[0;34m]\u001b[0m\u001b[0;34m)\u001b[0m\u001b[0;34m\u001b[0m\u001b[0;34m\u001b[0m\u001b[0m\n\u001b[0m\u001b[1;32m     13\u001b[0m \u001b[0;34m\u001b[0m\u001b[0m\n\u001b[1;32m     14\u001b[0m \u001b[0;32mdef\u001b[0m \u001b[0mnf_check\u001b[0m\u001b[0;34m(\u001b[0m\u001b[0mter\u001b[0m\u001b[0;34m)\u001b[0m\u001b[0;34m:\u001b[0m\u001b[0;34m\u001b[0m\u001b[0;34m\u001b[0m\u001b[0m\n",
            "\u001b[0;31mKeyboardInterrupt\u001b[0m: "
          ]
        }
      ]
    },
    {
      "cell_type": "code",
      "source": [
        "appdifferences5 = [(dcount(nf_simple(term('app',[x,empty])))- dcount(x)) for x in List5]"
      ],
      "metadata": {
        "id": "kAngE4sRW2QV"
      },
      "execution_count": null,
      "outputs": []
    },
    {
      "cell_type": "code",
      "source": [
        "len(List5)\n",
        "List5plus = [term('app',[diag,x]) for x in List5]\n",
        "ut = List5plus[555]\n",
        "it = term('diag',[ut])\n",
        "print(flatten(ut))"
      ],
      "metadata": {
        "id": "ohXTR0MFYvxB",
        "outputId": "bc5e5a1a-aa6f-4622-ae97-98d16eca9630",
        "colab": {
          "base_uri": "https://localhost:8080/"
        }
      },
      "execution_count": 32,
      "outputs": [
        {
          "output_type": "stream",
          "name": "stdout",
          "text": [
            "['app', ['d'], ['plus', ['app', ['d'], ['app', ['d'], ['d']]], ['app', ['d'], ['app', ['d'], ['plus', ['d'], ['d']]]]]]\n"
          ]
        }
      ]
    },
    {
      "cell_type": "code",
      "source": [
        "sappdifferences5[20000:20500]"
      ],
      "metadata": {
        "id": "WqHD4FxzY2PX"
      },
      "execution_count": null,
      "outputs": []
    },
    {
      "cell_type": "code",
      "source": [
        "len(List5plus)"
      ],
      "metadata": {
        "id": "Okd9KimsY6ol",
        "outputId": "0802df0a-3d41-4772-822b-3af790729b03",
        "colab": {
          "base_uri": "https://localhost:8080/"
        }
      },
      "execution_count": 34,
      "outputs": [
        {
          "output_type": "execute_result",
          "data": {
            "text/plain": [
              "33674"
            ]
          },
          "metadata": {},
          "execution_count": 34
        }
      ]
    },
    {
      "cell_type": "code",
      "source": [
        "for i in range(10000):\n",
        "  x = List5plus[i]\n",
        "  y = nf_simple(term('app',[x,empty]))\n",
        "  z = nf_simple(term('app',[y,empty]))\n",
        "  if flatten(x) == flatten(z):\n",
        "    print(flatten(x))"
      ],
      "metadata": {
        "id": "prkfQR10yeBz",
        "outputId": "558753b7-ae36-49c0-d3af-79039c35dd38",
        "colab": {
          "base_uri": "https://localhost:8080/",
          "height": 443
        }
      },
      "execution_count": 35,
      "outputs": [
        {
          "output_type": "stream",
          "name": "stdout",
          "text": [
            "['app', ['d'], ['d']]\n"
          ]
        },
        {
          "output_type": "error",
          "ename": "RecursionError",
          "evalue": "ignored",
          "traceback": [
            "\u001b[0;31m---------------------------------------------------------------------------\u001b[0m",
            "\u001b[0;31mRecursionError\u001b[0m                            Traceback (most recent call last)",
            "\u001b[0;32m<ipython-input-35-4f41707825f9>\u001b[0m in \u001b[0;36m<module>\u001b[0;34m\u001b[0m\n\u001b[1;32m      2\u001b[0m   \u001b[0mx\u001b[0m \u001b[0;34m=\u001b[0m \u001b[0mList5plus\u001b[0m\u001b[0;34m[\u001b[0m\u001b[0mi\u001b[0m\u001b[0;34m]\u001b[0m\u001b[0;34m\u001b[0m\u001b[0;34m\u001b[0m\u001b[0m\n\u001b[1;32m      3\u001b[0m   \u001b[0my\u001b[0m \u001b[0;34m=\u001b[0m \u001b[0mnf_simple\u001b[0m\u001b[0;34m(\u001b[0m\u001b[0mterm\u001b[0m\u001b[0;34m(\u001b[0m\u001b[0;34m'app'\u001b[0m\u001b[0;34m,\u001b[0m\u001b[0;34m[\u001b[0m\u001b[0mx\u001b[0m\u001b[0;34m,\u001b[0m\u001b[0mempty\u001b[0m\u001b[0;34m]\u001b[0m\u001b[0;34m)\u001b[0m\u001b[0;34m)\u001b[0m\u001b[0;34m\u001b[0m\u001b[0;34m\u001b[0m\u001b[0m\n\u001b[0;32m----> 4\u001b[0;31m   \u001b[0mz\u001b[0m \u001b[0;34m=\u001b[0m \u001b[0mnf_simple\u001b[0m\u001b[0;34m(\u001b[0m\u001b[0mterm\u001b[0m\u001b[0;34m(\u001b[0m\u001b[0;34m'app'\u001b[0m\u001b[0;34m,\u001b[0m\u001b[0;34m[\u001b[0m\u001b[0my\u001b[0m\u001b[0;34m,\u001b[0m\u001b[0mempty\u001b[0m\u001b[0;34m]\u001b[0m\u001b[0;34m)\u001b[0m\u001b[0;34m)\u001b[0m\u001b[0;34m\u001b[0m\u001b[0;34m\u001b[0m\u001b[0m\n\u001b[0m\u001b[1;32m      5\u001b[0m   \u001b[0;32mif\u001b[0m \u001b[0mflatten\u001b[0m\u001b[0;34m(\u001b[0m\u001b[0mx\u001b[0m\u001b[0;34m)\u001b[0m \u001b[0;34m==\u001b[0m \u001b[0mflatten\u001b[0m\u001b[0;34m(\u001b[0m\u001b[0mz\u001b[0m\u001b[0;34m)\u001b[0m\u001b[0;34m:\u001b[0m\u001b[0;34m\u001b[0m\u001b[0;34m\u001b[0m\u001b[0m\n\u001b[1;32m      6\u001b[0m     \u001b[0mprint\u001b[0m\u001b[0;34m(\u001b[0m\u001b[0mflatten\u001b[0m\u001b[0;34m(\u001b[0m\u001b[0mx\u001b[0m\u001b[0;34m)\u001b[0m\u001b[0;34m)\u001b[0m\u001b[0;34m\u001b[0m\u001b[0;34m\u001b[0m\u001b[0m\n",
            "\u001b[0;32m<ipython-input-6-b07910a3d72c>\u001b[0m in \u001b[0;36mnf_simple\u001b[0;34m(term)\u001b[0m\n\u001b[1;32m     46\u001b[0m \u001b[0;32mdef\u001b[0m \u001b[0mnf_simple\u001b[0m\u001b[0;34m(\u001b[0m\u001b[0mterm\u001b[0m\u001b[0;34m)\u001b[0m\u001b[0;34m:\u001b[0m\u001b[0;34m\u001b[0m\u001b[0;34m\u001b[0m\u001b[0m\n\u001b[1;32m     47\u001b[0m   \u001b[0mnew_term\u001b[0m \u001b[0;34m=\u001b[0m \u001b[0mrewrite_step\u001b[0m\u001b[0;34m(\u001b[0m\u001b[0mterm\u001b[0m\u001b[0;34m)\u001b[0m\u001b[0;34m\u001b[0m\u001b[0;34m\u001b[0m\u001b[0m\n\u001b[0;32m---> 48\u001b[0;31m   \u001b[0;32mwhile\u001b[0m \u001b[0mflatten\u001b[0m\u001b[0;34m(\u001b[0m\u001b[0mterm\u001b[0m\u001b[0;34m)\u001b[0m\u001b[0;34m!=\u001b[0m \u001b[0mflatten\u001b[0m\u001b[0;34m(\u001b[0m\u001b[0mnew_term\u001b[0m\u001b[0;34m)\u001b[0m\u001b[0;34m:\u001b[0m\u001b[0;34m\u001b[0m\u001b[0;34m\u001b[0m\u001b[0m\n\u001b[0m\u001b[1;32m     49\u001b[0m     \u001b[0mterm\u001b[0m \u001b[0;34m=\u001b[0m \u001b[0mnew_term\u001b[0m\u001b[0;34m\u001b[0m\u001b[0;34m\u001b[0m\u001b[0m\n\u001b[1;32m     50\u001b[0m     \u001b[0mnew_term\u001b[0m \u001b[0;34m=\u001b[0m \u001b[0mrewrite_step\u001b[0m\u001b[0;34m(\u001b[0m\u001b[0mnew_term\u001b[0m\u001b[0;34m)\u001b[0m\u001b[0;34m\u001b[0m\u001b[0;34m\u001b[0m\u001b[0m\n",
            "\u001b[0;32m<ipython-input-2-8476c9c52caa>\u001b[0m in \u001b[0;36mflatten\u001b[0;34m(ter)\u001b[0m\n\u001b[1;32m     10\u001b[0m       \u001b[0;32mreturn\u001b[0m\u001b[0;34m(\u001b[0m\u001b[0;34m[\u001b[0m\u001b[0;34m'e'\u001b[0m\u001b[0;34m]\u001b[0m\u001b[0;34m)\u001b[0m\u001b[0;34m\u001b[0m\u001b[0;34m\u001b[0m\u001b[0m\n\u001b[1;32m     11\u001b[0m     \u001b[0;32melse\u001b[0m\u001b[0;34m:\u001b[0m\u001b[0;34m\u001b[0m\u001b[0;34m\u001b[0m\u001b[0m\n\u001b[0;32m---> 12\u001b[0;31m       \u001b[0;32mreturn\u001b[0m\u001b[0;34m(\u001b[0m\u001b[0;34m[\u001b[0m\u001b[0mter\u001b[0m\u001b[0;34m.\u001b[0m\u001b[0mhead\u001b[0m\u001b[0;34m]\u001b[0m\u001b[0;34m+\u001b[0m \u001b[0;34m[\u001b[0m\u001b[0mflatten\u001b[0m\u001b[0;34m(\u001b[0m\u001b[0mter\u001b[0m\u001b[0;34m.\u001b[0m\u001b[0msubterms\u001b[0m\u001b[0;34m[\u001b[0m\u001b[0;36m0\u001b[0m\u001b[0;34m]\u001b[0m\u001b[0;34m)\u001b[0m\u001b[0;34m]\u001b[0m  \u001b[0;34m+\u001b[0m \u001b[0;34m[\u001b[0m\u001b[0mflatten\u001b[0m\u001b[0;34m(\u001b[0m\u001b[0mter\u001b[0m\u001b[0;34m.\u001b[0m\u001b[0msubterms\u001b[0m\u001b[0;34m[\u001b[0m\u001b[0;36m1\u001b[0m\u001b[0;34m]\u001b[0m\u001b[0;34m)\u001b[0m\u001b[0;34m]\u001b[0m\u001b[0;34m)\u001b[0m\u001b[0;34m\u001b[0m\u001b[0;34m\u001b[0m\u001b[0m\n\u001b[0m\u001b[1;32m     13\u001b[0m \u001b[0;34m\u001b[0m\u001b[0m\n\u001b[1;32m     14\u001b[0m \u001b[0;32mdef\u001b[0m \u001b[0mnf_check\u001b[0m\u001b[0;34m(\u001b[0m\u001b[0mter\u001b[0m\u001b[0;34m)\u001b[0m\u001b[0;34m:\u001b[0m\u001b[0;34m\u001b[0m\u001b[0;34m\u001b[0m\u001b[0m\n",
            "... last 1 frames repeated, from the frame below ...\n",
            "\u001b[0;32m<ipython-input-2-8476c9c52caa>\u001b[0m in \u001b[0;36mflatten\u001b[0;34m(ter)\u001b[0m\n\u001b[1;32m     10\u001b[0m       \u001b[0;32mreturn\u001b[0m\u001b[0;34m(\u001b[0m\u001b[0;34m[\u001b[0m\u001b[0;34m'e'\u001b[0m\u001b[0;34m]\u001b[0m\u001b[0;34m)\u001b[0m\u001b[0;34m\u001b[0m\u001b[0;34m\u001b[0m\u001b[0m\n\u001b[1;32m     11\u001b[0m     \u001b[0;32melse\u001b[0m\u001b[0;34m:\u001b[0m\u001b[0;34m\u001b[0m\u001b[0;34m\u001b[0m\u001b[0m\n\u001b[0;32m---> 12\u001b[0;31m       \u001b[0;32mreturn\u001b[0m\u001b[0;34m(\u001b[0m\u001b[0;34m[\u001b[0m\u001b[0mter\u001b[0m\u001b[0;34m.\u001b[0m\u001b[0mhead\u001b[0m\u001b[0;34m]\u001b[0m\u001b[0;34m+\u001b[0m \u001b[0;34m[\u001b[0m\u001b[0mflatten\u001b[0m\u001b[0;34m(\u001b[0m\u001b[0mter\u001b[0m\u001b[0;34m.\u001b[0m\u001b[0msubterms\u001b[0m\u001b[0;34m[\u001b[0m\u001b[0;36m0\u001b[0m\u001b[0;34m]\u001b[0m\u001b[0;34m)\u001b[0m\u001b[0;34m]\u001b[0m  \u001b[0;34m+\u001b[0m \u001b[0;34m[\u001b[0m\u001b[0mflatten\u001b[0m\u001b[0;34m(\u001b[0m\u001b[0mter\u001b[0m\u001b[0;34m.\u001b[0m\u001b[0msubterms\u001b[0m\u001b[0;34m[\u001b[0m\u001b[0;36m1\u001b[0m\u001b[0;34m]\u001b[0m\u001b[0;34m)\u001b[0m\u001b[0;34m]\u001b[0m\u001b[0;34m)\u001b[0m\u001b[0;34m\u001b[0m\u001b[0;34m\u001b[0m\u001b[0m\n\u001b[0m\u001b[1;32m     13\u001b[0m \u001b[0;34m\u001b[0m\u001b[0m\n\u001b[1;32m     14\u001b[0m \u001b[0;32mdef\u001b[0m \u001b[0mnf_check\u001b[0m\u001b[0;34m(\u001b[0m\u001b[0mter\u001b[0m\u001b[0;34m)\u001b[0m\u001b[0;34m:\u001b[0m\u001b[0;34m\u001b[0m\u001b[0;34m\u001b[0m\u001b[0m\n",
            "\u001b[0;31mRecursionError\u001b[0m: maximum recursion depth exceeded in comparison"
          ]
        }
      ]
    },
    {
      "cell_type": "code",
      "source": [
        "#print([flatten(x) for x in List6[40000:40001]])\n",
        "print(flatten(List5[1532]))"
      ],
      "metadata": {
        "id": "_-3XTksOy17m",
        "outputId": "1bf0effd-916e-44c8-9ea3-830561437b09",
        "colab": {
          "base_uri": "https://localhost:8080/"
        }
      },
      "execution_count": 21,
      "outputs": [
        {
          "output_type": "stream",
          "name": "stdout",
          "text": [
            "['plus', ['app', ['d'], ['plus', ['d'], ['plus', ['d'], ['d']]]], ['plus', ['plus', ['d'], ['d']], ['d']]]\n"
          ]
        }
      ]
    },
    {
      "cell_type": "code",
      "source": [
        "len(list7)"
      ],
      "metadata": {
        "id": "xbKqljdDzSB8",
        "outputId": "57ad71ae-b70a-418b-c615-6e6a103e41db",
        "colab": {
          "base_uri": "https://localhost:8080/"
        }
      },
      "execution_count": 50,
      "outputs": [
        {
          "output_type": "execute_result",
          "data": {
            "text/plain": [
              "7"
            ]
          },
          "metadata": {},
          "execution_count": 50
        }
      ]
    },
    {
      "cell_type": "code",
      "source": [
        "[flatten(x) for x in list7]"
      ],
      "metadata": {
        "id": "oylF3MFC0d2b",
        "outputId": "4eea2724-d2fc-4e78-979a-b87b4a0c007a",
        "colab": {
          "base_uri": "https://localhost:8080/"
        }
      },
      "execution_count": 53,
      "outputs": [
        {
          "output_type": "execute_result",
          "data": {
            "text/plain": [
              "[['e'],\n",
              " ['d'],\n",
              " ['app', ['d'], ['d']],\n",
              " ['app', ['d'], ['app', ['d'], ['d']]],\n",
              " ['app', ['d'], ['app', ['d'], ['app', ['d'], ['d']]]],\n",
              " ['app', ['d'], ['app', ['d'], ['app', ['d'], ['app', ['d'], ['d']]]]],\n",
              " ['app',\n",
              "  ['d'],\n",
              "  ['app', ['d'], ['app', ['d'], ['app', ['d'], ['app', ['d'], ['d']]]]]]]"
            ]
          },
          "metadata": {},
          "execution_count": 53
        }
      ]
    },
    {
      "cell_type": "code",
      "source": [
        "len(List4)"
      ],
      "metadata": {
        "id": "J_wggtil0yiK",
        "outputId": "4c26e9d9-bf48-43fa-a960-243d735bce29",
        "colab": {
          "base_uri": "https://localhost:8080/"
        }
      },
      "execution_count": 7,
      "outputs": [
        {
          "output_type": "execute_result",
          "data": {
            "text/plain": [
              "184"
            ]
          },
          "metadata": {},
          "execution_count": 7
        }
      ]
    },
    {
      "cell_type": "code",
      "source": [
        "winnow = [x for x in List4 if nf_check(x) == True]\n",
        "len(winnow)\n",
        "print(flatten(winnow[15]))"
      ],
      "metadata": {
        "id": "IGN8MH0WGwC-",
        "outputId": "e2f53d0c-81a6-4a51-afeb-89b5e88882b7",
        "colab": {
          "base_uri": "https://localhost:8080/"
        }
      },
      "execution_count": 16,
      "outputs": [
        {
          "output_type": "stream",
          "name": "stdout",
          "text": [
            "['plus', ['d'], ['d']]\n"
          ]
        }
      ]
    },
    {
      "cell_type": "code",
      "source": [
        "for i in range(184):\n",
        "  x = List4[i]\n",
        "  y = nf_simple(term('app',[x,empty]))\n",
        "  #z = nf_simple(term('app',[y,empty]))\n",
        "  if y == empty:\n",
        "    print(flatten(x))"
      ],
      "metadata": {
        "id": "WVzZJvSoGTJO",
        "outputId": "d049382a-9d7a-4c28-d342-5a31d41efcb0",
        "colab": {
          "base_uri": "https://localhost:8080/"
        }
      },
      "execution_count": 8,
      "outputs": [
        {
          "output_type": "stream",
          "name": "stdout",
          "text": [
            "['e']\n",
            "['d']\n",
            "['plus', ['d'], ['d']]\n",
            "['plus', ['d'], ['plus', ['d'], ['d']]]\n",
            "['plus', ['d'], ['plus', ['d'], ['plus', ['d'], ['d']]]]\n",
            "['plus', ['d'], ['plus', ['app', ['d'], ['d']], ['d']]]\n",
            "['plus', ['d'], ['plus', ['app', ['d'], ['d']], ['plus', ['d'], ['d']]]]\n",
            "['plus', ['d'], ['plus', ['plus', ['d'], ['d']], ['d']]]\n",
            "['plus', ['d'], ['plus', ['plus', ['d'], ['d']], ['plus', ['d'], ['d']]]]\n",
            "['plus', ['app', ['d'], ['d']], ['d']]\n",
            "['plus', ['app', ['d'], ['d']], ['plus', ['d'], ['d']]]\n",
            "['plus', ['app', ['d'], ['d']], ['plus', ['d'], ['plus', ['d'], ['d']]]]\n",
            "['plus', ['app', ['d'], ['d']], ['plus', ['app', ['d'], ['d']], ['d']]]\n",
            "['plus', ['app', ['d'], ['d']], ['plus', ['app', ['d'], ['d']], ['plus', ['d'], ['d']]]]\n",
            "['plus', ['app', ['d'], ['d']], ['plus', ['plus', ['d'], ['d']], ['d']]]\n",
            "['plus', ['app', ['d'], ['d']], ['plus', ['plus', ['d'], ['d']], ['plus', ['d'], ['d']]]]\n",
            "['plus', ['app', ['d'], ['app', ['d'], ['d']]], ['d']]\n",
            "['plus', ['app', ['d'], ['app', ['d'], ['d']]], ['plus', ['d'], ['d']]]\n",
            "['plus', ['app', ['d'], ['app', ['d'], ['d']]], ['plus', ['d'], ['plus', ['d'], ['d']]]]\n",
            "['plus', ['app', ['d'], ['app', ['d'], ['d']]], ['plus', ['app', ['d'], ['d']], ['d']]]\n",
            "['plus', ['app', ['d'], ['app', ['d'], ['d']]], ['plus', ['app', ['d'], ['d']], ['plus', ['d'], ['d']]]]\n",
            "['plus', ['app', ['d'], ['app', ['d'], ['d']]], ['plus', ['plus', ['d'], ['d']], ['d']]]\n",
            "['plus', ['app', ['d'], ['app', ['d'], ['d']]], ['plus', ['plus', ['d'], ['d']], ['plus', ['d'], ['d']]]]\n",
            "['plus', ['app', ['d'], ['plus', ['d'], ['d']]], ['d']]\n",
            "['plus', ['app', ['d'], ['plus', ['d'], ['d']]], ['plus', ['d'], ['d']]]\n",
            "['plus', ['app', ['d'], ['plus', ['d'], ['d']]], ['plus', ['d'], ['plus', ['d'], ['d']]]]\n",
            "['plus', ['app', ['d'], ['plus', ['d'], ['d']]], ['plus', ['app', ['d'], ['d']], ['d']]]\n",
            "['plus', ['app', ['d'], ['plus', ['d'], ['d']]], ['plus', ['app', ['d'], ['d']], ['plus', ['d'], ['d']]]]\n",
            "['plus', ['app', ['d'], ['plus', ['d'], ['d']]], ['plus', ['plus', ['d'], ['d']], ['d']]]\n",
            "['plus', ['app', ['d'], ['plus', ['d'], ['d']]], ['plus', ['plus', ['d'], ['d']], ['plus', ['d'], ['d']]]]\n",
            "['plus', ['plus', ['d'], ['d']], ['d']]\n",
            "['plus', ['plus', ['d'], ['d']], ['plus', ['d'], ['d']]]\n",
            "['plus', ['plus', ['d'], ['d']], ['plus', ['d'], ['plus', ['d'], ['d']]]]\n",
            "['plus', ['plus', ['d'], ['d']], ['plus', ['app', ['d'], ['d']], ['d']]]\n",
            "['plus', ['plus', ['d'], ['d']], ['plus', ['app', ['d'], ['d']], ['plus', ['d'], ['d']]]]\n",
            "['plus', ['plus', ['d'], ['d']], ['plus', ['plus', ['d'], ['d']], ['d']]]\n",
            "['plus', ['plus', ['d'], ['d']], ['plus', ['plus', ['d'], ['d']], ['plus', ['d'], ['d']]]]\n",
            "['plus', ['plus', ['d'], ['app', ['d'], ['d']]], ['d']]\n",
            "['plus', ['plus', ['d'], ['app', ['d'], ['d']]], ['plus', ['d'], ['d']]]\n",
            "['plus', ['plus', ['d'], ['app', ['d'], ['d']]], ['plus', ['d'], ['plus', ['d'], ['d']]]]\n",
            "['plus', ['plus', ['d'], ['app', ['d'], ['d']]], ['plus', ['app', ['d'], ['d']], ['d']]]\n",
            "['plus', ['plus', ['d'], ['app', ['d'], ['d']]], ['plus', ['app', ['d'], ['d']], ['plus', ['d'], ['d']]]]\n",
            "['plus', ['plus', ['d'], ['app', ['d'], ['d']]], ['plus', ['plus', ['d'], ['d']], ['d']]]\n",
            "['plus', ['plus', ['d'], ['app', ['d'], ['d']]], ['plus', ['plus', ['d'], ['d']], ['plus', ['d'], ['d']]]]\n",
            "['plus', ['plus', ['d'], ['plus', ['d'], ['d']]], ['d']]\n",
            "['plus', ['plus', ['d'], ['plus', ['d'], ['d']]], ['plus', ['d'], ['d']]]\n",
            "['plus', ['plus', ['d'], ['plus', ['d'], ['d']]], ['plus', ['d'], ['plus', ['d'], ['d']]]]\n",
            "['plus', ['plus', ['d'], ['plus', ['d'], ['d']]], ['plus', ['app', ['d'], ['d']], ['d']]]\n",
            "['plus', ['plus', ['d'], ['plus', ['d'], ['d']]], ['plus', ['app', ['d'], ['d']], ['plus', ['d'], ['d']]]]\n",
            "['plus', ['plus', ['d'], ['plus', ['d'], ['d']]], ['plus', ['plus', ['d'], ['d']], ['d']]]\n",
            "['plus', ['plus', ['d'], ['plus', ['d'], ['d']]], ['plus', ['plus', ['d'], ['d']], ['plus', ['d'], ['d']]]]\n",
            "['plus', ['plus', ['app', ['d'], ['d']], ['d']], ['d']]\n",
            "['plus', ['plus', ['app', ['d'], ['d']], ['d']], ['plus', ['d'], ['d']]]\n",
            "['plus', ['plus', ['app', ['d'], ['d']], ['d']], ['plus', ['d'], ['plus', ['d'], ['d']]]]\n",
            "['plus', ['plus', ['app', ['d'], ['d']], ['d']], ['plus', ['app', ['d'], ['d']], ['d']]]\n",
            "['plus', ['plus', ['app', ['d'], ['d']], ['d']], ['plus', ['app', ['d'], ['d']], ['plus', ['d'], ['d']]]]\n",
            "['plus', ['plus', ['app', ['d'], ['d']], ['d']], ['plus', ['plus', ['d'], ['d']], ['d']]]\n",
            "['plus', ['plus', ['app', ['d'], ['d']], ['d']], ['plus', ['plus', ['d'], ['d']], ['plus', ['d'], ['d']]]]\n",
            "['plus', ['plus', ['app', ['d'], ['d']], ['app', ['d'], ['d']]], ['d']]\n",
            "['plus', ['plus', ['app', ['d'], ['d']], ['app', ['d'], ['d']]], ['plus', ['d'], ['d']]]\n",
            "['plus', ['plus', ['app', ['d'], ['d']], ['app', ['d'], ['d']]], ['plus', ['d'], ['plus', ['d'], ['d']]]]\n",
            "['plus', ['plus', ['app', ['d'], ['d']], ['app', ['d'], ['d']]], ['plus', ['app', ['d'], ['d']], ['d']]]\n",
            "['plus', ['plus', ['app', ['d'], ['d']], ['app', ['d'], ['d']]], ['plus', ['app', ['d'], ['d']], ['plus', ['d'], ['d']]]]\n",
            "['plus', ['plus', ['app', ['d'], ['d']], ['app', ['d'], ['d']]], ['plus', ['plus', ['d'], ['d']], ['d']]]\n",
            "['plus', ['plus', ['app', ['d'], ['d']], ['app', ['d'], ['d']]], ['plus', ['plus', ['d'], ['d']], ['plus', ['d'], ['d']]]]\n",
            "['plus', ['plus', ['app', ['d'], ['d']], ['plus', ['d'], ['d']]], ['d']]\n",
            "['plus', ['plus', ['app', ['d'], ['d']], ['plus', ['d'], ['d']]], ['plus', ['d'], ['d']]]\n",
            "['plus', ['plus', ['app', ['d'], ['d']], ['plus', ['d'], ['d']]], ['plus', ['d'], ['plus', ['d'], ['d']]]]\n",
            "['plus', ['plus', ['app', ['d'], ['d']], ['plus', ['d'], ['d']]], ['plus', ['app', ['d'], ['d']], ['d']]]\n",
            "['plus', ['plus', ['app', ['d'], ['d']], ['plus', ['d'], ['d']]], ['plus', ['app', ['d'], ['d']], ['plus', ['d'], ['d']]]]\n",
            "['plus', ['plus', ['app', ['d'], ['d']], ['plus', ['d'], ['d']]], ['plus', ['plus', ['d'], ['d']], ['d']]]\n",
            "['plus', ['plus', ['app', ['d'], ['d']], ['plus', ['d'], ['d']]], ['plus', ['plus', ['d'], ['d']], ['plus', ['d'], ['d']]]]\n",
            "['plus', ['plus', ['plus', ['d'], ['d']], ['d']], ['d']]\n",
            "['plus', ['plus', ['plus', ['d'], ['d']], ['d']], ['plus', ['d'], ['d']]]\n",
            "['plus', ['plus', ['plus', ['d'], ['d']], ['d']], ['plus', ['d'], ['plus', ['d'], ['d']]]]\n",
            "['plus', ['plus', ['plus', ['d'], ['d']], ['d']], ['plus', ['app', ['d'], ['d']], ['d']]]\n",
            "['plus', ['plus', ['plus', ['d'], ['d']], ['d']], ['plus', ['app', ['d'], ['d']], ['plus', ['d'], ['d']]]]\n",
            "['plus', ['plus', ['plus', ['d'], ['d']], ['d']], ['plus', ['plus', ['d'], ['d']], ['d']]]\n",
            "['plus', ['plus', ['plus', ['d'], ['d']], ['d']], ['plus', ['plus', ['d'], ['d']], ['plus', ['d'], ['d']]]]\n",
            "['plus', ['plus', ['plus', ['d'], ['d']], ['app', ['d'], ['d']]], ['d']]\n",
            "['plus', ['plus', ['plus', ['d'], ['d']], ['app', ['d'], ['d']]], ['plus', ['d'], ['d']]]\n",
            "['plus', ['plus', ['plus', ['d'], ['d']], ['app', ['d'], ['d']]], ['plus', ['d'], ['plus', ['d'], ['d']]]]\n",
            "['plus', ['plus', ['plus', ['d'], ['d']], ['app', ['d'], ['d']]], ['plus', ['app', ['d'], ['d']], ['d']]]\n",
            "['plus', ['plus', ['plus', ['d'], ['d']], ['app', ['d'], ['d']]], ['plus', ['app', ['d'], ['d']], ['plus', ['d'], ['d']]]]\n",
            "['plus', ['plus', ['plus', ['d'], ['d']], ['app', ['d'], ['d']]], ['plus', ['plus', ['d'], ['d']], ['d']]]\n",
            "['plus', ['plus', ['plus', ['d'], ['d']], ['app', ['d'], ['d']]], ['plus', ['plus', ['d'], ['d']], ['plus', ['d'], ['d']]]]\n",
            "['plus', ['plus', ['plus', ['d'], ['d']], ['plus', ['d'], ['d']]], ['d']]\n",
            "['plus', ['plus', ['plus', ['d'], ['d']], ['plus', ['d'], ['d']]], ['plus', ['d'], ['d']]]\n",
            "['plus', ['plus', ['plus', ['d'], ['d']], ['plus', ['d'], ['d']]], ['plus', ['d'], ['plus', ['d'], ['d']]]]\n",
            "['plus', ['plus', ['plus', ['d'], ['d']], ['plus', ['d'], ['d']]], ['plus', ['app', ['d'], ['d']], ['d']]]\n",
            "['plus', ['plus', ['plus', ['d'], ['d']], ['plus', ['d'], ['d']]], ['plus', ['app', ['d'], ['d']], ['plus', ['d'], ['d']]]]\n",
            "['plus', ['plus', ['plus', ['d'], ['d']], ['plus', ['d'], ['d']]], ['plus', ['plus', ['d'], ['d']], ['d']]]\n",
            "['plus', ['plus', ['plus', ['d'], ['d']], ['plus', ['d'], ['d']]], ['plus', ['plus', ['d'], ['d']], ['plus', ['d'], ['d']]]]\n"
          ]
        }
      ]
    },
    {
      "cell_type": "code",
      "source": [],
      "metadata": {
        "id": "BcBmSTG8GqW4"
      },
      "execution_count": null,
      "outputs": []
    }
  ]
}