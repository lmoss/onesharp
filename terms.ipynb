{
  "nbformat": 4,
  "nbformat_minor": 0,
  "metadata": {
    "colab": {
      "provenance": [],
      "authorship_tag": "ABX9TyPbXFgZuIXbCCP6QIpdX+qK",
      "include_colab_link": true
    },
    "kernelspec": {
      "name": "python3",
      "display_name": "Python 3"
    },
    "language_info": {
      "name": "python"
    }
  },
  "cells": [
    {
      "cell_type": "markdown",
      "metadata": {
        "id": "view-in-github",
        "colab_type": "text"
      },
      "source": [
        "<a href=\"https://colab.research.google.com/github/lmoss/onesharp/blob/main/terms.ipynb\" target=\"_parent\"><img src=\"https://colab.research.google.com/assets/colab-badge.svg\" alt=\"Open In Colab\"/></a>"
      ]
    },
    {
      "cell_type": "code",
      "execution_count": 40,
      "metadata": {
        "id": "jJ3ywtAxmTiR"
      },
      "outputs": [],
      "source": [
        "class term:\n",
        "    def __init__(self, head,  subterms, nnf_yes_no):\n",
        "        self.head = head\n",
        "        self.subterms = subterms\n",
        "        self.nf_yes_no = nf_yes_no\n",
        "\n",
        "def flatten(ter):\n",
        "    if ter.head == 'd':\n",
        "      return(['d'])\n",
        "    if ter.head == 'e': \n",
        "      return(['e'])     \n",
        "    else:\n",
        "      return([ter.head]+ [flatten(ter.subterms[0])]  + [flatten(ter.subterms[1])])\n",
        "\n",
        "def nf_check(ter):\n",
        "    if ter.head == 'd':\n",
        "      return(True)\n",
        "    if ter.head == 'e':\n",
        "      return(True)\n",
        "    if ter.head == 'app':\n",
        "      x = (ter.subterms[0].head == 'd')\n",
        "      return(x)\n",
        "    if ter.head == 'plus':\n",
        "      x = nf_check(ter.subterms[0])\n",
        "      y = nf_check(ter.subterms[1])\n",
        "      z = x and y \n",
        "      return(z)     \n",
        "\n",
        "\n",
        "def nf_convert(ter):\n",
        "    if ter.head == 'd':\n",
        "      return(ter)\n",
        "    if ter.head == 'e':\n",
        "      return(ter)  \n",
        "    if ter.head == 'plus':\n",
        "      if ter.subterms[0].head == 'e':\n",
        "        x = nf_convert(ter.subterms[1])\n",
        "      elif ter.subterms[1].head == 'e':\n",
        "        x = nf_convert(ter.subterms[0])\n",
        "      else:\n",
        "        z = nf_convert(ter.subterms[0])\n",
        "        y = nf_convert(ter.subterms[1])\n",
        "        x = term('plus',[z,y],True) \n",
        "      return(x)   \n",
        "    if ter.head == 'app':\n",
        "      t1 = nf_convert(ter.subterms[0])\n",
        "      t2 = nf_convert(ter.subterms[1])\n",
        "      u1 = t1.subterms[1]\n",
        "      w = term('plus',[t2,u1],True)\n",
        "      v = term('app',[u1,w ],True)\n",
        "      return(v)"
      ]
    },
    {
      "cell_type": "code",
      "source": [
        "t1 = term('d',[],True)\n",
        "t2 = term('e',[],True)\n",
        "t3 = term('app',[t1,t1],True)\n",
        "t4 = term('app',[t3,t2],True)\n",
        "t5 = term('plus',[t1,t1],True)\n",
        "t6 = term('plus',[t5,t2],True)\n",
        "print(t1)"
      ],
      "metadata": {
        "colab": {
          "base_uri": "https://localhost:8080/"
        },
        "id": "W4Lh9-yHn_Rx",
        "outputId": "f1d1d69d-4897-4a4a-8f62-88e2186c5a40"
      },
      "execution_count": 39,
      "outputs": [
        {
          "output_type": "stream",
          "name": "stdout",
          "text": [
            "<__main__.term object at 0x7facaab4aa10>\n"
          ]
        }
      ]
    },
    {
      "cell_type": "code",
      "source": [
        "nf_convert(t1)"
      ],
      "metadata": {
        "colab": {
          "base_uri": "https://localhost:8080/"
        },
        "id": "kC-4Gi2noem_",
        "outputId": "a927c2e4-a001-44e4-8cf1-23a8c688ebe4"
      },
      "execution_count": 38,
      "outputs": [
        {
          "output_type": "execute_result",
          "data": {
            "text/plain": [
              "<__main__.term at 0x7facaab16a90>"
            ]
          },
          "metadata": {},
          "execution_count": 38
        }
      ]
    },
    {
      "cell_type": "code",
      "source": [
        "t7 = nf_convert(t1)\n",
        "print(t7)"
      ],
      "metadata": {
        "colab": {
          "base_uri": "https://localhost:8080/"
        },
        "id": "u2d_KGTXogKe",
        "outputId": "c84811f5-ee85-4b31-96d6-9605d2a79781"
      },
      "execution_count": 37,
      "outputs": [
        {
          "output_type": "stream",
          "name": "stdout",
          "text": [
            "<__main__.term object at 0x7facaab16a90>\n"
          ]
        }
      ]
    },
    {
      "cell_type": "code",
      "source": [],
      "metadata": {
        "id": "RlQNKENqpWae"
      },
      "execution_count": null,
      "outputs": []
    }
  ]
}