{
 "cells": [
  {
   "attachments": {},
   "cell_type": "markdown",
   "metadata": {},
   "source": [
    "# Ackermann's function"
   ]
  },
  {
   "attachments": {},
   "cell_type": "markdown",
   "metadata": {},
   "source": [
    "The most famous example of a function which is computable and total but not primitive recursive is *Ackermann's function*.  It is given by\n",
    "\n",
    "$$\n",
    "A(x,y)\\quadeq \\left\\{\n",
    "\\begin{array}{ll} y+1 &\\mbox{if  $x=0$}\n",
    "\\\\\n",
    " A(x-1,1) & \\mbox{if  $x\\neq 0$ and $y=0$}\\\\\n",
    " A(x-1,A(x,y-1)) & \\mbox{otherwise}\n",
    "\\end{array}\n",
    "\\right.\n",
    "$$\n"
   ]
  },
  {
   "attachments": {},
   "cell_type": "markdown",
   "metadata": {},
   "source": [
    "## Buck's function\n",
    "\n",
    "Here is Buck's function $F(m,n)$.\n",
    "\n",
    "$$\n",
    "\\begin{array}{lcl}\n",
    "F(m,0) & = & m+1 \\\\ \\\\ \n",
    "F(0,n)  & = & \\left\\{ \\begin{array}{ll}  2 &\\mbox{if $n = 1$} \\\\  0 &\\mbox{if $n = 2$} \\\\  1 &\\mbox{if $n \\geq 3$} \\end{array} \\right.\\\\ \\\\\n",
    "F(m+1,n+1) & = & F(F(m,n+1), n)\\\\\n",
    "\\end{array}\n",
    "$$\n",
    "\n",
    "Here are some special cases, and a table of values for small $m$ and $n$.\n",
    "\n",
    "$$\n",
    "\\begin{array}{lcl}\n",
    "F(m,1) & = &2+ m\\\\\n",
    "F(m,2)  & = & 2\\cdot m \\\\\n",
    "F(m,3) & = & 2^m \\\\\n",
    "F(m,4) & = &  2^{2^{\\rddots2}}\\mbox{, this is a tower of $m$ 2's}\n",
    "\\end{array}\n",
    "$$\n",
    "\n",
    "\n",
    "$$\n",
    "\\begin{array}{|c||c|c|c|c|c|c|}\n",
    "\\hline\n",
    "% \\diagbox[width=\\dimexpr \\textwidth/8+2\\tabcolsep\\relax, height=1cm]{$ u$}{$v$} & 0 & 1 & 2 & 3 & 4 \\\\\n",
    "% \\diagbox{$m$}{$n$} & 0 & 1 & 2 & 3 & 4 & 5 \\\\\n",
    " \\hline\n",
    " 0  & 1 & 2 & 0 & 1 & 1  & 1\\\\\n",
    " \\hline\n",
    " 1  & 2 & 3 & 2 & 2 & 2 & 2 \\\\\n",
    " \\hline \n",
    "2  & 3 & 4 & 4 & 4 & 4  & 4\\\\\n",
    " \\hline\n",
    "3  & 4 & 5 & 6 & 8 & 16  & 2^{16}=65,536 \\\\\n",
    " \\hline\n",
    "4  & 5 & 6 & 8 & 16 & 2^{16}=65,536 & F(2^{16},4)\\\\\n",
    " \\hline\n",
    "5 & 6 & 7 & 10 & 32 &  2^{2^{16}} & F(F(4,5),4)  \\\\\n",
    " \\hline \n",
    "\\end{array} \n",
    "$$\n"
   ]
  },
  {
   "attachments": {},
   "cell_type": "markdown",
   "metadata": {},
   "source": [
    "```{prf:lemma} \n",
    ":label: BuckOne\n",
    "\n",
    "For  $n\\geq 3$ and  all $a$, $a < F(a,n)$.\n",
    "```"
   ]
  },
  {
   "attachments": {},
   "cell_type": "markdown",
   "metadata": {},
   "source": [
    "```{prf:proof}\n",
    "\n",
    "For $n = 3$, it's clear: $a < 2^a = F(a,3)$.  \n",
    " Assume our result for $n\\geq 3$, we check it for $n +1$. \n",
    " We argue by induction on $a$.  \n",
    " First, $0 < 1 = F(0,n+1)$.   \n",
    "   Assuming that $a < F(a,n+1)$, we have\n",
    " \n",
    " $$\n",
    " \\begin{array}{lcll}\n",
    " a &  < & F(a,n+1) &\\mbox{induction hypothesis on $a$}\\\\\n",
    "    &  < &  F(F(a,n+1), n) &\\mbox{induction hypothesis on $n$}\\\\\n",
    " &  = &  F(a+1, n+1) \n",
    "  \\end{array} \n",
    "$$\n",
    "\n",
    " The calculation above has two strict inequalities,\n",
    " and it implies that $a+1 < F(a+1, n+1)$.\n",
    "\n",
    "```"
   ]
  },
  {
   "attachments": {},
   "cell_type": "markdown",
   "metadata": {},
   "source": [
    "```{prf:lemma} \n",
    ":label: BuckTwo\n",
    "\n",
    "If $n \\geq 0$ and $a < b$, then $F(a,n) < F(b,n)$.\n",
    "\n",
    "```"
   ]
  },
  {
   "attachments": {},
   "cell_type": "markdown",
   "metadata": {},
   "source": [
    "```{prf:proof}\n",
    "By induction on $n$.   \n",
    "\n",
    "For $n = 0$, $F(a,0) = a+1 < b+1 = F(b,0)$.   \n",
    "\n",
    "Similar reasoning applies with $n = 1$ and $n = 2$.\n",
    "\n",
    "Assuming our result for $n\\geq 2$, we argue by induction on $b$ that for $a < b$, $F(a, n+1) < F(b, n+1)$.  \n",
    "We need only show that $F(a,n+1) < F(a+1, n+1)$.   \n",
    "But\n",
    "\n",
    "$$ \n",
    "\\begin{array}{lcll}\n",
    "F(a,n+1)  &  < & F(F(a,n+1),n) \\\\ &  = &  F(a+1, n+1) \n",
    "\\end{array} \n",
    "$$\n",
    "\n",
    "In the first step, we used {prf:ref}`BuckOne` and  the fact that $n + 1 \\geq 3$.\n",
    "\n",
    "\n",
    "```"
   ]
  },
  {
   "attachments": {},
   "cell_type": "markdown",
   "metadata": {},
   "source": [
    "```{prf:lemma}\n",
    ":label: BuckThree \n",
    "\n",
    "1. $3 \\leq F(2, v)\\leq F(2, v+1)$.\n",
    "\n",
    "2. If $u \\geq 3$, then $3 \\leq F(u,v) < F(u,v+1)$.\n",
    "\n",
    "``` "
   ]
  },
  {
   "attachments": {},
   "cell_type": "markdown",
   "metadata": {},
   "source": [
    "```{prf:proof}\n",
    "We show both parts together by induction on $v$.  For $v = 0$: $F(2,0) = 3 < 4 = F(2,1)$, and for all $u$, $F(u,0) = u+1 < u+2 = F(u,1)$.\n",
    "\n",
    "Assume both parts for $v$; we check both for $v +1$.\n",
    "For (1), see the chart.\n",
    "  For (2) we use induction on $u \\geq 3$.   \n",
    "  First, a calculation for $u\\geq 2$:\n",
    " \n",
    " $$\n",
    " \\begin{array}{lcll}\n",
    "  F(u+1,v+1)  &  = & F(F(u,v+1),v) \\\\\n",
    "  &  < &  F(F(u,v+1),v+1) &  \\mbox{($*$)} \\\\\n",
    "    &  \\leq &  F(F(u,v+2),v+1)  & \\mbox{($**$)} \\\\\n",
    " &  = &  F(u+1, v+2) \n",
    "  \\end{array} \n",
    "$$\n",
    "\n",
    "When \n",
    "$u = 2$,  step ($*$) is by the induction hypothesis on $v$; we also used $3 < F(3, v+1)$, and this is due to point (1).\n",
    "We have equality in the step ($**$).   From above,\n",
    "$ F(3,v+1)  <  F(3, v+2) $.\n",
    "We have the base case, except for the point that $3 \\leq F(3,v+1)$, and we verify this below.\n",
    "\n",
    "For the induction step on $u$, we assume about $u$ that $ 3 \\leq F(u,v+1)  <  F(u, v+2) $.   We repeat the calculation above.\n",
    "Step ($*$) follows from the induction hypothesis on $v$,\n",
    "and step  ($**$)  from {prf:ref}`BuckTwo`.\n",
    "To  complete the verification of (2), both for the base case $u = 3$ and the induction step on $u$,\n",
    "we need only check that $F(F(u,v+1),v) \\geq 3$.\n",
    "Let $k = F(u, v+1)$.  Then $k \\geq 3$ since $u \\geq 2$, and $F(k,v) \\geq 3$ by induction hypothesis on $v$.\n",
    "\n",
    "```"
   ]
  },
  {
   "attachments": {},
   "cell_type": "markdown",
   "metadata": {},
   "source": [
    "```{prf:lemma}\n",
    ":label: BuckFour\n",
    "For all $x\\geq 3$ and $n\\geq 2$, $F(F(x,n), n) < F(x, n+2)$.\n",
    "```"
   ]
  },
  {
   "attachments": {},
   "cell_type": "markdown",
   "metadata": {},
   "source": [
    "```{prf:proof}\n",
    "By induction on $n\\geq 2$.\n",
    "For $n=2$ and $x = 3$, \n",
    "$F(F(3,2), 2) = 12 < 16 = F(3, 4)$.\n",
    "For $n=2$ and $x = 4$, \n",
    "$F(F(4,2), 2) = 16 < 2^{16} = F(3, 5)$.\n",
    "For $n = 2$ and $x\\geq 5$, $F(F(x,2),2) = 4x < 2^x = F(x,3) < F(x,4)$.\n",
    "\n",
    "\n",
    "\n",
    "Assume about $n\\geq 2$ that for all $x\\geq 3$,  $F(F(x,n), n) < F(x, n+2)$.\n",
    "Then \n",
    "\n",
    "$$\n",
    "\\begin{array}{lcll}\n",
    "F(F(x+1, n), n) & = &F( F(F(x,n), n-1), n) \\\\\n",
    "& < & F( F(F(x,n), n), n) \\\\\n",
    "& < & F( F(x, n+2), n)  &\\mbox{induction hypothesis}\\\\\n",
    "& < & F( F(x, n+2), n+1)  \\\\\n",
    "& = & F(x+1, n+2)\\\\\n",
    "\\end{array}\n",
    "$$\n",
    "\n",
    "In these calculuations, we used {prf:ref}`BuckThree` twice, using also that $F(x,n+2)\\geq F(x,n)\\geq 3$.\n",
    "\n",
    "```"
   ]
  },
  {
   "attachments": {},
   "cell_type": "markdown",
   "metadata": {},
   "source": [
    "```{prf:lemma}\n",
    ":label: BuckFive\n",
    "\n",
    "For all $x\\geq 3$ and $n,m\\geq 2$, $F(F(x,n), m) < F(x, n+m)$.\n",
    "```"
   ]
  },
  {
   "attachments": {},
   "cell_type": "markdown",
   "metadata": {},
   "source": [
    "```{prf:proof}\n",
    "Let $p = \\max\\{m,n\\}$.  Using {prf:ref}`BuckThree` and {prf:ref}`BuckFour`,\n",
    "\n",
    "$$\n",
    "F(F(x,n), m)  < F(F(x,p),p) <  F(x, p+2) \\leq F(x, n+m).\n",
    "$$\n",
    "\n",
    "```"
   ]
  },
  {
   "attachments": {},
   "cell_type": "markdown",
   "metadata": {},
   "source": [
    "```{prf:lemma}\n",
    ":label: BuckMain\n",
    "\n",
    "For every primitive recursive $f:N^k \\to N$, there is some $r \\geq 3$ so that for all $\\overline{x} = x_1,\\ldots, x_k\\in N^k$, \n",
    "$\n",
    "f(\\overline{x}) < F(\\hat{x}_i, r)$.\n",
    "\n",
    "```"
   ]
  },
  {
   "attachments": {},
   "cell_type": "markdown",
   "metadata": {},
   "source": [
    "```{prf:theorem}\n",
    "Buck's function $F$ is not primitive recursive.\n",
    "```\n",
    "\n",
    "```{prf:proof}\n",
    "\n",
    "Suppose towards a contradiction that $F$ were primitive recursive.   By {prf:ref}`BuckMain`, let $r\\geq 3$ be such that \n",
    "$F(x,y) < F(\\{x,y\\}^{\\widehat{}}, r)$ for all $x,y$.  Take $x = y = r$.   Then $\\{x,y\\}^{\\widehat{}} = r$.  We have $F(r,r) <F(r,r)$, and this is the contradiction.\n",
    "\n",
    "```\n",
    "\n"
   ]
  },
  {
   "attachments": {},
   "cell_type": "markdown",
   "metadata": {},
   "source": [
    "## Back to Ackermann's function"
   ]
  },
  {
   "attachments": {},
   "cell_type": "markdown",
   "metadata": {},
   "source": [
    "\n",
    "\n",
    "```{prf:lemma} \n",
    "For every primitive recursive function $f:N^k \\to N$ there is a number $r$ such that for all $x_1, \\ldots, x_k$,\n",
    "\n",
    "$$\n",
    "f(x_1, \\ldots, x_k) < A(r, \\max_i x_i)\n",
    "$$\n",
    "```\n",
    "\n",
    "\n",
    "This lemma is proved by induction on the PR functions.\n",
    "\n",
    "For the base cases of $z$ and the projections, we can take $r=0$.\n",
    "For the successor function, we can take $r = 1$.\n",
    "\n",
    "Consider a composition, say ```[comp, f, g_1, . . . , g_k]```.  By induction hypothesis, we have numbers $r_i$\n",
    "for $g_i$ (for $1\\leq i \\leq k$), and we also have a number $s$ for $f$.\n",
    "\n",
    "\n",
    "\n",
    "\n",
    "\n",
    "\n",
    "  I won't give this here, but you can find a short note that does the details on our Canvas page.  Assuming this lemma, we can then easily infer what we really want:\n",
    "\n",
    "```{prf:theorem} \n",
    "The Ackermann function $A(x,y): N^2\\to N$ is not primitive recursive.\n",
    "```\n",
    "\n",
    "```{prf:proof}\n",
    "\n",
    "Assume toward a contradiction that $A(x,y)$ were primitive recursive.  By the lemma, we have a number $r$ so that\n",
    "\n",
    "$$\n",
    "A(x,y) < A(r, \\max(x,y))\n",
    "$$\n",
    "\n",
    "for all $x$ and $y$.   In particular, taking $x = r = y$, we have $A(r,r) < A(r,r)$.\n",
    "\n",
    "Contradiction!\n",
    "```\n"
   ]
  },
  {
   "attachments": {},
   "cell_type": "markdown",
   "metadata": {},
   "source": [
    "```{admonition} Credits\n",
    ":class: warning\n",
    "\n",
    "Buck's function comes from his paper\n",
    "\n",
    "R. C. Buck, \n",
    "Mathematical Induction and Recursive Definitions.\n",
    "The American Mathematical Monthly, Vol. 70, No. 2 (Feb., 1963), pp. 128-135.\n",
    "\n",
    "The first (?) proof that Ackermann's function is total but not primitive recursive was given in the paper (in German) \n",
    "\n",
    "Rózsa Péter, (1935). \"Konstruktion nichtrekursiver Funktionen\". Mathematische Annalen. 111: 42–60.\n",
    "\n",
    "Péter went on to write the first book on primitive recursive functions, translated into English as\n",
    "\n",
    "Rózsa Péter, (1967). Recursive Functions (3d revised ed.). Academic Press.\n",
    "\n",
    "\n",
    "\n"
   ]
  }
 ],
 "metadata": {
  "language_info": {
   "name": "python"
  },
  "orig_nbformat": 4
 },
 "nbformat": 4,
 "nbformat_minor": 2
}
