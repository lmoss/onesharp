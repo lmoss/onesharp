{
 "cells": [
  {
   "attachments": {},
   "cell_type": "markdown",
   "metadata": {},
   "source": [
    "# Ackermann's function"
   ]
  },
  {
   "attachments": {},
   "cell_type": "markdown",
   "metadata": {},
   "source": [
    "The most famous example of a function which is computable and total but not primitive recursive is *Ackermann's function*.  It is given by\n",
    "\n",
    "$$\n",
    "A(x,y)\\quadeq \\left\\{\n",
    "\\begin{array}{ll} y+1 &\\mbox{if  $x=0$}\n",
    "\\\\\n",
    " A(x-1,1) & \\mbox{if  $x\\neq 0$ and $y=0$}\\\\\n",
    " A(x-1,A(x,y-1)) & \\mbox{otherwise}\n",
    "\\end{array}\n",
    "\\right.\n",
    "$$\n"
   ]
  },
  {
   "attachments": {},
   "cell_type": "markdown",
   "metadata": {},
   "source": [
    "## Buck's function\n",
    "\n",
    "Here is Buck's function $F(m,n)$.\n",
    "\n",
    "$$\n",
    "\\begin{array}{lcl}\n",
    "F(m,0) & = & m+1 \\\\ \\\\ \n",
    "F(0,n)  & = & \\left\\{ \\begin{array}{ll}  2 &\\mbox{if $n = 1$} \\\\  0 &\\mbox{if $n = 2$} \\\\  1 &\\mbox{if $n \\geq 3$} \\end{array} \\right.\\\\ \\\\\n",
    "F(m+1,n+1) & = & F(F(m,n+1), n)\\\\\n",
    "\\end{array}\n",
    "$$\n",
    "\n",
    "Here are some special cases, and a table of values for small $m$ and $n$.\n",
    "\n",
    "$$\n",
    "\\begin{array}{lcl}\n",
    "F(m,1) & = &2+ m\\\\\n",
    "F(m,2)  & = & 2\\cdot m \\\\\n",
    "F(m,3) & = & 2^m \\\\\n",
    "F(m,4) & = &  2^{2^{\\rddots2}}\\mbox{, this is\n",
    "a tower of $m$ 2's}\n",
    "\\end{array}\n",
    "$$\n",
    "\n",
    "\n",
    "$$\n",
    "\\begin{array}{|c||c|c|c|c|c|c|}\n",
    "\\hline\n",
    "% \\diagbox[width=\\dimexpr \\textwidth/8+2\\tabcolsep\\relax, height=1cm]{$ u$}{$v$} & 0 & 1 & 2 & 3 & 4 \\\\\n",
    "% \\diagbox{$m$}{$n$} & 0 & 1 & 2 & 3 & 4 & 5 \\\\\n",
    " \\hline\n",
    " 0  & 1 & 2 & 0 & 1 & 1  & 1\\\\\n",
    " \\hline\n",
    " 1  & 2 & 3 & 2 & 2 & 2 & 2 \\\\\n",
    " \\hline \n",
    "2  & 3 & 4 & 4 & 4 & 4  & 4\\\\\n",
    " \\hline\n",
    "3  & 4 & 5 & 6 & 8 & 16  & 2^{16} \\\\\n",
    " \\hline\n",
    "4  & 5 & 6 & 8 & 16 & 2^{16} & F(2^{16},4)\\\\\n",
    " \\hline\n",
    "5 & 6 & 7 & 10 & 32 &  2^{2^{16}} & F(F(4,5),4)  \\\\\n",
    " \\hline \n",
    "\\end{array} \n",
    "$$\n"
   ]
  },
  {
   "attachments": {},
   "cell_type": "markdown",
   "metadata": {},
   "source": [
    "```{prf:lemma} \n",
    "\n",
    "For  $n\\geq 3$ and  all $a$, $a < F(a,n)$.\n",
    "```"
   ]
  },
  {
   "attachments": {},
   "cell_type": "markdown",
   "metadata": {},
   "source": [
    "```{prf:proof}\n",
    "\n",
    "For $n = 3$, it's clear: $a < 2^a = F(a,3)$.  \n",
    " Assume our result for $n\\geq 3$, we check it for $n +1$. \n",
    " We argue by induction on $a$.  \n",
    " First, $0 < 1 = F(0,n+1)$.   \n",
    "   Assuming that $a < F(a,n+1)$, we have\n",
    " \n",
    " $$\n",
    " \\begin{array}{lcll}\n",
    " a &  < & F(a,n+1) &\\mbox{ind.~hyp.~on $a$}\\\\\n",
    "    &  < &  F(F(a,n+1), n) &\\mbox{ind.~hyp.~on $n$}\\\\\n",
    " &  = &  F(a+1, n+1) \n",
    "  \\end{array} \n",
    "$$\n",
    "\n",
    " The calculation above has two strict inequalities,\n",
    " and it implies that $a+1 < F(a+1, n+1)$.\n",
    "\n",
    "```"
   ]
  },
  {
   "attachments": {},
   "cell_type": "markdown",
   "metadata": {},
   "source": [
    "```{prf:lemma} \n",
    "\n",
    "If $n \\geq 0$ and $a < b$, then $F(a,n) < F(b,n)$.\n",
    "\n",
    "```"
   ]
  },
  {
   "attachments": {},
   "cell_type": "markdown",
   "metadata": {},
   "source": [
    "```{prf:lemma} \n",
    "\n",
    "1. $3 \\leq F(2, v)\\leq F(2, v+1)$.\n",
    "\n",
    "2. If $u \\geq 3$, then $3 \\leq F(u,v) < F(u,v+1)$.\n",
    "\n",
    "``` "
   ]
  },
  {
   "attachments": {},
   "cell_type": "markdown",
   "metadata": {},
   "source": [
    "```{prf:lemma}\n",
    "For all $x\\geq 3$ and $n\\geq 2$, $F(F(x,n), n) < F(x, n+2)$.\n",
    "```"
   ]
  },
  {
   "attachments": {},
   "cell_type": "markdown",
   "metadata": {},
   "source": [
    "```{prf:lemma}\n",
    "\n",
    "For all $x\\geq 3$ and $n,m\\geq 2$, $F(F(x,n), m) < F(x, n+m)$.\n",
    "```"
   ]
  },
  {
   "attachments": {},
   "cell_type": "markdown",
   "metadata": {},
   "source": [
    "```{prf:lemma}\n",
    "\n",
    "For every primitive recursive $f:N^k \\to N$, there is some $r \\geq 3$ so that for all $\\overline{x} = x_1,\\ldots, x_k\\in N^k$, \n",
    "$\n",
    "f(\\overline{x}) < F(\\hat{x}_i, r)$.\n",
    "\n",
    "```"
   ]
  },
  {
   "attachments": {},
   "cell_type": "markdown",
   "metadata": {},
   "source": [
    "```{prf:theorem}\n",
    "Buck's function $F$ is not primitive recursive.\n",
    "```\n",
    "\n",
    "```{prf:proof}\n",
    "\n",
    "Suppose towards a contradiction that $F$ were primitive recursive.   By the Main Lemma, let $r\\geq 3$ be such that \n",
    "$F(x,y) < F(\\{x,y\\}^{\\widehat{}}, r)$ for all $x,y$.  \n",
    "  Take $x = y = r$.   \n",
    "  Then $\\{x,y\\}^{\\widehat{}} = r$.  We have \n",
    "  $F(r,r) <F(r,r)$, and this is the contradiction.\n",
    "\n",
    "```\n",
    "\n"
   ]
  },
  {
   "attachments": {},
   "cell_type": "markdown",
   "metadata": {},
   "source": [
    "## Return to Ackermann's function"
   ]
  },
  {
   "attachments": {},
   "cell_type": "markdown",
   "metadata": {},
   "source": [
    "\n",
    "\n",
    "```{prf:lemma} \n",
    "For every primitive recursive function $f:N^k \\to N$ there is a number $r$ such that for all $x_1, \\ldots, x_k$,\n",
    "\n",
    "$$\n",
    "f(x_1, \\ldots, x_k) < A(r, \\max_i x_i)\n",
    "$$\n",
    "```\n",
    "\n",
    "\n",
    "This lemma is proved by induction on the PR functions.\n",
    "\n",
    "For the base cases of $z$ and the projections, we can take $r=0$.\n",
    "For the successor function, we can take $r = 1$.\n",
    "\n",
    "Consider a composition, say ```[comp, f, g_1, . . . , g_k]```.  By induction hypothesis, we have numbers $r_i$\n",
    "for $g_i$ (for $1\\leq i \\leq k$), and we also have a number $s$ for $f$.\n",
    "\n",
    "\n",
    "\n",
    "\n",
    "\n",
    "\n",
    "  I won't give this here, but you can find a short note that does the details on our Canvas page.  Assuming this lemma, we can then easily infer what we really want:\n",
    "\n",
    "```{prf:theorem} \n",
    "The Ackermann function $A(x,y): N^2\\to N$ is not primitive recursive.\n",
    "```\n",
    "\n",
    "```{prf:proof}\n",
    "\n",
    "Assume toward a contradiction that $A(x,y)$ were primitive recursive.  By the lemma, we have a number $r$ so that\n",
    "\n",
    "$$\n",
    "A(x,y) < A(r, \\max(x,y))\n",
    "$$\n",
    "\n",
    "for all $x$ and $y$.   In particular, taking $x = r = y$, we have $A(r,r) < A(r,r)$.\n",
    "\n",
    "Contradiction!\n",
    "```\n"
   ]
  },
  {
   "attachments": {},
   "cell_type": "markdown",
   "metadata": {},
   "source": [
    "```{admonition} Credits\n",
    ":class: warning\n",
    "\n",
    "Buck's function was first mention in his paper\n",
    "\n",
    "R. C. Buck, \n",
    "Mathematical Induction and Recursive Definitions.\n",
    "The American Mathematical Monthly, Vol. 70, No. 2 (Feb., 1963), pp. 128-135.\n",
    "\n",
    "The first (?) proof that Ackermann's function is total but not primitive recursive was given in the paper (in German) \n",
    "\n",
    "Rózsa Péter, (1935). \"Konstruktion nichtrekursiver Funktionen\". Mathematische Annalen. 111: 42–60.\n",
    "\n",
    "Péter went on to write the first book on primitive recursive functions, translated into English as\n",
    "\n",
    "Rózsa Péter, (1967). Recursive Functions (3d revised ed.). Academic Press.\n",
    "\n",
    "\n",
    "\n"
   ]
  }
 ],
 "metadata": {
  "language_info": {
   "name": "python"
  },
  "orig_nbformat": 4
 },
 "nbformat": 4,
 "nbformat_minor": 2
}
