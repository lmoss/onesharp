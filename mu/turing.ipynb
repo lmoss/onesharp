{
 "cells": [
  {
   "cell_type": "code",
   "execution_count": null,
   "metadata": {},
   "outputs": [],
   "source": [
    "# Turing computability\n",
    "\n",
    "This is a placeholder for a section that relates Turing machines and Turing computability to the what we have seen so far: text register machines and computability."
   ]
  }
 ],
 "metadata": {
  "language_info": {
   "name": "python"
  },
  "orig_nbformat": 4
 },
 "nbformat": 4,
 "nbformat_minor": 2
}
