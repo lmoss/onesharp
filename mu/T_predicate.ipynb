{
  "cells": [
    {
      "cell_type": "markdown",
      "metadata": {
        "colab_type": "text",
        "id": "view-in-github"
      },
      "source": [
        "<a href=\"https://colab.research.google.com/github/lmoss/onesharp/blob/main/mu/T_predicate.ipynb\" target=\"_parent\"><img src=\"https://colab.research.google.com/assets/colab-badge.svg\" alt=\"Open In Colab\"/></a>"
      ]
    },
    {
      "cell_type": "code",
      "execution_count": null,
      "metadata": {},
      "outputs": [],
      "source": [
        "#@title\n",
        "!python -m pip install -U setuptools\n",
        "!python -m pip install -U git+https://github.com/lmoss/onesharp.git@main\n",
        "from onesharp.interpreter.with_traces import *"
      ]
    },
    {
      "cell_type": "markdown",
      "metadata": {
        "id": "4v32slgLIcOy"
      },
      "source": [
        "# The T predicate\n",
        "\n",
        "\n"
      ]
    },
    {
      "attachments": {},
      "cell_type": "markdown",
      "metadata": {},
      "source": [
        "If someone claims that $[\\![p]\\!](x)\\!\\!\\downarrow$, what evidence could they bring to prove their point?   In this section we develop an answer.  We provide a notion of a *trace* of a computation.  Here are the main points.   First, traces are finite words; they cannot be infinite objects.  Second, there is a total computable relation $T(p,x,z)$ such that if $[\\![p]\\!](x)\\!\\!\\downarrow$,\n",
        "then there is some $z$ such that $T(p,x,z)$.  But if $[\\![p]\\!](x)\\!\\!\\uparrow$, then there is no such $z$.  This relation $T(p,x,z)$ is called the *T-predicate*.\n",
        "\n",
        "Carrying out the definition of $T(p,x,z)$ requires us to make a number of secondary definitions.  Some of the discussion is technical because we need to code sequences of words by single words.   Please do not get bogged down by the technical details; the ideas are more important, and they are actually easier to grasp without the details of the coding.  In other words, the details are important, but they should not get in the way of understanding the ideas.\n",
        "\n",
        "The foregoing paragraphs were about computation in ```1#```.   After we do this work, we want to port the discussion from words to numbers.  This again leads us to a mountain of details about coding.  We show that the numerical version of $T$ is primitive recursive.   This leads to the a real result proved using the $T$-predicate, the fact that every partial $\\mu$-recursive function of\n",
        "numbers is ```1#```-computable."
      ]
    },
    {
      "attachments": {},
      "cell_type": "markdown",
      "metadata": {},
      "source": [
        "## Encoding sequences of words as words\n",
        "\n",
        "\n",
        ":::{prf:definition}\n",
        ":label: def-encode-sequences\n",
        "\n",
        "We start by defining a specific encoding map\n",
        "\n",
        "$$\n",
        "c: Words^* \\to Words\n",
        "$$\n",
        "\n",
        "Here is how our map words first, we define a map\n",
        "\n",
        "$$\n",
        "b : Words \\to Words\n",
        "$$\n",
        "\n",
        "by \n",
        "\n",
        "$$\n",
        "b(a_1 a_2 \\cdots a_k)  =  {\\tt 1}a_1 {\\tt 1} a_2 \\cdots  {\\tt 1}a_k \n",
        "$$\n",
        "\n",
        "In other words, we put a ${\\tt 1}$ before each letter in the input word $a_1 a_2 \\cdots a_k$.\n",
        "\n",
        "Then for a sequence of words we take \n",
        "\n",
        "$$\n",
        "c(w_1, \\ldots, w_r) = {\\tt 1} b(w1){\\tt \\#\\#} b(w_2)\\cdots b(w_r)\n",
        "$$\n",
        " \n",
        "We understand that $c(\\varepsilon) = {\\tt \\#\\#}$.\n",
        ":::"
      ]
    },
    {
      "attachments": {},
      "cell_type": "markdown",
      "metadata": {},
      "source": [
        "Here are some Python programs about this encoding."
      ]
    },
    {
      "cell_type": "code",
      "execution_count": null,
      "metadata": {},
      "outputs": [],
      "source": [
        "import math\n",
        "\n",
        "def log2int(x):\n",
        "  return(math.frexp(x)[1] - 1)\n",
        "\n",
        "def length(n):\n",
        "  return(log2int(n+1))\n",
        "\n",
        "def index(n,m): ## this is what I write as (n)_m\n",
        "  a = (n+1)%(2**(m+1))\n",
        "  b = 2**m\n",
        "  if a < b:\n",
        "    return(0)\n",
        "  else:\n",
        "    return(1)\n",
        "\n",
        "def convert_numeral_to_onesharp(x):\n",
        "   if x == 0:\n",
        "     return('#')\n",
        "   else:\n",
        "     return('1')    \n",
        "\n",
        "def s(n):\n",
        "  k = length(n)  \n",
        "  s = [convert_numeral_to_onesharp(index(n,k-i-1)) for i in range(k)] \n",
        "  t = \"\".join(s) \n",
        "  return(t)\n",
        "\n",
        "def s_inverse(w):\n",
        "  n = len(w)\n",
        "  a = (2**n - 1)\n",
        "  b = [(2** (n-i-1)) for i in range(n) if (w[i] == '1')]\n",
        "  c = sum(b)\n",
        "  d = c+a\n",
        "  return(d)\n"
      ]
    },
    {
      "cell_type": "code",
      "execution_count": null,
      "metadata": {},
      "outputs": [],
      "source": [
        "s(133)"
      ]
    },
    {
      "cell_type": "code",
      "execution_count": null,
      "metadata": {},
      "outputs": [],
      "source": [
        "s_inverse('11###111#1')"
      ]
    },
    {
      "attachments": {},
      "cell_type": "markdown",
      "metadata": {},
      "source": [
        "## Encoding snapshots\n",
        "\n",
        "Recall that a snapshot is a number together with a finite sequence of words.    We associate snapshots to executions of a program on some inputs; a snapshot is determined by a line number in a program, and with the contents of some finite set of registers.\n",
        "But we want a definition of a snapshot encoding that does not refer to a program or to anything else.   \n",
        "\n",
        ":::{prf:definition}\n",
        ":label: def-snapshot\n",
        "\n",
        "An *encoded snapshot* is a word of the form \n",
        "\n",
        "```1```${}^k$ $c(w_1, w_2, \\ldots, w_{\\ell})$\n",
        "\n",
        "That is, it is a finite sequence of ```1```s followed by ```##``` followed by $b(w_1)$ for some word $w_1$, then ```###```, then \n",
        "$b(w_2)$ for some word $w_2$, $\\ldots$, and finally $b(w_{\\ell})$ for some word $w_{\\ell}$.\n",
        "\n",
        ":::\n",
        "\n"
      ]
    },
    {
      "cell_type": "markdown",
      "metadata": {
        "id": "psrSIkk8anuG"
      },
      "source": [
        "<img src=\"https://github.com/lmoss/onesharp/blob/main/harp.jpg?raw=1\" width=\"200\" height=\"160\">"
      ]
    },
    {
      "cell_type": "markdown",
      "metadata": {
        "id": "_zFp0Yaeas9W"
      },
      "source": [
        "## New interface\n",
        "\n",
        "Here is a new interface for running program which includes a \"mode\" capability that includes the option of seeing all the snapshots and the overall trace."
      ]
    },
    {
      "cell_type": "code",
      "execution_count": null,
      "metadata": {
        "colab": {
          "base_uri": "https://localhost:8080/",
          "height": 768
        },
        "id": "DRCVegtmD0b7",
        "outputId": "3ddf4fd8-bbbf-4546-a0c9-f1f94b640c4c"
      },
      "outputs": [],
      "source": [
        "step_by_step_with_snapshots('1#1#',['##'])\n"
      ]
    },
    {
      "cell_type": "markdown",
      "metadata": {
        "id": "5QITuuDvu0XA"
      },
      "source": [
        "### We also want to check that various relations leading up to the T predicate are computable.  This part is work in progress, with the results obtained so far shown below."
      ]
    },
    {
      "cell_type": "code",
      "execution_count": null,
      "metadata": {
        "colab": {
          "base_uri": "https://localhost:8080/"
        },
        "id": "0NVduL92jkIe",
        "outputId": "a59e7504-21aa-49d8-fd22-69171975bc8a"
      },
      "outputs": [
        {
          "data": {
            "text/plain": [
              "False"
            ]
          },
          "execution_count": 121,
          "metadata": {},
          "output_type": "execute_result"
        }
      ],
      "source": [
        "snapshot_check('111##1#11#1111##')"
      ]
    },
    {
      "cell_type": "code",
      "execution_count": null,
      "metadata": {
        "colab": {
          "base_uri": "https://localhost:8080/"
        },
        "id": "gLf2HFceEzzd",
        "outputId": "a61c88fd-73ce-4cd1-cd6b-a3424e83fb2b"
      },
      "outputs": [
        {
          "name": "stdout",
          "output_type": "stream",
          "text": [
            "[2, 3, 4, 5]\n",
            "['1#', '1#']\n"
          ]
        },
        {
          "data": {
            "text/plain": [
              "False"
            ]
          },
          "execution_count": 15,
          "metadata": {},
          "output_type": "execute_result"
        }
      ],
      "source": [
        "print([0,1,2,3,4,5][2:])\n",
        "print(parse('1#1#'))\n",
        "halting_snapshot_check('1#1#','111##1#1#1111##1###')"
      ]
    },
    {
      "cell_type": "markdown",
      "metadata": {
        "id": "ZXrlT9nLazi2"
      },
      "source": [
        "<img src=\"https://github.com/lmoss/onesharp/blob/main/pianotrumpet.jpg?raw=1\" width=\"200\" height=\"160\">"
      ]
    },
    {
      "cell_type": "code",
      "execution_count": null,
      "metadata": {
        "id": "1zSGcVNASYpU"
      },
      "outputs": [],
      "source": []
    },
    {
      "cell_type": "code",
      "execution_count": null,
      "metadata": {
        "colab": {
          "base_uri": "https://localhost:8080/"
        },
        "id": "bWbLxZVmFSkS",
        "outputId": "ed7d6ad1-fd3c-40f9-e850-90de9450a605"
      },
      "outputs": [
        {
          "name": "stdout",
          "output_type": "stream",
          "text": [
            "['1#', '', '1']\n"
          ]
        }
      ],
      "source": [
        "a = ['1#','','1','','']\n",
        "first_index = a.index('')\n",
        "reversed_list = a[::-1]\n",
        "first_index_in_reversed = reversed_list.index('')\n",
        "last_index = len(a) -1 - first_index_in_reversed\n",
        "last_index\n",
        "print(a[:last_index-1])"
      ]
    },
    {
      "cell_type": "code",
      "execution_count": null,
      "metadata": {
        "colab": {
          "base_uri": "https://localhost:8080/"
        },
        "id": "2_v48hnPqnnn",
        "outputId": "229605e1-8baa-401b-b433-39887e727e36"
      },
      "outputs": [
        {
          "name": "stdout",
          "output_type": "stream",
          "text": [
            "['1#1#', '11', '', '#', '']\n",
            "['', '#', '', '11', '1#1#']\n",
            "4\n",
            "['1#1#', '11', '', '#']\n"
          ]
        }
      ],
      "source": [
        "a = ['1#1#', '11', '','#','']\n",
        "print(a)\n",
        "first_index = a.index('')\n",
        "reversed_list = a[::-1]\n",
        "print(reversed_list)\n",
        "first_index_in_reversed = reversed_list.index('')\n",
        "last_index = len(a) -1 - first_index_in_reversed\n",
        "print(last_index)\n",
        "non_empty_registers = a[:last_index]\n",
        "print(non_empty_registers)"
      ]
    },
    {
      "attachments": {},
      "cell_type": "markdown",
      "metadata": {},
      "source": [
        "## Shortlex ordering of words\n",
        "\n",
        "Our next order of business is to rework everything which we have seen from words to numbers.   This involves an encoding.  So we start with a bijection $s: N \\to Words$.  "
      ]
    },
    {
      "attachments": {},
      "cell_type": "markdown",
      "metadata": {},
      "source": [
        "| $n$     | $s(n)$ |\n",
        "| ------- | ----------- |\n",
        "| 0      | $\\varepsilon$       |\n",
        "| 1   | ```#```      |\n",
        "| 2  | ```1```     |\n",
        "| 3  |```##```      |\n",
        "| 4  | ```##``` |\n",
        "| 5   | ```1#```      |\n",
        "| 6  | ```11```     |\n",
        "| 7  |```###```      |\n",
        "| 8  | ```##1``` |\n",
        "| 9  | ```#1#``` |\n",
        "| 10  | ```#11``` |\n",
        "| 11 | ```1##```|\n",
        "| 12 | ```1#1``` |\n",
        "| 13 | ```11#``` |\n",
        "| 14 | ```111```|\n",
        "| 15 | ```####``` |\n",
        "\n",
        "Being a bijection, this function $s$ has an inverse $s^{-1}$."
      ]
    },
    {
      "attachments": {},
      "cell_type": "markdown",
      "metadata": {},
      "source": [
        "The idea now is to take all of the machinery which we have built in this notebook and use $s$ and its inverse $s^{-1}$ to transfer them to numbers.  In the other direction, we want to take all of the primitive recursive functions of numbers and transfer them to ```1#```.\n",
        "\n"
      ]
    },
    {
      "cell_type": "markdown",
      "metadata": {},
      "source": []
    },
    {
      "attachments": {},
      "cell_type": "markdown",
      "metadata": {},
      "source": [
        "### Accessing bits\n",
        "\n",
        "We next define two functions on the natural numbers.  The first is called $|n|$, and it gives the number of characters in $s(n)$.\n",
        "\n",
        "$$\n",
        "|n| = \\biggl( \\mu x \\leq n +1. \\ (2^x  > n + 1)\\biggr) - 1.\n",
        "$$\n",
        "\n",
        "$$ \n",
        "\\begin{array}{lcl}\n",
        "rem(a,b) &  = &  (\\mu r < b).(\\exists q)(a = qb + r)\\\\\n",
        "&  = &  (\\mu r < b).(\\exists q \\leq a)(a = qb + r)\\\\\n",
        "\\end{array}\n",
        "$$\n",
        "\n",
        "$$\n",
        "(n)_{m} =\\left\\{\n",
        "\\begin{array}{ll}\n",
        "0 & if\\ rem(n+1,2^{m+1}) <  2^m   \\\\\n",
        "1 & if\\    rem(n+1,2^{m+1}) \\geq 2^m  \n",
        "\\end{array}\n",
        "\\right.\n",
        "$$\n"
      ]
    },
    {
      "attachments": {},
      "cell_type": "markdown",
      "metadata": {},
      "source": [
        "Here is a table of the values of this function for small numbers.\n",
        "\n",
        "\n",
        "| $n$ | $s(n)$        | $\\|n\\|$ | $(n)_0$ | $(n)_1$ | $(n)_2$ |\n",
        "|-----|---------------|---------|---------|---------|---------|\n",
        "| 0   | $\\varepsilon$ | 0       | 0       | 0       | 0      |\n",
        "| 1   | ```#```         | 1       | 0       | 0       | 0       |\n",
        "| 2   | ```1```       | 1       | 1       | 0       | 0       |\n",
        "| 3   | ```##```      | 2       | 0       | 0       | 0       |\n",
        "| 4   | ```#1```      | 2       | 1       | 0       | 0       |\n",
        "| 5   | ```1#```      | 2       | 0       | 1       | 0       |\n",
        "| 6   | ```11```      | 2       | 1       | 1       | 0       |\n",
        "| 7   | ```###```     | 3       | 0       | 0       | 0       |\n",
        "| 8   | ```##1```     | 3       | 1       | 0       | 0       |\n",
        "| 9   | ```#1#```     | 3       | 0       | 1       | 0       |\n",
        "| 10  | ```#11```     | 3       | 1       | 1       | 0       |\n",
        "| 11  | ```1##```     | 3       | 0       | 0       | 1       |\n",
        "| 12  | ```1#1```     | 3       | 1       | 0       | 1       |\n",
        "| 13  | ```11#```     | 3       | 0       | 1       | 1       |\n",
        "| 14  | ```111```     | 3       | 1       | 1       | 1       |\n",
        "| 15  | ```####```     | 4       | 0       | 0      | 0       |\n"
      ]
    },
    {
      "cell_type": "markdown",
      "metadata": {},
      "source": []
    },
    {
      "cell_type": "markdown",
      "metadata": {},
      "source": []
    }
  ],
  "metadata": {
    "colab": {
      "authorship_tag": "ABX9TyMEbvUO3kD2dPGrdFMmVPVs",
      "include_colab_link": true,
      "provenance": []
    },
    "kernelspec": {
      "display_name": "Python 3",
      "name": "python3"
    },
    "language_info": {
      "name": "python"
    }
  },
  "nbformat": 4,
  "nbformat_minor": 0
}
