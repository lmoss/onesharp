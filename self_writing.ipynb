{
  "nbformat": 4,
  "nbformat_minor": 0,
  "metadata": {
    "colab": {
      "provenance": [],
      "authorship_tag": "ABX9TyO6yZb5ftsO7LFzzFTlkuhj",
      "include_colab_link": true
    },
    "kernelspec": {
      "name": "python3",
      "display_name": "Python 3"
    },
    "language_info": {
      "name": "python"
    }
  },
  "cells": [
    {
      "cell_type": "markdown",
      "metadata": {
        "id": "view-in-github",
        "colab_type": "text"
      },
      "source": [
        "<a href=\"https://colab.research.google.com/github/lmoss/onesharp/blob/main/self_writing.ipynb\" target=\"_parent\"><img src=\"https://colab.research.google.com/assets/colab-badge.svg\" alt=\"Open In Colab\"/></a>"
      ]
    },
    {
      "cell_type": "markdown",
      "source": [
        "#Self-Replicating Programs\n",
        "\n",
        "A self-writing replicating program is one which outputs itself, starting with all registers empty.\n",
        "At first blush it seems paradoxical that such programs would exist: there is no direct way to get the ```1#``` interpreter to spit out the program that is inside it. And anyways, it would seem that typically, a program is usually longer than its output. So how can a program output itself? This lesson shows how it is done. Even more, it will show you how such programs work and give you a chance to try your hand at writing related programs.\n",
        "\n",
        "In order to get a program which writes itself, one must use some sort of trick or clever idea. Our goal is to explain one such clever idea, and then to see other applications of it as we go. Before you understand it, the idea will seem to be a trick, or even a fluke: we have a program, and it just so happens to output itself. But as we come to understand it better, the trick becomes tamed into a general method.\n",
        "\n",
        "At the root of our work is something we've seen in the last lesson: the ability of ```1#``` programs to write and modify other programs.\n",
        "\n",
        "The exercises in ths lesson are much more challenging than the previous ones.\n",
        "\n"
      ],
      "metadata": {
        "id": "mjtzV10cAMR5"
      }
    },
    {
      "cell_type": "code",
      "source": [
        "!python -m pip install -U setuptools\n",
        "!python -m pip install -U git+https://github.com/lmoss/onesharp.git@main\n",
        "from onesharp.interpreter.interpreter import *"
      ],
      "metadata": {
        "id": "WKstbnoBDdMN"
      },
      "execution_count": null,
      "outputs": []
    },
    {
      "cell_type": "markdown",
      "source": [
        "<img src=\"https://github.com/lmoss/onesharp/blob/main/drum.jpg?raw=1\" width=\"200\" height=\"160\">"
      ],
      "metadata": {
        "id": "css7-S_FAiQl"
      }
    },
    {
      "cell_type": "markdown",
      "source": [
        "## Diag\n",
        "\n",
        "We begin with a program which we'll call ```diag```. When ```diag``` is run with a word x in R1, the result is \n",
        "[[write]](x) + x in R1. And running that gives $\\phi_x(x)$ in R1.\n"
      ],
      "metadata": {
        "id": "ibYhzz7UCQYa"
      }
    },
    {
      "cell_type": "code",
      "source": [
        "parse_explain(diag)\n",
        "# the chart in the old pages is better because it has color coding"
      ],
      "metadata": {
        "colab": {
          "base_uri": "https://localhost:8080/",
          "height": 865
        },
        "id": "WM2ipDHECTx6",
        "outputId": "d96d8c7d-4b0d-41c4-9a20-5ab014bb13e5"
      },
      "execution_count": 11,
      "outputs": [
        {
          "output_type": "display_data",
          "data": {
            "text/plain": [
              "<pandas.io.formats.style.Styler at 0x7fef5972be90>"
            ],
            "text/html": [
              "<style type=\"text/css\">\n",
              "#T_43784_row0_col0, #T_43784_row0_col1, #T_43784_row1_col0, #T_43784_row1_col1, #T_43784_row2_col0, #T_43784_row2_col1, #T_43784_row3_col0, #T_43784_row3_col1, #T_43784_row4_col0, #T_43784_row4_col1, #T_43784_row5_col0, #T_43784_row5_col1, #T_43784_row6_col0, #T_43784_row6_col1, #T_43784_row7_col0, #T_43784_row7_col1, #T_43784_row8_col0, #T_43784_row8_col1, #T_43784_row9_col0, #T_43784_row9_col1, #T_43784_row10_col0, #T_43784_row10_col1, #T_43784_row11_col0, #T_43784_row11_col1, #T_43784_row12_col0, #T_43784_row12_col1, #T_43784_row13_col0, #T_43784_row13_col1, #T_43784_row14_col0, #T_43784_row14_col1, #T_43784_row15_col0, #T_43784_row15_col1, #T_43784_row16_col0, #T_43784_row16_col1, #T_43784_row17_col0, #T_43784_row17_col1, #T_43784_row18_col0, #T_43784_row18_col1, #T_43784_row19_col0, #T_43784_row19_col1, #T_43784_row20_col0, #T_43784_row20_col1, #T_43784_row21_col0, #T_43784_row21_col1, #T_43784_row22_col0, #T_43784_row22_col1, #T_43784_row23_col0, #T_43784_row23_col1, #T_43784_row24_col0, #T_43784_row24_col1, #T_43784_row25_col0, #T_43784_row25_col1 {\n",
              "  background-color: #C9DFEC;\n",
              "  text-align: left;\n",
              "}\n",
              "</style>\n",
              "<table id=\"T_43784_\" class=\"dataframe\">\n",
              "  <thead>\n",
              "    <tr>\n",
              "      <th class=\"blank level0\" >&nbsp;</th>\n",
              "      <th class=\"col_heading level0 col0\" >instruction</th>\n",
              "      <th class=\"col_heading level0 col1\" >explanation</th>\n",
              "    </tr>\n",
              "  </thead>\n",
              "  <tbody>\n",
              "    <tr>\n",
              "      <th id=\"T_43784_level0_row0\" class=\"row_heading level0 row0\" >1</th>\n",
              "      <td id=\"T_43784_row0_col0\" class=\"data row0 col0\" >1#####</td>\n",
              "      <td id=\"T_43784_row0_col1\" class=\"data row0 col1\" >cases on R1</td>\n",
              "    </tr>\n",
              "    <tr>\n",
              "      <th id=\"T_43784_level0_row1\" class=\"row_heading level0 row1\" >2</th>\n",
              "      <td id=\"T_43784_row1_col0\" class=\"data row1 col0\" >11111111111###</td>\n",
              "      <td id=\"T_43784_row1_col1\" class=\"data row1 col1\" >go forward 11 to instruction 13</td>\n",
              "    </tr>\n",
              "    <tr>\n",
              "      <th id=\"T_43784_level0_row2\" class=\"row_heading level0 row2\" >3</th>\n",
              "      <td id=\"T_43784_row2_col0\" class=\"data row2 col0\" >111111###</td>\n",
              "      <td id=\"T_43784_row2_col1\" class=\"data row2 col1\" >go forward 6 to instruction 9</td>\n",
              "    </tr>\n",
              "    <tr>\n",
              "      <th id=\"T_43784_level0_row3\" class=\"row_heading level0 row3\" >4</th>\n",
              "      <td id=\"T_43784_row3_col0\" class=\"data row3 col0\" >11##</td>\n",
              "      <td id=\"T_43784_row3_col1\" class=\"data row3 col1\" >add # to R2</td>\n",
              "    </tr>\n",
              "    <tr>\n",
              "      <th id=\"T_43784_level0_row4\" class=\"row_heading level0 row4\" >5</th>\n",
              "      <td id=\"T_43784_row4_col0\" class=\"data row4 col0\" >111#</td>\n",
              "      <td id=\"T_43784_row4_col1\" class=\"data row4 col1\" >add 1 to R3</td>\n",
              "    </tr>\n",
              "    <tr>\n",
              "      <th id=\"T_43784_level0_row5\" class=\"row_heading level0 row5\" >6</th>\n",
              "      <td id=\"T_43784_row5_col0\" class=\"data row5 col0\" >111##</td>\n",
              "      <td id=\"T_43784_row5_col1\" class=\"data row5 col1\" >add # to R3</td>\n",
              "    </tr>\n",
              "    <tr>\n",
              "      <th id=\"T_43784_level0_row6\" class=\"row_heading level0 row6\" >7</th>\n",
              "      <td id=\"T_43784_row6_col0\" class=\"data row6 col0\" >111##</td>\n",
              "      <td id=\"T_43784_row6_col1\" class=\"data row6 col1\" >add # to R3</td>\n",
              "    </tr>\n",
              "    <tr>\n",
              "      <th id=\"T_43784_level0_row7\" class=\"row_heading level0 row7\" >8</th>\n",
              "      <td id=\"T_43784_row7_col0\" class=\"data row7 col0\" >1111111####</td>\n",
              "      <td id=\"T_43784_row7_col1\" class=\"data row7 col1\" >go backward 7 to instruction 1</td>\n",
              "    </tr>\n",
              "    <tr>\n",
              "      <th id=\"T_43784_level0_row8\" class=\"row_heading level0 row8\" >9</th>\n",
              "      <td id=\"T_43784_row8_col0\" class=\"data row8 col0\" >11#</td>\n",
              "      <td id=\"T_43784_row8_col1\" class=\"data row8 col1\" >add 1 to R2</td>\n",
              "    </tr>\n",
              "    <tr>\n",
              "      <th id=\"T_43784_level0_row9\" class=\"row_heading level0 row9\" >10</th>\n",
              "      <td id=\"T_43784_row9_col0\" class=\"data row9 col0\" >111#</td>\n",
              "      <td id=\"T_43784_row9_col1\" class=\"data row9 col1\" >add 1 to R3</td>\n",
              "    </tr>\n",
              "    <tr>\n",
              "      <th id=\"T_43784_level0_row10\" class=\"row_heading level0 row10\" >11</th>\n",
              "      <td id=\"T_43784_row10_col0\" class=\"data row10 col0\" >111##</td>\n",
              "      <td id=\"T_43784_row10_col1\" class=\"data row10 col1\" >add # to R3</td>\n",
              "    </tr>\n",
              "    <tr>\n",
              "      <th id=\"T_43784_level0_row11\" class=\"row_heading level0 row11\" >12</th>\n",
              "      <td id=\"T_43784_row11_col0\" class=\"data row11 col0\" >1111####</td>\n",
              "      <td id=\"T_43784_row11_col1\" class=\"data row11 col1\" >go backward 4 to instruction 8</td>\n",
              "    </tr>\n",
              "    <tr>\n",
              "      <th id=\"T_43784_level0_row12\" class=\"row_heading level0 row12\" >13</th>\n",
              "      <td id=\"T_43784_row12_col0\" class=\"data row12 col0\" >111#####</td>\n",
              "      <td id=\"T_43784_row12_col1\" class=\"data row12 col1\" >cases on R3</td>\n",
              "    </tr>\n",
              "    <tr>\n",
              "      <th id=\"T_43784_level0_row13\" class=\"row_heading level0 row13\" >14</th>\n",
              "      <td id=\"T_43784_row13_col0\" class=\"data row13 col0\" >111111###</td>\n",
              "      <td id=\"T_43784_row13_col1\" class=\"data row13 col1\" >go forward 6 to instruction 20</td>\n",
              "    </tr>\n",
              "    <tr>\n",
              "      <th id=\"T_43784_level0_row14\" class=\"row_heading level0 row14\" >15</th>\n",
              "      <td id=\"T_43784_row14_col0\" class=\"data row14 col0\" >111###</td>\n",
              "      <td id=\"T_43784_row14_col1\" class=\"data row14 col1\" >go forward 3 to instruction 18</td>\n",
              "    </tr>\n",
              "    <tr>\n",
              "      <th id=\"T_43784_level0_row15\" class=\"row_heading level0 row15\" >16</th>\n",
              "      <td id=\"T_43784_row15_col0\" class=\"data row15 col0\" >1##</td>\n",
              "      <td id=\"T_43784_row15_col1\" class=\"data row15 col1\" >add # to R1</td>\n",
              "    </tr>\n",
              "    <tr>\n",
              "      <th id=\"T_43784_level0_row16\" class=\"row_heading level0 row16\" >17</th>\n",
              "      <td id=\"T_43784_row16_col0\" class=\"data row16 col0\" >1111####</td>\n",
              "      <td id=\"T_43784_row16_col1\" class=\"data row16 col1\" >go backward 4 to instruction 13</td>\n",
              "    </tr>\n",
              "    <tr>\n",
              "      <th id=\"T_43784_level0_row17\" class=\"row_heading level0 row17\" >18</th>\n",
              "      <td id=\"T_43784_row17_col0\" class=\"data row17 col0\" >1#</td>\n",
              "      <td id=\"T_43784_row17_col1\" class=\"data row17 col1\" >add 1 to R1</td>\n",
              "    </tr>\n",
              "    <tr>\n",
              "      <th id=\"T_43784_level0_row18\" class=\"row_heading level0 row18\" >19</th>\n",
              "      <td id=\"T_43784_row18_col0\" class=\"data row18 col0\" >11####</td>\n",
              "      <td id=\"T_43784_row18_col1\" class=\"data row18 col1\" >go backward 2 to instruction 17</td>\n",
              "    </tr>\n",
              "    <tr>\n",
              "      <th id=\"T_43784_level0_row19\" class=\"row_heading level0 row19\" >20</th>\n",
              "      <td id=\"T_43784_row19_col0\" class=\"data row19 col0\" >11#####</td>\n",
              "      <td id=\"T_43784_row19_col1\" class=\"data row19 col1\" >cases on R2</td>\n",
              "    </tr>\n",
              "    <tr>\n",
              "      <th id=\"T_43784_level0_row20\" class=\"row_heading level0 row20\" >21</th>\n",
              "      <td id=\"T_43784_row20_col0\" class=\"data row20 col0\" >111111###</td>\n",
              "      <td id=\"T_43784_row20_col1\" class=\"data row20 col1\" >go forward 6 to instruction 27</td>\n",
              "    </tr>\n",
              "    <tr>\n",
              "      <th id=\"T_43784_level0_row21\" class=\"row_heading level0 row21\" >22</th>\n",
              "      <td id=\"T_43784_row21_col0\" class=\"data row21 col0\" >111###</td>\n",
              "      <td id=\"T_43784_row21_col1\" class=\"data row21 col1\" >go forward 3 to instruction 25</td>\n",
              "    </tr>\n",
              "    <tr>\n",
              "      <th id=\"T_43784_level0_row22\" class=\"row_heading level0 row22\" >23</th>\n",
              "      <td id=\"T_43784_row22_col0\" class=\"data row22 col0\" >1##</td>\n",
              "      <td id=\"T_43784_row22_col1\" class=\"data row22 col1\" >add # to R1</td>\n",
              "    </tr>\n",
              "    <tr>\n",
              "      <th id=\"T_43784_level0_row23\" class=\"row_heading level0 row23\" >24</th>\n",
              "      <td id=\"T_43784_row23_col0\" class=\"data row23 col0\" >1111####</td>\n",
              "      <td id=\"T_43784_row23_col1\" class=\"data row23 col1\" >go backward 4 to instruction 20</td>\n",
              "    </tr>\n",
              "    <tr>\n",
              "      <th id=\"T_43784_level0_row24\" class=\"row_heading level0 row24\" >25</th>\n",
              "      <td id=\"T_43784_row24_col0\" class=\"data row24 col0\" >1#</td>\n",
              "      <td id=\"T_43784_row24_col1\" class=\"data row24 col1\" >add 1 to R1</td>\n",
              "    </tr>\n",
              "    <tr>\n",
              "      <th id=\"T_43784_level0_row25\" class=\"row_heading level0 row25\" >26</th>\n",
              "      <td id=\"T_43784_row25_col0\" class=\"data row25 col0\" >11####</td>\n",
              "      <td id=\"T_43784_row25_col1\" class=\"data row25 col1\" >go backward 2 to instruction 24</td>\n",
              "    </tr>\n",
              "  </tbody>\n",
              "</table>\n"
            ]
          },
          "metadata": {}
        }
      ]
    },
    {
      "cell_type": "markdown",
      "source": [
        "\n",
        "The three branches of the case instruction at the top take us to move3,1 (if R1 is empty), to the blue sub-program if the first symbol of R1 is a 1, and to the brown sub-program if that symbol is a #. Note that we have a big loop that takes symbols off of R1 and writes the same thing in R2 and some related words in R3. The way that the words in R3 are related to the original input in R1 is as follows: each time a 1 is removed from R1, what goes into R3 is the program which would write a 1 in R1 (this is 1#). And each time a # is removed from R1, what goes into R3 is the program which would write a # in R1 (this is 1##).\n",
        "\n",
        "It might help to say things a bit differently on this. So here is an informal description of what diag is doing:\n",
        "Move x from R1 into R2, and also put $[\\![write]\\!]\\!](x)$ in R3.\n",
        "Then \n",
        "move R3 back to the now-empty R1.\n",
        "Finally, move R2 onto the end of R1.\n",
        "The official version of ```diag``` is a very slightly shortened version of this. \n",
        "\n",
        "The tables below show the important feature of ```diag```. You should memorize it as soon as possible for use below and in the next lesson.\n",
        "\n",
        "Running ```diag``` on a word ```x``` and then running that on the empty register yields the same thing as running ```x``` on iself.\n"
      ],
      "metadata": {
        "id": "mKfRQC6XAiGV"
      }
    },
    {
      "cell_type": "markdown",
      "source": [
        "<img src=\"https://github.com/lmoss/onesharp/blob/main/basses.jpg?raw=1\" width=\"200\" height=\"160\">"
      ],
      "metadata": {
        "id": "jt4sdyWxAh2c"
      }
    },
    {
      "cell_type": "markdown",
      "source": [
        "## Self\n",
        "\n",
        "We now define our self-writing program, ```self```.\n",
        "\n",
        "The idea is to apply the program ```diag``` to diag itself.\n",
        "This might seem like a strange thing to do. But as we'll see, it gives us exactly what we're looking for.\n",
        "When we run ```diag``` on itself, we get $\\phi_{write}(```diag```) + ```diag``` in R1.\n",
        "This, then, is ```self```: the program which would write out ```diag``` followed by ```diag``` itself.\n",
        "\n",
        "So when we run ```self``` on nothing, we first spell out diag into R1.\n",
        "After this, we run ```diag```. But we aren't running it on empty registers, because at this point R1 contains ```diag```.\n",
        "\n",
        "But running diag on ```diag``` gives us ```self```, as desired.\n",
        "\n",
        "To summarize: running ```self``` on nothing is the same as running ```diag``` on itself; and this is ```self```. In symbols, That is,\n",
        "\n",
        "$\\phi_{self}( ) = $\\phi_{diag}(```diag```) = ```self```\n"
      ],
      "metadata": {
        "id": "0FIHwdHrAhmr"
      }
    },
    {
      "cell_type": "code",
      "execution_count": 10,
      "metadata": {
        "colab": {
          "base_uri": "https://localhost:8080/",
          "height": 107
        },
        "id": "WxlKvm0P_xl4",
        "outputId": "79fc1b44-7ade-4cef-f7df-63b00b583ee6"
      },
      "outputs": [
        {
          "output_type": "execute_result",
          "data": {
            "text/plain": [
              "'1#1##1##1##1##1##1#1#1#1#1#1#1#1#1#1#1#1##1##1##1#1#1#1#1#1#1##1##1##1#1#1##1##1#1#1#1##1#1#1#1##1##1#1#1#1##1##1#1#1#1#1#1#1#1##1##1##1##1#1#1##1#1#1#1##1#1#1#1##1##1#1#1#1#1##1##1##1##1#1#1#1##1##1##1##1##1#1#1#1#1#1#1##1##1##1#1#1#1##1##1##1#1##1##1#1#1#1#1##1##1##1##1#1##1#1#1##1##1##1##1#1#1##1##1##1##1##1#1#1#1#1#1#1##1##1##1#1#1#1##1##1##1#1##1##1#1#1#1#1##1##1##1##1#1##1#1#1##1##1##1##1#####11111111111###111111###11##111#111##111##1111111####11#111#111##1111####111#####111111###111###1##1111####1#11####11#####111111###111###1##1111####1#11####'"
            ],
            "application/vnd.google.colaboratory.intrinsic+json": {
              "type": "string"
            }
          },
          "metadata": {},
          "execution_count": 10
        }
      ],
      "source": [
        "self"
      ]
    },
    {
      "cell_type": "code",
      "source": [
        "onesharp(self,[])"
      ],
      "metadata": {
        "id": "88La6m9mKYKo"
      },
      "execution_count": null,
      "outputs": []
    },
    {
      "cell_type": "code",
      "source": [
        "onesharp(self,[])== self"
      ],
      "metadata": {
        "id": "0RYaVkTvKcCi"
      },
      "execution_count": null,
      "outputs": []
    },
    {
      "cell_type": "markdown",
      "source": [
        "The run of ```self``` on empty registers takes 14,204 steps to output itself."
      ],
      "metadata": {
        "id": "5Nfr-OzHEwRj"
      }
    },
    {
      "cell_type": "markdown",
      "source": [
        "## The idea in English\n",
        "\n",
        "We offer another presentation of the idea behind diag and self.\n",
        "\n",
        "Let's suppose that you want to write a self-replicating program, say s, from scratch.\n",
        "\n",
        "Let's say that you just have on glimmer of an idea, that s should be of the following form:\n",
        "\n",
        "First, a program x should be written to R1.\n",
        "\n",
        "Second, a program y should be run (with x in R1 and everything else empty).\n",
        "\n",
        "So running x on nothing will give &phixy in R1 at the end.\n",
        "\n",
        "We therefore want to find s, x, and y so that\n",
        "\n",
        "s= φwrite(x) + y, φs( ) = φx(y )\n",
        "and\n",
        "φx(y) = s\n",
        "We are free to find any s, x, and y that we like that meets these requirements. Wouldn't it be nice if x = y? So why don't we just try to find s and x so that\n",
        "\n",
        "s= φwrite(x) + x,\n",
        "and also\n",
        "φx(x) = s\n",
        "Now it is clear that if we find x we then can determine s automatically, using the first equation. We only need to have x be a program with the property that\n",
        "\n",
        "φx(x) = φwrite(x) + x,\n",
        "But again, we are free to make x be any program we like. We might as well make x have the property that for all z,\n",
        "\n",
        "φx(z) = φwrite(z) + z,\n",
        "since if we do this, then it automatically will hold that φx(x) = φwrite(x) + x.\n",
        "\n",
        "And now things are much easier. It is not hard to write x so that φx(z) = φwrite(z) + z for all z; this is diag.\n",
        "Finally, the reasoning we did in this small discussion shows that we can get a self replicating program by setting s = φx(x)."
      ],
      "metadata": {
        "id": "OE0t7FYBF9f4"
      }
    },
    {
      "cell_type": "markdown",
      "source": [
        "<img src=\"https://github.com/lmoss/onesharp/blob/main/harp.jpg?raw=1\" width=\"200\" height=\"160\">"
      ],
      "metadata": {
        "id": "6tEUYD1mGnO_"
      }
    },
    {
      "cell_type": "markdown",
      "source": [
        "## Exercises\n",
        "\n",
        "\n",
        "The rest of this lesson consists of exercises that allow\n",
        "you to firm up your understanding of the basic ideas\n",
        "in ```diag``` and ```self``` by elaborating on \n",
        "and extending them.\n",
        "\n",
        "In all of these exercises, you are invited\n",
        "to check your work on the interpreter."
      ],
      "metadata": {
        "id": "wima6HB4GkrE"
      }
    },
    {
      "cell_type": "markdown",
      "source": [
        "### Exercise 2\n",
        "\n",
        "Write a program which when started on all empty registers\n",
        "writes itself to R1 and also writes # to R2.\n",
        "\n"
      ],
      "metadata": {
        "id": "25PpJ0syINFo"
      }
    },
    {
      "cell_type": "markdown",
      "source": [
        "### Exercise 3\n",
        "\n",
        "Write a program p which when started on all empty registers\n",
        "doesn't \n",
        "write itself to R1 but rather writes itself followed by a #.\n",
        "In other words, $\\phi_p(\\ ) = p + \\#$.\n"
      ],
      "metadata": {
        "id": "FY4buiFkINAl"
      }
    },
    {
      "cell_type": "markdown",
      "source": [
        "### Exercise 4\n",
        "\n",
        "Find an infinite sequence of programs which are all different with the property that each program in the list\n",
        "writes the next one in the list into R1."
      ],
      "metadata": {
        "id": "GiEhOwzUIM8g"
      }
    },
    {
      "cell_type": "markdown",
      "source": [
        "### Exercise 5\n",
        "\n",
        "Write a program p which when started on all empty registers\n",
        "doesn't \n",
        "write itself to R1 but rather writes itself preceded by a #.\n",
        "In other words,\n",
        "$\\phi_p(\\ ) = \\# + p$."
      ],
      "metadata": {
        "id": "ZZI9Q27WIM4O"
      }
    },
    {
      "cell_type": "markdown",
      "source": [
        "### Exercise 6\n",
        "\n",
        "Write a self-replicating  program \n",
        "that begins with the program to transfer ahead\n",
        "one instruction, ```1###```."
      ],
      "metadata": {
        "id": "O-FicJXVIM1I"
      }
    },
    {
      "cell_type": "markdown",
      "source": [
        "### Exercise 7\n",
        "\n",
        "Write a program s which, when run with R2, R3, etc.\n",
        "empty,  ends up with R1 containing s *after* whatever\n",
        "happened to be in R1 at the start.\n",
        "In other words, for all words y,\n",
        "$\\phi_s(y) = y + s$\n"
      ],
      "metadata": {
        "id": "P_ZjX7IbIMxg"
      }
    },
    {
      "cell_type": "markdown",
      "source": [
        "### Exercise 8\n",
        "\n",
        "Write a program```selfknow```  with the property that when run with\n",
        "a string q in R1, \n",
        "```selfknow```  runs and halts with q in R1 if q=\n",
        "```selfknow```, and runs and halts with ```#``` in R1 empty if q is not \n",
        "equal to ```selfknow```.\n",
        "(So this program ```selfknow``` \"knows itself\".)"
      ],
      "metadata": {
        "id": "ZOVvoh-4IMuO"
      }
    },
    {
      "cell_type": "markdown",
      "source": [
        "### Exercise 9\n",
        "\n",
        "Write a program ```trade```\n",
        " which trades places with its input in R1.\n",
        "That is, running ```trade```  with p in R1\n",
        "and all other registers empty does the same thing\n",
        "as running p with ```trade``` in R1 and all other\n",
        "registers empty.\n",
        "\n",
        "[You will probably want to work through some later lessons\n",
        "before attempting this problem.  But it might be fun to try now.] "
      ],
      "metadata": {
        "id": "EFzMsYZWIMqz"
      }
    },
    {
      "cell_type": "markdown",
      "source": [
        "### Exercise 10\n",
        "\n",
        "Write two \"twin'' programs s and t with the properties\n",
        "that s and t are different programs;\n",
        "running s with all registers empty gives t in R1; and \n",
        "running t with all registers empty gives s in\n",
        "R1."
      ],
      "metadata": {
        "id": "iOBfuEL-IMiv"
      }
    },
    {
      "cell_type": "code",
      "source": [],
      "metadata": {
        "id": "qQ-fbUWYGmn7"
      },
      "execution_count": null,
      "outputs": []
    }
  ]
}