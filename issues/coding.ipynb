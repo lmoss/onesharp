{
  "cells": [
    {
      "cell_type": "markdown",
      "metadata": {
        "colab_type": "text",
        "id": "view-in-github"
      },
      "source": [
        "<a href=\"https://colab.research.google.com/github/lmoss/onesharp/blob/main/issues/coding.ipynb\" target=\"_parent\"><img src=\"https://colab.research.google.com/assets/colab-badge.svg\" alt=\"Open In Colab\"/></a>"
      ]
    },
    {
      "attachments": {},
      "cell_type": "markdown",
      "metadata": {
        "id": "untDv95I9YWv"
      },
      "source": [
        "# Coding, and computatble functions on encoded structures"
      ]
    },
    {
      "attachments": {},
      "cell_type": "markdown",
      "metadata": {},
      "source": [
        "At this point, we have seen a bit about one particular model of computation, leading to the definition of a ```1#``` computable function.   We also saw some mathematically natural algorithmic problems having to do with graphs, tiling, dominoes, and matricies.  What we want to do at this point is to connect these two discussions.\n",
        "We also want to say in a more formal way what it means for one or another algorithmic problem to be decidable or undecidable.\n",
        "\n",
        "\n",
        "```{prf:definition}\n",
        ":label: structure\n",
        "A *structure* is a tuple \n",
        "\n",
        "$$ \n",
        "\\mathcal{S} = (S,R_1, \\ldots, R_n, f_1, \\ldots, f_m)\n",
        "$$\n",
        "\n",
        "where $S$ is a set, $R_1, \\ldots, R_n$ are relations on $S$, each of some finite number\n",
        "$n_R\\geq 1$ of variables, and $f_1, \\ldots, f_m$ are functions on $S$, each of some finite number\n",
        "$n_f \\geq 0$ of variables.   Note that we allow $n_f = 0$, and in this case $f$ is called a *constant symbol*.\n",
        "```\n",
        "\n",
        "This is the standard notion of a *first-order structure* from mathematical logic.\n",
        "\n",
        "The kinds of problems that interest us are where we are given a type of mathematical problem represented by a *structure* $S$, and a *target set* $T\\subseteq S$.  We are interested to know whether a given $s\\in S$ belongs to $T$ or not.     \n",
        "\n",
        "```{prf:definition}\n",
        ":label: coding\n",
        "Given a structure $\\mathcal{S}$, a ```1#```-*encoding* of $\\mathcal{S}$ consists of \n",
        "\n",
        "1. A set $\\widehat{S} \\subset Words$ of ```1#```-words. $\\widehat{S}$ must be decidable.\n",
        "\n",
        "\n",
        "2.  A one-to-one function $\\pi: S \\to \\widehat{S}$ called the *coding map*.\n",
        "\n",
        "3. For each relation $R\\subseteq S^n$ a relation $\\widehat{R}\\subseteq (\\widehat{S})^n$.\n",
        "We require that $\\widehat{R}$ be ```1#```-computable.  We also require that\n",
        "\n",
        "$$ \n",
        "R(s_1, \\ldots, s_n) \\mbox{ iff } \\widehat{R}(\\pi(s_1),\\ldots, \\pi(s_n)).\n",
        "$$\n",
        "\n",
        "4. For each function $f: S^n\\to S$ a function $\\widehat{f}:  (\\widehat{S})^n\\to \\widehat{S}$.\n",
        "We require that $\\widehat{f}$ be ```1#```-computable.  We also require that\n",
        "\n",
        "$$ \n",
        "\\pi(f(s_1, \\ldots, s_n)) = \\widehat{f}(\\pi(s_1),\\ldots, \\pi(s_n)).\n",
        "$$\n",
        "\n",
        "An encoding of a structure has a lot of components, but to keep our notation short we usually abbreviate the whole thing by $\\pi$.\n",
        "```\n",
        "\n",
        "Another way to say this is that an encoding of $\\mathcal{S}$ is an isomorphic copy in which all parts of the structure are ```1#```-computable."
      ]
    },
    {
      "attachments": {},
      "cell_type": "markdown",
      "metadata": {},
      "source": [
        "```{admonition} Example\n",
        ":class: tip\n",
        "Let \n",
        "\n",
        "$$\n",
        "\\mathcal{N}  = (N, 0,s)\n",
        "$$\n",
        "\n",
        "be the most basic version of the natural numbers.  Here $N = \\{0,1,2,\\ldots\\}$, $0$ is a constant (a function symbol with $n_0 = 0$ and with value $0$), and $s(n)= n+1$ for all $n$.\n",
        "\n",
        "We next define one particular encoding of this structure which we'll call the *unary encoding*.\n",
        "\n",
        "1.  We take $\\widehat{S} = \\{\\varepsilon, {\\tt 1}, {\\tt 11}, {\\tt 111}, \\ldots\\}$.\n",
        "\n",
        "2.  $\\pi({\\tt 1}^n) = n$.   That is, $\\pi(\\varepsilon) = 0$, $\\pi({\\tt 1}) = 1$, \n",
        "$\\pi({\\tt 11}) = 2$, etc.\n",
        "\n",
        "3. $\\widehat{0} = \\varepsilon$.\n",
        "\n",
        "4.  ```$\\widehat{s}({\\tt 1}^n) = {\\tt 1}^{n+1}$.\n",
        "\n",
        "This completes the definition.   There are other encodings of the same structure.  For example, we could drop the empty word from $\\widehat{S}$ and adjust the rest of the encoding apparatus.   We also could decide to use *binary numbers*, and even there we have several options of how to regard binary numbers as ```1#``` words.\n",
        "\n",
        "\n",
        "```"
      ]
    },
    {
      "attachments": {},
      "cell_type": "markdown",
      "metadata": {},
      "source": [
        "```{prf:definition}\n",
        ":label: coding_what_for\n",
        "\n",
        "Suppose we are given a structure $\\mathcal{S}$ and an encoding $\\pi$ of it.\n",
        "\n",
        "A function $f: S^n\\to S$ is *computable relative to the encoding* if the isomorphic version of it is ```1#```-computable.\n",
        "\n",
        "A relation $R\\subseteq S^n$ is *computable* or *decidable* if its isomorphic version is ```1#``` computable.\n",
        "```\n",
        "\n"
      ]
    },
    {
      "attachments": {},
      "cell_type": "markdown",
      "metadata": {},
      "source": [
        "```{admonition} Example\n",
        ":class: tip\n",
        "\n",
        "Let us return to the example of $\\mathcal{N}$ and the unary encoding of it.\n",
        "\n",
        "1. The addition function $f: N \\times N \\to N$ is computable, where $f(n,m) = n+m$.  A program which shows this is \n",
        "${\\tt move}_{1,2}$.\n",
        "\n",
        "2. As we'll see later, basically every function encountered in standard mathematics is ```1#```-computable.\n",
        "\n",
        "3.  The following relations are decidable:  first the set of prime numbers.   Second, the set of pairs $(m,n)$ such that $m$ divides $n$ without a remainder.\n",
        "``` "
      ]
    },
    {
      "attachments": {},
      "cell_type": "markdown",
      "metadata": {},
      "source": [
        "```{exercise}\n",
        "The structure $\\mathbb{Z} = (Z,0, s, p)$ of integers has \n",
        "\n",
        "$$\n",
        "Z = \\{\\ldots, -2, -1, 0, 1, 2, \\ldots\\}\n",
        "$$\n",
        "\n",
        "For the constant $0$, we take $n_0 = 0$.  That is, we interpret the symbol $0$ with the number $0$.\n",
        "\n",
        "We take $s$ and $n$ to be the *successor* and *predecessor* functions on the integers:  $s(n) = n+1$ and $p(n) = n - 1$.\n",
        "\n",
        "Your problems:\n",
        "\n",
        "1.  Find a ```1#```-encoding of $\\mathbb{Z}$.\n",
        "\n",
        "2. Show that the addition function on the integers is ```1#```-computable relative to your encoding.\n",
        "\n",
        "This might be messy and/or tedious, because you have to exhibit ``1#``` programs as part of the encoding and also to represent addition.  It is fine to be hand-wavy here.  Soon we will have tools to make it easier to actually write programs.  And for something tedious, it is usually sufficient to convince yourself that you *could* write the program.\n",
        "```"
      ]
    }
  ],
  "metadata": {
    "colab": {
      "authorship_tag": "ABX9TyPEru1e04O7x8TgD2z5Ig9K",
      "include_colab_link": true,
      "provenance": []
    },
    "kernelspec": {
      "display_name": "Python 3",
      "name": "python3"
    },
    "language_info": {
      "name": "python"
    }
  },
  "nbformat": 4,
  "nbformat_minor": 0
}
