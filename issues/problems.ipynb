{
  "cells": [
    {
      "cell_type": "markdown",
      "metadata": {
        "colab_type": "text",
        "id": "view-in-github"
      },
      "source": [
        "<a href=\"https://colab.research.google.com/github/lmoss/onesharp/blob/main/issues/problems.ipynb\" target=\"_parent\"><img src=\"https://colab.research.google.com/assets/colab-badge.svg\" alt=\"Open In Colab\"/></a>"
      ]
    },
    {
      "cell_type": "markdown",
      "metadata": {
        "id": "Plr8zrA574av"
      },
      "source": [
        "# Algorithmic problems"
      ]
    },
    {
      "attachments": {},
      "cell_type": "markdown",
      "metadata": {
        "id": "HZXHsfFfHNXG"
      },
      "source": [
        "This section contains a general discussion of algorithmic problems with examples from ones with a finite search space (like finding a cycle in a directed graph) and ones with a potentially infinite space (tiling, PCP and related problems, matrix mortality, and satisfiability in logical systems).  These are examples which we return to later on, when we shall prove that all of them (except the first) are *unsolvable*.\n",
        "\n",
        "<img src=\"https://github.com/lmoss/onesharp/blob/main/questions.jpg?raw=1\" width=\"200\" height=\"160\">"
      ]
    },
    {
      "attachments": {},
      "cell_type": "markdown",
      "metadata": {},
      "source": [
        "# Does a graph have a cycle?\n",
        "\n",
        "A *graph* is a set of points together with a relation on the set.    We usually draw the relation with arrows between the points.  For example, here is a graph:\n",
        "\n",
        "<img src=\"https://github.com/lmoss/onesharp/blob/main/issues/pictures/pictures-57.png?raw=1\" width=\"100%\" height=\"100%\">\n",
        "\n",
        "Given a graph, we might wonder if there is a cycle: this is a path following the arrows that starts and ends at the same point.   This problem is a very well-studied example of a decidable problem.  The basic reason is that if there is a cycle, there is one whose length is at most the number of points in the graph.   "
      ]
    },
    {
      "attachments": {},
      "cell_type": "markdown",
      "metadata": {
        "id": "YbfzHV7h8De5"
      },
      "source": [
        "(content:firstTiles)=\n",
        "# Tiling problems\n",
        "\n",
        "\n",
        "\n",
        "A *tile* is a square with a color on each side.   For example, here are eight tiles\n",
        "<img src=\"https://github.com/lmoss/onesharp/blob/main/issues/pictures/pictures-01.png?raw=1\" width=\"100%\" height=\"100%\">\n",
        "The colors involved are red, black, grey, green, yellow, \n",
        "cyan (light blue) and dark blue."
      ]
    },
    {
      "cell_type": "markdown",
      "metadata": {
        "id": "_5_ALr9h_D1D"
      },
      "source": []
    },
    {
      "attachments": {},
      "cell_type": "markdown",
      "metadata": {
        "id": "1Dq_2wJ08VKG"
      },
      "source": [
        "A *tile set* is a finite set of tiles.  A *pointed* tile set is a tile set that comes with a special tile $t_0$ called the *start tile*.   \n",
        "\n",
        "The *first quadrant* is the set of squares shown below\n",
        "<img src=\"https://github.com/lmoss/onesharp/blob/main/issues/pictures/pictures-02.png?raw=1\" width=\"100%\" height=\"100%\">\n",
        "\n",
        "\n",
        "```{admonition} Problems\n",
        ":class: danger\n",
        "\n",
        "Given a tile set, is it possible to tile all of the squares in the first quadrant in such a way that tiles which share an edge must have the same color on that edge?\n",
        "\n",
        "Given a pointed tile set, is it possible to tile all of the squares in the sense above, with the additional requirement that the start tile goes on the corner of the quadrant?\n",
        "```\n",
        "\n",
        "Going back to the example of a tile set shown above, the answer is Yes: since we have a tile with grey on all sides, we can just use it on every square of the quadrant. \n",
        "<img src=\"https://github.com/lmoss/onesharp/blob/main/issues/pictures/pictures-55.png?raw=1\" width=\"100%\" height=\"100%\"> \n",
        "\n",
        "Of course, this is a special feature of this example.  \n",
        "\n",
        "Continuing, we can turn our tile set above into a pointed tile set by selecting as $t_0$ any of the eight tiles.  Let's choose the one marked in green below.\n",
        "<img src=\"https://github.com/lmoss/onesharp/blob/main/issues/pictures/pictures-04.png?raw=1\" width=\"100%\" height=\"100%\">\n",
        "Now here is a finite part of a tiling of the quadrant with this pointed tile set:\n",
        "<img src=\"https://github.com/lmoss/onesharp/blob/main/issues/pictures/pictures-03.png?raw=1\" width=\"100%\" height=\"100%\">\n",
        "We should emphasize that given a (pointed) tile set $\\mathcal{T}$, there might or might not be a tiling of the quadrant with $\\mathcal{T}$. \n",
        "The algorithmic question is to determine from$\\mathcal{T}$ whether or not there is a tiling of the quadrant as requested.   This means that we want to know in finite time whether or not some infinite task can be completed or not."
      ]
    },
    {
      "cell_type": "markdown",
      "metadata": {
        "id": "dFXWp0gSf6VP"
      },
      "source": [
        "```{exercise}\n",
        "Let $\\TT^*$ be the pointed tile set consisting of the tiles in the bottom row of the last set:\n",
        "<img src=\"https://github.com/lmoss/onesharp/blob/main/issues/pictures/pictures-05.png?raw=1\" width=\"100%\" height=\"100%\">\n",
        "Does the quadrant have a tiling with this set?\n",
        "```"
      ]
    },
    {
      "attachments": {},
      "cell_type": "markdown",
      "metadata": {
        "id": "JPa5mHgR_Bq5"
      },
      "source": [
        "```{exercise}\n",
        "Construct a (finite) pointed tile set $\\mathcal{T}$ with the following properties:\n",
        "\n",
        "(a) The quadrant can be tiled using $\\TT$ in exactly one way.\n",
        "\n",
        "(b) In the tiling of the quadrant, the start tile appears on the main diagonal, and nowhere else.\n",
        "```"
      ]
    },
    {
      "attachments": {},
      "cell_type": "markdown",
      "metadata": {
        "id": "YIAoSCgGpr_s"
      },
      "source": [
        "(content:firstPCP)=\n",
        "# Post's correspondence problem"
      ]
    },
    {
      "attachments": {},
      "cell_type": "markdown",
      "metadata": {
        "id": "DnnPIGkQr7Mu"
      },
      "source": [
        "\n",
        "An *alphabet* is just a set $A$ of symbols.  \n",
        "\n",
        "Given an alphabet $A$, we define \n",
        "\n",
        "$$\\begin{array}{lcl}\n",
        "A^+ & = & \\set{a_1 a_2 \\cdots a_n : n \\in N,  n\\geq 1, \\mbox{ and } a_i\\in A \\mbox{ for all $i$}}\\\\\n",
        "A^* & = & A^+ \\cup\\set{\\epsilon}\\\\\n",
        "\\end{array}\n",
        "$$\n",
        "\n",
        "So $A^+$ is the set of *non-empty* words on $A$.\n",
        "And $A^*$ adds in the *empty word* $\\varepsilon$.\n",
        " \n",
        "\n",
        "We are given   a finite set of *dominoes*, \n",
        "each of which has two non-empty words on it,\n",
        "a word *on the top* and a word *on the bottom*.\n",
        "\n",
        "For example, with $A = \\set{a,b}$, here is a finite set of dominoes:\n",
        "<img src=\"https://github.com/lmoss/onesharp/blob/main/issues/pictures/pictures-06NEW.png?raw=1\" width=\"100%\" height=\"100%\">\n",
        "\n",
        "We have an unlimited supply of all of these dominoes.\n",
        " \n",
        " \n",
        " ```{admonition} Problem\n",
        " :class: danger\n",
        "\n",
        " Can we place a  finite row of dominoes\n",
        " in such a way that the words on the top \n",
        " *concatenate to* the same thing as the words on the bottom?\n",
        " \n",
        " Let's call this sequence of dominoes a *Post sequence*, and the common word a *Post word*.\n",
        "``` \n",
        "\n",
        " \n",
        "For this particular set of dominoes, the answer is *Yes*, there is a Post sequence:\n",
        "<img src=\"https://github.com/lmoss/onesharp/blob/main/issues/pictures/pictures-07.png?raw=1\" width=\"100%\" height=\"100%\">\n",
        "\n",
        "\n",
        " The Post word is $ababaaabbbaabbaababaa$.\n",
        " \n",
        "  \n",
        " \n",
        " \n",
        "```{prf:theorem} Post, 1946\n",
        "\n",
        "There is no algorithm which,\n",
        "when given *any* finite set of dominoes with two words on each,\n",
        "tells *in finite time*\n",
        "whether or not one can find a Post sequence for the given domino set.\n",
        "```\n",
        " \n",
        "\n",
        "We are going to see a proof of this result.\n",
        "It is very important to understand the statement of \n",
        "this kind of result,\n",
        "since frequently people get it wrong.\n",
        "It does *not* say that that for each particular domino set\n",
        "we cannot tell if there is a Post sequence or not.\n",
        "\n",
        "\n",
        "\n",
        "It also doesn't say that there is no \"fact of the matter\" whether\n",
        "a given domino set has or doesn't have a Post sequence.\n",
        " \n",
        "\n",
        "*PCP* is the set of finite domino sets which have a Post sequence.\n",
        "To say *PCP is decidable* means that *there is*\n",
        "a\n",
        "computable function $f$\n",
        "which inputs a domino set $\\DD$ and says Yes or No as to whether \n",
        "$\\DD$ has a Post sequence.\n",
        "To say *PCP is undecidable* means that   *there is no*\n",
        "computable function $f$ like this.\n",
        "\n",
        "\n"
      ]
    },
    {
      "attachments": {},
      "cell_type": "markdown",
      "metadata": {},
      "source": [
        "# Integer roots of polynomials\n",
        "\n",
        "There are a number of algorithmic problems of great interest in mathematics.  One of the most famous is the following:\n",
        "\n",
        "\n",
        "```{admonition} Problem\n",
        ":class: danger\n",
        "\n",
        "Given a polynomial $p(x_1, \\ldots, x_n)$ in many variables, does it have an integer root?   That is, are there integers $i_1, \\ldots, i_n$ such that $p(i_1, \\ldots, i_n) = 0$?\n",
        "```\n",
        "\n",
        "This problem is *semi-decidable*: there is a program which runs through the $n$-tuples of integers and looks to see if each is a root.  If so, it stops and outputs \"Yes\".  Otherwise, it keeps looking.  So if there are no integer roots, the program would never halt.   This program is obvious and does not tell us much.  It raises the question of whether there is a Yes/No answer which always runs in finite time.\n",
        "\n",
        "It turns out that there is *no* algorithm to do this.  This is the only question which we raise in this notebook which we will not answer in detail, mostly because the techniqes that it takes to do so are mainly from number theory.  So they are not so connected to the rest of the book, and it takes more background to pursue them. "
      ]
    },
    {
      "attachments": {},
      "cell_type": "markdown",
      "metadata": {},
      "source": [
        "```{exercise}\n",
        "\n",
        "Show that there is an algorithm which, given a polynomial in one variable with integer coefficients, tells whether it has an integer root.\n",
        "\n",
        "[Hint: Look up and use either the rational root theorem, or the Cauchy bound, or both.]\n",
        "```"
      ]
    },
    {
      "attachments": {},
      "cell_type": "markdown",
      "metadata": {
        "id": "9iFeqHSX6Gb0"
      },
      "source": [
        "# Matrix mortality\n",
        "\n",
        "This section deals with a specific problem about $n\\times n$\n",
        "matrices over the set $\\mathbf{Z}$ of integers.   It is called the *matrix mortality* problem.\n",
        "\n",
        "\n",
        "\n",
        " \n",
        " ```{admonition} Problem\n",
        " :class: danger\n",
        "\n",
        "\n",
        " Fix a number $n$.   Given a finite set $S$ of $n\\times n$ matrices with integer entries, is there a finite product of elements of $S$, allowing repeats, whose product is the zero matrix?\n",
        " \n",
        "This is the $n\\times n$ *matrix mortality problem*.\n",
        "```   "
      ]
    },
    {
      "cell_type": "markdown",
      "metadata": {},
      "source": [
        "```{exercise}\n",
        "Here are three matrices:\n",
        "\n",
        "$$\n",
        "   \\left[ \\begin{array}{rrr}\n",
        "     0  & -4  & -4\\\\\n",
        "     0  & -3  & -3\\\\\n",
        "     0  & 2  & 2\n",
        "    \\end{array} \n",
        "    \\right] \n",
        "  \\qquad\n",
        "     \\left[ \\begin{array}{rrr}\n",
        "     1  & 0  & 0\\\\\n",
        "     -2  & 0  & 0\\\\\n",
        "     1  & -1  & -1\n",
        "     \\end{array} \n",
        "    \\right] \n",
        "   \\qquad\n",
        "     \\left[ \\begin{array}{rrr}\n",
        "     8  & -5  & 7\\\\\n",
        "     -5  & 3  & -5\\\\\n",
        "     0  & 0  & 1\n",
        "     \\end{array} \n",
        "    \\right] \n",
        "$$\n",
        "\n",
        "Find a sequence of these (allowing repetitions) whose product is the zero matrix.   \n",
        "\n",
        "In other words, show that the answer to the $3\\times 3$ matrix mortality problem for the set of three matrices shown above is Yes.\n",
        "```\n"
      ]
    },
    {
      "attachments": {},
      "cell_type": "markdown",
      "metadata": {},
      "source": [
        "In the cells below I provide a function ```list_multiply``` in Python in case you want to take guesses.   With a little more, you could write a program that conducted an orderly search for what we want.  I leave this to you."
      ]
    },
    {
      "cell_type": "code",
      "execution_count": null,
      "metadata": {},
      "outputs": [],
      "source": [
        "import numpy as np\n",
        "a = [[0,-4,-4], [0,-3, -3], [0,2,2]] # this is a 3x3 matrix; it's a list of 3 lists of length 3 of numbers\n",
        "b = [[1,0,0],[-2,0,0],[1,-1,-1]]\n",
        "## you will want to enter c here"
      ]
    },
    {
      "cell_type": "code",
      "execution_count": null,
      "metadata": {},
      "outputs": [],
      "source": [
        "list_multiply([a,b,b,a,b])"
      ]
    },
    {
      "cell_type": "code",
      "execution_count": null,
      "metadata": {},
      "outputs": [],
      "source": [
        "np.array_equal(zero_3,list_multiply([a,b,b,a,b]))\n",
        "## zero_3 is the 3 x 3 zero matrix"
      ]
    },
    {
      "attachments": {},
      "cell_type": "markdown",
      "metadata": {},
      "source": [
        "The next exercise is important."
      ]
    },
    {
      "attachments": {},
      "cell_type": "markdown",
      "metadata": {},
      "source": [
        "```{exercise}\n",
        "For each natural number $n$, let $A_n$ be the set of sets $S$ of $3\\times 3$ matrices such that \n",
        "(a) for all $S\\in A_n$, $|S|\\leq n$; and (b) every entry in each element of $S$ has absolute value $\\leq n$.\n",
        "\n",
        "1. Fix a number $n$. Show that the following problem is decidable: Given $S\\in A_n$, \n",
        "does $S$ have a product (allowing repetitions) which is the $0$ matrix?  \n",
        "\n",
        "[Hint, this has very little to do with matrix multiplication!]\n",
        "\n",
        "2. Now consider the a variation on the last part.  Consider the problem whose inputs are pairs $(n,S$ consisting of a number $n$ and some $S\\in A_n$.  We again ask whether $S$ has a product (allowing repetitions) which is the $0$ matrix.  Does the last part imply that this problem is decidable?  Be sure to give a clear, concise, and convincing answer.\n",
        "```"
      ]
    },
    {
      "attachments": {},
      "cell_type": "markdown",
      "metadata": {},
      "source": [
        "# The halting set K and related sets\n",
        "\n",
        "We also want to study a few problems related to ```1#``` words.   These include\n",
        "\n",
        "$$\n",
        "\\begin{array}{lcl}\n",
        "\\mbox{Prog} & = & \\mbox{the set of programs} \\\\\n",
        "\\mbox{Tidy} & = & \\mbox{the set of tidy programs} \\\\\n",
        "K_0 & = & \\mbox{the programs which halt when run on the all empty registers}\\\\\n",
        "K & = & \\mbox{the programs which halt when run on themselves} \\\\\n",
        "\\textit{Fin} & = & \\mbox{the programs $p$ such that the domain of $[\\![p]\\!]$ is finite} \\\\   \n",
        "\\textit{Inf} & = & \\mbox{the programs $p$ such that the domain of $[\\![p]\\!]$ is infinite} \\\\      \n",
        "\\textit{Tot} & = & \\mbox{the program  $p$ such that $[\\![p]\\!]$ is a total function} \\\\ \n",
        "\\textit{Equiv} & = & \\mbox{the set of pairs $(p,q)$ of programs which are strongly equivalent}\\\\                                                          \n",
        "\\end{array}\n",
        "$$\n",
        "Of course, there are many other sets that we could define.   We want to know whether they are computable or not.\n",
        "\n",
        "We also could ask whether they are computably enumerable or not."
      ]
    },
    {
      "attachments": {},
      "cell_type": "markdown",
      "metadata": {},
      "source": [
        "# Truth and proof\n",
        "\n",
        "We would like to ask about the set of *sentences in the language of ordinary mathematics* and as about the problem of deciding whether a given sentence is true or not.   \n",
        "\n",
        "There are a few reasons why we are not going to directly do this.\n",
        "\n",
        "1.  We really would like to ask about sentences in natural language which are mathematically clear, and this is not so easy to describe mathematically in the first place.\n",
        "\n",
        "2. Even if we could do this, we still have the problem that for some important sentences $S$, it is not exactly clear what it means for $S$ to be true.  For example, we have sentences about sets such as the *Continuum Hypothesis* where it is disputed whether they are intuitively true or not, or whether this even makes sense to ask about.\n",
        "\n",
        "Given these problems, there are two ways to *back off* in order to ask and answer related questions.\n",
        "\n",
        "1.  We could fix a first-order structure of some importance in mathematics and only look at the sentences in *first order logic* which are pertinent to that structure.  The canonical choice here would be the structure\n",
        "\n",
        "$$\n",
        "\\mathcal{N} = (N, 0, 1, +, \\times)\n",
        "$$\n",
        "\n",
        "of the natural numbers with the operations shown above.     But we could also ask about other structures, such as the same one with only $+$, or a *model of the axioms of set theory*, or some fragment of set theory.\n",
        "\n",
        "2. We could replace *truth* by *provability* in our discussion above.  Given some set $T$ of axioms, especially some set $T$ with importance in the foundations of mathematics (like standard set theory), we can ask about provability from $T$.   Is the set of provable sentences decidable?   We could also ask this when $T$ is the empty set; this means we would be asking about the set of sentences provable by *pure logic alone*, without any axioms.  \n",
        "This, too, is an interesting thing to do.  \n",
        "\n",
        "We are going to investigate both of these *back off* questions in some detail.\n"
      ]
    }
  ],
  "metadata": {
    "colab": {
      "authorship_tag": "ABX9TyPwUEC6Tm/4/mEgf1LUd9Ra",
      "include_colab_link": true,
      "provenance": []
    },
    "kernelspec": {
      "display_name": "Python 3",
      "name": "python3"
    },
    "language_info": {
      "codemirror_mode": {
        "name": "ipython",
        "version": 3
      },
      "file_extension": ".py",
      "mimetype": "text/x-python",
      "name": "python",
      "nbconvert_exporter": "python",
      "pygments_lexer": "ipython3",
      "version": "3.8.5"
    }
  },
  "nbformat": 4,
  "nbformat_minor": 0
}
