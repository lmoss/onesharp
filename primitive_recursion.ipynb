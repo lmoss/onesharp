{
  "nbformat": 4,
  "nbformat_minor": 0,
  "metadata": {
    "colab": {
      "provenance": [],
      "authorship_tag": "ABX9TyPwSa+1Hs0xq1jCmpqmGaQK",
      "include_colab_link": true
    },
    "kernelspec": {
      "name": "python3",
      "display_name": "Python 3"
    },
    "language_info": {
      "name": "python"
    }
  },
  "cells": [
    {
      "cell_type": "markdown",
      "metadata": {
        "id": "view-in-github",
        "colab_type": "text"
      },
      "source": [
        "<a href=\"https://colab.research.google.com/github/lmoss/onesharp/blob/main/primitive_recursion.ipynb\" target=\"_parent\"><img src=\"https://colab.research.google.com/assets/colab-badge.svg\" alt=\"Open In Colab\"/></a>"
      ]
    },
    {
      "cell_type": "markdown",
      "source": [
        "## Primitive Recursion\n",
        "\n",
        "This notebook enables one to enter primitive recursive definitions and convert them to 1#.\n",
        "\n",
        "It is mainly under development, but one could play with it now.\n",
        "\n",
        "To start, enter all the code cells below and then look at the definitions below.\n"
      ],
      "metadata": {
        "id": "zoYXkpsM4iOd"
      }
    },
    {
      "cell_type": "code",
      "source": [
        "#@title\n",
        "import pandas as pd\n",
        "import numpy as np\n",
        "\n",
        "def ones(n):\n",
        "    w = ['1' for i in range(n)]\n",
        "    return(unparse(w))    \n",
        "\n",
        "\n",
        "def program_checker(str):\n",
        "    m = len(str)\n",
        "    x1 = str[m - 1] == '#'\n",
        "    x2 = all((str[i] == '1' or str[i] == '#') for i in range(m))\n",
        "    x3 = (str.find('######') == -1)\n",
        "    if (x1 and x2 and x3):\n",
        "        flag = True\n",
        "    else:\n",
        "        flag = False\n",
        "        print('The input ' + str + ' is not a valid 1# program.')\n",
        "        print('It is not the concatenation of a sequence of instructions in the language.')\n",
        "        print('So what you are asking for is undefined.')\n",
        "    return (flag)\n",
        "\n",
        "def one_or_sharp_check(letter):\n",
        "    if (letter==\"1\" or letter==\"#\"):\n",
        "        return(True)\n",
        "    else:\n",
        "        return(False)\n",
        "\n",
        "def word_checker(strg):\n",
        "    answer = all([one_or_sharp_check(x)==True for x in strg])\n",
        "    return(answer)\n",
        "\n",
        "def input_checker(input_seq):\n",
        "    seq = [word_checker(x) for x in input_seq]\n",
        "    flag = all([word_checker(x) for x in input_seq])\n",
        "    if not flag:\n",
        "        print('The input sequence contains words with characters other than 1 and #.')\n",
        "        print('So what you are asking for is undefined.')\n",
        "    return(flag)\n",
        "                                                                                \n",
        "class Augmented:\n",
        "    def __init__(self, string, remainders):\n",
        "        self.string = string\n",
        "        self.remainders = remainders\n",
        "\n",
        "class Snapshot:\n",
        "    def __init__(self, instr_number, regs, proceed,verbose,program_length, step_number):\n",
        "        self.instr_number = instr_number\n",
        "        self.regs = regs\n",
        "        self.proceed = proceed\n",
        "        self.verbose = verbose\n",
        "        self.program_length = program_length\n",
        "        self.step_number = step_number\n",
        "        \n",
        "def preparse(xstr):\n",
        "    b = xstr.string.find('#1')\n",
        "    xstr.remainders = xstr.remainders + [xstr.string[:(b + 1)]]\n",
        "    xstr.string = xstr.string[(b + 1):]\n",
        "    return (xstr)\n",
        "\n",
        "\n",
        "\n",
        "def parse(y):\n",
        "    tempx = Augmented(y, [])\n",
        "    while tempx.string.find('#1') >= 0:\n",
        "        tempx = preparse(tempx)\n",
        "    return (tempx.remainders + [tempx.string])\n",
        "\n",
        "def unparse(p):\n",
        "    return (''.join(p))\n",
        "\n",
        "def instruction_type(instruction):\n",
        "    if instruction[-2:] == '1#':\n",
        "        return ('add1')\n",
        "    if instruction[-3:] == '1##':\n",
        "        return ('add#')\n",
        "    if instruction[-4:] == '1###':\n",
        "        return ('forward')\n",
        "    if instruction[-5:] == '1####':\n",
        "        return ('backward')\n",
        "    if instruction[-6:] == '1#####':\n",
        "        return ('cases')\n",
        "\n",
        "def tail(list):\n",
        "    return (list[1:])\n",
        "\n",
        "def one_step(p, snapshot): # p is parsed\n",
        "    i = snapshot.instr_number\n",
        "    r = snapshot.regs\n",
        "    instruction = p[-1 + i]\n",
        "    if snapshot.verbose:\n",
        "        print('Step ' + str(snapshot.step_number) + ':')\n",
        "        print('Execute instruction ' + str(i) + ':' + \" \" +\n",
        "              instruction_gloss(instruction,i-1) \n",
        "              + '.')\n",
        "        if instruction_type(instruction)=='cases':\n",
        "            billy= len(instruction) - 5\n",
        "            if snapshot.regs[billy-1] == \"\":\n",
        "                print('The register is empty, so we go ahead 1 instruction.')\n",
        "            elif snapshot.regs[billy-1][0] == \"1\":\n",
        "                print('The first symbol in that register is 1,' +\n",
        "                      ' so we delete that symbol and go forward 2 instructions.')\n",
        "            elif snapshot.regs[billy-1][0] == \"#\":\n",
        "                print('The first symbol in that register is #,' +\n",
        "                      ' so we delete that symbol and go forward 3 instructions.')     \n",
        "    t = instruction_type(instruction)\n",
        "    if t == 'add1':\n",
        "        snapshot.instr_number = 1 + snapshot.instr_number\n",
        "        l = len(instruction)\n",
        "        reg = len(instruction[:(l - 1)])\n",
        "        snapshot.regs[reg - 1] = snapshot.regs[reg - 1] + '1'\n",
        "    if t == 'add#':\n",
        "        snapshot.instr_number = 1 + snapshot.instr_number\n",
        "        l = len(instruction)\n",
        "        reg = len(instruction[:(l - 2)])\n",
        "        snapshot.regs[reg - 1] = snapshot.regs[reg - 1] + '#'\n",
        "    if t == 'forward':\n",
        "        l = len(instruction)\n",
        "        offset = len(instruction[:(l - 3)])\n",
        "        snapshot.instr_number = offset + snapshot.instr_number\n",
        "    if t == 'backward':\n",
        "        l = len(instruction)\n",
        "        offset = len(instruction[:(l - 4)])\n",
        "        snapshot.instr_number = (-offset) + snapshot.instr_number\n",
        "    if t == 'cases':\n",
        "        l = len(instruction)\n",
        "        reg = len(instruction[:(l - 5)])\n",
        "        if snapshot.regs[reg - 1] == '':\n",
        "            snapshot.instr_number = 1 + snapshot.instr_number\n",
        "        elif snapshot.regs[reg - 1][0] == '1':\n",
        "            snapshot.instr_number = 2 + snapshot.instr_number\n",
        "            snapshot.regs[reg - 1] = tail(snapshot.regs[reg - 1])\n",
        "        elif snapshot.regs[reg - 1][0] == '#':\n",
        "            snapshot.instr_number = 3 + snapshot.instr_number\n",
        "            snapshot.regs[reg - 1] = tail(snapshot.regs[reg - 1])\n",
        "    if 0< snapshot.instr_number <= len(p):\n",
        "        snapshot.proceed = True\n",
        "        if snapshot.verbose == True:\n",
        "            print_snapshot(snapshot)\n",
        "    else:\n",
        "         snapshot.proceed = False\n",
        "    return (snapshot)\n",
        "\n",
        "\n",
        "def number_help(instr):\n",
        "    if instruction_type(instr) == 'add1':\n",
        "        return (len(instr) - 1)\n",
        "    if instruction_type(instr) == 'add#':\n",
        "        return (len(instr) - 2)\n",
        "    if instruction_type(instr) == 'cases':\n",
        "        return (len(instr)-5)\n",
        "    else:\n",
        "        return (0)\n",
        "\n",
        "\n",
        "def max_register(p):\n",
        "    return (max([number_help(instr) for instr in parse(p)]))\n",
        "\n",
        "\n",
        "def pad(p, register_inputs):\n",
        "    n = len(register_inputs)\n",
        "    m = max_register(p)\n",
        "    extras = ['' for x in range(m - n)]\n",
        "    bigger = register_inputs + extras\n",
        "    return (bigger)\n",
        "\n",
        "def print_snapshot(snap):\n",
        "    regdf = pd.DataFrame([[snap.regs[n]] for n in range(len(snap.regs))],columns=[\"contents\"])\n",
        "    regdf.index = np.arange(1, len(regdf) + 1)\n",
        "    def make_pretty(styler):\n",
        "        styler.set_properties(**{'background-color': '#FFFFCC'})\n",
        "        styler.set_properties(**{'text-align': 'left'})\n",
        "        #styler.set_caption(\"at the start\")\n",
        "        #styler.hide(axis='index')\n",
        "        return styler\n",
        "    display(regdf.style.pipe(make_pretty))  \n",
        "\n",
        "def step_by_step(word_prog, register_inputs):\n",
        "    word_prog = word_prog.replace(\" \", \"\")\n",
        "    register_inputs = [word.replace(\" \", \"\") for word in register_inputs]\n",
        "    if program_checker(word_prog) and input_checker(register_inputs):\n",
        "        print('First, here is the program:')\n",
        "        parse_explain(word_prog)\n",
        "        print()\n",
        "        regs = pad(word_prog, register_inputs)\n",
        "        prog = parse(word_prog)\n",
        "        N = len(prog)\n",
        "        snap = Snapshot(1, regs,True,True,N,1)\n",
        "        print('The computation starts with the register contents shown below.')\n",
        "        print('The registers include those those which you entered as part of the input')\n",
        "        print('and also others mentioned in the input program.')\n",
        "        print_snapshot(snap)\n",
        "        print()\n",
        "        while 0 < snap.instr_number < N + 1:\n",
        "            snap = one_step(prog, snap)\n",
        "            snap.step_number = (snap.step_number) + 1\n",
        "        if snap.instr_number <= 0:\n",
        "            print(\n",
        "                'The computation has not halted properly ' +\n",
        "                'because the control went above instruction 1 of the program.'\n",
        "                 )\n",
        "        elif (snap.instr_number == (N + 1)) and all(\n",
        "                snap.regs[i] == \"\"\n",
        "                for i in range(1, len(snap.regs))):\n",
        "            print(\n",
        "                'The computation then halts properly because' +\n",
        "                ' the control is just below the last line of the program,')\n",
        "            print('and because all registers other than R1 are empty.')\n",
        "            if snap.regs[0] == \"\":\n",
        "                print('The output is the empty word.')\n",
        "            else:\n",
        "                print('The output is ' + snap.regs[0] + '.')\n",
        "        else:\n",
        "            print('This computation does not halt.')\n",
        "            if snap.instr_number != N + 1:\n",
        "                print('This is because the program has ' + str(len(prog)) +\n",
        "                  ' instructions, and control at the end is not one line ' + \n",
        "                   'below the bottom of the program.')\n",
        "                print()\n",
        "            else:\n",
        "                not_blank = [\n",
        "                    i + 1 for i in range(1, len(snap.regs))\n",
        "                    if snap.regs[i] != \"\"\n",
        "                ]\n",
        "                print('Here is the list of registers whose contents ' +\n",
        "                      'are not empty at this point, other than R1:' +\n",
        "                      str(not_blank) + '.')\n",
        "                print('The register contents at the end are shown above.')\n",
        "\n",
        "\n",
        "def onesharp(word_prog, register_inputs):\n",
        "    word_prog = word_prog.replace(\" \", \"\")\n",
        "    register_inputs = [word.replace(\" \", \"\") for word in register_inputs]  \n",
        "    if program_checker(word_prog) and input_checker(register_inputs):\n",
        "        register_inputs = [word.replace(\" \", \"\") for word in register_inputs]\n",
        "        regs = pad(word_prog, register_inputs)\n",
        "        prog = parse(word_prog)\n",
        "        N = len(prog)\n",
        "        snap = Snapshot(1, regs,True,False, N, 1)\n",
        "        while snap.proceed:\n",
        "            snap = one_step(prog, snap)\n",
        "            snap.step_number = (snap.step_number)+1\n",
        "        if (snap.instr_number == (N + 1)) and all(\n",
        "                snap.regs[i] == \"\" for i in range(1, len(snap.regs))):\n",
        "            return ((snap.regs)[0])\n",
        "        else:            \n",
        "            print(\"This is undefined.\")\n",
        "            print(\"The register contents at the end are shown below.\")\n",
        "            print_snapshot(snap)\n",
        "    else:\n",
        "        return('undefined')\n",
        "\n",
        "\n",
        "def instruction_gloss(instr,line):\n",
        "    if instruction_type(instr) == 'add1':\n",
        "        return ('add 1 to R' + str(len(instr) - 1))\n",
        "    if instruction_type(instr) == 'add#':\n",
        "        return ('add # to R' + str(len(instr) - 2))\n",
        "    if instruction_type(instr) == 'forward':\n",
        "        w = len(instr) - 3\n",
        "        return ('go forward ' + str(w) + ' to instruction ' + str(w+line+1))\n",
        "    if instruction_type(instr) == 'backward':\n",
        "        w = len(instr) - 4\n",
        "        return ('go backward ' + str(w) + ' to instruction ' + str(line - w+1))\n",
        "    if instruction_type(instr) == 'cases':\n",
        "        return ('cases on R' + str(len(instr) - 5))\n",
        "\n",
        "def expanded(gorp):\n",
        "    pgorp = parse(gorp)\n",
        "    wwgorp = [[pgorp[x],instruction_gloss(pgorp[x],x)] for x in range(len(pgorp))]\n",
        "    return(wwgorp)\n",
        "\n",
        "def parse_explain(prog):\n",
        "    df = pd.DataFrame(expanded(prog),\n",
        "                      columns=[\"instruction\", 'explanation'])\n",
        "    df.index = np.arange(1, len(df) + 1)\n",
        "    def make_pretty(styler):\n",
        "                styler.set_properties(**{'background-color': '#C9DFEC'})        \n",
        "                styler.set_properties(**{'text-align': 'left'})\n",
        "                return styler\n",
        "    display(df.style.pipe(make_pretty))\n",
        "    #display(df)\n",
        "    \n",
        "clear_1 = '1#####111###11####111####'\n",
        "\n",
        "move_2_1 = '11#####111111###111###1##1111####1#111111####'\n",
        "\n",
        "copy_1_2_3 = '1#####11111111###1111###11##111##11111####11#111#11111111####111#####111111###111###1##1111####1#111111####'\n",
        "\n",
        "length = '1#####1111111###11####11#1#####111###111111####111####11#####111111###111###1##1111####1#111111####'\n",
        "\n",
        "write = '1#####111111111###11111###11#11##11##111111####11#11##111111111####11#####111111###111###1##1111####1#111111####'\n",
        "\n",
        "diag = '1#####11111111111###111111###11##111#111##111##1111111####11#111#111##1111####111#####111111###111###1##1111####1#11####11#####111111###111###1##1111####1#11####'\n",
        "\n",
        "self = '1#1##1##1##1##1##1#1#1#1#1#1#1#1#1#1#1#1##1##1##1#1#1#1#1#1#1##1##1##1#1#1##1##1#1#1#1##1#1#1#1##1##1#1#1#1##1##1#1#1#1#1#1#1#1##1##1##1##1#1#1##1#1#1#1##1#1#1#1##1##1#1#1#1#1##1##1##1##1#1#1#1##1##1##1##1##1#1#1#1#1#1#1##1##1##1#1#1#1##1##1##1#1##1##1#1#1#1#1##1##1##1##1#1##1#1#1##1##1##1##1#1#1##1##1##1##1##1#1#1#1#1#1#1##1##1##1#1#1#1##1##1##1#1##1##1#1#1#1#1##1##1##1##1#1##1#1#1##1##1##1##1#####11111111111###111111###11##111#111##111##1111111####11#111#111##1111####111#####111111###111###1##1111####1#11####11#####111111###111###1##1111####1#11####'\n",
        "\n",
        "multiply = '111##1111##11#####11111111###1111###11111##111111##11111####11111#111111#11111111####111111#####111111###111###11##1111####11#111111####111#####11111111###1111###111111##1111111##11111####111111#1111111#11111111####1111111#####111111###111###111##1111####111#111111####11111#####111111###111111111###111111#####11111111111###1111111111###111111####111111#####111111111111111###111111###11111###111111#####111###1111111111111####1###11111#####111###11####111####111111#####1111###11####111####11111#11111#####111###1111111111111111111111111111111111111111111111111111111111111111111111111111111111111111111111111111111###1#1#####11111111###1111###11111##111111##11111####11111#111111#11111111####111111#####111111###111###1##1111####1#111111####1111#####111111###111###111111##1111####111111#111111####11111#####111###111111###111111111###111111#####11111111111111111111111111111111111###11111111111111111111111111###111111111111111111111111111###111111#####11111111111111111111111###1111111111111111111111111111###111111111111111111111###111111#####111111111111111111111###111111111111111111###1111111111111111111###11111#####111###111111###111111111###111111#####11111111111###1111111111111111###111111111###111111#####1111111111111###1111111111###11111111111###111111#####111###11111111###1###1111111#111111111111111111111111111111111####1111111##11111111111111111111111111111111111####1111111#111111111111111111111####1111111##11111111111111111111111####1###1111111#####111111###111###11111##1111####11111#111111####11111#####111111###111###1111##1111####1111#111111####111#####1111111111111###1111111111###11111#111#####111111###111###11111##1111####11111#111111####1111###11111##1111111111111####11111#11111#####111111###111###111##1111####111#111111####1111111111111111111111111111111111111111111111111111111111111111111111111111111111111111111111111111111111111111111111111111111111111111111111111111111111111111####1#####111###11####111####11#####111###11####111####111#####111###11####111####1111#####111111###111###1##1111####1#111111####'\n",
        "\n",
        "universal = '1#####1###11###11####111111#1#####111###111111###1111111###11111#####1111111111111111111111111111111111111111111111111111111111111111111111111111111111111111111111111111111111111111111###1###1####111#111111111####111##1#####1111###11###11111###111#11111#####1111111111111111111111111111111111111111111111###111111111###111##1#####1111###11###11111###111#11111#####1111111111111111111111111111111111111###111111111###111##1#####1111###11###11111###111#11111#####1111111111111111111111111111111111111111111111###111111111###111##1#####1111###11###11111###111#11111#####111111111111111111111111111111111111111111111111111111###111111111###111##1#####1111###11###11111111111111111111111111111111111111111111111111111111111111111111111111111111111111111111111111111111111111111111111111111111111111111111111111111111111111111111111111111111111111111111111111111111111111111111111111111111111111111111111111111###111#11111#####1111111111###1###111#####111111###111###1111##1111####1111#111111####11111111111111111111111111111111111111111111111111111111111111####111#####1###11###1111###11111#1111#111111####11111##1111##111#####1111111###1111###1111##11111##11111####1111#1111111####111111111111111111111111111111111111111111111111111111111111111111111111111###111#####1###11###11111###11111#1111#111111#1111111####1111##111#####111111###111###1111##1111####1111#111111####11111111111111111111111111111111111111111111111111111111111111111111111111111111111111111111111111####111#####1###11###1111###1111#11111#111111####11111#11111#1111##111#####111111###111###1111##1111####1111#111111####11111#####11111111###11###1###111111#####111111111111111111111111111111111111111111111111111111111111111111111111111111111111111111111111111111111111111111111111111111111111111111111111111###1###1###11111111####111111#####1111###111#11111#1111####111#####111###111111#111####1#####111111###111###111##1111####111#111111####1111#####111111###111###1##1111####1#111111####111#####111111###111###1##1111####1#111111####111111111111111111111111111111111111111111111111111111111####11#####111###11111###111111111111###11##11##111111####111#11#####1###111###111##11###111#11111111111111####111##11#####11111111111111111111111111111111111111111111111111111111111111111111###1###111##11111#####1###1111111111111111111111####11111#####1111111111111111111111111111###111111111111111111111111111###11111#####111###11###111111111111111111111111111111111111111111111###11#####111111111111111111###111111111###111#11#####1###1###111#111##111##111111111111111111111111111111111111111111111111111111111###111#11#####1###111###111##11###111#111111111111111111####111#111#1111111111111111111111111111111111111111111111###11#####111111111111111111###111111111###111#11#####1###1###111##111##111##11111111111111111111111111111111111###111#11#####1###111###111##11###111#111111111111111111####111#111##111111111111111111111111###11111#####1###1###11111#####1###1###11#####11111111111111111111111###111###111##1111111111111###11#####1###11111###1###11111#111111#111111###11111#11111#111111#111111#1###11#####111111###111###111##1111####111#111111####111#####111111###111###11##1111####11#111111####1111111111111111111111111111111111111111111111111111111111111111111111111111111111111111111111111111111111111111####11#####1###1###11#####1###1###11#####11111111111111###11###11111111###11#####1###111###1#11111111####1##1111111111####11#####111###11####111####111111#####11###11####1111#####111###11####111####'\n",
        "\n",
        "clear_2 = '11#####111###11####111####'\n",
        "clear_3 = '111#####111###11####111####'\n",
        "clear_4 = '1111#####111###11####111####'\n",
        "move_1_2= '1#####111111###111###11##1111####11#111111####'\n",
        "move_1_3= '1#####111111###111###111##1111####111#111111####'\n",
        "move_1_4= '1#####111111###111###1111##1111####1111#111111####'\n",
        "move_2_1= '11#####111111###111###1##1111####1#111111####'\n",
        "move_2_3= '11#####111111###111###111##1111####111#111111####'\n",
        "move_2_4= '11#####111111###111###1111##1111####1111#111111####'\n",
        "move_3_1= '111#####111111###111###1##1111####1#111111####'\n",
        "move_3_2= '111#####111111###111###11##1111####11#111111####'\n",
        "move_3_4= '111#####111111###111###1111##1111####1111#111111####'\n",
        "move_4_1= '1111#####111111###111###1##1111####1#111111####'\n",
        "move_4_2= '1111#####111111###111###11##1111####11#111111####'\n",
        "move_4_3= '1111#####111111###111###111##1111####111#111111####'\n",
        "copy_1_2_3 = '1#####11111111###1111###11##111##11111####11#111#11111111####111#####111111###111###1##1111####1#111111####'\n",
        "copy_1_2_4 ='1#####11111111###1111###11##1111##11111####11#1111#11111111####1111#####111111###111###1##1111####1#111111####'\n",
        "copy_1_3_4='1#####11111111###1111###111##1111##11111####111#1111#11111111####1111#####111111###111###1##1111####1#111111####'\n",
        "copy_2_3_4 = '11#####11111111###1111###111##1111##11111####111#1111#11111111####1111#####111111###111###11##1111####11#111111####'"
      ],
      "metadata": {
        "id": "iIXa-nxyEp_F",
        "cellView": "form"
      },
      "execution_count": 2,
      "outputs": []
    },
    {
      "cell_type": "markdown",
      "source": [
        "Sanity code below"
      ],
      "metadata": {
        "id": "g_3n9mAjnjvs"
      }
    },
    {
      "cell_type": "code",
      "source": [
        "#@title\n",
        "def findme(pair,pair_list): \n",
        "  x = [i for i in range(len(pair_list)) if pair_list[i][0]==pair[1]]\n",
        "  return x[0]\n",
        "\n",
        "def add_placeholder(line):\n",
        "  keywords = ['cases','add1','add#','goto','non_label']\n",
        "  if line[0] in keywords:\n",
        "    return(['non_label']+line)\n",
        "  elif line[0][0] in ['1','#']:\n",
        "    return(['non_label']+line)  \n",
        "  else:\n",
        "    return(line)\n",
        "\n",
        "def flatten(tuple):\n",
        "  b = len(tuple)\n",
        "  if b > 1 and tuple[1] == \"cases\":\n",
        "    n = tuple[2]\n",
        "    x = ones(n)+'#####'\n",
        "    return [[tuple[0],x], [tuple[0]+'@1',tuple[3]], [tuple[0]+'@2',tuple[4]], [tuple[0]+'@3',tuple[5]]]\n",
        "  elif b > 1 and tuple[1]=='add1':\n",
        "    return([[tuple[0],ones(tuple[2])+'#']])\n",
        "  elif b > 1 and tuple[1]=='add#':\n",
        "    return([[tuple[0],ones(tuple[2])+'##']])\n",
        "  elif b > 1 and tuple[1]=='goto':\n",
        "    return [[tuple[0],tuple[2]]]\n",
        "  elif tuple[1][0] in ['1', '#']:\n",
        "    k = parse(tuple[1])\n",
        "    m = len(k)\n",
        "    return([[tuple[0],k[j]] for j in range(m)])\n",
        "\n",
        "\n",
        "def ones(n):\n",
        "  return(unparse(['1' for i in range(n)])) \n",
        "\n",
        "def resolve(index,pair_list):\n",
        "  pair_in_list = pair_list[index]\n",
        "  #print(\"pair_in_list \" + str(pair_in_list))\n",
        "  first_char = pair_in_list[1][0]\n",
        "  #print(first_char)\n",
        "  if first_char == '1' or first_char == '#':\n",
        "    return pair_in_list[1]\n",
        "  elif pair_in_list[1]=='end':\n",
        "    n = len(pair_list) - index\n",
        "    return(ones(n)+'###')\n",
        "  else:\n",
        "    k = findme(pair_in_list,pair_list)\n",
        "    if k > index:\n",
        "      return(ones(k-index)+'###')\n",
        "    if k < index:\n",
        "      return(ones(index-k)+'####')\n",
        "\n",
        "\n",
        "def sanity(line_list):\n",
        "  w = [add_placeholder(line) for line in line_list]\n",
        "  #print(\"[add_placeholder(line) for line in line_list] is\")\n",
        "  #print(w)\n",
        "  s1 = [flatten(line) for line in w]\n",
        "  #print('[flatten(line) for line in w] is')\n",
        "  #print(s1)\n",
        "  t1 = [item for sublist in s1 for item in sublist]\n",
        "  #print('[item for sublist in s1 for item in sublist] is')\n",
        "  #print(t1)\n",
        "  n = len(t1)\n",
        "  #print('len of t1 = ' + str(n))\n",
        "  u1 = [resolve(i,t1) for i in range(n)] \n",
        "  return(unparse(u1))      "
      ],
      "metadata": {
        "id": "bFFeTqR2hA2Q",
        "cellView": "form"
      },
      "execution_count": 3,
      "outputs": []
    },
    {
      "cell_type": "markdown",
      "source": [
        "The next cell contains a few 1# programs special to this notebook.  "
      ],
      "metadata": {
        "id": "HTnDAn0a8oZe"
      }
    },
    {
      "cell_type": "code",
      "source": [
        "ddd = '1#####111111###111111111###11#####11111111111###1111111111###111111####11#####111111111111111###111111###11111###11#####111###1111111111111####1###1#####111###11####111####11#####1111###11####111####1#'\n",
        "\n",
        "def compare_prog(a,b): #uses a+1, a+2, a+3\n",
        "  p = copy_prog(a,a+1,a+2) + copy_prog(b,a+2,a+3) +  bump(ddd,a) \n",
        "  return(p)\n",
        "  # checks if Register a and Register b have the same thing, \n",
        "  # preserving them.   At the end, R(a+1) either has \n",
        "  # 1 (if original Rn and Rm are the same) or is empty (if they aren't)\n",
        "  # This program also writes to R(a+2) and R(a+3).  So when it is \n",
        "  # called, all of registers a+1, a+2, and a+3 should be empty\n",
        "\n",
        "def successor_prog(to_increment,to_use):\n",
        "  # gives a program to increment the register 'to_increment' by 1, using \n",
        "  # the register 'to_use'\n",
        "   p = (ones(to_increment) + \n",
        "     '#####' + \n",
        "     '111###' +\n",
        "     '111###' +\n",
        "     '1111111111111111111111111###'+\n",
        "     '1111111111111111111111111111111111111111###' +\n",
        "     ones(to_use) + '##' + \n",
        "     ones(to_increment) + '#####' + \n",
        "     '111###' +\n",
        "     '111111111111111111###' +\n",
        "     '1111111111111111111###' +\n",
        "     ones(to_use) + '#' + \n",
        "     ones(to_increment) + '#####' + \n",
        "     '111111###' +\n",
        "     '111###' +\n",
        "     ones(to_use) + '##' + \n",
        "     '1111####' +\n",
        "     ones(to_use) + '#' + \n",
        "     '111111####' +\n",
        "     ones(to_use) + '#####' + \n",
        "     '111111###' +\n",
        "     '111###' +\n",
        "     ones(to_increment) + '##' + \n",
        "     '1111####' +\n",
        "     ones(to_increment) + '#' +  \n",
        "     '111111####' +\n",
        "     '1111111111111111111###'  +\n",
        "     ones(to_use) + '##' +  \n",
        "     '111111111111111111111####' +\n",
        "     ones(to_use) + '#' +  \n",
        "     ones(to_increment) + '#####' +  \n",
        "     '111111###' +\n",
        "     '111###' +\n",
        "     ones(to_use) + '##' +  \n",
        "     '1111####' +\n",
        "     ones(to_use) + '#' + \n",
        "     '111111####' +\n",
        "     ones(to_use) + '#####' +  \n",
        "     '111111###' +\n",
        "     '111###' +\n",
        "     ones(to_increment) + '##' +  \n",
        "     '1111####' +\n",
        "     ones(to_increment) + '#' + \n",
        "     '111111####' +\n",
        "     '1###'\n",
        "     )\n",
        "   return(p) \n",
        "  "
      ],
      "metadata": {
        "id": "SoRro1fFID4z"
      },
      "execution_count": 4,
      "outputs": []
    },
    {
      "cell_type": "markdown",
      "source": [
        "More functions specific to this notebook."
      ],
      "metadata": {
        "id": "1WeCOkyGngoa"
      }
    },
    {
      "cell_type": "code",
      "source": [
        "z_prog = '11##'\n",
        "one_prog = '11#'\n",
        "#@title\n",
        "# s is an index of the successor function in bb\n",
        "successor = '1#####111###111###1111111111111111111111111###1111111111111111111111111111111111111111###11##1#####111###111111111111111111###1111111111111111111###11#1#####111111###111###11##1111####11#111111####11#####111111###111###1##1111####1#111111####1111111111111111111###11##111111111111111111111####11#1#####111111###111###11##1111####11#111111####11#####111111###111###1##1111####1#111111####1###'\n",
        "\n",
        "def maxie(l):\n",
        "  if l == []:\n",
        "    return(0)\n",
        "  else:\n",
        "    return(max(l))\n",
        "def height(tree):\n",
        "  n = maxie([height(u) +1 for u in tree.children])\n",
        "  return(n)\n",
        "def all_equal(list):\n",
        "  if (len(list)==0 or len(list)==1):\n",
        "    return(True)\n",
        "  else:\n",
        "    b = all_equal(list[1:])  \n",
        "    if b == False:\n",
        "      return(False)\n",
        "    else:\n",
        "      return(list[0]==list[1])\n",
        "\n",
        "def bump_instr(inst, amount):\n",
        "  if instruction_type(inst) in ['forward','backward']:  \n",
        "    return(inst) \n",
        "  elif instruction_type(inst) == 'add1':  \n",
        "    n = number_help(inst)\n",
        "    return(ones(n+amount)+'#')\n",
        "  elif instruction_type(inst) == 'add#':  \n",
        "    n = number_help(inst)\n",
        "    return(ones(n+amount)+'##')\n",
        "  elif instruction_type(inst) == 'cases':  \n",
        "    n = number_help(inst)\n",
        "    return(ones(n+amount)+'#####')\n",
        "def bump(prog,amount):\n",
        "  par = parse(prog)\n",
        "  t = [bump_instr(instr,amount) for instr in par]\n",
        "  return(unparse(t))\n",
        "\n",
        "def clear_prog(n):\n",
        "   a = ones(n) + '#####'\n",
        "   b = '111###'\n",
        "   c = '1###'\n",
        "   d = '111####'\n",
        "   return(a+b+c+d)\n",
        "\n",
        "def move_prog(n,m):\n",
        "   a = ones(n) + '#####'\n",
        "   b = '111111###'\n",
        "   c = '111###'\n",
        "   d = ones(m)+'##'\n",
        "   e = '1111####'\n",
        "   f = ones(m)+'#'\n",
        "   g = '111111####'\n",
        "   return(a+b+c+d+e+f+g)\n",
        "\n",
        "def copy_prog(n,m,p):\n",
        "   a = ones(n) + '#####'\n",
        "   b = '11111111###'\n",
        "   c = '1111###'\n",
        "   d = ones(m)+'##'\n",
        "   d1 = ones(p) + '##'\n",
        "   e = '11111####'\n",
        "   f = ones(m)+'#'\n",
        "   f1 = ones(p) + '#'\n",
        "   g = '11111111####'\n",
        "   return(a+b+c+d+d1+e+f+f1+g+move_prog(p,n))  \n",
        "\n",
        "def proj_prog_official(ind,upper):\n",
        "  index = [k+1 for k in range(ind-1)]    \n",
        "  #print(index)\n",
        "  first_part = [clear_prog(j) for j in index]\n",
        "  #print(first_part)\n",
        "  if ind == 1:\n",
        "    middle = []\n",
        "  else: \n",
        "    middle=[move_prog(ind,1)]\n",
        "  second_index =  [k+ind+1 for k in range(upper-ind)] \n",
        "  #print(second_index)\n",
        "  last_part = [clear_prog(j) for j in second_index]   \n",
        "  together = first_part + middle + last_part\n",
        "  done = unparse(together)\n",
        "  if ind == 1 and upper==1:\n",
        "    return('1###')\n",
        "  else:\n",
        "    return(done)   \n",
        "\n",
        "def proj_prog(ind,upper):\n",
        "  return(copy_prog(ind,upper+1, upper+2))\n",
        "\n",
        "# the function below doesn't seem to be used\n",
        "def copy_all_forward(n,m):\n",
        "  # copies 1 to m, 2 to m+1, . . . n to m+n-1\n",
        "  a = [copy_prog(i,m+i-1, m+i) for i in range(1,n+1)]\n",
        "  return(unparse(a))\n",
        "\n",
        "\n",
        "def compose(outer_fn,proglist,argument_number,used_reg):\n",
        "  ## note that the outer_fn has to be 'in place'!\n",
        "  k = len(proglist) # number of functions\n",
        "  # the outer_fn is k-ary\n",
        "  q = unparse([clear_prog(i) for i in range(1,k+1)])\n",
        "  outer_fn = outer_fn + q + move_prog(k+1,1)\n",
        "  arg = argument_number # = common arity in the proglist\n",
        "  #max_list =   [max_register(p) for p in proglist]\n",
        "  #m = maxie(max_list)\n",
        "  free_reg = used_reg + 1\n",
        "  a = [proglist[i] + move_prog(arg+1,free_reg+i+1) for i in range(0,k)]\n",
        "  b = unparse(a)\n",
        "  c = [move_prog(free_reg+i+1,argument_number+i+1) for i in range(0,k)]\n",
        "  d = unparse(c)\n",
        "  f = bump(outer_fn,argument_number)\n",
        "  e = b + d + f   \n",
        "  return(e)\n",
        "\n",
        "# <g,h>(x-bar,0) = g(x-bar)\n",
        "# <g,h>(x-bar,n+1) = h(x-bar,n,<g,h>(x-bar,n))\n",
        "# k-1 is the number of xs, so the arity of <g,h> is k\n",
        "# k+1 is the number of arguments to g\n",
        "# k is the number of arguments to the function we are building\n",
        "#free is large enough so that neither g nor h use it or any larger register.\n",
        "# g and h are assumed to preserve their inputs\n",
        "def primitive_recursion(g,h,arity,used_reg):\n",
        "  free = used_reg +1\n",
        "  free_plus_one = free + 1\n",
        "  plan = [['top',move_prog(arity,free) +\n",
        "               g + \n",
        "               move_prog(arity,arity+1) + \n",
        "               ones(arity) + '##' ],\n",
        "          [compare_prog(free,arity)],\n",
        "          ['decision', 'cases', free_plus_one, 'main_loop','clear_out_free', 'end' ],\n",
        "          ['clear_out_free', clear_prog(free)],\n",
        "          ['goto', 'end'],\n",
        "          ['main_loop',h + \n",
        "               clear_prog(arity+1) + \n",
        "               move_prog(arity+2,arity+1) + \n",
        "               successor_prog(arity,arity+2) +\n",
        "               compare_prog(free,arity)],\n",
        "          ['goto', 'decision'],\n",
        "        ]\n",
        "  trial = sanity(plan)\n",
        "  return(trial)  "
      ],
      "metadata": {
        "id": "x76XU8suYh2Z"
      },
      "execution_count": 10,
      "outputs": []
    },
    {
      "cell_type": "code",
      "source": [
        "\n",
        "def all_equal(list):\n",
        "  a = list[0]\n",
        "  b = [x == a for x in list]\n",
        "  return(all(b))\n",
        "\n",
        "\n",
        "def arity_check(t):\n",
        "  if t[0] == 'proj':\n",
        "    b = (isinstance(t[1],int) and isinstance(t[2],int) and (t[1] <= t[2]) and\n",
        "        len(t)==3)\n",
        "    return(b)\n",
        "\n",
        "def arity(t):\n",
        "  if t == 's_prog':\n",
        "    return(1)\n",
        "  if t[0] == 'proj':\n",
        "    return(t[2])\n",
        "  if t == 'z':\n",
        "    return(1)\n",
        "  if t == 'z_empty':\n",
        "    return(0)\n",
        "  if t[0] == 'pr':\n",
        "    k = arity(t[1])\n",
        "    j = arity(t[2])\n",
        "    if j== 2 + k:\n",
        "      return(k+1)\n",
        "  if t[0] == 'comp':\n",
        "    f = t[1]\n",
        "    g_list = t[2:]\n",
        "    if arity(f)== len(g_list) and all_equal([arity(v) for v in g_list]):\n",
        "      return(arity(t[2]))   \n",
        "\n",
        "def program(t):\n",
        "  if t=='s_prog':\n",
        "    return(copy_1_2_3+ successor_prog(2,3))\n",
        "  if t[0] == 'proj':\n",
        "    return(proj_prog(t[1],t[2]))\n",
        "  if t == 'z':\n",
        "    return('11##')\n",
        "  if t == 'z_empty':\n",
        "    return('1##') \n",
        "  if t[0] == 'pr':\n",
        "    f = program(t[1])\n",
        "    g = program(t[2])\n",
        "    p = primitive_recursion(f, g, arity(t),essentially_used(t))\n",
        "    return(p)\n",
        "  if t[0] == 'comp':       \n",
        "    g = program(t[1])\n",
        "    hs = [program(u) for u in t[2:]]\n",
        "    k = arity(t[2])\n",
        "    p = compose(g,hs,k, essentially_used(t))\n",
        "    return(p)\n",
        "\n",
        "def essentially_used(t):\n",
        "    if t=='s_prog':\n",
        "      return(3)\n",
        "    if t[0]== 'proj':\n",
        "      return(t[2])\n",
        "    if t == 'z':\n",
        "      return(1)\n",
        "    if t == 'z_empty':\n",
        "      return(0)\n",
        "    if t[0] == 'comp':\n",
        "      outer = t[1]\n",
        "      n1 = essentially_used(outer) \n",
        "      n2 = n1 + (len(t) -0)\n",
        "      n3 = max([essentially_used(u) for u in t[2:]])\n",
        "      n = max([n1,n2])\n",
        "      return(n)\n",
        "    if t[0] == 'pr':\n",
        "      g = t[1]\n",
        "      h = t[2]     \n",
        "      n1 = essentially_used(g)\n",
        "      n2 = essentially_used(h)\n",
        "      n = max([n1,n2])\n",
        "      return(n)\n",
        "\n",
        "pr = 'pr'\n",
        "proj = 'proj'\n",
        "comp = 'comp'\n",
        "s = 's_prog'\n",
        "z = 'z'\n",
        "z_empty = 'z_empty'\n",
        "   \n"
      ],
      "metadata": {
        "id": "qVZMifB2qf_g"
      },
      "execution_count": 6,
      "outputs": []
    },
    {
      "cell_type": "code",
      "source": [],
      "metadata": {
        "id": "7quRKdfyHYMH"
      },
      "execution_count": null,
      "outputs": []
    },
    {
      "cell_type": "markdown",
      "source": [
        "# The examples of primitive recursive definitions are just below.\n",
        "\n",
        "Please note that the is strict; there are no meaningful error messages yet.\n",
        "\n",
        "The base primitive recursive functons are \n",
        "\n",
        "z : the one-place function with value 0\n",
        "z_empty: the zero-place function with value 0\n",
        "[pr, i, j] with i <= j: this is the ith projection on j variables.\n",
        "\n",
        "The constructors are\n",
        "\n",
        "[comp, f, g_1, . . . , g_k]\n",
        "\n",
        "[pr, f, g]\n",
        "\n",
        "What we are constructing here are _primitive recursive terms_.  You can assign names to them, as shown below. The main functions in the notebook are\n",
        "\n",
        "arity(t)\n",
        "\n",
        "program(t)\n",
        "\n",
        "#### Special note: the 1# programs in this notebook do not halt in the sense of the course.  Instead, they _preserve their inputs_.  For example, run the program associated with _add_ below as shown below it.  (That is, take away the # from the beginning of the lines after the definition. The 2 inputs are preserved and the result goes in register 3.)\n"
      ],
      "metadata": {
        "id": "ogs0-uW546Fu"
      }
    },
    {
      "cell_type": "code",
      "source": [
        "add = [pr,[proj,1,1], [comp, s, [proj, 3,3]]]\n",
        "#onesharp(program(add), ['11','#1#1'])\n",
        "\n",
        "mul = [pr, z, [comp, add,[proj, 3,3],[proj, 1, 3]] ]\n",
        "q = program(mul)\n",
        "#onesharp(q, ['11','1#1'])\n",
        "\n",
        "exp = [pr, [comp, s, z], [comp, mul, [proj, 3,3],[proj, 1, 3]] ]\n",
        "pred = [pr, z_empty, [proj,1,2]]\n",
        "monus = [pr, [proj, 1,1], [comp, pred, [proj,3,3]]]\n",
        "\n",
        "two_place_fn_value_one = [comp, s,[comp,z,[proj,1,2]]]  \n",
        "zero_place_fn_value_one = [comp, s, z_empty]  \n",
        "\n",
        "sgn =[pr, z_empty,two_place_fn_value_one]\n",
        "sgn_bar =[pr, zero_place_fn_value_one, [comp,z,[proj,1,2]]]\n",
        "\n",
        "chi_greater = [comp,sgn, monus] ## characteristic function of >\n",
        "chi_lesser_or_equal = [comp,sgn_bar, monus] #|characteristic function of (> or =)\n",
        "chi_lesser = [comp,chi_greater,[proj,2,2],[proj,1,2]] ## characteristic function of <\n",
        "chi_greater_or_equal = [comp, chi_lesser_or_equal,[proj,2,2],[proj,1,2]] ## characteristic function of >=\n",
        "\n",
        "## solution to exercise 5a below\n",
        "chi_equals = [comp, mul, chi_lesser_or_equal, chi_greater_or_equal ]\n",
        "\n",
        "#print(arity(pred))\n",
        "#predProg = print(program(pred))\n",
        "#onesharp(program(exp),['1#1','11'])\n",
        "#onesharp(program([comp, pred, [proj,2,2]]), ['11','#1#1'])\n",
        "#print(successor)"
      ],
      "metadata": {
        "id": "LECniQHYCPsi"
      },
      "execution_count": 11,
      "outputs": []
    },
    {
      "cell_type": "code",
      "source": [
        "print(essentially_used(monus))\n",
        "print(arity(mul))\n",
        "print(essentially_used([comp, add,[proj, 3,3],[proj, 1, 3]]))\n",
        "p = program(mul)\n",
        "parse_explain(p)[240:250]\n",
        "#onesharp(program(z),['1##1'])\n",
        "#step_by_step(p, ['#1','1'])\n",
        "#onesharp(program(monus),['11','##1'])"
      ],
      "metadata": {
        "id": "EIGkhHDQrn0N"
      },
      "execution_count": null,
      "outputs": []
    },
    {
      "cell_type": "code",
      "source": [
        "### exercise 5b below\n",
        "g = [comp, chi_equals, [proj,2,3], [comp, mul, [proj,1,3],[proj,3,3]]] \n",
        "# g tells if first x third = second\n",
        "#print(arity(g))\n",
        "#onesharp(program(g),['11','##1','11'])\n",
        "\n",
        "\n",
        "## an additional function g_2, not part of the exercise \n",
        "g2 = [comp, chi_greater, [proj,3,3], [comp, s, [comp, z, [proj, 1, 3]]]]\n",
        "## g2(m,n,p) =  1 if n > 1, and g2(m,n,p) =  0 if n <= 1\n",
        "#onesharp(program(g2),['1','#1','#1'])\n",
        "\n",
        "## now let\n",
        "g1 = [comp, mul, g, g2]\n",
        "## g1(m,p,n) = 1 if n is at least 2, and m n = p\n",
        "#onesharp(program(g1),['1','11','11'])\n",
        "\n",
        "\n"
      ],
      "metadata": {
        "id": "8-rF8JUCcA6i",
        "outputId": "a567ca15-5e27-4c74-9f08-7df82b71f2c2",
        "colab": {
          "base_uri": "https://localhost:8080/",
          "height": 240
        }
      },
      "execution_count": 14,
      "outputs": [
        {
          "output_type": "error",
          "ename": "NameError",
          "evalue": "ignored",
          "traceback": [
            "\u001b[0;31m---------------------------------------------------------------------------\u001b[0m",
            "\u001b[0;31mNameError\u001b[0m                                 Traceback (most recent call last)",
            "\u001b[0;32m<ipython-input-14-ab615e90652b>\u001b[0m in \u001b[0;36m<module>\u001b[0;34m\u001b[0m\n\u001b[1;32m      1\u001b[0m \u001b[0;31m### exercise 5b below\u001b[0m\u001b[0;34m\u001b[0m\u001b[0;34m\u001b[0m\u001b[0;34m\u001b[0m\u001b[0m\n\u001b[0;32m----> 2\u001b[0;31m \u001b[0mg\u001b[0m \u001b[0;34m=\u001b[0m \u001b[0;34m[\u001b[0m\u001b[0mcomp\u001b[0m\u001b[0;34m,\u001b[0m \u001b[0mchi_equals\u001b[0m\u001b[0;34m,\u001b[0m \u001b[0;34m[\u001b[0m\u001b[0mproj\u001b[0m\u001b[0;34m,\u001b[0m\u001b[0;36m2\u001b[0m\u001b[0;34m,\u001b[0m\u001b[0;36m3\u001b[0m\u001b[0;34m]\u001b[0m\u001b[0;34m,\u001b[0m \u001b[0;34m[\u001b[0m\u001b[0mcomp\u001b[0m\u001b[0;34m,\u001b[0m \u001b[0mmul\u001b[0m\u001b[0;34m,\u001b[0m \u001b[0;34m[\u001b[0m\u001b[0mproj\u001b[0m\u001b[0;34m,\u001b[0m\u001b[0;36m1\u001b[0m\u001b[0;34m,\u001b[0m\u001b[0;36m3\u001b[0m\u001b[0;34m]\u001b[0m\u001b[0;34m,\u001b[0m\u001b[0;34m[\u001b[0m\u001b[0mproj\u001b[0m\u001b[0;34m,\u001b[0m\u001b[0;36m3\u001b[0m\u001b[0;34m,\u001b[0m\u001b[0;36m3\u001b[0m\u001b[0;34m]\u001b[0m\u001b[0;34m]\u001b[0m\u001b[0;34m]\u001b[0m\u001b[0;34m\u001b[0m\u001b[0;34m\u001b[0m\u001b[0m\n\u001b[0m\u001b[1;32m      3\u001b[0m \u001b[0;31m# g tells if first x third = second\u001b[0m\u001b[0;34m\u001b[0m\u001b[0;34m\u001b[0m\u001b[0;34m\u001b[0m\u001b[0m\n\u001b[1;32m      4\u001b[0m \u001b[0;31m#print(arity(g))\u001b[0m\u001b[0;34m\u001b[0m\u001b[0;34m\u001b[0m\u001b[0;34m\u001b[0m\u001b[0m\n\u001b[1;32m      5\u001b[0m \u001b[0;31m#onesharp(program(g),['11','##1','11'])\u001b[0m\u001b[0;34m\u001b[0m\u001b[0;34m\u001b[0m\u001b[0;34m\u001b[0m\u001b[0m\n",
            "\u001b[0;31mNameError\u001b[0m: name 'chi_equals' is not defined"
          ]
        }
      ]
    },
    {
      "cell_type": "code",
      "source": [
        "essentially_used(g1)"
      ],
      "metadata": {
        "colab": {
          "base_uri": "https://localhost:8080/"
        },
        "id": "3n-BuaitkxaH",
        "outputId": "95d23c4a-cb97-470a-b417-7c3b81064ddf"
      },
      "execution_count": 32,
      "outputs": [
        {
          "output_type": "execute_result",
          "data": {
            "text/plain": [
              "14"
            ]
          },
          "metadata": {},
          "execution_count": 32
        }
      ]
    },
    {
      "cell_type": "code",
      "source": [
        "## exercise 5c below\n",
        "g3 = [comp, g, [proj, 1, 2], [comp, z, [proj, 1, 2]], [proj, 2, 2]]\n",
        "p = program(g3)\n",
        "#onesharp(p, ['#','11111','#111'])\n",
        "k1 = [comp, add, [proj,4,4], [comp, g, [proj,1,4], [proj,2,4], [comp,s, [proj,3,4]]]]\n",
        "k = [comp, sgn, k1] \n",
        "#print(arity(k))\n",
        "#print(arity([comp, g, [proj,1,4], [proj,2,4], [comp,[s, [proj,3,4]]))\n",
        "h = [pr, g3, k]\n",
        "#print(arity(g3))\n",
        "#print(arity(h))\n",
        "#print(arity(k1))\n",
        "#print(arity(k))\n",
        "\n",
        "#onesharp(program(h),['11','#11','11'])\n",
        "## Thus, h does what we want in 5c.\n",
        "## But we also want to modify h a little to get h1 as on the solutions\n",
        "## For this, we just use g1 instead of g inside of g3\n",
        "#g4 = [comp, g1, [proj, 1, 2], [comp, z, [proj, 1, 2]], [proj, 2, 2]]\n",
        "#k2 = [comp, add, [proj,4,4], [comp, g4, [proj,1,4], [proj,2,4], [comp,s, [proj,3,4]]]]\n",
        "#k3 = [comp, sgn, k2] \n",
        "#h1 = [pr, g4, k3]\n",
        "#\n",
        "#print(arity(g4))\n",
        "#print(arity(k2))\n",
        "#print(arity(h1))\n",
        "#onesharp(program(h),['1#1','1#1'])"
      ],
      "metadata": {
        "id": "PnfZFeChs9yO"
      },
      "execution_count": null,
      "outputs": []
    },
    {
      "cell_type": "code",
      "source": [
        "# exercise 5d and 5e\n",
        "# as pointed out by Sam Whitmire,  pd(m,n) = h(m,n, pred(n))\n",
        "h = [pr, g3, k]\n",
        "proper_divisor = [comp, h, [proj,1,2], [proj,2,2], [comp, pred, [proj,2,2]]]\n",
        "\n",
        "#print(arity(proper_divisor))\n",
        "#onesharp(program(proper_divisor),['11','1##1'])\n",
        "\n",
        "pd_inverse = [comp, proper_divisor, [proj,2,2],[proj,1,2]]\n",
        "\n",
        "#onesharp(program(pd_inverse),['1##1','11'])\n",
        "#onesharp(program([comp, pred, [proj,2,2]]), ['11','#1#1'])\n",
        "\n",
        "pre_prime = [pr, z, [comp, sgn, [comp, add, [proj,3,3], [comp, pd_inverse, [proj,1,3], [comp, s, [proj,2,3]]]]]]\n",
        "\n",
        "#arity(pre_prime)\n",
        "#onesharp(program(pre_prime),['1###1','1###1']) ## gave output 1!!\n",
        "#onesharp(program(pre_prime),['##11','##11'])\n",
        "# 6, 5 gives 1\n",
        "# 7 6 gives #\n",
        "# 8 7 gives 1\n",
        "# 9 8 gives 1\n",
        "# 11 10 gives #\n",
        "# 12 11 gives 1\n",
        "# 13 12 gives #\n",
        "# 12 12 gives 1\n",
        "\n",
        "# thus, we can do \n",
        "prime =[comp, sgn_bar, [comp, pre_prime, [proj,1,1], [comp, pred, [proj,1,1]]]]\n",
        "\n",
        "onesharp(program(prime),['11#1'])\n",
        "# Gives output 1 if the input is a prime,\n",
        "# and gives output # if the output is not a prime.\n",
        "\n",
        "\n",
        "\n"
      ],
      "metadata": {
        "id": "VhcWHOCpfB8E",
        "outputId": "ea09a0da-40ec-442f-f1b4-c842c78383f9",
        "colab": {
          "base_uri": "https://localhost:8080/",
          "height": 1000
        }
      },
      "execution_count": null,
      "outputs": [
        {
          "output_type": "stream",
          "name": "stdout",
          "text": [
            "This is undefined.\n",
            "The register contents at the end are shown below.\n"
          ]
        },
        {
          "output_type": "display_data",
          "data": {
            "text/plain": [
              "<pandas.io.formats.style.Styler at 0x7facb99f15d0>"
            ],
            "text/html": [
              "<style type=\"text/css\">\n",
              "#T_d2278_row0_col0, #T_d2278_row1_col0, #T_d2278_row2_col0, #T_d2278_row3_col0, #T_d2278_row4_col0, #T_d2278_row5_col0, #T_d2278_row6_col0, #T_d2278_row7_col0, #T_d2278_row8_col0, #T_d2278_row9_col0, #T_d2278_row10_col0, #T_d2278_row11_col0, #T_d2278_row12_col0, #T_d2278_row13_col0, #T_d2278_row14_col0, #T_d2278_row15_col0, #T_d2278_row16_col0, #T_d2278_row17_col0, #T_d2278_row18_col0, #T_d2278_row19_col0, #T_d2278_row20_col0, #T_d2278_row21_col0, #T_d2278_row22_col0, #T_d2278_row23_col0, #T_d2278_row24_col0, #T_d2278_row25_col0, #T_d2278_row26_col0, #T_d2278_row27_col0, #T_d2278_row28_col0, #T_d2278_row29_col0, #T_d2278_row30_col0, #T_d2278_row31_col0, #T_d2278_row32_col0, #T_d2278_row33_col0, #T_d2278_row34_col0, #T_d2278_row35_col0, #T_d2278_row36_col0, #T_d2278_row37_col0, #T_d2278_row38_col0, #T_d2278_row39_col0, #T_d2278_row40_col0, #T_d2278_row41_col0, #T_d2278_row42_col0, #T_d2278_row43_col0, #T_d2278_row44_col0, #T_d2278_row45_col0, #T_d2278_row46_col0, #T_d2278_row47_col0, #T_d2278_row48_col0, #T_d2278_row49_col0, #T_d2278_row50_col0, #T_d2278_row51_col0, #T_d2278_row52_col0 {\n",
              "  background-color: #FFFFCC;\n",
              "  text-align: left;\n",
              "}\n",
              "</style>\n",
              "<table id=\"T_d2278_\" class=\"dataframe\">\n",
              "  <thead>\n",
              "    <tr>\n",
              "      <th class=\"blank level0\" >&nbsp;</th>\n",
              "      <th class=\"col_heading level0 col0\" >contents</th>\n",
              "    </tr>\n",
              "  </thead>\n",
              "  <tbody>\n",
              "    <tr>\n",
              "      <th id=\"T_d2278_level0_row0\" class=\"row_heading level0 row0\" >1</th>\n",
              "      <td id=\"T_d2278_row0_col0\" class=\"data row0 col0\" >11#1</td>\n",
              "    </tr>\n",
              "    <tr>\n",
              "      <th id=\"T_d2278_level0_row1\" class=\"row_heading level0 row1\" >2</th>\n",
              "      <td id=\"T_d2278_row1_col0\" class=\"data row1 col0\" >1</td>\n",
              "    </tr>\n",
              "    <tr>\n",
              "      <th id=\"T_d2278_level0_row2\" class=\"row_heading level0 row2\" >3</th>\n",
              "      <td id=\"T_d2278_row2_col0\" class=\"data row2 col0\" ></td>\n",
              "    </tr>\n",
              "    <tr>\n",
              "      <th id=\"T_d2278_level0_row3\" class=\"row_heading level0 row3\" >4</th>\n",
              "      <td id=\"T_d2278_row3_col0\" class=\"data row3 col0\" ></td>\n",
              "    </tr>\n",
              "    <tr>\n",
              "      <th id=\"T_d2278_level0_row4\" class=\"row_heading level0 row4\" >5</th>\n",
              "      <td id=\"T_d2278_row4_col0\" class=\"data row4 col0\" ></td>\n",
              "    </tr>\n",
              "    <tr>\n",
              "      <th id=\"T_d2278_level0_row5\" class=\"row_heading level0 row5\" >6</th>\n",
              "      <td id=\"T_d2278_row5_col0\" class=\"data row5 col0\" ></td>\n",
              "    </tr>\n",
              "    <tr>\n",
              "      <th id=\"T_d2278_level0_row6\" class=\"row_heading level0 row6\" >7</th>\n",
              "      <td id=\"T_d2278_row6_col0\" class=\"data row6 col0\" ></td>\n",
              "    </tr>\n",
              "    <tr>\n",
              "      <th id=\"T_d2278_level0_row7\" class=\"row_heading level0 row7\" >8</th>\n",
              "      <td id=\"T_d2278_row7_col0\" class=\"data row7 col0\" ></td>\n",
              "    </tr>\n",
              "    <tr>\n",
              "      <th id=\"T_d2278_level0_row8\" class=\"row_heading level0 row8\" >9</th>\n",
              "      <td id=\"T_d2278_row8_col0\" class=\"data row8 col0\" ></td>\n",
              "    </tr>\n",
              "    <tr>\n",
              "      <th id=\"T_d2278_level0_row9\" class=\"row_heading level0 row9\" >10</th>\n",
              "      <td id=\"T_d2278_row9_col0\" class=\"data row9 col0\" ></td>\n",
              "    </tr>\n",
              "    <tr>\n",
              "      <th id=\"T_d2278_level0_row10\" class=\"row_heading level0 row10\" >11</th>\n",
              "      <td id=\"T_d2278_row10_col0\" class=\"data row10 col0\" ></td>\n",
              "    </tr>\n",
              "    <tr>\n",
              "      <th id=\"T_d2278_level0_row11\" class=\"row_heading level0 row11\" >12</th>\n",
              "      <td id=\"T_d2278_row11_col0\" class=\"data row11 col0\" ></td>\n",
              "    </tr>\n",
              "    <tr>\n",
              "      <th id=\"T_d2278_level0_row12\" class=\"row_heading level0 row12\" >13</th>\n",
              "      <td id=\"T_d2278_row12_col0\" class=\"data row12 col0\" ></td>\n",
              "    </tr>\n",
              "    <tr>\n",
              "      <th id=\"T_d2278_level0_row13\" class=\"row_heading level0 row13\" >14</th>\n",
              "      <td id=\"T_d2278_row13_col0\" class=\"data row13 col0\" ></td>\n",
              "    </tr>\n",
              "    <tr>\n",
              "      <th id=\"T_d2278_level0_row14\" class=\"row_heading level0 row14\" >15</th>\n",
              "      <td id=\"T_d2278_row14_col0\" class=\"data row14 col0\" ></td>\n",
              "    </tr>\n",
              "    <tr>\n",
              "      <th id=\"T_d2278_level0_row15\" class=\"row_heading level0 row15\" >16</th>\n",
              "      <td id=\"T_d2278_row15_col0\" class=\"data row15 col0\" ></td>\n",
              "    </tr>\n",
              "    <tr>\n",
              "      <th id=\"T_d2278_level0_row16\" class=\"row_heading level0 row16\" >17</th>\n",
              "      <td id=\"T_d2278_row16_col0\" class=\"data row16 col0\" ></td>\n",
              "    </tr>\n",
              "    <tr>\n",
              "      <th id=\"T_d2278_level0_row17\" class=\"row_heading level0 row17\" >18</th>\n",
              "      <td id=\"T_d2278_row17_col0\" class=\"data row17 col0\" ></td>\n",
              "    </tr>\n",
              "    <tr>\n",
              "      <th id=\"T_d2278_level0_row18\" class=\"row_heading level0 row18\" >19</th>\n",
              "      <td id=\"T_d2278_row18_col0\" class=\"data row18 col0\" ></td>\n",
              "    </tr>\n",
              "    <tr>\n",
              "      <th id=\"T_d2278_level0_row19\" class=\"row_heading level0 row19\" >20</th>\n",
              "      <td id=\"T_d2278_row19_col0\" class=\"data row19 col0\" ></td>\n",
              "    </tr>\n",
              "    <tr>\n",
              "      <th id=\"T_d2278_level0_row20\" class=\"row_heading level0 row20\" >21</th>\n",
              "      <td id=\"T_d2278_row20_col0\" class=\"data row20 col0\" ></td>\n",
              "    </tr>\n",
              "    <tr>\n",
              "      <th id=\"T_d2278_level0_row21\" class=\"row_heading level0 row21\" >22</th>\n",
              "      <td id=\"T_d2278_row21_col0\" class=\"data row21 col0\" ></td>\n",
              "    </tr>\n",
              "    <tr>\n",
              "      <th id=\"T_d2278_level0_row22\" class=\"row_heading level0 row22\" >23</th>\n",
              "      <td id=\"T_d2278_row22_col0\" class=\"data row22 col0\" ></td>\n",
              "    </tr>\n",
              "    <tr>\n",
              "      <th id=\"T_d2278_level0_row23\" class=\"row_heading level0 row23\" >24</th>\n",
              "      <td id=\"T_d2278_row23_col0\" class=\"data row23 col0\" ></td>\n",
              "    </tr>\n",
              "    <tr>\n",
              "      <th id=\"T_d2278_level0_row24\" class=\"row_heading level0 row24\" >25</th>\n",
              "      <td id=\"T_d2278_row24_col0\" class=\"data row24 col0\" ></td>\n",
              "    </tr>\n",
              "    <tr>\n",
              "      <th id=\"T_d2278_level0_row25\" class=\"row_heading level0 row25\" >26</th>\n",
              "      <td id=\"T_d2278_row25_col0\" class=\"data row25 col0\" ></td>\n",
              "    </tr>\n",
              "    <tr>\n",
              "      <th id=\"T_d2278_level0_row26\" class=\"row_heading level0 row26\" >27</th>\n",
              "      <td id=\"T_d2278_row26_col0\" class=\"data row26 col0\" ></td>\n",
              "    </tr>\n",
              "    <tr>\n",
              "      <th id=\"T_d2278_level0_row27\" class=\"row_heading level0 row27\" >28</th>\n",
              "      <td id=\"T_d2278_row27_col0\" class=\"data row27 col0\" ></td>\n",
              "    </tr>\n",
              "    <tr>\n",
              "      <th id=\"T_d2278_level0_row28\" class=\"row_heading level0 row28\" >29</th>\n",
              "      <td id=\"T_d2278_row28_col0\" class=\"data row28 col0\" ></td>\n",
              "    </tr>\n",
              "    <tr>\n",
              "      <th id=\"T_d2278_level0_row29\" class=\"row_heading level0 row29\" >30</th>\n",
              "      <td id=\"T_d2278_row29_col0\" class=\"data row29 col0\" ></td>\n",
              "    </tr>\n",
              "    <tr>\n",
              "      <th id=\"T_d2278_level0_row30\" class=\"row_heading level0 row30\" >31</th>\n",
              "      <td id=\"T_d2278_row30_col0\" class=\"data row30 col0\" ></td>\n",
              "    </tr>\n",
              "    <tr>\n",
              "      <th id=\"T_d2278_level0_row31\" class=\"row_heading level0 row31\" >32</th>\n",
              "      <td id=\"T_d2278_row31_col0\" class=\"data row31 col0\" ></td>\n",
              "    </tr>\n",
              "    <tr>\n",
              "      <th id=\"T_d2278_level0_row32\" class=\"row_heading level0 row32\" >33</th>\n",
              "      <td id=\"T_d2278_row32_col0\" class=\"data row32 col0\" ></td>\n",
              "    </tr>\n",
              "    <tr>\n",
              "      <th id=\"T_d2278_level0_row33\" class=\"row_heading level0 row33\" >34</th>\n",
              "      <td id=\"T_d2278_row33_col0\" class=\"data row33 col0\" ></td>\n",
              "    </tr>\n",
              "    <tr>\n",
              "      <th id=\"T_d2278_level0_row34\" class=\"row_heading level0 row34\" >35</th>\n",
              "      <td id=\"T_d2278_row34_col0\" class=\"data row34 col0\" ></td>\n",
              "    </tr>\n",
              "    <tr>\n",
              "      <th id=\"T_d2278_level0_row35\" class=\"row_heading level0 row35\" >36</th>\n",
              "      <td id=\"T_d2278_row35_col0\" class=\"data row35 col0\" ></td>\n",
              "    </tr>\n",
              "    <tr>\n",
              "      <th id=\"T_d2278_level0_row36\" class=\"row_heading level0 row36\" >37</th>\n",
              "      <td id=\"T_d2278_row36_col0\" class=\"data row36 col0\" ></td>\n",
              "    </tr>\n",
              "    <tr>\n",
              "      <th id=\"T_d2278_level0_row37\" class=\"row_heading level0 row37\" >38</th>\n",
              "      <td id=\"T_d2278_row37_col0\" class=\"data row37 col0\" ></td>\n",
              "    </tr>\n",
              "    <tr>\n",
              "      <th id=\"T_d2278_level0_row38\" class=\"row_heading level0 row38\" >39</th>\n",
              "      <td id=\"T_d2278_row38_col0\" class=\"data row38 col0\" ></td>\n",
              "    </tr>\n",
              "    <tr>\n",
              "      <th id=\"T_d2278_level0_row39\" class=\"row_heading level0 row39\" >40</th>\n",
              "      <td id=\"T_d2278_row39_col0\" class=\"data row39 col0\" ></td>\n",
              "    </tr>\n",
              "    <tr>\n",
              "      <th id=\"T_d2278_level0_row40\" class=\"row_heading level0 row40\" >41</th>\n",
              "      <td id=\"T_d2278_row40_col0\" class=\"data row40 col0\" ></td>\n",
              "    </tr>\n",
              "    <tr>\n",
              "      <th id=\"T_d2278_level0_row41\" class=\"row_heading level0 row41\" >42</th>\n",
              "      <td id=\"T_d2278_row41_col0\" class=\"data row41 col0\" ></td>\n",
              "    </tr>\n",
              "    <tr>\n",
              "      <th id=\"T_d2278_level0_row42\" class=\"row_heading level0 row42\" >43</th>\n",
              "      <td id=\"T_d2278_row42_col0\" class=\"data row42 col0\" ></td>\n",
              "    </tr>\n",
              "    <tr>\n",
              "      <th id=\"T_d2278_level0_row43\" class=\"row_heading level0 row43\" >44</th>\n",
              "      <td id=\"T_d2278_row43_col0\" class=\"data row43 col0\" ></td>\n",
              "    </tr>\n",
              "    <tr>\n",
              "      <th id=\"T_d2278_level0_row44\" class=\"row_heading level0 row44\" >45</th>\n",
              "      <td id=\"T_d2278_row44_col0\" class=\"data row44 col0\" ></td>\n",
              "    </tr>\n",
              "    <tr>\n",
              "      <th id=\"T_d2278_level0_row45\" class=\"row_heading level0 row45\" >46</th>\n",
              "      <td id=\"T_d2278_row45_col0\" class=\"data row45 col0\" ></td>\n",
              "    </tr>\n",
              "    <tr>\n",
              "      <th id=\"T_d2278_level0_row46\" class=\"row_heading level0 row46\" >47</th>\n",
              "      <td id=\"T_d2278_row46_col0\" class=\"data row46 col0\" ></td>\n",
              "    </tr>\n",
              "    <tr>\n",
              "      <th id=\"T_d2278_level0_row47\" class=\"row_heading level0 row47\" >48</th>\n",
              "      <td id=\"T_d2278_row47_col0\" class=\"data row47 col0\" ></td>\n",
              "    </tr>\n",
              "    <tr>\n",
              "      <th id=\"T_d2278_level0_row48\" class=\"row_heading level0 row48\" >49</th>\n",
              "      <td id=\"T_d2278_row48_col0\" class=\"data row48 col0\" ></td>\n",
              "    </tr>\n",
              "    <tr>\n",
              "      <th id=\"T_d2278_level0_row49\" class=\"row_heading level0 row49\" >50</th>\n",
              "      <td id=\"T_d2278_row49_col0\" class=\"data row49 col0\" ></td>\n",
              "    </tr>\n",
              "    <tr>\n",
              "      <th id=\"T_d2278_level0_row50\" class=\"row_heading level0 row50\" >51</th>\n",
              "      <td id=\"T_d2278_row50_col0\" class=\"data row50 col0\" ></td>\n",
              "    </tr>\n",
              "    <tr>\n",
              "      <th id=\"T_d2278_level0_row51\" class=\"row_heading level0 row51\" >52</th>\n",
              "      <td id=\"T_d2278_row51_col0\" class=\"data row51 col0\" ></td>\n",
              "    </tr>\n",
              "    <tr>\n",
              "      <th id=\"T_d2278_level0_row52\" class=\"row_heading level0 row52\" >53</th>\n",
              "      <td id=\"T_d2278_row52_col0\" class=\"data row52 col0\" ></td>\n",
              "    </tr>\n",
              "  </tbody>\n",
              "</table>\n"
            ]
          },
          "metadata": {}
        }
      ]
    },
    {
      "cell_type": "code",
      "source": [
        "essentially_used(prime)"
      ],
      "metadata": {
        "id": "SE04TT5Hn2ht",
        "outputId": "820e71a9-445d-4b7a-a123-84ef3e8f4f00",
        "colab": {
          "base_uri": "https://localhost:8080/"
        }
      },
      "execution_count": null,
      "outputs": [
        {
          "output_type": "execute_result",
          "data": {
            "text/plain": [
              "5"
            ]
          },
          "metadata": {},
          "execution_count": 101
        }
      ]
    },
    {
      "cell_type": "code",
      "source": [
        "onesharp(program([comp, add,[proj, 3,3],[proj, 1, 3]]),['11','#1','#11'])"
      ],
      "metadata": {
        "id": "0vDq7pdPn3tO",
        "outputId": "0fe096bf-caf2-492e-decc-4491d290d60b",
        "colab": {
          "base_uri": "https://localhost:8080/",
          "height": 493
        }
      },
      "execution_count": 117,
      "outputs": [
        {
          "output_type": "stream",
          "name": "stdout",
          "text": [
            "This is undefined.\n",
            "The register contents at the end are shown below.\n"
          ]
        },
        {
          "output_type": "display_data",
          "data": {
            "text/plain": [
              "<pandas.io.formats.style.Styler at 0x7fc361f55c90>"
            ],
            "text/html": [
              "<style type=\"text/css\">\n",
              "#T_71156_row0_col0, #T_71156_row1_col0, #T_71156_row2_col0, #T_71156_row3_col0, #T_71156_row4_col0, #T_71156_row5_col0, #T_71156_row6_col0, #T_71156_row7_col0, #T_71156_row8_col0, #T_71156_row9_col0, #T_71156_row10_col0, #T_71156_row11_col0, #T_71156_row12_col0 {\n",
              "  background-color: #FFFFCC;\n",
              "  text-align: left;\n",
              "}\n",
              "</style>\n",
              "<table id=\"T_71156_\" class=\"dataframe\">\n",
              "  <thead>\n",
              "    <tr>\n",
              "      <th class=\"blank level0\" >&nbsp;</th>\n",
              "      <th class=\"col_heading level0 col0\" >contents</th>\n",
              "    </tr>\n",
              "  </thead>\n",
              "  <tbody>\n",
              "    <tr>\n",
              "      <th id=\"T_71156_level0_row0\" class=\"row_heading level0 row0\" >1</th>\n",
              "      <td id=\"T_71156_row0_col0\" class=\"data row0 col0\" >11</td>\n",
              "    </tr>\n",
              "    <tr>\n",
              "      <th id=\"T_71156_level0_row1\" class=\"row_heading level0 row1\" >2</th>\n",
              "      <td id=\"T_71156_row1_col0\" class=\"data row1 col0\" >#1</td>\n",
              "    </tr>\n",
              "    <tr>\n",
              "      <th id=\"T_71156_level0_row2\" class=\"row_heading level0 row2\" >3</th>\n",
              "      <td id=\"T_71156_row2_col0\" class=\"data row2 col0\" >#11</td>\n",
              "    </tr>\n",
              "    <tr>\n",
              "      <th id=\"T_71156_level0_row3\" class=\"row_heading level0 row3\" >4</th>\n",
              "      <td id=\"T_71156_row3_col0\" class=\"data row3 col0\" >1##1</td>\n",
              "    </tr>\n",
              "    <tr>\n",
              "      <th id=\"T_71156_level0_row4\" class=\"row_heading level0 row4\" >5</th>\n",
              "      <td id=\"T_71156_row4_col0\" class=\"data row4 col0\" ></td>\n",
              "    </tr>\n",
              "    <tr>\n",
              "      <th id=\"T_71156_level0_row5\" class=\"row_heading level0 row5\" >6</th>\n",
              "      <td id=\"T_71156_row5_col0\" class=\"data row5 col0\" ></td>\n",
              "    </tr>\n",
              "    <tr>\n",
              "      <th id=\"T_71156_level0_row6\" class=\"row_heading level0 row6\" >7</th>\n",
              "      <td id=\"T_71156_row6_col0\" class=\"data row6 col0\" ></td>\n",
              "    </tr>\n",
              "    <tr>\n",
              "      <th id=\"T_71156_level0_row7\" class=\"row_heading level0 row7\" >8</th>\n",
              "      <td id=\"T_71156_row7_col0\" class=\"data row7 col0\" ></td>\n",
              "    </tr>\n",
              "    <tr>\n",
              "      <th id=\"T_71156_level0_row8\" class=\"row_heading level0 row8\" >9</th>\n",
              "      <td id=\"T_71156_row8_col0\" class=\"data row8 col0\" ></td>\n",
              "    </tr>\n",
              "    <tr>\n",
              "      <th id=\"T_71156_level0_row9\" class=\"row_heading level0 row9\" >10</th>\n",
              "      <td id=\"T_71156_row9_col0\" class=\"data row9 col0\" ></td>\n",
              "    </tr>\n",
              "    <tr>\n",
              "      <th id=\"T_71156_level0_row10\" class=\"row_heading level0 row10\" >11</th>\n",
              "      <td id=\"T_71156_row10_col0\" class=\"data row10 col0\" ></td>\n",
              "    </tr>\n",
              "    <tr>\n",
              "      <th id=\"T_71156_level0_row11\" class=\"row_heading level0 row11\" >12</th>\n",
              "      <td id=\"T_71156_row11_col0\" class=\"data row11 col0\" ></td>\n",
              "    </tr>\n",
              "    <tr>\n",
              "      <th id=\"T_71156_level0_row12\" class=\"row_heading level0 row12\" >13</th>\n",
              "      <td id=\"T_71156_row12_col0\" class=\"data row12 col0\" ></td>\n",
              "    </tr>\n",
              "  </tbody>\n",
              "</table>\n"
            ]
          },
          "metadata": {}
        }
      ]
    },
    {
      "cell_type": "code",
      "source": [
        "step_by_step(compare_prog(1,2),['#1','#1'])"
      ],
      "metadata": {
        "id": "3S32Z39yn7Kx",
        "colab": {
          "base_uri": "https://localhost:8080/",
          "height": 1000
        },
        "outputId": "6b227fe3-5499-468e-8ad2-5302a6cd301e"
      },
      "execution_count": 34,
      "outputs": [
        {
          "output_type": "stream",
          "name": "stdout",
          "text": [
            "First, here is the program:\n"
          ]
        },
        {
          "output_type": "display_data",
          "data": {
            "text/plain": [
              "<pandas.io.formats.style.Styler at 0x7fc3620bfa90>"
            ],
            "text/html": [
              "<style type=\"text/css\">\n",
              "#T_2059d_row0_col0, #T_2059d_row0_col1, #T_2059d_row1_col0, #T_2059d_row1_col1, #T_2059d_row2_col0, #T_2059d_row2_col1, #T_2059d_row3_col0, #T_2059d_row3_col1, #T_2059d_row4_col0, #T_2059d_row4_col1, #T_2059d_row5_col0, #T_2059d_row5_col1, #T_2059d_row6_col0, #T_2059d_row6_col1, #T_2059d_row7_col0, #T_2059d_row7_col1, #T_2059d_row8_col0, #T_2059d_row8_col1, #T_2059d_row9_col0, #T_2059d_row9_col1, #T_2059d_row10_col0, #T_2059d_row10_col1, #T_2059d_row11_col0, #T_2059d_row11_col1, #T_2059d_row12_col0, #T_2059d_row12_col1, #T_2059d_row13_col0, #T_2059d_row13_col1, #T_2059d_row14_col0, #T_2059d_row14_col1, #T_2059d_row15_col0, #T_2059d_row15_col1, #T_2059d_row16_col0, #T_2059d_row16_col1, #T_2059d_row17_col0, #T_2059d_row17_col1, #T_2059d_row18_col0, #T_2059d_row18_col1, #T_2059d_row19_col0, #T_2059d_row19_col1, #T_2059d_row20_col0, #T_2059d_row20_col1, #T_2059d_row21_col0, #T_2059d_row21_col1, #T_2059d_row22_col0, #T_2059d_row22_col1, #T_2059d_row23_col0, #T_2059d_row23_col1, #T_2059d_row24_col0, #T_2059d_row24_col1, #T_2059d_row25_col0, #T_2059d_row25_col1, #T_2059d_row26_col0, #T_2059d_row26_col1, #T_2059d_row27_col0, #T_2059d_row27_col1, #T_2059d_row28_col0, #T_2059d_row28_col1, #T_2059d_row29_col0, #T_2059d_row29_col1, #T_2059d_row30_col0, #T_2059d_row30_col1, #T_2059d_row31_col0, #T_2059d_row31_col1, #T_2059d_row32_col0, #T_2059d_row32_col1, #T_2059d_row33_col0, #T_2059d_row33_col1, #T_2059d_row34_col0, #T_2059d_row34_col1, #T_2059d_row35_col0, #T_2059d_row35_col1, #T_2059d_row36_col0, #T_2059d_row36_col1, #T_2059d_row37_col0, #T_2059d_row37_col1, #T_2059d_row38_col0, #T_2059d_row38_col1, #T_2059d_row39_col0, #T_2059d_row39_col1, #T_2059d_row40_col0, #T_2059d_row40_col1, #T_2059d_row41_col0, #T_2059d_row41_col1, #T_2059d_row42_col0, #T_2059d_row42_col1, #T_2059d_row43_col0, #T_2059d_row43_col1, #T_2059d_row44_col0, #T_2059d_row44_col1, #T_2059d_row45_col0, #T_2059d_row45_col1, #T_2059d_row46_col0, #T_2059d_row46_col1, #T_2059d_row47_col0, #T_2059d_row47_col1, #T_2059d_row48_col0, #T_2059d_row48_col1, #T_2059d_row49_col0, #T_2059d_row49_col1, #T_2059d_row50_col0, #T_2059d_row50_col1, #T_2059d_row51_col0, #T_2059d_row51_col1, #T_2059d_row52_col0, #T_2059d_row52_col1, #T_2059d_row53_col0, #T_2059d_row53_col1, #T_2059d_row54_col0, #T_2059d_row54_col1, #T_2059d_row55_col0, #T_2059d_row55_col1, #T_2059d_row56_col0, #T_2059d_row56_col1, #T_2059d_row57_col0, #T_2059d_row57_col1, #T_2059d_row58_col0, #T_2059d_row58_col1, #T_2059d_row59_col0, #T_2059d_row59_col1, #T_2059d_row60_col0, #T_2059d_row60_col1, #T_2059d_row61_col0, #T_2059d_row61_col1, #T_2059d_row62_col0, #T_2059d_row62_col1, #T_2059d_row63_col0, #T_2059d_row63_col1, #T_2059d_row64_col0, #T_2059d_row64_col1, #T_2059d_row65_col0, #T_2059d_row65_col1, #T_2059d_row66_col0, #T_2059d_row66_col1, #T_2059d_row67_col0, #T_2059d_row67_col1, #T_2059d_row68_col0, #T_2059d_row68_col1, #T_2059d_row69_col0, #T_2059d_row69_col1, #T_2059d_row70_col0, #T_2059d_row70_col1, #T_2059d_row71_col0, #T_2059d_row71_col1, #T_2059d_row72_col0, #T_2059d_row72_col1, #T_2059d_row73_col0, #T_2059d_row73_col1, #T_2059d_row74_col0, #T_2059d_row74_col1, #T_2059d_row75_col0, #T_2059d_row75_col1, #T_2059d_row76_col0, #T_2059d_row76_col1, #T_2059d_row77_col0, #T_2059d_row77_col1, #T_2059d_row78_col0, #T_2059d_row78_col1, #T_2059d_row79_col0, #T_2059d_row79_col1, #T_2059d_row80_col0, #T_2059d_row80_col1 {\n",
              "  background-color: #C9DFEC;\n",
              "  text-align: left;\n",
              "}\n",
              "</style>\n",
              "<table id=\"T_2059d_\" class=\"dataframe\">\n",
              "  <thead>\n",
              "    <tr>\n",
              "      <th class=\"blank level0\" >&nbsp;</th>\n",
              "      <th class=\"col_heading level0 col0\" >instruction</th>\n",
              "      <th class=\"col_heading level0 col1\" >explanation</th>\n",
              "    </tr>\n",
              "  </thead>\n",
              "  <tbody>\n",
              "    <tr>\n",
              "      <th id=\"T_2059d_level0_row0\" class=\"row_heading level0 row0\" >1</th>\n",
              "      <td id=\"T_2059d_row0_col0\" class=\"data row0 col0\" >1#####</td>\n",
              "      <td id=\"T_2059d_row0_col1\" class=\"data row0 col1\" >cases on R1</td>\n",
              "    </tr>\n",
              "    <tr>\n",
              "      <th id=\"T_2059d_level0_row1\" class=\"row_heading level0 row1\" >2</th>\n",
              "      <td id=\"T_2059d_row1_col0\" class=\"data row1 col0\" >111###</td>\n",
              "      <td id=\"T_2059d_row1_col1\" class=\"data row1 col1\" >go forward 3 to instruction 5</td>\n",
              "    </tr>\n",
              "    <tr>\n",
              "      <th id=\"T_2059d_level0_row2\" class=\"row_heading level0 row2\" >3</th>\n",
              "      <td id=\"T_2059d_row2_col0\" class=\"data row2 col0\" >111111###</td>\n",
              "      <td id=\"T_2059d_row2_col1\" class=\"data row2 col1\" >go forward 6 to instruction 9</td>\n",
              "    </tr>\n",
              "    <tr>\n",
              "      <th id=\"T_2059d_level0_row3\" class=\"row_heading level0 row3\" >4</th>\n",
              "      <td id=\"T_2059d_row3_col0\" class=\"data row3 col0\" >111111111###</td>\n",
              "      <td id=\"T_2059d_row3_col1\" class=\"data row3 col1\" >go forward 9 to instruction 13</td>\n",
              "    </tr>\n",
              "    <tr>\n",
              "      <th id=\"T_2059d_level0_row4\" class=\"row_heading level0 row4\" >5</th>\n",
              "      <td id=\"T_2059d_row4_col0\" class=\"data row4 col0\" >11#####</td>\n",
              "      <td id=\"T_2059d_row4_col1\" class=\"data row4 col1\" >cases on R2</td>\n",
              "    </tr>\n",
              "    <tr>\n",
              "      <th id=\"T_2059d_level0_row5\" class=\"row_heading level0 row5\" >6</th>\n",
              "      <td id=\"T_2059d_row5_col0\" class=\"data row5 col0\" >11111111111###</td>\n",
              "      <td id=\"T_2059d_row5_col1\" class=\"data row5 col1\" >go forward 11 to instruction 17</td>\n",
              "    </tr>\n",
              "    <tr>\n",
              "      <th id=\"T_2059d_level0_row6\" class=\"row_heading level0 row6\" >7</th>\n",
              "      <td id=\"T_2059d_row6_col0\" class=\"data row6 col0\" >11111111111###</td>\n",
              "      <td id=\"T_2059d_row6_col1\" class=\"data row6 col1\" >go forward 11 to instruction 18</td>\n",
              "    </tr>\n",
              "    <tr>\n",
              "      <th id=\"T_2059d_level0_row7\" class=\"row_heading level0 row7\" >8</th>\n",
              "      <td id=\"T_2059d_row7_col0\" class=\"data row7 col0\" >111111111111###</td>\n",
              "      <td id=\"T_2059d_row7_col1\" class=\"data row7 col1\" >go forward 12 to instruction 20</td>\n",
              "    </tr>\n",
              "    <tr>\n",
              "      <th id=\"T_2059d_level0_row8\" class=\"row_heading level0 row8\" >9</th>\n",
              "      <td id=\"T_2059d_row8_col0\" class=\"data row8 col0\" >11#####</td>\n",
              "      <td id=\"T_2059d_row8_col1\" class=\"data row8 col1\" >cases on R2</td>\n",
              "    </tr>\n",
              "    <tr>\n",
              "      <th id=\"T_2059d_level0_row9\" class=\"row_heading level0 row9\" >10</th>\n",
              "      <td id=\"T_2059d_row9_col0\" class=\"data row9 col0\" >111111111111###</td>\n",
              "      <td id=\"T_2059d_row9_col1\" class=\"data row9 col1\" >go forward 12 to instruction 22</td>\n",
              "    </tr>\n",
              "    <tr>\n",
              "      <th id=\"T_2059d_level0_row10\" class=\"row_heading level0 row10\" >11</th>\n",
              "      <td id=\"T_2059d_row10_col0\" class=\"data row10 col0\" >1111111111111###</td>\n",
              "      <td id=\"T_2059d_row10_col1\" class=\"data row10 col1\" >go forward 13 to instruction 24</td>\n",
              "    </tr>\n",
              "    <tr>\n",
              "      <th id=\"T_2059d_level0_row11\" class=\"row_heading level0 row11\" >12</th>\n",
              "      <td id=\"T_2059d_row11_col0\" class=\"data row11 col0\" >111111111111111###</td>\n",
              "      <td id=\"T_2059d_row11_col1\" class=\"data row11 col1\" >go forward 15 to instruction 27</td>\n",
              "    </tr>\n",
              "    <tr>\n",
              "      <th id=\"T_2059d_level0_row12\" class=\"row_heading level0 row12\" >13</th>\n",
              "      <td id=\"T_2059d_row12_col0\" class=\"data row12 col0\" >11#####</td>\n",
              "      <td id=\"T_2059d_row12_col1\" class=\"data row12 col1\" >cases on R2</td>\n",
              "    </tr>\n",
              "    <tr>\n",
              "      <th id=\"T_2059d_level0_row13\" class=\"row_heading level0 row13\" >14</th>\n",
              "      <td id=\"T_2059d_row13_col0\" class=\"data row13 col0\" >1111111111111111###</td>\n",
              "      <td id=\"T_2059d_row13_col1\" class=\"data row13 col1\" >go forward 16 to instruction 30</td>\n",
              "    </tr>\n",
              "    <tr>\n",
              "      <th id=\"T_2059d_level0_row14\" class=\"row_heading level0 row14\" >15</th>\n",
              "      <td id=\"T_2059d_row14_col0\" class=\"data row14 col0\" >11111111111111111###</td>\n",
              "      <td id=\"T_2059d_row14_col1\" class=\"data row14 col1\" >go forward 17 to instruction 32</td>\n",
              "    </tr>\n",
              "    <tr>\n",
              "      <th id=\"T_2059d_level0_row15\" class=\"row_heading level0 row15\" >16</th>\n",
              "      <td id=\"T_2059d_row15_col0\" class=\"data row15 col0\" >1111111111111111111###</td>\n",
              "      <td id=\"T_2059d_row15_col1\" class=\"data row15 col1\" >go forward 19 to instruction 35</td>\n",
              "    </tr>\n",
              "    <tr>\n",
              "      <th id=\"T_2059d_level0_row16\" class=\"row_heading level0 row16\" >17</th>\n",
              "      <td id=\"T_2059d_row16_col0\" class=\"data row16 col0\" >111111111111111111111111111111111111111111111111111###</td>\n",
              "      <td id=\"T_2059d_row16_col1\" class=\"data row16 col1\" >go forward 51 to instruction 68</td>\n",
              "    </tr>\n",
              "    <tr>\n",
              "      <th id=\"T_2059d_level0_row17\" class=\"row_heading level0 row17\" >18</th>\n",
              "      <td id=\"T_2059d_row17_col0\" class=\"data row17 col0\" >111#</td>\n",
              "      <td id=\"T_2059d_row17_col1\" class=\"data row17 col1\" >add 1 to R3</td>\n",
              "    </tr>\n",
              "    <tr>\n",
              "      <th id=\"T_2059d_level0_row18\" class=\"row_heading level0 row18\" >19</th>\n",
              "      <td id=\"T_2059d_row18_col0\" class=\"data row18 col0\" >1111111111111111111###</td>\n",
              "      <td id=\"T_2059d_row18_col1\" class=\"data row18 col1\" >go forward 19 to instruction 38</td>\n",
              "    </tr>\n",
              "    <tr>\n",
              "      <th id=\"T_2059d_level0_row19\" class=\"row_heading level0 row19\" >20</th>\n",
              "      <td id=\"T_2059d_row19_col0\" class=\"data row19 col0\" >111##</td>\n",
              "      <td id=\"T_2059d_row19_col1\" class=\"data row19 col1\" >add # to R3</td>\n",
              "    </tr>\n",
              "    <tr>\n",
              "      <th id=\"T_2059d_level0_row20\" class=\"row_heading level0 row20\" >21</th>\n",
              "      <td id=\"T_2059d_row20_col0\" class=\"data row20 col0\" >11111111111111111###</td>\n",
              "      <td id=\"T_2059d_row20_col1\" class=\"data row20 col1\" >go forward 17 to instruction 38</td>\n",
              "    </tr>\n",
              "    <tr>\n",
              "      <th id=\"T_2059d_level0_row21\" class=\"row_heading level0 row21\" >22</th>\n",
              "      <td id=\"T_2059d_row21_col0\" class=\"data row21 col0\" >11#</td>\n",
              "      <td id=\"T_2059d_row21_col1\" class=\"data row21 col1\" >add 1 to R2</td>\n",
              "    </tr>\n",
              "    <tr>\n",
              "      <th id=\"T_2059d_level0_row22\" class=\"row_heading level0 row22\" >23</th>\n",
              "      <td id=\"T_2059d_row22_col0\" class=\"data row22 col0\" >111111111111111###</td>\n",
              "      <td id=\"T_2059d_row22_col1\" class=\"data row22 col1\" >go forward 15 to instruction 38</td>\n",
              "    </tr>\n",
              "    <tr>\n",
              "      <th id=\"T_2059d_level0_row23\" class=\"row_heading level0 row23\" >24</th>\n",
              "      <td id=\"T_2059d_row23_col0\" class=\"data row23 col0\" >11#</td>\n",
              "      <td id=\"T_2059d_row23_col1\" class=\"data row23 col1\" >add 1 to R2</td>\n",
              "    </tr>\n",
              "    <tr>\n",
              "      <th id=\"T_2059d_level0_row24\" class=\"row_heading level0 row24\" >25</th>\n",
              "      <td id=\"T_2059d_row24_col0\" class=\"data row24 col0\" >111#</td>\n",
              "      <td id=\"T_2059d_row24_col1\" class=\"data row24 col1\" >add 1 to R3</td>\n",
              "    </tr>\n",
              "    <tr>\n",
              "      <th id=\"T_2059d_level0_row25\" class=\"row_heading level0 row25\" >26</th>\n",
              "      <td id=\"T_2059d_row25_col0\" class=\"data row25 col0\" >1111111111111111111111111####</td>\n",
              "      <td id=\"T_2059d_row25_col1\" class=\"data row25 col1\" >go backward 25 to instruction 1</td>\n",
              "    </tr>\n",
              "    <tr>\n",
              "      <th id=\"T_2059d_level0_row26\" class=\"row_heading level0 row26\" >27</th>\n",
              "      <td id=\"T_2059d_row26_col0\" class=\"data row26 col0\" >11#</td>\n",
              "      <td id=\"T_2059d_row26_col1\" class=\"data row26 col1\" >add 1 to R2</td>\n",
              "    </tr>\n",
              "    <tr>\n",
              "      <th id=\"T_2059d_level0_row27\" class=\"row_heading level0 row27\" >28</th>\n",
              "      <td id=\"T_2059d_row27_col0\" class=\"data row27 col0\" >111##</td>\n",
              "      <td id=\"T_2059d_row27_col1\" class=\"data row27 col1\" >add # to R3</td>\n",
              "    </tr>\n",
              "    <tr>\n",
              "      <th id=\"T_2059d_level0_row28\" class=\"row_heading level0 row28\" >29</th>\n",
              "      <td id=\"T_2059d_row28_col0\" class=\"data row28 col0\" >111111111###</td>\n",
              "      <td id=\"T_2059d_row28_col1\" class=\"data row28 col1\" >go forward 9 to instruction 38</td>\n",
              "    </tr>\n",
              "    <tr>\n",
              "      <th id=\"T_2059d_level0_row29\" class=\"row_heading level0 row29\" >30</th>\n",
              "      <td id=\"T_2059d_row29_col0\" class=\"data row29 col0\" >11##</td>\n",
              "      <td id=\"T_2059d_row29_col1\" class=\"data row29 col1\" >add # to R2</td>\n",
              "    </tr>\n",
              "    <tr>\n",
              "      <th id=\"T_2059d_level0_row30\" class=\"row_heading level0 row30\" >31</th>\n",
              "      <td id=\"T_2059d_row30_col0\" class=\"data row30 col0\" >1111111###</td>\n",
              "      <td id=\"T_2059d_row30_col1\" class=\"data row30 col1\" >go forward 7 to instruction 38</td>\n",
              "    </tr>\n",
              "    <tr>\n",
              "      <th id=\"T_2059d_level0_row31\" class=\"row_heading level0 row31\" >32</th>\n",
              "      <td id=\"T_2059d_row31_col0\" class=\"data row31 col0\" >11##</td>\n",
              "      <td id=\"T_2059d_row31_col1\" class=\"data row31 col1\" >add # to R2</td>\n",
              "    </tr>\n",
              "    <tr>\n",
              "      <th id=\"T_2059d_level0_row32\" class=\"row_heading level0 row32\" >33</th>\n",
              "      <td id=\"T_2059d_row32_col0\" class=\"data row32 col0\" >111#</td>\n",
              "      <td id=\"T_2059d_row32_col1\" class=\"data row32 col1\" >add 1 to R3</td>\n",
              "    </tr>\n",
              "    <tr>\n",
              "      <th id=\"T_2059d_level0_row33\" class=\"row_heading level0 row33\" >34</th>\n",
              "      <td id=\"T_2059d_row33_col0\" class=\"data row33 col0\" >1111###</td>\n",
              "      <td id=\"T_2059d_row33_col1\" class=\"data row33 col1\" >go forward 4 to instruction 38</td>\n",
              "    </tr>\n",
              "    <tr>\n",
              "      <th id=\"T_2059d_level0_row34\" class=\"row_heading level0 row34\" >35</th>\n",
              "      <td id=\"T_2059d_row34_col0\" class=\"data row34 col0\" >11##</td>\n",
              "      <td id=\"T_2059d_row34_col1\" class=\"data row34 col1\" >add # to R2</td>\n",
              "    </tr>\n",
              "    <tr>\n",
              "      <th id=\"T_2059d_level0_row35\" class=\"row_heading level0 row35\" >36</th>\n",
              "      <td id=\"T_2059d_row35_col0\" class=\"data row35 col0\" >111##</td>\n",
              "      <td id=\"T_2059d_row35_col1\" class=\"data row35 col1\" >add # to R3</td>\n",
              "    </tr>\n",
              "    <tr>\n",
              "      <th id=\"T_2059d_level0_row36\" class=\"row_heading level0 row36\" >37</th>\n",
              "      <td id=\"T_2059d_row36_col0\" class=\"data row36 col0\" >111111111111111111111111111111111111####</td>\n",
              "      <td id=\"T_2059d_row36_col1\" class=\"data row36 col1\" >go backward 36 to instruction 1</td>\n",
              "    </tr>\n",
              "    <tr>\n",
              "      <th id=\"T_2059d_level0_row37\" class=\"row_heading level0 row37\" >38</th>\n",
              "      <td id=\"T_2059d_row37_col0\" class=\"data row37 col0\" >1#####</td>\n",
              "      <td id=\"T_2059d_row37_col1\" class=\"data row37 col1\" >cases on R1</td>\n",
              "    </tr>\n",
              "    <tr>\n",
              "      <th id=\"T_2059d_level0_row38\" class=\"row_heading level0 row38\" >39</th>\n",
              "      <td id=\"T_2059d_row38_col0\" class=\"data row38 col0\" >111111###</td>\n",
              "      <td id=\"T_2059d_row38_col1\" class=\"data row38 col1\" >go forward 6 to instruction 45</td>\n",
              "    </tr>\n",
              "    <tr>\n",
              "      <th id=\"T_2059d_level0_row39\" class=\"row_heading level0 row39\" >40</th>\n",
              "      <td id=\"T_2059d_row39_col0\" class=\"data row39 col0\" >111###</td>\n",
              "      <td id=\"T_2059d_row39_col1\" class=\"data row39 col1\" >go forward 3 to instruction 43</td>\n",
              "    </tr>\n",
              "    <tr>\n",
              "      <th id=\"T_2059d_level0_row40\" class=\"row_heading level0 row40\" >41</th>\n",
              "      <td id=\"T_2059d_row40_col0\" class=\"data row40 col0\" >11##</td>\n",
              "      <td id=\"T_2059d_row40_col1\" class=\"data row40 col1\" >add # to R2</td>\n",
              "    </tr>\n",
              "    <tr>\n",
              "      <th id=\"T_2059d_level0_row41\" class=\"row_heading level0 row41\" >42</th>\n",
              "      <td id=\"T_2059d_row41_col0\" class=\"data row41 col0\" >1111####</td>\n",
              "      <td id=\"T_2059d_row41_col1\" class=\"data row41 col1\" >go backward 4 to instruction 38</td>\n",
              "    </tr>\n",
              "    <tr>\n",
              "      <th id=\"T_2059d_level0_row42\" class=\"row_heading level0 row42\" >43</th>\n",
              "      <td id=\"T_2059d_row42_col0\" class=\"data row42 col0\" >11#</td>\n",
              "      <td id=\"T_2059d_row42_col1\" class=\"data row42 col1\" >add 1 to R2</td>\n",
              "    </tr>\n",
              "    <tr>\n",
              "      <th id=\"T_2059d_level0_row43\" class=\"row_heading level0 row43\" >44</th>\n",
              "      <td id=\"T_2059d_row43_col0\" class=\"data row43 col0\" >111111####</td>\n",
              "      <td id=\"T_2059d_row43_col1\" class=\"data row43 col1\" >go backward 6 to instruction 38</td>\n",
              "    </tr>\n",
              "    <tr>\n",
              "      <th id=\"T_2059d_level0_row44\" class=\"row_heading level0 row44\" >45</th>\n",
              "      <td id=\"T_2059d_row44_col0\" class=\"data row44 col0\" >11#####</td>\n",
              "      <td id=\"T_2059d_row44_col1\" class=\"data row44 col1\" >cases on R2</td>\n",
              "    </tr>\n",
              "    <tr>\n",
              "      <th id=\"T_2059d_level0_row45\" class=\"row_heading level0 row45\" >46</th>\n",
              "      <td id=\"T_2059d_row45_col0\" class=\"data row45 col0\" >111111###</td>\n",
              "      <td id=\"T_2059d_row45_col1\" class=\"data row45 col1\" >go forward 6 to instruction 52</td>\n",
              "    </tr>\n",
              "    <tr>\n",
              "      <th id=\"T_2059d_level0_row46\" class=\"row_heading level0 row46\" >47</th>\n",
              "      <td id=\"T_2059d_row46_col0\" class=\"data row46 col0\" >111###</td>\n",
              "      <td id=\"T_2059d_row46_col1\" class=\"data row46 col1\" >go forward 3 to instruction 50</td>\n",
              "    </tr>\n",
              "    <tr>\n",
              "      <th id=\"T_2059d_level0_row47\" class=\"row_heading level0 row47\" >48</th>\n",
              "      <td id=\"T_2059d_row47_col0\" class=\"data row47 col0\" >1##</td>\n",
              "      <td id=\"T_2059d_row47_col1\" class=\"data row47 col1\" >add # to R1</td>\n",
              "    </tr>\n",
              "    <tr>\n",
              "      <th id=\"T_2059d_level0_row48\" class=\"row_heading level0 row48\" >49</th>\n",
              "      <td id=\"T_2059d_row48_col0\" class=\"data row48 col0\" >1111####</td>\n",
              "      <td id=\"T_2059d_row48_col1\" class=\"data row48 col1\" >go backward 4 to instruction 45</td>\n",
              "    </tr>\n",
              "    <tr>\n",
              "      <th id=\"T_2059d_level0_row49\" class=\"row_heading level0 row49\" >50</th>\n",
              "      <td id=\"T_2059d_row49_col0\" class=\"data row49 col0\" >1#</td>\n",
              "      <td id=\"T_2059d_row49_col1\" class=\"data row49 col1\" >add 1 to R1</td>\n",
              "    </tr>\n",
              "    <tr>\n",
              "      <th id=\"T_2059d_level0_row50\" class=\"row_heading level0 row50\" >51</th>\n",
              "      <td id=\"T_2059d_row50_col0\" class=\"data row50 col0\" >111111####</td>\n",
              "      <td id=\"T_2059d_row50_col1\" class=\"data row50 col1\" >go backward 6 to instruction 45</td>\n",
              "    </tr>\n",
              "    <tr>\n",
              "      <th id=\"T_2059d_level0_row51\" class=\"row_heading level0 row51\" >52</th>\n",
              "      <td id=\"T_2059d_row51_col0\" class=\"data row51 col0\" >11#####</td>\n",
              "      <td id=\"T_2059d_row51_col1\" class=\"data row51 col1\" >cases on R2</td>\n",
              "    </tr>\n",
              "    <tr>\n",
              "      <th id=\"T_2059d_level0_row52\" class=\"row_heading level0 row52\" >53</th>\n",
              "      <td id=\"T_2059d_row52_col0\" class=\"data row52 col0\" >111111###</td>\n",
              "      <td id=\"T_2059d_row52_col1\" class=\"data row52 col1\" >go forward 6 to instruction 59</td>\n",
              "    </tr>\n",
              "    <tr>\n",
              "      <th id=\"T_2059d_level0_row53\" class=\"row_heading level0 row53\" >54</th>\n",
              "      <td id=\"T_2059d_row53_col0\" class=\"data row53 col0\" >111###</td>\n",
              "      <td id=\"T_2059d_row53_col1\" class=\"data row53 col1\" >go forward 3 to instruction 57</td>\n",
              "    </tr>\n",
              "    <tr>\n",
              "      <th id=\"T_2059d_level0_row54\" class=\"row_heading level0 row54\" >55</th>\n",
              "      <td id=\"T_2059d_row54_col0\" class=\"data row54 col0\" >111##</td>\n",
              "      <td id=\"T_2059d_row54_col1\" class=\"data row54 col1\" >add # to R3</td>\n",
              "    </tr>\n",
              "    <tr>\n",
              "      <th id=\"T_2059d_level0_row55\" class=\"row_heading level0 row55\" >56</th>\n",
              "      <td id=\"T_2059d_row55_col0\" class=\"data row55 col0\" >1111####</td>\n",
              "      <td id=\"T_2059d_row55_col1\" class=\"data row55 col1\" >go backward 4 to instruction 52</td>\n",
              "    </tr>\n",
              "    <tr>\n",
              "      <th id=\"T_2059d_level0_row56\" class=\"row_heading level0 row56\" >57</th>\n",
              "      <td id=\"T_2059d_row56_col0\" class=\"data row56 col0\" >111#</td>\n",
              "      <td id=\"T_2059d_row56_col1\" class=\"data row56 col1\" >add 1 to R3</td>\n",
              "    </tr>\n",
              "    <tr>\n",
              "      <th id=\"T_2059d_level0_row57\" class=\"row_heading level0 row57\" >58</th>\n",
              "      <td id=\"T_2059d_row57_col0\" class=\"data row57 col0\" >111111####</td>\n",
              "      <td id=\"T_2059d_row57_col1\" class=\"data row57 col1\" >go backward 6 to instruction 52</td>\n",
              "    </tr>\n",
              "    <tr>\n",
              "      <th id=\"T_2059d_level0_row58\" class=\"row_heading level0 row58\" >59</th>\n",
              "      <td id=\"T_2059d_row58_col0\" class=\"data row58 col0\" >111#####</td>\n",
              "      <td id=\"T_2059d_row58_col1\" class=\"data row58 col1\" >cases on R3</td>\n",
              "    </tr>\n",
              "    <tr>\n",
              "      <th id=\"T_2059d_level0_row59\" class=\"row_heading level0 row59\" >60</th>\n",
              "      <td id=\"T_2059d_row59_col0\" class=\"data row59 col0\" >111111###</td>\n",
              "      <td id=\"T_2059d_row59_col1\" class=\"data row59 col1\" >go forward 6 to instruction 66</td>\n",
              "    </tr>\n",
              "    <tr>\n",
              "      <th id=\"T_2059d_level0_row60\" class=\"row_heading level0 row60\" >61</th>\n",
              "      <td id=\"T_2059d_row60_col0\" class=\"data row60 col0\" >111###</td>\n",
              "      <td id=\"T_2059d_row60_col1\" class=\"data row60 col1\" >go forward 3 to instruction 64</td>\n",
              "    </tr>\n",
              "    <tr>\n",
              "      <th id=\"T_2059d_level0_row61\" class=\"row_heading level0 row61\" >62</th>\n",
              "      <td id=\"T_2059d_row61_col0\" class=\"data row61 col0\" >11##</td>\n",
              "      <td id=\"T_2059d_row61_col1\" class=\"data row61 col1\" >add # to R2</td>\n",
              "    </tr>\n",
              "    <tr>\n",
              "      <th id=\"T_2059d_level0_row62\" class=\"row_heading level0 row62\" >63</th>\n",
              "      <td id=\"T_2059d_row62_col0\" class=\"data row62 col0\" >1111####</td>\n",
              "      <td id=\"T_2059d_row62_col1\" class=\"data row62 col1\" >go backward 4 to instruction 59</td>\n",
              "    </tr>\n",
              "    <tr>\n",
              "      <th id=\"T_2059d_level0_row63\" class=\"row_heading level0 row63\" >64</th>\n",
              "      <td id=\"T_2059d_row63_col0\" class=\"data row63 col0\" >11#</td>\n",
              "      <td id=\"T_2059d_row63_col1\" class=\"data row63 col1\" >add 1 to R2</td>\n",
              "    </tr>\n",
              "    <tr>\n",
              "      <th id=\"T_2059d_level0_row64\" class=\"row_heading level0 row64\" >65</th>\n",
              "      <td id=\"T_2059d_row64_col0\" class=\"data row64 col0\" >111111####</td>\n",
              "      <td id=\"T_2059d_row64_col1\" class=\"data row64 col1\" >go backward 6 to instruction 59</td>\n",
              "    </tr>\n",
              "    <tr>\n",
              "      <th id=\"T_2059d_level0_row65\" class=\"row_heading level0 row65\" >66</th>\n",
              "      <td id=\"T_2059d_row65_col0\" class=\"data row65 col0\" >11#</td>\n",
              "      <td id=\"T_2059d_row65_col1\" class=\"data row65 col1\" >add 1 to R2</td>\n",
              "    </tr>\n",
              "    <tr>\n",
              "      <th id=\"T_2059d_level0_row66\" class=\"row_heading level0 row66\" >67</th>\n",
              "      <td id=\"T_2059d_row66_col0\" class=\"data row66 col0\" >111111111111111###</td>\n",
              "      <td id=\"T_2059d_row66_col1\" class=\"data row66 col1\" >go forward 15 to instruction 82</td>\n",
              "    </tr>\n",
              "    <tr>\n",
              "      <th id=\"T_2059d_level0_row67\" class=\"row_heading level0 row67\" >68</th>\n",
              "      <td id=\"T_2059d_row67_col0\" class=\"data row67 col0\" >11#####</td>\n",
              "      <td id=\"T_2059d_row67_col1\" class=\"data row67 col1\" >cases on R2</td>\n",
              "    </tr>\n",
              "    <tr>\n",
              "      <th id=\"T_2059d_level0_row68\" class=\"row_heading level0 row68\" >69</th>\n",
              "      <td id=\"T_2059d_row68_col0\" class=\"data row68 col0\" >111111###</td>\n",
              "      <td id=\"T_2059d_row68_col1\" class=\"data row68 col1\" >go forward 6 to instruction 75</td>\n",
              "    </tr>\n",
              "    <tr>\n",
              "      <th id=\"T_2059d_level0_row69\" class=\"row_heading level0 row69\" >70</th>\n",
              "      <td id=\"T_2059d_row69_col0\" class=\"data row69 col0\" >111###</td>\n",
              "      <td id=\"T_2059d_row69_col1\" class=\"data row69 col1\" >go forward 3 to instruction 73</td>\n",
              "    </tr>\n",
              "    <tr>\n",
              "      <th id=\"T_2059d_level0_row70\" class=\"row_heading level0 row70\" >71</th>\n",
              "      <td id=\"T_2059d_row70_col0\" class=\"data row70 col0\" >1##</td>\n",
              "      <td id=\"T_2059d_row70_col1\" class=\"data row70 col1\" >add # to R1</td>\n",
              "    </tr>\n",
              "    <tr>\n",
              "      <th id=\"T_2059d_level0_row71\" class=\"row_heading level0 row71\" >72</th>\n",
              "      <td id=\"T_2059d_row71_col0\" class=\"data row71 col0\" >1111####</td>\n",
              "      <td id=\"T_2059d_row71_col1\" class=\"data row71 col1\" >go backward 4 to instruction 68</td>\n",
              "    </tr>\n",
              "    <tr>\n",
              "      <th id=\"T_2059d_level0_row72\" class=\"row_heading level0 row72\" >73</th>\n",
              "      <td id=\"T_2059d_row72_col0\" class=\"data row72 col0\" >1#</td>\n",
              "      <td id=\"T_2059d_row72_col1\" class=\"data row72 col1\" >add 1 to R1</td>\n",
              "    </tr>\n",
              "    <tr>\n",
              "      <th id=\"T_2059d_level0_row73\" class=\"row_heading level0 row73\" >74</th>\n",
              "      <td id=\"T_2059d_row73_col0\" class=\"data row73 col0\" >111111####</td>\n",
              "      <td id=\"T_2059d_row73_col1\" class=\"data row73 col1\" >go backward 6 to instruction 68</td>\n",
              "    </tr>\n",
              "    <tr>\n",
              "      <th id=\"T_2059d_level0_row74\" class=\"row_heading level0 row74\" >75</th>\n",
              "      <td id=\"T_2059d_row74_col0\" class=\"data row74 col0\" >111#####</td>\n",
              "      <td id=\"T_2059d_row74_col1\" class=\"data row74 col1\" >cases on R3</td>\n",
              "    </tr>\n",
              "    <tr>\n",
              "      <th id=\"T_2059d_level0_row75\" class=\"row_heading level0 row75\" >76</th>\n",
              "      <td id=\"T_2059d_row75_col0\" class=\"data row75 col0\" >111111###</td>\n",
              "      <td id=\"T_2059d_row75_col1\" class=\"data row75 col1\" >go forward 6 to instruction 82</td>\n",
              "    </tr>\n",
              "    <tr>\n",
              "      <th id=\"T_2059d_level0_row76\" class=\"row_heading level0 row76\" >77</th>\n",
              "      <td id=\"T_2059d_row76_col0\" class=\"data row76 col0\" >111###</td>\n",
              "      <td id=\"T_2059d_row76_col1\" class=\"data row76 col1\" >go forward 3 to instruction 80</td>\n",
              "    </tr>\n",
              "    <tr>\n",
              "      <th id=\"T_2059d_level0_row77\" class=\"row_heading level0 row77\" >78</th>\n",
              "      <td id=\"T_2059d_row77_col0\" class=\"data row77 col0\" >11##</td>\n",
              "      <td id=\"T_2059d_row77_col1\" class=\"data row77 col1\" >add # to R2</td>\n",
              "    </tr>\n",
              "    <tr>\n",
              "      <th id=\"T_2059d_level0_row78\" class=\"row_heading level0 row78\" >79</th>\n",
              "      <td id=\"T_2059d_row78_col0\" class=\"data row78 col0\" >1111####</td>\n",
              "      <td id=\"T_2059d_row78_col1\" class=\"data row78 col1\" >go backward 4 to instruction 75</td>\n",
              "    </tr>\n",
              "    <tr>\n",
              "      <th id=\"T_2059d_level0_row79\" class=\"row_heading level0 row79\" >80</th>\n",
              "      <td id=\"T_2059d_row79_col0\" class=\"data row79 col0\" >11#</td>\n",
              "      <td id=\"T_2059d_row79_col1\" class=\"data row79 col1\" >add 1 to R2</td>\n",
              "    </tr>\n",
              "    <tr>\n",
              "      <th id=\"T_2059d_level0_row80\" class=\"row_heading level0 row80\" >81</th>\n",
              "      <td id=\"T_2059d_row80_col0\" class=\"data row80 col0\" >111111####</td>\n",
              "      <td id=\"T_2059d_row80_col1\" class=\"data row80 col1\" >go backward 6 to instruction 75</td>\n",
              "    </tr>\n",
              "  </tbody>\n",
              "</table>\n"
            ]
          },
          "metadata": {}
        },
        {
          "output_type": "stream",
          "name": "stdout",
          "text": [
            "\n",
            "The computation starts with the register contents shown below.\n",
            "The registers include those those which you entered as part of the input\n",
            "and also others mentioned in the input program.\n"
          ]
        },
        {
          "output_type": "display_data",
          "data": {
            "text/plain": [
              "<pandas.io.formats.style.Styler at 0x7fc36209ded0>"
            ],
            "text/html": [
              "<style type=\"text/css\">\n",
              "#T_f3cdf_row0_col0, #T_f3cdf_row1_col0, #T_f3cdf_row2_col0 {\n",
              "  background-color: #FFFFCC;\n",
              "  text-align: left;\n",
              "}\n",
              "</style>\n",
              "<table id=\"T_f3cdf_\" class=\"dataframe\">\n",
              "  <thead>\n",
              "    <tr>\n",
              "      <th class=\"blank level0\" >&nbsp;</th>\n",
              "      <th class=\"col_heading level0 col0\" >contents</th>\n",
              "    </tr>\n",
              "  </thead>\n",
              "  <tbody>\n",
              "    <tr>\n",
              "      <th id=\"T_f3cdf_level0_row0\" class=\"row_heading level0 row0\" >1</th>\n",
              "      <td id=\"T_f3cdf_row0_col0\" class=\"data row0 col0\" >#1</td>\n",
              "    </tr>\n",
              "    <tr>\n",
              "      <th id=\"T_f3cdf_level0_row1\" class=\"row_heading level0 row1\" >2</th>\n",
              "      <td id=\"T_f3cdf_row1_col0\" class=\"data row1 col0\" >#1</td>\n",
              "    </tr>\n",
              "    <tr>\n",
              "      <th id=\"T_f3cdf_level0_row2\" class=\"row_heading level0 row2\" >3</th>\n",
              "      <td id=\"T_f3cdf_row2_col0\" class=\"data row2 col0\" ></td>\n",
              "    </tr>\n",
              "  </tbody>\n",
              "</table>\n"
            ]
          },
          "metadata": {}
        },
        {
          "output_type": "stream",
          "name": "stdout",
          "text": [
            "\n",
            "Step 1:\n",
            "Execute instruction 1: cases on R1.\n",
            "The first symbol in that register is #, so we delete that symbol and go forward 3 instructions.\n"
          ]
        },
        {
          "output_type": "display_data",
          "data": {
            "text/plain": [
              "<pandas.io.formats.style.Styler at 0x7fc3623b8ed0>"
            ],
            "text/html": [
              "<style type=\"text/css\">\n",
              "#T_5ff89_row0_col0, #T_5ff89_row1_col0, #T_5ff89_row2_col0 {\n",
              "  background-color: #FFFFCC;\n",
              "  text-align: left;\n",
              "}\n",
              "</style>\n",
              "<table id=\"T_5ff89_\" class=\"dataframe\">\n",
              "  <thead>\n",
              "    <tr>\n",
              "      <th class=\"blank level0\" >&nbsp;</th>\n",
              "      <th class=\"col_heading level0 col0\" >contents</th>\n",
              "    </tr>\n",
              "  </thead>\n",
              "  <tbody>\n",
              "    <tr>\n",
              "      <th id=\"T_5ff89_level0_row0\" class=\"row_heading level0 row0\" >1</th>\n",
              "      <td id=\"T_5ff89_row0_col0\" class=\"data row0 col0\" >1</td>\n",
              "    </tr>\n",
              "    <tr>\n",
              "      <th id=\"T_5ff89_level0_row1\" class=\"row_heading level0 row1\" >2</th>\n",
              "      <td id=\"T_5ff89_row1_col0\" class=\"data row1 col0\" >#1</td>\n",
              "    </tr>\n",
              "    <tr>\n",
              "      <th id=\"T_5ff89_level0_row2\" class=\"row_heading level0 row2\" >3</th>\n",
              "      <td id=\"T_5ff89_row2_col0\" class=\"data row2 col0\" ></td>\n",
              "    </tr>\n",
              "  </tbody>\n",
              "</table>\n"
            ]
          },
          "metadata": {}
        },
        {
          "output_type": "stream",
          "name": "stdout",
          "text": [
            "Step 2:\n",
            "Execute instruction 4: go forward 9 to instruction 13.\n"
          ]
        },
        {
          "output_type": "display_data",
          "data": {
            "text/plain": [
              "<pandas.io.formats.style.Styler at 0x7fc3623b8f50>"
            ],
            "text/html": [
              "<style type=\"text/css\">\n",
              "#T_53ab3_row0_col0, #T_53ab3_row1_col0, #T_53ab3_row2_col0 {\n",
              "  background-color: #FFFFCC;\n",
              "  text-align: left;\n",
              "}\n",
              "</style>\n",
              "<table id=\"T_53ab3_\" class=\"dataframe\">\n",
              "  <thead>\n",
              "    <tr>\n",
              "      <th class=\"blank level0\" >&nbsp;</th>\n",
              "      <th class=\"col_heading level0 col0\" >contents</th>\n",
              "    </tr>\n",
              "  </thead>\n",
              "  <tbody>\n",
              "    <tr>\n",
              "      <th id=\"T_53ab3_level0_row0\" class=\"row_heading level0 row0\" >1</th>\n",
              "      <td id=\"T_53ab3_row0_col0\" class=\"data row0 col0\" >1</td>\n",
              "    </tr>\n",
              "    <tr>\n",
              "      <th id=\"T_53ab3_level0_row1\" class=\"row_heading level0 row1\" >2</th>\n",
              "      <td id=\"T_53ab3_row1_col0\" class=\"data row1 col0\" >#1</td>\n",
              "    </tr>\n",
              "    <tr>\n",
              "      <th id=\"T_53ab3_level0_row2\" class=\"row_heading level0 row2\" >3</th>\n",
              "      <td id=\"T_53ab3_row2_col0\" class=\"data row2 col0\" ></td>\n",
              "    </tr>\n",
              "  </tbody>\n",
              "</table>\n"
            ]
          },
          "metadata": {}
        },
        {
          "output_type": "stream",
          "name": "stdout",
          "text": [
            "Step 3:\n",
            "Execute instruction 13: cases on R2.\n",
            "The first symbol in that register is #, so we delete that symbol and go forward 3 instructions.\n"
          ]
        },
        {
          "output_type": "display_data",
          "data": {
            "text/plain": [
              "<pandas.io.formats.style.Styler at 0x7fc3623b8cd0>"
            ],
            "text/html": [
              "<style type=\"text/css\">\n",
              "#T_84bb2_row0_col0, #T_84bb2_row1_col0, #T_84bb2_row2_col0 {\n",
              "  background-color: #FFFFCC;\n",
              "  text-align: left;\n",
              "}\n",
              "</style>\n",
              "<table id=\"T_84bb2_\" class=\"dataframe\">\n",
              "  <thead>\n",
              "    <tr>\n",
              "      <th class=\"blank level0\" >&nbsp;</th>\n",
              "      <th class=\"col_heading level0 col0\" >contents</th>\n",
              "    </tr>\n",
              "  </thead>\n",
              "  <tbody>\n",
              "    <tr>\n",
              "      <th id=\"T_84bb2_level0_row0\" class=\"row_heading level0 row0\" >1</th>\n",
              "      <td id=\"T_84bb2_row0_col0\" class=\"data row0 col0\" >1</td>\n",
              "    </tr>\n",
              "    <tr>\n",
              "      <th id=\"T_84bb2_level0_row1\" class=\"row_heading level0 row1\" >2</th>\n",
              "      <td id=\"T_84bb2_row1_col0\" class=\"data row1 col0\" >1</td>\n",
              "    </tr>\n",
              "    <tr>\n",
              "      <th id=\"T_84bb2_level0_row2\" class=\"row_heading level0 row2\" >3</th>\n",
              "      <td id=\"T_84bb2_row2_col0\" class=\"data row2 col0\" ></td>\n",
              "    </tr>\n",
              "  </tbody>\n",
              "</table>\n"
            ]
          },
          "metadata": {}
        },
        {
          "output_type": "stream",
          "name": "stdout",
          "text": [
            "Step 4:\n",
            "Execute instruction 16: go forward 19 to instruction 35.\n"
          ]
        },
        {
          "output_type": "display_data",
          "data": {
            "text/plain": [
              "<pandas.io.formats.style.Styler at 0x7fc3620d5f10>"
            ],
            "text/html": [
              "<style type=\"text/css\">\n",
              "#T_3ee60_row0_col0, #T_3ee60_row1_col0, #T_3ee60_row2_col0 {\n",
              "  background-color: #FFFFCC;\n",
              "  text-align: left;\n",
              "}\n",
              "</style>\n",
              "<table id=\"T_3ee60_\" class=\"dataframe\">\n",
              "  <thead>\n",
              "    <tr>\n",
              "      <th class=\"blank level0\" >&nbsp;</th>\n",
              "      <th class=\"col_heading level0 col0\" >contents</th>\n",
              "    </tr>\n",
              "  </thead>\n",
              "  <tbody>\n",
              "    <tr>\n",
              "      <th id=\"T_3ee60_level0_row0\" class=\"row_heading level0 row0\" >1</th>\n",
              "      <td id=\"T_3ee60_row0_col0\" class=\"data row0 col0\" >1</td>\n",
              "    </tr>\n",
              "    <tr>\n",
              "      <th id=\"T_3ee60_level0_row1\" class=\"row_heading level0 row1\" >2</th>\n",
              "      <td id=\"T_3ee60_row1_col0\" class=\"data row1 col0\" >1</td>\n",
              "    </tr>\n",
              "    <tr>\n",
              "      <th id=\"T_3ee60_level0_row2\" class=\"row_heading level0 row2\" >3</th>\n",
              "      <td id=\"T_3ee60_row2_col0\" class=\"data row2 col0\" ></td>\n",
              "    </tr>\n",
              "  </tbody>\n",
              "</table>\n"
            ]
          },
          "metadata": {}
        },
        {
          "output_type": "stream",
          "name": "stdout",
          "text": [
            "Step 5:\n",
            "Execute instruction 35: add # to R2.\n"
          ]
        },
        {
          "output_type": "display_data",
          "data": {
            "text/plain": [
              "<pandas.io.formats.style.Styler at 0x7fc36241fc90>"
            ],
            "text/html": [
              "<style type=\"text/css\">\n",
              "#T_c72b0_row0_col0, #T_c72b0_row1_col0, #T_c72b0_row2_col0 {\n",
              "  background-color: #FFFFCC;\n",
              "  text-align: left;\n",
              "}\n",
              "</style>\n",
              "<table id=\"T_c72b0_\" class=\"dataframe\">\n",
              "  <thead>\n",
              "    <tr>\n",
              "      <th class=\"blank level0\" >&nbsp;</th>\n",
              "      <th class=\"col_heading level0 col0\" >contents</th>\n",
              "    </tr>\n",
              "  </thead>\n",
              "  <tbody>\n",
              "    <tr>\n",
              "      <th id=\"T_c72b0_level0_row0\" class=\"row_heading level0 row0\" >1</th>\n",
              "      <td id=\"T_c72b0_row0_col0\" class=\"data row0 col0\" >1</td>\n",
              "    </tr>\n",
              "    <tr>\n",
              "      <th id=\"T_c72b0_level0_row1\" class=\"row_heading level0 row1\" >2</th>\n",
              "      <td id=\"T_c72b0_row1_col0\" class=\"data row1 col0\" >1#</td>\n",
              "    </tr>\n",
              "    <tr>\n",
              "      <th id=\"T_c72b0_level0_row2\" class=\"row_heading level0 row2\" >3</th>\n",
              "      <td id=\"T_c72b0_row2_col0\" class=\"data row2 col0\" ></td>\n",
              "    </tr>\n",
              "  </tbody>\n",
              "</table>\n"
            ]
          },
          "metadata": {}
        },
        {
          "output_type": "stream",
          "name": "stdout",
          "text": [
            "Step 6:\n",
            "Execute instruction 36: add # to R3.\n"
          ]
        },
        {
          "output_type": "display_data",
          "data": {
            "text/plain": [
              "<pandas.io.formats.style.Styler at 0x7fc3623f8750>"
            ],
            "text/html": [
              "<style type=\"text/css\">\n",
              "#T_99cf8_row0_col0, #T_99cf8_row1_col0, #T_99cf8_row2_col0 {\n",
              "  background-color: #FFFFCC;\n",
              "  text-align: left;\n",
              "}\n",
              "</style>\n",
              "<table id=\"T_99cf8_\" class=\"dataframe\">\n",
              "  <thead>\n",
              "    <tr>\n",
              "      <th class=\"blank level0\" >&nbsp;</th>\n",
              "      <th class=\"col_heading level0 col0\" >contents</th>\n",
              "    </tr>\n",
              "  </thead>\n",
              "  <tbody>\n",
              "    <tr>\n",
              "      <th id=\"T_99cf8_level0_row0\" class=\"row_heading level0 row0\" >1</th>\n",
              "      <td id=\"T_99cf8_row0_col0\" class=\"data row0 col0\" >1</td>\n",
              "    </tr>\n",
              "    <tr>\n",
              "      <th id=\"T_99cf8_level0_row1\" class=\"row_heading level0 row1\" >2</th>\n",
              "      <td id=\"T_99cf8_row1_col0\" class=\"data row1 col0\" >1#</td>\n",
              "    </tr>\n",
              "    <tr>\n",
              "      <th id=\"T_99cf8_level0_row2\" class=\"row_heading level0 row2\" >3</th>\n",
              "      <td id=\"T_99cf8_row2_col0\" class=\"data row2 col0\" >#</td>\n",
              "    </tr>\n",
              "  </tbody>\n",
              "</table>\n"
            ]
          },
          "metadata": {}
        },
        {
          "output_type": "stream",
          "name": "stdout",
          "text": [
            "Step 7:\n",
            "Execute instruction 37: go backward 36 to instruction 1.\n"
          ]
        },
        {
          "output_type": "display_data",
          "data": {
            "text/plain": [
              "<pandas.io.formats.style.Styler at 0x7fc3620cff90>"
            ],
            "text/html": [
              "<style type=\"text/css\">\n",
              "#T_50a42_row0_col0, #T_50a42_row1_col0, #T_50a42_row2_col0 {\n",
              "  background-color: #FFFFCC;\n",
              "  text-align: left;\n",
              "}\n",
              "</style>\n",
              "<table id=\"T_50a42_\" class=\"dataframe\">\n",
              "  <thead>\n",
              "    <tr>\n",
              "      <th class=\"blank level0\" >&nbsp;</th>\n",
              "      <th class=\"col_heading level0 col0\" >contents</th>\n",
              "    </tr>\n",
              "  </thead>\n",
              "  <tbody>\n",
              "    <tr>\n",
              "      <th id=\"T_50a42_level0_row0\" class=\"row_heading level0 row0\" >1</th>\n",
              "      <td id=\"T_50a42_row0_col0\" class=\"data row0 col0\" >1</td>\n",
              "    </tr>\n",
              "    <tr>\n",
              "      <th id=\"T_50a42_level0_row1\" class=\"row_heading level0 row1\" >2</th>\n",
              "      <td id=\"T_50a42_row1_col0\" class=\"data row1 col0\" >1#</td>\n",
              "    </tr>\n",
              "    <tr>\n",
              "      <th id=\"T_50a42_level0_row2\" class=\"row_heading level0 row2\" >3</th>\n",
              "      <td id=\"T_50a42_row2_col0\" class=\"data row2 col0\" >#</td>\n",
              "    </tr>\n",
              "  </tbody>\n",
              "</table>\n"
            ]
          },
          "metadata": {}
        },
        {
          "output_type": "stream",
          "name": "stdout",
          "text": [
            "Step 8:\n",
            "Execute instruction 1: cases on R1.\n",
            "The first symbol in that register is 1, so we delete that symbol and go forward 2 instructions.\n"
          ]
        },
        {
          "output_type": "display_data",
          "data": {
            "text/plain": [
              "<pandas.io.formats.style.Styler at 0x7fc3620cf810>"
            ],
            "text/html": [
              "<style type=\"text/css\">\n",
              "#T_5a88f_row0_col0, #T_5a88f_row1_col0, #T_5a88f_row2_col0 {\n",
              "  background-color: #FFFFCC;\n",
              "  text-align: left;\n",
              "}\n",
              "</style>\n",
              "<table id=\"T_5a88f_\" class=\"dataframe\">\n",
              "  <thead>\n",
              "    <tr>\n",
              "      <th class=\"blank level0\" >&nbsp;</th>\n",
              "      <th class=\"col_heading level0 col0\" >contents</th>\n",
              "    </tr>\n",
              "  </thead>\n",
              "  <tbody>\n",
              "    <tr>\n",
              "      <th id=\"T_5a88f_level0_row0\" class=\"row_heading level0 row0\" >1</th>\n",
              "      <td id=\"T_5a88f_row0_col0\" class=\"data row0 col0\" ></td>\n",
              "    </tr>\n",
              "    <tr>\n",
              "      <th id=\"T_5a88f_level0_row1\" class=\"row_heading level0 row1\" >2</th>\n",
              "      <td id=\"T_5a88f_row1_col0\" class=\"data row1 col0\" >1#</td>\n",
              "    </tr>\n",
              "    <tr>\n",
              "      <th id=\"T_5a88f_level0_row2\" class=\"row_heading level0 row2\" >3</th>\n",
              "      <td id=\"T_5a88f_row2_col0\" class=\"data row2 col0\" >#</td>\n",
              "    </tr>\n",
              "  </tbody>\n",
              "</table>\n"
            ]
          },
          "metadata": {}
        },
        {
          "output_type": "stream",
          "name": "stdout",
          "text": [
            "Step 9:\n",
            "Execute instruction 3: go forward 6 to instruction 9.\n"
          ]
        },
        {
          "output_type": "display_data",
          "data": {
            "text/plain": [
              "<pandas.io.formats.style.Styler at 0x7fc3620a4b90>"
            ],
            "text/html": [
              "<style type=\"text/css\">\n",
              "#T_9eed5_row0_col0, #T_9eed5_row1_col0, #T_9eed5_row2_col0 {\n",
              "  background-color: #FFFFCC;\n",
              "  text-align: left;\n",
              "}\n",
              "</style>\n",
              "<table id=\"T_9eed5_\" class=\"dataframe\">\n",
              "  <thead>\n",
              "    <tr>\n",
              "      <th class=\"blank level0\" >&nbsp;</th>\n",
              "      <th class=\"col_heading level0 col0\" >contents</th>\n",
              "    </tr>\n",
              "  </thead>\n",
              "  <tbody>\n",
              "    <tr>\n",
              "      <th id=\"T_9eed5_level0_row0\" class=\"row_heading level0 row0\" >1</th>\n",
              "      <td id=\"T_9eed5_row0_col0\" class=\"data row0 col0\" ></td>\n",
              "    </tr>\n",
              "    <tr>\n",
              "      <th id=\"T_9eed5_level0_row1\" class=\"row_heading level0 row1\" >2</th>\n",
              "      <td id=\"T_9eed5_row1_col0\" class=\"data row1 col0\" >1#</td>\n",
              "    </tr>\n",
              "    <tr>\n",
              "      <th id=\"T_9eed5_level0_row2\" class=\"row_heading level0 row2\" >3</th>\n",
              "      <td id=\"T_9eed5_row2_col0\" class=\"data row2 col0\" >#</td>\n",
              "    </tr>\n",
              "  </tbody>\n",
              "</table>\n"
            ]
          },
          "metadata": {}
        },
        {
          "output_type": "stream",
          "name": "stdout",
          "text": [
            "Step 10:\n",
            "Execute instruction 9: cases on R2.\n",
            "The first symbol in that register is 1, so we delete that symbol and go forward 2 instructions.\n"
          ]
        },
        {
          "output_type": "display_data",
          "data": {
            "text/plain": [
              "<pandas.io.formats.style.Styler at 0x7fc362093210>"
            ],
            "text/html": [
              "<style type=\"text/css\">\n",
              "#T_33474_row0_col0, #T_33474_row1_col0, #T_33474_row2_col0 {\n",
              "  background-color: #FFFFCC;\n",
              "  text-align: left;\n",
              "}\n",
              "</style>\n",
              "<table id=\"T_33474_\" class=\"dataframe\">\n",
              "  <thead>\n",
              "    <tr>\n",
              "      <th class=\"blank level0\" >&nbsp;</th>\n",
              "      <th class=\"col_heading level0 col0\" >contents</th>\n",
              "    </tr>\n",
              "  </thead>\n",
              "  <tbody>\n",
              "    <tr>\n",
              "      <th id=\"T_33474_level0_row0\" class=\"row_heading level0 row0\" >1</th>\n",
              "      <td id=\"T_33474_row0_col0\" class=\"data row0 col0\" ></td>\n",
              "    </tr>\n",
              "    <tr>\n",
              "      <th id=\"T_33474_level0_row1\" class=\"row_heading level0 row1\" >2</th>\n",
              "      <td id=\"T_33474_row1_col0\" class=\"data row1 col0\" >#</td>\n",
              "    </tr>\n",
              "    <tr>\n",
              "      <th id=\"T_33474_level0_row2\" class=\"row_heading level0 row2\" >3</th>\n",
              "      <td id=\"T_33474_row2_col0\" class=\"data row2 col0\" >#</td>\n",
              "    </tr>\n",
              "  </tbody>\n",
              "</table>\n"
            ]
          },
          "metadata": {}
        },
        {
          "output_type": "stream",
          "name": "stdout",
          "text": [
            "Step 11:\n",
            "Execute instruction 11: go forward 13 to instruction 24.\n"
          ]
        },
        {
          "output_type": "display_data",
          "data": {
            "text/plain": [
              "<pandas.io.formats.style.Styler at 0x7fc3620933d0>"
            ],
            "text/html": [
              "<style type=\"text/css\">\n",
              "#T_c58c8_row0_col0, #T_c58c8_row1_col0, #T_c58c8_row2_col0 {\n",
              "  background-color: #FFFFCC;\n",
              "  text-align: left;\n",
              "}\n",
              "</style>\n",
              "<table id=\"T_c58c8_\" class=\"dataframe\">\n",
              "  <thead>\n",
              "    <tr>\n",
              "      <th class=\"blank level0\" >&nbsp;</th>\n",
              "      <th class=\"col_heading level0 col0\" >contents</th>\n",
              "    </tr>\n",
              "  </thead>\n",
              "  <tbody>\n",
              "    <tr>\n",
              "      <th id=\"T_c58c8_level0_row0\" class=\"row_heading level0 row0\" >1</th>\n",
              "      <td id=\"T_c58c8_row0_col0\" class=\"data row0 col0\" ></td>\n",
              "    </tr>\n",
              "    <tr>\n",
              "      <th id=\"T_c58c8_level0_row1\" class=\"row_heading level0 row1\" >2</th>\n",
              "      <td id=\"T_c58c8_row1_col0\" class=\"data row1 col0\" >#</td>\n",
              "    </tr>\n",
              "    <tr>\n",
              "      <th id=\"T_c58c8_level0_row2\" class=\"row_heading level0 row2\" >3</th>\n",
              "      <td id=\"T_c58c8_row2_col0\" class=\"data row2 col0\" >#</td>\n",
              "    </tr>\n",
              "  </tbody>\n",
              "</table>\n"
            ]
          },
          "metadata": {}
        },
        {
          "output_type": "stream",
          "name": "stdout",
          "text": [
            "Step 12:\n",
            "Execute instruction 24: add 1 to R2.\n"
          ]
        },
        {
          "output_type": "display_data",
          "data": {
            "text/plain": [
              "<pandas.io.formats.style.Styler at 0x7fc362093990>"
            ],
            "text/html": [
              "<style type=\"text/css\">\n",
              "#T_7aeaf_row0_col0, #T_7aeaf_row1_col0, #T_7aeaf_row2_col0 {\n",
              "  background-color: #FFFFCC;\n",
              "  text-align: left;\n",
              "}\n",
              "</style>\n",
              "<table id=\"T_7aeaf_\" class=\"dataframe\">\n",
              "  <thead>\n",
              "    <tr>\n",
              "      <th class=\"blank level0\" >&nbsp;</th>\n",
              "      <th class=\"col_heading level0 col0\" >contents</th>\n",
              "    </tr>\n",
              "  </thead>\n",
              "  <tbody>\n",
              "    <tr>\n",
              "      <th id=\"T_7aeaf_level0_row0\" class=\"row_heading level0 row0\" >1</th>\n",
              "      <td id=\"T_7aeaf_row0_col0\" class=\"data row0 col0\" ></td>\n",
              "    </tr>\n",
              "    <tr>\n",
              "      <th id=\"T_7aeaf_level0_row1\" class=\"row_heading level0 row1\" >2</th>\n",
              "      <td id=\"T_7aeaf_row1_col0\" class=\"data row1 col0\" >#1</td>\n",
              "    </tr>\n",
              "    <tr>\n",
              "      <th id=\"T_7aeaf_level0_row2\" class=\"row_heading level0 row2\" >3</th>\n",
              "      <td id=\"T_7aeaf_row2_col0\" class=\"data row2 col0\" >#</td>\n",
              "    </tr>\n",
              "  </tbody>\n",
              "</table>\n"
            ]
          },
          "metadata": {}
        },
        {
          "output_type": "stream",
          "name": "stdout",
          "text": [
            "Step 13:\n",
            "Execute instruction 25: add 1 to R3.\n"
          ]
        },
        {
          "output_type": "display_data",
          "data": {
            "text/plain": [
              "<pandas.io.formats.style.Styler at 0x7fc3620d5fd0>"
            ],
            "text/html": [
              "<style type=\"text/css\">\n",
              "#T_ac8f8_row0_col0, #T_ac8f8_row1_col0, #T_ac8f8_row2_col0 {\n",
              "  background-color: #FFFFCC;\n",
              "  text-align: left;\n",
              "}\n",
              "</style>\n",
              "<table id=\"T_ac8f8_\" class=\"dataframe\">\n",
              "  <thead>\n",
              "    <tr>\n",
              "      <th class=\"blank level0\" >&nbsp;</th>\n",
              "      <th class=\"col_heading level0 col0\" >contents</th>\n",
              "    </tr>\n",
              "  </thead>\n",
              "  <tbody>\n",
              "    <tr>\n",
              "      <th id=\"T_ac8f8_level0_row0\" class=\"row_heading level0 row0\" >1</th>\n",
              "      <td id=\"T_ac8f8_row0_col0\" class=\"data row0 col0\" ></td>\n",
              "    </tr>\n",
              "    <tr>\n",
              "      <th id=\"T_ac8f8_level0_row1\" class=\"row_heading level0 row1\" >2</th>\n",
              "      <td id=\"T_ac8f8_row1_col0\" class=\"data row1 col0\" >#1</td>\n",
              "    </tr>\n",
              "    <tr>\n",
              "      <th id=\"T_ac8f8_level0_row2\" class=\"row_heading level0 row2\" >3</th>\n",
              "      <td id=\"T_ac8f8_row2_col0\" class=\"data row2 col0\" >#1</td>\n",
              "    </tr>\n",
              "  </tbody>\n",
              "</table>\n"
            ]
          },
          "metadata": {}
        },
        {
          "output_type": "stream",
          "name": "stdout",
          "text": [
            "Step 14:\n",
            "Execute instruction 26: go backward 25 to instruction 1.\n"
          ]
        },
        {
          "output_type": "display_data",
          "data": {
            "text/plain": [
              "<pandas.io.formats.style.Styler at 0x7fc3623c8810>"
            ],
            "text/html": [
              "<style type=\"text/css\">\n",
              "#T_197c4_row0_col0, #T_197c4_row1_col0, #T_197c4_row2_col0 {\n",
              "  background-color: #FFFFCC;\n",
              "  text-align: left;\n",
              "}\n",
              "</style>\n",
              "<table id=\"T_197c4_\" class=\"dataframe\">\n",
              "  <thead>\n",
              "    <tr>\n",
              "      <th class=\"blank level0\" >&nbsp;</th>\n",
              "      <th class=\"col_heading level0 col0\" >contents</th>\n",
              "    </tr>\n",
              "  </thead>\n",
              "  <tbody>\n",
              "    <tr>\n",
              "      <th id=\"T_197c4_level0_row0\" class=\"row_heading level0 row0\" >1</th>\n",
              "      <td id=\"T_197c4_row0_col0\" class=\"data row0 col0\" ></td>\n",
              "    </tr>\n",
              "    <tr>\n",
              "      <th id=\"T_197c4_level0_row1\" class=\"row_heading level0 row1\" >2</th>\n",
              "      <td id=\"T_197c4_row1_col0\" class=\"data row1 col0\" >#1</td>\n",
              "    </tr>\n",
              "    <tr>\n",
              "      <th id=\"T_197c4_level0_row2\" class=\"row_heading level0 row2\" >3</th>\n",
              "      <td id=\"T_197c4_row2_col0\" class=\"data row2 col0\" >#1</td>\n",
              "    </tr>\n",
              "  </tbody>\n",
              "</table>\n"
            ]
          },
          "metadata": {}
        },
        {
          "output_type": "stream",
          "name": "stdout",
          "text": [
            "Step 15:\n",
            "Execute instruction 1: cases on R1.\n",
            "The register is empty, so we go ahead 1 instruction.\n"
          ]
        },
        {
          "output_type": "display_data",
          "data": {
            "text/plain": [
              "<pandas.io.formats.style.Styler at 0x7fc3623b8f50>"
            ],
            "text/html": [
              "<style type=\"text/css\">\n",
              "#T_1d416_row0_col0, #T_1d416_row1_col0, #T_1d416_row2_col0 {\n",
              "  background-color: #FFFFCC;\n",
              "  text-align: left;\n",
              "}\n",
              "</style>\n",
              "<table id=\"T_1d416_\" class=\"dataframe\">\n",
              "  <thead>\n",
              "    <tr>\n",
              "      <th class=\"blank level0\" >&nbsp;</th>\n",
              "      <th class=\"col_heading level0 col0\" >contents</th>\n",
              "    </tr>\n",
              "  </thead>\n",
              "  <tbody>\n",
              "    <tr>\n",
              "      <th id=\"T_1d416_level0_row0\" class=\"row_heading level0 row0\" >1</th>\n",
              "      <td id=\"T_1d416_row0_col0\" class=\"data row0 col0\" ></td>\n",
              "    </tr>\n",
              "    <tr>\n",
              "      <th id=\"T_1d416_level0_row1\" class=\"row_heading level0 row1\" >2</th>\n",
              "      <td id=\"T_1d416_row1_col0\" class=\"data row1 col0\" >#1</td>\n",
              "    </tr>\n",
              "    <tr>\n",
              "      <th id=\"T_1d416_level0_row2\" class=\"row_heading level0 row2\" >3</th>\n",
              "      <td id=\"T_1d416_row2_col0\" class=\"data row2 col0\" >#1</td>\n",
              "    </tr>\n",
              "  </tbody>\n",
              "</table>\n"
            ]
          },
          "metadata": {}
        },
        {
          "output_type": "stream",
          "name": "stdout",
          "text": [
            "Step 16:\n",
            "Execute instruction 2: go forward 3 to instruction 5.\n"
          ]
        },
        {
          "output_type": "display_data",
          "data": {
            "text/plain": [
              "<pandas.io.formats.style.Styler at 0x7fc3623b8dd0>"
            ],
            "text/html": [
              "<style type=\"text/css\">\n",
              "#T_04e69_row0_col0, #T_04e69_row1_col0, #T_04e69_row2_col0 {\n",
              "  background-color: #FFFFCC;\n",
              "  text-align: left;\n",
              "}\n",
              "</style>\n",
              "<table id=\"T_04e69_\" class=\"dataframe\">\n",
              "  <thead>\n",
              "    <tr>\n",
              "      <th class=\"blank level0\" >&nbsp;</th>\n",
              "      <th class=\"col_heading level0 col0\" >contents</th>\n",
              "    </tr>\n",
              "  </thead>\n",
              "  <tbody>\n",
              "    <tr>\n",
              "      <th id=\"T_04e69_level0_row0\" class=\"row_heading level0 row0\" >1</th>\n",
              "      <td id=\"T_04e69_row0_col0\" class=\"data row0 col0\" ></td>\n",
              "    </tr>\n",
              "    <tr>\n",
              "      <th id=\"T_04e69_level0_row1\" class=\"row_heading level0 row1\" >2</th>\n",
              "      <td id=\"T_04e69_row1_col0\" class=\"data row1 col0\" >#1</td>\n",
              "    </tr>\n",
              "    <tr>\n",
              "      <th id=\"T_04e69_level0_row2\" class=\"row_heading level0 row2\" >3</th>\n",
              "      <td id=\"T_04e69_row2_col0\" class=\"data row2 col0\" >#1</td>\n",
              "    </tr>\n",
              "  </tbody>\n",
              "</table>\n"
            ]
          },
          "metadata": {}
        },
        {
          "output_type": "stream",
          "name": "stdout",
          "text": [
            "Step 17:\n",
            "Execute instruction 5: cases on R2.\n",
            "The first symbol in that register is #, so we delete that symbol and go forward 3 instructions.\n"
          ]
        },
        {
          "output_type": "display_data",
          "data": {
            "text/plain": [
              "<pandas.io.formats.style.Styler at 0x7fc3620cdb50>"
            ],
            "text/html": [
              "<style type=\"text/css\">\n",
              "#T_0b0c9_row0_col0, #T_0b0c9_row1_col0, #T_0b0c9_row2_col0 {\n",
              "  background-color: #FFFFCC;\n",
              "  text-align: left;\n",
              "}\n",
              "</style>\n",
              "<table id=\"T_0b0c9_\" class=\"dataframe\">\n",
              "  <thead>\n",
              "    <tr>\n",
              "      <th class=\"blank level0\" >&nbsp;</th>\n",
              "      <th class=\"col_heading level0 col0\" >contents</th>\n",
              "    </tr>\n",
              "  </thead>\n",
              "  <tbody>\n",
              "    <tr>\n",
              "      <th id=\"T_0b0c9_level0_row0\" class=\"row_heading level0 row0\" >1</th>\n",
              "      <td id=\"T_0b0c9_row0_col0\" class=\"data row0 col0\" ></td>\n",
              "    </tr>\n",
              "    <tr>\n",
              "      <th id=\"T_0b0c9_level0_row1\" class=\"row_heading level0 row1\" >2</th>\n",
              "      <td id=\"T_0b0c9_row1_col0\" class=\"data row1 col0\" >1</td>\n",
              "    </tr>\n",
              "    <tr>\n",
              "      <th id=\"T_0b0c9_level0_row2\" class=\"row_heading level0 row2\" >3</th>\n",
              "      <td id=\"T_0b0c9_row2_col0\" class=\"data row2 col0\" >#1</td>\n",
              "    </tr>\n",
              "  </tbody>\n",
              "</table>\n"
            ]
          },
          "metadata": {}
        },
        {
          "output_type": "stream",
          "name": "stdout",
          "text": [
            "Step 18:\n",
            "Execute instruction 8: go forward 12 to instruction 20.\n"
          ]
        },
        {
          "output_type": "display_data",
          "data": {
            "text/plain": [
              "<pandas.io.formats.style.Styler at 0x7fc36209da10>"
            ],
            "text/html": [
              "<style type=\"text/css\">\n",
              "#T_e6294_row0_col0, #T_e6294_row1_col0, #T_e6294_row2_col0 {\n",
              "  background-color: #FFFFCC;\n",
              "  text-align: left;\n",
              "}\n",
              "</style>\n",
              "<table id=\"T_e6294_\" class=\"dataframe\">\n",
              "  <thead>\n",
              "    <tr>\n",
              "      <th class=\"blank level0\" >&nbsp;</th>\n",
              "      <th class=\"col_heading level0 col0\" >contents</th>\n",
              "    </tr>\n",
              "  </thead>\n",
              "  <tbody>\n",
              "    <tr>\n",
              "      <th id=\"T_e6294_level0_row0\" class=\"row_heading level0 row0\" >1</th>\n",
              "      <td id=\"T_e6294_row0_col0\" class=\"data row0 col0\" ></td>\n",
              "    </tr>\n",
              "    <tr>\n",
              "      <th id=\"T_e6294_level0_row1\" class=\"row_heading level0 row1\" >2</th>\n",
              "      <td id=\"T_e6294_row1_col0\" class=\"data row1 col0\" >1</td>\n",
              "    </tr>\n",
              "    <tr>\n",
              "      <th id=\"T_e6294_level0_row2\" class=\"row_heading level0 row2\" >3</th>\n",
              "      <td id=\"T_e6294_row2_col0\" class=\"data row2 col0\" >#1</td>\n",
              "    </tr>\n",
              "  </tbody>\n",
              "</table>\n"
            ]
          },
          "metadata": {}
        },
        {
          "output_type": "stream",
          "name": "stdout",
          "text": [
            "Step 19:\n",
            "Execute instruction 20: add # to R3.\n"
          ]
        },
        {
          "output_type": "display_data",
          "data": {
            "text/plain": [
              "<pandas.io.formats.style.Styler at 0x7fc362093e50>"
            ],
            "text/html": [
              "<style type=\"text/css\">\n",
              "#T_e5a7a_row0_col0, #T_e5a7a_row1_col0, #T_e5a7a_row2_col0 {\n",
              "  background-color: #FFFFCC;\n",
              "  text-align: left;\n",
              "}\n",
              "</style>\n",
              "<table id=\"T_e5a7a_\" class=\"dataframe\">\n",
              "  <thead>\n",
              "    <tr>\n",
              "      <th class=\"blank level0\" >&nbsp;</th>\n",
              "      <th class=\"col_heading level0 col0\" >contents</th>\n",
              "    </tr>\n",
              "  </thead>\n",
              "  <tbody>\n",
              "    <tr>\n",
              "      <th id=\"T_e5a7a_level0_row0\" class=\"row_heading level0 row0\" >1</th>\n",
              "      <td id=\"T_e5a7a_row0_col0\" class=\"data row0 col0\" ></td>\n",
              "    </tr>\n",
              "    <tr>\n",
              "      <th id=\"T_e5a7a_level0_row1\" class=\"row_heading level0 row1\" >2</th>\n",
              "      <td id=\"T_e5a7a_row1_col0\" class=\"data row1 col0\" >1</td>\n",
              "    </tr>\n",
              "    <tr>\n",
              "      <th id=\"T_e5a7a_level0_row2\" class=\"row_heading level0 row2\" >3</th>\n",
              "      <td id=\"T_e5a7a_row2_col0\" class=\"data row2 col0\" >#1#</td>\n",
              "    </tr>\n",
              "  </tbody>\n",
              "</table>\n"
            ]
          },
          "metadata": {}
        },
        {
          "output_type": "stream",
          "name": "stdout",
          "text": [
            "Step 20:\n",
            "Execute instruction 21: go forward 17 to instruction 38.\n"
          ]
        },
        {
          "output_type": "display_data",
          "data": {
            "text/plain": [
              "<pandas.io.formats.style.Styler at 0x7fc362093e50>"
            ],
            "text/html": [
              "<style type=\"text/css\">\n",
              "#T_1cc29_row0_col0, #T_1cc29_row1_col0, #T_1cc29_row2_col0 {\n",
              "  background-color: #FFFFCC;\n",
              "  text-align: left;\n",
              "}\n",
              "</style>\n",
              "<table id=\"T_1cc29_\" class=\"dataframe\">\n",
              "  <thead>\n",
              "    <tr>\n",
              "      <th class=\"blank level0\" >&nbsp;</th>\n",
              "      <th class=\"col_heading level0 col0\" >contents</th>\n",
              "    </tr>\n",
              "  </thead>\n",
              "  <tbody>\n",
              "    <tr>\n",
              "      <th id=\"T_1cc29_level0_row0\" class=\"row_heading level0 row0\" >1</th>\n",
              "      <td id=\"T_1cc29_row0_col0\" class=\"data row0 col0\" ></td>\n",
              "    </tr>\n",
              "    <tr>\n",
              "      <th id=\"T_1cc29_level0_row1\" class=\"row_heading level0 row1\" >2</th>\n",
              "      <td id=\"T_1cc29_row1_col0\" class=\"data row1 col0\" >1</td>\n",
              "    </tr>\n",
              "    <tr>\n",
              "      <th id=\"T_1cc29_level0_row2\" class=\"row_heading level0 row2\" >3</th>\n",
              "      <td id=\"T_1cc29_row2_col0\" class=\"data row2 col0\" >#1#</td>\n",
              "    </tr>\n",
              "  </tbody>\n",
              "</table>\n"
            ]
          },
          "metadata": {}
        },
        {
          "output_type": "stream",
          "name": "stdout",
          "text": [
            "Step 21:\n",
            "Execute instruction 38: cases on R1.\n",
            "The register is empty, so we go ahead 1 instruction.\n"
          ]
        },
        {
          "output_type": "display_data",
          "data": {
            "text/plain": [
              "<pandas.io.formats.style.Styler at 0x7fc3623a6d10>"
            ],
            "text/html": [
              "<style type=\"text/css\">\n",
              "#T_e0b09_row0_col0, #T_e0b09_row1_col0, #T_e0b09_row2_col0 {\n",
              "  background-color: #FFFFCC;\n",
              "  text-align: left;\n",
              "}\n",
              "</style>\n",
              "<table id=\"T_e0b09_\" class=\"dataframe\">\n",
              "  <thead>\n",
              "    <tr>\n",
              "      <th class=\"blank level0\" >&nbsp;</th>\n",
              "      <th class=\"col_heading level0 col0\" >contents</th>\n",
              "    </tr>\n",
              "  </thead>\n",
              "  <tbody>\n",
              "    <tr>\n",
              "      <th id=\"T_e0b09_level0_row0\" class=\"row_heading level0 row0\" >1</th>\n",
              "      <td id=\"T_e0b09_row0_col0\" class=\"data row0 col0\" ></td>\n",
              "    </tr>\n",
              "    <tr>\n",
              "      <th id=\"T_e0b09_level0_row1\" class=\"row_heading level0 row1\" >2</th>\n",
              "      <td id=\"T_e0b09_row1_col0\" class=\"data row1 col0\" >1</td>\n",
              "    </tr>\n",
              "    <tr>\n",
              "      <th id=\"T_e0b09_level0_row2\" class=\"row_heading level0 row2\" >3</th>\n",
              "      <td id=\"T_e0b09_row2_col0\" class=\"data row2 col0\" >#1#</td>\n",
              "    </tr>\n",
              "  </tbody>\n",
              "</table>\n"
            ]
          },
          "metadata": {}
        },
        {
          "output_type": "stream",
          "name": "stdout",
          "text": [
            "Step 22:\n",
            "Execute instruction 39: go forward 6 to instruction 45.\n"
          ]
        },
        {
          "output_type": "display_data",
          "data": {
            "text/plain": [
              "<pandas.io.formats.style.Styler at 0x7fc3623a6810>"
            ],
            "text/html": [
              "<style type=\"text/css\">\n",
              "#T_f5e73_row0_col0, #T_f5e73_row1_col0, #T_f5e73_row2_col0 {\n",
              "  background-color: #FFFFCC;\n",
              "  text-align: left;\n",
              "}\n",
              "</style>\n",
              "<table id=\"T_f5e73_\" class=\"dataframe\">\n",
              "  <thead>\n",
              "    <tr>\n",
              "      <th class=\"blank level0\" >&nbsp;</th>\n",
              "      <th class=\"col_heading level0 col0\" >contents</th>\n",
              "    </tr>\n",
              "  </thead>\n",
              "  <tbody>\n",
              "    <tr>\n",
              "      <th id=\"T_f5e73_level0_row0\" class=\"row_heading level0 row0\" >1</th>\n",
              "      <td id=\"T_f5e73_row0_col0\" class=\"data row0 col0\" ></td>\n",
              "    </tr>\n",
              "    <tr>\n",
              "      <th id=\"T_f5e73_level0_row1\" class=\"row_heading level0 row1\" >2</th>\n",
              "      <td id=\"T_f5e73_row1_col0\" class=\"data row1 col0\" >1</td>\n",
              "    </tr>\n",
              "    <tr>\n",
              "      <th id=\"T_f5e73_level0_row2\" class=\"row_heading level0 row2\" >3</th>\n",
              "      <td id=\"T_f5e73_row2_col0\" class=\"data row2 col0\" >#1#</td>\n",
              "    </tr>\n",
              "  </tbody>\n",
              "</table>\n"
            ]
          },
          "metadata": {}
        },
        {
          "output_type": "stream",
          "name": "stdout",
          "text": [
            "Step 23:\n",
            "Execute instruction 45: cases on R2.\n",
            "The first symbol in that register is 1, so we delete that symbol and go forward 2 instructions.\n"
          ]
        },
        {
          "output_type": "display_data",
          "data": {
            "text/plain": [
              "<pandas.io.formats.style.Styler at 0x7fc3623a6450>"
            ],
            "text/html": [
              "<style type=\"text/css\">\n",
              "#T_7d518_row0_col0, #T_7d518_row1_col0, #T_7d518_row2_col0 {\n",
              "  background-color: #FFFFCC;\n",
              "  text-align: left;\n",
              "}\n",
              "</style>\n",
              "<table id=\"T_7d518_\" class=\"dataframe\">\n",
              "  <thead>\n",
              "    <tr>\n",
              "      <th class=\"blank level0\" >&nbsp;</th>\n",
              "      <th class=\"col_heading level0 col0\" >contents</th>\n",
              "    </tr>\n",
              "  </thead>\n",
              "  <tbody>\n",
              "    <tr>\n",
              "      <th id=\"T_7d518_level0_row0\" class=\"row_heading level0 row0\" >1</th>\n",
              "      <td id=\"T_7d518_row0_col0\" class=\"data row0 col0\" ></td>\n",
              "    </tr>\n",
              "    <tr>\n",
              "      <th id=\"T_7d518_level0_row1\" class=\"row_heading level0 row1\" >2</th>\n",
              "      <td id=\"T_7d518_row1_col0\" class=\"data row1 col0\" ></td>\n",
              "    </tr>\n",
              "    <tr>\n",
              "      <th id=\"T_7d518_level0_row2\" class=\"row_heading level0 row2\" >3</th>\n",
              "      <td id=\"T_7d518_row2_col0\" class=\"data row2 col0\" >#1#</td>\n",
              "    </tr>\n",
              "  </tbody>\n",
              "</table>\n"
            ]
          },
          "metadata": {}
        },
        {
          "output_type": "stream",
          "name": "stdout",
          "text": [
            "Step 24:\n",
            "Execute instruction 47: go forward 3 to instruction 50.\n"
          ]
        },
        {
          "output_type": "display_data",
          "data": {
            "text/plain": [
              "<pandas.io.formats.style.Styler at 0x7fc3623a6a90>"
            ],
            "text/html": [
              "<style type=\"text/css\">\n",
              "#T_e4c5c_row0_col0, #T_e4c5c_row1_col0, #T_e4c5c_row2_col0 {\n",
              "  background-color: #FFFFCC;\n",
              "  text-align: left;\n",
              "}\n",
              "</style>\n",
              "<table id=\"T_e4c5c_\" class=\"dataframe\">\n",
              "  <thead>\n",
              "    <tr>\n",
              "      <th class=\"blank level0\" >&nbsp;</th>\n",
              "      <th class=\"col_heading level0 col0\" >contents</th>\n",
              "    </tr>\n",
              "  </thead>\n",
              "  <tbody>\n",
              "    <tr>\n",
              "      <th id=\"T_e4c5c_level0_row0\" class=\"row_heading level0 row0\" >1</th>\n",
              "      <td id=\"T_e4c5c_row0_col0\" class=\"data row0 col0\" ></td>\n",
              "    </tr>\n",
              "    <tr>\n",
              "      <th id=\"T_e4c5c_level0_row1\" class=\"row_heading level0 row1\" >2</th>\n",
              "      <td id=\"T_e4c5c_row1_col0\" class=\"data row1 col0\" ></td>\n",
              "    </tr>\n",
              "    <tr>\n",
              "      <th id=\"T_e4c5c_level0_row2\" class=\"row_heading level0 row2\" >3</th>\n",
              "      <td id=\"T_e4c5c_row2_col0\" class=\"data row2 col0\" >#1#</td>\n",
              "    </tr>\n",
              "  </tbody>\n",
              "</table>\n"
            ]
          },
          "metadata": {}
        },
        {
          "output_type": "stream",
          "name": "stdout",
          "text": [
            "Step 25:\n",
            "Execute instruction 50: add 1 to R1.\n"
          ]
        },
        {
          "output_type": "display_data",
          "data": {
            "text/plain": [
              "<pandas.io.formats.style.Styler at 0x7fc3623a62d0>"
            ],
            "text/html": [
              "<style type=\"text/css\">\n",
              "#T_e02c1_row0_col0, #T_e02c1_row1_col0, #T_e02c1_row2_col0 {\n",
              "  background-color: #FFFFCC;\n",
              "  text-align: left;\n",
              "}\n",
              "</style>\n",
              "<table id=\"T_e02c1_\" class=\"dataframe\">\n",
              "  <thead>\n",
              "    <tr>\n",
              "      <th class=\"blank level0\" >&nbsp;</th>\n",
              "      <th class=\"col_heading level0 col0\" >contents</th>\n",
              "    </tr>\n",
              "  </thead>\n",
              "  <tbody>\n",
              "    <tr>\n",
              "      <th id=\"T_e02c1_level0_row0\" class=\"row_heading level0 row0\" >1</th>\n",
              "      <td id=\"T_e02c1_row0_col0\" class=\"data row0 col0\" >1</td>\n",
              "    </tr>\n",
              "    <tr>\n",
              "      <th id=\"T_e02c1_level0_row1\" class=\"row_heading level0 row1\" >2</th>\n",
              "      <td id=\"T_e02c1_row1_col0\" class=\"data row1 col0\" ></td>\n",
              "    </tr>\n",
              "    <tr>\n",
              "      <th id=\"T_e02c1_level0_row2\" class=\"row_heading level0 row2\" >3</th>\n",
              "      <td id=\"T_e02c1_row2_col0\" class=\"data row2 col0\" >#1#</td>\n",
              "    </tr>\n",
              "  </tbody>\n",
              "</table>\n"
            ]
          },
          "metadata": {}
        },
        {
          "output_type": "stream",
          "name": "stdout",
          "text": [
            "Step 26:\n",
            "Execute instruction 51: go backward 6 to instruction 45.\n"
          ]
        },
        {
          "output_type": "display_data",
          "data": {
            "text/plain": [
              "<pandas.io.formats.style.Styler at 0x7fc3623a6a50>"
            ],
            "text/html": [
              "<style type=\"text/css\">\n",
              "#T_021c9_row0_col0, #T_021c9_row1_col0, #T_021c9_row2_col0 {\n",
              "  background-color: #FFFFCC;\n",
              "  text-align: left;\n",
              "}\n",
              "</style>\n",
              "<table id=\"T_021c9_\" class=\"dataframe\">\n",
              "  <thead>\n",
              "    <tr>\n",
              "      <th class=\"blank level0\" >&nbsp;</th>\n",
              "      <th class=\"col_heading level0 col0\" >contents</th>\n",
              "    </tr>\n",
              "  </thead>\n",
              "  <tbody>\n",
              "    <tr>\n",
              "      <th id=\"T_021c9_level0_row0\" class=\"row_heading level0 row0\" >1</th>\n",
              "      <td id=\"T_021c9_row0_col0\" class=\"data row0 col0\" >1</td>\n",
              "    </tr>\n",
              "    <tr>\n",
              "      <th id=\"T_021c9_level0_row1\" class=\"row_heading level0 row1\" >2</th>\n",
              "      <td id=\"T_021c9_row1_col0\" class=\"data row1 col0\" ></td>\n",
              "    </tr>\n",
              "    <tr>\n",
              "      <th id=\"T_021c9_level0_row2\" class=\"row_heading level0 row2\" >3</th>\n",
              "      <td id=\"T_021c9_row2_col0\" class=\"data row2 col0\" >#1#</td>\n",
              "    </tr>\n",
              "  </tbody>\n",
              "</table>\n"
            ]
          },
          "metadata": {}
        },
        {
          "output_type": "stream",
          "name": "stdout",
          "text": [
            "Step 27:\n",
            "Execute instruction 45: cases on R2.\n",
            "The register is empty, so we go ahead 1 instruction.\n"
          ]
        },
        {
          "output_type": "display_data",
          "data": {
            "text/plain": [
              "<pandas.io.formats.style.Styler at 0x7fc3623a62d0>"
            ],
            "text/html": [
              "<style type=\"text/css\">\n",
              "#T_b1763_row0_col0, #T_b1763_row1_col0, #T_b1763_row2_col0 {\n",
              "  background-color: #FFFFCC;\n",
              "  text-align: left;\n",
              "}\n",
              "</style>\n",
              "<table id=\"T_b1763_\" class=\"dataframe\">\n",
              "  <thead>\n",
              "    <tr>\n",
              "      <th class=\"blank level0\" >&nbsp;</th>\n",
              "      <th class=\"col_heading level0 col0\" >contents</th>\n",
              "    </tr>\n",
              "  </thead>\n",
              "  <tbody>\n",
              "    <tr>\n",
              "      <th id=\"T_b1763_level0_row0\" class=\"row_heading level0 row0\" >1</th>\n",
              "      <td id=\"T_b1763_row0_col0\" class=\"data row0 col0\" >1</td>\n",
              "    </tr>\n",
              "    <tr>\n",
              "      <th id=\"T_b1763_level0_row1\" class=\"row_heading level0 row1\" >2</th>\n",
              "      <td id=\"T_b1763_row1_col0\" class=\"data row1 col0\" ></td>\n",
              "    </tr>\n",
              "    <tr>\n",
              "      <th id=\"T_b1763_level0_row2\" class=\"row_heading level0 row2\" >3</th>\n",
              "      <td id=\"T_b1763_row2_col0\" class=\"data row2 col0\" >#1#</td>\n",
              "    </tr>\n",
              "  </tbody>\n",
              "</table>\n"
            ]
          },
          "metadata": {}
        },
        {
          "output_type": "stream",
          "name": "stdout",
          "text": [
            "Step 28:\n",
            "Execute instruction 46: go forward 6 to instruction 52.\n"
          ]
        },
        {
          "output_type": "display_data",
          "data": {
            "text/plain": [
              "<pandas.io.formats.style.Styler at 0x7fc3623c8790>"
            ],
            "text/html": [
              "<style type=\"text/css\">\n",
              "#T_dbb66_row0_col0, #T_dbb66_row1_col0, #T_dbb66_row2_col0 {\n",
              "  background-color: #FFFFCC;\n",
              "  text-align: left;\n",
              "}\n",
              "</style>\n",
              "<table id=\"T_dbb66_\" class=\"dataframe\">\n",
              "  <thead>\n",
              "    <tr>\n",
              "      <th class=\"blank level0\" >&nbsp;</th>\n",
              "      <th class=\"col_heading level0 col0\" >contents</th>\n",
              "    </tr>\n",
              "  </thead>\n",
              "  <tbody>\n",
              "    <tr>\n",
              "      <th id=\"T_dbb66_level0_row0\" class=\"row_heading level0 row0\" >1</th>\n",
              "      <td id=\"T_dbb66_row0_col0\" class=\"data row0 col0\" >1</td>\n",
              "    </tr>\n",
              "    <tr>\n",
              "      <th id=\"T_dbb66_level0_row1\" class=\"row_heading level0 row1\" >2</th>\n",
              "      <td id=\"T_dbb66_row1_col0\" class=\"data row1 col0\" ></td>\n",
              "    </tr>\n",
              "    <tr>\n",
              "      <th id=\"T_dbb66_level0_row2\" class=\"row_heading level0 row2\" >3</th>\n",
              "      <td id=\"T_dbb66_row2_col0\" class=\"data row2 col0\" >#1#</td>\n",
              "    </tr>\n",
              "  </tbody>\n",
              "</table>\n"
            ]
          },
          "metadata": {}
        },
        {
          "output_type": "stream",
          "name": "stdout",
          "text": [
            "Step 29:\n",
            "Execute instruction 52: cases on R2.\n",
            "The register is empty, so we go ahead 1 instruction.\n"
          ]
        },
        {
          "output_type": "display_data",
          "data": {
            "text/plain": [
              "<pandas.io.formats.style.Styler at 0x7fc3623c8a90>"
            ],
            "text/html": [
              "<style type=\"text/css\">\n",
              "#T_ddd4c_row0_col0, #T_ddd4c_row1_col0, #T_ddd4c_row2_col0 {\n",
              "  background-color: #FFFFCC;\n",
              "  text-align: left;\n",
              "}\n",
              "</style>\n",
              "<table id=\"T_ddd4c_\" class=\"dataframe\">\n",
              "  <thead>\n",
              "    <tr>\n",
              "      <th class=\"blank level0\" >&nbsp;</th>\n",
              "      <th class=\"col_heading level0 col0\" >contents</th>\n",
              "    </tr>\n",
              "  </thead>\n",
              "  <tbody>\n",
              "    <tr>\n",
              "      <th id=\"T_ddd4c_level0_row0\" class=\"row_heading level0 row0\" >1</th>\n",
              "      <td id=\"T_ddd4c_row0_col0\" class=\"data row0 col0\" >1</td>\n",
              "    </tr>\n",
              "    <tr>\n",
              "      <th id=\"T_ddd4c_level0_row1\" class=\"row_heading level0 row1\" >2</th>\n",
              "      <td id=\"T_ddd4c_row1_col0\" class=\"data row1 col0\" ></td>\n",
              "    </tr>\n",
              "    <tr>\n",
              "      <th id=\"T_ddd4c_level0_row2\" class=\"row_heading level0 row2\" >3</th>\n",
              "      <td id=\"T_ddd4c_row2_col0\" class=\"data row2 col0\" >#1#</td>\n",
              "    </tr>\n",
              "  </tbody>\n",
              "</table>\n"
            ]
          },
          "metadata": {}
        },
        {
          "output_type": "stream",
          "name": "stdout",
          "text": [
            "Step 30:\n",
            "Execute instruction 53: go forward 6 to instruction 59.\n"
          ]
        },
        {
          "output_type": "display_data",
          "data": {
            "text/plain": [
              "<pandas.io.formats.style.Styler at 0x7fc3623c8d10>"
            ],
            "text/html": [
              "<style type=\"text/css\">\n",
              "#T_14207_row0_col0, #T_14207_row1_col0, #T_14207_row2_col0 {\n",
              "  background-color: #FFFFCC;\n",
              "  text-align: left;\n",
              "}\n",
              "</style>\n",
              "<table id=\"T_14207_\" class=\"dataframe\">\n",
              "  <thead>\n",
              "    <tr>\n",
              "      <th class=\"blank level0\" >&nbsp;</th>\n",
              "      <th class=\"col_heading level0 col0\" >contents</th>\n",
              "    </tr>\n",
              "  </thead>\n",
              "  <tbody>\n",
              "    <tr>\n",
              "      <th id=\"T_14207_level0_row0\" class=\"row_heading level0 row0\" >1</th>\n",
              "      <td id=\"T_14207_row0_col0\" class=\"data row0 col0\" >1</td>\n",
              "    </tr>\n",
              "    <tr>\n",
              "      <th id=\"T_14207_level0_row1\" class=\"row_heading level0 row1\" >2</th>\n",
              "      <td id=\"T_14207_row1_col0\" class=\"data row1 col0\" ></td>\n",
              "    </tr>\n",
              "    <tr>\n",
              "      <th id=\"T_14207_level0_row2\" class=\"row_heading level0 row2\" >3</th>\n",
              "      <td id=\"T_14207_row2_col0\" class=\"data row2 col0\" >#1#</td>\n",
              "    </tr>\n",
              "  </tbody>\n",
              "</table>\n"
            ]
          },
          "metadata": {}
        },
        {
          "output_type": "stream",
          "name": "stdout",
          "text": [
            "Step 31:\n",
            "Execute instruction 59: cases on R3.\n",
            "The first symbol in that register is #, so we delete that symbol and go forward 3 instructions.\n"
          ]
        },
        {
          "output_type": "display_data",
          "data": {
            "text/plain": [
              "<pandas.io.formats.style.Styler at 0x7fc3623f8110>"
            ],
            "text/html": [
              "<style type=\"text/css\">\n",
              "#T_1ef1d_row0_col0, #T_1ef1d_row1_col0, #T_1ef1d_row2_col0 {\n",
              "  background-color: #FFFFCC;\n",
              "  text-align: left;\n",
              "}\n",
              "</style>\n",
              "<table id=\"T_1ef1d_\" class=\"dataframe\">\n",
              "  <thead>\n",
              "    <tr>\n",
              "      <th class=\"blank level0\" >&nbsp;</th>\n",
              "      <th class=\"col_heading level0 col0\" >contents</th>\n",
              "    </tr>\n",
              "  </thead>\n",
              "  <tbody>\n",
              "    <tr>\n",
              "      <th id=\"T_1ef1d_level0_row0\" class=\"row_heading level0 row0\" >1</th>\n",
              "      <td id=\"T_1ef1d_row0_col0\" class=\"data row0 col0\" >1</td>\n",
              "    </tr>\n",
              "    <tr>\n",
              "      <th id=\"T_1ef1d_level0_row1\" class=\"row_heading level0 row1\" >2</th>\n",
              "      <td id=\"T_1ef1d_row1_col0\" class=\"data row1 col0\" ></td>\n",
              "    </tr>\n",
              "    <tr>\n",
              "      <th id=\"T_1ef1d_level0_row2\" class=\"row_heading level0 row2\" >3</th>\n",
              "      <td id=\"T_1ef1d_row2_col0\" class=\"data row2 col0\" >1#</td>\n",
              "    </tr>\n",
              "  </tbody>\n",
              "</table>\n"
            ]
          },
          "metadata": {}
        },
        {
          "output_type": "stream",
          "name": "stdout",
          "text": [
            "Step 32:\n",
            "Execute instruction 62: add # to R2.\n"
          ]
        },
        {
          "output_type": "display_data",
          "data": {
            "text/plain": [
              "<pandas.io.formats.style.Styler at 0x7fc3620cd8d0>"
            ],
            "text/html": [
              "<style type=\"text/css\">\n",
              "#T_d91bc_row0_col0, #T_d91bc_row1_col0, #T_d91bc_row2_col0 {\n",
              "  background-color: #FFFFCC;\n",
              "  text-align: left;\n",
              "}\n",
              "</style>\n",
              "<table id=\"T_d91bc_\" class=\"dataframe\">\n",
              "  <thead>\n",
              "    <tr>\n",
              "      <th class=\"blank level0\" >&nbsp;</th>\n",
              "      <th class=\"col_heading level0 col0\" >contents</th>\n",
              "    </tr>\n",
              "  </thead>\n",
              "  <tbody>\n",
              "    <tr>\n",
              "      <th id=\"T_d91bc_level0_row0\" class=\"row_heading level0 row0\" >1</th>\n",
              "      <td id=\"T_d91bc_row0_col0\" class=\"data row0 col0\" >1</td>\n",
              "    </tr>\n",
              "    <tr>\n",
              "      <th id=\"T_d91bc_level0_row1\" class=\"row_heading level0 row1\" >2</th>\n",
              "      <td id=\"T_d91bc_row1_col0\" class=\"data row1 col0\" >#</td>\n",
              "    </tr>\n",
              "    <tr>\n",
              "      <th id=\"T_d91bc_level0_row2\" class=\"row_heading level0 row2\" >3</th>\n",
              "      <td id=\"T_d91bc_row2_col0\" class=\"data row2 col0\" >1#</td>\n",
              "    </tr>\n",
              "  </tbody>\n",
              "</table>\n"
            ]
          },
          "metadata": {}
        },
        {
          "output_type": "stream",
          "name": "stdout",
          "text": [
            "Step 33:\n",
            "Execute instruction 63: go backward 4 to instruction 59.\n"
          ]
        },
        {
          "output_type": "display_data",
          "data": {
            "text/plain": [
              "<pandas.io.formats.style.Styler at 0x7fc3620cf8d0>"
            ],
            "text/html": [
              "<style type=\"text/css\">\n",
              "#T_932b9_row0_col0, #T_932b9_row1_col0, #T_932b9_row2_col0 {\n",
              "  background-color: #FFFFCC;\n",
              "  text-align: left;\n",
              "}\n",
              "</style>\n",
              "<table id=\"T_932b9_\" class=\"dataframe\">\n",
              "  <thead>\n",
              "    <tr>\n",
              "      <th class=\"blank level0\" >&nbsp;</th>\n",
              "      <th class=\"col_heading level0 col0\" >contents</th>\n",
              "    </tr>\n",
              "  </thead>\n",
              "  <tbody>\n",
              "    <tr>\n",
              "      <th id=\"T_932b9_level0_row0\" class=\"row_heading level0 row0\" >1</th>\n",
              "      <td id=\"T_932b9_row0_col0\" class=\"data row0 col0\" >1</td>\n",
              "    </tr>\n",
              "    <tr>\n",
              "      <th id=\"T_932b9_level0_row1\" class=\"row_heading level0 row1\" >2</th>\n",
              "      <td id=\"T_932b9_row1_col0\" class=\"data row1 col0\" >#</td>\n",
              "    </tr>\n",
              "    <tr>\n",
              "      <th id=\"T_932b9_level0_row2\" class=\"row_heading level0 row2\" >3</th>\n",
              "      <td id=\"T_932b9_row2_col0\" class=\"data row2 col0\" >1#</td>\n",
              "    </tr>\n",
              "  </tbody>\n",
              "</table>\n"
            ]
          },
          "metadata": {}
        },
        {
          "output_type": "stream",
          "name": "stdout",
          "text": [
            "Step 34:\n",
            "Execute instruction 59: cases on R3.\n",
            "The first symbol in that register is 1, so we delete that symbol and go forward 2 instructions.\n"
          ]
        },
        {
          "output_type": "display_data",
          "data": {
            "text/plain": [
              "<pandas.io.formats.style.Styler at 0x7fc3620d5d10>"
            ],
            "text/html": [
              "<style type=\"text/css\">\n",
              "#T_3344c_row0_col0, #T_3344c_row1_col0, #T_3344c_row2_col0 {\n",
              "  background-color: #FFFFCC;\n",
              "  text-align: left;\n",
              "}\n",
              "</style>\n",
              "<table id=\"T_3344c_\" class=\"dataframe\">\n",
              "  <thead>\n",
              "    <tr>\n",
              "      <th class=\"blank level0\" >&nbsp;</th>\n",
              "      <th class=\"col_heading level0 col0\" >contents</th>\n",
              "    </tr>\n",
              "  </thead>\n",
              "  <tbody>\n",
              "    <tr>\n",
              "      <th id=\"T_3344c_level0_row0\" class=\"row_heading level0 row0\" >1</th>\n",
              "      <td id=\"T_3344c_row0_col0\" class=\"data row0 col0\" >1</td>\n",
              "    </tr>\n",
              "    <tr>\n",
              "      <th id=\"T_3344c_level0_row1\" class=\"row_heading level0 row1\" >2</th>\n",
              "      <td id=\"T_3344c_row1_col0\" class=\"data row1 col0\" >#</td>\n",
              "    </tr>\n",
              "    <tr>\n",
              "      <th id=\"T_3344c_level0_row2\" class=\"row_heading level0 row2\" >3</th>\n",
              "      <td id=\"T_3344c_row2_col0\" class=\"data row2 col0\" >#</td>\n",
              "    </tr>\n",
              "  </tbody>\n",
              "</table>\n"
            ]
          },
          "metadata": {}
        },
        {
          "output_type": "stream",
          "name": "stdout",
          "text": [
            "Step 35:\n",
            "Execute instruction 61: go forward 3 to instruction 64.\n"
          ]
        },
        {
          "output_type": "display_data",
          "data": {
            "text/plain": [
              "<pandas.io.formats.style.Styler at 0x7fc3620d7e10>"
            ],
            "text/html": [
              "<style type=\"text/css\">\n",
              "#T_3031a_row0_col0, #T_3031a_row1_col0, #T_3031a_row2_col0 {\n",
              "  background-color: #FFFFCC;\n",
              "  text-align: left;\n",
              "}\n",
              "</style>\n",
              "<table id=\"T_3031a_\" class=\"dataframe\">\n",
              "  <thead>\n",
              "    <tr>\n",
              "      <th class=\"blank level0\" >&nbsp;</th>\n",
              "      <th class=\"col_heading level0 col0\" >contents</th>\n",
              "    </tr>\n",
              "  </thead>\n",
              "  <tbody>\n",
              "    <tr>\n",
              "      <th id=\"T_3031a_level0_row0\" class=\"row_heading level0 row0\" >1</th>\n",
              "      <td id=\"T_3031a_row0_col0\" class=\"data row0 col0\" >1</td>\n",
              "    </tr>\n",
              "    <tr>\n",
              "      <th id=\"T_3031a_level0_row1\" class=\"row_heading level0 row1\" >2</th>\n",
              "      <td id=\"T_3031a_row1_col0\" class=\"data row1 col0\" >#</td>\n",
              "    </tr>\n",
              "    <tr>\n",
              "      <th id=\"T_3031a_level0_row2\" class=\"row_heading level0 row2\" >3</th>\n",
              "      <td id=\"T_3031a_row2_col0\" class=\"data row2 col0\" >#</td>\n",
              "    </tr>\n",
              "  </tbody>\n",
              "</table>\n"
            ]
          },
          "metadata": {}
        },
        {
          "output_type": "stream",
          "name": "stdout",
          "text": [
            "Step 36:\n",
            "Execute instruction 64: add 1 to R2.\n"
          ]
        },
        {
          "output_type": "display_data",
          "data": {
            "text/plain": [
              "<pandas.io.formats.style.Styler at 0x7fc36241f3d0>"
            ],
            "text/html": [
              "<style type=\"text/css\">\n",
              "#T_b1417_row0_col0, #T_b1417_row1_col0, #T_b1417_row2_col0 {\n",
              "  background-color: #FFFFCC;\n",
              "  text-align: left;\n",
              "}\n",
              "</style>\n",
              "<table id=\"T_b1417_\" class=\"dataframe\">\n",
              "  <thead>\n",
              "    <tr>\n",
              "      <th class=\"blank level0\" >&nbsp;</th>\n",
              "      <th class=\"col_heading level0 col0\" >contents</th>\n",
              "    </tr>\n",
              "  </thead>\n",
              "  <tbody>\n",
              "    <tr>\n",
              "      <th id=\"T_b1417_level0_row0\" class=\"row_heading level0 row0\" >1</th>\n",
              "      <td id=\"T_b1417_row0_col0\" class=\"data row0 col0\" >1</td>\n",
              "    </tr>\n",
              "    <tr>\n",
              "      <th id=\"T_b1417_level0_row1\" class=\"row_heading level0 row1\" >2</th>\n",
              "      <td id=\"T_b1417_row1_col0\" class=\"data row1 col0\" >#1</td>\n",
              "    </tr>\n",
              "    <tr>\n",
              "      <th id=\"T_b1417_level0_row2\" class=\"row_heading level0 row2\" >3</th>\n",
              "      <td id=\"T_b1417_row2_col0\" class=\"data row2 col0\" >#</td>\n",
              "    </tr>\n",
              "  </tbody>\n",
              "</table>\n"
            ]
          },
          "metadata": {}
        },
        {
          "output_type": "stream",
          "name": "stdout",
          "text": [
            "Step 37:\n",
            "Execute instruction 65: go backward 6 to instruction 59.\n"
          ]
        },
        {
          "output_type": "display_data",
          "data": {
            "text/plain": [
              "<pandas.io.formats.style.Styler at 0x7fc3624f26d0>"
            ],
            "text/html": [
              "<style type=\"text/css\">\n",
              "#T_abc96_row0_col0, #T_abc96_row1_col0, #T_abc96_row2_col0 {\n",
              "  background-color: #FFFFCC;\n",
              "  text-align: left;\n",
              "}\n",
              "</style>\n",
              "<table id=\"T_abc96_\" class=\"dataframe\">\n",
              "  <thead>\n",
              "    <tr>\n",
              "      <th class=\"blank level0\" >&nbsp;</th>\n",
              "      <th class=\"col_heading level0 col0\" >contents</th>\n",
              "    </tr>\n",
              "  </thead>\n",
              "  <tbody>\n",
              "    <tr>\n",
              "      <th id=\"T_abc96_level0_row0\" class=\"row_heading level0 row0\" >1</th>\n",
              "      <td id=\"T_abc96_row0_col0\" class=\"data row0 col0\" >1</td>\n",
              "    </tr>\n",
              "    <tr>\n",
              "      <th id=\"T_abc96_level0_row1\" class=\"row_heading level0 row1\" >2</th>\n",
              "      <td id=\"T_abc96_row1_col0\" class=\"data row1 col0\" >#1</td>\n",
              "    </tr>\n",
              "    <tr>\n",
              "      <th id=\"T_abc96_level0_row2\" class=\"row_heading level0 row2\" >3</th>\n",
              "      <td id=\"T_abc96_row2_col0\" class=\"data row2 col0\" >#</td>\n",
              "    </tr>\n",
              "  </tbody>\n",
              "</table>\n"
            ]
          },
          "metadata": {}
        },
        {
          "output_type": "stream",
          "name": "stdout",
          "text": [
            "Step 38:\n",
            "Execute instruction 59: cases on R3.\n",
            "The first symbol in that register is #, so we delete that symbol and go forward 3 instructions.\n"
          ]
        },
        {
          "output_type": "display_data",
          "data": {
            "text/plain": [
              "<pandas.io.formats.style.Styler at 0x7fc36241f3d0>"
            ],
            "text/html": [
              "<style type=\"text/css\">\n",
              "#T_36a56_row0_col0, #T_36a56_row1_col0, #T_36a56_row2_col0 {\n",
              "  background-color: #FFFFCC;\n",
              "  text-align: left;\n",
              "}\n",
              "</style>\n",
              "<table id=\"T_36a56_\" class=\"dataframe\">\n",
              "  <thead>\n",
              "    <tr>\n",
              "      <th class=\"blank level0\" >&nbsp;</th>\n",
              "      <th class=\"col_heading level0 col0\" >contents</th>\n",
              "    </tr>\n",
              "  </thead>\n",
              "  <tbody>\n",
              "    <tr>\n",
              "      <th id=\"T_36a56_level0_row0\" class=\"row_heading level0 row0\" >1</th>\n",
              "      <td id=\"T_36a56_row0_col0\" class=\"data row0 col0\" >1</td>\n",
              "    </tr>\n",
              "    <tr>\n",
              "      <th id=\"T_36a56_level0_row1\" class=\"row_heading level0 row1\" >2</th>\n",
              "      <td id=\"T_36a56_row1_col0\" class=\"data row1 col0\" >#1</td>\n",
              "    </tr>\n",
              "    <tr>\n",
              "      <th id=\"T_36a56_level0_row2\" class=\"row_heading level0 row2\" >3</th>\n",
              "      <td id=\"T_36a56_row2_col0\" class=\"data row2 col0\" ></td>\n",
              "    </tr>\n",
              "  </tbody>\n",
              "</table>\n"
            ]
          },
          "metadata": {}
        },
        {
          "output_type": "stream",
          "name": "stdout",
          "text": [
            "Step 39:\n",
            "Execute instruction 62: add # to R2.\n"
          ]
        },
        {
          "output_type": "display_data",
          "data": {
            "text/plain": [
              "<pandas.io.formats.style.Styler at 0x7fc3624e1c10>"
            ],
            "text/html": [
              "<style type=\"text/css\">\n",
              "#T_7c5cb_row0_col0, #T_7c5cb_row1_col0, #T_7c5cb_row2_col0 {\n",
              "  background-color: #FFFFCC;\n",
              "  text-align: left;\n",
              "}\n",
              "</style>\n",
              "<table id=\"T_7c5cb_\" class=\"dataframe\">\n",
              "  <thead>\n",
              "    <tr>\n",
              "      <th class=\"blank level0\" >&nbsp;</th>\n",
              "      <th class=\"col_heading level0 col0\" >contents</th>\n",
              "    </tr>\n",
              "  </thead>\n",
              "  <tbody>\n",
              "    <tr>\n",
              "      <th id=\"T_7c5cb_level0_row0\" class=\"row_heading level0 row0\" >1</th>\n",
              "      <td id=\"T_7c5cb_row0_col0\" class=\"data row0 col0\" >1</td>\n",
              "    </tr>\n",
              "    <tr>\n",
              "      <th id=\"T_7c5cb_level0_row1\" class=\"row_heading level0 row1\" >2</th>\n",
              "      <td id=\"T_7c5cb_row1_col0\" class=\"data row1 col0\" >#1#</td>\n",
              "    </tr>\n",
              "    <tr>\n",
              "      <th id=\"T_7c5cb_level0_row2\" class=\"row_heading level0 row2\" >3</th>\n",
              "      <td id=\"T_7c5cb_row2_col0\" class=\"data row2 col0\" ></td>\n",
              "    </tr>\n",
              "  </tbody>\n",
              "</table>\n"
            ]
          },
          "metadata": {}
        },
        {
          "output_type": "stream",
          "name": "stdout",
          "text": [
            "Step 40:\n",
            "Execute instruction 63: go backward 4 to instruction 59.\n"
          ]
        },
        {
          "output_type": "display_data",
          "data": {
            "text/plain": [
              "<pandas.io.formats.style.Styler at 0x7fc3620a95d0>"
            ],
            "text/html": [
              "<style type=\"text/css\">\n",
              "#T_e0f85_row0_col0, #T_e0f85_row1_col0, #T_e0f85_row2_col0 {\n",
              "  background-color: #FFFFCC;\n",
              "  text-align: left;\n",
              "}\n",
              "</style>\n",
              "<table id=\"T_e0f85_\" class=\"dataframe\">\n",
              "  <thead>\n",
              "    <tr>\n",
              "      <th class=\"blank level0\" >&nbsp;</th>\n",
              "      <th class=\"col_heading level0 col0\" >contents</th>\n",
              "    </tr>\n",
              "  </thead>\n",
              "  <tbody>\n",
              "    <tr>\n",
              "      <th id=\"T_e0f85_level0_row0\" class=\"row_heading level0 row0\" >1</th>\n",
              "      <td id=\"T_e0f85_row0_col0\" class=\"data row0 col0\" >1</td>\n",
              "    </tr>\n",
              "    <tr>\n",
              "      <th id=\"T_e0f85_level0_row1\" class=\"row_heading level0 row1\" >2</th>\n",
              "      <td id=\"T_e0f85_row1_col0\" class=\"data row1 col0\" >#1#</td>\n",
              "    </tr>\n",
              "    <tr>\n",
              "      <th id=\"T_e0f85_level0_row2\" class=\"row_heading level0 row2\" >3</th>\n",
              "      <td id=\"T_e0f85_row2_col0\" class=\"data row2 col0\" ></td>\n",
              "    </tr>\n",
              "  </tbody>\n",
              "</table>\n"
            ]
          },
          "metadata": {}
        },
        {
          "output_type": "stream",
          "name": "stdout",
          "text": [
            "Step 41:\n",
            "Execute instruction 59: cases on R3.\n",
            "The register is empty, so we go ahead 1 instruction.\n"
          ]
        },
        {
          "output_type": "display_data",
          "data": {
            "text/plain": [
              "<pandas.io.formats.style.Styler at 0x7fc3620c3a10>"
            ],
            "text/html": [
              "<style type=\"text/css\">\n",
              "#T_f2083_row0_col0, #T_f2083_row1_col0, #T_f2083_row2_col0 {\n",
              "  background-color: #FFFFCC;\n",
              "  text-align: left;\n",
              "}\n",
              "</style>\n",
              "<table id=\"T_f2083_\" class=\"dataframe\">\n",
              "  <thead>\n",
              "    <tr>\n",
              "      <th class=\"blank level0\" >&nbsp;</th>\n",
              "      <th class=\"col_heading level0 col0\" >contents</th>\n",
              "    </tr>\n",
              "  </thead>\n",
              "  <tbody>\n",
              "    <tr>\n",
              "      <th id=\"T_f2083_level0_row0\" class=\"row_heading level0 row0\" >1</th>\n",
              "      <td id=\"T_f2083_row0_col0\" class=\"data row0 col0\" >1</td>\n",
              "    </tr>\n",
              "    <tr>\n",
              "      <th id=\"T_f2083_level0_row1\" class=\"row_heading level0 row1\" >2</th>\n",
              "      <td id=\"T_f2083_row1_col0\" class=\"data row1 col0\" >#1#</td>\n",
              "    </tr>\n",
              "    <tr>\n",
              "      <th id=\"T_f2083_level0_row2\" class=\"row_heading level0 row2\" >3</th>\n",
              "      <td id=\"T_f2083_row2_col0\" class=\"data row2 col0\" ></td>\n",
              "    </tr>\n",
              "  </tbody>\n",
              "</table>\n"
            ]
          },
          "metadata": {}
        },
        {
          "output_type": "stream",
          "name": "stdout",
          "text": [
            "Step 42:\n",
            "Execute instruction 60: go forward 6 to instruction 66.\n"
          ]
        },
        {
          "output_type": "display_data",
          "data": {
            "text/plain": [
              "<pandas.io.formats.style.Styler at 0x7fc3620c3a10>"
            ],
            "text/html": [
              "<style type=\"text/css\">\n",
              "#T_a28f5_row0_col0, #T_a28f5_row1_col0, #T_a28f5_row2_col0 {\n",
              "  background-color: #FFFFCC;\n",
              "  text-align: left;\n",
              "}\n",
              "</style>\n",
              "<table id=\"T_a28f5_\" class=\"dataframe\">\n",
              "  <thead>\n",
              "    <tr>\n",
              "      <th class=\"blank level0\" >&nbsp;</th>\n",
              "      <th class=\"col_heading level0 col0\" >contents</th>\n",
              "    </tr>\n",
              "  </thead>\n",
              "  <tbody>\n",
              "    <tr>\n",
              "      <th id=\"T_a28f5_level0_row0\" class=\"row_heading level0 row0\" >1</th>\n",
              "      <td id=\"T_a28f5_row0_col0\" class=\"data row0 col0\" >1</td>\n",
              "    </tr>\n",
              "    <tr>\n",
              "      <th id=\"T_a28f5_level0_row1\" class=\"row_heading level0 row1\" >2</th>\n",
              "      <td id=\"T_a28f5_row1_col0\" class=\"data row1 col0\" >#1#</td>\n",
              "    </tr>\n",
              "    <tr>\n",
              "      <th id=\"T_a28f5_level0_row2\" class=\"row_heading level0 row2\" >3</th>\n",
              "      <td id=\"T_a28f5_row2_col0\" class=\"data row2 col0\" ></td>\n",
              "    </tr>\n",
              "  </tbody>\n",
              "</table>\n"
            ]
          },
          "metadata": {}
        },
        {
          "output_type": "stream",
          "name": "stdout",
          "text": [
            "Step 43:\n",
            "Execute instruction 66: add 1 to R2.\n"
          ]
        },
        {
          "output_type": "display_data",
          "data": {
            "text/plain": [
              "<pandas.io.formats.style.Styler at 0x7fc3620a9190>"
            ],
            "text/html": [
              "<style type=\"text/css\">\n",
              "#T_54b0c_row0_col0, #T_54b0c_row1_col0, #T_54b0c_row2_col0 {\n",
              "  background-color: #FFFFCC;\n",
              "  text-align: left;\n",
              "}\n",
              "</style>\n",
              "<table id=\"T_54b0c_\" class=\"dataframe\">\n",
              "  <thead>\n",
              "    <tr>\n",
              "      <th class=\"blank level0\" >&nbsp;</th>\n",
              "      <th class=\"col_heading level0 col0\" >contents</th>\n",
              "    </tr>\n",
              "  </thead>\n",
              "  <tbody>\n",
              "    <tr>\n",
              "      <th id=\"T_54b0c_level0_row0\" class=\"row_heading level0 row0\" >1</th>\n",
              "      <td id=\"T_54b0c_row0_col0\" class=\"data row0 col0\" >1</td>\n",
              "    </tr>\n",
              "    <tr>\n",
              "      <th id=\"T_54b0c_level0_row1\" class=\"row_heading level0 row1\" >2</th>\n",
              "      <td id=\"T_54b0c_row1_col0\" class=\"data row1 col0\" >#1#1</td>\n",
              "    </tr>\n",
              "    <tr>\n",
              "      <th id=\"T_54b0c_level0_row2\" class=\"row_heading level0 row2\" >3</th>\n",
              "      <td id=\"T_54b0c_row2_col0\" class=\"data row2 col0\" ></td>\n",
              "    </tr>\n",
              "  </tbody>\n",
              "</table>\n"
            ]
          },
          "metadata": {}
        },
        {
          "output_type": "stream",
          "name": "stdout",
          "text": [
            "Step 44:\n",
            "Execute instruction 67: go forward 15 to instruction 82.\n",
            "This computation does not halt.\n",
            "Here is the list of registers whose contents are not empty at this point, other than R1:[2].\n",
            "The register contents at the end are shown above.\n"
          ]
        }
      ]
    },
    {
      "cell_type": "code",
      "source": [
        "def cmp(dst, src):\n",
        "  p = ones(dst)+'#####'       # Cases on register ``dst''\n",
        "  p += '11111 1###'           # Go forward six\n",
        "  p += '11111 1111###'        # Go forward nine\n",
        "  p += ones(src)+'#####'      # Cases on register ``src''\n",
        "  p += '11111 11111 1###'     # Go forward eleven\n",
        "  p += '11111 11111###'       # Go forward ten\n",
        "  p += '11111 1####'          # Go backward six\n",
        "  p += ones(src)+'#####'      # Cases on register ``src''\n",
        "  p += '11111 11111 11111###' # Go forward fifteen\n",
        "  p += '11111 1###'           # Go forward six\n",
        "  p += '11111###'             # Go forward five\n",
        "  p += ones(src)+'#####'      # Cases on register ``src''\n",
        "  p += '111###'               # Go forward three\n",
        "  p += '11111 11111 111####'  # Go backward thirteen\n",
        "  p += '1###'                 # Go forward one; no op\n",
        "  p += ones(dst)+'#####'      # Cases on register ``dst''\n",
        "  p += '111###'               # Go forward three\n",
        "  p += '11####'               # Go backward two\n",
        "  p += '111####'              # Go backward three\n",
        "  p += ones(src)+'#####'      # Cases on register ``src''\n",
        "  p += '1111###'              # Go forward four\n",
        "  p += '11####'               # Go backward two\n",
        "  p += '111####'              # Go backward three\n",
        "  p += ones(dst)+'#'          # Append ``1'' to register ``dst''\n",
        "  return p"
      ],
      "metadata": {
        "id": "nIUEvjrqqjb_"
      },
      "execution_count": 35,
      "outputs": []
    },
    {
      "cell_type": "code",
      "source": [
        "step_by_step(clear_prog(3),['','1','#'])"
      ],
      "metadata": {
        "colab": {
          "base_uri": "https://localhost:8080/",
          "height": 1000
        },
        "id": "t7zqzqU5rzkp",
        "outputId": "0ed896ef-0fa1-4ad3-c12c-fac15e24496d"
      },
      "execution_count": 16,
      "outputs": [
        {
          "output_type": "stream",
          "name": "stdout",
          "text": [
            "First, here is the program:\n"
          ]
        },
        {
          "output_type": "display_data",
          "data": {
            "text/plain": [
              "<pandas.io.formats.style.Styler at 0x7f26a0bad410>"
            ],
            "text/html": [
              "<style type=\"text/css\">\n",
              "#T_4af48_row0_col0, #T_4af48_row0_col1, #T_4af48_row1_col0, #T_4af48_row1_col1, #T_4af48_row2_col0, #T_4af48_row2_col1, #T_4af48_row3_col0, #T_4af48_row3_col1 {\n",
              "  background-color: #C9DFEC;\n",
              "  text-align: left;\n",
              "}\n",
              "</style>\n",
              "<table id=\"T_4af48_\" class=\"dataframe\">\n",
              "  <thead>\n",
              "    <tr>\n",
              "      <th class=\"blank level0\" >&nbsp;</th>\n",
              "      <th class=\"col_heading level0 col0\" >instruction</th>\n",
              "      <th class=\"col_heading level0 col1\" >explanation</th>\n",
              "    </tr>\n",
              "  </thead>\n",
              "  <tbody>\n",
              "    <tr>\n",
              "      <th id=\"T_4af48_level0_row0\" class=\"row_heading level0 row0\" >1</th>\n",
              "      <td id=\"T_4af48_row0_col0\" class=\"data row0 col0\" >111#####</td>\n",
              "      <td id=\"T_4af48_row0_col1\" class=\"data row0 col1\" >cases on R3</td>\n",
              "    </tr>\n",
              "    <tr>\n",
              "      <th id=\"T_4af48_level0_row1\" class=\"row_heading level0 row1\" >2</th>\n",
              "      <td id=\"T_4af48_row1_col0\" class=\"data row1 col0\" >111###</td>\n",
              "      <td id=\"T_4af48_row1_col1\" class=\"data row1 col1\" >go forward 3 to instruction 5</td>\n",
              "    </tr>\n",
              "    <tr>\n",
              "      <th id=\"T_4af48_level0_row2\" class=\"row_heading level0 row2\" >3</th>\n",
              "      <td id=\"T_4af48_row2_col0\" class=\"data row2 col0\" >1###</td>\n",
              "      <td id=\"T_4af48_row2_col1\" class=\"data row2 col1\" >go forward 1 to instruction 4</td>\n",
              "    </tr>\n",
              "    <tr>\n",
              "      <th id=\"T_4af48_level0_row3\" class=\"row_heading level0 row3\" >4</th>\n",
              "      <td id=\"T_4af48_row3_col0\" class=\"data row3 col0\" >111####</td>\n",
              "      <td id=\"T_4af48_row3_col1\" class=\"data row3 col1\" >go backward 3 to instruction 1</td>\n",
              "    </tr>\n",
              "  </tbody>\n",
              "</table>\n"
            ]
          },
          "metadata": {}
        },
        {
          "output_type": "stream",
          "name": "stdout",
          "text": [
            "\n",
            "The computation starts with the register contents shown below.\n",
            "The registers include those those which you entered as part of the input\n",
            "and also others mentioned in the input program.\n"
          ]
        },
        {
          "output_type": "display_data",
          "data": {
            "text/plain": [
              "<pandas.io.formats.style.Styler at 0x7f26a0bb1550>"
            ],
            "text/html": [
              "<style type=\"text/css\">\n",
              "#T_871f0_row0_col0, #T_871f0_row1_col0, #T_871f0_row2_col0 {\n",
              "  background-color: #FFFFCC;\n",
              "  text-align: left;\n",
              "}\n",
              "</style>\n",
              "<table id=\"T_871f0_\" class=\"dataframe\">\n",
              "  <thead>\n",
              "    <tr>\n",
              "      <th class=\"blank level0\" >&nbsp;</th>\n",
              "      <th class=\"col_heading level0 col0\" >contents</th>\n",
              "    </tr>\n",
              "  </thead>\n",
              "  <tbody>\n",
              "    <tr>\n",
              "      <th id=\"T_871f0_level0_row0\" class=\"row_heading level0 row0\" >1</th>\n",
              "      <td id=\"T_871f0_row0_col0\" class=\"data row0 col0\" ></td>\n",
              "    </tr>\n",
              "    <tr>\n",
              "      <th id=\"T_871f0_level0_row1\" class=\"row_heading level0 row1\" >2</th>\n",
              "      <td id=\"T_871f0_row1_col0\" class=\"data row1 col0\" >1</td>\n",
              "    </tr>\n",
              "    <tr>\n",
              "      <th id=\"T_871f0_level0_row2\" class=\"row_heading level0 row2\" >3</th>\n",
              "      <td id=\"T_871f0_row2_col0\" class=\"data row2 col0\" >#</td>\n",
              "    </tr>\n",
              "  </tbody>\n",
              "</table>\n"
            ]
          },
          "metadata": {}
        },
        {
          "output_type": "stream",
          "name": "stdout",
          "text": [
            "\n",
            "Step 1:\n",
            "Execute instruction 1: cases on R3.\n",
            "The first symbol in that register is #, so we delete that symbol and go forward 3 instructions.\n"
          ]
        },
        {
          "output_type": "display_data",
          "data": {
            "text/plain": [
              "<pandas.io.formats.style.Styler at 0x7f26a0bb1810>"
            ],
            "text/html": [
              "<style type=\"text/css\">\n",
              "#T_d92af_row0_col0, #T_d92af_row1_col0, #T_d92af_row2_col0 {\n",
              "  background-color: #FFFFCC;\n",
              "  text-align: left;\n",
              "}\n",
              "</style>\n",
              "<table id=\"T_d92af_\" class=\"dataframe\">\n",
              "  <thead>\n",
              "    <tr>\n",
              "      <th class=\"blank level0\" >&nbsp;</th>\n",
              "      <th class=\"col_heading level0 col0\" >contents</th>\n",
              "    </tr>\n",
              "  </thead>\n",
              "  <tbody>\n",
              "    <tr>\n",
              "      <th id=\"T_d92af_level0_row0\" class=\"row_heading level0 row0\" >1</th>\n",
              "      <td id=\"T_d92af_row0_col0\" class=\"data row0 col0\" ></td>\n",
              "    </tr>\n",
              "    <tr>\n",
              "      <th id=\"T_d92af_level0_row1\" class=\"row_heading level0 row1\" >2</th>\n",
              "      <td id=\"T_d92af_row1_col0\" class=\"data row1 col0\" >1</td>\n",
              "    </tr>\n",
              "    <tr>\n",
              "      <th id=\"T_d92af_level0_row2\" class=\"row_heading level0 row2\" >3</th>\n",
              "      <td id=\"T_d92af_row2_col0\" class=\"data row2 col0\" ></td>\n",
              "    </tr>\n",
              "  </tbody>\n",
              "</table>\n"
            ]
          },
          "metadata": {}
        },
        {
          "output_type": "stream",
          "name": "stdout",
          "text": [
            "Step 2:\n",
            "Execute instruction 4: go backward 3 to instruction 1.\n"
          ]
        },
        {
          "output_type": "display_data",
          "data": {
            "text/plain": [
              "<pandas.io.formats.style.Styler at 0x7f26a0bb1550>"
            ],
            "text/html": [
              "<style type=\"text/css\">\n",
              "#T_62979_row0_col0, #T_62979_row1_col0, #T_62979_row2_col0 {\n",
              "  background-color: #FFFFCC;\n",
              "  text-align: left;\n",
              "}\n",
              "</style>\n",
              "<table id=\"T_62979_\" class=\"dataframe\">\n",
              "  <thead>\n",
              "    <tr>\n",
              "      <th class=\"blank level0\" >&nbsp;</th>\n",
              "      <th class=\"col_heading level0 col0\" >contents</th>\n",
              "    </tr>\n",
              "  </thead>\n",
              "  <tbody>\n",
              "    <tr>\n",
              "      <th id=\"T_62979_level0_row0\" class=\"row_heading level0 row0\" >1</th>\n",
              "      <td id=\"T_62979_row0_col0\" class=\"data row0 col0\" ></td>\n",
              "    </tr>\n",
              "    <tr>\n",
              "      <th id=\"T_62979_level0_row1\" class=\"row_heading level0 row1\" >2</th>\n",
              "      <td id=\"T_62979_row1_col0\" class=\"data row1 col0\" >1</td>\n",
              "    </tr>\n",
              "    <tr>\n",
              "      <th id=\"T_62979_level0_row2\" class=\"row_heading level0 row2\" >3</th>\n",
              "      <td id=\"T_62979_row2_col0\" class=\"data row2 col0\" ></td>\n",
              "    </tr>\n",
              "  </tbody>\n",
              "</table>\n"
            ]
          },
          "metadata": {}
        },
        {
          "output_type": "stream",
          "name": "stdout",
          "text": [
            "Step 3:\n",
            "Execute instruction 1: cases on R3.\n",
            "The register is empty, so we go ahead 1 instruction.\n"
          ]
        },
        {
          "output_type": "display_data",
          "data": {
            "text/plain": [
              "<pandas.io.formats.style.Styler at 0x7f26a171ff50>"
            ],
            "text/html": [
              "<style type=\"text/css\">\n",
              "#T_b39ac_row0_col0, #T_b39ac_row1_col0, #T_b39ac_row2_col0 {\n",
              "  background-color: #FFFFCC;\n",
              "  text-align: left;\n",
              "}\n",
              "</style>\n",
              "<table id=\"T_b39ac_\" class=\"dataframe\">\n",
              "  <thead>\n",
              "    <tr>\n",
              "      <th class=\"blank level0\" >&nbsp;</th>\n",
              "      <th class=\"col_heading level0 col0\" >contents</th>\n",
              "    </tr>\n",
              "  </thead>\n",
              "  <tbody>\n",
              "    <tr>\n",
              "      <th id=\"T_b39ac_level0_row0\" class=\"row_heading level0 row0\" >1</th>\n",
              "      <td id=\"T_b39ac_row0_col0\" class=\"data row0 col0\" ></td>\n",
              "    </tr>\n",
              "    <tr>\n",
              "      <th id=\"T_b39ac_level0_row1\" class=\"row_heading level0 row1\" >2</th>\n",
              "      <td id=\"T_b39ac_row1_col0\" class=\"data row1 col0\" >1</td>\n",
              "    </tr>\n",
              "    <tr>\n",
              "      <th id=\"T_b39ac_level0_row2\" class=\"row_heading level0 row2\" >3</th>\n",
              "      <td id=\"T_b39ac_row2_col0\" class=\"data row2 col0\" ></td>\n",
              "    </tr>\n",
              "  </tbody>\n",
              "</table>\n"
            ]
          },
          "metadata": {}
        },
        {
          "output_type": "stream",
          "name": "stdout",
          "text": [
            "Step 4:\n",
            "Execute instruction 2: go forward 3 to instruction 5.\n",
            "This computation does not halt.\n",
            "Here is the list of registers whose contents are not empty at this point, other than R1:[2].\n",
            "The register contents at the end are shown above.\n"
          ]
        }
      ]
    },
    {
      "cell_type": "code",
      "source": [
        "\n",
        "comparison = '1##### 111111### 111111111### 11##### 1111111111 1### 1111111111### 111111#### 11##### 1111111111 11111### 111111### 11111### 11##### 111### 1111111111 111#### 1### 1##### 111### 11#### 111#### 11##### 1111### 11#### 111#### 1#'\n",
        "comparison.replace(\" \",\"\")"
      ],
      "metadata": {
        "colab": {
          "base_uri": "https://localhost:8080/",
          "height": 53
        },
        "id": "TuG06Hdnr3ho",
        "outputId": "eda5f74d-0af0-40de-c9f6-7ef1520350c9"
      },
      "execution_count": 69,
      "outputs": [
        {
          "output_type": "execute_result",
          "data": {
            "text/plain": [
              "'1#####111111###111111111###11#####11111111111###1111111111###111111####11#####111111111111111###111111###11111###11#####111###1111111111111####1###1#####111###11####111####11#####1111###11####111####1#'"
            ],
            "application/vnd.google.colaboratory.intrinsic+json": {
              "type": "string"
            }
          },
          "metadata": {},
          "execution_count": 69
        }
      ]
    },
    {
      "cell_type": "code",
      "source": [
        "onesharp(comparison,['11','11'])\n",
        "weird = bump(comparison,4)\n",
        "parse_explain(weird)"
      ],
      "metadata": {
        "colab": {
          "base_uri": "https://localhost:8080/",
          "height": 101
        },
        "id": "rk0Zy9sUt44a",
        "outputId": "61e1c5e5-cfe5-4d8d-9fbc-586b10e86cc5"
      },
      "execution_count": 72,
      "outputs": [
        {
          "output_type": "display_data",
          "data": {
            "text/plain": [
              "<pandas.io.formats.style.Styler at 0x7fc361fb0ad0>"
            ],
            "text/html": [
              "<style type=\"text/css\">\n",
              "#T_b7a4e_row0_col0, #T_b7a4e_row0_col1 {\n",
              "  background-color: #C9DFEC;\n",
              "  text-align: left;\n",
              "}\n",
              "</style>\n",
              "<table id=\"T_b7a4e_\" class=\"dataframe\">\n",
              "  <thead>\n",
              "    <tr>\n",
              "      <th class=\"blank level0\" >&nbsp;</th>\n",
              "      <th class=\"col_heading level0 col0\" >instruction</th>\n",
              "      <th class=\"col_heading level0 col1\" >explanation</th>\n",
              "    </tr>\n",
              "  </thead>\n",
              "  <tbody>\n",
              "    <tr>\n",
              "      <th id=\"T_b7a4e_level0_row0\" class=\"row_heading level0 row0\" >1</th>\n",
              "      <td id=\"T_b7a4e_row0_col0\" class=\"data row0 col0\" >11111111111111111111111111111111111111111111111111111111111111111111111111111111111111111111111111111111111111111111111111111111111111111111111111111111111111111111111111111111111111111111111111111111111111111111111111111111111111#</td>\n",
              "      <td id=\"T_b7a4e_row0_col1\" class=\"data row0 col1\" >add 1 to R230</td>\n",
              "    </tr>\n",
              "  </tbody>\n",
              "</table>\n"
            ]
          },
          "metadata": {}
        }
      ]
    },
    {
      "cell_type": "code",
      "source": [
        "comparison.replace(\" \",\"\")\n",
        "def comparison_prog(a,b): #uses a+1, a+2, a+3\n",
        "  p = copy_prog(a,a+1,a+2) + copy_prog(b,a+2,a+3) +  bump(ddd,a) \n",
        "  return(p)"
      ],
      "metadata": {
        "id": "Y8ay4_Kot7tX"
      },
      "execution_count": 79,
      "outputs": []
    },
    {
      "cell_type": "code",
      "source": [
        "onesharp(comparison_prog(4,2),[\"1\",'####',\"\",\"#1##\"])"
      ],
      "metadata": {
        "colab": {
          "base_uri": "https://localhost:8080/",
          "height": 305
        },
        "id": "W8WvcIMwuj1q",
        "outputId": "9955bcd0-36df-44cf-bd64-6f6673146083"
      },
      "execution_count": 86,
      "outputs": [
        {
          "output_type": "stream",
          "name": "stdout",
          "text": [
            "This is undefined.\n",
            "The register contents at the end are shown below.\n"
          ]
        },
        {
          "output_type": "display_data",
          "data": {
            "text/plain": [
              "<pandas.io.formats.style.Styler at 0x7fc361f99410>"
            ],
            "text/html": [
              "<style type=\"text/css\">\n",
              "#T_e1f1d_row0_col0, #T_e1f1d_row1_col0, #T_e1f1d_row2_col0, #T_e1f1d_row3_col0, #T_e1f1d_row4_col0, #T_e1f1d_row5_col0, #T_e1f1d_row6_col0 {\n",
              "  background-color: #FFFFCC;\n",
              "  text-align: left;\n",
              "}\n",
              "</style>\n",
              "<table id=\"T_e1f1d_\" class=\"dataframe\">\n",
              "  <thead>\n",
              "    <tr>\n",
              "      <th class=\"blank level0\" >&nbsp;</th>\n",
              "      <th class=\"col_heading level0 col0\" >contents</th>\n",
              "    </tr>\n",
              "  </thead>\n",
              "  <tbody>\n",
              "    <tr>\n",
              "      <th id=\"T_e1f1d_level0_row0\" class=\"row_heading level0 row0\" >1</th>\n",
              "      <td id=\"T_e1f1d_row0_col0\" class=\"data row0 col0\" >1</td>\n",
              "    </tr>\n",
              "    <tr>\n",
              "      <th id=\"T_e1f1d_level0_row1\" class=\"row_heading level0 row1\" >2</th>\n",
              "      <td id=\"T_e1f1d_row1_col0\" class=\"data row1 col0\" >####</td>\n",
              "    </tr>\n",
              "    <tr>\n",
              "      <th id=\"T_e1f1d_level0_row2\" class=\"row_heading level0 row2\" >3</th>\n",
              "      <td id=\"T_e1f1d_row2_col0\" class=\"data row2 col0\" ></td>\n",
              "    </tr>\n",
              "    <tr>\n",
              "      <th id=\"T_e1f1d_level0_row3\" class=\"row_heading level0 row3\" >4</th>\n",
              "      <td id=\"T_e1f1d_row3_col0\" class=\"data row3 col0\" >#1##</td>\n",
              "    </tr>\n",
              "    <tr>\n",
              "      <th id=\"T_e1f1d_level0_row4\" class=\"row_heading level0 row4\" >5</th>\n",
              "      <td id=\"T_e1f1d_row4_col0\" class=\"data row4 col0\" ></td>\n",
              "    </tr>\n",
              "    <tr>\n",
              "      <th id=\"T_e1f1d_level0_row5\" class=\"row_heading level0 row5\" >6</th>\n",
              "      <td id=\"T_e1f1d_row5_col0\" class=\"data row5 col0\" ></td>\n",
              "    </tr>\n",
              "    <tr>\n",
              "      <th id=\"T_e1f1d_level0_row6\" class=\"row_heading level0 row6\" >7</th>\n",
              "      <td id=\"T_e1f1d_row6_col0\" class=\"data row6 col0\" ></td>\n",
              "    </tr>\n",
              "  </tbody>\n",
              "</table>\n"
            ]
          },
          "metadata": {}
        }
      ]
    },
    {
      "cell_type": "code",
      "source": [
        "parse_explain(bump)"
      ],
      "metadata": {
        "id": "2u3jQlCQuw9e"
      },
      "execution_count": null,
      "outputs": []
    },
    {
      "cell_type": "code",
      "source": [
        "ddd = comparison.replace(\" \",\"\")"
      ],
      "metadata": {
        "id": "_19GRKGNveeF"
      },
      "execution_count": 76,
      "outputs": []
    },
    {
      "cell_type": "code",
      "source": [
        "comparison"
      ],
      "metadata": {
        "colab": {
          "base_uri": "https://localhost:8080/",
          "height": 53
        },
        "id": "jJzyijuVv6kW",
        "outputId": "dc3e3772-28d5-4103-83ee-27d104614fc8"
      },
      "execution_count": 64,
      "outputs": [
        {
          "output_type": "execute_result",
          "data": {
            "text/plain": [
              "'1##### 111111### 111111111### 11##### 1111111111 1### 1111111111### 111111#### 11##### 1111111111 11111### 111111### 11111### 11##### 111### 1111111111 111#### 1### 1##### 111### 11#### 111#### 11##### 1111### 11#### 111#### 1#'"
            ],
            "application/vnd.google.colaboratory.intrinsic+json": {
              "type": "string"
            }
          },
          "metadata": {},
          "execution_count": 64
        }
      ]
    },
    {
      "cell_type": "code",
      "source": [
        "clear_1"
      ],
      "metadata": {
        "colab": {
          "base_uri": "https://localhost:8080/",
          "height": 35
        },
        "id": "OYZml2PuwEQD",
        "outputId": "e56efe68-6d67-4f2d-afdd-a59d7adb37a6"
      },
      "execution_count": 73,
      "outputs": [
        {
          "output_type": "execute_result",
          "data": {
            "text/plain": [
              "'1#####111###11####111####'"
            ],
            "application/vnd.google.colaboratory.intrinsic+json": {
              "type": "string"
            }
          },
          "metadata": {},
          "execution_count": 73
        }
      ]
    },
    {
      "cell_type": "code",
      "source": [
        "bump(ddd,4)"
      ],
      "metadata": {
        "colab": {
          "base_uri": "https://localhost:8080/",
          "height": 53
        },
        "id": "LQ1oWSk90xVL",
        "outputId": "7f8987d2-2868-41fe-baae-e5d8c9d36b9d"
      },
      "execution_count": 78,
      "outputs": [
        {
          "output_type": "execute_result",
          "data": {
            "text/plain": [
              "'11111#####111111###111111111###111111#####11111111111###1111111111###111111####111111#####111111111111111###111111###11111###111111#####111###1111111111111####1###11111#####111###11####111####111111#####1111###11####111####11111#'"
            ],
            "application/vnd.google.colaboratory.intrinsic+json": {
              "type": "string"
            }
          },
          "metadata": {},
          "execution_count": 78
        }
      ]
    },
    {
      "cell_type": "code",
      "source": [
        "ddd"
      ],
      "metadata": {
        "colab": {
          "base_uri": "https://localhost:8080/",
          "height": 53
        },
        "id": "ZtcjAIE00yTn",
        "outputId": "b8a803bf-daf0-44bd-d3c5-0d4a1021339b"
      },
      "execution_count": 77,
      "outputs": [
        {
          "output_type": "execute_result",
          "data": {
            "text/plain": [
              "'1#####111111###111111111###11#####11111111111###1111111111###111111####11#####111111111111111###111111###11111###11#####111###1111111111111####1###1#####111###11####111####11#####1111###11####111####1#'"
            ],
            "application/vnd.google.colaboratory.intrinsic+json": {
              "type": "string"
            }
          },
          "metadata": {},
          "execution_count": 77
        }
      ]
    },
    {
      "cell_type": "code",
      "source": [
        "onesharp(compare_prog(4,2),['1','#','#','1'])"
      ],
      "metadata": {
        "colab": {
          "base_uri": "https://localhost:8080/",
          "height": 305
        },
        "id": "juz1rl9z0zsF",
        "outputId": "955e9b4c-8cd0-4984-ed8a-d86e2c603885"
      },
      "execution_count": 92,
      "outputs": [
        {
          "output_type": "stream",
          "name": "stdout",
          "text": [
            "This is undefined.\n",
            "The register contents at the end are shown below.\n"
          ]
        },
        {
          "output_type": "display_data",
          "data": {
            "text/plain": [
              "<pandas.io.formats.style.Styler at 0x7fc3620d70d0>"
            ],
            "text/html": [
              "<style type=\"text/css\">\n",
              "#T_5f2c9_row0_col0, #T_5f2c9_row1_col0, #T_5f2c9_row2_col0, #T_5f2c9_row3_col0, #T_5f2c9_row4_col0, #T_5f2c9_row5_col0, #T_5f2c9_row6_col0 {\n",
              "  background-color: #FFFFCC;\n",
              "  text-align: left;\n",
              "}\n",
              "</style>\n",
              "<table id=\"T_5f2c9_\" class=\"dataframe\">\n",
              "  <thead>\n",
              "    <tr>\n",
              "      <th class=\"blank level0\" >&nbsp;</th>\n",
              "      <th class=\"col_heading level0 col0\" >contents</th>\n",
              "    </tr>\n",
              "  </thead>\n",
              "  <tbody>\n",
              "    <tr>\n",
              "      <th id=\"T_5f2c9_level0_row0\" class=\"row_heading level0 row0\" >1</th>\n",
              "      <td id=\"T_5f2c9_row0_col0\" class=\"data row0 col0\" >1</td>\n",
              "    </tr>\n",
              "    <tr>\n",
              "      <th id=\"T_5f2c9_level0_row1\" class=\"row_heading level0 row1\" >2</th>\n",
              "      <td id=\"T_5f2c9_row1_col0\" class=\"data row1 col0\" >#</td>\n",
              "    </tr>\n",
              "    <tr>\n",
              "      <th id=\"T_5f2c9_level0_row2\" class=\"row_heading level0 row2\" >3</th>\n",
              "      <td id=\"T_5f2c9_row2_col0\" class=\"data row2 col0\" >#</td>\n",
              "    </tr>\n",
              "    <tr>\n",
              "      <th id=\"T_5f2c9_level0_row3\" class=\"row_heading level0 row3\" >4</th>\n",
              "      <td id=\"T_5f2c9_row3_col0\" class=\"data row3 col0\" >1</td>\n",
              "    </tr>\n",
              "    <tr>\n",
              "      <th id=\"T_5f2c9_level0_row4\" class=\"row_heading level0 row4\" >5</th>\n",
              "      <td id=\"T_5f2c9_row4_col0\" class=\"data row4 col0\" ></td>\n",
              "    </tr>\n",
              "    <tr>\n",
              "      <th id=\"T_5f2c9_level0_row5\" class=\"row_heading level0 row5\" >6</th>\n",
              "      <td id=\"T_5f2c9_row5_col0\" class=\"data row5 col0\" ></td>\n",
              "    </tr>\n",
              "    <tr>\n",
              "      <th id=\"T_5f2c9_level0_row6\" class=\"row_heading level0 row6\" >7</th>\n",
              "      <td id=\"T_5f2c9_row6_col0\" class=\"data row6 col0\" ></td>\n",
              "    </tr>\n",
              "  </tbody>\n",
              "</table>\n"
            ]
          },
          "metadata": {}
        }
      ]
    },
    {
      "cell_type": "code",
      "source": [
        "onesharp(compare_prog(3,1),['1##1','1#','1##1',\"\",\"\"])"
      ],
      "metadata": {
        "colab": {
          "base_uri": "https://localhost:8080/",
          "height": 273
        },
        "id": "JrwPmyez2yyJ",
        "outputId": "d4e17d6a-b859-4bc8-d25e-2283e212f586"
      },
      "execution_count": 8,
      "outputs": [
        {
          "output_type": "stream",
          "name": "stdout",
          "text": [
            "This is undefined.\n",
            "The register contents at the end are shown below.\n"
          ]
        },
        {
          "output_type": "display_data",
          "data": {
            "text/plain": [
              "<pandas.io.formats.style.Styler at 0x7f26a7bb1210>"
            ],
            "text/html": [
              "<style type=\"text/css\">\n",
              "#T_10897_row0_col0, #T_10897_row1_col0, #T_10897_row2_col0, #T_10897_row3_col0, #T_10897_row4_col0, #T_10897_row5_col0 {\n",
              "  background-color: #FFFFCC;\n",
              "  text-align: left;\n",
              "}\n",
              "</style>\n",
              "<table id=\"T_10897_\" class=\"dataframe\">\n",
              "  <thead>\n",
              "    <tr>\n",
              "      <th class=\"blank level0\" >&nbsp;</th>\n",
              "      <th class=\"col_heading level0 col0\" >contents</th>\n",
              "    </tr>\n",
              "  </thead>\n",
              "  <tbody>\n",
              "    <tr>\n",
              "      <th id=\"T_10897_level0_row0\" class=\"row_heading level0 row0\" >1</th>\n",
              "      <td id=\"T_10897_row0_col0\" class=\"data row0 col0\" >1##1</td>\n",
              "    </tr>\n",
              "    <tr>\n",
              "      <th id=\"T_10897_level0_row1\" class=\"row_heading level0 row1\" >2</th>\n",
              "      <td id=\"T_10897_row1_col0\" class=\"data row1 col0\" >1#</td>\n",
              "    </tr>\n",
              "    <tr>\n",
              "      <th id=\"T_10897_level0_row2\" class=\"row_heading level0 row2\" >3</th>\n",
              "      <td id=\"T_10897_row2_col0\" class=\"data row2 col0\" >1##1</td>\n",
              "    </tr>\n",
              "    <tr>\n",
              "      <th id=\"T_10897_level0_row3\" class=\"row_heading level0 row3\" >4</th>\n",
              "      <td id=\"T_10897_row3_col0\" class=\"data row3 col0\" >1</td>\n",
              "    </tr>\n",
              "    <tr>\n",
              "      <th id=\"T_10897_level0_row4\" class=\"row_heading level0 row4\" >5</th>\n",
              "      <td id=\"T_10897_row4_col0\" class=\"data row4 col0\" ></td>\n",
              "    </tr>\n",
              "    <tr>\n",
              "      <th id=\"T_10897_level0_row5\" class=\"row_heading level0 row5\" >6</th>\n",
              "      <td id=\"T_10897_row5_col0\" class=\"data row5 col0\" ></td>\n",
              "    </tr>\n",
              "  </tbody>\n",
              "</table>\n"
            ]
          },
          "metadata": {}
        }
      ]
    },
    {
      "cell_type": "code",
      "source": [],
      "metadata": {
        "id": "ROZDHLtm9exB"
      },
      "execution_count": null,
      "outputs": []
    }
  ]
}