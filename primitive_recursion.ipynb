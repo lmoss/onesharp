{
  "nbformat": 4,
  "nbformat_minor": 0,
  "metadata": {
    "colab": {
      "provenance": [],
      "authorship_tag": "ABX9TyNwM959+4JoMGmxyJdFvZkK",
      "include_colab_link": true
    },
    "kernelspec": {
      "name": "python3",
      "display_name": "Python 3"
    },
    "language_info": {
      "name": "python"
    }
  },
  "cells": [
    {
      "cell_type": "markdown",
      "metadata": {
        "id": "view-in-github",
        "colab_type": "text"
      },
      "source": [
        "<a href=\"https://colab.research.google.com/github/lmoss/onesharp/blob/main/primitive_recursion.ipynb\" target=\"_parent\"><img src=\"https://colab.research.google.com/assets/colab-badge.svg\" alt=\"Open In Colab\"/></a>"
      ]
    },
    {
      "cell_type": "markdown",
      "source": [
        "# Primitive Recursion\n",
        "\n",
        "This notebook enables one to enter primitive recursive definitions and convert them to 1#.\n",
        "\n",
        "It is mainly under development, but one could play with it now.  In addition, you can find your homework problems solved at the bottom of this notebook.\n",
        "\n",
        "What I have here works: entering a primitive recursive term in the correct syntax, we can translate that term to a 1# program.   I did this for all the terms in the homework.  However, the work here is sub-optimal in the sense that the 1# program associated to a term uses way more registers than what seems to be necessary.  For example the program to determine whether or not an input number is prime uses 57 registers. \n",
        "\n",
        "I also wonder what it slowing down the run of the 1# programs.  My guess is that one or two optimizations to the Python algorithms should produce better 1# code.  But I don't really know this.\n",
        "\n",
        "To start, enter the next few code cells below and then look at the definitions below.\n"
      ],
      "metadata": {
        "id": "zoYXkpsM4iOd"
      }
    },
    {
      "cell_type": "code",
      "source": [
        "#@title\n",
        "!python -m pip install -U setuptools\n",
        "!python -m pip install -U git+https://github.com/lmoss/onesharp.git@main\n",
        "from onesharp.interpreter.interpreter import onesharp, step_by_step, compose, primitive_recursion\n",
        "from onesharp.tools.sanity import sanity"
      ],
      "metadata": {
        "id": "iIXa-nxyEp_F"
      },
      "execution_count": null,
      "outputs": []
    },
    {
      "cell_type": "markdown",
      "source": [
        "The next cell contains functions specific to this notebook, this time pertaining to primitive recursive terms themselves.\n"
      ],
      "metadata": {
        "id": "1WeCOkyGngoa"
      }
    },
    {
      "cell_type": "code",
      "source": [
        "#@title\n",
        "\n",
        "def all_equal(list):\n",
        "  a = list[0]\n",
        "  b = [x == a for x in list]\n",
        "  return(all(b))\n",
        "\n",
        "\n",
        "def arity(t):\n",
        "  if t == 's_prog':\n",
        "    return(1)\n",
        "  if t[0] == 'proj':\n",
        "    return(t[2])\n",
        "  if t == 'z':\n",
        "    return(1)\n",
        "  if t == 'z_empty':\n",
        "    return(0)\n",
        "  if t[0] == 'pr':\n",
        "    k = arity(t[1])\n",
        "    j = arity(t[2])\n",
        "    if j== 2 + k:\n",
        "      return(k+1)\n",
        "  if t[0] == 'comp':\n",
        "    f = t[1]\n",
        "    g_list = t[2:]\n",
        "    if arity(f)== len(g_list) and all_equal([arity(v) for v in g_list]):\n",
        "      return(arity(t[2]))   \n",
        "\n",
        "def new_program(t,n):\n",
        "  if t=='s_prog':\n",
        "    return(copy_1_2_3+ successor_prog(2,3))\n",
        "  if t[0] == 'proj':\n",
        "    return(proj_prog(t[1],t[2]))\n",
        "  if t == 'z':\n",
        "    return('11##')\n",
        "  if t == 'z_empty':\n",
        "    return('1##') \n",
        "  if t[0] == 'pr':\n",
        "    f = new_program(t[1],essentially_used(t))\n",
        "    g = new_program(t[2],essentially_used(t))\n",
        "    p = primitive_recursion(f, g, arity(t),essentially_used(t))\n",
        "    return(p)\n",
        "  if t[0] == 'comp':       \n",
        "    g = new_program(t[1],essentially_used(t))\n",
        "    hs = [new_program(u,essentially_used(t)) for u in t[2:]]\n",
        "    k = arity(t[2])\n",
        "    p = compose(g,hs,k, essentially_used(t))\n",
        "    return(p)\n",
        "\n",
        "def in_place_program(t):\n",
        "  if t=='s_prog':\n",
        "    return(copy_1_2_3+ successor_prog(2,3))\n",
        "  if t[0] == 'proj':\n",
        "    return(proj_prog(t[1],t[2]))\n",
        "  if t == 'z':\n",
        "    return('11##')\n",
        "  if t == 'z_empty':\n",
        "    return('1##') \n",
        "  if t[0] == 'pr':\n",
        "    f = in_place_program(t[1])\n",
        "    g = in_place_program(t[2])\n",
        "    p = primitive_recursion(f, g, arity(t),essentially_used(t))\n",
        "    return(p)\n",
        "  if t[0] == 'comp':       \n",
        "    g = in_place_program(t[1])\n",
        "    hs = [in_place_program(u) for u in t[2:]]\n",
        "    k = arity(t[2])\n",
        "    p = compose(g,hs,k, essentially_used(t))\n",
        "    return(p)\n",
        "\n",
        "def essentially_used(t):\n",
        "    if t=='s_prog':\n",
        "      return(3)\n",
        "    if t[0]== 'proj':\n",
        "      return(t[2])\n",
        "    if t == 'z':\n",
        "      return(1)\n",
        "    if t == 'z_empty':\n",
        "      return(0)\n",
        "    if t[0] == 'comp':\n",
        "      outer = t[1]\n",
        "      n1 = essentially_used(outer) \n",
        "      n2 = n1 + (len(t) -0)\n",
        "      n3 = max([essentially_used(u) for u in t[2:]])\n",
        "      n = max([n1,n2])+2\n",
        "      return(n)\n",
        "    if t[0] == 'pr':\n",
        "      g = t[1]\n",
        "      h = t[2]     \n",
        "      n1 = essentially_used(g)\n",
        "      n2 = essentially_used(h)\n",
        "      n = max([n1,n2]) +2\n",
        "      return(n)\n",
        "import sys\n",
        "def program(t):\n",
        "  n = arity(t)\n",
        "  first = in_place_program(t)\n",
        "  second = unparse([clear_prog(i) for i in range(1,n+1)])\n",
        "  third = move_prog(n+1,1)\n",
        "  return(first+second+third)\n",
        "\n",
        "#@title\n",
        "def syntax_check(t):\n",
        "  if t == 's_prog':\n",
        "    return('True')\n",
        "  if t[0] == 'proj':\n",
        "    if t[1] <= t[2]:\n",
        "      print(str(t))\n",
        "      print(\"is a good term, and its arity is \" + str(arity(t)))  \n",
        "      print()\n",
        "      return('True')\n",
        "    else:\n",
        "      print('Error in the expression below:')\n",
        "      print(t)\n",
        "      print()\n",
        "      return(False)\n",
        "  if t == 'z':\n",
        "    return('True')\n",
        "  if t == 'z_empty':\n",
        "    return('True')\n",
        "  if t[0] == 'pr':\n",
        "    bool1 = syntax_check(t[1])\n",
        "    bool2 = syntax_check(t[2])\n",
        "    boolean = bool1 and bool2\n",
        "    if boolean:\n",
        "       k = arity(t[1])\n",
        "       j = arity(t[2])\n",
        "       if j== 2 + k:\n",
        "          print(str(t))\n",
        "          print(\"is a good term, and its arity is \" + str(arity(t)))  \n",
        "          print()\n",
        "          return(True)\n",
        "       else:\n",
        "              print('Error in the primitive recursion (sub)term below:')\n",
        "              print(t)\n",
        "              print()\n",
        "              print('The arity of the first term is ' + str(k))\n",
        "              print('The arity of the second term is ' + str(j) +',')\n",
        "              print('and we need the second arity to exceed the first by 2.')\n",
        "              print()\n",
        "    else: \n",
        "       print()\n",
        "       print('Thus, there is an error in the pr term')       \n",
        "       print(t)  \n",
        "  if t[0] == 'comp':\n",
        "    f = t[1]\n",
        "    b1 = syntax_check(t[1])\n",
        "    #print('b1: ' + str(b1))\n",
        "    if b1 == False:\n",
        "      print('Error in the sub-expression below:')\n",
        "      print(t[1])\n",
        "      return(False)\n",
        "    g_list = t[2:]\n",
        "    b2 = all_equal([syntax_check(v) for v in g_list])   \n",
        "    #print('b2: ' + str(b2)) \n",
        "    if (b1 == True) and (b2 == False):\n",
        "      print('One of the expressions is not a term:')\n",
        "      print(g_list)\n",
        "      return(False)\n",
        "    else:\n",
        "      b3 = all_equal([arity(v) for v in g_list])\n",
        "      #print('b3: ' + str(b3)) \n",
        "    if b3 == False:\n",
        "      print('The expressions below are terms, but their arities are not all equal:')\n",
        "      print(g_list)\n",
        "      return(False)\n",
        "    b4 = b2 and b3\n",
        "    #print('b4: ' + str(b4)) \n",
        "    if b4 == True:\n",
        "      k = len(g_list)\n",
        "      b5 = (k == arity(f)) \n",
        "      #print('b5: ' + str(b5)) \n",
        "      if b5 == False:\n",
        "        print(\"Arity match error: The arity of \")\n",
        "        print(str(f)) \n",
        "        print('is '+ str(arity(f)) + ', and it ')\n",
        "        print(\"should equal \" + str(k) + \", the number of terms which follow it.\")\n",
        "        return(False)  \n",
        "      else:\n",
        "        print(str(t))\n",
        "        print(\"is a good term, and its arity is \" + str(arity(t)))  \n",
        "        print()        \n",
        "        return(True)           \n",
        "\n",
        "   \n",
        "   \n",
        "pr = 'pr'\n",
        "proj = 'proj'\n",
        "comp = 'comp'\n",
        "s = 's_prog'\n",
        "z = 'z'\n",
        "z_empty = 'z_empty'\n",
        "   \n"
      ],
      "metadata": {
        "id": "qVZMifB2qf_g",
        "cellView": "form"
      },
      "execution_count": 17,
      "outputs": []
    },
    {
      "cell_type": "markdown",
      "source": [
        "# Pimitive recursive terms, and the functions which they denote\n",
        "\n",
        "\n",
        "_Primitive recursive functions_ are functions $N^k\\to N$, where $N$ is the set of natural numbers.   So there are primitive functions of arity $1$, $2$, etc.  There are also primitive recursive functions of arity $0$ (for a technical reason.)\n",
        "\n",
        "_Primitive recursive terms_ are terms that denote primitive recursive functions.\n",
        "\n",
        "We start with _basic primitive recursive function terms_, as shown below:\n",
        "\n",
        "\n",
        "```z``` : this denotes the one-place function with value 0.\n",
        "\n",
        "```z_empty```: this denotes the zero-place function with value 0.\n",
        "\n",
        "```s``` : this denotes the one-place successor function: $f(n) = n+1$.\n",
        "\n",
        "```[proj, i, j]``` with i <= j: this is the ith projection on j variables.\n",
        "For example,\n",
        "```\n",
        "[proj, 4, 6](3,6,5,7,9,13) = 7. \n",
        "```\n",
        "Indeed, every primitive recursive term has an _arity_, and if $t$ is of arity $k$, then $t$ denotes a function $N^k\\to N$.  Technically, we should distinguish between the terms and the functions which they denote, but we usually will not do this.\n",
        "\n",
        "The two term constructors are\n",
        "\n",
        "```[comp, f, g_1, . . . , g_k]```\n",
        "\n",
        "```[pr, f, g]```\n",
        "\n",
        "In these, ```comp``` stands for composition, and ```pr``` stands for primitive recursion.\n",
        "\n",
        "In the composition term ```[comp, f, g_1, . . . , g_k]```, all the terms ```g_i``` must have the same arity, say $n$.  The term ```f``` must have arity $k$ (the number of $g$s).  The term ```[comp, f, g_1, . . . , g_k]``` has arity $n$.  The function which this term denotes is defined as follows.\n",
        "For numbers $\\overline{x} = x_1$, $\\ldots$, $x_n$, \n",
        "$$\n",
        "[comp, f, g_1, . . . , g_k](\\overline{x}) =\n",
        "f(g_1(\\overline{x}), \\ldots, g_k(\\overline{x})).\n",
        "$$\n",
        "\n",
        "For the primitive recursive terms \n",
        "```[pr, f, g]```, we require that there is a number $n$ such that \n",
        "the arity of $f$ is $n-1$ and the arity of $g$ is $n+1$.  Then the \n",
        "arity of the term \n",
        "```[pr, f, g]``` is $n$.  Its denotation is the function with the following properties:\n",
        "$$\n",
        "[pr, f, g](\\overline{x},0) = f(\\overline{x})\\\\\n",
        "[pr, f, g](\\overline{x},m+1) = g(\\overline{x},m,[pr, f, g](\\overline{x},m))\\\\\n",
        "$$"
      ],
      "metadata": {
        "id": "CBnf-DAjkfAw"
      }
    },
    {
      "cell_type": "markdown",
      "source": [
        "# Examples of primitive recursive terms and functions\n",
        "\n",
        " You can assign names to them, as shown below. The main functions in the notebook are\n",
        "\n",
        "You might look over the following example of terms before reading what to do with them."
      ],
      "metadata": {
        "id": "ogs0-uW546Fu"
      }
    },
    {
      "cell_type": "code",
      "source": [
        "add = [pr,[proj,1,1], [comp, s, [proj, 3,3]]]\n",
        "#onesharp(program(add), ['11','#1#1'])\n",
        "\n",
        "mul = [pr, z, [comp, add,[proj, 3,3],[proj, 1, 3]] ]\n",
        "q = program(mul)\n",
        "#onesharp(q, ['11','1#1'])\n",
        "\n",
        "exp = [pr, [comp, s, z], [comp, mul, [proj, 3,3],[proj, 1, 3]] ]\n",
        "pred = [pr, z_empty, [proj,1,2]]\n",
        "monus = [pr, [proj, 1,1], [comp, pred, [proj,3,3]]]\n",
        "\n",
        "two_place_fn_value_one = [comp, s,[comp,z,[proj,1,2]]]  \n",
        "zero_place_fn_value_one = [comp, s, z_empty]  \n",
        "\n",
        "sgn =[pr, z_empty,two_place_fn_value_one]\n",
        "sgn_bar =[pr, zero_place_fn_value_one, [comp,z,[proj,1,2]]]\n",
        "\n",
        "chi_greater = [comp,sgn, monus] ## characteristic function of >\n",
        "chi_lesser_or_equal = [comp,sgn_bar, monus] #|characteristic function of (> or =)\n",
        "chi_lesser = [comp,chi_greater,[proj,2,2],[proj,1,2]] ## characteristic function of <\n",
        "chi_greater_or_equal = [comp, chi_lesser_or_equal,[proj,2,2],[proj,1,2]] ## characteristic function of >=\n",
        "\n",
        "## solution to exercise 5a below\n",
        "chi_equals = [comp, mul, chi_lesser_or_equal, chi_greater_or_equal ]\n",
        "\n",
        "#print(arity(pred))\n",
        "#predProg = print(program(pred))\n",
        "#onesharp(program(exp),['1#1','11'])\n",
        "#onesharp(program([comp, pred, [proj,2,2]]), ['11','#1#1'])\n",
        "#print(successor)"
      ],
      "metadata": {
        "id": "LECniQHYCPsi"
      },
      "execution_count": null,
      "outputs": []
    },
    {
      "cell_type": "markdown",
      "source": [
        "## Basic functions in this notebook\n",
        "\n",
        "As you can see, you enter terms as ordinary Python strings.\n",
        "In particular, you can assign terms to variables, just as we have been doing with programs.\n",
        "\n",
        "Here are some other functions in this notebook:\n",
        "\n",
        "\n",
        "\n",
        "```arity(t)```\n",
        "\n",
        "```program(t)```\n",
        "\n",
        "```in_place_program(t)```\n",
        "\n",
        "#### Special note: the in_place_programs in this notebook do not halt in the sense of the course.  Instead, they _preserve their inputs_.  For example, run the program associated with _add_ below as shown below it.  (That is, take away the # from the beginning of the lines after the definition. The 2 inputs are preserved and the result goes in register 3.)\n"
      ],
      "metadata": {
        "id": "MokJmb7SKZWl"
      }
    },
    {
      "cell_type": "markdown",
      "source": [
        "## Syntax check\n",
        "\n",
        "###If you want to see a primitive recursive term written out \"all the way\", you can just enter it.\n",
        "\n",
        "### You can enter a line like the ones below to check that an expression really is a term, or to find an error.\n",
        "\n",
        "#### The output can be long because the function ```syntax_check``` is recursive, and thus reports information about all the subterms of whatever you enter.\n",
        "\n"
      ],
      "metadata": {
        "id": "MOnUagBqmZcN"
      }
    },
    {
      "cell_type": "code",
      "source": [
        "#print(exp)\n",
        "\n",
        "#syntax_check(mul)\n",
        "#syntax_check([comp, mul, mul])"
      ],
      "metadata": {
        "id": "i8k3cpbnmTP8"
      },
      "execution_count": null,
      "outputs": []
    },
    {
      "cell_type": "markdown",
      "source": [
        "## How to run insepct the terms and run the 1# programs.\n",
        "\n",
        "The Python function ```program(t)``` compiles a primitive recursive term to a 1# program.  You can look at these by entering, e.g., ```program(add)```.   Then you can run these programs just as we have been doing all along."
      ],
      "metadata": {
        "id": "iZ8FD3kfmbuX"
      }
    },
    {
      "cell_type": "code",
      "source": [
        "onesharp(program(chi_equals),['1#1','##1'])"
      ],
      "metadata": {
        "id": "EIGkhHDQrn0N"
      },
      "execution_count": null,
      "outputs": []
    },
    {
      "cell_type": "markdown",
      "source": [
        "![](https://github.com/lmoss/onesharp/blob/main/images/drum.png?raw=1)"
      ],
      "metadata": {
        "id": "_AmeKAvIo_8I"
      }
    },
    {
      "cell_type": "markdown",
      "source": [
        "<img src=\"https://github.com/lmoss/onesharp/blob/main/drum.jpg?raw=1\" width=\"200\" height=\"160\">"
      ],
      "metadata": {
        "id": "VYhKczwJrC2A"
      }
    },
    {
      "cell_type": "code",
      "source": [
        "### exercise 5b below\n",
        "g = [comp, chi_equals, [proj,2,3], [comp, mul, [proj,1,3],[proj,3,3]]] \n",
        "# g tells if first x third = second\n",
        "#print(arity(g))\n",
        "#print(onesharp(program(g),['11','1##1','11']))\n",
        "\n",
        "## for future use\n",
        "greater_than_one = [comp, chi_greater, [proj,1,1], [comp, s, z]]\n",
        "# gives output 1 if the input is >1 and gives output 0 if the input is 0 or 1\n",
        "\n",
        "first_and_third_greater_than_one = [comp, mul,\n",
        "                                      [comp, greater_than_one, [proj,1, 3]],\n",
        "                                      [comp, greater_than_one, [proj,3, 3]]\n",
        "                                     ]\n",
        "\n",
        "first_third_second_proper = [comp, mul, g, first_and_third_greater_than_one]\n",
        "# g tells if first x third = second, and both the first and third are >1\n",
        "\n",
        "#onesharp(program(first_third_second_proper),['11','#11','#1'])\n",
        "\n",
        "#onesharp(program(first_third_second_proper),['#','#','#1'])\n"
      ],
      "metadata": {
        "id": "8-rF8JUCcA6i"
      },
      "execution_count": null,
      "outputs": []
    },
    {
      "cell_type": "markdown",
      "source": [
        "#### I am going to change exercise 5(c) a little.\n",
        "\n",
        "I will get h_proper so that h_proper(m,p,n) = 1 if m > 1 and for some q <= n,\n",
        "q > 1 and m q = p.   That is, I have changed h a litte so that it incorporates information about the \">1\" conditions."
      ],
      "metadata": {
        "id": "JR0PXPDc_kfc"
      }
    },
    {
      "cell_type": "code",
      "source": [
        "## exercise 5c below\n",
        "\n",
        "\n",
        "g3 = [comp, g, [proj, 1, 2], [comp, z, [proj, 1, 2]], [proj, 2, 2]]\n",
        "p = program(g3)\n",
        "onesharp(p, ['11','11111'])\n",
        "k1 = [comp, add, [proj,4,4], \n",
        "      [comp, first_third_second_proper, [proj,1,4], [proj,2,4], [comp,s, [proj,3,4]]]]\n",
        "k = [comp, sgn, k1] \n",
        "\n",
        "h_proper = [pr, g3, k1]\n",
        "\n",
        "#onesharp(program(h_proper),['11','11','11'])\n",
        "#onesharp(program(h_proper),['1#1','1111','11'])\n",
        "## this asks if there is a number <= 3 such that \n",
        "## (a) the number is > 1\n",
        "## and (b) if you multiply 5 by the number, you get 15.\n",
        "## Since there is such a number (namely 2), we output 1."
      ],
      "metadata": {
        "id": "PnfZFeChs9yO"
      },
      "execution_count": null,
      "outputs": []
    },
    {
      "cell_type": "code",
      "source": [
        "# exercise 5d and 5e\n",
        "\n",
        "proper_divisor = [comp, h_proper, [proj,1,2], [proj,2,2], [comp, pred, [proj,2,2]]]\n",
        "\n",
        "#print(arity(proper_divisor))\n",
        "#print(onesharp(program(proper_divisor),['11','11']))\n",
        "#print(onesharp(program(proper_divisor),['11','#11']))\n",
        "#print(onesharp(program(proper_divisor),['11','1##1']))\n",
        "\n",
        "#print(onesharp(program(proper_divisor),['1','111']))\n",
        "#print(onesharp(program(proper_divisor),['#1','111']))\n",
        "#print(onesharp(program(proper_divisor),['11','111']))\n",
        "\n",
        "#print(onesharp(program(proper_divisor),['##1','111']))\n",
        "#print(onesharp(program(proper_divisor),['1#1','111']))\n",
        "#print(onesharp(program(proper_divisor),['#11','111']))\n",
        "#print(onesharp(program(proper_divisor),['111','111']))\n"
      ],
      "metadata": {
        "id": "VhcWHOCpfB8E"
      },
      "execution_count": null,
      "outputs": []
    },
    {
      "cell_type": "code",
      "source": [
        "\n",
        "pd_inverse_zero = [comp, proper_divisor, [proj,2,2],[proj,1,2]]\n",
        "pd_inverse = [comp, mul, pd_inverse_zero, [comp, greater_than_one, [proj,2,2]]]\n",
        "\n",
        "running_total_of_pd_inverse = [pr, [comp, z, [proj, 1, 1]], \n",
        "                                [comp, add, [proj, 3,3], \n",
        "                                [comp, pd_inverse, [proj, 1, 3], [proj,2, 3]]]]\n",
        "#print(arity([comp, add, [proj, 2,2], pd_inverse]))                                  \n",
        "#print(arity(running_total_of_pd_inverse))\n",
        "\n",
        "\n"
      ],
      "metadata": {
        "id": "5UQ8B4MD4L2j"
      },
      "execution_count": null,
      "outputs": []
    },
    {
      "cell_type": "code",
      "source": [
        "print(onesharp(program(running_total_of_pd_inverse),['1','1']))\n",
        "print(onesharp(program(running_total_of_pd_inverse),['#1','#1']))\n",
        "print(onesharp(program(running_total_of_pd_inverse),['11','11']))\n",
        "print(onesharp(program(running_total_of_pd_inverse),['##1','##1']))\n",
        "print(onesharp(program(running_total_of_pd_inverse),['1#1','1#1']))\n",
        "\n",
        "print(onesharp(program(running_total_of_pd_inverse),['#11','#11']))\n",
        "print(onesharp(program(running_total_of_pd_inverse),['111','111']))\n",
        "print(onesharp(program(running_total_of_pd_inverse),['###1','###1']))\n",
        "print(onesharp(program(running_total_of_pd_inverse),['1##1','1##1']))\n",
        "print(onesharp(program(running_total_of_pd_inverse),['#1#1','#1#1']))\n",
        "print(onesharp(program(running_total_of_pd_inverse),['11#1','11#1']))"
      ],
      "metadata": {
        "id": "lYlgOQTe7qt3",
        "outputId": "5344e0db-5e50-4de5-ca2b-37d18bd873fe",
        "colab": {
          "base_uri": "https://localhost:8080/"
        }
      },
      "execution_count": null,
      "outputs": [
        {
          "output_type": "stream",
          "name": "stdout",
          "text": [
            "#\n",
            "#\n",
            "#\n",
            "1\n",
            "#\n",
            "#1\n",
            "#\n",
            "#1\n",
            "1\n",
            "#1\n",
            "#\n"
          ]
        }
      ]
    },
    {
      "cell_type": "code",
      "source": [
        "# End of the work on prime(n)\n",
        "\n",
        "prime =[comp,sgn_bar, [comp, running_total_of_pd_inverse, [proj, 1,1], [proj, 1,1]]]\n",
        "prime_prog = program(prime)\n",
        "\n",
        "# Gives output 1 if the input is a prime,\n",
        "# and gives output # if the output is not a prime.\n",
        "\n"
      ],
      "metadata": {
        "id": "qDSOrIOKhxpV"
      },
      "execution_count": null,
      "outputs": []
    },
    {
      "cell_type": "markdown",
      "source": [
        "<img src=\"https://github.com/lmoss/onesharp/blob/main/drum.jpg?raw=1\" width=\"200\" height=\"160\">"
      ],
      "metadata": {
        "id": "X1NxIdVkq6U8"
      }
    },
    {
      "cell_type": "markdown",
      "source": [
        "### Testing the 'prime' primitive recursive term"
      ],
      "metadata": {
        "id": "d3MbwMvAzck4"
      }
    },
    {
      "cell_type": "code",
      "source": [
        "list = ['1', '#1', '11', '##1', \n",
        "             '1#1', '#11', '111', '###1', \n",
        "            '1##1', '#1#1', '11#1', '##11', \n",
        "             '1#11', '#111', '1111']\n",
        "for i in range(15):\n",
        "  x = list[i]\n",
        "  b = onesharp(prime_prog,[list[i]])\n",
        "  if b == '1':\n",
        "    print(x + ' is prime')\n",
        "  else:\n",
        "    print(x + ' is not prime')  "
      ],
      "metadata": {
        "colab": {
          "base_uri": "https://localhost:8080/"
        },
        "id": "wLuw2a0w6ibs",
        "outputId": "df0256bb-f6ad-4a7b-88e1-d120088b4be7"
      },
      "execution_count": null,
      "outputs": [
        {
          "output_type": "stream",
          "name": "stdout",
          "text": [
            "1 is prime\n",
            "#1 is prime\n",
            "11 is prime\n",
            "##1 is not prime\n",
            "1#1 is prime\n",
            "##1 is not prime\n",
            "111 is prime\n",
            "###1 is not prime\n",
            "1##1 is not prime\n",
            "#1#1 is not prime\n",
            "11#1 is prime\n",
            "##11 is not prime\n",
            "1#11 is prime\n",
            "#111 is not prime\n",
            "1111 is not prime\n"
          ]
        }
      ]
    },
    {
      "cell_type": "code",
      "source": [
        "ddd"
      ],
      "metadata": {
        "id": "SD0SbOpYUQOK",
        "outputId": "cf21c4e0-0fad-4017-db87-61c323a5db5f",
        "colab": {
          "base_uri": "https://localhost:8080/",
          "height": 53
        }
      },
      "execution_count": 6,
      "outputs": [
        {
          "output_type": "execute_result",
          "data": {
            "text/plain": [
              "'1#####111111###111111111###11#####11111111111###1111111111###111111####11#####111111111111111###111111###11111###11#####111###1111111111111####1###1#####111###11####111####11#####1111###11####111####1#'"
            ],
            "application/vnd.google.colaboratory.intrinsic+json": {
              "type": "string"
            }
          },
          "metadata": {},
          "execution_count": 6
        }
      ]
    },
    {
      "cell_type": "code",
      "source": [
        "ones(5)"
      ],
      "metadata": {
        "id": "azXu1pLeUQpy",
        "outputId": "5681cfd7-6865-4194-c098-969b57768a42",
        "colab": {
          "base_uri": "https://localhost:8080/",
          "height": 169
        }
      },
      "execution_count": 8,
      "outputs": [
        {
          "output_type": "error",
          "ename": "NameError",
          "evalue": "ignored",
          "traceback": [
            "\u001b[0;31m---------------------------------------------------------------------------\u001b[0m",
            "\u001b[0;31mNameError\u001b[0m                                 Traceback (most recent call last)",
            "\u001b[0;32m<ipython-input-8-94587aef872a>\u001b[0m in \u001b[0;36m<module>\u001b[0;34m\u001b[0m\n\u001b[0;32m----> 1\u001b[0;31m \u001b[0mones\u001b[0m\u001b[0;34m(\u001b[0m\u001b[0;36m5\u001b[0m\u001b[0;34m)\u001b[0m\u001b[0;34m\u001b[0m\u001b[0;34m\u001b[0m\u001b[0m\n\u001b[0m",
            "\u001b[0;31mNameError\u001b[0m: name 'ones' is not defined"
          ]
        }
      ]
    },
    {
      "cell_type": "code",
      "source": [
        "unparse(parse(diag))"
      ],
      "metadata": {
        "id": "dHQTtKvLUsHP",
        "outputId": "bf692a74-7a11-4433-e163-7b773322d831",
        "colab": {
          "base_uri": "https://localhost:8080/",
          "height": 169
        }
      },
      "execution_count": 13,
      "outputs": [
        {
          "output_type": "error",
          "ename": "NameError",
          "evalue": "ignored",
          "traceback": [
            "\u001b[0;31m---------------------------------------------------------------------------\u001b[0m",
            "\u001b[0;31mNameError\u001b[0m                                 Traceback (most recent call last)",
            "\u001b[0;32m<ipython-input-13-86786b3212e4>\u001b[0m in \u001b[0;36m<module>\u001b[0;34m\u001b[0m\n\u001b[0;32m----> 1\u001b[0;31m \u001b[0munparse\u001b[0m\u001b[0;34m(\u001b[0m\u001b[0mparse\u001b[0m\u001b[0;34m(\u001b[0m\u001b[0mdiag\u001b[0m\u001b[0;34m)\u001b[0m\u001b[0;34m)\u001b[0m\u001b[0;34m\u001b[0m\u001b[0;34m\u001b[0m\u001b[0m\n\u001b[0m",
            "\u001b[0;31mNameError\u001b[0m: name 'unparse' is not defined"
          ]
        }
      ]
    },
    {
      "cell_type": "code",
      "source": [
        "diag"
      ],
      "metadata": {
        "id": "JvIt8PT8VMWU",
        "outputId": "eb53b8db-9e95-4760-8b2a-24307d53a135",
        "colab": {
          "base_uri": "https://localhost:8080/",
          "height": 169
        }
      },
      "execution_count": 14,
      "outputs": [
        {
          "output_type": "error",
          "ename": "NameError",
          "evalue": "ignored",
          "traceback": [
            "\u001b[0;31m---------------------------------------------------------------------------\u001b[0m",
            "\u001b[0;31mNameError\u001b[0m                                 Traceback (most recent call last)",
            "\u001b[0;32m<ipython-input-14-3e292b66bc7d>\u001b[0m in \u001b[0;36m<module>\u001b[0;34m\u001b[0m\n\u001b[0;32m----> 1\u001b[0;31m \u001b[0mdiag\u001b[0m\u001b[0;34m\u001b[0m\u001b[0;34m\u001b[0m\u001b[0m\n\u001b[0m",
            "\u001b[0;31mNameError\u001b[0m: name 'diag' is not defined"
          ]
        }
      ]
    },
    {
      "cell_type": "code",
      "source": [
        "onesharp('1#',[])"
      ],
      "metadata": {
        "id": "W52K0jgwVeMr",
        "outputId": "cd70ea3a-37b2-4264-9a91-faef8e2469cb",
        "colab": {
          "base_uri": "https://localhost:8080/",
          "height": 35
        }
      },
      "execution_count": 16,
      "outputs": [
        {
          "output_type": "execute_result",
          "data": {
            "text/plain": [
              "'1'"
            ],
            "application/vnd.google.colaboratory.intrinsic+json": {
              "type": "string"
            }
          },
          "metadata": {},
          "execution_count": 16
        }
      ]
    },
    {
      "cell_type": "code",
      "source": [
        "diag"
      ],
      "metadata": {
        "id": "vI6OQ-xWV0-C",
        "outputId": "bd112e2c-aa3e-4fe9-d841-889add33bf63",
        "colab": {
          "base_uri": "https://localhost:8080/",
          "height": 169
        }
      },
      "execution_count": 21,
      "outputs": [
        {
          "output_type": "error",
          "ename": "NameError",
          "evalue": "ignored",
          "traceback": [
            "\u001b[0;31m---------------------------------------------------------------------------\u001b[0m",
            "\u001b[0;31mNameError\u001b[0m                                 Traceback (most recent call last)",
            "\u001b[0;32m<ipython-input-21-3e292b66bc7d>\u001b[0m in \u001b[0;36m<module>\u001b[0;34m\u001b[0m\n\u001b[0;32m----> 1\u001b[0;31m \u001b[0mdiag\u001b[0m\u001b[0;34m\u001b[0m\u001b[0;34m\u001b[0m\u001b[0m\n\u001b[0m",
            "\u001b[0;31mNameError\u001b[0m: name 'diag' is not defined"
          ]
        }
      ]
    },
    {
      "cell_type": "code",
      "source": [
        "ddd\n"
      ],
      "metadata": {
        "id": "veEFMFnwsmiL",
        "outputId": "ca6e2a06-5da0-41a6-b6b7-588d02b2dae3",
        "colab": {
          "base_uri": "https://localhost:8080/",
          "height": 53
        }
      },
      "execution_count": 22,
      "outputs": [
        {
          "output_type": "execute_result",
          "data": {
            "text/plain": [
              "'1#####111111###111111111###11#####11111111111###1111111111###111111####11#####111111111111111###111111###11111###11#####111###1111111111111####1###1#####111###11####111####11#####1111###11####111####1#'"
            ],
            "application/vnd.google.colaboratory.intrinsic+json": {
              "type": "string"
            }
          },
          "metadata": {},
          "execution_count": 22
        }
      ]
    },
    {
      "cell_type": "code",
      "source": [
        "diag"
      ],
      "metadata": {
        "id": "Uf8cmHXAunCP",
        "outputId": "08cba603-e34e-4a37-e8b0-d40d07ff8543",
        "colab": {
          "base_uri": "https://localhost:8080/",
          "height": 169
        }
      },
      "execution_count": 28,
      "outputs": [
        {
          "output_type": "error",
          "ename": "NameError",
          "evalue": "ignored",
          "traceback": [
            "\u001b[0;31m---------------------------------------------------------------------------\u001b[0m",
            "\u001b[0;31mNameError\u001b[0m                                 Traceback (most recent call last)",
            "\u001b[0;32m<ipython-input-28-3e292b66bc7d>\u001b[0m in \u001b[0;36m<module>\u001b[0;34m\u001b[0m\n\u001b[0;32m----> 1\u001b[0;31m \u001b[0mdiag\u001b[0m\u001b[0;34m\u001b[0m\u001b[0;34m\u001b[0m\u001b[0m\n\u001b[0m",
            "\u001b[0;31mNameError\u001b[0m: name 'diag' is not defined"
          ]
        }
      ]
    },
    {
      "cell_type": "code",
      "source": [
        "moveprog(1,3)"
      ],
      "metadata": {
        "id": "l5yx2A54uoZQ",
        "outputId": "8b417b3f-2d2f-4f66-a128-dd722c3eb0b0",
        "colab": {
          "base_uri": "https://localhost:8080/",
          "height": 169
        }
      },
      "execution_count": 24,
      "outputs": [
        {
          "output_type": "error",
          "ename": "NameError",
          "evalue": "ignored",
          "traceback": [
            "\u001b[0;31m---------------------------------------------------------------------------\u001b[0m",
            "\u001b[0;31mNameError\u001b[0m                                 Traceback (most recent call last)",
            "\u001b[0;32m<ipython-input-24-f180baee3f32>\u001b[0m in \u001b[0;36m<module>\u001b[0;34m\u001b[0m\n\u001b[0;32m----> 1\u001b[0;31m \u001b[0mmoveprog\u001b[0m\u001b[0;34m(\u001b[0m\u001b[0;36m1\u001b[0m\u001b[0;34m,\u001b[0m\u001b[0;36m3\u001b[0m\u001b[0;34m)\u001b[0m\u001b[0;34m\u001b[0m\u001b[0;34m\u001b[0m\u001b[0m\n\u001b[0m",
            "\u001b[0;31mNameError\u001b[0m: name 'moveprog' is not defined"
          ]
        }
      ]
    },
    {
      "cell_type": "code",
      "source": [],
      "metadata": {
        "id": "-k98E_0Quvn9"
      },
      "execution_count": null,
      "outputs": []
    }
  ]
}