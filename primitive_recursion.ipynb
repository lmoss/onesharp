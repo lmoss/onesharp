{
  "nbformat": 4,
  "nbformat_minor": 0,
  "metadata": {
    "colab": {
      "provenance": [],
      "authorship_tag": "ABX9TyMSxJevaOaIloSgfz42CoG5",
      "include_colab_link": true
    },
    "kernelspec": {
      "name": "python3",
      "display_name": "Python 3"
    },
    "language_info": {
      "name": "python"
    }
  },
  "cells": [
    {
      "cell_type": "markdown",
      "metadata": {
        "id": "view-in-github",
        "colab_type": "text"
      },
      "source": [
        "<a href=\"https://colab.research.google.com/github/lmoss/onesharp/blob/main/primitive_recursion.ipynb\" target=\"_parent\"><img src=\"https://colab.research.google.com/assets/colab-badge.svg\" alt=\"Open In Colab\"/></a>"
      ]
    },
    {
      "cell_type": "code",
      "source": [
        "#@title\n",
        "import pandas as pd\n",
        "import numpy as np\n",
        "\n",
        "def ones(n):\n",
        "    w = ['1' for i in range(n)]\n",
        "    return(unparse(w))    \n",
        "\n",
        "\n",
        "def program_checker(str):\n",
        "    m = len(str)\n",
        "    x1 = str[m - 1] == '#'\n",
        "    x2 = all((str[i] == '1' or str[i] == '#') for i in range(m))\n",
        "    x3 = (str.find('######') == -1)\n",
        "    if (x1 and x2 and x3):\n",
        "        flag = True\n",
        "    else:\n",
        "        flag = False\n",
        "        print('The input ' + str + ' is not a valid 1# program.')\n",
        "        print('It is not the concatenation of a sequence of instructions in the language.')\n",
        "        print('So what you are asking for is undefined.')\n",
        "    return (flag)\n",
        "\n",
        "def one_or_sharp_check(letter):\n",
        "    if (letter==\"1\" or letter==\"#\"):\n",
        "        return(True)\n",
        "    else:\n",
        "        return(False)\n",
        "\n",
        "def word_checker(strg):\n",
        "    answer = all([one_or_sharp_check(x)==True for x in strg])\n",
        "    return(answer)\n",
        "\n",
        "def input_checker(input_seq):\n",
        "    seq = [word_checker(x) for x in input_seq]\n",
        "    flag = all([word_checker(x) for x in input_seq])\n",
        "    if not flag:\n",
        "        print('The input sequence contains words with characters other than 1 and #.')\n",
        "        print('So what you are asking for is undefined.')\n",
        "    return(flag)\n",
        "                                                                                \n",
        "class Augmented:\n",
        "    def __init__(self, string, remainders):\n",
        "        self.string = string\n",
        "        self.remainders = remainders\n",
        "\n",
        "class Snapshot:\n",
        "    def __init__(self, instr_number, regs, proceed,verbose,program_length, step_number):\n",
        "        self.instr_number = instr_number\n",
        "        self.regs = regs\n",
        "        self.proceed = proceed\n",
        "        self.verbose = verbose\n",
        "        self.program_length = program_length\n",
        "        self.step_number = step_number\n",
        "        \n",
        "def preparse(xstr):\n",
        "    b = xstr.string.find('#1')\n",
        "    xstr.remainders = xstr.remainders + [xstr.string[:(b + 1)]]\n",
        "    xstr.string = xstr.string[(b + 1):]\n",
        "    return (xstr)\n",
        "\n",
        "\n",
        "\n",
        "def parse(y):\n",
        "    tempx = Augmented(y, [])\n",
        "    while tempx.string.find('#1') >= 0:\n",
        "        tempx = preparse(tempx)\n",
        "    return (tempx.remainders + [tempx.string])\n",
        "\n",
        "def unparse(p):\n",
        "    return (''.join(p))\n",
        "\n",
        "def instruction_type(instruction):\n",
        "    if instruction[-2:] == '1#':\n",
        "        return ('add1')\n",
        "    if instruction[-3:] == '1##':\n",
        "        return ('add#')\n",
        "    if instruction[-4:] == '1###':\n",
        "        return ('forward')\n",
        "    if instruction[-5:] == '1####':\n",
        "        return ('backward')\n",
        "    if instruction[-6:] == '1#####':\n",
        "        return ('cases')\n",
        "\n",
        "def tail(list):\n",
        "    return (list[1:])\n",
        "\n",
        "def one_step(p, snapshot): # p is parsed\n",
        "    i = snapshot.instr_number\n",
        "    r = snapshot.regs\n",
        "    instruction = p[-1 + i]\n",
        "    if snapshot.verbose:\n",
        "        print('Step ' + str(snapshot.step_number) + ':')\n",
        "        print('Execute instruction ' + str(i) + ':' + \" \" +\n",
        "              instruction_gloss(instruction,i-1) \n",
        "              + '.')\n",
        "        if instruction_type(instruction)=='cases':\n",
        "            billy= len(instruction) - 5\n",
        "            if snapshot.regs[billy-1] == \"\":\n",
        "                print('The register is empty, so we go ahead 1 instruction.')\n",
        "            elif snapshot.regs[billy-1][0] == \"1\":\n",
        "                print('The first symbol in that register is 1,' +\n",
        "                      ' so we delete that symbol and go forward 2 instructions.')\n",
        "            elif snapshot.regs[billy-1][0] == \"#\":\n",
        "                print('The first symbol in that register is #,' +\n",
        "                      ' so we delete that symbol and go forward 3 instructions.')     \n",
        "    t = instruction_type(instruction)\n",
        "    if t == 'add1':\n",
        "        snapshot.instr_number = 1 + snapshot.instr_number\n",
        "        l = len(instruction)\n",
        "        reg = len(instruction[:(l - 1)])\n",
        "        snapshot.regs[reg - 1] = snapshot.regs[reg - 1] + '1'\n",
        "    if t == 'add#':\n",
        "        snapshot.instr_number = 1 + snapshot.instr_number\n",
        "        l = len(instruction)\n",
        "        reg = len(instruction[:(l - 2)])\n",
        "        snapshot.regs[reg - 1] = snapshot.regs[reg - 1] + '#'\n",
        "    if t == 'forward':\n",
        "        l = len(instruction)\n",
        "        offset = len(instruction[:(l - 3)])\n",
        "        snapshot.instr_number = offset + snapshot.instr_number\n",
        "    if t == 'backward':\n",
        "        l = len(instruction)\n",
        "        offset = len(instruction[:(l - 4)])\n",
        "        snapshot.instr_number = (-offset) + snapshot.instr_number\n",
        "    if t == 'cases':\n",
        "        l = len(instruction)\n",
        "        reg = len(instruction[:(l - 5)])\n",
        "        if snapshot.regs[reg - 1] == '':\n",
        "            snapshot.instr_number = 1 + snapshot.instr_number\n",
        "        elif snapshot.regs[reg - 1][0] == '1':\n",
        "            snapshot.instr_number = 2 + snapshot.instr_number\n",
        "            snapshot.regs[reg - 1] = tail(snapshot.regs[reg - 1])\n",
        "        elif snapshot.regs[reg - 1][0] == '#':\n",
        "            snapshot.instr_number = 3 + snapshot.instr_number\n",
        "            snapshot.regs[reg - 1] = tail(snapshot.regs[reg - 1])\n",
        "    if 0< snapshot.instr_number <= len(p):\n",
        "        snapshot.proceed = True\n",
        "        if snapshot.verbose == True:\n",
        "            print_snapshot(snapshot)\n",
        "    else:\n",
        "         snapshot.proceed = False\n",
        "    return (snapshot)\n",
        "\n",
        "\n",
        "def number_help(instr):\n",
        "    if instruction_type(instr) == 'add1':\n",
        "        return (len(instr) - 1)\n",
        "    if instruction_type(instr) == 'add#':\n",
        "        return (len(instr) - 2)\n",
        "    if instruction_type(instr) == 'cases':\n",
        "        return (len(instr)-5)\n",
        "    else:\n",
        "        return (0)\n",
        "\n",
        "\n",
        "def max_register(p):\n",
        "    return (max([number_help(instr) for instr in parse(p)]))\n",
        "\n",
        "\n",
        "def pad(p, register_inputs):\n",
        "    n = len(register_inputs)\n",
        "    m = max_register(p)\n",
        "    extras = ['' for x in range(m - n)]\n",
        "    bigger = register_inputs + extras\n",
        "    return (bigger)\n",
        "\n",
        "def print_snapshot(snap):\n",
        "    regdf = pd.DataFrame([[snap.regs[n]] for n in range(len(snap.regs))],columns=[\"contents\"])\n",
        "    regdf.index = np.arange(1, len(regdf) + 1)\n",
        "    def make_pretty(styler):\n",
        "        styler.set_properties(**{'background-color': '#FFFFCC'})\n",
        "        styler.set_properties(**{'text-align': 'left'})\n",
        "        #styler.set_caption(\"at the start\")\n",
        "        #styler.hide(axis='index')\n",
        "        return styler\n",
        "    display(regdf.style.pipe(make_pretty))  \n",
        "\n",
        "def step_by_step(word_prog, register_inputs):\n",
        "    word_prog = word_prog.replace(\" \", \"\")\n",
        "    register_inputs = [word.replace(\" \", \"\") for word in register_inputs]\n",
        "    if program_checker(word_prog) and input_checker(register_inputs):\n",
        "        print('First, here is the program:')\n",
        "        parse_explain(word_prog)\n",
        "        print()\n",
        "        regs = pad(word_prog, register_inputs)\n",
        "        prog = parse(word_prog)\n",
        "        N = len(prog)\n",
        "        snap = Snapshot(1, regs,True,True,N,1)\n",
        "        print('The computation starts with the register contents shown below.')\n",
        "        print('The registers include those those which you entered as part of the input')\n",
        "        print('and also others mentioned in the input program.')\n",
        "        print_snapshot(snap)\n",
        "        print()\n",
        "        while 0 < snap.instr_number < N + 1:\n",
        "            snap = one_step(prog, snap)\n",
        "            snap.step_number = (snap.step_number) + 1\n",
        "        if snap.instr_number <= 0:\n",
        "            print(\n",
        "                'The computation has not halted properly ' +\n",
        "                'because the control went above instruction 1 of the program.'\n",
        "                 )\n",
        "        elif (snap.instr_number == (N + 1)) and all(\n",
        "                snap.regs[i] == \"\"\n",
        "                for i in range(1, len(snap.regs))):\n",
        "            print(\n",
        "                'The computation then halts properly because' +\n",
        "                ' the control is just below the last line of the program,')\n",
        "            print('and because all registers other than R1 are empty.')\n",
        "            if snap.regs[0] == \"\":\n",
        "                print('The output is the empty word.')\n",
        "            else:\n",
        "                print('The output is ' + snap.regs[0] + '.')\n",
        "        else:\n",
        "            print('This computation does not halt.')\n",
        "            if snap.instr_number != N + 1:\n",
        "                print('This is because the program has ' + str(len(prog)) +\n",
        "                  ' instructions, and control at the end is not one line ' + \n",
        "                   'below the bottom of the program.')\n",
        "                print()\n",
        "            else:\n",
        "                not_blank = [\n",
        "                    i + 1 for i in range(1, len(snap.regs))\n",
        "                    if snap.regs[i] != \"\"\n",
        "                ]\n",
        "                print('Here is the list of registers whose contents ' +\n",
        "                      'are not empty at this point, other than R1:' +\n",
        "                      str(not_blank) + '.')\n",
        "                print('The register contents at the end are shown above.')\n",
        "\n",
        "\n",
        "def onesharp(word_prog, register_inputs):\n",
        "    word_prog = word_prog.replace(\" \", \"\")\n",
        "    register_inputs = [word.replace(\" \", \"\") for word in register_inputs]  \n",
        "    if program_checker(word_prog) and input_checker(register_inputs):\n",
        "        register_inputs = [word.replace(\" \", \"\") for word in register_inputs]\n",
        "        regs = pad(word_prog, register_inputs)\n",
        "        prog = parse(word_prog)\n",
        "        N = len(prog)\n",
        "        snap = Snapshot(1, regs,True,False, N, 1)\n",
        "        while snap.proceed:\n",
        "            snap = one_step(prog, snap)\n",
        "            snap.step_number = (snap.step_number)+1\n",
        "        if (snap.instr_number == (N + 1)) and all(\n",
        "                snap.regs[i] == \"\" for i in range(1, len(snap.regs))):\n",
        "            return ((snap.regs)[0])\n",
        "        else:            \n",
        "            print(\"This is undefined.\")\n",
        "            print(\"The register contents at the end are shown below.\")\n",
        "            print_snapshot(snap)\n",
        "    else:\n",
        "        return('undefined')\n",
        "\n",
        "\n",
        "def instruction_gloss(instr,line):\n",
        "    if instruction_type(instr) == 'add1':\n",
        "        return ('add 1 to R' + str(len(instr) - 1))\n",
        "    if instruction_type(instr) == 'add#':\n",
        "        return ('add # to R' + str(len(instr) - 2))\n",
        "    if instruction_type(instr) == 'forward':\n",
        "        w = len(instr) - 3\n",
        "        return ('go forward ' + str(w) + ' to instruction ' + str(w+line+1))\n",
        "    if instruction_type(instr) == 'backward':\n",
        "        w = len(instr) - 4\n",
        "        return ('go backward ' + str(w) + ' to instruction ' + str(line - w+1))\n",
        "    if instruction_type(instr) == 'cases':\n",
        "        return ('cases on R' + str(len(instr) - 5))\n",
        "\n",
        "def expanded(gorp):\n",
        "    pgorp = parse(gorp)\n",
        "    wwgorp = [[pgorp[x],instruction_gloss(pgorp[x],x)] for x in range(len(pgorp))]\n",
        "    return(wwgorp)\n",
        "\n",
        "def parse_explain(prog):\n",
        "    df = pd.DataFrame(expanded(prog),\n",
        "                      columns=[\"instruction\", 'explanation'])\n",
        "    df.index = np.arange(1, len(df) + 1)\n",
        "    def make_pretty(styler):\n",
        "                styler.set_properties(**{'background-color': '#C9DFEC'})        \n",
        "                styler.set_properties(**{'text-align': 'left'})\n",
        "                return styler\n",
        "    display(df.style.pipe(make_pretty))\n",
        "    #display(df)\n",
        "    \n",
        "clear_1 = '1#####111###11####111####'\n",
        "\n",
        "move_2_1 = '11#####111111###111###1##1111####1#111111####'\n",
        "\n",
        "copy_1_2_3 = '1#####11111111###1111###11##111##11111####11#111#11111111####111#####111111###111###1##1111####1#111111####'\n",
        "\n",
        "length = '1#####1111111###11####11#1#####111###111111####111####11#####111111###111###1##1111####1#111111####'\n",
        "\n",
        "write = '1#####111111111###11111###11#11##11##111111####11#11##111111111####11#####111111###111###1##1111####1#111111####'\n",
        "\n",
        "diag = '1#####11111111111###111111###11##111#111##111##1111111####11#111#111##1111####111#####111111###111###1##1111####1#11####11#####111111###111###1##1111####1#11####'\n",
        "\n",
        "self = '1#1##1##1##1##1##1#1#1#1#1#1#1#1#1#1#1#1##1##1##1#1#1#1#1#1#1##1##1##1#1#1##1##1#1#1#1##1#1#1#1##1##1#1#1#1##1##1#1#1#1#1#1#1#1##1##1##1##1#1#1##1#1#1#1##1#1#1#1##1##1#1#1#1#1##1##1##1##1#1#1#1##1##1##1##1##1#1#1#1#1#1#1##1##1##1#1#1#1##1##1##1#1##1##1#1#1#1#1##1##1##1##1#1##1#1#1##1##1##1##1#1#1##1##1##1##1##1#1#1#1#1#1#1##1##1##1#1#1#1##1##1##1#1##1##1#1#1#1#1##1##1##1##1#1##1#1#1##1##1##1##1#####11111111111###111111###11##111#111##111##1111111####11#111#111##1111####111#####111111###111###1##1111####1#11####11#####111111###111###1##1111####1#11####'\n",
        "\n",
        "multiply = '111##1111##11#####11111111###1111###11111##111111##11111####11111#111111#11111111####111111#####111111###111###11##1111####11#111111####111#####11111111###1111###111111##1111111##11111####111111#1111111#11111111####1111111#####111111###111###111##1111####111#111111####11111#####111111###111111111###111111#####11111111111###1111111111###111111####111111#####111111111111111###111111###11111###111111#####111###1111111111111####1###11111#####111###11####111####111111#####1111###11####111####11111#11111#####111###1111111111111111111111111111111111111111111111111111111111111111111111111111111111111111111111111111111###1#1#####11111111###1111###11111##111111##11111####11111#111111#11111111####111111#####111111###111###1##1111####1#111111####1111#####111111###111###111111##1111####111111#111111####11111#####111###111111###111111111###111111#####11111111111111111111111111111111111###11111111111111111111111111###111111111111111111111111111###111111#####11111111111111111111111###1111111111111111111111111111###111111111111111111111###111111#####111111111111111111111###111111111111111111###1111111111111111111###11111#####111###111111###111111111###111111#####11111111111###1111111111111111###111111111###111111#####1111111111111###1111111111###11111111111###111111#####111###11111111###1###1111111#111111111111111111111111111111111####1111111##11111111111111111111111111111111111####1111111#111111111111111111111####1111111##11111111111111111111111####1###1111111#####111111###111###11111##1111####11111#111111####11111#####111111###111###1111##1111####1111#111111####111#####1111111111111###1111111111###11111#111#####111111###111###11111##1111####11111#111111####1111###11111##1111111111111####11111#11111#####111111###111###111##1111####111#111111####1111111111111111111111111111111111111111111111111111111111111111111111111111111111111111111111111111111111111111111111111111111111111111111111111111111111111111####1#####111###11####111####11#####111###11####111####111#####111###11####111####1111#####111111###111###1##1111####1#111111####'\n",
        "\n",
        "universal = '1#####1###11###11####111111#1#####111###111111###1111111###11111#####1111111111111111111111111111111111111111111111111111111111111111111111111111111111111111111111111111111111111111111###1###1####111#111111111####111##1#####1111###11###11111###111#11111#####1111111111111111111111111111111111111111111111###111111111###111##1#####1111###11###11111###111#11111#####1111111111111111111111111111111111111###111111111###111##1#####1111###11###11111###111#11111#####1111111111111111111111111111111111111111111111###111111111###111##1#####1111###11###11111###111#11111#####111111111111111111111111111111111111111111111111111111###111111111###111##1#####1111###11###11111111111111111111111111111111111111111111111111111111111111111111111111111111111111111111111111111111111111111111111111111111111111111111111111111111111111111111111111111111111111111111111111111111111111111111111111111111111111111111111111111###111#11111#####1111111111###1###111#####111111###111###1111##1111####1111#111111####11111111111111111111111111111111111111111111111111111111111111####111#####1###11###1111###11111#1111#111111####11111##1111##111#####1111111###1111###1111##11111##11111####1111#1111111####111111111111111111111111111111111111111111111111111111111111111111111111111###111#####1###11###11111###11111#1111#111111#1111111####1111##111#####111111###111###1111##1111####1111#111111####11111111111111111111111111111111111111111111111111111111111111111111111111111111111111111111111111####111#####1###11###1111###1111#11111#111111####11111#11111#1111##111#####111111###111###1111##1111####1111#111111####11111#####11111111###11###1###111111#####111111111111111111111111111111111111111111111111111111111111111111111111111111111111111111111111111111111111111111111111111111111111111111111111111###1###1###11111111####111111#####1111###111#11111#1111####111#####111###111111#111####1#####111111###111###111##1111####111#111111####1111#####111111###111###1##1111####1#111111####111#####111111###111###1##1111####1#111111####111111111111111111111111111111111111111111111111111111111####11#####111###11111###111111111111###11##11##111111####111#11#####1###111###111##11###111#11111111111111####111##11#####11111111111111111111111111111111111111111111111111111111111111111111###1###111##11111#####1###1111111111111111111111####11111#####1111111111111111111111111111###111111111111111111111111111###11111#####111###11###111111111111111111111111111111111111111111111###11#####111111111111111111###111111111###111#11#####1###1###111#111##111##111111111111111111111111111111111111111111111111111111111###111#11#####1###111###111##11###111#111111111111111111####111#111#1111111111111111111111111111111111111111111111###11#####111111111111111111###111111111###111#11#####1###1###111##111##111##11111111111111111111111111111111111###111#11#####1###111###111##11###111#111111111111111111####111#111##111111111111111111111111###11111#####1###1###11111#####1###1###11#####11111111111111111111111###111###111##1111111111111###11#####1###11111###1###11111#111111#111111###11111#11111#111111#111111#1###11#####111111###111###111##1111####111#111111####111#####111111###111###11##1111####11#111111####1111111111111111111111111111111111111111111111111111111111111111111111111111111111111111111111111111111111111111####11#####1###1###11#####1###1###11#####11111111111111###11###11111111###11#####1###111###1#11111111####1##1111111111####11#####111###11####111####111111#####11###11####1111#####111###11####111####'\n",
        "\n",
        "clear_2 = '11#####111###11####111####'\n",
        "clear_3 = '111#####111###11####111####'\n",
        "clear_4 = '1111#####111###11####111####'\n",
        "move_1_2= '1#####111111###111###11##1111####11#111111####'\n",
        "move_1_3= '1#####111111###111###111##1111####111#111111####'\n",
        "move_1_4= '1#####111111###111###1111##1111####1111#111111####'\n",
        "move_2_1= '11#####111111###111###1##1111####1#111111####'\n",
        "move_2_3= '11#####111111###111###111##1111####111#111111####'\n",
        "move_2_4= '11#####111111###111###1111##1111####1111#111111####'\n",
        "move_3_1= '111#####111111###111###1##1111####1#111111####'\n",
        "move_3_2= '111#####111111###111###11##1111####11#111111####'\n",
        "move_3_4= '111#####111111###111###1111##1111####1111#111111####'\n",
        "move_4_1= '1111#####111111###111###1##1111####1#111111####'\n",
        "move_4_2= '1111#####111111###111###11##1111####11#111111####'\n",
        "move_4_3= '1111#####111111###111###111##1111####111#111111####'\n",
        "copy_1_2_3 = '1#####11111111###1111###11##111##11111####11#111#11111111####111#####111111###111###1##1111####1#111111####'\n",
        "copy_1_2_4 ='1#####11111111###1111###11##1111##11111####11#1111#11111111####1111#####111111###111###1##1111####1#111111####'\n",
        "copy_1_3_4='1#####11111111###1111###111##1111##11111####111#1111#11111111####1111#####111111###111###1##1111####1#111111####'\n",
        "copy_2_3_4 = '11#####11111111###1111###111##1111##11111####111#1111#11111111####1111#####111111###111###11##1111####11#111111####'"
      ],
      "metadata": {
        "id": "iIXa-nxyEp_F",
        "cellView": "form"
      },
      "execution_count": 1,
      "outputs": []
    },
    {
      "cell_type": "code",
      "execution_count": 69,
      "metadata": {
        "id": "ymi5UxWLEIup"
      },
      "outputs": [],
      "source": [
        "class Tree(object):\n",
        "    \"Generic tree node.\"\n",
        "    def __init__(self, name='root', children=None, other='other'):\n",
        "        self.name = name\n",
        "        self.other = other\n",
        "        self.children = []\n",
        "        if children is not None:\n",
        "            for child in children:\n",
        "                self.add_child(child)\n",
        "    def __repr__(self):\n",
        "        return self.name\n",
        "    def add_child(self, node):\n",
        "        assert isinstance(node, Tree)\n",
        "        self.children.append(node)\n",
        "#    *\n",
        "#   /|\\\n",
        "#  1 2 +\n",
        "#     / \\\n",
        "#    3   4\n",
        "t = Tree('*', [Tree('1',[],1),\n",
        "               Tree('2'),\n",
        "               Tree('*', [Tree('3'),\n",
        "                          Tree('4')])],2)\n",
        "\n",
        "def arity(tree):\n",
        "  if tree.name == 'z':\n",
        "    return(1)\n",
        "  if tree.name == 's':\n",
        "    return(1)\n",
        "  if tree.name == 'proj':\n",
        "    return(tree.other[1])\n",
        "  if tree.name == 'comp':\n",
        "    templist = [arity(u) for u in tree.children[1:]]  \n",
        "    if all_equal(templist):\n",
        "      return (templist[0])\n",
        "    else:\n",
        "      return(999)\n",
        "  if tree.name == 'plus':\n",
        "      return(2)    \n",
        "\n",
        "def maxie(l):\n",
        "  if l == []:\n",
        "    return(0)\n",
        "  else:\n",
        "    return(max(l))\n",
        "def height(tree):\n",
        "  n = maxie([height(u) +1 for u in tree.children])\n",
        "  return(n)\n",
        "def all_equal(list):\n",
        "  if (len(list)==0 or len(list)==1):\n",
        "    return(True)\n",
        "  else:\n",
        "    b = all_equal(list[1:])  \n",
        "    if b == False:\n",
        "      return(False)\n",
        "    else:\n",
        "      return(list[0]==list[1])\n",
        "\n",
        "def bump_instr(inst, amount):\n",
        "  if instruction_type(inst) in ['forward','backward']:  \n",
        "    return(inst) \n",
        "  elif instruction_type(inst) == 'add1':  \n",
        "    n = number_help(inst)\n",
        "    return(ones(n+amount)+'#')\n",
        "  elif instruction_type(inst) == 'add#':  \n",
        "    n = number_help(inst)\n",
        "    return(ones(n+amount)+'##')\n",
        "  elif instruction_type(inst) == 'cases':  \n",
        "    n = number_help(inst)\n",
        "    return(ones(n+amount)+'#####')\n",
        "def bump(prog,amount):\n",
        "  par = parse(prog)\n",
        "  t = [bump_instr(instr,amount) for instr in par]\n",
        "  return(unparse(t))\n",
        "\n",
        "def clear_prog(n):\n",
        "   a = ones(n) + '#####'\n",
        "   b = '111###'\n",
        "   c = '1###'\n",
        "   d = '111####'\n",
        "   return(a+b+c+d)\n",
        "\n",
        "def move_prog(n,m):\n",
        "   a = ones(n) + '#####'\n",
        "   b = '111111###'\n",
        "   c = '111###'\n",
        "   d = ones(m)+'##'\n",
        "   e = '1111####'\n",
        "   f = ones(m)+'#'\n",
        "   g = '111111####'\n",
        "   return(a+b+c+d+e+f+g)\n",
        "\n",
        "def copy_prog(n,m,p):\n",
        "   a = ones(n) + '#####'\n",
        "   b = '11111111###'\n",
        "   c = '1111###'\n",
        "   d = ones(m)+'##'\n",
        "   d1 = ones(p) + '##'\n",
        "   e = '11111####'\n",
        "   f = ones(m)+'#'\n",
        "   f1 = ones(p) + '#'\n",
        "   g = '11111111####'\n",
        "   return(a+b+c+d+d1+e+f+f1+g+move_prog(p,n))  \n",
        "\n",
        "def proj_prog_official(ind,upper):\n",
        "  index = [k+1 for k in range(ind-1)]    \n",
        "  #print(index)\n",
        "  first_part = [clear_prog(j) for j in index]\n",
        "  #print(first_part)\n",
        "  if ind == 1:\n",
        "    middle = []\n",
        "  else: \n",
        "    middle=[move_prog(ind,1)]\n",
        "  second_index =  [k+ind+1 for k in range(upper-ind)] \n",
        "  #print(second_index)\n",
        "  last_part = [clear_prog(j) for j in second_index]   \n",
        "  together = first_part + middle + last_part\n",
        "  done = unparse(together)\n",
        "  if ind == 1 and upper==1:\n",
        "    return('1###')\n",
        "  else:\n",
        "    return(done)   \n",
        "\n",
        "def proj_prog(ind,upper):\n",
        "  return(copy_prog(ind,upper+1, upper+2))\n",
        "\n",
        "def copy_all_forward(n,m):\n",
        "  # copies 1 to m, 2 to m+1, . . . n to m+n-1\n",
        "  a = [copy_prog(i,m+i-1, m+i) for i in range(1,n+1)]\n",
        "  return(unparse(a))\n",
        "  \n",
        "def compose(f,proglist,n):\n",
        "  # n is number of registers needed by the fns in the proglist\n",
        "  k = len(proglist)\n",
        "  a = [copy_all_forward(n,n+i)+bump(proglist[i-1],n+i-1) for i in range(1,k+1)]\n",
        "  b = unparse(a)\n",
        "  c = b + bump(f,n)\n",
        "  ## should have a move of register n+1 back to 1 and a clear\n",
        "  return(c)\n"
      ]
    },
    {
      "cell_type": "code",
      "source": [
        "h = compose(multiply,[proj_prog(2,3),proj_prog(1,3)],3)\n",
        "n = 3\n",
        "i = 2\n",
        "#onesharp(copy_all_forward(n,n+i)+ bump(proj_prog(3,3),4), ['11', '1#', '##1'])\n",
        "onesharp(h, ['11', '#1', '##1'])"
      ],
      "metadata": {
        "colab": {
          "base_uri": "https://localhost:8080/",
          "height": 399
        },
        "id": "6idYRW70Enjd",
        "outputId": "40d1a618-6962-45bc-a8b3-0b21539a184d"
      },
      "execution_count": null,
      "outputs": [
        {
          "output_type": "stream",
          "name": "stdout",
          "text": [
            "This is undefined.\n",
            "The register contents at the end are shown below.\n"
          ]
        },
        {
          "output_type": "display_data",
          "data": {
            "text/plain": [
              "<pandas.io.formats.style.Styler at 0x7f7b11aa5bd0>"
            ],
            "text/html": [
              "<style type=\"text/css\">\n",
              "#T_1b927_row0_col0, #T_1b927_row1_col0, #T_1b927_row2_col0, #T_1b927_row3_col0, #T_1b927_row4_col0, #T_1b927_row5_col0, #T_1b927_row6_col0, #T_1b927_row7_col0, #T_1b927_row8_col0, #T_1b927_row9_col0 {\n",
              "  background-color: #FFFFCC;\n",
              "  text-align: left;\n",
              "}\n",
              "</style>\n",
              "<table id=\"T_1b927_\" class=\"dataframe\">\n",
              "  <thead>\n",
              "    <tr>\n",
              "      <th class=\"blank level0\" >&nbsp;</th>\n",
              "      <th class=\"col_heading level0 col0\" >contents</th>\n",
              "    </tr>\n",
              "  </thead>\n",
              "  <tbody>\n",
              "    <tr>\n",
              "      <th id=\"T_1b927_level0_row0\" class=\"row_heading level0 row0\" >1</th>\n",
              "      <td id=\"T_1b927_row0_col0\" class=\"data row0 col0\" >11</td>\n",
              "    </tr>\n",
              "    <tr>\n",
              "      <th id=\"T_1b927_level0_row1\" class=\"row_heading level0 row1\" >2</th>\n",
              "      <td id=\"T_1b927_row1_col0\" class=\"data row1 col0\" >#1</td>\n",
              "    </tr>\n",
              "    <tr>\n",
              "      <th id=\"T_1b927_level0_row2\" class=\"row_heading level0 row2\" >3</th>\n",
              "      <td id=\"T_1b927_row2_col0\" class=\"data row2 col0\" >##1</td>\n",
              "    </tr>\n",
              "    <tr>\n",
              "      <th id=\"T_1b927_level0_row3\" class=\"row_heading level0 row3\" >4</th>\n",
              "      <td id=\"T_1b927_row3_col0\" class=\"data row3 col0\" >#11</td>\n",
              "    </tr>\n",
              "    <tr>\n",
              "      <th id=\"T_1b927_level0_row4\" class=\"row_heading level0 row4\" >5</th>\n",
              "      <td id=\"T_1b927_row4_col0\" class=\"data row4 col0\" ></td>\n",
              "    </tr>\n",
              "    <tr>\n",
              "      <th id=\"T_1b927_level0_row5\" class=\"row_heading level0 row5\" >6</th>\n",
              "      <td id=\"T_1b927_row5_col0\" class=\"data row5 col0\" ></td>\n",
              "    </tr>\n",
              "    <tr>\n",
              "      <th id=\"T_1b927_level0_row6\" class=\"row_heading level0 row6\" >7</th>\n",
              "      <td id=\"T_1b927_row6_col0\" class=\"data row6 col0\" ></td>\n",
              "    </tr>\n",
              "    <tr>\n",
              "      <th id=\"T_1b927_level0_row7\" class=\"row_heading level0 row7\" >8</th>\n",
              "      <td id=\"T_1b927_row7_col0\" class=\"data row7 col0\" ></td>\n",
              "    </tr>\n",
              "    <tr>\n",
              "      <th id=\"T_1b927_level0_row8\" class=\"row_heading level0 row8\" >9</th>\n",
              "      <td id=\"T_1b927_row8_col0\" class=\"data row8 col0\" ></td>\n",
              "    </tr>\n",
              "    <tr>\n",
              "      <th id=\"T_1b927_level0_row9\" class=\"row_heading level0 row9\" >10</th>\n",
              "      <td id=\"T_1b927_row9_col0\" class=\"data row9 col0\" ></td>\n",
              "    </tr>\n",
              "  </tbody>\n",
              "</table>\n"
            ]
          },
          "metadata": {}
        }
      ]
    },
    {
      "cell_type": "code",
      "source": [
        "u = Tree('comp', [Tree('proj',[],[2,4]),\n",
        "               Tree('z'),\n",
        "               Tree('comp', [Tree('s'),\n",
        "                          Tree('proj',[],[1,4])])],2)\n",
        "h = Tree('comp', [Tree('z'),Tree('proj',[], [1,2])])\n",
        "h2 = Tree('proj',[], [2,4])\n",
        "print(arity(h2))\n",
        "\n",
        "h1 = Tree('z')\n",
        "arity(h2)\n",
        "all_equal([arity(k) for k in h.children])\n",
        "\n",
        "h5 = Tree('comp',[Tree('add'),Tree('proj',[],[2,4]), Tree('proj',[],[3,4])])\n",
        "print('h5 arity' + str(arity(h5)))\n",
        "h6 = Tree('add')\n",
        "p_2_4 = Tree('proj',[],[2,4])\n",
        "print(arity(p_2_4))\n",
        "[5,6,7][1:]\n",
        "h5.children"
      ],
      "metadata": {
        "colab": {
          "base_uri": "https://localhost:8080/"
        },
        "id": "mdK6EE3-E5_P",
        "outputId": "d1dcfcf8-a3c9-4059-9ee1-4a7d53cca499"
      },
      "execution_count": null,
      "outputs": [
        {
          "output_type": "stream",
          "name": "stdout",
          "text": [
            "4\n",
            "h5 arity4\n",
            "4\n"
          ]
        },
        {
          "output_type": "execute_result",
          "data": {
            "text/plain": [
              "[add, proj, proj]"
            ]
          },
          "metadata": {},
          "execution_count": 10
        }
      ]
    },
    {
      "cell_type": "code",
      "source": [
        "#pr is an index of predecessor in bb.\n",
        "# One hitch is that pr(##1) will be 11#, not 11 as we would want.\n",
        "# But pr(1###) would be #, not ####, because pr has a module at the end that \n",
        "# rectifies #### to #.\n",
        "pr = '1#####111###111###111111111111111111111111111111111111111111###11111111111111111111111111111111111111111111111111111111111111111111111111111111111111111111111111111111111111111111111111111111111111111111###1#####111###1111###11111111111111111111###1##11111111111111111111111111111111111111111111111111111111111111111111111111111111111111111111111111111111111111111111111111111111111111###11#11#1#####111111###111###11##1111####11#111111####11#####111111###111###1##1111####1#111111####1111111111111111111111111111111111111111111111111111111111###11#11##1#####111111###111###11##1111####11#111111####11#####111111###111###1##1111####1#111111####11111111111111111111111111111111111111111###1#####111###1111###11111111111111111111###1##1111111111111111111111111111111111111111111111111111111111111111111111111111111111111111111111###11##11#1#####111111###111###11##1111####11#111111####11#####111111###111###1##1111####1#111111####111111111111111111###11##11##1#####111111###111###11##1111####11#111111####11#####111111###111###1##1111####1#111111####1###1#####111###1111111111###1111111111111111111111111###11#####111111###111###1##1111####1#111111####111111111111111111111111111111111111111111111111###11##1#####111111###111###11##1111####11#111111####11#####111111###111###1##1111####1#111111####11111111111111111111111111111111###11#1#####111###1111111111###1111111111111111111111111###11#####111111###111###1##1111####1#111111####1111111111111111111###11##1#####111111###111###11##1111####11#111111####11#####111111###111###1##1111####1#111111####111###11#11111111111111111111111111111####1#####111###11111111###11111111111111111111111###1##11#####111###11####111####1111111111111111111###11#1#####111111###111###11##1111####11#111111####11#####111111###111###1##1111####1#111111####111###11##111111111111111111111111111####'"
      ],
      "metadata": {
        "id": "js9M0DedFuzm"
      },
      "execution_count": null,
      "outputs": []
    },
    {
      "cell_type": "code",
      "source": [
        "onesharp(pr,['#11'])"
      ],
      "metadata": {
        "colab": {
          "base_uri": "https://localhost:8080/",
          "height": 35
        },
        "id": "nqTU99d0vXGn",
        "outputId": "7f878fad-bede-4db2-e520-a810bb6e360d"
      },
      "execution_count": null,
      "outputs": [
        {
          "output_type": "execute_result",
          "data": {
            "text/plain": [
              "'1#1'"
            ],
            "application/vnd.google.colaboratory.intrinsic+json": {
              "type": "string"
            }
          },
          "metadata": {},
          "execution_count": 13
        }
      ]
    },
    {
      "cell_type": "code",
      "source": [
        "# s is an index of the successor function in bb\n",
        "s = '1#####111###111###1111111111111111111111111###1111111111111111111111111111111111111111###11##1#####111###111111111111111111###1111111111111111111###11#1#####111111###111###11##1111####11#111111####11#####111111###111###1##1111####1#111111####1111111111111111111###11##111111111111111111111####11#1#####111111###111###11##1111####11#111111####11#####111111###111###1##1111####1#111111####1###'\n",
        "h = '#'\n",
        "for i in range(11):\n",
        "  h = onesharp(s,[h])\n",
        "  print(h)"
      ],
      "metadata": {
        "id": "ZFekcwF6v0LQ",
        "outputId": "6a1f0998-c632-4c93-b03f-6d9f9647c423",
        "colab": {
          "base_uri": "https://localhost:8080/"
        }
      },
      "execution_count": 59,
      "outputs": [
        {
          "output_type": "stream",
          "name": "stdout",
          "text": [
            "1\n",
            "#1\n",
            "11\n",
            "##1\n",
            "1#1\n",
            "#11\n",
            "111\n",
            "###1\n",
            "1##1\n",
            "#1#1\n",
            "11#1\n"
          ]
        }
      ]
    },
    {
      "cell_type": "code",
      "source": [],
      "metadata": {
        "id": "c5GlvLmhTnoz"
      },
      "execution_count": null,
      "outputs": []
    },
    {
      "cell_type": "code",
      "source": [
        "def compare_prog(n,m): # _checks if Rn and Rm have the same thing, \n",
        "  #preserving them.   At the end, R(n+1) either has \n",
        "  # nothing (if original Rn and Rm are the same) or 1 (if they weren't)\n",
        "   p = (ones(n) + '#####' + \n",
        "     '111###' + \n",
        "     '111111###' + \n",
        "     '111111111###' + \n",
        "     ones(m) + '#####' + \n",
        "     '11111111111###' + \n",
        "     '11111111111###' + \n",
        "     '111111111111###' + \n",
        "     ones(m) + '#####' + \n",
        "     '111111111111###' + \n",
        "     '1111111111111###' + \n",
        "     '111111111111111###' + \n",
        "     ones(m) + '#####' + \n",
        "     '1111111111111111###' + \n",
        "     '11111111111111111###' + \n",
        "     '1111111111111111111###' + \n",
        "     '111111111111111111111111111111111111111111111111111###' + \n",
        "     ones(n+2) + '#' + \n",
        "     '1111111111111111111###' + \n",
        "     ones(n+2) + '##' + \n",
        "     '11111111111111111###' + \n",
        "     ones(n+1) + '#' + \n",
        "     '111111111111111###' + \n",
        "     ones(n+1) + '#' + \n",
        "     ones(n+2) + '#' + \n",
        "     '1111111111111111111111111####' + \n",
        "     ones(n+1) + '#' + \n",
        "     ones(n+2) + '##' + \n",
        "     '111111111###' + \n",
        "     ones(n+1) + '##' + \n",
        "     '1111111###' + \n",
        "     ones(n+1) + '##' + \n",
        "     ones(n+2) + '#' + \n",
        "     '1111###' + \n",
        "     ones(n+1) + '##' + \n",
        "     ones(n+2) + '##' + \n",
        "     '111111111111111111111111111111111111####' + \n",
        "     ones(n) + '#####' + \n",
        "     '111111###' + \n",
        "     '111###' + \n",
        "     ones(n+1) + '##' + \n",
        "     '1111####' + \n",
        "     ones(n+1) + '#' + \n",
        "     '111111####' + \n",
        "     ones(n+1) + '#####' + \n",
        "     '111111###' + \n",
        "     '111###' + \n",
        "     ones(n) + '##' + \n",
        "     '1111####' + \n",
        "     ones(n) + '#' + \n",
        "     '111111####' + \n",
        "     ones(m) + '#####' + \n",
        "     '111111###' + \n",
        "     '111###' + \n",
        "     ones(n+2) + '##' + \n",
        "     '1111####' + \n",
        "     ones(n+2) + '#' + \n",
        "     '111111####' + \n",
        "     ones(n+2) + '#####' + \n",
        "     '111111###' + \n",
        "     '111###' + \n",
        "     ones(m) + '##' +   \n",
        "     '1111####' + \n",
        "     ones(m) + '#' +   \n",
        "     '111111####' + \n",
        "     ones(n+1) + '#' + \n",
        "     '111111111111111###' + \n",
        "     ones(n+1) + '#####' + \n",
        "     '111111###' + \n",
        "     '111###' + \n",
        "     ones(n) + '##' + \n",
        "     '1111####' + \n",
        "     ones(n) + '#' + \n",
        "     '111111####' + \n",
        "     ones(n+2) + '#####' + \n",
        "     '111111###' + \n",
        "     '111###' + \n",
        "     ones(m) + '##' +  \n",
        "     '1111####' + \n",
        "     ones(m) + '#' +   \n",
        "     '111111####')\n",
        "   return(p)\n",
        " \n",
        "  "
      ],
      "metadata": {
        "id": "SoRro1fFID4z"
      },
      "execution_count": 48,
      "outputs": []
    },
    {
      "cell_type": "code",
      "source": [
        "compare_prog(4,3)\n",
        "#onesharp(compare_prog(4,3),['111#', '#', '111#', '111#'])"
      ],
      "metadata": {
        "colab": {
          "base_uri": "https://localhost:8080/",
          "height": 125
        },
        "id": "IMESGiQcILGk",
        "outputId": "cc8e0335-f657-4d2e-b9e0-e75fd35e3b83"
      },
      "execution_count": 29,
      "outputs": [
        {
          "output_type": "execute_result",
          "data": {
            "text/plain": [
              "'1111#####111###111111###111111111###111#####11111111111###11111111111###111111111111###111#####111111111111###1111111111111###111111111111111###111#####1111111111111111###11111111111111111###1111111111111111111###111111111111111111111111111111111111111111111111111###111111#1111111111111111111###111111##11111111111111111###11111#111111111111111###11111#111111#1111111111111111111111111####11111#111111##111111111###11111##1111111###11111##111111#1111###11111##111111##111111111111111111111111111111111111####1111#####111111###111###11111##1111####11111#111111####11111#####111111###111###1111##1111####1111#111111####111#####111111###111###111111##1111####111111#111111####111111#####111111###111###111##1111####111#111111####11111#111111111111111###11111#####111111###111###1111##1111####1111#111111####111111#####111111###111###111##1111####111#111111####'"
            ],
            "application/vnd.google.colaboratory.intrinsic+json": {
              "type": "string"
            }
          },
          "metadata": {},
          "execution_count": 29
        }
      ]
    },
    {
      "cell_type": "code",
      "source": [
        "def successor_prog(to_increment,to_use):\n",
        "  # gives a program to increment the register 'to_increment' by 1, using \n",
        "  # the register 'to_use'\n",
        "   p = (ones(to_increment) + \n",
        "     '#####' + \n",
        "     '111###' +\n",
        "     '111###' +\n",
        "     '1111111111111111111111111###'+\n",
        "     '1111111111111111111111111111111111111111###' +\n",
        "     ones(to_use) + '##' + \n",
        "     ones(to_increment) + '#####' + \n",
        "     '111###' +\n",
        "     '111111111111111111###' +\n",
        "     '1111111111111111111###' +\n",
        "     ones(to_use) + '#' + \n",
        "     ones(to_increment) + '#####' + \n",
        "     '111111###' +\n",
        "     '111###' +\n",
        "     ones(to_use) + '##' + \n",
        "     '1111####' +\n",
        "     ones(to_use) + '#' + \n",
        "     '111111####' +\n",
        "     ones(to_use) + '#####' + \n",
        "     '111111###' +\n",
        "     '111###' +\n",
        "     ones(to_increment) + '##' + \n",
        "     '1111####' +\n",
        "     ones(to_increment) + '#' +  \n",
        "     '111111####' +\n",
        "     '1111111111111111111###'  +\n",
        "     ones(to_use) + '##' +  \n",
        "     '111111111111111111111####' +\n",
        "     ones(to_use) + '#' +  \n",
        "     ones(to_increment) + '#####' +  \n",
        "     '111111###' +\n",
        "     '111###' +\n",
        "     ones(to_use) + '##' +  \n",
        "     '1111####' +\n",
        "     ones(to_use) + '#' + \n",
        "     '111111####' +\n",
        "     ones(to_use) + '#####' +  \n",
        "     '111111###' +\n",
        "     '111###' +\n",
        "     ones(to_increment) + '##' +  \n",
        "     '1111####' +\n",
        "     ones(to_increment) + '#' + \n",
        "     '111111####' +\n",
        "     '1###'\n",
        "     )\n",
        "   return(p)    "
      ],
      "metadata": {
        "id": "VQHBn0HFSDED"
      },
      "execution_count": 33,
      "outputs": []
    },
    {
      "cell_type": "code",
      "source": [
        "len(parse(successor_prog(4,5)))\n"
      ],
      "metadata": {
        "id": "ff9WERcfNSs2",
        "outputId": "ede5a815-083a-4bad-9ac6-ff7554fc9c30",
        "colab": {
          "base_uri": "https://localhost:8080/"
        }
      },
      "execution_count": 40,
      "outputs": [
        {
          "output_type": "execute_result",
          "data": {
            "text/plain": [
              "44"
            ]
          },
          "metadata": {},
          "execution_count": 40
        }
      ]
    },
    {
      "cell_type": "code",
      "source": [
        "def pr(g,h,k,free): \n",
        "  #n is number of registers = number of arguments to <g,h>\n",
        "  #free is large enough so that neither g nor h use it or any larger register.\n",
        "  # g and h are assumed to preserve their inputs\n",
        "  length_of_move = 7\n",
        "  length_of_clear = 4\n",
        "  length_of_compare = 81\n",
        "  length_of_s = 44\n",
        "  length_of_h = len(parse(h))\n",
        "  big_num = (length_of_h + length_of_s + length_of_clear + length_of_move +\n",
        "             length_of_compare + 2)\n",
        "  p = (move_prog(k,free) +\n",
        "      ones(k+1) + '##' +\n",
        "      h +\n",
        "      compare_prog(free,k+1) +\n",
        "      ones(k+2) + '#####' +\n",
        "      ones(big_num()) + '###' +\n",
        "      h +\n",
        "      successor_prog(k+1,k+3) +\n",
        "      clear_prog(k+2) +\n",
        "      move_prog(k+2,k+1) +\n",
        "      compare_prog(free,k+1) +\n",
        "      ones(big_num) + '####' +\n",
        "      clear_prog(free)\n",
        "      )\n",
        "  return(p)  \n",
        "  "
      ],
      "metadata": {
        "id": "RBlea4VsTw7E"
      },
      "execution_count": 57,
      "outputs": []
    },
    {
      "cell_type": "code",
      "source": [
        "w =parse(multiply)\n",
        "len(w)"
      ],
      "metadata": {
        "id": "83JR_XvnQeKc",
        "outputId": "244e52d5-61e7-4758-de02-c657945cba1e",
        "colab": {
          "base_uri": "https://localhost:8080/"
        }
      },
      "execution_count": 58,
      "outputs": [
        {
          "output_type": "execute_result",
          "data": {
            "text/plain": [
              "182"
            ]
          },
          "metadata": {},
          "execution_count": 58
        }
      ]
    },
    {
      "cell_type": "code",
      "source": [
        "first_prog = clear_1 + '11#'\n",
        "second_prog_prelim =bump(s,2) #compose(s,[proj_prog(1,2)],4) \n",
        "third_prog_prelim = proj_prog(1,2)\n",
        "second_prog = compose(multiply,[second_prog_prelim,third_prog_prelim], 10)"
      ],
      "metadata": {
        "id": "yKX2DLdLWs2-"
      },
      "execution_count": 103,
      "outputs": []
    },
    {
      "cell_type": "code",
      "source": [
        "#parse_explain(bump(s,2))\n",
        "\n",
        "onesharp(bump(s,2),['1', '1111#', '11'])\n",
        "#onesharp(second_prog_prelim,['11','#1'])"
      ],
      "metadata": {
        "id": "UlkG4AjeYwZ7",
        "outputId": "75e4a72a-fb96-4e62-b48a-d16734d35582",
        "colab": {
          "base_uri": "https://localhost:8080/",
          "height": 211
        }
      },
      "execution_count": 109,
      "outputs": [
        {
          "output_type": "stream",
          "name": "stdout",
          "text": [
            "This is undefined.\n",
            "The register contents at the end are shown below.\n"
          ]
        },
        {
          "output_type": "display_data",
          "data": {
            "text/plain": [
              "<pandas.io.formats.style.Styler at 0x7f264772e710>"
            ],
            "text/html": [
              "<style type=\"text/css\">\n",
              "#T_410b6_row0_col0, #T_410b6_row1_col0, #T_410b6_row2_col0, #T_410b6_row3_col0 {\n",
              "  background-color: #FFFFCC;\n",
              "  text-align: left;\n",
              "}\n",
              "</style>\n",
              "<table id=\"T_410b6_\" class=\"dataframe\">\n",
              "  <thead>\n",
              "    <tr>\n",
              "      <th class=\"blank level0\" >&nbsp;</th>\n",
              "      <th class=\"col_heading level0 col0\" >contents</th>\n",
              "    </tr>\n",
              "  </thead>\n",
              "  <tbody>\n",
              "    <tr>\n",
              "      <th id=\"T_410b6_level0_row0\" class=\"row_heading level0 row0\" >1</th>\n",
              "      <td id=\"T_410b6_row0_col0\" class=\"data row0 col0\" >1</td>\n",
              "    </tr>\n",
              "    <tr>\n",
              "      <th id=\"T_410b6_level0_row1\" class=\"row_heading level0 row1\" >2</th>\n",
              "      <td id=\"T_410b6_row1_col0\" class=\"data row1 col0\" >1111#</td>\n",
              "    </tr>\n",
              "    <tr>\n",
              "      <th id=\"T_410b6_level0_row2\" class=\"row_heading level0 row2\" >3</th>\n",
              "      <td id=\"T_410b6_row2_col0\" class=\"data row2 col0\" >##1</td>\n",
              "    </tr>\n",
              "    <tr>\n",
              "      <th id=\"T_410b6_level0_row3\" class=\"row_heading level0 row3\" >4</th>\n",
              "      <td id=\"T_410b6_row3_col0\" class=\"data row3 col0\" ></td>\n",
              "    </tr>\n",
              "  </tbody>\n",
              "</table>\n"
            ]
          },
          "metadata": {}
        }
      ]
    },
    {
      "cell_type": "code",
      "source": [
        "bump(s,2)"
      ],
      "metadata": {
        "id": "Zh1QZlxuZDwi",
        "outputId": "67f9f3d2-d371-47bd-e735-ff87f77a33cc",
        "colab": {
          "base_uri": "https://localhost:8080/",
          "height": 71
        }
      },
      "execution_count": 82,
      "outputs": [
        {
          "output_type": "execute_result",
          "data": {
            "text/plain": [
              "'111#####111###111###1111111111111111111111111###1111111111111111111111111111111111111111###1111##111#####111###111111111111111111###1111111111111111111###1111#111#####111111###111###1111##1111####1111#111111####1111#####111111###111###111##1111####111#111111####1111111111111111111###1111##111111111111111111111####1111#111#####111111###111###1111##1111####1111#111111####1111#####111111###111###111##1111####111#111111####1###'"
            ],
            "application/vnd.google.colaboratory.intrinsic+json": {
              "type": "string"
            }
          },
          "metadata": {},
          "execution_count": 82
        }
      ]
    },
    {
      "cell_type": "code",
      "source": [
        "#a = onesharp(proj_prog(1,2),['11','#1'])\n",
        "#print(a)\n",
        "onesharp(bump(s,2),['11','1','11'])"
      ],
      "metadata": {
        "id": "mwtCzYnCreZc",
        "outputId": "8186d7af-3b85-4e36-f30a-a567db4dc81a",
        "colab": {
          "base_uri": "https://localhost:8080/",
          "height": 211
        }
      },
      "execution_count": 91,
      "outputs": [
        {
          "output_type": "stream",
          "name": "stdout",
          "text": [
            "This is undefined.\n",
            "The register contents at the end are shown below.\n"
          ]
        },
        {
          "output_type": "display_data",
          "data": {
            "text/plain": [
              "<pandas.io.formats.style.Styler at 0x7f26506b7d50>"
            ],
            "text/html": [
              "<style type=\"text/css\">\n",
              "#T_2ea02_row0_col0, #T_2ea02_row1_col0, #T_2ea02_row2_col0, #T_2ea02_row3_col0 {\n",
              "  background-color: #FFFFCC;\n",
              "  text-align: left;\n",
              "}\n",
              "</style>\n",
              "<table id=\"T_2ea02_\" class=\"dataframe\">\n",
              "  <thead>\n",
              "    <tr>\n",
              "      <th class=\"blank level0\" >&nbsp;</th>\n",
              "      <th class=\"col_heading level0 col0\" >contents</th>\n",
              "    </tr>\n",
              "  </thead>\n",
              "  <tbody>\n",
              "    <tr>\n",
              "      <th id=\"T_2ea02_level0_row0\" class=\"row_heading level0 row0\" >1</th>\n",
              "      <td id=\"T_2ea02_row0_col0\" class=\"data row0 col0\" >11</td>\n",
              "    </tr>\n",
              "    <tr>\n",
              "      <th id=\"T_2ea02_level0_row1\" class=\"row_heading level0 row1\" >2</th>\n",
              "      <td id=\"T_2ea02_row1_col0\" class=\"data row1 col0\" >1</td>\n",
              "    </tr>\n",
              "    <tr>\n",
              "      <th id=\"T_2ea02_level0_row2\" class=\"row_heading level0 row2\" >3</th>\n",
              "      <td id=\"T_2ea02_row2_col0\" class=\"data row2 col0\" >##1</td>\n",
              "    </tr>\n",
              "    <tr>\n",
              "      <th id=\"T_2ea02_level0_row3\" class=\"row_heading level0 row3\" >4</th>\n",
              "      <td id=\"T_2ea02_row3_col0\" class=\"data row3 col0\" ></td>\n",
              "    </tr>\n",
              "  </tbody>\n",
              "</table>\n"
            ]
          },
          "metadata": {}
        }
      ]
    },
    {
      "cell_type": "code",
      "source": [],
      "metadata": {
        "id": "6iN2i5DWrkN9"
      },
      "execution_count": null,
      "outputs": []
    }
  ]
}