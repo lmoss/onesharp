{
  "nbformat": 4,
  "nbformat_minor": 0,
  "metadata": {
    "colab": {
      "provenance": [],
      "authorship_tag": "ABX9TyOP0wvOx8MBji5V1ZBmiFqe",
      "include_colab_link": true
    },
    "kernelspec": {
      "name": "python3",
      "display_name": "Python 3"
    },
    "language_info": {
      "name": "python"
    }
  },
  "cells": [
    {
      "cell_type": "markdown",
      "metadata": {
        "id": "view-in-github",
        "colab_type": "text"
      },
      "source": [
        "<a href=\"https://colab.research.google.com/github/lmoss/onesharp/blob/main/primitive_recursion.ipynb\" target=\"_parent\"><img src=\"https://colab.research.google.com/assets/colab-badge.svg\" alt=\"Open In Colab\"/></a>"
      ]
    },
    {
      "cell_type": "code",
      "source": [
        "#@title\n",
        "import pandas as pd\n",
        "import numpy as np\n",
        "\n",
        "def ones(n):\n",
        "    w = ['1' for i in range(n)]\n",
        "    return(unparse(w))    \n",
        "\n",
        "\n",
        "def program_checker(str):\n",
        "    m = len(str)\n",
        "    x1 = str[m - 1] == '#'\n",
        "    x2 = all((str[i] == '1' or str[i] == '#') for i in range(m))\n",
        "    x3 = (str.find('######') == -1)\n",
        "    if (x1 and x2 and x3):\n",
        "        flag = True\n",
        "    else:\n",
        "        flag = False\n",
        "        print('The input ' + str + ' is not a valid 1# program.')\n",
        "        print('It is not the concatenation of a sequence of instructions in the language.')\n",
        "        print('So what you are asking for is undefined.')\n",
        "    return (flag)\n",
        "\n",
        "def one_or_sharp_check(letter):\n",
        "    if (letter==\"1\" or letter==\"#\"):\n",
        "        return(True)\n",
        "    else:\n",
        "        return(False)\n",
        "\n",
        "def word_checker(strg):\n",
        "    answer = all([one_or_sharp_check(x)==True for x in strg])\n",
        "    return(answer)\n",
        "\n",
        "def input_checker(input_seq):\n",
        "    seq = [word_checker(x) for x in input_seq]\n",
        "    flag = all([word_checker(x) for x in input_seq])\n",
        "    if not flag:\n",
        "        print('The input sequence contains words with characters other than 1 and #.')\n",
        "        print('So what you are asking for is undefined.')\n",
        "    return(flag)\n",
        "                                                                                \n",
        "class Augmented:\n",
        "    def __init__(self, string, remainders):\n",
        "        self.string = string\n",
        "        self.remainders = remainders\n",
        "\n",
        "class Snapshot:\n",
        "    def __init__(self, instr_number, regs, proceed,verbose,program_length, step_number):\n",
        "        self.instr_number = instr_number\n",
        "        self.regs = regs\n",
        "        self.proceed = proceed\n",
        "        self.verbose = verbose\n",
        "        self.program_length = program_length\n",
        "        self.step_number = step_number\n",
        "        \n",
        "def preparse(xstr):\n",
        "    b = xstr.string.find('#1')\n",
        "    xstr.remainders = xstr.remainders + [xstr.string[:(b + 1)]]\n",
        "    xstr.string = xstr.string[(b + 1):]\n",
        "    return (xstr)\n",
        "\n",
        "\n",
        "\n",
        "def parse(y):\n",
        "    tempx = Augmented(y, [])\n",
        "    while tempx.string.find('#1') >= 0:\n",
        "        tempx = preparse(tempx)\n",
        "    return (tempx.remainders + [tempx.string])\n",
        "\n",
        "def unparse(p):\n",
        "    return (''.join(p))\n",
        "\n",
        "def instruction_type(instruction):\n",
        "    if instruction[-2:] == '1#':\n",
        "        return ('add1')\n",
        "    if instruction[-3:] == '1##':\n",
        "        return ('add#')\n",
        "    if instruction[-4:] == '1###':\n",
        "        return ('forward')\n",
        "    if instruction[-5:] == '1####':\n",
        "        return ('backward')\n",
        "    if instruction[-6:] == '1#####':\n",
        "        return ('cases')\n",
        "\n",
        "def tail(list):\n",
        "    return (list[1:])\n",
        "\n",
        "def one_step(p, snapshot): # p is parsed\n",
        "    i = snapshot.instr_number\n",
        "    r = snapshot.regs\n",
        "    instruction = p[-1 + i]\n",
        "    if snapshot.verbose:\n",
        "        print('Step ' + str(snapshot.step_number) + ':')\n",
        "        print('Execute instruction ' + str(i) + ':' + \" \" +\n",
        "              instruction_gloss(instruction,i-1) \n",
        "              + '.')\n",
        "        if instruction_type(instruction)=='cases':\n",
        "            billy= len(instruction) - 5\n",
        "            if snapshot.regs[billy-1] == \"\":\n",
        "                print('The register is empty, so we go ahead 1 instruction.')\n",
        "            elif snapshot.regs[billy-1][0] == \"1\":\n",
        "                print('The first symbol in that register is 1,' +\n",
        "                      ' so we delete that symbol and go forward 2 instructions.')\n",
        "            elif snapshot.regs[billy-1][0] == \"#\":\n",
        "                print('The first symbol in that register is #,' +\n",
        "                      ' so we delete that symbol and go forward 3 instructions.')     \n",
        "    t = instruction_type(instruction)\n",
        "    if t == 'add1':\n",
        "        snapshot.instr_number = 1 + snapshot.instr_number\n",
        "        l = len(instruction)\n",
        "        reg = len(instruction[:(l - 1)])\n",
        "        snapshot.regs[reg - 1] = snapshot.regs[reg - 1] + '1'\n",
        "    if t == 'add#':\n",
        "        snapshot.instr_number = 1 + snapshot.instr_number\n",
        "        l = len(instruction)\n",
        "        reg = len(instruction[:(l - 2)])\n",
        "        snapshot.regs[reg - 1] = snapshot.regs[reg - 1] + '#'\n",
        "    if t == 'forward':\n",
        "        l = len(instruction)\n",
        "        offset = len(instruction[:(l - 3)])\n",
        "        snapshot.instr_number = offset + snapshot.instr_number\n",
        "    if t == 'backward':\n",
        "        l = len(instruction)\n",
        "        offset = len(instruction[:(l - 4)])\n",
        "        snapshot.instr_number = (-offset) + snapshot.instr_number\n",
        "    if t == 'cases':\n",
        "        l = len(instruction)\n",
        "        reg = len(instruction[:(l - 5)])\n",
        "        if snapshot.regs[reg - 1] == '':\n",
        "            snapshot.instr_number = 1 + snapshot.instr_number\n",
        "        elif snapshot.regs[reg - 1][0] == '1':\n",
        "            snapshot.instr_number = 2 + snapshot.instr_number\n",
        "            snapshot.regs[reg - 1] = tail(snapshot.regs[reg - 1])\n",
        "        elif snapshot.regs[reg - 1][0] == '#':\n",
        "            snapshot.instr_number = 3 + snapshot.instr_number\n",
        "            snapshot.regs[reg - 1] = tail(snapshot.regs[reg - 1])\n",
        "    if 0< snapshot.instr_number <= len(p):\n",
        "        snapshot.proceed = True\n",
        "        if snapshot.verbose == True:\n",
        "            print_snapshot(snapshot)\n",
        "    else:\n",
        "         snapshot.proceed = False\n",
        "    return (snapshot)\n",
        "\n",
        "\n",
        "def number_help(instr):\n",
        "    if instruction_type(instr) == 'add1':\n",
        "        return (len(instr) - 1)\n",
        "    if instruction_type(instr) == 'add#':\n",
        "        return (len(instr) - 2)\n",
        "    if instruction_type(instr) == 'cases':\n",
        "        return (len(instr)-5)\n",
        "    else:\n",
        "        return (0)\n",
        "\n",
        "\n",
        "def max_register(p):\n",
        "    return (max([number_help(instr) for instr in parse(p)]))\n",
        "\n",
        "\n",
        "def pad(p, register_inputs):\n",
        "    n = len(register_inputs)\n",
        "    m = max_register(p)\n",
        "    extras = ['' for x in range(m - n)]\n",
        "    bigger = register_inputs + extras\n",
        "    return (bigger)\n",
        "\n",
        "def print_snapshot(snap):\n",
        "    regdf = pd.DataFrame([[snap.regs[n]] for n in range(len(snap.regs))],columns=[\"contents\"])\n",
        "    regdf.index = np.arange(1, len(regdf) + 1)\n",
        "    def make_pretty(styler):\n",
        "        styler.set_properties(**{'background-color': '#FFFFCC'})\n",
        "        styler.set_properties(**{'text-align': 'left'})\n",
        "        #styler.set_caption(\"at the start\")\n",
        "        #styler.hide(axis='index')\n",
        "        return styler\n",
        "    display(regdf.style.pipe(make_pretty))  \n",
        "\n",
        "def step_by_step(word_prog, register_inputs):\n",
        "    word_prog = word_prog.replace(\" \", \"\")\n",
        "    register_inputs = [word.replace(\" \", \"\") for word in register_inputs]\n",
        "    if program_checker(word_prog) and input_checker(register_inputs):\n",
        "        print('First, here is the program:')\n",
        "        parse_explain(word_prog)\n",
        "        print()\n",
        "        regs = pad(word_prog, register_inputs)\n",
        "        prog = parse(word_prog)\n",
        "        N = len(prog)\n",
        "        snap = Snapshot(1, regs,True,True,N,1)\n",
        "        print('The computation starts with the register contents shown below.')\n",
        "        print('The registers include those those which you entered as part of the input')\n",
        "        print('and also others mentioned in the input program.')\n",
        "        print_snapshot(snap)\n",
        "        print()\n",
        "        while 0 < snap.instr_number < N + 1:\n",
        "            snap = one_step(prog, snap)\n",
        "            snap.step_number = (snap.step_number) + 1\n",
        "        if snap.instr_number <= 0:\n",
        "            print(\n",
        "                'The computation has not halted properly ' +\n",
        "                'because the control went above instruction 1 of the program.'\n",
        "                 )\n",
        "        elif (snap.instr_number == (N + 1)) and all(\n",
        "                snap.regs[i] == \"\"\n",
        "                for i in range(1, len(snap.regs))):\n",
        "            print(\n",
        "                'The computation then halts properly because' +\n",
        "                ' the control is just below the last line of the program,')\n",
        "            print('and because all registers other than R1 are empty.')\n",
        "            if snap.regs[0] == \"\":\n",
        "                print('The output is the empty word.')\n",
        "            else:\n",
        "                print('The output is ' + snap.regs[0] + '.')\n",
        "        else:\n",
        "            print('This computation does not halt.')\n",
        "            if snap.instr_number != N + 1:\n",
        "                print('This is because the program has ' + str(len(prog)) +\n",
        "                  ' instructions, and control at the end is not one line ' + \n",
        "                   'below the bottom of the program.')\n",
        "                print()\n",
        "            else:\n",
        "                not_blank = [\n",
        "                    i + 1 for i in range(1, len(snap.regs))\n",
        "                    if snap.regs[i] != \"\"\n",
        "                ]\n",
        "                print('Here is the list of registers whose contents ' +\n",
        "                      'are not empty at this point, other than R1:' +\n",
        "                      str(not_blank) + '.')\n",
        "                print('The register contents at the end are shown above.')\n",
        "\n",
        "\n",
        "def onesharp(word_prog, register_inputs):\n",
        "    word_prog = word_prog.replace(\" \", \"\")\n",
        "    register_inputs = [word.replace(\" \", \"\") for word in register_inputs]  \n",
        "    if program_checker(word_prog) and input_checker(register_inputs):\n",
        "        register_inputs = [word.replace(\" \", \"\") for word in register_inputs]\n",
        "        regs = pad(word_prog, register_inputs)\n",
        "        prog = parse(word_prog)\n",
        "        N = len(prog)\n",
        "        snap = Snapshot(1, regs,True,False, N, 1)\n",
        "        while snap.proceed:\n",
        "            snap = one_step(prog, snap)\n",
        "            snap.step_number = (snap.step_number)+1\n",
        "        if (snap.instr_number == (N + 1)) and all(\n",
        "                snap.regs[i] == \"\" for i in range(1, len(snap.regs))):\n",
        "            return ((snap.regs)[0])\n",
        "        else:            \n",
        "            print(\"This is undefined.\")\n",
        "            print(\"The register contents at the end are shown below.\")\n",
        "            print_snapshot(snap)\n",
        "    else:\n",
        "        return('undefined')\n",
        "\n",
        "\n",
        "def instruction_gloss(instr,line):\n",
        "    if instruction_type(instr) == 'add1':\n",
        "        return ('add 1 to R' + str(len(instr) - 1))\n",
        "    if instruction_type(instr) == 'add#':\n",
        "        return ('add # to R' + str(len(instr) - 2))\n",
        "    if instruction_type(instr) == 'forward':\n",
        "        w = len(instr) - 3\n",
        "        return ('go forward ' + str(w) + ' to instruction ' + str(w+line+1))\n",
        "    if instruction_type(instr) == 'backward':\n",
        "        w = len(instr) - 4\n",
        "        return ('go backward ' + str(w) + ' to instruction ' + str(line - w+1))\n",
        "    if instruction_type(instr) == 'cases':\n",
        "        return ('cases on R' + str(len(instr) - 5))\n",
        "\n",
        "def expanded(gorp):\n",
        "    pgorp = parse(gorp)\n",
        "    wwgorp = [[pgorp[x],instruction_gloss(pgorp[x],x)] for x in range(len(pgorp))]\n",
        "    return(wwgorp)\n",
        "\n",
        "def parse_explain(prog):\n",
        "    df = pd.DataFrame(expanded(prog),\n",
        "                      columns=[\"instruction\", 'explanation'])\n",
        "    df.index = np.arange(1, len(df) + 1)\n",
        "    def make_pretty(styler):\n",
        "                styler.set_properties(**{'background-color': '#C9DFEC'})        \n",
        "                styler.set_properties(**{'text-align': 'left'})\n",
        "                return styler\n",
        "    display(df.style.pipe(make_pretty))\n",
        "    #display(df)\n",
        "    \n",
        "clear_1 = '1#####111###11####111####'\n",
        "\n",
        "move_2_1 = '11#####111111###111###1##1111####1#111111####'\n",
        "\n",
        "copy_1_2_3 = '1#####11111111###1111###11##111##11111####11#111#11111111####111#####111111###111###1##1111####1#111111####'\n",
        "\n",
        "length = '1#####1111111###11####11#1#####111###111111####111####11#####111111###111###1##1111####1#111111####'\n",
        "\n",
        "write = '1#####111111111###11111###11#11##11##111111####11#11##111111111####11#####111111###111###1##1111####1#111111####'\n",
        "\n",
        "diag = '1#####11111111111###111111###11##111#111##111##1111111####11#111#111##1111####111#####111111###111###1##1111####1#11####11#####111111###111###1##1111####1#11####'\n",
        "\n",
        "self = '1#1##1##1##1##1##1#1#1#1#1#1#1#1#1#1#1#1##1##1##1#1#1#1#1#1#1##1##1##1#1#1##1##1#1#1#1##1#1#1#1##1##1#1#1#1##1##1#1#1#1#1#1#1#1##1##1##1##1#1#1##1#1#1#1##1#1#1#1##1##1#1#1#1#1##1##1##1##1#1#1#1##1##1##1##1##1#1#1#1#1#1#1##1##1##1#1#1#1##1##1##1#1##1##1#1#1#1#1##1##1##1##1#1##1#1#1##1##1##1##1#1#1##1##1##1##1##1#1#1#1#1#1#1##1##1##1#1#1#1##1##1##1#1##1##1#1#1#1#1##1##1##1##1#1##1#1#1##1##1##1##1#####11111111111###111111###11##111#111##111##1111111####11#111#111##1111####111#####111111###111###1##1111####1#11####11#####111111###111###1##1111####1#11####'\n",
        "\n",
        "multiply = '111##1111##11#####11111111###1111###11111##111111##11111####11111#111111#11111111####111111#####111111###111###11##1111####11#111111####111#####11111111###1111###111111##1111111##11111####111111#1111111#11111111####1111111#####111111###111###111##1111####111#111111####11111#####111111###111111111###111111#####11111111111###1111111111###111111####111111#####111111111111111###111111###11111###111111#####111###1111111111111####1###11111#####111###11####111####111111#####1111###11####111####11111#11111#####111###1111111111111111111111111111111111111111111111111111111111111111111111111111111111111111111111111111111###1#1#####11111111###1111###11111##111111##11111####11111#111111#11111111####111111#####111111###111###1##1111####1#111111####1111#####111111###111###111111##1111####111111#111111####11111#####111###111111###111111111###111111#####11111111111111111111111111111111111###11111111111111111111111111###111111111111111111111111111###111111#####11111111111111111111111###1111111111111111111111111111###111111111111111111111###111111#####111111111111111111111###111111111111111111###1111111111111111111###11111#####111###111111###111111111###111111#####11111111111###1111111111111111###111111111###111111#####1111111111111###1111111111###11111111111###111111#####111###11111111###1###1111111#111111111111111111111111111111111####1111111##11111111111111111111111111111111111####1111111#111111111111111111111####1111111##11111111111111111111111####1###1111111#####111111###111###11111##1111####11111#111111####11111#####111111###111###1111##1111####1111#111111####111#####1111111111111###1111111111###11111#111#####111111###111###11111##1111####11111#111111####1111###11111##1111111111111####11111#11111#####111111###111###111##1111####111#111111####1111111111111111111111111111111111111111111111111111111111111111111111111111111111111111111111111111111111111111111111111111111111111111111111111111111111111111####1#####111###11####111####11#####111###11####111####111#####111###11####111####1111#####111111###111###1##1111####1#111111####'\n",
        "\n",
        "universal = '1#####1###11###11####111111#1#####111###111111###1111111###11111#####1111111111111111111111111111111111111111111111111111111111111111111111111111111111111111111111111111111111111111111###1###1####111#111111111####111##1#####1111###11###11111###111#11111#####1111111111111111111111111111111111111111111111###111111111###111##1#####1111###11###11111###111#11111#####1111111111111111111111111111111111111###111111111###111##1#####1111###11###11111###111#11111#####1111111111111111111111111111111111111111111111###111111111###111##1#####1111###11###11111###111#11111#####111111111111111111111111111111111111111111111111111111###111111111###111##1#####1111###11###11111111111111111111111111111111111111111111111111111111111111111111111111111111111111111111111111111111111111111111111111111111111111111111111111111111111111111111111111111111111111111111111111111111111111111111111111111111111111111111111111111###111#11111#####1111111111###1###111#####111111###111###1111##1111####1111#111111####11111111111111111111111111111111111111111111111111111111111111####111#####1###11###1111###11111#1111#111111####11111##1111##111#####1111111###1111###1111##11111##11111####1111#1111111####111111111111111111111111111111111111111111111111111111111111111111111111111###111#####1###11###11111###11111#1111#111111#1111111####1111##111#####111111###111###1111##1111####1111#111111####11111111111111111111111111111111111111111111111111111111111111111111111111111111111111111111111111####111#####1###11###1111###1111#11111#111111####11111#11111#1111##111#####111111###111###1111##1111####1111#111111####11111#####11111111###11###1###111111#####111111111111111111111111111111111111111111111111111111111111111111111111111111111111111111111111111111111111111111111111111111111111111111111111111###1###1###11111111####111111#####1111###111#11111#1111####111#####111###111111#111####1#####111111###111###111##1111####111#111111####1111#####111111###111###1##1111####1#111111####111#####111111###111###1##1111####1#111111####111111111111111111111111111111111111111111111111111111111####11#####111###11111###111111111111###11##11##111111####111#11#####1###111###111##11###111#11111111111111####111##11#####11111111111111111111111111111111111111111111111111111111111111111111###1###111##11111#####1###1111111111111111111111####11111#####1111111111111111111111111111###111111111111111111111111111###11111#####111###11###111111111111111111111111111111111111111111111###11#####111111111111111111###111111111###111#11#####1###1###111#111##111##111111111111111111111111111111111111111111111111111111111###111#11#####1###111###111##11###111#111111111111111111####111#111#1111111111111111111111111111111111111111111111###11#####111111111111111111###111111111###111#11#####1###1###111##111##111##11111111111111111111111111111111111###111#11#####1###111###111##11###111#111111111111111111####111#111##111111111111111111111111###11111#####1###1###11111#####1###1###11#####11111111111111111111111###111###111##1111111111111###11#####1###11111###1###11111#111111#111111###11111#11111#111111#111111#1###11#####111111###111###111##1111####111#111111####111#####111111###111###11##1111####11#111111####1111111111111111111111111111111111111111111111111111111111111111111111111111111111111111111111111111111111111111####11#####1###1###11#####1###1###11#####11111111111111###11###11111111###11#####1###111###1#11111111####1##1111111111####11#####111###11####111####111111#####11###11####1111#####111###11####111####'\n",
        "\n",
        "clear_2 = '11#####111###11####111####'\n",
        "clear_3 = '111#####111###11####111####'\n",
        "clear_4 = '1111#####111###11####111####'\n",
        "move_1_2= '1#####111111###111###11##1111####11#111111####'\n",
        "move_1_3= '1#####111111###111###111##1111####111#111111####'\n",
        "move_1_4= '1#####111111###111###1111##1111####1111#111111####'\n",
        "move_2_1= '11#####111111###111###1##1111####1#111111####'\n",
        "move_2_3= '11#####111111###111###111##1111####111#111111####'\n",
        "move_2_4= '11#####111111###111###1111##1111####1111#111111####'\n",
        "move_3_1= '111#####111111###111###1##1111####1#111111####'\n",
        "move_3_2= '111#####111111###111###11##1111####11#111111####'\n",
        "move_3_4= '111#####111111###111###1111##1111####1111#111111####'\n",
        "move_4_1= '1111#####111111###111###1##1111####1#111111####'\n",
        "move_4_2= '1111#####111111###111###11##1111####11#111111####'\n",
        "move_4_3= '1111#####111111###111###111##1111####111#111111####'\n",
        "copy_1_2_3 = '1#####11111111###1111###11##111##11111####11#111#11111111####111#####111111###111###1##1111####1#111111####'\n",
        "copy_1_2_4 ='1#####11111111###1111###11##1111##11111####11#1111#11111111####1111#####111111###111###1##1111####1#111111####'\n",
        "copy_1_3_4='1#####11111111###1111###111##1111##11111####111#1111#11111111####1111#####111111###111###1##1111####1#111111####'\n",
        "copy_2_3_4 = '11#####11111111###1111###111##1111##11111####111#1111#11111111####1111#####111111###111###11##1111####11#111111####'"
      ],
      "metadata": {
        "id": "iIXa-nxyEp_F",
        "cellView": "form"
      },
      "execution_count": 4,
      "outputs": []
    },
    {
      "cell_type": "code",
      "source": [
        "#@title\n",
        "def findme(pair,pair_list): \n",
        "  x = [i for i in range(len(pair_list)) if pair_list[i][0]==pair[1]]\n",
        "  return x[0]\n",
        "\n",
        "def add_placeholder(line):\n",
        "  keywords = ['cases','add1','add#','goto','non_label']\n",
        "  if line[0] in keywords:\n",
        "    return(['non_label']+line)\n",
        "  elif line[0][0] in ['1','#']:\n",
        "    return(['non_label']+line)  \n",
        "  else:\n",
        "    return(line)\n",
        "\n",
        "def flatten(tuple):\n",
        "  b = len(tuple)\n",
        "  if b > 1 and tuple[1] == \"cases\":\n",
        "    n = tuple[2]\n",
        "    x = ones(n)+'#####'\n",
        "    return [[tuple[0],x], [tuple[0]+'@1',tuple[3]], [tuple[0]+'@2',tuple[4]], [tuple[0]+'@3',tuple[5]]]\n",
        "  elif b > 1 and tuple[1]=='add1':\n",
        "    return([[tuple[0],ones(tuple[2])+'#']])\n",
        "  elif b > 1 and tuple[1]=='add#':\n",
        "    return([[tuple[0],ones(tuple[2])+'##']])\n",
        "  elif b > 1 and tuple[1]=='goto':\n",
        "    return [[tuple[0],tuple[2]]]\n",
        "  elif tuple[1][0] in ['1', '#']:\n",
        "    k = parse(tuple[1])\n",
        "    m = len(k)\n",
        "    return([[tuple[0],k[j]] for j in range(m)])\n",
        "\n",
        "\n",
        "def ones(n):\n",
        "  return(unparse(['1' for i in range(n)])) \n",
        "\n",
        "def resolve(index,pair_list):\n",
        "  pair_in_list = pair_list[index]\n",
        "  #print(\"pair_in_list \" + str(pair_in_list))\n",
        "  first_char = pair_in_list[1][0]\n",
        "  #print(first_char)\n",
        "  if first_char == '1' or first_char == '#':\n",
        "    return pair_in_list[1]\n",
        "  elif pair_in_list[1]=='end':\n",
        "    n = len(pair_list) - index\n",
        "    return(ones(n)+'###')\n",
        "  else:\n",
        "    k = findme(pair_in_list,pair_list)\n",
        "    if k > index:\n",
        "      return(ones(k-index)+'###')\n",
        "    if k < index:\n",
        "      return(ones(index-k)+'####')\n",
        "\n",
        "\n",
        "def sanity(line_list):\n",
        "  w = [add_placeholder(line) for line in line_list]\n",
        "  #print(\"[add_placeholder(line) for line in line_list] is\")\n",
        "  #print(w)\n",
        "  s1 = [flatten(line) for line in w]\n",
        "  #print('[flatten(line) for line in w] is')\n",
        "  #print(s1)\n",
        "  t1 = [item for sublist in s1 for item in sublist]\n",
        "  #print('[item for sublist in s1 for item in sublist] is')\n",
        "  #print(t1)\n",
        "  n = len(t1)\n",
        "  #print('len of t1 = ' + str(n))\n",
        "  u1 = [resolve(i,t1) for i in range(n)] \n",
        "  return(unparse(u1))      "
      ],
      "metadata": {
        "cellView": "form",
        "id": "bFFeTqR2hA2Q"
      },
      "execution_count": 5,
      "outputs": []
    },
    {
      "cell_type": "code",
      "execution_count": 6,
      "metadata": {
        "id": "ymi5UxWLEIup",
        "cellView": "form"
      },
      "outputs": [],
      "source": [
        "#@title\n",
        "class Tree(object):\n",
        "    \"Generic tree node.\"\n",
        "    def __init__(self, name='root', children=None, other='other'):\n",
        "        self.name = name\n",
        "        self.other = other\n",
        "        self.children = []\n",
        "        if children is not None:\n",
        "            for child in children:\n",
        "                self.add_child(child)\n",
        "    def __repr__(self):\n",
        "        return self.name\n",
        "    def add_child(self, node):\n",
        "        assert isinstance(node, Tree)\n",
        "        self.children.append(node)\n",
        "#    *\n",
        "#   /|\\\n",
        "#  1 2 +\n",
        "#     / \\\n",
        "#    3   4\n",
        "t = Tree('*', [Tree('1',[],1),\n",
        "               Tree('2'),\n",
        "               Tree('*', [Tree('3'),\n",
        "                          Tree('4')])],2)\n",
        "\n",
        "def arity(tree):\n",
        "  if tree.name == 'z':\n",
        "    return(1)\n",
        "  if tree.name == 's':\n",
        "    return(1)\n",
        "  if tree.name == 'proj':\n",
        "    return(tree.other[1])\n",
        "  if tree.name == 'comp':\n",
        "    templist = [arity(u) for u in tree.children[1:]]  \n",
        "    if all_equal(templist):\n",
        "      return (templist[0])\n",
        "    else:\n",
        "      return(999)\n",
        "  if tree.name == 'plus':\n",
        "      return(2)    \n",
        "\n",
        "def maxie(l):\n",
        "  if l == []:\n",
        "    return(0)\n",
        "  else:\n",
        "    return(max(l))\n",
        "def height(tree):\n",
        "  n = maxie([height(u) +1 for u in tree.children])\n",
        "  return(n)\n",
        "def all_equal(list):\n",
        "  if (len(list)==0 or len(list)==1):\n",
        "    return(True)\n",
        "  else:\n",
        "    b = all_equal(list[1:])  \n",
        "    if b == False:\n",
        "      return(False)\n",
        "    else:\n",
        "      return(list[0]==list[1])\n",
        "\n",
        "def bump_instr(inst, amount):\n",
        "  if instruction_type(inst) in ['forward','backward']:  \n",
        "    return(inst) \n",
        "  elif instruction_type(inst) == 'add1':  \n",
        "    n = number_help(inst)\n",
        "    return(ones(n+amount)+'#')\n",
        "  elif instruction_type(inst) == 'add#':  \n",
        "    n = number_help(inst)\n",
        "    return(ones(n+amount)+'##')\n",
        "  elif instruction_type(inst) == 'cases':  \n",
        "    n = number_help(inst)\n",
        "    return(ones(n+amount)+'#####')\n",
        "def bump(prog,amount):\n",
        "  par = parse(prog)\n",
        "  t = [bump_instr(instr,amount) for instr in par]\n",
        "  return(unparse(t))\n",
        "\n",
        "def clear_prog(n):\n",
        "   a = ones(n) + '#####'\n",
        "   b = '111###'\n",
        "   c = '1###'\n",
        "   d = '111####'\n",
        "   return(a+b+c+d)\n",
        "\n",
        "def move_prog(n,m):\n",
        "   a = ones(n) + '#####'\n",
        "   b = '111111###'\n",
        "   c = '111###'\n",
        "   d = ones(m)+'##'\n",
        "   e = '1111####'\n",
        "   f = ones(m)+'#'\n",
        "   g = '111111####'\n",
        "   return(a+b+c+d+e+f+g)\n",
        "\n",
        "def copy_prog(n,m,p):\n",
        "   a = ones(n) + '#####'\n",
        "   b = '11111111###'\n",
        "   c = '1111###'\n",
        "   d = ones(m)+'##'\n",
        "   d1 = ones(p) + '##'\n",
        "   e = '11111####'\n",
        "   f = ones(m)+'#'\n",
        "   f1 = ones(p) + '#'\n",
        "   g = '11111111####'\n",
        "   return(a+b+c+d+d1+e+f+f1+g+move_prog(p,n))  \n",
        "\n",
        "def proj_prog_official(ind,upper):\n",
        "  index = [k+1 for k in range(ind-1)]    \n",
        "  #print(index)\n",
        "  first_part = [clear_prog(j) for j in index]\n",
        "  #print(first_part)\n",
        "  if ind == 1:\n",
        "    middle = []\n",
        "  else: \n",
        "    middle=[move_prog(ind,1)]\n",
        "  second_index =  [k+ind+1 for k in range(upper-ind)] \n",
        "  #print(second_index)\n",
        "  last_part = [clear_prog(j) for j in second_index]   \n",
        "  together = first_part + middle + last_part\n",
        "  done = unparse(together)\n",
        "  if ind == 1 and upper==1:\n",
        "    return('1###')\n",
        "  else:\n",
        "    return(done)   \n",
        "\n",
        "def proj_prog(ind,upper):\n",
        "  return(copy_prog(ind,upper+1, upper+2))\n",
        "\n",
        "def copy_all_forward(n,m):\n",
        "  # copies 1 to m, 2 to m+1, . . . n to m+n-1\n",
        "  a = [copy_prog(i,m+i-1, m+i) for i in range(1,n+1)]\n",
        "  return(unparse(a))\n",
        "\n",
        "# bad version below, not 'in place'  \n",
        "#def compose(f,proglist,n):\n",
        "  # n is number of registers needed by the fns in the proglist\n",
        "  #k = len(proglist)\n",
        "  #a = [copy_all_forward(n,n+i)+bump(proglist[i-1],n+i-1) for i in range(1,k+1)]\n",
        "  #b = unparse(a)\n",
        "  #c = b + bump(f,n)\n",
        "  ## should have a move of register n+1 back to 1 and a clear\n",
        "  #return(c)\n",
        "\n"
      ]
    },
    {
      "cell_type": "code",
      "source": [
        "h = compose(multiply,[proj_prog(2,3),proj_prog(1,3)],3)\n",
        "n = 3\n",
        "i = 2\n",
        "#onesharp(copy_all_forward(n,n+i)+ bump(proj_prog(3,3),4), ['11', '1#', '##1'])\n",
        "onesharp(h, ['11', '#1', '##1'])"
      ],
      "metadata": {
        "colab": {
          "base_uri": "https://localhost:8080/",
          "height": 240
        },
        "id": "6idYRW70Enjd",
        "outputId": "fd7e0e3a-dae1-48b5-9fc3-5bf9debd0243"
      },
      "execution_count": 7,
      "outputs": [
        {
          "output_type": "error",
          "ename": "NameError",
          "evalue": "ignored",
          "traceback": [
            "\u001b[0;31m---------------------------------------------------------------------------\u001b[0m",
            "\u001b[0;31mNameError\u001b[0m                                 Traceback (most recent call last)",
            "\u001b[0;32m<ipython-input-7-5113d157152f>\u001b[0m in \u001b[0;36m<module>\u001b[0;34m\u001b[0m\n\u001b[0;32m----> 1\u001b[0;31m \u001b[0mh\u001b[0m \u001b[0;34m=\u001b[0m \u001b[0mcompose\u001b[0m\u001b[0;34m(\u001b[0m\u001b[0mmultiply\u001b[0m\u001b[0;34m,\u001b[0m\u001b[0;34m[\u001b[0m\u001b[0mproj_prog\u001b[0m\u001b[0;34m(\u001b[0m\u001b[0;36m2\u001b[0m\u001b[0;34m,\u001b[0m\u001b[0;36m3\u001b[0m\u001b[0;34m)\u001b[0m\u001b[0;34m,\u001b[0m\u001b[0mproj_prog\u001b[0m\u001b[0;34m(\u001b[0m\u001b[0;36m1\u001b[0m\u001b[0;34m,\u001b[0m\u001b[0;36m3\u001b[0m\u001b[0;34m)\u001b[0m\u001b[0;34m]\u001b[0m\u001b[0;34m,\u001b[0m\u001b[0;36m3\u001b[0m\u001b[0;34m)\u001b[0m\u001b[0;34m\u001b[0m\u001b[0;34m\u001b[0m\u001b[0m\n\u001b[0m\u001b[1;32m      2\u001b[0m \u001b[0mn\u001b[0m \u001b[0;34m=\u001b[0m \u001b[0;36m3\u001b[0m\u001b[0;34m\u001b[0m\u001b[0;34m\u001b[0m\u001b[0m\n\u001b[1;32m      3\u001b[0m \u001b[0mi\u001b[0m \u001b[0;34m=\u001b[0m \u001b[0;36m2\u001b[0m\u001b[0;34m\u001b[0m\u001b[0;34m\u001b[0m\u001b[0m\n\u001b[1;32m      4\u001b[0m \u001b[0;31m#onesharp(copy_all_forward(n,n+i)+ bump(proj_prog(3,3),4), ['11', '1#', '##1'])\u001b[0m\u001b[0;34m\u001b[0m\u001b[0;34m\u001b[0m\u001b[0;34m\u001b[0m\u001b[0m\n\u001b[1;32m      5\u001b[0m \u001b[0monesharp\u001b[0m\u001b[0;34m(\u001b[0m\u001b[0mh\u001b[0m\u001b[0;34m,\u001b[0m \u001b[0;34m[\u001b[0m\u001b[0;34m'11'\u001b[0m\u001b[0;34m,\u001b[0m \u001b[0;34m'#1'\u001b[0m\u001b[0;34m,\u001b[0m \u001b[0;34m'##1'\u001b[0m\u001b[0;34m]\u001b[0m\u001b[0;34m)\u001b[0m\u001b[0;34m\u001b[0m\u001b[0;34m\u001b[0m\u001b[0m\n",
            "\u001b[0;31mNameError\u001b[0m: name 'compose' is not defined"
          ]
        }
      ]
    },
    {
      "cell_type": "code",
      "source": [
        "u = Tree('comp', [Tree('proj',[],[2,4]),\n",
        "               Tree('z'),\n",
        "               Tree('comp', [Tree('s'),\n",
        "                          Tree('proj',[],[1,4])])],2)\n",
        "h = Tree('comp', [Tree('z'),Tree('proj',[], [1,2])])\n",
        "h2 = Tree('proj',[], [2,4])\n",
        "print(arity(h2))\n",
        "\n",
        "h1 = Tree('z')\n",
        "arity(h2)\n",
        "all_equal([arity(k) for k in h.children])\n",
        "\n",
        "h5 = Tree('comp',[Tree('add'),Tree('proj',[],[2,4]), Tree('proj',[],[3,4])])\n",
        "print('h5 arity' + str(arity(h5)))\n",
        "h6 = Tree('add')\n",
        "p_2_4 = Tree('proj',[],[2,4])\n",
        "print(arity(p_2_4))\n",
        "[5,6,7][1:]\n",
        "h5.children"
      ],
      "metadata": {
        "colab": {
          "base_uri": "https://localhost:8080/",
          "height": 240
        },
        "id": "mdK6EE3-E5_P",
        "outputId": "71654143-44d9-48ac-ad09-2e493d2a8d49"
      },
      "execution_count": 8,
      "outputs": [
        {
          "output_type": "error",
          "ename": "NameError",
          "evalue": "ignored",
          "traceback": [
            "\u001b[0;31m---------------------------------------------------------------------------\u001b[0m",
            "\u001b[0;31mNameError\u001b[0m                                 Traceback (most recent call last)",
            "\u001b[0;32m<ipython-input-8-ee6d5887da45>\u001b[0m in \u001b[0;36m<module>\u001b[0;34m\u001b[0m\n\u001b[0;32m----> 1\u001b[0;31m u = Tree('comp', [Tree('proj',[],[2,4]),\n\u001b[0m\u001b[1;32m      2\u001b[0m                \u001b[0mTree\u001b[0m\u001b[0;34m(\u001b[0m\u001b[0;34m'z'\u001b[0m\u001b[0;34m)\u001b[0m\u001b[0;34m,\u001b[0m\u001b[0;34m\u001b[0m\u001b[0;34m\u001b[0m\u001b[0m\n\u001b[1;32m      3\u001b[0m                Tree('comp', [Tree('s'),\n\u001b[1;32m      4\u001b[0m                           Tree('proj',[],[1,4])])],2)\n\u001b[1;32m      5\u001b[0m \u001b[0mh\u001b[0m \u001b[0;34m=\u001b[0m \u001b[0mTree\u001b[0m\u001b[0;34m(\u001b[0m\u001b[0;34m'comp'\u001b[0m\u001b[0;34m,\u001b[0m \u001b[0;34m[\u001b[0m\u001b[0mTree\u001b[0m\u001b[0;34m(\u001b[0m\u001b[0;34m'z'\u001b[0m\u001b[0;34m)\u001b[0m\u001b[0;34m,\u001b[0m\u001b[0mTree\u001b[0m\u001b[0;34m(\u001b[0m\u001b[0;34m'proj'\u001b[0m\u001b[0;34m,\u001b[0m\u001b[0;34m[\u001b[0m\u001b[0;34m]\u001b[0m\u001b[0;34m,\u001b[0m \u001b[0;34m[\u001b[0m\u001b[0;36m1\u001b[0m\u001b[0;34m,\u001b[0m\u001b[0;36m2\u001b[0m\u001b[0;34m]\u001b[0m\u001b[0;34m)\u001b[0m\u001b[0;34m]\u001b[0m\u001b[0;34m)\u001b[0m\u001b[0;34m\u001b[0m\u001b[0;34m\u001b[0m\u001b[0m\n",
            "\u001b[0;31mNameError\u001b[0m: name 'Tree' is not defined"
          ]
        }
      ]
    },
    {
      "cell_type": "code",
      "source": [
        "#pr is an index of predecessor in bb.\n",
        "# One hitch is that pr(##1) will be 11#, not 11 as we would want.\n",
        "# But pr(1###) would be #, not ####, because pr has a module at the end that \n",
        "# rectifies #### to #.\n",
        "pr = '1#####111###111###111111111111111111111111111111111111111111###11111111111111111111111111111111111111111111111111111111111111111111111111111111111111111111111111111111111111111111111111111111111111111111###1#####111###1111###11111111111111111111###1##11111111111111111111111111111111111111111111111111111111111111111111111111111111111111111111111111111111111111111111111111111111111111###11#11#1#####111111###111###11##1111####11#111111####11#####111111###111###1##1111####1#111111####1111111111111111111111111111111111111111111111111111111111###11#11##1#####111111###111###11##1111####11#111111####11#####111111###111###1##1111####1#111111####11111111111111111111111111111111111111111###1#####111###1111###11111111111111111111###1##1111111111111111111111111111111111111111111111111111111111111111111111111111111111111111111111###11##11#1#####111111###111###11##1111####11#111111####11#####111111###111###1##1111####1#111111####111111111111111111###11##11##1#####111111###111###11##1111####11#111111####11#####111111###111###1##1111####1#111111####1###1#####111###1111111111###1111111111111111111111111###11#####111111###111###1##1111####1#111111####111111111111111111111111111111111111111111111111###11##1#####111111###111###11##1111####11#111111####11#####111111###111###1##1111####1#111111####11111111111111111111111111111111###11#1#####111###1111111111###1111111111111111111111111###11#####111111###111###1##1111####1#111111####1111111111111111111###11##1#####111111###111###11##1111####11#111111####11#####111111###111###1##1111####1#111111####111###11#11111111111111111111111111111####1#####111###11111111###11111111111111111111111###1##11#####111###11####111####1111111111111111111###11#1#####111111###111###11##1111####11#111111####11#####111111###111###1##1111####1#111111####111###11##111111111111111111111111111####'"
      ],
      "metadata": {
        "id": "js9M0DedFuzm"
      },
      "execution_count": null,
      "outputs": []
    },
    {
      "cell_type": "code",
      "source": [
        "onesharp(pr,['#11'])"
      ],
      "metadata": {
        "colab": {
          "base_uri": "https://localhost:8080/",
          "height": 35
        },
        "id": "nqTU99d0vXGn",
        "outputId": "7f878fad-bede-4db2-e520-a810bb6e360d"
      },
      "execution_count": null,
      "outputs": [
        {
          "output_type": "execute_result",
          "data": {
            "text/plain": [
              "'1#1'"
            ],
            "application/vnd.google.colaboratory.intrinsic+json": {
              "type": "string"
            }
          },
          "metadata": {},
          "execution_count": 13
        }
      ]
    },
    {
      "cell_type": "code",
      "source": [
        "# s is an index of the successor function in bb\n",
        "s = '1#####111###111###1111111111111111111111111###1111111111111111111111111111111111111111###11##1#####111###111111111111111111###1111111111111111111###11#1#####111111###111###11##1111####11#111111####11#####111111###111###1##1111####1#111111####1111111111111111111###11##111111111111111111111####11#1#####111111###111###11##1111####11#111111####11#####111111###111###1##1111####1#111111####1###'\n",
        "h = '#'\n",
        "for i in range(11):\n",
        "  h = onesharp(s,[h])\n",
        "  print(h)"
      ],
      "metadata": {
        "id": "ZFekcwF6v0LQ",
        "outputId": "fa0447d5-8ede-41cf-c5c9-2fb214723bb2",
        "colab": {
          "base_uri": "https://localhost:8080/"
        }
      },
      "execution_count": 17,
      "outputs": [
        {
          "output_type": "stream",
          "name": "stdout",
          "text": [
            "1\n",
            "#1\n",
            "11\n",
            "##1\n",
            "1#1\n",
            "#11\n",
            "111\n",
            "###1\n",
            "1##1\n",
            "#1#1\n",
            "11#1\n"
          ]
        }
      ]
    },
    {
      "cell_type": "code",
      "source": [],
      "metadata": {
        "id": "c5GlvLmhTnoz"
      },
      "execution_count": null,
      "outputs": []
    },
    {
      "cell_type": "code",
      "source": [
        "def compare_prog(n,m): # _checks if Rn and Rm have the same thing, \n",
        "  #preserving them.   At the end, R(n+1) either has \n",
        "  # nothing (if original Rn and Rm are the same) or 1 (if they weren't)\n",
        "   p = (ones(n) + '#####' + \n",
        "     '111###' + \n",
        "     '111111###' + \n",
        "     '111111111###' + \n",
        "     ones(m) + '#####' + \n",
        "     '11111111111###' + \n",
        "     '11111111111###' + \n",
        "     '111111111111###' + \n",
        "     ones(m) + '#####' + \n",
        "     '111111111111###' + \n",
        "     '1111111111111###' + \n",
        "     '111111111111111###' + \n",
        "     ones(m) + '#####' + \n",
        "     '1111111111111111###' + \n",
        "     '11111111111111111###' + \n",
        "     '1111111111111111111###' + \n",
        "     '111111111111111111111111111111111111111111111111111###' + \n",
        "     ones(n+2) + '#' + \n",
        "     '1111111111111111111###' + \n",
        "     ones(n+2) + '##' + \n",
        "     '11111111111111111###' + \n",
        "     ones(n+1) + '#' + \n",
        "     '111111111111111###' + \n",
        "     ones(n+1) + '#' + \n",
        "     ones(n+2) + '#' + \n",
        "     '1111111111111111111111111####' + \n",
        "     ones(n+1) + '#' + \n",
        "     ones(n+2) + '##' + \n",
        "     '111111111###' + \n",
        "     ones(n+1) + '##' + \n",
        "     '1111111###' + \n",
        "     ones(n+1) + '##' + \n",
        "     ones(n+2) + '#' + \n",
        "     '1111###' + \n",
        "     ones(n+1) + '##' + \n",
        "     ones(n+2) + '##' + \n",
        "     '111111111111111111111111111111111111####' + \n",
        "     ones(n) + '#####' + \n",
        "     '111111###' + \n",
        "     '111###' + \n",
        "     ones(n+1) + '##' + \n",
        "     '1111####' + \n",
        "     ones(n+1) + '#' + \n",
        "     '111111####' + \n",
        "     ones(n+1) + '#####' + \n",
        "     '111111###' + \n",
        "     '111###' + \n",
        "     ones(n) + '##' + \n",
        "     '1111####' + \n",
        "     ones(n) + '#' + \n",
        "     '111111####' + \n",
        "     ones(m) + '#####' + \n",
        "     '111111###' + \n",
        "     '111###' + \n",
        "     ones(n+2) + '##' + \n",
        "     '1111####' + \n",
        "     ones(n+2) + '#' + \n",
        "     '111111####' + \n",
        "     ones(n+2) + '#####' + \n",
        "     '111111###' + \n",
        "     '111###' + \n",
        "     ones(m) + '##' +   \n",
        "     '1111####' + \n",
        "     ones(m) + '#' +   \n",
        "     '111111####' + \n",
        "     ones(n+1) + '#' + \n",
        "     '111111111111111###' + \n",
        "     ones(n+1) + '#####' + \n",
        "     '111111###' + \n",
        "     '111###' + \n",
        "     ones(n) + '##' + \n",
        "     '1111####' + \n",
        "     ones(n) + '#' + \n",
        "     '111111####' + \n",
        "     ones(n+2) + '#####' + \n",
        "     '111111###' + \n",
        "     '111###' + \n",
        "     ones(m) + '##' +  \n",
        "     '1111####' + \n",
        "     ones(m) + '#' +   \n",
        "     '111111####')\n",
        "   return(p)\n",
        " \n",
        "  "
      ],
      "metadata": {
        "id": "SoRro1fFID4z"
      },
      "execution_count": 8,
      "outputs": []
    },
    {
      "cell_type": "code",
      "source": [
        "compare_prog(4,3)\n",
        "#onesharp(compare_prog(4,3),['111#', '#', '111#', '111#'])"
      ],
      "metadata": {
        "colab": {
          "base_uri": "https://localhost:8080/",
          "height": 160
        },
        "id": "IMESGiQcILGk",
        "outputId": "1fa08e61-865a-4329-e4ca-228d8755dfb7"
      },
      "execution_count": 254,
      "outputs": [
        {
          "output_type": "execute_result",
          "data": {
            "text/plain": [
              "'1111#####111###111111###111111111###111#####11111111111###11111111111###111111111111###111#####111111111111###1111111111111###111111111111111###111#####1111111111111111###11111111111111111###1111111111111111111###111111111111111111111111111111111111111111111111111###111111#1111111111111111111###111111##11111111111111111###11111#111111111111111###11111#111111#1111111111111111111111111####11111#111111##111111111###11111##1111111###11111##111111#1111###11111##111111##111111111111111111111111111111111111####1111#####111111###111###11111##1111####11111#111111####11111#####111111###111###1111##1111####1111#111111####111#####111111###111###111111##1111####111111#111111####111111#####111111###111###111##1111####111#111111####11111#111111111111111###11111#####111111###111###1111##1111####1111#111111####111111#####111111###111###111##1111####111#111111####'"
            ],
            "application/vnd.google.colaboratory.intrinsic+json": {
              "type": "string"
            }
          },
          "metadata": {},
          "execution_count": 254
        }
      ]
    },
    {
      "cell_type": "code",
      "source": [
        "def successor_prog(to_increment,to_use):\n",
        "  # gives a program to increment the register 'to_increment' by 1, using \n",
        "  # the register 'to_use'\n",
        "   p = (ones(to_increment) + \n",
        "     '#####' + \n",
        "     '111###' +\n",
        "     '111###' +\n",
        "     '1111111111111111111111111###'+\n",
        "     '1111111111111111111111111111111111111111###' +\n",
        "     ones(to_use) + '##' + \n",
        "     ones(to_increment) + '#####' + \n",
        "     '111###' +\n",
        "     '111111111111111111###' +\n",
        "     '1111111111111111111###' +\n",
        "     ones(to_use) + '#' + \n",
        "     ones(to_increment) + '#####' + \n",
        "     '111111###' +\n",
        "     '111###' +\n",
        "     ones(to_use) + '##' + \n",
        "     '1111####' +\n",
        "     ones(to_use) + '#' + \n",
        "     '111111####' +\n",
        "     ones(to_use) + '#####' + \n",
        "     '111111###' +\n",
        "     '111###' +\n",
        "     ones(to_increment) + '##' + \n",
        "     '1111####' +\n",
        "     ones(to_increment) + '#' +  \n",
        "     '111111####' +\n",
        "     '1111111111111111111###'  +\n",
        "     ones(to_use) + '##' +  \n",
        "     '111111111111111111111####' +\n",
        "     ones(to_use) + '#' +  \n",
        "     ones(to_increment) + '#####' +  \n",
        "     '111111###' +\n",
        "     '111###' +\n",
        "     ones(to_use) + '##' +  \n",
        "     '1111####' +\n",
        "     ones(to_use) + '#' + \n",
        "     '111111####' +\n",
        "     ones(to_use) + '#####' +  \n",
        "     '111111###' +\n",
        "     '111###' +\n",
        "     ones(to_increment) + '##' +  \n",
        "     '1111####' +\n",
        "     ones(to_increment) + '#' + \n",
        "     '111111####' +\n",
        "     '1###'\n",
        "     )\n",
        "   return(p)    "
      ],
      "metadata": {
        "id": "VQHBn0HFSDED"
      },
      "execution_count": 9,
      "outputs": []
    },
    {
      "cell_type": "code",
      "source": [
        "len(parse(successor_prog(4,5)))\n"
      ],
      "metadata": {
        "id": "ff9WERcfNSs2",
        "outputId": "ede5a815-083a-4bad-9ac6-ff7554fc9c30",
        "colab": {
          "base_uri": "https://localhost:8080/"
        }
      },
      "execution_count": null,
      "outputs": [
        {
          "output_type": "execute_result",
          "data": {
            "text/plain": [
              "44"
            ]
          },
          "metadata": {},
          "execution_count": 40
        }
      ]
    },
    {
      "cell_type": "code",
      "source": [
        "def pr(g,h,k,free): \n",
        "  #n is number of registers = number of arguments to <g,h>\n",
        "  #free is large enough so that neither g nor h use it or any larger register.\n",
        "  # g and h are assumed to preserve their inputs\n",
        "  length_of_move = 7\n",
        "  length_of_clear = 4\n",
        "  length_of_compare = 81\n",
        "  length_of_s = 44\n",
        "  length_of_h = len(parse(h))\n",
        "  big_num = (length_of_h + length_of_s + length_of_clear + length_of_move +\n",
        "             length_of_compare + 2)\n",
        "  p = (move_prog(k,free) +\n",
        "      ones(k+1) + '##' +\n",
        "      h +\n",
        "      compare_prog(free,k+1) +\n",
        "      ones(k+2) + '#####' +\n",
        "      ones(big_num()) + '###' +\n",
        "      h +\n",
        "      successor_prog(k+1,k+3) +\n",
        "      clear_prog(k+2) +\n",
        "      move_prog(k+2,k+1) +\n",
        "      compare_prog(free,k+1) +\n",
        "      ones(big_num) + '####' +\n",
        "      clear_prog(free)\n",
        "      )\n",
        "  return(p)  \n",
        "  "
      ],
      "metadata": {
        "id": "RBlea4VsTw7E"
      },
      "execution_count": 10,
      "outputs": []
    },
    {
      "cell_type": "code",
      "source": [
        "w =parse(multiply)\n",
        "len(w)"
      ],
      "metadata": {
        "id": "83JR_XvnQeKc",
        "outputId": "244e52d5-61e7-4758-de02-c657945cba1e",
        "colab": {
          "base_uri": "https://localhost:8080/"
        }
      },
      "execution_count": null,
      "outputs": [
        {
          "output_type": "execute_result",
          "data": {
            "text/plain": [
              "182"
            ]
          },
          "metadata": {},
          "execution_count": 58
        }
      ]
    },
    {
      "cell_type": "code",
      "source": [
        "first_prog = clear_1 + '11#'\n",
        "second_prog_prelim = compose(s,[proj_prog(1,2)],4) \n",
        "third_prog_prelim = proj_prog(1,2)\n",
        "second_prog = compose(multiply,[second_prog_prelim,third_prog_prelim], 10)"
      ],
      "metadata": {
        "id": "yKX2DLdLWs2-",
        "colab": {
          "base_uri": "https://localhost:8080/",
          "height": 222
        },
        "outputId": "31508437-99d6-470a-ff32-e965b8a61300"
      },
      "execution_count": null,
      "outputs": [
        {
          "output_type": "error",
          "ename": "TypeError",
          "evalue": "ignored",
          "traceback": [
            "\u001b[0;31m---------------------------------------------------------------------------\u001b[0m",
            "\u001b[0;31mTypeError\u001b[0m                                 Traceback (most recent call last)",
            "\u001b[0;32m<ipython-input-116-64128d2b26a7>\u001b[0m in \u001b[0;36m<module>\u001b[0;34m\u001b[0m\n\u001b[1;32m      1\u001b[0m \u001b[0mfirst_prog\u001b[0m \u001b[0;34m=\u001b[0m \u001b[0mclear_1\u001b[0m \u001b[0;34m+\u001b[0m \u001b[0;34m'11#'\u001b[0m\u001b[0;34m\u001b[0m\u001b[0;34m\u001b[0m\u001b[0m\n\u001b[0;32m----> 2\u001b[0;31m \u001b[0msecond_prog_prelim\u001b[0m \u001b[0;34m=\u001b[0m \u001b[0mcompose\u001b[0m\u001b[0;34m(\u001b[0m\u001b[0ms\u001b[0m\u001b[0;34m,\u001b[0m\u001b[0;34m[\u001b[0m\u001b[0mproj_prog\u001b[0m\u001b[0;34m(\u001b[0m\u001b[0;36m1\u001b[0m\u001b[0;34m,\u001b[0m\u001b[0;36m2\u001b[0m\u001b[0;34m)\u001b[0m\u001b[0;34m]\u001b[0m\u001b[0;34m,\u001b[0m\u001b[0;36m4\u001b[0m\u001b[0;34m)\u001b[0m\u001b[0;34m\u001b[0m\u001b[0;34m\u001b[0m\u001b[0m\n\u001b[0m\u001b[1;32m      3\u001b[0m \u001b[0mthird_prog_prelim\u001b[0m \u001b[0;34m=\u001b[0m \u001b[0mproj_prog\u001b[0m\u001b[0;34m(\u001b[0m\u001b[0;36m1\u001b[0m\u001b[0;34m,\u001b[0m\u001b[0;36m2\u001b[0m\u001b[0;34m)\u001b[0m\u001b[0;34m\u001b[0m\u001b[0;34m\u001b[0m\u001b[0m\n\u001b[1;32m      4\u001b[0m \u001b[0msecond_prog\u001b[0m \u001b[0;34m=\u001b[0m \u001b[0mcompose\u001b[0m\u001b[0;34m(\u001b[0m\u001b[0mmultiply\u001b[0m\u001b[0;34m,\u001b[0m\u001b[0;34m[\u001b[0m\u001b[0msecond_prog_prelim\u001b[0m\u001b[0;34m,\u001b[0m\u001b[0mthird_prog_prelim\u001b[0m\u001b[0;34m]\u001b[0m\u001b[0;34m,\u001b[0m \u001b[0;36m10\u001b[0m\u001b[0;34m)\u001b[0m\u001b[0;34m\u001b[0m\u001b[0;34m\u001b[0m\u001b[0m\n",
            "\u001b[0;31mTypeError\u001b[0m: compose() missing 1 required positional argument: 'clear_reg'"
          ]
        }
      ]
    },
    {
      "cell_type": "code",
      "source": [
        "#parse_explain(bump(s,2))\n",
        "\n",
        "onesharp(bump(s,2),['1', '1111#', '11'])\n",
        "#onesharp(second_prog_prelim,['11','#1'])"
      ],
      "metadata": {
        "id": "UlkG4AjeYwZ7",
        "outputId": "75e4a72a-fb96-4e62-b48a-d16734d35582",
        "colab": {
          "base_uri": "https://localhost:8080/",
          "height": 211
        }
      },
      "execution_count": null,
      "outputs": [
        {
          "output_type": "stream",
          "name": "stdout",
          "text": [
            "This is undefined.\n",
            "The register contents at the end are shown below.\n"
          ]
        },
        {
          "output_type": "display_data",
          "data": {
            "text/plain": [
              "<pandas.io.formats.style.Styler at 0x7f264772e710>"
            ],
            "text/html": [
              "<style type=\"text/css\">\n",
              "#T_410b6_row0_col0, #T_410b6_row1_col0, #T_410b6_row2_col0, #T_410b6_row3_col0 {\n",
              "  background-color: #FFFFCC;\n",
              "  text-align: left;\n",
              "}\n",
              "</style>\n",
              "<table id=\"T_410b6_\" class=\"dataframe\">\n",
              "  <thead>\n",
              "    <tr>\n",
              "      <th class=\"blank level0\" >&nbsp;</th>\n",
              "      <th class=\"col_heading level0 col0\" >contents</th>\n",
              "    </tr>\n",
              "  </thead>\n",
              "  <tbody>\n",
              "    <tr>\n",
              "      <th id=\"T_410b6_level0_row0\" class=\"row_heading level0 row0\" >1</th>\n",
              "      <td id=\"T_410b6_row0_col0\" class=\"data row0 col0\" >1</td>\n",
              "    </tr>\n",
              "    <tr>\n",
              "      <th id=\"T_410b6_level0_row1\" class=\"row_heading level0 row1\" >2</th>\n",
              "      <td id=\"T_410b6_row1_col0\" class=\"data row1 col0\" >1111#</td>\n",
              "    </tr>\n",
              "    <tr>\n",
              "      <th id=\"T_410b6_level0_row2\" class=\"row_heading level0 row2\" >3</th>\n",
              "      <td id=\"T_410b6_row2_col0\" class=\"data row2 col0\" >##1</td>\n",
              "    </tr>\n",
              "    <tr>\n",
              "      <th id=\"T_410b6_level0_row3\" class=\"row_heading level0 row3\" >4</th>\n",
              "      <td id=\"T_410b6_row3_col0\" class=\"data row3 col0\" ></td>\n",
              "    </tr>\n",
              "  </tbody>\n",
              "</table>\n"
            ]
          },
          "metadata": {}
        }
      ]
    },
    {
      "cell_type": "code",
      "source": [
        "bump(s,2)"
      ],
      "metadata": {
        "id": "Zh1QZlxuZDwi",
        "outputId": "67f9f3d2-d371-47bd-e735-ff87f77a33cc",
        "colab": {
          "base_uri": "https://localhost:8080/",
          "height": 71
        }
      },
      "execution_count": null,
      "outputs": [
        {
          "output_type": "execute_result",
          "data": {
            "text/plain": [
              "'111#####111###111###1111111111111111111111111###1111111111111111111111111111111111111111###1111##111#####111###111111111111111111###1111111111111111111###1111#111#####111111###111###1111##1111####1111#111111####1111#####111111###111###111##1111####111#111111####1111111111111111111###1111##111111111111111111111####1111#111#####111111###111###1111##1111####1111#111111####1111#####111111###111###111##1111####111#111111####1###'"
            ],
            "application/vnd.google.colaboratory.intrinsic+json": {
              "type": "string"
            }
          },
          "metadata": {},
          "execution_count": 82
        }
      ]
    },
    {
      "cell_type": "code",
      "source": [
        "#a = onesharp(proj_prog(1,2),['11','#1'])\n",
        "#print(a)\n",
        "onesharp(bump(s,2),['11','1','11'])"
      ],
      "metadata": {
        "id": "mwtCzYnCreZc",
        "outputId": "8186d7af-3b85-4e36-f30a-a567db4dc81a",
        "colab": {
          "base_uri": "https://localhost:8080/",
          "height": 211
        }
      },
      "execution_count": null,
      "outputs": [
        {
          "output_type": "stream",
          "name": "stdout",
          "text": [
            "This is undefined.\n",
            "The register contents at the end are shown below.\n"
          ]
        },
        {
          "output_type": "display_data",
          "data": {
            "text/plain": [
              "<pandas.io.formats.style.Styler at 0x7f26506b7d50>"
            ],
            "text/html": [
              "<style type=\"text/css\">\n",
              "#T_2ea02_row0_col0, #T_2ea02_row1_col0, #T_2ea02_row2_col0, #T_2ea02_row3_col0 {\n",
              "  background-color: #FFFFCC;\n",
              "  text-align: left;\n",
              "}\n",
              "</style>\n",
              "<table id=\"T_2ea02_\" class=\"dataframe\">\n",
              "  <thead>\n",
              "    <tr>\n",
              "      <th class=\"blank level0\" >&nbsp;</th>\n",
              "      <th class=\"col_heading level0 col0\" >contents</th>\n",
              "    </tr>\n",
              "  </thead>\n",
              "  <tbody>\n",
              "    <tr>\n",
              "      <th id=\"T_2ea02_level0_row0\" class=\"row_heading level0 row0\" >1</th>\n",
              "      <td id=\"T_2ea02_row0_col0\" class=\"data row0 col0\" >11</td>\n",
              "    </tr>\n",
              "    <tr>\n",
              "      <th id=\"T_2ea02_level0_row1\" class=\"row_heading level0 row1\" >2</th>\n",
              "      <td id=\"T_2ea02_row1_col0\" class=\"data row1 col0\" >1</td>\n",
              "    </tr>\n",
              "    <tr>\n",
              "      <th id=\"T_2ea02_level0_row2\" class=\"row_heading level0 row2\" >3</th>\n",
              "      <td id=\"T_2ea02_row2_col0\" class=\"data row2 col0\" >##1</td>\n",
              "    </tr>\n",
              "    <tr>\n",
              "      <th id=\"T_2ea02_level0_row3\" class=\"row_heading level0 row3\" >4</th>\n",
              "      <td id=\"T_2ea02_row3_col0\" class=\"data row3 col0\" ></td>\n",
              "    </tr>\n",
              "  </tbody>\n",
              "</table>\n"
            ]
          },
          "metadata": {}
        }
      ]
    },
    {
      "cell_type": "code",
      "source": [
        "def compose(outer_fn,proglist,argument_number,free_reg):\n",
        "  ## note that the outer_fn has to be 'full', not 'in place'!\n",
        "  k = len(proglist) # number of functions\n",
        "  arg = argument_number # = common arity in the proglist\n",
        "  a = [proglist[i] + move_prog(arg+1,free_reg+i+1) for i in range(0,k)]\n",
        "  b = unparse(a)\n",
        "  c = [move_prog(free_reg+i+1,k+i+2) for i in range(0,k)]\n",
        "  d = unparse(c)\n",
        "  f = bump(outer_fn,argument_number)\n",
        "  e = b + d + f   \n",
        "  return(e)"
      ],
      "metadata": {
        "id": "6iN2i5DWrkN9"
      },
      "execution_count": 10,
      "outputs": []
    },
    {
      "cell_type": "code",
      "source": [
        "proglist = [proj_prog(2,3),proj_prog(1,3)]\n",
        "clear_reg = 4\n",
        "argument_number = 3\n",
        "arg = argument_number\n",
        "free_reg = 6\n",
        "k = len(proglist) # number of functions\n",
        "print(k)\n",
        "#n = number of arguments that the proglist functions take\n",
        "a = [proglist[i] + move_prog(arg+1,free_reg+i+1) for i in range(0,k)]\n",
        "b = unparse(a)\n",
        "c = [move_prog(free_reg+i+1,k+i+2) for i in range(0,k)]\n",
        "d = unparse(c)\n",
        "outer_fn = multiply\n",
        "f = bump(outer_fn,argument_number)\n",
        "print(f)\n",
        "e = b + d + f\n",
        "#onesharp(f,['11', '#1#','11#','#1#','11#'])\n",
        "onesharp(e,['11','#1','#'])"
      ],
      "metadata": {
        "id": "91X-AM_pzoiO"
      },
      "execution_count": null,
      "outputs": []
    },
    {
      "cell_type": "code",
      "source": [
        "first =compose(multiply,[proj_prog(1,3), proj_prog(2,3)],3,7) \n",
        "second= compose(multiply,[first, proj_prog(3,3)],3,14)"
      ],
      "metadata": {
        "id": "gjjUX5XbzwK-"
      },
      "execution_count": null,
      "outputs": []
    },
    {
      "cell_type": "code",
      "source": [
        "onesharp(second,['11','#1','11'])"
      ],
      "metadata": {
        "id": "CHGIaROF1tOQ",
        "outputId": "26c948c7-7212-4ed0-d76f-6cd2fc853a4b",
        "colab": {
          "base_uri": "https://localhost:8080/",
          "height": 587
        }
      },
      "execution_count": 259,
      "outputs": [
        {
          "output_type": "stream",
          "name": "stdout",
          "text": [
            "This is undefined.\n",
            "The register contents at the end are shown below.\n"
          ]
        },
        {
          "output_type": "display_data",
          "data": {
            "text/plain": [
              "<pandas.io.formats.style.Styler at 0x7f2647770d10>"
            ],
            "text/html": [
              "<style type=\"text/css\">\n",
              "#T_ffe5e_row0_col0, #T_ffe5e_row1_col0, #T_ffe5e_row2_col0, #T_ffe5e_row3_col0, #T_ffe5e_row4_col0, #T_ffe5e_row5_col0, #T_ffe5e_row6_col0, #T_ffe5e_row7_col0, #T_ffe5e_row8_col0, #T_ffe5e_row9_col0, #T_ffe5e_row10_col0, #T_ffe5e_row11_col0, #T_ffe5e_row12_col0, #T_ffe5e_row13_col0, #T_ffe5e_row14_col0, #T_ffe5e_row15_col0 {\n",
              "  background-color: #FFFFCC;\n",
              "  text-align: left;\n",
              "}\n",
              "</style>\n",
              "<table id=\"T_ffe5e_\" class=\"dataframe\">\n",
              "  <thead>\n",
              "    <tr>\n",
              "      <th class=\"blank level0\" >&nbsp;</th>\n",
              "      <th class=\"col_heading level0 col0\" >contents</th>\n",
              "    </tr>\n",
              "  </thead>\n",
              "  <tbody>\n",
              "    <tr>\n",
              "      <th id=\"T_ffe5e_level0_row0\" class=\"row_heading level0 row0\" >1</th>\n",
              "      <td id=\"T_ffe5e_row0_col0\" class=\"data row0 col0\" >11</td>\n",
              "    </tr>\n",
              "    <tr>\n",
              "      <th id=\"T_ffe5e_level0_row1\" class=\"row_heading level0 row1\" >2</th>\n",
              "      <td id=\"T_ffe5e_row1_col0\" class=\"data row1 col0\" >#1</td>\n",
              "    </tr>\n",
              "    <tr>\n",
              "      <th id=\"T_ffe5e_level0_row2\" class=\"row_heading level0 row2\" >3</th>\n",
              "      <td id=\"T_ffe5e_row2_col0\" class=\"data row2 col0\" >11</td>\n",
              "    </tr>\n",
              "    <tr>\n",
              "      <th id=\"T_ffe5e_level0_row3\" class=\"row_heading level0 row3\" >4</th>\n",
              "      <td id=\"T_ffe5e_row3_col0\" class=\"data row3 col0\" >#1##1</td>\n",
              "    </tr>\n",
              "    <tr>\n",
              "      <th id=\"T_ffe5e_level0_row4\" class=\"row_heading level0 row4\" >5</th>\n",
              "      <td id=\"T_ffe5e_row4_col0\" class=\"data row4 col0\" ></td>\n",
              "    </tr>\n",
              "    <tr>\n",
              "      <th id=\"T_ffe5e_level0_row5\" class=\"row_heading level0 row5\" >6</th>\n",
              "      <td id=\"T_ffe5e_row5_col0\" class=\"data row5 col0\" ></td>\n",
              "    </tr>\n",
              "    <tr>\n",
              "      <th id=\"T_ffe5e_level0_row6\" class=\"row_heading level0 row6\" >7</th>\n",
              "      <td id=\"T_ffe5e_row6_col0\" class=\"data row6 col0\" ></td>\n",
              "    </tr>\n",
              "    <tr>\n",
              "      <th id=\"T_ffe5e_level0_row7\" class=\"row_heading level0 row7\" >8</th>\n",
              "      <td id=\"T_ffe5e_row7_col0\" class=\"data row7 col0\" ></td>\n",
              "    </tr>\n",
              "    <tr>\n",
              "      <th id=\"T_ffe5e_level0_row8\" class=\"row_heading level0 row8\" >9</th>\n",
              "      <td id=\"T_ffe5e_row8_col0\" class=\"data row8 col0\" ></td>\n",
              "    </tr>\n",
              "    <tr>\n",
              "      <th id=\"T_ffe5e_level0_row9\" class=\"row_heading level0 row9\" >10</th>\n",
              "      <td id=\"T_ffe5e_row9_col0\" class=\"data row9 col0\" ></td>\n",
              "    </tr>\n",
              "    <tr>\n",
              "      <th id=\"T_ffe5e_level0_row10\" class=\"row_heading level0 row10\" >11</th>\n",
              "      <td id=\"T_ffe5e_row10_col0\" class=\"data row10 col0\" ></td>\n",
              "    </tr>\n",
              "    <tr>\n",
              "      <th id=\"T_ffe5e_level0_row11\" class=\"row_heading level0 row11\" >12</th>\n",
              "      <td id=\"T_ffe5e_row11_col0\" class=\"data row11 col0\" ></td>\n",
              "    </tr>\n",
              "    <tr>\n",
              "      <th id=\"T_ffe5e_level0_row12\" class=\"row_heading level0 row12\" >13</th>\n",
              "      <td id=\"T_ffe5e_row12_col0\" class=\"data row12 col0\" ></td>\n",
              "    </tr>\n",
              "    <tr>\n",
              "      <th id=\"T_ffe5e_level0_row13\" class=\"row_heading level0 row13\" >14</th>\n",
              "      <td id=\"T_ffe5e_row13_col0\" class=\"data row13 col0\" ></td>\n",
              "    </tr>\n",
              "    <tr>\n",
              "      <th id=\"T_ffe5e_level0_row14\" class=\"row_heading level0 row14\" >15</th>\n",
              "      <td id=\"T_ffe5e_row14_col0\" class=\"data row14 col0\" ></td>\n",
              "    </tr>\n",
              "    <tr>\n",
              "      <th id=\"T_ffe5e_level0_row15\" class=\"row_heading level0 row15\" >16</th>\n",
              "      <td id=\"T_ffe5e_row15_col0\" class=\"data row15 col0\" ></td>\n",
              "    </tr>\n",
              "  </tbody>\n",
              "</table>\n"
            ]
          },
          "metadata": {}
        }
      ]
    },
    {
      "cell_type": "code",
      "source": [
        "len(parse(compare_prog(4,2)))"
      ],
      "metadata": {
        "id": "q_DBPreq10JR",
        "outputId": "4540dd9f-bfcd-401e-c952-00fc656b7b7b",
        "colab": {
          "base_uri": "https://localhost:8080/"
        }
      },
      "execution_count": 45,
      "outputs": [
        {
          "output_type": "execute_result",
          "data": {
            "text/plain": [
              "81"
            ]
          },
          "metadata": {},
          "execution_count": 45
        }
      ]
    },
    {
      "cell_type": "code",
      "source": [
        "def pr(g,h,k): \n",
        "  # <g,h>(x-bar,0) = g(x-bar)\n",
        "  # <g,h>(x-bar,n+1) = h(x-bar,n,<g,h>(x-bar,n))\n",
        "  # k is the number of xs, so the arity of <g,h> is k+1\n",
        "  # k+2 is the number of arguments to g\n",
        "  # k+1 is the number of arguments to the function we are building\n",
        "  #free is large enough so that neither g nor h use it or any larger register.\n",
        "  # g and h are assumed to preserve their inputs\n",
        "  length_of_move = 7\n",
        "  length_of_clear = 4\n",
        "  length_of_compare = 81\n",
        "  length_of_s = len(parse(successor_prog(1,5)))\n",
        "  length_of_h = len(parse(h))\n",
        "  n1 = max_register(g)\n",
        "  n2 = max_register(h)\n",
        "  free = max([n1,n2])\n",
        "  print(free)\n",
        "  big_num = (length_of_h + length_of_clear + length_of_move + length_of_s + \n",
        "             length_of_compare)\n",
        "  print('big_num')\n",
        "  print(len(ones(big_num)))\n",
        "  p = (move_prog(k+1,free) +\n",
        "      ones(k+1) + '##' +\n",
        "      g +\n",
        "      compare_prog(free,k+1) +\n",
        "      ones(free+1) + '#####' + ## back transfer goes here to this cases\n",
        "      '111###' + ones(length_of_clear + 3) + '###' + '1###' +\n",
        "      clear_prog(free) + \n",
        "      ones(big_num + 2) + '###' +\n",
        "      h + \n",
        "      clear_prog(k+2) + \n",
        "      move_prog(k+3,k+2)  + \n",
        "      successor_prog(k+1,k+3) +\n",
        "      compare_prog(free,k+1) +\n",
        "      ones(big_num + 9) + '####'\n",
        "      )  \n",
        "  return(p) \n",
        "\n",
        "hh = compose(multiply,[proj_prog(1,3), proj_prog(3,3)],3,7)\n",
        "gg = '111#'\n",
        "#onesharp(pr(gg,hh,1),['11','11'])\n",
        "\n",
        "parse_explain(pr(g,h,k))\n",
        "#onesharp(pr(g,h,k),['11','11'])"
      ],
      "metadata": {
        "id": "cvR4QLTT17uR"
      },
      "execution_count": null,
      "outputs": []
    },
    {
      "cell_type": "code",
      "source": [
        "hh = compose(multiply,[proj_prog(1,3), proj_prog(3,3)],3,7)\n",
        "gg = '111#'\n",
        "free = 10\n",
        "k = 1\n",
        "print(len(parse(hh + clear_prog(k+2) + \n",
        "      move_prog(k+3,k+2)  + \n",
        "      successor_prog(k+1,k+3) +\n",
        "      compare_prog(free,k+1))))"
      ],
      "metadata": {
        "id": "dm8pDysH78It",
        "outputId": "098e07ba-2a6d-453c-e058-f56b9eb1e854",
        "colab": {
          "base_uri": "https://localhost:8080/"
        }
      },
      "execution_count": 75,
      "outputs": [
        {
          "output_type": "stream",
          "name": "stdout",
          "text": [
            "378\n"
          ]
        }
      ]
    },
    {
      "cell_type": "code",
      "source": [
        "h = compose(multiply,[proj_prog(1,3), proj_prog(3,3)],3,7)\n",
        "g = '111#'\n",
        "k = 1\n",
        "length_of_move = 7\n",
        "length_of_clear = 4\n",
        "length_of_compare = 81\n",
        "length_of_s = 44\n",
        "length_of_h = len(parse(h))\n",
        "n1 = max_register(g)\n",
        "n2 = max_register(h)\n",
        "free = max([n1,n2])+1\n",
        "print('free = ' + str(free))\n",
        "plan = [['top',move_prog(k+1,free) + ones(k+1) + '##' +g ],\n",
        "        ['second',compare_prog(free,k+1)],\n",
        "        ['fourth', 'cases', free+1, 'a', 'main_loop', 'end' ],\n",
        "        ['a', clear_prog(free)],\n",
        "        ['goto', 'end'],\n",
        "        ['main_loop',h +clear_prog(k+2) + move_prog(k+3,k+2)  + successor_prog(k+1,k+3) +\n",
        "            compare_prog(free,k+1)],\n",
        "        ['goto', 'fourth'],\n",
        "       ]\n",
        "trial = sanity(plan)\n",
        "#onesharp(trial,['11','#1'])\n",
        "onesharp(h +clear_prog(k+2) + move_prog(k+3,k+2)  + successor_prog(k+1,k+3) +\n",
        "            compare_prog(free,k+1) #+\n",
        "         #h +\n",
        "         #clear_prog(k+3) + move_prog(k+4,k+3)  + successor_prog(k+1,k+4)# +\n",
        "            #compare_prog(free,k+1)\n",
        "            ,['11','1','11','','','', '', '','','', '11'])"
      ],
      "metadata": {
        "id": "hTBTd1m_2Cg_",
        "outputId": "428f276d-bdde-491e-cc82-fcf8b355f0e4",
        "colab": {
          "base_uri": "https://localhost:8080/",
          "height": 511
        }
      },
      "execution_count": 77,
      "outputs": [
        {
          "output_type": "stream",
          "name": "stdout",
          "text": [
            "free = 11\n",
            "This is undefined.\n",
            "The register contents at the end are shown below.\n"
          ]
        },
        {
          "output_type": "display_data",
          "data": {
            "text/plain": [
              "<pandas.io.formats.style.Styler at 0x7fc93efbea10>"
            ],
            "text/html": [
              "<style type=\"text/css\">\n",
              "#T_09029_row0_col0, #T_09029_row1_col0, #T_09029_row2_col0, #T_09029_row3_col0, #T_09029_row4_col0, #T_09029_row5_col0, #T_09029_row6_col0, #T_09029_row7_col0, #T_09029_row8_col0, #T_09029_row9_col0, #T_09029_row10_col0, #T_09029_row11_col0, #T_09029_row12_col0 {\n",
              "  background-color: #FFFFCC;\n",
              "  text-align: left;\n",
              "}\n",
              "</style>\n",
              "<table id=\"T_09029_\" class=\"dataframe\">\n",
              "  <thead>\n",
              "    <tr>\n",
              "      <th class=\"blank level0\" >&nbsp;</th>\n",
              "      <th class=\"col_heading level0 col0\" >contents</th>\n",
              "    </tr>\n",
              "  </thead>\n",
              "  <tbody>\n",
              "    <tr>\n",
              "      <th id=\"T_09029_level0_row0\" class=\"row_heading level0 row0\" >1</th>\n",
              "      <td id=\"T_09029_row0_col0\" class=\"data row0 col0\" >11</td>\n",
              "    </tr>\n",
              "    <tr>\n",
              "      <th id=\"T_09029_level0_row1\" class=\"row_heading level0 row1\" >2</th>\n",
              "      <td id=\"T_09029_row1_col0\" class=\"data row1 col0\" >#1</td>\n",
              "    </tr>\n",
              "    <tr>\n",
              "      <th id=\"T_09029_level0_row2\" class=\"row_heading level0 row2\" >3</th>\n",
              "      <td id=\"T_09029_row2_col0\" class=\"data row2 col0\" >1##1</td>\n",
              "    </tr>\n",
              "    <tr>\n",
              "      <th id=\"T_09029_level0_row3\" class=\"row_heading level0 row3\" >4</th>\n",
              "      <td id=\"T_09029_row3_col0\" class=\"data row3 col0\" ></td>\n",
              "    </tr>\n",
              "    <tr>\n",
              "      <th id=\"T_09029_level0_row4\" class=\"row_heading level0 row4\" >5</th>\n",
              "      <td id=\"T_09029_row4_col0\" class=\"data row4 col0\" ></td>\n",
              "    </tr>\n",
              "    <tr>\n",
              "      <th id=\"T_09029_level0_row5\" class=\"row_heading level0 row5\" >6</th>\n",
              "      <td id=\"T_09029_row5_col0\" class=\"data row5 col0\" ></td>\n",
              "    </tr>\n",
              "    <tr>\n",
              "      <th id=\"T_09029_level0_row6\" class=\"row_heading level0 row6\" >7</th>\n",
              "      <td id=\"T_09029_row6_col0\" class=\"data row6 col0\" ></td>\n",
              "    </tr>\n",
              "    <tr>\n",
              "      <th id=\"T_09029_level0_row7\" class=\"row_heading level0 row7\" >8</th>\n",
              "      <td id=\"T_09029_row7_col0\" class=\"data row7 col0\" ></td>\n",
              "    </tr>\n",
              "    <tr>\n",
              "      <th id=\"T_09029_level0_row8\" class=\"row_heading level0 row8\" >9</th>\n",
              "      <td id=\"T_09029_row8_col0\" class=\"data row8 col0\" ></td>\n",
              "    </tr>\n",
              "    <tr>\n",
              "      <th id=\"T_09029_level0_row9\" class=\"row_heading level0 row9\" >10</th>\n",
              "      <td id=\"T_09029_row9_col0\" class=\"data row9 col0\" ></td>\n",
              "    </tr>\n",
              "    <tr>\n",
              "      <th id=\"T_09029_level0_row10\" class=\"row_heading level0 row10\" >11</th>\n",
              "      <td id=\"T_09029_row10_col0\" class=\"data row10 col0\" >11</td>\n",
              "    </tr>\n",
              "    <tr>\n",
              "      <th id=\"T_09029_level0_row11\" class=\"row_heading level0 row11\" >12</th>\n",
              "      <td id=\"T_09029_row11_col0\" class=\"data row11 col0\" >1</td>\n",
              "    </tr>\n",
              "    <tr>\n",
              "      <th id=\"T_09029_level0_row12\" class=\"row_heading level0 row12\" >13</th>\n",
              "      <td id=\"T_09029_row12_col0\" class=\"data row12 col0\" ></td>\n",
              "    </tr>\n",
              "  </tbody>\n",
              "</table>\n"
            ]
          },
          "metadata": {}
        }
      ]
    },
    {
      "cell_type": "code",
      "source": [
        "len(parse(trial))"
      ],
      "metadata": {
        "id": "v-jF_MYYudX8",
        "outputId": "e9883f86-d55d-45cb-a75e-a601acfc802b",
        "colab": {
          "base_uri": "https://localhost:8080/"
        }
      },
      "execution_count": 27,
      "outputs": [
        {
          "output_type": "execute_result",
          "data": {
            "text/plain": [
              "478"
            ]
          },
          "metadata": {},
          "execution_count": 27
        }
      ]
    },
    {
      "cell_type": "code",
      "source": [
        "onesharp(trial,['#11','11'])"
      ],
      "metadata": {
        "id": "jrwfrgQHta8l",
        "outputId": "b964796a-c01d-4f52-a406-dfd3836b41e1",
        "colab": {
          "base_uri": "https://localhost:8080/",
          "height": 493
        }
      },
      "execution_count": 80,
      "outputs": [
        {
          "output_type": "stream",
          "name": "stdout",
          "text": [
            "This is undefined.\n",
            "The register contents at the end are shown below.\n"
          ]
        },
        {
          "output_type": "display_data",
          "data": {
            "text/plain": [
              "<pandas.io.formats.style.Styler at 0x7fc93ef661d0>"
            ],
            "text/html": [
              "<style type=\"text/css\">\n",
              "#T_298d8_row0_col0, #T_298d8_row1_col0, #T_298d8_row2_col0, #T_298d8_row3_col0, #T_298d8_row4_col0, #T_298d8_row5_col0, #T_298d8_row6_col0, #T_298d8_row7_col0, #T_298d8_row8_col0, #T_298d8_row9_col0, #T_298d8_row10_col0, #T_298d8_row11_col0, #T_298d8_row12_col0 {\n",
              "  background-color: #FFFFCC;\n",
              "  text-align: left;\n",
              "}\n",
              "</style>\n",
              "<table id=\"T_298d8_\" class=\"dataframe\">\n",
              "  <thead>\n",
              "    <tr>\n",
              "      <th class=\"blank level0\" >&nbsp;</th>\n",
              "      <th class=\"col_heading level0 col0\" >contents</th>\n",
              "    </tr>\n",
              "  </thead>\n",
              "  <tbody>\n",
              "    <tr>\n",
              "      <th id=\"T_298d8_level0_row0\" class=\"row_heading level0 row0\" >1</th>\n",
              "      <td id=\"T_298d8_row0_col0\" class=\"data row0 col0\" >#11</td>\n",
              "    </tr>\n",
              "    <tr>\n",
              "      <th id=\"T_298d8_level0_row1\" class=\"row_heading level0 row1\" >2</th>\n",
              "      <td id=\"T_298d8_row1_col0\" class=\"data row1 col0\" >11</td>\n",
              "    </tr>\n",
              "    <tr>\n",
              "      <th id=\"T_298d8_level0_row2\" class=\"row_heading level0 row2\" >3</th>\n",
              "      <td id=\"T_298d8_row2_col0\" class=\"data row2 col0\" >###11#11</td>\n",
              "    </tr>\n",
              "    <tr>\n",
              "      <th id=\"T_298d8_level0_row3\" class=\"row_heading level0 row3\" >4</th>\n",
              "      <td id=\"T_298d8_row3_col0\" class=\"data row3 col0\" ></td>\n",
              "    </tr>\n",
              "    <tr>\n",
              "      <th id=\"T_298d8_level0_row4\" class=\"row_heading level0 row4\" >5</th>\n",
              "      <td id=\"T_298d8_row4_col0\" class=\"data row4 col0\" ></td>\n",
              "    </tr>\n",
              "    <tr>\n",
              "      <th id=\"T_298d8_level0_row5\" class=\"row_heading level0 row5\" >6</th>\n",
              "      <td id=\"T_298d8_row5_col0\" class=\"data row5 col0\" ></td>\n",
              "    </tr>\n",
              "    <tr>\n",
              "      <th id=\"T_298d8_level0_row6\" class=\"row_heading level0 row6\" >7</th>\n",
              "      <td id=\"T_298d8_row6_col0\" class=\"data row6 col0\" ></td>\n",
              "    </tr>\n",
              "    <tr>\n",
              "      <th id=\"T_298d8_level0_row7\" class=\"row_heading level0 row7\" >8</th>\n",
              "      <td id=\"T_298d8_row7_col0\" class=\"data row7 col0\" ></td>\n",
              "    </tr>\n",
              "    <tr>\n",
              "      <th id=\"T_298d8_level0_row8\" class=\"row_heading level0 row8\" >9</th>\n",
              "      <td id=\"T_298d8_row8_col0\" class=\"data row8 col0\" ></td>\n",
              "    </tr>\n",
              "    <tr>\n",
              "      <th id=\"T_298d8_level0_row9\" class=\"row_heading level0 row9\" >10</th>\n",
              "      <td id=\"T_298d8_row9_col0\" class=\"data row9 col0\" ></td>\n",
              "    </tr>\n",
              "    <tr>\n",
              "      <th id=\"T_298d8_level0_row10\" class=\"row_heading level0 row10\" >11</th>\n",
              "      <td id=\"T_298d8_row10_col0\" class=\"data row10 col0\" ></td>\n",
              "    </tr>\n",
              "    <tr>\n",
              "      <th id=\"T_298d8_level0_row11\" class=\"row_heading level0 row11\" >12</th>\n",
              "      <td id=\"T_298d8_row11_col0\" class=\"data row11 col0\" ></td>\n",
              "    </tr>\n",
              "    <tr>\n",
              "      <th id=\"T_298d8_level0_row12\" class=\"row_heading level0 row12\" >13</th>\n",
              "      <td id=\"T_298d8_row12_col0\" class=\"data row12 col0\" ></td>\n",
              "    </tr>\n",
              "  </tbody>\n",
              "</table>\n"
            ]
          },
          "metadata": {}
        }
      ]
    },
    {
      "cell_type": "code",
      "source": [
        "onesharp(compare_prog(4,1),['1','', '', '#'])"
      ],
      "metadata": {
        "id": "HQHnCLhGBbdv",
        "colab": {
          "base_uri": "https://localhost:8080/",
          "height": 169
        },
        "outputId": "c7fd630f-978b-4ef4-eb01-9c136b9aecb9"
      },
      "execution_count": 6,
      "outputs": [
        {
          "output_type": "error",
          "ename": "NameError",
          "evalue": "ignored",
          "traceback": [
            "\u001b[0;31m---------------------------------------------------------------------------\u001b[0m",
            "\u001b[0;31mNameError\u001b[0m                                 Traceback (most recent call last)",
            "\u001b[0;32m<ipython-input-6-8aa1c4d3e82e>\u001b[0m in \u001b[0;36m<module>\u001b[0;34m\u001b[0m\n\u001b[0;32m----> 1\u001b[0;31m \u001b[0monesharp\u001b[0m\u001b[0;34m(\u001b[0m\u001b[0mcompare_prog\u001b[0m\u001b[0;34m(\u001b[0m\u001b[0;36m4\u001b[0m\u001b[0;34m,\u001b[0m\u001b[0;36m1\u001b[0m\u001b[0;34m)\u001b[0m\u001b[0;34m,\u001b[0m\u001b[0;34m[\u001b[0m\u001b[0;34m'1'\u001b[0m\u001b[0;34m,\u001b[0m\u001b[0;34m''\u001b[0m\u001b[0;34m,\u001b[0m \u001b[0;34m''\u001b[0m\u001b[0;34m,\u001b[0m \u001b[0;34m'#'\u001b[0m\u001b[0;34m]\u001b[0m\u001b[0;34m)\u001b[0m\u001b[0;34m\u001b[0m\u001b[0;34m\u001b[0m\u001b[0m\n\u001b[0m",
            "\u001b[0;31mNameError\u001b[0m: name 'compare_prog' is not defined"
          ]
        }
      ]
    },
    {
      "cell_type": "code",
      "source": [
        "h = compose(multiply,[proj_prog(1,3), proj_prog(3,3)],3,7)\n",
        "h"
      ],
      "metadata": {
        "colab": {
          "base_uri": "https://localhost:8080/",
          "height": 178
        },
        "id": "kD_0VRzdoXPy",
        "outputId": "5896407e-6f53-4962-e623-bdcee3213700"
      },
      "execution_count": 85,
      "outputs": [
        {
          "output_type": "execute_result",
          "data": {
            "text/plain": [
              "'1#####11111111###1111###1111##11111##11111####1111#11111#11111111####11111#####111111###111###1##1111####1#111111####1111#####111111###111###11111111##1111####11111111#111111####111#####11111111###1111###1111##11111##11111####1111#11111#11111111####11111#####111111###111###111##1111####111#111111####1111#####111111###111###111111111##1111####111111111#111111####11111111#####111111###111###1111##1111####1111#111111####111111111#####111111###111###11111##1111####11111#111111####111111##1111111##11111#####11111111###1111###11111111##111111111##11111####11111111#111111111#11111111####111111111#####111111###111###11111##1111####11111#111111####111111#####11111111###1111###111111111##1111111111##11111####111111111#1111111111#11111111####1111111111#####111111###111###111111##1111####111111#111111####11111111#####111111###111111111###111111111#####11111111111###1111111111###111111####111111111#####111111111111111###111111###11111###111111111#####111###1111111111111####1###11111111#####111###11####111####111111111#####1111###11####111####11111111#11111111#####111###1111111111111111111111111111111111111111111111111111111111111111111111111111111111111111111111111111111###1111#1111#####11111111###1111###11111111##111111111##11111####11111111#111111111#11111111####111111111#####111111###111###1111##1111####1111#111111####1111111#####111111###111###111111111##1111####111111111#111111####11111111#####111###111111###111111111###111111111#####11111111111111111111111111111111111###11111111111111111111111111###111111111111111111111111111###111111111#####11111111111111111111111###1111111111111111111111111111###111111111111111111111###111111111#####111111111111111111111###111111111111111111###1111111111111111111###11111111#####111###111111###111111111###111111111#####11111111111###1111111111111111###111111111###111111111#####1111111111111###1111111111###11111111111###111111111#####111###11111111###1###1111111111#111111111111111111111111111111111####1111111111##11111111111111111111111111111111111####1111111111#111111111111111111111####1111111111##11111111111111111111111####1###1111111111#####111111###111###11111111##1111####11111111#111111####11111111#####111111###111###1111111##1111####1111111#111111####111111#####1111111111111###1111111111###11111111#111111#####111111###111###11111111##1111####11111111#111111####1111###11111111##1111111111111####11111111#11111111#####111111###111###111111##1111####111111#111111####1111111111111111111111111111111111111111111111111111111111111111111111111111111111111111111111111111111111111111111111111111111111111111111111111111111111111111####1111#####111###11####111####11111#####111###11####111####111111#####111###11####111####1111111#####111111###111###1111##1111####1111#111111####'"
            ],
            "application/vnd.google.colaboratory.intrinsic+json": {
              "type": "string"
            }
          },
          "metadata": {},
          "execution_count": 85
        }
      ]
    },
    {
      "cell_type": "code",
      "source": [
        "onesharp(h,['1','11','#1'])"
      ],
      "metadata": {
        "id": "pMnKKsFpAQRj",
        "outputId": "baaa8258-1229-47f5-8084-61000441edf2",
        "colab": {
          "base_uri": "https://localhost:8080/",
          "height": 399
        }
      },
      "execution_count": 86,
      "outputs": [
        {
          "output_type": "stream",
          "name": "stdout",
          "text": [
            "This is undefined.\n",
            "The register contents at the end are shown below.\n"
          ]
        },
        {
          "output_type": "display_data",
          "data": {
            "text/plain": [
              "<pandas.io.formats.style.Styler at 0x7fc93f002f90>"
            ],
            "text/html": [
              "<style type=\"text/css\">\n",
              "#T_920d9_row0_col0, #T_920d9_row1_col0, #T_920d9_row2_col0, #T_920d9_row3_col0, #T_920d9_row4_col0, #T_920d9_row5_col0, #T_920d9_row6_col0, #T_920d9_row7_col0, #T_920d9_row8_col0, #T_920d9_row9_col0 {\n",
              "  background-color: #FFFFCC;\n",
              "  text-align: left;\n",
              "}\n",
              "</style>\n",
              "<table id=\"T_920d9_\" class=\"dataframe\">\n",
              "  <thead>\n",
              "    <tr>\n",
              "      <th class=\"blank level0\" >&nbsp;</th>\n",
              "      <th class=\"col_heading level0 col0\" >contents</th>\n",
              "    </tr>\n",
              "  </thead>\n",
              "  <tbody>\n",
              "    <tr>\n",
              "      <th id=\"T_920d9_level0_row0\" class=\"row_heading level0 row0\" >1</th>\n",
              "      <td id=\"T_920d9_row0_col0\" class=\"data row0 col0\" >1</td>\n",
              "    </tr>\n",
              "    <tr>\n",
              "      <th id=\"T_920d9_level0_row1\" class=\"row_heading level0 row1\" >2</th>\n",
              "      <td id=\"T_920d9_row1_col0\" class=\"data row1 col0\" >11</td>\n",
              "    </tr>\n",
              "    <tr>\n",
              "      <th id=\"T_920d9_level0_row2\" class=\"row_heading level0 row2\" >3</th>\n",
              "      <td id=\"T_920d9_row2_col0\" class=\"data row2 col0\" >#1</td>\n",
              "    </tr>\n",
              "    <tr>\n",
              "      <th id=\"T_920d9_level0_row3\" class=\"row_heading level0 row3\" >4</th>\n",
              "      <td id=\"T_920d9_row3_col0\" class=\"data row3 col0\" >#1</td>\n",
              "    </tr>\n",
              "    <tr>\n",
              "      <th id=\"T_920d9_level0_row4\" class=\"row_heading level0 row4\" >5</th>\n",
              "      <td id=\"T_920d9_row4_col0\" class=\"data row4 col0\" ></td>\n",
              "    </tr>\n",
              "    <tr>\n",
              "      <th id=\"T_920d9_level0_row5\" class=\"row_heading level0 row5\" >6</th>\n",
              "      <td id=\"T_920d9_row5_col0\" class=\"data row5 col0\" ></td>\n",
              "    </tr>\n",
              "    <tr>\n",
              "      <th id=\"T_920d9_level0_row6\" class=\"row_heading level0 row6\" >7</th>\n",
              "      <td id=\"T_920d9_row6_col0\" class=\"data row6 col0\" ></td>\n",
              "    </tr>\n",
              "    <tr>\n",
              "      <th id=\"T_920d9_level0_row7\" class=\"row_heading level0 row7\" >8</th>\n",
              "      <td id=\"T_920d9_row7_col0\" class=\"data row7 col0\" ></td>\n",
              "    </tr>\n",
              "    <tr>\n",
              "      <th id=\"T_920d9_level0_row8\" class=\"row_heading level0 row8\" >9</th>\n",
              "      <td id=\"T_920d9_row8_col0\" class=\"data row8 col0\" ></td>\n",
              "    </tr>\n",
              "    <tr>\n",
              "      <th id=\"T_920d9_level0_row9\" class=\"row_heading level0 row9\" >10</th>\n",
              "      <td id=\"T_920d9_row9_col0\" class=\"data row9 col0\" ></td>\n",
              "    </tr>\n",
              "  </tbody>\n",
              "</table>\n"
            ]
          },
          "metadata": {}
        }
      ]
    },
    {
      "cell_type": "code",
      "source": [
        "# <g,h>(x-bar,0) = g(x-bar)\n",
        "# <g,h>(x-bar,n+1) = h(x-bar,n,<g,h>(x-bar,n))\n",
        "# k is the number of xs, so the arity of <g,h> is k+1\n",
        "# k+2 is the number of arguments to g\n",
        "# k+1 is the number of arguments to the function we are building\n",
        "#free is large enough so that neither g nor h use it or any larger register.\n",
        "# g and h are assumed to preserve their inputs\n",
        "def primitive_recursion(g,h,k):\n",
        "  length_of_move = 7\n",
        "  length_of_clear = 4\n",
        "  length_of_compare = 81\n",
        "  length_of_s = 44\n",
        "  length_of_h = len(parse(h))\n",
        "  n1 = max_register(g)\n",
        "  n2 = max_register(h)\n",
        "  free = max([n1,n2])+1\n",
        "  plan = [['top',move_prog(k+1,free) + g + move_prog(k+1,k+2) + ones(k+1) + '##' ],\n",
        "          ['second',compare_prog(free,k+1)],\n",
        "          ['fourth', 'cases', free+1, 'a', 'main_loop', 'end' ],\n",
        "          ['a', clear_prog(free)],\n",
        "          ['goto', 'end'],\n",
        "          ['main_loop',h +clear_prog(k+2) + move_prog(k+3,k+2)  + successor_prog(k+1,k+3) +\n",
        "            compare_prog(free,k+1)],\n",
        "          ['goto', 'fourth'],\n",
        "        ]\n",
        "  trial = sanity(plan)\n",
        "  return(trial)\n",
        "\n",
        "h = compose(multiply,[proj_prog(1,3), proj_prog(3,3)],3,7)\n",
        "g = '11#'\n",
        "k = 1\n",
        "n1 = max_register(g)\n",
        "n2 = max_register(h)\n",
        "free = max([n1,n2])+1\n",
        "#onesharp(move_prog(k+1,free) + g + move_prog(k+1,k+2) + ones(k+1) + '##', ['11', '#1'])\n",
        "exp = primitive_recursion(g,h,k)"
      ],
      "metadata": {
        "id": "qrVWqi_AAYI8"
      },
      "execution_count": 36,
      "outputs": []
    },
    {
      "cell_type": "code",
      "source": [
        "onesharp(proj_prog(1,1),['11',''])"
      ],
      "metadata": {
        "id": "GsTxBrBNvTJa",
        "outputId": "8be08bf8-c2f9-4bf4-c800-c84759b0836b",
        "colab": {
          "base_uri": "https://localhost:8080/",
          "height": 179
        }
      },
      "execution_count": 15,
      "outputs": [
        {
          "output_type": "stream",
          "name": "stdout",
          "text": [
            "This is undefined.\n",
            "The register contents at the end are shown below.\n"
          ]
        },
        {
          "output_type": "display_data",
          "data": {
            "text/plain": [
              "<pandas.io.formats.style.Styler at 0x7faf380b0f90>"
            ],
            "text/html": [
              "<style type=\"text/css\">\n",
              "#T_a8855_row0_col0, #T_a8855_row1_col0, #T_a8855_row2_col0 {\n",
              "  background-color: #FFFFCC;\n",
              "  text-align: left;\n",
              "}\n",
              "</style>\n",
              "<table id=\"T_a8855_\" class=\"dataframe\">\n",
              "  <thead>\n",
              "    <tr>\n",
              "      <th class=\"blank level0\" >&nbsp;</th>\n",
              "      <th class=\"col_heading level0 col0\" >contents</th>\n",
              "    </tr>\n",
              "  </thead>\n",
              "  <tbody>\n",
              "    <tr>\n",
              "      <th id=\"T_a8855_level0_row0\" class=\"row_heading level0 row0\" >1</th>\n",
              "      <td id=\"T_a8855_row0_col0\" class=\"data row0 col0\" >11</td>\n",
              "    </tr>\n",
              "    <tr>\n",
              "      <th id=\"T_a8855_level0_row1\" class=\"row_heading level0 row1\" >2</th>\n",
              "      <td id=\"T_a8855_row1_col0\" class=\"data row1 col0\" >11</td>\n",
              "    </tr>\n",
              "    <tr>\n",
              "      <th id=\"T_a8855_level0_row2\" class=\"row_heading level0 row2\" >3</th>\n",
              "      <td id=\"T_a8855_row2_col0\" class=\"data row2 col0\" ></td>\n",
              "    </tr>\n",
              "  </tbody>\n",
              "</table>\n"
            ]
          },
          "metadata": {}
        }
      ]
    },
    {
      "cell_type": "code",
      "source": [
        "g = proj_prog(1,1)\n",
        "h = compose(s,[proj_prog(3,3)],3,8)\n",
        "k = 1\n",
        "plus = primitive_recursion(g,h,k)\n",
        "onesharp(plus,['11','#1'])\n",
        "#s"
      ],
      "metadata": {
        "id": "8hSJa289wIiM",
        "outputId": "53bb06de-a6ad-4b13-e42b-444e36f4f186",
        "colab": {
          "base_uri": "https://localhost:8080/",
          "height": 461
        }
      },
      "execution_count": 39,
      "outputs": [
        {
          "output_type": "stream",
          "name": "stdout",
          "text": [
            "This is undefined.\n",
            "The register contents at the end are shown below.\n"
          ]
        },
        {
          "output_type": "display_data",
          "data": {
            "text/plain": [
              "<pandas.io.formats.style.Styler at 0x7faf37cbe350>"
            ],
            "text/html": [
              "<style type=\"text/css\">\n",
              "#T_68dac_row0_col0, #T_68dac_row1_col0, #T_68dac_row2_col0, #T_68dac_row3_col0, #T_68dac_row4_col0, #T_68dac_row5_col0, #T_68dac_row6_col0, #T_68dac_row7_col0, #T_68dac_row8_col0, #T_68dac_row9_col0, #T_68dac_row10_col0, #T_68dac_row11_col0 {\n",
              "  background-color: #FFFFCC;\n",
              "  text-align: left;\n",
              "}\n",
              "</style>\n",
              "<table id=\"T_68dac_\" class=\"dataframe\">\n",
              "  <thead>\n",
              "    <tr>\n",
              "      <th class=\"blank level0\" >&nbsp;</th>\n",
              "      <th class=\"col_heading level0 col0\" >contents</th>\n",
              "    </tr>\n",
              "  </thead>\n",
              "  <tbody>\n",
              "    <tr>\n",
              "      <th id=\"T_68dac_level0_row0\" class=\"row_heading level0 row0\" >1</th>\n",
              "      <td id=\"T_68dac_row0_col0\" class=\"data row0 col0\" >11</td>\n",
              "    </tr>\n",
              "    <tr>\n",
              "      <th id=\"T_68dac_level0_row1\" class=\"row_heading level0 row1\" >2</th>\n",
              "      <td id=\"T_68dac_row1_col0\" class=\"data row1 col0\" >#1</td>\n",
              "    </tr>\n",
              "    <tr>\n",
              "      <th id=\"T_68dac_level0_row2\" class=\"row_heading level0 row2\" >3</th>\n",
              "      <td id=\"T_68dac_row2_col0\" class=\"data row2 col0\" ></td>\n",
              "    </tr>\n",
              "    <tr>\n",
              "      <th id=\"T_68dac_level0_row3\" class=\"row_heading level0 row3\" >4</th>\n",
              "      <td id=\"T_68dac_row3_col0\" class=\"data row3 col0\" ></td>\n",
              "    </tr>\n",
              "    <tr>\n",
              "      <th id=\"T_68dac_level0_row4\" class=\"row_heading level0 row4\" >5</th>\n",
              "      <td id=\"T_68dac_row4_col0\" class=\"data row4 col0\" ></td>\n",
              "    </tr>\n",
              "    <tr>\n",
              "      <th id=\"T_68dac_level0_row5\" class=\"row_heading level0 row5\" >6</th>\n",
              "      <td id=\"T_68dac_row5_col0\" class=\"data row5 col0\" ></td>\n",
              "    </tr>\n",
              "    <tr>\n",
              "      <th id=\"T_68dac_level0_row6\" class=\"row_heading level0 row6\" >7</th>\n",
              "      <td id=\"T_68dac_row6_col0\" class=\"data row6 col0\" ></td>\n",
              "    </tr>\n",
              "    <tr>\n",
              "      <th id=\"T_68dac_level0_row7\" class=\"row_heading level0 row7\" >8</th>\n",
              "      <td id=\"T_68dac_row7_col0\" class=\"data row7 col0\" ></td>\n",
              "    </tr>\n",
              "    <tr>\n",
              "      <th id=\"T_68dac_level0_row8\" class=\"row_heading level0 row8\" >9</th>\n",
              "      <td id=\"T_68dac_row8_col0\" class=\"data row8 col0\" ></td>\n",
              "    </tr>\n",
              "    <tr>\n",
              "      <th id=\"T_68dac_level0_row9\" class=\"row_heading level0 row9\" >10</th>\n",
              "      <td id=\"T_68dac_row9_col0\" class=\"data row9 col0\" ></td>\n",
              "    </tr>\n",
              "    <tr>\n",
              "      <th id=\"T_68dac_level0_row10\" class=\"row_heading level0 row10\" >11</th>\n",
              "      <td id=\"T_68dac_row10_col0\" class=\"data row10 col0\" ></td>\n",
              "    </tr>\n",
              "    <tr>\n",
              "      <th id=\"T_68dac_level0_row11\" class=\"row_heading level0 row11\" >12</th>\n",
              "      <td id=\"T_68dac_row11_col0\" class=\"data row11 col0\" ></td>\n",
              "    </tr>\n",
              "  </tbody>\n",
              "</table>\n"
            ]
          },
          "metadata": {}
        }
      ]
    },
    {
      "cell_type": "code",
      "source": [
        "onesharp(exp,['11','##1'])"
      ],
      "metadata": {
        "id": "6ZF0ZGAV2HSj",
        "outputId": "298df608-bd57-4dd6-d96d-55cb173189bf",
        "colab": {
          "base_uri": "https://localhost:8080/",
          "height": 493
        }
      },
      "execution_count": 37,
      "outputs": [
        {
          "output_type": "stream",
          "name": "stdout",
          "text": [
            "This is undefined.\n",
            "The register contents at the end are shown below.\n"
          ]
        },
        {
          "output_type": "display_data",
          "data": {
            "text/plain": [
              "<pandas.io.formats.style.Styler at 0x7faf37cc0bd0>"
            ],
            "text/html": [
              "<style type=\"text/css\">\n",
              "#T_88cc7_row0_col0, #T_88cc7_row1_col0, #T_88cc7_row2_col0, #T_88cc7_row3_col0, #T_88cc7_row4_col0, #T_88cc7_row5_col0, #T_88cc7_row6_col0, #T_88cc7_row7_col0, #T_88cc7_row8_col0, #T_88cc7_row9_col0, #T_88cc7_row10_col0, #T_88cc7_row11_col0, #T_88cc7_row12_col0 {\n",
              "  background-color: #FFFFCC;\n",
              "  text-align: left;\n",
              "}\n",
              "</style>\n",
              "<table id=\"T_88cc7_\" class=\"dataframe\">\n",
              "  <thead>\n",
              "    <tr>\n",
              "      <th class=\"blank level0\" >&nbsp;</th>\n",
              "      <th class=\"col_heading level0 col0\" >contents</th>\n",
              "    </tr>\n",
              "  </thead>\n",
              "  <tbody>\n",
              "    <tr>\n",
              "      <th id=\"T_88cc7_level0_row0\" class=\"row_heading level0 row0\" >1</th>\n",
              "      <td id=\"T_88cc7_row0_col0\" class=\"data row0 col0\" >11</td>\n",
              "    </tr>\n",
              "    <tr>\n",
              "      <th id=\"T_88cc7_level0_row1\" class=\"row_heading level0 row1\" >2</th>\n",
              "      <td id=\"T_88cc7_row1_col0\" class=\"data row1 col0\" >##1</td>\n",
              "    </tr>\n",
              "    <tr>\n",
              "      <th id=\"T_88cc7_level0_row2\" class=\"row_heading level0 row2\" >3</th>\n",
              "      <td id=\"T_88cc7_row2_col0\" class=\"data row2 col0\" >1###1#1</td>\n",
              "    </tr>\n",
              "    <tr>\n",
              "      <th id=\"T_88cc7_level0_row3\" class=\"row_heading level0 row3\" >4</th>\n",
              "      <td id=\"T_88cc7_row3_col0\" class=\"data row3 col0\" ></td>\n",
              "    </tr>\n",
              "    <tr>\n",
              "      <th id=\"T_88cc7_level0_row4\" class=\"row_heading level0 row4\" >5</th>\n",
              "      <td id=\"T_88cc7_row4_col0\" class=\"data row4 col0\" ></td>\n",
              "    </tr>\n",
              "    <tr>\n",
              "      <th id=\"T_88cc7_level0_row5\" class=\"row_heading level0 row5\" >6</th>\n",
              "      <td id=\"T_88cc7_row5_col0\" class=\"data row5 col0\" ></td>\n",
              "    </tr>\n",
              "    <tr>\n",
              "      <th id=\"T_88cc7_level0_row6\" class=\"row_heading level0 row6\" >7</th>\n",
              "      <td id=\"T_88cc7_row6_col0\" class=\"data row6 col0\" ></td>\n",
              "    </tr>\n",
              "    <tr>\n",
              "      <th id=\"T_88cc7_level0_row7\" class=\"row_heading level0 row7\" >8</th>\n",
              "      <td id=\"T_88cc7_row7_col0\" class=\"data row7 col0\" ></td>\n",
              "    </tr>\n",
              "    <tr>\n",
              "      <th id=\"T_88cc7_level0_row8\" class=\"row_heading level0 row8\" >9</th>\n",
              "      <td id=\"T_88cc7_row8_col0\" class=\"data row8 col0\" ></td>\n",
              "    </tr>\n",
              "    <tr>\n",
              "      <th id=\"T_88cc7_level0_row9\" class=\"row_heading level0 row9\" >10</th>\n",
              "      <td id=\"T_88cc7_row9_col0\" class=\"data row9 col0\" ></td>\n",
              "    </tr>\n",
              "    <tr>\n",
              "      <th id=\"T_88cc7_level0_row10\" class=\"row_heading level0 row10\" >11</th>\n",
              "      <td id=\"T_88cc7_row10_col0\" class=\"data row10 col0\" ></td>\n",
              "    </tr>\n",
              "    <tr>\n",
              "      <th id=\"T_88cc7_level0_row11\" class=\"row_heading level0 row11\" >12</th>\n",
              "      <td id=\"T_88cc7_row11_col0\" class=\"data row11 col0\" ></td>\n",
              "    </tr>\n",
              "    <tr>\n",
              "      <th id=\"T_88cc7_level0_row12\" class=\"row_heading level0 row12\" >13</th>\n",
              "      <td id=\"T_88cc7_row12_col0\" class=\"data row12 col0\" ></td>\n",
              "    </tr>\n",
              "  </tbody>\n",
              "</table>\n"
            ]
          },
          "metadata": {}
        }
      ]
    },
    {
      "cell_type": "code",
      "source": [],
      "metadata": {
        "id": "gOsaFX0R-bDS"
      },
      "execution_count": null,
      "outputs": []
    }
  ]
}