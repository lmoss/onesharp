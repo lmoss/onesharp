{
 "cells": [
  {
   "attachments": {},
   "cell_type": "markdown",
   "metadata": {},
   "source": [
    "# The Church-Theorem via matrix mortality  \n",
    "\n",
    "We give another short proof of {prf:ref}`Churchs-theorem`, this time using our work on matrix mortality."
   ]
  },
  {
   "attachments": {},
   "cell_type": "markdown",
   "metadata": {},
   "source": [
    "## Commutative rings with unit\n",
    "\n",
    "We us a first-order signature in this section has symbols $0$, $1$, $-$, $+$, and $\\times$.  The symbol $-$ is unary.\n",
    "The set $Ax$ of axioms are those of *commutative rings with unit*. The axioms are\n",
    "\n",
    "$$\n",
    "\\begin{array}{ll}\n",
    "x + y & = & y + x \\\\\n",
    "x + (y + z ) &  = & (x + y) + z \\\\\n",
    "x + 0 = x \\\\\n",
    "x + (-x) = 0 \\\\\n",
    "\\end{array}\n",
    "\\qquad\\qquad\n",
    "\\begin{array}{ll}\n",
    "x \\times y & = & y \\times x \\\\\n",
    "x \\times (y \\times z ) &  = & (x \\times y) \\times z \\\\\n",
    "x \\times 1 &=& x \\\\\n",
    "x \\times (y+z) & = & (x \\times y) + (x \\times z)\n",
    "\\end{array}\n",
    "$$\n",
    "Often one assume\n",
    "\n",
    "As usual, we elide the multiplication sign $\\times$, and we omit all the parentheses on repeated additions.  (For example, we would write $1+1+1$ instead of $1 + (1+ 1)$.) What we need to know about this set is that (1) the integers $\\mathbb{Z}$ with the usual operations is a model of it, and a lemma stated below.\n"
   ]
  },
  {
   "attachments": {},
   "cell_type": "markdown",
   "metadata": {},
   "source": [
    "```{admonition} Definition\n",
    "\n",
    "A *numeral* is a term of the form $0$, $1$, $1+1$, $\\ldots$, or its negative $-(1 + \\cdots+ 1)$.   For each integer $n$ we have a corresponding numeral $\\underline{n}$.\n",
    "For example, $\\underline{-3}$ is $-(1+ 1 + 1)$.  Every numeral is of the form $\\underline{m}$ for some integer $m$.\n",
    "```\n",
    "\n",
    "\n",
    "```{prf:lemma} \n",
    ":label: numerals\n",
    "\n",
    "For all integers $n$ and $m$:\n",
    " \n",
    "1. $\\underline{n} + \\underline{m} = \\underline{n+m}$.\n",
    "\n",
    "2. $\\underline{n} \\times \\underline{m} =\\underline{n\\times m}$.\n",
    "\n",
    "```\n"
   ]
  },
  {
   "attachments": {},
   "cell_type": "markdown",
   "metadata": {},
   "source": [
    "## Add a $9$-place relation symbol $R$\n",
    "\n",
    "We add a relation symbol $R$ to our signature.   The $9$ comes from $3\\times 3$ matrices, and since we are thinking of matrices, we use subscripts on \n",
    "variables  as a reminder.   So we write \n",
    "\n",
    "$$\n",
    "R(x_{1,1}, x_{1,2}, x_{1,3}, \n",
    "x_{2,1}, x_{2,2}, x_{2,3},\n",
    "x_{3,1}, x_{3,2}, x_{3,3})\n",
    "$$\n",
    "\n",
    "rather than $R(x_1, \\ldots, x_9)$.\n",
    "Moreover, if $M = (m_{ij})$ is $3\\times 3$ matrix of integers, we write $R(M)$ \n",
    "to mean \n",
    "\n",
    "$$\n",
    "R(\\underline{m_{1,1}},\\underline{m_{1,2}}, \\underline{m_{1,3}}, \n",
    "\\underline{m_{2,1}},\\underline{m_{2,2}}, \\underline{m_{2,3}},\n",
    "\\underline{m_{3,1}},\\underline{m_{3,2}}, \\underline{m_{3,3}})\n",
    "$$\n",
    "\n",
    "This is a first-order sentence in the language of our signature. The idea of $R(M)$ is that it should mean that $M$ is obtainable as a finite product of elements of a given finite set $\\mathcal{S}$ of matrices.  But we are getting ahead of ourselves here, since we have not mentioned our overall strategy in this proof.  Here it is: we are going to associate to each  finite set $\\mathcal{S}$ of $3\\times 3$ integer matrices a sentence $\\varphi_{{\\mathcal S}}$ in our signature, and we shall arrange in {prf:ref}`CT_via_matrices` that $\\varphi_{{\\mathcal S}}$ is provable in first-order logic if and only if some finite product of elements of $\\mathcal{S}$ is the zero matrix.   As before, we allow repeats in the product.  To simplify things a touch, we regard the empty product as the identity matrix.    \n",
    "\n",
    "\n",
    "The sentence $\\varphi_{{\\mathcal S}}$ is $Ax_{\\mathcal{S}} \\to R(0_3)$, where $Ax_{\\mathcal{S}}$ is  the conjunction of the sentences which we have seen so far, together with some additional sentence pertaining to a given set $\\mathcal{S}$. Whenever $M = (m_{i,j})$ is a matrix in $\\mathcal{S}$, we also add\n",
    "\n",
    "$$\n",
    "\\begin{array}{lll}\n",
    "(\\forall x_{1,1}) \\cdots (\\forall x_{3,3})& & R(x_{1,1}, x_{1,2}, x_{1,3}, \n",
    "x_{2,1}, x_{2,2}, x_{2,3},\n",
    "x_{3,1}, x_{3,2}, x_{3,3}) \\\\\n",
    "& \\rightarrow & R\\bigl(x_{1,1} \\underline{m_{1,1}} +  x_{1,2} \\underline{m_{2,1}} +   x_{1,3} \\underline{m_{3,1}},\\\\\n",
    "& & \\quad x_{1,1} \\underline{m_{1,2}} +  x_{1,2} \\underline{m_{2,2}} +   x_{1,3} \\underline{m_{3,2}},\\\\\n",
    "& &  \\qquad \\vdots \\\\\n",
    "& & \\quad x_{3,1} \\underline{m_{1,3}} +  x_{3,2} \\underline{m_{2,3}} +   x_{3,3} \\underline{m_{3,3}} \\bigr)\n",
    "\\end{array}\n",
    "$$\n",
    "In our shorthand  notation, the first axiom is $R(I_3)$, where $I_3$ is the $3\\times 3$ identity matrix.  Our remaining axioms imply that  if $R(M_1)$ and $M_2\\in \\mathcal{S}$, then $R(M_1\\times M_2)$.  In other words, the interpretation of $R$, considered as a set of matrices, is closed under multiplication by elements of $\\mathcal{S}$.\n",
    "\n",
    "Let $Ax_{\\mathcal{S}}$ be the conjunction of the finite set of axioms mentioned  above.\n",
    "We have a model $\\mathbb{Z} \\models Ax_{\\mathcal{S}}$, where for $R$ we specify that\n",
    "$R(M)$ iff $M$ is a product of elements of $\\mathcal{S}$."
   ]
  },
  {
   "attachments": {},
   "cell_type": "markdown",
   "metadata": {},
   "source": [
    "```{prf:lemma} \n",
    ":label: CT_via_matrices\n",
    "\n",
    "For all finite sets $\\mathcal{S}$ of matrices,\n",
    "the following are equivalent:\n",
    "\n",
    "1. Some finite product from $\\mathcal{S}$ is the $3\\times 3$ zero matrix $0_3$.\n",
    "2. In first order logic, $\\vdash Ax_{\\mathcal{S}} \\to R(0_3)$.\n",
    "```\n",
    "\n",
    "\n",
    "```{prf:proof} \n",
    "(2)$\\Rightarrow$(1) is immediate from the observation that $\\mathbb{Z}$ from above is a model of $Ax_{\\mathcal{S}}$.  Again, the interpretation of $R$ corresponds to the matrices which are obtainable as finite products from $\\mathcal{S}$.  So to say that $R(0_3)$ is to say that the zero matrix is obtainable.\n",
    "\n",
    "As for (1)$\\Rightarrow$(2), we show by induction on $i\\geq 0$ that if the matrix $M$ is a product of a sequence of $i$ members of $\\mathcal{S}$, then $\\vdash Ax_{\\mathcal{S}} \\rightarrow R(M)$.   Point (2) follows immediately from this fact and (1).\n",
    "\n",
    "For $i = 0$, the product of the empty sequence is $I_3$.  One of the conjuncts of $Ax_{\\mathcal{S}}$\n",
    "is $R(I_3)$, and so we have $\\vdash Ax_{\\mathcal{S}} \\rightarrow R(I_3)$.  Assume our fact for $i$, and consider a sequence\n",
    "$M_1, M_2, \\ldots, M_i, M_{i+1}$ of elements of $\\mathcal{S}$.  Write $M^*$ for $M_1 M_2 \\cdots M_i$.  By induction hypothesis, $\\vdash Ax_{\\mathcal{S}} \\rightarrow R(M^*)$.  The axiom for $M_{i+1}$ implies that \n",
    "$ \\vdash R(M^*)\\to  R(M^*\\times M_{i+1}) $.   This easily gives $\\vdash Ax_{\\mathcal{S}} \\rightarrow R(M_1 M_2 \\cdots M_i M_{i+1})$. \n",
    "```"
   ]
  },
  {
   "attachments": {},
   "cell_type": "markdown",
   "metadata": {},
   "source": [
    "{prf:ref}`CT_via_matrices` implies the Church-Turing Theorem, {prf:ref}`Churchs-theorem`, in view of the undecidability of matrix mortality."
   ]
  },
  {
   "attachments": {},
   "cell_type": "markdown",
   "metadata": {},
   "source": [
    "```{exercise}\n",
    "Our proof of {prf:ref}`CT_via_matrices` didn't mention {prf:ref}`numerals`.   But  {prf:ref}`numerals` has to be used somewhere.  Where is it used?\n",
    "```"
   ]
  }
 ],
 "metadata": {
  "language_info": {
   "name": "python"
  },
  "orig_nbformat": 4
 },
 "nbformat": 4,
 "nbformat_minor": 2
}
