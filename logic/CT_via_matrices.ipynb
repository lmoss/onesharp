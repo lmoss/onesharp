{
 "cells": [
  {
   "cell_type": "code",
   "execution_count": null,
   "metadata": {},
   "outputs": [],
   "source": [
    "# The Church-Theorem obtained from matrix mortality  \n",
    "\n",
    "We give another short proof of {prf:ref}`Churchs-theorem`, this time using our work on matrix mortality."
   ]
  },
  {
   "attachments": {},
   "cell_type": "markdown",
   "metadata": {},
   "source": [
    "## Commutative rings with unit\n",
    "\n",
    "We us a first-order signature in this section has symbols $0$, $1$, $-$, $+$, and $\\times$.  The symbol $-$ is unary.\n",
    "The set $Ax$ of axioms are those of *commutative rings with unit*. What we need to know about this set is that (1) the integers $\\mathbb{Z}$ with the usual operations is a model of it, and a lemma stated below.\n"
   ]
  },
  {
   "attachments": {},
   "cell_type": "markdown",
   "metadata": {},
   "source": [
    "```{admonition} Definition\n",
    "\n",
    "A *numeral* is a term of the form $0$, $1$, $1+1$, $\\ldots$, or its negative $-(1 + \\cdots+ 1)$.   For each integer $n$ we have a corresponding numeral $\\numeral{n}$.\n",
    "For example, $\\numeral{-3}$ is $-(1+(1+1))$.  Every numeral is of the form $\\numeral{m}$ for some integer $m$.\n",
    "```\n",
    "\n",
    "\n",
    "```{prf:lemma} \n",
    ":label: numerals\n",
    "\n",
    "For all integers $n$ and $m$:\n",
    " \n",
    "1. $\\numeral{n} + \\numeral{m} = \\numeral{n+m}$.\n",
    "\n",
    "2. $\\numeral{n} \\times \\numeral{m} = \\numeral{n\\times m}$.\n",
    "\n",
    "```\n"
   ]
  },
  {
   "attachments": {},
   "cell_type": "markdown",
   "metadata": {},
   "source": [
    "## Add a $9$-place relation symbol $R$\n",
    "\n",
    "We add a relation symbol $R$ to our signature.   The $9$ comes from $3\\times 3$ matrices, and since we are thinking of matrices, we use subscripts on \n",
    "variables  as a reminder.   So we write \n",
    "\n",
    "$$\n",
    "R(x_{1,1}, x_{1,2}, x_{1,3}, \n",
    "x_{2,1}, x_{2,2}, x_{2,3},\n",
    "x_{3,1}, x_{3,2}, x_{3,3})\n",
    "$$\n",
    "\n",
    "rather than $R(x_1, \\ldots, x_9)$.\n",
    "Moreover, if $M = (m_{ij})$ is $3\\times 3$ matrix of integers, we write $R(M)$ \n",
    "to mean \n",
    "\n",
    "$$\n",
    "R(\\numeral{m_{1,1}}, \\numeral{m_{1,2}}, \\numeral{m_{1,3}}, \n",
    "\\numeral{m_{2,1}}, \\numeral{m_{2,2}}, \\numeral{m_{2,3}},\n",
    "\\numeral{m_{3,1}}, \\numeral{m_{3,2}}, \\numeral{m_{3,3}})\n",
    "$$\n",
    "\n",
    "The remaining axioms pertain to a finite set $\\mathcal{S}$ of $3\\times 3$ integer matrices\n",
    "Whenever $M = (m_{i,j})$ is a matrix in $\\mathcal{S}$, we also add\n",
    "\n",
    "$$\n",
    "\\begin{array}{lll}\n",
    "(\\forall x_{1,1}) \\cdots (\\forall x_{3,3})& & R(x_{1,1}, x_{1,2}, x_{1,3}, \n",
    "x_{2,1}, x_{2,2}, x_{2,3},\n",
    "x_{3,1}, x_{3,2}, x_{3,3}) \\\\\n",
    "& \\iif & R\\bigl(x_{1,1} \\numeral{m_{1,1}} +  x_{1,2} \\numeral{m_{2,1}} +   x_{1,3} \\numeral{m_{3,1}},\\\\\n",
    "& & \\quad x_{1,1} \\numeral{m_{1,2}} +  x_{1,2} \\numeral{m_{2,2}} +   x_{1,3} \\numeral{m_{3,2}},\\\\\n",
    "& &  \\qquad \\vdots \\\\\n",
    "& & \\quad x_{3,1} \\numeral{m_{1,3}} +  x_{3,2} \\numeral{m_{2,3}} +   x_{3,3} \\numeral{m_{3,3}} \\bigr)\n",
    "\\end{array}\n",
    "$$\n",
    "In our shorthand  notation, the first axiom is $R(I_3)$, where $I_3$ is the $3\\times 3$ identity matrix.  Our remaining axioms imply that  if $R(M_1)$ and $M_2\\in \\mathcal{S}$, then $R(M_1\\times M_2)$.\n",
    "\n",
    "Let $Ax_{\\mathcal{S}}$ be the conjunction of the finite set of axioms mentioned  above.\n",
    "We have a model $\\mathbb{Z} \\models Ax_{\\mathcal{S}}$, where for $R$ we specify that\n",
    "$R(M)$ iff $M$ is a product of elements of $\\mathcal{S}$, allowing repeats and allowing the empty product.\n"
   ]
  },
  {
   "cell_type": "markdown",
   "metadata": {},
   "source": []
  }
 ],
 "metadata": {
  "language_info": {
   "name": "python"
  },
  "orig_nbformat": 4
 },
 "nbformat": 4,
 "nbformat_minor": 2
}
