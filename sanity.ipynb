{
  "nbformat": 4,
  "nbformat_minor": 0,
  "metadata": {
    "colab": {
      "provenance": [],
      "collapsed_sections": [],
      "include_colab_link": true
    },
    "kernelspec": {
      "name": "python3",
      "display_name": "Python 3"
    },
    "language_info": {
      "name": "python"
    }
  },
  "cells": [
    {
      "cell_type": "markdown",
      "metadata": {
        "id": "view-in-github",
        "colab_type": "text"
      },
      "source": [
        "<a href=\"https://colab.research.google.com/github/lmoss/onesharp/blob/main/sanity.ipynb\" target=\"_parent\"><img src=\"https://colab.research.google.com/assets/colab-badge.svg\" alt=\"Open In Colab\"/></a>"
      ]
    },
    {
      "cell_type": "markdown",
      "source": [
        "# <span style=\"color:blue\">Sanity: a tool to simplify the construction of 1# programs</span> \n",
        "Lawrence S. Moss,\n",
        "Indiana University\n",
        "\n",
        "\n",
        "#### This notebook is part of a set of tools for 1#, under development for use in my IU class M584 in this (current) fall 2022 semester.  The main source on 1# is the web text available at https://iulg.sitehost.iu.edu/trm. \n",
        "\n",
        "#### The idea of sanity is to make it easier for someone to organize 1# programs and to write the without having to count lines for all of the forward- and backward-transfer statements.\n",
        "\n",
        "#### The concept and the name come from Jon Bowman, who once took my class and felt that construction 1# programs by hand was crazy, and that counting all the 1's in a long expression \"made his eyeballs bleed.\"\n",
        "\n",
        "To start, run the next code cells."
      ],
      "metadata": {
        "id": "LKMj7KdP0_vi"
      }
    },
    {
      "cell_type": "code",
      "execution_count": 1,
      "metadata": {
        "cellView": "form",
        "id": "4RHKw-0YObz2"
      },
      "outputs": [],
      "source": [
        "#@title\n",
        "import pandas as pd\n",
        "from IPython.display import display\n",
        "import numpy as np\n",
        "\n",
        "def program_checker(str):\n",
        "    m = len(str)\n",
        "    x1 = str[m - 1] == '#'\n",
        "    x2 = all((str[i] == '1' or str[i] == '#') for i in range(m))\n",
        "    x3 = (str.find('######') == -1)\n",
        "    if (x1 and x2 and x3):\n",
        "        flag = True\n",
        "    else:\n",
        "        flag = False\n",
        "        print('The input ' + str + ' is not a valid 1# program.')\n",
        "        print('It is not the concatenation of a sequence of instructions in the language.')\n",
        "        print('So what you are asking for is undefined.')\n",
        "    return (flag)\n",
        "\n",
        "def one_or_sharp_check(letter):\n",
        "    if (letter==\"1\" or letter==\"#\"):\n",
        "        return(True)\n",
        "    else:\n",
        "        return(False)\n",
        "\n",
        "def word_checker(strg):\n",
        "    answer = all([one_or_sharp_check(x)==True for x in strg])\n",
        "    return(answer)\n",
        "\n",
        "def input_checker(input_seq):\n",
        "    seq = [word_checker(x) for x in input_seq]\n",
        "    flag = all([word_checker(x) for x in input_seq])\n",
        "    if not flag:\n",
        "        print('The input sequence contains words with characters other than 1 and #.')\n",
        "        print('So what you are asking for is undefined.')\n",
        "    return(flag)\n",
        "                                                                                \n",
        "class Augmented:\n",
        "    def __init__(self, string, remainders):\n",
        "        self.string = string\n",
        "        self.remainders = remainders\n",
        "\n",
        "class Snapshot:\n",
        "    def __init__(self, instr_number, regs, proceed,verbose,program_length, step_number):\n",
        "        self.instr_number = instr_number\n",
        "        self.regs = regs\n",
        "        self.proceed = proceed\n",
        "        self.verbose = verbose\n",
        "        self.program_length = program_length\n",
        "        self.step_number = step_number\n",
        "        \n",
        "def preparse(xstr):\n",
        "    b = xstr.string.find('#1')\n",
        "    xstr.remainders = xstr.remainders + [xstr.string[:(b + 1)]]\n",
        "    xstr.string = xstr.string[(b + 1):]\n",
        "    return (xstr)\n",
        "\n",
        "\n",
        "\n",
        "def parse(y):\n",
        "    tempx = Augmented(y, [])\n",
        "    while tempx.string.find('#1') >= 0:\n",
        "        tempx = preparse(tempx)\n",
        "    return (tempx.remainders + [tempx.string])\n",
        "\n",
        "def unparse(p):\n",
        "    return (''.join(p))\n",
        "\n",
        "def instruction_type(instruction):\n",
        "    if instruction[-2:] == '1#':\n",
        "        return ('add1')\n",
        "    if instruction[-3:] == '1##':\n",
        "        return ('add#')\n",
        "    if instruction[-4:] == '1###':\n",
        "        return ('forward')\n",
        "    if instruction[-5:] == '1####':\n",
        "        return ('backward')\n",
        "    if instruction[-6:] == '1#####':\n",
        "        return ('cases')\n",
        "\n",
        "def tail(list):\n",
        "    return (list[1:])\n",
        "\n",
        "def one_step(p, snapshot): # p is parsed\n",
        "    i = snapshot.instr_number\n",
        "    r = snapshot.regs\n",
        "    instruction = p[-1 + i]\n",
        "    if snapshot.verbose:\n",
        "        print('Step ' + str(snapshot.step_number) + ':')\n",
        "        print('Execute instruction ' + str(i) + ':' + \" \" +\n",
        "              instruction_gloss(instruction,i-1) \n",
        "              + '.')\n",
        "        if instruction_type(instruction)=='cases':\n",
        "            billy= len(instruction) - 5\n",
        "            if snapshot.regs[billy-1] == \"\":\n",
        "                print('The register is empty, so we go ahead 1 instruction.')\n",
        "            elif snapshot.regs[billy-1][0] == \"1\":\n",
        "                print('The first symbol in that register is 1,' +\n",
        "                      ' so we delete that symbol and go forward 2 instructions.')\n",
        "            elif snapshot.regs[billy-1][0] == \"#\":\n",
        "                print('The first symbol in that register is #,' +\n",
        "                      ' so we delete that symbol and go forward 3 instructions.')     \n",
        "    t = instruction_type(instruction)\n",
        "    if t == 'add1':\n",
        "        snapshot.instr_number = 1 + snapshot.instr_number\n",
        "        l = len(instruction)\n",
        "        reg = len(instruction[:(l - 1)])\n",
        "        snapshot.regs[reg - 1] = snapshot.regs[reg - 1] + '1'\n",
        "    if t == 'add#':\n",
        "        snapshot.instr_number = 1 + snapshot.instr_number\n",
        "        l = len(instruction)\n",
        "        reg = len(instruction[:(l - 2)])\n",
        "        snapshot.regs[reg - 1] = snapshot.regs[reg - 1] + '#'\n",
        "    if t == 'forward':\n",
        "        l = len(instruction)\n",
        "        offset = len(instruction[:(l - 3)])\n",
        "        snapshot.instr_number = offset + snapshot.instr_number\n",
        "    if t == 'backward':\n",
        "        l = len(instruction)\n",
        "        offset = len(instruction[:(l - 4)])\n",
        "        snapshot.instr_number = (-offset) + snapshot.instr_number\n",
        "    if t == 'cases':\n",
        "        l = len(instruction)\n",
        "        reg = len(instruction[:(l - 5)])\n",
        "        if snapshot.regs[reg - 1] == '':\n",
        "            snapshot.instr_number = 1 + snapshot.instr_number\n",
        "        elif snapshot.regs[reg - 1][0] == '1':\n",
        "            snapshot.instr_number = 2 + snapshot.instr_number\n",
        "            snapshot.regs[reg - 1] = tail(snapshot.regs[reg - 1])\n",
        "        elif snapshot.regs[reg - 1][0] == '#':\n",
        "            snapshot.instr_number = 3 + snapshot.instr_number\n",
        "            snapshot.regs[reg - 1] = tail(snapshot.regs[reg - 1])\n",
        "    if 0< snapshot.instr_number <= len(p):\n",
        "        snapshot.proceed = True\n",
        "        if snapshot.verbose == True:\n",
        "            print_snapshot(snapshot)\n",
        "    else:\n",
        "         snapshot.proceed = False\n",
        "    return (snapshot)\n",
        "\n",
        "\n",
        "def number_help(instr):\n",
        "    if instruction_type(instr) == 'add1':\n",
        "        return (len(instr) - 1)\n",
        "    if instruction_type(instr) == 'add#':\n",
        "        return (len(instr) - 2)\n",
        "    if instruction_type(instr) == 'cases':\n",
        "        return (len(instr)-5)\n",
        "    else:\n",
        "        return (0)\n",
        "\n",
        "\n",
        "def max_register(p):\n",
        "    return (max([number_help(instr) for instr in parse(p)]))\n",
        "\n",
        "\n",
        "def pad(p, register_inputs):\n",
        "    n = len(register_inputs)\n",
        "    m = max_register(p)\n",
        "    extras = ['' for x in range(m - n)]\n",
        "    bigger = register_inputs + extras\n",
        "    return (bigger)\n",
        "\n",
        "def print_snapshot(snap):\n",
        "    regdf = pd.DataFrame([[snap.regs[n]] for n in range(len(snap.regs))],columns=[\"contents\"])\n",
        "    regdf.index = np.arange(1, len(regdf) + 1)\n",
        "    def make_pretty(styler):\n",
        "        styler.set_properties(**{'background-color': '#FFFFCC'})\n",
        "        styler.set_properties(**{'text-align': 'left'})\n",
        "        #styler.set_caption(\"at the start\")\n",
        "        #styler.hide(axis='index')\n",
        "        return styler\n",
        "    display(regdf.style.pipe(make_pretty))  \n",
        "\n",
        "def step_by_step(word_prog, register_inputs):\n",
        "    word_prog = word_prog.replace(\" \", \"\")\n",
        "    register_inputs = [word.replace(\" \", \"\") for word in register_inputs]\n",
        "    if program_checker(word_prog) and input_checker(register_inputs):\n",
        "        print('First, here is the program:')\n",
        "        parse_explain(word_prog)\n",
        "        print()\n",
        "        regs = pad(word_prog, register_inputs)\n",
        "        prog = parse(word_prog)\n",
        "        N = len(prog)\n",
        "        snap = Snapshot(1, regs,True,True,N,1)\n",
        "        print('The computation starts with the register contents shown below.')\n",
        "        print('The registers include those those which you entered as part of the input')\n",
        "        print('and also others mentioned in the input program.')\n",
        "        print_snapshot(snap)\n",
        "        print()\n",
        "        while 0 < snap.instr_number < N + 1:\n",
        "            snap = one_step(prog, snap)\n",
        "            snap.step_number = (snap.step_number) + 1\n",
        "        if snap.instr_number <= 0:\n",
        "            print(\n",
        "                'The computation has not halted properly ' +\n",
        "                'because the control went above instruction 1 of the program.'\n",
        "                 )\n",
        "        elif (snap.instr_number == (N + 1)) and all(\n",
        "                snap.regs[i] == \"\"\n",
        "                for i in range(1, len(snap.regs))):\n",
        "            print(\n",
        "                'The computation then halts properly because' +\n",
        "                ' the control is just below the last line of the program,')\n",
        "            print('and because all registers other than R1 are empty.')\n",
        "            if snap.regs[0] == \"\":\n",
        "                print('The output is the empty word.')\n",
        "            else:\n",
        "                print('The output is ' + snap.regs[0] + '.')\n",
        "        else:\n",
        "            print('This computation does not halt.')\n",
        "            if snap.instr_number != N + 1:\n",
        "                print('This is because the program has ' + str(len(prog)) +\n",
        "                  ' instructions, and control at the end is not one line ' + \n",
        "                   'below the bottom of the program.')\n",
        "                print()\n",
        "            else:\n",
        "                not_blank = [\n",
        "                    i + 1 for i in range(1, len(snap.regs))\n",
        "                    if snap.regs[i] != \"\"\n",
        "                ]\n",
        "                print('Here is the list of registers whose contents ' +\n",
        "                      'are not empty at this point, other than R1:' +\n",
        "                      str(not_blank) + '.')\n",
        "                print('The register contents at the end are shown above.')\n",
        "\n",
        "\n",
        "def onesharp(word_prog, register_inputs):\n",
        "    word_prog = word_prog.replace(\" \", \"\")\n",
        "    register_inputs = [word.replace(\" \", \"\") for word in register_inputs]  \n",
        "    if program_checker(word_prog) and input_checker(register_inputs):\n",
        "        register_inputs = [word.replace(\" \", \"\") for word in register_inputs]\n",
        "        regs = pad(word_prog, register_inputs)\n",
        "        prog = parse(word_prog)\n",
        "        N = len(prog)\n",
        "        snap = Snapshot(1, regs,True,False, N, 1)\n",
        "        while snap.proceed:\n",
        "            snap = one_step(prog, snap)\n",
        "            snap.step_number = (snap.step_number)+1\n",
        "        if (snap.instr_number == (N + 1)) and all(\n",
        "                snap.regs[i] == \"\" for i in range(1, len(snap.regs))):\n",
        "            return ((snap.regs)[0])\n",
        "        else:            \n",
        "            print(\"This is undefined.\")\n",
        "            print(\"The register contents at the end are shown below.\")\n",
        "            print_snapshot(snap)\n",
        "    else:\n",
        "        return('undefined')\n",
        "\n",
        "\n",
        "def instruction_gloss(instr,line):\n",
        "    if instruction_type(instr) == 'add1':\n",
        "        return ('add 1 to R' + str(len(instr) - 1))\n",
        "    if instruction_type(instr) == 'add#':\n",
        "        return ('add # to R' + str(len(instr) - 2))\n",
        "    if instruction_type(instr) == 'forward':\n",
        "        w = len(instr) - 3\n",
        "        return ('go forward ' + str(w) + ' to instruction ' + str(w+line+1))\n",
        "    if instruction_type(instr) == 'backward':\n",
        "        w = len(instr) - 4\n",
        "        return ('go backward ' + str(w) + ' to instruction ' + str(line - w+1))\n",
        "    if instruction_type(instr) == 'cases':\n",
        "        return ('cases on R' + str(len(instr) - 5))\n",
        "\n",
        "def expanded(gorp):\n",
        "    pgorp = parse(gorp)\n",
        "    wwgorp = [[pgorp[x],instruction_gloss(pgorp[x],x)] for x in range(len(pgorp))]\n",
        "    return(wwgorp)\n",
        "\n",
        "def parse_explain(prog):\n",
        "    df = pd.DataFrame(expanded(prog),\n",
        "                      columns=[\"instruction\", 'explanation'])\n",
        "    df.index = np.arange(1, len(df) + 1)\n",
        "    def make_pretty(styler):\n",
        "                styler.set_properties(**{'background-color': '#C9DFEC'})        \n",
        "                styler.set_properties(**{'text-align': 'left'})\n",
        "                return styler\n",
        "    display(df.style.pipe(make_pretty))\n",
        "    #display(df)\n",
        "    \n",
        "def ones(n):\n",
        "  return(unparse(['1' for i in range(n)])) \n",
        "clear_2 = '11#####111###11####111####'\n",
        "clear_3 = '111#####111###11####111####'\n",
        "clear_4 = '1111#####111###11####111####'\n",
        "move_1_2= '1#####111111###111###11##1111####11#111111####'\n",
        "move_1_3= '1#####111111###111###111##1111####111#111111####'\n",
        "move_1_4= '1#####111111###111###1111##1111####1111#111111####'\n",
        "move_2_1= '11#####111111###111###1##1111####1#111111####'\n",
        "move_2_3= '11#####111111###111###111##1111####111#111111####'\n",
        "move_2_4= '11#####111111###111###1111##1111####1111#111111####'\n",
        "move_3_1= '111#####111111###111###1##1111####1#111111####'\n",
        "move_3_2= '111#####111111###111###11##1111####11#111111####'\n",
        "move_3_4= '111#####111111###111###1111##1111####1111#111111####'\n",
        "move_4_1= '1111#####111111###111###1##1111####1#111111####'\n",
        "move_4_2= '1111#####111111###111###11##1111####11#111111####'\n",
        "move_4_3= '1111#####111111###111###111##1111####111#111111####'\n",
        "copy_1_2_3 = '1#####11111111###1111###11##111##11111####11#111#11111111####111#####111111###111###1##1111####1#111111####'\n",
        "copy_1_2_4 ='1#####11111111###1111###11##1111##11111####11#1111#11111111####1111#####111111###111###1##1111####1#111111####'\n",
        "copy_1_3_4='1#####11111111###1111###111##1111##11111####111#1111#11111111####1111#####111111###111###1##1111####1#111111####'\n",
        "copy_2_3_4 = '11#####11111111###1111###111##1111##11111####111#1111#11111111####1111#####111111###111###11##1111####11#111111####'\n",
        "\n"
      ]
    },
    {
      "cell_type": "code",
      "source": [
        "#@title\n",
        "\n",
        "\n",
        "# This code cell contains macros for several common 1# programs; the macros\n",
        "#   allow a programmer to choose the registers that a program will operate on\n",
        "\n",
        "\n",
        "# clear\n",
        "# =====\n",
        "# reg     : positive integer, the index of the register to clear\n",
        "# returns : string, the 1# program to clear register ``reg''\n",
        "def clear(reg):\n",
        "  p = ones(reg)+'#####' # Cases on register ``reg''\n",
        "  p += '111###'         # Go forward three\n",
        "  p += '11####'         # Go backward two\n",
        "  p += '111####'        # Go backward three\n",
        "  return p\n",
        "\n",
        "# move\n",
        "# ====\n",
        "# src     : positive integer, the index of the source register\n",
        "# dst     : positive integer, the index of the destination register\n",
        "# returns : string, the 1# program to move the contents of register ``src'' to\n",
        "#         :   register ``dst''\n",
        "def move(src, dst):\n",
        "  p = ones(src)+'#####' # Cases on register ``src''\n",
        "  p += '11111 1###'     # Go forward six\n",
        "  p += '111###'         # Go forward three\n",
        "  p += ones(dst)+'##'   # Append ``#'' to register ``dst''\n",
        "  p += '1111####'       # Go backward four\n",
        "  p += ones(dst)+'#'    # Append ``1'' to register ``dst''\n",
        "  p += '11111 1####'    # Go backward six\n",
        "  return p\n",
        "\n",
        "# copy\n",
        "# ====\n",
        "# src     : positive integer, the index of the source register\n",
        "# dst     : positive integer, the index of the destination register\n",
        "# tmp     : positive integer, the index of the temporary register\n",
        "# returns : string, the 1# program to copy the contents from register ``src'' to\n",
        "#         :  register ``dst'' using register ``tmp'' as temporary scratch space\n",
        "def copy(src, dst, tmp):\n",
        "  p = ones(src)+'#####' # Cases on register ``src''\n",
        "  p += '11111 111###'   # Go forward eight \n",
        "  p += '1111###'        # Go forward four\n",
        "  p += ones(dst)+'##'   # Append ``#'' to register ``dst''\n",
        "  p += ones(tmp)+'##'   # Append ``#'' to register ``tmp''\n",
        "  p += '11111####'      # Go backward five\n",
        "  p += ones(dst)+'#'    # Append ``1'' to register ``dst''\n",
        "  p += ones(tmp)+'#'    # Append ``1'' to register ``tmp''\n",
        "  p += '11111 111####'  # Go backward eight\n",
        "  p += move(tmp, src)   # Move the contents of register ``tmp'' to register\n",
        "                        #   ``src''\n",
        "  return p\n",
        "\n",
        "# succ\n",
        "# ====\n",
        "# reg     : positive integer, the index of the register for whose contents\n",
        "#         :   the successor will be calculated\n",
        "# tmp     : positive integer, the index of the temporary register\n",
        "# returns : string, the 1# program which will find the successor of the\n",
        "#         :   (nonnegative) backward binary integer in register ``reg''\n",
        "#         :   and place the successor back into register ``reg'' while using\n",
        "#         :   register ``tmp'' as temporary scratch space\n",
        "def succ(reg, tmp):\n",
        "  p = ones(reg)+'#####'      # Cases on register ``reg''\n",
        "  p += '11111 11111 111###'  # Go forward thirteen\n",
        "  p += '11111 11111###'      # Go forward ten \n",
        "  p += ones(tmp)+'#'         # Append ``1'' to register ``tmp''\n",
        "  p += move(reg, tmp)        # Move the remaining contents of register ``reg''\n",
        "                             #   to register ``tmp''; seven instructions\n",
        "  p += '1111###'             # Go forward four\n",
        "  p += ones(tmp)+'##'        # Append ``#'' to register ``tmp''\n",
        "  p += '11111 11111 111####' # Go backward thirteen\n",
        "  p += ones(tmp)+'#'         # Append ``1'' to register ``tmp''\n",
        "  p += move(tmp, reg)        # Move the contents of register ``tmp'' to\n",
        "                             #   register ``reg''\n",
        "  return p\n",
        "\n",
        "# cmp\n",
        "# ===\n",
        "# dst     : positive integer, the index of the destination register which\n",
        "#         :   also contains the first string in the comparison\n",
        "# src     : positive integer, the index of the source register which contains\n",
        "#         :   the second string in the comparison\n",
        "# returns : string, the 1# program which will compare the strings in registers\n",
        "#         :   ``dst'' and ``src,'' decide if they are symbol-for-symbol the\n",
        "#         :   same, and if they are the same write a ``1'' back into register\n",
        "#         :  ``dst'' but otherwise leave register ``dst'' empty\n",
        "def cmp(dst, src):\n",
        "  p = ones(dst)+'#####'       # Cases on register ``dst''\n",
        "  p += '11111 1###'           # Go forward six\n",
        "  p += '11111 1111###'        # Go forward nine\n",
        "  p += ones(src)+'#####'      # Cases on register ``src''\n",
        "  p += '11111 11111 1###'     # Go forward eleven\n",
        "  p += '11111 11111###'       # Go forward ten\n",
        "  p += '11111 1####'          # Go backward six\n",
        "  p += ones(src)+'#####'      # Cases on register ``src''\n",
        "  p += '11111 11111 11111###' # Go forward fifteen\n",
        "  p += '11111 1###'           # Go forward six\n",
        "  p += '11111###'             # Go forward five\n",
        "  p += ones(src)+'#####'      # Cases on register ``src''\n",
        "  p += '111###'               # Go forward three\n",
        "  p += '11111 11111 111####'  # Go backward thirteen\n",
        "  p += '1###'                 # Go forward one; no op\n",
        "  p += ones(dst)+'#####'      # Cases on register ``dst''\n",
        "  p += '111###'               # Go forward three\n",
        "  p += '11####'               # Go backward two\n",
        "  p += '111####'              # Go backward three\n",
        "  p += ones(src)+'#####'      # Cases on register ``src''\n",
        "  p += '1111###'              # Go forward four\n",
        "  p += '11####'               # Go backward two\n",
        "  p += '111####'              # Go backward three\n",
        "  p += ones(dst)+'#'          # Append ``1'' to register ``dst''\n",
        "  return p\n",
        "\n",
        "# add\n",
        "# ===\n",
        "# dst     : positive integer, the index of the destination register which also\n",
        "#         :   must contain the first addend\n",
        "# src     : positive integer, the index of the source register which must\n",
        "#         :   contain the second addend\n",
        "# tmp     : positive integer, the index of the temporary register\n",
        "# returns : string, the 1# program which will calculate the sum, in backward\n",
        "#         :   binary, of the contents of registers ``dst'' and ``src'' and store\n",
        "#         :   the result back into register ``dst'' while using register ``tmp''\n",
        "#         :   as temporary scratch space\n",
        "def add(dst, src, tmp):\n",
        "  p = ones(dst)+'#####'  # Cases on register ``dst''\n",
        "  p += '111###'          # Go forward three\n",
        "  p += '11111 1###'      # Go forward six\n",
        "  p += '11111 1111###'   # Go forward nine\n",
        "  p += ones(src)+'#####' # Cases on register ``src''\n",
        "                         # Go forward thirty-five\n",
        "  p += '11111 11111 11111 11111 11111 11111 11111###'\n",
        "                         # Go forward twenty-six\n",
        "  p += '11111 11111 11111 11111 11111 1###'\n",
        "                         # Go forward twenty-seven\n",
        "  p += '11111 11111 11111 11111 11111 11###'\n",
        "  p += ones(src)+'#####' # Cases on register ``src''\n",
        "                         # Go forward twenty-three\n",
        "  p += '11111 11111 11111 11111 111###'\n",
        "                         # Go forward twenty-eight\n",
        "  p += '11111 11111 11111 11111 11111 111###'\n",
        "                         # Go forward twenty-one\n",
        "  p += '11111 11111 11111 11111 1###'\n",
        "  p += ones(src)+'#####' # Cases on register ``src''\n",
        "                         # Go forward twenty-one\n",
        "  p += '11111 11111 11111 11111 1###'\n",
        "                         # Go forward eighteen\n",
        "  p += '11111 11111 11111 111###'\n",
        "                         # Go forward nineteen\n",
        "  p += '11111 11111 11111 1111###'\n",
        "  p += ones(dst)+'#####' # Cases on register ``dst''\n",
        "  p += '111###'          # Go forward three\n",
        "  p += '11111 1###'      # Go forward six\n",
        "  p += '11111 1111###'   # Go forward nine\n",
        "  p += ones(src)+'#####' # Cases on register ``src''\n",
        "                         # Go forward eleven\n",
        "  p += '11111 11111 1###'\n",
        "                         # Go forward sixteen\n",
        "  p += '11111 11111 11111 1###'\n",
        "  p += '11111 1111###'   # Go forward nine\n",
        "  p += ones(src)+'#####' # Cases on register ``src''\n",
        "                         # Go forward thirteen\n",
        "  p += '11111 11111 111###'\n",
        "  p += '11111 11111###'  # Go forward ten\n",
        "                         # Go forward eleven\n",
        "  p += '11111 11111 1###'\n",
        "  p += ones(src)+'#####' # Cases on register ``src''\n",
        "  p += '111###'          # Go forward three\n",
        "  p += '11111 111###'    # Go forward eight\n",
        "  p += '1###'            # Go forward one; no op\n",
        "  p += ones(tmp)+'#'     # Append ``1'' to register ``tmp''\n",
        "                         # Go backward thirty-three\n",
        "  p += '11111 11111 11111 11111 11111 11111 111####'\n",
        "  p += ones(tmp)+'##'    # Append ``#'' to register ``tmp''\n",
        "                         # Go backward thirty-five\n",
        "  p += '11111 11111 11111 11111 11111 11111 11111####'\n",
        "  p += ones(tmp)+'#'     # Append ``1'' to register ``tmp''\n",
        "                         # Go backward twenty-one\n",
        "  p += '11111 11111 11111 11111 1####'\n",
        "  p += ones(tmp)+'##'    # Append ``#'' to register ``tmp''\n",
        "                         # Go backward twenty-three\n",
        "  p += '11111 11111 11111 11111 111####'\n",
        "  p += move(tmp, dst)    # Move the contents of register ``tmp'' to register\n",
        "                         #   ``dst''\n",
        "  return p"
      ],
      "metadata": {
        "cellView": "form",
        "id": "tKsXun-9RLmo"
      },
      "execution_count": 18,
      "outputs": []
    },
    {
      "cell_type": "code",
      "source": [
        "#@title\n",
        "def findme(pair,pair_list): \n",
        "  x = [i for i in range(len(pair_list)) if pair_list[i][0]==pair[1]]\n",
        "  return x[0]\n",
        "\n",
        "def add_placeholder(line):\n",
        "  keywords = ['cases','add1','add#','goto','non_label']\n",
        "  if line[0] in keywords:\n",
        "    return(['non_label']+line)\n",
        "  elif line[0][0] in ['1','#']:\n",
        "    return(['non_label']+line)  \n",
        "  else:\n",
        "    return(line)\n",
        "\n",
        "def flatten(tuple):\n",
        "  b = len(tuple)\n",
        "  if b > 1 and tuple[1] == \"cases\":\n",
        "    n = tuple[2]\n",
        "    x = ones(n)+'#####'\n",
        "    return [[tuple[0],x], [tuple[0]+'@1',tuple[3]], [tuple[0]+'@2',tuple[4]], [tuple[0]+'@3',tuple[5]]]\n",
        "  elif b > 1 and tuple[1]=='add1':\n",
        "    return([[tuple[0],ones(tuple[2])+'#']])\n",
        "  elif b > 1 and tuple[1]=='add#':\n",
        "    return([[tuple[0],ones(tuple[2])+'##']])\n",
        "  elif b > 1 and tuple[1]=='goto':\n",
        "    return [[tuple[0],tuple[2]]]\n",
        "  elif tuple[1][0] in ['1', '#']:\n",
        "    k = parse(tuple[1])\n",
        "    m = len(k)\n",
        "    return([[tuple[0],k[j]] for j in range(m)])\n",
        "\n",
        "\n",
        "def ones(n):\n",
        "  return(unparse(['1' for i in range(n)])) \n",
        "\n",
        "def resolve(index,pair_list):\n",
        "  pair_in_list = pair_list[index]\n",
        "  #print(\"pair_in_list \" + str(pair_in_list))\n",
        "  first_char = pair_in_list[1][0]\n",
        "  #print(first_char)\n",
        "  if first_char == '1' or first_char == '#':\n",
        "    return pair_in_list[1]\n",
        "  elif pair_in_list[1]=='end':\n",
        "    n = len(pair_list) - index\n",
        "    return(ones(n)+'###')\n",
        "  else:\n",
        "    k = findme(pair_in_list,pair_list)\n",
        "    if k > index:\n",
        "      return(ones(k-index)+'###')\n",
        "    if k < index:\n",
        "      return(ones(index-k)+'####')\n",
        "\n",
        "\n",
        "def sanity(line_list):\n",
        "  w = [add_placeholder(line) for line in line_list]\n",
        "  #print(\"[add_placeholder(line) for line in line_list] is\")\n",
        "  #print(w)\n",
        "  s1 = [flatten(line) for line in w]\n",
        "  #print('[flatten(line) for line in w] is')\n",
        "  #print(s1)\n",
        "  t1 = [item for sublist in s1 for item in sublist]\n",
        "  #print('[item for sublist in s1 for item in sublist] is')\n",
        "  #print(t1)\n",
        "  n = len(t1)\n",
        "  #print('len of t1 = ' + str(n))\n",
        "  u1 = [resolve(i,t1) for i in range(n)] \n",
        "  return(unparse(u1))      "
      ],
      "metadata": {
        "id": "4-xwZgOPWG3p"
      },
      "execution_count": 51,
      "outputs": []
    },
    {
      "cell_type": "markdown",
      "source": [
        "As a way to show what the tool does, we'll go through an example.  Let's write a program that takes a word \n",
        "\n",
        "$$ w = w_1 w_2 \\cdots w_n $$\n",
        "\n",
        "in R1 and reverses it.  Our program will work as follows.   It processes the letters in $w$ in order, using a loop. At the end of the $i$th iteration, we'll have $w_{i+1}\\cdots w)n$ in R1, and its prefix will be in R2 *backwards*: $w_{i}\\cdots w_2 w_1$.  \n",
        "\n",
        "The $i$th step itself copies $w_i$ into R3, and then (in order to put that symbol on the *front* of $w_{i}\\cdots w_2 w_1$, moves R2 on the end of R3, and then R3 back to R2.\n",
        "Once we have gone through the original $w$ in this fashion, R1 will be empty, and R2 will contain its reversal.  So we close by moving R2 back to the now-empty R1.\n",
        "\n",
        "With this in mind, have a look at the following array 'reverse_idea', itself containing 8 arrays."
      ],
      "metadata": {
        "id": "ist0RI8rH78c"
      }
    },
    {
      "cell_type": "code",
      "source": [
        "reverse_idea = [\n",
        "    ['top', 'cases', 1, 'move_back', 'found_a_one', 'found_a_sharp'],\n",
        "    ['found_a_one','111#'],\n",
        "    ['goto', 'move_phase'],\n",
        "    ['found_a_sharp',  '111##'],\n",
        "    ['goto', 'move_phase'],\n",
        "    ['move_phase', move_2_3 + move_3_2],\n",
        "    ['goto', 'top'],\n",
        "    ['move_back', move_2_1]\n",
        "]\n"
      ],
      "metadata": {
        "id": "2FAj2rCASO0z"
      },
      "execution_count": null,
      "outputs": []
    },
    {
      "cell_type": "markdown",
      "source": [
        "We have 8 *lines*. But a line is not the same as in instruction: lines 6 and 8 each contain move programs that are bigger than a single instruction.  Lines 2, 4 5, and 6 each begin with a *label*.  Labels are strings that other parts of the program could point to.  For example, the first line is a case statement 1#####, and it also contains the information that if R1 is empty, we should go to whichever line has the label 'move_phase'. (That would be the line named 'move_stuff_around'.) The first line also tells us that if R1 begins with 1 we should (delete is and) go to the line containing 'first-is_one'.   Note also that 'goto' is not a label.  \n",
        "\n",
        "Here is how these lines are used:\n",
        "\n"
      ],
      "metadata": {
        "id": "EpHIPlFKzxIR"
      }
    },
    {
      "cell_type": "code",
      "source": [
        "rev = sanity(reverse_idea)\n",
        "# This run 'sanity' on 'reverse_idea', calling the result 'rev'.\n",
        "# We can refer to it in the rest of this notebook by 'rev'.\n",
        "# For example we can display our new program\n",
        "rev"
      ],
      "metadata": {
        "colab": {
          "base_uri": "https://localhost:8080/",
          "height": 53
        },
        "id": "x64PWiqbzzv9",
        "outputId": "6f79c143-da33-4039-bb6e-37511728f6c5"
      },
      "execution_count": null,
      "outputs": [
        {
          "output_type": "execute_result",
          "data": {
            "text/plain": [
              "'1#####1111111111111111111111###11###111###111#111###111##1###11#####111111###111###111##1111####111#111111####111#####111111###111###11##1111####11#111111####1111111111111111111111####11#####111111###111###1##1111####1#111111####'"
            ],
            "application/vnd.google.colaboratory.intrinsic+json": {
              "type": "string"
            }
          },
          "metadata": {},
          "execution_count": 200
        }
      ]
    },
    {
      "cell_type": "markdown",
      "source": [
        "Now the program which we just constructed can be run, as usual:"
      ],
      "metadata": {
        "id": "1FAIHp4R00ni"
      }
    },
    {
      "cell_type": "code",
      "source": [
        "onesharp(rev,['1####'])"
      ],
      "metadata": {
        "colab": {
          "base_uri": "https://localhost:8080/",
          "height": 35
        },
        "id": "OBRTkqiXxpCC",
        "outputId": "07002771-df86-4b3c-d1ba-45eaacbac8c0"
      },
      "execution_count": null,
      "outputs": [
        {
          "output_type": "execute_result",
          "data": {
            "text/plain": [
              "'####1'"
            ],
            "application/vnd.google.colaboratory.intrinsic+json": {
              "type": "string"
            }
          },
          "metadata": {},
          "execution_count": 196
        }
      ]
    },
    {
      "cell_type": "code",
      "source": [
        "# Here is a way to write the program 'clear_1':\n",
        "sanity([\n",
        "    ['top', 'cases',1,'empty', 'one','hash'],\n",
        "    ['empty', 'goto', 'end'],\n",
        "    ['one','goto', 'top'],\n",
        "    ['hash', 'goto', 'top'],\n",
        "])"
      ],
      "metadata": {
        "id": "WUTd0u_iG-A-",
        "colab": {
          "base_uri": "https://localhost:8080/",
          "height": 35
        },
        "outputId": "02652952-a7c0-432b-c06e-51b1e463b77c"
      },
      "execution_count": null,
      "outputs": [
        {
          "output_type": "execute_result",
          "data": {
            "text/plain": [
              "'1#####111###111###111###111###11111####111111####'"
            ],
            "application/vnd.google.colaboratory.intrinsic+json": {
              "type": "string"
            }
          },
          "metadata": {},
          "execution_count": 201
        }
      ]
    },
    {
      "cell_type": "markdown",
      "source": [
        "Notice that in the last examples we had a line\n",
        "\n",
        "   ['empty', 'goto', 'end']\n",
        "\n",
        "In this, 'end' is not a label in any of the four lines.\n",
        "Indeed, 'end' is a special string in this program.   We can use 'end' in connection with 'goto', and also in one of the branches of a 'cases' statement.\n",
        "\n",
        "Other things to know: instead of (for example) 11#, we can write it in words as in the third line below.   Finally, all numbers in this program must be entered without quotes."
      ],
      "metadata": {
        "id": "5w8Ft8rkVzsV"
      }
    },
    {
      "cell_type": "code",
      "source": [
        "d = [\n",
        "    ['top','cases',1,'empty', 'one','hash'],\n",
        "    ['empty', 'goto', 'moveback'],\n",
        "    ['one', 'add1', 2],\n",
        "    ['111#111##'],\n",
        "    ['goto', 'top'],\n",
        "    ['hash', 'add#', 2],\n",
        "    ['111#111##111##'],\n",
        "    ['goto', 'top'],\n",
        "    ['moveback', move_3_1+move_2_1] \n",
        "]\n",
        "dg = sanity(d)"
      ],
      "metadata": {
        "id": "hh-cJEpjVYQ7"
      },
      "execution_count": null,
      "outputs": []
    },
    {
      "cell_type": "code",
      "source": [
        "onesharp(dg,['11#'])"
      ],
      "metadata": {
        "colab": {
          "base_uri": "https://localhost:8080/",
          "height": 35
        },
        "id": "EMfyqkmNV5hm",
        "outputId": "317b6845-2d35-4db3-c7c8-504b0f203500"
      },
      "execution_count": 35,
      "outputs": [
        {
          "output_type": "execute_result",
          "data": {
            "text/plain": [
              "'1#1#1##11#'"
            ],
            "application/vnd.google.colaboratory.intrinsic+json": {
              "type": "string"
            }
          },
          "metadata": {},
          "execution_count": 35
        }
      ]
    },
    {
      "cell_type": "markdown",
      "source": [
        "###Summary: here are some examples of 'lines' that the tool can handle:\n",
        "\n",
        "    ['top','cases',1,'empty', 'one_found','hash_found'],\n",
        "    ['empty', 'goto', 'moveback'],\n",
        "    ['one_found', 'add1', 2],\n",
        "    ['111#111##'],\n",
        "    ['goto', 'top'],\n",
        "    ['hash_found', 'add#', 2],\n",
        "    ['111#111##111##'],\n",
        "    ['goto', 'end'],\n",
        "    ['moveback', move_3_1+move_2_1]\n",
        "  \n",
        "A line can be snippet of 1# code surrounded by quotes.  It can also be a Python expression like \n",
        "\n",
        "   move_3_1 + move_2_1\n",
        "   \n",
        "that denotes a 1# word.\n",
        "\n",
        "A line may begin with a *label* like 'top', or 'moveback' \n",
        "A label should not begin with '1' or '#, and it should not be one of the strings 'goto', 'end', 'add1', or 'add#'.\n",
        "\n",
        "*Labels are optional*, except a \"cases\" instruction\n",
        "must have a number and then three labels.  \n",
        "\n",
        "A line also can have the word 'goto' followed by a label or 'end'.\n",
        "\n",
        "A line can have 'add1' or 'add#' followed by a number (without quotes).\n",
        "\n",
        "Every label used inside a 'cases' or 'goto' statement must be the first label in some line.  Otherwise, the program will raise an error.\n"
      ],
      "metadata": {
        "id": "ZM8aBsOpbn6x"
      }
    },
    {
      "cell_type": "markdown",
      "source": [
        "### Two more example Sane programs"
      ],
      "metadata": {
        "id": "CHiDS-cteu2Y"
      }
    },
    {
      "cell_type": "code",
      "source": [
        "# This code cell contains a Sane program which multiplies the contents of\n",
        "#   registers one and two and stores the product back into register one\n",
        "\n",
        "sane_multiply = [\n",
        "  [move(1,4)],\n",
        "  ['1##'],\n",
        "  [copy(2,5,10)],\n",
        "  ['111##'],\n",
        "  [copy(3,6,10)],\n",
        "  [cmp(2,3)],\n",
        "  ['multiply_loop', 'cases', 2, 'empty', 'one', 'sharp'],\n",
        "    ['empty', copy(4,7,10)],\n",
        "      [add(1,4,10)],\n",
        "      [move(7,4)],\n",
        "      [copy(5,2,10)],\n",
        "      [succ(6,10)],\n",
        "      [copy(6,3,10)],\n",
        "      [cmp(2,3)],\n",
        "      ['goto', 'multiply_loop'],\n",
        "    ['one', 'goto', 'epilogue'],\n",
        "    ['sharp', 'goto', 'end'], # We shouldn't reach here because cmp shold never\n",
        "                              #   write sharp into register two\n",
        "  ['epilogue', clear(4)],\n",
        "    [clear(5)],\n",
        "    [clear(6)]\n",
        "]\n",
        "onesharp_multiply = sanity(sane_multiply)\n",
        "onesharp(onesharp_multiply, ['11', '1#1']) # 11*1#1 = 1111 <==> 3*5 = 15"
      ],
      "metadata": {
        "id": "l_A-morkdi8R"
      },
      "execution_count": null,
      "outputs": []
    },
    {
      "cell_type": "code",
      "source": [
        "# This code cell contains a Sane program which exponentiates the contents of\n",
        "#   register one to the power of the contents of register two and stores the\n",
        "#   result back into register one\n",
        "\n",
        "sane_exponentiate = [\n",
        "  [move(1,14)],\n",
        "  [ones(11)+'#'],\n",
        "  [move(2,12)],\n",
        "  [copy(12,15,20)],\n",
        "  [ones(13)+'##'],\n",
        "  [copy(13,16,20)],\n",
        "  [cmp(12,13)],\n",
        "  ['exponentiate_loop', 'cases', 12, 'empty', 'one', 'sharp'],\n",
        "    ['empty', move(11,1)],\n",
        "      [copy(14,2,20)],\n",
        "      [onesharp_multiply],\n",
        "      [move(1,11)],\n",
        "      [copy(15,12,20)],\n",
        "      [succ(16,20)],\n",
        "      [copy(16,13,20)],\n",
        "      [cmp(12,13)],\n",
        "      ['goto', 'exponentiate_loop'],\n",
        "    ['one', 'goto', 'epilogue'],\n",
        "    ['sharp', 'goto', 'end'], # We shouldn't reach here because cmp shold never\n",
        "                              #   write sharp into register two\n",
        "  ['epilogue', move(11,1)],\n",
        "    [clear(14)],\n",
        "    [clear(15)],\n",
        "    [clear(16)]\n",
        "]\n",
        "onesharp_exponentiate = sanity(sane_exponentiate)\n",
        "onesharp(onesharp_exponentiate, ['11', '1#1']) # 11^1#1 = 11##1111 <==> 3^5 = 243"
      ],
      "metadata": {
        "colab": {
          "base_uri": "https://localhost:8080/",
          "height": 127
        },
        "id": "gPm5rsTUdjfy",
        "outputId": "a53fc177-3ade-4ce8-f856-81ee291dad7f"
      },
      "execution_count": 30,
      "outputs": [
        {
          "output_type": "stream",
          "name": "stdout",
          "text": [
            "[flatten(line) for line in w] is\n",
            "[[['non_label', '1#####'], ['non_label', '11111 1###'], ['non_label', '111###'], ['non_label', '11111111111111##'], ['non_label', '1111####'], ['non_label', '11111111111111#'], ['non_label', '11111 1####']], [['non_label', '11111111111#']], [['non_label', '11#####'], ['non_label', '11111 1###'], ['non_label', '111###'], ['non_label', '111111111111##'], ['non_label', '1111####'], ['non_label', '111111111111#'], ['non_label', '11111 1####']], [['non_label', '111111111111#####'], ['non_label', '11111 111###'], ['non_label', '1111###'], ['non_label', '111111111111111##'], ['non_label', '11111111111111111111##'], ['non_label', '11111####'], ['non_label', '111111111111111#'], ['non_label', '11111111111111111111#'], ['non_label', '11111 111####'], ['non_label', '11111111111111111111#####'], ['non_label', '11111 1###'], ['non_label', '111###'], ['non_label', '111111111111##'], ['non_label', '1111####'], ['non_label', '111111111111#'], ['non_label', '11111 1####']], [['non_label', '1111111111111##']], [['non_label', '1111111111111#####'], ['non_label', '11111 111###'], ['non_label', '1111###'], ['non_label', '1111111111111111##'], ['non_label', '11111111111111111111##'], ['non_label', '11111####'], ['non_label', '1111111111111111#'], ['non_label', '11111111111111111111#'], ['non_label', '11111 111####'], ['non_label', '11111111111111111111#####'], ['non_label', '11111 1###'], ['non_label', '111###'], ['non_label', '1111111111111##'], ['non_label', '1111####'], ['non_label', '1111111111111#'], ['non_label', '11111 1####']], [['non_label', '111111111111#####'], ['non_label', '11111 1###'], ['non_label', '11111 1111###'], ['non_label', '1111111111111#####'], ['non_label', '11111 11111 1###'], ['non_label', '11111 11111###'], ['non_label', '11111 1####'], ['non_label', '1111111111111#####'], ['non_label', '11111 11111 11111###'], ['non_label', '11111 1###'], ['non_label', '11111###'], ['non_label', '1111111111111#####'], ['non_label', '111###'], ['non_label', '11111 11111 111####'], ['non_label', '1###'], ['non_label', '111111111111#####'], ['non_label', '111###'], ['non_label', '11####'], ['non_label', '111####'], ['non_label', '1111111111111#####'], ['non_label', '1111###'], ['non_label', '11####'], ['non_label', '111####'], ['non_label', '111111111111#']], [['exponentiate_loop', '111111111111#####'], ['exponentiate_loop@1', 'empty'], ['exponentiate_loop@2', 'one'], ['exponentiate_loop@3', 'sharp']], [['empty', '11111111111#####'], ['empty', '11111 1###'], ['empty', '111###'], ['empty', '1##'], ['empty', '1111####'], ['empty', '1#'], ['empty', '11111 1####']], [['non_label', '11111111111111#####'], ['non_label', '11111 111###'], ['non_label', '1111###'], ['non_label', '11##'], ['non_label', '11111111111111111111##'], ['non_label', '11111####'], ['non_label', '11#'], ['non_label', '11111111111111111111#'], ['non_label', '11111 111####'], ['non_label', '11111111111111111111#####'], ['non_label', '11111 1###'], ['non_label', '111###'], ['non_label', '11111111111111##'], ['non_label', '1111####'], ['non_label', '11111111111111#'], ['non_label', '11111 1####']], [['non_label', '1#####'], ['non_label', '11111 1###'], ['non_label', '111###'], ['non_label', '1111##'], ['non_label', '1111####'], ['non_label', '1111#'], ['non_label', '11111 1####'], ['non_label', '1##'], ['non_label', '11#####'], ['non_label', '11111 111###'], ['non_label', '1111###'], ['non_label', '11111##'], ['non_label', '1111111111##'], ['non_label', '11111####'], ['non_label', '11111#'], ['non_label', '1111111111#'], ['non_label', '11111 111####'], ['non_label', '1111111111#####'], ['non_label', '11111 1###'], ['non_label', '111###'], ['non_label', '11##'], ['non_label', '1111####'], ['non_label', '11#'], ['non_label', '11111 1####'], ['non_label', '111##'], ['non_label', '111#####'], ['non_label', '11111 111###'], ['non_label', '1111###'], ['non_label', '111111##'], ['non_label', '1111111111##'], ['non_label', '11111####'], ['non_label', '111111#'], ['non_label', '1111111111#'], ['non_label', '11111 111####'], ['non_label', '1111111111#####'], ['non_label', '11111 1###'], ['non_label', '111###'], ['non_label', '111##'], ['non_label', '1111####'], ['non_label', '111#'], ['non_label', '11111 1####'], ['non_label', '11#####'], ['non_label', '11111 1###'], ['non_label', '11111 1111###'], ['non_label', '111#####'], ['non_label', '11111 11111 1###'], ['non_label', '11111 11111###'], ['non_label', '11111 1####'], ['non_label', '111#####'], ['non_label', '11111 11111 11111###'], ['non_label', '11111 1###'], ['non_label', '11111###'], ['non_label', '111#####'], ['non_label', '111###'], ['non_label', '11111 11111 111####'], ['non_label', '1###'], ['non_label', '11#####'], ['non_label', '111###'], ['non_label', '11####'], ['non_label', '111####'], ['non_label', '111#####'], ['non_label', '1111###'], ['non_label', '11####'], ['non_label', '111####'], ['non_label', '11#'], ['non_label', '11#####'], ['non_label', '111###'], ['non_label', '1111111111111111111111111111111111111111111111111111111111111111111111111111111111111111111111111111111111111111111111111111111111111111111111111111111###'], ['non_label', '1111111111111111111111111111111111111111111111111111111111111111111111111111111111111111111111111111111111111111111111111111111111111111111111111111111###'], ['non_label', '1111#####'], ['non_label', '11111 111###'], ['non_label', '1111###'], ['non_label', '1111111##'], ['non_label', '1111111111##'], ['non_label', '11111####'], ['non_label', '1111111#'], ['non_label', '1111111111#'], ['non_label', '11111 111####'], ['non_label', '1111111111#####'], ['non_label', '11111 1###'], ['non_label', '111###'], ['non_label', '1111##'], ['non_label', '1111####'], ['non_label', '1111#'], ['non_label', '11111 1####'], ['non_label', '1#####'], ['non_label', '111###'], ['non_label', '11111 1###'], ['non_label', '11111 1111###'], ['non_label', '1111#####'], ['non_label', '11111 11111 11111 11111 11111 11111 11111###'], ['non_label', '11111 11111 11111 11111 11111 1###'], ['non_label', '11111 11111 11111 11111 11111 11###'], ['non_label', '1111#####'], ['non_label', '11111 11111 11111 11111 111###'], ['non_label', '11111 11111 11111 11111 11111 111###'], ['non_label', '11111 11111 11111 11111 1###'], ['non_label', '1111#####'], ['non_label', '11111 11111 11111 11111 1###'], ['non_label', '11111 11111 11111 111###'], ['non_label', '11111 11111 11111 1111###'], ['non_label', '1#####'], ['non_label', '111###'], ['non_label', '11111 1###'], ['non_label', '11111 1111###'], ['non_label', '1111#####'], ['non_label', '11111 11111 1###'], ['non_label', '11111 11111 11111 1###'], ['non_label', '11111 1111###'], ['non_label', '1111#####'], ['non_label', '11111 11111 111###'], ['non_label', '11111 11111###'], ['non_label', '11111 11111 1###'], ['non_label', '1111#####'], ['non_label', '111###'], ['non_label', '11111 111###'], ['non_label', '1###'], ['non_label', '1111111111#'], ['non_label', '11111 11111 11111 11111 11111 11111 111####'], ['non_label', '1111111111##'], ['non_label', '11111 11111 11111 11111 11111 11111 11111####'], ['non_label', '1111111111#'], ['non_label', '11111 11111 11111 11111 1####'], ['non_label', '1111111111##'], ['non_label', '11111 11111 11111 11111 111####'], ['non_label', '1111111111#####'], ['non_label', '11111 1###'], ['non_label', '111###'], ['non_label', '1##'], ['non_label', '1111####'], ['non_label', '1#'], ['non_label', '11111 1####'], ['non_label', '1111111#####'], ['non_label', '11111 1###'], ['non_label', '111###'], ['non_label', '1111##'], ['non_label', '1111####'], ['non_label', '1111#'], ['non_label', '11111 1####'], ['non_label', '11111#####'], ['non_label', '11111 111###'], ['non_label', '1111###'], ['non_label', '11##'], ['non_label', '1111111111##'], ['non_label', '11111####'], ['non_label', '11#'], ['non_label', '1111111111#'], ['non_label', '11111 111####'], ['non_label', '1111111111#####'], ['non_label', '11111 1###'], ['non_label', '111###'], ['non_label', '11111##'], ['non_label', '1111####'], ['non_label', '11111#'], ['non_label', '11111 1####'], ['non_label', '111111#####'], ['non_label', '11111 11111 111###'], ['non_label', '11111 11111###'], ['non_label', '1111111111#'], ['non_label', '111111#####'], ['non_label', '11111 1###'], ['non_label', '111###'], ['non_label', '1111111111##'], ['non_label', '1111####'], ['non_label', '1111111111#'], ['non_label', '11111 1####'], ['non_label', '1111###'], ['non_label', '1111111111##'], ['non_label', '11111 11111 111####'], ['non_label', '1111111111#'], ['non_label', '1111111111#####'], ['non_label', '11111 1###'], ['non_label', '111###'], ['non_label', '111111##'], ['non_label', '1111####'], ['non_label', '111111#'], ['non_label', '11111 1####'], ['non_label', '111111#####'], ['non_label', '11111 111###'], ['non_label', '1111###'], ['non_label', '111##'], ['non_label', '1111111111##'], ['non_label', '11111####'], ['non_label', '111#'], ['non_label', '1111111111#'], ['non_label', '11111 111####'], ['non_label', '1111111111#####'], ['non_label', '11111 1###'], ['non_label', '111###'], ['non_label', '111111##'], ['non_label', '1111####'], ['non_label', '111111#'], ['non_label', '11111 1####'], ['non_label', '11#####'], ['non_label', '11111 1###'], ['non_label', '11111 1111###'], ['non_label', '111#####'], ['non_label', '11111 11111 1###'], ['non_label', '11111 11111###'], ['non_label', '11111 1####'], ['non_label', '111#####'], ['non_label', '11111 11111 11111###'], ['non_label', '11111 1###'], ['non_label', '11111###'], ['non_label', '111#####'], ['non_label', '111###'], ['non_label', '11111 11111 111####'], ['non_label', '1###'], ['non_label', '11#####'], ['non_label', '111###'], ['non_label', '11####'], ['non_label', '111####'], ['non_label', '111#####'], ['non_label', '1111###'], ['non_label', '11####'], ['non_label', '111####'], ['non_label', '11#'], ['non_label', '11111111111111111111111111111111111111111111111111111111111111111111111111111111111111111111111111111111111111111111111111111111111111111111111111111111####'], ['non_label', '11###'], ['non_label', '1111111111111###'], ['non_label', '1111#####'], ['non_label', '111###'], ['non_label', '11####'], ['non_label', '111####'], ['non_label', '11111#####'], ['non_label', '111###'], ['non_label', '11####'], ['non_label', '111####'], ['non_label', '111111#####'], ['non_label', '111###'], ['non_label', '11####'], ['non_label', '111####']], [['non_label', '1#####'], ['non_label', '11111 1###'], ['non_label', '111###'], ['non_label', '11111111111##'], ['non_label', '1111####'], ['non_label', '11111111111#'], ['non_label', '11111 1####']], [['non_label', '111111111111111#####'], ['non_label', '11111 111###'], ['non_label', '1111###'], ['non_label', '111111111111##'], ['non_label', '11111111111111111111##'], ['non_label', '11111####'], ['non_label', '111111111111#'], ['non_label', '11111111111111111111#'], ['non_label', '11111 111####'], ['non_label', '11111111111111111111#####'], ['non_label', '11111 1###'], ['non_label', '111###'], ['non_label', '111111111111111##'], ['non_label', '1111####'], ['non_label', '111111111111111#'], ['non_label', '11111 1####']], [['non_label', '1111111111111111#####'], ['non_label', '11111 11111 111###'], ['non_label', '11111 11111###'], ['non_label', '11111111111111111111#'], ['non_label', '1111111111111111#####'], ['non_label', '11111 1###'], ['non_label', '111###'], ['non_label', '11111111111111111111##'], ['non_label', '1111####'], ['non_label', '11111111111111111111#'], ['non_label', '11111 1####'], ['non_label', '1111###'], ['non_label', '11111111111111111111##'], ['non_label', '11111 11111 111####'], ['non_label', '11111111111111111111#'], ['non_label', '11111111111111111111#####'], ['non_label', '11111 1###'], ['non_label', '111###'], ['non_label', '1111111111111111##'], ['non_label', '1111####'], ['non_label', '1111111111111111#'], ['non_label', '11111 1####']], [['non_label', '1111111111111111#####'], ['non_label', '11111 111###'], ['non_label', '1111###'], ['non_label', '1111111111111##'], ['non_label', '11111111111111111111##'], ['non_label', '11111####'], ['non_label', '1111111111111#'], ['non_label', '11111111111111111111#'], ['non_label', '11111 111####'], ['non_label', '11111111111111111111#####'], ['non_label', '11111 1###'], ['non_label', '111###'], ['non_label', '1111111111111111##'], ['non_label', '1111####'], ['non_label', '1111111111111111#'], ['non_label', '11111 1####']], [['non_label', '111111111111#####'], ['non_label', '11111 1###'], ['non_label', '11111 1111###'], ['non_label', '1111111111111#####'], ['non_label', '11111 11111 1###'], ['non_label', '11111 11111###'], ['non_label', '11111 1####'], ['non_label', '1111111111111#####'], ['non_label', '11111 11111 11111###'], ['non_label', '11111 1###'], ['non_label', '11111###'], ['non_label', '1111111111111#####'], ['non_label', '111###'], ['non_label', '11111 11111 111####'], ['non_label', '1###'], ['non_label', '111111111111#####'], ['non_label', '111###'], ['non_label', '11####'], ['non_label', '111####'], ['non_label', '1111111111111#####'], ['non_label', '1111###'], ['non_label', '11####'], ['non_label', '111####'], ['non_label', '111111111111#']], [['non_label', 'exponentiate_loop']], [['one', 'epilogue']], [['sharp', 'end']], [['epilogue', '11111111111#####'], ['epilogue', '11111 1###'], ['epilogue', '111###'], ['epilogue', '1##'], ['epilogue', '1111####'], ['epilogue', '1#'], ['epilogue', '11111 1####']], [['non_label', '11111111111111#####'], ['non_label', '111###'], ['non_label', '11####'], ['non_label', '111####']], [['non_label', '111111111111111#####'], ['non_label', '111###'], ['non_label', '11####'], ['non_label', '111####']], [['non_label', '1111111111111111#####'], ['non_label', '111###'], ['non_label', '11####'], ['non_label', '111####']]]\n",
            "[item for sublist in s1 for item in sublist] is\n",
            "[['non_label', '1#####'], ['non_label', '11111 1###'], ['non_label', '111###'], ['non_label', '11111111111111##'], ['non_label', '1111####'], ['non_label', '11111111111111#'], ['non_label', '11111 1####'], ['non_label', '11111111111#'], ['non_label', '11#####'], ['non_label', '11111 1###'], ['non_label', '111###'], ['non_label', '111111111111##'], ['non_label', '1111####'], ['non_label', '111111111111#'], ['non_label', '11111 1####'], ['non_label', '111111111111#####'], ['non_label', '11111 111###'], ['non_label', '1111###'], ['non_label', '111111111111111##'], ['non_label', '11111111111111111111##'], ['non_label', '11111####'], ['non_label', '111111111111111#'], ['non_label', '11111111111111111111#'], ['non_label', '11111 111####'], ['non_label', '11111111111111111111#####'], ['non_label', '11111 1###'], ['non_label', '111###'], ['non_label', '111111111111##'], ['non_label', '1111####'], ['non_label', '111111111111#'], ['non_label', '11111 1####'], ['non_label', '1111111111111##'], ['non_label', '1111111111111#####'], ['non_label', '11111 111###'], ['non_label', '1111###'], ['non_label', '1111111111111111##'], ['non_label', '11111111111111111111##'], ['non_label', '11111####'], ['non_label', '1111111111111111#'], ['non_label', '11111111111111111111#'], ['non_label', '11111 111####'], ['non_label', '11111111111111111111#####'], ['non_label', '11111 1###'], ['non_label', '111###'], ['non_label', '1111111111111##'], ['non_label', '1111####'], ['non_label', '1111111111111#'], ['non_label', '11111 1####'], ['non_label', '111111111111#####'], ['non_label', '11111 1###'], ['non_label', '11111 1111###'], ['non_label', '1111111111111#####'], ['non_label', '11111 11111 1###'], ['non_label', '11111 11111###'], ['non_label', '11111 1####'], ['non_label', '1111111111111#####'], ['non_label', '11111 11111 11111###'], ['non_label', '11111 1###'], ['non_label', '11111###'], ['non_label', '1111111111111#####'], ['non_label', '111###'], ['non_label', '11111 11111 111####'], ['non_label', '1###'], ['non_label', '111111111111#####'], ['non_label', '111###'], ['non_label', '11####'], ['non_label', '111####'], ['non_label', '1111111111111#####'], ['non_label', '1111###'], ['non_label', '11####'], ['non_label', '111####'], ['non_label', '111111111111#'], ['exponentiate_loop', '111111111111#####'], ['exponentiate_loop@1', 'empty'], ['exponentiate_loop@2', 'one'], ['exponentiate_loop@3', 'sharp'], ['empty', '11111111111#####'], ['empty', '11111 1###'], ['empty', '111###'], ['empty', '1##'], ['empty', '1111####'], ['empty', '1#'], ['empty', '11111 1####'], ['non_label', '11111111111111#####'], ['non_label', '11111 111###'], ['non_label', '1111###'], ['non_label', '11##'], ['non_label', '11111111111111111111##'], ['non_label', '11111####'], ['non_label', '11#'], ['non_label', '11111111111111111111#'], ['non_label', '11111 111####'], ['non_label', '11111111111111111111#####'], ['non_label', '11111 1###'], ['non_label', '111###'], ['non_label', '11111111111111##'], ['non_label', '1111####'], ['non_label', '11111111111111#'], ['non_label', '11111 1####'], ['non_label', '1#####'], ['non_label', '11111 1###'], ['non_label', '111###'], ['non_label', '1111##'], ['non_label', '1111####'], ['non_label', '1111#'], ['non_label', '11111 1####'], ['non_label', '1##'], ['non_label', '11#####'], ['non_label', '11111 111###'], ['non_label', '1111###'], ['non_label', '11111##'], ['non_label', '1111111111##'], ['non_label', '11111####'], ['non_label', '11111#'], ['non_label', '1111111111#'], ['non_label', '11111 111####'], ['non_label', '1111111111#####'], ['non_label', '11111 1###'], ['non_label', '111###'], ['non_label', '11##'], ['non_label', '1111####'], ['non_label', '11#'], ['non_label', '11111 1####'], ['non_label', '111##'], ['non_label', '111#####'], ['non_label', '11111 111###'], ['non_label', '1111###'], ['non_label', '111111##'], ['non_label', '1111111111##'], ['non_label', '11111####'], ['non_label', '111111#'], ['non_label', '1111111111#'], ['non_label', '11111 111####'], ['non_label', '1111111111#####'], ['non_label', '11111 1###'], ['non_label', '111###'], ['non_label', '111##'], ['non_label', '1111####'], ['non_label', '111#'], ['non_label', '11111 1####'], ['non_label', '11#####'], ['non_label', '11111 1###'], ['non_label', '11111 1111###'], ['non_label', '111#####'], ['non_label', '11111 11111 1###'], ['non_label', '11111 11111###'], ['non_label', '11111 1####'], ['non_label', '111#####'], ['non_label', '11111 11111 11111###'], ['non_label', '11111 1###'], ['non_label', '11111###'], ['non_label', '111#####'], ['non_label', '111###'], ['non_label', '11111 11111 111####'], ['non_label', '1###'], ['non_label', '11#####'], ['non_label', '111###'], ['non_label', '11####'], ['non_label', '111####'], ['non_label', '111#####'], ['non_label', '1111###'], ['non_label', '11####'], ['non_label', '111####'], ['non_label', '11#'], ['non_label', '11#####'], ['non_label', '111###'], ['non_label', '1111111111111111111111111111111111111111111111111111111111111111111111111111111111111111111111111111111111111111111111111111111111111111111111111111111###'], ['non_label', '1111111111111111111111111111111111111111111111111111111111111111111111111111111111111111111111111111111111111111111111111111111111111111111111111111111###'], ['non_label', '1111#####'], ['non_label', '11111 111###'], ['non_label', '1111###'], ['non_label', '1111111##'], ['non_label', '1111111111##'], ['non_label', '11111####'], ['non_label', '1111111#'], ['non_label', '1111111111#'], ['non_label', '11111 111####'], ['non_label', '1111111111#####'], ['non_label', '11111 1###'], ['non_label', '111###'], ['non_label', '1111##'], ['non_label', '1111####'], ['non_label', '1111#'], ['non_label', '11111 1####'], ['non_label', '1#####'], ['non_label', '111###'], ['non_label', '11111 1###'], ['non_label', '11111 1111###'], ['non_label', '1111#####'], ['non_label', '11111 11111 11111 11111 11111 11111 11111###'], ['non_label', '11111 11111 11111 11111 11111 1###'], ['non_label', '11111 11111 11111 11111 11111 11###'], ['non_label', '1111#####'], ['non_label', '11111 11111 11111 11111 111###'], ['non_label', '11111 11111 11111 11111 11111 111###'], ['non_label', '11111 11111 11111 11111 1###'], ['non_label', '1111#####'], ['non_label', '11111 11111 11111 11111 1###'], ['non_label', '11111 11111 11111 111###'], ['non_label', '11111 11111 11111 1111###'], ['non_label', '1#####'], ['non_label', '111###'], ['non_label', '11111 1###'], ['non_label', '11111 1111###'], ['non_label', '1111#####'], ['non_label', '11111 11111 1###'], ['non_label', '11111 11111 11111 1###'], ['non_label', '11111 1111###'], ['non_label', '1111#####'], ['non_label', '11111 11111 111###'], ['non_label', '11111 11111###'], ['non_label', '11111 11111 1###'], ['non_label', '1111#####'], ['non_label', '111###'], ['non_label', '11111 111###'], ['non_label', '1###'], ['non_label', '1111111111#'], ['non_label', '11111 11111 11111 11111 11111 11111 111####'], ['non_label', '1111111111##'], ['non_label', '11111 11111 11111 11111 11111 11111 11111####'], ['non_label', '1111111111#'], ['non_label', '11111 11111 11111 11111 1####'], ['non_label', '1111111111##'], ['non_label', '11111 11111 11111 11111 111####'], ['non_label', '1111111111#####'], ['non_label', '11111 1###'], ['non_label', '111###'], ['non_label', '1##'], ['non_label', '1111####'], ['non_label', '1#'], ['non_label', '11111 1####'], ['non_label', '1111111#####'], ['non_label', '11111 1###'], ['non_label', '111###'], ['non_label', '1111##'], ['non_label', '1111####'], ['non_label', '1111#'], ['non_label', '11111 1####'], ['non_label', '11111#####'], ['non_label', '11111 111###'], ['non_label', '1111###'], ['non_label', '11##'], ['non_label', '1111111111##'], ['non_label', '11111####'], ['non_label', '11#'], ['non_label', '1111111111#'], ['non_label', '11111 111####'], ['non_label', '1111111111#####'], ['non_label', '11111 1###'], ['non_label', '111###'], ['non_label', '11111##'], ['non_label', '1111####'], ['non_label', '11111#'], ['non_label', '11111 1####'], ['non_label', '111111#####'], ['non_label', '11111 11111 111###'], ['non_label', '11111 11111###'], ['non_label', '1111111111#'], ['non_label', '111111#####'], ['non_label', '11111 1###'], ['non_label', '111###'], ['non_label', '1111111111##'], ['non_label', '1111####'], ['non_label', '1111111111#'], ['non_label', '11111 1####'], ['non_label', '1111###'], ['non_label', '1111111111##'], ['non_label', '11111 11111 111####'], ['non_label', '1111111111#'], ['non_label', '1111111111#####'], ['non_label', '11111 1###'], ['non_label', '111###'], ['non_label', '111111##'], ['non_label', '1111####'], ['non_label', '111111#'], ['non_label', '11111 1####'], ['non_label', '111111#####'], ['non_label', '11111 111###'], ['non_label', '1111###'], ['non_label', '111##'], ['non_label', '1111111111##'], ['non_label', '11111####'], ['non_label', '111#'], ['non_label', '1111111111#'], ['non_label', '11111 111####'], ['non_label', '1111111111#####'], ['non_label', '11111 1###'], ['non_label', '111###'], ['non_label', '111111##'], ['non_label', '1111####'], ['non_label', '111111#'], ['non_label', '11111 1####'], ['non_label', '11#####'], ['non_label', '11111 1###'], ['non_label', '11111 1111###'], ['non_label', '111#####'], ['non_label', '11111 11111 1###'], ['non_label', '11111 11111###'], ['non_label', '11111 1####'], ['non_label', '111#####'], ['non_label', '11111 11111 11111###'], ['non_label', '11111 1###'], ['non_label', '11111###'], ['non_label', '111#####'], ['non_label', '111###'], ['non_label', '11111 11111 111####'], ['non_label', '1###'], ['non_label', '11#####'], ['non_label', '111###'], ['non_label', '11####'], ['non_label', '111####'], ['non_label', '111#####'], ['non_label', '1111###'], ['non_label', '11####'], ['non_label', '111####'], ['non_label', '11#'], ['non_label', '11111111111111111111111111111111111111111111111111111111111111111111111111111111111111111111111111111111111111111111111111111111111111111111111111111111####'], ['non_label', '11###'], ['non_label', '1111111111111###'], ['non_label', '1111#####'], ['non_label', '111###'], ['non_label', '11####'], ['non_label', '111####'], ['non_label', '11111#####'], ['non_label', '111###'], ['non_label', '11####'], ['non_label', '111####'], ['non_label', '111111#####'], ['non_label', '111###'], ['non_label', '11####'], ['non_label', '111####'], ['non_label', '1#####'], ['non_label', '11111 1###'], ['non_label', '111###'], ['non_label', '11111111111##'], ['non_label', '1111####'], ['non_label', '11111111111#'], ['non_label', '11111 1####'], ['non_label', '111111111111111#####'], ['non_label', '11111 111###'], ['non_label', '1111###'], ['non_label', '111111111111##'], ['non_label', '11111111111111111111##'], ['non_label', '11111####'], ['non_label', '111111111111#'], ['non_label', '11111111111111111111#'], ['non_label', '11111 111####'], ['non_label', '11111111111111111111#####'], ['non_label', '11111 1###'], ['non_label', '111###'], ['non_label', '111111111111111##'], ['non_label', '1111####'], ['non_label', '111111111111111#'], ['non_label', '11111 1####'], ['non_label', '1111111111111111#####'], ['non_label', '11111 11111 111###'], ['non_label', '11111 11111###'], ['non_label', '11111111111111111111#'], ['non_label', '1111111111111111#####'], ['non_label', '11111 1###'], ['non_label', '111###'], ['non_label', '11111111111111111111##'], ['non_label', '1111####'], ['non_label', '11111111111111111111#'], ['non_label', '11111 1####'], ['non_label', '1111###'], ['non_label', '11111111111111111111##'], ['non_label', '11111 11111 111####'], ['non_label', '11111111111111111111#'], ['non_label', '11111111111111111111#####'], ['non_label', '11111 1###'], ['non_label', '111###'], ['non_label', '1111111111111111##'], ['non_label', '1111####'], ['non_label', '1111111111111111#'], ['non_label', '11111 1####'], ['non_label', '1111111111111111#####'], ['non_label', '11111 111###'], ['non_label', '1111###'], ['non_label', '1111111111111##'], ['non_label', '11111111111111111111##'], ['non_label', '11111####'], ['non_label', '1111111111111#'], ['non_label', '11111111111111111111#'], ['non_label', '11111 111####'], ['non_label', '11111111111111111111#####'], ['non_label', '11111 1###'], ['non_label', '111###'], ['non_label', '1111111111111111##'], ['non_label', '1111####'], ['non_label', '1111111111111111#'], ['non_label', '11111 1####'], ['non_label', '111111111111#####'], ['non_label', '11111 1###'], ['non_label', '11111 1111###'], ['non_label', '1111111111111#####'], ['non_label', '11111 11111 1###'], ['non_label', '11111 11111###'], ['non_label', '11111 1####'], ['non_label', '1111111111111#####'], ['non_label', '11111 11111 11111###'], ['non_label', '11111 1###'], ['non_label', '11111###'], ['non_label', '1111111111111#####'], ['non_label', '111###'], ['non_label', '11111 11111 111####'], ['non_label', '1###'], ['non_label', '111111111111#####'], ['non_label', '111###'], ['non_label', '11####'], ['non_label', '111####'], ['non_label', '1111111111111#####'], ['non_label', '1111###'], ['non_label', '11####'], ['non_label', '111####'], ['non_label', '111111111111#'], ['non_label', 'exponentiate_loop'], ['one', 'epilogue'], ['sharp', 'end'], ['epilogue', '11111111111#####'], ['epilogue', '11111 1###'], ['epilogue', '111###'], ['epilogue', '1##'], ['epilogue', '1111####'], ['epilogue', '1#'], ['epilogue', '11111 1####'], ['non_label', '11111111111111#####'], ['non_label', '111###'], ['non_label', '11####'], ['non_label', '111####'], ['non_label', '111111111111111#####'], ['non_label', '111###'], ['non_label', '11####'], ['non_label', '111####'], ['non_label', '1111111111111111#####'], ['non_label', '111###'], ['non_label', '11####'], ['non_label', '111####']]\n"
          ]
        },
        {
          "output_type": "execute_result",
          "data": {
            "text/plain": [
              "'11##1111'"
            ],
            "application/vnd.google.colaboratory.intrinsic+json": {
              "type": "string"
            }
          },
          "metadata": {},
          "execution_count": 30
        }
      ]
    },
    {
      "cell_type": "code",
      "source": [
        "onesharp(onesharp_exponentiate, ['11', '###1']) # 11^###1 = 1####1#11##11 <==> 3^8 = 6561\n",
        "# 6561 base 2 is 1100110100001"
      ],
      "metadata": {
        "id": "a4H1SZi7XaTY",
        "outputId": "6eec1222-114e-41c1-ecbd-aa68159071d2",
        "colab": {
          "base_uri": "https://localhost:8080/",
          "height": 35
        }
      },
      "execution_count": 34,
      "outputs": [
        {
          "output_type": "execute_result",
          "data": {
            "text/plain": [
              "'1####1#11##11'"
            ],
            "application/vnd.google.colaboratory.intrinsic+json": {
              "type": "string"
            }
          },
          "metadata": {},
          "execution_count": 34
        }
      ]
    },
    {
      "cell_type": "code",
      "source": [
        " pre_pred = [\n",
        " ['top', 'cases', 1, 'first_end', 'first_one', 'first_hash'],\n",
        " ['first_one', 'cases', 1, 'hash_is_it', 'returnA','returnB'],\n",
        " ['hash_is_it', '1##'],\n",
        " ['goto', 'second_end'],\n",
        " ['returnA', '11#11#'],\n",
        " [move_1_2 + move_2_1],\n",
        " ['goto', 'end'], \n",
        " ['returnB', '11#11##'],\n",
        " [move_1_2 + move_2_1],\n",
        " ['goto', 'end'], \n",
        " ['first_hash', 'cases', 1, 'first_end', 'hash_one', 'hash_hash'],\n",
        " ['hash_one','11##'],\n",
        " ['hash_hash','1###'],\n",
        " ['second_end', '1111#'],\n",
        " ['goto', 'end'],\n",
        " ['first_end', '111#'],\n",
        " ]"
      ],
      "metadata": {
        "id": "HCI5EAOgYAjt"
      },
      "execution_count": 78,
      "outputs": []
    },
    {
      "cell_type": "code",
      "source": [
        "onesharp(sanity(pre_pred), ['#1'])"
      ],
      "metadata": {
        "id": "6rACbr-pbKGK",
        "outputId": "4a0efe86-e17c-4e2a-fa24-5fa1c0cec633",
        "colab": {
          "base_uri": "https://localhost:8080/",
          "height": 211
        }
      },
      "execution_count": 83,
      "outputs": [
        {
          "output_type": "stream",
          "name": "stdout",
          "text": [
            "This is undefined.\n",
            "The register contents at the end are shown below.\n"
          ]
        },
        {
          "output_type": "display_data",
          "data": {
            "text/plain": [
              "<pandas.io.formats.style.Styler at 0x7f24488f3550>"
            ],
            "text/html": [
              "<style type=\"text/css\">\n",
              "#T_63014_row0_col0, #T_63014_row1_col0, #T_63014_row2_col0, #T_63014_row3_col0 {\n",
              "  background-color: #FFFFCC;\n",
              "  text-align: left;\n",
              "}\n",
              "</style>\n",
              "<table id=\"T_63014_\" class=\"dataframe\">\n",
              "  <thead>\n",
              "    <tr>\n",
              "      <th class=\"blank level0\" >&nbsp;</th>\n",
              "      <th class=\"col_heading level0 col0\" >contents</th>\n",
              "    </tr>\n",
              "  </thead>\n",
              "  <tbody>\n",
              "    <tr>\n",
              "      <th id=\"T_63014_level0_row0\" class=\"row_heading level0 row0\" >1</th>\n",
              "      <td id=\"T_63014_row0_col0\" class=\"data row0 col0\" ></td>\n",
              "    </tr>\n",
              "    <tr>\n",
              "      <th id=\"T_63014_level0_row1\" class=\"row_heading level0 row1\" >2</th>\n",
              "      <td id=\"T_63014_row1_col0\" class=\"data row1 col0\" ></td>\n",
              "    </tr>\n",
              "    <tr>\n",
              "      <th id=\"T_63014_level0_row2\" class=\"row_heading level0 row2\" >3</th>\n",
              "      <td id=\"T_63014_row2_col0\" class=\"data row2 col0\" >1</td>\n",
              "    </tr>\n",
              "    <tr>\n",
              "      <th id=\"T_63014_level0_row3\" class=\"row_heading level0 row3\" >4</th>\n",
              "      <td id=\"T_63014_row3_col0\" class=\"data row3 col0\" ></td>\n",
              "    </tr>\n",
              "  </tbody>\n",
              "</table>\n"
            ]
          },
          "metadata": {}
        }
      ]
    },
    {
      "cell_type": "code",
      "source": [
        "pred = [\n",
        "     ['top','cases', 1, 'a', 'b','c'],   \n",
        "     ['a', 'goto', 'end'],\n",
        "     ['b', 'cases', 1, 'oe', 'oo', 'oh'],\n",
        "     ['oe', '1##'],\n",
        "     ['goto', 'end'],\n",
        "     ['oo', '11#11#'+move_1_2+move_2_1],\n",
        "     ['goto', 'main'],\n",
        "     ['oh', '11#11##'+move_1_2+move_2_1],\n",
        "     ['goto', 'main'],\n",
        "     ['c', 'cases', 1, 'he', 'ho', 'hh'],\n",
        "     ['he', '1##'],\n",
        "     ['goto', 'end'],\n",
        "     ['ho', '11##11#'+move_1_2+move_2_1],\n",
        "     ['goto', 'main'],\n",
        "     ['hh', '11##11##'+move_1_2+move_2_1],\n",
        "     ['goto', 'main'],    \n",
        "     ['main', 'cases', 1, 'empty', 'one','hash'],\n",
        "     ['empty', move_2_1],\n",
        "     ['goto', 'end'],\n",
        "     ['one', '11##'],\n",
        "     [move_1_2 + move_2_1],\n",
        "     ['goto', 'end'],\n",
        "     ['hash', '11#'],\n",
        "     ['borrowing', 'cases', 1, 'borrowing_empty', 'borrowing_one', 'borrowing_hash'],\n",
        "     ['borrowing_empty', move_2_1],\n",
        "     ['goto', 'end'],\n",
        "     ['borrowing_one', '11##'],\n",
        "     [move_1_2 + move_2_1],\n",
        "     ['goto', 'end'],\n",
        "     ['borrowing_hash', '11#'],\n",
        "     ['goto','borrowing']\n",
        "]"
      ],
      "metadata": {
        "id": "0RI_oHqycIE5"
      },
      "execution_count": 141,
      "outputs": []
    },
    {
      "cell_type": "code",
      "source": [
        "p1 = sanity(pred)\n"
      ],
      "metadata": {
        "id": "It_-TCiJhyHx"
      },
      "execution_count": 142,
      "outputs": []
    },
    {
      "cell_type": "code",
      "source": [
        "onesharp(p1,['1#'])"
      ],
      "metadata": {
        "id": "wxlu8HIUhzxG",
        "outputId": "41a22286-7ffc-49fc-97be-e50c074ac7b0",
        "colab": {
          "base_uri": "https://localhost:8080/",
          "height": 35
        }
      },
      "execution_count": 150,
      "outputs": [
        {
          "output_type": "execute_result",
          "data": {
            "text/plain": [
              "'##'"
            ],
            "application/vnd.google.colaboratory.intrinsic+json": {
              "type": "string"
            }
          },
          "metadata": {},
          "execution_count": 150
        }
      ]
    },
    {
      "cell_type": "code",
      "source": [
        "id = [ ['all_h', 'cases', 1, 'a', 'b', 'c'],\n",
        "       ['a', '1##'+clear_2],\n",
        "       ['goto', 'end'],\n",
        "       ['b', '11#'],\n",
        "       [move_1_2+move_2_1],\n",
        "       ['goto', 'end'],\n",
        "       ['c', '11##'],\n",
        "       ['goto', 'all_h']\n",
        "      ]\n",
        "\n",
        "rectify=sanity(id)"
      ],
      "metadata": {
        "id": "EZZsDX8Lh2yp"
      },
      "execution_count": 156,
      "outputs": []
    },
    {
      "cell_type": "code",
      "source": [
        "onesharp(rectify,['##1'])"
      ],
      "metadata": {
        "id": "Sl3nbpituNZw",
        "outputId": "e611870c-d433-4314-e8b8-91fcf36a2e62",
        "colab": {
          "base_uri": "https://localhost:8080/",
          "height": 35
        }
      },
      "execution_count": 160,
      "outputs": [
        {
          "output_type": "execute_result",
          "data": {
            "text/plain": [
              "'##1'"
            ],
            "application/vnd.google.colaboratory.intrinsic+json": {
              "type": "string"
            }
          },
          "metadata": {},
          "execution_count": 160
        }
      ]
    },
    {
      "cell_type": "code",
      "source": [
        "pr = p1 + rectify"
      ],
      "metadata": {
        "id": "cjLmQjgfubNV"
      },
      "execution_count": 161,
      "outputs": []
    },
    {
      "cell_type": "code",
      "source": [
        "onesharp(pr,['1##'])"
      ],
      "metadata": {
        "id": "Ud4Qoo91uvd1",
        "outputId": "9c9963e3-8c4f-449f-b0ab-b682afb4d353",
        "colab": {
          "base_uri": "https://localhost:8080/",
          "height": 35
        }
      },
      "execution_count": 168,
      "outputs": [
        {
          "output_type": "execute_result",
          "data": {
            "text/plain": [
              "'#'"
            ],
            "application/vnd.google.colaboratory.intrinsic+json": {
              "type": "string"
            }
          },
          "metadata": {},
          "execution_count": 168
        }
      ]
    },
    {
      "cell_type": "code",
      "source": [
        "pr"
      ],
      "metadata": {
        "id": "qAuTowHCux8r",
        "outputId": "bc413722-feea-4759-cde8-f9fee43f06ec",
        "colab": {
          "base_uri": "https://localhost:8080/",
          "height": 178
        }
      },
      "execution_count": 169,
      "outputs": [
        {
          "output_type": "execute_result",
          "data": {
            "text/plain": [
              "'1#####111###111###111111111111111111111111111111111111111111###11111111111111111111111111111111111111111111111111111111111111111111111111111111111111111111111111111111111111111111111111111111111111111111###1#####111###1111###11111111111111111111###1##11111111111111111111111111111111111111111111111111111111111111111111111111111111111111111111111111111111111111111111111111111111111111###11#11#1#####111111###111###11##1111####11#111111####11#####111111###111###1##1111####1#111111####1111111111111111111111111111111111111111111111111111111111###11#11##1#####111111###111###11##1111####11#111111####11#####111111###111###1##1111####1#111111####11111111111111111111111111111111111111111###1#####111###1111###11111111111111111111###1##1111111111111111111111111111111111111111111111111111111111111111111111111111111111111111111111###11##11#1#####111111###111###11##1111####11#111111####11#####111111###111###1##1111####1#111111####111111111111111111###11##11##1#####111111###111###11##1111####11#111111####11#####111111###111###1##1111####1#111111####1###1#####111###1111111111###1111111111111111111111111###11#####111111###111###1##1111####1#111111####111111111111111111111111111111111111111111111111###11##1#####111111###111###11##1111####11#111111####11#####111111###111###1##1111####1#111111####11111111111111111111111111111111###11#1#####111###1111111111###1111111111111111111111111###11#####111111###111###1##1111####1#111111####1111111111111111111###11##1#####111111###111###11##1111####11#111111####11#####111111###111###1##1111####1#111111####111###11#11111111111111111111111111111####1#####111###11111111###11111111111111111111111###1##11#####111###11####111####1111111111111111111###11#1#####111111###111###11##1111####11#111111####11#####111111###111###1##1111####1#111111####111###11##111111111111111111111111111####'"
            ],
            "application/vnd.google.colaboratory.intrinsic+json": {
              "type": "string"
            }
          },
          "metadata": {},
          "execution_count": 169
        }
      ]
    },
    {
      "cell_type": "code",
      "source": [],
      "metadata": {
        "id": "S0h3bC5zvIs1"
      },
      "execution_count": null,
      "outputs": []
    }
  ]
}