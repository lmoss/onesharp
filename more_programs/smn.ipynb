{
 "cells": [
  {
   "cell_type": "markdown",
   "metadata": {},
   "source": [
    "## The s-m-n Theorem"
   ]
  },
  {
   "cell_type": "markdown",
   "metadata": {},
   "source": [
    "```{prf:lemma}\n",
    ":label: smn\n",
    "\n",
    "Let $m$ and $n$ be natural numbers.\n",
    "\n",
    "There is a program $s^m_n$ such that for all $p$, $q_1$, $\\ldots$, $q_m$, $r_1$, $\\ldots$, $r_n$,\n",
    "\n",
    "\n",
    "$$\n",
    "[\\![ [\\![s^m_n]\\!](p, q_1,\\ldots, q_m)]\\!](r_1,\\ldots, r_n)\n",
    "\\simeq\n",
    "[\\![ p]\\!](q_1,\\ldots, q_m,r_1,\\ldots, r_n)\n",
    "$$\n",
    "\n",
    "```"
   ]
  },
  {
   "cell_type": "markdown",
   "metadata": {},
   "source": [
    "```{prf:remark}\n",
    "The way the notation in \"$s^m_n$\" works is that we have $m$ stored variables, and we expect $n$ more to run $p$.\n",
    "\n",
    "Here is the statement in words:\n",
    "\n",
    "If we start running  $s^m_n$  with  $p$ in R1, $q_1$  in R2,  and $\\ldots$, $q_m$ in R$(m+1)$  then we  get a word $x$ in R1 (and all other registers empty).\n",
    " \n",
    "If we then run $x$  with $r_1$ in R1,$\\ldots$, $r_n$ in R$n$, we would get the same thing as running the original $p$ with \n",
    " $q_1$ in R1, $\\ldots$, $q_m$ in R$m$, $r_1$ in R$(m+1)$, $\\ldots$, $r_m$ in R$(m+n)$.\n",
    "\n",
    "```"
   ]
  },
  {
   "cell_type": "markdown",
   "metadata": {},
   "source": [
    "We are not going to prove {prf:ref}`smn` in full, but we do want to give all the details on what is probably the most important special case, when $m = n = 1$."
   ]
  },
  {
   "attachments": {},
   "cell_type": "markdown",
   "metadata": {},
   "source": [
    "\n",
    "```{admonition} Example: $s^1_1$\n",
    ":class: tip\n",
    "\n",
    "We seek a program $s^1_1$ so that\n",
    "\n",
    "$$\n",
    "[\\![ [\\![s^1_1]\\!](p, q)]\\!](r)\n",
    "\\simeq\n",
    "[\\![ p]\\!](q,r)\n",
    "$$\n",
    "\n",
    "\n",
    "We take $s^1_1$ to be\n",
    "\n",
    "```move_1_3 + move_2_1 + write + move_1_2 + [[write]](move_1_2) + move_2_1  + move_3_1```\n",
    "\n",
    "Before we check that this works, here is a comment on the difference between ```write``` and ```[[write]](move_1_2)```.\n",
    "The program ```write``` takes whatever word $x$ is in R1 and, using R2 as a temporary register, returns a program which\n",
    "would write $x$ after whatever is in R1.   The program ```[[write]](move_1_2)``` puts the program ```move_1_2``` after whatever\n",
    "is in R1.\n",
    "\n",
    "We verify that our proposal for $s^1_1$ works by making tables of what happens after each of its sub-programs.\n",
    "\n",
    "|      | start | move_1_3 | move_2_1 | write              |    move_1_2            |\n",
    "| -----|-------|----------|----------|--------------------|------------------------|\n",
    "| R1   |  p    |          |    q     | ```[[write]](q)``` |                        |  \n",
    "| R2   |  q    |    q     |          |                    |   ```[[write]](q)```   | \n",
    "| R3   |       |    p     |    p     |     p              |                        |\n",
    "\n",
    "The reason for starting with ```move_1_3``` is that ```write``` uses R2, so we need that register to be empty before executing ```write```\n",
    "\n",
    "Continuing:\n",
    "\n",
    "\n",
    "|      | ```[[write]](move_1_2)```| move_2_1                      |    move_3_1           |\n",
    "| -----|--------------------------|-------------------------------|------------------------|\n",
    "| R1   |  move_1_2                | move_1_2 +  ```[[write]](q)```|   move_1_2 +  ```[[write]](q)``` + p  |  \n",
    "| R2   | ```[[write]](q)```       |                               |                        | \n",
    "| R3   |           p              |    p                         |                        |\n",
    "\n",
    "\n",
    "So we see that $[\\![s^1_1]\\!](p, q)$ is the program ``` move_1_2 + [[write]](q) + p```. \n",
    "We run this program on ```r``` in R1.\n",
    "\n",
    "|      | start |  move_1_2  | ```[[write]](q)``` |         p        |\n",
    "|------|-------|------------|--------------------|------------------|\n",
    "|  R1  |   r   |            |    q               | ```[[p]](q,r)``` |\n",
    "|  R2  |       |     r      |         r          |                  |\n",
    "\n",
    "As desired, we get $[\\![ p]\\!](q,r)$.\n",
    "\n",
    "This concludes the verification.\n",
    "\n",
    "```\n"
   ]
  },
  {
   "cell_type": "markdown",
   "metadata": {},
   "source": [
    "```{prf:lemma}\n",
    ":label: smn2\n",
    "\n",
    "For each $m$ and $n$, ```[[s^m_n]]``` is a primitive recursive function.   \n",
    "\n",
    "Also, there is a primitive recursive function $f:N\\times N\\to Words$ such that for all $m$ and $n$, $f(m,n) = s^m_n$.\n",
    "```"
   ]
  },
  {
   "cell_type": "markdown",
   "metadata": {},
   "source": []
  }
 ],
 "metadata": {
  "language_info": {
   "name": "python"
  }
 },
 "nbformat": 4,
 "nbformat_minor": 2
}
