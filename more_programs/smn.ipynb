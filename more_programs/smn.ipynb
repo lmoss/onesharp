{
 "cells": [
  {
   "cell_type": "markdown",
   "metadata": {},
   "source": [
    "## The s-m-n Theorem"
   ]
  },
  {
   "attachments": {},
   "cell_type": "markdown",
   "metadata": {},
   "source": [
    "\n",
    "```{prf:lemma}\n",
    "Let $m$ and $n$ be natural numbers.\n",
    "\n",
    "There is a program $s^m_n$ such that for all $p$, $q_1$, $\\ldots$, $q_m$, $r_1$, $\\ldots$, $r_n$,\n",
    "\n",
    "\n",
    "$$\n",
    "[\\![ [\\![s^m_n]\\!](p, q_1,\\ldots, q_m)]\\!](r_1,\\ldots, r_n)\n",
    "\\simeq\n",
    "[\\![ p]\\!](q_1,\\ldots, q_m,r_1,\\ldots, r_n)\n",
    "$$\n",
    "\n",
    "```\n",
    "\n",
    "Here is the statement in words:\n",
    "\n",
    "If we start running  $s^m_n$  with  $p$ in R1, $q_1$  in R2,  and $\\ldots$, $q_m$ in R$(m+1)$  then we  get a word $x$ in R1 (and all other registers empty).\n",
    " \n",
    "If we then run $x$  with $r_1$ in R1,$\\ldots$, $r_n$ in R$n$, we would get the same thing as running the original $p$ with \n",
    " $q_1$ in R1, $\\ldots$, $q_m$ in R$m$, $r_1$ in R$(m+1)$, $\\ldots$, $r_m$ in R$(m+n)$.\n",
    "\n",
    "\n",
    "\n",
    " \n"
   ]
  },
  {
   "attachments": {},
   "cell_type": "markdown",
   "metadata": {},
   "source": [
    "\n",
    "```{admonition} Example: $s^1_1$\n",
    ":class: tip\n",
    "\n",
    "We take $s^1_1$ to be\n",
    "\n",
    "```move_1_3 + move_2_1 + write + move_1_2 + [[write]](move_1_2) + move_2_1  + move_3_1```\n",
    "\n",
    "\n",
    "Then we verify that this works by making tables of what happens after each of the sub-programs above.\n",
    "\n",
    "|      | start | move_1_3 | move_2_1 | write    | move_1_2 | [[write]](move_1_2) | move_2_1 |                            move_3_1 |\n",
    "| -----|-------|----------|----------|----------|----------|---------------------|----------|-------------------------------------|\n",
    "| R1   |  p    |          |    q     | [w](q)   |          |     move_1_2        |  move_1_2 + [wr(q)] |   move_1_2 + [wr(q)] + p |\n",
    "| R2   |  q    |    q     |          |          | [w](q)   |     [wr](q)         |                     |                          |\n",
    "| R3   |       |    p     |    p     |     p    |     p    |         p           |                     |                          |\n",
    "\n",
    "Then we run this program ``` move_1_2 + [[write]](q) + p``` on ```r``` in R1\n",
    "\n",
    "|      | start |  move_1_2  | [[write]](q) |  p|\n",
    "|------|-------|------------|--------------|---|\n",
    "|  R1  |   r   |            |    q         | [p](q,r) |\n",
    "|  R2  |       |     r      |     r        |\n",
    "\n",
    "This concludes the verification.\n",
    "\n",
    "```\n"
   ]
  },
  {
   "cell_type": "markdown",
   "metadata": {},
   "source": []
  },
  {
   "cell_type": "markdown",
   "metadata": {},
   "source": [
    " $$\n",
    "\\begin{array}{l||l|l|l|l|l|l}\n",
    " & \\mbox{at the} & \\mbox{after} & \\mbox{after} & \\mbox{after}  & \\mbox{after} & \\mbox{after}\\\\\n",
    " & \\mbox{start}&\n",
    " \\writee & \\move_{1,2}&\n",
    "\\semantics{\\writeprog}(\\move_{1,2}) & \\move_{2,1} &\\semantics{\\writeprog}(\\div)\\\\ \\hline\n",
    "R1 & \\one\\one\\one  &  \\one\\hash\\one\\hash\\one\\hash  &  &  \\move_{1,2}&  \\move_{1,2} + (\\one\\hash)^3&  \\move_{1,2} + (\\one\\hash)^3  \\\\ \n",
    "&     &  &   & &  & \\quad\\quad\\quad+\\div\\\\\n",
    "  &  &     &      & & & \\\\\n",
    "   R2 &  &     &  \\one\\hash\\one\\hash\\one\\hash   &  \\one\\hash\\one\\hash\\one\\hash  & & \\\\\n",
    "    &     &  &   & &  &\\\\\n",
    "R3 &     &  &   & & & \\\\\n",
    "       &     &  &   & &  &\\\\\n",
    "\\end{array}\n",
    "$$ "
   ]
  }
 ],
 "metadata": {
  "language_info": {
   "name": "python"
  }
 },
 "nbformat": 4,
 "nbformat_minor": 2
}
