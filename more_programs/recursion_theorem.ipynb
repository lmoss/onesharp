{
 "cells": [
  {
   "attachments": {},
   "cell_type": "markdown",
   "metadata": {},
   "source": [
    "```{prf:theorem}\n",
    ":label: recursion_theorem\n",
    "\n",
    "For every word $p$ there is some word $q^*$ so that for all $r$, $[\\![ q^*]\\!](r) \\simeq [\\![ p]\\!](q^*,r)$.\n",
    "```\n",
    "\n",
    "```{prf:proof}\n",
    "We first write a program $\\hat{q}$ so that for all $x$ and $r$,\n",
    "\n",
    "$$\n",
    "[\\![  [\\![\\hat{q}]\\!](x)]\\!](r) \\simeq [\\![p]\\!]([\\![x]\\!](x) ,r)\n",
    "$$\n",
    "\n",
    "Then we set $x = \\hat{q}$ to see that for all $r$ \n",
    "\n",
    "$$\n",
    "[\\![  [\\![\\hat{q}]\\!](\\hat{q})]\\!](r) \\simeq [\\![p]\\!]([\\![\\hat{q}]\\!](\\hat{q}) ,r)\n",
    "$$\n",
    "\n",
    "So if we take $q^* = [\\![\\hat{q}]\\!](\\hat{q})$, we see that \n",
    "\n",
    "$$\n",
    "[\\![ q^* ]\\!](r) = [\\![p]\\!](q^*,r)\n",
    "$$\n",
    "\n",
    "This is the desired equation.   Now to get $\\hat{q}$, we\n",
    "\n",
    "```"
   ]
  }
 ],
 "metadata": {
  "language_info": {
   "name": "python"
  }
 },
 "nbformat": 4,
 "nbformat_minor": 2
}
