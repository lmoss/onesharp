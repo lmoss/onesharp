{
 "cells": [
  {
   "cell_type": "markdown",
   "metadata": {},
   "source": [
    "```{prf:theorem}\n",
    ":label: recursion_theorem\n",
    "\n",
    "For every word $p$ there is some word $q^*$ so that for all $r$, $[\\![ q^*]\\!](r) \\simeq [\\![ p]\\!](q^*,r)$.\n",
    "```\n",
    "\n",
    "```{prf:proof}\n",
    "We first write a program $\\hat{q}$ so that for all $x$ and $r$,\n",
    "\n",
    "$$\n",
    "[\\![  [\\![\\hat{q}]\\!](x)]\\!](r) \\simeq [\\![p]\\!]([\\![\\hat{q}]\\!](\\hat{q}) ,r)\n",
    "$$\n",
    "\n",
    "```"
   ]
  }
 ],
 "metadata": {
  "language_info": {
   "name": "python"
  }
 },
 "nbformat": 4,
 "nbformat_minor": 2
}
