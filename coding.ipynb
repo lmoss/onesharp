{
  "nbformat": 4,
  "nbformat_minor": 0,
  "metadata": {
    "colab": {
      "provenance": [],
      "collapsed_sections": [],
      "authorship_tag": "ABX9TyP/FClvo+cNf0n3/ybDPRVP",
      "include_colab_link": true
    },
    "kernelspec": {
      "name": "python3",
      "display_name": "Python 3"
    },
    "language_info": {
      "name": "python"
    }
  },
  "cells": [
    {
      "cell_type": "markdown",
      "metadata": {
        "id": "view-in-github",
        "colab_type": "text"
      },
      "source": [
        "<a href=\"https://colab.research.google.com/github/lmoss/onesharp/blob/main/coding.ipynb\" target=\"_parent\"><img src=\"https://colab.research.google.com/assets/colab-badge.svg\" alt=\"Open In Colab\"/></a>"
      ]
    },
    {
      "cell_type": "code",
      "execution_count": 5,
      "metadata": {
        "id": "1zSGcVNASYpU"
      },
      "outputs": [],
      "source": [
        "import math\n",
        "\n",
        "def log2int(x):\n",
        "  return(math.frexp(x)[1] - 1)"
      ]
    },
    {
      "cell_type": "code",
      "source": [
        "log2int(41)"
      ],
      "metadata": {
        "colab": {
          "base_uri": "https://localhost:8080/"
        },
        "id": "qZnud4B1SZdp",
        "outputId": "3f1d6928-a26a-4ac8-cb93-197d6a55daa9"
      },
      "execution_count": 6,
      "outputs": [
        {
          "output_type": "execute_result",
          "data": {
            "text/plain": [
              "5"
            ]
          },
          "metadata": {},
          "execution_count": 6
        }
      ]
    },
    {
      "cell_type": "code",
      "source": [
        "def length(n):\n",
        "  return(log2int(n+1))\n",
        "\n",
        "def index(n,m):\n",
        "  a = (n+1)%(2**(m+1))\n",
        "  b = 2**m\n",
        "  if a < b:\n",
        "    return(0)\n",
        "  else:\n",
        "    return(1)\n",
        "      \n",
        "            "
      ],
      "metadata": {
        "id": "3vqKNfvZSnrT"
      },
      "execution_count": 17,
      "outputs": []
    },
    {
      "cell_type": "code",
      "source": [
        "n = 101\n",
        "k = length(n)\n",
        "for i in range(k):\n",
        "  print(i,index(n,i))"
      ],
      "metadata": {
        "colab": {
          "base_uri": "https://localhost:8080/"
        },
        "id": "IdLBEnDOSt4z",
        "outputId": "1d096432-258d-41b8-c021-6871f483bf1a"
      },
      "execution_count": 21,
      "outputs": [
        {
          "output_type": "stream",
          "name": "stdout",
          "text": [
            "0 0\n",
            "1 1\n",
            "2 1\n",
            "3 0\n",
            "4 0\n",
            "5 1\n"
          ]
        }
      ]
    },
    {
      "cell_type": "code",
      "source": [
        "n = 102\n",
        "k = length(n)\n",
        "for i in range(k):\n",
        "  print(i,index(n,i))"
      ],
      "metadata": {
        "colab": {
          "base_uri": "https://localhost:8080/"
        },
        "id": "B5kVIachTSa9",
        "outputId": "6450d4c0-45fa-48fa-ad61-4ae4efd3ca24"
      },
      "execution_count": 22,
      "outputs": [
        {
          "output_type": "stream",
          "name": "stdout",
          "text": [
            "0 1\n",
            "1 1\n",
            "2 1\n",
            "3 0\n",
            "4 0\n",
            "5 1\n"
          ]
        }
      ]
    },
    {
      "cell_type": "code",
      "source": [
        "7%0"
      ],
      "metadata": {
        "colab": {
          "base_uri": "https://localhost:8080/",
          "height": 169
        },
        "id": "ojFZwUm_ThVz",
        "outputId": "b2a3378c-41a3-4f2a-f163-85ab5a8dbea1"
      },
      "execution_count": 15,
      "outputs": [
        {
          "output_type": "error",
          "ename": "ZeroDivisionError",
          "evalue": "ignored",
          "traceback": [
            "\u001b[0;31m---------------------------------------------------------------------------\u001b[0m",
            "\u001b[0;31mZeroDivisionError\u001b[0m                         Traceback (most recent call last)",
            "\u001b[0;32m<ipython-input-15-57e481a5c4d4>\u001b[0m in \u001b[0;36m<module>\u001b[0;34m\u001b[0m\n\u001b[0;32m----> 1\u001b[0;31m \u001b[0;36m7\u001b[0m\u001b[0;34m%\u001b[0m\u001b[0;36m0\u001b[0m\u001b[0;34m\u001b[0m\u001b[0;34m\u001b[0m\u001b[0m\n\u001b[0m",
            "\u001b[0;31mZeroDivisionError\u001b[0m: integer division or modulo by zero"
          ]
        }
      ]
    },
    {
      "cell_type": "code",
      "source": [],
      "metadata": {
        "id": "THLtJ9nHTq16"
      },
      "execution_count": null,
      "outputs": []
    }
  ]
}