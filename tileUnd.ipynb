{
  "nbformat": 4,
  "nbformat_minor": 0,
  "metadata": {
    "colab": {
      "provenance": [],
      "authorship_tag": "ABX9TyN6fTv+DCTwTePvItnN+F9O",
      "include_colab_link": true
    },
    "kernelspec": {
      "name": "python3",
      "display_name": "Python 3"
    },
    "language_info": {
      "name": "python"
    }
  },
  "cells": [
    {
      "cell_type": "markdown",
      "metadata": {
        "id": "view-in-github",
        "colab_type": "text"
      },
      "source": [
        "<a href=\"https://colab.research.google.com/github/lmoss/onesharp/blob/main/tileUnd.ipynb\" target=\"_parent\"><img src=\"https://colab.research.google.com/assets/colab-badge.svg\" alt=\"Open In Colab\"/></a>"
      ]
    },
    {
      "cell_type": "markdown",
      "source": [
        "# Tiling"
      ],
      "metadata": {
        "id": "QutJ68mmNxRM"
      }
    },
    {
      "cell_type": "markdown",
      "source": [
        "````{prf:theorem} \n",
        "The Tiling problem is undecidable.\n",
        "````"
      ],
      "metadata": {
        "id": "5Xu39aJcNz2p"
      }
    },
    {
      "cell_type": "markdown",
      "source": [
        "````{admonition} Proof\n",
        ":class: tip\n",
        "````"
      ],
      "metadata": {
        "id": "F-pW5WPAOQI1"
      }
    },
    {
      "cell_type": "code",
      "source": [],
      "metadata": {
        "id": "1L_4aJ2oNzDa"
      },
      "execution_count": null,
      "outputs": []
    }
  ]
}