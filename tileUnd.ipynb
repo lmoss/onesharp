{
  "nbformat": 4,
  "nbformat_minor": 0,
  "metadata": {
    "colab": {
      "provenance": [],
      "authorship_tag": "ABX9TyMi71ZFeKdMxOo0zvQA6Tzs",
      "include_colab_link": true
    },
    "kernelspec": {
      "name": "python3",
      "display_name": "Python 3"
    },
    "language_info": {
      "name": "python"
    }
  },
  "cells": [
    {
      "cell_type": "markdown",
      "metadata": {
        "id": "view-in-github",
        "colab_type": "text"
      },
      "source": [
        "<a href=\"https://colab.research.google.com/github/lmoss/onesharp/blob/main/tileUnd.ipynb\" target=\"_parent\"><img src=\"https://colab.research.google.com/assets/colab-badge.svg\" alt=\"Open In Colab\"/></a>"
      ]
    },
    {
      "cell_type": "markdown",
      "source": [
        "# Tiling"
      ],
      "metadata": {
        "id": "QutJ68mmNxRM"
      }
    },
    {
      "cell_type": "markdown",
      "source": [
        "````{prf:theorem}  Undecidability of tiling.\n",
        ":label: negative-theorem-on-tiling\n",
        "\n",
        "The Tiling problem is undecidable.\n",
        "````"
      ],
      "metadata": {
        "id": "5Xu39aJcNz2p"
      }
    },
    {
      "cell_type": "markdown",
      "source": [
        "````{prf:theorem} Orthogonal-Projection-Theorem\n",
        ":label: my-theorem\n",
        "\n",
        "Given $y \\in \\mathbb R^n$ and linear subspace $S \\subset \\mathbb R^n$,\n",
        "there exists a unique solution to the minimization problem\n",
        "\n",
        "```{math}\n",
        "\\hat y := \\argmin_{z \\in S} \\|y - z\\|\n",
        "```\n",
        "\n",
        "The minimizer $\\hat y$ is the unique vector in $\\mathbb R^n$ that satisfies\n",
        "\n",
        "* $\\hat y \\in S$\n",
        "\n",
        "* $y - \\hat y \\perp S$\n",
        "\n",
        "\n",
        "The vector $\\hat y$ is called the **orthogonal projection** of $y$ onto $S$.\n",
        "````"
      ],
      "metadata": {
        "id": "36oFlie3RA7i"
      }
    },
    {
      "cell_type": "markdown",
      "source": [
        "````{admonition} Proof\n",
        ":class: tip\n",
        "\n",
        "Here is the proof.  We know that the halting problem is undecidable for 1# programs which are tidy and which only use R1.\n",
        "````"
      ],
      "metadata": {
        "id": "F-pW5WPAOQI1"
      }
    },
    {
      "cell_type": "code",
      "source": [],
      "metadata": {
        "id": "1L_4aJ2oNzDa"
      },
      "execution_count": null,
      "outputs": []
    }
  ]
}