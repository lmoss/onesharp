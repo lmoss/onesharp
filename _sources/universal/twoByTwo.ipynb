{
  "cells": [
    {
      "attachments": {},
      "cell_type": "markdown",
      "metadata": {
        "colab_type": "text",
        "id": "view-in-github"
      },
      "source": [
        "<a href=\"https://colab.research.google.com/github/lmoss/onesharp/blob/main/universal/twoByTwo.ipynb\" target=\"_parent\"><img src=\"https://colab.research.google.com/assets/colab-badge.svg\" alt=\"Open In Colab\"/></a>"
      ]
    },
    {
      "attachments": {},
      "cell_type": "markdown",
      "metadata": {
        "id": "fDFD2HjfRMzO"
      },
      "source": [
        "# Two-by-Two encoding\n",
        "\n",
        "\n",
        "\n",
        "This section shows that every ```1#``` program may be modified to get a program with the special feature that when it runs, the case statement ```1#####``` is never called on an empty R1.  (This technical feature will be put to use later, when we prove the undecidability of Post's Correspondence Problem).\n",
        "\n",
        "The work here also is a good illustration of the use of the Sanity tool."
      ]
    },
    {
      "cell_type": "code",
      "execution_count": null,
      "metadata": {},
      "outputs": [],
      "source": [
        "!python -m pip install -U setuptools\n",
        "!python -m pip install -U git+https://github.com/lmoss/onesharp.git@main\n",
        "from onesharp.interpreter.interpreter import *"
      ]
    },
    {
      "attachments": {},
      "cell_type": "markdown",
      "metadata": {
        "id": "_iArgn-aRudm"
      },
      "source": [
        "The two-by-two encoding takes the symbol ```1``` and replaces it by ```11```, and the symbol ```#``` and replaces it by ```1#```.  Then a word in a given register is replace by the letter-by-letter encoding, followed by an \"end of register\" marker ```##```.   For example, if R1 has ```1#1```, then we encode this by ```111#11##```.\n",
        "  \n",
        "\n",
        "We want to translate programs into ones which work on the encoded words, and we want to be sure that the translated programs have the feature that we are looking for. The basic idea in the programs below is that we can grab the symbols in R1 in a \"two-by-two\" fashion, and since we have an \"end-of-register\" marker ```##```, we will never do a case statement on an empty register.\n",
        "\n",
        "For simplicity, we are going to work only with programs that are tidy and which only use R1, and which are then run on all empty registers.  This is what we need for the later use of this encoding, and these conditions could be relaxed a bit.\n"
      ]
    },
    {
      "cell_type": "markdown",
      "metadata": {
        "id": "QSPl__vkGg8-"
      },
      "source": [
        "## Encoding and decoding register 1\n"
      ]
    },
    {
      "cell_type": "code",
      "execution_count": null,
      "metadata": {
        "id": "N4cLmME8Gna_"
      },
      "outputs": [],
      "source": [
        "decode_idea = [ # this is sanity code for decoding an encoded R1\n",
        "    ['top', 'cases', 1, 'empty', 'found_a_one', 'found_a_sharp'],\n",
        "    ['empty','1###'],\n",
        "    ['found_a_one', 'cases', 1, 'empty', 'one_one', 'one_sharp'],\n",
        "    ['found_a_sharp', 'cases', 1, 'empty', 'empty', 'sharp_sharp'],\n",
        "    ['one_one', '1#'],\n",
        "    ['goto', 'top'],\n",
        "    ['one_sharp', '1##'],\n",
        "    ['goto', 'top'],\n",
        "    ['sharp_sharp', 'goto', 'end']\n",
        "]\n",
        "decode = sanity(decode_idea)\n",
        "#onesharp(decode,['111###'])\n",
        "\n",
        "def atomic_replace(x):\n",
        "  if x == '1':\n",
        "    return '11'\n",
        "  if x == '#':\n",
        "    return '1#'\n",
        "    \n",
        "def encode(w):\n",
        "  a = [atomic_replace(x) for x in w]\n",
        "  b = unparse(a)\n",
        "  c = b + '##'\n",
        "  return(c)        "
      ]
    },
    {
      "cell_type": "markdown",
      "metadata": {
        "id": "cGDrWrrPGTxs"
      },
      "source": [
        "## Changing the instructions ```1#``` and ```1##``` "
      ]
    },
    {
      "cell_type": "code",
      "execution_count": null,
      "metadata": {
        "id": "lvyw8aErKQJW"
      },
      "outputs": [],
      "source": [
        "two_by_two_addone_idea = [ # this is sanity code for 1#, run on encoded R1\n",
        "    ['top', 'cases', 1, 'empty', 'found_a_one', 'found_a_sharp'],\n",
        "    ['empty','1###'],\n",
        "    ['found_a_one', 'cases', 1, 'empty', 'one_one', 'one_sharp'],\n",
        "    ['found_a_sharp', 'cases', 1, 'empty', 'empty', 'sharp_sharp'],\n",
        "    ['one_one', '1#1#'],\n",
        "    ['goto', 'top'],\n",
        "    ['one_sharp', '1#1##'],\n",
        "    ['goto', 'top'],\n",
        "    ['sharp_sharp', '1#1#1##1##'], ## note that the 1#1# adds 11 before the end\n",
        "    ['goto', 'end']\n",
        "]\n",
        "\n",
        "two_by_two_addone = sanity(two_by_two_addone_idea)\n",
        "\n",
        "two_by_two_addsharp_idea = [ # this is sanity code for 1##, again run on encoded R1\n",
        "    ['top', 'cases', 1, 'empty', 'found_a_one', 'found_a_sharp'],\n",
        "    ['empty','1###'],\n",
        "    ['found_a_one', 'cases', 1, 'empty', 'one_one', 'one_sharp'],\n",
        "    ['found_a_sharp', 'cases', 1, 'empty', 'empty', 'sharp_sharp'],\n",
        "    ['one_one', '1#1#'],\n",
        "    ['goto', 'top'],\n",
        "    ['one_sharp', '1#1##'],\n",
        "    ['goto', 'top'],\n",
        "    ['sharp_sharp', '1#1##1##1##'], ## note that the 1#1## adds 11 before the end\n",
        "    ['goto', 'end']\n",
        "]\n",
        "\n",
        "two_by_two_addone = sanity(two_by_two_addone_idea)\n",
        "\n",
        "two_by_two_addsharp = sanity(two_by_two_addsharp_idea)\n",
        "\n"
      ]
    },
    {
      "cell_type": "markdown",
      "metadata": {
        "id": "TIWp8plfG_FF"
      },
      "source": [
        "## Changing the transfer instructions"
      ]
    },
    {
      "cell_type": "code",
      "execution_count": null,
      "metadata": {
        "id": "laJA1U9LMpHd"
      },
      "outputs": [],
      "source": [
        "def numbered(parsed): ## words on a parsed program\n",
        "  n = len(parsed)\n",
        "  x = [['a'+str(i+1),parsed[i]] for i in range(n)]\n",
        "  return(x)\n",
        "\n",
        "def resolve_transfer(program,instruction,index): # for use on an instruction in a numbered, parsed program  \n",
        "  if instruction_type(instruction[1]) == 'forward':\n",
        "     offset = len(instruction[1]) - 3\n",
        "     #return([instruction[0], 'goto', str(index+offset)])\n",
        "     if index+offset -1 == len(program):\n",
        "       return([instruction[0], 'goto', 'end']) # note the special handling here\n",
        "     else:\n",
        "       return([instruction[0], 'goto', program[index+offset-1][0]])\n",
        "  if instruction_type(instruction[1]) == 'backward':\n",
        "     offset = len(instruction[1]) - 4\n",
        "     return([instruction[0], 'goto', program[index-offset-1][0]])   \n",
        "  else:\n",
        "     return(instruction)   \n",
        "\n",
        "def resolve_all_transfers(parsed): #for use on a parsed, numbered program \n",
        "  k = len(parsed)\n",
        "  answer = [resolve_transfer(parsed,parsed[i-1],i) for i in range(1,k+1)]\n",
        "  return(answer)\n",
        "\n",
        "def replace_add_instruction(x):\n",
        "  if x[1] == '1#':\n",
        "    return([x[0],two_by_two_addone])\n",
        "    ## this had been   return(two_by_two_addone])\n",
        "    # but due to the fact that sanity expects \n",
        "    # input like ['1#1##'] rather than ['4', '1#1##'], the numbers are out\n",
        "  elif  x[1] == '1##':   \n",
        "    return([x[0],two_by_two_addsharp]) \n",
        "  else:\n",
        "    return(x)\n",
        "\n",
        "def replace_all_add_instructions(parsed): #for use on a parsed, numbered program \n",
        "  answer = [replace_add_instruction(i) for i in parsed]\n",
        "  return(answer)\n",
        "\n"
      ]
    },
    {
      "cell_type": "markdown",
      "metadata": {
        "id": "mXd5lUKqHG80"
      },
      "source": [
        "## Changing the case instruction ```1#####```, and the overall modification program"
      ]
    },
    {
      "cell_type": "code",
      "execution_count": null,
      "metadata": {
        "id": "QQAoHcTqHUhq"
      },
      "outputs": [],
      "source": [
        "def modify(p): # this modifies a program\n",
        "  # onesharp(onesharp(modify,[p]),[encoded(x)]) = encoded(onesharp(p,[x]))\n",
        "  p_one = parse(p)\n",
        "  p_two = numbered(p_one)\n",
        "  p_three =  resolve_all_transfers(p_two) \n",
        "  p_four =replace_all_add_instructions(p_three)\n",
        "  N = len(p_four)\n",
        "  temp = []\n",
        "  r = p_four\n",
        "  #print(r)\n",
        "  for i in range(N):\n",
        "    #print(r[i])\n",
        "    if r[i][1] == '1#####':\n",
        "       temp = temp +  [[r[i][0], 'cases', 1, str(i)+'empty', str(i)+'found_a_one', str(i)+'found_a_sharp'],\n",
        "       [str(i)+'empty','1###'],\n",
        "       [str(i)+'found_a_one', 'cases', 1, str(i)+'empty', str(i)+'one_one', str(i)+'one_sharp'],\n",
        "       [str(i)+'found_a_sharp', 'cases', 1, str(i)+'empty', str(i)+'empty', str(i)+'sharp_sharp'],\n",
        "       [str(i)+'one_one', 'goto', r[i+2][0]],\n",
        "       [str(i)+'one_sharp', 'goto', r[i+3][0]],\n",
        "       [str(i)+'sharp_sharp','1##1##'], # key point! return end marker to R1\n",
        "       ['goto', r[i+1][0]]]\n",
        "    else:\n",
        "       temp = temp + [r[i]]\n",
        "  #print(temp)\n",
        "  #print(len(temp))   \n",
        "  #print()\n",
        "  #return(temp)\n",
        "  santemp = sanity(temp)\n",
        "  return(santemp)"
      ]
    },
    {
      "cell_type": "markdown",
      "metadata": {
        "id": "2CQJqE3vHkfS"
      },
      "source": [
        "## Testing our work"
      ]
    },
    {
      "cell_type": "code",
      "execution_count": null,
      "metadata": {
        "colab": {
          "base_uri": "https://localhost:8080/"
        },
        "id": "xS_hk4XHB_lv",
        "outputId": "d1740f1f-11d2-4f34-ac18-7bba017c0241"
      },
      "outputs": [],
      "source": [
        "# this checks that everything works correctly\n",
        "\n",
        "mod_diag = modify(diag)\n",
        "#print(mod_diag)\n",
        "w = encode('1#1##')\n",
        "x = onesharp(mod_diag,[w]) \n",
        "y = onesharp(decode, [x])\n",
        "print(y)\n",
        "print(onesharp(diag,['1#1##']))"
      ]
    }
  ],
  "metadata": {
    "colab": {
      "authorship_tag": "ABX9TyNyX28qSBc3xJ6CiC9O+uiM",
      "include_colab_link": true,
      "provenance": [],
      "toc_visible": true
    },
    "kernelspec": {
      "display_name": "Python 3",
      "name": "python3"
    },
    "language_info": {
      "codemirror_mode": {
        "name": "ipython",
        "version": 3
      },
      "file_extension": ".py",
      "mimetype": "text/x-python",
      "name": "python",
      "nbconvert_exporter": "python",
      "pygments_lexer": "ipython3",
      "version": "3.8.2"
    }
  },
  "nbformat": 4,
  "nbformat_minor": 0
}
