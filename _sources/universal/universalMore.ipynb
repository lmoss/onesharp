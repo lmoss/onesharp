{
  "cells": [
    {
      "attachments": {},
      "cell_type": "markdown",
      "metadata": {
        "colab_type": "text",
        "id": "view-in-github"
      },
      "source": [
        "<a href=\"https://colab.research.google.com/github/lmoss/onesharp/blob/main/universal/universalMore.ipynb\" target=\"_parent\"><img src=\"https://colab.research.google.com/assets/colab-badge.svg\" alt=\"Open In Colab\"/></a>"
      ]
    },
    {
      "attachments": {},
      "cell_type": "markdown",
      "metadata": {
        "id": "5ju1mn7Tur1V"
      },
      "source": [
        "# Further results on universal programs\n",
        "\n"
      ]
    },
    {
      "cell_type": "code",
      "execution_count": null,
      "metadata": {
        "cellView": "form",
        "id": "F2axy4PUvHFm"
      },
      "outputs": [],
      "source": [
        "#@title\n",
        "!python -m pip install -U setuptools\n",
        "!python -m pip install -U git+https://github.com/lmoss/onesharp.git@main\n",
        "from onesharp.interpreter.interpreter import *"
      ]
    },
    {
      "attachments": {},
      "cell_type": "markdown",
      "metadata": {
        "id": "E-EX6Y880HB1"
      },
      "source": [
        "# Universal programs of more than one argument\n",
        "\n",
        "Here is a more general result based on what we have seen up to now.\n",
        "\n",
        "```{prf:theorem}\n",
        "For every natural number $n$ there is a program $u_n$ such that for all words $p$, $x_1$, $\\ldots$, $x_n$,\n",
        "\n",
        "$$\n",
        "[\\![ u_n]\\!](p,x_1, \\ldots, x_n)\\simeq [\\![p]\\!](x_1, \\ldots, x_n)\n",
        "$$\n",
        "```\n",
        "\n",
        "What we have seen is an explicit program $u_0$.\n",
        "\n",
        "The proof of the general fact is an exercise using $u_0$ and the $s^m_n$ Theorem."
      ]
    },
    {
      "cell_type": "markdown",
      "metadata": {
        "id": "qJo6UhZO1r14"
      },
      "source": [
        "```{exercise}\n",
        "What happens if we run the universal program $u$ on the self-writing program $\\self$?\n",
        "\n",
        "Incidentally, running $u$ on $\\self$ takes 22,376,608 steps, whereas running $\\self$ on empty registers takes 3,322.\n",
        "```\n"
      ]
    },
    {
      "attachments": {},
      "cell_type": "markdown",
      "metadata": {},
      "source": [
        "```{exercise}\n",
        "Show that the sets $K$ and $K_0$ are computably enumerable, where\n",
        "\n",
        "$$\n",
        "\\begin{array}{lcl}\n",
        "K & = & \\{ p : [\\![ p ]\\!](p)\\!\\downarrow\\}\\\\\n",
        "K_0 & = & \\{ p : [\\![ p ]\\!](\\ )\\!\\downarrow\\}\\\\\n",
        "\\end{array}\n",
        "$$\n",
        "```"
      ]
    },
    {
      "cell_type": "markdown",
      "metadata": {
        "id": "btoU-e9g1rti"
      },
      "source": [
        "```{exercise}\n",
        "Write a program ```trade``` which looks like it trades places with its input in R1. (Of course, a program cannot literally trade places with its input. But here is what we mean: running trade with p in R1 and all other registers empty does the same thing as running p with trade in R1 and all other registers empty.)\n",
        "\n",
        "[Hint: You will need a universal program, and also an application of the Recursion Theorem.]\n",
        "```"
      ]
    },
    {
      "cell_type": "markdown",
      "metadata": {
        "id": "aDG-w5LO1ri3"
      },
      "source": [
        "```{exercise}\n",
        "Write a program ```self1``` which writes itself to R1 but only uses R1 itself (no other registers). \n",
        "This exercise requires a trick, since there is no program like ```diag``` which only uses one register.\n",
        "\n",
        "[Hint: you will need the technique of coding several registers into R1.]\n",
        "```"
      ]
    },
    {
      "attachments": {},
      "cell_type": "markdown",
      "metadata": {},
      "source": [
        "# An extra property of the universal program\n",
        "\n",
        "For use in several places, we need a technical remark about the universal prorgram $u$ which we can arrange.  That is, the remark below is not a consequence of the specification of $u$ that we started with.  It is not even a consequence of the outline of $u$ which we provided.\n",
        "But if you write $u$ the way we suggest, then the property below is either true, or one can arrange for it to hold.\n",
        "\n",
        "```{attention}\n",
        "We may take $u$ to have the following property: when run on a word $x$ in R1, the word in R1 is not empty at any point other than at the very end.\n",
        "```"
      ]
    },
    {
      "attachments": {},
      "cell_type": "markdown",
      "metadata": {},
      "source": [
        "# Only one work register \n",
        "\n",
        "A register machine program in our sense does not come with a number of how many arguments it expects.  One and the same program can be used as a function of zero, one, two, or many arguments.   In other words, the definition of $[\\![p]\\!]^n(x_1, \\ldots, x_n)$ depends on $n$ and of course on $p$.  Given $[\\![p]\\!]^n$ as a function of $n$ arguments, we might ask how many registers are needed to compute it.   We need the first $n$ registers just to read the input.  But are there functions which can be computed with two additional registers that cannot be computed with one?    The work that we have recently seen shows that we can do with one additional register to do all the work.\n",
        " \n",
        "```{prf:proposition}\n",
        ":label: one-more-register-halting\n",
        "\n",
        "For every $n$ and every program $p$, there is a program $q$ such that \n",
        "\n",
        "1.  For all words $x_1$, $\\ldots$, $x_n$,\n",
        "\n",
        "\n",
        "$$\n",
        "[\\![p]\\!] (x_1, \\ldots, x_n) \\simeq [\\![q]\\!] (x_1, \\ldots, x_n) \n",
        "$$\n",
        "\n",
        "2.  $q$ uses R1, $\\ldots$, R$n$, R$(n+1)$, and no other registers\n",
        "\n",
        "3.  $q$ may be obtained computably from $p$ and $n$.\n",
        "\n",
        "```\n",
        "\n",
        "Taking $n = 0$, it shows that when running a register machine program $p$ on no inputs, we may assume that the program uses only one register.   In particular,  we have an undecidability result:\n",
        "\n",
        "```{prf:proposition}\n",
        ":label: one-register-halting\n",
        "\n",
        "Let $A$ be the set of register machine programs which are tidy and which only use R1.\n",
        "\n",
        "Let $K^1$ be $\\{ p \\in A : [\\![p]\\!](\\ )\\!\\!\\downarrow\\}$\n",
        "\n",
        "Then $K_0 \\leq_m K^1$.\n",
        "\n",
        "\n",
        "```\n",
        "\n",
        "We are going to prove that $K_0$ is undecidable in\n",
        "<a href=\"https://lmoss.github.io/onesharp/undecidability/haltingProblem.html\">\n",
        "the section on the halting problem</a>.  It follows from the last result that the halting problem for register machine programs which are tidy and which only use R1 is undecidable.\n",
        "\n",
        "\n",
        "We are going to put the proposition just above to good use when we prove the undecidability of <a href=\"https://lmoss.github.io/onesharp/undecidability/post.html\">Post's correspondence problem</a> and of <a href=\"https://lmoss.github.io/onesharp/undecidability/tiling.html\">tiling</a>."
      ]
    },
    {
      "attachments": {},
      "cell_type": "markdown",
      "metadata": {},
      "source": [
        "Now that we know that in a register machine architecture one can do with one work register, a next natural question would be whether *any* work registers are actually needed.  For example, can one compute the  $f(x) = {\\tt 1}x$ on a register machine using R1 only?  Intuitively, one should not be able to do this.  (Try it and see.)  In fact, it is possible to show this fact. See the paper <a href =\"https://doi.org/10.1016/j.ipl.2008.02.002\">Confusion of Memory</a> for details.\n",
        "\n"
      ]
    }
  ],
  "metadata": {
    "colab": {
      "authorship_tag": "ABX9TyP/f3oLHI9gbYupphFqO3wd",
      "include_colab_link": true,
      "provenance": []
    },
    "kernelspec": {
      "display_name": "Python 3",
      "name": "python3"
    },
    "language_info": {
      "codemirror_mode": {
        "name": "ipython",
        "version": 3
      },
      "file_extension": ".py",
      "mimetype": "text/x-python",
      "name": "python",
      "nbconvert_exporter": "python",
      "pygments_lexer": "ipython3",
      "version": "3.8.2"
    }
  },
  "nbformat": 4,
  "nbformat_minor": 0
}
