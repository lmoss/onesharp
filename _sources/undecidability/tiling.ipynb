{
  "cells": [
    {
      "cell_type": "markdown",
      "metadata": {
        "colab_type": "text",
        "id": "view-in-github"
      },
      "source": [
        "<a href=\"https://colab.research.google.com/github/lmoss/onesharp/blob/main/undecidability/tiling.ipynb\" target=\"_parent\"><img src=\"https://colab.research.google.com/assets/colab-badge.svg\" alt=\"Open In Colab\"/></a>"
      ]
    },
    {
      "attachments": {},
      "cell_type": "markdown",
      "metadata": {
        "id": "Y0wVF8LcSmsz"
      },
      "source": [
        "# Tiling\n",
        "\n",
        "A *tile* is a square with *colors* on the four sides.\n",
        " The colors can be anything, of course.\n",
        "A *finite, pointed tile set*\n",
        "$(\\mathcal{T},t_0)$\n",
        "is a finite set $\\mathcal{T}$ of tiles with a fixed *distinguished tile*\n",
        "$t_0\\in\\mathcal{T}$.\n",
        "When we talk about tile sets in this section, we always will mean a \n",
        "finite,\n",
        "pointed tile set.\n",
        "\n",
        "\n",
        "Given a finite pointed tile set $(\\mathcal{T},t_0)$, the problem is to determine whether there is a proper tiling of the first quadrant of the plane using $\\mathcal{T}$.  We must use $t_0$ on the corner\n",
        "and matching edges must have the same color.  This is what we mean by a *proper* tiling of the first quadrant.\n",
        " \n",
        "\n",
        "\n",
        "\n",
        "\n",
        "\n",
        "```{admonition} Notation\n",
        ":class: tip\n",
        "\n",
        "Let $\\mathbb{T}$ be the set of (codes of) all finite pointed tile sets.\n",
        "Let $\\Tile$ be the set of (codes of) tile sets $\\mathcal{T}$  with the property that\n",
        "the\n",
        "the first quadrant can be properly tiled with $\\mathcal{T}$.\n",
        "```\n",
        "  \n",
        "\n",
        "```{admonition} Notation\n",
        ":class: tip\n",
        "\n",
        "Let $u$ a universal function with the following properties:\n",
        "\n",
        "(a) $u$ only reads from and writes to R1.\n",
        "\n",
        "(b) If $x$ is the ```1```-encoding of $y$, then \n",
        "\n",
        "$$\n",
        "[\\![y]\\!]( )\\!\\downarrow  \\quad \\mbox{ iff } \\quad \n",
        "[\\![[\\![write]\\!](x) + u]\\!]( )\\!\\downarrow.\n",
        "$$\n",
        "\n",
        "We discussed requirement (b) earlier.\n",
        "```\n",
        "\n",
        "\n",
        "```{admonition} Notation\n",
        ":class: tip\n",
        "\n",
        "Let $A$ be the set of all words $u + 1-encoding(y)$, where $y$ ranges over all words.\n",
        "\n",
        "Let $B\\subseteq A$ be the subset corresponding to the $y$ with the additional property that $[\\![y]\\!]( )\\!\\downarrow $.\n",
        "```\n",
        "\n",
        "```{prf:proposition}\n",
        "\n",
        "$A$ is decidable and $B$ is undecidable.\n",
        "\n",
        "```\n",
        "\n",
        "\n",
        "\n",
        "\n",
        "\n",
        "\n",
        " \n",
        "\n",
        "\n",
        "```{prf:theorem}\n",
        "\n",
        " $\\overline{K}\\leq_m  \\Tile$.\n",
        "\n",
        "That is, there is a total computable function\n",
        "$\\mathcal{T}:  A\\to  \\mathbb{T}$\n",
        "such that \n",
        "\n",
        "$$\n",
        "p\\in \\overline{B} \\quadiff   \\mathcal{T}(p) \\in \\Tile.\n",
        "$$\n",
        "\n",
        "As a result, $\\Tile$ is undecidable. \n",
        "````\n",
        "\n"
      ]
    },
    {
      "attachments": {},
      "cell_type": "markdown",
      "metadata": {
        "id": "yCmuRMnc3f-W"
      },
      "source": [
        "```{admonition} Our goal\n",
        ":class: attention\n",
        "\n",
        "A computable and total function $\\mathcal{T}:  A\\to  \\mathbb{T}$\n",
        "such that $p\\notin B$   $\\Leftrightarrow$ $\\mathcal{T}(p)$ \n",
        "*can* tile the quadrant.\n",
        "\n"
      ]
    },
    {
      "attachments": {},
      "cell_type": "markdown",
      "metadata": {
        "id": "m2gfZvq-4C5A"
      },
      "source": [
        "# The definition of $\\mathcal{T}(p)$\n",
        "\n",
        "This section gives the details on the function $\\mathcal{T}$.  Before we present it, we need a comment on the set of color which we are going to use.  In our [earlier work on tiling](content:firstTiles),\n",
        "we saw tiles whose sides had actual colors, such as the eight tiles below\n",
        "<img src=\"https://github.com/lmoss/onesharp/blob/main/issues/pictures/pictures-01.png?raw=1\" width=\"100%\" height=\"100%\">\n",
        "Here, we are going to make a change.  For a given program $p$, we are going to need $8 + (n+1)= n + 9$ colors.  Since our eyes can only reliably distinguish a (small) finite number of colors, we are going to use numbers as some of our colors.  (Recall that the \"colors\" can be anything.)  \n",
        "\n",
        "```{warning}\n",
        "Further, we have an issue with the numeral $1$ and the ```1#``` symbol ```1```.  In order to avoid a potential confusion, we \n",
        "use two fonts.  The symbol $1$ is used for the line number in a program, and the symbol ```1``` is used for the symbol which we put in the registers of our machine.\n",
        "```\n",
        "\n",
        "We are going to use line numbers in $p$ as colors, \n",
        "and so if $p$ has $n$ lines, we want $1$, $\\ldots$, $n$\n",
        "as colors.  We also want $n+1$, since if $p$ halts we want\n",
        "to think of the control as on \"line $n+1$\".  We also are going to \n",
        "use as symbols the $\\one\\hash$ symbols $\\one$ and $\\hash$,\n",
        "the card symbols $\\heartsuit$ and $\\diamondsuit$\n",
        "(we use these just as a way to add a color to this page),\n",
        "an oblong rectangle, the copyright symbol (a circle with the letter C inside),\n",
        "the word \"start\", and a blank color (where the side of a square is just left blank).\n",
        "\n",
        "\n",
        "\n",
        "We need only worry about defining $\\mathcal{T}(p)$ for $p\\in A$.\n",
        "Fix such a program $p$.\n",
        "\n",
        "We start with 18 tiles that are part of $\\mathcal{T}(p)$ for *all* $p\\in A$.\n"
      ]
    },
    {
      "cell_type": "markdown",
      "metadata": {
        "id": "1cxBGr1Pbd7V"
      },
      "source": [
        "<img src=\"https://github.com/lmoss/onesharp/blob/main/undecidability/tilingPictures/t1-01.png?raw=1\" width=\"100%\" height=\"100%\">\n",
        "\n"
      ]
    },
    {
      "attachments": {},
      "cell_type": "markdown",
      "metadata": {
        "id": "Gosu9qEBMcaa"
      },
      "source": [
        "The rest of $\\mathcal{T}(p)$ depends on the program $p$.  To begin, when  instruction $i$ of $p$ is ```1#```, we include the tile\n",
        "<img src=\"https://github.com/lmoss/onesharp/blob/main/undecidability/tilingPictures/t2-02.png?raw=1\" width=\"100%\" height=\"100%\">\n"
      ]
    },
    {
      "attachments": {},
      "cell_type": "markdown",
      "metadata": {
        "id": "E-XFWzwBMy41"
      },
      "source": [
        "And when  instruction $i$ of $p$ is ```1##```,  we include the tile\n",
        "<img src=\"https://github.com/lmoss/onesharp/blob/main/undecidability/tilingPictures/t3-03.png?raw=1\" width=\"100%\" height=\"100%\">\n"
      ]
    },
    {
      "attachments": {},
      "cell_type": "markdown",
      "metadata": {
        "id": "V1rUiDk3Myut"
      },
      "source": [
        "When  instruction $i$ is  ```1```${}^m$```###``` we include\n",
        "<img src=\"https://github.com/lmoss/onesharp/blob/main/undecidability/tilingPictures/t4-04.png?raw=1\" width=\"100%\" height=\"100%\">\n"
      ]
    },
    {
      "attachments": {},
      "cell_type": "markdown",
      "metadata": {
        "id": "2Zh5WXqZMykz"
      },
      "source": [
        "When instruction $i$ is   ```1```${}^m$```###`` we include\n",
        "<img src=\"https://github.com/lmoss/onesharp/blob/main/undecidability/tilingPictures/t5-05.png?raw=1\" width=\"100%\" height=\"100%\">\n"
      ]
    },
    {
      "attachments": {},
      "cell_type": "markdown",
      "metadata": {
        "id": "lbZjdAnwMybw"
      },
      "source": [
        "Finally, when instruction $i$ is the cases instruction ```1#####```,\n",
        "we include the three tiles\n",
        "<img src=\"https://github.com/lmoss/onesharp/blob/main/undecidability/tilingPictures/t6-06.png?raw=1\" width=\"100%\" height=\"100%\">\n"
      ]
    },
    {
      "attachments": {},
      "cell_type": "markdown",
      "metadata": {
        "id": "mHEvTLY8pq3I"
      },
      "source": [
        "Notice that $\\mathcal{T}(p)$ is a finite set of tiles.\n",
        "We also want $\\mathcal{T}(p)$ to be pointed, and we take the green tile above.\n",
        "\n",
        "This completes the definition of the function $\\mathcal{T}$.  It's clear that $\\mathcal{T}$ is total and computable.  The easy part of our result is showing that if $p\\in A$ halts, then there is a propert tiling of the quadrant with $\\mathcal{T}(p)$."
      ]
    },
    {
      "attachments": {},
      "cell_type": "markdown",
      "metadata": {
        "id": "yyARxVAoMyS3"
      },
      "source": [
        "```{admonition} Example\n",
        ":class: tip\n",
        "\n",
        "When $p$ is the program  ```1#1####```, , \n",
        "$\\TT(p)$ would have the 18 tiles that come for free, and also the two tiles below:\n",
        "<img src=\"https://github.com/lmoss/onesharp/blob/main/undecidability/tilingPictures/t22-22.png?raw=1\" width=\"100%\" height=\"100%\">\n",
        "In these two tiles, the symbol $1$ is the first line number of $p$,\n",
        "not the $\\one\\hash$ symbol $\\one$.\n",
        "\n",
        "Here is a finite part of a tiling of the first quadrant with\n",
        "$\\mathcal{T}$(```1#1####```):\n",
        "\n",
        "\n",
        "<img src=\"https://github.com/lmoss/onesharp/blob/main/undecidability/tilingPictures/t7-07.png?raw=1\" width=\"100%\" height=\"100%\">\n",
        "```"
      ]
    },
    {
      "attachments": {},
      "cell_type": "markdown",
      "metadata": {
        "id": "AlEn_Vayp7kf"
      },
      "source": [
        "The rest of our work is devoted to showing that if there is a tiling of the quadrant with $\\mathcal{T}(p)$, then $\\phifn_p(\\ )\\dar$."
      ]
    },
    {
      "cell_type": "markdown",
      "metadata": {
        "id": "1V_N0uw4G_jj"
      },
      "source": [
        "# Some observations\n",
        "\n",
        "\n",
        "The only tile with a blank on the left is the all blank tile.\n",
        "Thus, if one of the tiles in a given row has \n",
        "a blank on the right,\n",
        "then forever to its right, all the tiles are blank.\n",
        " \n",
        "An easy induction shows the following:\n",
        "in a tiling of the first quadrant \n",
        "that starts with the starting tile,\n",
        "every row has to have all blanks after some finite point.\n",
        "\n",
        "```{tip}\n",
        "It would be good to prove this.\n",
        "```\n",
        "\n",
        "A tile has one of the  line number symbols\n",
        "(the number 1, 2, $\\ldots$, n, n+1)\n",
        "on the top\n",
        "if and only if that tile is in the first column.\n",
        "We call these *instruction tiles*.  The instruction tiles\n",
        "are the only ones with the oblong rectangle.\n",
        "\n",
        "If $p$ has $n$ instructions,\n",
        "then there is no tile with $n+1$ on the bottom.\n",
        "Thus no complete tiling of the first quadrant \n",
        "can have a tile where  $n+1$ appears on the top.\n",
        "\n",
        "\n",
        "\n",
        "\n"
      ]
    },
    {
      "attachments": {},
      "cell_type": "markdown",
      "metadata": {
        "id": "NqHRxJEbHUR5"
      },
      "source": [
        "```{admonition} Restatement of our goal\n",
        ":class: warning\n",
        "\n",
        "\n",
        "$p$ runs forever (on all empty registers)\n",
        "if and only if \n",
        "$\\mathcal{T}(p)$ can tile the first quadrant.\n",
        " \n",
        "$p$ halts (on all empty registers)\n",
        "if and only if \n",
        "$\\mathcal{T}(p)$ cannot tile the first quadrant.\n"
      ]
    },
    {
      "cell_type": "markdown",
      "metadata": {
        "id": "fWsIaUh4Hs__"
      },
      "source": [
        "```{prf:definition}\n",
        "\n",
        "The *word encoded in row $n$*\n",
        "is the word composed of all symbols on the \n",
        "*tops* of the tiles in row $n$\n",
        "*after the instruction tile* (the first tile in row $n$).\n",
        "```"
      ]
    },
    {
      "cell_type": "markdown",
      "metadata": {
        "id": "WtvjclmCH3y-"
      },
      "source": [
        "```{admonition} Example\n",
        "\n",
        "<img src=\"https://github.com/lmoss/onesharp/blob/main/undecidability/tilingPictures/t21-21.png?raw=1\" width=\"100%\" height=\"100%\">\n",
        "This shows part a tiling, together with the words encoded in the first four rows (on the right).\n",
        "\n",
        "```\n"
      ]
    },
    {
      "attachments": {},
      "cell_type": "markdown",
      "metadata": {
        "id": "MfgNDgCVMyB6"
      },
      "source": [
        "\n",
        "\n",
        "Let $p$ be a program.\n",
        "Suppose that row 67 of a tiling using $\\mathcal{T}(p)$ is\n",
        "<img src=\"https://github.com/lmoss/onesharp/blob/main/undecidability/tilingPictures/t9-09.png?raw=1\" width=\"100%\" height=\"100%\">\n",
        "and that instruction 131 of $p$ is ```1```${}^8$```###```.\n",
        "In view of the fact that 131 + 8 = 139,\n",
        "the instruction tile in the first column of row $68$ is \n",
        "<img src=\"https://github.com/lmoss/onesharp/blob/main/undecidability/tilingPictures/t8-08.png?raw=1\" width=\"100%\" height=\"100%\">\n",
        "\n"
      ]
    },
    {
      "attachments": {},
      "cell_type": "markdown",
      "metadata": {
        "id": "RvtikrHyMx6g"
      },
      "source": [
        "Thus, row 68 must be the top row below:\n",
        "<img src=\"https://github.com/lmoss/onesharp/blob/main/undecidability/tilingPictures/t10-10.png?raw=1\" width=\"100%\" height=\"100%\">\n",
        "\n",
        "\n",
        "```{admonition} The point\n",
        ":class: tip\n",
        "\n",
        "The word encoded in row 68  is ```1##```.\n",
        "This is exactly the same as\n",
        "the word encoded in row 67.\n",
        "\n",
        "Don't read the symbol as \"copyright\" but as \"copy right.\"\n",
        "```\n",
        "\n",
        "---"
      ]
    },
    {
      "attachments": {},
      "cell_type": "markdown",
      "metadata": {
        "id": "afuU9DU7Mxz6"
      },
      "source": [
        "\n",
        "A similar remark applies for instructions in $p$ which are back-transfers ```1####```.\n",
        "\n",
        "\n",
        "---\n",
        "\n",
        "\n",
        "We continue with facts along the same lines for the instructions ```1#``` and ```1##```.\n",
        "Since the lines of argument are similar, we only discuss the second of these.\n",
        "Suppose that row 4743 of some tiling of the quadrant starts out \n",
        "<img src=\"https://github.com/lmoss/onesharp/blob/main/undecidability/tilingPictures/t11-11.png?raw=1\" width=\"100%\" height=\"100%\">\n"
      ]
    },
    {
      "attachments": {},
      "cell_type": "markdown",
      "metadata": {
        "id": "Y9FB6fOUMxs1"
      },
      "source": [
        "and instruction 24 of the program is ```1##```. Then the first tile in row 4744 must be \n",
        "<img src=\"https://github.com/lmoss/onesharp/blob/main/undecidability/tilingPictures/t12-12.png?raw=1\" width=\"100%\" height=\"100%\">\n",
        "What are the next tiles in row 4744?\n",
        "<img src=\"https://github.com/lmoss/onesharp/blob/main/undecidability/tilingPictures/t13-13.png?raw=1\" width=\"100%\" height=\"100%\">\n"
      ]
    },
    {
      "attachments": {},
      "cell_type": "markdown",
      "metadata": {
        "id": "GToCpRRrMxcY"
      },
      "source": [
        "```{dropdown} Click for the answer.\n",
        "<img src=\"https://github.com/lmoss/onesharp/blob/main/undecidability/tilingPictures/t14-14.png?raw=1\" width=\"100%\" height=\"100%\">\n",
        "```\n",
        "The word encoded in row 4744, ```1##1#```, is exactly the word encoded \n",
        "in row 4743, with ```#``` added at the end.\n",
        "    \n",
        "\n",
        "This shows that we have implemented the ```1##``` instructions correctly.\n",
        "\n",
        "---"
      ]
    },
    {
      "attachments": {},
      "cell_type": "markdown",
      "metadata": {
        "id": "EozQdfM8MxT7"
      },
      "source": [
        "Finally, let's get one last parallel fact, this time for the case instruction. Suppose again that row 4743 of some tiling of the quadrant starts out \n",
        "<img src=\"https://github.com/lmoss/onesharp/blob/main/undecidability/tilingPictures/t11-11.png?raw=1\" width=\"100%\" height=\"100%\">\n",
        "\n",
        "But now uppose that line 24 of the program is the case instruction ```1#####```\n",
        "Then the first tile in row 25 can be any of the three tiles\n",
        "<img src=\"https://github.com/lmoss/onesharp/blob/main/undecidability/tilingPictures/t15-15.png?raw=1\" width=\"100%\" height=\"100%\">"
      ]
    },
    {
      "cell_type": "markdown",
      "metadata": {
        "id": "Y0_c6KLVMxNz"
      },
      "source": [
        "So the situation is\n",
        "<img src=\"https://github.com/lmoss/onesharp/blob/main/undecidability/tilingPictures/t16-16.png?raw=1\" width=\"100%\" height=\"100%\">"
      ]
    },
    {
      "attachments": {},
      "cell_type": "markdown",
      "metadata": {
        "id": "0QDocZZWMxKK"
      },
      "source": [
        "\n",
        "We cannot have the symbol above the blank to be as below\n",
        "<img src=\"https://github.com/lmoss/onesharp/blob/main/undecidability/tilingPictures/t17-17.png?raw=1\" width=\"100%\" height=\"100%\">\n",
        "\n",
        "This is because the symbols in the middle of row 4744 have to be \n",
        "```1```, ```#```, or ``blank.'' So there would be no way to match the heart symbol at the end.\n",
        "\n",
        "\n",
        "We must have all blanks on the far right, and then next to that a tiles with two ```1```s:"
      ]
    },
    {
      "cell_type": "markdown",
      "metadata": {
        "id": "n9qLqFO-MxEw"
      },
      "source": [
        "\n",
        "We now know the last tiles before the blank tiles in row 4744:\n",
        "<img src=\"https://github.com/lmoss/onesharp/blob/main/undecidability/tilingPictures/t18-18.png?raw=1\" width=\"100%\" height=\"100%\">"
      ]
    },
    {
      "attachments": {},
      "cell_type": "markdown",
      "metadata": {
        "id": "7ISEj1QhMw7m"
      },
      "source": [
        "\n",
        "Indeed, the whole row has to be\n",
        "<img src=\"https://github.com/lmoss/onesharp/blob/main/undecidability/tilingPictures/t19-19.png?raw=1\" width=\"100%\" height=\"100%\">\n",
        "\n",
        "The word encoded in row 4744  is ```##```.\n",
        "\n",
        "This is exactly\n",
        "the word encoded in row 4743, with  the first symbol (a ```1```) deleted.\n",
        "\n",
        "And the instruction to go to is 26 = 24 + 2.\n",
        "So we have implemented ```1#####``` correctly, \n",
        "at least in the case when register $1$ starts with a ```1```.\n"
      ]
    },
    {
      "attachments": {},
      "cell_type": "markdown",
      "metadata": {
        "id": "c2pAX-3m5X1U"
      },
      "source": [
        "# Formal statement\n",
        "\n",
        "\n",
        "```{prf:proposition}\n",
        "Fix $p\\in A$, and consider $\\mathcal{T}(p)$ \n",
        "and also the run of $p$ with nothing in any register.\n",
        "\n",
        "For all $s$, exactly one of the following two things happen.\n",
        "\n",
        "(a) The program halts in $\\leq s$ steps, \n",
        "and there is no tiling of the first $s$ rows of the plane\n",
        "(starting with $s = 0$).\n",
        "\n",
        " (b)\n",
        "The program runs for at least $n$ steps,\n",
        "and there is a unique tiling of the first $n$ rows.\n",
        "And in this case, \n",
        "for $k \\leq n$ \n",
        "the top edge of the $k$th row has\n",
        "  the line number to be executed in step $k+1$\n",
        "  (or $n+1$ if the program halts at step $k$)\n",
        " then the contents of the register,   symbol-by-symbol,\n",
        "and then all blanks.\n",
        "```\n",
        "\n"
      ]
    },
    {
      "attachments": {},
      "cell_type": "markdown",
      "metadata": {
        "id": "zZHZlDh-LwxG"
      },
      "source": [
        "# The reverse inequality\n",
        "\n",
        "We conclude our work on tiling by showing that \n",
        "$\\Tile \\leq_m \\overline{K}_{empty}$.\n",
        "Given a pointed tile set $\\mathcal{T}$, \n",
        "make a program  $f(\\mathcal{T})$ such that\n",
        "running $f(\\mathcal{T})$ on all empty registers\n",
        " using the $\\mu$-operator\n",
        "to look for some number $n$\n",
        "such that  $\\mathcal{T}$ *cannot* tile the $n\\times n$ square containing the corner.\n",
        " \n",
        "(If there is no such $n$, the program goes on looking forever.)\n",
        " \n",
        "---\n",
        "\n",
        "\n",
        "If $\\mathcal{T}$ has a tiling, the program $f(\\mathcal{T})$ never halts.\n",
        "So $f(\\mathcal{T})\\in \\overline{B}$.\n",
        "\n",
        "\n",
        "\n",
        "And (crucially) if $\\mathcal{T}$ has no tiling of the whole quadrant,\n",
        "then by an argument using the Koenig Infinity Lemma,\n",
        "there is some $n$ such that \n",
        "$\\mathcal{T}$ cannot tile the $n\\times n$ square containing the corner.\n",
        "\n",
        "\n",
        "In this case $\\semantics{f(\\mathcal{T})}(\\ )\\downarrow$.\n",
        "\n",
        "\n"
      ]
    },
    {
      "attachments": {},
      "cell_type": "markdown",
      "metadata": {
        "id": "Iy3yeHYmz_x_"
      },
      "source": [
        "```{exercise}\n",
        "In our work on tiling, we took a program $p$ with $n$ lines and defined $\\mathcal{T}(p)$ with $n+9$ colors.  Is it possible to change the mapping $\\mathcal{T}$ to only use a fixed finite set of colors?\n",
        "```"
      ]
    },
    {
      "attachments": {},
      "cell_type": "markdown",
      "metadata": {
        "id": "Pz0F2xYtazie"
      },
      "source": [
        "```{exercise}\n",
        "\n",
        "In this problem we consider a variant of the tiling problem where the goal is not to tile the entire first quadrant but rather to tile a finite rectangle in a noteworthy way.\n",
        "\n",
        "A *four-pointed* tile set is a tile set $\\mathcal{T}$ and four elements of it called $NE$, $NW$, $SE$, and $SW$.  A finite rectangle is *tiled by $\\mathcal{T}$* if there is a tiling in the usual sense with the property that its northwest corner is tiled by $NW$, its northeast corner is tiled by $NE$, etc.\n",
        "\n",
        "Show that the problem of determining whether a four-pointed tile set has a rectangle which is tiled by it is undecidable.\n",
        "```"
      ]
    },
    {
      "cell_type": "markdown",
      "metadata": {
        "id": "rKllc3rwcUIQ"
      },
      "source": [
        "```{admonition} Credits\n",
        ":class: warning\n",
        "\n",
        "The original source on tiling is Hao Wang's paper from 1961 entitled \"Proving theorems by pattern recognition—II\", Bell System Technical Journal, 40 (1): 1–41.\n",
        "\n",
        "The tiling problem in this paper, and in most of the work in the area, is for tiling the whole plane.   What we did is to consider the first quadrant and pointed tile sets.  So our undecidability result is much easier than the more well-known tiling problem.   That problem was shown to be undecidable by Raphael Robinson in his paper \"Undecidability and Nonperiodicity for Tilings of the Plane,\" Inventiones Mathematicae, 12(3), 1971 pp. 177–209.   There are newer and simpler proofs of this result as well.\n",
        "\n",
        "```"
      ]
    }
  ],
  "metadata": {
    "colab": {
      "authorship_tag": "ABX9TyMCq00sGQ+xWAADl+N6Ahcw",
      "include_colab_link": true,
      "provenance": []
    },
    "kernelspec": {
      "display_name": "Python 3",
      "name": "python3"
    },
    "language_info": {
      "name": "python"
    }
  },
  "nbformat": 4,
  "nbformat_minor": 0
}
