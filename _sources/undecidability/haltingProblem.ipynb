{
  "cells": [
    {
      "cell_type": "markdown",
      "metadata": {
        "colab_type": "text",
        "id": "view-in-github"
      },
      "source": [
        "<a href=\"https://colab.research.google.com/github/lmoss/onesharp/blob/main/undecidability/haltingProblem.ipynb\" target=\"_parent\"><img src=\"https://colab.research.google.com/assets/colab-badge.svg\" alt=\"Open In Colab\"/></a>"
      ]
    },
    {
      "attachments": {},
      "cell_type": "markdown",
      "metadata": {
        "id": "c9L0YAf_naB8"
      },
      "source": [
        "# The halting problem\n",
        "\n",
        "```{attention} Note for instructors\n",
        "\n",
        "There are dependencies to the sections of this chapter.   The section on the Busy Beaver problem is not needed for anything that follows, and the first section is needed for all others that follow.  Following the first section, one could read the section on tiling and follow it up with the section on satisfiability in first-order logic that uses tiling.   Alternatively, one could read the work on Post's Correspndence Problem, and then follow it with a different proof of the undecidability of first-order logic satisfiability.\n",
        "\n",
        "```\n",
        "\n",
        "We come to one of the most famous and most basic results in computability theory, the *undecidability of the halting problem*, first proved by Turing in 1936.\n",
        "\n",
        "```{prf:theorem}\n",
        ":label: Turings-theorem\n",
        "\n",
        "There is no program $p$ such that \n",
        "for all words $x$ and $y$,\n",
        "\n",
        "$$\\begin{array}{lcl}\n",
        "[\\![p]\\!](x,y) & = & \\left\\{\n",
        "\\begin{array}{ll}\n",
        "\\one & \\mbox{if $[\\![x]\\!](y)\\dar$}\\\\\n",
        "\\hash &  \\mbox{if $[\\![x]\\!](y)\\uparrow$}\n",
        "\\end{array}\n",
        "\\right.\n",
        "\\end{array}\n",
        "$$\n",
        "```\n",
        "\n",
        "```{prf:proof}\n",
        "\n",
        "Suppose toward a contradiction that we had such a program $p$.\n",
        "Modifying $p$, we get a program $q$ so that for all $a$, \n",
        "\n",
        "$$\n",
        "\\begin{array}{lcl}\n",
        "[\\![q]\\!](a) & = & \\left\\{\n",
        "\\begin{array}{ll}\n",
        "\\uparrow & \\mbox{if $[\\![a]\\!](a)\\dar$}\\\\\n",
        "\\hash &  \\mbox{if $[\\![a]\\!](a)\\uparrow$}\n",
        "\\end{array}\n",
        "\\right.\n",
        "\\end{array}\n",
        "$$\n",
        "\n",
        "In words, running $q$ on $a$ diverges iff running $a$ on itself converges, and vice-versa.   And this holds for all $a$.  So in particular it holds for $q$.   And this leads to a contradiction, as we shall see formally just below.\n",
        "\n",
        "\n",
        "Here's how this one would actually get $q$ from $p$.\n",
        "Assume that $p$ preserves its input.\n",
        "Let $p$ have $k$ instructions.\n",
        "Let\n",
        "\n",
        "$$\n",
        "q \\quadeq \\copyprog_{1,2,3} + p +\n",
        "\\one^3\\hash^5\n",
        " + \\one^2 \\hash^3  \n",
        " + \\one^{k + 2} \\hash^4 \n",
        "$$\n",
        "\n",
        "Then $q$ has the property that we want.\n",
        "But now, take $a$ to be $q$.\n",
        "Then \n",
        "\n",
        "$$\n",
        "[\\![q]\\!](q)\\dar   \\quadiff [\\![q]\\!](q)\\uparrow.\n",
        "$$\n",
        "\n",
        "Contradiction!\n",
        "```"
      ]
    },
    {
      "cell_type": "markdown",
      "metadata": {
        "id": "x6-IIvg1vvzu"
      },
      "source": [
        "```{tip}\n",
        "Look up [this setting of the proof](http://www.lel.ed.ac.uk/~gpullum/loopsnoop.html) by Geoffrey Pullum in the spirit of Dr. Seuss.\n",
        "```"
      ]
    },
    {
      "attachments": {},
      "cell_type": "markdown",
      "metadata": {},
      "source": [
        "```{prf:corollary}\n",
        "The set $\\overline{K}$ is not computably enumerable.\n",
        "```\n",
        "\n",
        "```{prf:proof}\n",
        "Suppose towards a contradiction that $r$ is a program whose domain is $\\overline{K}$.   Then just as with $q$ in the proof above, we \n",
        "again have a contradiction: $[\\![r]\\!](r)\\!\\!\\downarrow$ iff  $[\\![r]\\!](r)\\!\\!\\uparrow$.  \n",
        "```"
      ]
    },
    {
      "attachments": {},
      "cell_type": "markdown",
      "metadata": {},
      "source": [
        "```{tip}\n",
        "If you have read the \n",
        "[section on the Recursion Theorem](https://lmoss.github.io/onesharp/recThm/recursion_theorem.html), you might enjoy a slightly different proof of {prf:ref}`Turings-theorem`.\n",
        "\n",
        "<img src=\"https://github.com/lmoss/onesharp/blob/main/ourboros1.jpg?raw=1\" width=\"200\" height=\"160\">\n",
        "\n",
        "Assume towards a contradiction that there is a program $p$ as above.  Then we easily modify it to get a program $q$ so that\n",
        "\n",
        "$$\n",
        "\\begin{array}{lcl}\n",
        "[\\![q]\\!](x,y) & = & \\left\\{\n",
        "\\begin{array}{ll}\n",
        "[\\![x]\\!](y) + 1 & \\mbox{if $[\\![x]\\!](y)\\dar$}\\\\\n",
        "{\\tt 1} &  \\mbox{if $[\\![x]\\!](y)\\uparrow$}\n",
        "\\end{array}\n",
        "\\right.\n",
        "\\end{array}\n",
        "$$\n",
        "\n",
        "By {prf:ref}`recursion_theorem`, there is some $x^*$ so that for all $y$,  \n",
        "\n",
        "$$\n",
        "\\begin{array}{lcl}\n",
        "[\\![x^*]\\!](y) & = & \\left\\{\n",
        "\\begin{array}{ll}\n",
        "[\\![x^*]\\!](y) + 1 & \\mbox{if $[\\![x^*]\\!](y)\\!\\!\\downarrow$}\\\\\n",
        "{\\tt 1} &  \\mbox{if $[\\![x^*]\\!](y)\\!\\!\\uparrow$}\n",
        "\\end{array}\n",
        "\\right.\n",
        "\\end{array}\n",
        "$$\n",
        "\n",
        "\n",
        "\n",
        "Now we cannot have $[\\![x^*]\\!](y)\\!\\!\\uparrow$, since if we did, we would also have $[\\![x^*]\\!](y)\\!\\!\\downarrow$ by the second line above.  So, $[\\![x^*]\\!](y)\\!\\!\\downarrow$.  But then by the first line, \n",
        "$[\\![x^*]\\!](y)\\simeq [\\![x^*]\\!](y) + 1$, and this is impossible.\n",
        "\n",
        "```"
      ]
    },
    {
      "attachments": {},
      "cell_type": "markdown",
      "metadata": {
        "id": "fmMmWiZGnY-U"
      },
      "source": [
        "# Corollaries\n",
        "\n",
        "There are a number of corollaries to the basic undecidability result.\n",
        "Let us begin by recalling the sets of that we mentioned earlier:\n",
        "\n",
        "$$\n",
        "\\begin{array}{lcl}\n",
        "\\mbox{Prog} & = & \\mbox{the set of programs} \\\\\n",
        "\\mbox{Tidy} & = & \\mbox{the set of tidy programs} \\\\\n",
        "K_0 & = & \\mbox{the programs which halt when run on all empty registers}\\\\\n",
        "K & = & \\mbox{the programs which halt when run on themselves} \\\\\n",
        "\\textit{Fin} & = & \\mbox{the programs $p$ such that the domain of $[\\![p]\\!]$ is finite} \\\\   \n",
        "\\textit{Inf} & = & \\mbox{the programs $p$ such that the domain of $[\\![p]\\!]$ is infinite} \\\\      \n",
        "\\textit{Tot} & = & \\mbox{the program  $p$ such that $[\\![p]\\!]$ is a total function} \\\\ \n",
        "\\textit{Equiv} & = & \\mbox{the set of pairs $(p,q)$ of programs which are strongly equivalent}\\\\                                                          \n",
        "\\end{array}\n",
        "$$\n",
        "\n",
        "Of these the first two are computable, easily.   But all of the others are not.   These are all corollaries of {prf:ref}`Turings-theorem`, sometimes with additional points provided by the $s^m_n$-Theorem.\n",
        "\n",
        "```{prf:corollary}\n",
        "$K$, the set of programs which halt when run on themselves, is undecidable.\n",
        "```\n",
        "\n",
        "```{prf:corollary}\n",
        "$K_0$, the set of programs which halt when run on all empty registers, is undecidable.\n",
        "```\n",
        "\n"
      ]
    },
    {
      "attachments": {},
      "cell_type": "markdown",
      "metadata": {},
      "source": [
        "```{exercise}\n",
        "\n",
        "For all the sets $A$ in our reference list, \n",
        "Find a subset of $A$ which is infinite and computable.\n",
        "\n",
        "Then do the same for the complement set $\\overline{A}$.\n",
        "```"
      ]
    },
    {
      "attachments": {},
      "cell_type": "markdown",
      "metadata": {},
      "source": [
        "```{exercise}\n",
        "Find a bijection $f: N\\to N$ which is not computable.\n",
        "```"
      ]
    },
    {
      "cell_type": "markdown",
      "metadata": {
        "id": "fZm4iOYSnZKq"
      },
      "source": [
        "# Improvement for one-register programs\n",
        "\n",
        "There is also an improved version of the basic result.\n",
        "\n",
        "Let $A$ be the set of programs which are tidy and which only use one register.\n",
        "\n",
        "```{prf:corollary}\n",
        "The halting problem is undecidable even for programs in $A$ when run on all emtpy registers.\n",
        "```"
      ]
    },
    {
      "attachments": {},
      "cell_type": "markdown",
      "metadata": {
        "id": "rScrbdmgnZSn"
      },
      "source": [
        "```{exercise}\n",
        "The language $\\one\\hash$ has infinitely many instructions: the instructions are the words $\\one^k \\hash^{\\ell}$, where $k\\in \\N$ and $1\\leq \\ell\\leq 5$.\n",
        "\n",
        "For each finite set $F$ of $\\one\\hash$ instructions, we can consider $H_F$, the set of programs $p$ built using the instructions of $F$ (and no others) such that $\\phifn_p(\\ )\\dar$.\n",
        "\n",
        "For example, if $F = \\set{\\one\\hash, \\one\\hash\\hash}$, then $H_F$ is decidable.  This is because every program built from these two instructions halts.\n",
        "\n",
        "Find a finite set $F$ such that $H_F$ is undecidable.\n",
        "```"
      ]
    },
    {
      "cell_type": "markdown",
      "metadata": {
        "id": "RVwndnnOnZXT"
      },
      "source": []
    },
    {
      "attachments": {},
      "cell_type": "markdown",
      "metadata": {},
      "source": [
        "# Rice's Theorem\n",
        "\n",
        "```{prf:theorem}\n",
        ":label: Rices-theorem\n",
        "\n",
        "Let $S$ be any set of programs, and assume that $S$ is\n",
        "closed under *equivalence of words as one-place functions*: if $x\\in S$, and if \n",
        "$[\\![x]\\!]$ and $[\\![y]\\!]$ are the same partial function, \n",
        "then $y\\in S$.\n",
        "\n",
        "If $S$ is decidable, then $S$ is either the empty set or the set of all programs.\n",
        "\n",
        "\n",
        "```\n",
        "\n",
        "```{prf:proof}\n",
        "If not, we can fix programs $p\\in S$ and $q\\notin S$, and we also can fix a program $s$ which computes the characteristic function of $S$.\n",
        "\n",
        "Now let \n",
        "\n",
        "$$\n",
        "\\begin{array}{lcl}\n",
        "f(x) & = & \\left\\{\n",
        "\\begin{array}{ll} [\\![q]\\!](x) &\\mbox{if  $ [\\![s]\\!](x)\\simeq 1$}\n",
        "\\\\\n",
        " [\\![p]\\!](x) &\\mbox{if  $ [\\![s]\\!](x)\\simeq \\#$}\n",
        "\\end{array}\n",
        "\\right.\n",
        "\\end{array}\n",
        "$$\n",
        "\n",
        "Let $x^*$ be such that $[\\![x^*]\\!] = [\\![f(x^*)]\\!]$.  If \n",
        "$x^*\\in S$, then \n",
        "$ [\\![s]\\!](x^*)\\simeq 1$.    But by definition of $f$, $[\\![f(x^*)]\\!](x) = [\\![q]\\!](x)$ for all $x$.  This tells us that \n",
        "$[\\![f(x^*)]\\!]$ and $[\\![q]\\!]$ are the same partial function.\n",
        "So since $q\\notin S$, we have $f(x^*)\\notin S$.  This contradicts $S$ being closed under equivalence.   So we have a contradiction\n",
        "in case  $x^*\\in S$.  But we have a similar contradiction in case $x^*\\notin S$.\n",
        "\n",
        "```"
      ]
    },
    {
      "attachments": {},
      "cell_type": "markdown",
      "metadata": {},
      "source": [
        "```{prf:corollary} \n",
        "\n",
        "The following sets are undecidable: $Fin$, $Inf$, and $Tot$.\n",
        "```\n",
        "\n"
      ]
    },
    {
      "attachments": {},
      "cell_type": "markdown",
      "metadata": {},
      "source": [
        "```{exercise}\n",
        "Show that $Inf \\leq_m Tot$ and $Tot \\leq_m Inf$.\n",
        "```"
      ]
    },
    {
      "attachments": {},
      "cell_type": "markdown",
      "metadata": {},
      "source": [
        "```{exercise}\n",
        "Show that the following set $S$ of programs is undecidable: \n",
        "$S$ is the set of programs $p$ which, when run on all empty registers at some point write ```1``` into R2.\n",
        "```\n"
      ]
    },
    {
      "attachments": {},
      "cell_type": "markdown",
      "metadata": {},
      "source": [
        "```{exercise} \n",
        "What about the set of programs which at some point execute their *second* instruction?  Is that set decidable?\n",
        "```"
      ]
    }
  ],
  "metadata": {
    "colab": {
      "authorship_tag": "ABX9TyPyE8RwWJTN+ZPbefblTQfB",
      "include_colab_link": true,
      "provenance": []
    },
    "kernelspec": {
      "display_name": "Python 3",
      "name": "python3"
    },
    "language_info": {
      "name": "python"
    }
  },
  "nbformat": 4,
  "nbformat_minor": 0
}
