{
  "cells": [
    {
      "cell_type": "markdown",
      "metadata": {
        "colab_type": "text",
        "id": "view-in-github"
      },
      "source": [
        "<a href=\"https://colab.research.google.com/github/lmoss/onesharp/blob/main/undecidability/church.ipynb\" target=\"_parent\"><img src=\"https://colab.research.google.com/assets/colab-badge.svg\" alt=\"Open In Colab\"/></a>"
      ]
    },
    {
      "cell_type": "code",
      "execution_count": null,
      "metadata": {
        "id": "DzEkgDr2B8uf"
      },
      "outputs": [],
      "source": []
    },
    {
      "cell_type": "markdown",
      "metadata": {
        "id": "PBzMh1t3B9mB"
      },
      "source": [
        "# Logic \n",
        "\n",
        "This section is going to contain a proof of Church's Theorem that satisfyability of first-order logic is undecidable.   This will be a corollary of the undecidability of tiling.  It also will be a place to connect to the Incompleteness Theorem (though this might deserve a section on its own) and to philosophical matters."
      ]
    },
    {
      "attachments": {},
      "cell_type": "markdown",
      "metadata": {
        "id": "40IPCKd3CMP0"
      },
      "source": [
        "## The grid\n",
        "\n",
        "Until further notice, our signature $\\Sigma$ contains a constant $0$, and two unary function symbols $n$ and $e$, standing for *north* and *east*.   We have in mind a specific $\\Sigma$-structure which we call $\\mathcal{G}$ for *grid*.  The points of the grid are pairs of natural numbers, so $G = N\\times N$.   The symbols $n$ and $e$ are interpreted as follows:\n",
        "\n",
        "$$\n",
        "\\begin{array}{lcl}\n",
        "0 & = & (0,0)\\\\\n",
        "n(i,j) & = & (i, j+1)\\\\\n",
        "e(i,j) & = & (i+1, j)\\\\\n",
        "\\end{array}\n",
        "$$\n",
        "\n",
        "This is our intended model.   "
      ]
    },
    {
      "attachments": {},
      "cell_type": "markdown",
      "metadata": {},
      "source": [
        "### Axioms for the grid\n",
        "\n",
        "We next write down a finite set of sentences true in the grid.   In English, here they arey:\n",
        "\n",
        "1. $n$ and $e$ are one-to-one.\n",
        "\n",
        "2. $n$ and $e$ commute.\n",
        "\n",
        "3. \n",
        "\n"
      ]
    }
  ],
  "metadata": {
    "colab": {
      "authorship_tag": "ABX9TyPdrqCNjKhj/hfx1Nrdfoph",
      "include_colab_link": true,
      "provenance": []
    },
    "kernelspec": {
      "display_name": "Python 3",
      "name": "python3"
    },
    "language_info": {
      "name": "python"
    }
  },
  "nbformat": 4,
  "nbformat_minor": 0
}
