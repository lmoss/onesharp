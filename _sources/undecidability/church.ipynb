{
  "cells": [
    {
      "cell_type": "markdown",
      "metadata": {
        "colab_type": "text",
        "id": "view-in-github"
      },
      "source": [
        "<a href=\"https://colab.research.google.com/github/lmoss/onesharp/blob/main/undecidability/church.ipynb\" target=\"_parent\"><img src=\"https://colab.research.google.com/assets/colab-badge.svg\" alt=\"Open In Colab\"/></a>"
      ]
    },
    {
      "cell_type": "code",
      "execution_count": null,
      "metadata": {
        "id": "DzEkgDr2B8uf"
      },
      "outputs": [],
      "source": []
    },
    {
      "attachments": {},
      "cell_type": "markdown",
      "metadata": {
        "id": "PBzMh1t3B9mB"
      },
      "source": [
        "# Logic \n",
        "\n",
        "This section is going to contain a proof of Church's Theorem that satisfiability of first-order logic is undecidable.   This will be a corollary of the undecidability of tiling."
      ]
    },
    {
      "attachments": {},
      "cell_type": "markdown",
      "metadata": {},
      "source": [
        "```{prf:theorem}\n",
        ":label: Churchs-theorem\n",
        "\n",
        "The set of sentences of first-order logic which are satisfiable is undecidable.\n",
        "```\n",
        "\n",
        "Before we start in on the proof we want to outline the overall strategy.   We build on the undecidability of tiling.  So you will want to recall the (finite pointed) tile sets and also what it means for a tile set to tile the quadrant.  We want to construct a computable function taking tile sets to logic sentences with the property that $\\mathcal{T}$ can tile the quadrant iff $\\varphi(\\mathcal(T))$ has a model.  If $\\mathcal{T}$ can tile the quadrant, then the model of $\\varphi(\\mathcal(T))$ which we have in mind *is* the quadrant with the tiling on it.   But as with all reductions, we need to be sure that if there is *any* model of $\\varphi(\\mathcal(T))$, then there is a tiling of the quadrant with $\\mathcal{T}$.   This goes via considering the *grid* $N\\times N$ as a structure which interprets a simple signature.  This is what comes next.   The discussion sets aside the tiling at first and just consider the grid.   After we prove an important lemma about this model, we return to tile sets and tilings of the quadrant."
      ]
    },
    {
      "attachments": {},
      "cell_type": "markdown",
      "metadata": {
        "id": "40IPCKd3CMP0"
      },
      "source": [
        "## The grid\n",
        "\n",
        "Until further notice, our signature $\\Sigma$ contains a constant $0$, and two unary function symbols $n$ and $e$, standing for *north* and *east*.   We have in mind a specific $\\Sigma$-structure which we call $\\mathcal{G}$ for *grid*.  The points of the grid are pairs of natural numbers, so $G = N\\times N$.   The symbols $n$ and $e$ are interpreted as follows:\n",
        "\n",
        "$$\n",
        "\\begin{array}{lcl}\n",
        "0 & = & (0,0)\\\\\n",
        "n(i,j) & = & (i, j+1)\\\\\n",
        "e(i,j) & = & (i+1, j)\\\\\n",
        "\\end{array}\n",
        "$$\n",
        "\n",
        "This is our intended model.   "
      ]
    },
    {
      "attachments": {},
      "cell_type": "markdown",
      "metadata": {},
      "source": [
        "### Axioms for the grid\n",
        "\n",
        "We next write down a few sentences true in the grid.   In English, here they arey:\n",
        "\n",
        "1. $n$ and $e$ are one-to-one.\n",
        "\n",
        "2. $n$ and $e$ commute.\n",
        "\n",
        "3. $0$ is not in the image of $n$, and $0$ is not in the image of $e$.\n",
        "\n",
        "\n",
        "These can be expressed in the first-order language of our signature.\n",
        "\n",
        "We take $\\phi_1 \\wedge \\phi_2 \\wedge \\phi_3$ and call it $\\phi_{grid}$\n",
        "\n",
        "\n"
      ]
    },
    {
      "attachments": {},
      "cell_type": "markdown",
      "metadata": {},
      "source": [
        "```{prf:lemma}\n",
        ":label: lemma-in-Churchs-theorem\n",
        "\n",
        "\n",
        "$\\mathcal{G}\\models \\phi_{grid}$.   If $\\mathcal{M}$ is any model of $\\phi_{grid}$, then the reachable submodel of $\\mathcal{M}$ is isomorphic to the grid.\n",
        "```\n",
        "\n",
        "```{prf:proof}  It is clear that $\\mathcal{G}\\models \\phi_{grid}$.   We turn to the second assertion.\n",
        "\n",
        "Let $\\mathcal{M}$ satisfy $\\phi_{grid}$.\n",
        "Observe that the every point in $M$ of the form $n^i e^j(0)$ belongs to the reachable submodel\n",
        "$\\mathcal{M}_{reach}$.  Going the other way, we check by induction on a term $t$ without variables that $t$ is of this form for some $i$ and $j$and (critically) that $i$ and $j$ are unique. For this, note that $0 = n^0 e^0(0)$.  If $t$ is the (interpretation of the) term $n^i e^j(0)$, then $n(t)$ is  $n^{i+1} e^j(0)$, and $e(t)$ is  $n^{i} e^{j+1}(0)$.   For the uniqueness part, suppose that $i$, $j$, $k$, and $\\ell$ are natural numbers and \n",
        "\n",
        "$$\n",
        "n^{i} e^{j}(0) =  n^{k} e^{\\ell}(0)\n",
        "$$\n",
        "We show that $i =k$ and $j = \\ell$.\n",
        "Since $n$ and $e$ are one-to-one, either $i$ or $k$ is $0$, and similarly for $j$ and $\\ell$.\n",
        "There are a few cases at this point.   If both $i$ and $k$ are $0$, and also both $j$ and $\\ell$ are $0$,\n",
        "then obviously $i =k$ and $j = \\ell$.  Without loss of generality, we may assume that $i > 0$.   If $i > k$, then $n^{i -k} e^j(0)  = e^{\\ell}(0)$.\n",
        "This means that $e^{\\ell}(0)$ is of the form $n(u)$ for some term $u$.  So we contradict the fact that $0$ is not in the image of $n$.\n",
        "Similarly, we get a contradiction when $i< k$.   We thus have $i = k$.  We have $n^{i} e^{j}(0) =  n^{i} e^{\\ell}(0)$.\n",
        "Since $n$ is one-to-one, we have $e^{j}(0) =   e^{\\ell}(0)$.  Exactly as above we get contradictions when $j > \\ell$ and \n",
        "when $j < \\ell$.   So we have the case $j = \\ell$.   But then we have the desired conclusion: $i =k$ and $j = \\ell$.\n",
        "\n",
        "Let $f: G \\to M$ be\n",
        "\n",
        "$$\n",
        "f(i,j) = n^i e^j(0).\n",
        "$$\n",
        "\n",
        "From what we said above, $f$ is a one-to-one function from the grid onto the reachable submodel $\\mathcal{M}_{reach}$ of $\\mathcal{M}$.\n",
        "It is easy to check that $f$ preserves the interpretations of the function symbols, and thus it is an isomorphism\n",
        "$f: \\mathcal{G} \\cong \\mathcal{M}_{reach}$.\n",
        "\n",
        "\n",
        "```"
      ]
    },
    {
      "attachments": {},
      "cell_type": "markdown",
      "metadata": {},
      "source": [
        "## Mapping tile sets to logic sentences\n",
        "\n",
        "The heart of the proof of {prf:ref}`Churchs-theorem` is to define a computable function $\\varphi$ from tile sets to logic sentences in such a way as to have the following condition:\n",
        "\n",
        "$$\n",
        "\\mbox{For all tile sets $\\mathcal{T}$, $\\varphi(\\mathcal{T})$ has only three variables.}\n",
        "$$\n",
        "\n",
        "Here is the definition of $\\varphi(\\mathcal{T})$.   In words, it should be the conjunction of sentences which say\n",
        "\n",
        "1.  $\\phi_{grid}$\n",
        "\n",
        "2. Every square in the grid gets exactly one tile.\n",
        "\n",
        "3. For all squares $x$, the tiles on $x$ and $n(x)$ match appropriately.\n",
        "\n",
        "4. For all squares $x$, the tiles on $x$ and $e(x)$ match appropriately. \n",
        "\n",
        "5. The tile on $0$ is $t_0$.\n",
        "\n"
      ]
    },
    {
      "attachments": {},
      "cell_type": "markdown",
      "metadata": {},
      "source": [
        "## Proof of the theorem"
      ]
    },
    {
      "attachments": {},
      "cell_type": "markdown",
      "metadata": {},
      "source": [
        "We have defined $\\varphi$ just above.   We must check that  $\\mathcal{T}$ can tile the quadrant iff $\\varphi(\\mathcal(T))$ has a model.  One direction is fairly direct: if  $\\mathcal{T}$ can tile the quadrant, then $\\varphi(\\mathcal(T))$ has a model.  The model has as universe $N\\times N$, the interpretations of $0$, $n$, and $e$ are as in the grid, and the interpretation of the symbol $T_i$ is the set of pairs $(i,j)$ such that tile $i$ goes on the point $(i,j)\\in N\\times N$.    In the other direction, suppose that we have any model $\\mathcal{M}$ of $\\varphi(\\mathcal(T))$.   Consider the submodel generated by the constant $0$.\n",
        "By {prf:ref}`lemma-in-Churchs-theorem`, this model $\\mathcal{M}_{reach}$ has a universe which is isomorphic to $N\\times N$. So we may replace the points in  $\\mathcal{M}_{reach}$ by pairs of numbers.  In other words, we can expand $N\\times N$ as a model of the grid signature to also interpret the tiling relations.  Then it is easy to read off from this model an actual tiling of the quadrant: tile the square $(i,j)$ with tile $t_a$ iff $T_a(i,j)$ in  $\\mathcal{M}_{reach}$.  The point is that the definition of $\\varphi(\\mathcal(T))$ implies that we have a proper tileing of the quadrant."
      ]
    },
    {
      "cell_type": "markdown",
      "metadata": {},
      "source": [
        "```{prf:lemma}\n",
        "\n",
        "```"
      ]
    },
    {
      "attachments": {},
      "cell_type": "markdown",
      "metadata": {},
      "source": [
        "## Two improvements\n",
        "\n",
        "```{exercise} Our proof of {prf:ref}`Churchs-theorem` used a function $\\varphi$ from tile sets to first-order logic sentences with the property that we want:\n",
        "$\\mathcal{T}$  can tile the quadrant iff $\\varphi(\\mathcal(T))$ has a model.   This function has the property\n",
        "that the number of unary relation symbols in $\\varphi(\\mathcal(T))$ is the same as the number of tiles in $\\mathcal{T}$.  \n",
        "Improve our proof of {prf:ref}`Churchs-theorem` by changing $\\varphi$ so as to use a fixed finite signature $\\Sigma$.  \n",
        "\n",
        "[Hint: Take $\\Sigma$ to have the symbols $0$, $n$, and $e$ from before, and also a new relation symbol $Tile(x)$,\n",
        "and a new unary function symbol $on$.   Instead of coding the grid, code the grid together with a separate finite set of tiles.\n",
        "The purpose of the function $on$ is to endode that a given tile is on a given square of the grid.]\n",
        "```"
      ]
    },
    {
      "attachments": {},
      "cell_type": "markdown",
      "metadata": {},
      "source": [
        "```{exercise} Here is another strengthening of {prf:ref}`Churchs-theorem`.  There is a fixed signature $\\Sigma$ consisting of relation symbols of arity $1$ or $2$ and a function $\\varphi$ from tile sets to first-order logic sentences in the language of $\\Sigma$ such that for all tile sets $\\mathcal{T}$:\n",
        "\n",
        "1.  $\\varphi(\\mathcal{T})$ has only three variables.\n",
        "\n",
        "2. $\\mathcal{T}$ can tile the quadrant iff $\\varphi(\\mathcal(T))$ has a model. \n",
        "\n",
        "```"
      ]
    }
  ],
  "metadata": {
    "colab": {
      "authorship_tag": "ABX9TyPdrqCNjKhj/hfx1Nrdfoph",
      "include_colab_link": true,
      "provenance": []
    },
    "kernelspec": {
      "display_name": "Python 3",
      "name": "python3"
    },
    "language_info": {
      "name": "python"
    }
  },
  "nbformat": 4,
  "nbformat_minor": 0
}
