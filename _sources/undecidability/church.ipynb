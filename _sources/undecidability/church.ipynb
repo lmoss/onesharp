{
  "cells": [
    {
      "cell_type": "markdown",
      "metadata": {
        "colab_type": "text",
        "id": "view-in-github"
      },
      "source": [
        "<a href=\"https://colab.research.google.com/github/lmoss/onesharp/blob/main/undecidability/church.ipynb\" target=\"_parent\"><img src=\"https://colab.research.google.com/assets/colab-badge.svg\" alt=\"Open In Colab\"/></a>"
      ]
    },
    {
      "cell_type": "code",
      "execution_count": null,
      "metadata": {
        "id": "DzEkgDr2B8uf"
      },
      "outputs": [],
      "source": []
    },
    {
      "cell_type": "markdown",
      "metadata": {
        "id": "PBzMh1t3B9mB"
      },
      "source": [
        "# Logic \n",
        "\n",
        "This section is going to contain a proof of Church's Theorem that satisfyability of first-order logic is undecidable.   This will be a corollary of the undecidability of tiling.  It also will be a place to connect to the Incompleteness Theorem (though this might deserve a section on its own) and to philosophical matters."
      ]
    },
    {
      "attachments": {},
      "cell_type": "markdown",
      "metadata": {
        "id": "40IPCKd3CMP0"
      },
      "source": [
        "## The grid\n",
        "\n",
        "Until further notice, our signature $\\Sigma$ contains a constant $0$, and two unary function symbols $n$ and $e$, standing for *north* and *east*.   We have in mind a specific $\\Sigma$-structure which we call $\\mathcal{G}$ for *grid*.  The points of the grid are pairs of natural numbers, so $G = N\\times N$.   The symbols $n$ and $e$ are interpreted as follows:\n",
        "\n",
        "$$\n",
        "\\begin{array}{lcl}\n",
        "0 & = & (0,0)\\\\\n",
        "n(i,j) & = & (i, j+1)\\\\\n",
        "e(i,j) & = & (i+1, j)\\\\\n",
        "\\end{array}\n",
        "$$\n",
        "\n",
        "This is our intended model.   "
      ]
    },
    {
      "attachments": {},
      "cell_type": "markdown",
      "metadata": {},
      "source": [
        "### Axioms for the grid\n",
        "\n",
        "We next write down a few sentences true in the grid.   In English, here they arey:\n",
        "\n",
        "1. $n$ and $e$ are one-to-one.\n",
        "\n",
        "2. $n$ and $e$ commute.\n",
        "\n",
        "3. $0$ is not in the image of $n$, and $0$ is not in the image of $e$.\n",
        "\n",
        "\n",
        "These can be expressed in the first-order language of our signature.\n",
        "\n",
        "We take $\\phi_1 \\wedge \\phi_2 \\wedge \\phi_3$ and call it $\\phi_{grid}$\n",
        "\n",
        "\n"
      ]
    },
    {
      "cell_type": "markdown",
      "metadata": {},
      "source": [
        "```{prf:lemma}\n",
        "$\\mathcal{G}\\models \\phi_{grid}$.   If $\\mathcal{M}$ is any model of $\\phi_{grid}$, then the reachable submodel of $\\mathcal{M}$ is isomorphic to the grid.\n",
        "```\n",
        "\n",
        "```{prf:proof}  It is clear that $\\mathcal{G}\\models \\phi_{grid}$.   We turn to the second assertion.\n",
        "\n",
        "Let $\\mathcal{M}$ satisfy $\\phi_{grid}$.\n",
        "Observe that the every point in $M$ of the form $n^i e^j(0)$ belongs to the reachable submodel\n",
        "$\\mathcal{M}_{reach}$.  Going the other way, we check by induction on a term $t$ without variables that $t$ is of this form for some $i$ and $j$and (critically) that $i$ and $j$ are unique. For this, note that $0 = n^0 e^0(0)$.  If $t$ is the (interpretation of the) term $n^i e^j(0)$, then $n(t)$ is  $n^{i+1} e^j(0)$, and $e(t)$ is  $n^{i} e^{j+1}(0)$.   For the uniqueness part, suppose that $i$, $j$, $k$, and $\\ell$ are natural numbers and \n",
        "\n",
        "$$\n",
        "n^{i} e^{j}(0) =  n^{k} e^{\\ell}(0)\n",
        "$$\n",
        "We show that $i =k$ and $j = \\ell$.\n",
        "Since $n$ and $e$ are one-to-one, either $i$ or $k$ is $0$, and similarly for $j$ and $\\ell$.\n",
        "There are a few cases at this point.   If both $i$ and $k$ are $0$, and also both $j$ and $\\ell$ are $0$,\n",
        "then obviously $i =k$ and $j = \\ell$.  Without loss of generality, we may assume that $i > 0$.   If $i > k$, then $n^{i -k} e^j(0)  = e^{\\ell}(0)$.\n",
        "This means that $e^{\\ell}(0)$ is of the form $n(u)$ for some term $u$.  So we contradict the fact that $0$ is not in the image of $n$.\n",
        "Similarly, we get a contradiction when $i< k$.   We thus have $i = k$.  We have $n^{i} e^{j}(0) =  n^{i} e^{\\ell}(0)$.\n",
        "Since $n$ is one-to-one, we have $e^{j}(0) =   e^{\\ell}(0)$.  Exactly as above we get contradictions when $j > \\ell$ and \n",
        "when $j < \\ell$.   So we have the case $j = \\ell$.   But then we have the desired conclusion: $i =k$ and $j = \\ell$.\n",
        "\n",
        "Let $f: G \\to M$ be\n",
        "\n",
        "$$\n",
        "f(i,j) = n^i e^j(0).\n",
        "$$\n",
        "\n",
        "From what we said above, $f$ is a one-to-one function from the grid onto the reachable submodel $\\mathcal{M}_{reach}$ of $\\mathcal{M}$.\n",
        "It is easy to check that $f$ preserves the interpretations of the function symbols, and thus it is an isomorphism\n",
        "$f: \\mathcal{G} \\cong \\mathcal{M}_{reach}$.\n",
        "\n",
        "\n",
        "```"
      ]
    },
    {
      "cell_type": "markdown",
      "metadata": {},
      "source": [
        "```{prf:lemma}\n",
        "\n",
        "```"
      ]
    }
  ],
  "metadata": {
    "colab": {
      "authorship_tag": "ABX9TyPdrqCNjKhj/hfx1Nrdfoph",
      "include_colab_link": true,
      "provenance": []
    },
    "kernelspec": {
      "display_name": "Python 3",
      "name": "python3"
    },
    "language_info": {
      "name": "python"
    }
  },
  "nbformat": 4,
  "nbformat_minor": 0
}
