{
  "cells": [
    {
      "attachments": {},
      "cell_type": "markdown",
      "metadata": {
        "colab_type": "text",
        "id": "view-in-github"
      },
      "source": [
        "<a href=\"https://colab.research.google.com/github/lmoss/onesharp/blob/main/cesets/computablyEnumerable.ipynb\" target=\"_parent\"><img src=\"https://colab.research.google.com/assets/colab-badge.svg\" alt=\"Open In Colab\"/></a>"
      ]
    },
    {
      "attachments": {},
      "cell_type": "markdown",
      "metadata": {
        "id": "mjtzV10cAMR5"
      },
      "source": [
        "## Definition and equivalent formulations\n",
        "\n",
        "\n",
        "\n",
        "\n"
      ]
    },
    {
      "attachments": {},
      "cell_type": "markdown",
      "metadata": {},
      "source": [
        "```{exercise}\n",
        "Let $f: N\\to N$ be the following partial function.  \n",
        "\n",
        "$$\n",
        "f(e) = \\left\\{  \n",
        "    \\begin{array}{ll}  \\mbox{the least $x\\in W_e$} & \\mbox{if $W_e \\neq \\emptyset$} \\\\\n",
        "    \\uparrow & \\mbox{if $W_e  = \\emptyset$}\\\\\n",
        "    \\end{array}\n",
        "    \\right.\n",
        "$$   \n",
        "\n",
        "Prove that $f$ is not computable.\n",
        "```"
      ]
    },
    {
      "attachments": {},
      "cell_type": "markdown",
      "metadata": {},
      "source": [
        "```{exercise}\n",
        "To contrast with the previous exercise, find a computable partial function $g:N\\to N$ so that \n",
        "\n",
        "1.  $g(e)\\!\\!\\downarrow$ iff $W_e \\neq \\emptyset$.\n",
        "\n",
        "2. If $g(e)\\simeq x$, then $x\\in W_e$.\n",
        "\n",
        "```"
      ]
    },
    {
      "attachments": {},
      "cell_type": "markdown",
      "metadata": {},
      "source": [
        "## Relation to K"
      ]
    },
    {
      "attachments": {},
      "cell_type": "markdown",
      "metadata": {},
      "source": [
        "This is a placeholder for missing text."
      ]
    },
    {
      "attachments": {},
      "cell_type": "markdown",
      "metadata": {},
      "source": [
        "## $\\Sigma_1$ form"
      ]
    },
    {
      "attachments": {},
      "cell_type": "markdown",
      "metadata": {},
      "source": [
        "This is a placeholder for missing text."
      ]
    },
    {
      "attachments": {},
      "cell_type": "markdown",
      "metadata": {},
      "source": [
        "```{exercise}\n",
        "If you know about first-order logic, you should believe that the relation $\\{ \\phi : \\proves \\phi\\}$ is decidable.\n",
        "\n",
        "1. If you also know about an axiomatic set theory such as *Zermelo-Fraenkel set theory (ZFC)*, check that the set of theorems of ZFC is a computably enumerable set.\n",
        "\n",
        "2. Is the set of theorems of ZFC decidable?  Why or why not?\n",
        "```"
      ]
    },
    {
      "attachments": {},
      "cell_type": "markdown",
      "metadata": {},
      "source": [
        "## Closure properties of the c.e. sets"
      ]
    },
    {
      "attachments": {},
      "cell_type": "markdown",
      "metadata": {},
      "source": [
        "This is a placeholder for missing text."
      ]
    },
    {
      "attachments": {},
      "cell_type": "markdown",
      "metadata": {},
      "source": [
        "## Simple sets"
      ]
    },
    {
      "attachments": {},
      "cell_type": "markdown",
      "metadata": {},
      "source": [
        "This is a placeholder for missing text."
      ]
    }
  ],
  "metadata": {
    "colab": {
      "authorship_tag": "ABX9TyOUskvjlC52E7pXPt0B/94t",
      "include_colab_link": true,
      "provenance": []
    },
    "kernelspec": {
      "display_name": "Python 3",
      "name": "python3"
    },
    "language_info": {
      "codemirror_mode": {
        "name": "ipython",
        "version": 3
      },
      "file_extension": ".py",
      "mimetype": "text/x-python",
      "name": "python",
      "nbconvert_exporter": "python",
      "pygments_lexer": "ipython3",
      "version": "3.8.2"
    }
  },
  "nbformat": 4,
  "nbformat_minor": 0
}
