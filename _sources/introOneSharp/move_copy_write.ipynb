{
  "cells": [
    {
      "cell_type": "markdown",
      "metadata": {
        "colab_type": "text",
        "id": "view-in-github"
      },
      "source": [
        "<a href=\"https://colab.research.google.com/github/lmoss/onesharp/blob/main/introOneSharp/move_copy_write.ipynb\" target=\"_parent\"><img src=\"https://colab.research.google.com/assets/colab-badge.svg\" alt=\"Open In Colab\"/></a>"
      ]
    },
    {
      "attachments": {},
      "cell_type": "markdown",
      "metadata": {
        "id": "8C7LMBIh5Hmr"
      },
      "source": [
        "# Basic programs\n",
        "\n",
        "We have seen the syntax of ```1#``` instructions \n",
        "[in a previous notebook](instructions.ipynb), along with the semantics\n",
        "We turn to the simplest programs in the language."
      ]
    },
    {
      "cell_type": "code",
      "execution_count": null,
      "metadata": {
        "id": "ZUEj49fx7gDq"
      },
      "outputs": [],
      "source": [
        "!python -m pip install -U setuptools\n",
        "!python -m pip install -U git+https://github.com/lmoss/onesharp.git@main\n",
        "from onesharp.interpreter.interpreter import *"
      ]
    },
    {
      "cell_type": "markdown",
      "metadata": {
        "id": "Q1NfvunUI9ui"
      },
      "source": [
        "## move_2_1\n",
        "\n",
        "The first is a program called ```move_2_1```.   It is designed to move the contents of R2 onto the end of R1, emptying out R2 in the process.  Written out in full it is \n",
        "\n",
        "```11#####111111###111###1##1111####1#111111####```\n",
        "\n",
        "We have defined ```move_2_1``` to be this program, and so you can run it as shown below.\n",
        "\n",
        "You can try the program by entering the following line.   In it\n"
      ]
    },
    {
      "cell_type": "code",
      "execution_count": 2,
      "metadata": {
        "colab": {
          "base_uri": "https://localhost:8080/",
          "height": 35
        },
        "id": "JnrcdeAl_Kmm",
        "outputId": "3f228e38-08a4-4272-c30d-0d1a03639eab"
      },
      "outputs": [
        {
          "data": {
            "text/plain": [
              "'11#####1##11111'"
            ]
          },
          "execution_count": 2,
          "metadata": {},
          "output_type": "execute_result"
        }
      ],
      "source": [
        "onesharp(move_2_1, ['11#','####1##11111'])"
      ]
    },
    {
      "cell_type": "markdown",
      "metadata": {
        "id": "ZEn2WieG_RJY"
      },
      "source": [
        "The words in the brackets are the contents of registers 1 and 2 when we start.  Again, our program moved the contents of R2 onto the end of R1, emptying R2.  You should want to change the opening contents of R1 and R2 in the cell above before going on."
      ]
    },
    {
      "attachments": {},
      "cell_type": "markdown",
      "metadata": {
        "id": "0YHJpDX7_pDf"
      },
      "source": [
        "(content:parsing)=\n",
        "If you have an interpreter handy, you can parse this program and also get glosses.\n"
      ]
    },
    {
      "cell_type": "code",
      "execution_count": 3,
      "metadata": {
        "colab": {
          "base_uri": "https://localhost:8080/"
        },
        "id": "vc_brPCuG_qG",
        "outputId": "a8c37f98-ab93-451e-ae5b-29dc38ef68db"
      },
      "outputs": [
        {
          "data": {
            "text/plain": [
              "['11#####', '111111###', '111###', '1##', '1111####', '1#', '111111####']"
            ]
          },
          "execution_count": 3,
          "metadata": {},
          "output_type": "execute_result"
        }
      ],
      "source": [
        "parse(move_2_1)"
      ]
    },
    {
      "cell_type": "code",
      "execution_count": null,
      "metadata": {},
      "outputs": [],
      "source": [
        "parse_explain(move_2_1)"
      ]
    },
    {
      "attachments": {},
      "cell_type": "markdown",
      "metadata": {},
      "source": [
        "Here is this program $\\moveprog_{2,1}$ expressed as a table."
      ]
    },
    {
      "attachments": {},
      "cell_type": "markdown",
      "metadata": {},
      "source": [
        "<TABLE cellspacing=\"0\" cellpadding=\"5\">\n",
        "        <TR BGCOLOR=\"#FFFFCC\">\n",
        "                <TD>11#####</TD> <TD></TD><TD style=\"text-aligh\" right;>cases on R2</TD></TR>\n",
        "        <TR BGCOLOR=\"#FFFFCC\">\n",
        "                <TD>111111###</TD> <TD></TD> <TD style=\"text-aligh\" right;\">R2 is empty; go forward 6 (we're done)\n",
        "                  </TD>  </tr>\n",
        "        <TR BGCOLOR=\"#FFFFCC\"><TD>11111###</TD> <TD></TD><TD>go forward 3 to instruction 6 (the brown section)</TD>  \n",
        "        </TR>\n",
        "         <TR  BGCOLOR=\"#B0E0E6\">\n",
        "                <TD>1##</TD>  <TD></TD><TD>first symbol is #: add # to R1</TD></tr>\n",
        "         <TR  BGCOLOR=\"#B0E0E6\">\n",
        "                <TD>1111####</TD> <TD></TD> <TD>go backward 4 to instruction 1 (the top)</TD></tr>   \n",
        "         <TR  BGCOLOR=\"#D4B48C\">\n",
        "                <TD>1#</TD> <TD></TD> <TD>add 1 to R1</TD></tr>\n",
        "         <TR  BGCOLOR=\"#D4B48C\">\n",
        "                <TD>111111####</TD> <TD></TD> <TD style=\"text-aligh\" right;>go backward 6 to instruction 1 (the top) </TD>  \n",
        "        </TR>\n",
        "</TABLE>        "
      ]
    },
    {
      "attachments": {},
      "cell_type": "markdown",
      "metadata": {
        "id": "QTzah7w_HPuf"
      },
      "source": [
        "\n",
        "Here is an explanation of what is going on.\n",
        "\n",
        "If R2 is empty, it goes to line 8.  Since the program itself only has 7 lines, this means that we have transferred *out* of the program.  We say that the program *halts* at that point.  (Please note that *halt* is an important technical term which we explain [in a different notebook](haltDef.ipynb).)\n",
        "\n",
        "\n",
        "If the first symbol of R2 is a ```1```, then the second instruction after the case instruction at the top transfers us down to line 6. This part of the program would then add a ```1``` to R1 and return to the very beginning of the program.\n",
        "\n",
        "If the first symbol of R2 is a ```#```, then we delete that # and go three steps forward, to line 4.  This part of the program would then add a ```#``` to R1 and return to the very beginning of the program.\n",
        "\n",
        "The point is that by going around the loop repeatedly, we transfer the contents of R2 symbol-by-symbol to R1.\n",
        "Similarly, whenever m and n are different numbers, we can build a program ```move_m_n```. This program would write the contents of Rm onto the end of Rn, emptying Rm in the process.\n",
        "\n",
        "\n",
        "\n"
      ]
    },
    {
      "attachments": {},
      "cell_type": "markdown",
      "metadata": {
        "id": "zwwhQ5vhHSTG"
      },
      "source": [
        "## Modifying ```move_2_1```\n",
        "\n",
        "Suppose we want to modify ```move_2_1``` to get ```move_3_4```, a program which would copy the contents of R3 onto the end of R4 (and empty R4) in the process. Here is a way to do this which shows off some command-line tools that are part of the working environment that comes with the Python tools.."
      ]
    },
    {
      "cell_type": "code",
      "execution_count": null,
      "metadata": {
        "id": "OF19Znw8HW6K"
      },
      "outputs": [],
      "source": [
        "parse(move_2_1)"
      ]
    },
    {
      "cell_type": "markdown",
      "metadata": {
        "id": "v3a4Q88MHZfr"
      },
      "source": [
        "When you enter the cell above, you get the program ```move_2_1``` as a Python *list* of instructions. We have seen the explanation of this parse above.  What we want to do in ```move_3_4``` is to change the overall \"case\" instruction in the beginning from ```11#####``` to ```111#####```.   And each time our program writes to a register, we want that register to be R4, not R1.  So we make two changes."
      ]
    },
    {
      "cell_type": "code",
      "execution_count": null,
      "metadata": {
        "id": "nUBPolu9HbSo"
      },
      "outputs": [],
      "source": [
        "unparse(pre_program)"
      ]
    },
    {
      "cell_type": "markdown",
      "metadata": {
        "id": "4lB7XVf6HfvT"
      },
      "source": [
        "We can check this out by entering it into the interpreter.  We could either copy the output line (without the quotes), and go up to the top of this notebook.  Alternatively, we could move the interpreter down to here using an up-arrow command that you will need to find.\n"
      ]
    },
    {
      "cell_type": "markdown",
      "metadata": {
        "id": "-6HzTRCIHirm"
      },
      "source": [
        "```{exercise}\n",
        "Write a program which takes the contents of R1 and adds them to the ends of *both* R2 and R3.\n",
        "```"
      ]
    },
    {
      "cell_type": "markdown",
      "metadata": {
        "id": "RwKmd0ubHnBp"
      },
      "source": [
        "```{exercise}\n",
        "Write a program that clears out R1, leaving it empty.\n",
        "```"
      ]
    },
    {
      "cell_type": "markdown",
      "metadata": {
        "id": "vGMfoJ02HqNX"
      },
      "source": [
        "```{exercise}\n",
        "Write a program that clears R3 and then swaps the contents of R1 and R2 (using the now-empty R3).\n",
        "```\n"
      ]
    },
    {
      "cell_type": "markdown",
      "metadata": {
        "id": "F3QwMdfwHtDq"
      },
      "source": [
        "```{exercise}\n",
        "Write a program $p$ that adds a $\\one$ to the beginning of R1, assuming that R2 is empty. (For example, if R1 has $\\hash\\hash\\one$ to start, then running $p$ would result in R1 having $\\one\\hash\\hash\\one$.) Of course, your program may use R2!\n",
        "```"
      ]
    },
    {
      "attachments": {},
      "cell_type": "markdown",
      "metadata": {
        "id": "Yo0sbjZhEPD7"
      },
      "source": [
        "## copy\n",
        "\n",
        "The second program in this notebook is called ```copy```.\n",
        "Like ```move```, the ```copy``` program is actually an infinite batch of programs. \n",
        "\n",
        "```{attention}\n",
        "The difference between <i>move</i> and <i>copy</i>\n",
        "for us is that when a register's contents are moved, the\n",
        "register is left empty; but if the contents are copied,\n",
        "then the register is left at the end with exactly what it had\n",
        "at the beginning.\n",
        "```\n",
        "\n",
        "In order to copy in this way, we need an auxiliary register.\n",
        "So while the ```move``` programs had two registers in their names, the ```copy``` programs have three.\n",
        "\n",
        "<br><p>\n",
        "Here is the idea behind copying Rm to Rn.   We use\n",
        "an auxilliary register, say Rp.  We move Rm into Rn and Rp\n",
        "at the same time, and then be move Rp back to Rm.\n",
        "Of course, when we do this, we should have Rp empty to start\n",
        "with.   \n",
        "<p>\n",
        "\n",
        "Here is our program when m = 1, n = 2, p = 3.  That is, here is $\\copyprog_{1,2,3}$."
      ]
    },
    {
      "attachments": {},
      "cell_type": "markdown",
      "metadata": {},
      "source": [
        "<TABLE cellspacing=\"0\" cellpadding=\"5\">>\n",
        "        <TR BGCOLOR=\"#FFFFCC\">\n",
        "                <TD>1#####</TD> <TD>cases on R1</TD></TR>\n",
        "        <TR BGCOLOR=\"#FFFFCC\">\n",
        "                <TD>11111111###</TD> <TD>go forward 8 to instruction 10 (the  move<sub>3,1</sub> part) </TD>  </tr>\n",
        "        <TR BGCOLOR=\"#FFFFCC\"><TD>1111###</TD><TD>go forward 4 to instruction 7</TD>  \n",
        "        </TR>\n",
        "         <TR  BGCOLOR=\"#B0E0E6\">\n",
        "                <TD>11##</TD> <TD>add # to R2</TD></tr>\n",
        "         <TR  BGCOLOR=\"#B0E0E6\">\n",
        "                <TD>111##</TD> <TD>add # to R3</TD></tr>   \n",
        "         <TR  BGCOLOR=\"#B0E0E6\">\n",
        "                <TD>11111####</TD> <TD>go backward 5 to the top</TD> </TR>\n",
        "         <TR  BGCOLOR=\"#D4B48C\">\n",
        "                <TD>11#</TD> <TD>add 1 to R2</TD></tr>\n",
        "         <TR  BGCOLOR=\"#D4B48C\">\n",
        "                <TD>111#</TD> <TD>add 1 to R3</TD></tr>\n",
        "         <TR  BGCOLOR=\"#D4B48C\"> <TD>11111111####</TD> <TD>go backward 8 to the top</TD> </TR>\n",
        "         <TR BGCOLOR=\"#FFFFCC\"> <TD> move<sub>3,1</sub></TD><td> from earlier in this notebook </td></TR>\n",
        "</TABLE>        "
      ]
    },
    {
      "cell_type": "code",
      "execution_count": null,
      "metadata": {
        "id": "2_qToGIXEpts"
      },
      "outputs": [],
      "source": [
        "copy_1_2_3"
      ]
    },
    {
      "cell_type": "markdown",
      "metadata": {
        "id": "5hyC35yaEKLl"
      },
      "source": [
        "## write"
      ]
    },
    {
      "attachments": {},
      "cell_type": "markdown",
      "metadata": {
        "id": "UDDObujTBXCl"
      },
      "source": [
        "We construct with \n",
        "a program $\\writeprog$ with \n",
        "the following properties:\n",
        "\n",
        "1. When $\\writeprog$ is started with $x$ in R1 \n",
        "and R2 empty, we eventually halt  with a\n",
        "word $y$\n",
        "in R1 and all other registers empty.\n",
        "\n",
        "2. Then $y$ is a program, and running\n",
        "$y$ with R1 empty results in $x$ back in R1 and all\n",
        "other registers empty."
      ]
    },
    {
      "attachments": {},
      "cell_type": "markdown",
      "metadata": {},
      "source": [
        "In the notation from [a little later](functions), we have\n",
        "\n",
        "$$\n",
        "[\\![ [\\![ \\writeprog]\\!](x)]\\!](\\ ) = x\n",
        "$$"
      ]
    },
    {
      "attachments": {},
      "cell_type": "markdown",
      "metadata": {},
      "source": [
        "Here is a table for $\\writeprog$:"
      ]
    },
    {
      "attachments": {},
      "cell_type": "markdown",
      "metadata": {
        "id": "VAUQmglUB1D5"
      },
      "source": [
        "<TABLE  cellspacing=\"0\" cellpadding=\"5\">>\n",
        "        <TR BGCOLOR=\"#FFFFCC\">\n",
        "                <TD>1#####</TD> <TD>cases on R1</TD></TR>\n",
        "        <TR BGCOLOR=\"#FFFFCC\">\n",
        "                <TD>111111111###</TD> <TD>Go forward 9:\n",
        "                  to move<sub>2,1</sub> part</TD>  </tr>\n",
        "        <TR BGCOLOR=\"#FFFFCC\"><TD>11111###</TD><TD>Go forward 5:\n",
        "to the brown part</TD>  \n",
        "        </TR>\n",
        "         <TR  BGCOLOR=\"#B0E0E6\">\n",
        "                <TD>11#</TD> <TD>add 1 to R2: 1## adds # to R1</TD></tr>\n",
        "         <TR  BGCOLOR=\"#B0E0E6\">\n",
        "                <TD>11##</TD> <TD>add # to R2</TD></tr>   \n",
        "         <TR  BGCOLOR=\"#B0E0E6\">\n",
        "                <TD>11##</TD> <TD>add # to R2</TD></tr>   \n",
        "         <TR  BGCOLOR=\"#B0E0E6\">\n",
        "                <TD>111111####</TD> <TD>go backward 6 (to the top)</TD> </TR>\n",
        "         <TR  BGCOLOR=\"#D4B48C\">\n",
        "                <TD>11#</TD> <TD>add 1 to R2: 1# adds 1 to R1</TD></tr>\n",
        "         <TR  BGCOLOR=\"#D4B48C\">\n",
        "                <TD>11##</TD> <TD>add # to R2</TD></tr>\n",
        "         <TR  BGCOLOR=\"#D4B48C\">\n",
        "                <TD>111111111####</TD> <TD>go backward 9 (to the top)</TD>  \n",
        "        </TR>\n",
        "        <TR BGCOLOR=\"#FFFFCC\">\n",
        "             <TD> move<sub>2,1</sub></TD><td> from earlier in this notebook </td></TR>\n",
        "</TABLE>        \n"
      ]
    },
    {
      "attachments": {},
      "cell_type": "markdown",
      "metadata": {
        "id": "fHwPPO5uCHEe"
      },
      "source": [
        "It should be emphasized that $\\writeprog$ reads from R1 \n",
        "and writes to R2; it  makes no\n",
        "use of any other register."
      ]
    },
    {
      "cell_type": "markdown",
      "metadata": {
        "id": "HMCCxIdhCRjS"
      },
      "source": [
        "```{exercise}\n",
        "Why is the result of running $\\writeprog$ on a word $x$  always a program,\n",
        "even if  $x$ is a word which is not a program?\n",
        "```"
      ]
    },
    {
      "cell_type": "markdown",
      "metadata": {
        "id": "5tzhskcfDPff"
      },
      "source": [
        "```{exercise}\n",
        "Modify $\\writeprog$\n",
        " to get a program $\\writetotwo$\n",
        "with the following feature:\n",
        " If $\\writetotwo$ is started with  $x$ in R1 \n",
        "and R2 empty, we eventually halt  with a\n",
        "word\n",
        "$y$\n",
        "in R2 and all other registers empty; moreover, running\n",
        "$y$  with R2 empty results in $x$ back in R2  (not R1) and all\n",
        "other registers empty.\n",
        "```"
      ]
    },
    {
      "attachments": {},
      "cell_type": "markdown",
      "metadata": {
        "id": "h1qurP6ejmTN"
      },
      "source": [
        "# The $+$ notation on words\n",
        "\n",
        "```{prf:definition}\n",
        "If $x$ and $y$ are words, then $x + y$ is the *concatenation* of $x$ followed by $y$.  For example,\n",
        "\n",
        "$$\n",
        "\\one\\hash\\one + \\hash \\hash = \\one\\hash\\one  \\hash \\hash.\n",
        "$$\n",
        "\n",
        "This operation is associative: $x + (y+z) = (x+y) + z$.   \n",
        "\n",
        "The *empty word* $\\eps$ is an identity element for it:\n",
        "$x + \\eps = x = \\eps + x$.\n",
        "So we have a [*monoid*](https://en.wikipedia.org/wiki/Monoid)\n",
        "\n",
        "$$\n",
        "(\\words, +, \\eps)\n",
        "$$\n",
        "```\n",
        "\n",
        "This means that we can \"add\" programs (since they are words).  For example, let \n",
        "\n",
        "$$\n",
        "q =\\mbox{copy}_{1,2,3} + \\mbox{move}_{2,1}\n",
        "$$\n",
        "\n",
        "This program $q$ would take the contents of register 1, copy it into register 2 (using register 3), and then move register 2 back to register 1.  So assuming that registers 2 and 3 were empty to begin with, running $q$ with $x$ in register $1$ would give us $x + x$ in register 1 at the end."
      ]
    },
    {
      "attachments": {},
      "cell_type": "markdown",
      "metadata": {},
      "source": [
        "```{exercise}\n",
        ":label: pre-diag\n",
        "\n",
        "1.  Let's take a word $x$ and run $\\writeprog$ on it.  Call the resulting program $q$. Suppose that we run $q$ on a word $y$.  Which do we get: $x + y$ or $y + x$?  That is, which is true?\n",
        "\n",
        "$$\n",
        "[\\![[\\![\\mbox{write}]\\!](x)]\\!](y) = x + y \\quad \\mbox{ or } \\quad [\\![[\\![\\mbox{write}]\\!](x)]\\!](y) = y + x\n",
        "$$\n",
        "\n",
        "\n",
        "2. Now let $p$ be the program ```copy_1_3_2 + write + move_3_1```. Find an equation satisfied by $p$. That is, fill in the blank\n",
        "\n",
        "$$\n",
        "[\\![ p]\\!](x) = \\underline{\\qquad\\qquad\\qquad}\n",
        "$$\n",
        "\n",
        "3.  Now fill in another blank, where $p$ again is ```copy_1_3_2 + write + move_3_1```:\n",
        "\n",
        "$$\n",
        "[\\![ [\\![ p]\\!](x)]\\!](y) = \\underline{\\qquad\\qquad\\qquad}\n",
        "$$\n",
        "\n",
        "```"
      ]
    }
  ],
  "metadata": {
    "colab": {
      "authorship_tag": "ABX9TyMIIgx/A+TCmazJW+rausKy",
      "include_colab_link": true,
      "provenance": []
    },
    "kernelspec": {
      "display_name": "Python 3",
      "name": "python3"
    },
    "language_info": {
      "codemirror_mode": {
        "name": "ipython",
        "version": 3
      },
      "file_extension": ".py",
      "mimetype": "text/x-python",
      "name": "python",
      "nbconvert_exporter": "python",
      "pygments_lexer": "ipython3",
      "version": "3.8.2"
    }
  },
  "nbformat": 4,
  "nbformat_minor": 0
}
