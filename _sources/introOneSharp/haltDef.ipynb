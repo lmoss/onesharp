{
  "nbformat": 4,
  "nbformat_minor": 0,
  "metadata": {
    "colab": {
      "provenance": [],
      "authorship_tag": "ABX9TyNdJvBPc4d/BKV6wg71UbKH",
      "include_colab_link": true
    },
    "kernelspec": {
      "name": "python3",
      "display_name": "Python 3"
    },
    "language_info": {
      "name": "python"
    }
  },
  "cells": [
    {
      "cell_type": "markdown",
      "metadata": {
        "id": "view-in-github",
        "colab_type": "text"
      },
      "source": [
        "<a href=\"https://colab.research.google.com/github/lmoss/onesharp/blob/main/introOneSharp/haltDef.ipynb\" target=\"_parent\"><img src=\"https://colab.research.google.com/assets/colab-badge.svg\" alt=\"Open In Colab\"/></a>"
      ]
    },
    {
      "cell_type": "markdown",
      "source": [
        "## When does a program halt?\n",
        "\n",
        "$\\one\\hash$ has programs which contain *infinite loops* such as\n",
        "\n",
        "1###1####\n",
        "\n",
        "This program never finishes. If you run this in an interpreter, you will need to figure out how to stop the execution.    Most of the time, we are interested in programs which do finish. Actually, we are interested in programs which finish in a special way.\n",
        "\n",
        "This last example had nothing to do with the words in the input registers before we ran the program.  But usually the input registers make a difference to whether the program halts or not.\n",
        "\n",
        "\n",
        "```{admonition} Definition\n",
        ":class: tip\n",
        "We (informally) say that a program $p$ *halts* on some inputs if at some point during the execution of $p$ on the inputs, the control transfers to right below the last instruction of $p$. In more detail, suppose that $p$ has n instructions. The formal definition is given below, after we discuss the remaining types of instructions.\n",
        "\n",
        "In contrast, we say that p *halts improperly* if at some point during the execution of $p$, the control tranfers either to a point before the beginning of $p$ or to points more than one instruction beyond the last instruction of $p$.\n",
        "```\n",
        "\n",
        "To see the difference, consider the following two programs: \n",
        "$\\one\\one\\hash\\hash\\hash$ and $\\one\\hash$.  Suppose we run them with some fixed but arbitrary word $x$ in R1.\n",
        "\n",
        "\n",
        "The first says \"Go forward 2,\" and the second \"Add $\\one$ to R1.\"\n",
        "\n",
        "The first halts, while the second halts improperly."
      ],
      "metadata": {
        "id": "0HV2nGXx89_T"
      }
    },
    {
      "cell_type": "markdown",
      "source": [
        "```{exercise}\n",
        ":label: on-halting\n",
        "Which of the following programs halt when run on all empty registers? Which stop improperly? Why?\n",
        "\n",
        "1. 11###111###1####\n",
        "\n",
        "2. 11###111###11####\n",
        "\n",
        "3. 11###111###111####\n",
        "\n",
        "4. 1111###1111###1####11###11####\n",
        "\n",
        "[It would be better to try to solve this problem without running the programs.]\n",
        "````"
      ],
      "metadata": {
        "id": "3QaKbogZ-iks"
      }
    },
    {
      "cell_type": "markdown",
      "source": [
        "```{exercise}\n",
        "{ref}`on-halting` was concerned with programs run on all empty registers.  Find a program $p$ and words $w_1$, $w_2$, and $w_3$ so that \n",
        "\n",
        "(a) When started with $w_1$ in R1, $p$ halts improperly.\n",
        "\n",
        "(b) When started with $w_2$ in R1, $p$ halts improperly.\n",
        "\n",
        "(c) When started with $w_3$ in R1, $p$ goes into an infinite loop inside $p$.\n",
        "```"
      ],
      "metadata": {
        "id": "nNMNTP62_Hu-"
      }
    },
    {
      "cell_type": "markdown",
      "source": [
        "## Halting: the formal definitions\n",
        "\n",
        "There are five ways that the run of a program $p$ on some register contents could halt.\n",
        "\n",
        "1. Instruction $n$ of $p$ (the last instruction) is of the form ```1```<sup>$k$</sup>```#``` or ```1```<sup>$k$</sup>```##```, and at some point in the run of $p$, we reach this last instruction.\n",
        "\n",
        "2. Some instruction of $p$, say instruction number $i$, is of the form ```1```<sup>$k$</sup>```###```; and also $i + k = n + 1$; and finally that at some point in the run of $p$, we reach instruction $i$.\n",
        "\n",
        "3. Instruction $n$ of $p$ (the last instruction) is of the form form ```1```<sup>$k$</sup>```#####```, and at some point in the run of $p$, we reach this last instruction with Rk empty.\n",
        "\n",
        "4. Instruction $n-1$ of $p$ (the next-to-last instruction) is of the form form ```1```<sup>$k$</sup>```#####```, and at some point in the run of $p$, we reach this instruction with Rk containing a word beginning with $\\one$.\n",
        "\n",
        "5.  Instruction $n-2$ of $p$ (the second-to-last instruction) is of the form form ```1```<sup>$k$</sup>```#####```, and at some point in the run of $p$, we reach this instruction with Rk containing a word beginning with $\\hash$.\n"
      ],
      "metadata": {
        "id": "Eb0F7IAv_Mim"
      }
    },
    {
      "cell_type": "markdown",
      "source": [
        "Again, these are the formal conditions.  Most of the time it is enough to work with the informal conditions that we started with:\n",
        "a program $p$ *halts* on some inputs if at some point during the execution of $p$ on the inputs, the control transfers to right below the last instruction of $p$. \n"
      ],
      "metadata": {
        "id": "F3WqUTegf1w1"
      }
    }
  ]
}