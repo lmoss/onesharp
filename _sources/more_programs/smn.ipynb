{
 "cells": [
  {
   "cell_type": "markdown",
   "metadata": {},
   "source": [
    "## The s-m-n Theorem"
   ]
  },
  {
   "attachments": {},
   "cell_type": "markdown",
   "metadata": {},
   "source": [
    "\n",
    "```{prf:lemma}\n",
    "Let $m$ and $n$ be natural numbers.\n",
    "\n",
    "There is a program $s^m_n$ such that for all $p$, $q_1$, $\\ldots$, $q_m$, $r_1$, $\\ldots$, $r_n$,\n",
    "\n",
    "\n",
    "$$\n",
    "[\\![ [\\![s^m_n]\\!](p, q_1,\\ldots, q_m)]\\!](r_1,\\ldots, r_n)\n",
    "\\simeq\n",
    "[\\![ p]\\!](q_1,\\ldots, q_m,r_1,\\ldots, r_n)\n",
    "$$\n",
    "\n",
    "```\n",
    "\n",
    "Here is the statement in words:\n",
    "\n",
    "If we start running  $s^m_n$  with  $p$ in R1, $q_1$  in R2,  and $\\ldots$, $q_m$ in R$(m+1)$  then we  get a word $x$ in R1 (and all other registers empty).\n",
    " \n",
    "If we then run $x$  with $r_1$ in R1,$\\ldots$, $r_n$ in R$n$, we would get the same thing as running the original $p$ with \n",
    " $q_1$ in R1, $\\ldots$, $q_m$ in R$m$, $r_1$ in R$(m+1)$, $\\ldots$, $r_m$ in R$(m+n)$.\n",
    "\n",
    "\n",
    "\n",
    " \n"
   ]
  },
  {
   "attachments": {},
   "cell_type": "markdown",
   "metadata": {},
   "source": [
    "\n",
    "```{admonition} Example: $s^1_1$\n",
    ":class: tip\n",
    "\n",
    "We take $s^1_1$ to be\n",
    "\n",
    "```move_1_3 + move_2_1 + write + move_1_2 + [[write]](move_1_2) + move_2_1  + move_3_1```\n",
    "\n",
    "\n",
    "Then we verify that this works by making tables of what happens after each of the sub-programs above.\n",
    "\n",
    "|      | start | move_1_3 | move_2_1 | write              |    move_1_2            |\n",
    "| -----|-------|----------|----------|--------------------|------------------------|\n",
    "| R1   |  p    |          |    q     | ```[[write]](q)``` |                        |  \n",
    "| R2   |  q    |    q     |          |                    |   ```[[write]](q)```   | \n",
    "| R3   |       |    p     |    p     |     p              |                     |\n",
    "\n",
    "Continuing below:\n",
    "\n",
    "Then we verify that this works by making tables of what happens after each of the sub-programs above.\n",
    "\n",
    "|      | [[write]](move_1_2)| move_2_1                      |    move_3_1           |\n",
    "| -----|--------------------|----------|--------------------|------------------------|\n",
    "| R1   |  move_1_2          | move_1_2 +  ```[[write]](q)```|   move_1_2 +  ```[[write]](q)``` + p  |  \n",
    "| R2   | ```[[write]](q)``` |                               |                        | \n",
    "| R3   |           p         |    p                         |                        |\n",
    "\n",
    "\n",
    "We get the program ``` move_1_2 + [[write]](q) + p```.  We run this program on ```r``` in R1\n",
    "\n",
    "|      | start |  move_1_2  | ```[[write]](q)``` |  p|\n",
    "|------|-------|------------|--------------|---|\n",
    "|  R1  |   r   |            |    q         | ```[[p]](q,r)``` |\n",
    "|  R2  |       |     r      |     r        |\n",
    "\n",
    "This concludes the verification.\n",
    "\n",
    "```\n"
   ]
  },
  {
   "cell_type": "markdown",
   "metadata": {},
   "source": []
  }
 ],
 "metadata": {
  "language_info": {
   "name": "python"
  }
 },
 "nbformat": 4,
 "nbformat_minor": 2
}
