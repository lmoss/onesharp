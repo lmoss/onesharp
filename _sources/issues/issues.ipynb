{
  "cells": [
    {
      "cell_type": "markdown",
      "metadata": {
        "colab_type": "text",
        "id": "view-in-github"
      },
      "source": [
        "<a href=\"https://colab.research.google.com/github/lmoss/onesharp/blob/main/issues/issues.ipynb\" target=\"_parent\"><img src=\"https://colab.research.google.com/assets/colab-badge.svg\" alt=\"Open In Colab\"/></a>"
      ]
    },
    {
      "attachments": {},
      "cell_type": "markdown",
      "metadata": {
        "id": "uFTD3oKx6RIc"
      },
      "source": [
        "# Computability\n",
        "\n",
        "We now turn to some of the main issues that drive our subject.   First of all, there is the matter of *giving a mathematical definition to the intuitive concept of computability*.   To see one of the issues, consider the diagram below.  "
      ]
    },
    {
      "attachments": {},
      "cell_type": "markdown",
      "metadata": {
        "id": "dFE0zRiD6nS_"
      },
      "source": [
        "<img src=\"https://github.com/lmoss/onesharp/blob/main/issues/pictures/pictures-56.png?raw=1\" width=\"100%\" height=\"100%\">"
      ]
    },
    {
      "attachments": {},
      "cell_type": "markdown",
      "metadata": {},
      "source": [
        "The inside region represents what could be \"computed\" at the time of this writing.  It is marked by a jagged boundary, since this border depends on the sofware and hardware, and on top of that it is time-dependent.  It is very hard to have a detailed and useful scientific study of such a concept.  Of more interest is the red boundary, the division between mathematical matters which are \"in principle\" computable, and those which are out of this boundary.  What we mean by \"in principle\" here is that we want to set aside all considerations of time and space limitations, except that everything must take only finitely many steps, and use only finitely much space."
      ]
    },
    {
      "cell_type": "markdown",
      "metadata": {
        "id": "F4vxa6Ay78gl"
      },
      "source": [
        "# Concrete and Abstract Models of Computation\n"
      ]
    },
    {
      "cell_type": "markdown",
      "metadata": {
        "id": "-QXmHb7H74iU"
      },
      "source": [
        "# Finite vs. Infinite"
      ]
    }
  ],
  "metadata": {
    "colab": {
      "authorship_tag": "ABX9TyOjuj2nnPfh0zI8SN0tAFyM",
      "include_colab_link": true,
      "provenance": []
    },
    "kernelspec": {
      "display_name": "Python 3",
      "name": "python3"
    },
    "language_info": {
      "name": "python"
    }
  },
  "nbformat": 4,
  "nbformat_minor": 0
}
