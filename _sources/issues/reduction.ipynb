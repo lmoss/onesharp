{
  "cells": [
    {
      "cell_type": "markdown",
      "metadata": {
        "colab_type": "text",
        "id": "view-in-github"
      },
      "source": [
        "<a href=\"https://colab.research.google.com/github/lmoss/onesharp/blob/main/issues/reduction.ipynb\" target=\"_parent\"><img src=\"https://colab.research.google.com/assets/colab-badge.svg\" alt=\"Open In Colab\"/></a>"
      ]
    },
    {
      "cell_type": "markdown",
      "metadata": {
        "id": "afi51Ew09l9E"
      },
      "source": [
        "# Reduction of one problem to another"
      ]
    },
    {
      "cell_type": "markdown",
      "metadata": {
        "id": "rY0skPqGBZEi"
      },
      "source": [
        "**definitions and interesting examples are yet to come**"
      ]
    },
    {
      "attachments": {},
      "cell_type": "markdown",
      "metadata": {},
      "source": [
        "<img src=\"https://github.com/lmoss/onesharp/blob/main/questions.jpg?raw=1\" width=\"200\" height=\"160\">"
      ]
    },
    {
      "attachments": {},
      "cell_type": "markdown",
      "metadata": {},
      "source": [
        "```{prf:proposition}\n",
        "Let $A\\leq B$.\n",
        "\n",
        "1.  If $B$ is decidable, then so is $A$.\n",
        "\n",
        "2. If $A$ is undecidable, then so is $B$.\n",
        "```"
      ]
    },
    {
      "cell_type": "markdown",
      "metadata": {
        "id": "81dYGwI3hi98"
      },
      "source": [
        "```{exercise}\n",
        "The *Pointed PCP Problem* (PPCP) is like Post's Correspondence Problem (PCP) except we have a designated domino $d_0$ which must be used as the first domino in a match. \n",
        "\n",
        "Let $PCP$ be the set of PCP instances for which there exists a match, and let $PPCP$ be the set of PPCP instances for which there is a match.\n",
        "\n",
        "(a) Prove that $PPCP \\leq_m PCP$.\n",
        "\n",
        "(b) Prove that $PCP \\leq_m PPCP$.\n",
        "```"
      ]
    },
    {
      "cell_type": "markdown",
      "metadata": {
        "id": "0AaxlUcoiFcM"
      },
      "source": [
        "```{exercise}\n",
        "Suppose we consider a version of the tiling problem.\n",
        "We are again given a pointed tile set.  But instead of tiling the first quadrant we only need to tile the \"positive $x$-axis\".  Let's call this problem $Tile_1$.\n",
        "Show that $Tile_1$ is decidable.\n",
        "```"
      ]
    },
    {
      "attachments": {},
      "cell_type": "markdown",
      "metadata": {
        "id": "0Y2_8tDYK1h-"
      },
      "source": [
        "```{exercise}\n",
        "Another version of tiling.  Given a pointed tile set, can we tile the *bottom two rows* of the quadrant?   Let's call this problem $Tile_2$.   Show that $Tile_1 \\leq_m Tile_2$, and also that \n",
        "$Tile_2 \\leq_m Tile_1$.\n",
        "```"
      ]
    },
    {
      "attachments": {},
      "cell_type": "markdown",
      "metadata": {},
      "source": [
        "```{exercise}\n",
        "Given a pointed tile set, can we tile the bottom two *columns* of the quadrant?   Use a reduction involving the previous problem.\n",
        "```\n"
      ]
    },
    {
      "attachments": {},
      "cell_type": "markdown",
      "metadata": {},
      "source": [
        "```{exercise}\n",
        "Our tiling problem asks whether, given a finite set $\\mathcal{T}$ of tiles and a distinguished $t^*\\in \\mathcal{T}$, we can tile the first quadrant with $(\\mathcal{T},t^*)$.    Let us call the collection of pointed tile sets where this is possible $Y$.  Let $Z$ be the collection of pointed tile sets which can tile the entire plane, subject to the requirement that $t^*$ is used, and also that shared edges have the same color.  \n",
        "\n",
        "Show that $Y \\leq_m Z$.\n",
        "```"
      ]
    },
    {
      "cell_type": "markdown",
      "metadata": {
        "id": "AhXbodpwLI4_"
      },
      "source": [
        "```{exer}\n",
        "Suppose we are given two finite domino sets, say $\\DD_1$ and $\\DD_2$.  \n",
        "\n",
        "(a) Show that there is a domino set $\\DD$ with the property that \n",
        "$\\DD$ has a match if and only if both $\\DD_1$ and $\\DD_2$ have matches, and moreover that $\\DD$ may be obtained computably from $\\DD_1$ and $\\DD_2$.\n",
        "\n",
        "(b) Show that there is a domino set $\\DD$ with the property that \n",
        "$\\DD$ has a match if and only if either $\\DD_1$ or $\\DD_2$ have matches (or both), and moreover that $\\DD$ may be obtained computably from $\\DD_1$ and $\\DD_2$.\n",
        "```\n"
      ]
    },
    {
      "attachments": {},
      "cell_type": "markdown",
      "metadata": {},
      "source": [
        "```{exercise}\n",
        "Let $P_3$ be the matrix mortality problem for $3\\times 3$ matrices.  Let $P_2$ and $P_4$ be defined similarly, for the $2\\times 2$ and $4\\times 4$ matrices.   Show that $P_2 \\leq P_3 \\leq P_4$.  This is a straightforward algebraic argument.\n",
        "\n",
        "Later we will see that $P_4 \\leq P_3$, but the argument will not be not as straightforward.\n",
        "```"
      ]
    },
    {
      "attachments": {},
      "cell_type": "markdown",
      "metadata": {},
      "source": [
        "```{exercse}\n",
        "Let $X$ be the set of multi-variable polynomials $p(x_1, \\ldots, x_n)$ with integer coefficients which have a root consisting of positive integers, and let $Y$ be the polynomials with integer coefficients which have a root consisting of negative integers.  Show that $X \\leq Y$ and $Y\\leq X$.\n",
        "```"
      ]
    },
    {
      "attachments": {},
      "cell_type": "markdown",
      "metadata": {},
      "source": [
        "```{exercise}\n",
        "Assuming that $PCP$ is undecidable, show that it is undecidable even if the alphabet has only two letters.\n",
        "```"
      ]
    },
    {
      "attachments": {},
      "cell_type": "markdown",
      "metadata": {},
      "source": [
        "```{exercise}\n",
        "Here is an exercise pertaining to the matrix mortality problem.   Let $M_{1,1}$ be the set of finite sets of $3\\times 3$ integer matrices which have some finite product which equals $0$.    Let $M_{0}$ be the set of  finite sets of $3\\times 3$ integer matrices which have some finite product with $0$ in the upper-left corner.   In this exercise, we show that $M_{1,1} \\leq  M_0$.\n",
        "\n",
        "\n",
        "Let $A$ be the $3\\times 3$ matrix\n",
        "\n",
        "$$\n",
        "\\left[ \n",
        "\\begin{array}{lll} 1 & 0 & 0 \\\\ 0 &  0 & 0 \\\\ 0 &  0 & 0  \\end{array}\n",
        "\\right]\n",
        "$$\n",
        "\n",
        "The key features of $A$ are shown below:\n",
        "\n",
        "$$\n",
        "\\left[ \\begin{array}{lll} 1 & 0 & 0 \\\\ 0 &  0 & 0 \\\\ 0 &  0 & 0  \\end{array} \\right]\n",
        "\\left[ \\begin{array}{lll} a & b & c \\\\ d &  e & f \\\\ g &  h & i  \\end{array}\\right]\n",
        "%\\left[ \\begin{array}{lll} 1 & 0 & 0 \\\\ 0 &  0 & 0 \\\\ 0 &  0 & 0  \\end{array} \\right]\n",
        "= \n",
        "\\left[\\begin{array}{lll} a & b & c \\\\ 0 &  0 & 0 \\\\ 0 &  0 & 0  \\end{array}\\right]\n",
        "$$\n",
        "\n",
        "We also have\n",
        "\n",
        "$$\n",
        "\\left[ \\begin{array}{lll} 1 & 0 & 0 \\\\ 0 &  0 & 0 \\\\ 0 &  0 & 0  \\end{array} \\right]\n",
        "\\left[ \\begin{array}{lll} a & b & c \\\\ d &  e & f \\\\ g &  h & i  \\end{array}\\right]\n",
        "\\left[ \\begin{array}{lll} 1 & 0 & 0 \\\\ 0 &  0 & 0 \\\\ 0 &  0 & 0  \\end{array} \\right]\n",
        "= \n",
        "\\left[\\begin{array}{lll} a & 0 & 0 \\\\ 0 &  0 & 0 \\\\ 0 &  0 & 0  \\end{array}\\right]\n",
        "$$\n",
        "\n",
        "Let $Q$ be the set of finite sets of $3\\times 3$ integer matrices.\n",
        "\n",
        "Here is a computable function $f: Q \\to Q$:\n",
        "\n",
        "$$\n",
        "f(S) = S\\cup \\{A\\}\n",
        "$$\n",
        "\n",
        "Our goal is to prove the following fact:\n",
        "\n",
        "\n",
        "\n",
        "\n",
        "Let $S$ be  a finite set of $3\\times 3$ matricies.\n",
        "\n",
        "1.  Show that if $S \\in M_{1,1}$, then $f(S) \\in M_0$.  [This is easy given the facts above.]\n",
        "\n",
        "2. In the other direction, suppose that $f(S) \\in M_0$.   Take a finite sequence from $f(S)$ whose product has a zero in the upper-left corner.  Write the product as\n",
        "\n",
        "$$\n",
        "A B^1_1 B^1_2 \\cdots B^1_{n_1}  A B^2_1 B^2_2 \\cdots B^2_{n_1}\\cdots   A B^k_1 B^k_2 \\cdots B^k_{n_k} A\n",
        "$$\n",
        "\n",
        "where the $B^i_j$ matrices belong to $S$.\n",
        "\n",
        "Divide the product above into $k+1$ groups:\n",
        "\n",
        "$$\n",
        "(A B^1_1 B^1_2 \\cdots B^1_{n_1}) \\quad (A B^2_1 B^2_2 \\cdots B^2_{n_1}) \\quad\\cdots\\quad\n",
        " (A B^k_1 B^k_2 \\cdots B^k_{n_k}) \n",
        "\\quad  A\n",
        "$$\n",
        "\n",
        "And then multiply it group-by-group:\n",
        "\n",
        "$$\n",
        "\\left[\\begin{array}{lll} a^1 & b^1 & c^1 \\\\ 0 &  0 & 0 \\\\ 0 &  0 & 0  \\end{array}\\right]\n",
        "\\left[\\begin{array}{lll} a^2 & b^2 & c^2 \\\\ 0 &  0 & 0 \\\\ 0 &  0 & 0  \\end{array}\\right]\n",
        "\\cdots\n",
        "\\left[\\begin{array}{lll} a^k & b^k & c^k \\\\ 0 &  0 & 0 \\\\ 0 &  0 & 0  \\end{array}\\right]\n",
        "\\left[\\begin{array}{lll} 1 & 0 & 0 \\\\ 0 &  0 & 0 \\\\ 0 &  0 & 0  \\end{array}\\right]\n",
        "$$\n",
        "\n",
        "Show that the upper-left corner elements $a^i$ are non-zero, as is the product of all of them. Finally, derive a contradiction.\n",
        "\n",
        "\n",
        "\n",
        "\n",
        "\n",
        "```"
      ]
    }
  ],
  "metadata": {
    "colab": {
      "authorship_tag": "ABX9TyP205rqn48v0Nn/uuhLo23v",
      "include_colab_link": true,
      "provenance": []
    },
    "kernelspec": {
      "display_name": "Python 3",
      "name": "python3"
    },
    "language_info": {
      "name": "python"
    }
  },
  "nbformat": 4,
  "nbformat_minor": 0
}
