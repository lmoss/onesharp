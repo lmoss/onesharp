{
 "cells": [
  {
   "attachments": {},
   "cell_type": "markdown",
   "metadata": {},
   "source": [
    "# Recursion\n",
    "\n",
    "This notebook will present recursion as something that we need to understand.  It will serve as a motivation for several of the sections in the book.\n",
    "\n"
   ]
  },
  {
   "attachments": {},
   "cell_type": "markdown",
   "metadata": {},
   "source": [
    "Consider the following three function definitions:\n",
    "\n",
    "$$\n",
    "\\begin{array}{lcl}\n",
    "gcd(x,y) & = & \n",
    "\\left\\{\n",
    "\\begin{array}{ll}\n",
    "x & \\mbox{if $y=0$} \\\\\n",
    "\\gcd(y, rem(x,y))) & \\mbox{otherwise}\n",
    "\\end{array}\n",
    "\\right.\n",
    "\\\\ \n",
    "\\\\\n",
    "A(x,y) & = & \\left\\{\n",
    "\\begin{array}{ll} y+1 &\\mbox{if  $x=0$}\n",
    "\\\\\n",
    " A(x-1,1) & \\mbox{if  $x\\neq 0$ and $y=0$}\\\\\n",
    " A(x-1,A(x,y-1)) & \\mbox{otherwise}\n",
    "\\end{array}\n",
    "\\right.\n",
    "\\\\\n",
    "\\\\\n",
    "collatz(n) & = &  \\left\\{ \\begin{array}{ll} \n",
    "1 &\\mbox{if $n \\leq 1$} \\\\\n",
    "1 + collatz(n/2) & \\mbox{if $n\\geq 2$ is even } \\\\\n",
    " 1 + collatz(3n) & \\mbox{if $n\\geq 3$ is odd} \n",
    " \\end{array}\\right.\n",
    "\\end{array}\n",
    "$$\n",
    "In the first of these, $rem(x,y)$ is the remainder when $y$ is divided by $x$.\n",
    "\n",
    "In all three function definitions, the right-hand side includes calls to the same function which is being defined, but those calls are more complicated than what is allowed by primitive recursion.  So from the form in which we have written them, it is not clear from first principles that any of these are computable in the first place.\n"
   ]
  }
 ],
 "metadata": {
  "language_info": {
   "name": "python"
  },
  "orig_nbformat": 4
 },
 "nbformat": 4,
 "nbformat_minor": 2
}
