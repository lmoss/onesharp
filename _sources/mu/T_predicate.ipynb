{
  "cells": [
    {
      "cell_type": "markdown",
      "metadata": {
        "colab_type": "text",
        "id": "view-in-github"
      },
      "source": [
        "<a href=\"https://colab.research.google.com/github/lmoss/onesharp/blob/main/mu/T_predicate.ipynb\" target=\"_parent\"><img src=\"https://colab.research.google.com/assets/colab-badge.svg\" alt=\"Open In Colab\"/></a>"
      ]
    },
    {
      "cell_type": "code",
      "execution_count": null,
      "metadata": {},
      "outputs": [],
      "source": [
        "#@title\n",
        "!python -m pip install -U setuptools\n",
        "!python -m pip install -U git+https://github.com/lmoss/onesharp.git@main\n",
        "from onesharp.interpreter.with_traces import *"
      ]
    },
    {
      "cell_type": "markdown",
      "metadata": {
        "id": "4v32slgLIcOy"
      },
      "source": [
        "# The T predicate\n",
        "\n",
        "\n"
      ]
    },
    {
      "attachments": {},
      "cell_type": "markdown",
      "metadata": {},
      "source": [
        "If someone claims that $[\\![p]\\!](x)\\!\\!\\downarrow$, what evidence could they bring to prove their point?   In this section we develop an answer.  We provide a notion of a *trace* of a computation.  Here are the main points.   First, traces are finite words; they cannot be infinite objects.  Second, there is a total computable relation $T(p,x,z)$ such that if $[\\![p]\\!](x)\\!\\!\\downarrow$,\n",
        "then there is some $z$ such that $T(p,x,z)$.  But if $[\\![p]\\!](x)\\!\\!\\uparrow$, then there is no such $z$.  This relation $T(p,x,z)$ is called the *T-predicate*.\n",
        "\n",
        "Carrying out the definition of $T(p,x,z)$ requires us to make a number of secondary definitions.  Some of the discussion is technical because we need to code sequences of words by single words.   Please do not get bogged down by the technical details; the ideas are more important, and they are actually easier to grasp without the details of the coding.  In other words, the details are important, but they should not get in the way of understanding the ideas.\n",
        "\n",
        "The foregoing paragraphs were about computation in ```1#```.   After we do this work, we want to port the discussion from words to numbers.  This again leads us to a mountain of details about coding.  We show that the numerical version of $T$ is primitive recursive.   This leads to the a real result proved using the $T$-predicate, the fact that every partial $\\mu$-recursive function of\n",
        "numbers is ```1#```-computable."
      ]
    },
    {
      "attachments": {},
      "cell_type": "markdown",
      "metadata": {},
      "source": [
        "## Encoding sequences of words as words\n",
        "\n",
        "\n",
        ":::{prf:definition}\n",
        ":label: def-encode-sequences\n",
        "\n",
        "We start by defining a specific encoding map\n",
        "\n",
        "$$\n",
        "c: Words^* \\to Words\n",
        "$$\n",
        "\n",
        "Here is how our map words first, we define a map\n",
        "\n",
        "$$\n",
        "b : Words \\to Words\n",
        "$$\n",
        "\n",
        "by \n",
        "\n",
        "$$\n",
        "b(a_1 a_2 \\cdots a_k)  =  {\\tt 1}\\quad a_1\\quad  {\\tt 1} \\quad a_2 \\quad \\cdots \\quad  {\\tt 1}\\quad a_k \n",
        "$$\n",
        "\n",
        "In other words, we put a ${\\tt 1}$ before each letter in the input word $a_1 a_2 \\cdots a_k$.\n",
        "\n",
        "Then for a sequence of words we take \n",
        "\n",
        "$$\n",
        "c(w_1, \\ldots, w_r) = {\\tt \\#\\#} \\quad b(w_1)\\quad {\\tt \\#\\#} \\quad b(w_2)\\quad  \\cdots\\quad b(w_r)\n",
        "$$\n",
        " \n",
        "We understand that $c(\\varepsilon) = {\\tt \\#\\#}$.\n",
        ":::"
      ]
    },
    {
      "attachments": {},
      "cell_type": "markdown",
      "metadata": {},
      "source": [
        "## Encoding sequences of (sequences of words) as words\n",
        "\n",
        "We also need an encoding of *sequences of sequences of words*.   (But fear not, we do not need to further in this direction.)\n",
        "We define\n",
        "\n",
        "$$\n",
        "d: (Words^*)^* \\to Words\n",
        "$$\n",
        "\n",
        "by \n",
        "\n",
        "$$\n",
        "d(r_1,\\ldots, r_n )  = {\\tt \\# 1} \\quad c(r_1)\\quad  {\\tt \\# 1} \\quad  c(r_2)\\quad  \\cdots\\quad  {\\tt \\# 1} \\quad  c(r_n)\n",
        "$$\n",
        "\n",
        "That is, we encode sequences of words using $c$ from above, and then we use ${\\tt \\# 1}$ as a separator between such encondings."
      ]
    },
    {
      "attachments": {},
      "cell_type": "markdown",
      "metadata": {},
      "source": [
        "## Encoding snapshots\n",
        "\n",
        "Recall that a snapshot is a number together with a finite sequence of words.    We associate snapshots to executions of a program on some inputs; a snapshot is determined by a line number in a program, and with the contents of some finite set of registers.\n",
        "But we want a definition of a snapshot encoding that does not refer to a program or to anything else.   \n",
        "\n",
        ":::{prf:definition}\n",
        ":label: def-snapshot\n",
        "\n",
        "An *encoded snapshot* is a word of the form \n",
        "\n",
        "$$\n",
        "{\\tt 1}^k \\quad c(w_1, w_2, \\ldots, w_{\\ell})\n",
        "$$\n",
        "\n",
        "That is, it is a finite sequence of ```1```s followed by ```##``` followed by $b(w_1)$ for some word $w_1$, then ```###```, then \n",
        "$b(w_2)$ for some word $w_2$, $\\ldots$, and finally $b(w_{\\ell})$ for some word $w_{\\ell}$.\n",
        "\n",
        ":::\n",
        "\n"
      ]
    },
    {
      "cell_type": "markdown",
      "metadata": {
        "id": "_zFp0Yaeas9W"
      },
      "source": [
        "## New interface\n",
        "\n",
        "Here is a new interface for running program which includes a \"mode\" capability that includes the option of seeing all the snapshots and the overall trace."
      ]
    },
    {
      "cell_type": "code",
      "execution_count": null,
      "metadata": {
        "colab": {
          "base_uri": "https://localhost:8080/",
          "height": 768
        },
        "id": "DRCVegtmD0b7",
        "outputId": "3ddf4fd8-bbbf-4546-a0c9-f1f94b640c4c"
      },
      "outputs": [],
      "source": [
        "step_by_step_with_snapshots('1#1#',['##'])\n"
      ]
    },
    {
      "cell_type": "code",
      "execution_count": null,
      "metadata": {
        "colab": {
          "base_uri": "https://localhost:8080/"
        },
        "id": "0NVduL92jkIe",
        "outputId": "a59e7504-21aa-49d8-fd22-69171975bc8a"
      },
      "outputs": [],
      "source": [
        "snapshot_check('111##1#11#1111##')"
      ]
    },
    {
      "attachments": {},
      "cell_type": "markdown",
      "metadata": {},
      "source": [
        "## Definitions leading up to T\n",
        "\n",
        "\n",
        ":::{prf:definition}\n",
        ":label: def-follows\n",
        "\n",
        "$$\n",
        "Follows(p,s_1,s_2)\n",
        "$$\n",
        "\n",
        "means that \n",
        "\n",
        "1. $Program(p)$ \n",
        "\n",
        "2. $Snapshot(s_1)$ and $Snapshot(s_2)$ \n",
        " \n",
        "3. The $n$ involved in $s_1$ (the number $1^n$ at the start of $s_1$) is $\\leq$ the length of $p$\n",
        "\n",
        "4. $s_2$ is the snapshot that would follow after $s_1$ according to what $p$ says.\n",
        "\n",
        "\n",
        "\n",
        ":::\n",
        "\n",
        "\n"
      ]
    },
    {
      "attachments": {},
      "cell_type": "markdown",
      "metadata": {},
      "source": [
        "\n",
        ":::{prf:definition}\n",
        ":label: def-follows\n",
        "\n",
        "$$\n",
        "Suitable(p,s)\n",
        "$$ \n",
        "\n",
        "means\n",
        "\n",
        "1. $Program(p)$ \n",
        "2.  $Snapshot(s)$ \n",
        "3. The number of registers represented in $s$ is the  maximum register number that $p$ deals with, or $1$ if $p$ does not mention any registers at all.\n",
        "\n",
        ":::\n",
        "\n",
        "In other words,  if \n",
        "\n",
        "$$\n",
        "s  ={\\tt 1}^n \\quad +\\quad {\\tt \\#} {\\tt \\#}  \\quad+ \\quad code(w_1,\\ldots,w_k) \n",
        "\\$$\n",
        "\n",
        "then $k$ is the largest register mentioned in the program $p$."
      ]
    },
    {
      "attachments": {},
      "cell_type": "markdown",
      "metadata": {},
      "source": [
        ":::{prf:definition}\n",
        ":label: def-suitable\n",
        "\n",
        "$Suitable(p,s)$ means\n",
        "\n",
        "\n",
        "1.  $Program(p)$ \n",
        "2.  $Snapshot(s)$ \n",
        "3. The number of registers represented in $s$ is the  maximum register number that $p$ deals with, or $1$ if $p$ does not mention any registers at all.\n",
        "\n",
        "\n",
        "\n",
        "In other words,  if \n",
        "\n",
        "$$\n",
        "s  =  1^n \\quad +\\quad {\\tt \\#\\#} \\quad+ \\quad code({w_1,. . .,w_k}) \n",
        "$$\n",
        "\n",
        "then $k$ is the largest register mentioned in the program $p$.   That is, $k$ is largest so that $p$ contains $1^k\\#$ or $1^k\\#\\#$ or $1^k \\#^5#.\n",
        "\n",
        ":::"
      ]
    },
    {
      "attachments": {},
      "cell_type": "markdown",
      "metadata": {},
      "source": [
        ":::{prf:definition}\n",
        ":label: def-starting-snapshot\n",
        "\n",
        "$Starting-snapshot(p,w, s)$ means\n",
        "\n",
        "1.  $Suitable(p,s)$,  and thus $Program(p)$  and $Snapshot(s)$ \n",
        "\n",
        "2. The instruction number $n$ in $s$ is $1$.\n",
        "\n",
        "3.  $w$ is a coded word-of-words \n",
        "\n",
        "$$\n",
        "w = code({w_1,\\ldots, w_k})\n",
        "$$\n",
        "\n",
        "\n",
        "and $s$ represents the snapshot where $w_1$ is in R1, $\\ldots$, $w_k$ is in Rk.\n",
        "\n",
        "\n",
        "\n",
        "\n",
        "\n",
        "\n",
        ":::"
      ]
    },
    {
      "attachments": {},
      "cell_type": "markdown",
      "metadata": {},
      "source": [
        ":::{prf:definition}\n",
        ":label: def-halting-snapshot\n",
        "\n",
        "$Halting-snapshot(p, s)$ means\n",
        "\n",
        "\n",
        "\n",
        "1. $Suitable(p,s)$,  and thus $Program(p)$  and $Snapshot(s)$ \n",
        "\n",
        "2. The instruction number $n$ in $s$ is $1+ m$, where $m$ is the the number of instructions in $p$.\n",
        "\n",
        "3. The registers coded in $s$ are all empty, except possibly for R1.\n",
        "\n",
        ":::"
      ]
    },
    {
      "attachments": {},
      "cell_type": "markdown",
      "metadata": {},
      "source": [
        ":::{prf:definition}\n",
        ":label: def-snapshot-seq\n",
        "\n",
        "\n",
        "$Snapshot-seq(z)$ means\n",
        "that\n",
        "$z$ is a word of the form\n",
        "\n",
        "$$\n",
        "s_1 \\quad    {\\tt \\# 1} \\quad\n",
        "s_2 \\quad   {\\tt \\# 1} \\quad\n",
        "s_3 \\quad    {\\tt \\# 1} \\quad\n",
        "\\cdots\\quad\n",
        "  {\\tt \\# 1} \\quad  s_n\n",
        "$$\n",
        "where $Snapshot(s_i)$ for all $i$.\n",
        "\n",
        ":::"
      ]
    },
    {
      "attachments": {},
      "cell_type": "markdown",
      "metadata": {},
      "source": [
        ":::{prf:definition}\n",
        ":label: def-T\n",
        "\n",
        "\n",
        "\n",
        "$T(p,x,z)$ means\n",
        "\n",
        " \n",
        "1. $Program(p)$\n",
        "\n",
        "2. $Snapshot-seq(z)$,  say  $z$ represents\n",
        "\n",
        "$$\n",
        "s_1, \\ldots, s_{\\ell}\n",
        "$$\n",
        "\n",
        "3. $Starting-snapshot(p,w, s_1)$, \n",
        "\n",
        "where $w$ is the code of $\\langle x\\rangle$, the one-element sequence $x$, and $s_1$ is the first snapshot represented in $z$\n",
        "\n",
        "5. For all $1 \\leq i \\leq \\ell$, \n",
        "$Suitable(p,s_i)$\n",
        "\n",
        "6.  For all $1 \\leq i < \\ell$,  $Follows(p,s_i,s_{i+1})$\n",
        "\n",
        "\n",
        "7. $Halting-snapshot(p, s_{\\ell})$"
      ]
    },
    {
      "attachments": {},
      "cell_type": "markdown",
      "metadata": {},
      "source": [
        "We need one more gadget, a function  called  $upshot$.\n",
        "\n",
        "\n",
        ":::{prf:definition}\n",
        ":label: def-upshot\n",
        "\n",
        "If $Snapshot-seq(z)$, say \n",
        "$z$ is \n",
        "\n",
        "$$\n",
        "s_1\\quad    {\\tt \\# 1}  \\quad\n",
        "s_2 \\quad   {\\tt \\# 1} \\quad\n",
        "s_3 \\quad    {\\tt \\# 1}    \\quad\n",
        "\\cdots\\quad\n",
        "  {\\tt \\# 1}   \\quad  s_{\\ell}\n",
        "$$\n",
        "\n",
        "then $upshot(z)$ is the word in R1 in the last snapshot, $s_{\\ell}$.\n",
        "\n",
        "\n",
        "If $\\neg Snapshot-seq(z)$, then\n",
        "\n",
        " we (don't care about the result and) set\n",
        " $upshot(z)={\\tt \\#}$.\n",
        "\n",
        "\n",
        "\n",
        ":::"
      ]
    },
    {
      "attachments": {},
      "cell_type": "markdown",
      "metadata": {},
      "source": [
        ":::{prf:theorem}\n",
        ":label: theorem-T\n",
        "For all words $p$ and $x$, $[\\![ p]\\!](x)\\!\\!\\downarrow$ if and only if there is some $z$ such that $T(p,x,z)$.\n",
        "\n",
        "\n",
        "Moreover, $T$ is primitive recursive, and hence ```1#```-computable and total.\n",
        "\n",
        "Indeed, all of the \"helper functions\" above are also ```1#```-computable and total.\n",
        "\n",
        ":::"
      ]
    },
    {
      "cell_type": "markdown",
      "metadata": {
        "id": "ZXrlT9nLazi2"
      },
      "source": [
        "<img src=\"https://github.com/lmoss/onesharp/blob/main/pianotrumpet.jpg?raw=1\" width=\"200\" height=\"160\">"
      ]
    },
    {
      "attachments": {},
      "cell_type": "markdown",
      "metadata": {},
      "source": [
        "## Shortlex ordering of words\n",
        "\n",
        "Our next order of business is to rework everything which we have seen from words to numbers.   This involves an encoding.  So we start with a bijection $s: N \\to Words$.  "
      ]
    },
    {
      "attachments": {},
      "cell_type": "markdown",
      "metadata": {},
      "source": [
        "| $n$     | $s(n)$ |\n",
        "| ------- | ----------- |\n",
        "| 0      | $\\varepsilon$       |\n",
        "| 1   | ```#```      |\n",
        "| 2  | ```1```     |\n",
        "| 3  |```##```      |\n",
        "| 4  | ```##``` |\n",
        "| 5   | ```1#```      |\n",
        "| 6  | ```11```     |\n",
        "| 7  |```###```      |\n",
        "| 8  | ```##1``` |\n",
        "| 9  | ```#1#``` |\n",
        "| 10  | ```#11``` |\n",
        "| 11 | ```1##```|\n",
        "| 12 | ```1#1``` |\n",
        "| 13 | ```11#``` |\n",
        "| 14 | ```111```|\n",
        "| 15 | ```####``` |\n",
        "\n",
        "Being a bijection, this function $s$ has an inverse $s^{-1}$."
      ]
    },
    {
      "attachments": {},
      "cell_type": "markdown",
      "metadata": {},
      "source": [
        "The idea now is to take all of the machinery which we have built in this notebook and use $s$ and its inverse $s^{-1}$ to transfer them to numbers.  In the other direction, we want to take all of the primitive recursive functions of numbers and transfer them to ```1#```.\n",
        "\n"
      ]
    },
    {
      "cell_type": "markdown",
      "metadata": {},
      "source": []
    },
    {
      "attachments": {},
      "cell_type": "markdown",
      "metadata": {},
      "source": [
        "### Accessing bits\n",
        "\n",
        "We next define two functions on the natural numbers.  The first is called $|n|$, and it gives the number of characters in $s(n)$.\n",
        "\n",
        "$$\n",
        "|n| = \\biggl( \\mu x \\leq n +1. \\ (2^x  > n + 1)\\biggr) - 1.\n",
        "$$\n",
        "\n",
        "$$ \n",
        "\\begin{array}{lcl}\n",
        "rem(a,b) &  = &  (\\mu r < b).(\\exists q)(a = qb + r)\\\\\n",
        "&  = &  (\\mu r < b).(\\exists q \\leq a)(a = qb + r)\\\\\n",
        "\\end{array}\n",
        "$$\n",
        "\n",
        "$$\n",
        "(n)_{m} =\\left\\{\n",
        "\\begin{array}{ll}\n",
        "0 & if\\ rem(n+1,2^{m+1}) <  2^m   \\\\\n",
        "1 & if\\    rem(n+1,2^{m+1}) \\geq 2^m  \n",
        "\\end{array}\n",
        "\\right.\n",
        "$$\n"
      ]
    },
    {
      "attachments": {},
      "cell_type": "markdown",
      "metadata": {},
      "source": [
        "Here is a table of the values of this function for small numbers.\n",
        "\n",
        "\n",
        "| $n$ | $s(n)$        | $\\|n\\|$ | $(n)_0$ | $(n)_1$ | $(n)_2$ |\n",
        "|-----|---------------|---------|---------|---------|---------|\n",
        "| 0   | $\\varepsilon$ | 0       | 0       | 0       | 0      |\n",
        "| 1   | ```#```         | 1       | 0       | 0       | 0       |\n",
        "| 2   | ```1```       | 1       | 1       | 0       | 0       |\n",
        "| 3   | ```##```      | 2       | 0       | 0       | 0       |\n",
        "| 4   | ```#1```      | 2       | 1       | 0       | 0       |\n",
        "| 5   | ```1#```      | 2       | 0       | 1       | 0       |\n",
        "| 6   | ```11```      | 2       | 1       | 1       | 0       |\n",
        "| 7   | ```###```     | 3       | 0       | 0       | 0       |\n",
        "| 8   | ```##1```     | 3       | 1       | 0       | 0       |\n",
        "| 9   | ```#1#```     | 3       | 0       | 1       | 0       |\n",
        "| 10  | ```#11```     | 3       | 1       | 1       | 0       |\n",
        "| 11  | ```1##```     | 3       | 0       | 0       | 1       |\n",
        "| 12  | ```1#1```     | 3       | 1       | 0       | 1       |\n",
        "| 13  | ```11#```     | 3       | 0       | 1       | 1       |\n",
        "| 14  | ```111```     | 3       | 1       | 1       | 1       |\n",
        "| 15  | ```####```     | 4       | 0       | 0      | 0       |\n"
      ]
    },
    {
      "cell_type": "markdown",
      "metadata": {},
      "source": []
    },
    {
      "attachments": {},
      "cell_type": "markdown",
      "metadata": {},
      "source": [
        "Here are some Python programs about this encoding."
      ]
    },
    {
      "cell_type": "code",
      "execution_count": null,
      "metadata": {},
      "outputs": [],
      "source": [
        "import math\n",
        "\n",
        "def log2int(x):\n",
        "  return(math.frexp(x)[1] - 1)\n",
        "\n",
        "def length(n):\n",
        "  return(log2int(n+1))\n",
        "\n",
        "def index(n,m): ## this is what I write as (n)_m\n",
        "  a = (n+1)%(2**(m+1))\n",
        "  b = 2**m\n",
        "  if a < b:\n",
        "    return(0)\n",
        "  else:\n",
        "    return(1)\n",
        "\n",
        "def convert_numeral_to_onesharp(x):\n",
        "   if x == 0:\n",
        "     return('#')\n",
        "   else:\n",
        "     return('1')    \n",
        "\n",
        "def s(n):\n",
        "  k = length(n)  \n",
        "  s = [convert_numeral_to_onesharp(index(n,k-i-1)) for i in range(k)] \n",
        "  t = \"\".join(s) \n",
        "  return(t)\n",
        "\n",
        "def s_inverse(w):\n",
        "  n = len(w)\n",
        "  a = (2**n - 1)\n",
        "  b = [(2** (n-i-1)) for i in range(n) if (w[i] == '1')]\n",
        "  c = sum(b)\n",
        "  d = c+a\n",
        "  return(d)\n"
      ]
    },
    {
      "cell_type": "markdown",
      "metadata": {},
      "source": []
    },
    {
      "cell_type": "code",
      "execution_count": null,
      "metadata": {},
      "outputs": [],
      "source": [
        "print(s(143))\n",
        "print(s_inverse('##11#1'))\n",
        "print(s(s_inverse('##11#1')))"
      ]
    },
    {
      "cell_type": "code",
      "execution_count": null,
      "metadata": {},
      "outputs": [],
      "source": [
        "index(14,2)"
      ]
    },
    {
      "cell_type": "code",
      "execution_count": null,
      "metadata": {},
      "outputs": [],
      "source": [
        "[index(14,i) for i in range(5)]\n",
        "## this will print (14)_0, (14)_1, (14)_2, (14)_3, (14)_4  "
      ]
    },
    {
      "attachments": {},
      "cell_type": "markdown",
      "metadata": {},
      "source": [
        "```{important}\n",
        "We have the following formulas\n",
        "\n",
        "For all $n$,\n",
        "\n",
        "$$\n",
        "\\begin{array}{lcl}\n",
        "s(n) & = &  (n)_{|n| - 1} (n)_{|n|-2} \\cdots (n)_1 (n)_0\\\\ \\\\\n",
        "n & = & (2^{|n|} -1) +  \\sum_{i < |n|}  (n)_i \\cdot 2^i \n",
        "\\end{array}\n",
        "$$\n",
        "\n",
        "In these formulas, we *identify* ```#``` and the number $0$.\n",
        "\n",
        "```"
      ]
    },
    {
      "attachments": {},
      "cell_type": "markdown",
      "metadata": {},
      "source": [
        "```{admonition} Example\n",
        ":class: tip\n",
        "\n",
        "Let $n = 101$.\n",
        "\n",
        "Note that $2^7  = 128 > 101$, and $7$ is the smallest with this property.\n",
        "\n",
        "Therefore $|n| = 7-1 = 6$.\n",
        "\n",
        "$rem(102,2) = 0$.  And $0 < 2^0$\n",
        "\n",
        "$rem(102,4) = 2$. And $2 \\geq 2^1$.\n",
        "\n",
        "$rem(102,8) = 6$. And $6 \\geq 4$.\n",
        "\n",
        "$rem(102,16) = 6$. And $6 < 8$.\n",
        "\n",
        "$rem(102,32) = 6$. And $6 < 16$.\n",
        "\n",
        "$rem(102,64) = 42$. And $42 \\geq 32$.\n",
        "\n",
        "\n",
        "\n",
        "So we see that $s(101) = 1 0 0 1 1 0 =$  ```1##11#```.\n",
        "\n",
        "\n",
        "```\n"
      ]
    },
    {
      "attachments": {},
      "cell_type": "markdown",
      "metadata": {},
      "source": [
        "Here is how we take a function from words to words and associate a function from numbers to numbers.\n",
        " \n",
        "Given $f: Words \\to Words$, we associate $g: N \\to N$ by  $g = s^{-1}\\circ f \\circ s$.  That is,\n",
        "\n",
        "$$\n",
        "g(n) =  s^{-1}(f(s(n))\n",
        "$$\n",
        "\n",
        "We go back similarly.\n",
        "\n",
        "We are especially interested in this when $f$ is $[\\![p]\\!]$ for some program $p$, and when $f:N\\to N$ is primitive recursive.\n",
        "\n",
        "So given a program $p$, we define a partial function $\\varphi_p: N\\to N$\n",
        "by\n",
        "\n",
        "$$\n",
        "\\varphi_p(n) =  s^{-1}([\\![p]\\!](s(n))).\n",
        "$$"
      ]
    },
    {
      "attachments": {},
      "cell_type": "markdown",
      "metadata": {},
      "source": [
        "```{key fact}\n",
        "\n",
        "If $w$ is any ```1#```-word, and if $v$ is a subword of $w$, or even a word which is smaller in length than $w$, then \n",
        "\n",
        "$$\n",
        "s^{-1}(v) < s^{-1}(w).\n",
        "$$\n",
        "```"
      ]
    },
    {
      "attachments": {},
      "cell_type": "markdown",
      "metadata": {},
      "source": [
        ":::{prf:theorem}\n",
        ":label: theorem-T-numbers\n",
        "\n",
        "There is a primitive recursive relation of numbers $T(p,x,z)$  so that for all numbers $p$,\n",
        "\n",
        "$\\varphi_p(x)\\!\\!\\downarrow$ if and only if there is some $z$ such that $T(p,x,z)$.\n",
        "\n",
        "Therefore, we have \n",
        "\n",
        "$$\n",
        "\\varphi_p(x) \\simeq upshot (\\mu z. T(p,x,z))\n",
        "$$\n",
        ":::\n",
        "\n",
        ":::{prf:corollary}\n",
        ":label: corollary-T-numbers\n",
        "Every $\\mu$-computable function $f: N\\to N$ is primitive recursive.\n",
        ":::"
      ]
    },
    {
      "cell_type": "markdown",
      "metadata": {},
      "source": []
    }
  ],
  "metadata": {
    "colab": {
      "authorship_tag": "ABX9TyMEbvUO3kD2dPGrdFMmVPVs",
      "include_colab_link": true,
      "provenance": []
    },
    "kernelspec": {
      "display_name": "Python 3",
      "name": "python3"
    },
    "language_info": {
      "name": "python"
    }
  },
  "nbformat": 4,
  "nbformat_minor": 0
}
