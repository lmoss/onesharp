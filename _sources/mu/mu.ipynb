{
 "cells": [
  {
   "attachments": {},
   "cell_type": "markdown",
   "metadata": {},
   "source": [
    "# Mu-recursive functions"
   ]
  },
  {
   "cell_type": "code",
   "execution_count": null,
   "metadata": {},
   "outputs": [],
   "source": [
    ":::{prf:theorem}\n",
    ":label: theorem-T-numbers\n",
    "\n",
    "There is a primitive recursive relation of numbers $T_{numbers}(p,x,z)$  so that for all numbers $p$ and $n$,\n",
    "\n",
    "$\\varphi_p(n)\\!\\!\\downarrow$ if and only if there is some $z$ such that $T_{numbers}(p,n,z)$.\n",
    "\n",
    ":::\n",
    "\n"
   ]
  },
  {
   "attachments": {},
   "cell_type": "markdown",
   "metadata": {},
   "source": [
    ":::{prf:corollary}\n",
    ":label: corollary-T-numbers\n",
    "Every ```1#```-computable function $f: N\\to N$ is $\\mu$-computable.\n",
    ":::\n",
    "\n",
    ":::{prf:proof}\n",
    "Let $f:N\\to N$ be computable by the program $p$.  So $f$ is $\\varphi_{s(p)}$.  This means that for all numbers $n$, \n",
    "\n",
    "$$\n",
    "f(n)\\simeq  s^{-1}\\biggl([\\![ p]\\!](s(n))\\biggr).\n",
    "$$\n",
    "\n",
    "If $f(n)\\!\\!\\downarrow$, then there is some number $z$ such that $T_{numbers}(s(p),n,z)$. In this case, we can find $f(n)$ by looking through all numbers $z$, starting with $z =0$, and checking whether or not  $T_{numbers}(s(p),n,z)$.  Since $T_{numbers}$ is primitive recursive, for each $n$ we do get a value in finite time.  If and when we find some $z$ such that \n",
    "$T_{numbers}(s(p),n,z)$, we use the $upshot$ function to give the value of $\\varphi_{s(p)}(n)$.\n",
    "In other words, \n",
    "\n",
    "$$\n",
    "\\varphi_p(x) \\simeq upshot (\\mu z. T(p,n,z))\n",
    "$$\n",
    "\n",
    "We can do all of this with a ```1#```-program.   We use the primitive recursiveness of $T_{numbers}$.\n",
    "\n",
    "This equation also holds in the case that $f(n)\\!\\!\\uparrow$.  For this time, we can still look for $z$ so that $T_{numbers}(s(p),n,z)$ but we never find one.   And so the computation of the program which we defined also goes on forever.\n",
    "\n",
    "\n",
    "\n",
    ":::"
   ]
  },
  {
   "attachments": {},
   "cell_type": "markdown",
   "metadata": {},
   "source": [
    ":::{prf:theorem}\n",
    ":label: theorem-T-numbers\n",
    "Every $\\mu$-computable function $f: N\\to N$ is ```1#```-computable.\n",
    ":::\n",
    "\n",
    ":::{prf:proof}\n",
    "We use *induction on the set of $\\mu$-computable functions*.\n",
    "\n",
    "We have seen the base cases when we showed that primitive recursive functions are ```1#```-computable.  The induction steps for composition and primitive recursion are basically the same as what we have seen as well.   The interesting induction step is for the $\\mu$-construct.  Suppose that \n",
    "\n",
    "$$\n",
    "f(n) \\simeq \\mu x. g(n,x) \\simeq 0\n",
    "$$\n",
    "\n",
    "By induction hypothesis, $g(n,x)$ is ```1#```-computable.  So we have a program $p$ so that \n",
    "\n",
    "$$\n",
    "g(n,x) \\simeq s^{-1}\\biggl([\\![ p ]\\!](s(x))\\biggr)\n",
    "$$\n",
    "\n",
    "\n",
    ":::"
   ]
  }
 ],
 "metadata": {
  "language_info": {
   "name": "python"
  },
  "orig_nbformat": 4
 },
 "nbformat": 4,
 "nbformat_minor": 2
}
