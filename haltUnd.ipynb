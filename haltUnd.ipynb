{
  "nbformat": 4,
  "nbformat_minor": 0,
  "metadata": {
    "colab": {
      "provenance": [],
      "authorship_tag": "ABX9TyMG1oXT2SiOR+32yUtPR477",
      "include_colab_link": true
    },
    "kernelspec": {
      "name": "python3",
      "display_name": "Python 3"
    },
    "language_info": {
      "name": "python"
    }
  },
  "cells": [
    {
      "cell_type": "markdown",
      "metadata": {
        "id": "view-in-github",
        "colab_type": "text"
      },
      "source": [
        "<a href=\"https://colab.research.google.com/github/lmoss/lmoss.github.io/blob/main/haltUnd.ipynb\" target=\"_parent\"><img src=\"https://colab.research.google.com/assets/colab-badge.svg\" alt=\"Open In Colab\"/></a>"
      ]
    },
    {
      "cell_type": "markdown",
      "source": [
        "# Undecidability of the Halting Problem\n",
        "\n",
        "We come to one of the most famous results in computability theory, Turing's theorem that the Halting Problem is undecidable.  The result has several formulations which we shall see.  The most basic one is that the set below is undecidable:\n",
        "$$\n",
        "\\{ p : \\mbox{$\\phi_p(\\ )\\downarrow} \\}\n",
        "$$"
      ],
      "metadata": {
        "id": "aZ_m0h4bBfVG"
      }
    },
    {
      "cell_type": "markdown",
      "source": [
        "## One register is enough\n",
        "\n",
        "A sharper form of the basic undecidability result concerns programs that only use R1.  "
      ],
      "metadata": {
        "id": "w5hyVt22CjiR"
      }
    }
  ]
}