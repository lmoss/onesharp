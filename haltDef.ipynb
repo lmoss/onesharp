{
  "nbformat": 4,
  "nbformat_minor": 0,
  "metadata": {
    "colab": {
      "provenance": [],
      "authorship_tag": "ABX9TyMdBkiP5i+37B/m2mrKnnFm",
      "include_colab_link": true
    },
    "kernelspec": {
      "name": "python3",
      "display_name": "Python 3"
    },
    "language_info": {
      "name": "python"
    }
  },
  "cells": [
    {
      "cell_type": "markdown",
      "metadata": {
        "id": "view-in-github",
        "colab_type": "text"
      },
      "source": [
        "<a href=\"https://colab.research.google.com/github/lmoss/onesharp/blob/main/haltDef.ipynb\" target=\"_parent\"><img src=\"https://colab.research.google.com/assets/colab-badge.svg\" alt=\"Open In Colab\"/></a>"
      ]
    },
    {
      "cell_type": "markdown",
      "source": [
        "# When does a program halt?\n",
        "\n",
        "1# has programs with infinite loops such as\n",
        "\n",
        "1###1####\n",
        "\n",
        "This program never finishes. Most of the time, we are interested in programs which do finish. Actually, we are interested in programs which finish in a special way.\n",
        "\n",
        "We say that a program p halts if at some point during the execution of p, the control transfers to right below the last instruction of p. In more detail, suppose that p has n instructions. The formal definition is given below, after we discuss the remaining types of instructions.\n",
        "\n",
        "In contrast, we say that p stops improperly if at some point during the execution of p, the control tranfers either to a point before the beginning of p or to points more than one instruction beyond the last instruction of p.\n",
        "\n",
        "To see the difference, consider the following two programs: 11### and 1#\n",
        "\n",
        "The first says \"Go forward 2,\" and the second \"Add 1 to R1.\"\n",
        "\n",
        "The first halts, while the second stops improperly."
      ],
      "metadata": {
        "id": "0HV2nGXx89_T"
      }
    },
    {
      "cell_type": "code",
      "execution_count": null,
      "metadata": {
        "id": "CJJyjY7f89Eo"
      },
      "outputs": [],
      "source": []
    }
  ]
}